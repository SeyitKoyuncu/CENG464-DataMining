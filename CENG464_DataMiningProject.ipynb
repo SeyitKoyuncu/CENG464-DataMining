{
  "cells": [
    {
      "cell_type": "markdown",
      "metadata": {
        "id": "o9Xx0621S0ko"
      },
      "source": [
        "# Import The libaries"
      ]
    },
    {
      "cell_type": "code",
      "execution_count": 8,
      "metadata": {
        "id": "kN7fd5_DS5Mu"
      },
      "outputs": [],
      "source": [
        "import numpy as np\n",
        "import pandas as pd"
      ]
    },
    {
      "cell_type": "markdown",
      "metadata": {
        "id": "3ip3ch6JS8b1"
      },
      "source": [
        "# Read DataSet"
      ]
    },
    {
      "cell_type": "code",
      "execution_count": 9,
      "metadata": {
        "id": "jd-9AFVNS9vR"
      },
      "outputs": [],
      "source": [
        "df = pd.DataFrame(pd.read_csv(\"file1.csv\"))"
      ]
    },
    {
      "cell_type": "code",
      "execution_count": 10,
      "metadata": {
        "id": "1xQZ3R7VTGnX",
        "colab": {
          "base_uri": "https://localhost:8080/"
        },
        "outputId": "072a7a5f-7ef5-46e8-df2d-c108e7de2469"
      },
      "outputs": [
        {
          "output_type": "execute_result",
          "data": {
            "text/plain": [
              "(Index(['Unnamed: 0', 'Q11_1', 'Q11_2', 'Q11_3', 'Q11_4', 'Q11_5', 'Q11_6',\n",
              "        'Q11_7', 'Q11_8', 'Q11_9', 'Q11_10', 'Q11_11', 'Q11_12', 'Q11_13',\n",
              "        'Q11_Dont_Know', 'Q12_1', 'Q12_2', 'Q12_3', 'Q12_4', 'Q12_5', 'Q12_6',\n",
              "        'Q12_7', 'Q12_8', 'Q12_9', 'Q12_10', 'Q12_11', 'Q12_12', 'Q12_13',\n",
              "        'Q12_14', 'Q12_Dont_Know', 'Q13_1', 'Q13_2', 'Q13_3', 'Q13_4', 'Q13_5',\n",
              "        'Q13_6', 'Q13_7', 'Q13_8', 'Q13_9', 'Q13_10', 'Q13_11', 'Q13_12',\n",
              "        'Q13_13', 'Q13_14', 'Q13_15', 'Q13_16', 'Q13_Dont_Know', 'Q14', 'Q15',\n",
              "        'Q17', 'Q18_1', 'Q18_2', 'Q18_3', 'Q18_4', 'Q18_5', 'Q18_6', 'Q18_7',\n",
              "        'Q18_8', 'Q18_9', 'Q18_10', 'Q18_11', 'Q18_12', 'Q18_13', 'Q18_14',\n",
              "        'Q18_15', 'Q18_16', 'Q18_17', 'Q18_18', 'Q18_19', 'Q18_20', 'Q18_21',\n",
              "        'Q18_22', 'Q18_23', 'Q20', 'Q21', 'Q16'],\n",
              "       dtype='object'),\n",
              " 76)"
            ]
          },
          "metadata": {},
          "execution_count": 10
        }
      ],
      "source": [
        "df.columns, len(df.columns)"
      ]
    },
    {
      "cell_type": "code",
      "execution_count": 11,
      "metadata": {
        "id": "dTyDgk96WQ8z",
        "colab": {
          "base_uri": "https://localhost:8080/",
          "height": 392
        },
        "outputId": "b8524a9f-2c47-4e62-f364-6be91e52821f"
      },
      "outputs": [
        {
          "output_type": "execute_result",
          "data": {
            "text/plain": [
              "   Unnamed: 0  Q11_1  Q11_2  Q11_3  Q11_4  Q11_5  Q11_6  Q11_7  Q11_8  Q11_9  \\\n",
              "0           0      0      0      0      1      1      0      0      1      0   \n",
              "1           1      1      0      0      1      0      0      1      0      0   \n",
              "2           2      1      1      0      1      0      0      1      1      0   \n",
              "3           3      0      0      0      0      0      0      0      0      0   \n",
              "4           4      1      1      0      1      0      0      1      1      0   \n",
              "5           5      0      1      0      0      0      0      0      0      0   \n",
              "6           6      1      0      0      1      1      0      1      1      0   \n",
              "7           7      1      0      1      0      1      1      1      0      0   \n",
              "8           8      1      1      0      0      0      0      1      1      0   \n",
              "9           9      1      0      0      0      0      0      0      0      0   \n",
              "\n",
              "   ...  Q18_17  Q18_18  Q18_19  Q18_20  Q18_21  Q18_22  Q18_23  Q20  Q21  Q16  \n",
              "0  ...       5       5       5       5       5       5       5    3    3    A  \n",
              "1  ...       4       2       4       2       2       2       2    3    3    D  \n",
              "2  ...       4       4       ?       ?       4       2       4    4    1    A  \n",
              "3  ...       ?       ?       ?       ?       ?       ?       ?    3    3    C  \n",
              "4  ...       ?       ?       1       1       ?       ?       ?    3    3    D  \n",
              "5  ...       4       4       4       4       4       4       4    3    3    B  \n",
              "6  ...       5       1       5       3       5       3       3    3    1    A  \n",
              "7  ...       3       2       5       5       5       5       5    5    1    A  \n",
              "8  ...       2       2       2       2       2       2       3    1    2    A  \n",
              "9  ...       4       1       4       1       4       1       1    4    4    A  \n",
              "\n",
              "[10 rows x 76 columns]"
            ],
            "text/html": [
              "\n",
              "  <div id=\"df-d2ea6bfd-54a2-4e1b-b5fc-a7ed3fed6f6d\" class=\"colab-df-container\">\n",
              "    <div>\n",
              "<style scoped>\n",
              "    .dataframe tbody tr th:only-of-type {\n",
              "        vertical-align: middle;\n",
              "    }\n",
              "\n",
              "    .dataframe tbody tr th {\n",
              "        vertical-align: top;\n",
              "    }\n",
              "\n",
              "    .dataframe thead th {\n",
              "        text-align: right;\n",
              "    }\n",
              "</style>\n",
              "<table border=\"1\" class=\"dataframe\">\n",
              "  <thead>\n",
              "    <tr style=\"text-align: right;\">\n",
              "      <th></th>\n",
              "      <th>Unnamed: 0</th>\n",
              "      <th>Q11_1</th>\n",
              "      <th>Q11_2</th>\n",
              "      <th>Q11_3</th>\n",
              "      <th>Q11_4</th>\n",
              "      <th>Q11_5</th>\n",
              "      <th>Q11_6</th>\n",
              "      <th>Q11_7</th>\n",
              "      <th>Q11_8</th>\n",
              "      <th>Q11_9</th>\n",
              "      <th>...</th>\n",
              "      <th>Q18_17</th>\n",
              "      <th>Q18_18</th>\n",
              "      <th>Q18_19</th>\n",
              "      <th>Q18_20</th>\n",
              "      <th>Q18_21</th>\n",
              "      <th>Q18_22</th>\n",
              "      <th>Q18_23</th>\n",
              "      <th>Q20</th>\n",
              "      <th>Q21</th>\n",
              "      <th>Q16</th>\n",
              "    </tr>\n",
              "  </thead>\n",
              "  <tbody>\n",
              "    <tr>\n",
              "      <th>0</th>\n",
              "      <td>0</td>\n",
              "      <td>0</td>\n",
              "      <td>0</td>\n",
              "      <td>0</td>\n",
              "      <td>1</td>\n",
              "      <td>1</td>\n",
              "      <td>0</td>\n",
              "      <td>0</td>\n",
              "      <td>1</td>\n",
              "      <td>0</td>\n",
              "      <td>...</td>\n",
              "      <td>5</td>\n",
              "      <td>5</td>\n",
              "      <td>5</td>\n",
              "      <td>5</td>\n",
              "      <td>5</td>\n",
              "      <td>5</td>\n",
              "      <td>5</td>\n",
              "      <td>3</td>\n",
              "      <td>3</td>\n",
              "      <td>A</td>\n",
              "    </tr>\n",
              "    <tr>\n",
              "      <th>1</th>\n",
              "      <td>1</td>\n",
              "      <td>1</td>\n",
              "      <td>0</td>\n",
              "      <td>0</td>\n",
              "      <td>1</td>\n",
              "      <td>0</td>\n",
              "      <td>0</td>\n",
              "      <td>1</td>\n",
              "      <td>0</td>\n",
              "      <td>0</td>\n",
              "      <td>...</td>\n",
              "      <td>4</td>\n",
              "      <td>2</td>\n",
              "      <td>4</td>\n",
              "      <td>2</td>\n",
              "      <td>2</td>\n",
              "      <td>2</td>\n",
              "      <td>2</td>\n",
              "      <td>3</td>\n",
              "      <td>3</td>\n",
              "      <td>D</td>\n",
              "    </tr>\n",
              "    <tr>\n",
              "      <th>2</th>\n",
              "      <td>2</td>\n",
              "      <td>1</td>\n",
              "      <td>1</td>\n",
              "      <td>0</td>\n",
              "      <td>1</td>\n",
              "      <td>0</td>\n",
              "      <td>0</td>\n",
              "      <td>1</td>\n",
              "      <td>1</td>\n",
              "      <td>0</td>\n",
              "      <td>...</td>\n",
              "      <td>4</td>\n",
              "      <td>4</td>\n",
              "      <td>?</td>\n",
              "      <td>?</td>\n",
              "      <td>4</td>\n",
              "      <td>2</td>\n",
              "      <td>4</td>\n",
              "      <td>4</td>\n",
              "      <td>1</td>\n",
              "      <td>A</td>\n",
              "    </tr>\n",
              "    <tr>\n",
              "      <th>3</th>\n",
              "      <td>3</td>\n",
              "      <td>0</td>\n",
              "      <td>0</td>\n",
              "      <td>0</td>\n",
              "      <td>0</td>\n",
              "      <td>0</td>\n",
              "      <td>0</td>\n",
              "      <td>0</td>\n",
              "      <td>0</td>\n",
              "      <td>0</td>\n",
              "      <td>...</td>\n",
              "      <td>?</td>\n",
              "      <td>?</td>\n",
              "      <td>?</td>\n",
              "      <td>?</td>\n",
              "      <td>?</td>\n",
              "      <td>?</td>\n",
              "      <td>?</td>\n",
              "      <td>3</td>\n",
              "      <td>3</td>\n",
              "      <td>C</td>\n",
              "    </tr>\n",
              "    <tr>\n",
              "      <th>4</th>\n",
              "      <td>4</td>\n",
              "      <td>1</td>\n",
              "      <td>1</td>\n",
              "      <td>0</td>\n",
              "      <td>1</td>\n",
              "      <td>0</td>\n",
              "      <td>0</td>\n",
              "      <td>1</td>\n",
              "      <td>1</td>\n",
              "      <td>0</td>\n",
              "      <td>...</td>\n",
              "      <td>?</td>\n",
              "      <td>?</td>\n",
              "      <td>1</td>\n",
              "      <td>1</td>\n",
              "      <td>?</td>\n",
              "      <td>?</td>\n",
              "      <td>?</td>\n",
              "      <td>3</td>\n",
              "      <td>3</td>\n",
              "      <td>D</td>\n",
              "    </tr>\n",
              "    <tr>\n",
              "      <th>5</th>\n",
              "      <td>5</td>\n",
              "      <td>0</td>\n",
              "      <td>1</td>\n",
              "      <td>0</td>\n",
              "      <td>0</td>\n",
              "      <td>0</td>\n",
              "      <td>0</td>\n",
              "      <td>0</td>\n",
              "      <td>0</td>\n",
              "      <td>0</td>\n",
              "      <td>...</td>\n",
              "      <td>4</td>\n",
              "      <td>4</td>\n",
              "      <td>4</td>\n",
              "      <td>4</td>\n",
              "      <td>4</td>\n",
              "      <td>4</td>\n",
              "      <td>4</td>\n",
              "      <td>3</td>\n",
              "      <td>3</td>\n",
              "      <td>B</td>\n",
              "    </tr>\n",
              "    <tr>\n",
              "      <th>6</th>\n",
              "      <td>6</td>\n",
              "      <td>1</td>\n",
              "      <td>0</td>\n",
              "      <td>0</td>\n",
              "      <td>1</td>\n",
              "      <td>1</td>\n",
              "      <td>0</td>\n",
              "      <td>1</td>\n",
              "      <td>1</td>\n",
              "      <td>0</td>\n",
              "      <td>...</td>\n",
              "      <td>5</td>\n",
              "      <td>1</td>\n",
              "      <td>5</td>\n",
              "      <td>3</td>\n",
              "      <td>5</td>\n",
              "      <td>3</td>\n",
              "      <td>3</td>\n",
              "      <td>3</td>\n",
              "      <td>1</td>\n",
              "      <td>A</td>\n",
              "    </tr>\n",
              "    <tr>\n",
              "      <th>7</th>\n",
              "      <td>7</td>\n",
              "      <td>1</td>\n",
              "      <td>0</td>\n",
              "      <td>1</td>\n",
              "      <td>0</td>\n",
              "      <td>1</td>\n",
              "      <td>1</td>\n",
              "      <td>1</td>\n",
              "      <td>0</td>\n",
              "      <td>0</td>\n",
              "      <td>...</td>\n",
              "      <td>3</td>\n",
              "      <td>2</td>\n",
              "      <td>5</td>\n",
              "      <td>5</td>\n",
              "      <td>5</td>\n",
              "      <td>5</td>\n",
              "      <td>5</td>\n",
              "      <td>5</td>\n",
              "      <td>1</td>\n",
              "      <td>A</td>\n",
              "    </tr>\n",
              "    <tr>\n",
              "      <th>8</th>\n",
              "      <td>8</td>\n",
              "      <td>1</td>\n",
              "      <td>1</td>\n",
              "      <td>0</td>\n",
              "      <td>0</td>\n",
              "      <td>0</td>\n",
              "      <td>0</td>\n",
              "      <td>1</td>\n",
              "      <td>1</td>\n",
              "      <td>0</td>\n",
              "      <td>...</td>\n",
              "      <td>2</td>\n",
              "      <td>2</td>\n",
              "      <td>2</td>\n",
              "      <td>2</td>\n",
              "      <td>2</td>\n",
              "      <td>2</td>\n",
              "      <td>3</td>\n",
              "      <td>1</td>\n",
              "      <td>2</td>\n",
              "      <td>A</td>\n",
              "    </tr>\n",
              "    <tr>\n",
              "      <th>9</th>\n",
              "      <td>9</td>\n",
              "      <td>1</td>\n",
              "      <td>0</td>\n",
              "      <td>0</td>\n",
              "      <td>0</td>\n",
              "      <td>0</td>\n",
              "      <td>0</td>\n",
              "      <td>0</td>\n",
              "      <td>0</td>\n",
              "      <td>0</td>\n",
              "      <td>...</td>\n",
              "      <td>4</td>\n",
              "      <td>1</td>\n",
              "      <td>4</td>\n",
              "      <td>1</td>\n",
              "      <td>4</td>\n",
              "      <td>1</td>\n",
              "      <td>1</td>\n",
              "      <td>4</td>\n",
              "      <td>4</td>\n",
              "      <td>A</td>\n",
              "    </tr>\n",
              "  </tbody>\n",
              "</table>\n",
              "<p>10 rows × 76 columns</p>\n",
              "</div>\n",
              "    <div class=\"colab-df-buttons\">\n",
              "\n",
              "  <div class=\"colab-df-container\">\n",
              "    <button class=\"colab-df-convert\" onclick=\"convertToInteractive('df-d2ea6bfd-54a2-4e1b-b5fc-a7ed3fed6f6d')\"\n",
              "            title=\"Convert this dataframe to an interactive table.\"\n",
              "            style=\"display:none;\">\n",
              "\n",
              "  <svg xmlns=\"http://www.w3.org/2000/svg\" height=\"24px\" viewBox=\"0 -960 960 960\">\n",
              "    <path d=\"M120-120v-720h720v720H120Zm60-500h600v-160H180v160Zm220 220h160v-160H400v160Zm0 220h160v-160H400v160ZM180-400h160v-160H180v160Zm440 0h160v-160H620v160ZM180-180h160v-160H180v160Zm440 0h160v-160H620v160Z\"/>\n",
              "  </svg>\n",
              "    </button>\n",
              "\n",
              "  <style>\n",
              "    .colab-df-container {\n",
              "      display:flex;\n",
              "      gap: 12px;\n",
              "    }\n",
              "\n",
              "    .colab-df-convert {\n",
              "      background-color: #E8F0FE;\n",
              "      border: none;\n",
              "      border-radius: 50%;\n",
              "      cursor: pointer;\n",
              "      display: none;\n",
              "      fill: #1967D2;\n",
              "      height: 32px;\n",
              "      padding: 0 0 0 0;\n",
              "      width: 32px;\n",
              "    }\n",
              "\n",
              "    .colab-df-convert:hover {\n",
              "      background-color: #E2EBFA;\n",
              "      box-shadow: 0px 1px 2px rgba(60, 64, 67, 0.3), 0px 1px 3px 1px rgba(60, 64, 67, 0.15);\n",
              "      fill: #174EA6;\n",
              "    }\n",
              "\n",
              "    .colab-df-buttons div {\n",
              "      margin-bottom: 4px;\n",
              "    }\n",
              "\n",
              "    [theme=dark] .colab-df-convert {\n",
              "      background-color: #3B4455;\n",
              "      fill: #D2E3FC;\n",
              "    }\n",
              "\n",
              "    [theme=dark] .colab-df-convert:hover {\n",
              "      background-color: #434B5C;\n",
              "      box-shadow: 0px 1px 3px 1px rgba(0, 0, 0, 0.15);\n",
              "      filter: drop-shadow(0px 1px 2px rgba(0, 0, 0, 0.3));\n",
              "      fill: #FFFFFF;\n",
              "    }\n",
              "  </style>\n",
              "\n",
              "    <script>\n",
              "      const buttonEl =\n",
              "        document.querySelector('#df-d2ea6bfd-54a2-4e1b-b5fc-a7ed3fed6f6d button.colab-df-convert');\n",
              "      buttonEl.style.display =\n",
              "        google.colab.kernel.accessAllowed ? 'block' : 'none';\n",
              "\n",
              "      async function convertToInteractive(key) {\n",
              "        const element = document.querySelector('#df-d2ea6bfd-54a2-4e1b-b5fc-a7ed3fed6f6d');\n",
              "        const dataTable =\n",
              "          await google.colab.kernel.invokeFunction('convertToInteractive',\n",
              "                                                    [key], {});\n",
              "        if (!dataTable) return;\n",
              "\n",
              "        const docLinkHtml = 'Like what you see? Visit the ' +\n",
              "          '<a target=\"_blank\" href=https://colab.research.google.com/notebooks/data_table.ipynb>data table notebook</a>'\n",
              "          + ' to learn more about interactive tables.';\n",
              "        element.innerHTML = '';\n",
              "        dataTable['output_type'] = 'display_data';\n",
              "        await google.colab.output.renderOutput(dataTable, element);\n",
              "        const docLink = document.createElement('div');\n",
              "        docLink.innerHTML = docLinkHtml;\n",
              "        element.appendChild(docLink);\n",
              "      }\n",
              "    </script>\n",
              "  </div>\n",
              "\n",
              "\n",
              "<div id=\"df-3f29600c-57f3-4761-809c-044ffbe8fb7c\">\n",
              "  <button class=\"colab-df-quickchart\" onclick=\"quickchart('df-3f29600c-57f3-4761-809c-044ffbe8fb7c')\"\n",
              "            title=\"Suggest charts\"\n",
              "            style=\"display:none;\">\n",
              "\n",
              "<svg xmlns=\"http://www.w3.org/2000/svg\" height=\"24px\"viewBox=\"0 0 24 24\"\n",
              "     width=\"24px\">\n",
              "    <g>\n",
              "        <path d=\"M19 3H5c-1.1 0-2 .9-2 2v14c0 1.1.9 2 2 2h14c1.1 0 2-.9 2-2V5c0-1.1-.9-2-2-2zM9 17H7v-7h2v7zm4 0h-2V7h2v10zm4 0h-2v-4h2v4z\"/>\n",
              "    </g>\n",
              "</svg>\n",
              "  </button>\n",
              "\n",
              "<style>\n",
              "  .colab-df-quickchart {\n",
              "      --bg-color: #E8F0FE;\n",
              "      --fill-color: #1967D2;\n",
              "      --hover-bg-color: #E2EBFA;\n",
              "      --hover-fill-color: #174EA6;\n",
              "      --disabled-fill-color: #AAA;\n",
              "      --disabled-bg-color: #DDD;\n",
              "  }\n",
              "\n",
              "  [theme=dark] .colab-df-quickchart {\n",
              "      --bg-color: #3B4455;\n",
              "      --fill-color: #D2E3FC;\n",
              "      --hover-bg-color: #434B5C;\n",
              "      --hover-fill-color: #FFFFFF;\n",
              "      --disabled-bg-color: #3B4455;\n",
              "      --disabled-fill-color: #666;\n",
              "  }\n",
              "\n",
              "  .colab-df-quickchart {\n",
              "    background-color: var(--bg-color);\n",
              "    border: none;\n",
              "    border-radius: 50%;\n",
              "    cursor: pointer;\n",
              "    display: none;\n",
              "    fill: var(--fill-color);\n",
              "    height: 32px;\n",
              "    padding: 0;\n",
              "    width: 32px;\n",
              "  }\n",
              "\n",
              "  .colab-df-quickchart:hover {\n",
              "    background-color: var(--hover-bg-color);\n",
              "    box-shadow: 0 1px 2px rgba(60, 64, 67, 0.3), 0 1px 3px 1px rgba(60, 64, 67, 0.15);\n",
              "    fill: var(--button-hover-fill-color);\n",
              "  }\n",
              "\n",
              "  .colab-df-quickchart-complete:disabled,\n",
              "  .colab-df-quickchart-complete:disabled:hover {\n",
              "    background-color: var(--disabled-bg-color);\n",
              "    fill: var(--disabled-fill-color);\n",
              "    box-shadow: none;\n",
              "  }\n",
              "\n",
              "  .colab-df-spinner {\n",
              "    border: 2px solid var(--fill-color);\n",
              "    border-color: transparent;\n",
              "    border-bottom-color: var(--fill-color);\n",
              "    animation:\n",
              "      spin 1s steps(1) infinite;\n",
              "  }\n",
              "\n",
              "  @keyframes spin {\n",
              "    0% {\n",
              "      border-color: transparent;\n",
              "      border-bottom-color: var(--fill-color);\n",
              "      border-left-color: var(--fill-color);\n",
              "    }\n",
              "    20% {\n",
              "      border-color: transparent;\n",
              "      border-left-color: var(--fill-color);\n",
              "      border-top-color: var(--fill-color);\n",
              "    }\n",
              "    30% {\n",
              "      border-color: transparent;\n",
              "      border-left-color: var(--fill-color);\n",
              "      border-top-color: var(--fill-color);\n",
              "      border-right-color: var(--fill-color);\n",
              "    }\n",
              "    40% {\n",
              "      border-color: transparent;\n",
              "      border-right-color: var(--fill-color);\n",
              "      border-top-color: var(--fill-color);\n",
              "    }\n",
              "    60% {\n",
              "      border-color: transparent;\n",
              "      border-right-color: var(--fill-color);\n",
              "    }\n",
              "    80% {\n",
              "      border-color: transparent;\n",
              "      border-right-color: var(--fill-color);\n",
              "      border-bottom-color: var(--fill-color);\n",
              "    }\n",
              "    90% {\n",
              "      border-color: transparent;\n",
              "      border-bottom-color: var(--fill-color);\n",
              "    }\n",
              "  }\n",
              "</style>\n",
              "\n",
              "  <script>\n",
              "    async function quickchart(key) {\n",
              "      const quickchartButtonEl =\n",
              "        document.querySelector('#' + key + ' button');\n",
              "      quickchartButtonEl.disabled = true;  // To prevent multiple clicks.\n",
              "      quickchartButtonEl.classList.add('colab-df-spinner');\n",
              "      try {\n",
              "        const charts = await google.colab.kernel.invokeFunction(\n",
              "            'suggestCharts', [key], {});\n",
              "      } catch (error) {\n",
              "        console.error('Error during call to suggestCharts:', error);\n",
              "      }\n",
              "      quickchartButtonEl.classList.remove('colab-df-spinner');\n",
              "      quickchartButtonEl.classList.add('colab-df-quickchart-complete');\n",
              "    }\n",
              "    (() => {\n",
              "      let quickchartButtonEl =\n",
              "        document.querySelector('#df-3f29600c-57f3-4761-809c-044ffbe8fb7c button');\n",
              "      quickchartButtonEl.style.display =\n",
              "        google.colab.kernel.accessAllowed ? 'block' : 'none';\n",
              "    })();\n",
              "  </script>\n",
              "</div>\n",
              "\n",
              "    </div>\n",
              "  </div>\n"
            ]
          },
          "metadata": {},
          "execution_count": 11
        }
      ],
      "source": [
        "df.head(10)"
      ]
    },
    {
      "cell_type": "code",
      "execution_count": 12,
      "metadata": {
        "id": "0ZqJwVspagIP",
        "colab": {
          "base_uri": "https://localhost:8080/"
        },
        "outputId": "94ae83f4-d5d5-4565-b26b-ff8b91d5bd16"
      },
      "outputs": [
        {
          "output_type": "execute_result",
          "data": {
            "text/plain": [
              "<bound method NDFrame.describe of       Unnamed: 0  Q11_1  Q11_2  Q11_3  Q11_4  Q11_5  Q11_6  Q11_7  Q11_8  \\\n",
              "0              0      0      0      0      1      1      0      0      1   \n",
              "1              1      1      0      0      1      0      0      1      0   \n",
              "2              2      1      1      0      1      0      0      1      1   \n",
              "3              3      0      0      0      0      0      0      0      0   \n",
              "4              4      1      1      0      1      0      0      1      1   \n",
              "...          ...    ...    ...    ...    ...    ...    ...    ...    ...   \n",
              "6103        6103      0      1      0      0      0      0      1      1   \n",
              "6104        6104      0      1      0      1      0      0      0      1   \n",
              "6105        6105      1      0      1      0      0      0      0      0   \n",
              "6106        6106      0      0      1      0      0      0      0      1   \n",
              "6107        6107      1      0      0      1      0      0      0      1   \n",
              "\n",
              "      Q11_9  ...  Q18_17  Q18_18  Q18_19  Q18_20  Q18_21  Q18_22  Q18_23  Q20  \\\n",
              "0         0  ...       5       5       5       5       5       5       5    3   \n",
              "1         0  ...       4       2       4       2       2       2       2    3   \n",
              "2         0  ...       4       4       ?       ?       4       2       4    4   \n",
              "3         0  ...       ?       ?       ?       ?       ?       ?       ?    3   \n",
              "4         0  ...       ?       ?       1       1       ?       ?       ?    3   \n",
              "...     ...  ...     ...     ...     ...     ...     ...     ...     ...  ...   \n",
              "6103      1  ...       2       2       3       3       2       1       1    1   \n",
              "6104      0  ...       ?       ?       ?       ?       ?       ?       ?    3   \n",
              "6105      0  ...       4       1       5       4       5       4       5    5   \n",
              "6106      0  ...       1       3       4       5       3       2       3    2   \n",
              "6107      0  ...       3       3       3       3       3       3       3    3   \n",
              "\n",
              "      Q21  Q16  \n",
              "0       3    A  \n",
              "1       3    D  \n",
              "2       1    A  \n",
              "3       3    C  \n",
              "4       3    D  \n",
              "...   ...  ...  \n",
              "6103    3    B  \n",
              "6104    3    A  \n",
              "6105    2    A  \n",
              "6106    3    A  \n",
              "6107    3    D  \n",
              "\n",
              "[6108 rows x 76 columns]>"
            ]
          },
          "metadata": {},
          "execution_count": 12
        }
      ],
      "source": [
        "df.describe"
      ]
    },
    {
      "cell_type": "markdown",
      "metadata": {
        "id": "Aoa9O5QrWuMb"
      },
      "source": [
        "## All users have to implement:\n",
        "1- EDA PROCESS\n",
        "  Data Cleaning\n",
        "  Scaling, Encoding Falan\n",
        "  Fetaure Selection\n",
        "  Outlier Detection\n",
        "\n",
        "\n",
        "2- 1 ML algorithm 1 DL algorithm"
      ]
    },
    {
      "cell_type": "markdown",
      "source": [
        "### Check the DataTypes of all columns"
      ],
      "metadata": {
        "id": "KUf9LT6ndQib"
      }
    },
    {
      "cell_type": "code",
      "source": [
        "df.dtypes"
      ],
      "metadata": {
        "colab": {
          "base_uri": "https://localhost:8080/"
        },
        "id": "DBBTGps-dV9M",
        "outputId": "3ac738c7-b1f7-4a08-d766-a61f37e39bce"
      },
      "execution_count": 42,
      "outputs": [
        {
          "output_type": "execute_result",
          "data": {
            "text/plain": [
              "Unnamed: 0     int64\n",
              "Q11_1          int64\n",
              "Q11_2          int64\n",
              "Q11_3          int64\n",
              "Q11_4          int64\n",
              "               ...  \n",
              "Q18_22        object\n",
              "Q18_23        object\n",
              "Q20            int64\n",
              "Q21            int64\n",
              "Q16           object\n",
              "Length: 76, dtype: object"
            ]
          },
          "metadata": {},
          "execution_count": 42
        }
      ]
    },
    {
      "cell_type": "markdown",
      "metadata": {
        "id": "fbw4uU1EXYml"
      },
      "source": [
        "# Handling NULL Values"
      ]
    },
    {
      "cell_type": "code",
      "execution_count": 13,
      "metadata": {
        "id": "mJitLH0mXhDH"
      },
      "outputs": [],
      "source": [
        "null_df = df.isnull().sum()"
      ]
    },
    {
      "cell_type": "code",
      "execution_count": 14,
      "metadata": {
        "id": "G1ex53PmX3n4",
        "colab": {
          "base_uri": "https://localhost:8080/"
        },
        "outputId": "3dd6e60b-20f9-42c9-db3b-a73970df8352"
      },
      "outputs": [
        {
          "output_type": "execute_result",
          "data": {
            "text/plain": [
              "Unnamed: 0    0\n",
              "Q11_1         0\n",
              "Q11_2         0\n",
              "Q11_3         0\n",
              "Q11_4         0\n",
              "             ..\n",
              "Q18_22        0\n",
              "Q18_23        0\n",
              "Q20           0\n",
              "Q21           0\n",
              "Q16           0\n",
              "Length: 76, dtype: int64"
            ]
          },
          "metadata": {},
          "execution_count": 14
        }
      ],
      "source": [
        "null_df"
      ]
    },
    {
      "cell_type": "code",
      "execution_count": 15,
      "metadata": {
        "id": "P331kpJEdZSS",
        "colab": {
          "base_uri": "https://localhost:8080/"
        },
        "outputId": "be25ed3d-a739-4871-cd7b-df41a2d99dfb"
      },
      "outputs": [
        {
          "output_type": "execute_result",
          "data": {
            "text/plain": [
              "Unnamed: 0       0\n",
              "Q11_1            0\n",
              "Q11_2            0\n",
              "Q11_3            0\n",
              "Q11_4            0\n",
              "Q11_5            0\n",
              "Q11_6            0\n",
              "Q11_7            0\n",
              "Q11_8            0\n",
              "Q11_9            0\n",
              "Q11_10           0\n",
              "Q11_11           0\n",
              "Q11_12           0\n",
              "Q11_13           0\n",
              "Q11_Dont_Know    0\n",
              "Q12_1            0\n",
              "Q12_2            0\n",
              "Q12_3            0\n",
              "Q12_4            0\n",
              "Q12_5            0\n",
              "Q12_6            0\n",
              "Q12_7            0\n",
              "Q12_8            0\n",
              "Q12_9            0\n",
              "Q12_10           0\n",
              "Q12_11           0\n",
              "Q12_12           0\n",
              "Q12_13           0\n",
              "Q12_14           0\n",
              "Q12_Dont_Know    0\n",
              "Q13_1            0\n",
              "Q13_2            0\n",
              "Q13_3            0\n",
              "Q13_4            0\n",
              "Q13_5            0\n",
              "dtype: int64"
            ]
          },
          "metadata": {},
          "execution_count": 15
        }
      ],
      "source": [
        "question_mark_cells = df.applymap(lambda x: x == \"?\")\n",
        "question_mark_counts = question_mark_cells.sum(axis = 0)\n",
        "question_mark_counts.head(35)"
      ]
    },
    {
      "cell_type": "code",
      "execution_count": 16,
      "metadata": {
        "id": "EqMVev5jdkOk",
        "colab": {
          "base_uri": "https://localhost:8080/"
        },
        "outputId": "0c1877ff-c62c-427b-c3a9-c725b0ebc0c7"
      },
      "outputs": [
        {
          "output_type": "execute_result",
          "data": {
            "text/plain": [
              "Q13_7               0\n",
              "Q13_8               0\n",
              "Q13_9               0\n",
              "Q13_10              0\n",
              "Q13_11              0\n",
              "Q13_12              0\n",
              "Q13_13              0\n",
              "Q13_14              0\n",
              "Q13_15              0\n",
              "Q13_16              0\n",
              "Q13_Dont_Know       0\n",
              "Q14               422\n",
              "Q15                92\n",
              "Q17               742\n",
              "Q18_1             559\n",
              "Q18_2             889\n",
              "Q18_3            1361\n",
              "Q18_4             801\n",
              "Q18_5            1588\n",
              "Q18_6            1219\n",
              "Q18_7             947\n",
              "Q18_8             712\n",
              "Q18_9            1055\n",
              "Q18_10           1421\n",
              "Q18_11            918\n",
              "Q18_12           1126\n",
              "Q18_13            738\n",
              "Q18_14            787\n",
              "Q18_15           1361\n",
              "Q18_16           1460\n",
              "Q18_17           1216\n",
              "Q18_18           1027\n",
              "Q18_19           1721\n",
              "Q18_20           1098\n",
              "Q18_21           1669\n",
              "Q18_22           1700\n",
              "Q18_23           1451\n",
              "Q20                 0\n",
              "Q21                 0\n",
              "Q16                 0\n",
              "dtype: int64"
            ]
          },
          "metadata": {},
          "execution_count": 16
        }
      ],
      "source": [
        "question_mark_counts.tail(40)"
      ]
    },
    {
      "cell_type": "markdown",
      "metadata": {
        "id": "_DXFws5BeCMB"
      },
      "source": [
        "### Method For Filling '?' variabels"
      ]
    },
    {
      "cell_type": "code",
      "execution_count": 129,
      "metadata": {
        "id": "VWhvr4BZeLC2"
      },
      "outputs": [],
      "source": [
        "def FillingQuestionWithMode(df):\n",
        "    result = \"\"\n",
        "    questionMarkSet = []\n",
        "    for column in question_mark_cells:\n",
        "        if(isinstance(question_mark_counts[column], np.int64) and question_mark_counts[column] > 0):\n",
        "            questionMarkSet.append(column)\n",
        "\n",
        "    for column in questionMarkSet:\n",
        "        mode_value = df[column].mode().iloc[0]  # Get the first mode in case of multiple modes\n",
        "        if(mode_value == '?'):\n",
        "            df[column] = df[column].replace('?', round(pd.to_numeric(df[column], errors='coerce').mean()))\n",
        "            result = result + f\"This {column} mode is '?' so filling with average of column {round(pd.to_numeric(df[column], errors='coerce').mean())}.\\n\"\n",
        "        else:\n",
        "            df[column] = df[column].replace('?', mode_value)\n",
        "    return df, result"
      ]
    },
    {
      "cell_type": "code",
      "execution_count": 130,
      "metadata": {
        "id": "BAZrp5VsKLBI",
        "colab": {
          "base_uri": "https://localhost:8080/"
        },
        "outputId": "3fbcfd9f-0f26-4919-eb95-c76cc1002c90"
      },
      "outputs": [
        {
          "output_type": "stream",
          "name": "stdout",
          "text": [
            "This Q18_19 mode is '?' so filling with average of column 3.\n",
            "This Q18_22 mode is '?' so filling with average of column 2.\n",
            "\n"
          ]
        }
      ],
      "source": [
        "questionToMode_df = df.copy()\n",
        "questionToMode_df, result = FillingQuestionWithMode(questionToMode_df)\n",
        "print(result)"
      ]
    },
    {
      "cell_type": "markdown",
      "source": [
        "### Change Data Types to NumpyInt64"
      ],
      "metadata": {
        "id": "p0k1QJwwd0n5"
      }
    },
    {
      "cell_type": "code",
      "source": [
        "for column in questionToMode_df:\n",
        "  try:\n",
        "    questionToMode_df[column] = questionToMode_df[column].astype('int64')\n",
        "  except:\n",
        "    continue"
      ],
      "metadata": {
        "id": "ooUXDDnVd3ea"
      },
      "execution_count": 131,
      "outputs": []
    },
    {
      "cell_type": "code",
      "execution_count": 132,
      "metadata": {
        "id": "jGNxnnElfUM0",
        "colab": {
          "base_uri": "https://localhost:8080/"
        },
        "outputId": "3e3411a3-d0f6-4860-9172-429d1f389bc4"
      },
      "outputs": [
        {
          "output_type": "execute_result",
          "data": {
            "text/plain": [
              "Q12_12           0\n",
              "Q12_13           0\n",
              "Q12_14           0\n",
              "Q12_Dont_Know    0\n",
              "Q13_1            0\n",
              "Q13_2            0\n",
              "Q13_3            0\n",
              "Q13_4            0\n",
              "Q13_5            0\n",
              "Q13_6            0\n",
              "Q13_7            0\n",
              "Q13_8            0\n",
              "Q13_9            0\n",
              "Q13_10           0\n",
              "Q13_11           0\n",
              "Q13_12           0\n",
              "Q13_13           0\n",
              "Q13_14           0\n",
              "Q13_15           0\n",
              "Q13_16           0\n",
              "Q13_Dont_Know    0\n",
              "Q14              0\n",
              "Q15              0\n",
              "Q17              0\n",
              "Q18_1            0\n",
              "Q18_2            0\n",
              "Q18_3            0\n",
              "Q18_4            0\n",
              "Q18_5            0\n",
              "Q18_6            0\n",
              "Q18_7            0\n",
              "Q18_8            0\n",
              "Q18_9            0\n",
              "Q18_10           0\n",
              "Q18_11           0\n",
              "Q18_12           0\n",
              "Q18_13           0\n",
              "Q18_14           0\n",
              "Q18_15           0\n",
              "Q18_16           0\n",
              "Q18_17           0\n",
              "Q18_18           0\n",
              "Q18_19           0\n",
              "Q18_20           0\n",
              "Q18_21           0\n",
              "Q18_22           0\n",
              "Q18_23           0\n",
              "Q20              0\n",
              "Q21              0\n",
              "Q16              0\n",
              "dtype: int64"
            ]
          },
          "metadata": {},
          "execution_count": 132
        }
      ],
      "source": [
        "question_mark_cells = questionToMode_df.applymap(lambda x: x == \"?\")\n",
        "question_mark_cells.sum().tail(50)"
      ]
    },
    {
      "cell_type": "code",
      "execution_count": 133,
      "metadata": {
        "id": "fuB3hJflKLBJ",
        "colab": {
          "base_uri": "https://localhost:8080/"
        },
        "outputId": "1000fdca-8388-46ff-cb51-bc0d29668939"
      },
      "outputs": [
        {
          "output_type": "execute_result",
          "data": {
            "text/plain": [
              "Unnamed: 0       0\n",
              "Q11_1            0\n",
              "Q11_2            0\n",
              "Q11_3            0\n",
              "Q11_4            0\n",
              "Q11_5            0\n",
              "Q11_6            0\n",
              "Q11_7            0\n",
              "Q11_8            0\n",
              "Q11_9            0\n",
              "Q11_10           0\n",
              "Q11_11           0\n",
              "Q11_12           0\n",
              "Q11_13           0\n",
              "Q11_Dont_Know    0\n",
              "Q12_1            0\n",
              "Q12_2            0\n",
              "Q12_3            0\n",
              "Q12_4            0\n",
              "Q12_5            0\n",
              "Q12_6            0\n",
              "Q12_7            0\n",
              "Q12_8            0\n",
              "Q12_9            0\n",
              "Q12_10           0\n",
              "dtype: int64"
            ]
          },
          "metadata": {},
          "execution_count": 133
        }
      ],
      "source": [
        "question_mark_cells.sum().head(25)"
      ]
    },
    {
      "cell_type": "code",
      "execution_count": 134,
      "metadata": {
        "id": "Tejck1XpfWIQ",
        "colab": {
          "base_uri": "https://localhost:8080/"
        },
        "outputId": "e8562086-488e-4df4-9f80-77307c164f18"
      },
      "outputs": [
        {
          "output_type": "stream",
          "name": "stdout",
          "text": [
            "Default DF lenght = 76\n",
            "Question marks filling and dropped columns which's mode equals to '?' lenght 76\n"
          ]
        }
      ],
      "source": [
        "print(f\"Default DF lenght = {len(df.columns)}\")\n",
        "print(f\"Question marks filling and dropped columns which's mode equals to '?' lenght {len(questionToMode_df.columns)}\")"
      ]
    },
    {
      "cell_type": "markdown",
      "source": [
        "### Check Missing Values"
      ],
      "metadata": {
        "id": "lIud2itKK-oW"
      }
    },
    {
      "cell_type": "code",
      "source": [
        "questionToMode_df.isnull().sum()"
      ],
      "metadata": {
        "id": "-Iste_2gKVqa",
        "colab": {
          "base_uri": "https://localhost:8080/"
        },
        "outputId": "b521b112-eb41-4bcb-d6f4-230e73aec33e"
      },
      "execution_count": 135,
      "outputs": [
        {
          "output_type": "execute_result",
          "data": {
            "text/plain": [
              "Unnamed: 0    0\n",
              "Q11_1         0\n",
              "Q11_2         0\n",
              "Q11_3         0\n",
              "Q11_4         0\n",
              "             ..\n",
              "Q18_22        0\n",
              "Q18_23        0\n",
              "Q20           0\n",
              "Q21           0\n",
              "Q16           0\n",
              "Length: 76, dtype: int64"
            ]
          },
          "metadata": {},
          "execution_count": 135
        }
      ]
    },
    {
      "cell_type": "markdown",
      "source": [
        "### Describtion of Dataset After Handling Null Values"
      ],
      "metadata": {
        "id": "jLcyT_iCLwHF"
      }
    },
    {
      "cell_type": "code",
      "source": [
        "questionToMode_df.describe()"
      ],
      "metadata": {
        "id": "votWtuR5LZGz",
        "colab": {
          "base_uri": "https://localhost:8080/",
          "height": 350
        },
        "outputId": "3264f0c3-a548-4f07-9541-6aad0902e31c"
      },
      "execution_count": 136,
      "outputs": [
        {
          "output_type": "execute_result",
          "data": {
            "text/plain": [
              "        Unnamed: 0        Q11_1        Q11_2        Q11_3        Q11_4  \\\n",
              "count  6108.000000  6108.000000  6108.000000  6108.000000  6108.000000   \n",
              "mean   3053.500000     0.479044     0.295678     0.178782     0.584152   \n",
              "std    1763.372054     0.499602     0.456384     0.383201     0.492908   \n",
              "min       0.000000     0.000000     0.000000     0.000000     0.000000   \n",
              "25%    1526.750000     0.000000     0.000000     0.000000     0.000000   \n",
              "50%    3053.500000     0.000000     0.000000     0.000000     1.000000   \n",
              "75%    4580.250000     1.000000     1.000000     0.000000     1.000000   \n",
              "max    6107.000000     1.000000     1.000000     1.000000     1.000000   \n",
              "\n",
              "             Q11_5        Q11_6        Q11_7        Q11_8        Q11_9  ...  \\\n",
              "count  6108.000000  6108.000000  6108.000000  6108.000000  6108.000000  ...   \n",
              "mean      0.280779     0.089555     0.379993     0.302227     0.076130  ...   \n",
              "std       0.449417     0.285566     0.485425     0.459261     0.265227  ...   \n",
              "min       0.000000     0.000000     0.000000     0.000000     0.000000  ...   \n",
              "25%       0.000000     0.000000     0.000000     0.000000     0.000000  ...   \n",
              "50%       0.000000     0.000000     0.000000     0.000000     0.000000  ...   \n",
              "75%       1.000000     0.000000     1.000000     1.000000     0.000000  ...   \n",
              "max       1.000000     1.000000     1.000000     1.000000     1.000000  ...   \n",
              "\n",
              "            Q18_16       Q18_17       Q18_18       Q18_19       Q18_20  \\\n",
              "count  6108.000000  6108.000000  6108.000000  6108.000000  6108.000000   \n",
              "mean      2.352816     3.034217     2.200557     3.046005     2.274067   \n",
              "std       0.955252     1.013568     0.940799     0.969493     1.031295   \n",
              "min       1.000000     1.000000     1.000000     1.000000     1.000000   \n",
              "25%       2.000000     2.000000     2.000000     3.000000     2.000000   \n",
              "50%       2.000000     3.000000     2.000000     3.000000     2.000000   \n",
              "75%       3.000000     4.000000     3.000000     4.000000     3.000000   \n",
              "max       5.000000     5.000000     5.000000     5.000000     5.000000   \n",
              "\n",
              "            Q18_21       Q18_22       Q18_23          Q20          Q21  \n",
              "count  6108.000000  6108.000000  6108.000000  6108.000000  6108.000000  \n",
              "mean      2.863785     2.350196     2.612803     2.870825     2.596758  \n",
              "std       0.929183     0.928942     0.952385     0.811442     0.834790  \n",
              "min       1.000000     1.000000     1.000000     1.000000     1.000000  \n",
              "25%       2.000000     2.000000     2.000000     3.000000     2.000000  \n",
              "50%       3.000000     2.000000     3.000000     3.000000     3.000000  \n",
              "75%       3.000000     3.000000     3.000000     3.000000     3.000000  \n",
              "max       5.000000     5.000000     5.000000     5.000000     5.000000  \n",
              "\n",
              "[8 rows x 75 columns]"
            ],
            "text/html": [
              "\n",
              "  <div id=\"df-335ae00a-ba1d-4d60-a31b-bb1ed0d7c322\" class=\"colab-df-container\">\n",
              "    <div>\n",
              "<style scoped>\n",
              "    .dataframe tbody tr th:only-of-type {\n",
              "        vertical-align: middle;\n",
              "    }\n",
              "\n",
              "    .dataframe tbody tr th {\n",
              "        vertical-align: top;\n",
              "    }\n",
              "\n",
              "    .dataframe thead th {\n",
              "        text-align: right;\n",
              "    }\n",
              "</style>\n",
              "<table border=\"1\" class=\"dataframe\">\n",
              "  <thead>\n",
              "    <tr style=\"text-align: right;\">\n",
              "      <th></th>\n",
              "      <th>Unnamed: 0</th>\n",
              "      <th>Q11_1</th>\n",
              "      <th>Q11_2</th>\n",
              "      <th>Q11_3</th>\n",
              "      <th>Q11_4</th>\n",
              "      <th>Q11_5</th>\n",
              "      <th>Q11_6</th>\n",
              "      <th>Q11_7</th>\n",
              "      <th>Q11_8</th>\n",
              "      <th>Q11_9</th>\n",
              "      <th>...</th>\n",
              "      <th>Q18_16</th>\n",
              "      <th>Q18_17</th>\n",
              "      <th>Q18_18</th>\n",
              "      <th>Q18_19</th>\n",
              "      <th>Q18_20</th>\n",
              "      <th>Q18_21</th>\n",
              "      <th>Q18_22</th>\n",
              "      <th>Q18_23</th>\n",
              "      <th>Q20</th>\n",
              "      <th>Q21</th>\n",
              "    </tr>\n",
              "  </thead>\n",
              "  <tbody>\n",
              "    <tr>\n",
              "      <th>count</th>\n",
              "      <td>6108.000000</td>\n",
              "      <td>6108.000000</td>\n",
              "      <td>6108.000000</td>\n",
              "      <td>6108.000000</td>\n",
              "      <td>6108.000000</td>\n",
              "      <td>6108.000000</td>\n",
              "      <td>6108.000000</td>\n",
              "      <td>6108.000000</td>\n",
              "      <td>6108.000000</td>\n",
              "      <td>6108.000000</td>\n",
              "      <td>...</td>\n",
              "      <td>6108.000000</td>\n",
              "      <td>6108.000000</td>\n",
              "      <td>6108.000000</td>\n",
              "      <td>6108.000000</td>\n",
              "      <td>6108.000000</td>\n",
              "      <td>6108.000000</td>\n",
              "      <td>6108.000000</td>\n",
              "      <td>6108.000000</td>\n",
              "      <td>6108.000000</td>\n",
              "      <td>6108.000000</td>\n",
              "    </tr>\n",
              "    <tr>\n",
              "      <th>mean</th>\n",
              "      <td>3053.500000</td>\n",
              "      <td>0.479044</td>\n",
              "      <td>0.295678</td>\n",
              "      <td>0.178782</td>\n",
              "      <td>0.584152</td>\n",
              "      <td>0.280779</td>\n",
              "      <td>0.089555</td>\n",
              "      <td>0.379993</td>\n",
              "      <td>0.302227</td>\n",
              "      <td>0.076130</td>\n",
              "      <td>...</td>\n",
              "      <td>2.352816</td>\n",
              "      <td>3.034217</td>\n",
              "      <td>2.200557</td>\n",
              "      <td>3.046005</td>\n",
              "      <td>2.274067</td>\n",
              "      <td>2.863785</td>\n",
              "      <td>2.350196</td>\n",
              "      <td>2.612803</td>\n",
              "      <td>2.870825</td>\n",
              "      <td>2.596758</td>\n",
              "    </tr>\n",
              "    <tr>\n",
              "      <th>std</th>\n",
              "      <td>1763.372054</td>\n",
              "      <td>0.499602</td>\n",
              "      <td>0.456384</td>\n",
              "      <td>0.383201</td>\n",
              "      <td>0.492908</td>\n",
              "      <td>0.449417</td>\n",
              "      <td>0.285566</td>\n",
              "      <td>0.485425</td>\n",
              "      <td>0.459261</td>\n",
              "      <td>0.265227</td>\n",
              "      <td>...</td>\n",
              "      <td>0.955252</td>\n",
              "      <td>1.013568</td>\n",
              "      <td>0.940799</td>\n",
              "      <td>0.969493</td>\n",
              "      <td>1.031295</td>\n",
              "      <td>0.929183</td>\n",
              "      <td>0.928942</td>\n",
              "      <td>0.952385</td>\n",
              "      <td>0.811442</td>\n",
              "      <td>0.834790</td>\n",
              "    </tr>\n",
              "    <tr>\n",
              "      <th>min</th>\n",
              "      <td>0.000000</td>\n",
              "      <td>0.000000</td>\n",
              "      <td>0.000000</td>\n",
              "      <td>0.000000</td>\n",
              "      <td>0.000000</td>\n",
              "      <td>0.000000</td>\n",
              "      <td>0.000000</td>\n",
              "      <td>0.000000</td>\n",
              "      <td>0.000000</td>\n",
              "      <td>0.000000</td>\n",
              "      <td>...</td>\n",
              "      <td>1.000000</td>\n",
              "      <td>1.000000</td>\n",
              "      <td>1.000000</td>\n",
              "      <td>1.000000</td>\n",
              "      <td>1.000000</td>\n",
              "      <td>1.000000</td>\n",
              "      <td>1.000000</td>\n",
              "      <td>1.000000</td>\n",
              "      <td>1.000000</td>\n",
              "      <td>1.000000</td>\n",
              "    </tr>\n",
              "    <tr>\n",
              "      <th>25%</th>\n",
              "      <td>1526.750000</td>\n",
              "      <td>0.000000</td>\n",
              "      <td>0.000000</td>\n",
              "      <td>0.000000</td>\n",
              "      <td>0.000000</td>\n",
              "      <td>0.000000</td>\n",
              "      <td>0.000000</td>\n",
              "      <td>0.000000</td>\n",
              "      <td>0.000000</td>\n",
              "      <td>0.000000</td>\n",
              "      <td>...</td>\n",
              "      <td>2.000000</td>\n",
              "      <td>2.000000</td>\n",
              "      <td>2.000000</td>\n",
              "      <td>3.000000</td>\n",
              "      <td>2.000000</td>\n",
              "      <td>2.000000</td>\n",
              "      <td>2.000000</td>\n",
              "      <td>2.000000</td>\n",
              "      <td>3.000000</td>\n",
              "      <td>2.000000</td>\n",
              "    </tr>\n",
              "    <tr>\n",
              "      <th>50%</th>\n",
              "      <td>3053.500000</td>\n",
              "      <td>0.000000</td>\n",
              "      <td>0.000000</td>\n",
              "      <td>0.000000</td>\n",
              "      <td>1.000000</td>\n",
              "      <td>0.000000</td>\n",
              "      <td>0.000000</td>\n",
              "      <td>0.000000</td>\n",
              "      <td>0.000000</td>\n",
              "      <td>0.000000</td>\n",
              "      <td>...</td>\n",
              "      <td>2.000000</td>\n",
              "      <td>3.000000</td>\n",
              "      <td>2.000000</td>\n",
              "      <td>3.000000</td>\n",
              "      <td>2.000000</td>\n",
              "      <td>3.000000</td>\n",
              "      <td>2.000000</td>\n",
              "      <td>3.000000</td>\n",
              "      <td>3.000000</td>\n",
              "      <td>3.000000</td>\n",
              "    </tr>\n",
              "    <tr>\n",
              "      <th>75%</th>\n",
              "      <td>4580.250000</td>\n",
              "      <td>1.000000</td>\n",
              "      <td>1.000000</td>\n",
              "      <td>0.000000</td>\n",
              "      <td>1.000000</td>\n",
              "      <td>1.000000</td>\n",
              "      <td>0.000000</td>\n",
              "      <td>1.000000</td>\n",
              "      <td>1.000000</td>\n",
              "      <td>0.000000</td>\n",
              "      <td>...</td>\n",
              "      <td>3.000000</td>\n",
              "      <td>4.000000</td>\n",
              "      <td>3.000000</td>\n",
              "      <td>4.000000</td>\n",
              "      <td>3.000000</td>\n",
              "      <td>3.000000</td>\n",
              "      <td>3.000000</td>\n",
              "      <td>3.000000</td>\n",
              "      <td>3.000000</td>\n",
              "      <td>3.000000</td>\n",
              "    </tr>\n",
              "    <tr>\n",
              "      <th>max</th>\n",
              "      <td>6107.000000</td>\n",
              "      <td>1.000000</td>\n",
              "      <td>1.000000</td>\n",
              "      <td>1.000000</td>\n",
              "      <td>1.000000</td>\n",
              "      <td>1.000000</td>\n",
              "      <td>1.000000</td>\n",
              "      <td>1.000000</td>\n",
              "      <td>1.000000</td>\n",
              "      <td>1.000000</td>\n",
              "      <td>...</td>\n",
              "      <td>5.000000</td>\n",
              "      <td>5.000000</td>\n",
              "      <td>5.000000</td>\n",
              "      <td>5.000000</td>\n",
              "      <td>5.000000</td>\n",
              "      <td>5.000000</td>\n",
              "      <td>5.000000</td>\n",
              "      <td>5.000000</td>\n",
              "      <td>5.000000</td>\n",
              "      <td>5.000000</td>\n",
              "    </tr>\n",
              "  </tbody>\n",
              "</table>\n",
              "<p>8 rows × 75 columns</p>\n",
              "</div>\n",
              "    <div class=\"colab-df-buttons\">\n",
              "\n",
              "  <div class=\"colab-df-container\">\n",
              "    <button class=\"colab-df-convert\" onclick=\"convertToInteractive('df-335ae00a-ba1d-4d60-a31b-bb1ed0d7c322')\"\n",
              "            title=\"Convert this dataframe to an interactive table.\"\n",
              "            style=\"display:none;\">\n",
              "\n",
              "  <svg xmlns=\"http://www.w3.org/2000/svg\" height=\"24px\" viewBox=\"0 -960 960 960\">\n",
              "    <path d=\"M120-120v-720h720v720H120Zm60-500h600v-160H180v160Zm220 220h160v-160H400v160Zm0 220h160v-160H400v160ZM180-400h160v-160H180v160Zm440 0h160v-160H620v160ZM180-180h160v-160H180v160Zm440 0h160v-160H620v160Z\"/>\n",
              "  </svg>\n",
              "    </button>\n",
              "\n",
              "  <style>\n",
              "    .colab-df-container {\n",
              "      display:flex;\n",
              "      gap: 12px;\n",
              "    }\n",
              "\n",
              "    .colab-df-convert {\n",
              "      background-color: #E8F0FE;\n",
              "      border: none;\n",
              "      border-radius: 50%;\n",
              "      cursor: pointer;\n",
              "      display: none;\n",
              "      fill: #1967D2;\n",
              "      height: 32px;\n",
              "      padding: 0 0 0 0;\n",
              "      width: 32px;\n",
              "    }\n",
              "\n",
              "    .colab-df-convert:hover {\n",
              "      background-color: #E2EBFA;\n",
              "      box-shadow: 0px 1px 2px rgba(60, 64, 67, 0.3), 0px 1px 3px 1px rgba(60, 64, 67, 0.15);\n",
              "      fill: #174EA6;\n",
              "    }\n",
              "\n",
              "    .colab-df-buttons div {\n",
              "      margin-bottom: 4px;\n",
              "    }\n",
              "\n",
              "    [theme=dark] .colab-df-convert {\n",
              "      background-color: #3B4455;\n",
              "      fill: #D2E3FC;\n",
              "    }\n",
              "\n",
              "    [theme=dark] .colab-df-convert:hover {\n",
              "      background-color: #434B5C;\n",
              "      box-shadow: 0px 1px 3px 1px rgba(0, 0, 0, 0.15);\n",
              "      filter: drop-shadow(0px 1px 2px rgba(0, 0, 0, 0.3));\n",
              "      fill: #FFFFFF;\n",
              "    }\n",
              "  </style>\n",
              "\n",
              "    <script>\n",
              "      const buttonEl =\n",
              "        document.querySelector('#df-335ae00a-ba1d-4d60-a31b-bb1ed0d7c322 button.colab-df-convert');\n",
              "      buttonEl.style.display =\n",
              "        google.colab.kernel.accessAllowed ? 'block' : 'none';\n",
              "\n",
              "      async function convertToInteractive(key) {\n",
              "        const element = document.querySelector('#df-335ae00a-ba1d-4d60-a31b-bb1ed0d7c322');\n",
              "        const dataTable =\n",
              "          await google.colab.kernel.invokeFunction('convertToInteractive',\n",
              "                                                    [key], {});\n",
              "        if (!dataTable) return;\n",
              "\n",
              "        const docLinkHtml = 'Like what you see? Visit the ' +\n",
              "          '<a target=\"_blank\" href=https://colab.research.google.com/notebooks/data_table.ipynb>data table notebook</a>'\n",
              "          + ' to learn more about interactive tables.';\n",
              "        element.innerHTML = '';\n",
              "        dataTable['output_type'] = 'display_data';\n",
              "        await google.colab.output.renderOutput(dataTable, element);\n",
              "        const docLink = document.createElement('div');\n",
              "        docLink.innerHTML = docLinkHtml;\n",
              "        element.appendChild(docLink);\n",
              "      }\n",
              "    </script>\n",
              "  </div>\n",
              "\n",
              "\n",
              "<div id=\"df-b8369869-6536-43ca-b1dd-ee3195a2c641\">\n",
              "  <button class=\"colab-df-quickchart\" onclick=\"quickchart('df-b8369869-6536-43ca-b1dd-ee3195a2c641')\"\n",
              "            title=\"Suggest charts\"\n",
              "            style=\"display:none;\">\n",
              "\n",
              "<svg xmlns=\"http://www.w3.org/2000/svg\" height=\"24px\"viewBox=\"0 0 24 24\"\n",
              "     width=\"24px\">\n",
              "    <g>\n",
              "        <path d=\"M19 3H5c-1.1 0-2 .9-2 2v14c0 1.1.9 2 2 2h14c1.1 0 2-.9 2-2V5c0-1.1-.9-2-2-2zM9 17H7v-7h2v7zm4 0h-2V7h2v10zm4 0h-2v-4h2v4z\"/>\n",
              "    </g>\n",
              "</svg>\n",
              "  </button>\n",
              "\n",
              "<style>\n",
              "  .colab-df-quickchart {\n",
              "      --bg-color: #E8F0FE;\n",
              "      --fill-color: #1967D2;\n",
              "      --hover-bg-color: #E2EBFA;\n",
              "      --hover-fill-color: #174EA6;\n",
              "      --disabled-fill-color: #AAA;\n",
              "      --disabled-bg-color: #DDD;\n",
              "  }\n",
              "\n",
              "  [theme=dark] .colab-df-quickchart {\n",
              "      --bg-color: #3B4455;\n",
              "      --fill-color: #D2E3FC;\n",
              "      --hover-bg-color: #434B5C;\n",
              "      --hover-fill-color: #FFFFFF;\n",
              "      --disabled-bg-color: #3B4455;\n",
              "      --disabled-fill-color: #666;\n",
              "  }\n",
              "\n",
              "  .colab-df-quickchart {\n",
              "    background-color: var(--bg-color);\n",
              "    border: none;\n",
              "    border-radius: 50%;\n",
              "    cursor: pointer;\n",
              "    display: none;\n",
              "    fill: var(--fill-color);\n",
              "    height: 32px;\n",
              "    padding: 0;\n",
              "    width: 32px;\n",
              "  }\n",
              "\n",
              "  .colab-df-quickchart:hover {\n",
              "    background-color: var(--hover-bg-color);\n",
              "    box-shadow: 0 1px 2px rgba(60, 64, 67, 0.3), 0 1px 3px 1px rgba(60, 64, 67, 0.15);\n",
              "    fill: var(--button-hover-fill-color);\n",
              "  }\n",
              "\n",
              "  .colab-df-quickchart-complete:disabled,\n",
              "  .colab-df-quickchart-complete:disabled:hover {\n",
              "    background-color: var(--disabled-bg-color);\n",
              "    fill: var(--disabled-fill-color);\n",
              "    box-shadow: none;\n",
              "  }\n",
              "\n",
              "  .colab-df-spinner {\n",
              "    border: 2px solid var(--fill-color);\n",
              "    border-color: transparent;\n",
              "    border-bottom-color: var(--fill-color);\n",
              "    animation:\n",
              "      spin 1s steps(1) infinite;\n",
              "  }\n",
              "\n",
              "  @keyframes spin {\n",
              "    0% {\n",
              "      border-color: transparent;\n",
              "      border-bottom-color: var(--fill-color);\n",
              "      border-left-color: var(--fill-color);\n",
              "    }\n",
              "    20% {\n",
              "      border-color: transparent;\n",
              "      border-left-color: var(--fill-color);\n",
              "      border-top-color: var(--fill-color);\n",
              "    }\n",
              "    30% {\n",
              "      border-color: transparent;\n",
              "      border-left-color: var(--fill-color);\n",
              "      border-top-color: var(--fill-color);\n",
              "      border-right-color: var(--fill-color);\n",
              "    }\n",
              "    40% {\n",
              "      border-color: transparent;\n",
              "      border-right-color: var(--fill-color);\n",
              "      border-top-color: var(--fill-color);\n",
              "    }\n",
              "    60% {\n",
              "      border-color: transparent;\n",
              "      border-right-color: var(--fill-color);\n",
              "    }\n",
              "    80% {\n",
              "      border-color: transparent;\n",
              "      border-right-color: var(--fill-color);\n",
              "      border-bottom-color: var(--fill-color);\n",
              "    }\n",
              "    90% {\n",
              "      border-color: transparent;\n",
              "      border-bottom-color: var(--fill-color);\n",
              "    }\n",
              "  }\n",
              "</style>\n",
              "\n",
              "  <script>\n",
              "    async function quickchart(key) {\n",
              "      const quickchartButtonEl =\n",
              "        document.querySelector('#' + key + ' button');\n",
              "      quickchartButtonEl.disabled = true;  // To prevent multiple clicks.\n",
              "      quickchartButtonEl.classList.add('colab-df-spinner');\n",
              "      try {\n",
              "        const charts = await google.colab.kernel.invokeFunction(\n",
              "            'suggestCharts', [key], {});\n",
              "      } catch (error) {\n",
              "        console.error('Error during call to suggestCharts:', error);\n",
              "      }\n",
              "      quickchartButtonEl.classList.remove('colab-df-spinner');\n",
              "      quickchartButtonEl.classList.add('colab-df-quickchart-complete');\n",
              "    }\n",
              "    (() => {\n",
              "      let quickchartButtonEl =\n",
              "        document.querySelector('#df-b8369869-6536-43ca-b1dd-ee3195a2c641 button');\n",
              "      quickchartButtonEl.style.display =\n",
              "        google.colab.kernel.accessAllowed ? 'block' : 'none';\n",
              "    })();\n",
              "  </script>\n",
              "</div>\n",
              "\n",
              "    </div>\n",
              "  </div>\n"
            ]
          },
          "metadata": {},
          "execution_count": 136
        }
      ]
    },
    {
      "cell_type": "code",
      "source": [
        "questionToMode_df.describe"
      ],
      "metadata": {
        "id": "E31A3h0FLhMb",
        "colab": {
          "base_uri": "https://localhost:8080/"
        },
        "outputId": "0b817a18-5246-4ae7-c8d2-b823b76c0422"
      },
      "execution_count": 137,
      "outputs": [
        {
          "output_type": "execute_result",
          "data": {
            "text/plain": [
              "<bound method NDFrame.describe of       Unnamed: 0  Q11_1  Q11_2  Q11_3  Q11_4  Q11_5  Q11_6  Q11_7  Q11_8  \\\n",
              "0              0      0      0      0      1      1      0      0      1   \n",
              "1              1      1      0      0      1      0      0      1      0   \n",
              "2              2      1      1      0      1      0      0      1      1   \n",
              "3              3      0      0      0      0      0      0      0      0   \n",
              "4              4      1      1      0      1      0      0      1      1   \n",
              "...          ...    ...    ...    ...    ...    ...    ...    ...    ...   \n",
              "6103        6103      0      1      0      0      0      0      1      1   \n",
              "6104        6104      0      1      0      1      0      0      0      1   \n",
              "6105        6105      1      0      1      0      0      0      0      0   \n",
              "6106        6106      0      0      1      0      0      0      0      1   \n",
              "6107        6107      1      0      0      1      0      0      0      1   \n",
              "\n",
              "      Q11_9  ...  Q18_17  Q18_18  Q18_19  Q18_20  Q18_21  Q18_22  Q18_23  Q20  \\\n",
              "0         0  ...       5       5       5       5       5       5       5    3   \n",
              "1         0  ...       4       2       4       2       2       2       2    3   \n",
              "2         0  ...       4       4       3       2       4       2       4    4   \n",
              "3         0  ...       3       2       3       2       3       2       3    3   \n",
              "4         0  ...       3       2       1       1       3       2       3    3   \n",
              "...     ...  ...     ...     ...     ...     ...     ...     ...     ...  ...   \n",
              "6103      1  ...       2       2       3       3       2       1       1    1   \n",
              "6104      0  ...       3       2       3       2       3       2       3    3   \n",
              "6105      0  ...       4       1       5       4       5       4       5    5   \n",
              "6106      0  ...       1       3       4       5       3       2       3    2   \n",
              "6107      0  ...       3       3       3       3       3       3       3    3   \n",
              "\n",
              "      Q21  Q16  \n",
              "0       3    A  \n",
              "1       3    D  \n",
              "2       1    A  \n",
              "3       3    C  \n",
              "4       3    D  \n",
              "...   ...  ...  \n",
              "6103    3    B  \n",
              "6104    3    A  \n",
              "6105    2    A  \n",
              "6106    3    A  \n",
              "6107    3    D  \n",
              "\n",
              "[6108 rows x 76 columns]>"
            ]
          },
          "metadata": {},
          "execution_count": 137
        }
      ]
    },
    {
      "cell_type": "markdown",
      "source": [
        "### Showing Outliers\n"
      ],
      "metadata": {
        "id": "1jNYqpObQWZR"
      }
    },
    {
      "cell_type": "code",
      "source": [
        "import seaborn as sns\n",
        "import matplotlib.pyplot as plt\n",
        "\n",
        "colName = 'Q21'\n",
        "\n",
        "# Box plot çizimi\n",
        "sns.boxplot(x=questionToMode_df[colName])\n",
        "plt.title(f'Box Plot of {colName}')\n",
        "plt.show()"
      ],
      "metadata": {
        "id": "WZGJjlIVQjb7",
        "colab": {
          "base_uri": "https://localhost:8080/",
          "height": 472
        },
        "outputId": "06eb5ca4-37dd-42a8-83f9-d2b4e4086d93"
      },
      "execution_count": 138,
      "outputs": [
        {
          "output_type": "display_data",
          "data": {
            "text/plain": [
              "<Figure size 640x480 with 1 Axes>"
            ],
            "image/png": "[encoded data removed]"
          },
          "metadata": {}
        }
      ]
    },
    {
      "cell_type": "code",
      "source": [
        "from scipy.stats import zscore\n",
        "#buna bakıp ona göre for un içine atalım\n",
        "outliers=[]\n",
        "count = 0\n",
        "\n",
        "for column in questionToMode_df.iloc[:, :73]:\n",
        "  # IQR\n",
        "  Q1 = np.percentile(questionToMode_df[column], 25, method='midpoint')\n",
        "  Q3 = np.percentile(questionToMode_df[column], 75, method='midpoint')\n",
        "  IQR = Q3 - Q1\n",
        "  #print(IQR)\n",
        "  # Above Upper bound\n",
        "  upper = Q3+1.5*IQR\n",
        "  upper_array = np.array(questionToMode_df[column] >= upper)\n",
        "  #print(\"Upper Bound:\", upper)\n",
        "  #print(upper_array.sum())\n",
        "\n",
        "  # Below Lower bound\n",
        "  lower = Q1-1.5*IQR\n",
        "  lower_array = np.array(questionToMode_df[column] <= lower)\n",
        "  try:\n",
        "    questionToMode_df = questionToMode_df.drop(index=upper_array, inplace=True)\n",
        "    questionToMode_df = questionToMode_df.drop(index=lower_array, inplace=True)\n",
        "  except:\n",
        "    continue"
      ],
      "metadata": {
        "id": "nfSNQZKJSQIs"
      },
      "execution_count": 139,
      "outputs": []
    },
    {
      "cell_type": "markdown",
      "source": [
        "### Normalization"
      ],
      "metadata": {
        "id": "MJwlLVaXMJgU"
      }
    },
    {
      "cell_type": "markdown",
      "source": [
        "### MinMaxScaler scaling the data to a specific range (usually [0, 1]) ensures that all features are kept on the same scale."
      ],
      "metadata": {
        "id": "MmgEjjpXPHWu"
      }
    },
    {
      "cell_type": "code",
      "source": [
        "from sklearn.preprocessing import MinMaxScaler\n",
        "scaledDataFrame=questionToMode_df.copy()\n",
        "scaledForm = scaledDataFrame.iloc[:, :73]\n",
        "scaler = MinMaxScaler()\n",
        "scaledDataFrame.iloc[:, :73] = scaler.fit_transform(scaledForm)"
      ],
      "metadata": {
        "id": "M091jEdaMN5R",
        "colab": {
          "base_uri": "https://localhost:8080/"
        },
        "outputId": "fe4a0f66-31a1-473c-ae5c-c0b21d991a56"
      },
      "execution_count": 140,
      "outputs": [
        {
          "output_type": "stream",
          "name": "stderr",
          "text": [
            "<ipython-input-140-bcb55b068d43>:5: DeprecationWarning: In a future version, `df.iloc[:, i] = newvals` will attempt to set the values inplace instead of always setting a new array. To retain the old behavior, use either `df[df.columns[i]] = newvals` or, if columns are non-unique, `df.isetitem(i, newvals)`\n",
            "  scaledDataFrame.iloc[:, :73] = scaler.fit_transform(scaledForm)\n"
          ]
        }
      ]
    },
    {
      "cell_type": "code",
      "source": [
        "scaledDataFrame.describe"
      ],
      "metadata": {
        "id": "obq3cMhoN2Q2",
        "colab": {
          "base_uri": "https://localhost:8080/"
        },
        "outputId": "93e74732-dcb8-4107-c696-4676247f061a"
      },
      "execution_count": 141,
      "outputs": [
        {
          "output_type": "execute_result",
          "data": {
            "text/plain": [
              "<bound method NDFrame.describe of       Unnamed: 0  Q11_1  Q11_2  Q11_3  Q11_4  Q11_5  Q11_6  Q11_7  Q11_8  \\\n",
              "0       0.000000    0.0    0.0    0.0    1.0    1.0    0.0    0.0    1.0   \n",
              "1       0.000164    1.0    0.0    0.0    1.0    0.0    0.0    1.0    0.0   \n",
              "2       0.000327    1.0    1.0    0.0    1.0    0.0    0.0    1.0    1.0   \n",
              "3       0.000491    0.0    0.0    0.0    0.0    0.0    0.0    0.0    0.0   \n",
              "4       0.000655    1.0    1.0    0.0    1.0    0.0    0.0    1.0    1.0   \n",
              "...          ...    ...    ...    ...    ...    ...    ...    ...    ...   \n",
              "6103    0.999345    0.0    1.0    0.0    0.0    0.0    0.0    1.0    1.0   \n",
              "6104    0.999509    0.0    1.0    0.0    1.0    0.0    0.0    0.0    1.0   \n",
              "6105    0.999673    1.0    0.0    1.0    0.0    0.0    0.0    0.0    0.0   \n",
              "6106    0.999836    0.0    0.0    1.0    0.0    0.0    0.0    0.0    1.0   \n",
              "6107    1.000000    1.0    0.0    0.0    1.0    0.0    0.0    0.0    1.0   \n",
              "\n",
              "      Q11_9  ...  Q18_17  Q18_18  Q18_19  Q18_20  Q18_21  Q18_22  Q18_23  Q20  \\\n",
              "0       0.0  ...    1.00    1.00    1.00    1.00    1.00    1.00    1.00    3   \n",
              "1       0.0  ...    0.75    0.25    0.75    0.25    0.25    0.25    0.25    3   \n",
              "2       0.0  ...    0.75    0.75    0.50    0.25    0.75    0.25    0.75    4   \n",
              "3       0.0  ...    0.50    0.25    0.50    0.25    0.50    0.25    0.50    3   \n",
              "4       0.0  ...    0.50    0.25    0.00    0.00    0.50    0.25    0.50    3   \n",
              "...     ...  ...     ...     ...     ...     ...     ...     ...     ...  ...   \n",
              "6103    1.0  ...    0.25    0.25    0.50    0.50    0.25    0.00    0.00    1   \n",
              "6104    0.0  ...    0.50    0.25    0.50    0.25    0.50    0.25    0.50    3   \n",
              "6105    0.0  ...    0.75    0.00    1.00    0.75    1.00    0.75    1.00    5   \n",
              "6106    0.0  ...    0.00    0.50    0.75    1.00    0.50    0.25    0.50    2   \n",
              "6107    0.0  ...    0.50    0.50    0.50    0.50    0.50    0.50    0.50    3   \n",
              "\n",
              "      Q21  Q16  \n",
              "0       3    A  \n",
              "1       3    D  \n",
              "2       1    A  \n",
              "3       3    C  \n",
              "4       3    D  \n",
              "...   ...  ...  \n",
              "6103    3    B  \n",
              "6104    3    A  \n",
              "6105    2    A  \n",
              "6106    3    A  \n",
              "6107    3    D  \n",
              "\n",
              "[6108 rows x 76 columns]>"
            ]
          },
          "metadata": {},
          "execution_count": 141
        }
      ]
    },
    {
      "cell_type": "markdown",
      "source": [
        "### StandartScaler transforming the data into a standard normal distribution makes the features comparable with each other"
      ],
      "metadata": {
        "id": "0pmxtl2qPPKL"
      }
    },
    {
      "cell_type": "code",
      "source": [
        "from sklearn.preprocessing import StandardScaler\n",
        "scaledDataFrame=questionToMode_df.copy()\n",
        "scaledForm = scaledDataFrame.iloc[:, :73]\n",
        "scaler = StandardScaler()\n",
        "scaledDataFrame.iloc[:, :73] = scaler.fit_transform(scaledForm)"
      ],
      "metadata": {
        "id": "S2tvHTTwN9yT"
      },
      "execution_count": 142,
      "outputs": []
    },
    {
      "cell_type": "code",
      "source": [
        "scaledDataFrame.describe"
      ],
      "metadata": {
        "id": "Q3POFrQ9OSp3",
        "colab": {
          "base_uri": "https://localhost:8080/"
        },
        "outputId": "647649e5-ee01-4c97-bd45-4ef7700c1677"
      },
      "execution_count": 143,
      "outputs": [
        {
          "output_type": "execute_result",
          "data": {
            "text/plain": [
              "<bound method NDFrame.describe of       Unnamed: 0     Q11_1     Q11_2     Q11_3     Q11_4     Q11_5    Q11_6  \\\n",
              "0      -1.731767 -0.958930 -0.647923 -0.466587  0.843732  1.600474 -0.31363   \n",
              "1      -1.731200  1.042829 -0.647923 -0.466587  0.843732 -0.624815 -0.31363   \n",
              "2      -1.730633  1.042829  1.543392 -0.466587  0.843732 -0.624815 -0.31363   \n",
              "3      -1.730066 -0.958930 -0.647923 -0.466587 -1.185211 -0.624815 -0.31363   \n",
              "4      -1.729499  1.042829  1.543392 -0.466587  0.843732 -0.624815 -0.31363   \n",
              "...          ...       ...       ...       ...       ...       ...      ...   \n",
              "6103    1.729499 -0.958930  1.543392 -0.466587 -1.185211 -0.624815 -0.31363   \n",
              "6104    1.730066 -0.958930  1.543392 -0.466587  0.843732 -0.624815 -0.31363   \n",
              "6105    1.730633  1.042829 -0.647923  2.143223 -1.185211 -0.624815 -0.31363   \n",
              "6106    1.731200 -0.958930 -0.647923  2.143223 -1.185211 -0.624815 -0.31363   \n",
              "6107    1.731767  1.042829 -0.647923 -0.466587  0.843732 -0.624815 -0.31363   \n",
              "\n",
              "         Q11_7     Q11_8     Q11_9  ...    Q18_17    Q18_18    Q18_19  \\\n",
              "0    -0.782870  1.519466 -0.287059  ...  1.939626  2.975847  2.015646   \n",
              "1     1.277351 -0.658126 -0.287059  ...  0.952932 -0.213194  0.984095   \n",
              "2     1.277351  1.519466 -0.287059  ...  0.952932  1.912833 -0.047457   \n",
              "3    -0.782870 -0.658126 -0.287059  ... -0.033762 -0.213194 -0.047457   \n",
              "4     1.277351  1.519466 -0.287059  ... -0.033762 -0.213194 -2.110559   \n",
              "...        ...       ...       ...  ...       ...       ...       ...   \n",
              "6103  1.277351  1.519466  3.483602  ... -1.020456 -0.213194 -0.047457   \n",
              "6104 -0.782870  1.519466 -0.287059  ... -0.033762 -0.213194 -0.047457   \n",
              "6105 -0.782870 -0.658126 -0.287059  ...  0.952932 -1.276208  2.015646   \n",
              "6106 -0.782870  1.519466 -0.287059  ... -2.007150  0.849819  0.984095   \n",
              "6107 -0.782870  1.519466 -0.287059  ... -0.033762  0.849819 -0.047457   \n",
              "\n",
              "        Q18_20    Q18_21    Q18_22    Q18_23  Q20  Q21  Q16  \n",
              "0     2.643431  2.299213  2.852731  2.506751    3    3    A  \n",
              "1    -0.265772 -0.929694 -0.377015 -0.643493    3    3    D  \n",
              "2    -0.265772  1.222911 -0.377015  1.456670    4    1    A  \n",
              "3    -0.265772  0.146608 -0.377015  0.406588    3    3    C  \n",
              "4    -1.235507  0.146608 -0.377015  0.406588    3    3    D  \n",
              "...        ...       ...       ...       ...  ...  ...  ...  \n",
              "6103  0.703962 -0.929694 -1.453597 -1.693574    1    3    B  \n",
              "6104 -0.265772  0.146608 -0.377015  0.406588    3    3    A  \n",
              "6105  1.673697  2.299213  1.776149  2.506751    5    2    A  \n",
              "6106  2.643431  0.146608 -0.377015  0.406588    2    3    A  \n",
              "6107  0.703962  0.146608  0.699567  0.406588    3    3    D  \n",
              "\n",
              "[6108 rows x 76 columns]>"
            ]
          },
          "metadata": {},
          "execution_count": 143
        }
      ]
    },
    {
      "cell_type": "markdown",
      "source": [
        "### RobustScaler resistant to outlier values, this is a scaling method. Scaling is done using the median and IQR"
      ],
      "metadata": {
        "id": "zuMeSnqWO5hX"
      }
    },
    {
      "cell_type": "code",
      "source": [
        "from sklearn.preprocessing import RobustScaler\n",
        "scaledDataFrame=questionToMode_df.copy()\n",
        "scaledForm = scaledDataFrame.iloc[:, :73]\n",
        "scaler = RobustScaler()\n",
        "scaledDataFrame.iloc[:, :73]  = scaler.fit_transform(scaledForm)"
      ],
      "metadata": {
        "id": "Cu4DnaEGOl0R",
        "colab": {
          "base_uri": "https://localhost:8080/"
        },
        "outputId": "b311536b-15f1-4868-f0aa-0082029ae66c"
      },
      "execution_count": 144,
      "outputs": [
        {
          "output_type": "stream",
          "name": "stderr",
          "text": [
            "<ipython-input-144-d3a6fdc95d3c>:5: DeprecationWarning: In a future version, `df.iloc[:, i] = newvals` will attempt to set the values inplace instead of always setting a new array. To retain the old behavior, use either `df[df.columns[i]] = newvals` or, if columns are non-unique, `df.isetitem(i, newvals)`\n",
            "  scaledDataFrame.iloc[:, :73]  = scaler.fit_transform(scaledForm)\n"
          ]
        }
      ]
    },
    {
      "cell_type": "code",
      "source": [
        "scaledDataFrame.describe"
      ],
      "metadata": {
        "id": "qPxswWw4OuIK",
        "colab": {
          "base_uri": "https://localhost:8080/"
        },
        "outputId": "6d5e1fab-f9b4-459f-f90e-51cfd13a2ebe"
      },
      "execution_count": 145,
      "outputs": [
        {
          "output_type": "execute_result",
          "data": {
            "text/plain": [
              "<bound method NDFrame.describe of       Unnamed: 0  Q11_1  Q11_2  Q11_3  Q11_4  Q11_5  Q11_6  Q11_7  Q11_8  \\\n",
              "0      -1.000000    0.0    0.0    0.0    0.0    1.0    0.0    0.0    1.0   \n",
              "1      -0.999673    1.0    0.0    0.0    0.0    0.0    0.0    1.0    0.0   \n",
              "2      -0.999345    1.0    1.0    0.0    0.0    0.0    0.0    1.0    1.0   \n",
              "3      -0.999018    0.0    0.0    0.0   -1.0    0.0    0.0    0.0    0.0   \n",
              "4      -0.998690    1.0    1.0    0.0    0.0    0.0    0.0    1.0    1.0   \n",
              "...          ...    ...    ...    ...    ...    ...    ...    ...    ...   \n",
              "6103    0.998690    0.0    1.0    0.0   -1.0    0.0    0.0    1.0    1.0   \n",
              "6104    0.999018    0.0    1.0    0.0    0.0    0.0    0.0    0.0    1.0   \n",
              "6105    0.999345    1.0    0.0    1.0   -1.0    0.0    0.0    0.0    0.0   \n",
              "6106    0.999673    0.0    0.0    1.0   -1.0    0.0    0.0    0.0    1.0   \n",
              "6107    1.000000    1.0    0.0    0.0    0.0    0.0    0.0    0.0    1.0   \n",
              "\n",
              "      Q11_9  ...  Q18_17  Q18_18  Q18_19  Q18_20  Q18_21  Q18_22  Q18_23  Q20  \\\n",
              "0       0.0  ...     1.0     3.0     2.0     3.0     2.0     3.0     2.0    3   \n",
              "1       0.0  ...     0.5     0.0     1.0     0.0    -1.0     0.0    -1.0    3   \n",
              "2       0.0  ...     0.5     2.0     0.0     0.0     1.0     0.0     1.0    4   \n",
              "3       0.0  ...     0.0     0.0     0.0     0.0     0.0     0.0     0.0    3   \n",
              "4       0.0  ...     0.0     0.0    -2.0    -1.0     0.0     0.0     0.0    3   \n",
              "...     ...  ...     ...     ...     ...     ...     ...     ...     ...  ...   \n",
              "6103    1.0  ...    -0.5     0.0     0.0     1.0    -1.0    -1.0    -2.0    1   \n",
              "6104    0.0  ...     0.0     0.0     0.0     0.0     0.0     0.0     0.0    3   \n",
              "6105    0.0  ...     0.5    -1.0     2.0     2.0     2.0     2.0     2.0    5   \n",
              "6106    0.0  ...    -1.0     1.0     1.0     3.0     0.0     0.0     0.0    2   \n",
              "6107    0.0  ...     0.0     1.0     0.0     1.0     0.0     1.0     0.0    3   \n",
              "\n",
              "      Q21  Q16  \n",
              "0       3    A  \n",
              "1       3    D  \n",
              "2       1    A  \n",
              "3       3    C  \n",
              "4       3    D  \n",
              "...   ...  ...  \n",
              "6103    3    B  \n",
              "6104    3    A  \n",
              "6105    2    A  \n",
              "6106    3    A  \n",
              "6107    3    D  \n",
              "\n",
              "[6108 rows x 76 columns]>"
            ]
          },
          "metadata": {},
          "execution_count": 145
        }
      ]
    }
  ],
  "metadata": {
    "colab": {
      "provenance": []
    },
    "kernelspec": {
      "display_name": "Python 3",
      "name": "python3"
    },
    "language_info": {
      "codemirror_mode": {
        "name": "ipython",
        "version": 3
      },
      "file_extension": ".py",
      "mimetype": "text/x-python",
      "name": "python",
      "nbconvert_exporter": "python",
      "pygments_lexer": "ipython3",
      "version": "3.10.4"
    }
  },
  "nbformat": 4,
  "nbformat_minor": 0
}