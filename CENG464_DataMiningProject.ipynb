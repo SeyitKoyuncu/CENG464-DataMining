{
  "cells": [
    {
      "cell_type": "markdown",
      "metadata": {
        "id": "o9Xx0621S0ko"
      },
      "source": [
        "# Import The libaries"
      ]
    },
    {
      "cell_type": "code",
      "execution_count": 106,
      "metadata": {
        "id": "kN7fd5_DS5Mu"
      },
      "outputs": [],
      "source": [
        "import numpy as np\n",
        "import pandas as pd"
      ]
    },
    {
      "cell_type": "markdown",
      "metadata": {
        "id": "3ip3ch6JS8b1"
      },
      "source": [
        "# Read DataSet"
      ]
    },
    {
      "cell_type": "code",
      "execution_count": 107,
      "metadata": {
        "id": "jd-9AFVNS9vR"
      },
      "outputs": [],
      "source": [
        "df = pd.DataFrame(pd.read_csv(\"file1.csv\"))"
      ]
    },
    {
      "cell_type": "code",
      "execution_count": 108,
      "metadata": {
        "colab": {
          "base_uri": "https://localhost:8080/"
        },
        "id": "1xQZ3R7VTGnX",
        "outputId": "052b18ad-322c-46b2-c7a3-1a2ab233268e"
      },
      "outputs": [
        {
          "data": {
            "text/plain": [
              "(Index(['Unnamed: 0', 'Q11_1', 'Q11_2', 'Q11_3', 'Q11_4', 'Q11_5', 'Q11_6',\n",
              "        'Q11_7', 'Q11_8', 'Q11_9', 'Q11_10', 'Q11_11', 'Q11_12', 'Q11_13',\n",
              "        'Q11_Dont_Know', 'Q12_1', 'Q12_2', 'Q12_3', 'Q12_4', 'Q12_5', 'Q12_6',\n",
              "        'Q12_7', 'Q12_8', 'Q12_9', 'Q12_10', 'Q12_11', 'Q12_12', 'Q12_13',\n",
              "        'Q12_14', 'Q12_Dont_Know', 'Q13_1', 'Q13_2', 'Q13_3', 'Q13_4', 'Q13_5',\n",
              "        'Q13_6', 'Q13_7', 'Q13_8', 'Q13_9', 'Q13_10', 'Q13_11', 'Q13_12',\n",
              "        'Q13_13', 'Q13_14', 'Q13_15', 'Q13_16', 'Q13_Dont_Know', 'Q14', 'Q15',\n",
              "        'Q17', 'Q18_1', 'Q18_2', 'Q18_3', 'Q18_4', 'Q18_5', 'Q18_6', 'Q18_7',\n",
              "        'Q18_8', 'Q18_9', 'Q18_10', 'Q18_11', 'Q18_12', 'Q18_13', 'Q18_14',\n",
              "        'Q18_15', 'Q18_16', 'Q18_17', 'Q18_18', 'Q18_19', 'Q18_20', 'Q18_21',\n",
              "        'Q18_22', 'Q18_23', 'Q20', 'Q21', 'Q16'],\n",
              "       dtype='object'),\n",
              " 76)"
            ]
          },
          "execution_count": 108,
          "metadata": {},
          "output_type": "execute_result"
        }
      ],
      "source": [
        "df.columns, len(df.columns)"
      ]
    },
    {
      "cell_type": "code",
      "execution_count": 109,
      "metadata": {
        "colab": {
          "base_uri": "https://localhost:8080/",
          "height": 430
        },
        "id": "dTyDgk96WQ8z",
        "outputId": "b81203d8-23ee-4a74-e869-e50d29346fa3"
      },
      "outputs": [
        {
          "data": {
            "text/html": [
              "<div>\n",
              "<style scoped>\n",
              "    .dataframe tbody tr th:only-of-type {\n",
              "        vertical-align: middle;\n",
              "    }\n",
              "\n",
              "    .dataframe tbody tr th {\n",
              "        vertical-align: top;\n",
              "    }\n",
              "\n",
              "    .dataframe thead th {\n",
              "        text-align: right;\n",
              "    }\n",
              "</style>\n",
              "<table border=\"1\" class=\"dataframe\">\n",
              "  <thead>\n",
              "    <tr style=\"text-align: right;\">\n",
              "      <th></th>\n",
              "      <th>Unnamed: 0</th>\n",
              "      <th>Q11_1</th>\n",
              "      <th>Q11_2</th>\n",
              "      <th>Q11_3</th>\n",
              "      <th>Q11_4</th>\n",
              "      <th>Q11_5</th>\n",
              "      <th>Q11_6</th>\n",
              "      <th>Q11_7</th>\n",
              "      <th>Q11_8</th>\n",
              "      <th>Q11_9</th>\n",
              "      <th>...</th>\n",
              "      <th>Q18_17</th>\n",
              "      <th>Q18_18</th>\n",
              "      <th>Q18_19</th>\n",
              "      <th>Q18_20</th>\n",
              "      <th>Q18_21</th>\n",
              "      <th>Q18_22</th>\n",
              "      <th>Q18_23</th>\n",
              "      <th>Q20</th>\n",
              "      <th>Q21</th>\n",
              "      <th>Q16</th>\n",
              "    </tr>\n",
              "  </thead>\n",
              "  <tbody>\n",
              "    <tr>\n",
              "      <th>0</th>\n",
              "      <td>0</td>\n",
              "      <td>0</td>\n",
              "      <td>0</td>\n",
              "      <td>0</td>\n",
              "      <td>1</td>\n",
              "      <td>1</td>\n",
              "      <td>0</td>\n",
              "      <td>0</td>\n",
              "      <td>1</td>\n",
              "      <td>0</td>\n",
              "      <td>...</td>\n",
              "      <td>5</td>\n",
              "      <td>5</td>\n",
              "      <td>5</td>\n",
              "      <td>5</td>\n",
              "      <td>5</td>\n",
              "      <td>5</td>\n",
              "      <td>5</td>\n",
              "      <td>3</td>\n",
              "      <td>3</td>\n",
              "      <td>A</td>\n",
              "    </tr>\n",
              "    <tr>\n",
              "      <th>1</th>\n",
              "      <td>1</td>\n",
              "      <td>1</td>\n",
              "      <td>0</td>\n",
              "      <td>0</td>\n",
              "      <td>1</td>\n",
              "      <td>0</td>\n",
              "      <td>0</td>\n",
              "      <td>1</td>\n",
              "      <td>0</td>\n",
              "      <td>0</td>\n",
              "      <td>...</td>\n",
              "      <td>4</td>\n",
              "      <td>2</td>\n",
              "      <td>4</td>\n",
              "      <td>2</td>\n",
              "      <td>2</td>\n",
              "      <td>2</td>\n",
              "      <td>2</td>\n",
              "      <td>3</td>\n",
              "      <td>3</td>\n",
              "      <td>D</td>\n",
              "    </tr>\n",
              "    <tr>\n",
              "      <th>2</th>\n",
              "      <td>2</td>\n",
              "      <td>1</td>\n",
              "      <td>1</td>\n",
              "      <td>0</td>\n",
              "      <td>1</td>\n",
              "      <td>0</td>\n",
              "      <td>0</td>\n",
              "      <td>1</td>\n",
              "      <td>1</td>\n",
              "      <td>0</td>\n",
              "      <td>...</td>\n",
              "      <td>4</td>\n",
              "      <td>4</td>\n",
              "      <td>?</td>\n",
              "      <td>?</td>\n",
              "      <td>4</td>\n",
              "      <td>2</td>\n",
              "      <td>4</td>\n",
              "      <td>4</td>\n",
              "      <td>1</td>\n",
              "      <td>A</td>\n",
              "    </tr>\n",
              "    <tr>\n",
              "      <th>3</th>\n",
              "      <td>3</td>\n",
              "      <td>0</td>\n",
              "      <td>0</td>\n",
              "      <td>0</td>\n",
              "      <td>0</td>\n",
              "      <td>0</td>\n",
              "      <td>0</td>\n",
              "      <td>0</td>\n",
              "      <td>0</td>\n",
              "      <td>0</td>\n",
              "      <td>...</td>\n",
              "      <td>?</td>\n",
              "      <td>?</td>\n",
              "      <td>?</td>\n",
              "      <td>?</td>\n",
              "      <td>?</td>\n",
              "      <td>?</td>\n",
              "      <td>?</td>\n",
              "      <td>3</td>\n",
              "      <td>3</td>\n",
              "      <td>C</td>\n",
              "    </tr>\n",
              "    <tr>\n",
              "      <th>4</th>\n",
              "      <td>4</td>\n",
              "      <td>1</td>\n",
              "      <td>1</td>\n",
              "      <td>0</td>\n",
              "      <td>1</td>\n",
              "      <td>0</td>\n",
              "      <td>0</td>\n",
              "      <td>1</td>\n",
              "      <td>1</td>\n",
              "      <td>0</td>\n",
              "      <td>...</td>\n",
              "      <td>?</td>\n",
              "      <td>?</td>\n",
              "      <td>1</td>\n",
              "      <td>1</td>\n",
              "      <td>?</td>\n",
              "      <td>?</td>\n",
              "      <td>?</td>\n",
              "      <td>3</td>\n",
              "      <td>3</td>\n",
              "      <td>D</td>\n",
              "    </tr>\n",
              "    <tr>\n",
              "      <th>5</th>\n",
              "      <td>5</td>\n",
              "      <td>0</td>\n",
              "      <td>1</td>\n",
              "      <td>0</td>\n",
              "      <td>0</td>\n",
              "      <td>0</td>\n",
              "      <td>0</td>\n",
              "      <td>0</td>\n",
              "      <td>0</td>\n",
              "      <td>0</td>\n",
              "      <td>...</td>\n",
              "      <td>4</td>\n",
              "      <td>4</td>\n",
              "      <td>4</td>\n",
              "      <td>4</td>\n",
              "      <td>4</td>\n",
              "      <td>4</td>\n",
              "      <td>4</td>\n",
              "      <td>3</td>\n",
              "      <td>3</td>\n",
              "      <td>B</td>\n",
              "    </tr>\n",
              "    <tr>\n",
              "      <th>6</th>\n",
              "      <td>6</td>\n",
              "      <td>1</td>\n",
              "      <td>0</td>\n",
              "      <td>0</td>\n",
              "      <td>1</td>\n",
              "      <td>1</td>\n",
              "      <td>0</td>\n",
              "      <td>1</td>\n",
              "      <td>1</td>\n",
              "      <td>0</td>\n",
              "      <td>...</td>\n",
              "      <td>5</td>\n",
              "      <td>1</td>\n",
              "      <td>5</td>\n",
              "      <td>3</td>\n",
              "      <td>5</td>\n",
              "      <td>3</td>\n",
              "      <td>3</td>\n",
              "      <td>3</td>\n",
              "      <td>1</td>\n",
              "      <td>A</td>\n",
              "    </tr>\n",
              "    <tr>\n",
              "      <th>7</th>\n",
              "      <td>7</td>\n",
              "      <td>1</td>\n",
              "      <td>0</td>\n",
              "      <td>1</td>\n",
              "      <td>0</td>\n",
              "      <td>1</td>\n",
              "      <td>1</td>\n",
              "      <td>1</td>\n",
              "      <td>0</td>\n",
              "      <td>0</td>\n",
              "      <td>...</td>\n",
              "      <td>3</td>\n",
              "      <td>2</td>\n",
              "      <td>5</td>\n",
              "      <td>5</td>\n",
              "      <td>5</td>\n",
              "      <td>5</td>\n",
              "      <td>5</td>\n",
              "      <td>5</td>\n",
              "      <td>1</td>\n",
              "      <td>A</td>\n",
              "    </tr>\n",
              "    <tr>\n",
              "      <th>8</th>\n",
              "      <td>8</td>\n",
              "      <td>1</td>\n",
              "      <td>1</td>\n",
              "      <td>0</td>\n",
              "      <td>0</td>\n",
              "      <td>0</td>\n",
              "      <td>0</td>\n",
              "      <td>1</td>\n",
              "      <td>1</td>\n",
              "      <td>0</td>\n",
              "      <td>...</td>\n",
              "      <td>2</td>\n",
              "      <td>2</td>\n",
              "      <td>2</td>\n",
              "      <td>2</td>\n",
              "      <td>2</td>\n",
              "      <td>2</td>\n",
              "      <td>3</td>\n",
              "      <td>1</td>\n",
              "      <td>2</td>\n",
              "      <td>A</td>\n",
              "    </tr>\n",
              "    <tr>\n",
              "      <th>9</th>\n",
              "      <td>9</td>\n",
              "      <td>1</td>\n",
              "      <td>0</td>\n",
              "      <td>0</td>\n",
              "      <td>0</td>\n",
              "      <td>0</td>\n",
              "      <td>0</td>\n",
              "      <td>0</td>\n",
              "      <td>0</td>\n",
              "      <td>0</td>\n",
              "      <td>...</td>\n",
              "      <td>4</td>\n",
              "      <td>1</td>\n",
              "      <td>4</td>\n",
              "      <td>1</td>\n",
              "      <td>4</td>\n",
              "      <td>1</td>\n",
              "      <td>1</td>\n",
              "      <td>4</td>\n",
              "      <td>4</td>\n",
              "      <td>A</td>\n",
              "    </tr>\n",
              "  </tbody>\n",
              "</table>\n",
              "<p>10 rows × 76 columns</p>\n",
              "</div>"
            ],
            "text/plain": [
              "   Unnamed: 0  Q11_1  Q11_2  Q11_3  Q11_4  Q11_5  Q11_6  Q11_7  Q11_8  Q11_9  \\\n",
              "0           0      0      0      0      1      1      0      0      1      0   \n",
              "1           1      1      0      0      1      0      0      1      0      0   \n",
              "2           2      1      1      0      1      0      0      1      1      0   \n",
              "3           3      0      0      0      0      0      0      0      0      0   \n",
              "4           4      1      1      0      1      0      0      1      1      0   \n",
              "5           5      0      1      0      0      0      0      0      0      0   \n",
              "6           6      1      0      0      1      1      0      1      1      0   \n",
              "7           7      1      0      1      0      1      1      1      0      0   \n",
              "8           8      1      1      0      0      0      0      1      1      0   \n",
              "9           9      1      0      0      0      0      0      0      0      0   \n",
              "\n",
              "   ...  Q18_17  Q18_18  Q18_19  Q18_20  Q18_21  Q18_22  Q18_23  Q20  Q21  Q16  \n",
              "0  ...       5       5       5       5       5       5       5    3    3    A  \n",
              "1  ...       4       2       4       2       2       2       2    3    3    D  \n",
              "2  ...       4       4       ?       ?       4       2       4    4    1    A  \n",
              "3  ...       ?       ?       ?       ?       ?       ?       ?    3    3    C  \n",
              "4  ...       ?       ?       1       1       ?       ?       ?    3    3    D  \n",
              "5  ...       4       4       4       4       4       4       4    3    3    B  \n",
              "6  ...       5       1       5       3       5       3       3    3    1    A  \n",
              "7  ...       3       2       5       5       5       5       5    5    1    A  \n",
              "8  ...       2       2       2       2       2       2       3    1    2    A  \n",
              "9  ...       4       1       4       1       4       1       1    4    4    A  \n",
              "\n",
              "[10 rows x 76 columns]"
            ]
          },
          "execution_count": 109,
          "metadata": {},
          "output_type": "execute_result"
        }
      ],
      "source": [
        "df.head(10)"
      ]
    },
    {
      "cell_type": "code",
      "execution_count": 110,
      "metadata": {
        "colab": {
          "base_uri": "https://localhost:8080/"
        },
        "id": "0ZqJwVspagIP",
        "outputId": "54200a79-a7be-4b1f-a580-29b856a26f89"
      },
      "outputs": [
        {
          "data": {
            "text/plain": [
              "<bound method NDFrame.describe of       Unnamed: 0  Q11_1  Q11_2  Q11_3  Q11_4  Q11_5  Q11_6  Q11_7  Q11_8  \\\n",
              "0              0      0      0      0      1      1      0      0      1   \n",
              "1              1      1      0      0      1      0      0      1      0   \n",
              "2              2      1      1      0      1      0      0      1      1   \n",
              "3              3      0      0      0      0      0      0      0      0   \n",
              "4              4      1      1      0      1      0      0      1      1   \n",
              "...          ...    ...    ...    ...    ...    ...    ...    ...    ...   \n",
              "6103        6103      0      1      0      0      0      0      1      1   \n",
              "6104        6104      0      1      0      1      0      0      0      1   \n",
              "6105        6105      1      0      1      0      0      0      0      0   \n",
              "6106        6106      0      0      1      0      0      0      0      1   \n",
              "6107        6107      1      0      0      1      0      0      0      1   \n",
              "\n",
              "      Q11_9  ...  Q18_17  Q18_18  Q18_19  Q18_20  Q18_21  Q18_22  Q18_23  Q20  \\\n",
              "0         0  ...       5       5       5       5       5       5       5    3   \n",
              "1         0  ...       4       2       4       2       2       2       2    3   \n",
              "2         0  ...       4       4       ?       ?       4       2       4    4   \n",
              "3         0  ...       ?       ?       ?       ?       ?       ?       ?    3   \n",
              "4         0  ...       ?       ?       1       1       ?       ?       ?    3   \n",
              "...     ...  ...     ...     ...     ...     ...     ...     ...     ...  ...   \n",
              "6103      1  ...       2       2       3       3       2       1       1    1   \n",
              "6104      0  ...       ?       ?       ?       ?       ?       ?       ?    3   \n",
              "6105      0  ...       4       1       5       4       5       4       5    5   \n",
              "6106      0  ...       1       3       4       5       3       2       3    2   \n",
              "6107      0  ...       3       3       3       3       3       3       3    3   \n",
              "\n",
              "      Q21  Q16  \n",
              "0       3    A  \n",
              "1       3    D  \n",
              "2       1    A  \n",
              "3       3    C  \n",
              "4       3    D  \n",
              "...   ...  ...  \n",
              "6103    3    B  \n",
              "6104    3    A  \n",
              "6105    2    A  \n",
              "6106    3    A  \n",
              "6107    3    D  \n",
              "\n",
              "[6108 rows x 76 columns]>"
            ]
          },
          "execution_count": 110,
          "metadata": {},
          "output_type": "execute_result"
        }
      ],
      "source": [
        "df.describe"
      ]
    },
    {
      "cell_type": "markdown",
      "metadata": {
        "id": "Aoa9O5QrWuMb"
      },
      "source": [
        "## All users have to implement:\n",
        "1- EDA PROCESS\n",
        "  Data Cleaning\n",
        "  Scaling, Encoding Falan\n",
        "  Fetaure Selection\n",
        "  Outlier Detection\n",
        "\n",
        "\n",
        "2- 1 ML algorithm 1 DL algorithm"
      ]
    },
    {
      "cell_type": "markdown",
      "metadata": {
        "id": "fbw4uU1EXYml"
      },
      "source": [
        "# Handling NULL Values"
      ]
    },
    {
      "cell_type": "code",
      "execution_count": 111,
      "metadata": {
        "id": "mJitLH0mXhDH"
      },
      "outputs": [],
      "source": [
        "null_df = df.isnull().sum()"
      ]
    },
    {
      "cell_type": "code",
      "execution_count": 112,
      "metadata": {
        "colab": {
          "base_uri": "https://localhost:8080/"
        },
        "id": "G1ex53PmX3n4",
        "outputId": "7643619b-f969-46b5-a8a3-e56eaae74ef6"
      },
      "outputs": [
        {
          "data": {
            "text/plain": [
              "Unnamed: 0    0\n",
              "Q11_1         0\n",
              "Q11_2         0\n",
              "Q11_3         0\n",
              "Q11_4         0\n",
              "             ..\n",
              "Q18_22        0\n",
              "Q18_23        0\n",
              "Q20           0\n",
              "Q21           0\n",
              "Q16           0\n",
              "Length: 76, dtype: int64"
            ]
          },
          "execution_count": 112,
          "metadata": {},
          "output_type": "execute_result"
        }
      ],
      "source": [
        "null_df"
      ]
    },
    {
      "cell_type": "code",
      "execution_count": 113,
      "metadata": {
        "colab": {
          "base_uri": "https://localhost:8080/"
        },
        "id": "P331kpJEdZSS",
        "outputId": "c1506914-762e-4d66-9bcb-9161d4fada90"
      },
      "outputs": [
        {
          "data": {
            "text/plain": [
              "Unnamed: 0       0\n",
              "Q11_1            0\n",
              "Q11_2            0\n",
              "Q11_3            0\n",
              "Q11_4            0\n",
              "Q11_5            0\n",
              "Q11_6            0\n",
              "Q11_7            0\n",
              "Q11_8            0\n",
              "Q11_9            0\n",
              "Q11_10           0\n",
              "Q11_11           0\n",
              "Q11_12           0\n",
              "Q11_13           0\n",
              "Q11_Dont_Know    0\n",
              "Q12_1            0\n",
              "Q12_2            0\n",
              "Q12_3            0\n",
              "Q12_4            0\n",
              "Q12_5            0\n",
              "Q12_6            0\n",
              "Q12_7            0\n",
              "Q12_8            0\n",
              "Q12_9            0\n",
              "Q12_10           0\n",
              "Q12_11           0\n",
              "Q12_12           0\n",
              "Q12_13           0\n",
              "Q12_14           0\n",
              "Q12_Dont_Know    0\n",
              "Q13_1            0\n",
              "Q13_2            0\n",
              "Q13_3            0\n",
              "Q13_4            0\n",
              "Q13_5            0\n",
              "dtype: int64"
            ]
          },
          "execution_count": 113,
          "metadata": {},
          "output_type": "execute_result"
        }
      ],
      "source": [
        "question_mark_cells = df.applymap(lambda x: x == \"?\")\n",
        "question_mark_counts = question_mark_cells.sum(axis = 0)\n",
        "question_mark_counts.head(35)"
      ]
    },
    {
      "cell_type": "code",
      "execution_count": 114,
      "metadata": {
        "colab": {
          "base_uri": "https://localhost:8080/"
        },
        "id": "EqMVev5jdkOk",
        "outputId": "d48c5f45-a702-44bb-b2f6-16aa89e0314b"
      },
      "outputs": [
        {
          "data": {
            "text/plain": [
              "Q13_7               0\n",
              "Q13_8               0\n",
              "Q13_9               0\n",
              "Q13_10              0\n",
              "Q13_11              0\n",
              "Q13_12              0\n",
              "Q13_13              0\n",
              "Q13_14              0\n",
              "Q13_15              0\n",
              "Q13_16              0\n",
              "Q13_Dont_Know       0\n",
              "Q14               422\n",
              "Q15                92\n",
              "Q17               742\n",
              "Q18_1             559\n",
              "Q18_2             889\n",
              "Q18_3            1361\n",
              "Q18_4             801\n",
              "Q18_5            1588\n",
              "Q18_6            1219\n",
              "Q18_7             947\n",
              "Q18_8             712\n",
              "Q18_9            1055\n",
              "Q18_10           1421\n",
              "Q18_11            918\n",
              "Q18_12           1126\n",
              "Q18_13            738\n",
              "Q18_14            787\n",
              "Q18_15           1361\n",
              "Q18_16           1460\n",
              "Q18_17           1216\n",
              "Q18_18           1027\n",
              "Q18_19           1721\n",
              "Q18_20           1098\n",
              "Q18_21           1669\n",
              "Q18_22           1700\n",
              "Q18_23           1451\n",
              "Q20                 0\n",
              "Q21                 0\n",
              "Q16                 0\n",
              "dtype: int64"
            ]
          },
          "execution_count": 114,
          "metadata": {},
          "output_type": "execute_result"
        }
      ],
      "source": [
        "question_mark_counts.tail(40)"
      ]
    },
    {
      "cell_type": "markdown",
      "metadata": {
        "id": "_DXFws5BeCMB"
      },
      "source": [
        "### Method For Filling '?' variabels"
      ]
    },
    {
      "cell_type": "code",
      "execution_count": 115,
      "metadata": {
        "id": "VWhvr4BZeLC2"
      },
      "outputs": [],
      "source": [
        "def FillingQuestionWithMode(df):\n",
        "    questionMarkSet = []\n",
        "    for column in question_mark_cells:\n",
        "        if(isinstance(question_mark_counts[column], np.int64) and question_mark_counts[column] > 0):\n",
        "            questionMarkSet.append(column)\n",
        "\n",
        "    for column in questionMarkSet:\n",
        "        mode_value = df[column].mode().iloc[0]  # Get the first mode in case of multiple modes\n",
        "        if(mode_value == '?'):\n",
        "            df = df.drop(column, axis = 1)\n",
        "        else:\n",
        "            df[column] = df[column].replace('?', mode_value)\n",
        "    return df"
      ]
    },
    {
      "cell_type": "code",
      "execution_count": 116,
      "metadata": {},
      "outputs": [],
      "source": [
        "questionToMode_df = df.copy()\n",
        "questionToMode_df = FillingQuestionWithMode(questionToMode_df)"
      ]
    },
    {
      "cell_type": "code",
      "execution_count": 120,
      "metadata": {
        "colab": {
          "base_uri": "https://localhost:8080/",
          "height": 373
        },
        "id": "jGNxnnElfUM0",
        "outputId": "fdd5c22b-47f3-4feb-c4b8-5ee518aaae4f"
      },
      "outputs": [
        {
          "data": {
            "text/plain": [
              "Q12_10           0\n",
              "Q12_11           0\n",
              "Q12_12           0\n",
              "Q12_13           0\n",
              "Q12_14           0\n",
              "Q12_Dont_Know    0\n",
              "Q13_1            0\n",
              "Q13_2            0\n",
              "Q13_3            0\n",
              "Q13_4            0\n",
              "Q13_5            0\n",
              "Q13_6            0\n",
              "Q13_7            0\n",
              "Q13_8            0\n",
              "Q13_9            0\n",
              "Q13_10           0\n",
              "Q13_11           0\n",
              "Q13_12           0\n",
              "Q13_13           0\n",
              "Q13_14           0\n",
              "Q13_15           0\n",
              "Q13_16           0\n",
              "Q13_Dont_Know    0\n",
              "Q14              0\n",
              "Q15              0\n",
              "Q17              0\n",
              "Q18_1            0\n",
              "Q18_2            0\n",
              "Q18_3            0\n",
              "Q18_4            0\n",
              "Q18_5            0\n",
              "Q18_6            0\n",
              "Q18_7            0\n",
              "Q18_8            0\n",
              "Q18_9            0\n",
              "Q18_10           0\n",
              "Q18_11           0\n",
              "Q18_12           0\n",
              "Q18_13           0\n",
              "Q18_14           0\n",
              "Q18_15           0\n",
              "Q18_16           0\n",
              "Q18_17           0\n",
              "Q18_18           0\n",
              "Q18_20           0\n",
              "Q18_21           0\n",
              "Q18_23           0\n",
              "Q20              0\n",
              "Q21              0\n",
              "Q16              0\n",
              "dtype: int64"
            ]
          },
          "execution_count": 120,
          "metadata": {},
          "output_type": "execute_result"
        }
      ],
      "source": [
        "question_mark_cells = questionToMode_df.applymap(lambda x: x == \"?\")\n",
        "question_mark_cells.sum().tail(50)"
      ]
    },
    {
      "cell_type": "code",
      "execution_count": 121,
      "metadata": {},
      "outputs": [
        {
          "data": {
            "text/plain": [
              "Unnamed: 0       0\n",
              "Q11_1            0\n",
              "Q11_2            0\n",
              "Q11_3            0\n",
              "Q11_4            0\n",
              "Q11_5            0\n",
              "Q11_6            0\n",
              "Q11_7            0\n",
              "Q11_8            0\n",
              "Q11_9            0\n",
              "Q11_10           0\n",
              "Q11_11           0\n",
              "Q11_12           0\n",
              "Q11_13           0\n",
              "Q11_Dont_Know    0\n",
              "Q12_1            0\n",
              "Q12_2            0\n",
              "Q12_3            0\n",
              "Q12_4            0\n",
              "Q12_5            0\n",
              "Q12_6            0\n",
              "Q12_7            0\n",
              "Q12_8            0\n",
              "Q12_9            0\n",
              "Q12_10           0\n",
              "dtype: int64"
            ]
          },
          "execution_count": 121,
          "metadata": {},
          "output_type": "execute_result"
        }
      ],
      "source": [
        "question_mark_cells.sum().head(25)"
      ]
    },
    {
      "cell_type": "code",
      "execution_count": 124,
      "metadata": {
        "id": "Tejck1XpfWIQ"
      },
      "outputs": [
        {
          "name": "stdout",
          "output_type": "stream",
          "text": [
            "Default DF lenght = 76\n",
            "Question marks filling and dropped columns which's mode equals to '?' lenght 74\n"
          ]
        }
      ],
      "source": [
        "print(f\"Default DF lenght = {len(df.columns)}\")\n",
        "print(f\"Question marks filling and dropped columns which's mode equals to '?' lenght {len(questionToMode_df.columns)}\")"
      ]
    },
    {
      "cell_type": "code",
      "execution_count": null,
      "metadata": {},
      "outputs": [],
      "source": []
    }
  ],
  "metadata": {
    "colab": {
      "provenance": []
    },
    "kernelspec": {
      "display_name": "Python 3",
      "name": "python3"
    },
    "language_info": {
      "codemirror_mode": {
        "name": "ipython",
        "version": 3
      },
      "file_extension": ".py",
      "mimetype": "text/x-python",
      "name": "python",
      "nbconvert_exporter": "python",
      "pygments_lexer": "ipython3",
      "version": "3.10.4"
    }
  },
  "nbformat": 4,
  "nbformat_minor": 0
}
