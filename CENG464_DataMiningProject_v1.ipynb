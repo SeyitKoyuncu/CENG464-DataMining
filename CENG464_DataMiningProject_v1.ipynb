{
  "cells": [
    {
      "cell_type": "markdown",
      "metadata": {
        "id": "o9Xx0621S0ko"
      },
      "source": [
        "# Import The libaries"
      ]
    },
    {
      "cell_type": "code",
      "execution_count": 1,
      "metadata": {
        "id": "kN7fd5_DS5Mu"
      },
      "outputs": [],
      "source": [
        "import numpy as np\n",
        "import pandas as pd\n",
        "import matplotlib.pyplot as plt\n",
        "import seaborn as sns"
      ]
    },
    {
      "cell_type": "markdown",
      "metadata": {
        "id": "3ip3ch6JS8b1"
      },
      "source": [
        "# Read DataSet"
      ]
    },
    {
      "cell_type": "code",
      "execution_count": 2,
      "metadata": {
        "id": "jd-9AFVNS9vR"
      },
      "outputs": [],
      "source": [
        "df = pd.DataFrame(pd.read_csv(\"file1.csv\"))"
      ]
    },
    {
      "cell_type": "code",
      "execution_count": 5,
      "metadata": {
        "colab": {
          "base_uri": "https://localhost:8080/"
        },
        "id": "1xQZ3R7VTGnX",
        "outputId": "846bbe34-156a-465b-9444-6f7c2ceecfae"
      },
      "outputs": [
        {
          "data": {
            "text/plain": [
              "(Index(['Unnamed: 0', 'Q11_1', 'Q11_2', 'Q11_3', 'Q11_4', 'Q11_5', 'Q11_6',\n",
              "        'Q11_7', 'Q11_8', 'Q11_9', 'Q11_10', 'Q11_11', 'Q11_12', 'Q11_13',\n",
              "        'Q11_Dont_Know', 'Q12_1', 'Q12_2', 'Q12_3', 'Q12_4', 'Q12_5', 'Q12_6',\n",
              "        'Q12_7', 'Q12_8', 'Q12_9', 'Q12_10', 'Q12_11', 'Q12_12', 'Q12_13',\n",
              "        'Q12_14', 'Q12_Dont_Know', 'Q13_1', 'Q13_2', 'Q13_3', 'Q13_4', 'Q13_5',\n",
              "        'Q13_6', 'Q13_7', 'Q13_8', 'Q13_9', 'Q13_10', 'Q13_11', 'Q13_12',\n",
              "        'Q13_13', 'Q13_14', 'Q13_15', 'Q13_16', 'Q13_Dont_Know', 'Q14', 'Q15',\n",
              "        'Q17', 'Q18_1', 'Q18_2', 'Q18_3', 'Q18_4', 'Q18_5', 'Q18_6', 'Q18_7',\n",
              "        'Q18_8', 'Q18_9', 'Q18_10', 'Q18_11', 'Q18_12', 'Q18_13', 'Q18_14',\n",
              "        'Q18_15', 'Q18_16', 'Q18_17', 'Q18_18', 'Q18_19', 'Q18_20', 'Q18_21',\n",
              "        'Q18_22', 'Q18_23', 'Q20', 'Q21', 'Q16'],\n",
              "       dtype='object'),\n",
              " 76)"
            ]
          },
          "execution_count": 5,
          "metadata": {},
          "output_type": "execute_result"
        }
      ],
      "source": [
        "df.columns, len(df.columns)"
      ]
    },
    {
      "cell_type": "code",
      "execution_count": 6,
      "metadata": {
        "colab": {
          "base_uri": "https://localhost:8080/",
          "height": 392
        },
        "id": "dTyDgk96WQ8z",
        "outputId": "6c634032-8220-41a9-a62e-927dad571410"
      },
      "outputs": [
        {
          "data": {
            "text/html": [
              "<div>\n",
              "<style scoped>\n",
              "    .dataframe tbody tr th:only-of-type {\n",
              "        vertical-align: middle;\n",
              "    }\n",
              "\n",
              "    .dataframe tbody tr th {\n",
              "        vertical-align: top;\n",
              "    }\n",
              "\n",
              "    .dataframe thead th {\n",
              "        text-align: right;\n",
              "    }\n",
              "</style>\n",
              "<table border=\"1\" class=\"dataframe\">\n",
              "  <thead>\n",
              "    <tr style=\"text-align: right;\">\n",
              "      <th></th>\n",
              "      <th>Unnamed: 0</th>\n",
              "      <th>Q11_1</th>\n",
              "      <th>Q11_2</th>\n",
              "      <th>Q11_3</th>\n",
              "      <th>Q11_4</th>\n",
              "      <th>Q11_5</th>\n",
              "      <th>Q11_6</th>\n",
              "      <th>Q11_7</th>\n",
              "      <th>Q11_8</th>\n",
              "      <th>Q11_9</th>\n",
              "      <th>...</th>\n",
              "      <th>Q18_17</th>\n",
              "      <th>Q18_18</th>\n",
              "      <th>Q18_19</th>\n",
              "      <th>Q18_20</th>\n",
              "      <th>Q18_21</th>\n",
              "      <th>Q18_22</th>\n",
              "      <th>Q18_23</th>\n",
              "      <th>Q20</th>\n",
              "      <th>Q21</th>\n",
              "      <th>Q16</th>\n",
              "    </tr>\n",
              "  </thead>\n",
              "  <tbody>\n",
              "    <tr>\n",
              "      <th>0</th>\n",
              "      <td>0</td>\n",
              "      <td>0</td>\n",
              "      <td>0</td>\n",
              "      <td>0</td>\n",
              "      <td>1</td>\n",
              "      <td>1</td>\n",
              "      <td>0</td>\n",
              "      <td>0</td>\n",
              "      <td>1</td>\n",
              "      <td>0</td>\n",
              "      <td>...</td>\n",
              "      <td>5</td>\n",
              "      <td>5</td>\n",
              "      <td>5</td>\n",
              "      <td>5</td>\n",
              "      <td>5</td>\n",
              "      <td>5</td>\n",
              "      <td>5</td>\n",
              "      <td>3</td>\n",
              "      <td>3</td>\n",
              "      <td>A</td>\n",
              "    </tr>\n",
              "    <tr>\n",
              "      <th>1</th>\n",
              "      <td>1</td>\n",
              "      <td>1</td>\n",
              "      <td>0</td>\n",
              "      <td>0</td>\n",
              "      <td>1</td>\n",
              "      <td>0</td>\n",
              "      <td>0</td>\n",
              "      <td>1</td>\n",
              "      <td>0</td>\n",
              "      <td>0</td>\n",
              "      <td>...</td>\n",
              "      <td>4</td>\n",
              "      <td>2</td>\n",
              "      <td>4</td>\n",
              "      <td>2</td>\n",
              "      <td>2</td>\n",
              "      <td>2</td>\n",
              "      <td>2</td>\n",
              "      <td>3</td>\n",
              "      <td>3</td>\n",
              "      <td>D</td>\n",
              "    </tr>\n",
              "    <tr>\n",
              "      <th>2</th>\n",
              "      <td>2</td>\n",
              "      <td>1</td>\n",
              "      <td>1</td>\n",
              "      <td>0</td>\n",
              "      <td>1</td>\n",
              "      <td>0</td>\n",
              "      <td>0</td>\n",
              "      <td>1</td>\n",
              "      <td>1</td>\n",
              "      <td>0</td>\n",
              "      <td>...</td>\n",
              "      <td>4</td>\n",
              "      <td>4</td>\n",
              "      <td>?</td>\n",
              "      <td>?</td>\n",
              "      <td>4</td>\n",
              "      <td>2</td>\n",
              "      <td>4</td>\n",
              "      <td>4</td>\n",
              "      <td>1</td>\n",
              "      <td>A</td>\n",
              "    </tr>\n",
              "    <tr>\n",
              "      <th>3</th>\n",
              "      <td>3</td>\n",
              "      <td>0</td>\n",
              "      <td>0</td>\n",
              "      <td>0</td>\n",
              "      <td>0</td>\n",
              "      <td>0</td>\n",
              "      <td>0</td>\n",
              "      <td>0</td>\n",
              "      <td>0</td>\n",
              "      <td>0</td>\n",
              "      <td>...</td>\n",
              "      <td>?</td>\n",
              "      <td>?</td>\n",
              "      <td>?</td>\n",
              "      <td>?</td>\n",
              "      <td>?</td>\n",
              "      <td>?</td>\n",
              "      <td>?</td>\n",
              "      <td>3</td>\n",
              "      <td>3</td>\n",
              "      <td>C</td>\n",
              "    </tr>\n",
              "    <tr>\n",
              "      <th>4</th>\n",
              "      <td>4</td>\n",
              "      <td>1</td>\n",
              "      <td>1</td>\n",
              "      <td>0</td>\n",
              "      <td>1</td>\n",
              "      <td>0</td>\n",
              "      <td>0</td>\n",
              "      <td>1</td>\n",
              "      <td>1</td>\n",
              "      <td>0</td>\n",
              "      <td>...</td>\n",
              "      <td>?</td>\n",
              "      <td>?</td>\n",
              "      <td>1</td>\n",
              "      <td>1</td>\n",
              "      <td>?</td>\n",
              "      <td>?</td>\n",
              "      <td>?</td>\n",
              "      <td>3</td>\n",
              "      <td>3</td>\n",
              "      <td>D</td>\n",
              "    </tr>\n",
              "    <tr>\n",
              "      <th>5</th>\n",
              "      <td>5</td>\n",
              "      <td>0</td>\n",
              "      <td>1</td>\n",
              "      <td>0</td>\n",
              "      <td>0</td>\n",
              "      <td>0</td>\n",
              "      <td>0</td>\n",
              "      <td>0</td>\n",
              "      <td>0</td>\n",
              "      <td>0</td>\n",
              "      <td>...</td>\n",
              "      <td>4</td>\n",
              "      <td>4</td>\n",
              "      <td>4</td>\n",
              "      <td>4</td>\n",
              "      <td>4</td>\n",
              "      <td>4</td>\n",
              "      <td>4</td>\n",
              "      <td>3</td>\n",
              "      <td>3</td>\n",
              "      <td>B</td>\n",
              "    </tr>\n",
              "    <tr>\n",
              "      <th>6</th>\n",
              "      <td>6</td>\n",
              "      <td>1</td>\n",
              "      <td>0</td>\n",
              "      <td>0</td>\n",
              "      <td>1</td>\n",
              "      <td>1</td>\n",
              "      <td>0</td>\n",
              "      <td>1</td>\n",
              "      <td>1</td>\n",
              "      <td>0</td>\n",
              "      <td>...</td>\n",
              "      <td>5</td>\n",
              "      <td>1</td>\n",
              "      <td>5</td>\n",
              "      <td>3</td>\n",
              "      <td>5</td>\n",
              "      <td>3</td>\n",
              "      <td>3</td>\n",
              "      <td>3</td>\n",
              "      <td>1</td>\n",
              "      <td>A</td>\n",
              "    </tr>\n",
              "    <tr>\n",
              "      <th>7</th>\n",
              "      <td>7</td>\n",
              "      <td>1</td>\n",
              "      <td>0</td>\n",
              "      <td>1</td>\n",
              "      <td>0</td>\n",
              "      <td>1</td>\n",
              "      <td>1</td>\n",
              "      <td>1</td>\n",
              "      <td>0</td>\n",
              "      <td>0</td>\n",
              "      <td>...</td>\n",
              "      <td>3</td>\n",
              "      <td>2</td>\n",
              "      <td>5</td>\n",
              "      <td>5</td>\n",
              "      <td>5</td>\n",
              "      <td>5</td>\n",
              "      <td>5</td>\n",
              "      <td>5</td>\n",
              "      <td>1</td>\n",
              "      <td>A</td>\n",
              "    </tr>\n",
              "    <tr>\n",
              "      <th>8</th>\n",
              "      <td>8</td>\n",
              "      <td>1</td>\n",
              "      <td>1</td>\n",
              "      <td>0</td>\n",
              "      <td>0</td>\n",
              "      <td>0</td>\n",
              "      <td>0</td>\n",
              "      <td>1</td>\n",
              "      <td>1</td>\n",
              "      <td>0</td>\n",
              "      <td>...</td>\n",
              "      <td>2</td>\n",
              "      <td>2</td>\n",
              "      <td>2</td>\n",
              "      <td>2</td>\n",
              "      <td>2</td>\n",
              "      <td>2</td>\n",
              "      <td>3</td>\n",
              "      <td>1</td>\n",
              "      <td>2</td>\n",
              "      <td>A</td>\n",
              "    </tr>\n",
              "    <tr>\n",
              "      <th>9</th>\n",
              "      <td>9</td>\n",
              "      <td>1</td>\n",
              "      <td>0</td>\n",
              "      <td>0</td>\n",
              "      <td>0</td>\n",
              "      <td>0</td>\n",
              "      <td>0</td>\n",
              "      <td>0</td>\n",
              "      <td>0</td>\n",
              "      <td>0</td>\n",
              "      <td>...</td>\n",
              "      <td>4</td>\n",
              "      <td>1</td>\n",
              "      <td>4</td>\n",
              "      <td>1</td>\n",
              "      <td>4</td>\n",
              "      <td>1</td>\n",
              "      <td>1</td>\n",
              "      <td>4</td>\n",
              "      <td>4</td>\n",
              "      <td>A</td>\n",
              "    </tr>\n",
              "  </tbody>\n",
              "</table>\n",
              "<p>10 rows × 76 columns</p>\n",
              "</div>"
            ],
            "text/plain": [
              "   Unnamed: 0  Q11_1  Q11_2  Q11_3  Q11_4  Q11_5  Q11_6  Q11_7  Q11_8  Q11_9  \\\n",
              "0           0      0      0      0      1      1      0      0      1      0   \n",
              "1           1      1      0      0      1      0      0      1      0      0   \n",
              "2           2      1      1      0      1      0      0      1      1      0   \n",
              "3           3      0      0      0      0      0      0      0      0      0   \n",
              "4           4      1      1      0      1      0      0      1      1      0   \n",
              "5           5      0      1      0      0      0      0      0      0      0   \n",
              "6           6      1      0      0      1      1      0      1      1      0   \n",
              "7           7      1      0      1      0      1      1      1      0      0   \n",
              "8           8      1      1      0      0      0      0      1      1      0   \n",
              "9           9      1      0      0      0      0      0      0      0      0   \n",
              "\n",
              "   ...  Q18_17  Q18_18  Q18_19  Q18_20  Q18_21  Q18_22  Q18_23  Q20  Q21  Q16  \n",
              "0  ...       5       5       5       5       5       5       5    3    3    A  \n",
              "1  ...       4       2       4       2       2       2       2    3    3    D  \n",
              "2  ...       4       4       ?       ?       4       2       4    4    1    A  \n",
              "3  ...       ?       ?       ?       ?       ?       ?       ?    3    3    C  \n",
              "4  ...       ?       ?       1       1       ?       ?       ?    3    3    D  \n",
              "5  ...       4       4       4       4       4       4       4    3    3    B  \n",
              "6  ...       5       1       5       3       5       3       3    3    1    A  \n",
              "7  ...       3       2       5       5       5       5       5    5    1    A  \n",
              "8  ...       2       2       2       2       2       2       3    1    2    A  \n",
              "9  ...       4       1       4       1       4       1       1    4    4    A  \n",
              "\n",
              "[10 rows x 76 columns]"
            ]
          },
          "execution_count": 6,
          "metadata": {},
          "output_type": "execute_result"
        }
      ],
      "source": [
        "df.head(10)"
      ]
    },
    {
      "cell_type": "code",
      "execution_count": 5,
      "metadata": {
        "colab": {
          "base_uri": "https://localhost:8080/"
        },
        "id": "0ZqJwVspagIP",
        "outputId": "41092043-41f0-49fb-e53a-41f631ed8694"
      },
      "outputs": [
        {
          "data": {
            "text/plain": [
              "<bound method NDFrame.describe of       Unnamed: 0  Q11_1  Q11_2  Q11_3  Q11_4  Q11_5  Q11_6  Q11_7  Q11_8  \\\n",
              "0              0      0      0      0      1      1      0      0      1   \n",
              "1              1      1      0      0      1      0      0      1      0   \n",
              "2              2      1      1      0      1      0      0      1      1   \n",
              "3              3      0      0      0      0      0      0      0      0   \n",
              "4              4      1      1      0      1      0      0      1      1   \n",
              "...          ...    ...    ...    ...    ...    ...    ...    ...    ...   \n",
              "6103        6103      0      1      0      0      0      0      1      1   \n",
              "6104        6104      0      1      0      1      0      0      0      1   \n",
              "6105        6105      1      0      1      0      0      0      0      0   \n",
              "6106        6106      0      0      1      0      0      0      0      1   \n",
              "6107        6107      1      0      0      1      0      0      0      1   \n",
              "\n",
              "      Q11_9  ...  Q18_17  Q18_18  Q18_19  Q18_20  Q18_21  Q18_22  Q18_23  Q20  \\\n",
              "0         0  ...       5       5       5       5       5       5       5    3   \n",
              "1         0  ...       4       2       4       2       2       2       2    3   \n",
              "2         0  ...       4       4       ?       ?       4       2       4    4   \n",
              "3         0  ...       ?       ?       ?       ?       ?       ?       ?    3   \n",
              "4         0  ...       ?       ?       1       1       ?       ?       ?    3   \n",
              "...     ...  ...     ...     ...     ...     ...     ...     ...     ...  ...   \n",
              "6103      1  ...       2       2       3       3       2       1       1    1   \n",
              "6104      0  ...       ?       ?       ?       ?       ?       ?       ?    3   \n",
              "6105      0  ...       4       1       5       4       5       4       5    5   \n",
              "6106      0  ...       1       3       4       5       3       2       3    2   \n",
              "6107      0  ...       3       3       3       3       3       3       3    3   \n",
              "\n",
              "      Q21  Q16  \n",
              "0       3    A  \n",
              "1       3    D  \n",
              "2       1    A  \n",
              "3       3    C  \n",
              "4       3    D  \n",
              "...   ...  ...  \n",
              "6103    3    B  \n",
              "6104    3    A  \n",
              "6105    2    A  \n",
              "6106    3    A  \n",
              "6107    3    D  \n",
              "\n",
              "[6108 rows x 76 columns]>"
            ]
          },
          "execution_count": 5,
          "metadata": {},
          "output_type": "execute_result"
        }
      ],
      "source": [
        "df.describe"
      ]
    },
    {
      "cell_type": "markdown",
      "metadata": {
        "id": "VMuVgQS_WP__"
      },
      "source": []
    },
    {
      "cell_type": "markdown",
      "metadata": {
        "id": "lrBig6ByWP__"
      },
      "source": [
        "### Check the target column values"
      ]
    },
    {
      "cell_type": "code",
      "execution_count": 3,
      "metadata": {
        "colab": {
          "base_uri": "https://localhost:8080/",
          "height": 519
        },
        "id": "U_bPh_XfWP__",
        "outputId": "1539fa5b-20e3-4d74-fb29-b242b2729173"
      },
      "outputs": [
        {
          "name": "stdout",
          "output_type": "stream",
          "text": [
            "['A' 'D' 'C' 'B']\n"
          ]
        },
        {
          "data": {
            "image/png": "[encoded data removed]",
            "text/plain": [
              "<Figure size 432x288 with 1 Axes>"
            ]
          },
          "metadata": {
            "needs_background": "light"
          },
          "output_type": "display_data"
        },
        {
          "name": "stdout",
          "output_type": "stream",
          "text": [
            "Lenght of A's 2883\n",
            "Lenght of B's 1526\n",
            "Lenght of C's 892\n",
            "Lenght of D's 807\n"
          ]
        }
      ],
      "source": [
        "print(df['Q16'].unique())\n",
        "class_distribution = {'Class A': len(df[df['Q16'] == 'A'].value_counts()), 'Class B': len(df[df['Q16'] == 'B'].value_counts()), 'Class C': len(df[df['Q16'] == 'C'].value_counts()), 'Class D': len(df[df['Q16'] == 'D'].value_counts())}\n",
        "\n",
        "sns.barplot(x=list(class_distribution.keys()), y=list(class_distribution.values()))\n",
        "plt.show()\n",
        "print(f\"Lenght of A's {len(df[df['Q16'] == 'A'].value_counts())}\")\n",
        "print(f\"Lenght of B's {len(df[df['Q16'] == 'B'].value_counts())}\")\n",
        "print(f\"Lenght of C's {len(df[df['Q16'] == 'C'].value_counts())}\")\n",
        "print(f\"Lenght of D's {len(df[df['Q16'] == 'D'].value_counts())}\")"
      ]
    },
    {
      "cell_type": "markdown",
      "metadata": {
        "id": "PL_UL5IdWQAA"
      },
      "source": [
        "## Convert String Targets To The Countable Data"
      ]
    },
    {
      "cell_type": "code",
      "execution_count": 3,
      "metadata": {
        "colab": {
          "base_uri": "https://localhost:8080/"
        },
        "id": "b-NPN1doWQAA",
        "outputId": "c1a8fa4a-2f4c-417d-989c-cbac40d86aa0"
      },
      "outputs": [
        {
          "name": "stdout",
          "output_type": "stream",
          "text": [
            "['A' 'D' 'C' 'B']\n"
          ]
        },
        {
          "name": "stderr",
          "output_type": "stream",
          "text": [
            "C:\\Users\\AMD\\AppData\\Local\\Temp\\ipykernel_27484\\3392180124.py:3: SettingWithCopyWarning: \n",
            "A value is trying to be set on a copy of a slice from a DataFrame\n",
            "\n",
            "See the caveats in the documentation: https://pandas.pydata.org/pandas-docs/stable/user_guide/indexing.html#returning-a-view-versus-a-copy\n",
            "  if(df['Q16'][i] == 'A'): df['Q16'][i] = 0\n",
            "C:\\Users\\AMD\\AppData\\Local\\Temp\\ipykernel_27484\\3392180124.py:6: SettingWithCopyWarning: \n",
            "A value is trying to be set on a copy of a slice from a DataFrame\n",
            "\n",
            "See the caveats in the documentation: https://pandas.pydata.org/pandas-docs/stable/user_guide/indexing.html#returning-a-view-versus-a-copy\n",
            "  elif(df['Q16'][i] == 'D'): df['Q16'][i] = 3\n",
            "C:\\Users\\AMD\\AppData\\Local\\Temp\\ipykernel_27484\\3392180124.py:5: SettingWithCopyWarning: \n",
            "A value is trying to be set on a copy of a slice from a DataFrame\n",
            "\n",
            "See the caveats in the documentation: https://pandas.pydata.org/pandas-docs/stable/user_guide/indexing.html#returning-a-view-versus-a-copy\n",
            "  elif(df['Q16'][i] == 'C'): df['Q16'][i] = 2\n",
            "C:\\Users\\AMD\\AppData\\Local\\Temp\\ipykernel_27484\\3392180124.py:4: SettingWithCopyWarning: \n",
            "A value is trying to be set on a copy of a slice from a DataFrame\n",
            "\n",
            "See the caveats in the documentation: https://pandas.pydata.org/pandas-docs/stable/user_guide/indexing.html#returning-a-view-versus-a-copy\n",
            "  elif(df['Q16'][i] == 'B'): df['Q16'][i] = 1\n"
          ]
        },
        {
          "name": "stdout",
          "output_type": "stream",
          "text": [
            "[0 3 2 1]\n"
          ]
        }
      ],
      "source": [
        "print(df['Q16'].unique())\n",
        "for i in range(len(df['Q16'])):\n",
        "    if(df['Q16'][i] == 'A'): df['Q16'][i] = 0\n",
        "    elif(df['Q16'][i] == 'B'): df['Q16'][i] = 1\n",
        "    elif(df['Q16'][i] == 'C'): df['Q16'][i] = 2\n",
        "    elif(df['Q16'][i] == 'D'): df['Q16'][i] = 3\n",
        "\n",
        "print(df['Q16'].unique())"
      ]
    },
    {
      "cell_type": "code",
      "execution_count": 4,
      "metadata": {
        "colab": {
          "base_uri": "https://localhost:8080/"
        },
        "id": "Lol9VrQiWQAB",
        "outputId": "881b05f8-bbdc-413a-cf19-4b93a4821c3f"
      },
      "outputs": [
        {
          "name": "stdout",
          "output_type": "stream",
          "text": [
            "Lenght of 0's 2883\n",
            "Lenght of 1's 1526\n",
            "Lenght of 2's 892\n",
            "Lenght of 3's 807\n"
          ]
        }
      ],
      "source": [
        "def PrintTheTargetColumnsRange(df):\n",
        "    print(f\"Lenght of 0's {len(df[df['Q16'] == 0])}\")\n",
        "    print(f\"Lenght of 1's {len(df[df['Q16'] == 1])}\")\n",
        "    print(f\"Lenght of 2's {len(df[df['Q16'] == 2])}\")\n",
        "    print(f\"Lenght of 3's {len(df[df['Q16'] == 3])}\")\n",
        "\n",
        "PrintTheTargetColumnsRange(df)"
      ]
    },
    {
      "cell_type": "markdown",
      "metadata": {
        "id": "KUf9LT6ndQib"
      },
      "source": [
        "### Check the DataTypes of all columns"
      ]
    },
    {
      "cell_type": "code",
      "execution_count": 9,
      "metadata": {
        "colab": {
          "base_uri": "https://localhost:8080/"
        },
        "id": "DBBTGps-dV9M",
        "outputId": "4e006fab-1b32-4f2f-f2e2-a18f9b3c0b22"
      },
      "outputs": [
        {
          "data": {
            "text/plain": [
              "Unnamed: 0     int64\n",
              "Q11_1          int64\n",
              "Q11_2          int64\n",
              "Q11_3          int64\n",
              "Q11_4          int64\n",
              "               ...  \n",
              "Q18_22        object\n",
              "Q18_23        object\n",
              "Q20            int64\n",
              "Q21            int64\n",
              "Q16           object\n",
              "Length: 76, dtype: object"
            ]
          },
          "execution_count": 9,
          "metadata": {},
          "output_type": "execute_result"
        }
      ],
      "source": [
        "df.dtypes"
      ]
    },
    {
      "cell_type": "markdown",
      "metadata": {
        "id": "ujrYjBlUWQAC"
      },
      "source": [
        "## Check The Uniqes of Columns"
      ]
    },
    {
      "cell_type": "code",
      "execution_count": 5,
      "metadata": {
        "colab": {
          "base_uri": "https://localhost:8080/"
        },
        "id": "jXZwRWKhWQAC",
        "outputId": "31f8123b-79ec-4bf9-e49d-4d8c58618528"
      },
      "outputs": [
        {
          "name": "stdout",
          "output_type": "stream",
          "text": [
            "Q11_1 = [0 1]\n",
            "Q11_2 = [0 1]\n",
            "Q11_3 = [0 1]\n",
            "Q11_4 = [1 0]\n",
            "Q11_5 = [1 0]\n",
            "Q11_6 = [0 1]\n",
            "Q11_7 = [0 1]\n",
            "Q11_8 = [1 0]\n",
            "Q11_9 = [0 1]\n",
            "Q11_10 = [0 1]\n",
            "Q11_11 = [1 0]\n",
            "Q11_12 = [0 1]\n",
            "Q11_13 = [0 1]\n",
            "Q11_Dont_Know = [0 1]\n",
            "Q12_1 = [0 1]\n",
            "Q12_2 = [0 1]\n",
            "Q12_3 = [1 0]\n",
            "Q12_4 = [1 0]\n",
            "Q12_5 = [0 1]\n",
            "Q12_6 = [0 1]\n",
            "Q12_7 = [0 1]\n",
            "Q12_8 = [1 0]\n",
            "Q12_9 = [0 1]\n",
            "Q12_10 = [0 1]\n",
            "Q12_11 = [1 0]\n",
            "Q12_12 = [0 1]\n",
            "Q12_13 = [0 1]\n",
            "Q12_14 = [0 1]\n",
            "Q12_Dont_Know = [0 1]\n",
            "Q13_1 = [0 1]\n",
            "Q13_2 = [0 1]\n",
            "Q13_3 = [1 0]\n",
            "Q13_4 = [0 1]\n",
            "Q13_5 = [1 0]\n",
            "Q13_6 = [0 1]\n",
            "Q13_7 = [0 1]\n",
            "Q13_8 = [0 1]\n",
            "Q13_9 = [1 0]\n",
            "Q13_10 = [0 1]\n",
            "Q13_11 = [0 1]\n",
            "Q13_12 = [0 1]\n",
            "Q13_13 = [1 0]\n",
            "Q13_14 = [1 0]\n",
            "Q13_15 = [0 1]\n",
            "Q13_16 = [0 1]\n",
            "Q13_Dont_Know = [0 1]\n",
            "Q14 = ['1' '3' '?' '2' '4' '5']\n",
            "Q15 = ['2' '1' '?']\n",
            "Q17 = ['3' '1' '?' '2' '4' '5']\n",
            "Q18_1 = ['5' '4' '?' '2' '3' '1']\n",
            "Q18_2 = ['5' '3' '?' '4' '1' '2']\n",
            "Q18_3 = ['5' '2' '4' '?' '3' '1']\n",
            "Q18_4 = ['5' '4' '?' '3' '2' '1']\n",
            "Q18_5 = ['5' '3' '4' '?' '2' '1']\n",
            "Q18_6 = ['5' '2' '4' '?' '3' '1']\n",
            "Q18_7 = ['5' '2' '4' '?' '1' '3']\n",
            "Q18_8 = ['5' '3' '4' '?' '2' '1']\n",
            "Q18_9 = ['5' '3' '4' '?' '2' '1']\n",
            "Q18_10 = ['5' '3' '4' '?' '2' '1']\n",
            "Q18_11 = ['5' '2' '?' '4' '1' '3']\n",
            "Q18_12 = ['5' '1' '4' '?' '3' '2']\n",
            "Q18_13 = ['5' '2' '?' '4' '3' '1']\n",
            "Q18_14 = ['5' '4' '?' '3' '2' '1']\n",
            "Q18_15 = ['5' '2' '?' '4' '3' '1']\n",
            "Q18_16 = ['5' '2' '?' '4' '1' '3']\n",
            "Q18_17 = ['5' '4' '?' '3' '2' '1']\n",
            "Q18_18 = ['5' '2' '4' '?' '1' '3']\n",
            "Q18_19 = ['5' '4' '?' '1' '2' '3']\n",
            "Q18_20 = ['5' '2' '?' '1' '4' '3']\n",
            "Q18_21 = ['5' '2' '4' '?' '3' '1']\n",
            "Q18_22 = ['5' '2' '?' '4' '3' '1']\n",
            "Q18_23 = ['5' '2' '4' '?' '3' '1']\n",
            "Q20 = [3 4 5 1 2]\n",
            "Q21 = [3 1 2 4 5]\n",
            "Q16 = [0 3 2 1]\n"
          ]
        }
      ],
      "source": [
        "for column in df.columns:\n",
        "    if column != 'Unnamed: 0':\n",
        "        print(f\"{column} = {df[column].unique()}\")"
      ]
    },
    {
      "cell_type": "markdown",
      "metadata": {
        "id": "fbw4uU1EXYml"
      },
      "source": [
        "# Handling NULL Values"
      ]
    },
    {
      "cell_type": "code",
      "execution_count": 11,
      "metadata": {
        "id": "mJitLH0mXhDH"
      },
      "outputs": [],
      "source": [
        "null_df = df.isnull().sum()"
      ]
    },
    {
      "cell_type": "code",
      "execution_count": 12,
      "metadata": {
        "colab": {
          "base_uri": "https://localhost:8080/"
        },
        "id": "G1ex53PmX3n4",
        "outputId": "b331bf89-fac1-4917-af8b-53840408e9d4"
      },
      "outputs": [
        {
          "data": {
            "text/plain": [
              "Unnamed: 0    0\n",
              "Q11_1         0\n",
              "Q11_2         0\n",
              "Q11_3         0\n",
              "Q11_4         0\n",
              "             ..\n",
              "Q18_22        0\n",
              "Q18_23        0\n",
              "Q20           0\n",
              "Q21           0\n",
              "Q16           0\n",
              "Length: 76, dtype: int64"
            ]
          },
          "execution_count": 12,
          "metadata": {},
          "output_type": "execute_result"
        }
      ],
      "source": [
        "null_df"
      ]
    },
    {
      "cell_type": "code",
      "execution_count": 6,
      "metadata": {
        "colab": {
          "base_uri": "https://localhost:8080/"
        },
        "id": "P331kpJEdZSS",
        "outputId": "4f83ac38-61d2-4509-abb9-952324770c69"
      },
      "outputs": [
        {
          "data": {
            "text/plain": [
              "Unnamed: 0       0\n",
              "Q11_1            0\n",
              "Q11_2            0\n",
              "Q11_3            0\n",
              "Q11_4            0\n",
              "Q11_5            0\n",
              "Q11_6            0\n",
              "Q11_7            0\n",
              "Q11_8            0\n",
              "Q11_9            0\n",
              "Q11_10           0\n",
              "Q11_11           0\n",
              "Q11_12           0\n",
              "Q11_13           0\n",
              "Q11_Dont_Know    0\n",
              "Q12_1            0\n",
              "Q12_2            0\n",
              "Q12_3            0\n",
              "Q12_4            0\n",
              "Q12_5            0\n",
              "Q12_6            0\n",
              "Q12_7            0\n",
              "Q12_8            0\n",
              "Q12_9            0\n",
              "Q12_10           0\n",
              "Q12_11           0\n",
              "Q12_12           0\n",
              "Q12_13           0\n",
              "Q12_14           0\n",
              "Q12_Dont_Know    0\n",
              "Q13_1            0\n",
              "Q13_2            0\n",
              "Q13_3            0\n",
              "Q13_4            0\n",
              "Q13_5            0\n",
              "dtype: int64"
            ]
          },
          "execution_count": 6,
          "metadata": {},
          "output_type": "execute_result"
        }
      ],
      "source": [
        "question_mark_cells = df.applymap(lambda x: x == \"?\")\n",
        "question_mark_counts = question_mark_cells.sum(axis = 0)\n",
        "question_mark_counts.head(35)"
      ]
    },
    {
      "cell_type": "code",
      "execution_count": 14,
      "metadata": {
        "colab": {
          "base_uri": "https://localhost:8080/"
        },
        "id": "EqMVev5jdkOk",
        "outputId": "fe936551-9f3c-47f5-9297-0abdbfa92f87"
      },
      "outputs": [
        {
          "data": {
            "text/plain": [
              "Q13_7               0\n",
              "Q13_8               0\n",
              "Q13_9               0\n",
              "Q13_10              0\n",
              "Q13_11              0\n",
              "Q13_12              0\n",
              "Q13_13              0\n",
              "Q13_14              0\n",
              "Q13_15              0\n",
              "Q13_16              0\n",
              "Q13_Dont_Know       0\n",
              "Q14               422\n",
              "Q15                92\n",
              "Q17               742\n",
              "Q18_1             559\n",
              "Q18_2             889\n",
              "Q18_3            1361\n",
              "Q18_4             801\n",
              "Q18_5            1588\n",
              "Q18_6            1219\n",
              "Q18_7             947\n",
              "Q18_8             712\n",
              "Q18_9            1055\n",
              "Q18_10           1421\n",
              "Q18_11            918\n",
              "Q18_12           1126\n",
              "Q18_13            738\n",
              "Q18_14            787\n",
              "Q18_15           1361\n",
              "Q18_16           1460\n",
              "Q18_17           1216\n",
              "Q18_18           1027\n",
              "Q18_19           1721\n",
              "Q18_20           1098\n",
              "Q18_21           1669\n",
              "Q18_22           1700\n",
              "Q18_23           1451\n",
              "Q20                 0\n",
              "Q21                 0\n",
              "Q16                 0\n",
              "dtype: int64"
            ]
          },
          "execution_count": 14,
          "metadata": {},
          "output_type": "execute_result"
        }
      ],
      "source": [
        "question_mark_counts.tail(40)"
      ]
    },
    {
      "cell_type": "markdown",
      "metadata": {
        "id": "_DXFws5BeCMB"
      },
      "source": [
        "### Method For Filling '?' variabels"
      ]
    },
    {
      "cell_type": "code",
      "execution_count": 7,
      "metadata": {
        "id": "VWhvr4BZeLC2"
      },
      "outputs": [],
      "source": [
        "def FillingQuestionWithMode(df):\n",
        "    result = \"\"\n",
        "    questionMarkSet = []\n",
        "    for column in question_mark_cells:\n",
        "        if(isinstance(question_mark_counts[column], np.int64) and question_mark_counts[column] > 0):\n",
        "            questionMarkSet.append(column)\n",
        "\n",
        "    for column in questionMarkSet:\n",
        "        mode_value = df[column].mode().iloc[0]  # Get the first mode in case of multiple modes\n",
        "        if(mode_value == '?'):\n",
        "            df[column] = df[column].replace('?', round(pd.to_numeric(df[column], errors='coerce').mean()))\n",
        "            result = result + f\"This {column} mode is '?' so filling with average of column {round(pd.to_numeric(df[column], errors='coerce').mean())}.\\n\"\n",
        "        else:\n",
        "            df[column] = df[column].replace('?', mode_value)\n",
        "    return df, result"
      ]
    },
    {
      "cell_type": "code",
      "execution_count": 8,
      "metadata": {
        "colab": {
          "base_uri": "https://localhost:8080/"
        },
        "id": "BAZrp5VsKLBI",
        "outputId": "8f511cd6-3808-4f83-f9ab-bf0b4a236e18"
      },
      "outputs": [
        {
          "name": "stdout",
          "output_type": "stream",
          "text": [
            "This Q18_19 mode is '?' so filling with average of column 3.\n",
            "This Q18_22 mode is '?' so filling with average of column 2.\n",
            "\n"
          ]
        }
      ],
      "source": [
        "questionToMode_df = df.copy()\n",
        "questionToMode_df, result = FillingQuestionWithMode(questionToMode_df)\n",
        "print(result)"
      ]
    },
    {
      "cell_type": "code",
      "execution_count": 9,
      "metadata": {
        "colab": {
          "base_uri": "https://localhost:8080/"
        },
        "id": "jGNxnnElfUM0",
        "outputId": "509b03be-7055-4b35-d9ad-d1d2d38ceb4e"
      },
      "outputs": [
        {
          "data": {
            "text/plain": [
              "Q12_12           0\n",
              "Q12_13           0\n",
              "Q12_14           0\n",
              "Q12_Dont_Know    0\n",
              "Q13_1            0\n",
              "Q13_2            0\n",
              "Q13_3            0\n",
              "Q13_4            0\n",
              "Q13_5            0\n",
              "Q13_6            0\n",
              "Q13_7            0\n",
              "Q13_8            0\n",
              "Q13_9            0\n",
              "Q13_10           0\n",
              "Q13_11           0\n",
              "Q13_12           0\n",
              "Q13_13           0\n",
              "Q13_14           0\n",
              "Q13_15           0\n",
              "Q13_16           0\n",
              "Q13_Dont_Know    0\n",
              "Q14              0\n",
              "Q15              0\n",
              "Q17              0\n",
              "Q18_1            0\n",
              "Q18_2            0\n",
              "Q18_3            0\n",
              "Q18_4            0\n",
              "Q18_5            0\n",
              "Q18_6            0\n",
              "Q18_7            0\n",
              "Q18_8            0\n",
              "Q18_9            0\n",
              "Q18_10           0\n",
              "Q18_11           0\n",
              "Q18_12           0\n",
              "Q18_13           0\n",
              "Q18_14           0\n",
              "Q18_15           0\n",
              "Q18_16           0\n",
              "Q18_17           0\n",
              "Q18_18           0\n",
              "Q18_19           0\n",
              "Q18_20           0\n",
              "Q18_21           0\n",
              "Q18_22           0\n",
              "Q18_23           0\n",
              "Q20              0\n",
              "Q21              0\n",
              "Q16              0\n",
              "dtype: int64"
            ]
          },
          "execution_count": 9,
          "metadata": {},
          "output_type": "execute_result"
        }
      ],
      "source": [
        "question_mark_cells = questionToMode_df.applymap(lambda x: x == \"?\")\n",
        "question_mark_cells.sum().tail(50)"
      ]
    },
    {
      "cell_type": "code",
      "execution_count": 18,
      "metadata": {
        "colab": {
          "base_uri": "https://localhost:8080/"
        },
        "id": "fuB3hJflKLBJ",
        "outputId": "ebe74636-8e5d-4a65-b959-ab5bc6dd4bbe"
      },
      "outputs": [
        {
          "data": {
            "text/plain": [
              "Unnamed: 0       0\n",
              "Q11_1            0\n",
              "Q11_2            0\n",
              "Q11_3            0\n",
              "Q11_4            0\n",
              "Q11_5            0\n",
              "Q11_6            0\n",
              "Q11_7            0\n",
              "Q11_8            0\n",
              "Q11_9            0\n",
              "Q11_10           0\n",
              "Q11_11           0\n",
              "Q11_12           0\n",
              "Q11_13           0\n",
              "Q11_Dont_Know    0\n",
              "Q12_1            0\n",
              "Q12_2            0\n",
              "Q12_3            0\n",
              "Q12_4            0\n",
              "Q12_5            0\n",
              "Q12_6            0\n",
              "Q12_7            0\n",
              "Q12_8            0\n",
              "Q12_9            0\n",
              "Q12_10           0\n",
              "dtype: int64"
            ]
          },
          "execution_count": 18,
          "metadata": {},
          "output_type": "execute_result"
        }
      ],
      "source": [
        "question_mark_cells.sum().head(25)"
      ]
    },
    {
      "cell_type": "markdown",
      "metadata": {
        "id": "p0k1QJwwd0n5"
      },
      "source": [
        "### Change Data Types to NumpyInt64"
      ]
    },
    {
      "cell_type": "code",
      "execution_count": 10,
      "metadata": {
        "id": "ooUXDDnVd3ea"
      },
      "outputs": [],
      "source": [
        "for column in questionToMode_df:\n",
        "  try:\n",
        "    questionToMode_df[column] = questionToMode_df[column].astype('int64')\n",
        "  except:\n",
        "    continue"
      ]
    },
    {
      "cell_type": "code",
      "execution_count": 20,
      "metadata": {
        "colab": {
          "base_uri": "https://localhost:8080/"
        },
        "id": "E7gfW0z1WQAF",
        "outputId": "8cf940ce-287d-425a-8a61-70bc7987302f"
      },
      "outputs": [
        {
          "data": {
            "text/plain": [
              "Unnamed: 0       int64\n",
              "Q11_1            int64\n",
              "Q11_2            int64\n",
              "Q11_3            int64\n",
              "Q11_4            int64\n",
              "Q11_5            int64\n",
              "Q11_6            int64\n",
              "Q11_7            int64\n",
              "Q11_8            int64\n",
              "Q11_9            int64\n",
              "Q11_10           int64\n",
              "Q11_11           int64\n",
              "Q11_12           int64\n",
              "Q11_13           int64\n",
              "Q11_Dont_Know    int64\n",
              "Q12_1            int64\n",
              "Q12_2            int64\n",
              "Q12_3            int64\n",
              "Q12_4            int64\n",
              "Q12_5            int64\n",
              "Q12_6            int64\n",
              "Q12_7            int64\n",
              "Q12_8            int64\n",
              "Q12_9            int64\n",
              "Q12_10           int64\n",
              "Q12_11           int64\n",
              "Q12_12           int64\n",
              "Q12_13           int64\n",
              "Q12_14           int64\n",
              "Q12_Dont_Know    int64\n",
              "Q13_1            int64\n",
              "Q13_2            int64\n",
              "Q13_3            int64\n",
              "Q13_4            int64\n",
              "Q13_5            int64\n",
              "Q13_6            int64\n",
              "Q13_7            int64\n",
              "Q13_8            int64\n",
              "Q13_9            int64\n",
              "Q13_10           int64\n",
              "Q13_11           int64\n",
              "Q13_12           int64\n",
              "Q13_13           int64\n",
              "Q13_14           int64\n",
              "Q13_15           int64\n",
              "Q13_16           int64\n",
              "Q13_Dont_Know    int64\n",
              "Q14              int64\n",
              "Q15              int64\n",
              "Q17              int64\n",
              "dtype: object"
            ]
          },
          "execution_count": 20,
          "metadata": {},
          "output_type": "execute_result"
        }
      ],
      "source": [
        "questionToMode_df.dtypes.head(50)"
      ]
    },
    {
      "cell_type": "code",
      "execution_count": 21,
      "metadata": {
        "colab": {
          "base_uri": "https://localhost:8080/"
        },
        "id": "TH11bDMhWQAF",
        "outputId": "b79b60bb-66d9-4e4b-8639-758e6b745e8f"
      },
      "outputs": [
        {
          "data": {
            "text/plain": [
              "Q18_2     int64\n",
              "Q18_3     int64\n",
              "Q18_4     int64\n",
              "Q18_5     int64\n",
              "Q18_6     int64\n",
              "Q18_7     int64\n",
              "Q18_8     int64\n",
              "Q18_9     int64\n",
              "Q18_10    int64\n",
              "Q18_11    int64\n",
              "Q18_12    int64\n",
              "Q18_13    int64\n",
              "Q18_14    int64\n",
              "Q18_15    int64\n",
              "Q18_16    int64\n",
              "Q18_17    int64\n",
              "Q18_18    int64\n",
              "Q18_19    int64\n",
              "Q18_20    int64\n",
              "Q18_21    int64\n",
              "Q18_22    int64\n",
              "Q18_23    int64\n",
              "Q20       int64\n",
              "Q21       int64\n",
              "Q16       int64\n",
              "dtype: object"
            ]
          },
          "execution_count": 21,
          "metadata": {},
          "output_type": "execute_result"
        }
      ],
      "source": [
        "questionToMode_df.dtypes.tail(25)"
      ]
    },
    {
      "cell_type": "markdown",
      "metadata": {
        "id": "lIud2itKK-oW"
      },
      "source": [
        "### Check Missing Values"
      ]
    },
    {
      "cell_type": "code",
      "execution_count": 22,
      "metadata": {
        "colab": {
          "base_uri": "https://localhost:8080/"
        },
        "id": "-Iste_2gKVqa",
        "outputId": "cf1fb506-98cc-4afb-866c-f53a2f38ee46"
      },
      "outputs": [
        {
          "data": {
            "text/plain": [
              "Unnamed: 0    0\n",
              "Q11_1         0\n",
              "Q11_2         0\n",
              "Q11_3         0\n",
              "Q11_4         0\n",
              "             ..\n",
              "Q18_22        0\n",
              "Q18_23        0\n",
              "Q20           0\n",
              "Q21           0\n",
              "Q16           0\n",
              "Length: 76, dtype: int64"
            ]
          },
          "execution_count": 22,
          "metadata": {},
          "output_type": "execute_result"
        }
      ],
      "source": [
        "questionToMode_df.isnull().sum()"
      ]
    },
    {
      "cell_type": "markdown",
      "metadata": {
        "id": "jLcyT_iCLwHF"
      },
      "source": [
        "### Describtion of Dataset After Handling Null Values"
      ]
    },
    {
      "cell_type": "code",
      "execution_count": 23,
      "metadata": {
        "colab": {
          "base_uri": "https://localhost:8080/",
          "height": 329
        },
        "id": "votWtuR5LZGz",
        "outputId": "485537a8-dbca-4251-fea2-58408e5dad69"
      },
      "outputs": [
        {
          "data": {
            "text/html": [
              "\n",
              "  <div id=\"df-3b2e0b28-9589-44c3-b43c-2cda153cc486\" class=\"colab-df-container\">\n",
              "    <div>\n",
              "<style scoped>\n",
              "    .dataframe tbody tr th:only-of-type {\n",
              "        vertical-align: middle;\n",
              "    }\n",
              "\n",
              "    .dataframe tbody tr th {\n",
              "        vertical-align: top;\n",
              "    }\n",
              "\n",
              "    .dataframe thead th {\n",
              "        text-align: right;\n",
              "    }\n",
              "</style>\n",
              "<table border=\"1\" class=\"dataframe\">\n",
              "  <thead>\n",
              "    <tr style=\"text-align: right;\">\n",
              "      <th></th>\n",
              "      <th>Unnamed: 0</th>\n",
              "      <th>Q11_1</th>\n",
              "      <th>Q11_2</th>\n",
              "      <th>Q11_3</th>\n",
              "      <th>Q11_4</th>\n",
              "      <th>Q11_5</th>\n",
              "      <th>Q11_6</th>\n",
              "      <th>Q11_7</th>\n",
              "      <th>Q11_8</th>\n",
              "      <th>Q11_9</th>\n",
              "      <th>...</th>\n",
              "      <th>Q18_17</th>\n",
              "      <th>Q18_18</th>\n",
              "      <th>Q18_19</th>\n",
              "      <th>Q18_20</th>\n",
              "      <th>Q18_21</th>\n",
              "      <th>Q18_22</th>\n",
              "      <th>Q18_23</th>\n",
              "      <th>Q20</th>\n",
              "      <th>Q21</th>\n",
              "      <th>Q16</th>\n",
              "    </tr>\n",
              "  </thead>\n",
              "  <tbody>\n",
              "    <tr>\n",
              "      <th>count</th>\n",
              "      <td>6108.000000</td>\n",
              "      <td>6108.000000</td>\n",
              "      <td>6108.000000</td>\n",
              "      <td>6108.000000</td>\n",
              "      <td>6108.000000</td>\n",
              "      <td>6108.000000</td>\n",
              "      <td>6108.000000</td>\n",
              "      <td>6108.000000</td>\n",
              "      <td>6108.000000</td>\n",
              "      <td>6108.000000</td>\n",
              "      <td>...</td>\n",
              "      <td>6108.000000</td>\n",
              "      <td>6108.000000</td>\n",
              "      <td>6108.000000</td>\n",
              "      <td>6108.000000</td>\n",
              "      <td>6108.000000</td>\n",
              "      <td>6108.000000</td>\n",
              "      <td>6108.000000</td>\n",
              "      <td>6108.000000</td>\n",
              "      <td>6108.000000</td>\n",
              "      <td>6108.000000</td>\n",
              "    </tr>\n",
              "    <tr>\n",
              "      <th>mean</th>\n",
              "      <td>3053.500000</td>\n",
              "      <td>0.479044</td>\n",
              "      <td>0.295678</td>\n",
              "      <td>0.178782</td>\n",
              "      <td>0.584152</td>\n",
              "      <td>0.280779</td>\n",
              "      <td>0.089555</td>\n",
              "      <td>0.379993</td>\n",
              "      <td>0.302227</td>\n",
              "      <td>0.076130</td>\n",
              "      <td>...</td>\n",
              "      <td>3.034217</td>\n",
              "      <td>2.200557</td>\n",
              "      <td>3.046005</td>\n",
              "      <td>2.274067</td>\n",
              "      <td>2.863785</td>\n",
              "      <td>2.350196</td>\n",
              "      <td>2.612803</td>\n",
              "      <td>2.870825</td>\n",
              "      <td>2.596758</td>\n",
              "      <td>0.938278</td>\n",
              "    </tr>\n",
              "    <tr>\n",
              "      <th>std</th>\n",
              "      <td>1763.372054</td>\n",
              "      <td>0.499602</td>\n",
              "      <td>0.456384</td>\n",
              "      <td>0.383201</td>\n",
              "      <td>0.492908</td>\n",
              "      <td>0.449417</td>\n",
              "      <td>0.285566</td>\n",
              "      <td>0.485425</td>\n",
              "      <td>0.459261</td>\n",
              "      <td>0.265227</td>\n",
              "      <td>...</td>\n",
              "      <td>1.013568</td>\n",
              "      <td>0.940799</td>\n",
              "      <td>0.969493</td>\n",
              "      <td>1.031295</td>\n",
              "      <td>0.929183</td>\n",
              "      <td>0.928942</td>\n",
              "      <td>0.952385</td>\n",
              "      <td>0.811442</td>\n",
              "      <td>0.834790</td>\n",
              "      <td>1.069068</td>\n",
              "    </tr>\n",
              "    <tr>\n",
              "      <th>min</th>\n",
              "      <td>0.000000</td>\n",
              "      <td>0.000000</td>\n",
              "      <td>0.000000</td>\n",
              "      <td>0.000000</td>\n",
              "      <td>0.000000</td>\n",
              "      <td>0.000000</td>\n",
              "      <td>0.000000</td>\n",
              "      <td>0.000000</td>\n",
              "      <td>0.000000</td>\n",
              "      <td>0.000000</td>\n",
              "      <td>...</td>\n",
              "      <td>1.000000</td>\n",
              "      <td>1.000000</td>\n",
              "      <td>1.000000</td>\n",
              "      <td>1.000000</td>\n",
              "      <td>1.000000</td>\n",
              "      <td>1.000000</td>\n",
              "      <td>1.000000</td>\n",
              "      <td>1.000000</td>\n",
              "      <td>1.000000</td>\n",
              "      <td>0.000000</td>\n",
              "    </tr>\n",
              "    <tr>\n",
              "      <th>25%</th>\n",
              "      <td>1526.750000</td>\n",
              "      <td>0.000000</td>\n",
              "      <td>0.000000</td>\n",
              "      <td>0.000000</td>\n",
              "      <td>0.000000</td>\n",
              "      <td>0.000000</td>\n",
              "      <td>0.000000</td>\n",
              "      <td>0.000000</td>\n",
              "      <td>0.000000</td>\n",
              "      <td>0.000000</td>\n",
              "      <td>...</td>\n",
              "      <td>2.000000</td>\n",
              "      <td>2.000000</td>\n",
              "      <td>3.000000</td>\n",
              "      <td>2.000000</td>\n",
              "      <td>2.000000</td>\n",
              "      <td>2.000000</td>\n",
              "      <td>2.000000</td>\n",
              "      <td>3.000000</td>\n",
              "      <td>2.000000</td>\n",
              "      <td>0.000000</td>\n",
              "    </tr>\n",
              "    <tr>\n",
              "      <th>50%</th>\n",
              "      <td>3053.500000</td>\n",
              "      <td>0.000000</td>\n",
              "      <td>0.000000</td>\n",
              "      <td>0.000000</td>\n",
              "      <td>1.000000</td>\n",
              "      <td>0.000000</td>\n",
              "      <td>0.000000</td>\n",
              "      <td>0.000000</td>\n",
              "      <td>0.000000</td>\n",
              "      <td>0.000000</td>\n",
              "      <td>...</td>\n",
              "      <td>3.000000</td>\n",
              "      <td>2.000000</td>\n",
              "      <td>3.000000</td>\n",
              "      <td>2.000000</td>\n",
              "      <td>3.000000</td>\n",
              "      <td>2.000000</td>\n",
              "      <td>3.000000</td>\n",
              "      <td>3.000000</td>\n",
              "      <td>3.000000</td>\n",
              "      <td>1.000000</td>\n",
              "    </tr>\n",
              "    <tr>\n",
              "      <th>75%</th>\n",
              "      <td>4580.250000</td>\n",
              "      <td>1.000000</td>\n",
              "      <td>1.000000</td>\n",
              "      <td>0.000000</td>\n",
              "      <td>1.000000</td>\n",
              "      <td>1.000000</td>\n",
              "      <td>0.000000</td>\n",
              "      <td>1.000000</td>\n",
              "      <td>1.000000</td>\n",
              "      <td>0.000000</td>\n",
              "      <td>...</td>\n",
              "      <td>4.000000</td>\n",
              "      <td>3.000000</td>\n",
              "      <td>4.000000</td>\n",
              "      <td>3.000000</td>\n",
              "      <td>3.000000</td>\n",
              "      <td>3.000000</td>\n",
              "      <td>3.000000</td>\n",
              "      <td>3.000000</td>\n",
              "      <td>3.000000</td>\n",
              "      <td>2.000000</td>\n",
              "    </tr>\n",
              "    <tr>\n",
              "      <th>max</th>\n",
              "      <td>6107.000000</td>\n",
              "      <td>1.000000</td>\n",
              "      <td>1.000000</td>\n",
              "      <td>1.000000</td>\n",
              "      <td>1.000000</td>\n",
              "      <td>1.000000</td>\n",
              "      <td>1.000000</td>\n",
              "      <td>1.000000</td>\n",
              "      <td>1.000000</td>\n",
              "      <td>1.000000</td>\n",
              "      <td>...</td>\n",
              "      <td>5.000000</td>\n",
              "      <td>5.000000</td>\n",
              "      <td>5.000000</td>\n",
              "      <td>5.000000</td>\n",
              "      <td>5.000000</td>\n",
              "      <td>5.000000</td>\n",
              "      <td>5.000000</td>\n",
              "      <td>5.000000</td>\n",
              "      <td>5.000000</td>\n",
              "      <td>3.000000</td>\n",
              "    </tr>\n",
              "  </tbody>\n",
              "</table>\n",
              "<p>8 rows × 76 columns</p>\n",
              "</div>\n",
              "    <div class=\"colab-df-buttons\">\n",
              "\n",
              "  <div class=\"colab-df-container\">\n",
              "    <button class=\"colab-df-convert\" onclick=\"convertToInteractive('df-3b2e0b28-9589-44c3-b43c-2cda153cc486')\"\n",
              "            title=\"Convert this dataframe to an interactive table.\"\n",
              "            style=\"display:none;\">\n",
              "\n",
              "  <svg xmlns=\"http://www.w3.org/2000/svg\" height=\"24px\" viewBox=\"0 -960 960 960\">\n",
              "    <path d=\"M120-120v-720h720v720H120Zm60-500h600v-160H180v160Zm220 220h160v-160H400v160Zm0 220h160v-160H400v160ZM180-400h160v-160H180v160Zm440 0h160v-160H620v160ZM180-180h160v-160H180v160Zm440 0h160v-160H620v160Z\"/>\n",
              "  </svg>\n",
              "    </button>\n",
              "\n",
              "  <style>\n",
              "    .colab-df-container {\n",
              "      display:flex;\n",
              "      gap: 12px;\n",
              "    }\n",
              "\n",
              "    .colab-df-convert {\n",
              "      background-color: #E8F0FE;\n",
              "      border: none;\n",
              "      border-radius: 50%;\n",
              "      cursor: pointer;\n",
              "      display: none;\n",
              "      fill: #1967D2;\n",
              "      height: 32px;\n",
              "      padding: 0 0 0 0;\n",
              "      width: 32px;\n",
              "    }\n",
              "\n",
              "    .colab-df-convert:hover {\n",
              "      background-color: #E2EBFA;\n",
              "      box-shadow: 0px 1px 2px rgba(60, 64, 67, 0.3), 0px 1px 3px 1px rgba(60, 64, 67, 0.15);\n",
              "      fill: #174EA6;\n",
              "    }\n",
              "\n",
              "    .colab-df-buttons div {\n",
              "      margin-bottom: 4px;\n",
              "    }\n",
              "\n",
              "    [theme=dark] .colab-df-convert {\n",
              "      background-color: #3B4455;\n",
              "      fill: #D2E3FC;\n",
              "    }\n",
              "\n",
              "    [theme=dark] .colab-df-convert:hover {\n",
              "      background-color: #434B5C;\n",
              "      box-shadow: 0px 1px 3px 1px rgba(0, 0, 0, 0.15);\n",
              "      filter: drop-shadow(0px 1px 2px rgba(0, 0, 0, 0.3));\n",
              "      fill: #FFFFFF;\n",
              "    }\n",
              "  </style>\n",
              "\n",
              "    <script>\n",
              "      const buttonEl =\n",
              "        document.querySelector('#df-3b2e0b28-9589-44c3-b43c-2cda153cc486 button.colab-df-convert');\n",
              "      buttonEl.style.display =\n",
              "        google.colab.kernel.accessAllowed ? 'block' : 'none';\n",
              "\n",
              "      async function convertToInteractive(key) {\n",
              "        const element = document.querySelector('#df-3b2e0b28-9589-44c3-b43c-2cda153cc486');\n",
              "        const dataTable =\n",
              "          await google.colab.kernel.invokeFunction('convertToInteractive',\n",
              "                                                    [key], {});\n",
              "        if (!dataTable) return;\n",
              "\n",
              "        const docLinkHtml = 'Like what you see? Visit the ' +\n",
              "          '<a target=\"_blank\" href=https://colab.research.google.com/notebooks/data_table.ipynb>data table notebook</a>'\n",
              "          + ' to learn more about interactive tables.';\n",
              "        element.innerHTML = '';\n",
              "        dataTable['output_type'] = 'display_data';\n",
              "        await google.colab.output.renderOutput(dataTable, element);\n",
              "        const docLink = document.createElement('div');\n",
              "        docLink.innerHTML = docLinkHtml;\n",
              "        element.appendChild(docLink);\n",
              "      }\n",
              "    </script>\n",
              "  </div>\n",
              "\n",
              "\n",
              "<div id=\"df-4db601eb-4fc3-4b3a-904e-929d9b7fb23e\">\n",
              "  <button class=\"colab-df-quickchart\" onclick=\"quickchart('df-4db601eb-4fc3-4b3a-904e-929d9b7fb23e')\"\n",
              "            title=\"Suggest charts\"\n",
              "            style=\"display:none;\">\n",
              "\n",
              "<svg xmlns=\"http://www.w3.org/2000/svg\" height=\"24px\"viewBox=\"0 0 24 24\"\n",
              "     width=\"24px\">\n",
              "    <g>\n",
              "        <path d=\"M19 3H5c-1.1 0-2 .9-2 2v14c0 1.1.9 2 2 2h14c1.1 0 2-.9 2-2V5c0-1.1-.9-2-2-2zM9 17H7v-7h2v7zm4 0h-2V7h2v10zm4 0h-2v-4h2v4z\"/>\n",
              "    </g>\n",
              "</svg>\n",
              "  </button>\n",
              "\n",
              "<style>\n",
              "  .colab-df-quickchart {\n",
              "      --bg-color: #E8F0FE;\n",
              "      --fill-color: #1967D2;\n",
              "      --hover-bg-color: #E2EBFA;\n",
              "      --hover-fill-color: #174EA6;\n",
              "      --disabled-fill-color: #AAA;\n",
              "      --disabled-bg-color: #DDD;\n",
              "  }\n",
              "\n",
              "  [theme=dark] .colab-df-quickchart {\n",
              "      --bg-color: #3B4455;\n",
              "      --fill-color: #D2E3FC;\n",
              "      --hover-bg-color: #434B5C;\n",
              "      --hover-fill-color: #FFFFFF;\n",
              "      --disabled-bg-color: #3B4455;\n",
              "      --disabled-fill-color: #666;\n",
              "  }\n",
              "\n",
              "  .colab-df-quickchart {\n",
              "    background-color: var(--bg-color);\n",
              "    border: none;\n",
              "    border-radius: 50%;\n",
              "    cursor: pointer;\n",
              "    display: none;\n",
              "    fill: var(--fill-color);\n",
              "    height: 32px;\n",
              "    padding: 0;\n",
              "    width: 32px;\n",
              "  }\n",
              "\n",
              "  .colab-df-quickchart:hover {\n",
              "    background-color: var(--hover-bg-color);\n",
              "    box-shadow: 0 1px 2px rgba(60, 64, 67, 0.3), 0 1px 3px 1px rgba(60, 64, 67, 0.15);\n",
              "    fill: var(--button-hover-fill-color);\n",
              "  }\n",
              "\n",
              "  .colab-df-quickchart-complete:disabled,\n",
              "  .colab-df-quickchart-complete:disabled:hover {\n",
              "    background-color: var(--disabled-bg-color);\n",
              "    fill: var(--disabled-fill-color);\n",
              "    box-shadow: none;\n",
              "  }\n",
              "\n",
              "  .colab-df-spinner {\n",
              "    border: 2px solid var(--fill-color);\n",
              "    border-color: transparent;\n",
              "    border-bottom-color: var(--fill-color);\n",
              "    animation:\n",
              "      spin 1s steps(1) infinite;\n",
              "  }\n",
              "\n",
              "  @keyframes spin {\n",
              "    0% {\n",
              "      border-color: transparent;\n",
              "      border-bottom-color: var(--fill-color);\n",
              "      border-left-color: var(--fill-color);\n",
              "    }\n",
              "    20% {\n",
              "      border-color: transparent;\n",
              "      border-left-color: var(--fill-color);\n",
              "      border-top-color: var(--fill-color);\n",
              "    }\n",
              "    30% {\n",
              "      border-color: transparent;\n",
              "      border-left-color: var(--fill-color);\n",
              "      border-top-color: var(--fill-color);\n",
              "      border-right-color: var(--fill-color);\n",
              "    }\n",
              "    40% {\n",
              "      border-color: transparent;\n",
              "      border-right-color: var(--fill-color);\n",
              "      border-top-color: var(--fill-color);\n",
              "    }\n",
              "    60% {\n",
              "      border-color: transparent;\n",
              "      border-right-color: var(--fill-color);\n",
              "    }\n",
              "    80% {\n",
              "      border-color: transparent;\n",
              "      border-right-color: var(--fill-color);\n",
              "      border-bottom-color: var(--fill-color);\n",
              "    }\n",
              "    90% {\n",
              "      border-color: transparent;\n",
              "      border-bottom-color: var(--fill-color);\n",
              "    }\n",
              "  }\n",
              "</style>\n",
              "\n",
              "  <script>\n",
              "    async function quickchart(key) {\n",
              "      const quickchartButtonEl =\n",
              "        document.querySelector('#' + key + ' button');\n",
              "      quickchartButtonEl.disabled = true;  // To prevent multiple clicks.\n",
              "      quickchartButtonEl.classList.add('colab-df-spinner');\n",
              "      try {\n",
              "        const charts = await google.colab.kernel.invokeFunction(\n",
              "            'suggestCharts', [key], {});\n",
              "      } catch (error) {\n",
              "        console.error('Error during call to suggestCharts:', error);\n",
              "      }\n",
              "      quickchartButtonEl.classList.remove('colab-df-spinner');\n",
              "      quickchartButtonEl.classList.add('colab-df-quickchart-complete');\n",
              "    }\n",
              "    (() => {\n",
              "      let quickchartButtonEl =\n",
              "        document.querySelector('#df-4db601eb-4fc3-4b3a-904e-929d9b7fb23e button');\n",
              "      quickchartButtonEl.style.display =\n",
              "        google.colab.kernel.accessAllowed ? 'block' : 'none';\n",
              "    })();\n",
              "  </script>\n",
              "</div>\n",
              "\n",
              "    </div>\n",
              "  </div>\n"
            ],
            "text/plain": [
              "        Unnamed: 0        Q11_1        Q11_2        Q11_3        Q11_4  \\\n",
              "count  6108.000000  6108.000000  6108.000000  6108.000000  6108.000000   \n",
              "mean   3053.500000     0.479044     0.295678     0.178782     0.584152   \n",
              "std    1763.372054     0.499602     0.456384     0.383201     0.492908   \n",
              "min       0.000000     0.000000     0.000000     0.000000     0.000000   \n",
              "25%    1526.750000     0.000000     0.000000     0.000000     0.000000   \n",
              "50%    3053.500000     0.000000     0.000000     0.000000     1.000000   \n",
              "75%    4580.250000     1.000000     1.000000     0.000000     1.000000   \n",
              "max    6107.000000     1.000000     1.000000     1.000000     1.000000   \n",
              "\n",
              "             Q11_5        Q11_6        Q11_7        Q11_8        Q11_9  ...  \\\n",
              "count  6108.000000  6108.000000  6108.000000  6108.000000  6108.000000  ...   \n",
              "mean      0.280779     0.089555     0.379993     0.302227     0.076130  ...   \n",
              "std       0.449417     0.285566     0.485425     0.459261     0.265227  ...   \n",
              "min       0.000000     0.000000     0.000000     0.000000     0.000000  ...   \n",
              "25%       0.000000     0.000000     0.000000     0.000000     0.000000  ...   \n",
              "50%       0.000000     0.000000     0.000000     0.000000     0.000000  ...   \n",
              "75%       1.000000     0.000000     1.000000     1.000000     0.000000  ...   \n",
              "max       1.000000     1.000000     1.000000     1.000000     1.000000  ...   \n",
              "\n",
              "            Q18_17       Q18_18       Q18_19       Q18_20       Q18_21  \\\n",
              "count  6108.000000  6108.000000  6108.000000  6108.000000  6108.000000   \n",
              "mean      3.034217     2.200557     3.046005     2.274067     2.863785   \n",
              "std       1.013568     0.940799     0.969493     1.031295     0.929183   \n",
              "min       1.000000     1.000000     1.000000     1.000000     1.000000   \n",
              "25%       2.000000     2.000000     3.000000     2.000000     2.000000   \n",
              "50%       3.000000     2.000000     3.000000     2.000000     3.000000   \n",
              "75%       4.000000     3.000000     4.000000     3.000000     3.000000   \n",
              "max       5.000000     5.000000     5.000000     5.000000     5.000000   \n",
              "\n",
              "            Q18_22       Q18_23          Q20          Q21          Q16  \n",
              "count  6108.000000  6108.000000  6108.000000  6108.000000  6108.000000  \n",
              "mean      2.350196     2.612803     2.870825     2.596758     0.938278  \n",
              "std       0.928942     0.952385     0.811442     0.834790     1.069068  \n",
              "min       1.000000     1.000000     1.000000     1.000000     0.000000  \n",
              "25%       2.000000     2.000000     3.000000     2.000000     0.000000  \n",
              "50%       2.000000     3.000000     3.000000     3.000000     1.000000  \n",
              "75%       3.000000     3.000000     3.000000     3.000000     2.000000  \n",
              "max       5.000000     5.000000     5.000000     5.000000     3.000000  \n",
              "\n",
              "[8 rows x 76 columns]"
            ]
          },
          "execution_count": 23,
          "metadata": {},
          "output_type": "execute_result"
        }
      ],
      "source": [
        "questionToMode_df.describe()"
      ]
    },
    {
      "cell_type": "markdown",
      "metadata": {
        "id": "1jNYqpObQWZR"
      },
      "source": [
        "### Showing Outliers\n"
      ]
    },
    {
      "cell_type": "code",
      "execution_count": 24,
      "metadata": {
        "colab": {
          "base_uri": "https://localhost:8080/",
          "height": 472
        },
        "id": "WZGJjlIVQjb7",
        "outputId": "ba40936a-f173-466e-a1e8-3713d89521cf"
      },
      "outputs": [
        {
          "data": {
            "image/png": "[encoded data removed]",
            "text/plain": [
              "<Figure size 640x480 with 1 Axes>"
            ]
          },
          "metadata": {},
          "output_type": "display_data"
        }
      ],
      "source": [
        "import seaborn as sns\n",
        "import matplotlib.pyplot as plt\n",
        "\n",
        "colName = 'Q21'\n",
        "\n",
        "# Box plot çizimi\n",
        "sns.boxplot(x=questionToMode_df[colName])\n",
        "plt.title(f'Box Plot of {colName}')\n",
        "plt.show()"
      ]
    },
    {
      "cell_type": "markdown",
      "metadata": {
        "id": "pI79FRwS4T37"
      },
      "source": [
        "## Visualization"
      ]
    },
    {
      "cell_type": "code",
      "execution_count": 25,
      "metadata": {
        "id": "hXO0EuKf4WrH"
      },
      "outputs": [],
      "source": [
        "import matplotlib.pyplot as plt\n",
        "import seaborn as sns\n",
        "\n",
        "def Visualize(columnName):\n",
        "  plt.figure(figsize=(8, 4))\n",
        "  sns.countplot(x=columnName, data=questionToMode_df)\n",
        "  plt.title('Features')\n",
        "  plt.show()\n"
      ]
    },
    {
      "cell_type": "code",
      "execution_count": 26,
      "metadata": {
        "colab": {
          "base_uri": "https://localhost:8080/",
          "height": 803
        },
        "id": "IqPSOdZ_4cOo",
        "outputId": "83177182-bd2e-4d08-9315-a70fa4813251"
      },
      "outputs": [
        {
          "data": {
            "image/png": "[encoded data removed]",
            "text/plain": [
              "<Figure size 800x400 with 1 Axes>"
            ]
          },
          "metadata": {},
          "output_type": "display_data"
        },
        {
          "data": {
            "image/png": "[encoded data removed]",
            "text/plain": [
              "<Figure size 800x400 with 1 Axes>"
            ]
          },
          "metadata": {},
          "output_type": "display_data"
        }
      ],
      "source": [
        "import numpy as np\n",
        "for i in range(1,3):\n",
        "  feature_names=questionToMode_df.columns\n",
        "  selected_feature = np.random.choice(feature_names)\n",
        "  Visualize(selected_feature)"
      ]
    },
    {
      "cell_type": "code",
      "execution_count": 11,
      "metadata": {
        "id": "-cgFVwbtTEGO"
      },
      "outputs": [],
      "source": [
        "import numpy as np\n",
        "import matplotlib.pyplot as plt\n",
        "import seaborn as sns\n",
        "\n",
        "# TODO This graphs looks like unnecessary will be checked -Seyit\n",
        "def VisualizeSubset(dataframe, step):\n",
        "    feature_names = dataframe.columns\n",
        "    num_subsets = len(feature_names) // step\n",
        "\n",
        "    fig, axes = plt.subplots(num_subsets, 1, figsize=(step, num_subsets * num_subsets))\n",
        "\n",
        "\n",
        "    for i in range(num_subsets):\n",
        "        selected_features = feature_names[i * step: (i + 1) * step]\n",
        "        sns.countplot(data=dataframe[selected_features], ax=axes[i])\n",
        "        axes[i].set_title(f'Subset {i + 1}')\n",
        "\n",
        "    plt.show()"
      ]
    },
    {
      "cell_type": "code",
      "execution_count": 65,
      "metadata": {
        "colab": {
          "base_uri": "https://localhost:8080/",
          "height": 1000
        },
        "id": "yhGkmW6aTI4S",
        "outputId": "ee23b562-9650-4706-fad4-b54c6feca28c"
      },
      "outputs": [
        {
          "data": {
            "image/png": "[encoded data removed]",
            "text/plain": [
              "<Figure size 1500x2500 with 5 Axes>"
            ]
          },
          "metadata": {},
          "output_type": "display_data"
        }
      ],
      "source": [
        "VisualizeSubset(questionToMode_df,15)"
      ]
    },
    {
      "cell_type": "markdown",
      "metadata": {
        "id": "MJwlLVaXMJgU"
      },
      "source": [
        "## Normalization"
      ]
    },
    {
      "cell_type": "markdown",
      "metadata": {
        "id": "MmgEjjpXPHWu"
      },
      "source": [
        "### MinMaxScaler scaling the data to a specific range (usually [0, 1]) ensures that all features are kept on the same scale."
      ]
    },
    {
      "cell_type": "code",
      "execution_count": 12,
      "metadata": {
        "id": "M091jEdaMN5R"
      },
      "outputs": [],
      "source": [
        "from sklearn.preprocessing import MinMaxScaler\n",
        "def MinMaxScaling(df):\n",
        "    scaledDataFrame_minmax=df.copy()\n",
        "    scaledForm = scaledDataFrame_minmax.iloc[:, scaledDataFrame_minmax.columns.get_loc('Q15'):-1]\n",
        "    scaler = MinMaxScaler()\n",
        "    scaledDataFrame_minmax.iloc[:, scaledDataFrame_minmax.columns.get_loc('Q15'):-1] = scaler.fit_transform(scaledForm)\n",
        "    X_minmax, y_minmax = scaledDataFrame_minmax.iloc[:, :-1], scaledDataFrame_minmax.iloc[:, -1:]\n",
        "    return ({\"X\": X_minmax,\n",
        "            \"y\": y_minmax,\n",
        "            \"df\": scaledDataFrame_minmax})"
      ]
    },
    {
      "cell_type": "code",
      "execution_count": 13,
      "metadata": {
        "colab": {
          "base_uri": "https://localhost:8080/"
        },
        "id": "obq3cMhoN2Q2",
        "outputId": "cafb1d1e-b4f9-4e15-f745-cba46b4ae317"
      },
      "outputs": [
        {
          "data": {
            "text/plain": [
              "<bound method NDFrame.describe of       Unnamed: 0  Q11_1  Q11_2  Q11_3  Q11_4  Q11_5  Q11_6  Q11_7  Q11_8  \\\n",
              "0              0      0      0      0      1      1      0      0      1   \n",
              "1              1      1      0      0      1      0      0      1      0   \n",
              "2              2      1      1      0      1      0      0      1      1   \n",
              "3              3      0      0      0      0      0      0      0      0   \n",
              "4              4      1      1      0      1      0      0      1      1   \n",
              "...          ...    ...    ...    ...    ...    ...    ...    ...    ...   \n",
              "6103        6103      0      1      0      0      0      0      1      1   \n",
              "6104        6104      0      1      0      1      0      0      0      1   \n",
              "6105        6105      1      0      1      0      0      0      0      0   \n",
              "6106        6106      0      0      1      0      0      0      0      1   \n",
              "6107        6107      1      0      0      1      0      0      0      1   \n",
              "\n",
              "      Q11_9  ...  Q18_17  Q18_18  Q18_19  Q18_20  Q18_21  Q18_22  Q18_23  \\\n",
              "0         0  ...    1.00    1.00    1.00    1.00    1.00    1.00    1.00   \n",
              "1         0  ...    0.75    0.25    0.75    0.25    0.25    0.25    0.25   \n",
              "2         0  ...    0.75    0.75    0.50    0.25    0.75    0.25    0.75   \n",
              "3         0  ...    0.50    0.25    0.50    0.25    0.50    0.25    0.50   \n",
              "4         0  ...    0.50    0.25    0.00    0.00    0.50    0.25    0.50   \n",
              "...     ...  ...     ...     ...     ...     ...     ...     ...     ...   \n",
              "6103      1  ...    0.25    0.25    0.50    0.50    0.25    0.00    0.00   \n",
              "6104      0  ...    0.50    0.25    0.50    0.25    0.50    0.25    0.50   \n",
              "6105      0  ...    0.75    0.00    1.00    0.75    1.00    0.75    1.00   \n",
              "6106      0  ...    0.00    0.50    0.75    1.00    0.50    0.25    0.50   \n",
              "6107      0  ...    0.50    0.50    0.50    0.50    0.50    0.50    0.50   \n",
              "\n",
              "       Q20   Q21  Q16  \n",
              "0     0.50  0.50    0  \n",
              "1     0.50  0.50    3  \n",
              "2     0.75  0.00    0  \n",
              "3     0.50  0.50    2  \n",
              "4     0.50  0.50    3  \n",
              "...    ...   ...  ...  \n",
              "6103  0.00  0.50    1  \n",
              "6104  0.50  0.50    0  \n",
              "6105  1.00  0.25    0  \n",
              "6106  0.25  0.50    0  \n",
              "6107  0.50  0.50    3  \n",
              "\n",
              "[6108 rows x 76 columns]>"
            ]
          },
          "execution_count": 13,
          "metadata": {},
          "output_type": "execute_result"
        }
      ],
      "source": [
        "min_max_scaled_items = MinMaxScaling(questionToMode_df)\n",
        "min_max_scaled_items['df'].describe"
      ]
    },
    {
      "cell_type": "markdown",
      "metadata": {
        "id": "0pmxtl2qPPKL"
      },
      "source": [
        "### StandartScaler transforming the data into a standard normal distribution makes the features comparable with each other"
      ]
    },
    {
      "cell_type": "code",
      "execution_count": 14,
      "metadata": {
        "id": "S2tvHTTwN9yT"
      },
      "outputs": [],
      "source": [
        "from sklearn.preprocessing import StandardScaler\n",
        "def StandardScaling(df):\n",
        "    scaledDataFrame_stc=df.copy()\n",
        "    scaledForm = scaledDataFrame_stc.iloc[:, scaledDataFrame_stc.columns.get_loc('Q15'):-1]\n",
        "    scaler = StandardScaler()\n",
        "    scaledDataFrame_stc.iloc[:, scaledDataFrame_stc.columns.get_loc('Q15'):-1] = scaler.fit_transform(scaledForm)\n",
        "    X_stc, y_stc = scaledDataFrame_stc.iloc[:, :-1], scaledDataFrame_stc.iloc[:, -1:]\n",
        "    return ({\"X\": X_stc,\n",
        "            \"y\": y_stc,\n",
        "            \"df\": scaledDataFrame_stc})"
      ]
    },
    {
      "cell_type": "code",
      "execution_count": 15,
      "metadata": {
        "colab": {
          "base_uri": "https://localhost:8080/"
        },
        "id": "Q3POFrQ9OSp3",
        "outputId": "53c71ded-660a-4abe-ef5d-3b6e5d6f9a14"
      },
      "outputs": [
        {
          "data": {
            "text/plain": [
              "<bound method NDFrame.describe of       Unnamed: 0  Q11_1  Q11_2  Q11_3  Q11_4  Q11_5  Q11_6  Q11_7  Q11_8  \\\n",
              "0              0      0      0      0      1      1      0      0      1   \n",
              "1              1      1      0      0      1      0      0      1      0   \n",
              "2              2      1      1      0      1      0      0      1      1   \n",
              "3              3      0      0      0      0      0      0      0      0   \n",
              "4              4      1      1      0      1      0      0      1      1   \n",
              "...          ...    ...    ...    ...    ...    ...    ...    ...    ...   \n",
              "6103        6103      0      1      0      0      0      0      1      1   \n",
              "6104        6104      0      1      0      1      0      0      0      1   \n",
              "6105        6105      1      0      1      0      0      0      0      0   \n",
              "6106        6106      0      0      1      0      0      0      0      1   \n",
              "6107        6107      1      0      0      1      0      0      0      1   \n",
              "\n",
              "      Q11_9  ...    Q18_17    Q18_18    Q18_19    Q18_20    Q18_21    Q18_22  \\\n",
              "0         0  ...  1.939626  2.975847  2.015646  2.643431  2.299213  2.852731   \n",
              "1         0  ...  0.952932 -0.213194  0.984095 -0.265772 -0.929694 -0.377015   \n",
              "2         0  ...  0.952932  1.912833 -0.047457 -0.265772  1.222911 -0.377015   \n",
              "3         0  ... -0.033762 -0.213194 -0.047457 -0.265772  0.146608 -0.377015   \n",
              "4         0  ... -0.033762 -0.213194 -2.110559 -1.235507  0.146608 -0.377015   \n",
              "...     ...  ...       ...       ...       ...       ...       ...       ...   \n",
              "6103      1  ... -1.020456 -0.213194 -0.047457  0.703962 -0.929694 -1.453597   \n",
              "6104      0  ... -0.033762 -0.213194 -0.047457 -0.265772  0.146608 -0.377015   \n",
              "6105      0  ...  0.952932 -1.276208  2.015646  1.673697  2.299213  1.776149   \n",
              "6106      0  ... -2.007150  0.849819  0.984095  2.643431  0.146608 -0.377015   \n",
              "6107      0  ... -0.033762  0.849819 -0.047457  0.703962  0.146608  0.699567   \n",
              "\n",
              "        Q18_23       Q20       Q21  Q16  \n",
              "0     2.506751  0.159205  0.483085    0  \n",
              "1    -0.643493  0.159205  0.483085    3  \n",
              "2     1.456670  1.391680 -1.912922    0  \n",
              "3     0.406588  0.159205  0.483085    2  \n",
              "4     0.406588  0.159205  0.483085    3  \n",
              "...        ...       ...       ...  ...  \n",
              "6103 -1.693574 -2.305745  0.483085    1  \n",
              "6104  0.406588  0.159205  0.483085    0  \n",
              "6105  2.506751  2.624155 -0.714919    0  \n",
              "6106  0.406588 -1.073270  0.483085    0  \n",
              "6107  0.406588  0.159205  0.483085    3  \n",
              "\n",
              "[6108 rows x 76 columns]>"
            ]
          },
          "execution_count": 15,
          "metadata": {},
          "output_type": "execute_result"
        }
      ],
      "source": [
        "stc_scaled_items = StandardScaling(questionToMode_df)\n",
        "stc_scaled_items['df'].describe"
      ]
    },
    {
      "cell_type": "markdown",
      "metadata": {
        "id": "zuMeSnqWO5hX"
      },
      "source": [
        "### RobustScaler resistant to outlier values, this is a scaling method. Scaling is done using the median and IQR"
      ]
    },
    {
      "cell_type": "code",
      "execution_count": 16,
      "metadata": {
        "id": "Cu4DnaEGOl0R"
      },
      "outputs": [],
      "source": [
        "from sklearn.preprocessing import RobustScaler\n",
        "\n",
        "def StandardScaling(df):\n",
        "    scaledDataFrame_robust=df.copy()\n",
        "    scaledForm = scaledDataFrame_robust.iloc[scaledDataFrame_robust.columns.get_loc('Q15'):, :-1]\n",
        "    scaler = RobustScaler()\n",
        "    scaledDataFrame_robust.iloc[scaledDataFrame_robust.columns.get_loc('Q15'):, :-1]  = scaler.fit_transform(scaledForm)\n",
        "    X_robust, y_robust = scaledDataFrame_robust.iloc[:, :-1], scaledDataFrame_robust.iloc[:, -1:]\n",
        "    return ({\"X\": X_robust,\n",
        "            \"y\": y_robust,\n",
        "            \"df\": scaledDataFrame_robust})"
      ]
    },
    {
      "cell_type": "code",
      "execution_count": 17,
      "metadata": {
        "colab": {
          "base_uri": "https://localhost:8080/"
        },
        "id": "qPxswWw4OuIK",
        "outputId": "cdf20f9b-6c56-4a8a-c0d3-bf45e26cae90"
      },
      "outputs": [
        {
          "data": {
            "text/plain": [
              "<bound method NDFrame.describe of       Unnamed: 0  Q11_1  Q11_2  Q11_3  Q11_4  Q11_5  Q11_6  Q11_7  Q11_8  \\\n",
              "0        0.00000    0.0    0.0    0.0    1.0    1.0    0.0    0.0    1.0   \n",
              "1        1.00000    1.0    0.0    0.0    1.0    0.0    0.0    1.0    0.0   \n",
              "2        2.00000    1.0    1.0    0.0    1.0    0.0    0.0    1.0    1.0   \n",
              "3        3.00000    0.0    0.0    0.0    0.0    0.0    0.0    0.0    0.0   \n",
              "4        4.00000    1.0    1.0    0.0    1.0    0.0    0.0    1.0    1.0   \n",
              "...          ...    ...    ...    ...    ...    ...    ...    ...    ...   \n",
              "6103     0.99868    0.0    1.0    0.0   -1.0    0.0    0.0    1.0    1.0   \n",
              "6104     0.99901    0.0    1.0    0.0    0.0    0.0    0.0    0.0    1.0   \n",
              "6105     0.99934    1.0    0.0    1.0   -1.0    0.0    0.0    0.0    0.0   \n",
              "6106     0.99967    0.0    0.0    1.0   -1.0    0.0    0.0    0.0    1.0   \n",
              "6107     1.00000    1.0    0.0    0.0    0.0    0.0    0.0    0.0    1.0   \n",
              "\n",
              "      Q11_9  ...  Q18_17  Q18_18  Q18_19  Q18_20  Q18_21  Q18_22  Q18_23  Q20  \\\n",
              "0       0.0  ...     5.0     5.0     5.0     5.0     5.0     5.0     5.0  3.0   \n",
              "1       0.0  ...     4.0     2.0     4.0     2.0     2.0     2.0     2.0  3.0   \n",
              "2       0.0  ...     4.0     4.0     3.0     2.0     4.0     2.0     4.0  4.0   \n",
              "3       0.0  ...     3.0     2.0     3.0     2.0     3.0     2.0     3.0  3.0   \n",
              "4       0.0  ...     3.0     2.0     1.0     1.0     3.0     2.0     3.0  3.0   \n",
              "...     ...  ...     ...     ...     ...     ...     ...     ...     ...  ...   \n",
              "6103    1.0  ...    -0.5     0.0     0.0     1.0    -1.0    -1.0    -2.0 -2.0   \n",
              "6104    0.0  ...     0.0     0.0     0.0     0.0     0.0     0.0     0.0  0.0   \n",
              "6105    0.0  ...     0.5    -1.0     2.0     2.0     2.0     2.0     2.0  2.0   \n",
              "6106    0.0  ...    -1.0     1.0     1.0     3.0     0.0     0.0     0.0 -1.0   \n",
              "6107    0.0  ...     0.0     1.0     0.0     1.0     0.0     1.0     0.0  0.0   \n",
              "\n",
              "      Q21  Q16  \n",
              "0     3.0    0  \n",
              "1     3.0    3  \n",
              "2     1.0    0  \n",
              "3     3.0    2  \n",
              "4     3.0    3  \n",
              "...   ...  ...  \n",
              "6103  0.0    1  \n",
              "6104  0.0    0  \n",
              "6105 -1.0    0  \n",
              "6106  0.0    0  \n",
              "6107  0.0    3  \n",
              "\n",
              "[6108 rows x 76 columns]>"
            ]
          },
          "execution_count": 17,
          "metadata": {},
          "output_type": "execute_result"
        }
      ],
      "source": [
        "robust_scaled_items = StandardScaling(questionToMode_df)\n",
        "robust_scaled_items['df'].describe"
      ]
    },
    {
      "cell_type": "markdown",
      "metadata": {
        "id": "-OapTP6NWQAO"
      },
      "source": [
        "### Save Results To The Txt For Later Using"
      ]
    },
    {
      "cell_type": "code",
      "execution_count": 18,
      "metadata": {
        "id": "TSlVncZ-WQAO"
      },
      "outputs": [],
      "source": [
        "def SaveResults(result, txt_name):\n",
        "    with open(txt_name, 'a') as file:\n",
        "        file.write(str(result) + '\\n')"
      ]
    },
    {
      "cell_type": "markdown",
      "metadata": {
        "id": "DOSnO-SeWQAP"
      },
      "source": [
        "## Feature Selection"
      ]
    },
    {
      "cell_type": "markdown",
      "metadata": {},
      "source": [
        "### DataFrame To X and y and Vice Versa"
      ]
    },
    {
      "cell_type": "code",
      "execution_count": 19,
      "metadata": {},
      "outputs": [],
      "source": [
        "def DFToXAndY(df):\n",
        "    X, y = df.iloc[:, :-1], df.iloc[:, -1:]\n",
        "    return X, y"
      ]
    },
    {
      "cell_type": "markdown",
      "metadata": {
        "id": "Q7UFFAd5WQAP"
      },
      "source": [
        "### Train-Test Split Method"
      ]
    },
    {
      "cell_type": "code",
      "execution_count": 20,
      "metadata": {
        "id": "JEpzyzK0WQAP"
      },
      "outputs": [],
      "source": [
        "from sklearn.model_selection import train_test_split\n",
        "def train_test_split_modified(df, test_size_input = 0.25, randdom_state_input = 0 ):\n",
        "    X, y = df.iloc[:, :-1], df.iloc[:, -1:]\n",
        "    x_train, x_test, y_train, y_test = train_test_split(X, y, test_size = test_size_input, random_state = randdom_state_input)\n",
        "    return x_train, x_test, y_train, y_test"
      ]
    },
    {
      "cell_type": "markdown",
      "metadata": {
        "id": "_w4sHas7WQAP"
      },
      "source": [
        "### RFE Feature Elimination Method"
      ]
    },
    {
      "cell_type": "code",
      "execution_count": 21,
      "metadata": {
        "id": "VIs1L6oPWQAP"
      },
      "outputs": [],
      "source": [
        "from sklearn.feature_selection import RFE\n",
        "from sklearn import tree\n",
        "\n",
        "def RFEFeatureElimination(df, X, y, n_features_to_select, step = 1):\n",
        "    rfe_df = df.copy()\n",
        "    dropped_columns = []\n",
        "    estimator = tree.DecisionTreeClassifier()\n",
        "    selector = RFE(estimator = estimator, n_features_to_select = n_features_to_select, step = 1)\n",
        "    selector = selector.fit(X, y)\n",
        "\n",
        "    for i, value in enumerate(selector.support_, start=1):\n",
        "        #print(len(selector.support_))\n",
        "        #print(selector.ranking_)\n",
        "        if(value == False) and rfe_df.columns[i] != 'Q16':\n",
        "            dropped_columns.append(rfe_df.columns[i])\n",
        "\n",
        "    rfe_df = rfe_df.drop(dropped_columns, axis = 1)\n",
        "    return rfe_df"
      ]
    },
    {
      "cell_type": "markdown",
      "metadata": {},
      "source": [
        "### Chi Squared Feature Elimination Method"
      ]
    },
    {
      "cell_type": "code",
      "execution_count": 22,
      "metadata": {},
      "outputs": [],
      "source": [
        "from sklearn.feature_selection import SelectKBest, chi2\n",
        "\n",
        "def ChiSquareFeatureElimination(X, y, n_features_to_select, df= None):\n",
        "    X_chi2 = SelectKBest(chi2, k = n_features_to_select).fit_transform(X, y)\n",
        "    X_chi2_df = pd.DataFrame(X_chi2, columns=[f\"feature_{i}\" for i in range(n_features_to_select)])\n",
        "    return pd.concat([X_chi2_df, y.reset_index(drop=True)], axis=1)"
      ]
    },
    {
      "cell_type": "markdown",
      "metadata": {},
      "source": [
        "### Mutual Information Feature Elimination Method"
      ]
    },
    {
      "cell_type": "code",
      "execution_count": 23,
      "metadata": {},
      "outputs": [],
      "source": [
        "from sklearn.feature_selection import mutual_info_classif\n",
        "\n",
        "def MutualInformationFeatureElimination(X, y, n_features_to_select, df= None):\n",
        "    X_mutual_info = SelectKBest(mutual_info_classif, k = n_features_to_select).fit_transform(X, y)\n",
        "    X_mutual_info_df = pd.DataFrame(X_mutual_info, columns=[f\"feature_{i}\" for i in range(n_features_to_select)])\n",
        "    return pd.concat([X_mutual_info_df, y.reset_index(drop=True)], axis=1)"
      ]
    },
    {
      "cell_type": "markdown",
      "metadata": {},
      "source": [
        "### Lasso Feature Elimination Method"
      ]
    },
    {
      "cell_type": "code",
      "execution_count": 66,
      "metadata": {},
      "outputs": [],
      "source": [
        "from sklearn.svm import LinearSVC\n",
        "from sklearn.feature_selection import SelectFromModel\n",
        "\n",
        "\n",
        "def LassoFeatureElimination(X, y, n_features_to_select, df= None):\n",
        "    lsvc = LinearSVC(C=0.01, penalty=\"l1\", dual=False).fit(X, y)\n",
        "    model = SelectFromModel(lsvc, prefit=True, max_features=n_features_to_select)\n",
        "    X_l1 = model.transform(X)\n",
        "    X_l1_df = X_l1_df = pd.DataFrame(X_l1, columns=[f\"feature_{i}\" for i in range(X_l1.shape[1])])\n",
        "    return pd.concat([X_l1_df, y.reset_index(drop=True)], axis=1)\n"
      ]
    },
    {
      "cell_type": "code",
      "execution_count": 65,
      "metadata": {},
      "outputs": [
        {
          "data": {
            "text/plain": [
              "'\\nfrom sklearn.linear_model import Lasso\\nfrom sklearn.feature_selection import SelectFromModel\\nimport pandas as pd\\n\\ndef LassoFeatureElimination(X, y, n_features_to_select, alpha=1, df=None):\\n    \"\"\"\\n    Perform feature selection using Lasso regression.\\n\\n    Parameters:\\n    - X: Features\\n    - y: Target variable\\n    - alpha: Regularization strength\\n    - df: DataFrame to concatenate the selected features and target variable\\n\\n    Returns:\\n    - DataFrame containing selected features and target variable\\n    \"\"\"\\n    lasso_model = Lasso(alpha=alpha, random_state=42)  # You can choose an appropriate alpha\\n    model = SelectFromModel(lasso_model, prefit=False)\\n\\n    # Fit the model and transform the data\\n    X_lasso = model.fit_transform(X, y)\\n\\n    # Get the selected feature indices\\n    feature_indices = model.get_support(indices=True)\\n\\n    # Select the corresponding columns from the original DataFrame\\n    selected_features = X.iloc[:, feature_indices]\\n\\n    # Concatenate selected features and target variable\\n    selected_df = pd.concat([selected_features, y.reset_index(drop=True)], axis=1)\\n\\n    return selected_df\\n'"
            ]
          },
          "execution_count": 65,
          "metadata": {},
          "output_type": "execute_result"
        }
      ],
      "source": [
        "'''\n",
        "from sklearn.linear_model import Lasso\n",
        "from sklearn.feature_selection import SelectFromModel\n",
        "import pandas as pd\n",
        "\n",
        "def LassoFeatureElimination(X, y, n_features_to_select, alpha=1, df=None):\n",
        "    \"\"\"\n",
        "    Perform feature selection using Lasso regression.\n",
        "\n",
        "    Parameters:\n",
        "    - X: Features\n",
        "    - y: Target variable\n",
        "    - alpha: Regularization strength\n",
        "    - df: DataFrame to concatenate the selected features and target variable\n",
        "\n",
        "    Returns:\n",
        "    - DataFrame containing selected features and target variable\n",
        "    \"\"\"\n",
        "    lasso_model = Lasso(alpha=alpha, random_state=42)  # You can choose an appropriate alpha\n",
        "    model = SelectFromModel(lasso_model, prefit=False)\n",
        "\n",
        "    # Fit the model and transform the data\n",
        "    X_lasso = model.fit_transform(X, y)\n",
        "\n",
        "    # Get the selected feature indices\n",
        "    feature_indices = model.get_support(indices=True)\n",
        "\n",
        "    # Select the corresponding columns from the original DataFrame\n",
        "    selected_features = X.iloc[:, feature_indices]\n",
        "\n",
        "    # Concatenate selected features and target variable\n",
        "    selected_df = pd.concat([selected_features, y.reset_index(drop=True)], axis=1)\n",
        "\n",
        "    return selected_df\n",
        "'''"
      ]
    },
    {
      "cell_type": "markdown",
      "metadata": {
        "id": "U14zVlzswqBU"
      },
      "source": [
        "# ML and DL Algorithms"
      ]
    },
    {
      "cell_type": "markdown",
      "metadata": {
        "id": "dW0jDJ0hWQAP"
      },
      "source": [
        "### KNN Classification Algorithm Method"
      ]
    },
    {
      "cell_type": "code",
      "execution_count": 25,
      "metadata": {
        "id": "6m4dNXtRWQAP"
      },
      "outputs": [],
      "source": [
        "from sklearn.neighbors import KNeighborsClassifier\n",
        "from sklearn.metrics import accuracy_score\n",
        "from sklearn.metrics import confusion_matrix\n",
        "\n",
        "def KNN(x_train, x_test, y_train, y_test):\n",
        "    knn_params = {\"cosine\", \"euclidean\", \"manhattan\", \"nan_euclidean\"}\n",
        "    best_accuracy_knn = 0\n",
        "    best_metric = \"\"\n",
        "    best_neighbor_count = 0\n",
        "    max_neighbour = 50\n",
        "    for i in range(1,max_neighbour):\n",
        "        for param in knn_params:\n",
        "            knn = KNeighborsClassifier(n_neighbors=i, metric = param, weights = \"distance\")\n",
        "            knn.fit(x_train, y_train)\n",
        "            y_pred = knn.predict(x_test)\n",
        "            if accuracy_score(y_test, y_pred) < 1 and best_accuracy_knn < accuracy_score(y_test, y_pred) :\n",
        "                best_accuracy_knn, best_neighbor_count, best_metric = accuracy_score(y_test, y_pred), i, param\n",
        "\n",
        "    print(f\"Best accuracy is = {best_accuracy_knn}, with {best_neighbor_count} n_neighbors, {best_metric} metrics and fetaure len = {len(x_train.columns)}\")\n",
        "    #knn = KNeighborsClassifier(n_neighbors=best_neighbor_count, metric = best_metric, weights = \"distance\")\n",
        "    #knn.fit(x_train, y_train)\n",
        "    #y_pred = knn.predict(x_test)\n",
        "    #print(confusion_matrix(y_test,y_pred))\n",
        "    return {\"Accuracy\": best_accuracy_knn,\n",
        "            \"Model_Name\": \"KNN\",\n",
        "            \"HyperParameters\": f\"n_neighbor:{best_neighbor_count}, metric:{best_metric}, n_feature:{len(x_train.columns)}\"}"
      ]
    },
    {
      "cell_type": "markdown",
      "metadata": {
        "id": "dmojFRPSWQAQ"
      },
      "source": [
        "### Random Forest Classifier Method"
      ]
    },
    {
      "cell_type": "code",
      "execution_count": 26,
      "metadata": {
        "id": "lsz1N09sWQAQ"
      },
      "outputs": [],
      "source": [
        "from sklearn.ensemble import RandomForestClassifier\n",
        "from sklearn.datasets import make_classification\n",
        "\n",
        "# TODO Hyper Parameters Trying will be added with loop\n",
        "def RandomForest(x_train, x_test, y_train, y_test):\n",
        "    criterions = {\"gini\", \"entropy\"}\n",
        "    best_accuracy = 0\n",
        "    best_criterion = \"\"\n",
        "    best_depth = 0,\n",
        "    best_n_estimators = 0 #The number of trees in the forest\n",
        "    for criterion_changer in criterions:\n",
        "        for max_depth_changer in [None,5,10,15,20,25,30,35,40,45,50]:\n",
        "            RandomForestClf = RandomForestClassifier(criterion= criterion_changer, max_depth=max_depth_changer, random_state=1)\n",
        "            RandomForestClf.fit(x_train, y_train)\n",
        "            y_pred = RandomForestClf.predict(x_test)\n",
        "            accuracy = accuracy_score(y_test, y_pred)\n",
        "            if(accuracy > best_accuracy):\n",
        "                best_accuracy, best_criterion, best_depth = accuracy, criterion_changer, max_depth_changer\n",
        "    print(f\"Best accuracy is = {best_accuracy}, with criterion = {best_criterion} max_depth = {best_depth} metrics and fetaure len = {len(x_train.columns)}\")\n",
        "\n",
        "    return {\"Accuracy\": best_accuracy,\n",
        "            \"Model_Name\": \"RandomForest\",\n",
        "            \"HyperParameters\": f\"best_criterion: {best_criterion}, max_depth:{best_depth} fetaure len = {len(x_train.columns)}\"}"
      ]
    },
    {
      "cell_type": "markdown",
      "metadata": {
        "id": "a3VNmUUzNVvF"
      },
      "source": [
        "### Gradient Boosting Classifier Method"
      ]
    },
    {
      "cell_type": "code",
      "execution_count": 27,
      "metadata": {
        "id": "F_M3nwA5NVvF"
      },
      "outputs": [],
      "source": [
        "from sklearn.ensemble import GradientBoostingClassifier\n",
        "def GradientBoosting(x_train, x_test, y_train, y_test):\n",
        "    best_accuracy = 0\n",
        "    best_n_estimators = \"\"\n",
        "    best_depth = 0\n",
        "    for n_estimators in [100,125,150,175,200]:\n",
        "        clf = GradientBoostingClassifier(n_estimators=n_estimators, loss = 'deviance', learning_rate=0.1, criterion = 'squared_error', max_depth=1, random_state=0)\n",
        "        clf.fit(x_train, y_train)\n",
        "        accuracy = clf.score(x_test, y_test)\n",
        "        if(accuracy > best_accuracy):\n",
        "            best_accuracy, best_n_estimators = accuracy, n_estimators\n",
        "    print(f\"Best accuracy is = {best_accuracy}, with best_n_estimators = {best_n_estimators} learning_rate = 0.1 criterion = squared_error best_depth = 1 metrics and fetaure len = {len(x_train.columns)}\")\n",
        "    return {\"Accuracy\": best_accuracy,\n",
        "            \"Model_Name\": \"GradientBoosting\",\n",
        "            \"HyperParameters\": f\"best_n_estimators: {best_n_estimators}, loss:deviance, learning_rate = 0.1, depth = 1  criterion = squared_error\"}"
      ]
    },
    {
      "cell_type": "markdown",
      "metadata": {
        "id": "FrYMHVg6NVvF"
      },
      "source": [
        "### Stochastic Gradient Descent"
      ]
    },
    {
      "cell_type": "code",
      "execution_count": 28,
      "metadata": {
        "id": "bv6ClgANNVvF"
      },
      "outputs": [],
      "source": [
        "from sklearn.linear_model import SGDClassifier\n",
        "def StockGradientDescent(x_train, x_test, y_train, y_test):\n",
        "    best_accuracy = 0\n",
        "    best_penalty = ''\n",
        "    for penalty in ['l2', 'l1', 'elasticnet']:\n",
        "        clf = SGDClassifier(loss=\"squared_error\", penalty=penalty, max_iter=1000)\n",
        "        clf.fit(x_train, y_train)\n",
        "        y_pred = clf.predict(x_test)\n",
        "        accuracy = accuracy_score(y_test, y_pred)\n",
        "        if(accuracy > best_accuracy):\n",
        "            best_accuracy, best_penalty = accuracy, penalty\n",
        "    print(f\"Best accuracy is = {best_accuracy}, with max_iter = 1000 best_penalty = {best_penalty} loss = squared_error  metrics and fetaure len = {len(x_train.columns)}\")\n",
        "    return {\"Accuracy\": best_accuracy,\n",
        "            \"Model_Name\": \"StockGradientDescent\",\n",
        "            \"HyperParameters\": f\"best_max_iter: 1000, loss:squared_error, best_penalty = {best_penalty}\"}"
      ]
    },
    {
      "cell_type": "markdown",
      "metadata": {
        "id": "8z6tObWSW01F"
      },
      "source": [
        "### SVM\n"
      ]
    },
    {
      "cell_type": "code",
      "execution_count": 29,
      "metadata": {
        "id": "x4MqbpAaW3tO"
      },
      "outputs": [],
      "source": [
        "from sklearn import svm\n",
        "\n",
        "def NonlinearSVM(x_train, x_test, y_train, y_test):\n",
        "    best_accuracy = 0\n",
        "    functionsForSVM={\"rbf\",\"sigmoid\"}\n",
        "    best_function=\"\"\n",
        "\n",
        "    for function in functionsForSVM:\n",
        "      model = svm.SVC(kernel=function)\n",
        "      model.fit(x_train, y_train)\n",
        "      y_pred = model.predict(x_test)\n",
        "      accuracy = accuracy_score(y_test, y_pred)\n",
        "      if(accuracy > best_accuracy):\n",
        "        best_accuracy=accuracy\n",
        "        best_function=function\n",
        "    print(f\"Best accuracy is = {best_accuracy}, with function = {best_function}\")\n",
        "    return  {\"Accuracy\": best_accuracy,\n",
        "            \"Model_Name\": \"SVM\",\n",
        "            \"HyperParameters\": f\"best_function: {best_function}\"}"
      ]
    },
    {
      "cell_type": "markdown",
      "metadata": {
        "id": "o1oit3UQa5ZO"
      },
      "source": [
        "### Naive Bayes"
      ]
    },
    {
      "cell_type": "code",
      "execution_count": 30,
      "metadata": {
        "id": "wwnAkECVa8e2"
      },
      "outputs": [],
      "source": [
        "from sklearn.naive_bayes import MultinomialNB\n",
        "\n",
        "def MultinomialNaiveBayes(x_train, x_test, y_train, y_test):\n",
        "    best_accuracy = 0\n",
        "    best_alpha = 0\n",
        "    alphas = [0.2, 0.3, 0.5]\n",
        "\n",
        "    for alpha in alphas:\n",
        "        model = MultinomialNB(alpha=alpha)\n",
        "        model.fit(x_train, y_train)\n",
        "        y_pred = model.predict(x_test)\n",
        "        accuracy = accuracy_score(y_test, y_pred)\n",
        "\n",
        "        if accuracy > best_accuracy:\n",
        "            best_accuracy = accuracy\n",
        "            best_alpha = alpha\n",
        "\n",
        "    print(f\"Best accuracy is = {best_accuracy}, with alpha = {best_alpha}\")\n",
        "\n",
        "    return {\n",
        "        \"Accuracy\": best_accuracy,\n",
        "        \"Model_Name\": \"Multinomial Naive Bayes\",\n",
        "        \"HyperParameters\": f\"best_alpha: {best_alpha}\"\n",
        "    }"
      ]
    },
    {
      "cell_type": "markdown",
      "metadata": {
        "id": "Y2AAIT6PhU8Z"
      },
      "source": [
        "### Decision Tree"
      ]
    },
    {
      "cell_type": "code",
      "execution_count": 31,
      "metadata": {
        "id": "e9rSv7J9hdYY"
      },
      "outputs": [],
      "source": [
        "from sklearn.tree import DecisionTreeClassifier\n",
        "\n",
        "\n",
        "def DecisionTree(x_train, x_test, y_train, y_test):\n",
        "    dephts= [5,10,12,17]\n",
        "    best_accuracy=0\n",
        "    best_max_depth=0\n",
        "\n",
        "    for depth in dephts:\n",
        "        model = DecisionTreeClassifier(random_state=42,max_depth=depth)\n",
        "        model.fit(x_train, y_train)\n",
        "        y_pred = model.predict(x_test)\n",
        "        accuracy = accuracy_score(y_test, y_pred)\n",
        "        if accuracy > best_accuracy:\n",
        "            best_accuracy, best_max_depth = accuracy, depth\n",
        "    print(f\"Best accuracy is = {best_accuracy}, with max_depth = {best_max_depth}\")\n",
        "\n",
        "    return {\n",
        "        \"Accuracy\": best_accuracy,\n",
        "        \"Model_Name\": \"Decision Tree\",\n",
        "        \"HyperParameters\": f\"best_max_depth: {best_max_depth}\"\n",
        "    }"
      ]
    },
    {
      "cell_type": "markdown",
      "metadata": {
        "id": "WFmpkQDOk2qq"
      },
      "source": [
        "### Ada Boost"
      ]
    },
    {
      "cell_type": "code",
      "execution_count": 32,
      "metadata": {
        "id": "juPL62dik5r9"
      },
      "outputs": [],
      "source": [
        "from sklearn.ensemble import AdaBoostClassifier\n",
        "from sklearn.tree import DecisionTreeClassifier\n",
        "\n",
        "\n",
        "def AdaBoost(x_train, x_test, y_train, y_test):\n",
        "  depths=[1,3,5]\n",
        "  best_max_depth=0\n",
        "  best_accuracy=0\n",
        "  best_n_estimators=0\n",
        "  for depth in depths:\n",
        "    weak_learner = DecisionTreeClassifier(max_depth=depth)\n",
        "    adaboost_model = AdaBoostClassifier(base_estimator=weak_learner, n_estimators=5, random_state=42)\n",
        "    adaboost_model.fit(x_train, y_train)\n",
        "    y_pred = adaboost_model.predict(x_test)\n",
        "    accuracy = accuracy_score(y_test, y_pred)\n",
        "\n",
        "    if accuracy > best_accuracy:\n",
        "            best_accuracy = accuracy\n",
        "            best_max_depth = depth\n",
        "  print(f\"Best accuracy is = {best_accuracy}, with max_depth = {best_max_depth}\")\n",
        "\n",
        "  return {\n",
        "        \"Accuracy\": best_accuracy,\n",
        "        \"Model_Name\": \"Ada Boost\",\n",
        "        \"HyperParameters\": f\"best_max_depth: {best_max_depth}\"\n",
        "    }"
      ]
    },
    {
      "cell_type": "markdown",
      "metadata": {
        "id": "Ahif18dsnkO8"
      },
      "source": [
        "## TensorFlow"
      ]
    },
    {
      "cell_type": "code",
      "execution_count": 33,
      "metadata": {
        "colab": {
          "base_uri": "https://localhost:8080/",
          "height": 425
        },
        "id": "e1EcIkWNnm16",
        "outputId": "00f520ef-175e-4f3a-e6d1-6074565c5d79"
      },
      "outputs": [
        {
          "ename": "TypeError",
          "evalue": "Descriptors cannot not be created directly.\nIf this call came from a _pb2.py file, your generated code is out of date and must be regenerated with protoc >= 3.19.0.\nIf you cannot immediately regenerate your protos, some other possible workarounds are:\n 1. Downgrade the protobuf package to 3.20.x or lower.\n 2. Set PROTOCOL_BUFFERS_PYTHON_IMPLEMENTATION=python (but this will use pure-Python parsing and will be much slower).\n\nMore information: https://developers.google.com/protocol-buffers/docs/news/2022-05-06#python-updates",
          "output_type": "error",
          "traceback": [
            "\u001b[1;31m---------------------------------------------------------------------------\u001b[0m",
            "\u001b[1;31mTypeError\u001b[0m                                 Traceback (most recent call last)",
            "Input \u001b[1;32mIn [33]\u001b[0m, in \u001b[0;36m<cell line: 1>\u001b[1;34m()\u001b[0m\n\u001b[1;32m----> 1\u001b[0m \u001b[38;5;28;01mimport\u001b[39;00m \u001b[38;5;21;01mtensorflow\u001b[39;00m \u001b[38;5;28;01mas\u001b[39;00m \u001b[38;5;21;01mtf\u001b[39;00m\n\u001b[0;32m      2\u001b[0m \u001b[38;5;28;01mfrom\u001b[39;00m \u001b[38;5;21;01mtensorflow\u001b[39;00m\u001b[38;5;21;01m.\u001b[39;00m\u001b[38;5;21;01mkeras\u001b[39;00m \u001b[38;5;28;01mimport\u001b[39;00m layers, models\n\u001b[0;32m      3\u001b[0m \u001b[38;5;28;01mfrom\u001b[39;00m \u001b[38;5;21;01msklearn\u001b[39;00m\u001b[38;5;21;01m.\u001b[39;00m\u001b[38;5;21;01mmodel_selection\u001b[39;00m \u001b[38;5;28;01mimport\u001b[39;00m train_test_split\n",
            "File \u001b[1;32mc:\\Users\\AMD\\AppData\\Local\\Programs\\Python\\Python310\\lib\\site-packages\\tensorflow\\__init__.py:39\u001b[0m, in \u001b[0;36m<module>\u001b[1;34m\u001b[0m\n\u001b[0;32m     36\u001b[0m \u001b[38;5;28;01mimport\u001b[39;00m \u001b[38;5;21;01msys\u001b[39;00m \u001b[38;5;28;01mas\u001b[39;00m \u001b[38;5;21;01m_sys\u001b[39;00m\n\u001b[0;32m     37\u001b[0m \u001b[38;5;28;01mimport\u001b[39;00m \u001b[38;5;21;01mtyping\u001b[39;00m \u001b[38;5;28;01mas\u001b[39;00m \u001b[38;5;21;01m_typing\u001b[39;00m\n\u001b[1;32m---> 39\u001b[0m \u001b[38;5;28;01mfrom\u001b[39;00m \u001b[38;5;21;01mtensorflow\u001b[39;00m\u001b[38;5;21;01m.\u001b[39;00m\u001b[38;5;21;01mpython\u001b[39;00m\u001b[38;5;21;01m.\u001b[39;00m\u001b[38;5;21;01mtools\u001b[39;00m \u001b[38;5;28;01mimport\u001b[39;00m module_util \u001b[38;5;28;01mas\u001b[39;00m _module_util\n\u001b[0;32m     40\u001b[0m \u001b[38;5;28;01mfrom\u001b[39;00m \u001b[38;5;21;01mtensorflow\u001b[39;00m\u001b[38;5;21;01m.\u001b[39;00m\u001b[38;5;21;01mpython\u001b[39;00m\u001b[38;5;21;01m.\u001b[39;00m\u001b[38;5;21;01mutil\u001b[39;00m\u001b[38;5;21;01m.\u001b[39;00m\u001b[38;5;21;01mlazy_loader\u001b[39;00m \u001b[38;5;28;01mimport\u001b[39;00m LazyLoader \u001b[38;5;28;01mas\u001b[39;00m _LazyLoader\n\u001b[0;32m     41\u001b[0m \u001b[38;5;28;01mfrom\u001b[39;00m \u001b[38;5;21;01mtensorflow\u001b[39;00m\u001b[38;5;21;01m.\u001b[39;00m\u001b[38;5;21;01mpython\u001b[39;00m\u001b[38;5;21;01m.\u001b[39;00m\u001b[38;5;21;01mutil\u001b[39;00m\u001b[38;5;21;01m.\u001b[39;00m\u001b[38;5;21;01mlazy_loader\u001b[39;00m \u001b[38;5;28;01mimport\u001b[39;00m KerasLazyLoader \u001b[38;5;28;01mas\u001b[39;00m _KerasLazyLoader\n",
            "File \u001b[1;32mc:\\Users\\AMD\\AppData\\Local\\Programs\\Python\\Python310\\lib\\site-packages\\tensorflow\\python\\__init__.py:37\u001b[0m, in \u001b[0;36m<module>\u001b[1;34m\u001b[0m\n\u001b[0;32m     29\u001b[0m \u001b[38;5;66;03m# We aim to keep this file minimal and ideally remove completely.\u001b[39;00m\n\u001b[0;32m     30\u001b[0m \u001b[38;5;66;03m# If you are adding a new file with @tf_export decorators,\u001b[39;00m\n\u001b[0;32m     31\u001b[0m \u001b[38;5;66;03m# import it in modules_with_exports.py instead.\u001b[39;00m\n\u001b[0;32m     32\u001b[0m \n\u001b[0;32m     33\u001b[0m \u001b[38;5;66;03m# go/tf-wildcard-import\u001b[39;00m\n\u001b[0;32m     34\u001b[0m \u001b[38;5;66;03m# pylint: disable=wildcard-import,g-bad-import-order,g-import-not-at-top\u001b[39;00m\n\u001b[0;32m     36\u001b[0m \u001b[38;5;28;01mfrom\u001b[39;00m \u001b[38;5;21;01mtensorflow\u001b[39;00m\u001b[38;5;21;01m.\u001b[39;00m\u001b[38;5;21;01mpython\u001b[39;00m \u001b[38;5;28;01mimport\u001b[39;00m pywrap_tensorflow \u001b[38;5;28;01mas\u001b[39;00m _pywrap_tensorflow\n\u001b[1;32m---> 37\u001b[0m \u001b[38;5;28;01mfrom\u001b[39;00m \u001b[38;5;21;01mtensorflow\u001b[39;00m\u001b[38;5;21;01m.\u001b[39;00m\u001b[38;5;21;01mpython\u001b[39;00m\u001b[38;5;21;01m.\u001b[39;00m\u001b[38;5;21;01meager\u001b[39;00m \u001b[38;5;28;01mimport\u001b[39;00m context\n\u001b[0;32m     39\u001b[0m \u001b[38;5;66;03m# pylint: enable=wildcard-import\u001b[39;00m\n\u001b[0;32m     40\u001b[0m \n\u001b[0;32m     41\u001b[0m \u001b[38;5;66;03m# Bring in subpackages.\u001b[39;00m\n\u001b[0;32m     42\u001b[0m \u001b[38;5;28;01mfrom\u001b[39;00m \u001b[38;5;21;01mtensorflow\u001b[39;00m\u001b[38;5;21;01m.\u001b[39;00m\u001b[38;5;21;01mpython\u001b[39;00m \u001b[38;5;28;01mimport\u001b[39;00m data\n",
            "File \u001b[1;32mc:\\Users\\AMD\\AppData\\Local\\Programs\\Python\\Python310\\lib\\site-packages\\tensorflow\\python\\eager\\context.py:29\u001b[0m, in \u001b[0;36m<module>\u001b[1;34m\u001b[0m\n\u001b[0;32m     26\u001b[0m \u001b[38;5;28;01mimport\u001b[39;00m \u001b[38;5;21;01mnumpy\u001b[39;00m \u001b[38;5;28;01mas\u001b[39;00m \u001b[38;5;21;01mnp\u001b[39;00m\n\u001b[0;32m     27\u001b[0m \u001b[38;5;28;01mimport\u001b[39;00m \u001b[38;5;21;01msix\u001b[39;00m\n\u001b[1;32m---> 29\u001b[0m \u001b[38;5;28;01mfrom\u001b[39;00m \u001b[38;5;21;01mtensorflow\u001b[39;00m\u001b[38;5;21;01m.\u001b[39;00m\u001b[38;5;21;01mcore\u001b[39;00m\u001b[38;5;21;01m.\u001b[39;00m\u001b[38;5;21;01mframework\u001b[39;00m \u001b[38;5;28;01mimport\u001b[39;00m function_pb2\n\u001b[0;32m     30\u001b[0m \u001b[38;5;28;01mfrom\u001b[39;00m \u001b[38;5;21;01mtensorflow\u001b[39;00m\u001b[38;5;21;01m.\u001b[39;00m\u001b[38;5;21;01mcore\u001b[39;00m\u001b[38;5;21;01m.\u001b[39;00m\u001b[38;5;21;01mprotobuf\u001b[39;00m \u001b[38;5;28;01mimport\u001b[39;00m config_pb2\n\u001b[0;32m     31\u001b[0m \u001b[38;5;28;01mfrom\u001b[39;00m \u001b[38;5;21;01mtensorflow\u001b[39;00m\u001b[38;5;21;01m.\u001b[39;00m\u001b[38;5;21;01mcore\u001b[39;00m\u001b[38;5;21;01m.\u001b[39;00m\u001b[38;5;21;01mprotobuf\u001b[39;00m \u001b[38;5;28;01mimport\u001b[39;00m coordination_config_pb2\n",
            "File \u001b[1;32mc:\\Users\\AMD\\AppData\\Local\\Programs\\Python\\Python310\\lib\\site-packages\\tensorflow\\core\\framework\\function_pb2.py:16\u001b[0m, in \u001b[0;36m<module>\u001b[1;34m\u001b[0m\n\u001b[0;32m     11\u001b[0m \u001b[38;5;66;03m# @@protoc_insertion_point(imports)\u001b[39;00m\n\u001b[0;32m     13\u001b[0m _sym_db \u001b[38;5;241m=\u001b[39m _symbol_database\u001b[38;5;241m.\u001b[39mDefault()\n\u001b[1;32m---> 16\u001b[0m \u001b[38;5;28;01mfrom\u001b[39;00m \u001b[38;5;21;01mtensorflow\u001b[39;00m\u001b[38;5;21;01m.\u001b[39;00m\u001b[38;5;21;01mcore\u001b[39;00m\u001b[38;5;21;01m.\u001b[39;00m\u001b[38;5;21;01mframework\u001b[39;00m \u001b[38;5;28;01mimport\u001b[39;00m attr_value_pb2 \u001b[38;5;28;01mas\u001b[39;00m tensorflow_dot_core_dot_framework_dot_attr__value__pb2\n\u001b[0;32m     17\u001b[0m \u001b[38;5;28;01mfrom\u001b[39;00m \u001b[38;5;21;01mtensorflow\u001b[39;00m\u001b[38;5;21;01m.\u001b[39;00m\u001b[38;5;21;01mcore\u001b[39;00m\u001b[38;5;21;01m.\u001b[39;00m\u001b[38;5;21;01mframework\u001b[39;00m \u001b[38;5;28;01mimport\u001b[39;00m node_def_pb2 \u001b[38;5;28;01mas\u001b[39;00m tensorflow_dot_core_dot_framework_dot_node__def__pb2\n\u001b[0;32m     18\u001b[0m \u001b[38;5;28;01mfrom\u001b[39;00m \u001b[38;5;21;01mtensorflow\u001b[39;00m\u001b[38;5;21;01m.\u001b[39;00m\u001b[38;5;21;01mcore\u001b[39;00m\u001b[38;5;21;01m.\u001b[39;00m\u001b[38;5;21;01mframework\u001b[39;00m \u001b[38;5;28;01mimport\u001b[39;00m op_def_pb2 \u001b[38;5;28;01mas\u001b[39;00m tensorflow_dot_core_dot_framework_dot_op__def__pb2\n",
            "File \u001b[1;32mc:\\Users\\AMD\\AppData\\Local\\Programs\\Python\\Python310\\lib\\site-packages\\tensorflow\\core\\framework\\attr_value_pb2.py:16\u001b[0m, in \u001b[0;36m<module>\u001b[1;34m\u001b[0m\n\u001b[0;32m     11\u001b[0m \u001b[38;5;66;03m# @@protoc_insertion_point(imports)\u001b[39;00m\n\u001b[0;32m     13\u001b[0m _sym_db \u001b[38;5;241m=\u001b[39m _symbol_database\u001b[38;5;241m.\u001b[39mDefault()\n\u001b[1;32m---> 16\u001b[0m \u001b[38;5;28;01mfrom\u001b[39;00m \u001b[38;5;21;01mtensorflow\u001b[39;00m\u001b[38;5;21;01m.\u001b[39;00m\u001b[38;5;21;01mcore\u001b[39;00m\u001b[38;5;21;01m.\u001b[39;00m\u001b[38;5;21;01mframework\u001b[39;00m \u001b[38;5;28;01mimport\u001b[39;00m tensor_pb2 \u001b[38;5;28;01mas\u001b[39;00m tensorflow_dot_core_dot_framework_dot_tensor__pb2\n\u001b[0;32m     17\u001b[0m \u001b[38;5;28;01mfrom\u001b[39;00m \u001b[38;5;21;01mtensorflow\u001b[39;00m\u001b[38;5;21;01m.\u001b[39;00m\u001b[38;5;21;01mcore\u001b[39;00m\u001b[38;5;21;01m.\u001b[39;00m\u001b[38;5;21;01mframework\u001b[39;00m \u001b[38;5;28;01mimport\u001b[39;00m tensor_shape_pb2 \u001b[38;5;28;01mas\u001b[39;00m tensorflow_dot_core_dot_framework_dot_tensor__shape__pb2\n\u001b[0;32m     18\u001b[0m \u001b[38;5;28;01mfrom\u001b[39;00m \u001b[38;5;21;01mtensorflow\u001b[39;00m\u001b[38;5;21;01m.\u001b[39;00m\u001b[38;5;21;01mcore\u001b[39;00m\u001b[38;5;21;01m.\u001b[39;00m\u001b[38;5;21;01mframework\u001b[39;00m \u001b[38;5;28;01mimport\u001b[39;00m types_pb2 \u001b[38;5;28;01mas\u001b[39;00m tensorflow_dot_core_dot_framework_dot_types__pb2\n",
            "File \u001b[1;32mc:\\Users\\AMD\\AppData\\Local\\Programs\\Python\\Python310\\lib\\site-packages\\tensorflow\\core\\framework\\tensor_pb2.py:16\u001b[0m, in \u001b[0;36m<module>\u001b[1;34m\u001b[0m\n\u001b[0;32m     11\u001b[0m \u001b[38;5;66;03m# @@protoc_insertion_point(imports)\u001b[39;00m\n\u001b[0;32m     13\u001b[0m _sym_db \u001b[38;5;241m=\u001b[39m _symbol_database\u001b[38;5;241m.\u001b[39mDefault()\n\u001b[1;32m---> 16\u001b[0m \u001b[38;5;28;01mfrom\u001b[39;00m \u001b[38;5;21;01mtensorflow\u001b[39;00m\u001b[38;5;21;01m.\u001b[39;00m\u001b[38;5;21;01mcore\u001b[39;00m\u001b[38;5;21;01m.\u001b[39;00m\u001b[38;5;21;01mframework\u001b[39;00m \u001b[38;5;28;01mimport\u001b[39;00m resource_handle_pb2 \u001b[38;5;28;01mas\u001b[39;00m tensorflow_dot_core_dot_framework_dot_resource__handle__pb2\n\u001b[0;32m     17\u001b[0m \u001b[38;5;28;01mfrom\u001b[39;00m \u001b[38;5;21;01mtensorflow\u001b[39;00m\u001b[38;5;21;01m.\u001b[39;00m\u001b[38;5;21;01mcore\u001b[39;00m\u001b[38;5;21;01m.\u001b[39;00m\u001b[38;5;21;01mframework\u001b[39;00m \u001b[38;5;28;01mimport\u001b[39;00m tensor_shape_pb2 \u001b[38;5;28;01mas\u001b[39;00m tensorflow_dot_core_dot_framework_dot_tensor__shape__pb2\n\u001b[0;32m     18\u001b[0m \u001b[38;5;28;01mfrom\u001b[39;00m \u001b[38;5;21;01mtensorflow\u001b[39;00m\u001b[38;5;21;01m.\u001b[39;00m\u001b[38;5;21;01mcore\u001b[39;00m\u001b[38;5;21;01m.\u001b[39;00m\u001b[38;5;21;01mframework\u001b[39;00m \u001b[38;5;28;01mimport\u001b[39;00m types_pb2 \u001b[38;5;28;01mas\u001b[39;00m tensorflow_dot_core_dot_framework_dot_types__pb2\n",
            "File \u001b[1;32mc:\\Users\\AMD\\AppData\\Local\\Programs\\Python\\Python310\\lib\\site-packages\\tensorflow\\core\\framework\\resource_handle_pb2.py:16\u001b[0m, in \u001b[0;36m<module>\u001b[1;34m\u001b[0m\n\u001b[0;32m     11\u001b[0m \u001b[38;5;66;03m# @@protoc_insertion_point(imports)\u001b[39;00m\n\u001b[0;32m     13\u001b[0m _sym_db \u001b[38;5;241m=\u001b[39m _symbol_database\u001b[38;5;241m.\u001b[39mDefault()\n\u001b[1;32m---> 16\u001b[0m \u001b[38;5;28;01mfrom\u001b[39;00m \u001b[38;5;21;01mtensorflow\u001b[39;00m\u001b[38;5;21;01m.\u001b[39;00m\u001b[38;5;21;01mcore\u001b[39;00m\u001b[38;5;21;01m.\u001b[39;00m\u001b[38;5;21;01mframework\u001b[39;00m \u001b[38;5;28;01mimport\u001b[39;00m tensor_shape_pb2 \u001b[38;5;28;01mas\u001b[39;00m tensorflow_dot_core_dot_framework_dot_tensor__shape__pb2\n\u001b[0;32m     17\u001b[0m \u001b[38;5;28;01mfrom\u001b[39;00m \u001b[38;5;21;01mtensorflow\u001b[39;00m\u001b[38;5;21;01m.\u001b[39;00m\u001b[38;5;21;01mcore\u001b[39;00m\u001b[38;5;21;01m.\u001b[39;00m\u001b[38;5;21;01mframework\u001b[39;00m \u001b[38;5;28;01mimport\u001b[39;00m types_pb2 \u001b[38;5;28;01mas\u001b[39;00m tensorflow_dot_core_dot_framework_dot_types__pb2\n\u001b[0;32m     20\u001b[0m DESCRIPTOR \u001b[38;5;241m=\u001b[39m _descriptor\u001b[38;5;241m.\u001b[39mFileDescriptor(\n\u001b[0;32m     21\u001b[0m   name\u001b[38;5;241m=\u001b[39m\u001b[38;5;124m'\u001b[39m\u001b[38;5;124mtensorflow/core/framework/resource_handle.proto\u001b[39m\u001b[38;5;124m'\u001b[39m,\n\u001b[0;32m     22\u001b[0m   package\u001b[38;5;241m=\u001b[39m\u001b[38;5;124m'\u001b[39m\u001b[38;5;124mtensorflow\u001b[39m\u001b[38;5;124m'\u001b[39m,\n\u001b[1;32m   (...)\u001b[0m\n\u001b[0;32m     26\u001b[0m   ,\n\u001b[0;32m     27\u001b[0m   dependencies\u001b[38;5;241m=\u001b[39m[tensorflow_dot_core_dot_framework_dot_tensor__shape__pb2\u001b[38;5;241m.\u001b[39mDESCRIPTOR,tensorflow_dot_core_dot_framework_dot_types__pb2\u001b[38;5;241m.\u001b[39mDESCRIPTOR,])\n",
            "File \u001b[1;32mc:\\Users\\AMD\\AppData\\Local\\Programs\\Python\\Python310\\lib\\site-packages\\tensorflow\\core\\framework\\tensor_shape_pb2.py:36\u001b[0m, in \u001b[0;36m<module>\u001b[1;34m\u001b[0m\n\u001b[0;32m     13\u001b[0m _sym_db \u001b[38;5;241m=\u001b[39m _symbol_database\u001b[38;5;241m.\u001b[39mDefault()\n\u001b[0;32m     18\u001b[0m DESCRIPTOR \u001b[38;5;241m=\u001b[39m _descriptor\u001b[38;5;241m.\u001b[39mFileDescriptor(\n\u001b[0;32m     19\u001b[0m   name\u001b[38;5;241m=\u001b[39m\u001b[38;5;124m'\u001b[39m\u001b[38;5;124mtensorflow/core/framework/tensor_shape.proto\u001b[39m\u001b[38;5;124m'\u001b[39m,\n\u001b[0;32m     20\u001b[0m   package\u001b[38;5;241m=\u001b[39m\u001b[38;5;124m'\u001b[39m\u001b[38;5;124mtensorflow\u001b[39m\u001b[38;5;124m'\u001b[39m,\n\u001b[1;32m   (...)\u001b[0m\n\u001b[0;32m     23\u001b[0m   serialized_pb\u001b[38;5;241m=\u001b[39m_b(\u001b[38;5;124m'\u001b[39m\u001b[38;5;130;01m\\n\u001b[39;00m\u001b[38;5;124m,tensorflow/core/framework/tensor_shape.proto\u001b[39m\u001b[38;5;130;01m\\x12\u001b[39;00m\u001b[38;5;130;01m\\n\u001b[39;00m\u001b[38;5;124mtensorflow\u001b[39m\u001b[38;5;130;01m\\\"\u001b[39;00m\u001b[38;5;124mz\u001b[39m\u001b[38;5;130;01m\\n\u001b[39;00m\u001b[38;5;130;01m\\x10\u001b[39;00m\u001b[38;5;124mTensorShapeProto\u001b[39m\u001b[38;5;130;01m\\x12\u001b[39;00m\u001b[38;5;124m-\u001b[39m\u001b[38;5;130;01m\\n\u001b[39;00m\u001b[38;5;130;01m\\x03\u001b[39;00m\u001b[38;5;130;01m\\x64\u001b[39;00m\u001b[38;5;124mim\u001b[39m\u001b[38;5;130;01m\\x18\u001b[39;00m\u001b[38;5;130;01m\\x02\u001b[39;00m\u001b[38;5;124m \u001b[39m\u001b[38;5;130;01m\\x03\u001b[39;00m\u001b[38;5;124m(\u001b[39m\u001b[38;5;130;01m\\x0b\u001b[39;00m\u001b[38;5;130;01m\\x32\u001b[39;00m\u001b[38;5;124m .tensorflow.TensorShapeProto.Dim\u001b[39m\u001b[38;5;130;01m\\x12\u001b[39;00m\u001b[38;5;130;01m\\x14\u001b[39;00m\u001b[38;5;130;01m\\n\u001b[39;00m\u001b[38;5;130;01m\\x0c\u001b[39;00m\u001b[38;5;124munknown_rank\u001b[39m\u001b[38;5;130;01m\\x18\u001b[39;00m\u001b[38;5;130;01m\\x03\u001b[39;00m\u001b[38;5;124m \u001b[39m\u001b[38;5;130;01m\\x01\u001b[39;00m\u001b[38;5;124m(\u001b[39m\u001b[38;5;130;01m\\x08\u001b[39;00m\u001b[38;5;130;01m\\x1a\u001b[39;00m\u001b[38;5;124m!\u001b[39m\u001b[38;5;130;01m\\n\u001b[39;00m\u001b[38;5;130;01m\\x03\u001b[39;00m\u001b[38;5;130;01m\\x44\u001b[39;00m\u001b[38;5;124mim\u001b[39m\u001b[38;5;130;01m\\x12\u001b[39;00m\u001b[38;5;130;01m\\x0c\u001b[39;00m\u001b[38;5;130;01m\\n\u001b[39;00m\u001b[38;5;130;01m\\x04\u001b[39;00m\u001b[38;5;124msize\u001b[39m\u001b[38;5;130;01m\\x18\u001b[39;00m\u001b[38;5;130;01m\\x01\u001b[39;00m\u001b[38;5;124m \u001b[39m\u001b[38;5;130;01m\\x01\u001b[39;00m\u001b[38;5;124m(\u001b[39m\u001b[38;5;130;01m\\x03\u001b[39;00m\u001b[38;5;130;01m\\x12\u001b[39;00m\u001b[38;5;130;01m\\x0c\u001b[39;00m\u001b[38;5;130;01m\\n\u001b[39;00m\u001b[38;5;130;01m\\x04\u001b[39;00m\u001b[38;5;124mname\u001b[39m\u001b[38;5;130;01m\\x18\u001b[39;00m\u001b[38;5;130;01m\\x02\u001b[39;00m\u001b[38;5;124m \u001b[39m\u001b[38;5;130;01m\\x01\u001b[39;00m\u001b[38;5;124m(\u001b[39m\u001b[38;5;130;01m\\t\u001b[39;00m\u001b[38;5;124mB\u001b[39m\u001b[38;5;130;01m\\x87\u001b[39;00m\u001b[38;5;130;01m\\x01\u001b[39;00m\u001b[38;5;130;01m\\n\u001b[39;00m\u001b[38;5;130;01m\\x18\u001b[39;00m\u001b[38;5;124morg.tensorflow.frameworkB\u001b[39m\u001b[38;5;130;01m\\x11\u001b[39;00m\u001b[38;5;124mTensorShapeProtosP\u001b[39m\u001b[38;5;130;01m\\x01\u001b[39;00m\u001b[38;5;124mZSgithub.com/tensorflow/tensorflow/tensorflow/go/core/framework/tensor_shape_go_proto\u001b[39m\u001b[38;5;130;01m\\xf8\u001b[39;00m\u001b[38;5;130;01m\\x01\u001b[39;00m\u001b[38;5;130;01m\\x01\u001b[39;00m\u001b[38;5;130;01m\\x62\u001b[39;00m\u001b[38;5;130;01m\\x06\u001b[39;00m\u001b[38;5;124mproto3\u001b[39m\u001b[38;5;124m'\u001b[39m)\n\u001b[0;32m     24\u001b[0m )\n\u001b[0;32m     29\u001b[0m _TENSORSHAPEPROTO_DIM \u001b[38;5;241m=\u001b[39m _descriptor\u001b[38;5;241m.\u001b[39mDescriptor(\n\u001b[0;32m     30\u001b[0m   name\u001b[38;5;241m=\u001b[39m\u001b[38;5;124m'\u001b[39m\u001b[38;5;124mDim\u001b[39m\u001b[38;5;124m'\u001b[39m,\n\u001b[0;32m     31\u001b[0m   full_name\u001b[38;5;241m=\u001b[39m\u001b[38;5;124m'\u001b[39m\u001b[38;5;124mtensorflow.TensorShapeProto.Dim\u001b[39m\u001b[38;5;124m'\u001b[39m,\n\u001b[0;32m     32\u001b[0m   filename\u001b[38;5;241m=\u001b[39m\u001b[38;5;28;01mNone\u001b[39;00m,\n\u001b[0;32m     33\u001b[0m   file\u001b[38;5;241m=\u001b[39mDESCRIPTOR,\n\u001b[0;32m     34\u001b[0m   containing_type\u001b[38;5;241m=\u001b[39m\u001b[38;5;28;01mNone\u001b[39;00m,\n\u001b[0;32m     35\u001b[0m   fields\u001b[38;5;241m=\u001b[39m[\n\u001b[1;32m---> 36\u001b[0m     \u001b[43m_descriptor\u001b[49m\u001b[38;5;241;43m.\u001b[39;49m\u001b[43mFieldDescriptor\u001b[49m\u001b[43m(\u001b[49m\n\u001b[0;32m     37\u001b[0m \u001b[43m      \u001b[49m\u001b[43mname\u001b[49m\u001b[38;5;241;43m=\u001b[39;49m\u001b[38;5;124;43m'\u001b[39;49m\u001b[38;5;124;43msize\u001b[39;49m\u001b[38;5;124;43m'\u001b[39;49m\u001b[43m,\u001b[49m\u001b[43m \u001b[49m\u001b[43mfull_name\u001b[49m\u001b[38;5;241;43m=\u001b[39;49m\u001b[38;5;124;43m'\u001b[39;49m\u001b[38;5;124;43mtensorflow.TensorShapeProto.Dim.size\u001b[39;49m\u001b[38;5;124;43m'\u001b[39;49m\u001b[43m,\u001b[49m\u001b[43m \u001b[49m\u001b[43mindex\u001b[49m\u001b[38;5;241;43m=\u001b[39;49m\u001b[38;5;241;43m0\u001b[39;49m\u001b[43m,\u001b[49m\n\u001b[0;32m     38\u001b[0m \u001b[43m      \u001b[49m\u001b[43mnumber\u001b[49m\u001b[38;5;241;43m=\u001b[39;49m\u001b[38;5;241;43m1\u001b[39;49m\u001b[43m,\u001b[49m\u001b[43m \u001b[49m\u001b[38;5;28;43mtype\u001b[39;49m\u001b[38;5;241;43m=\u001b[39;49m\u001b[38;5;241;43m3\u001b[39;49m\u001b[43m,\u001b[49m\u001b[43m \u001b[49m\u001b[43mcpp_type\u001b[49m\u001b[38;5;241;43m=\u001b[39;49m\u001b[38;5;241;43m2\u001b[39;49m\u001b[43m,\u001b[49m\u001b[43m \u001b[49m\u001b[43mlabel\u001b[49m\u001b[38;5;241;43m=\u001b[39;49m\u001b[38;5;241;43m1\u001b[39;49m\u001b[43m,\u001b[49m\n\u001b[0;32m     39\u001b[0m \u001b[43m      \u001b[49m\u001b[43mhas_default_value\u001b[49m\u001b[38;5;241;43m=\u001b[39;49m\u001b[38;5;28;43;01mFalse\u001b[39;49;00m\u001b[43m,\u001b[49m\u001b[43m \u001b[49m\u001b[43mdefault_value\u001b[49m\u001b[38;5;241;43m=\u001b[39;49m\u001b[38;5;241;43m0\u001b[39;49m\u001b[43m,\u001b[49m\n\u001b[0;32m     40\u001b[0m \u001b[43m      \u001b[49m\u001b[43mmessage_type\u001b[49m\u001b[38;5;241;43m=\u001b[39;49m\u001b[38;5;28;43;01mNone\u001b[39;49;00m\u001b[43m,\u001b[49m\u001b[43m \u001b[49m\u001b[43menum_type\u001b[49m\u001b[38;5;241;43m=\u001b[39;49m\u001b[38;5;28;43;01mNone\u001b[39;49;00m\u001b[43m,\u001b[49m\u001b[43m \u001b[49m\u001b[43mcontaining_type\u001b[49m\u001b[38;5;241;43m=\u001b[39;49m\u001b[38;5;28;43;01mNone\u001b[39;49;00m\u001b[43m,\u001b[49m\n\u001b[0;32m     41\u001b[0m \u001b[43m      \u001b[49m\u001b[43mis_extension\u001b[49m\u001b[38;5;241;43m=\u001b[39;49m\u001b[38;5;28;43;01mFalse\u001b[39;49;00m\u001b[43m,\u001b[49m\u001b[43m \u001b[49m\u001b[43mextension_scope\u001b[49m\u001b[38;5;241;43m=\u001b[39;49m\u001b[38;5;28;43;01mNone\u001b[39;49;00m\u001b[43m,\u001b[49m\n\u001b[0;32m     42\u001b[0m \u001b[43m      \u001b[49m\u001b[43mserialized_options\u001b[49m\u001b[38;5;241;43m=\u001b[39;49m\u001b[38;5;28;43;01mNone\u001b[39;49;00m\u001b[43m,\u001b[49m\u001b[43m \u001b[49m\u001b[43mfile\u001b[49m\u001b[38;5;241;43m=\u001b[39;49m\u001b[43mDESCRIPTOR\u001b[49m\u001b[43m)\u001b[49m,\n\u001b[0;32m     43\u001b[0m     _descriptor\u001b[38;5;241m.\u001b[39mFieldDescriptor(\n\u001b[0;32m     44\u001b[0m       name\u001b[38;5;241m=\u001b[39m\u001b[38;5;124m'\u001b[39m\u001b[38;5;124mname\u001b[39m\u001b[38;5;124m'\u001b[39m, full_name\u001b[38;5;241m=\u001b[39m\u001b[38;5;124m'\u001b[39m\u001b[38;5;124mtensorflow.TensorShapeProto.Dim.name\u001b[39m\u001b[38;5;124m'\u001b[39m, index\u001b[38;5;241m=\u001b[39m\u001b[38;5;241m1\u001b[39m,\n\u001b[0;32m     45\u001b[0m       number\u001b[38;5;241m=\u001b[39m\u001b[38;5;241m2\u001b[39m, \u001b[38;5;28mtype\u001b[39m\u001b[38;5;241m=\u001b[39m\u001b[38;5;241m9\u001b[39m, cpp_type\u001b[38;5;241m=\u001b[39m\u001b[38;5;241m9\u001b[39m, label\u001b[38;5;241m=\u001b[39m\u001b[38;5;241m1\u001b[39m,\n\u001b[0;32m     46\u001b[0m       has_default_value\u001b[38;5;241m=\u001b[39m\u001b[38;5;28;01mFalse\u001b[39;00m, default_value\u001b[38;5;241m=\u001b[39m_b(\u001b[38;5;124m\"\u001b[39m\u001b[38;5;124m\"\u001b[39m)\u001b[38;5;241m.\u001b[39mdecode(\u001b[38;5;124m'\u001b[39m\u001b[38;5;124mutf-8\u001b[39m\u001b[38;5;124m'\u001b[39m),\n\u001b[0;32m     47\u001b[0m       message_type\u001b[38;5;241m=\u001b[39m\u001b[38;5;28;01mNone\u001b[39;00m, enum_type\u001b[38;5;241m=\u001b[39m\u001b[38;5;28;01mNone\u001b[39;00m, containing_type\u001b[38;5;241m=\u001b[39m\u001b[38;5;28;01mNone\u001b[39;00m,\n\u001b[0;32m     48\u001b[0m       is_extension\u001b[38;5;241m=\u001b[39m\u001b[38;5;28;01mFalse\u001b[39;00m, extension_scope\u001b[38;5;241m=\u001b[39m\u001b[38;5;28;01mNone\u001b[39;00m,\n\u001b[0;32m     49\u001b[0m       serialized_options\u001b[38;5;241m=\u001b[39m\u001b[38;5;28;01mNone\u001b[39;00m, file\u001b[38;5;241m=\u001b[39mDESCRIPTOR),\n\u001b[0;32m     50\u001b[0m   ],\n\u001b[0;32m     51\u001b[0m   extensions\u001b[38;5;241m=\u001b[39m[\n\u001b[0;32m     52\u001b[0m   ],\n\u001b[0;32m     53\u001b[0m   nested_types\u001b[38;5;241m=\u001b[39m[],\n\u001b[0;32m     54\u001b[0m   enum_types\u001b[38;5;241m=\u001b[39m[\n\u001b[0;32m     55\u001b[0m   ],\n\u001b[0;32m     56\u001b[0m   serialized_options\u001b[38;5;241m=\u001b[39m\u001b[38;5;28;01mNone\u001b[39;00m,\n\u001b[0;32m     57\u001b[0m   is_extendable\u001b[38;5;241m=\u001b[39m\u001b[38;5;28;01mFalse\u001b[39;00m,\n\u001b[0;32m     58\u001b[0m   syntax\u001b[38;5;241m=\u001b[39m\u001b[38;5;124m'\u001b[39m\u001b[38;5;124mproto3\u001b[39m\u001b[38;5;124m'\u001b[39m,\n\u001b[0;32m     59\u001b[0m   extension_ranges\u001b[38;5;241m=\u001b[39m[],\n\u001b[0;32m     60\u001b[0m   oneofs\u001b[38;5;241m=\u001b[39m[\n\u001b[0;32m     61\u001b[0m   ],\n\u001b[0;32m     62\u001b[0m   serialized_start\u001b[38;5;241m=\u001b[39m\u001b[38;5;241m149\u001b[39m,\n\u001b[0;32m     63\u001b[0m   serialized_end\u001b[38;5;241m=\u001b[39m\u001b[38;5;241m182\u001b[39m,\n\u001b[0;32m     64\u001b[0m )\n\u001b[0;32m     66\u001b[0m _TENSORSHAPEPROTO \u001b[38;5;241m=\u001b[39m _descriptor\u001b[38;5;241m.\u001b[39mDescriptor(\n\u001b[0;32m     67\u001b[0m   name\u001b[38;5;241m=\u001b[39m\u001b[38;5;124m'\u001b[39m\u001b[38;5;124mTensorShapeProto\u001b[39m\u001b[38;5;124m'\u001b[39m,\n\u001b[0;32m     68\u001b[0m   full_name\u001b[38;5;241m=\u001b[39m\u001b[38;5;124m'\u001b[39m\u001b[38;5;124mtensorflow.TensorShapeProto\u001b[39m\u001b[38;5;124m'\u001b[39m,\n\u001b[1;32m   (...)\u001b[0m\n\u001b[0;32m    100\u001b[0m   serialized_end\u001b[38;5;241m=\u001b[39m\u001b[38;5;241m182\u001b[39m,\n\u001b[0;32m    101\u001b[0m )\n\u001b[0;32m    103\u001b[0m _TENSORSHAPEPROTO_DIM\u001b[38;5;241m.\u001b[39mcontaining_type \u001b[38;5;241m=\u001b[39m _TENSORSHAPEPROTO\n",
            "File \u001b[1;32mc:\\Users\\AMD\\AppData\\Local\\Programs\\Python\\Python310\\lib\\site-packages\\google\\protobuf\\descriptor.py:561\u001b[0m, in \u001b[0;36mFieldDescriptor.__new__\u001b[1;34m(cls, name, full_name, index, number, type, cpp_type, label, default_value, message_type, enum_type, containing_type, is_extension, extension_scope, options, serialized_options, has_default_value, containing_oneof, json_name, file, create_key)\u001b[0m\n\u001b[0;32m    555\u001b[0m \u001b[38;5;28;01mdef\u001b[39;00m \u001b[38;5;21m__new__\u001b[39m(\u001b[38;5;28mcls\u001b[39m, name, full_name, index, number, \u001b[38;5;28mtype\u001b[39m, cpp_type, label,\n\u001b[0;32m    556\u001b[0m             default_value, message_type, enum_type, containing_type,\n\u001b[0;32m    557\u001b[0m             is_extension, extension_scope, options\u001b[38;5;241m=\u001b[39m\u001b[38;5;28;01mNone\u001b[39;00m,\n\u001b[0;32m    558\u001b[0m             serialized_options\u001b[38;5;241m=\u001b[39m\u001b[38;5;28;01mNone\u001b[39;00m,\n\u001b[0;32m    559\u001b[0m             has_default_value\u001b[38;5;241m=\u001b[39m\u001b[38;5;28;01mTrue\u001b[39;00m, containing_oneof\u001b[38;5;241m=\u001b[39m\u001b[38;5;28;01mNone\u001b[39;00m, json_name\u001b[38;5;241m=\u001b[39m\u001b[38;5;28;01mNone\u001b[39;00m,\n\u001b[0;32m    560\u001b[0m             file\u001b[38;5;241m=\u001b[39m\u001b[38;5;28;01mNone\u001b[39;00m, create_key\u001b[38;5;241m=\u001b[39m\u001b[38;5;28;01mNone\u001b[39;00m):  \u001b[38;5;66;03m# pylint: disable=redefined-builtin\u001b[39;00m\n\u001b[1;32m--> 561\u001b[0m   \u001b[43m_message\u001b[49m\u001b[38;5;241;43m.\u001b[39;49m\u001b[43mMessage\u001b[49m\u001b[38;5;241;43m.\u001b[39;49m\u001b[43m_CheckCalledFromGeneratedFile\u001b[49m\u001b[43m(\u001b[49m\u001b[43m)\u001b[49m\n\u001b[0;32m    562\u001b[0m   \u001b[38;5;28;01mif\u001b[39;00m is_extension:\n\u001b[0;32m    563\u001b[0m     \u001b[38;5;28;01mreturn\u001b[39;00m _message\u001b[38;5;241m.\u001b[39mdefault_pool\u001b[38;5;241m.\u001b[39mFindExtensionByName(full_name)\n",
            "\u001b[1;31mTypeError\u001b[0m: Descriptors cannot not be created directly.\nIf this call came from a _pb2.py file, your generated code is out of date and must be regenerated with protoc >= 3.19.0.\nIf you cannot immediately regenerate your protos, some other possible workarounds are:\n 1. Downgrade the protobuf package to 3.20.x or lower.\n 2. Set PROTOCOL_BUFFERS_PYTHON_IMPLEMENTATION=python (but this will use pure-Python parsing and will be much slower).\n\nMore information: https://developers.google.com/protocol-buffers/docs/news/2022-05-06#python-updates"
          ]
        }
      ],
      "source": [
        "import tensorflow as tf\n",
        "from tensorflow.keras import layers, models\n",
        "from sklearn.model_selection import train_test_split\n",
        "from sklearn.preprocessing import LabelEncoder\n",
        "from tensorflow.keras.models import Sequential\n",
        "from tensorflow.keras.layers import Dense\n",
        "from tensorflow.keras.optimizers import Adam\n",
        "\n",
        "\n",
        "df_tr=questionToMode_df.copy()\n",
        "#for label\n",
        "df_tr = pd.get_dummies(df_tr, columns=['Q16'], prefix='Q16')\n",
        "\n",
        "#for features\n",
        "label_encoder = LabelEncoder()\n",
        "categorical_columns = df_tr.columns[:-4]\n",
        "for col in categorical_columns:\n",
        "    df_tr[col] = label_encoder.fit_transform(df_tr[col])\n",
        "\n",
        "X = df_tr.drop(['Q16_0', 'Q16_1', 'Q16_2', 'Q16_3'], axis=1)\n",
        "y = df_tr[['Q16_0', 'Q16_1', 'Q16_2', 'Q16_3']]\n",
        "\n",
        "#train-test-split\n",
        "X_train, X_test, y_train, y_test = train_test_split(X, y, test_size=0.2, random_state=42)\n",
        "\n",
        "#model\n",
        "\n",
        "model = Sequential()\n",
        "model.add(Dense(256, input_dim=75, activation='relu'))\n",
        "model.add(Dense(128, activation='relu'))\n",
        "model.add(Dense(64, activation='relu'))\n",
        "model.add(Dense(4, activation='softmax'))\n",
        "\n",
        "\n",
        "\n",
        "\n",
        "model.compile(loss='categorical_crossentropy',\n",
        "              optimizer=Adam(learning_rate=0.001),\n",
        "              metrics=['accuracy'])\n",
        "\n",
        "\n",
        "model_result = model.fit(X_train, y_train, epochs=80,validation_data=(X_test, y_test))"
      ]
    },
    {
      "cell_type": "markdown",
      "metadata": {
        "id": "xrksmOBhWQAQ"
      },
      "source": [
        "### PyTorch Classifier"
      ]
    },
    {
      "cell_type": "code",
      "execution_count": 34,
      "metadata": {
        "id": "Oaio8HLwWQAQ"
      },
      "outputs": [
        {
          "name": "stdout",
          "output_type": "stream",
          "text": [
            "2.1.2+cpu\n"
          ]
        }
      ],
      "source": [
        "# Check Torch version\n",
        "import torch\n",
        "print(torch.__version__)"
      ]
    },
    {
      "cell_type": "code",
      "execution_count": 35,
      "metadata": {
        "id": "FJwRyYW6WQAQ"
      },
      "outputs": [],
      "source": [
        "def ConvertNumpyToTorch(x_train, x_test, y_train, y_test):\n",
        "    x_train, x_test = torch.from_numpy(x_train.values), torch.from_numpy(x_test.values)\n",
        "    y_train, y_test = torch.from_numpy(y_train.values), torch.from_numpy(y_test.values)\n",
        "    return x_train, x_test, y_train, y_test"
      ]
    },
    {
      "cell_type": "code",
      "execution_count": 118,
      "metadata": {
        "id": "6SwY4KihWQAQ"
      },
      "outputs": [],
      "source": [
        "from torch import nn\n",
        "from torch.nn.functional import one_hot\n",
        "\n",
        "def accuracy_fn(y_true, y_pred):\n",
        "    correct = torch.eq(y_true, y_pred).sum().item()\n",
        "    acc = (correct / len(y_pred)) * 100\n",
        "    return acc\n",
        "\n",
        "class PyTorchClassifier(nn.Module):\n",
        "    def __init__(self, input_layers, hidden_layers, output_layers):\n",
        "        super().__init__()\n",
        "        self.layer_1 = nn.Linear(in_features=input_layers, out_features=256).to(dtype=torch.float64)\n",
        "        self.relu = nn.ReLU()\n",
        "\n",
        "        self.layer_2= nn.Linear(in_features=256, out_features=128).to(dtype=torch.float64)\n",
        "        self.relu2 = nn.ReLU()\n",
        "\n",
        "        self.layer_6 = nn.Linear(in_features=128, out_features=32).to(dtype=torch.float64)\n",
        "        self.relu6 = nn.ReLU()\n",
        "\n",
        "        self.layer_7 = nn.Linear(in_features=32, out_features=4).to(dtype=torch.float64)\n",
        "        self.softmax = nn.Softmax(dim=1)\n",
        "\n",
        "    def forward(self, x):\n",
        "        x = self.relu(self.layer_1(x).to(dtype=torch.float64)).to(dtype=torch.float64)\n",
        "        x = self.relu2(self.layer_2(x).to(dtype=torch.float64)).to(dtype=torch.float64)\n",
        "        x = self.relu6(self.layer_6(x).to(dtype=torch.float64)).to(dtype=torch.float64)\n",
        "        x = self.layer_7(x).to(dtype=torch.float64)\n",
        "        x = x = self.softmax(x)\n",
        "        return x\n",
        "\n",
        "results_pytorch = []\n",
        "def PyTorch_TrainTest_Step(model: torch.nn.Module,\n",
        "                       x_train, x_test, y_train, y_test,\n",
        "                       loss_fn,\n",
        "                       accuracy_fn,\n",
        "                       optimizer: torch.optim.Optimizer,\n",
        "                       feature_elimination_name,\n",
        "                       scaler_name,\n",
        "                       epochs = 20000):\n",
        "\n",
        "    best_accuracy, best_loss, best_epoch = 0, 0, 0\n",
        "    for epoch in range(epochs):\n",
        "        model.train()\n",
        "        y_pred = model(x_train.to(dtype=torch.float64))\n",
        "        loss = loss_fn(y_pred, y_train.squeeze().to(torch.long))\n",
        "\n",
        "        #acc = accuracy_fn(y_train.squeeze().to(torch.long), y_pred.argmax(dim = 1))\n",
        "        optimizer.zero_grad()\n",
        "        loss.backward()\n",
        "        optimizer.step()\n",
        "\n",
        "        model.eval()\n",
        "        with torch.inference_mode():\n",
        "            test_y_pred = model(x_test.to(dtype=torch.float64))\n",
        "            test_loss = loss_fn(test_y_pred, y_test.squeeze().to(torch.long))\n",
        "            test_acc = accuracy_fn(y_test.squeeze().to(torch.long), test_y_pred.argmax(dim = 1))\n",
        "            if(test_acc > best_accuracy):\n",
        "                best_accuracy, best_loss, best_epoch = test_acc, test_loss, epoch\n",
        "                result = f\"Model: PyTorch Best Epoch: {best_epoch} | Best Loss: {best_loss:.5f} | Best Acc: {best_accuracy:.2f}%  with {feature_elimination_name}, {scaler_name},{type(loss_fn).__name__}, len = {x_train.size()[1]} and {type(optimizer).__name__}, lr = {optimizer.param_groups[0]['lr']}\"\n",
        "                print(result)\n",
        "\n",
        "    results_pytorch.append(result)\n",
        "    print(f\"END OF FIRST ITERATION WITH FEATURES LEN = {x_train.size()[1]}\")\n",
        "    return {\n",
        "            \"Accuracy\": best_accuracy,\n",
        "            \"Model_Name\": \"PyTorch\",\n",
        "            \"HyperParameters\": f\"Model: PyTorch Best Epoch: {best_epoch} | Best Loss: {best_loss:.5f} | Best Acc: {best_accuracy:.2f}%  with {feature_elimination_name}, {scaler_name},{type(loss_fn).__name__}, len = {x_train.size()[1]} and {type(optimizer).__name__}, lr = {optimizer.param_groups[0]['lr']}\"\n",
        "        }"
      ]
    },
    {
      "cell_type": "markdown",
      "metadata": {
        "id": "qZmeaSQZWQAQ"
      },
      "source": [
        "### Method For Running Spesific Method with Spesific Parameters"
      ]
    },
    {
      "cell_type": "code",
      "execution_count": 72,
      "metadata": {
        "id": "B2l6lrG8WQAR"
      },
      "outputs": [],
      "source": [
        "from sklearn.exceptions import DataConversionWarning\n",
        "import warnings\n",
        "from sklearn.preprocessing import OneHotEncoder\n",
        "\n",
        "algorithms_results = []\n",
        "# Ignore specific warnings\n",
        "warnings.filterwarnings(\"ignore\", category=DataConversionWarning)\n",
        "warnings.filterwarnings(\"ignore\", category=DataConversionWarning)\n",
        "\n",
        "def RunThePredictAlgorithm(df, max_feature, scaling_method, FeatureEliminationMethod, MLORDLAlgorithm,\n",
        "                           IsPytorch = False,  loss_method = None, accuracy_method = None, optimizer_method = None, lr = 0.1, version_numer = 'V1',\n",
        "                           IsTensor = False) -> bool | None:\n",
        "\n",
        "    if(scaling_method == 'min-max'):\n",
        "        X, y = min_max_scaled_items[\"X\"], min_max_scaled_items[\"y\"]\n",
        "    elif(scaling_method == 'standart'):\n",
        "        X, y = stc_scaled_items[\"X\"], stc_scaled_items[\"y\"]\n",
        "    elif(scaling_method == 'robust'):\n",
        "        X, y = robust_scaled_items[\"X\"], robust_scaled_items[\"y\"]\n",
        "    else:\n",
        "        print(\"Scaling method not acceptable try acceptable scaling_method ['min-max', 'standart', 'robust']\")\n",
        "        return False\n",
        "\n",
        "    if IsPytorch == False and IsTensor == False:\n",
        "        for i in range(1,max_feature):\n",
        "            feature_eliminated_df = FeatureEliminationMethod(df = df, X = X, y = y, n_features_to_select = i)\n",
        "            x_train, x_test, y_train, y_test = train_test_split_modified(feature_eliminated_df)\n",
        "            result = MLORDLAlgorithm(x_train, x_test, y_train, y_test)\n",
        "            result[\"FeatureEliminationMethod\"] = FeatureEliminationMethod.__name__\n",
        "            SaveResults(result, str(MLORDLAlgorithm.__name__) + \"_\" + str(FeatureEliminationMethod.__name__) + \"_\" + scaling_method +'_' + version_numer +\".txt\")\n",
        "            algorithms_results.append(result)\n",
        "\n",
        "    elif IsPytorch == True and IsTensor == False:\n",
        "        #for i in range(68, max_feature):\n",
        "            feature_eliminated_df = FeatureEliminationMethod(df = df, X = X, y = y, n_features_to_select = max_feature)\n",
        "            x_train, x_test, y_train, y_test = train_test_split_modified(feature_eliminated_df)\n",
        "            x_train, x_test, y_train, y_test = ConvertNumpyToTorch(x_train, x_test, y_train, y_test)\n",
        "\n",
        "            pytorch_model = PyTorchClassifier(x_train.shape[1], 256, len(y_train.unique()))\n",
        "            #print(pytorch_model.parameters)\n",
        "\n",
        "            if optimizer_method == 'Adam':\n",
        "                optimizer_fn = torch.optim.Adam(params = pytorch_model.parameters(), lr = lr)\n",
        "            elif optimizer_method == 'SGD':\n",
        "                optimizer_fn = torch.optim.SGD(params = pytorch_model.parameters(), lr = lr)\n",
        "            else:\n",
        "                print(\"You give a wrong optimizer name, pls try again. Accepted optimizer names = 'Adam' or 'SGD' \")\n",
        "                return False\n",
        "\n",
        "            result = MLORDLAlgorithm(model = pytorch_model,\n",
        "                                x_train = x_train.to(dtype=torch.float64), x_test = x_test.to(dtype=torch.float64), y_train = y_train.to(dtype=torch.float64), y_test = y_test.to(dtype=torch.float64),\n",
        "                                loss_fn = loss_method,\n",
        "                                accuracy_fn = accuracy_method,\n",
        "                                optimizer = optimizer_fn,\n",
        "                                feature_elimination_name = FeatureEliminationMethod.__name__,\n",
        "                                scaler_name = scaling_method)\n",
        "            result[\"FeatureEliminationMethod\"] = FeatureEliminationMethod.__name__\n",
        "            SaveResults(result, txt_name=\"PyTorch\" + '_' + str(FeatureEliminationMethod.__name__) + '_' + str(scaling_method) + '_' + 'optimizer_method' + '_' + str(lr) + '_' + version_numer +\".txt\")\n",
        "            algorithms_results.append(result)\n",
        "\n",
        "    elif IsPytorch == False and IsTensor == True:\n",
        "        return True\n",
        "\n",
        "    else:\n",
        "        print(\"You can just set True IsPytorch or IsTensor at the same time, try again\")\n",
        "        return False"
      ]
    },
    {
      "cell_type": "markdown",
      "metadata": {
        "id": "lLU97HwJWQAR"
      },
      "source": [
        "### Method For Finding Max Accuracy's Situation Details"
      ]
    },
    {
      "cell_type": "code",
      "execution_count": 38,
      "metadata": {
        "id": "mW9YdVguWQAR"
      },
      "outputs": [],
      "source": [
        "def FindBestModel(results_list):\n",
        "    best_accuracy = 0\n",
        "    best_accuracy_index = 0\n",
        "    for i in range(len(results_list)):\n",
        "        if(results_list[i]['Accuracy'] > best_accuracy):\n",
        "            best_accuracy_index = i\n",
        "    return best_accuracy_index"
      ]
    },
    {
      "cell_type": "code",
      "execution_count": null,
      "metadata": {
        "id": "u3JmcNKWWQAR"
      },
      "outputs": [],
      "source": [
        "# Run KNN wiit RFEFeatureElimination and min-max scaler\n",
        "RunThePredictAlgorithm(questionToMode_df, 50, 'min-max', RFEFeatureElimination, KNN)"
      ]
    },
    {
      "cell_type": "code",
      "execution_count": 102,
      "metadata": {},
      "outputs": [
        {
          "name": "stdout",
          "output_type": "stream",
          "text": [
            "Model: PyTorch Best Epoch: 0 | Best Loss: 19.06847 | Best Acc: 44.60%  with RFEFeatureElimination, min-max,CrossEntropyLoss, len = 75 and Adam, lr = 0.001\n",
            "Model: PyTorch Best Epoch: 44 | Best Loss: 1.30838 | Best Acc: 44.66%  with RFEFeatureElimination, min-max,CrossEntropyLoss, len = 75 and Adam, lr = 0.001\n",
            "Model: PyTorch Best Epoch: 62 | Best Loss: 1.25747 | Best Acc: 44.73%  with RFEFeatureElimination, min-max,CrossEntropyLoss, len = 75 and Adam, lr = 0.001\n",
            "Model: PyTorch Best Epoch: 71 | Best Loss: 1.25996 | Best Acc: 44.86%  with RFEFeatureElimination, min-max,CrossEntropyLoss, len = 75 and Adam, lr = 0.001\n",
            "Model: PyTorch Best Epoch: 97 | Best Loss: 1.21465 | Best Acc: 44.99%  with RFEFeatureElimination, min-max,CrossEntropyLoss, len = 75 and Adam, lr = 0.001\n",
            "Model: PyTorch Best Epoch: 103 | Best Loss: 1.20542 | Best Acc: 45.12%  with RFEFeatureElimination, min-max,CrossEntropyLoss, len = 75 and Adam, lr = 0.001\n",
            "Model: PyTorch Best Epoch: 108 | Best Loss: 1.19937 | Best Acc: 45.91%  with RFEFeatureElimination, min-max,CrossEntropyLoss, len = 75 and Adam, lr = 0.001\n",
            "Model: PyTorch Best Epoch: 110 | Best Loss: 1.19257 | Best Acc: 46.30%  with RFEFeatureElimination, min-max,CrossEntropyLoss, len = 75 and Adam, lr = 0.001\n",
            "Model: PyTorch Best Epoch: 113 | Best Loss: 1.19063 | Best Acc: 46.63%  with RFEFeatureElimination, min-max,CrossEntropyLoss, len = 75 and Adam, lr = 0.001\n",
            "Model: PyTorch Best Epoch: 116 | Best Loss: 1.18481 | Best Acc: 46.95%  with RFEFeatureElimination, min-max,CrossEntropyLoss, len = 75 and Adam, lr = 0.001\n",
            "Model: PyTorch Best Epoch: 128 | Best Loss: 1.16386 | Best Acc: 47.94%  with RFEFeatureElimination, min-max,CrossEntropyLoss, len = 75 and Adam, lr = 0.001\n",
            "Model: PyTorch Best Epoch: 130 | Best Loss: 1.15789 | Best Acc: 48.07%  with RFEFeatureElimination, min-max,CrossEntropyLoss, len = 75 and Adam, lr = 0.001\n",
            "Model: PyTorch Best Epoch: 133 | Best Loss: 1.15575 | Best Acc: 48.72%  with RFEFeatureElimination, min-max,CrossEntropyLoss, len = 75 and Adam, lr = 0.001\n",
            "Model: PyTorch Best Epoch: 141 | Best Loss: 1.14046 | Best Acc: 49.64%  with RFEFeatureElimination, min-max,CrossEntropyLoss, len = 75 and Adam, lr = 0.001\n",
            "Model: PyTorch Best Epoch: 146 | Best Loss: 1.13308 | Best Acc: 51.74%  with RFEFeatureElimination, min-max,CrossEntropyLoss, len = 75 and Adam, lr = 0.001\n",
            "Model: PyTorch Best Epoch: 165 | Best Loss: 1.15861 | Best Acc: 54.94%  with RFEFeatureElimination, min-max,CrossEntropyLoss, len = 75 and Adam, lr = 0.001\n",
            "Model: PyTorch Best Epoch: 205 | Best Loss: 1.17475 | Best Acc: 55.73%  with RFEFeatureElimination, min-max,CrossEntropyLoss, len = 75 and Adam, lr = 0.001\n",
            "Model: PyTorch Best Epoch: 273 | Best Loss: 1.04496 | Best Acc: 56.39%  with RFEFeatureElimination, min-max,CrossEntropyLoss, len = 75 and Adam, lr = 0.001\n",
            "Model: PyTorch Best Epoch: 275 | Best Loss: 1.04551 | Best Acc: 57.04%  with RFEFeatureElimination, min-max,CrossEntropyLoss, len = 75 and Adam, lr = 0.001\n",
            "Model: PyTorch Best Epoch: 281 | Best Loss: 1.04184 | Best Acc: 57.11%  with RFEFeatureElimination, min-max,CrossEntropyLoss, len = 75 and Adam, lr = 0.001\n",
            "Model: PyTorch Best Epoch: 283 | Best Loss: 1.03965 | Best Acc: 57.43%  with RFEFeatureElimination, min-max,CrossEntropyLoss, len = 75 and Adam, lr = 0.001\n",
            "Model: PyTorch Best Epoch: 291 | Best Loss: 1.03385 | Best Acc: 57.50%  with RFEFeatureElimination, min-max,CrossEntropyLoss, len = 75 and Adam, lr = 0.001\n",
            "Model: PyTorch Best Epoch: 293 | Best Loss: 1.03133 | Best Acc: 57.69%  with RFEFeatureElimination, min-max,CrossEntropyLoss, len = 75 and Adam, lr = 0.001\n",
            "Model: PyTorch Best Epoch: 295 | Best Loss: 1.03035 | Best Acc: 58.02%  with RFEFeatureElimination, min-max,CrossEntropyLoss, len = 75 and Adam, lr = 0.001\n",
            "Model: PyTorch Best Epoch: 297 | Best Loss: 1.02939 | Best Acc: 58.09%  with RFEFeatureElimination, min-max,CrossEntropyLoss, len = 75 and Adam, lr = 0.001\n",
            "Model: PyTorch Best Epoch: 307 | Best Loss: 1.02057 | Best Acc: 58.61%  with RFEFeatureElimination, min-max,CrossEntropyLoss, len = 75 and Adam, lr = 0.001\n",
            "Model: PyTorch Best Epoch: 317 | Best Loss: 1.01329 | Best Acc: 58.68%  with RFEFeatureElimination, min-max,CrossEntropyLoss, len = 75 and Adam, lr = 0.001\n",
            "Model: PyTorch Best Epoch: 323 | Best Loss: 1.00731 | Best Acc: 59.46%  with RFEFeatureElimination, min-max,CrossEntropyLoss, len = 75 and Adam, lr = 0.001\n",
            "Model: PyTorch Best Epoch: 333 | Best Loss: 1.03431 | Best Acc: 59.92%  with RFEFeatureElimination, min-max,CrossEntropyLoss, len = 75 and Adam, lr = 0.001\n",
            "Model: PyTorch Best Epoch: 345 | Best Loss: 1.02382 | Best Acc: 60.97%  with RFEFeatureElimination, min-max,CrossEntropyLoss, len = 75 and Adam, lr = 0.001\n",
            "Model: PyTorch Best Epoch: 377 | Best Loss: 0.99706 | Best Acc: 61.69%  with RFEFeatureElimination, min-max,CrossEntropyLoss, len = 75 and Adam, lr = 0.001\n",
            "Model: PyTorch Best Epoch: 430 | Best Loss: 0.99356 | Best Acc: 61.95%  with RFEFeatureElimination, min-max,CrossEntropyLoss, len = 75 and Adam, lr = 0.001\n",
            "Model: PyTorch Best Epoch: 475 | Best Loss: 0.98812 | Best Acc: 62.34%  with RFEFeatureElimination, min-max,CrossEntropyLoss, len = 75 and Adam, lr = 0.001\n",
            "Model: PyTorch Best Epoch: 476 | Best Loss: 0.98557 | Best Acc: 62.87%  with RFEFeatureElimination, min-max,CrossEntropyLoss, len = 75 and Adam, lr = 0.001\n",
            "Model: PyTorch Best Epoch: 1527 | Best Loss: 1.11350 | Best Acc: 62.93%  with RFEFeatureElimination, min-max,CrossEntropyLoss, len = 75 and Adam, lr = 0.001\n"
          ]
        },
        {
          "ename": "KeyboardInterrupt",
          "evalue": "",
          "output_type": "error",
          "traceback": [
            "\u001b[1;31m---------------------------------------------------------------------------\u001b[0m",
            "\u001b[1;31mKeyboardInterrupt\u001b[0m                         Traceback (most recent call last)",
            "Input \u001b[1;32mIn [102]\u001b[0m, in \u001b[0;36m<cell line: 1>\u001b[1;34m()\u001b[0m\n\u001b[1;32m----> 1\u001b[0m \u001b[43mRunThePredictAlgorithm\u001b[49m\u001b[43m(\u001b[49m\u001b[43mquestionToMode_df\u001b[49m\u001b[43m,\u001b[49m\u001b[43m \u001b[49m\u001b[38;5;241;43m75\u001b[39;49m\u001b[43m,\u001b[49m\u001b[43m \u001b[49m\u001b[38;5;124;43m'\u001b[39;49m\u001b[38;5;124;43mmin-max\u001b[39;49m\u001b[38;5;124;43m'\u001b[39;49m\u001b[43m,\u001b[49m\u001b[43m \u001b[49m\u001b[43mRFEFeatureElimination\u001b[49m\u001b[43m,\u001b[49m\u001b[43m \u001b[49m\u001b[43mPyTorch_TrainTest_Step\u001b[49m\u001b[43m,\u001b[49m\n\u001b[0;32m      2\u001b[0m \u001b[43m                       \u001b[49m\u001b[38;5;28;43;01mTrue\u001b[39;49;00m\u001b[43m,\u001b[49m\u001b[43m \u001b[49m\u001b[43maccuracy_method\u001b[49m\u001b[38;5;241;43m=\u001b[39;49m\u001b[43m \u001b[49m\u001b[43maccuracy_fn\u001b[49m\u001b[43m,\u001b[49m\u001b[43m \u001b[49m\u001b[43mloss_method\u001b[49m\u001b[38;5;241;43m=\u001b[39;49m\u001b[43mnn\u001b[49m\u001b[38;5;241;43m.\u001b[39;49m\u001b[43mCrossEntropyLoss\u001b[49m\u001b[43m(\u001b[49m\u001b[43m)\u001b[49m\u001b[43m,\u001b[49m\u001b[43m \u001b[49m\u001b[43moptimizer_method\u001b[49m\u001b[38;5;241;43m=\u001b[39;49m\u001b[38;5;124;43m'\u001b[39;49m\u001b[38;5;124;43mAdam\u001b[39;49m\u001b[38;5;124;43m'\u001b[39;49m\u001b[43m,\u001b[49m\u001b[43m \u001b[49m\u001b[43mlr\u001b[49m\u001b[43m \u001b[49m\u001b[38;5;241;43m=\u001b[39;49m\u001b[43m \u001b[49m\u001b[38;5;241;43m0.001\u001b[39;49m\u001b[43m,\u001b[49m\u001b[43m \u001b[49m\u001b[43mversion_numer\u001b[49m\u001b[38;5;241;43m=\u001b[39;49m\u001b[43m \u001b[49m\u001b[38;5;124;43m'\u001b[39;49m\u001b[38;5;124;43mV3\u001b[39;49m\u001b[38;5;124;43m'\u001b[39;49m\u001b[43m)\u001b[49m\n",
            "Input \u001b[1;32mIn [72]\u001b[0m, in \u001b[0;36mRunThePredictAlgorithm\u001b[1;34m(df, max_feature, scaling_method, FeatureEliminationMethod, MLORDLAlgorithm, IsPytorch, loss_method, accuracy_method, optimizer_method, lr, version_numer, IsTensor)\u001b[0m\n\u001b[0;32m     47\u001b[0m     \u001b[38;5;28mprint\u001b[39m(\u001b[38;5;124m\"\u001b[39m\u001b[38;5;124mYou give a wrong optimizer name, pls try again. Accepted optimizer names = \u001b[39m\u001b[38;5;124m'\u001b[39m\u001b[38;5;124mAdam\u001b[39m\u001b[38;5;124m'\u001b[39m\u001b[38;5;124m or \u001b[39m\u001b[38;5;124m'\u001b[39m\u001b[38;5;124mSGD\u001b[39m\u001b[38;5;124m'\u001b[39m\u001b[38;5;124m \u001b[39m\u001b[38;5;124m\"\u001b[39m)\n\u001b[0;32m     48\u001b[0m     \u001b[38;5;28;01mreturn\u001b[39;00m \u001b[38;5;28;01mFalse\u001b[39;00m\n\u001b[1;32m---> 50\u001b[0m result \u001b[38;5;241m=\u001b[39m \u001b[43mMLORDLAlgorithm\u001b[49m\u001b[43m(\u001b[49m\u001b[43mmodel\u001b[49m\u001b[43m \u001b[49m\u001b[38;5;241;43m=\u001b[39;49m\u001b[43m \u001b[49m\u001b[43mpytorch_model\u001b[49m\u001b[43m,\u001b[49m\n\u001b[0;32m     51\u001b[0m \u001b[43m                    \u001b[49m\u001b[43mx_train\u001b[49m\u001b[43m \u001b[49m\u001b[38;5;241;43m=\u001b[39;49m\u001b[43m \u001b[49m\u001b[43mx_train\u001b[49m\u001b[38;5;241;43m.\u001b[39;49m\u001b[43mto\u001b[49m\u001b[43m(\u001b[49m\u001b[43mdtype\u001b[49m\u001b[38;5;241;43m=\u001b[39;49m\u001b[43mtorch\u001b[49m\u001b[38;5;241;43m.\u001b[39;49m\u001b[43mfloat64\u001b[49m\u001b[43m)\u001b[49m\u001b[43m,\u001b[49m\u001b[43m \u001b[49m\u001b[43mx_test\u001b[49m\u001b[43m \u001b[49m\u001b[38;5;241;43m=\u001b[39;49m\u001b[43m \u001b[49m\u001b[43mx_test\u001b[49m\u001b[38;5;241;43m.\u001b[39;49m\u001b[43mto\u001b[49m\u001b[43m(\u001b[49m\u001b[43mdtype\u001b[49m\u001b[38;5;241;43m=\u001b[39;49m\u001b[43mtorch\u001b[49m\u001b[38;5;241;43m.\u001b[39;49m\u001b[43mfloat64\u001b[49m\u001b[43m)\u001b[49m\u001b[43m,\u001b[49m\u001b[43m \u001b[49m\u001b[43my_train\u001b[49m\u001b[43m \u001b[49m\u001b[38;5;241;43m=\u001b[39;49m\u001b[43m \u001b[49m\u001b[43my_train\u001b[49m\u001b[38;5;241;43m.\u001b[39;49m\u001b[43mto\u001b[49m\u001b[43m(\u001b[49m\u001b[43mdtype\u001b[49m\u001b[38;5;241;43m=\u001b[39;49m\u001b[43mtorch\u001b[49m\u001b[38;5;241;43m.\u001b[39;49m\u001b[43mfloat64\u001b[49m\u001b[43m)\u001b[49m\u001b[43m,\u001b[49m\u001b[43m \u001b[49m\u001b[43my_test\u001b[49m\u001b[43m \u001b[49m\u001b[38;5;241;43m=\u001b[39;49m\u001b[43m \u001b[49m\u001b[43my_test\u001b[49m\u001b[38;5;241;43m.\u001b[39;49m\u001b[43mto\u001b[49m\u001b[43m(\u001b[49m\u001b[43mdtype\u001b[49m\u001b[38;5;241;43m=\u001b[39;49m\u001b[43mtorch\u001b[49m\u001b[38;5;241;43m.\u001b[39;49m\u001b[43mfloat64\u001b[49m\u001b[43m)\u001b[49m\u001b[43m,\u001b[49m\n\u001b[0;32m     52\u001b[0m \u001b[43m                    \u001b[49m\u001b[43mloss_fn\u001b[49m\u001b[43m \u001b[49m\u001b[38;5;241;43m=\u001b[39;49m\u001b[43m \u001b[49m\u001b[43mloss_method\u001b[49m\u001b[43m,\u001b[49m\n\u001b[0;32m     53\u001b[0m \u001b[43m                    \u001b[49m\u001b[43maccuracy_fn\u001b[49m\u001b[43m \u001b[49m\u001b[38;5;241;43m=\u001b[39;49m\u001b[43m \u001b[49m\u001b[43maccuracy_method\u001b[49m\u001b[43m,\u001b[49m\n\u001b[0;32m     54\u001b[0m \u001b[43m                    \u001b[49m\u001b[43moptimizer\u001b[49m\u001b[43m \u001b[49m\u001b[38;5;241;43m=\u001b[39;49m\u001b[43m \u001b[49m\u001b[43moptimizer_fn\u001b[49m\u001b[43m,\u001b[49m\n\u001b[0;32m     55\u001b[0m \u001b[43m                    \u001b[49m\u001b[43mfeature_elimination_name\u001b[49m\u001b[43m \u001b[49m\u001b[38;5;241;43m=\u001b[39;49m\u001b[43m \u001b[49m\u001b[43mFeatureEliminationMethod\u001b[49m\u001b[38;5;241;43m.\u001b[39;49m\u001b[38;5;18;43m__name__\u001b[39;49m\u001b[43m,\u001b[49m\n\u001b[0;32m     56\u001b[0m \u001b[43m                    \u001b[49m\u001b[43mscaler_name\u001b[49m\u001b[43m \u001b[49m\u001b[38;5;241;43m=\u001b[39;49m\u001b[43m \u001b[49m\u001b[43mscaling_method\u001b[49m\u001b[43m)\u001b[49m\n\u001b[0;32m     57\u001b[0m result[\u001b[38;5;124m\"\u001b[39m\u001b[38;5;124mFeatureEliminationMethod\u001b[39m\u001b[38;5;124m\"\u001b[39m] \u001b[38;5;241m=\u001b[39m FeatureEliminationMethod\u001b[38;5;241m.\u001b[39m\u001b[38;5;18m__name__\u001b[39m\n\u001b[0;32m     58\u001b[0m SaveResults(result, txt_name\u001b[38;5;241m=\u001b[39m\u001b[38;5;124m\"\u001b[39m\u001b[38;5;124mPyTorch\u001b[39m\u001b[38;5;124m\"\u001b[39m \u001b[38;5;241m+\u001b[39m \u001b[38;5;124m'\u001b[39m\u001b[38;5;124m_\u001b[39m\u001b[38;5;124m'\u001b[39m \u001b[38;5;241m+\u001b[39m \u001b[38;5;28mstr\u001b[39m(FeatureEliminationMethod\u001b[38;5;241m.\u001b[39m\u001b[38;5;18m__name__\u001b[39m) \u001b[38;5;241m+\u001b[39m \u001b[38;5;124m'\u001b[39m\u001b[38;5;124m_\u001b[39m\u001b[38;5;124m'\u001b[39m \u001b[38;5;241m+\u001b[39m \u001b[38;5;28mstr\u001b[39m(scaling_method) \u001b[38;5;241m+\u001b[39m \u001b[38;5;124m'\u001b[39m\u001b[38;5;124m_\u001b[39m\u001b[38;5;124m'\u001b[39m \u001b[38;5;241m+\u001b[39m \u001b[38;5;124m'\u001b[39m\u001b[38;5;124moptimizer_method\u001b[39m\u001b[38;5;124m'\u001b[39m \u001b[38;5;241m+\u001b[39m \u001b[38;5;124m'\u001b[39m\u001b[38;5;124m_\u001b[39m\u001b[38;5;124m'\u001b[39m \u001b[38;5;241m+\u001b[39m \u001b[38;5;28mstr\u001b[39m(lr) \u001b[38;5;241m+\u001b[39m \u001b[38;5;124m'\u001b[39m\u001b[38;5;124m_\u001b[39m\u001b[38;5;124m'\u001b[39m \u001b[38;5;241m+\u001b[39m version_numer \u001b[38;5;241m+\u001b[39m\u001b[38;5;124m\"\u001b[39m\u001b[38;5;124m.txt\u001b[39m\u001b[38;5;124m\"\u001b[39m)\n",
            "Input \u001b[1;32mIn [101]\u001b[0m, in \u001b[0;36mPyTorch_TrainTest_Step\u001b[1;34m(model, x_train, x_test, y_train, y_test, loss_fn, accuracy_fn, optimizer, feature_elimination_name, scaler_name, epochs)\u001b[0m\n\u001b[0;32m     46\u001b[0m \u001b[38;5;66;03m#acc = accuracy_fn(y_train.squeeze().to(torch.long), y_pred.argmax(dim = 1))\u001b[39;00m\n\u001b[0;32m     47\u001b[0m optimizer\u001b[38;5;241m.\u001b[39mzero_grad()\n\u001b[1;32m---> 48\u001b[0m \u001b[43mloss\u001b[49m\u001b[38;5;241;43m.\u001b[39;49m\u001b[43mbackward\u001b[49m\u001b[43m(\u001b[49m\u001b[43m)\u001b[49m\n\u001b[0;32m     49\u001b[0m optimizer\u001b[38;5;241m.\u001b[39mstep()\n\u001b[0;32m     51\u001b[0m model\u001b[38;5;241m.\u001b[39meval()\n",
            "File \u001b[1;32mc:\\Users\\AMD\\AppData\\Local\\Programs\\Python\\Python310\\lib\\site-packages\\torch\\_tensor.py:492\u001b[0m, in \u001b[0;36mTensor.backward\u001b[1;34m(self, gradient, retain_graph, create_graph, inputs)\u001b[0m\n\u001b[0;32m    482\u001b[0m \u001b[38;5;28;01mif\u001b[39;00m has_torch_function_unary(\u001b[38;5;28mself\u001b[39m):\n\u001b[0;32m    483\u001b[0m     \u001b[38;5;28;01mreturn\u001b[39;00m handle_torch_function(\n\u001b[0;32m    484\u001b[0m         Tensor\u001b[38;5;241m.\u001b[39mbackward,\n\u001b[0;32m    485\u001b[0m         (\u001b[38;5;28mself\u001b[39m,),\n\u001b[1;32m   (...)\u001b[0m\n\u001b[0;32m    490\u001b[0m         inputs\u001b[38;5;241m=\u001b[39minputs,\n\u001b[0;32m    491\u001b[0m     )\n\u001b[1;32m--> 492\u001b[0m \u001b[43mtorch\u001b[49m\u001b[38;5;241;43m.\u001b[39;49m\u001b[43mautograd\u001b[49m\u001b[38;5;241;43m.\u001b[39;49m\u001b[43mbackward\u001b[49m\u001b[43m(\u001b[49m\n\u001b[0;32m    493\u001b[0m \u001b[43m    \u001b[49m\u001b[38;5;28;43mself\u001b[39;49m\u001b[43m,\u001b[49m\u001b[43m \u001b[49m\u001b[43mgradient\u001b[49m\u001b[43m,\u001b[49m\u001b[43m \u001b[49m\u001b[43mretain_graph\u001b[49m\u001b[43m,\u001b[49m\u001b[43m \u001b[49m\u001b[43mcreate_graph\u001b[49m\u001b[43m,\u001b[49m\u001b[43m \u001b[49m\u001b[43minputs\u001b[49m\u001b[38;5;241;43m=\u001b[39;49m\u001b[43minputs\u001b[49m\n\u001b[0;32m    494\u001b[0m \u001b[43m\u001b[49m\u001b[43m)\u001b[49m\n",
            "File \u001b[1;32mc:\\Users\\AMD\\AppData\\Local\\Programs\\Python\\Python310\\lib\\site-packages\\torch\\autograd\\__init__.py:251\u001b[0m, in \u001b[0;36mbackward\u001b[1;34m(tensors, grad_tensors, retain_graph, create_graph, grad_variables, inputs)\u001b[0m\n\u001b[0;32m    246\u001b[0m     retain_graph \u001b[38;5;241m=\u001b[39m create_graph\n\u001b[0;32m    248\u001b[0m \u001b[38;5;66;03m# The reason we repeat the same comment below is that\u001b[39;00m\n\u001b[0;32m    249\u001b[0m \u001b[38;5;66;03m# some Python versions print out the first line of a multi-line function\u001b[39;00m\n\u001b[0;32m    250\u001b[0m \u001b[38;5;66;03m# calls in the traceback and some print out the last line\u001b[39;00m\n\u001b[1;32m--> 251\u001b[0m \u001b[43mVariable\u001b[49m\u001b[38;5;241;43m.\u001b[39;49m\u001b[43m_execution_engine\u001b[49m\u001b[38;5;241;43m.\u001b[39;49m\u001b[43mrun_backward\u001b[49m\u001b[43m(\u001b[49m\u001b[43m  \u001b[49m\u001b[38;5;66;43;03m# Calls into the C++ engine to run the backward pass\u001b[39;49;00m\n\u001b[0;32m    252\u001b[0m \u001b[43m    \u001b[49m\u001b[43mtensors\u001b[49m\u001b[43m,\u001b[49m\n\u001b[0;32m    253\u001b[0m \u001b[43m    \u001b[49m\u001b[43mgrad_tensors_\u001b[49m\u001b[43m,\u001b[49m\n\u001b[0;32m    254\u001b[0m \u001b[43m    \u001b[49m\u001b[43mretain_graph\u001b[49m\u001b[43m,\u001b[49m\n\u001b[0;32m    255\u001b[0m \u001b[43m    \u001b[49m\u001b[43mcreate_graph\u001b[49m\u001b[43m,\u001b[49m\n\u001b[0;32m    256\u001b[0m \u001b[43m    \u001b[49m\u001b[43minputs\u001b[49m\u001b[43m,\u001b[49m\n\u001b[0;32m    257\u001b[0m \u001b[43m    \u001b[49m\u001b[43mallow_unreachable\u001b[49m\u001b[38;5;241;43m=\u001b[39;49m\u001b[38;5;28;43;01mTrue\u001b[39;49;00m\u001b[43m,\u001b[49m\n\u001b[0;32m    258\u001b[0m \u001b[43m    \u001b[49m\u001b[43maccumulate_grad\u001b[49m\u001b[38;5;241;43m=\u001b[39;49m\u001b[38;5;28;43;01mTrue\u001b[39;49;00m\u001b[43m,\u001b[49m\n\u001b[0;32m    259\u001b[0m \u001b[43m\u001b[49m\u001b[43m)\u001b[49m\n",
            "\u001b[1;31mKeyboardInterrupt\u001b[0m: "
          ]
        }
      ],
      "source": [
        "RunThePredictAlgorithm(questionToMode_df, 75, 'min-max', RFEFeatureElimination, PyTorch_TrainTest_Step,\n",
        "                       True, accuracy_method= accuracy_fn, loss_method=nn.CrossEntropyLoss(), optimizer_method='Adam', lr = 0.001, version_numer= 'V3')"
      ]
    },
    {
      "cell_type": "code",
      "execution_count": null,
      "metadata": {
        "id": "vj0RsPK-WQAR"
      },
      "outputs": [],
      "source": [
        "# Run RandomForest wiit RFEFeatureElimination and min-max scaler\n",
        "#RunThePredictAlgorithm(questionToMode_df, 75, 'min-max', RFEFeatureElimination, RandomForest)\n",
        "\n",
        "# Run RandomForest wiit RFEFeatureElimination and robust scaler\n",
        "#RunThePredictAlgorithm(questionToMode_df, 75, 'robust', RFEFeatureElimination, RandomForest)\n",
        "\n",
        "# Run RandomForest wiit RFEFeatureElimination and standart scaler\n",
        "RunThePredictAlgorithm(questionToMode_df, 75, 'standart', RFEFeatureElimination, RandomForest)"
      ]
    },
    {
      "cell_type": "code",
      "execution_count": null,
      "metadata": {
        "id": "Ws31btg_NVvJ"
      },
      "outputs": [],
      "source": [
        "# Run GradientBoosting wiit RFEFeatureElimination and min-max scaler\n",
        "RunThePredictAlgorithm(questionToMode_df, 75, 'min-max', RFEFeatureElimination, GradientBoosting)"
      ]
    },
    {
      "cell_type": "code",
      "execution_count": null,
      "metadata": {
        "id": "f7ecTlkxZdmV"
      },
      "outputs": [],
      "source": [
        "# Run NonlinearSVM wiit RFEFeatureElimination and min-max scaler\n",
        "RunThePredictAlgorithm(questionToMode_df, 25, 'min-max', RFEFeatureElimination, NonlinearSVM)"
      ]
    },
    {
      "cell_type": "code",
      "execution_count": null,
      "metadata": {
        "id": "2rbbBWrndTBr"
      },
      "outputs": [],
      "source": [
        "# Run MultinomialNaiveBayes wiit RFEFeatureElimination and min-max scaler\n",
        "RunThePredictAlgorithm(questionToMode_df, 10, 'min-max', RFEFeatureElimination, MultinomialNaiveBayes)"
      ]
    },
    {
      "cell_type": "code",
      "execution_count": null,
      "metadata": {
        "id": "WBVboFt4h3T9"
      },
      "outputs": [],
      "source": [
        "# Run DecisionTree wiit RFEFeatureElimination and min-max scaler\n",
        "RunThePredictAlgorithm(questionToMode_df, 25, 'min-max', RFEFeatureElimination, DecisionTree)"
      ]
    },
    {
      "cell_type": "code",
      "execution_count": null,
      "metadata": {
        "id": "KhdrIdHlmO0E"
      },
      "outputs": [],
      "source": [
        "# Run AdaBoost wiit RFEFeatureElimination and min-max scaler\n",
        "RunThePredictAlgorithm(questionToMode_df, 25, 'min-max', RFEFeatureElimination, AdaBoost) #0.57 max"
      ]
    },
    {
      "cell_type": "code",
      "execution_count": null,
      "metadata": {
        "id": "xVQ36rnmNVvK"
      },
      "outputs": [],
      "source": [
        "# Run StockGradientDescent wiit RFEFeatureElimination and min-max scaler\n",
        "RunThePredictAlgorithm(questionToMode_df, 25, 'min-max', RFEFeatureElimination, StockGradientDescent) #0.5"
      ]
    },
    {
      "cell_type": "code",
      "execution_count": null,
      "metadata": {
        "id": "iEcxkDQDWQAR"
      },
      "outputs": [],
      "source": [
        "print(algorithms_results[FindBestModel(algorithms_results)])"
      ]
    },
    {
      "cell_type": "markdown",
      "metadata": {},
      "source": [
        "### Fix The Imbalance Data"
      ]
    },
    {
      "cell_type": "code",
      "execution_count": 88,
      "metadata": {},
      "outputs": [
        {
          "name": "stdout",
          "output_type": "stream",
          "text": [
            "Lenght of 0's 2883\n",
            "Lenght of 1's 2883\n",
            "Lenght of 2's 2883\n",
            "Lenght of 3's 2883\n"
          ]
        }
      ],
      "source": [
        "from imblearn.over_sampling import SMOTE, SMOTEN\n",
        "\n",
        "def XAndYToDF(X, y):\n",
        "    df = pd.concat([X, y], axis = 1)\n",
        "    return df\n",
        "\n",
        "\n",
        "def OverSampling(X, y, oversampling_startegey, random_state = None, k_neighbors = 5):\n",
        "    oversample = SMOTEN()\n",
        "    X_oversampled, y_oversampled = oversample.fit_resample(X,y)\n",
        "    return X_oversampled, y_oversampled\n",
        "\n",
        "X, y = DFToXAndY(questionToMode_df)\n",
        "X_oversampled, y_oversampled = OverSampling(X, y, 'minority', random_state=9, k_neighbors=40)\n",
        "oversampling_df = XAndYToDF(X_oversampled, y_oversampled)\n",
        "PrintTheTargetColumnsRange(oversampling_df)"
      ]
    },
    {
      "cell_type": "code",
      "execution_count": 123,
      "metadata": {},
      "outputs": [
        {
          "ename": "TypeError",
          "evalue": "Descriptors cannot not be created directly.\nIf this call came from a _pb2.py file, your generated code is out of date and must be regenerated with protoc >= 3.19.0.\nIf you cannot immediately regenerate your protos, some other possible workarounds are:\n 1. Downgrade the protobuf package to 3.20.x or lower.\n 2. Set PROTOCOL_BUFFERS_PYTHON_IMPLEMENTATION=python (but this will use pure-Python parsing and will be much slower).\n\nMore information: https://developers.google.com/protocol-buffers/docs/news/2022-05-06#python-updates",
          "output_type": "error",
          "traceback": [
            "\u001b[1;31m---------------------------------------------------------------------------\u001b[0m",
            "\u001b[1;31mTypeError\u001b[0m                                 Traceback (most recent call last)",
            "Input \u001b[1;32mIn [123]\u001b[0m, in \u001b[0;36m<cell line: 1>\u001b[1;34m()\u001b[0m\n\u001b[1;32m----> 1\u001b[0m \u001b[38;5;28;01mimport\u001b[39;00m \u001b[38;5;21;01mtensorflow\u001b[39;00m \u001b[38;5;28;01mas\u001b[39;00m \u001b[38;5;21;01mtf\u001b[39;00m\n\u001b[0;32m      2\u001b[0m \u001b[38;5;28;01mfrom\u001b[39;00m \u001b[38;5;21;01mtensorflow\u001b[39;00m\u001b[38;5;21;01m.\u001b[39;00m\u001b[38;5;21;01mkeras\u001b[39;00m \u001b[38;5;28;01mimport\u001b[39;00m layers, models\n\u001b[0;32m      3\u001b[0m \u001b[38;5;28;01mfrom\u001b[39;00m \u001b[38;5;21;01msklearn\u001b[39;00m\u001b[38;5;21;01m.\u001b[39;00m\u001b[38;5;21;01mmodel_selection\u001b[39;00m \u001b[38;5;28;01mimport\u001b[39;00m train_test_split\n",
            "File \u001b[1;32mc:\\Users\\AMD\\AppData\\Local\\Programs\\Python\\Python310\\lib\\site-packages\\tensorflow\\__init__.py:39\u001b[0m, in \u001b[0;36m<module>\u001b[1;34m\u001b[0m\n\u001b[0;32m     36\u001b[0m \u001b[38;5;28;01mimport\u001b[39;00m \u001b[38;5;21;01msys\u001b[39;00m \u001b[38;5;28;01mas\u001b[39;00m \u001b[38;5;21;01m_sys\u001b[39;00m\n\u001b[0;32m     37\u001b[0m \u001b[38;5;28;01mimport\u001b[39;00m \u001b[38;5;21;01mtyping\u001b[39;00m \u001b[38;5;28;01mas\u001b[39;00m \u001b[38;5;21;01m_typing\u001b[39;00m\n\u001b[1;32m---> 39\u001b[0m \u001b[38;5;28;01mfrom\u001b[39;00m \u001b[38;5;21;01mtensorflow\u001b[39;00m\u001b[38;5;21;01m.\u001b[39;00m\u001b[38;5;21;01mpython\u001b[39;00m\u001b[38;5;21;01m.\u001b[39;00m\u001b[38;5;21;01mtools\u001b[39;00m \u001b[38;5;28;01mimport\u001b[39;00m module_util \u001b[38;5;28;01mas\u001b[39;00m _module_util\n\u001b[0;32m     40\u001b[0m \u001b[38;5;28;01mfrom\u001b[39;00m \u001b[38;5;21;01mtensorflow\u001b[39;00m\u001b[38;5;21;01m.\u001b[39;00m\u001b[38;5;21;01mpython\u001b[39;00m\u001b[38;5;21;01m.\u001b[39;00m\u001b[38;5;21;01mutil\u001b[39;00m\u001b[38;5;21;01m.\u001b[39;00m\u001b[38;5;21;01mlazy_loader\u001b[39;00m \u001b[38;5;28;01mimport\u001b[39;00m LazyLoader \u001b[38;5;28;01mas\u001b[39;00m _LazyLoader\n\u001b[0;32m     41\u001b[0m \u001b[38;5;28;01mfrom\u001b[39;00m \u001b[38;5;21;01mtensorflow\u001b[39;00m\u001b[38;5;21;01m.\u001b[39;00m\u001b[38;5;21;01mpython\u001b[39;00m\u001b[38;5;21;01m.\u001b[39;00m\u001b[38;5;21;01mutil\u001b[39;00m\u001b[38;5;21;01m.\u001b[39;00m\u001b[38;5;21;01mlazy_loader\u001b[39;00m \u001b[38;5;28;01mimport\u001b[39;00m KerasLazyLoader \u001b[38;5;28;01mas\u001b[39;00m _KerasLazyLoader\n",
            "File \u001b[1;32mc:\\Users\\AMD\\AppData\\Local\\Programs\\Python\\Python310\\lib\\site-packages\\tensorflow\\python\\__init__.py:37\u001b[0m, in \u001b[0;36m<module>\u001b[1;34m\u001b[0m\n\u001b[0;32m     29\u001b[0m \u001b[38;5;66;03m# We aim to keep this file minimal and ideally remove completely.\u001b[39;00m\n\u001b[0;32m     30\u001b[0m \u001b[38;5;66;03m# If you are adding a new file with @tf_export decorators,\u001b[39;00m\n\u001b[0;32m     31\u001b[0m \u001b[38;5;66;03m# import it in modules_with_exports.py instead.\u001b[39;00m\n\u001b[0;32m     32\u001b[0m \n\u001b[0;32m     33\u001b[0m \u001b[38;5;66;03m# go/tf-wildcard-import\u001b[39;00m\n\u001b[0;32m     34\u001b[0m \u001b[38;5;66;03m# pylint: disable=wildcard-import,g-bad-import-order,g-import-not-at-top\u001b[39;00m\n\u001b[0;32m     36\u001b[0m \u001b[38;5;28;01mfrom\u001b[39;00m \u001b[38;5;21;01mtensorflow\u001b[39;00m\u001b[38;5;21;01m.\u001b[39;00m\u001b[38;5;21;01mpython\u001b[39;00m \u001b[38;5;28;01mimport\u001b[39;00m pywrap_tensorflow \u001b[38;5;28;01mas\u001b[39;00m _pywrap_tensorflow\n\u001b[1;32m---> 37\u001b[0m \u001b[38;5;28;01mfrom\u001b[39;00m \u001b[38;5;21;01mtensorflow\u001b[39;00m\u001b[38;5;21;01m.\u001b[39;00m\u001b[38;5;21;01mpython\u001b[39;00m\u001b[38;5;21;01m.\u001b[39;00m\u001b[38;5;21;01meager\u001b[39;00m \u001b[38;5;28;01mimport\u001b[39;00m context\n\u001b[0;32m     39\u001b[0m \u001b[38;5;66;03m# pylint: enable=wildcard-import\u001b[39;00m\n\u001b[0;32m     40\u001b[0m \n\u001b[0;32m     41\u001b[0m \u001b[38;5;66;03m# Bring in subpackages.\u001b[39;00m\n\u001b[0;32m     42\u001b[0m \u001b[38;5;28;01mfrom\u001b[39;00m \u001b[38;5;21;01mtensorflow\u001b[39;00m\u001b[38;5;21;01m.\u001b[39;00m\u001b[38;5;21;01mpython\u001b[39;00m \u001b[38;5;28;01mimport\u001b[39;00m data\n",
            "File \u001b[1;32mc:\\Users\\AMD\\AppData\\Local\\Programs\\Python\\Python310\\lib\\site-packages\\tensorflow\\python\\eager\\context.py:29\u001b[0m, in \u001b[0;36m<module>\u001b[1;34m\u001b[0m\n\u001b[0;32m     26\u001b[0m \u001b[38;5;28;01mimport\u001b[39;00m \u001b[38;5;21;01mnumpy\u001b[39;00m \u001b[38;5;28;01mas\u001b[39;00m \u001b[38;5;21;01mnp\u001b[39;00m\n\u001b[0;32m     27\u001b[0m \u001b[38;5;28;01mimport\u001b[39;00m \u001b[38;5;21;01msix\u001b[39;00m\n\u001b[1;32m---> 29\u001b[0m \u001b[38;5;28;01mfrom\u001b[39;00m \u001b[38;5;21;01mtensorflow\u001b[39;00m\u001b[38;5;21;01m.\u001b[39;00m\u001b[38;5;21;01mcore\u001b[39;00m\u001b[38;5;21;01m.\u001b[39;00m\u001b[38;5;21;01mframework\u001b[39;00m \u001b[38;5;28;01mimport\u001b[39;00m function_pb2\n\u001b[0;32m     30\u001b[0m \u001b[38;5;28;01mfrom\u001b[39;00m \u001b[38;5;21;01mtensorflow\u001b[39;00m\u001b[38;5;21;01m.\u001b[39;00m\u001b[38;5;21;01mcore\u001b[39;00m\u001b[38;5;21;01m.\u001b[39;00m\u001b[38;5;21;01mprotobuf\u001b[39;00m \u001b[38;5;28;01mimport\u001b[39;00m config_pb2\n\u001b[0;32m     31\u001b[0m \u001b[38;5;28;01mfrom\u001b[39;00m \u001b[38;5;21;01mtensorflow\u001b[39;00m\u001b[38;5;21;01m.\u001b[39;00m\u001b[38;5;21;01mcore\u001b[39;00m\u001b[38;5;21;01m.\u001b[39;00m\u001b[38;5;21;01mprotobuf\u001b[39;00m \u001b[38;5;28;01mimport\u001b[39;00m coordination_config_pb2\n",
            "File \u001b[1;32mc:\\Users\\AMD\\AppData\\Local\\Programs\\Python\\Python310\\lib\\site-packages\\tensorflow\\core\\framework\\function_pb2.py:16\u001b[0m, in \u001b[0;36m<module>\u001b[1;34m\u001b[0m\n\u001b[0;32m     11\u001b[0m \u001b[38;5;66;03m# @@protoc_insertion_point(imports)\u001b[39;00m\n\u001b[0;32m     13\u001b[0m _sym_db \u001b[38;5;241m=\u001b[39m _symbol_database\u001b[38;5;241m.\u001b[39mDefault()\n\u001b[1;32m---> 16\u001b[0m \u001b[38;5;28;01mfrom\u001b[39;00m \u001b[38;5;21;01mtensorflow\u001b[39;00m\u001b[38;5;21;01m.\u001b[39;00m\u001b[38;5;21;01mcore\u001b[39;00m\u001b[38;5;21;01m.\u001b[39;00m\u001b[38;5;21;01mframework\u001b[39;00m \u001b[38;5;28;01mimport\u001b[39;00m attr_value_pb2 \u001b[38;5;28;01mas\u001b[39;00m tensorflow_dot_core_dot_framework_dot_attr__value__pb2\n\u001b[0;32m     17\u001b[0m \u001b[38;5;28;01mfrom\u001b[39;00m \u001b[38;5;21;01mtensorflow\u001b[39;00m\u001b[38;5;21;01m.\u001b[39;00m\u001b[38;5;21;01mcore\u001b[39;00m\u001b[38;5;21;01m.\u001b[39;00m\u001b[38;5;21;01mframework\u001b[39;00m \u001b[38;5;28;01mimport\u001b[39;00m node_def_pb2 \u001b[38;5;28;01mas\u001b[39;00m tensorflow_dot_core_dot_framework_dot_node__def__pb2\n\u001b[0;32m     18\u001b[0m \u001b[38;5;28;01mfrom\u001b[39;00m \u001b[38;5;21;01mtensorflow\u001b[39;00m\u001b[38;5;21;01m.\u001b[39;00m\u001b[38;5;21;01mcore\u001b[39;00m\u001b[38;5;21;01m.\u001b[39;00m\u001b[38;5;21;01mframework\u001b[39;00m \u001b[38;5;28;01mimport\u001b[39;00m op_def_pb2 \u001b[38;5;28;01mas\u001b[39;00m tensorflow_dot_core_dot_framework_dot_op__def__pb2\n",
            "File \u001b[1;32mc:\\Users\\AMD\\AppData\\Local\\Programs\\Python\\Python310\\lib\\site-packages\\tensorflow\\core\\framework\\attr_value_pb2.py:16\u001b[0m, in \u001b[0;36m<module>\u001b[1;34m\u001b[0m\n\u001b[0;32m     11\u001b[0m \u001b[38;5;66;03m# @@protoc_insertion_point(imports)\u001b[39;00m\n\u001b[0;32m     13\u001b[0m _sym_db \u001b[38;5;241m=\u001b[39m _symbol_database\u001b[38;5;241m.\u001b[39mDefault()\n\u001b[1;32m---> 16\u001b[0m \u001b[38;5;28;01mfrom\u001b[39;00m \u001b[38;5;21;01mtensorflow\u001b[39;00m\u001b[38;5;21;01m.\u001b[39;00m\u001b[38;5;21;01mcore\u001b[39;00m\u001b[38;5;21;01m.\u001b[39;00m\u001b[38;5;21;01mframework\u001b[39;00m \u001b[38;5;28;01mimport\u001b[39;00m tensor_pb2 \u001b[38;5;28;01mas\u001b[39;00m tensorflow_dot_core_dot_framework_dot_tensor__pb2\n\u001b[0;32m     17\u001b[0m \u001b[38;5;28;01mfrom\u001b[39;00m \u001b[38;5;21;01mtensorflow\u001b[39;00m\u001b[38;5;21;01m.\u001b[39;00m\u001b[38;5;21;01mcore\u001b[39;00m\u001b[38;5;21;01m.\u001b[39;00m\u001b[38;5;21;01mframework\u001b[39;00m \u001b[38;5;28;01mimport\u001b[39;00m tensor_shape_pb2 \u001b[38;5;28;01mas\u001b[39;00m tensorflow_dot_core_dot_framework_dot_tensor__shape__pb2\n\u001b[0;32m     18\u001b[0m \u001b[38;5;28;01mfrom\u001b[39;00m \u001b[38;5;21;01mtensorflow\u001b[39;00m\u001b[38;5;21;01m.\u001b[39;00m\u001b[38;5;21;01mcore\u001b[39;00m\u001b[38;5;21;01m.\u001b[39;00m\u001b[38;5;21;01mframework\u001b[39;00m \u001b[38;5;28;01mimport\u001b[39;00m types_pb2 \u001b[38;5;28;01mas\u001b[39;00m tensorflow_dot_core_dot_framework_dot_types__pb2\n",
            "File \u001b[1;32mc:\\Users\\AMD\\AppData\\Local\\Programs\\Python\\Python310\\lib\\site-packages\\tensorflow\\core\\framework\\tensor_pb2.py:16\u001b[0m, in \u001b[0;36m<module>\u001b[1;34m\u001b[0m\n\u001b[0;32m     11\u001b[0m \u001b[38;5;66;03m# @@protoc_insertion_point(imports)\u001b[39;00m\n\u001b[0;32m     13\u001b[0m _sym_db \u001b[38;5;241m=\u001b[39m _symbol_database\u001b[38;5;241m.\u001b[39mDefault()\n\u001b[1;32m---> 16\u001b[0m \u001b[38;5;28;01mfrom\u001b[39;00m \u001b[38;5;21;01mtensorflow\u001b[39;00m\u001b[38;5;21;01m.\u001b[39;00m\u001b[38;5;21;01mcore\u001b[39;00m\u001b[38;5;21;01m.\u001b[39;00m\u001b[38;5;21;01mframework\u001b[39;00m \u001b[38;5;28;01mimport\u001b[39;00m resource_handle_pb2 \u001b[38;5;28;01mas\u001b[39;00m tensorflow_dot_core_dot_framework_dot_resource__handle__pb2\n\u001b[0;32m     17\u001b[0m \u001b[38;5;28;01mfrom\u001b[39;00m \u001b[38;5;21;01mtensorflow\u001b[39;00m\u001b[38;5;21;01m.\u001b[39;00m\u001b[38;5;21;01mcore\u001b[39;00m\u001b[38;5;21;01m.\u001b[39;00m\u001b[38;5;21;01mframework\u001b[39;00m \u001b[38;5;28;01mimport\u001b[39;00m tensor_shape_pb2 \u001b[38;5;28;01mas\u001b[39;00m tensorflow_dot_core_dot_framework_dot_tensor__shape__pb2\n\u001b[0;32m     18\u001b[0m \u001b[38;5;28;01mfrom\u001b[39;00m \u001b[38;5;21;01mtensorflow\u001b[39;00m\u001b[38;5;21;01m.\u001b[39;00m\u001b[38;5;21;01mcore\u001b[39;00m\u001b[38;5;21;01m.\u001b[39;00m\u001b[38;5;21;01mframework\u001b[39;00m \u001b[38;5;28;01mimport\u001b[39;00m types_pb2 \u001b[38;5;28;01mas\u001b[39;00m tensorflow_dot_core_dot_framework_dot_types__pb2\n",
            "File \u001b[1;32mc:\\Users\\AMD\\AppData\\Local\\Programs\\Python\\Python310\\lib\\site-packages\\tensorflow\\core\\framework\\resource_handle_pb2.py:16\u001b[0m, in \u001b[0;36m<module>\u001b[1;34m\u001b[0m\n\u001b[0;32m     11\u001b[0m \u001b[38;5;66;03m# @@protoc_insertion_point(imports)\u001b[39;00m\n\u001b[0;32m     13\u001b[0m _sym_db \u001b[38;5;241m=\u001b[39m _symbol_database\u001b[38;5;241m.\u001b[39mDefault()\n\u001b[1;32m---> 16\u001b[0m \u001b[38;5;28;01mfrom\u001b[39;00m \u001b[38;5;21;01mtensorflow\u001b[39;00m\u001b[38;5;21;01m.\u001b[39;00m\u001b[38;5;21;01mcore\u001b[39;00m\u001b[38;5;21;01m.\u001b[39;00m\u001b[38;5;21;01mframework\u001b[39;00m \u001b[38;5;28;01mimport\u001b[39;00m tensor_shape_pb2 \u001b[38;5;28;01mas\u001b[39;00m tensorflow_dot_core_dot_framework_dot_tensor__shape__pb2\n\u001b[0;32m     17\u001b[0m \u001b[38;5;28;01mfrom\u001b[39;00m \u001b[38;5;21;01mtensorflow\u001b[39;00m\u001b[38;5;21;01m.\u001b[39;00m\u001b[38;5;21;01mcore\u001b[39;00m\u001b[38;5;21;01m.\u001b[39;00m\u001b[38;5;21;01mframework\u001b[39;00m \u001b[38;5;28;01mimport\u001b[39;00m types_pb2 \u001b[38;5;28;01mas\u001b[39;00m tensorflow_dot_core_dot_framework_dot_types__pb2\n\u001b[0;32m     20\u001b[0m DESCRIPTOR \u001b[38;5;241m=\u001b[39m _descriptor\u001b[38;5;241m.\u001b[39mFileDescriptor(\n\u001b[0;32m     21\u001b[0m   name\u001b[38;5;241m=\u001b[39m\u001b[38;5;124m'\u001b[39m\u001b[38;5;124mtensorflow/core/framework/resource_handle.proto\u001b[39m\u001b[38;5;124m'\u001b[39m,\n\u001b[0;32m     22\u001b[0m   package\u001b[38;5;241m=\u001b[39m\u001b[38;5;124m'\u001b[39m\u001b[38;5;124mtensorflow\u001b[39m\u001b[38;5;124m'\u001b[39m,\n\u001b[1;32m   (...)\u001b[0m\n\u001b[0;32m     26\u001b[0m   ,\n\u001b[0;32m     27\u001b[0m   dependencies\u001b[38;5;241m=\u001b[39m[tensorflow_dot_core_dot_framework_dot_tensor__shape__pb2\u001b[38;5;241m.\u001b[39mDESCRIPTOR,tensorflow_dot_core_dot_framework_dot_types__pb2\u001b[38;5;241m.\u001b[39mDESCRIPTOR,])\n",
            "File \u001b[1;32mc:\\Users\\AMD\\AppData\\Local\\Programs\\Python\\Python310\\lib\\site-packages\\tensorflow\\core\\framework\\tensor_shape_pb2.py:36\u001b[0m, in \u001b[0;36m<module>\u001b[1;34m\u001b[0m\n\u001b[0;32m     13\u001b[0m _sym_db \u001b[38;5;241m=\u001b[39m _symbol_database\u001b[38;5;241m.\u001b[39mDefault()\n\u001b[0;32m     18\u001b[0m DESCRIPTOR \u001b[38;5;241m=\u001b[39m _descriptor\u001b[38;5;241m.\u001b[39mFileDescriptor(\n\u001b[0;32m     19\u001b[0m   name\u001b[38;5;241m=\u001b[39m\u001b[38;5;124m'\u001b[39m\u001b[38;5;124mtensorflow/core/framework/tensor_shape.proto\u001b[39m\u001b[38;5;124m'\u001b[39m,\n\u001b[0;32m     20\u001b[0m   package\u001b[38;5;241m=\u001b[39m\u001b[38;5;124m'\u001b[39m\u001b[38;5;124mtensorflow\u001b[39m\u001b[38;5;124m'\u001b[39m,\n\u001b[1;32m   (...)\u001b[0m\n\u001b[0;32m     23\u001b[0m   serialized_pb\u001b[38;5;241m=\u001b[39m_b(\u001b[38;5;124m'\u001b[39m\u001b[38;5;130;01m\\n\u001b[39;00m\u001b[38;5;124m,tensorflow/core/framework/tensor_shape.proto\u001b[39m\u001b[38;5;130;01m\\x12\u001b[39;00m\u001b[38;5;130;01m\\n\u001b[39;00m\u001b[38;5;124mtensorflow\u001b[39m\u001b[38;5;130;01m\\\"\u001b[39;00m\u001b[38;5;124mz\u001b[39m\u001b[38;5;130;01m\\n\u001b[39;00m\u001b[38;5;130;01m\\x10\u001b[39;00m\u001b[38;5;124mTensorShapeProto\u001b[39m\u001b[38;5;130;01m\\x12\u001b[39;00m\u001b[38;5;124m-\u001b[39m\u001b[38;5;130;01m\\n\u001b[39;00m\u001b[38;5;130;01m\\x03\u001b[39;00m\u001b[38;5;130;01m\\x64\u001b[39;00m\u001b[38;5;124mim\u001b[39m\u001b[38;5;130;01m\\x18\u001b[39;00m\u001b[38;5;130;01m\\x02\u001b[39;00m\u001b[38;5;124m \u001b[39m\u001b[38;5;130;01m\\x03\u001b[39;00m\u001b[38;5;124m(\u001b[39m\u001b[38;5;130;01m\\x0b\u001b[39;00m\u001b[38;5;130;01m\\x32\u001b[39;00m\u001b[38;5;124m .tensorflow.TensorShapeProto.Dim\u001b[39m\u001b[38;5;130;01m\\x12\u001b[39;00m\u001b[38;5;130;01m\\x14\u001b[39;00m\u001b[38;5;130;01m\\n\u001b[39;00m\u001b[38;5;130;01m\\x0c\u001b[39;00m\u001b[38;5;124munknown_rank\u001b[39m\u001b[38;5;130;01m\\x18\u001b[39;00m\u001b[38;5;130;01m\\x03\u001b[39;00m\u001b[38;5;124m \u001b[39m\u001b[38;5;130;01m\\x01\u001b[39;00m\u001b[38;5;124m(\u001b[39m\u001b[38;5;130;01m\\x08\u001b[39;00m\u001b[38;5;130;01m\\x1a\u001b[39;00m\u001b[38;5;124m!\u001b[39m\u001b[38;5;130;01m\\n\u001b[39;00m\u001b[38;5;130;01m\\x03\u001b[39;00m\u001b[38;5;130;01m\\x44\u001b[39;00m\u001b[38;5;124mim\u001b[39m\u001b[38;5;130;01m\\x12\u001b[39;00m\u001b[38;5;130;01m\\x0c\u001b[39;00m\u001b[38;5;130;01m\\n\u001b[39;00m\u001b[38;5;130;01m\\x04\u001b[39;00m\u001b[38;5;124msize\u001b[39m\u001b[38;5;130;01m\\x18\u001b[39;00m\u001b[38;5;130;01m\\x01\u001b[39;00m\u001b[38;5;124m \u001b[39m\u001b[38;5;130;01m\\x01\u001b[39;00m\u001b[38;5;124m(\u001b[39m\u001b[38;5;130;01m\\x03\u001b[39;00m\u001b[38;5;130;01m\\x12\u001b[39;00m\u001b[38;5;130;01m\\x0c\u001b[39;00m\u001b[38;5;130;01m\\n\u001b[39;00m\u001b[38;5;130;01m\\x04\u001b[39;00m\u001b[38;5;124mname\u001b[39m\u001b[38;5;130;01m\\x18\u001b[39;00m\u001b[38;5;130;01m\\x02\u001b[39;00m\u001b[38;5;124m \u001b[39m\u001b[38;5;130;01m\\x01\u001b[39;00m\u001b[38;5;124m(\u001b[39m\u001b[38;5;130;01m\\t\u001b[39;00m\u001b[38;5;124mB\u001b[39m\u001b[38;5;130;01m\\x87\u001b[39;00m\u001b[38;5;130;01m\\x01\u001b[39;00m\u001b[38;5;130;01m\\n\u001b[39;00m\u001b[38;5;130;01m\\x18\u001b[39;00m\u001b[38;5;124morg.tensorflow.frameworkB\u001b[39m\u001b[38;5;130;01m\\x11\u001b[39;00m\u001b[38;5;124mTensorShapeProtosP\u001b[39m\u001b[38;5;130;01m\\x01\u001b[39;00m\u001b[38;5;124mZSgithub.com/tensorflow/tensorflow/tensorflow/go/core/framework/tensor_shape_go_proto\u001b[39m\u001b[38;5;130;01m\\xf8\u001b[39;00m\u001b[38;5;130;01m\\x01\u001b[39;00m\u001b[38;5;130;01m\\x01\u001b[39;00m\u001b[38;5;130;01m\\x62\u001b[39;00m\u001b[38;5;130;01m\\x06\u001b[39;00m\u001b[38;5;124mproto3\u001b[39m\u001b[38;5;124m'\u001b[39m)\n\u001b[0;32m     24\u001b[0m )\n\u001b[0;32m     29\u001b[0m _TENSORSHAPEPROTO_DIM \u001b[38;5;241m=\u001b[39m _descriptor\u001b[38;5;241m.\u001b[39mDescriptor(\n\u001b[0;32m     30\u001b[0m   name\u001b[38;5;241m=\u001b[39m\u001b[38;5;124m'\u001b[39m\u001b[38;5;124mDim\u001b[39m\u001b[38;5;124m'\u001b[39m,\n\u001b[0;32m     31\u001b[0m   full_name\u001b[38;5;241m=\u001b[39m\u001b[38;5;124m'\u001b[39m\u001b[38;5;124mtensorflow.TensorShapeProto.Dim\u001b[39m\u001b[38;5;124m'\u001b[39m,\n\u001b[0;32m     32\u001b[0m   filename\u001b[38;5;241m=\u001b[39m\u001b[38;5;28;01mNone\u001b[39;00m,\n\u001b[0;32m     33\u001b[0m   file\u001b[38;5;241m=\u001b[39mDESCRIPTOR,\n\u001b[0;32m     34\u001b[0m   containing_type\u001b[38;5;241m=\u001b[39m\u001b[38;5;28;01mNone\u001b[39;00m,\n\u001b[0;32m     35\u001b[0m   fields\u001b[38;5;241m=\u001b[39m[\n\u001b[1;32m---> 36\u001b[0m     \u001b[43m_descriptor\u001b[49m\u001b[38;5;241;43m.\u001b[39;49m\u001b[43mFieldDescriptor\u001b[49m\u001b[43m(\u001b[49m\n\u001b[0;32m     37\u001b[0m \u001b[43m      \u001b[49m\u001b[43mname\u001b[49m\u001b[38;5;241;43m=\u001b[39;49m\u001b[38;5;124;43m'\u001b[39;49m\u001b[38;5;124;43msize\u001b[39;49m\u001b[38;5;124;43m'\u001b[39;49m\u001b[43m,\u001b[49m\u001b[43m \u001b[49m\u001b[43mfull_name\u001b[49m\u001b[38;5;241;43m=\u001b[39;49m\u001b[38;5;124;43m'\u001b[39;49m\u001b[38;5;124;43mtensorflow.TensorShapeProto.Dim.size\u001b[39;49m\u001b[38;5;124;43m'\u001b[39;49m\u001b[43m,\u001b[49m\u001b[43m \u001b[49m\u001b[43mindex\u001b[49m\u001b[38;5;241;43m=\u001b[39;49m\u001b[38;5;241;43m0\u001b[39;49m\u001b[43m,\u001b[49m\n\u001b[0;32m     38\u001b[0m \u001b[43m      \u001b[49m\u001b[43mnumber\u001b[49m\u001b[38;5;241;43m=\u001b[39;49m\u001b[38;5;241;43m1\u001b[39;49m\u001b[43m,\u001b[49m\u001b[43m \u001b[49m\u001b[38;5;28;43mtype\u001b[39;49m\u001b[38;5;241;43m=\u001b[39;49m\u001b[38;5;241;43m3\u001b[39;49m\u001b[43m,\u001b[49m\u001b[43m \u001b[49m\u001b[43mcpp_type\u001b[49m\u001b[38;5;241;43m=\u001b[39;49m\u001b[38;5;241;43m2\u001b[39;49m\u001b[43m,\u001b[49m\u001b[43m \u001b[49m\u001b[43mlabel\u001b[49m\u001b[38;5;241;43m=\u001b[39;49m\u001b[38;5;241;43m1\u001b[39;49m\u001b[43m,\u001b[49m\n\u001b[0;32m     39\u001b[0m \u001b[43m      \u001b[49m\u001b[43mhas_default_value\u001b[49m\u001b[38;5;241;43m=\u001b[39;49m\u001b[38;5;28;43;01mFalse\u001b[39;49;00m\u001b[43m,\u001b[49m\u001b[43m \u001b[49m\u001b[43mdefault_value\u001b[49m\u001b[38;5;241;43m=\u001b[39;49m\u001b[38;5;241;43m0\u001b[39;49m\u001b[43m,\u001b[49m\n\u001b[0;32m     40\u001b[0m \u001b[43m      \u001b[49m\u001b[43mmessage_type\u001b[49m\u001b[38;5;241;43m=\u001b[39;49m\u001b[38;5;28;43;01mNone\u001b[39;49;00m\u001b[43m,\u001b[49m\u001b[43m \u001b[49m\u001b[43menum_type\u001b[49m\u001b[38;5;241;43m=\u001b[39;49m\u001b[38;5;28;43;01mNone\u001b[39;49;00m\u001b[43m,\u001b[49m\u001b[43m \u001b[49m\u001b[43mcontaining_type\u001b[49m\u001b[38;5;241;43m=\u001b[39;49m\u001b[38;5;28;43;01mNone\u001b[39;49;00m\u001b[43m,\u001b[49m\n\u001b[0;32m     41\u001b[0m \u001b[43m      \u001b[49m\u001b[43mis_extension\u001b[49m\u001b[38;5;241;43m=\u001b[39;49m\u001b[38;5;28;43;01mFalse\u001b[39;49;00m\u001b[43m,\u001b[49m\u001b[43m \u001b[49m\u001b[43mextension_scope\u001b[49m\u001b[38;5;241;43m=\u001b[39;49m\u001b[38;5;28;43;01mNone\u001b[39;49;00m\u001b[43m,\u001b[49m\n\u001b[0;32m     42\u001b[0m \u001b[43m      \u001b[49m\u001b[43mserialized_options\u001b[49m\u001b[38;5;241;43m=\u001b[39;49m\u001b[38;5;28;43;01mNone\u001b[39;49;00m\u001b[43m,\u001b[49m\u001b[43m \u001b[49m\u001b[43mfile\u001b[49m\u001b[38;5;241;43m=\u001b[39;49m\u001b[43mDESCRIPTOR\u001b[49m\u001b[43m)\u001b[49m,\n\u001b[0;32m     43\u001b[0m     _descriptor\u001b[38;5;241m.\u001b[39mFieldDescriptor(\n\u001b[0;32m     44\u001b[0m       name\u001b[38;5;241m=\u001b[39m\u001b[38;5;124m'\u001b[39m\u001b[38;5;124mname\u001b[39m\u001b[38;5;124m'\u001b[39m, full_name\u001b[38;5;241m=\u001b[39m\u001b[38;5;124m'\u001b[39m\u001b[38;5;124mtensorflow.TensorShapeProto.Dim.name\u001b[39m\u001b[38;5;124m'\u001b[39m, index\u001b[38;5;241m=\u001b[39m\u001b[38;5;241m1\u001b[39m,\n\u001b[0;32m     45\u001b[0m       number\u001b[38;5;241m=\u001b[39m\u001b[38;5;241m2\u001b[39m, \u001b[38;5;28mtype\u001b[39m\u001b[38;5;241m=\u001b[39m\u001b[38;5;241m9\u001b[39m, cpp_type\u001b[38;5;241m=\u001b[39m\u001b[38;5;241m9\u001b[39m, label\u001b[38;5;241m=\u001b[39m\u001b[38;5;241m1\u001b[39m,\n\u001b[0;32m     46\u001b[0m       has_default_value\u001b[38;5;241m=\u001b[39m\u001b[38;5;28;01mFalse\u001b[39;00m, default_value\u001b[38;5;241m=\u001b[39m_b(\u001b[38;5;124m\"\u001b[39m\u001b[38;5;124m\"\u001b[39m)\u001b[38;5;241m.\u001b[39mdecode(\u001b[38;5;124m'\u001b[39m\u001b[38;5;124mutf-8\u001b[39m\u001b[38;5;124m'\u001b[39m),\n\u001b[0;32m     47\u001b[0m       message_type\u001b[38;5;241m=\u001b[39m\u001b[38;5;28;01mNone\u001b[39;00m, enum_type\u001b[38;5;241m=\u001b[39m\u001b[38;5;28;01mNone\u001b[39;00m, containing_type\u001b[38;5;241m=\u001b[39m\u001b[38;5;28;01mNone\u001b[39;00m,\n\u001b[0;32m     48\u001b[0m       is_extension\u001b[38;5;241m=\u001b[39m\u001b[38;5;28;01mFalse\u001b[39;00m, extension_scope\u001b[38;5;241m=\u001b[39m\u001b[38;5;28;01mNone\u001b[39;00m,\n\u001b[0;32m     49\u001b[0m       serialized_options\u001b[38;5;241m=\u001b[39m\u001b[38;5;28;01mNone\u001b[39;00m, file\u001b[38;5;241m=\u001b[39mDESCRIPTOR),\n\u001b[0;32m     50\u001b[0m   ],\n\u001b[0;32m     51\u001b[0m   extensions\u001b[38;5;241m=\u001b[39m[\n\u001b[0;32m     52\u001b[0m   ],\n\u001b[0;32m     53\u001b[0m   nested_types\u001b[38;5;241m=\u001b[39m[],\n\u001b[0;32m     54\u001b[0m   enum_types\u001b[38;5;241m=\u001b[39m[\n\u001b[0;32m     55\u001b[0m   ],\n\u001b[0;32m     56\u001b[0m   serialized_options\u001b[38;5;241m=\u001b[39m\u001b[38;5;28;01mNone\u001b[39;00m,\n\u001b[0;32m     57\u001b[0m   is_extendable\u001b[38;5;241m=\u001b[39m\u001b[38;5;28;01mFalse\u001b[39;00m,\n\u001b[0;32m     58\u001b[0m   syntax\u001b[38;5;241m=\u001b[39m\u001b[38;5;124m'\u001b[39m\u001b[38;5;124mproto3\u001b[39m\u001b[38;5;124m'\u001b[39m,\n\u001b[0;32m     59\u001b[0m   extension_ranges\u001b[38;5;241m=\u001b[39m[],\n\u001b[0;32m     60\u001b[0m   oneofs\u001b[38;5;241m=\u001b[39m[\n\u001b[0;32m     61\u001b[0m   ],\n\u001b[0;32m     62\u001b[0m   serialized_start\u001b[38;5;241m=\u001b[39m\u001b[38;5;241m149\u001b[39m,\n\u001b[0;32m     63\u001b[0m   serialized_end\u001b[38;5;241m=\u001b[39m\u001b[38;5;241m182\u001b[39m,\n\u001b[0;32m     64\u001b[0m )\n\u001b[0;32m     66\u001b[0m _TENSORSHAPEPROTO \u001b[38;5;241m=\u001b[39m _descriptor\u001b[38;5;241m.\u001b[39mDescriptor(\n\u001b[0;32m     67\u001b[0m   name\u001b[38;5;241m=\u001b[39m\u001b[38;5;124m'\u001b[39m\u001b[38;5;124mTensorShapeProto\u001b[39m\u001b[38;5;124m'\u001b[39m,\n\u001b[0;32m     68\u001b[0m   full_name\u001b[38;5;241m=\u001b[39m\u001b[38;5;124m'\u001b[39m\u001b[38;5;124mtensorflow.TensorShapeProto\u001b[39m\u001b[38;5;124m'\u001b[39m,\n\u001b[1;32m   (...)\u001b[0m\n\u001b[0;32m    100\u001b[0m   serialized_end\u001b[38;5;241m=\u001b[39m\u001b[38;5;241m182\u001b[39m,\n\u001b[0;32m    101\u001b[0m )\n\u001b[0;32m    103\u001b[0m _TENSORSHAPEPROTO_DIM\u001b[38;5;241m.\u001b[39mcontaining_type \u001b[38;5;241m=\u001b[39m _TENSORSHAPEPROTO\n",
            "File \u001b[1;32mc:\\Users\\AMD\\AppData\\Local\\Programs\\Python\\Python310\\lib\\site-packages\\google\\protobuf\\descriptor.py:561\u001b[0m, in \u001b[0;36mFieldDescriptor.__new__\u001b[1;34m(cls, name, full_name, index, number, type, cpp_type, label, default_value, message_type, enum_type, containing_type, is_extension, extension_scope, options, serialized_options, has_default_value, containing_oneof, json_name, file, create_key)\u001b[0m\n\u001b[0;32m    555\u001b[0m \u001b[38;5;28;01mdef\u001b[39;00m \u001b[38;5;21m__new__\u001b[39m(\u001b[38;5;28mcls\u001b[39m, name, full_name, index, number, \u001b[38;5;28mtype\u001b[39m, cpp_type, label,\n\u001b[0;32m    556\u001b[0m             default_value, message_type, enum_type, containing_type,\n\u001b[0;32m    557\u001b[0m             is_extension, extension_scope, options\u001b[38;5;241m=\u001b[39m\u001b[38;5;28;01mNone\u001b[39;00m,\n\u001b[0;32m    558\u001b[0m             serialized_options\u001b[38;5;241m=\u001b[39m\u001b[38;5;28;01mNone\u001b[39;00m,\n\u001b[0;32m    559\u001b[0m             has_default_value\u001b[38;5;241m=\u001b[39m\u001b[38;5;28;01mTrue\u001b[39;00m, containing_oneof\u001b[38;5;241m=\u001b[39m\u001b[38;5;28;01mNone\u001b[39;00m, json_name\u001b[38;5;241m=\u001b[39m\u001b[38;5;28;01mNone\u001b[39;00m,\n\u001b[0;32m    560\u001b[0m             file\u001b[38;5;241m=\u001b[39m\u001b[38;5;28;01mNone\u001b[39;00m, create_key\u001b[38;5;241m=\u001b[39m\u001b[38;5;28;01mNone\u001b[39;00m):  \u001b[38;5;66;03m# pylint: disable=redefined-builtin\u001b[39;00m\n\u001b[1;32m--> 561\u001b[0m   \u001b[43m_message\u001b[49m\u001b[38;5;241;43m.\u001b[39;49m\u001b[43mMessage\u001b[49m\u001b[38;5;241;43m.\u001b[39;49m\u001b[43m_CheckCalledFromGeneratedFile\u001b[49m\u001b[43m(\u001b[49m\u001b[43m)\u001b[49m\n\u001b[0;32m    562\u001b[0m   \u001b[38;5;28;01mif\u001b[39;00m is_extension:\n\u001b[0;32m    563\u001b[0m     \u001b[38;5;28;01mreturn\u001b[39;00m _message\u001b[38;5;241m.\u001b[39mdefault_pool\u001b[38;5;241m.\u001b[39mFindExtensionByName(full_name)\n",
            "\u001b[1;31mTypeError\u001b[0m: Descriptors cannot not be created directly.\nIf this call came from a _pb2.py file, your generated code is out of date and must be regenerated with protoc >= 3.19.0.\nIf you cannot immediately regenerate your protos, some other possible workarounds are:\n 1. Downgrade the protobuf package to 3.20.x or lower.\n 2. Set PROTOCOL_BUFFERS_PYTHON_IMPLEMENTATION=python (but this will use pure-Python parsing and will be much slower).\n\nMore information: https://developers.google.com/protocol-buffers/docs/news/2022-05-06#python-updates"
          ]
        }
      ],
      "source": [
        "import tensorflow as tf\n",
        "from tensorflow.keras import layers, models\n",
        "from sklearn.model_selection import train_test_split\n",
        "from sklearn.preprocessing import LabelEncoder\n",
        "from tensorflow.keras.models import Sequential\n",
        "from tensorflow.keras.layers import Dense\n",
        "from tensorflow.keras.optimizers import Adam\n",
        "\n",
        "\n",
        "df_tr=questionToMode_df.copy()\n",
        "#for label\n",
        "df_tr = pd.get_dummies(df_tr, columns=['Q16'], prefix='Q16')\n",
        "\n",
        "#for features\n",
        "label_encoder = LabelEncoder()\n",
        "categorical_columns = df_tr.columns[:-4]\n",
        "for col in categorical_columns:\n",
        "    df_tr[col] = label_encoder.fit_transform(df_tr[col])\n",
        "\n",
        "X = df_tr.drop(['Q16_0', 'Q16_1', 'Q16_2', 'Q16_3'], axis=1)\n",
        "y = df_tr[['Q16_0', 'Q16_1', 'Q16_2', 'Q16_3']]\n",
        "\n",
        "#train-test-split\n",
        "X_train, X_test, y_train, y_test = train_test_split(X, y, test_size=0.2, random_state=42)\n",
        "\n",
        "#model\n",
        "\n",
        "model = Sequential()\n",
        "model.add(Dense(256, input_dim=75, activation='relu'))\n",
        "model.add(Dense(128, activation='relu'))\n",
        "model.add(Dense(64, activation='relu'))\n",
        "model.add(Dense(4, activation='softmax'))\n",
        "\n",
        "\n",
        "\n",
        "\n",
        "model.compile(loss='categorical_crossentropy',\n",
        "              optimizer=Adam(learning_rate=0.001),\n",
        "              metrics=['accuracy'])\n",
        "\n",
        "\n",
        "model_result = model.fit(X_train, y_train, epochs=2000,validation_data=(X_test, y_test))"
      ]
    },
    {
      "cell_type": "code",
      "execution_count": 82,
      "metadata": {},
      "outputs": [
        {
          "name": "stdout",
          "output_type": "stream",
          "text": [
            "Best accuracy is = 0.6798473812001388, with criterion = entropy max_depth = 15 metrics and fetaure len = 2\n",
            "Best accuracy is = 0.6836628511966701, with criterion = entropy max_depth = 20 metrics and fetaure len = 3\n",
            "Best accuracy is = 0.676378772112383, with criterion = gini max_depth = 20 metrics and fetaure len = 4\n",
            "Best accuracy is = 0.6684009712105445, with criterion = entropy max_depth = 20 metrics and fetaure len = 5\n",
            "Best accuracy is = 0.6677072493929934, with criterion = entropy max_depth = 20 metrics and fetaure len = 6\n",
            "Best accuracy is = 0.659729448491155, with criterion = gini max_depth = 35 metrics and fetaure len = 7\n",
            "Best accuracy is = 0.6826222684703434, with criterion = gini max_depth = 35 metrics and fetaure len = 8\n",
            "Best accuracy is = 0.6867845993756504, with criterion = entropy max_depth = 25 metrics and fetaure len = 9\n",
            "Best accuracy is = 0.7013527575442248, with criterion = entropy max_depth = 30 metrics and fetaure len = 10\n",
            "Best accuracy is = 0.7089836975372875, with criterion = entropy max_depth = 25 metrics and fetaure len = 11\n",
            "Best accuracy is = 0.7190426638917794, with criterion = entropy max_depth = 25 metrics and fetaure len = 12\n",
            "Best accuracy is = 0.7169614984391259, with criterion = entropy max_depth = 30 metrics and fetaure len = 13\n",
            "Best accuracy is = 0.7218175511619841, with criterion = gini max_depth = 40 metrics and fetaure len = 13\n",
            "Best accuracy is = 0.7519944502254596, with criterion = gini max_depth = 35 metrics and fetaure len = 15\n",
            "Best accuracy is = 0.7280610475199445, with criterion = gini max_depth = 35 metrics and fetaure len = 15\n",
            "Best accuracy is = 0.7273673257023934, with criterion = gini max_depth = 35 metrics and fetaure len = 16\n",
            "Best accuracy is = 0.7509538674991328, with criterion = gini max_depth = 30 metrics and fetaure len = 17\n",
            "Best accuracy is = 0.7488727020464794, with criterion = entropy max_depth = None metrics and fetaure len = 18\n",
            "Best accuracy is = 0.7596253902185224, with criterion = entropy max_depth = None metrics and fetaure len = 19\n",
            "Best accuracy is = 0.7513007284079084, with criterion = entropy max_depth = 30 metrics and fetaure len = 20\n",
            "Best accuracy is = 0.7627471383975026, with criterion = gini max_depth = None metrics and fetaure len = 21\n",
            "Best accuracy is = 0.7807839056538328, with criterion = gini max_depth = 35 metrics and fetaure len = 22\n",
            "Best accuracy is = 0.7613596947624003, with criterion = entropy max_depth = 35 metrics and fetaure len = 23\n",
            "Best accuracy is = 0.7839056538328131, with criterion = entropy max_depth = 45 metrics and fetaure len = 24\n",
            "Best accuracy is = 0.7658688865764828, with criterion = gini max_depth = 45 metrics and fetaure len = 25\n",
            "Best accuracy is = 0.7863336801942421, with criterion = entropy max_depth = 35 metrics and fetaure len = 26\n",
            "Best accuracy is = 0.7859868192854665, with criterion = gini max_depth = 45 metrics and fetaure len = 27\n",
            "Best accuracy is = 0.7849462365591398, with criterion = entropy max_depth = None metrics and fetaure len = 28\n",
            "Best accuracy is = 0.7870274020117932, with criterion = gini max_depth = 30 metrics and fetaure len = 29\n",
            "Best accuracy is = 0.7863336801942421, with criterion = gini max_depth = 35 metrics and fetaure len = 30\n",
            "Best accuracy is = 0.7849462365591398, with criterion = entropy max_depth = 35 metrics and fetaure len = 31\n",
            "Best accuracy is = 0.7922303156434269, with criterion = gini max_depth = 50 metrics and fetaure len = 32\n",
            "Best accuracy is = 0.7932708983697537, with criterion = entropy max_depth = 25 metrics and fetaure len = 33\n",
            "Best accuracy is = 0.7915365938258758, with criterion = gini max_depth = 45 metrics and fetaure len = 34\n",
            "Best accuracy is = 0.7950052029136316, with criterion = gini max_depth = None metrics and fetaure len = 35\n",
            "Best accuracy is = 0.7925771765522026, with criterion = gini max_depth = 35 metrics and fetaure len = 36\n",
            "Best accuracy is = 0.7932708983697537, with criterion = entropy max_depth = 30 metrics and fetaure len = 37\n",
            "Best accuracy is = 0.7929240374609782, with criterion = entropy max_depth = None metrics and fetaure len = 38\n",
            "Best accuracy is = 0.7922303156434269, with criterion = gini max_depth = 45 metrics and fetaure len = 39\n",
            "Best accuracy is = 0.8005549774540409, with criterion = gini max_depth = 35 metrics and fetaure len = 40\n",
            "Best accuracy is = 0.8015955601803677, with criterion = gini max_depth = 35 metrics and fetaure len = 41\n",
            "Best accuracy is = 0.7953520638224072, with criterion = entropy max_depth = 40 metrics and fetaure len = 42\n",
            "Best accuracy is = 0.7991675338189386, with criterion = gini max_depth = None metrics and fetaure len = 43\n",
            "Best accuracy is = 0.7967395074575095, with criterion = entropy max_depth = 30 metrics and fetaure len = 44\n",
            "Best accuracy is = 0.7970863683662851, with criterion = entropy max_depth = 25 metrics and fetaure len = 45\n",
            "Best accuracy is = 0.7984738120013875, with criterion = entropy max_depth = 40 metrics and fetaure len = 46\n",
            "Best accuracy is = 0.7943114810960805, with criterion = gini max_depth = 35 metrics and fetaure len = 47\n",
            "Best accuracy is = 0.8029830038154699, with criterion = entropy max_depth = 40 metrics and fetaure len = 48\n",
            "Best accuracy is = 0.7984738120013875, with criterion = gini max_depth = None metrics and fetaure len = 49\n",
            "Best accuracy is = 0.7984738120013875, with criterion = gini max_depth = 40 metrics and fetaure len = 50\n",
            "Best accuracy is = 0.8005549774540409, with criterion = gini max_depth = 30 metrics and fetaure len = 51\n",
            "Best accuracy is = 0.8012486992715921, with criterion = entropy max_depth = 45 metrics and fetaure len = 52\n",
            "Best accuracy is = 0.7936177592785293, with criterion = entropy max_depth = 35 metrics and fetaure len = 53\n",
            "Best accuracy is = 0.8015955601803677, with criterion = entropy max_depth = 30 metrics and fetaure len = 54\n",
            "Best accuracy is = 0.8036767256330212, with criterion = entropy max_depth = 45 metrics and fetaure len = 55\n",
            "Best accuracy is = 0.7967395074575095, with criterion = entropy max_depth = 25 metrics and fetaure len = 56\n",
            "Best accuracy is = 0.8029830038154699, with criterion = gini max_depth = 35 metrics and fetaure len = 57\n",
            "Best accuracy is = 0.8026361429066944, with criterion = gini max_depth = None metrics and fetaure len = 58\n",
            "Best accuracy is = 0.8022892819979188, with criterion = gini max_depth = 35 metrics and fetaure len = 59\n",
            "Best accuracy is = 0.8019424210891433, with criterion = entropy max_depth = None metrics and fetaure len = 60\n",
            "Best accuracy is = 0.8019424210891433, with criterion = gini max_depth = 30 metrics and fetaure len = 61\n",
            "Best accuracy is = 0.8043704474505723, with criterion = entropy max_depth = 40 metrics and fetaure len = 62\n",
            "Best accuracy is = 0.7977800901838363, with criterion = gini max_depth = 30 metrics and fetaure len = 63\n",
            "Best accuracy is = 0.8005549774540409, with criterion = entropy max_depth = 40 metrics and fetaure len = 64\n",
            "Best accuracy is = 0.8019424210891433, with criterion = entropy max_depth = 25 metrics and fetaure len = 65\n",
            "Best accuracy is = 0.8036767256330212, with criterion = gini max_depth = 40 metrics and fetaure len = 66\n",
            "Best accuracy is = 0.798820672910163, with criterion = entropy max_depth = 25 metrics and fetaure len = 67\n"
          ]
        },
        {
          "ename": "KeyboardInterrupt",
          "evalue": "",
          "output_type": "error",
          "traceback": [
            "\u001b[1;31m---------------------------------------------------------------------------\u001b[0m",
            "\u001b[1;31mKeyboardInterrupt\u001b[0m                         Traceback (most recent call last)",
            "Input \u001b[1;32mIn [82]\u001b[0m, in \u001b[0;36m<cell line: 2>\u001b[1;34m()\u001b[0m\n\u001b[0;32m      1\u001b[0m \u001b[38;5;66;03m# Run the V3 Codes (in V2, oversampling dahat awith k_neigbors = 20, best results comes with PyTorch and RandomForest's min-max scaler, now tyring to more k_neighbors in oversampling)\u001b[39;00m\n\u001b[1;32m----> 2\u001b[0m \u001b[43mRunThePredictAlgorithm\u001b[49m\u001b[43m(\u001b[49m\u001b[43moversampling_df\u001b[49m\u001b[43m,\u001b[49m\u001b[43m \u001b[49m\u001b[38;5;241;43m75\u001b[39;49m\u001b[43m,\u001b[49m\u001b[43m \u001b[49m\u001b[38;5;124;43m'\u001b[39;49m\u001b[38;5;124;43mmin-max\u001b[39;49m\u001b[38;5;124;43m'\u001b[39;49m\u001b[43m,\u001b[49m\u001b[43m \u001b[49m\u001b[43mRFEFeatureElimination\u001b[49m\u001b[43m,\u001b[49m\u001b[43m \u001b[49m\u001b[43mRandomForest\u001b[49m\u001b[43m,\u001b[49m\u001b[43m \u001b[49m\u001b[43mversion_numer\u001b[49m\u001b[38;5;241;43m=\u001b[39;49m\u001b[38;5;124;43m'\u001b[39;49m\u001b[38;5;124;43mV3\u001b[39;49m\u001b[38;5;124;43m'\u001b[39;49m\u001b[43m)\u001b[49m\n",
            "Input \u001b[1;32mIn [72]\u001b[0m, in \u001b[0;36mRunThePredictAlgorithm\u001b[1;34m(df, max_feature, scaling_method, FeatureEliminationMethod, MLORDLAlgorithm, IsPytorch, loss_method, accuracy_method, optimizer_method, lr, version_numer, IsTensor)\u001b[0m\n\u001b[0;32m     26\u001b[0m feature_eliminated_df \u001b[38;5;241m=\u001b[39m FeatureEliminationMethod(df \u001b[38;5;241m=\u001b[39m df, X \u001b[38;5;241m=\u001b[39m X, y \u001b[38;5;241m=\u001b[39m y, n_features_to_select \u001b[38;5;241m=\u001b[39m i)\n\u001b[0;32m     27\u001b[0m x_train, x_test, y_train, y_test \u001b[38;5;241m=\u001b[39m train_test_split_modified(feature_eliminated_df)\n\u001b[1;32m---> 28\u001b[0m result \u001b[38;5;241m=\u001b[39m \u001b[43mMLORDLAlgorithm\u001b[49m\u001b[43m(\u001b[49m\u001b[43mx_train\u001b[49m\u001b[43m,\u001b[49m\u001b[43m \u001b[49m\u001b[43mx_test\u001b[49m\u001b[43m,\u001b[49m\u001b[43m \u001b[49m\u001b[43my_train\u001b[49m\u001b[43m,\u001b[49m\u001b[43m \u001b[49m\u001b[43my_test\u001b[49m\u001b[43m)\u001b[49m\n\u001b[0;32m     29\u001b[0m result[\u001b[38;5;124m\"\u001b[39m\u001b[38;5;124mFeatureEliminationMethod\u001b[39m\u001b[38;5;124m\"\u001b[39m] \u001b[38;5;241m=\u001b[39m FeatureEliminationMethod\u001b[38;5;241m.\u001b[39m\u001b[38;5;18m__name__\u001b[39m\n\u001b[0;32m     30\u001b[0m SaveResults(result, \u001b[38;5;28mstr\u001b[39m(MLORDLAlgorithm\u001b[38;5;241m.\u001b[39m\u001b[38;5;18m__name__\u001b[39m) \u001b[38;5;241m+\u001b[39m \u001b[38;5;124m\"\u001b[39m\u001b[38;5;124m_\u001b[39m\u001b[38;5;124m\"\u001b[39m \u001b[38;5;241m+\u001b[39m \u001b[38;5;28mstr\u001b[39m(FeatureEliminationMethod\u001b[38;5;241m.\u001b[39m\u001b[38;5;18m__name__\u001b[39m) \u001b[38;5;241m+\u001b[39m \u001b[38;5;124m\"\u001b[39m\u001b[38;5;124m_\u001b[39m\u001b[38;5;124m\"\u001b[39m \u001b[38;5;241m+\u001b[39m scaling_method \u001b[38;5;241m+\u001b[39m\u001b[38;5;124m'\u001b[39m\u001b[38;5;124m_\u001b[39m\u001b[38;5;124m'\u001b[39m \u001b[38;5;241m+\u001b[39m version_numer \u001b[38;5;241m+\u001b[39m\u001b[38;5;124m\"\u001b[39m\u001b[38;5;124m.txt\u001b[39m\u001b[38;5;124m\"\u001b[39m)\n",
            "Input \u001b[1;32mIn [26]\u001b[0m, in \u001b[0;36mRandomForest\u001b[1;34m(x_train, x_test, y_train, y_test)\u001b[0m\n\u001b[0;32m     12\u001b[0m \u001b[38;5;28;01mfor\u001b[39;00m max_depth_changer \u001b[38;5;129;01min\u001b[39;00m [\u001b[38;5;28;01mNone\u001b[39;00m,\u001b[38;5;241m5\u001b[39m,\u001b[38;5;241m10\u001b[39m,\u001b[38;5;241m15\u001b[39m,\u001b[38;5;241m20\u001b[39m,\u001b[38;5;241m25\u001b[39m,\u001b[38;5;241m30\u001b[39m,\u001b[38;5;241m35\u001b[39m,\u001b[38;5;241m40\u001b[39m,\u001b[38;5;241m45\u001b[39m,\u001b[38;5;241m50\u001b[39m]:\n\u001b[0;32m     13\u001b[0m     RandomForestClf \u001b[38;5;241m=\u001b[39m RandomForestClassifier(criterion\u001b[38;5;241m=\u001b[39m criterion_changer, max_depth\u001b[38;5;241m=\u001b[39mmax_depth_changer, random_state\u001b[38;5;241m=\u001b[39m\u001b[38;5;241m1\u001b[39m)\n\u001b[1;32m---> 14\u001b[0m     \u001b[43mRandomForestClf\u001b[49m\u001b[38;5;241;43m.\u001b[39;49m\u001b[43mfit\u001b[49m\u001b[43m(\u001b[49m\u001b[43mx_train\u001b[49m\u001b[43m,\u001b[49m\u001b[43m \u001b[49m\u001b[43my_train\u001b[49m\u001b[43m)\u001b[49m\n\u001b[0;32m     15\u001b[0m     y_pred \u001b[38;5;241m=\u001b[39m RandomForestClf\u001b[38;5;241m.\u001b[39mpredict(x_test)\n\u001b[0;32m     16\u001b[0m     accuracy \u001b[38;5;241m=\u001b[39m accuracy_score(y_test, y_pred)\n",
            "File \u001b[1;32mc:\\Users\\AMD\\AppData\\Local\\Programs\\Python\\Python310\\lib\\site-packages\\sklearn\\ensemble\\_forest.py:450\u001b[0m, in \u001b[0;36mBaseForest.fit\u001b[1;34m(self, X, y, sample_weight)\u001b[0m\n\u001b[0;32m    439\u001b[0m trees \u001b[38;5;241m=\u001b[39m [\n\u001b[0;32m    440\u001b[0m     \u001b[38;5;28mself\u001b[39m\u001b[38;5;241m.\u001b[39m_make_estimator(append\u001b[38;5;241m=\u001b[39m\u001b[38;5;28;01mFalse\u001b[39;00m, random_state\u001b[38;5;241m=\u001b[39mrandom_state)\n\u001b[0;32m    441\u001b[0m     \u001b[38;5;28;01mfor\u001b[39;00m i \u001b[38;5;129;01min\u001b[39;00m \u001b[38;5;28mrange\u001b[39m(n_more_estimators)\n\u001b[0;32m    442\u001b[0m ]\n\u001b[0;32m    444\u001b[0m \u001b[38;5;66;03m# Parallel loop: we prefer the threading backend as the Cython code\u001b[39;00m\n\u001b[0;32m    445\u001b[0m \u001b[38;5;66;03m# for fitting the trees is internally releasing the Python GIL\u001b[39;00m\n\u001b[0;32m    446\u001b[0m \u001b[38;5;66;03m# making threading more efficient than multiprocessing in\u001b[39;00m\n\u001b[0;32m    447\u001b[0m \u001b[38;5;66;03m# that case. However, for joblib 0.12+ we respect any\u001b[39;00m\n\u001b[0;32m    448\u001b[0m \u001b[38;5;66;03m# parallel_backend contexts set at a higher level,\u001b[39;00m\n\u001b[0;32m    449\u001b[0m \u001b[38;5;66;03m# since correctness does not rely on using threads.\u001b[39;00m\n\u001b[1;32m--> 450\u001b[0m trees \u001b[38;5;241m=\u001b[39m \u001b[43mParallel\u001b[49m\u001b[43m(\u001b[49m\n\u001b[0;32m    451\u001b[0m \u001b[43m    \u001b[49m\u001b[43mn_jobs\u001b[49m\u001b[38;5;241;43m=\u001b[39;49m\u001b[38;5;28;43mself\u001b[39;49m\u001b[38;5;241;43m.\u001b[39;49m\u001b[43mn_jobs\u001b[49m\u001b[43m,\u001b[49m\n\u001b[0;32m    452\u001b[0m \u001b[43m    \u001b[49m\u001b[43mverbose\u001b[49m\u001b[38;5;241;43m=\u001b[39;49m\u001b[38;5;28;43mself\u001b[39;49m\u001b[38;5;241;43m.\u001b[39;49m\u001b[43mverbose\u001b[49m\u001b[43m,\u001b[49m\n\u001b[0;32m    453\u001b[0m \u001b[43m    \u001b[49m\u001b[38;5;241;43m*\u001b[39;49m\u001b[38;5;241;43m*\u001b[39;49m\u001b[43m_joblib_parallel_args\u001b[49m\u001b[43m(\u001b[49m\u001b[43mprefer\u001b[49m\u001b[38;5;241;43m=\u001b[39;49m\u001b[38;5;124;43m\"\u001b[39;49m\u001b[38;5;124;43mthreads\u001b[39;49m\u001b[38;5;124;43m\"\u001b[39;49m\u001b[43m)\u001b[49m\u001b[43m,\u001b[49m\n\u001b[0;32m    454\u001b[0m \u001b[43m\u001b[49m\u001b[43m)\u001b[49m\u001b[43m(\u001b[49m\n\u001b[0;32m    455\u001b[0m \u001b[43m    \u001b[49m\u001b[43mdelayed\u001b[49m\u001b[43m(\u001b[49m\u001b[43m_parallel_build_trees\u001b[49m\u001b[43m)\u001b[49m\u001b[43m(\u001b[49m\n\u001b[0;32m    456\u001b[0m \u001b[43m        \u001b[49m\u001b[43mt\u001b[49m\u001b[43m,\u001b[49m\n\u001b[0;32m    457\u001b[0m \u001b[43m        \u001b[49m\u001b[38;5;28;43mself\u001b[39;49m\u001b[43m,\u001b[49m\n\u001b[0;32m    458\u001b[0m \u001b[43m        \u001b[49m\u001b[43mX\u001b[49m\u001b[43m,\u001b[49m\n\u001b[0;32m    459\u001b[0m \u001b[43m        \u001b[49m\u001b[43my\u001b[49m\u001b[43m,\u001b[49m\n\u001b[0;32m    460\u001b[0m \u001b[43m        \u001b[49m\u001b[43msample_weight\u001b[49m\u001b[43m,\u001b[49m\n\u001b[0;32m    461\u001b[0m \u001b[43m        \u001b[49m\u001b[43mi\u001b[49m\u001b[43m,\u001b[49m\n\u001b[0;32m    462\u001b[0m \u001b[43m        \u001b[49m\u001b[38;5;28;43mlen\u001b[39;49m\u001b[43m(\u001b[49m\u001b[43mtrees\u001b[49m\u001b[43m)\u001b[49m\u001b[43m,\u001b[49m\n\u001b[0;32m    463\u001b[0m \u001b[43m        \u001b[49m\u001b[43mverbose\u001b[49m\u001b[38;5;241;43m=\u001b[39;49m\u001b[38;5;28;43mself\u001b[39;49m\u001b[38;5;241;43m.\u001b[39;49m\u001b[43mverbose\u001b[49m\u001b[43m,\u001b[49m\n\u001b[0;32m    464\u001b[0m \u001b[43m        \u001b[49m\u001b[43mclass_weight\u001b[49m\u001b[38;5;241;43m=\u001b[39;49m\u001b[38;5;28;43mself\u001b[39;49m\u001b[38;5;241;43m.\u001b[39;49m\u001b[43mclass_weight\u001b[49m\u001b[43m,\u001b[49m\n\u001b[0;32m    465\u001b[0m \u001b[43m        \u001b[49m\u001b[43mn_samples_bootstrap\u001b[49m\u001b[38;5;241;43m=\u001b[39;49m\u001b[43mn_samples_bootstrap\u001b[49m\u001b[43m,\u001b[49m\n\u001b[0;32m    466\u001b[0m \u001b[43m    \u001b[49m\u001b[43m)\u001b[49m\n\u001b[0;32m    467\u001b[0m \u001b[43m    \u001b[49m\u001b[38;5;28;43;01mfor\u001b[39;49;00m\u001b[43m \u001b[49m\u001b[43mi\u001b[49m\u001b[43m,\u001b[49m\u001b[43m \u001b[49m\u001b[43mt\u001b[49m\u001b[43m \u001b[49m\u001b[38;5;129;43;01min\u001b[39;49;00m\u001b[43m \u001b[49m\u001b[38;5;28;43menumerate\u001b[39;49m\u001b[43m(\u001b[49m\u001b[43mtrees\u001b[49m\u001b[43m)\u001b[49m\n\u001b[0;32m    468\u001b[0m \u001b[43m\u001b[49m\u001b[43m)\u001b[49m\n\u001b[0;32m    470\u001b[0m \u001b[38;5;66;03m# Collect newly grown trees\u001b[39;00m\n\u001b[0;32m    471\u001b[0m \u001b[38;5;28mself\u001b[39m\u001b[38;5;241m.\u001b[39mestimators_\u001b[38;5;241m.\u001b[39mextend(trees)\n",
            "File \u001b[1;32mc:\\Users\\AMD\\AppData\\Local\\Programs\\Python\\Python310\\lib\\site-packages\\joblib\\parallel.py:1863\u001b[0m, in \u001b[0;36mParallel.__call__\u001b[1;34m(self, iterable)\u001b[0m\n\u001b[0;32m   1861\u001b[0m     output \u001b[38;5;241m=\u001b[39m \u001b[38;5;28mself\u001b[39m\u001b[38;5;241m.\u001b[39m_get_sequential_output(iterable)\n\u001b[0;32m   1862\u001b[0m     \u001b[38;5;28mnext\u001b[39m(output)\n\u001b[1;32m-> 1863\u001b[0m     \u001b[38;5;28;01mreturn\u001b[39;00m output \u001b[38;5;28;01mif\u001b[39;00m \u001b[38;5;28mself\u001b[39m\u001b[38;5;241m.\u001b[39mreturn_generator \u001b[38;5;28;01melse\u001b[39;00m \u001b[38;5;28;43mlist\u001b[39;49m\u001b[43m(\u001b[49m\u001b[43moutput\u001b[49m\u001b[43m)\u001b[49m\n\u001b[0;32m   1865\u001b[0m \u001b[38;5;66;03m# Let's create an ID that uniquely identifies the current call. If the\u001b[39;00m\n\u001b[0;32m   1866\u001b[0m \u001b[38;5;66;03m# call is interrupted early and that the same instance is immediately\u001b[39;00m\n\u001b[0;32m   1867\u001b[0m \u001b[38;5;66;03m# re-used, this id will be used to prevent workers that were\u001b[39;00m\n\u001b[0;32m   1868\u001b[0m \u001b[38;5;66;03m# concurrently finalizing a task from the previous call to run the\u001b[39;00m\n\u001b[0;32m   1869\u001b[0m \u001b[38;5;66;03m# callback.\u001b[39;00m\n\u001b[0;32m   1870\u001b[0m \u001b[38;5;28;01mwith\u001b[39;00m \u001b[38;5;28mself\u001b[39m\u001b[38;5;241m.\u001b[39m_lock:\n",
            "File \u001b[1;32mc:\\Users\\AMD\\AppData\\Local\\Programs\\Python\\Python310\\lib\\site-packages\\joblib\\parallel.py:1792\u001b[0m, in \u001b[0;36mParallel._get_sequential_output\u001b[1;34m(self, iterable)\u001b[0m\n\u001b[0;32m   1790\u001b[0m \u001b[38;5;28mself\u001b[39m\u001b[38;5;241m.\u001b[39mn_dispatched_batches \u001b[38;5;241m+\u001b[39m\u001b[38;5;241m=\u001b[39m \u001b[38;5;241m1\u001b[39m\n\u001b[0;32m   1791\u001b[0m \u001b[38;5;28mself\u001b[39m\u001b[38;5;241m.\u001b[39mn_dispatched_tasks \u001b[38;5;241m+\u001b[39m\u001b[38;5;241m=\u001b[39m \u001b[38;5;241m1\u001b[39m\n\u001b[1;32m-> 1792\u001b[0m res \u001b[38;5;241m=\u001b[39m func(\u001b[38;5;241m*\u001b[39margs, \u001b[38;5;241m*\u001b[39m\u001b[38;5;241m*\u001b[39mkwargs)\n\u001b[0;32m   1793\u001b[0m \u001b[38;5;28mself\u001b[39m\u001b[38;5;241m.\u001b[39mn_completed_tasks \u001b[38;5;241m+\u001b[39m\u001b[38;5;241m=\u001b[39m \u001b[38;5;241m1\u001b[39m\n\u001b[0;32m   1794\u001b[0m \u001b[38;5;28mself\u001b[39m\u001b[38;5;241m.\u001b[39mprint_progress()\n",
            "File \u001b[1;32mc:\\Users\\AMD\\AppData\\Local\\Programs\\Python\\Python310\\lib\\site-packages\\sklearn\\utils\\fixes.py:216\u001b[0m, in \u001b[0;36m_FuncWrapper.__call__\u001b[1;34m(self, *args, **kwargs)\u001b[0m\n\u001b[0;32m    214\u001b[0m \u001b[38;5;28;01mdef\u001b[39;00m \u001b[38;5;21m__call__\u001b[39m(\u001b[38;5;28mself\u001b[39m, \u001b[38;5;241m*\u001b[39margs, \u001b[38;5;241m*\u001b[39m\u001b[38;5;241m*\u001b[39mkwargs):\n\u001b[0;32m    215\u001b[0m     \u001b[38;5;28;01mwith\u001b[39;00m config_context(\u001b[38;5;241m*\u001b[39m\u001b[38;5;241m*\u001b[39m\u001b[38;5;28mself\u001b[39m\u001b[38;5;241m.\u001b[39mconfig):\n\u001b[1;32m--> 216\u001b[0m         \u001b[38;5;28;01mreturn\u001b[39;00m \u001b[38;5;28mself\u001b[39m\u001b[38;5;241m.\u001b[39mfunction(\u001b[38;5;241m*\u001b[39margs, \u001b[38;5;241m*\u001b[39m\u001b[38;5;241m*\u001b[39mkwargs)\n",
            "File \u001b[1;32mc:\\Users\\AMD\\AppData\\Local\\Programs\\Python\\Python310\\lib\\site-packages\\sklearn\\ensemble\\_forest.py:172\u001b[0m, in \u001b[0;36m_parallel_build_trees\u001b[1;34m(tree, forest, X, y, sample_weight, tree_idx, n_trees, verbose, class_weight, n_samples_bootstrap)\u001b[0m\n\u001b[0;32m    169\u001b[0m \u001b[38;5;28;01melse\u001b[39;00m:\n\u001b[0;32m    170\u001b[0m     curr_sample_weight \u001b[38;5;241m=\u001b[39m sample_weight\u001b[38;5;241m.\u001b[39mcopy()\n\u001b[1;32m--> 172\u001b[0m indices \u001b[38;5;241m=\u001b[39m \u001b[43m_generate_sample_indices\u001b[49m\u001b[43m(\u001b[49m\n\u001b[0;32m    173\u001b[0m \u001b[43m    \u001b[49m\u001b[43mtree\u001b[49m\u001b[38;5;241;43m.\u001b[39;49m\u001b[43mrandom_state\u001b[49m\u001b[43m,\u001b[49m\u001b[43m \u001b[49m\u001b[43mn_samples\u001b[49m\u001b[43m,\u001b[49m\u001b[43m \u001b[49m\u001b[43mn_samples_bootstrap\u001b[49m\n\u001b[0;32m    174\u001b[0m \u001b[43m\u001b[49m\u001b[43m)\u001b[49m\n\u001b[0;32m    175\u001b[0m sample_counts \u001b[38;5;241m=\u001b[39m np\u001b[38;5;241m.\u001b[39mbincount(indices, minlength\u001b[38;5;241m=\u001b[39mn_samples)\n\u001b[0;32m    176\u001b[0m curr_sample_weight \u001b[38;5;241m*\u001b[39m\u001b[38;5;241m=\u001b[39m sample_counts\n",
            "File \u001b[1;32mc:\\Users\\AMD\\AppData\\Local\\Programs\\Python\\Python310\\lib\\site-packages\\sklearn\\ensemble\\_forest.py:129\u001b[0m, in \u001b[0;36m_generate_sample_indices\u001b[1;34m(random_state, n_samples, n_samples_bootstrap)\u001b[0m\n\u001b[0;32m    125\u001b[0m \u001b[38;5;124;03m\"\"\"\u001b[39;00m\n\u001b[0;32m    126\u001b[0m \u001b[38;5;124;03mPrivate function used to _parallel_build_trees function.\"\"\"\u001b[39;00m\n\u001b[0;32m    128\u001b[0m random_instance \u001b[38;5;241m=\u001b[39m check_random_state(random_state)\n\u001b[1;32m--> 129\u001b[0m sample_indices \u001b[38;5;241m=\u001b[39m \u001b[43mrandom_instance\u001b[49m\u001b[38;5;241;43m.\u001b[39;49m\u001b[43mrandint\u001b[49m\u001b[43m(\u001b[49m\u001b[38;5;241;43m0\u001b[39;49m\u001b[43m,\u001b[49m\u001b[43m \u001b[49m\u001b[43mn_samples\u001b[49m\u001b[43m,\u001b[49m\u001b[43m \u001b[49m\u001b[43mn_samples_bootstrap\u001b[49m\u001b[43m)\u001b[49m\n\u001b[0;32m    131\u001b[0m \u001b[38;5;28;01mreturn\u001b[39;00m sample_indices\n",
            "\u001b[1;31mKeyboardInterrupt\u001b[0m: "
          ]
        }
      ],
      "source": [
        "# Run the V3 Codes (in V2, oversampling dahat awith k_neigbors = 20, best results comes with PyTorch and RandomForest's min-max scaler, now tyring to more k_neighbors in oversampling)\n",
        "RunThePredictAlgorithm(oversampling_df, 75, 'min-max', RFEFeatureElimination, RandomForest, version_numer='V3')"
      ]
    },
    {
      "cell_type": "code",
      "execution_count": 119,
      "metadata": {},
      "outputs": [
        {
          "name": "stdout",
          "output_type": "stream",
          "text": [
            "Model: PyTorch Best Epoch: 0 | Best Loss: 1.46702 | Best Acc: 26.26%  with RFEFeatureElimination, min-max,CrossEntropyLoss, len = 70 and Adam, lr = 0.003\n",
            "Model: PyTorch Best Epoch: 55 | Best Loss: 1.48135 | Best Acc: 26.60%  with RFEFeatureElimination, min-max,CrossEntropyLoss, len = 70 and Adam, lr = 0.003\n",
            "Model: PyTorch Best Epoch: 78 | Best Loss: 1.47596 | Best Acc: 26.81%  with RFEFeatureElimination, min-max,CrossEntropyLoss, len = 70 and Adam, lr = 0.003\n",
            "Model: PyTorch Best Epoch: 79 | Best Loss: 1.47445 | Best Acc: 26.99%  with RFEFeatureElimination, min-max,CrossEntropyLoss, len = 70 and Adam, lr = 0.003\n",
            "Model: PyTorch Best Epoch: 81 | Best Loss: 1.46006 | Best Acc: 28.03%  with RFEFeatureElimination, min-max,CrossEntropyLoss, len = 70 and Adam, lr = 0.003\n",
            "Model: PyTorch Best Epoch: 143 | Best Loss: 1.45709 | Best Acc: 28.65%  with RFEFeatureElimination, min-max,CrossEntropyLoss, len = 70 and Adam, lr = 0.003\n",
            "Model: PyTorch Best Epoch: 145 | Best Loss: 1.45464 | Best Acc: 28.79%  with RFEFeatureElimination, min-max,CrossEntropyLoss, len = 70 and Adam, lr = 0.003\n",
            "Model: PyTorch Best Epoch: 146 | Best Loss: 1.44121 | Best Acc: 30.04%  with RFEFeatureElimination, min-max,CrossEntropyLoss, len = 70 and Adam, lr = 0.003\n",
            "Model: PyTorch Best Epoch: 150 | Best Loss: 1.43735 | Best Acc: 30.35%  with RFEFeatureElimination, min-max,CrossEntropyLoss, len = 70 and Adam, lr = 0.003\n",
            "Model: PyTorch Best Epoch: 152 | Best Loss: 1.43632 | Best Acc: 30.59%  with RFEFeatureElimination, min-max,CrossEntropyLoss, len = 70 and Adam, lr = 0.003\n",
            "Model: PyTorch Best Epoch: 173 | Best Loss: 1.43666 | Best Acc: 30.66%  with RFEFeatureElimination, min-max,CrossEntropyLoss, len = 70 and Adam, lr = 0.003\n",
            "Model: PyTorch Best Epoch: 176 | Best Loss: 1.43463 | Best Acc: 30.80%  with RFEFeatureElimination, min-max,CrossEntropyLoss, len = 70 and Adam, lr = 0.003\n",
            "Model: PyTorch Best Epoch: 177 | Best Loss: 1.43269 | Best Acc: 30.97%  with RFEFeatureElimination, min-max,CrossEntropyLoss, len = 70 and Adam, lr = 0.003\n",
            "Model: PyTorch Best Epoch: 178 | Best Loss: 1.43135 | Best Acc: 31.22%  with RFEFeatureElimination, min-max,CrossEntropyLoss, len = 70 and Adam, lr = 0.003\n",
            "Model: PyTorch Best Epoch: 179 | Best Loss: 1.42994 | Best Acc: 31.25%  with RFEFeatureElimination, min-max,CrossEntropyLoss, len = 70 and Adam, lr = 0.003\n",
            "Model: PyTorch Best Epoch: 180 | Best Loss: 1.42851 | Best Acc: 31.46%  with RFEFeatureElimination, min-max,CrossEntropyLoss, len = 70 and Adam, lr = 0.003\n",
            "Model: PyTorch Best Epoch: 181 | Best Loss: 1.42654 | Best Acc: 31.67%  with RFEFeatureElimination, min-max,CrossEntropyLoss, len = 70 and Adam, lr = 0.003\n",
            "Model: PyTorch Best Epoch: 182 | Best Loss: 1.41744 | Best Acc: 32.50%  with RFEFeatureElimination, min-max,CrossEntropyLoss, len = 70 and Adam, lr = 0.003\n",
            "Model: PyTorch Best Epoch: 183 | Best Loss: 1.40377 | Best Acc: 33.78%  with RFEFeatureElimination, min-max,CrossEntropyLoss, len = 70 and Adam, lr = 0.003\n",
            "Model: PyTorch Best Epoch: 705 | Best Loss: 1.39932 | Best Acc: 34.27%  with RFEFeatureElimination, min-max,CrossEntropyLoss, len = 70 and Adam, lr = 0.003\n",
            "Model: PyTorch Best Epoch: 797 | Best Loss: 1.39324 | Best Acc: 35.00%  with RFEFeatureElimination, min-max,CrossEntropyLoss, len = 70 and Adam, lr = 0.003\n",
            "Model: PyTorch Best Epoch: 800 | Best Loss: 1.38766 | Best Acc: 35.55%  with RFEFeatureElimination, min-max,CrossEntropyLoss, len = 70 and Adam, lr = 0.003\n",
            "Model: PyTorch Best Epoch: 910 | Best Loss: 1.37952 | Best Acc: 36.39%  with RFEFeatureElimination, min-max,CrossEntropyLoss, len = 70 and Adam, lr = 0.003\n",
            "Model: PyTorch Best Epoch: 911 | Best Loss: 1.37455 | Best Acc: 36.84%  with RFEFeatureElimination, min-max,CrossEntropyLoss, len = 70 and Adam, lr = 0.003\n",
            "Model: PyTorch Best Epoch: 912 | Best Loss: 1.36960 | Best Acc: 37.39%  with RFEFeatureElimination, min-max,CrossEntropyLoss, len = 70 and Adam, lr = 0.003\n",
            "Model: PyTorch Best Epoch: 914 | Best Loss: 1.35834 | Best Acc: 38.33%  with RFEFeatureElimination, min-max,CrossEntropyLoss, len = 70 and Adam, lr = 0.003\n",
            "Model: PyTorch Best Epoch: 932 | Best Loss: 1.35816 | Best Acc: 38.40%  with RFEFeatureElimination, min-max,CrossEntropyLoss, len = 70 and Adam, lr = 0.003\n"
          ]
        },
        {
          "ename": "KeyboardInterrupt",
          "evalue": "",
          "output_type": "error",
          "traceback": [
            "\u001b[1;31m---------------------------------------------------------------------------\u001b[0m",
            "\u001b[1;31mKeyboardInterrupt\u001b[0m                         Traceback (most recent call last)",
            "Input \u001b[1;32mIn [119]\u001b[0m, in \u001b[0;36m<cell line: 1>\u001b[1;34m()\u001b[0m\n\u001b[1;32m----> 1\u001b[0m \u001b[43mRunThePredictAlgorithm\u001b[49m\u001b[43m(\u001b[49m\u001b[43moversampling_df\u001b[49m\u001b[43m,\u001b[49m\u001b[43m \u001b[49m\u001b[38;5;241;43m70\u001b[39;49m\u001b[43m,\u001b[49m\u001b[43m \u001b[49m\u001b[38;5;124;43m'\u001b[39;49m\u001b[38;5;124;43mmin-max\u001b[39;49m\u001b[38;5;124;43m'\u001b[39;49m\u001b[43m,\u001b[49m\u001b[43m \u001b[49m\u001b[43mRFEFeatureElimination\u001b[49m\u001b[43m,\u001b[49m\u001b[43m \u001b[49m\u001b[43mPyTorch_TrainTest_Step\u001b[49m\u001b[43m,\u001b[49m\n\u001b[0;32m      2\u001b[0m \u001b[43m                       \u001b[49m\u001b[38;5;28;43;01mTrue\u001b[39;49;00m\u001b[43m,\u001b[49m\u001b[43m \u001b[49m\u001b[43maccuracy_method\u001b[49m\u001b[38;5;241;43m=\u001b[39;49m\u001b[43m \u001b[49m\u001b[43maccuracy_fn\u001b[49m\u001b[43m,\u001b[49m\u001b[43m \u001b[49m\u001b[43mloss_method\u001b[49m\u001b[38;5;241;43m=\u001b[39;49m\u001b[43mnn\u001b[49m\u001b[38;5;241;43m.\u001b[39;49m\u001b[43mCrossEntropyLoss\u001b[49m\u001b[43m(\u001b[49m\u001b[43m)\u001b[49m\u001b[43m,\u001b[49m\u001b[43m \u001b[49m\u001b[43moptimizer_method\u001b[49m\u001b[38;5;241;43m=\u001b[39;49m\u001b[38;5;124;43m'\u001b[39;49m\u001b[38;5;124;43mAdam\u001b[39;49m\u001b[38;5;124;43m'\u001b[39;49m\u001b[43m,\u001b[49m\u001b[43m \u001b[49m\u001b[43mlr\u001b[49m\u001b[43m \u001b[49m\u001b[38;5;241;43m=\u001b[39;49m\u001b[43m \u001b[49m\u001b[38;5;241;43m0.003\u001b[39;49m\u001b[43m,\u001b[49m\u001b[43m \u001b[49m\u001b[43mversion_numer\u001b[49m\u001b[38;5;241;43m=\u001b[39;49m\u001b[38;5;124;43m'\u001b[39;49m\u001b[38;5;124;43mV4\u001b[39;49m\u001b[38;5;124;43m'\u001b[39;49m\u001b[43m)\u001b[49m\n",
            "Input \u001b[1;32mIn [72]\u001b[0m, in \u001b[0;36mRunThePredictAlgorithm\u001b[1;34m(df, max_feature, scaling_method, FeatureEliminationMethod, MLORDLAlgorithm, IsPytorch, loss_method, accuracy_method, optimizer_method, lr, version_numer, IsTensor)\u001b[0m\n\u001b[0;32m     47\u001b[0m     \u001b[38;5;28mprint\u001b[39m(\u001b[38;5;124m\"\u001b[39m\u001b[38;5;124mYou give a wrong optimizer name, pls try again. Accepted optimizer names = \u001b[39m\u001b[38;5;124m'\u001b[39m\u001b[38;5;124mAdam\u001b[39m\u001b[38;5;124m'\u001b[39m\u001b[38;5;124m or \u001b[39m\u001b[38;5;124m'\u001b[39m\u001b[38;5;124mSGD\u001b[39m\u001b[38;5;124m'\u001b[39m\u001b[38;5;124m \u001b[39m\u001b[38;5;124m\"\u001b[39m)\n\u001b[0;32m     48\u001b[0m     \u001b[38;5;28;01mreturn\u001b[39;00m \u001b[38;5;28;01mFalse\u001b[39;00m\n\u001b[1;32m---> 50\u001b[0m result \u001b[38;5;241m=\u001b[39m \u001b[43mMLORDLAlgorithm\u001b[49m\u001b[43m(\u001b[49m\u001b[43mmodel\u001b[49m\u001b[43m \u001b[49m\u001b[38;5;241;43m=\u001b[39;49m\u001b[43m \u001b[49m\u001b[43mpytorch_model\u001b[49m\u001b[43m,\u001b[49m\n\u001b[0;32m     51\u001b[0m \u001b[43m                    \u001b[49m\u001b[43mx_train\u001b[49m\u001b[43m \u001b[49m\u001b[38;5;241;43m=\u001b[39;49m\u001b[43m \u001b[49m\u001b[43mx_train\u001b[49m\u001b[38;5;241;43m.\u001b[39;49m\u001b[43mto\u001b[49m\u001b[43m(\u001b[49m\u001b[43mdtype\u001b[49m\u001b[38;5;241;43m=\u001b[39;49m\u001b[43mtorch\u001b[49m\u001b[38;5;241;43m.\u001b[39;49m\u001b[43mfloat64\u001b[49m\u001b[43m)\u001b[49m\u001b[43m,\u001b[49m\u001b[43m \u001b[49m\u001b[43mx_test\u001b[49m\u001b[43m \u001b[49m\u001b[38;5;241;43m=\u001b[39;49m\u001b[43m \u001b[49m\u001b[43mx_test\u001b[49m\u001b[38;5;241;43m.\u001b[39;49m\u001b[43mto\u001b[49m\u001b[43m(\u001b[49m\u001b[43mdtype\u001b[49m\u001b[38;5;241;43m=\u001b[39;49m\u001b[43mtorch\u001b[49m\u001b[38;5;241;43m.\u001b[39;49m\u001b[43mfloat64\u001b[49m\u001b[43m)\u001b[49m\u001b[43m,\u001b[49m\u001b[43m \u001b[49m\u001b[43my_train\u001b[49m\u001b[43m \u001b[49m\u001b[38;5;241;43m=\u001b[39;49m\u001b[43m \u001b[49m\u001b[43my_train\u001b[49m\u001b[38;5;241;43m.\u001b[39;49m\u001b[43mto\u001b[49m\u001b[43m(\u001b[49m\u001b[43mdtype\u001b[49m\u001b[38;5;241;43m=\u001b[39;49m\u001b[43mtorch\u001b[49m\u001b[38;5;241;43m.\u001b[39;49m\u001b[43mfloat64\u001b[49m\u001b[43m)\u001b[49m\u001b[43m,\u001b[49m\u001b[43m \u001b[49m\u001b[43my_test\u001b[49m\u001b[43m \u001b[49m\u001b[38;5;241;43m=\u001b[39;49m\u001b[43m \u001b[49m\u001b[43my_test\u001b[49m\u001b[38;5;241;43m.\u001b[39;49m\u001b[43mto\u001b[49m\u001b[43m(\u001b[49m\u001b[43mdtype\u001b[49m\u001b[38;5;241;43m=\u001b[39;49m\u001b[43mtorch\u001b[49m\u001b[38;5;241;43m.\u001b[39;49m\u001b[43mfloat64\u001b[49m\u001b[43m)\u001b[49m\u001b[43m,\u001b[49m\n\u001b[0;32m     52\u001b[0m \u001b[43m                    \u001b[49m\u001b[43mloss_fn\u001b[49m\u001b[43m \u001b[49m\u001b[38;5;241;43m=\u001b[39;49m\u001b[43m \u001b[49m\u001b[43mloss_method\u001b[49m\u001b[43m,\u001b[49m\n\u001b[0;32m     53\u001b[0m \u001b[43m                    \u001b[49m\u001b[43maccuracy_fn\u001b[49m\u001b[43m \u001b[49m\u001b[38;5;241;43m=\u001b[39;49m\u001b[43m \u001b[49m\u001b[43maccuracy_method\u001b[49m\u001b[43m,\u001b[49m\n\u001b[0;32m     54\u001b[0m \u001b[43m                    \u001b[49m\u001b[43moptimizer\u001b[49m\u001b[43m \u001b[49m\u001b[38;5;241;43m=\u001b[39;49m\u001b[43m \u001b[49m\u001b[43moptimizer_fn\u001b[49m\u001b[43m,\u001b[49m\n\u001b[0;32m     55\u001b[0m \u001b[43m                    \u001b[49m\u001b[43mfeature_elimination_name\u001b[49m\u001b[43m \u001b[49m\u001b[38;5;241;43m=\u001b[39;49m\u001b[43m \u001b[49m\u001b[43mFeatureEliminationMethod\u001b[49m\u001b[38;5;241;43m.\u001b[39;49m\u001b[38;5;18;43m__name__\u001b[39;49m\u001b[43m,\u001b[49m\n\u001b[0;32m     56\u001b[0m \u001b[43m                    \u001b[49m\u001b[43mscaler_name\u001b[49m\u001b[43m \u001b[49m\u001b[38;5;241;43m=\u001b[39;49m\u001b[43m \u001b[49m\u001b[43mscaling_method\u001b[49m\u001b[43m)\u001b[49m\n\u001b[0;32m     57\u001b[0m result[\u001b[38;5;124m\"\u001b[39m\u001b[38;5;124mFeatureEliminationMethod\u001b[39m\u001b[38;5;124m\"\u001b[39m] \u001b[38;5;241m=\u001b[39m FeatureEliminationMethod\u001b[38;5;241m.\u001b[39m\u001b[38;5;18m__name__\u001b[39m\n\u001b[0;32m     58\u001b[0m SaveResults(result, txt_name\u001b[38;5;241m=\u001b[39m\u001b[38;5;124m\"\u001b[39m\u001b[38;5;124mPyTorch\u001b[39m\u001b[38;5;124m\"\u001b[39m \u001b[38;5;241m+\u001b[39m \u001b[38;5;124m'\u001b[39m\u001b[38;5;124m_\u001b[39m\u001b[38;5;124m'\u001b[39m \u001b[38;5;241m+\u001b[39m \u001b[38;5;28mstr\u001b[39m(FeatureEliminationMethod\u001b[38;5;241m.\u001b[39m\u001b[38;5;18m__name__\u001b[39m) \u001b[38;5;241m+\u001b[39m \u001b[38;5;124m'\u001b[39m\u001b[38;5;124m_\u001b[39m\u001b[38;5;124m'\u001b[39m \u001b[38;5;241m+\u001b[39m \u001b[38;5;28mstr\u001b[39m(scaling_method) \u001b[38;5;241m+\u001b[39m \u001b[38;5;124m'\u001b[39m\u001b[38;5;124m_\u001b[39m\u001b[38;5;124m'\u001b[39m \u001b[38;5;241m+\u001b[39m \u001b[38;5;124m'\u001b[39m\u001b[38;5;124moptimizer_method\u001b[39m\u001b[38;5;124m'\u001b[39m \u001b[38;5;241m+\u001b[39m \u001b[38;5;124m'\u001b[39m\u001b[38;5;124m_\u001b[39m\u001b[38;5;124m'\u001b[39m \u001b[38;5;241m+\u001b[39m \u001b[38;5;28mstr\u001b[39m(lr) \u001b[38;5;241m+\u001b[39m \u001b[38;5;124m'\u001b[39m\u001b[38;5;124m_\u001b[39m\u001b[38;5;124m'\u001b[39m \u001b[38;5;241m+\u001b[39m version_numer \u001b[38;5;241m+\u001b[39m\u001b[38;5;124m\"\u001b[39m\u001b[38;5;124m.txt\u001b[39m\u001b[38;5;124m\"\u001b[39m)\n",
            "Input \u001b[1;32mIn [118]\u001b[0m, in \u001b[0;36mPyTorch_TrainTest_Step\u001b[1;34m(model, x_train, x_test, y_train, y_test, loss_fn, accuracy_fn, optimizer, feature_elimination_name, scaler_name, epochs)\u001b[0m\n\u001b[0;32m     48\u001b[0m \u001b[38;5;66;03m#acc = accuracy_fn(y_train.squeeze().to(torch.long), y_pred.argmax(dim = 1))\u001b[39;00m\n\u001b[0;32m     49\u001b[0m optimizer\u001b[38;5;241m.\u001b[39mzero_grad()\n\u001b[1;32m---> 50\u001b[0m \u001b[43mloss\u001b[49m\u001b[38;5;241;43m.\u001b[39;49m\u001b[43mbackward\u001b[49m\u001b[43m(\u001b[49m\u001b[43m)\u001b[49m\n\u001b[0;32m     51\u001b[0m optimizer\u001b[38;5;241m.\u001b[39mstep()\n\u001b[0;32m     53\u001b[0m model\u001b[38;5;241m.\u001b[39meval()\n",
            "File \u001b[1;32mc:\\Users\\AMD\\AppData\\Local\\Programs\\Python\\Python310\\lib\\site-packages\\torch\\_tensor.py:492\u001b[0m, in \u001b[0;36mTensor.backward\u001b[1;34m(self, gradient, retain_graph, create_graph, inputs)\u001b[0m\n\u001b[0;32m    482\u001b[0m \u001b[38;5;28;01mif\u001b[39;00m has_torch_function_unary(\u001b[38;5;28mself\u001b[39m):\n\u001b[0;32m    483\u001b[0m     \u001b[38;5;28;01mreturn\u001b[39;00m handle_torch_function(\n\u001b[0;32m    484\u001b[0m         Tensor\u001b[38;5;241m.\u001b[39mbackward,\n\u001b[0;32m    485\u001b[0m         (\u001b[38;5;28mself\u001b[39m,),\n\u001b[1;32m   (...)\u001b[0m\n\u001b[0;32m    490\u001b[0m         inputs\u001b[38;5;241m=\u001b[39minputs,\n\u001b[0;32m    491\u001b[0m     )\n\u001b[1;32m--> 492\u001b[0m \u001b[43mtorch\u001b[49m\u001b[38;5;241;43m.\u001b[39;49m\u001b[43mautograd\u001b[49m\u001b[38;5;241;43m.\u001b[39;49m\u001b[43mbackward\u001b[49m\u001b[43m(\u001b[49m\n\u001b[0;32m    493\u001b[0m \u001b[43m    \u001b[49m\u001b[38;5;28;43mself\u001b[39;49m\u001b[43m,\u001b[49m\u001b[43m \u001b[49m\u001b[43mgradient\u001b[49m\u001b[43m,\u001b[49m\u001b[43m \u001b[49m\u001b[43mretain_graph\u001b[49m\u001b[43m,\u001b[49m\u001b[43m \u001b[49m\u001b[43mcreate_graph\u001b[49m\u001b[43m,\u001b[49m\u001b[43m \u001b[49m\u001b[43minputs\u001b[49m\u001b[38;5;241;43m=\u001b[39;49m\u001b[43minputs\u001b[49m\n\u001b[0;32m    494\u001b[0m \u001b[43m\u001b[49m\u001b[43m)\u001b[49m\n",
            "File \u001b[1;32mc:\\Users\\AMD\\AppData\\Local\\Programs\\Python\\Python310\\lib\\site-packages\\torch\\autograd\\__init__.py:251\u001b[0m, in \u001b[0;36mbackward\u001b[1;34m(tensors, grad_tensors, retain_graph, create_graph, grad_variables, inputs)\u001b[0m\n\u001b[0;32m    246\u001b[0m     retain_graph \u001b[38;5;241m=\u001b[39m create_graph\n\u001b[0;32m    248\u001b[0m \u001b[38;5;66;03m# The reason we repeat the same comment below is that\u001b[39;00m\n\u001b[0;32m    249\u001b[0m \u001b[38;5;66;03m# some Python versions print out the first line of a multi-line function\u001b[39;00m\n\u001b[0;32m    250\u001b[0m \u001b[38;5;66;03m# calls in the traceback and some print out the last line\u001b[39;00m\n\u001b[1;32m--> 251\u001b[0m \u001b[43mVariable\u001b[49m\u001b[38;5;241;43m.\u001b[39;49m\u001b[43m_execution_engine\u001b[49m\u001b[38;5;241;43m.\u001b[39;49m\u001b[43mrun_backward\u001b[49m\u001b[43m(\u001b[49m\u001b[43m  \u001b[49m\u001b[38;5;66;43;03m# Calls into the C++ engine to run the backward pass\u001b[39;49;00m\n\u001b[0;32m    252\u001b[0m \u001b[43m    \u001b[49m\u001b[43mtensors\u001b[49m\u001b[43m,\u001b[49m\n\u001b[0;32m    253\u001b[0m \u001b[43m    \u001b[49m\u001b[43mgrad_tensors_\u001b[49m\u001b[43m,\u001b[49m\n\u001b[0;32m    254\u001b[0m \u001b[43m    \u001b[49m\u001b[43mretain_graph\u001b[49m\u001b[43m,\u001b[49m\n\u001b[0;32m    255\u001b[0m \u001b[43m    \u001b[49m\u001b[43mcreate_graph\u001b[49m\u001b[43m,\u001b[49m\n\u001b[0;32m    256\u001b[0m \u001b[43m    \u001b[49m\u001b[43minputs\u001b[49m\u001b[43m,\u001b[49m\n\u001b[0;32m    257\u001b[0m \u001b[43m    \u001b[49m\u001b[43mallow_unreachable\u001b[49m\u001b[38;5;241;43m=\u001b[39;49m\u001b[38;5;28;43;01mTrue\u001b[39;49;00m\u001b[43m,\u001b[49m\n\u001b[0;32m    258\u001b[0m \u001b[43m    \u001b[49m\u001b[43maccumulate_grad\u001b[49m\u001b[38;5;241;43m=\u001b[39;49m\u001b[38;5;28;43;01mTrue\u001b[39;49;00m\u001b[43m,\u001b[49m\n\u001b[0;32m    259\u001b[0m \u001b[43m\u001b[49m\u001b[43m)\u001b[49m\n",
            "\u001b[1;31mKeyboardInterrupt\u001b[0m: "
          ]
        }
      ],
      "source": [
        "RunThePredictAlgorithm(oversampling_df, 70, 'min-max', RFEFeatureElimination, PyTorch_TrainTest_Step,\n",
        "                       True, accuracy_method= accuracy_fn, loss_method=nn.CrossEntropyLoss(), optimizer_method='Adam', lr = 0.003, version_numer='V4')"
      ]
    },
    {
      "cell_type": "code",
      "execution_count": 115,
      "metadata": {},
      "outputs": [
        {
          "name": "stdout",
          "output_type": "stream",
          "text": [
            "Best accuracy is = 0.7058619493583074, with 2 n_neighbors, manhattan metrics and fetaure len = 2\n",
            "Best accuracy is = 0.7051682275407561, with 2 n_neighbors, manhattan metrics and fetaure len = 3\n",
            "Best accuracy is = 0.704474505723205, with 2 n_neighbors, manhattan metrics and fetaure len = 4\n",
            "Best accuracy is = 0.6982310093652445, with 2 n_neighbors, manhattan metrics and fetaure len = 5\n",
            "Best accuracy is = 0.6996184530003469, with 2 n_neighbors, manhattan metrics and fetaure len = 6\n",
            "Best accuracy is = 0.7020464793617759, with 2 n_neighbors, manhattan metrics and fetaure len = 7\n",
            "Best accuracy is = 0.6926812348248352, with 2 n_neighbors, manhattan metrics and fetaure len = 8\n",
            "Best accuracy is = 0.6954561220950399, with 2 n_neighbors, manhattan metrics and fetaure len = 9\n",
            "Best accuracy is = 0.697884148456469, with 2 n_neighbors, manhattan metrics and fetaure len = 10\n",
            "Best accuracy is = 0.700312174817898, with 2 n_neighbors, manhattan metrics and fetaure len = 11\n",
            "Best accuracy is = 0.6944155393687131, with 2 n_neighbors, manhattan metrics and fetaure len = 11\n",
            "Best accuracy is = 0.6899063475546305, with 2 n_neighbors, manhattan metrics and fetaure len = 13\n",
            "Best accuracy is = 0.6933749566423864, with 2 n_neighbors, manhattan metrics and fetaure len = 13\n",
            "Best accuracy is = 0.6933749566423864, with 2 n_neighbors, manhattan metrics and fetaure len = 14\n",
            "Best accuracy is = 0.6923343739160597, with 2 n_neighbors, manhattan metrics and fetaure len = 15\n",
            "Best accuracy is = 0.6930280957336108, with 2 n_neighbors, manhattan metrics and fetaure len = 16\n",
            "Best accuracy is = 0.6964967048213666, with 2 n_neighbors, manhattan metrics and fetaure len = 17\n",
            "Best accuracy is = 0.6999653139091224, with 2 n_neighbors, manhattan metrics and fetaure len = 18\n",
            "Best accuracy is = 0.6947624002774887, with 2 n_neighbors, manhattan metrics and fetaure len = 19\n",
            "Best accuracy is = 0.715227193895248, with 2 n_neighbors, manhattan metrics and fetaure len = 20\n",
            "Best accuracy is = 0.7048213666319806, with 2 n_neighbors, manhattan metrics and fetaure len = 21\n",
            "Best accuracy is = 0.715227193895248, with 2 n_neighbors, manhattan metrics and fetaure len = 22\n",
            "Best accuracy is = 0.7103711411723899, with 2 n_neighbors, manhattan metrics and fetaure len = 23\n",
            "Best accuracy is = 0.7134928893513701, with 2 n_neighbors, manhattan metrics and fetaure len = 24\n",
            "Best accuracy is = 0.711064862989941, with 2 n_neighbors, manhattan metrics and fetaure len = 25\n",
            "Best accuracy is = 0.708636836628512, with 2 n_neighbors, manhattan metrics and fetaure len = 26\n",
            "Best accuracy is = 0.7062088102670829, with 2 n_neighbors, manhattan metrics and fetaure len = 27\n",
            "Best accuracy is = 0.7058619493583074, with 2 n_neighbors, manhattan metrics and fetaure len = 28\n",
            "Best accuracy is = 0.7058619493583074, with 2 n_neighbors, manhattan metrics and fetaure len = 29\n",
            "Best accuracy is = 0.7079431148109608, with 2 n_neighbors, manhattan metrics and fetaure len = 30\n",
            "Best accuracy is = 0.7048213666319806, with 2 n_neighbors, manhattan metrics and fetaure len = 31\n",
            "Best accuracy is = 0.7124523066250433, with 2 n_neighbors, manhattan metrics and fetaure len = 32\n",
            "Best accuracy is = 0.7072493929934096, with 2 n_neighbors, manhattan metrics and fetaure len = 33\n",
            "Best accuracy is = 0.7065556711758585, with 2 n_neighbors, manhattan metrics and fetaure len = 34\n",
            "Best accuracy is = 0.7079431148109608, with 2 n_neighbors, manhattan metrics and fetaure len = 35\n",
            "Best accuracy is = 0.7103711411723899, with 2 n_neighbors, manhattan metrics and fetaure len = 36\n",
            "Best accuracy is = 0.7089836975372875, with 2 n_neighbors, manhattan metrics and fetaure len = 37\n",
            "Best accuracy is = 0.7079431148109608, with 2 n_neighbors, manhattan metrics and fetaure len = 38\n",
            "Best accuracy is = 0.7062088102670829, with 2 n_neighbors, manhattan metrics and fetaure len = 39\n",
            "Best accuracy is = 0.706902532084634, with 2 n_neighbors, manhattan metrics and fetaure len = 40\n",
            "Best accuracy is = 0.7055150884495317, with 2 n_neighbors, manhattan metrics and fetaure len = 41\n",
            "Best accuracy is = 0.7058619493583074, with 2 n_neighbors, manhattan metrics and fetaure len = 42\n",
            "Best accuracy is = 0.7034339229968782, with 2 n_neighbors, manhattan metrics and fetaure len = 43\n",
            "Best accuracy is = 0.7079431148109608, with 2 n_neighbors, manhattan metrics and fetaure len = 44\n",
            "Best accuracy is = 0.7075962539021852, with 2 n_neighbors, manhattan metrics and fetaure len = 45\n",
            "Best accuracy is = 0.7051682275407561, with 2 n_neighbors, manhattan metrics and fetaure len = 46\n",
            "Best accuracy is = 0.7072493929934096, with 2 n_neighbors, manhattan metrics and fetaure len = 47\n",
            "Best accuracy is = 0.706902532084634, with 2 n_neighbors, manhattan metrics and fetaure len = 48\n",
            "Best accuracy is = 0.7072493929934096, with 2 n_neighbors, manhattan metrics and fetaure len = 49\n",
            "Best accuracy is = 0.704474505723205, with 2 n_neighbors, manhattan metrics and fetaure len = 50\n",
            "Best accuracy is = 0.7027402011793271, with 2 n_neighbors, manhattan metrics and fetaure len = 51\n",
            "Best accuracy is = 0.7051682275407561, with 2 n_neighbors, manhattan metrics and fetaure len = 52\n",
            "Best accuracy is = 0.7010058966354492, with 2 n_neighbors, manhattan metrics and fetaure len = 53\n",
            "Best accuracy is = 0.7048213666319806, with 2 n_neighbors, manhattan metrics and fetaure len = 54\n",
            "Best accuracy is = 0.7037807839056538, with 2 n_neighbors, manhattan metrics and fetaure len = 55\n",
            "Best accuracy is = 0.7065556711758585, with 2 n_neighbors, manhattan metrics and fetaure len = 56\n",
            "Best accuracy is = 0.7072493929934096, with 2 n_neighbors, manhattan metrics and fetaure len = 57\n",
            "Best accuracy is = 0.6999653139091224, with 2 n_neighbors, manhattan metrics and fetaure len = 58\n",
            "Best accuracy is = 0.7051682275407561, with 2 n_neighbors, manhattan metrics and fetaure len = 59\n",
            "Best accuracy is = 0.7037807839056538, with 2 n_neighbors, manhattan metrics and fetaure len = 60\n",
            "Best accuracy is = 0.7103711411723899, with 2 n_neighbors, manhattan metrics and fetaure len = 61\n",
            "Best accuracy is = 0.7075962539021852, with 2 n_neighbors, manhattan metrics and fetaure len = 62\n",
            "Best accuracy is = 0.706902532084634, with 2 n_neighbors, manhattan metrics and fetaure len = 63\n",
            "Best accuracy is = 0.7089836975372875, with 2 n_neighbors, manhattan metrics and fetaure len = 64\n",
            "Best accuracy is = 0.7051682275407561, with 2 n_neighbors, manhattan metrics and fetaure len = 65\n",
            "Best accuracy is = 0.7051682275407561, with 2 n_neighbors, manhattan metrics and fetaure len = 66\n",
            "Best accuracy is = 0.704474505723205, with 2 n_neighbors, manhattan metrics and fetaure len = 67\n",
            "Best accuracy is = 0.7075962539021852, with 2 n_neighbors, manhattan metrics and fetaure len = 68\n",
            "Best accuracy is = 0.7041276448144295, with 2 n_neighbors, manhattan metrics and fetaure len = 69\n",
            "Best accuracy is = 0.7037807839056538, with 2 n_neighbors, manhattan metrics and fetaure len = 70\n",
            "Best accuracy is = 0.7096774193548387, with 2 n_neighbors, manhattan metrics and fetaure len = 71\n",
            "Best accuracy is = 0.7096774193548387, with 2 n_neighbors, manhattan metrics and fetaure len = 72\n",
            "Best accuracy is = 0.7065556711758585, with 2 n_neighbors, manhattan metrics and fetaure len = 73\n",
            "Best accuracy is = 0.7096774193548387, with 2 n_neighbors, manhattan metrics and fetaure len = 74\n"
          ]
        }
      ],
      "source": [
        "RunThePredictAlgorithm(oversampling_df, 75, 'min-max', RFEFeatureElimination, KNN, version_numer='V3')"
      ]
    },
    {
      "cell_type": "code",
      "execution_count": 41,
      "metadata": {},
      "outputs": [
        {
          "name": "stdout",
          "output_type": "stream",
          "text": [
            "Best accuracy is = 0.6885189039195283, with criterion = gini max_depth = 20 metrics and fetaure len = 2\n",
            "Best accuracy is = 0.6926812348248352, with criterion = gini max_depth = 20 metrics and fetaure len = 3\n",
            "Best accuracy is = 0.6725633021158516, with criterion = gini max_depth = 20 metrics and fetaure len = 4\n",
            "Best accuracy is = 0.6583420048560528, with criterion = gini max_depth = 30 metrics and fetaure len = 5\n",
            "Best accuracy is = 0.653139091224419, with criterion = gini max_depth = None metrics and fetaure len = 6\n",
            "Best accuracy is = 0.6659729448491155, with criterion = entropy max_depth = None metrics and fetaure len = 7\n",
            "Best accuracy is = 0.6711758584807492, with criterion = entropy max_depth = 25 metrics and fetaure len = 8\n",
            "Best accuracy is = 0.6878251821019771, with criterion = gini max_depth = None metrics and fetaure len = 9\n",
            "Best accuracy is = 0.7023933402705516, with criterion = entropy max_depth = 30 metrics and fetaure len = 10\n",
            "Best accuracy is = 0.7065556711758585, with criterion = gini max_depth = 35 metrics and fetaure len = 11\n",
            "Best accuracy is = 0.7304890738813735, with criterion = entropy max_depth = 30 metrics and fetaure len = 12\n",
            "Best accuracy is = 0.7155740548040236, with criterion = gini max_depth = 40 metrics and fetaure len = 13\n",
            "Best accuracy is = 0.7398543184183143, with criterion = gini max_depth = 30 metrics and fetaure len = 14\n",
            "Best accuracy is = 0.7211238293444329, with criterion = gini max_depth = None metrics and fetaure len = 15\n",
            "Best accuracy is = 0.7173083593479015, with criterion = entropy max_depth = 25 metrics and fetaure len = 15\n",
            "Best accuracy is = 0.7238987166146376, with criterion = entropy max_depth = None metrics and fetaure len = 16\n",
            "Best accuracy is = 0.723551855705862, with criterion = entropy max_depth = 40 metrics and fetaure len = 17\n",
            "Best accuracy is = 0.7513007284079084, with criterion = gini max_depth = None metrics and fetaure len = 18\n",
            "Best accuracy is = 0.7533818938605619, with criterion = gini max_depth = 35 metrics and fetaure len = 19\n",
            "Best accuracy is = 0.7533818938605619, with criterion = gini max_depth = 45 metrics and fetaure len = 20\n",
            "Best accuracy is = 0.7624002774887271, with criterion = gini max_depth = None metrics and fetaure len = 21\n",
            "Best accuracy is = 0.7676031911203607, with criterion = entropy max_depth = 35 metrics and fetaure len = 22\n",
            "Best accuracy is = 0.7651751647589317, with criterion = gini max_depth = 40 metrics and fetaure len = 23\n",
            "Best accuracy is = 0.7669094693028096, with criterion = entropy max_depth = 25 metrics and fetaure len = 24\n",
            "Best accuracy is = 0.7700312174817898, with criterion = entropy max_depth = 40 metrics and fetaure len = 25\n",
            "Best accuracy is = 0.7787027402011794, with criterion = entropy max_depth = 50 metrics and fetaure len = 26\n",
            "Best accuracy is = 0.7759278529309747, with criterion = entropy max_depth = 45 metrics and fetaure len = 27\n",
            "Best accuracy is = 0.7700312174817898, with criterion = entropy max_depth = 30 metrics and fetaure len = 28\n",
            "Best accuracy is = 0.7741935483870968, with criterion = gini max_depth = 40 metrics and fetaure len = 29\n",
            "Best accuracy is = 0.7610128338536247, with criterion = entropy max_depth = 45 metrics and fetaure len = 30\n",
            "Best accuracy is = 0.7734998265695456, with criterion = entropy max_depth = 40 metrics and fetaure len = 31\n",
            "Best accuracy is = 0.7755809920221991, with criterion = entropy max_depth = 50 metrics and fetaure len = 32\n",
            "Best accuracy is = 0.7769684356573014, with criterion = entropy max_depth = 30 metrics and fetaure len = 33\n",
            "Best accuracy is = 0.7776621574748526, with criterion = gini max_depth = 50 metrics and fetaure len = 34\n",
            "Best accuracy is = 0.7873742629205689, with criterion = entropy max_depth = 40 metrics and fetaure len = 35\n",
            "Best accuracy is = 0.7915365938258758, with criterion = gini max_depth = 35 metrics and fetaure len = 36\n",
            "Best accuracy is = 0.7915365938258758, with criterion = entropy max_depth = 45 metrics and fetaure len = 37\n",
            "Best accuracy is = 0.7956989247311828, with criterion = entropy max_depth = 40 metrics and fetaure len = 38\n",
            "Best accuracy is = 0.7953520638224072, with criterion = gini max_depth = 45 metrics and fetaure len = 39\n",
            "Best accuracy is = 0.8005549774540409, with criterion = gini max_depth = 35 metrics and fetaure len = 40\n",
            "Best accuracy is = 0.8029830038154699, with criterion = entropy max_depth = 30 metrics and fetaure len = 41\n",
            "Best accuracy is = 0.8033298647242456, with criterion = gini max_depth = 25 metrics and fetaure len = 42\n",
            "Best accuracy is = 0.8002081165452654, with criterion = gini max_depth = None metrics and fetaure len = 43\n",
            "Best accuracy is = 0.8047173083593478, with criterion = gini max_depth = 35 metrics and fetaure len = 44\n",
            "Best accuracy is = 0.8033298647242456, with criterion = entropy max_depth = 30 metrics and fetaure len = 45\n",
            "Best accuracy is = 0.7995143947277142, with criterion = gini max_depth = None metrics and fetaure len = 46\n",
            "Best accuracy is = 0.8067984738120014, with criterion = entropy max_depth = 45 metrics and fetaure len = 47\n",
            "Best accuracy is = 0.8043704474505723, with criterion = entropy max_depth = None metrics and fetaure len = 48\n",
            "Best accuracy is = 0.8043704474505723, with criterion = gini max_depth = 30 metrics and fetaure len = 49\n",
            "Best accuracy is = 0.8078390565383281, with criterion = entropy max_depth = 20 metrics and fetaure len = 50\n",
            "Best accuracy is = 0.8050641692681235, with criterion = gini max_depth = 45 metrics and fetaure len = 51\n",
            "Best accuracy is = 0.8057578910856746, with criterion = gini max_depth = 40 metrics and fetaure len = 52\n",
            "Best accuracy is = 0.8067984738120014, with criterion = entropy max_depth = 45 metrics and fetaure len = 53\n",
            "Best accuracy is = 0.8074921956295525, with criterion = entropy max_depth = 40 metrics and fetaure len = 54\n",
            "Best accuracy is = 0.8057578910856746, with criterion = entropy max_depth = 35 metrics and fetaure len = 55\n",
            "Best accuracy is = 0.8029830038154699, with criterion = gini max_depth = None metrics and fetaure len = 56\n",
            "Best accuracy is = 0.8067984738120014, with criterion = entropy max_depth = 30 metrics and fetaure len = 57\n",
            "Best accuracy is = 0.8047173083593478, with criterion = entropy max_depth = 25 metrics and fetaure len = 58\n",
            "Best accuracy is = 0.8050641692681235, with criterion = entropy max_depth = 25 metrics and fetaure len = 59\n",
            "Best accuracy is = 0.8057578910856746, with criterion = entropy max_depth = 30 metrics and fetaure len = 60\n",
            "Best accuracy is = 0.8047173083593478, with criterion = entropy max_depth = 40 metrics and fetaure len = 61\n",
            "Best accuracy is = 0.8088796392646549, with criterion = entropy max_depth = 25 metrics and fetaure len = 62\n",
            "Best accuracy is = 0.8050641692681235, with criterion = entropy max_depth = 25 metrics and fetaure len = 63\n",
            "Best accuracy is = 0.8033298647242456, with criterion = entropy max_depth = 20 metrics and fetaure len = 64\n",
            "Best accuracy is = 0.8064516129032258, with criterion = entropy max_depth = 25 metrics and fetaure len = 65\n",
            "Best accuracy is = 0.8064516129032258, with criterion = gini max_depth = 25 metrics and fetaure len = 66\n",
            "Best accuracy is = 0.8074921956295525, with criterion = entropy max_depth = 40 metrics and fetaure len = 67\n",
            "Best accuracy is = 0.8081859174471037, with criterion = entropy max_depth = 45 metrics and fetaure len = 68\n",
            "Best accuracy is = 0.8064516129032258, with criterion = entropy max_depth = 25 metrics and fetaure len = 69\n",
            "Best accuracy is = 0.8085327783558793, with criterion = entropy max_depth = 40 metrics and fetaure len = 70\n",
            "Best accuracy is = 0.8009018383628165, with criterion = entropy max_depth = 35 metrics and fetaure len = 71\n",
            "Best accuracy is = 0.8099202219909816, with criterion = gini max_depth = None metrics and fetaure len = 72\n",
            "Best accuracy is = 0.8123482483524107, with criterion = entropy max_depth = None metrics and fetaure len = 73\n",
            "Best accuracy is = 0.8085327783558793, with criterion = entropy max_depth = 20 metrics and fetaure len = 74\n"
          ]
        }
      ],
      "source": [
        "# Run RandomForest wiit RFEFeatureElimination and robust scaler in to the oversampling data\n",
        "RunThePredictAlgorithm(oversampling_df, 75, 'robust', RFEFeatureElimination, RandomForest, version_numer='V2')"
      ]
    },
    {
      "cell_type": "code",
      "execution_count": 42,
      "metadata": {},
      "outputs": [
        {
          "name": "stdout",
          "output_type": "stream",
          "text": [
            "Best accuracy is = 0.6885189039195283, with criterion = gini max_depth = 20 metrics and fetaure len = 2\n",
            "Best accuracy is = 0.6926812348248352, with criterion = gini max_depth = 20 metrics and fetaure len = 3\n",
            "Best accuracy is = 0.6864377384668748, with criterion = entropy max_depth = 15 metrics and fetaure len = 4\n",
            "Best accuracy is = 0.6687478321193202, with criterion = entropy max_depth = 20 metrics and fetaure len = 5\n",
            "Best accuracy is = 0.6808879639264654, with criterion = gini max_depth = None metrics and fetaure len = 6\n",
            "Best accuracy is = 0.6652792230315644, with criterion = entropy max_depth = 30 metrics and fetaure len = 7\n",
            "Best accuracy is = 0.6815816857440167, with criterion = gini max_depth = 30 metrics and fetaure len = 8\n",
            "Best accuracy is = 0.6930280957336108, with criterion = entropy max_depth = 35 metrics and fetaure len = 9\n",
            "Best accuracy is = 0.6958029830038155, with criterion = gini max_depth = 30 metrics and fetaure len = 10\n",
            "Best accuracy is = 0.7058619493583074, with criterion = gini max_depth = 25 metrics and fetaure len = 11\n",
            "Best accuracy is = 0.7058619493583074, with criterion = entropy max_depth = None metrics and fetaure len = 12\n",
            "Best accuracy is = 0.7103711411723899, with criterion = gini max_depth = 30 metrics and fetaure len = 13\n",
            "Best accuracy is = 0.7225112729795352, with criterion = entropy max_depth = 30 metrics and fetaure len = 13\n",
            "Best accuracy is = 0.7433229275060701, with criterion = gini max_depth = 25 metrics and fetaure len = 14\n",
            "Best accuracy is = 0.7252861602497399, with criterion = entropy max_depth = 25 metrics and fetaure len = 15\n",
            "Best accuracy is = 0.7249392993409642, with criterion = gini max_depth = 30 metrics and fetaure len = 16\n",
            "Best accuracy is = 0.7426292056885189, with criterion = gini max_depth = 40 metrics and fetaure len = 18\n",
            "Best accuracy is = 0.7304890738813735, with criterion = gini max_depth = 35 metrics and fetaure len = 18\n",
            "Best accuracy is = 0.7304890738813735, with criterion = gini max_depth = None metrics and fetaure len = 19\n",
            "Best accuracy is = 0.740894901144641, with criterion = entropy max_depth = None metrics and fetaure len = 20\n",
            "Best accuracy is = 0.7870274020117932, with criterion = gini max_depth = 30 metrics and fetaure len = 21\n",
            "Best accuracy is = 0.7825182101977107, with criterion = entropy max_depth = 30 metrics and fetaure len = 22\n",
            "Best accuracy is = 0.7894554283732224, with criterion = gini max_depth = 50 metrics and fetaure len = 23\n",
            "Best accuracy is = 0.7741935483870968, with criterion = entropy max_depth = 40 metrics and fetaure len = 24\n",
            "Best accuracy is = 0.7859868192854665, with criterion = gini max_depth = 40 metrics and fetaure len = 25\n",
            "Best accuracy is = 0.7887617065556711, with criterion = entropy max_depth = 35 metrics and fetaure len = 26\n",
            "Best accuracy is = 0.7884148456468956, with criterion = entropy max_depth = 40 metrics and fetaure len = 27\n",
            "Best accuracy is = 0.7898022892819979, with criterion = entropy max_depth = 25 metrics and fetaure len = 28\n",
            "Best accuracy is = 0.7953520638224072, with criterion = entropy max_depth = 35 metrics and fetaure len = 29\n",
            "Best accuracy is = 0.7932708983697537, with criterion = gini max_depth = None metrics and fetaure len = 30\n",
            "Best accuracy is = 0.7932708983697537, with criterion = entropy max_depth = 40 metrics and fetaure len = 31\n",
            "Best accuracy is = 0.7956989247311828, with criterion = gini max_depth = 40 metrics and fetaure len = 32\n",
            "Best accuracy is = 0.7977800901838363, with criterion = gini max_depth = 30 metrics and fetaure len = 33\n",
            "Best accuracy is = 0.7953520638224072, with criterion = entropy max_depth = 25 metrics and fetaure len = 34\n",
            "Best accuracy is = 0.7984738120013875, with criterion = entropy max_depth = 45 metrics and fetaure len = 35\n",
            "Best accuracy is = 0.798820672910163, with criterion = gini max_depth = 30 metrics and fetaure len = 36\n",
            "Best accuracy is = 0.8022892819979188, with criterion = gini max_depth = 35 metrics and fetaure len = 37\n",
            "Best accuracy is = 0.7998612556364898, with criterion = gini max_depth = 40 metrics and fetaure len = 38\n",
            "Best accuracy is = 0.7974332292750607, with criterion = gini max_depth = 45 metrics and fetaure len = 39\n",
            "Best accuracy is = 0.796392646548734, with criterion = entropy max_depth = 25 metrics and fetaure len = 40\n",
            "Best accuracy is = 0.8026361429066944, with criterion = entropy max_depth = 40 metrics and fetaure len = 41\n",
            "Best accuracy is = 0.8012486992715921, with criterion = entropy max_depth = 30 metrics and fetaure len = 42\n",
            "Best accuracy is = 0.8033298647242456, with criterion = gini max_depth = 35 metrics and fetaure len = 43\n",
            "Best accuracy is = 0.8040235865417967, with criterion = entropy max_depth = 40 metrics and fetaure len = 44\n",
            "Best accuracy is = 0.8022892819979188, with criterion = gini max_depth = 30 metrics and fetaure len = 45\n",
            "Best accuracy is = 0.8047173083593478, with criterion = entropy max_depth = 40 metrics and fetaure len = 46\n",
            "Best accuracy is = 0.8047173083593478, with criterion = gini max_depth = 30 metrics and fetaure len = 47\n",
            "Best accuracy is = 0.8057578910856746, with criterion = gini max_depth = 35 metrics and fetaure len = 48\n",
            "Best accuracy is = 0.8099202219909816, with criterion = entropy max_depth = None metrics and fetaure len = 49\n",
            "Best accuracy is = 0.8022892819979188, with criterion = gini max_depth = 30 metrics and fetaure len = 50\n",
            "Best accuracy is = 0.8029830038154699, with criterion = entropy max_depth = 45 metrics and fetaure len = 51\n",
            "Best accuracy is = 0.8074921956295525, with criterion = entropy max_depth = 20 metrics and fetaure len = 52\n",
            "Best accuracy is = 0.807145334720777, with criterion = gini max_depth = 30 metrics and fetaure len = 53\n",
            "Best accuracy is = 0.8033298647242456, with criterion = gini max_depth = 25 metrics and fetaure len = 54\n",
            "Best accuracy is = 0.8078390565383281, with criterion = entropy max_depth = 40 metrics and fetaure len = 55\n",
            "Best accuracy is = 0.8067984738120014, with criterion = gini max_depth = 35 metrics and fetaure len = 56\n",
            "Best accuracy is = 0.807145334720777, with criterion = gini max_depth = None metrics and fetaure len = 57\n",
            "Best accuracy is = 0.8078390565383281, with criterion = entropy max_depth = 35 metrics and fetaure len = 58\n",
            "Best accuracy is = 0.8050641692681235, with criterion = entropy max_depth = 25 metrics and fetaure len = 59\n",
            "Best accuracy is = 0.8043704474505723, with criterion = gini max_depth = 20 metrics and fetaure len = 60\n",
            "Best accuracy is = 0.8067984738120014, with criterion = entropy max_depth = 25 metrics and fetaure len = 61\n",
            "Best accuracy is = 0.807145334720777, with criterion = gini max_depth = 30 metrics and fetaure len = 62\n",
            "Best accuracy is = 0.8067984738120014, with criterion = entropy max_depth = 25 metrics and fetaure len = 63\n",
            "Best accuracy is = 0.8050641692681235, with criterion = gini max_depth = 20 metrics and fetaure len = 64\n",
            "Best accuracy is = 0.8067984738120014, with criterion = entropy max_depth = 40 metrics and fetaure len = 65\n",
            "Best accuracy is = 0.8022892819979188, with criterion = gini max_depth = None metrics and fetaure len = 66\n",
            "Best accuracy is = 0.8074921956295525, with criterion = gini max_depth = 40 metrics and fetaure len = 67\n",
            "Best accuracy is = 0.807145334720777, with criterion = gini max_depth = 20 metrics and fetaure len = 68\n",
            "Best accuracy is = 0.8081859174471037, with criterion = entropy max_depth = None metrics and fetaure len = 69\n",
            "Best accuracy is = 0.8113076656260839, with criterion = gini max_depth = 35 metrics and fetaure len = 70\n",
            "Best accuracy is = 0.807145334720777, with criterion = entropy max_depth = 25 metrics and fetaure len = 71\n",
            "Best accuracy is = 0.809573361082206, with criterion = gini max_depth = 30 metrics and fetaure len = 72\n",
            "Best accuracy is = 0.8120013874436351, with criterion = entropy max_depth = None metrics and fetaure len = 73\n",
            "Best accuracy is = 0.8081859174471037, with criterion = entropy max_depth = 25 metrics and fetaure len = 74\n"
          ]
        }
      ],
      "source": [
        "# Run RandomForest wiit RFEFeatureElimination and robust scaler in to the oversampling data\n",
        "RunThePredictAlgorithm(oversampling_df, 75, 'min-max', RFEFeatureElimination, RandomForest, version_numer='V2')"
      ]
    },
    {
      "cell_type": "code",
      "execution_count": 75,
      "metadata": {},
      "outputs": [
        {
          "name": "stdout",
          "output_type": "stream",
          "text": [
            "Best accuracy is = 0.44597249508840864, with criterion = entropy max_depth = 5 metrics and fetaure len = 1\n",
            "Best accuracy is = 0.527177472167649, with criterion = entropy max_depth = 5 metrics and fetaure len = 2\n",
            "Best accuracy is = 0.5337262606417813, with criterion = entropy max_depth = 5 metrics and fetaure len = 3\n",
            "Best accuracy is = 0.5690897184020957, with criterion = entropy max_depth = 5 metrics and fetaure len = 4\n",
            "Best accuracy is = 0.5867714472822528, with criterion = gini max_depth = 5 metrics and fetaure len = 5\n",
            "Best accuracy is = 0.5756385068762279, with criterion = gini max_depth = 5 metrics and fetaure len = 6\n",
            "Best accuracy is = 0.5782580222658809, with criterion = entropy max_depth = 10 metrics and fetaure len = 7\n",
            "Best accuracy is = 0.5789129011132941, with criterion = gini max_depth = 10 metrics and fetaure len = 8\n",
            "Best accuracy is = 0.601833660772757, with criterion = gini max_depth = 10 metrics and fetaure len = 9\n",
            "Best accuracy is = 0.5985592665356909, with criterion = entropy max_depth = 10 metrics and fetaure len = 10\n",
            "Best accuracy is = 0.601833660772757, with criterion = gini max_depth = 10 metrics and fetaure len = 11\n",
            "Best accuracy is = 0.6031434184675835, with criterion = gini max_depth = 10 metrics and fetaure len = 12\n",
            "Best accuracy is = 0.5952848722986247, with criterion = gini max_depth = 10 metrics and fetaure len = 13\n",
            "Best accuracy is = 0.6070726915520629, with criterion = entropy max_depth = 10 metrics and fetaure len = 14\n",
            "Best accuracy is = 0.5985592665356909, with criterion = gini max_depth = 10 metrics and fetaure len = 15\n",
            "Best accuracy is = 0.5979043876882777, with criterion = gini max_depth = 10 metrics and fetaure len = 16\n",
            "Best accuracy is = 0.595939751146038, with criterion = entropy max_depth = 10 metrics and fetaure len = 17\n",
            "Best accuracy is = 0.5946299934512115, with criterion = entropy max_depth = 10 metrics and fetaure len = 18\n",
            "Best accuracy is = 0.5972495088408645, with criterion = gini max_depth = 10 metrics and fetaure len = 19\n",
            "Best accuracy is = 0.5972495088408645, with criterion = entropy max_depth = 10 metrics and fetaure len = 20\n",
            "Best accuracy is = 0.5965946299934513, with criterion = gini max_depth = 10 metrics and fetaure len = 21\n",
            "Best accuracy is = 0.595939751146038, with criterion = gini max_depth = 10 metrics and fetaure len = 22\n",
            "Best accuracy is = 0.6005239030779306, with criterion = gini max_depth = 10 metrics and fetaure len = 23\n",
            "Best accuracy is = 0.5952848722986247, with criterion = gini max_depth = 10 metrics and fetaure len = 24\n",
            "Best accuracy is = 0.6214800261951539, with criterion = gini max_depth = 10 metrics and fetaure len = 25\n",
            "Best accuracy is = 0.6234446627373936, with criterion = entropy max_depth = 10 metrics and fetaure len = 26\n",
            "Best accuracy is = 0.6254092992796333, with criterion = entropy max_depth = 10 metrics and fetaure len = 27\n",
            "Best accuracy is = 0.6280288146692862, with criterion = entropy max_depth = 10 metrics and fetaure len = 28\n",
            "Best accuracy is = 0.6286836935166994, with criterion = gini max_depth = 10 metrics and fetaure len = 29\n",
            "Best accuracy is = 0.6293385723641126, with criterion = entropy max_depth = 10 metrics and fetaure len = 30\n",
            "Best accuracy is = 0.6339227242960053, with criterion = entropy max_depth = 10 metrics and fetaure len = 31\n",
            "Best accuracy is = 0.6286836935166994, with criterion = gini max_depth = 10 metrics and fetaure len = 32\n",
            "Best accuracy is = 0.6240995415848068, with criterion = gini max_depth = 10 metrics and fetaure len = 33\n",
            "Best accuracy is = 0.633267845448592, with criterion = entropy max_depth = None metrics and fetaure len = 34\n",
            "Best accuracy is = 0.627373935821873, with criterion = entropy max_depth = 20 metrics and fetaure len = 35\n",
            "Best accuracy is = 0.6299934512115258, with criterion = gini max_depth = None metrics and fetaure len = 36\n",
            "Best accuracy is = 0.6293385723641126, with criterion = entropy max_depth = 15 metrics and fetaure len = 37\n",
            "Best accuracy is = 0.6339227242960053, with criterion = entropy max_depth = 15 metrics and fetaure len = 38\n",
            "Best accuracy is = 0.6299934512115258, with criterion = gini max_depth = 10 metrics and fetaure len = 39\n",
            "Best accuracy is = 0.6313032089063523, with criterion = entropy max_depth = None metrics and fetaure len = 40\n",
            "Best accuracy is = 0.6319580877537656, with criterion = gini max_depth = 20 metrics and fetaure len = 41\n",
            "Best accuracy is = 0.6293385723641126, with criterion = entropy max_depth = 15 metrics and fetaure len = 42\n",
            "Best accuracy is = 0.6293385723641126, with criterion = entropy max_depth = 25 metrics and fetaure len = 43\n",
            "Best accuracy is = 0.6280288146692862, with criterion = entropy max_depth = 20 metrics and fetaure len = 44\n",
            "Best accuracy is = 0.6365422396856582, with criterion = entropy max_depth = 15 metrics and fetaure len = 45\n",
            "Best accuracy is = 0.6345776031434185, with criterion = entropy max_depth = 30 metrics and fetaure len = 46\n",
            "Best accuracy is = 0.6378519973804846, with criterion = gini max_depth = 25 metrics and fetaure len = 47\n",
            "Best accuracy is = 0.6339227242960053, with criterion = entropy max_depth = 20 metrics and fetaure len = 48\n",
            "Best accuracy is = 0.6365422396856582, with criterion = entropy max_depth = 30 metrics and fetaure len = 49\n",
            "Best accuracy is = 0.6326129666011788, with criterion = gini max_depth = 15 metrics and fetaure len = 50\n",
            "Best accuracy is = 0.6371971185330714, with criterion = entropy max_depth = 25 metrics and fetaure len = 51\n",
            "Best accuracy is = 0.6378519973804846, with criterion = gini max_depth = None metrics and fetaure len = 52\n",
            "Best accuracy is = 0.6247544204322201, with criterion = entropy max_depth = None metrics and fetaure len = 53\n",
            "Best accuracy is = 0.6371971185330714, with criterion = entropy max_depth = 25 metrics and fetaure len = 54\n",
            "Best accuracy is = 0.6313032089063523, with criterion = entropy max_depth = 15 metrics and fetaure len = 55\n",
            "Best accuracy is = 0.6385068762278978, with criterion = entropy max_depth = 25 metrics and fetaure len = 56\n",
            "Best accuracy is = 0.6371971185330714, with criterion = entropy max_depth = 30 metrics and fetaure len = 57\n",
            "Best accuracy is = 0.6319580877537656, with criterion = entropy max_depth = 20 metrics and fetaure len = 58\n",
            "Best accuracy is = 0.6358873608382449, with criterion = entropy max_depth = None metrics and fetaure len = 59\n",
            "Best accuracy is = 0.6365422396856582, with criterion = gini max_depth = 20 metrics and fetaure len = 60\n",
            "Best accuracy is = 0.6371971185330714, with criterion = gini max_depth = 25 metrics and fetaure len = 61\n",
            "Best accuracy is = 0.639161755075311, with criterion = gini max_depth = 30 metrics and fetaure len = 62\n",
            "Best accuracy is = 0.6385068762278978, with criterion = entropy max_depth = 25 metrics and fetaure len = 63\n",
            "Best accuracy is = 0.6345776031434185, with criterion = entropy max_depth = 20 metrics and fetaure len = 64\n",
            "Best accuracy is = 0.6371971185330714, with criterion = gini max_depth = 30 metrics and fetaure len = 65\n",
            "Best accuracy is = 0.6365422396856582, with criterion = entropy max_depth = 20 metrics and fetaure len = 66\n",
            "Best accuracy is = 0.6371971185330714, with criterion = gini max_depth = 25 metrics and fetaure len = 67\n",
            "Best accuracy is = 0.6319580877537656, with criterion = gini max_depth = 25 metrics and fetaure len = 68\n",
            "Best accuracy is = 0.6404715127701375, with criterion = entropy max_depth = 15 metrics and fetaure len = 69\n",
            "Best accuracy is = 0.6313032089063523, with criterion = gini max_depth = 20 metrics and fetaure len = 70\n",
            "Best accuracy is = 0.6339227242960053, with criterion = entropy max_depth = 35 metrics and fetaure len = 71\n",
            "Best accuracy is = 0.6358873608382449, with criterion = gini max_depth = None metrics and fetaure len = 72\n",
            "Best accuracy is = 0.6286836935166994, with criterion = gini max_depth = 30 metrics and fetaure len = 73\n",
            "Best accuracy is = 0.6358873608382449, with criterion = entropy max_depth = 25 metrics and fetaure len = 74\n"
          ]
        },
        {
          "ename": "ValueError",
          "evalue": "Input X must be non-negative.",
          "output_type": "error",
          "traceback": [
            "\u001b[1;31m---------------------------------------------------------------------------\u001b[0m",
            "\u001b[1;31mValueError\u001b[0m                                Traceback (most recent call last)",
            "Input \u001b[1;32mIn [75]\u001b[0m, in \u001b[0;36m<cell line: 20>\u001b[1;34m()\u001b[0m\n\u001b[0;32m     17\u001b[0m RunThePredictAlgorithm(oversampling_df, \u001b[38;5;241m75\u001b[39m, \u001b[38;5;124m'\u001b[39m\u001b[38;5;124mmin-max\u001b[39m\u001b[38;5;124m'\u001b[39m, ChiSquareFeatureElimination, RandomForest, version_numer\u001b[38;5;241m=\u001b[39m\u001b[38;5;124m'\u001b[39m\u001b[38;5;124mV2\u001b[39m\u001b[38;5;124m'\u001b[39m)\n\u001b[0;32m     19\u001b[0m \u001b[38;5;66;03m# Run RandomForest wiit RFEFeatureElimination and robust scaler in to the oversampling data\u001b[39;00m\n\u001b[1;32m---> 20\u001b[0m \u001b[43mRunThePredictAlgorithm\u001b[49m\u001b[43m(\u001b[49m\u001b[43moversampling_df\u001b[49m\u001b[43m,\u001b[49m\u001b[43m \u001b[49m\u001b[38;5;241;43m75\u001b[39;49m\u001b[43m,\u001b[49m\u001b[43m \u001b[49m\u001b[38;5;124;43m'\u001b[39;49m\u001b[38;5;124;43mrobust\u001b[39;49m\u001b[38;5;124;43m'\u001b[39;49m\u001b[43m,\u001b[49m\u001b[43m \u001b[49m\u001b[43mChiSquareFeatureElimination\u001b[49m\u001b[43m,\u001b[49m\u001b[43m \u001b[49m\u001b[43mRandomForest\u001b[49m\u001b[43m,\u001b[49m\u001b[43m \u001b[49m\u001b[43mversion_numer\u001b[49m\u001b[38;5;241;43m=\u001b[39;49m\u001b[38;5;124;43m'\u001b[39;49m\u001b[38;5;124;43mV2\u001b[39;49m\u001b[38;5;124;43m'\u001b[39;49m\u001b[43m)\u001b[49m\n",
            "Input \u001b[1;32mIn [72]\u001b[0m, in \u001b[0;36mRunThePredictAlgorithm\u001b[1;34m(df, max_feature, scaling_method, FeatureEliminationMethod, MLORDLAlgorithm, IsPytorch, loss_method, accuracy_method, optimizer_method, lr, version_numer, IsTensor)\u001b[0m\n\u001b[0;32m     24\u001b[0m \u001b[38;5;28;01mif\u001b[39;00m IsPytorch \u001b[38;5;241m==\u001b[39m \u001b[38;5;28;01mFalse\u001b[39;00m \u001b[38;5;129;01mand\u001b[39;00m IsTensor \u001b[38;5;241m==\u001b[39m \u001b[38;5;28;01mFalse\u001b[39;00m:\n\u001b[0;32m     25\u001b[0m     \u001b[38;5;28;01mfor\u001b[39;00m i \u001b[38;5;129;01min\u001b[39;00m \u001b[38;5;28mrange\u001b[39m(\u001b[38;5;241m1\u001b[39m,max_feature):\n\u001b[1;32m---> 26\u001b[0m         feature_eliminated_df \u001b[38;5;241m=\u001b[39m \u001b[43mFeatureEliminationMethod\u001b[49m\u001b[43m(\u001b[49m\u001b[43mdf\u001b[49m\u001b[43m \u001b[49m\u001b[38;5;241;43m=\u001b[39;49m\u001b[43m \u001b[49m\u001b[43mdf\u001b[49m\u001b[43m,\u001b[49m\u001b[43m \u001b[49m\u001b[43mX\u001b[49m\u001b[43m \u001b[49m\u001b[38;5;241;43m=\u001b[39;49m\u001b[43m \u001b[49m\u001b[43mX\u001b[49m\u001b[43m,\u001b[49m\u001b[43m \u001b[49m\u001b[43my\u001b[49m\u001b[43m \u001b[49m\u001b[38;5;241;43m=\u001b[39;49m\u001b[43m \u001b[49m\u001b[43my\u001b[49m\u001b[43m,\u001b[49m\u001b[43m \u001b[49m\u001b[43mn_features_to_select\u001b[49m\u001b[43m \u001b[49m\u001b[38;5;241;43m=\u001b[39;49m\u001b[43m \u001b[49m\u001b[43mi\u001b[49m\u001b[43m)\u001b[49m\n\u001b[0;32m     27\u001b[0m         x_train, x_test, y_train, y_test \u001b[38;5;241m=\u001b[39m train_test_split_modified(feature_eliminated_df)\n\u001b[0;32m     28\u001b[0m         result \u001b[38;5;241m=\u001b[39m MLORDLAlgorithm(x_train, x_test, y_train, y_test)\n",
            "Input \u001b[1;32mIn [22]\u001b[0m, in \u001b[0;36mChiSquareFeatureElimination\u001b[1;34m(X, y, n_features_to_select, df)\u001b[0m\n\u001b[0;32m      3\u001b[0m \u001b[38;5;28;01mdef\u001b[39;00m \u001b[38;5;21mChiSquareFeatureElimination\u001b[39m(X, y, n_features_to_select, df\u001b[38;5;241m=\u001b[39m \u001b[38;5;28;01mNone\u001b[39;00m):\n\u001b[1;32m----> 4\u001b[0m     X_chi2 \u001b[38;5;241m=\u001b[39m \u001b[43mSelectKBest\u001b[49m\u001b[43m(\u001b[49m\u001b[43mchi2\u001b[49m\u001b[43m,\u001b[49m\u001b[43m \u001b[49m\u001b[43mk\u001b[49m\u001b[43m \u001b[49m\u001b[38;5;241;43m=\u001b[39;49m\u001b[43m \u001b[49m\u001b[43mn_features_to_select\u001b[49m\u001b[43m)\u001b[49m\u001b[38;5;241;43m.\u001b[39;49m\u001b[43mfit_transform\u001b[49m\u001b[43m(\u001b[49m\u001b[43mX\u001b[49m\u001b[43m,\u001b[49m\u001b[43m \u001b[49m\u001b[43my\u001b[49m\u001b[43m)\u001b[49m\n\u001b[0;32m      5\u001b[0m     X_chi2_df \u001b[38;5;241m=\u001b[39m pd\u001b[38;5;241m.\u001b[39mDataFrame(X_chi2, columns\u001b[38;5;241m=\u001b[39m[\u001b[38;5;124mf\u001b[39m\u001b[38;5;124m\"\u001b[39m\u001b[38;5;124mfeature_\u001b[39m\u001b[38;5;132;01m{\u001b[39;00mi\u001b[38;5;132;01m}\u001b[39;00m\u001b[38;5;124m\"\u001b[39m \u001b[38;5;28;01mfor\u001b[39;00m i \u001b[38;5;129;01min\u001b[39;00m \u001b[38;5;28mrange\u001b[39m(n_features_to_select)])\n\u001b[0;32m      6\u001b[0m     \u001b[38;5;28;01mreturn\u001b[39;00m pd\u001b[38;5;241m.\u001b[39mconcat([X_chi2_df, y\u001b[38;5;241m.\u001b[39mreset_index(drop\u001b[38;5;241m=\u001b[39m\u001b[38;5;28;01mTrue\u001b[39;00m)], axis\u001b[38;5;241m=\u001b[39m\u001b[38;5;241m1\u001b[39m)\n",
            "File \u001b[1;32mc:\\Users\\AMD\\AppData\\Local\\Programs\\Python\\Python310\\lib\\site-packages\\sklearn\\base.py:855\u001b[0m, in \u001b[0;36mTransformerMixin.fit_transform\u001b[1;34m(self, X, y, **fit_params)\u001b[0m\n\u001b[0;32m    852\u001b[0m     \u001b[38;5;28;01mreturn\u001b[39;00m \u001b[38;5;28mself\u001b[39m\u001b[38;5;241m.\u001b[39mfit(X, \u001b[38;5;241m*\u001b[39m\u001b[38;5;241m*\u001b[39mfit_params)\u001b[38;5;241m.\u001b[39mtransform(X)\n\u001b[0;32m    853\u001b[0m \u001b[38;5;28;01melse\u001b[39;00m:\n\u001b[0;32m    854\u001b[0m     \u001b[38;5;66;03m# fit method of arity 2 (supervised transformation)\u001b[39;00m\n\u001b[1;32m--> 855\u001b[0m     \u001b[38;5;28;01mreturn\u001b[39;00m \u001b[38;5;28mself\u001b[39m\u001b[38;5;241m.\u001b[39mfit(X, y, \u001b[38;5;241m*\u001b[39m\u001b[38;5;241m*\u001b[39mfit_params)\u001b[38;5;241m.\u001b[39mtransform(X)\n",
            "File \u001b[1;32mc:\\Users\\AMD\\AppData\\Local\\Programs\\Python\\Python310\\lib\\site-packages\\sklearn\\feature_selection\\_univariate_selection.py:408\u001b[0m, in \u001b[0;36m_BaseFilter.fit\u001b[1;34m(self, X, y)\u001b[0m\n\u001b[0;32m    402\u001b[0m     \u001b[38;5;28;01mraise\u001b[39;00m \u001b[38;5;167;01mTypeError\u001b[39;00m(\n\u001b[0;32m    403\u001b[0m         \u001b[38;5;124m\"\u001b[39m\u001b[38;5;124mThe score function should be a callable, \u001b[39m\u001b[38;5;132;01m%s\u001b[39;00m\u001b[38;5;124m (\u001b[39m\u001b[38;5;132;01m%s\u001b[39;00m\u001b[38;5;124m) was passed.\u001b[39m\u001b[38;5;124m\"\u001b[39m\n\u001b[0;32m    404\u001b[0m         \u001b[38;5;241m%\u001b[39m (\u001b[38;5;28mself\u001b[39m\u001b[38;5;241m.\u001b[39mscore_func, \u001b[38;5;28mtype\u001b[39m(\u001b[38;5;28mself\u001b[39m\u001b[38;5;241m.\u001b[39mscore_func))\n\u001b[0;32m    405\u001b[0m     )\n\u001b[0;32m    407\u001b[0m \u001b[38;5;28mself\u001b[39m\u001b[38;5;241m.\u001b[39m_check_params(X, y)\n\u001b[1;32m--> 408\u001b[0m score_func_ret \u001b[38;5;241m=\u001b[39m \u001b[38;5;28;43mself\u001b[39;49m\u001b[38;5;241;43m.\u001b[39;49m\u001b[43mscore_func\u001b[49m\u001b[43m(\u001b[49m\u001b[43mX\u001b[49m\u001b[43m,\u001b[49m\u001b[43m \u001b[49m\u001b[43my\u001b[49m\u001b[43m)\u001b[49m\n\u001b[0;32m    409\u001b[0m \u001b[38;5;28;01mif\u001b[39;00m \u001b[38;5;28misinstance\u001b[39m(score_func_ret, (\u001b[38;5;28mlist\u001b[39m, \u001b[38;5;28mtuple\u001b[39m)):\n\u001b[0;32m    410\u001b[0m     \u001b[38;5;28mself\u001b[39m\u001b[38;5;241m.\u001b[39mscores_, \u001b[38;5;28mself\u001b[39m\u001b[38;5;241m.\u001b[39mpvalues_ \u001b[38;5;241m=\u001b[39m score_func_ret\n",
            "File \u001b[1;32mc:\\Users\\AMD\\AppData\\Local\\Programs\\Python\\Python310\\lib\\site-packages\\sklearn\\feature_selection\\_univariate_selection.py:215\u001b[0m, in \u001b[0;36mchi2\u001b[1;34m(X, y)\u001b[0m\n\u001b[0;32m    213\u001b[0m X \u001b[38;5;241m=\u001b[39m check_array(X, accept_sparse\u001b[38;5;241m=\u001b[39m\u001b[38;5;124m\"\u001b[39m\u001b[38;5;124mcsr\u001b[39m\u001b[38;5;124m\"\u001b[39m)\n\u001b[0;32m    214\u001b[0m \u001b[38;5;28;01mif\u001b[39;00m np\u001b[38;5;241m.\u001b[39many((X\u001b[38;5;241m.\u001b[39mdata \u001b[38;5;28;01mif\u001b[39;00m issparse(X) \u001b[38;5;28;01melse\u001b[39;00m X) \u001b[38;5;241m<\u001b[39m \u001b[38;5;241m0\u001b[39m):\n\u001b[1;32m--> 215\u001b[0m     \u001b[38;5;28;01mraise\u001b[39;00m \u001b[38;5;167;01mValueError\u001b[39;00m(\u001b[38;5;124m\"\u001b[39m\u001b[38;5;124mInput X must be non-negative.\u001b[39m\u001b[38;5;124m\"\u001b[39m)\n\u001b[0;32m    217\u001b[0m Y \u001b[38;5;241m=\u001b[39m LabelBinarizer()\u001b[38;5;241m.\u001b[39mfit_transform(y)\n\u001b[0;32m    218\u001b[0m \u001b[38;5;28;01mif\u001b[39;00m Y\u001b[38;5;241m.\u001b[39mshape[\u001b[38;5;241m1\u001b[39m] \u001b[38;5;241m==\u001b[39m \u001b[38;5;241m1\u001b[39m:\n",
            "\u001b[1;31mValueError\u001b[0m: Input X must be non-negative."
          ]
        }
      ],
      "source": [
        "# Run RandomForest wiit RFEFeatureElimination and robust scaler in to the oversampling data\n",
        "RunThePredictAlgorithm(oversampling_df, 75, 'standart', MutualInformationFeatureElimination, RandomForest, version_numer='V2')\n",
        "\n",
        "# Run RandomForest wiit RFEFeatureElimination and robust scaler in to the oversampling data\n",
        "RunThePredictAlgorithm(oversampling_df, 75, 'min-max', MutualInformationFeatureElimination, RandomForest, version_numer='V2')\n",
        "\n",
        "# Run RandomForest wiit RFEFeatureElimination and robust scaler in to the oversampling data\n",
        "RunThePredictAlgorithm(oversampling_df, 75, 'robust', MutualInformationFeatureElimination, RandomForest, version_numer='V2')\n",
        "\n",
        "# Run RandomForest wiit RFEFeatureElimination and robust scaler in to the oversampling data\n",
        "RunThePredictAlgorithm(oversampling_df, 75, 'standart', ChiSquareFeatureElimination, RandomForest, version_numer='V2')"
      ]
    },
    {
      "cell_type": "code",
      "execution_count": 78,
      "metadata": {},
      "outputs": [],
      "source": [
        "RunThePredictAlgorithm(oversampling_df, 70, 'standart', RFEFeatureElimination, PyTorch_TrainTest_Step,\n",
        "                       True, accuracy_method= accuracy_fn, loss_method=nn.CrossEntropyLoss(), optimizer_method='Adam', lr = 0.001)\n",
        "RunThePredictAlgorithm(oversampling_df, 70, 'robust', RFEFeatureElimination, PyTorch_TrainTest_Step,\n",
        "                       True, accuracy_method= accuracy_fn, loss_method=nn.CrossEntropyLoss(), optimizer_method='Adam', lr = 0.001)\n",
        "\n",
        "\n",
        "\n",
        "RunThePredictAlgorithm(oversampling_df, 70, 'min-max', MutualInformationFeatureElimination, PyTorch_TrainTest_Step,\n",
        "                       True, accuracy_method= accuracy_fn, loss_method=nn.CrossEntropyLoss(), optimizer_method='Adam', lr = 0.001)\n",
        "\n",
        "RunThePredictAlgorithm(oversampling_df, 70, 'standart', MutualInformationFeatureElimination, PyTorch_TrainTest_Step,\n",
        "                       True, accuracy_method= accuracy_fn, loss_method=nn.CrossEntropyLoss(), optimizer_method='Adam', lr = 0.001)\n",
        "\n",
        "RunThePredictAlgorithm(oversampling_df, 70, 'robust', MutualInformationFeatureElimination, PyTorch_TrainTest_Step,\n",
        "                       True, accuracy_method= accuracy_fn, loss_method=nn.CrossEntropyLoss(), optimizer_method='Adam', lr = 0.001)\n",
        "\n",
        "\n",
        "\n",
        "\n",
        "\n",
        "RunThePredictAlgorithm(oversampling_df, 70, 'min-max', ChiSquareFeatureElimination, PyTorch_TrainTest_Step,\n",
        "                       True, accuracy_method= accuracy_fn, loss_method=nn.CrossEntropyLoss(), optimizer_method='Adam', lr = 0.001)"
      ]
    },
    {
      "cell_type": "code",
      "execution_count": 79,
      "metadata": {},
      "outputs": [
        {
          "name": "stderr",
          "output_type": "stream",
          "text": [
            "c:\\Users\\AMD\\AppData\\Local\\Programs\\Python\\Python310\\lib\\site-packages\\sklearn\\base.py:443: UserWarning: X has feature names, but SelectFromModel was fitted without feature names\n",
            "  warnings.warn(\n"
          ]
        },
        {
          "name": "stdout",
          "output_type": "stream",
          "text": [
            "Best accuracy is = 0.5127701375245579, with criterion = entropy max_depth = None metrics and fetaure len = 1\n"
          ]
        },
        {
          "name": "stderr",
          "output_type": "stream",
          "text": [
            "c:\\Users\\AMD\\AppData\\Local\\Programs\\Python\\Python310\\lib\\site-packages\\sklearn\\base.py:443: UserWarning: X has feature names, but SelectFromModel was fitted without feature names\n",
            "  warnings.warn(\n"
          ]
        },
        {
          "name": "stdout",
          "output_type": "stream",
          "text": [
            "Best accuracy is = 0.5330713817943681, with criterion = entropy max_depth = None metrics and fetaure len = 2\n"
          ]
        },
        {
          "name": "stderr",
          "output_type": "stream",
          "text": [
            "c:\\Users\\AMD\\AppData\\Local\\Programs\\Python\\Python310\\lib\\site-packages\\sklearn\\base.py:443: UserWarning: X has feature names, but SelectFromModel was fitted without feature names\n",
            "  warnings.warn(\n"
          ]
        },
        {
          "name": "stdout",
          "output_type": "stream",
          "text": [
            "Best accuracy is = 0.5514079895219385, with criterion = entropy max_depth = None metrics and fetaure len = 3\n"
          ]
        },
        {
          "name": "stderr",
          "output_type": "stream",
          "text": [
            "c:\\Users\\AMD\\AppData\\Local\\Programs\\Python\\Python310\\lib\\site-packages\\sklearn\\base.py:443: UserWarning: X has feature names, but SelectFromModel was fitted without feature names\n",
            "  warnings.warn(\n"
          ]
        },
        {
          "name": "stdout",
          "output_type": "stream",
          "text": [
            "Best accuracy is = 0.5848068107400131, with criterion = entropy max_depth = None metrics and fetaure len = 4\n"
          ]
        },
        {
          "name": "stderr",
          "output_type": "stream",
          "text": [
            "c:\\Users\\AMD\\AppData\\Local\\Programs\\Python\\Python310\\lib\\site-packages\\sklearn\\base.py:443: UserWarning: X has feature names, but SelectFromModel was fitted without feature names\n",
            "  warnings.warn(\n"
          ]
        },
        {
          "name": "stdout",
          "output_type": "stream",
          "text": [
            "Best accuracy is = 0.5834970530451866, with criterion = entropy max_depth = 5 metrics and fetaure len = 5\n"
          ]
        },
        {
          "name": "stderr",
          "output_type": "stream",
          "text": [
            "c:\\Users\\AMD\\AppData\\Local\\Programs\\Python\\Python310\\lib\\site-packages\\sklearn\\base.py:443: UserWarning: X has feature names, but SelectFromModel was fitted without feature names\n",
            "  warnings.warn(\n"
          ]
        },
        {
          "name": "stdout",
          "output_type": "stream",
          "text": [
            "Best accuracy is = 0.6096922069417158, with criterion = entropy max_depth = None metrics and fetaure len = 6\n"
          ]
        },
        {
          "name": "stderr",
          "output_type": "stream",
          "text": [
            "c:\\Users\\AMD\\AppData\\Local\\Programs\\Python\\Python310\\lib\\site-packages\\sklearn\\base.py:443: UserWarning: X has feature names, but SelectFromModel was fitted without feature names\n",
            "  warnings.warn(\n"
          ]
        },
        {
          "name": "stdout",
          "output_type": "stream",
          "text": [
            "Best accuracy is = 0.6116568434839554, with criterion = entropy max_depth = None metrics and fetaure len = 7\n"
          ]
        },
        {
          "name": "stderr",
          "output_type": "stream",
          "text": [
            "c:\\Users\\AMD\\AppData\\Local\\Programs\\Python\\Python310\\lib\\site-packages\\sklearn\\base.py:443: UserWarning: X has feature names, but SelectFromModel was fitted without feature names\n",
            "  warnings.warn(\n"
          ]
        },
        {
          "name": "stdout",
          "output_type": "stream",
          "text": [
            "Best accuracy is = 0.6037982973149967, with criterion = entropy max_depth = 10 metrics and fetaure len = 8\n"
          ]
        },
        {
          "name": "stderr",
          "output_type": "stream",
          "text": [
            "c:\\Users\\AMD\\AppData\\Local\\Programs\\Python\\Python310\\lib\\site-packages\\sklearn\\base.py:443: UserWarning: X has feature names, but SelectFromModel was fitted without feature names\n",
            "  warnings.warn(\n"
          ]
        },
        {
          "name": "stdout",
          "output_type": "stream",
          "text": [
            "Best accuracy is = 0.6051080550098232, with criterion = gini max_depth = 10 metrics and fetaure len = 9\n"
          ]
        },
        {
          "name": "stderr",
          "output_type": "stream",
          "text": [
            "c:\\Users\\AMD\\AppData\\Local\\Programs\\Python\\Python310\\lib\\site-packages\\sklearn\\base.py:443: UserWarning: X has feature names, but SelectFromModel was fitted without feature names\n",
            "  warnings.warn(\n"
          ]
        },
        {
          "name": "stdout",
          "output_type": "stream",
          "text": [
            "Best accuracy is = 0.6110019646365422, with criterion = gini max_depth = 10 metrics and fetaure len = 10\n"
          ]
        },
        {
          "name": "stderr",
          "output_type": "stream",
          "text": [
            "c:\\Users\\AMD\\AppData\\Local\\Programs\\Python\\Python310\\lib\\site-packages\\sklearn\\base.py:443: UserWarning: X has feature names, but SelectFromModel was fitted without feature names\n",
            "  warnings.warn(\n"
          ]
        },
        {
          "name": "stdout",
          "output_type": "stream",
          "text": [
            "Best accuracy is = 0.618860510805501, with criterion = entropy max_depth = 10 metrics and fetaure len = 11\n"
          ]
        },
        {
          "name": "stderr",
          "output_type": "stream",
          "text": [
            "c:\\Users\\AMD\\AppData\\Local\\Programs\\Python\\Python310\\lib\\site-packages\\sklearn\\base.py:443: UserWarning: X has feature names, but SelectFromModel was fitted without feature names\n",
            "  warnings.warn(\n"
          ]
        },
        {
          "name": "stdout",
          "output_type": "stream",
          "text": [
            "Best accuracy is = 0.6247544204322201, with criterion = entropy max_depth = 10 metrics and fetaure len = 12\n"
          ]
        },
        {
          "name": "stderr",
          "output_type": "stream",
          "text": [
            "c:\\Users\\AMD\\AppData\\Local\\Programs\\Python\\Python310\\lib\\site-packages\\sklearn\\base.py:443: UserWarning: X has feature names, but SelectFromModel was fitted without feature names\n",
            "  warnings.warn(\n"
          ]
        },
        {
          "name": "stdout",
          "output_type": "stream",
          "text": [
            "Best accuracy is = 0.6201702685003274, with criterion = entropy max_depth = 10 metrics and fetaure len = 13\n"
          ]
        },
        {
          "name": "stderr",
          "output_type": "stream",
          "text": [
            "c:\\Users\\AMD\\AppData\\Local\\Programs\\Python\\Python310\\lib\\site-packages\\sklearn\\base.py:443: UserWarning: X has feature names, but SelectFromModel was fitted without feature names\n",
            "  warnings.warn(\n"
          ]
        },
        {
          "name": "stdout",
          "output_type": "stream",
          "text": [
            "Best accuracy is = 0.6227897838899804, with criterion = entropy max_depth = 10 metrics and fetaure len = 14\n"
          ]
        },
        {
          "name": "stderr",
          "output_type": "stream",
          "text": [
            "c:\\Users\\AMD\\AppData\\Local\\Programs\\Python\\Python310\\lib\\site-packages\\sklearn\\base.py:443: UserWarning: X has feature names, but SelectFromModel was fitted without feature names\n",
            "  warnings.warn(\n"
          ]
        },
        {
          "name": "stdout",
          "output_type": "stream",
          "text": [
            "Best accuracy is = 0.6299934512115258, with criterion = entropy max_depth = 10 metrics and fetaure len = 15\n"
          ]
        },
        {
          "name": "stderr",
          "output_type": "stream",
          "text": [
            "c:\\Users\\AMD\\AppData\\Local\\Programs\\Python\\Python310\\lib\\site-packages\\sklearn\\base.py:443: UserWarning: X has feature names, but SelectFromModel was fitted without feature names\n",
            "  warnings.warn(\n"
          ]
        },
        {
          "name": "stdout",
          "output_type": "stream",
          "text": [
            "Best accuracy is = 0.6221349050425671, with criterion = gini max_depth = 10 metrics and fetaure len = 16\n"
          ]
        },
        {
          "name": "stderr",
          "output_type": "stream",
          "text": [
            "c:\\Users\\AMD\\AppData\\Local\\Programs\\Python\\Python310\\lib\\site-packages\\sklearn\\base.py:443: UserWarning: X has feature names, but SelectFromModel was fitted without feature names\n",
            "  warnings.warn(\n"
          ]
        },
        {
          "name": "stdout",
          "output_type": "stream",
          "text": [
            "Best accuracy is = 0.6234446627373936, with criterion = entropy max_depth = 10 metrics and fetaure len = 17\n"
          ]
        },
        {
          "name": "stderr",
          "output_type": "stream",
          "text": [
            "c:\\Users\\AMD\\AppData\\Local\\Programs\\Python\\Python310\\lib\\site-packages\\sklearn\\base.py:443: UserWarning: X has feature names, but SelectFromModel was fitted without feature names\n",
            "  warnings.warn(\n"
          ]
        },
        {
          "name": "stdout",
          "output_type": "stream",
          "text": [
            "Best accuracy is = 0.6234446627373936, with criterion = entropy max_depth = 10 metrics and fetaure len = 18\n"
          ]
        },
        {
          "name": "stderr",
          "output_type": "stream",
          "text": [
            "c:\\Users\\AMD\\AppData\\Local\\Programs\\Python\\Python310\\lib\\site-packages\\sklearn\\base.py:443: UserWarning: X has feature names, but SelectFromModel was fitted without feature names\n",
            "  warnings.warn(\n"
          ]
        },
        {
          "name": "stdout",
          "output_type": "stream",
          "text": [
            "Best accuracy is = 0.6313032089063523, with criterion = entropy max_depth = 10 metrics and fetaure len = 19\n"
          ]
        },
        {
          "name": "stderr",
          "output_type": "stream",
          "text": [
            "c:\\Users\\AMD\\AppData\\Local\\Programs\\Python\\Python310\\lib\\site-packages\\sklearn\\base.py:443: UserWarning: X has feature names, but SelectFromModel was fitted without feature names\n",
            "  warnings.warn(\n"
          ]
        },
        {
          "name": "stdout",
          "output_type": "stream",
          "text": [
            "Best accuracy is = 0.630648330058939, with criterion = entropy max_depth = 10 metrics and fetaure len = 20\n"
          ]
        },
        {
          "name": "stderr",
          "output_type": "stream",
          "text": [
            "c:\\Users\\AMD\\AppData\\Local\\Programs\\Python\\Python310\\lib\\site-packages\\sklearn\\base.py:443: UserWarning: X has feature names, but SelectFromModel was fitted without feature names\n",
            "  warnings.warn(\n"
          ]
        },
        {
          "name": "stdout",
          "output_type": "stream",
          "text": [
            "Best accuracy is = 0.6286836935166994, with criterion = entropy max_depth = 10 metrics and fetaure len = 21\n"
          ]
        },
        {
          "name": "stderr",
          "output_type": "stream",
          "text": [
            "c:\\Users\\AMD\\AppData\\Local\\Programs\\Python\\Python310\\lib\\site-packages\\sklearn\\base.py:443: UserWarning: X has feature names, but SelectFromModel was fitted without feature names\n",
            "  warnings.warn(\n"
          ]
        },
        {
          "name": "stdout",
          "output_type": "stream",
          "text": [
            "Best accuracy is = 0.630648330058939, with criterion = gini max_depth = 20 metrics and fetaure len = 22\n"
          ]
        },
        {
          "name": "stderr",
          "output_type": "stream",
          "text": [
            "c:\\Users\\AMD\\AppData\\Local\\Programs\\Python\\Python310\\lib\\site-packages\\sklearn\\base.py:443: UserWarning: X has feature names, but SelectFromModel was fitted without feature names\n",
            "  warnings.warn(\n"
          ]
        },
        {
          "name": "stdout",
          "output_type": "stream",
          "text": [
            "Best accuracy is = 0.6240995415848068, with criterion = entropy max_depth = 15 metrics and fetaure len = 23\n"
          ]
        },
        {
          "name": "stderr",
          "output_type": "stream",
          "text": [
            "c:\\Users\\AMD\\AppData\\Local\\Programs\\Python\\Python310\\lib\\site-packages\\sklearn\\base.py:443: UserWarning: X has feature names, but SelectFromModel was fitted without feature names\n",
            "  warnings.warn(\n"
          ]
        },
        {
          "name": "stdout",
          "output_type": "stream",
          "text": [
            "Best accuracy is = 0.6280288146692862, with criterion = gini max_depth = 25 metrics and fetaure len = 24\n"
          ]
        },
        {
          "name": "stderr",
          "output_type": "stream",
          "text": [
            "c:\\Users\\AMD\\AppData\\Local\\Programs\\Python\\Python310\\lib\\site-packages\\sklearn\\base.py:443: UserWarning: X has feature names, but SelectFromModel was fitted without feature names\n",
            "  warnings.warn(\n"
          ]
        },
        {
          "name": "stdout",
          "output_type": "stream",
          "text": [
            "Best accuracy is = 0.6286836935166994, with criterion = gini max_depth = 10 metrics and fetaure len = 25\n"
          ]
        },
        {
          "name": "stderr",
          "output_type": "stream",
          "text": [
            "c:\\Users\\AMD\\AppData\\Local\\Programs\\Python\\Python310\\lib\\site-packages\\sklearn\\base.py:443: UserWarning: X has feature names, but SelectFromModel was fitted without feature names\n",
            "  warnings.warn(\n"
          ]
        },
        {
          "name": "stdout",
          "output_type": "stream",
          "text": [
            "Best accuracy is = 0.6319580877537656, with criterion = gini max_depth = 15 metrics and fetaure len = 26\n"
          ]
        },
        {
          "name": "stderr",
          "output_type": "stream",
          "text": [
            "c:\\Users\\AMD\\AppData\\Local\\Programs\\Python\\Python310\\lib\\site-packages\\sklearn\\base.py:443: UserWarning: X has feature names, but SelectFromModel was fitted without feature names\n",
            "  warnings.warn(\n"
          ]
        },
        {
          "name": "stdout",
          "output_type": "stream",
          "text": [
            "Best accuracy is = 0.633267845448592, with criterion = gini max_depth = None metrics and fetaure len = 27\n"
          ]
        },
        {
          "name": "stderr",
          "output_type": "stream",
          "text": [
            "c:\\Users\\AMD\\AppData\\Local\\Programs\\Python\\Python310\\lib\\site-packages\\sklearn\\base.py:443: UserWarning: X has feature names, but SelectFromModel was fitted without feature names\n",
            "  warnings.warn(\n"
          ]
        },
        {
          "name": "stdout",
          "output_type": "stream",
          "text": [
            "Best accuracy is = 0.6339227242960053, with criterion = entropy max_depth = 30 metrics and fetaure len = 28\n"
          ]
        },
        {
          "name": "stderr",
          "output_type": "stream",
          "text": [
            "c:\\Users\\AMD\\AppData\\Local\\Programs\\Python\\Python310\\lib\\site-packages\\sklearn\\base.py:443: UserWarning: X has feature names, but SelectFromModel was fitted without feature names\n",
            "  warnings.warn(\n"
          ]
        },
        {
          "name": "stdout",
          "output_type": "stream",
          "text": [
            "Best accuracy is = 0.6326129666011788, with criterion = gini max_depth = 15 metrics and fetaure len = 29\n"
          ]
        },
        {
          "name": "stderr",
          "output_type": "stream",
          "text": [
            "c:\\Users\\AMD\\AppData\\Local\\Programs\\Python\\Python310\\lib\\site-packages\\sklearn\\base.py:443: UserWarning: X has feature names, but SelectFromModel was fitted without feature names\n",
            "  warnings.warn(\n"
          ]
        },
        {
          "name": "stdout",
          "output_type": "stream",
          "text": [
            "Best accuracy is = 0.6358873608382449, with criterion = gini max_depth = 20 metrics and fetaure len = 30\n"
          ]
        },
        {
          "name": "stderr",
          "output_type": "stream",
          "text": [
            "c:\\Users\\AMD\\AppData\\Local\\Programs\\Python\\Python310\\lib\\site-packages\\sklearn\\base.py:443: UserWarning: X has feature names, but SelectFromModel was fitted without feature names\n",
            "  warnings.warn(\n"
          ]
        },
        {
          "name": "stdout",
          "output_type": "stream",
          "text": [
            "Best accuracy is = 0.639161755075311, with criterion = entropy max_depth = None metrics and fetaure len = 31\n"
          ]
        },
        {
          "name": "stderr",
          "output_type": "stream",
          "text": [
            "c:\\Users\\AMD\\AppData\\Local\\Programs\\Python\\Python310\\lib\\site-packages\\sklearn\\base.py:443: UserWarning: X has feature names, but SelectFromModel was fitted without feature names\n",
            "  warnings.warn(\n"
          ]
        },
        {
          "name": "stdout",
          "output_type": "stream",
          "text": [
            "Best accuracy is = 0.6378519973804846, with criterion = gini max_depth = 30 metrics and fetaure len = 32\n"
          ]
        },
        {
          "name": "stderr",
          "output_type": "stream",
          "text": [
            "c:\\Users\\AMD\\AppData\\Local\\Programs\\Python\\Python310\\lib\\site-packages\\sklearn\\base.py:443: UserWarning: X has feature names, but SelectFromModel was fitted without feature names\n",
            "  warnings.warn(\n"
          ]
        },
        {
          "name": "stdout",
          "output_type": "stream",
          "text": [
            "Best accuracy is = 0.6345776031434185, with criterion = gini max_depth = 20 metrics and fetaure len = 33\n"
          ]
        },
        {
          "name": "stderr",
          "output_type": "stream",
          "text": [
            "c:\\Users\\AMD\\AppData\\Local\\Programs\\Python\\Python310\\lib\\site-packages\\sklearn\\base.py:443: UserWarning: X has feature names, but SelectFromModel was fitted without feature names\n",
            "  warnings.warn(\n"
          ]
        },
        {
          "name": "stdout",
          "output_type": "stream",
          "text": [
            "Best accuracy is = 0.639161755075311, with criterion = gini max_depth = 15 metrics and fetaure len = 34\n"
          ]
        },
        {
          "name": "stderr",
          "output_type": "stream",
          "text": [
            "c:\\Users\\AMD\\AppData\\Local\\Programs\\Python\\Python310\\lib\\site-packages\\sklearn\\base.py:443: UserWarning: X has feature names, but SelectFromModel was fitted without feature names\n",
            "  warnings.warn(\n"
          ]
        },
        {
          "name": "stdout",
          "output_type": "stream",
          "text": [
            "Best accuracy is = 0.6404715127701375, with criterion = gini max_depth = 25 metrics and fetaure len = 35\n"
          ]
        },
        {
          "name": "stderr",
          "output_type": "stream",
          "text": [
            "c:\\Users\\AMD\\AppData\\Local\\Programs\\Python\\Python310\\lib\\site-packages\\sklearn\\base.py:443: UserWarning: X has feature names, but SelectFromModel was fitted without feature names\n",
            "  warnings.warn(\n"
          ]
        },
        {
          "name": "stdout",
          "output_type": "stream",
          "text": [
            "Best accuracy is = 0.6470203012442698, with criterion = gini max_depth = 20 metrics and fetaure len = 36\n"
          ]
        },
        {
          "name": "stderr",
          "output_type": "stream",
          "text": [
            "c:\\Users\\AMD\\AppData\\Local\\Programs\\Python\\Python310\\lib\\site-packages\\sklearn\\base.py:443: UserWarning: X has feature names, but SelectFromModel was fitted without feature names\n",
            "  warnings.warn(\n"
          ]
        },
        {
          "name": "stdout",
          "output_type": "stream",
          "text": [
            "Best accuracy is = 0.6450556647020301, with criterion = entropy max_depth = 20 metrics and fetaure len = 37\n"
          ]
        },
        {
          "name": "stderr",
          "output_type": "stream",
          "text": [
            "c:\\Users\\AMD\\AppData\\Local\\Programs\\Python\\Python310\\lib\\site-packages\\sklearn\\base.py:443: UserWarning: X has feature names, but SelectFromModel was fitted without feature names\n",
            "  warnings.warn(\n"
          ]
        },
        {
          "name": "stdout",
          "output_type": "stream",
          "text": [
            "Best accuracy is = 0.6378519973804846, with criterion = entropy max_depth = 25 metrics and fetaure len = 38\n"
          ]
        },
        {
          "name": "stderr",
          "output_type": "stream",
          "text": [
            "c:\\Users\\AMD\\AppData\\Local\\Programs\\Python\\Python310\\lib\\site-packages\\sklearn\\base.py:443: UserWarning: X has feature names, but SelectFromModel was fitted without feature names\n",
            "  warnings.warn(\n"
          ]
        },
        {
          "name": "stdout",
          "output_type": "stream",
          "text": [
            "Best accuracy is = 0.641781270464964, with criterion = gini max_depth = 20 metrics and fetaure len = 39\n"
          ]
        },
        {
          "name": "stderr",
          "output_type": "stream",
          "text": [
            "c:\\Users\\AMD\\AppData\\Local\\Programs\\Python\\Python310\\lib\\site-packages\\sklearn\\base.py:443: UserWarning: X has feature names, but SelectFromModel was fitted without feature names\n",
            "  warnings.warn(\n"
          ]
        },
        {
          "name": "stdout",
          "output_type": "stream",
          "text": [
            "Best accuracy is = 0.6371971185330714, with criterion = entropy max_depth = 20 metrics and fetaure len = 40\n"
          ]
        },
        {
          "name": "stderr",
          "output_type": "stream",
          "text": [
            "c:\\Users\\AMD\\AppData\\Local\\Programs\\Python\\Python310\\lib\\site-packages\\sklearn\\base.py:443: UserWarning: X has feature names, but SelectFromModel was fitted without feature names\n",
            "  warnings.warn(\n"
          ]
        },
        {
          "name": "stdout",
          "output_type": "stream",
          "text": [
            "Best accuracy is = 0.639161755075311, with criterion = gini max_depth = 35 metrics and fetaure len = 41\n"
          ]
        },
        {
          "name": "stderr",
          "output_type": "stream",
          "text": [
            "c:\\Users\\AMD\\AppData\\Local\\Programs\\Python\\Python310\\lib\\site-packages\\sklearn\\base.py:443: UserWarning: X has feature names, but SelectFromModel was fitted without feature names\n",
            "  warnings.warn(\n"
          ]
        },
        {
          "name": "stdout",
          "output_type": "stream",
          "text": [
            "Best accuracy is = 0.6378519973804846, with criterion = entropy max_depth = 20 metrics and fetaure len = 42\n"
          ]
        },
        {
          "name": "stderr",
          "output_type": "stream",
          "text": [
            "c:\\Users\\AMD\\AppData\\Local\\Programs\\Python\\Python310\\lib\\site-packages\\sklearn\\base.py:443: UserWarning: X has feature names, but SelectFromModel was fitted without feature names\n",
            "  warnings.warn(\n"
          ]
        },
        {
          "name": "stdout",
          "output_type": "stream",
          "text": [
            "Best accuracy is = 0.6339227242960053, with criterion = entropy max_depth = 25 metrics and fetaure len = 43\n"
          ]
        },
        {
          "name": "stderr",
          "output_type": "stream",
          "text": [
            "c:\\Users\\AMD\\AppData\\Local\\Programs\\Python\\Python310\\lib\\site-packages\\sklearn\\base.py:443: UserWarning: X has feature names, but SelectFromModel was fitted without feature names\n",
            "  warnings.warn(\n"
          ]
        },
        {
          "name": "stdout",
          "output_type": "stream",
          "text": [
            "Best accuracy is = 0.639161755075311, with criterion = gini max_depth = 25 metrics and fetaure len = 44\n"
          ]
        },
        {
          "name": "stderr",
          "output_type": "stream",
          "text": [
            "c:\\Users\\AMD\\AppData\\Local\\Programs\\Python\\Python310\\lib\\site-packages\\sklearn\\base.py:443: UserWarning: X has feature names, but SelectFromModel was fitted without feature names\n",
            "  warnings.warn(\n"
          ]
        },
        {
          "name": "stdout",
          "output_type": "stream",
          "text": [
            "Best accuracy is = 0.6358873608382449, with criterion = entropy max_depth = 20 metrics and fetaure len = 45\n"
          ]
        },
        {
          "name": "stderr",
          "output_type": "stream",
          "text": [
            "c:\\Users\\AMD\\AppData\\Local\\Programs\\Python\\Python310\\lib\\site-packages\\sklearn\\base.py:443: UserWarning: X has feature names, but SelectFromModel was fitted without feature names\n",
            "  warnings.warn(\n"
          ]
        },
        {
          "name": "stdout",
          "output_type": "stream",
          "text": [
            "Best accuracy is = 0.6352324819908317, with criterion = gini max_depth = None metrics and fetaure len = 46\n"
          ]
        },
        {
          "name": "stderr",
          "output_type": "stream",
          "text": [
            "c:\\Users\\AMD\\AppData\\Local\\Programs\\Python\\Python310\\lib\\site-packages\\sklearn\\base.py:443: UserWarning: X has feature names, but SelectFromModel was fitted without feature names\n",
            "  warnings.warn(\n"
          ]
        },
        {
          "name": "stdout",
          "output_type": "stream",
          "text": [
            "Best accuracy is = 0.6339227242960053, with criterion = gini max_depth = 30 metrics and fetaure len = 47\n"
          ]
        },
        {
          "name": "stderr",
          "output_type": "stream",
          "text": [
            "c:\\Users\\AMD\\AppData\\Local\\Programs\\Python\\Python310\\lib\\site-packages\\sklearn\\base.py:443: UserWarning: X has feature names, but SelectFromModel was fitted without feature names\n",
            "  warnings.warn(\n"
          ]
        },
        {
          "name": "stdout",
          "output_type": "stream",
          "text": [
            "Best accuracy is = 0.6371971185330714, with criterion = gini max_depth = 25 metrics and fetaure len = 48\n"
          ]
        },
        {
          "name": "stderr",
          "output_type": "stream",
          "text": [
            "c:\\Users\\AMD\\AppData\\Local\\Programs\\Python\\Python310\\lib\\site-packages\\sklearn\\base.py:443: UserWarning: X has feature names, but SelectFromModel was fitted without feature names\n",
            "  warnings.warn(\n"
          ]
        },
        {
          "name": "stdout",
          "output_type": "stream",
          "text": [
            "Best accuracy is = 0.6411263916175508, with criterion = gini max_depth = 20 metrics and fetaure len = 49\n"
          ]
        },
        {
          "name": "stderr",
          "output_type": "stream",
          "text": [
            "c:\\Users\\AMD\\AppData\\Local\\Programs\\Python\\Python310\\lib\\site-packages\\sklearn\\base.py:443: UserWarning: X has feature names, but SelectFromModel was fitted without feature names\n",
            "  warnings.warn(\n"
          ]
        },
        {
          "name": "stdout",
          "output_type": "stream",
          "text": [
            "Best accuracy is = 0.6352324819908317, with criterion = gini max_depth = 25 metrics and fetaure len = 50\n"
          ]
        },
        {
          "name": "stderr",
          "output_type": "stream",
          "text": [
            "c:\\Users\\AMD\\AppData\\Local\\Programs\\Python\\Python310\\lib\\site-packages\\sklearn\\base.py:443: UserWarning: X has feature names, but SelectFromModel was fitted without feature names\n",
            "  warnings.warn(\n"
          ]
        },
        {
          "name": "stdout",
          "output_type": "stream",
          "text": [
            "Best accuracy is = 0.6371971185330714, with criterion = gini max_depth = 20 metrics and fetaure len = 51\n"
          ]
        },
        {
          "name": "stderr",
          "output_type": "stream",
          "text": [
            "c:\\Users\\AMD\\AppData\\Local\\Programs\\Python\\Python310\\lib\\site-packages\\sklearn\\base.py:443: UserWarning: X has feature names, but SelectFromModel was fitted without feature names\n",
            "  warnings.warn(\n"
          ]
        },
        {
          "name": "stdout",
          "output_type": "stream",
          "text": [
            "Best accuracy is = 0.6352324819908317, with criterion = entropy max_depth = 30 metrics and fetaure len = 52\n"
          ]
        },
        {
          "name": "stderr",
          "output_type": "stream",
          "text": [
            "c:\\Users\\AMD\\AppData\\Local\\Programs\\Python\\Python310\\lib\\site-packages\\sklearn\\base.py:443: UserWarning: X has feature names, but SelectFromModel was fitted without feature names\n",
            "  warnings.warn(\n"
          ]
        },
        {
          "name": "stdout",
          "output_type": "stream",
          "text": [
            "Best accuracy is = 0.6365422396856582, with criterion = gini max_depth = 15 metrics and fetaure len = 53\n"
          ]
        },
        {
          "name": "stderr",
          "output_type": "stream",
          "text": [
            "c:\\Users\\AMD\\AppData\\Local\\Programs\\Python\\Python310\\lib\\site-packages\\sklearn\\base.py:443: UserWarning: X has feature names, but SelectFromModel was fitted without feature names\n",
            "  warnings.warn(\n"
          ]
        },
        {
          "name": "stdout",
          "output_type": "stream",
          "text": [
            "Best accuracy is = 0.6365422396856582, with criterion = gini max_depth = 15 metrics and fetaure len = 53\n"
          ]
        },
        {
          "name": "stderr",
          "output_type": "stream",
          "text": [
            "c:\\Users\\AMD\\AppData\\Local\\Programs\\Python\\Python310\\lib\\site-packages\\sklearn\\base.py:443: UserWarning: X has feature names, but SelectFromModel was fitted without feature names\n",
            "  warnings.warn(\n"
          ]
        },
        {
          "name": "stdout",
          "output_type": "stream",
          "text": [
            "Best accuracy is = 0.6365422396856582, with criterion = gini max_depth = 15 metrics and fetaure len = 53\n"
          ]
        },
        {
          "name": "stderr",
          "output_type": "stream",
          "text": [
            "c:\\Users\\AMD\\AppData\\Local\\Programs\\Python\\Python310\\lib\\site-packages\\sklearn\\base.py:443: UserWarning: X has feature names, but SelectFromModel was fitted without feature names\n",
            "  warnings.warn(\n"
          ]
        },
        {
          "name": "stdout",
          "output_type": "stream",
          "text": [
            "Best accuracy is = 0.6365422396856582, with criterion = gini max_depth = 15 metrics and fetaure len = 53\n"
          ]
        },
        {
          "name": "stderr",
          "output_type": "stream",
          "text": [
            "c:\\Users\\AMD\\AppData\\Local\\Programs\\Python\\Python310\\lib\\site-packages\\sklearn\\base.py:443: UserWarning: X has feature names, but SelectFromModel was fitted without feature names\n",
            "  warnings.warn(\n"
          ]
        },
        {
          "name": "stdout",
          "output_type": "stream",
          "text": [
            "Best accuracy is = 0.6365422396856582, with criterion = gini max_depth = 15 metrics and fetaure len = 53\n"
          ]
        },
        {
          "name": "stderr",
          "output_type": "stream",
          "text": [
            "c:\\Users\\AMD\\AppData\\Local\\Programs\\Python\\Python310\\lib\\site-packages\\sklearn\\base.py:443: UserWarning: X has feature names, but SelectFromModel was fitted without feature names\n",
            "  warnings.warn(\n"
          ]
        },
        {
          "name": "stdout",
          "output_type": "stream",
          "text": [
            "Best accuracy is = 0.6365422396856582, with criterion = gini max_depth = 15 metrics and fetaure len = 53\n"
          ]
        },
        {
          "name": "stderr",
          "output_type": "stream",
          "text": [
            "c:\\Users\\AMD\\AppData\\Local\\Programs\\Python\\Python310\\lib\\site-packages\\sklearn\\base.py:443: UserWarning: X has feature names, but SelectFromModel was fitted without feature names\n",
            "  warnings.warn(\n"
          ]
        },
        {
          "name": "stdout",
          "output_type": "stream",
          "text": [
            "Best accuracy is = 0.6365422396856582, with criterion = gini max_depth = 15 metrics and fetaure len = 53\n"
          ]
        },
        {
          "name": "stderr",
          "output_type": "stream",
          "text": [
            "c:\\Users\\AMD\\AppData\\Local\\Programs\\Python\\Python310\\lib\\site-packages\\sklearn\\base.py:443: UserWarning: X has feature names, but SelectFromModel was fitted without feature names\n",
            "  warnings.warn(\n"
          ]
        },
        {
          "name": "stdout",
          "output_type": "stream",
          "text": [
            "Best accuracy is = 0.6365422396856582, with criterion = gini max_depth = 15 metrics and fetaure len = 53\n"
          ]
        },
        {
          "name": "stderr",
          "output_type": "stream",
          "text": [
            "c:\\Users\\AMD\\AppData\\Local\\Programs\\Python\\Python310\\lib\\site-packages\\sklearn\\base.py:443: UserWarning: X has feature names, but SelectFromModel was fitted without feature names\n",
            "  warnings.warn(\n"
          ]
        },
        {
          "name": "stdout",
          "output_type": "stream",
          "text": [
            "Best accuracy is = 0.6365422396856582, with criterion = gini max_depth = 15 metrics and fetaure len = 53\n"
          ]
        },
        {
          "name": "stderr",
          "output_type": "stream",
          "text": [
            "c:\\Users\\AMD\\AppData\\Local\\Programs\\Python\\Python310\\lib\\site-packages\\sklearn\\base.py:443: UserWarning: X has feature names, but SelectFromModel was fitted without feature names\n",
            "  warnings.warn(\n"
          ]
        },
        {
          "name": "stdout",
          "output_type": "stream",
          "text": [
            "Best accuracy is = 0.6365422396856582, with criterion = gini max_depth = 15 metrics and fetaure len = 53\n"
          ]
        },
        {
          "name": "stderr",
          "output_type": "stream",
          "text": [
            "c:\\Users\\AMD\\AppData\\Local\\Programs\\Python\\Python310\\lib\\site-packages\\sklearn\\base.py:443: UserWarning: X has feature names, but SelectFromModel was fitted without feature names\n",
            "  warnings.warn(\n"
          ]
        },
        {
          "name": "stdout",
          "output_type": "stream",
          "text": [
            "Best accuracy is = 0.6365422396856582, with criterion = gini max_depth = 15 metrics and fetaure len = 53\n"
          ]
        },
        {
          "name": "stderr",
          "output_type": "stream",
          "text": [
            "c:\\Users\\AMD\\AppData\\Local\\Programs\\Python\\Python310\\lib\\site-packages\\sklearn\\base.py:443: UserWarning: X has feature names, but SelectFromModel was fitted without feature names\n",
            "  warnings.warn(\n"
          ]
        },
        {
          "name": "stdout",
          "output_type": "stream",
          "text": [
            "Best accuracy is = 0.6365422396856582, with criterion = gini max_depth = 15 metrics and fetaure len = 53\n"
          ]
        },
        {
          "name": "stderr",
          "output_type": "stream",
          "text": [
            "c:\\Users\\AMD\\AppData\\Local\\Programs\\Python\\Python310\\lib\\site-packages\\sklearn\\base.py:443: UserWarning: X has feature names, but SelectFromModel was fitted without feature names\n",
            "  warnings.warn(\n"
          ]
        },
        {
          "name": "stdout",
          "output_type": "stream",
          "text": [
            "Best accuracy is = 0.6365422396856582, with criterion = gini max_depth = 15 metrics and fetaure len = 53\n"
          ]
        },
        {
          "name": "stderr",
          "output_type": "stream",
          "text": [
            "c:\\Users\\AMD\\AppData\\Local\\Programs\\Python\\Python310\\lib\\site-packages\\sklearn\\base.py:443: UserWarning: X has feature names, but SelectFromModel was fitted without feature names\n",
            "  warnings.warn(\n"
          ]
        },
        {
          "name": "stdout",
          "output_type": "stream",
          "text": [
            "Best accuracy is = 0.6365422396856582, with criterion = gini max_depth = 15 metrics and fetaure len = 53\n"
          ]
        },
        {
          "name": "stderr",
          "output_type": "stream",
          "text": [
            "c:\\Users\\AMD\\AppData\\Local\\Programs\\Python\\Python310\\lib\\site-packages\\sklearn\\base.py:443: UserWarning: X has feature names, but SelectFromModel was fitted without feature names\n",
            "  warnings.warn(\n"
          ]
        },
        {
          "name": "stdout",
          "output_type": "stream",
          "text": [
            "Best accuracy is = 0.6365422396856582, with criterion = gini max_depth = 15 metrics and fetaure len = 53\n"
          ]
        },
        {
          "name": "stderr",
          "output_type": "stream",
          "text": [
            "c:\\Users\\AMD\\AppData\\Local\\Programs\\Python\\Python310\\lib\\site-packages\\sklearn\\base.py:443: UserWarning: X has feature names, but SelectFromModel was fitted without feature names\n",
            "  warnings.warn(\n"
          ]
        },
        {
          "name": "stdout",
          "output_type": "stream",
          "text": [
            "Best accuracy is = 0.6365422396856582, with criterion = gini max_depth = 15 metrics and fetaure len = 53\n"
          ]
        },
        {
          "name": "stderr",
          "output_type": "stream",
          "text": [
            "c:\\Users\\AMD\\AppData\\Local\\Programs\\Python\\Python310\\lib\\site-packages\\sklearn\\base.py:443: UserWarning: X has feature names, but SelectFromModel was fitted without feature names\n",
            "  warnings.warn(\n"
          ]
        },
        {
          "name": "stdout",
          "output_type": "stream",
          "text": [
            "Best accuracy is = 0.6365422396856582, with criterion = gini max_depth = 15 metrics and fetaure len = 53\n"
          ]
        },
        {
          "name": "stderr",
          "output_type": "stream",
          "text": [
            "c:\\Users\\AMD\\AppData\\Local\\Programs\\Python\\Python310\\lib\\site-packages\\sklearn\\base.py:443: UserWarning: X has feature names, but SelectFromModel was fitted without feature names\n",
            "  warnings.warn(\n"
          ]
        },
        {
          "name": "stdout",
          "output_type": "stream",
          "text": [
            "Best accuracy is = 0.6365422396856582, with criterion = gini max_depth = 15 metrics and fetaure len = 53\n"
          ]
        },
        {
          "name": "stderr",
          "output_type": "stream",
          "text": [
            "c:\\Users\\AMD\\AppData\\Local\\Programs\\Python\\Python310\\lib\\site-packages\\sklearn\\base.py:443: UserWarning: X has feature names, but SelectFromModel was fitted without feature names\n",
            "  warnings.warn(\n"
          ]
        },
        {
          "name": "stdout",
          "output_type": "stream",
          "text": [
            "Best accuracy is = 0.6365422396856582, with criterion = gini max_depth = 15 metrics and fetaure len = 53\n"
          ]
        },
        {
          "name": "stderr",
          "output_type": "stream",
          "text": [
            "c:\\Users\\AMD\\AppData\\Local\\Programs\\Python\\Python310\\lib\\site-packages\\sklearn\\base.py:443: UserWarning: X has feature names, but SelectFromModel was fitted without feature names\n",
            "  warnings.warn(\n"
          ]
        },
        {
          "name": "stdout",
          "output_type": "stream",
          "text": [
            "Best accuracy is = 0.6365422396856582, with criterion = gini max_depth = 15 metrics and fetaure len = 53\n"
          ]
        },
        {
          "name": "stderr",
          "output_type": "stream",
          "text": [
            "c:\\Users\\AMD\\AppData\\Local\\Programs\\Python\\Python310\\lib\\site-packages\\sklearn\\base.py:443: UserWarning: X has feature names, but SelectFromModel was fitted without feature names\n",
            "  warnings.warn(\n"
          ]
        },
        {
          "name": "stdout",
          "output_type": "stream",
          "text": [
            "Best accuracy is = 0.6365422396856582, with criterion = gini max_depth = 15 metrics and fetaure len = 53\n"
          ]
        },
        {
          "name": "stderr",
          "output_type": "stream",
          "text": [
            "c:\\Users\\AMD\\AppData\\Local\\Programs\\Python\\Python310\\lib\\site-packages\\sklearn\\base.py:443: UserWarning: X has feature names, but SelectFromModel was fitted without feature names\n",
            "  warnings.warn(\n"
          ]
        },
        {
          "name": "stdout",
          "output_type": "stream",
          "text": [
            "Best accuracy is = 0.6365422396856582, with criterion = gini max_depth = 15 metrics and fetaure len = 53\n"
          ]
        },
        {
          "name": "stderr",
          "output_type": "stream",
          "text": [
            "c:\\Users\\AMD\\AppData\\Local\\Programs\\Python\\Python310\\lib\\site-packages\\sklearn\\base.py:443: UserWarning: X has feature names, but SelectFromModel was fitted without feature names\n",
            "  warnings.warn(\n"
          ]
        },
        {
          "name": "stdout",
          "output_type": "stream",
          "text": [
            "Best accuracy is = 0.48788474132285525, with criterion = entropy max_depth = None metrics and fetaure len = 1\n"
          ]
        },
        {
          "name": "stderr",
          "output_type": "stream",
          "text": [
            "c:\\Users\\AMD\\AppData\\Local\\Programs\\Python\\Python310\\lib\\site-packages\\sklearn\\base.py:443: UserWarning: X has feature names, but SelectFromModel was fitted without feature names\n",
            "  warnings.warn(\n"
          ]
        },
        {
          "name": "stdout",
          "output_type": "stream",
          "text": [
            "Best accuracy is = 0.5514079895219385, with criterion = entropy max_depth = None metrics and fetaure len = 2\n"
          ]
        },
        {
          "name": "stderr",
          "output_type": "stream",
          "text": [
            "c:\\Users\\AMD\\AppData\\Local\\Programs\\Python\\Python310\\lib\\site-packages\\sklearn\\base.py:443: UserWarning: X has feature names, but SelectFromModel was fitted without feature names\n",
            "  warnings.warn(\n"
          ]
        },
        {
          "name": "stdout",
          "output_type": "stream",
          "text": [
            "Best accuracy is = 0.5703994760969221, with criterion = entropy max_depth = None metrics and fetaure len = 3\n"
          ]
        },
        {
          "name": "stderr",
          "output_type": "stream",
          "text": [
            "c:\\Users\\AMD\\AppData\\Local\\Programs\\Python\\Python310\\lib\\site-packages\\sklearn\\base.py:443: UserWarning: X has feature names, but SelectFromModel was fitted without feature names\n",
            "  warnings.warn(\n"
          ]
        },
        {
          "name": "stdout",
          "output_type": "stream",
          "text": [
            "Best accuracy is = 0.5946299934512115, with criterion = gini max_depth = 5 metrics and fetaure len = 4\n"
          ]
        },
        {
          "name": "stderr",
          "output_type": "stream",
          "text": [
            "c:\\Users\\AMD\\AppData\\Local\\Programs\\Python\\Python310\\lib\\site-packages\\sklearn\\base.py:443: UserWarning: X has feature names, but SelectFromModel was fitted without feature names\n",
            "  warnings.warn(\n"
          ]
        },
        {
          "name": "stdout",
          "output_type": "stream",
          "text": [
            "Best accuracy is = 0.6123117223313687, with criterion = entropy max_depth = None metrics and fetaure len = 5\n"
          ]
        },
        {
          "name": "stderr",
          "output_type": "stream",
          "text": [
            "c:\\Users\\AMD\\AppData\\Local\\Programs\\Python\\Python310\\lib\\site-packages\\sklearn\\base.py:443: UserWarning: X has feature names, but SelectFromModel was fitted without feature names\n",
            "  warnings.warn(\n"
          ]
        },
        {
          "name": "stdout",
          "output_type": "stream",
          "text": [
            "Best accuracy is = 0.610347085789129, with criterion = entropy max_depth = None metrics and fetaure len = 6\n"
          ]
        },
        {
          "name": "stderr",
          "output_type": "stream",
          "text": [
            "c:\\Users\\AMD\\AppData\\Local\\Programs\\Python\\Python310\\lib\\site-packages\\sklearn\\base.py:443: UserWarning: X has feature names, but SelectFromModel was fitted without feature names\n",
            "  warnings.warn(\n"
          ]
        },
        {
          "name": "stdout",
          "output_type": "stream",
          "text": [
            "Best accuracy is = 0.6129666011787819, with criterion = entropy max_depth = 10 metrics and fetaure len = 7\n"
          ]
        },
        {
          "name": "stderr",
          "output_type": "stream",
          "text": [
            "c:\\Users\\AMD\\AppData\\Local\\Programs\\Python\\Python310\\lib\\site-packages\\sklearn\\base.py:443: UserWarning: X has feature names, but SelectFromModel was fitted without feature names\n",
            "  warnings.warn(\n"
          ]
        },
        {
          "name": "stdout",
          "output_type": "stream",
          "text": [
            "Best accuracy is = 0.6155861165684349, with criterion = entropy max_depth = 15 metrics and fetaure len = 8\n"
          ]
        },
        {
          "name": "stderr",
          "output_type": "stream",
          "text": [
            "c:\\Users\\AMD\\AppData\\Local\\Programs\\Python\\Python310\\lib\\site-packages\\sklearn\\base.py:443: UserWarning: X has feature names, but SelectFromModel was fitted without feature names\n",
            "  warnings.warn(\n"
          ]
        },
        {
          "name": "stdout",
          "output_type": "stream",
          "text": [
            "Best accuracy is = 0.6136214800261951, with criterion = entropy max_depth = 10 metrics and fetaure len = 9\n"
          ]
        },
        {
          "name": "stderr",
          "output_type": "stream",
          "text": [
            "c:\\Users\\AMD\\AppData\\Local\\Programs\\Python\\Python310\\lib\\site-packages\\sklearn\\base.py:443: UserWarning: X has feature names, but SelectFromModel was fitted without feature names\n",
            "  warnings.warn(\n"
          ]
        },
        {
          "name": "stdout",
          "output_type": "stream",
          "text": [
            "Best accuracy is = 0.6175507531106745, with criterion = entropy max_depth = 10 metrics and fetaure len = 10\n"
          ]
        },
        {
          "name": "stderr",
          "output_type": "stream",
          "text": [
            "c:\\Users\\AMD\\AppData\\Local\\Programs\\Python\\Python310\\lib\\site-packages\\sklearn\\base.py:443: UserWarning: X has feature names, but SelectFromModel was fitted without feature names\n",
            "  warnings.warn(\n"
          ]
        },
        {
          "name": "stdout",
          "output_type": "stream",
          "text": [
            "Best accuracy is = 0.6201702685003274, with criterion = entropy max_depth = 10 metrics and fetaure len = 11\n"
          ]
        },
        {
          "name": "stderr",
          "output_type": "stream",
          "text": [
            "c:\\Users\\AMD\\AppData\\Local\\Programs\\Python\\Python310\\lib\\site-packages\\sklearn\\base.py:443: UserWarning: X has feature names, but SelectFromModel was fitted without feature names\n",
            "  warnings.warn(\n"
          ]
        },
        {
          "name": "stdout",
          "output_type": "stream",
          "text": [
            "Best accuracy is = 0.6267190569744597, with criterion = gini max_depth = 10 metrics and fetaure len = 12\n"
          ]
        },
        {
          "name": "stderr",
          "output_type": "stream",
          "text": [
            "c:\\Users\\AMD\\AppData\\Local\\Programs\\Python\\Python310\\lib\\site-packages\\sklearn\\base.py:443: UserWarning: X has feature names, but SelectFromModel was fitted without feature names\n",
            "  warnings.warn(\n"
          ]
        },
        {
          "name": "stdout",
          "output_type": "stream",
          "text": [
            "Best accuracy is = 0.6358873608382449, with criterion = gini max_depth = 10 metrics and fetaure len = 13\n"
          ]
        },
        {
          "name": "stderr",
          "output_type": "stream",
          "text": [
            "c:\\Users\\AMD\\AppData\\Local\\Programs\\Python\\Python310\\lib\\site-packages\\sklearn\\base.py:443: UserWarning: X has feature names, but SelectFromModel was fitted without feature names\n",
            "  warnings.warn(\n"
          ]
        },
        {
          "name": "stdout",
          "output_type": "stream",
          "text": [
            "Best accuracy is = 0.6247544204322201, with criterion = entropy max_depth = 10 metrics and fetaure len = 14\n"
          ]
        },
        {
          "name": "stderr",
          "output_type": "stream",
          "text": [
            "c:\\Users\\AMD\\AppData\\Local\\Programs\\Python\\Python310\\lib\\site-packages\\sklearn\\base.py:443: UserWarning: X has feature names, but SelectFromModel was fitted without feature names\n",
            "  warnings.warn(\n"
          ]
        },
        {
          "name": "stdout",
          "output_type": "stream",
          "text": [
            "Best accuracy is = 0.6254092992796333, with criterion = entropy max_depth = 10 metrics and fetaure len = 15\n"
          ]
        },
        {
          "name": "stderr",
          "output_type": "stream",
          "text": [
            "c:\\Users\\AMD\\AppData\\Local\\Programs\\Python\\Python310\\lib\\site-packages\\sklearn\\base.py:443: UserWarning: X has feature names, but SelectFromModel was fitted without feature names\n",
            "  warnings.warn(\n"
          ]
        },
        {
          "name": "stdout",
          "output_type": "stream",
          "text": [
            "Best accuracy is = 0.6286836935166994, with criterion = gini max_depth = 10 metrics and fetaure len = 16\n"
          ]
        },
        {
          "name": "stderr",
          "output_type": "stream",
          "text": [
            "c:\\Users\\AMD\\AppData\\Local\\Programs\\Python\\Python310\\lib\\site-packages\\sklearn\\base.py:443: UserWarning: X has feature names, but SelectFromModel was fitted without feature names\n",
            "  warnings.warn(\n"
          ]
        },
        {
          "name": "stdout",
          "output_type": "stream",
          "text": [
            "Best accuracy is = 0.627373935821873, with criterion = entropy max_depth = 15 metrics and fetaure len = 17\n"
          ]
        },
        {
          "name": "stderr",
          "output_type": "stream",
          "text": [
            "c:\\Users\\AMD\\AppData\\Local\\Programs\\Python\\Python310\\lib\\site-packages\\sklearn\\base.py:443: UserWarning: X has feature names, but SelectFromModel was fitted without feature names\n",
            "  warnings.warn(\n"
          ]
        },
        {
          "name": "stdout",
          "output_type": "stream",
          "text": [
            "Best accuracy is = 0.6247544204322201, with criterion = entropy max_depth = 10 metrics and fetaure len = 18\n"
          ]
        },
        {
          "name": "stderr",
          "output_type": "stream",
          "text": [
            "c:\\Users\\AMD\\AppData\\Local\\Programs\\Python\\Python310\\lib\\site-packages\\sklearn\\base.py:443: UserWarning: X has feature names, but SelectFromModel was fitted without feature names\n",
            "  warnings.warn(\n"
          ]
        },
        {
          "name": "stdout",
          "output_type": "stream",
          "text": [
            "Best accuracy is = 0.6240995415848068, with criterion = gini max_depth = 10 metrics and fetaure len = 19\n"
          ]
        },
        {
          "name": "stderr",
          "output_type": "stream",
          "text": [
            "c:\\Users\\AMD\\AppData\\Local\\Programs\\Python\\Python310\\lib\\site-packages\\sklearn\\base.py:443: UserWarning: X has feature names, but SelectFromModel was fitted without feature names\n",
            "  warnings.warn(\n"
          ]
        },
        {
          "name": "stdout",
          "output_type": "stream",
          "text": [
            "Best accuracy is = 0.633267845448592, with criterion = entropy max_depth = 10 metrics and fetaure len = 20\n"
          ]
        },
        {
          "name": "stderr",
          "output_type": "stream",
          "text": [
            "c:\\Users\\AMD\\AppData\\Local\\Programs\\Python\\Python310\\lib\\site-packages\\sklearn\\base.py:443: UserWarning: X has feature names, but SelectFromModel was fitted without feature names\n",
            "  warnings.warn(\n"
          ]
        },
        {
          "name": "stdout",
          "output_type": "stream",
          "text": [
            "Best accuracy is = 0.6293385723641126, with criterion = gini max_depth = 10 metrics and fetaure len = 21\n"
          ]
        },
        {
          "name": "stderr",
          "output_type": "stream",
          "text": [
            "c:\\Users\\AMD\\AppData\\Local\\Programs\\Python\\Python310\\lib\\site-packages\\sklearn\\base.py:443: UserWarning: X has feature names, but SelectFromModel was fitted without feature names\n",
            "  warnings.warn(\n"
          ]
        },
        {
          "name": "stdout",
          "output_type": "stream",
          "text": [
            "Best accuracy is = 0.6313032089063523, with criterion = gini max_depth = 10 metrics and fetaure len = 22\n"
          ]
        },
        {
          "name": "stderr",
          "output_type": "stream",
          "text": [
            "c:\\Users\\AMD\\AppData\\Local\\Programs\\Python\\Python310\\lib\\site-packages\\sklearn\\base.py:443: UserWarning: X has feature names, but SelectFromModel was fitted without feature names\n",
            "  warnings.warn(\n"
          ]
        },
        {
          "name": "stdout",
          "output_type": "stream",
          "text": [
            "Best accuracy is = 0.630648330058939, with criterion = entropy max_depth = 15 metrics and fetaure len = 23\n"
          ]
        },
        {
          "name": "stderr",
          "output_type": "stream",
          "text": [
            "c:\\Users\\AMD\\AppData\\Local\\Programs\\Python\\Python310\\lib\\site-packages\\sklearn\\base.py:443: UserWarning: X has feature names, but SelectFromModel was fitted without feature names\n",
            "  warnings.warn(\n"
          ]
        },
        {
          "name": "stdout",
          "output_type": "stream",
          "text": [
            "Best accuracy is = 0.6345776031434185, with criterion = entropy max_depth = 10 metrics and fetaure len = 24\n"
          ]
        },
        {
          "name": "stderr",
          "output_type": "stream",
          "text": [
            "c:\\Users\\AMD\\AppData\\Local\\Programs\\Python\\Python310\\lib\\site-packages\\sklearn\\base.py:443: UserWarning: X has feature names, but SelectFromModel was fitted without feature names\n",
            "  warnings.warn(\n"
          ]
        },
        {
          "name": "stdout",
          "output_type": "stream",
          "text": [
            "Best accuracy is = 0.6371971185330714, with criterion = gini max_depth = 10 metrics and fetaure len = 25\n"
          ]
        },
        {
          "name": "stderr",
          "output_type": "stream",
          "text": [
            "c:\\Users\\AMD\\AppData\\Local\\Programs\\Python\\Python310\\lib\\site-packages\\sklearn\\base.py:443: UserWarning: X has feature names, but SelectFromModel was fitted without feature names\n",
            "  warnings.warn(\n"
          ]
        },
        {
          "name": "stdout",
          "output_type": "stream",
          "text": [
            "Best accuracy is = 0.633267845448592, with criterion = entropy max_depth = 10 metrics and fetaure len = 26\n"
          ]
        },
        {
          "name": "stderr",
          "output_type": "stream",
          "text": [
            "c:\\Users\\AMD\\AppData\\Local\\Programs\\Python\\Python310\\lib\\site-packages\\sklearn\\base.py:443: UserWarning: X has feature names, but SelectFromModel was fitted without feature names\n",
            "  warnings.warn(\n"
          ]
        },
        {
          "name": "stdout",
          "output_type": "stream",
          "text": [
            "Best accuracy is = 0.633267845448592, with criterion = entropy max_depth = 30 metrics and fetaure len = 27\n"
          ]
        },
        {
          "name": "stderr",
          "output_type": "stream",
          "text": [
            "c:\\Users\\AMD\\AppData\\Local\\Programs\\Python\\Python310\\lib\\site-packages\\sklearn\\base.py:443: UserWarning: X has feature names, but SelectFromModel was fitted without feature names\n",
            "  warnings.warn(\n"
          ]
        },
        {
          "name": "stdout",
          "output_type": "stream",
          "text": [
            "Best accuracy is = 0.6345776031434185, with criterion = gini max_depth = 15 metrics and fetaure len = 28\n"
          ]
        },
        {
          "name": "stderr",
          "output_type": "stream",
          "text": [
            "c:\\Users\\AMD\\AppData\\Local\\Programs\\Python\\Python310\\lib\\site-packages\\sklearn\\base.py:443: UserWarning: X has feature names, but SelectFromModel was fitted without feature names\n",
            "  warnings.warn(\n"
          ]
        },
        {
          "name": "stdout",
          "output_type": "stream",
          "text": [
            "Best accuracy is = 0.6326129666011788, with criterion = gini max_depth = 15 metrics and fetaure len = 29\n"
          ]
        },
        {
          "name": "stderr",
          "output_type": "stream",
          "text": [
            "c:\\Users\\AMD\\AppData\\Local\\Programs\\Python\\Python310\\lib\\site-packages\\sklearn\\base.py:443: UserWarning: X has feature names, but SelectFromModel was fitted without feature names\n",
            "  warnings.warn(\n"
          ]
        },
        {
          "name": "stdout",
          "output_type": "stream",
          "text": [
            "Best accuracy is = 0.6339227242960053, with criterion = entropy max_depth = 15 metrics and fetaure len = 30\n"
          ]
        },
        {
          "name": "stderr",
          "output_type": "stream",
          "text": [
            "c:\\Users\\AMD\\AppData\\Local\\Programs\\Python\\Python310\\lib\\site-packages\\sklearn\\base.py:443: UserWarning: X has feature names, but SelectFromModel was fitted without feature names\n",
            "  warnings.warn(\n"
          ]
        },
        {
          "name": "stdout",
          "output_type": "stream",
          "text": [
            "Best accuracy is = 0.6339227242960053, with criterion = entropy max_depth = 20 metrics and fetaure len = 31\n"
          ]
        },
        {
          "name": "stderr",
          "output_type": "stream",
          "text": [
            "c:\\Users\\AMD\\AppData\\Local\\Programs\\Python\\Python310\\lib\\site-packages\\sklearn\\base.py:443: UserWarning: X has feature names, but SelectFromModel was fitted without feature names\n",
            "  warnings.warn(\n"
          ]
        },
        {
          "name": "stdout",
          "output_type": "stream",
          "text": [
            "Best accuracy is = 0.6378519973804846, with criterion = gini max_depth = 25 metrics and fetaure len = 32\n"
          ]
        },
        {
          "name": "stderr",
          "output_type": "stream",
          "text": [
            "c:\\Users\\AMD\\AppData\\Local\\Programs\\Python\\Python310\\lib\\site-packages\\sklearn\\base.py:443: UserWarning: X has feature names, but SelectFromModel was fitted without feature names\n",
            "  warnings.warn(\n"
          ]
        },
        {
          "name": "stdout",
          "output_type": "stream",
          "text": [
            "Best accuracy is = 0.6437459070072037, with criterion = entropy max_depth = 20 metrics and fetaure len = 33\n"
          ]
        },
        {
          "name": "stderr",
          "output_type": "stream",
          "text": [
            "c:\\Users\\AMD\\AppData\\Local\\Programs\\Python\\Python310\\lib\\site-packages\\sklearn\\base.py:443: UserWarning: X has feature names, but SelectFromModel was fitted without feature names\n",
            "  warnings.warn(\n"
          ]
        },
        {
          "name": "stdout",
          "output_type": "stream",
          "text": [
            "Best accuracy is = 0.6430910281597905, with criterion = gini max_depth = 20 metrics and fetaure len = 34\n"
          ]
        },
        {
          "name": "stderr",
          "output_type": "stream",
          "text": [
            "c:\\Users\\AMD\\AppData\\Local\\Programs\\Python\\Python310\\lib\\site-packages\\sklearn\\base.py:443: UserWarning: X has feature names, but SelectFromModel was fitted without feature names\n",
            "  warnings.warn(\n"
          ]
        },
        {
          "name": "stdout",
          "output_type": "stream",
          "text": [
            "Best accuracy is = 0.6430910281597905, with criterion = gini max_depth = 15 metrics and fetaure len = 35\n"
          ]
        },
        {
          "name": "stderr",
          "output_type": "stream",
          "text": [
            "c:\\Users\\AMD\\AppData\\Local\\Programs\\Python\\Python310\\lib\\site-packages\\sklearn\\base.py:443: UserWarning: X has feature names, but SelectFromModel was fitted without feature names\n",
            "  warnings.warn(\n"
          ]
        },
        {
          "name": "stdout",
          "output_type": "stream",
          "text": [
            "Best accuracy is = 0.641781270464964, with criterion = gini max_depth = 15 metrics and fetaure len = 36\n"
          ]
        },
        {
          "name": "stderr",
          "output_type": "stream",
          "text": [
            "c:\\Users\\AMD\\AppData\\Local\\Programs\\Python\\Python310\\lib\\site-packages\\sklearn\\base.py:443: UserWarning: X has feature names, but SelectFromModel was fitted without feature names\n",
            "  warnings.warn(\n"
          ]
        },
        {
          "name": "stdout",
          "output_type": "stream",
          "text": [
            "Best accuracy is = 0.6339227242960053, with criterion = gini max_depth = 15 metrics and fetaure len = 37\n"
          ]
        },
        {
          "name": "stderr",
          "output_type": "stream",
          "text": [
            "c:\\Users\\AMD\\AppData\\Local\\Programs\\Python\\Python310\\lib\\site-packages\\sklearn\\base.py:443: UserWarning: X has feature names, but SelectFromModel was fitted without feature names\n",
            "  warnings.warn(\n"
          ]
        },
        {
          "name": "stdout",
          "output_type": "stream",
          "text": [
            "Best accuracy is = 0.6385068762278978, with criterion = entropy max_depth = 15 metrics and fetaure len = 38\n"
          ]
        },
        {
          "name": "stderr",
          "output_type": "stream",
          "text": [
            "c:\\Users\\AMD\\AppData\\Local\\Programs\\Python\\Python310\\lib\\site-packages\\sklearn\\base.py:443: UserWarning: X has feature names, but SelectFromModel was fitted without feature names\n",
            "  warnings.warn(\n"
          ]
        },
        {
          "name": "stdout",
          "output_type": "stream",
          "text": [
            "Best accuracy is = 0.6358873608382449, with criterion = entropy max_depth = None metrics and fetaure len = 39\n"
          ]
        },
        {
          "name": "stderr",
          "output_type": "stream",
          "text": [
            "c:\\Users\\AMD\\AppData\\Local\\Programs\\Python\\Python310\\lib\\site-packages\\sklearn\\base.py:443: UserWarning: X has feature names, but SelectFromModel was fitted without feature names\n",
            "  warnings.warn(\n"
          ]
        },
        {
          "name": "stdout",
          "output_type": "stream",
          "text": [
            "Best accuracy is = 0.6398166339227243, with criterion = gini max_depth = 30 metrics and fetaure len = 40\n"
          ]
        },
        {
          "name": "stderr",
          "output_type": "stream",
          "text": [
            "c:\\Users\\AMD\\AppData\\Local\\Programs\\Python\\Python310\\lib\\site-packages\\sklearn\\base.py:443: UserWarning: X has feature names, but SelectFromModel was fitted without feature names\n",
            "  warnings.warn(\n"
          ]
        },
        {
          "name": "stdout",
          "output_type": "stream",
          "text": [
            "Best accuracy is = 0.639161755075311, with criterion = gini max_depth = None metrics and fetaure len = 41\n"
          ]
        },
        {
          "name": "stderr",
          "output_type": "stream",
          "text": [
            "c:\\Users\\AMD\\AppData\\Local\\Programs\\Python\\Python310\\lib\\site-packages\\sklearn\\base.py:443: UserWarning: X has feature names, but SelectFromModel was fitted without feature names\n",
            "  warnings.warn(\n"
          ]
        },
        {
          "name": "stdout",
          "output_type": "stream",
          "text": [
            "Best accuracy is = 0.639161755075311, with criterion = gini max_depth = None metrics and fetaure len = 41\n"
          ]
        },
        {
          "name": "stderr",
          "output_type": "stream",
          "text": [
            "c:\\Users\\AMD\\AppData\\Local\\Programs\\Python\\Python310\\lib\\site-packages\\sklearn\\base.py:443: UserWarning: X has feature names, but SelectFromModel was fitted without feature names\n",
            "  warnings.warn(\n"
          ]
        },
        {
          "name": "stdout",
          "output_type": "stream",
          "text": [
            "Best accuracy is = 0.639161755075311, with criterion = gini max_depth = None metrics and fetaure len = 41\n"
          ]
        },
        {
          "name": "stderr",
          "output_type": "stream",
          "text": [
            "c:\\Users\\AMD\\AppData\\Local\\Programs\\Python\\Python310\\lib\\site-packages\\sklearn\\base.py:443: UserWarning: X has feature names, but SelectFromModel was fitted without feature names\n",
            "  warnings.warn(\n"
          ]
        },
        {
          "name": "stdout",
          "output_type": "stream",
          "text": [
            "Best accuracy is = 0.639161755075311, with criterion = gini max_depth = None metrics and fetaure len = 41\n"
          ]
        },
        {
          "name": "stderr",
          "output_type": "stream",
          "text": [
            "c:\\Users\\AMD\\AppData\\Local\\Programs\\Python\\Python310\\lib\\site-packages\\sklearn\\base.py:443: UserWarning: X has feature names, but SelectFromModel was fitted without feature names\n",
            "  warnings.warn(\n"
          ]
        },
        {
          "name": "stdout",
          "output_type": "stream",
          "text": [
            "Best accuracy is = 0.639161755075311, with criterion = gini max_depth = None metrics and fetaure len = 41\n"
          ]
        },
        {
          "name": "stderr",
          "output_type": "stream",
          "text": [
            "c:\\Users\\AMD\\AppData\\Local\\Programs\\Python\\Python310\\lib\\site-packages\\sklearn\\base.py:443: UserWarning: X has feature names, but SelectFromModel was fitted without feature names\n",
            "  warnings.warn(\n"
          ]
        },
        {
          "name": "stdout",
          "output_type": "stream",
          "text": [
            "Best accuracy is = 0.639161755075311, with criterion = gini max_depth = None metrics and fetaure len = 41\n"
          ]
        },
        {
          "name": "stderr",
          "output_type": "stream",
          "text": [
            "c:\\Users\\AMD\\AppData\\Local\\Programs\\Python\\Python310\\lib\\site-packages\\sklearn\\base.py:443: UserWarning: X has feature names, but SelectFromModel was fitted without feature names\n",
            "  warnings.warn(\n"
          ]
        },
        {
          "name": "stdout",
          "output_type": "stream",
          "text": [
            "Best accuracy is = 0.639161755075311, with criterion = gini max_depth = None metrics and fetaure len = 41\n"
          ]
        },
        {
          "name": "stderr",
          "output_type": "stream",
          "text": [
            "c:\\Users\\AMD\\AppData\\Local\\Programs\\Python\\Python310\\lib\\site-packages\\sklearn\\base.py:443: UserWarning: X has feature names, but SelectFromModel was fitted without feature names\n",
            "  warnings.warn(\n"
          ]
        },
        {
          "name": "stdout",
          "output_type": "stream",
          "text": [
            "Best accuracy is = 0.639161755075311, with criterion = gini max_depth = None metrics and fetaure len = 41\n"
          ]
        },
        {
          "name": "stderr",
          "output_type": "stream",
          "text": [
            "c:\\Users\\AMD\\AppData\\Local\\Programs\\Python\\Python310\\lib\\site-packages\\sklearn\\base.py:443: UserWarning: X has feature names, but SelectFromModel was fitted without feature names\n",
            "  warnings.warn(\n"
          ]
        },
        {
          "name": "stdout",
          "output_type": "stream",
          "text": [
            "Best accuracy is = 0.639161755075311, with criterion = gini max_depth = None metrics and fetaure len = 41\n"
          ]
        },
        {
          "name": "stderr",
          "output_type": "stream",
          "text": [
            "c:\\Users\\AMD\\AppData\\Local\\Programs\\Python\\Python310\\lib\\site-packages\\sklearn\\base.py:443: UserWarning: X has feature names, but SelectFromModel was fitted without feature names\n",
            "  warnings.warn(\n"
          ]
        },
        {
          "name": "stdout",
          "output_type": "stream",
          "text": [
            "Best accuracy is = 0.639161755075311, with criterion = gini max_depth = None metrics and fetaure len = 41\n"
          ]
        },
        {
          "name": "stderr",
          "output_type": "stream",
          "text": [
            "c:\\Users\\AMD\\AppData\\Local\\Programs\\Python\\Python310\\lib\\site-packages\\sklearn\\base.py:443: UserWarning: X has feature names, but SelectFromModel was fitted without feature names\n",
            "  warnings.warn(\n"
          ]
        },
        {
          "name": "stdout",
          "output_type": "stream",
          "text": [
            "Best accuracy is = 0.639161755075311, with criterion = gini max_depth = None metrics and fetaure len = 41\n"
          ]
        },
        {
          "name": "stderr",
          "output_type": "stream",
          "text": [
            "c:\\Users\\AMD\\AppData\\Local\\Programs\\Python\\Python310\\lib\\site-packages\\sklearn\\base.py:443: UserWarning: X has feature names, but SelectFromModel was fitted without feature names\n",
            "  warnings.warn(\n"
          ]
        },
        {
          "name": "stdout",
          "output_type": "stream",
          "text": [
            "Best accuracy is = 0.639161755075311, with criterion = gini max_depth = None metrics and fetaure len = 41\n"
          ]
        },
        {
          "name": "stderr",
          "output_type": "stream",
          "text": [
            "c:\\Users\\AMD\\AppData\\Local\\Programs\\Python\\Python310\\lib\\site-packages\\sklearn\\base.py:443: UserWarning: X has feature names, but SelectFromModel was fitted without feature names\n",
            "  warnings.warn(\n"
          ]
        },
        {
          "name": "stdout",
          "output_type": "stream",
          "text": [
            "Best accuracy is = 0.639161755075311, with criterion = gini max_depth = None metrics and fetaure len = 41\n"
          ]
        },
        {
          "name": "stderr",
          "output_type": "stream",
          "text": [
            "c:\\Users\\AMD\\AppData\\Local\\Programs\\Python\\Python310\\lib\\site-packages\\sklearn\\base.py:443: UserWarning: X has feature names, but SelectFromModel was fitted without feature names\n",
            "  warnings.warn(\n"
          ]
        },
        {
          "name": "stdout",
          "output_type": "stream",
          "text": [
            "Best accuracy is = 0.639161755075311, with criterion = gini max_depth = None metrics and fetaure len = 41\n"
          ]
        },
        {
          "name": "stderr",
          "output_type": "stream",
          "text": [
            "c:\\Users\\AMD\\AppData\\Local\\Programs\\Python\\Python310\\lib\\site-packages\\sklearn\\base.py:443: UserWarning: X has feature names, but SelectFromModel was fitted without feature names\n",
            "  warnings.warn(\n"
          ]
        },
        {
          "name": "stdout",
          "output_type": "stream",
          "text": [
            "Best accuracy is = 0.639161755075311, with criterion = gini max_depth = None metrics and fetaure len = 41\n"
          ]
        },
        {
          "name": "stderr",
          "output_type": "stream",
          "text": [
            "c:\\Users\\AMD\\AppData\\Local\\Programs\\Python\\Python310\\lib\\site-packages\\sklearn\\base.py:443: UserWarning: X has feature names, but SelectFromModel was fitted without feature names\n",
            "  warnings.warn(\n"
          ]
        },
        {
          "name": "stdout",
          "output_type": "stream",
          "text": [
            "Best accuracy is = 0.639161755075311, with criterion = gini max_depth = None metrics and fetaure len = 41\n"
          ]
        },
        {
          "name": "stderr",
          "output_type": "stream",
          "text": [
            "c:\\Users\\AMD\\AppData\\Local\\Programs\\Python\\Python310\\lib\\site-packages\\sklearn\\base.py:443: UserWarning: X has feature names, but SelectFromModel was fitted without feature names\n",
            "  warnings.warn(\n"
          ]
        },
        {
          "name": "stdout",
          "output_type": "stream",
          "text": [
            "Best accuracy is = 0.639161755075311, with criterion = gini max_depth = None metrics and fetaure len = 41\n"
          ]
        },
        {
          "name": "stderr",
          "output_type": "stream",
          "text": [
            "c:\\Users\\AMD\\AppData\\Local\\Programs\\Python\\Python310\\lib\\site-packages\\sklearn\\base.py:443: UserWarning: X has feature names, but SelectFromModel was fitted without feature names\n",
            "  warnings.warn(\n"
          ]
        },
        {
          "name": "stdout",
          "output_type": "stream",
          "text": [
            "Best accuracy is = 0.639161755075311, with criterion = gini max_depth = None metrics and fetaure len = 41\n"
          ]
        },
        {
          "name": "stderr",
          "output_type": "stream",
          "text": [
            "c:\\Users\\AMD\\AppData\\Local\\Programs\\Python\\Python310\\lib\\site-packages\\sklearn\\base.py:443: UserWarning: X has feature names, but SelectFromModel was fitted without feature names\n",
            "  warnings.warn(\n"
          ]
        },
        {
          "name": "stdout",
          "output_type": "stream",
          "text": [
            "Best accuracy is = 0.639161755075311, with criterion = gini max_depth = None metrics and fetaure len = 41\n"
          ]
        },
        {
          "name": "stderr",
          "output_type": "stream",
          "text": [
            "c:\\Users\\AMD\\AppData\\Local\\Programs\\Python\\Python310\\lib\\site-packages\\sklearn\\base.py:443: UserWarning: X has feature names, but SelectFromModel was fitted without feature names\n",
            "  warnings.warn(\n"
          ]
        },
        {
          "name": "stdout",
          "output_type": "stream",
          "text": [
            "Best accuracy is = 0.639161755075311, with criterion = gini max_depth = None metrics and fetaure len = 41\n"
          ]
        },
        {
          "name": "stderr",
          "output_type": "stream",
          "text": [
            "c:\\Users\\AMD\\AppData\\Local\\Programs\\Python\\Python310\\lib\\site-packages\\sklearn\\base.py:443: UserWarning: X has feature names, but SelectFromModel was fitted without feature names\n",
            "  warnings.warn(\n"
          ]
        },
        {
          "name": "stdout",
          "output_type": "stream",
          "text": [
            "Best accuracy is = 0.639161755075311, with criterion = gini max_depth = None metrics and fetaure len = 41\n"
          ]
        },
        {
          "name": "stderr",
          "output_type": "stream",
          "text": [
            "c:\\Users\\AMD\\AppData\\Local\\Programs\\Python\\Python310\\lib\\site-packages\\sklearn\\base.py:443: UserWarning: X has feature names, but SelectFromModel was fitted without feature names\n",
            "  warnings.warn(\n"
          ]
        },
        {
          "name": "stdout",
          "output_type": "stream",
          "text": [
            "Best accuracy is = 0.639161755075311, with criterion = gini max_depth = None metrics and fetaure len = 41\n"
          ]
        },
        {
          "name": "stderr",
          "output_type": "stream",
          "text": [
            "c:\\Users\\AMD\\AppData\\Local\\Programs\\Python\\Python310\\lib\\site-packages\\sklearn\\base.py:443: UserWarning: X has feature names, but SelectFromModel was fitted without feature names\n",
            "  warnings.warn(\n"
          ]
        },
        {
          "name": "stdout",
          "output_type": "stream",
          "text": [
            "Best accuracy is = 0.639161755075311, with criterion = gini max_depth = None metrics and fetaure len = 41\n"
          ]
        },
        {
          "name": "stderr",
          "output_type": "stream",
          "text": [
            "c:\\Users\\AMD\\AppData\\Local\\Programs\\Python\\Python310\\lib\\site-packages\\sklearn\\base.py:443: UserWarning: X has feature names, but SelectFromModel was fitted without feature names\n",
            "  warnings.warn(\n"
          ]
        },
        {
          "name": "stdout",
          "output_type": "stream",
          "text": [
            "Best accuracy is = 0.639161755075311, with criterion = gini max_depth = None metrics and fetaure len = 41\n"
          ]
        },
        {
          "name": "stderr",
          "output_type": "stream",
          "text": [
            "c:\\Users\\AMD\\AppData\\Local\\Programs\\Python\\Python310\\lib\\site-packages\\sklearn\\base.py:443: UserWarning: X has feature names, but SelectFromModel was fitted without feature names\n",
            "  warnings.warn(\n"
          ]
        },
        {
          "name": "stdout",
          "output_type": "stream",
          "text": [
            "Best accuracy is = 0.639161755075311, with criterion = gini max_depth = None metrics and fetaure len = 41\n"
          ]
        },
        {
          "name": "stderr",
          "output_type": "stream",
          "text": [
            "c:\\Users\\AMD\\AppData\\Local\\Programs\\Python\\Python310\\lib\\site-packages\\sklearn\\base.py:443: UserWarning: X has feature names, but SelectFromModel was fitted without feature names\n",
            "  warnings.warn(\n"
          ]
        },
        {
          "name": "stdout",
          "output_type": "stream",
          "text": [
            "Best accuracy is = 0.639161755075311, with criterion = gini max_depth = None metrics and fetaure len = 41\n"
          ]
        },
        {
          "name": "stderr",
          "output_type": "stream",
          "text": [
            "c:\\Users\\AMD\\AppData\\Local\\Programs\\Python\\Python310\\lib\\site-packages\\sklearn\\base.py:443: UserWarning: X has feature names, but SelectFromModel was fitted without feature names\n",
            "  warnings.warn(\n"
          ]
        },
        {
          "name": "stdout",
          "output_type": "stream",
          "text": [
            "Best accuracy is = 0.639161755075311, with criterion = gini max_depth = None metrics and fetaure len = 41\n"
          ]
        },
        {
          "name": "stderr",
          "output_type": "stream",
          "text": [
            "c:\\Users\\AMD\\AppData\\Local\\Programs\\Python\\Python310\\lib\\site-packages\\sklearn\\base.py:443: UserWarning: X has feature names, but SelectFromModel was fitted without feature names\n",
            "  warnings.warn(\n"
          ]
        },
        {
          "name": "stdout",
          "output_type": "stream",
          "text": [
            "Best accuracy is = 0.639161755075311, with criterion = gini max_depth = None metrics and fetaure len = 41\n"
          ]
        },
        {
          "name": "stderr",
          "output_type": "stream",
          "text": [
            "c:\\Users\\AMD\\AppData\\Local\\Programs\\Python\\Python310\\lib\\site-packages\\sklearn\\base.py:443: UserWarning: X has feature names, but SelectFromModel was fitted without feature names\n",
            "  warnings.warn(\n"
          ]
        },
        {
          "name": "stdout",
          "output_type": "stream",
          "text": [
            "Best accuracy is = 0.639161755075311, with criterion = gini max_depth = None metrics and fetaure len = 41\n"
          ]
        },
        {
          "name": "stderr",
          "output_type": "stream",
          "text": [
            "c:\\Users\\AMD\\AppData\\Local\\Programs\\Python\\Python310\\lib\\site-packages\\sklearn\\base.py:443: UserWarning: X has feature names, but SelectFromModel was fitted without feature names\n",
            "  warnings.warn(\n"
          ]
        },
        {
          "name": "stdout",
          "output_type": "stream",
          "text": [
            "Best accuracy is = 0.639161755075311, with criterion = gini max_depth = None metrics and fetaure len = 41\n"
          ]
        },
        {
          "name": "stderr",
          "output_type": "stream",
          "text": [
            "c:\\Users\\AMD\\AppData\\Local\\Programs\\Python\\Python310\\lib\\site-packages\\sklearn\\base.py:443: UserWarning: X has feature names, but SelectFromModel was fitted without feature names\n",
            "  warnings.warn(\n"
          ]
        },
        {
          "name": "stdout",
          "output_type": "stream",
          "text": [
            "Best accuracy is = 0.639161755075311, with criterion = gini max_depth = None metrics and fetaure len = 41\n"
          ]
        },
        {
          "name": "stderr",
          "output_type": "stream",
          "text": [
            "c:\\Users\\AMD\\AppData\\Local\\Programs\\Python\\Python310\\lib\\site-packages\\sklearn\\base.py:443: UserWarning: X has feature names, but SelectFromModel was fitted without feature names\n",
            "  warnings.warn(\n"
          ]
        },
        {
          "name": "stdout",
          "output_type": "stream",
          "text": [
            "Best accuracy is = 0.639161755075311, with criterion = gini max_depth = None metrics and fetaure len = 41\n"
          ]
        },
        {
          "name": "stderr",
          "output_type": "stream",
          "text": [
            "c:\\Users\\AMD\\AppData\\Local\\Programs\\Python\\Python310\\lib\\site-packages\\sklearn\\base.py:443: UserWarning: X has feature names, but SelectFromModel was fitted without feature names\n",
            "  warnings.warn(\n"
          ]
        },
        {
          "name": "stdout",
          "output_type": "stream",
          "text": [
            "Best accuracy is = 0.639161755075311, with criterion = gini max_depth = None metrics and fetaure len = 41\n"
          ]
        },
        {
          "name": "stderr",
          "output_type": "stream",
          "text": [
            "c:\\Users\\AMD\\AppData\\Local\\Programs\\Python\\Python310\\lib\\site-packages\\sklearn\\base.py:443: UserWarning: X has feature names, but SelectFromModel was fitted without feature names\n",
            "  warnings.warn(\n"
          ]
        },
        {
          "name": "stdout",
          "output_type": "stream",
          "text": [
            "Best accuracy is = 0.639161755075311, with criterion = gini max_depth = None metrics and fetaure len = 41\n"
          ]
        },
        {
          "name": "stderr",
          "output_type": "stream",
          "text": [
            "c:\\Users\\AMD\\AppData\\Local\\Programs\\Python\\Python310\\lib\\site-packages\\sklearn\\base.py:443: UserWarning: X has feature names, but SelectFromModel was fitted without feature names\n",
            "  warnings.warn(\n"
          ]
        },
        {
          "name": "stdout",
          "output_type": "stream",
          "text": [
            "Best accuracy is = 0.527177472167649, with criterion = entropy max_depth = None metrics and fetaure len = 1\n"
          ]
        },
        {
          "name": "stderr",
          "output_type": "stream",
          "text": [
            "c:\\Users\\AMD\\AppData\\Local\\Programs\\Python\\Python310\\lib\\site-packages\\sklearn\\base.py:443: UserWarning: X has feature names, but SelectFromModel was fitted without feature names\n",
            "  warnings.warn(\n"
          ]
        },
        {
          "name": "stdout",
          "output_type": "stream",
          "text": [
            "Best accuracy is = 0.5330713817943681, with criterion = entropy max_depth = None metrics and fetaure len = 2\n"
          ]
        },
        {
          "name": "stderr",
          "output_type": "stream",
          "text": [
            "c:\\Users\\AMD\\AppData\\Local\\Programs\\Python\\Python310\\lib\\site-packages\\sklearn\\base.py:443: UserWarning: X has feature names, but SelectFromModel was fitted without feature names\n",
            "  warnings.warn(\n"
          ]
        },
        {
          "name": "stdout",
          "output_type": "stream",
          "text": [
            "Best accuracy is = 0.5514079895219385, with criterion = entropy max_depth = None metrics and fetaure len = 3\n"
          ]
        },
        {
          "name": "stderr",
          "output_type": "stream",
          "text": [
            "c:\\Users\\AMD\\AppData\\Local\\Programs\\Python\\Python310\\lib\\site-packages\\sklearn\\base.py:443: UserWarning: X has feature names, but SelectFromModel was fitted without feature names\n",
            "  warnings.warn(\n"
          ]
        },
        {
          "name": "stdout",
          "output_type": "stream",
          "text": [
            "Best accuracy is = 0.587426326129666, with criterion = entropy max_depth = None metrics and fetaure len = 4\n"
          ]
        },
        {
          "name": "stderr",
          "output_type": "stream",
          "text": [
            "c:\\Users\\AMD\\AppData\\Local\\Programs\\Python\\Python310\\lib\\site-packages\\sklearn\\base.py:443: UserWarning: X has feature names, but SelectFromModel was fitted without feature names\n",
            "  warnings.warn(\n"
          ]
        },
        {
          "name": "stdout",
          "output_type": "stream",
          "text": [
            "Best accuracy is = 0.5952848722986247, with criterion = gini max_depth = 5 metrics and fetaure len = 5\n"
          ]
        },
        {
          "name": "stderr",
          "output_type": "stream",
          "text": [
            "c:\\Users\\AMD\\AppData\\Local\\Programs\\Python\\Python310\\lib\\site-packages\\sklearn\\base.py:443: UserWarning: X has feature names, but SelectFromModel was fitted without feature names\n",
            "  warnings.warn(\n"
          ]
        },
        {
          "name": "stdout",
          "output_type": "stream",
          "text": [
            "Best accuracy is = 0.5952848722986247, with criterion = gini max_depth = None metrics and fetaure len = 6\n"
          ]
        },
        {
          "name": "stderr",
          "output_type": "stream",
          "text": [
            "c:\\Users\\AMD\\AppData\\Local\\Programs\\Python\\Python310\\lib\\site-packages\\sklearn\\base.py:443: UserWarning: X has feature names, but SelectFromModel was fitted without feature names\n",
            "  warnings.warn(\n"
          ]
        },
        {
          "name": "stdout",
          "output_type": "stream",
          "text": [
            "Best accuracy is = 0.6129666011787819, with criterion = entropy max_depth = 10 metrics and fetaure len = 7\n"
          ]
        },
        {
          "name": "stderr",
          "output_type": "stream",
          "text": [
            "c:\\Users\\AMD\\AppData\\Local\\Programs\\Python\\Python310\\lib\\site-packages\\sklearn\\base.py:443: UserWarning: X has feature names, but SelectFromModel was fitted without feature names\n",
            "  warnings.warn(\n"
          ]
        },
        {
          "name": "stdout",
          "output_type": "stream",
          "text": [
            "Best accuracy is = 0.6136214800261951, with criterion = entropy max_depth = None metrics and fetaure len = 8\n"
          ]
        },
        {
          "name": "stderr",
          "output_type": "stream",
          "text": [
            "c:\\Users\\AMD\\AppData\\Local\\Programs\\Python\\Python310\\lib\\site-packages\\sklearn\\base.py:443: UserWarning: X has feature names, but SelectFromModel was fitted without feature names\n",
            "  warnings.warn(\n"
          ]
        },
        {
          "name": "stdout",
          "output_type": "stream",
          "text": [
            "Best accuracy is = 0.6057629338572365, with criterion = entropy max_depth = 5 metrics and fetaure len = 9\n"
          ]
        },
        {
          "name": "stderr",
          "output_type": "stream",
          "text": [
            "c:\\Users\\AMD\\AppData\\Local\\Programs\\Python\\Python310\\lib\\site-packages\\sklearn\\base.py:443: UserWarning: X has feature names, but SelectFromModel was fitted without feature names\n",
            "  warnings.warn(\n"
          ]
        },
        {
          "name": "stdout",
          "output_type": "stream",
          "text": [
            "Best accuracy is = 0.610347085789129, with criterion = entropy max_depth = 10 metrics and fetaure len = 10\n"
          ]
        },
        {
          "name": "stderr",
          "output_type": "stream",
          "text": [
            "c:\\Users\\AMD\\AppData\\Local\\Programs\\Python\\Python310\\lib\\site-packages\\sklearn\\base.py:443: UserWarning: X has feature names, but SelectFromModel was fitted without feature names\n",
            "  warnings.warn(\n"
          ]
        },
        {
          "name": "stdout",
          "output_type": "stream",
          "text": [
            "Best accuracy is = 0.6149312377210217, with criterion = gini max_depth = 10 metrics and fetaure len = 11\n"
          ]
        },
        {
          "name": "stderr",
          "output_type": "stream",
          "text": [
            "c:\\Users\\AMD\\AppData\\Local\\Programs\\Python\\Python310\\lib\\site-packages\\sklearn\\base.py:443: UserWarning: X has feature names, but SelectFromModel was fitted without feature names\n",
            "  warnings.warn(\n"
          ]
        },
        {
          "name": "stdout",
          "output_type": "stream",
          "text": [
            "Best accuracy is = 0.618860510805501, with criterion = entropy max_depth = 10 metrics and fetaure len = 12\n"
          ]
        },
        {
          "name": "stderr",
          "output_type": "stream",
          "text": [
            "c:\\Users\\AMD\\AppData\\Local\\Programs\\Python\\Python310\\lib\\site-packages\\sklearn\\base.py:443: UserWarning: X has feature names, but SelectFromModel was fitted without feature names\n",
            "  warnings.warn(\n"
          ]
        },
        {
          "name": "stdout",
          "output_type": "stream",
          "text": [
            "Best accuracy is = 0.6195153896529142, with criterion = entropy max_depth = 10 metrics and fetaure len = 13\n"
          ]
        },
        {
          "name": "stderr",
          "output_type": "stream",
          "text": [
            "c:\\Users\\AMD\\AppData\\Local\\Programs\\Python\\Python310\\lib\\site-packages\\sklearn\\base.py:443: UserWarning: X has feature names, but SelectFromModel was fitted without feature names\n",
            "  warnings.warn(\n"
          ]
        },
        {
          "name": "stdout",
          "output_type": "stream",
          "text": [
            "Best accuracy is = 0.6293385723641126, with criterion = entropy max_depth = 10 metrics and fetaure len = 14\n"
          ]
        },
        {
          "name": "stderr",
          "output_type": "stream",
          "text": [
            "c:\\Users\\AMD\\AppData\\Local\\Programs\\Python\\Python310\\lib\\site-packages\\sklearn\\base.py:443: UserWarning: X has feature names, but SelectFromModel was fitted without feature names\n",
            "  warnings.warn(\n"
          ]
        },
        {
          "name": "stdout",
          "output_type": "stream",
          "text": [
            "Best accuracy is = 0.6234446627373936, with criterion = entropy max_depth = 10 metrics and fetaure len = 15\n"
          ]
        },
        {
          "name": "stderr",
          "output_type": "stream",
          "text": [
            "c:\\Users\\AMD\\AppData\\Local\\Programs\\Python\\Python310\\lib\\site-packages\\sklearn\\base.py:443: UserWarning: X has feature names, but SelectFromModel was fitted without feature names\n",
            "  warnings.warn(\n"
          ]
        },
        {
          "name": "stdout",
          "output_type": "stream",
          "text": [
            "Best accuracy is = 0.6247544204322201, with criterion = entropy max_depth = 10 metrics and fetaure len = 16\n"
          ]
        },
        {
          "name": "stderr",
          "output_type": "stream",
          "text": [
            "c:\\Users\\AMD\\AppData\\Local\\Programs\\Python\\Python310\\lib\\site-packages\\sklearn\\base.py:443: UserWarning: X has feature names, but SelectFromModel was fitted without feature names\n",
            "  warnings.warn(\n"
          ]
        },
        {
          "name": "stdout",
          "output_type": "stream",
          "text": [
            "Best accuracy is = 0.6162409954158481, with criterion = entropy max_depth = 10 metrics and fetaure len = 17\n"
          ]
        },
        {
          "name": "stderr",
          "output_type": "stream",
          "text": [
            "c:\\Users\\AMD\\AppData\\Local\\Programs\\Python\\Python310\\lib\\site-packages\\sklearn\\base.py:443: UserWarning: X has feature names, but SelectFromModel was fitted without feature names\n",
            "  warnings.warn(\n"
          ]
        },
        {
          "name": "stdout",
          "output_type": "stream",
          "text": [
            "Best accuracy is = 0.6208251473477406, with criterion = entropy max_depth = 10 metrics and fetaure len = 18\n"
          ]
        },
        {
          "name": "stderr",
          "output_type": "stream",
          "text": [
            "c:\\Users\\AMD\\AppData\\Local\\Programs\\Python\\Python310\\lib\\site-packages\\sklearn\\base.py:443: UserWarning: X has feature names, but SelectFromModel was fitted without feature names\n",
            "  warnings.warn(\n"
          ]
        },
        {
          "name": "stdout",
          "output_type": "stream",
          "text": [
            "Best accuracy is = 0.6293385723641126, with criterion = entropy max_depth = 10 metrics and fetaure len = 19\n"
          ]
        },
        {
          "name": "stderr",
          "output_type": "stream",
          "text": [
            "c:\\Users\\AMD\\AppData\\Local\\Programs\\Python\\Python310\\lib\\site-packages\\sklearn\\base.py:443: UserWarning: X has feature names, but SelectFromModel was fitted without feature names\n",
            "  warnings.warn(\n"
          ]
        },
        {
          "name": "stdout",
          "output_type": "stream",
          "text": [
            "Best accuracy is = 0.6286836935166994, with criterion = gini max_depth = 15 metrics and fetaure len = 20\n"
          ]
        },
        {
          "name": "stderr",
          "output_type": "stream",
          "text": [
            "c:\\Users\\AMD\\AppData\\Local\\Programs\\Python\\Python310\\lib\\site-packages\\sklearn\\base.py:443: UserWarning: X has feature names, but SelectFromModel was fitted without feature names\n",
            "  warnings.warn(\n"
          ]
        },
        {
          "name": "stdout",
          "output_type": "stream",
          "text": [
            "Best accuracy is = 0.6201702685003274, with criterion = gini max_depth = 15 metrics and fetaure len = 21\n"
          ]
        },
        {
          "name": "stderr",
          "output_type": "stream",
          "text": [
            "c:\\Users\\AMD\\AppData\\Local\\Programs\\Python\\Python310\\lib\\site-packages\\sklearn\\base.py:443: UserWarning: X has feature names, but SelectFromModel was fitted without feature names\n",
            "  warnings.warn(\n"
          ]
        },
        {
          "name": "stdout",
          "output_type": "stream",
          "text": [
            "Best accuracy is = 0.6227897838899804, with criterion = entropy max_depth = 15 metrics and fetaure len = 22\n"
          ]
        },
        {
          "name": "stderr",
          "output_type": "stream",
          "text": [
            "c:\\Users\\AMD\\AppData\\Local\\Programs\\Python\\Python310\\lib\\site-packages\\sklearn\\base.py:443: UserWarning: X has feature names, but SelectFromModel was fitted without feature names\n",
            "  warnings.warn(\n"
          ]
        },
        {
          "name": "stdout",
          "output_type": "stream",
          "text": [
            "Best accuracy is = 0.6240995415848068, with criterion = entropy max_depth = 15 metrics and fetaure len = 23\n"
          ]
        },
        {
          "name": "stderr",
          "output_type": "stream",
          "text": [
            "c:\\Users\\AMD\\AppData\\Local\\Programs\\Python\\Python310\\lib\\site-packages\\sklearn\\base.py:443: UserWarning: X has feature names, but SelectFromModel was fitted without feature names\n",
            "  warnings.warn(\n"
          ]
        },
        {
          "name": "stdout",
          "output_type": "stream",
          "text": [
            "Best accuracy is = 0.627373935821873, with criterion = entropy max_depth = 20 metrics and fetaure len = 24\n"
          ]
        },
        {
          "name": "stderr",
          "output_type": "stream",
          "text": [
            "c:\\Users\\AMD\\AppData\\Local\\Programs\\Python\\Python310\\lib\\site-packages\\sklearn\\base.py:443: UserWarning: X has feature names, but SelectFromModel was fitted without feature names\n",
            "  warnings.warn(\n"
          ]
        },
        {
          "name": "stdout",
          "output_type": "stream",
          "text": [
            "Best accuracy is = 0.6286836935166994, with criterion = entropy max_depth = 15 metrics and fetaure len = 25\n"
          ]
        },
        {
          "name": "stderr",
          "output_type": "stream",
          "text": [
            "c:\\Users\\AMD\\AppData\\Local\\Programs\\Python\\Python310\\lib\\site-packages\\sklearn\\base.py:443: UserWarning: X has feature names, but SelectFromModel was fitted without feature names\n",
            "  warnings.warn(\n"
          ]
        },
        {
          "name": "stdout",
          "output_type": "stream",
          "text": [
            "Best accuracy is = 0.6358873608382449, with criterion = entropy max_depth = 25 metrics and fetaure len = 26\n"
          ]
        },
        {
          "name": "stderr",
          "output_type": "stream",
          "text": [
            "c:\\Users\\AMD\\AppData\\Local\\Programs\\Python\\Python310\\lib\\site-packages\\sklearn\\base.py:443: UserWarning: X has feature names, but SelectFromModel was fitted without feature names\n",
            "  warnings.warn(\n"
          ]
        },
        {
          "name": "stdout",
          "output_type": "stream",
          "text": [
            "Best accuracy is = 0.630648330058939, with criterion = entropy max_depth = 15 metrics and fetaure len = 27\n"
          ]
        },
        {
          "name": "stderr",
          "output_type": "stream",
          "text": [
            "c:\\Users\\AMD\\AppData\\Local\\Programs\\Python\\Python310\\lib\\site-packages\\sklearn\\base.py:443: UserWarning: X has feature names, but SelectFromModel was fitted without feature names\n",
            "  warnings.warn(\n"
          ]
        },
        {
          "name": "stdout",
          "output_type": "stream",
          "text": [
            "Best accuracy is = 0.6319580877537656, with criterion = entropy max_depth = 25 metrics and fetaure len = 28\n"
          ]
        },
        {
          "name": "stderr",
          "output_type": "stream",
          "text": [
            "c:\\Users\\AMD\\AppData\\Local\\Programs\\Python\\Python310\\lib\\site-packages\\sklearn\\base.py:443: UserWarning: X has feature names, but SelectFromModel was fitted without feature names\n",
            "  warnings.warn(\n"
          ]
        },
        {
          "name": "stdout",
          "output_type": "stream",
          "text": [
            "Best accuracy is = 0.6365422396856582, with criterion = entropy max_depth = 20 metrics and fetaure len = 29\n"
          ]
        },
        {
          "name": "stderr",
          "output_type": "stream",
          "text": [
            "c:\\Users\\AMD\\AppData\\Local\\Programs\\Python\\Python310\\lib\\site-packages\\sklearn\\base.py:443: UserWarning: X has feature names, but SelectFromModel was fitted without feature names\n",
            "  warnings.warn(\n"
          ]
        },
        {
          "name": "stdout",
          "output_type": "stream",
          "text": [
            "Best accuracy is = 0.6352324819908317, with criterion = entropy max_depth = 20 metrics and fetaure len = 30\n"
          ]
        },
        {
          "name": "stderr",
          "output_type": "stream",
          "text": [
            "c:\\Users\\AMD\\AppData\\Local\\Programs\\Python\\Python310\\lib\\site-packages\\sklearn\\base.py:443: UserWarning: X has feature names, but SelectFromModel was fitted without feature names\n",
            "  warnings.warn(\n"
          ]
        },
        {
          "name": "stdout",
          "output_type": "stream",
          "text": [
            "Best accuracy is = 0.6398166339227243, with criterion = gini max_depth = 15 metrics and fetaure len = 31\n"
          ]
        },
        {
          "name": "stderr",
          "output_type": "stream",
          "text": [
            "c:\\Users\\AMD\\AppData\\Local\\Programs\\Python\\Python310\\lib\\site-packages\\sklearn\\base.py:443: UserWarning: X has feature names, but SelectFromModel was fitted without feature names\n",
            "  warnings.warn(\n"
          ]
        },
        {
          "name": "stdout",
          "output_type": "stream",
          "text": [
            "Best accuracy is = 0.6371971185330714, with criterion = gini max_depth = 15 metrics and fetaure len = 32\n"
          ]
        },
        {
          "name": "stderr",
          "output_type": "stream",
          "text": [
            "c:\\Users\\AMD\\AppData\\Local\\Programs\\Python\\Python310\\lib\\site-packages\\sklearn\\base.py:443: UserWarning: X has feature names, but SelectFromModel was fitted without feature names\n",
            "  warnings.warn(\n"
          ]
        },
        {
          "name": "stdout",
          "output_type": "stream",
          "text": [
            "Best accuracy is = 0.6437459070072037, with criterion = gini max_depth = 15 metrics and fetaure len = 33\n"
          ]
        },
        {
          "name": "stderr",
          "output_type": "stream",
          "text": [
            "c:\\Users\\AMD\\AppData\\Local\\Programs\\Python\\Python310\\lib\\site-packages\\sklearn\\base.py:443: UserWarning: X has feature names, but SelectFromModel was fitted without feature names\n",
            "  warnings.warn(\n"
          ]
        },
        {
          "name": "stdout",
          "output_type": "stream",
          "text": [
            "Best accuracy is = 0.6371971185330714, with criterion = gini max_depth = None metrics and fetaure len = 34\n"
          ]
        },
        {
          "name": "stderr",
          "output_type": "stream",
          "text": [
            "c:\\Users\\AMD\\AppData\\Local\\Programs\\Python\\Python310\\lib\\site-packages\\sklearn\\base.py:443: UserWarning: X has feature names, but SelectFromModel was fitted without feature names\n",
            "  warnings.warn(\n"
          ]
        },
        {
          "name": "stdout",
          "output_type": "stream",
          "text": [
            "Best accuracy is = 0.6319580877537656, with criterion = entropy max_depth = 15 metrics and fetaure len = 35\n"
          ]
        },
        {
          "name": "stderr",
          "output_type": "stream",
          "text": [
            "c:\\Users\\AMD\\AppData\\Local\\Programs\\Python\\Python310\\lib\\site-packages\\sklearn\\base.py:443: UserWarning: X has feature names, but SelectFromModel was fitted without feature names\n",
            "  warnings.warn(\n"
          ]
        },
        {
          "name": "stdout",
          "output_type": "stream",
          "text": [
            "Best accuracy is = 0.6339227242960053, with criterion = gini max_depth = 25 metrics and fetaure len = 36\n"
          ]
        },
        {
          "name": "stderr",
          "output_type": "stream",
          "text": [
            "c:\\Users\\AMD\\AppData\\Local\\Programs\\Python\\Python310\\lib\\site-packages\\sklearn\\base.py:443: UserWarning: X has feature names, but SelectFromModel was fitted without feature names\n",
            "  warnings.warn(\n"
          ]
        },
        {
          "name": "stdout",
          "output_type": "stream",
          "text": [
            "Best accuracy is = 0.6345776031434185, with criterion = entropy max_depth = 30 metrics and fetaure len = 37\n"
          ]
        },
        {
          "name": "stderr",
          "output_type": "stream",
          "text": [
            "c:\\Users\\AMD\\AppData\\Local\\Programs\\Python\\Python310\\lib\\site-packages\\sklearn\\base.py:443: UserWarning: X has feature names, but SelectFromModel was fitted without feature names\n",
            "  warnings.warn(\n"
          ]
        },
        {
          "name": "stdout",
          "output_type": "stream",
          "text": [
            "Best accuracy is = 0.6319580877537656, with criterion = entropy max_depth = 25 metrics and fetaure len = 38\n"
          ]
        },
        {
          "name": "stderr",
          "output_type": "stream",
          "text": [
            "c:\\Users\\AMD\\AppData\\Local\\Programs\\Python\\Python310\\lib\\site-packages\\sklearn\\base.py:443: UserWarning: X has feature names, but SelectFromModel was fitted without feature names\n",
            "  warnings.warn(\n"
          ]
        },
        {
          "name": "stdout",
          "output_type": "stream",
          "text": [
            "Best accuracy is = 0.6378519973804846, with criterion = gini max_depth = 35 metrics and fetaure len = 39\n"
          ]
        },
        {
          "name": "stderr",
          "output_type": "stream",
          "text": [
            "c:\\Users\\AMD\\AppData\\Local\\Programs\\Python\\Python310\\lib\\site-packages\\sklearn\\base.py:443: UserWarning: X has feature names, but SelectFromModel was fitted without feature names\n",
            "  warnings.warn(\n"
          ]
        },
        {
          "name": "stdout",
          "output_type": "stream",
          "text": [
            "Best accuracy is = 0.633267845448592, with criterion = gini max_depth = 25 metrics and fetaure len = 40\n"
          ]
        },
        {
          "name": "stderr",
          "output_type": "stream",
          "text": [
            "c:\\Users\\AMD\\AppData\\Local\\Programs\\Python\\Python310\\lib\\site-packages\\sklearn\\base.py:443: UserWarning: X has feature names, but SelectFromModel was fitted without feature names\n",
            "  warnings.warn(\n"
          ]
        },
        {
          "name": "stdout",
          "output_type": "stream",
          "text": [
            "Best accuracy is = 0.6365422396856582, with criterion = entropy max_depth = 15 metrics and fetaure len = 41\n"
          ]
        },
        {
          "name": "stderr",
          "output_type": "stream",
          "text": [
            "c:\\Users\\AMD\\AppData\\Local\\Programs\\Python\\Python310\\lib\\site-packages\\sklearn\\base.py:443: UserWarning: X has feature names, but SelectFromModel was fitted without feature names\n",
            "  warnings.warn(\n"
          ]
        },
        {
          "name": "stdout",
          "output_type": "stream",
          "text": [
            "Best accuracy is = 0.6371971185330714, with criterion = gini max_depth = 30 metrics and fetaure len = 42\n"
          ]
        },
        {
          "name": "stderr",
          "output_type": "stream",
          "text": [
            "c:\\Users\\AMD\\AppData\\Local\\Programs\\Python\\Python310\\lib\\site-packages\\sklearn\\base.py:443: UserWarning: X has feature names, but SelectFromModel was fitted without feature names\n",
            "  warnings.warn(\n"
          ]
        },
        {
          "name": "stdout",
          "output_type": "stream",
          "text": [
            "Best accuracy is = 0.6313032089063523, with criterion = entropy max_depth = 20 metrics and fetaure len = 43\n"
          ]
        },
        {
          "name": "stderr",
          "output_type": "stream",
          "text": [
            "c:\\Users\\AMD\\AppData\\Local\\Programs\\Python\\Python310\\lib\\site-packages\\sklearn\\base.py:443: UserWarning: X has feature names, but SelectFromModel was fitted without feature names\n",
            "  warnings.warn(\n"
          ]
        },
        {
          "name": "stdout",
          "output_type": "stream",
          "text": [
            "Best accuracy is = 0.6358873608382449, with criterion = entropy max_depth = 15 metrics and fetaure len = 44\n"
          ]
        },
        {
          "name": "stderr",
          "output_type": "stream",
          "text": [
            "c:\\Users\\AMD\\AppData\\Local\\Programs\\Python\\Python310\\lib\\site-packages\\sklearn\\base.py:443: UserWarning: X has feature names, but SelectFromModel was fitted without feature names\n",
            "  warnings.warn(\n"
          ]
        },
        {
          "name": "stdout",
          "output_type": "stream",
          "text": [
            "Best accuracy is = 0.6313032089063523, with criterion = gini max_depth = 15 metrics and fetaure len = 45\n"
          ]
        },
        {
          "name": "stderr",
          "output_type": "stream",
          "text": [
            "c:\\Users\\AMD\\AppData\\Local\\Programs\\Python\\Python310\\lib\\site-packages\\sklearn\\base.py:443: UserWarning: X has feature names, but SelectFromModel was fitted without feature names\n",
            "  warnings.warn(\n"
          ]
        },
        {
          "name": "stdout",
          "output_type": "stream",
          "text": [
            "Best accuracy is = 0.6267190569744597, with criterion = gini max_depth = 15 metrics and fetaure len = 46\n"
          ]
        },
        {
          "name": "stderr",
          "output_type": "stream",
          "text": [
            "c:\\Users\\AMD\\AppData\\Local\\Programs\\Python\\Python310\\lib\\site-packages\\sklearn\\base.py:443: UserWarning: X has feature names, but SelectFromModel was fitted without feature names\n",
            "  warnings.warn(\n"
          ]
        },
        {
          "name": "stdout",
          "output_type": "stream",
          "text": [
            "Best accuracy is = 0.6280288146692862, with criterion = entropy max_depth = 15 metrics and fetaure len = 47\n"
          ]
        },
        {
          "name": "stderr",
          "output_type": "stream",
          "text": [
            "c:\\Users\\AMD\\AppData\\Local\\Programs\\Python\\Python310\\lib\\site-packages\\sklearn\\base.py:443: UserWarning: X has feature names, but SelectFromModel was fitted without feature names\n",
            "  warnings.warn(\n"
          ]
        },
        {
          "name": "stdout",
          "output_type": "stream",
          "text": [
            "Best accuracy is = 0.6326129666011788, with criterion = gini max_depth = 40 metrics and fetaure len = 48\n"
          ]
        },
        {
          "name": "stderr",
          "output_type": "stream",
          "text": [
            "c:\\Users\\AMD\\AppData\\Local\\Programs\\Python\\Python310\\lib\\site-packages\\sklearn\\base.py:443: UserWarning: X has feature names, but SelectFromModel was fitted without feature names\n",
            "  warnings.warn(\n"
          ]
        },
        {
          "name": "stdout",
          "output_type": "stream",
          "text": [
            "Best accuracy is = 0.6313032089063523, with criterion = entropy max_depth = 25 metrics and fetaure len = 49\n"
          ]
        },
        {
          "name": "stderr",
          "output_type": "stream",
          "text": [
            "c:\\Users\\AMD\\AppData\\Local\\Programs\\Python\\Python310\\lib\\site-packages\\sklearn\\base.py:443: UserWarning: X has feature names, but SelectFromModel was fitted without feature names\n",
            "  warnings.warn(\n"
          ]
        },
        {
          "name": "stdout",
          "output_type": "stream",
          "text": [
            "Best accuracy is = 0.6352324819908317, with criterion = gini max_depth = 15 metrics and fetaure len = 50\n"
          ]
        },
        {
          "name": "stderr",
          "output_type": "stream",
          "text": [
            "c:\\Users\\AMD\\AppData\\Local\\Programs\\Python\\Python310\\lib\\site-packages\\sklearn\\base.py:443: UserWarning: X has feature names, but SelectFromModel was fitted without feature names\n",
            "  warnings.warn(\n"
          ]
        },
        {
          "name": "stdout",
          "output_type": "stream",
          "text": [
            "Best accuracy is = 0.6358873608382449, with criterion = gini max_depth = 25 metrics and fetaure len = 51\n"
          ]
        },
        {
          "name": "stderr",
          "output_type": "stream",
          "text": [
            "c:\\Users\\AMD\\AppData\\Local\\Programs\\Python\\Python310\\lib\\site-packages\\sklearn\\base.py:443: UserWarning: X has feature names, but SelectFromModel was fitted without feature names\n",
            "  warnings.warn(\n"
          ]
        },
        {
          "name": "stdout",
          "output_type": "stream",
          "text": [
            "Best accuracy is = 0.633267845448592, with criterion = entropy max_depth = 15 metrics and fetaure len = 52\n"
          ]
        },
        {
          "name": "stderr",
          "output_type": "stream",
          "text": [
            "c:\\Users\\AMD\\AppData\\Local\\Programs\\Python\\Python310\\lib\\site-packages\\sklearn\\base.py:443: UserWarning: X has feature names, but SelectFromModel was fitted without feature names\n",
            "  warnings.warn(\n"
          ]
        },
        {
          "name": "stdout",
          "output_type": "stream",
          "text": [
            "Best accuracy is = 0.6352324819908317, with criterion = entropy max_depth = 30 metrics and fetaure len = 53\n"
          ]
        },
        {
          "name": "stderr",
          "output_type": "stream",
          "text": [
            "c:\\Users\\AMD\\AppData\\Local\\Programs\\Python\\Python310\\lib\\site-packages\\sklearn\\base.py:443: UserWarning: X has feature names, but SelectFromModel was fitted without feature names\n",
            "  warnings.warn(\n"
          ]
        },
        {
          "name": "stdout",
          "output_type": "stream",
          "text": [
            "Best accuracy is = 0.6326129666011788, with criterion = gini max_depth = 15 metrics and fetaure len = 54\n"
          ]
        },
        {
          "name": "stderr",
          "output_type": "stream",
          "text": [
            "c:\\Users\\AMD\\AppData\\Local\\Programs\\Python\\Python310\\lib\\site-packages\\sklearn\\base.py:443: UserWarning: X has feature names, but SelectFromModel was fitted without feature names\n",
            "  warnings.warn(\n"
          ]
        },
        {
          "name": "stdout",
          "output_type": "stream",
          "text": [
            "Best accuracy is = 0.6378519973804846, with criterion = gini max_depth = 15 metrics and fetaure len = 55\n"
          ]
        },
        {
          "name": "stderr",
          "output_type": "stream",
          "text": [
            "c:\\Users\\AMD\\AppData\\Local\\Programs\\Python\\Python310\\lib\\site-packages\\sklearn\\base.py:443: UserWarning: X has feature names, but SelectFromModel was fitted without feature names\n",
            "  warnings.warn(\n"
          ]
        },
        {
          "name": "stdout",
          "output_type": "stream",
          "text": [
            "Best accuracy is = 0.6378519973804846, with criterion = gini max_depth = 15 metrics and fetaure len = 55\n"
          ]
        },
        {
          "name": "stderr",
          "output_type": "stream",
          "text": [
            "c:\\Users\\AMD\\AppData\\Local\\Programs\\Python\\Python310\\lib\\site-packages\\sklearn\\base.py:443: UserWarning: X has feature names, but SelectFromModel was fitted without feature names\n",
            "  warnings.warn(\n"
          ]
        },
        {
          "name": "stdout",
          "output_type": "stream",
          "text": [
            "Best accuracy is = 0.6378519973804846, with criterion = gini max_depth = 15 metrics and fetaure len = 55\n"
          ]
        },
        {
          "name": "stderr",
          "output_type": "stream",
          "text": [
            "c:\\Users\\AMD\\AppData\\Local\\Programs\\Python\\Python310\\lib\\site-packages\\sklearn\\base.py:443: UserWarning: X has feature names, but SelectFromModel was fitted without feature names\n",
            "  warnings.warn(\n"
          ]
        },
        {
          "name": "stdout",
          "output_type": "stream",
          "text": [
            "Best accuracy is = 0.6378519973804846, with criterion = gini max_depth = 15 metrics and fetaure len = 55\n"
          ]
        },
        {
          "name": "stderr",
          "output_type": "stream",
          "text": [
            "c:\\Users\\AMD\\AppData\\Local\\Programs\\Python\\Python310\\lib\\site-packages\\sklearn\\base.py:443: UserWarning: X has feature names, but SelectFromModel was fitted without feature names\n",
            "  warnings.warn(\n"
          ]
        },
        {
          "name": "stdout",
          "output_type": "stream",
          "text": [
            "Best accuracy is = 0.6378519973804846, with criterion = gini max_depth = 15 metrics and fetaure len = 55\n"
          ]
        },
        {
          "name": "stderr",
          "output_type": "stream",
          "text": [
            "c:\\Users\\AMD\\AppData\\Local\\Programs\\Python\\Python310\\lib\\site-packages\\sklearn\\base.py:443: UserWarning: X has feature names, but SelectFromModel was fitted without feature names\n",
            "  warnings.warn(\n"
          ]
        },
        {
          "name": "stdout",
          "output_type": "stream",
          "text": [
            "Best accuracy is = 0.6378519973804846, with criterion = gini max_depth = 15 metrics and fetaure len = 55\n"
          ]
        },
        {
          "name": "stderr",
          "output_type": "stream",
          "text": [
            "c:\\Users\\AMD\\AppData\\Local\\Programs\\Python\\Python310\\lib\\site-packages\\sklearn\\base.py:443: UserWarning: X has feature names, but SelectFromModel was fitted without feature names\n",
            "  warnings.warn(\n"
          ]
        },
        {
          "name": "stdout",
          "output_type": "stream",
          "text": [
            "Best accuracy is = 0.6378519973804846, with criterion = gini max_depth = 15 metrics and fetaure len = 55\n"
          ]
        },
        {
          "name": "stderr",
          "output_type": "stream",
          "text": [
            "c:\\Users\\AMD\\AppData\\Local\\Programs\\Python\\Python310\\lib\\site-packages\\sklearn\\base.py:443: UserWarning: X has feature names, but SelectFromModel was fitted without feature names\n",
            "  warnings.warn(\n"
          ]
        },
        {
          "name": "stdout",
          "output_type": "stream",
          "text": [
            "Best accuracy is = 0.6378519973804846, with criterion = gini max_depth = 15 metrics and fetaure len = 55\n"
          ]
        },
        {
          "name": "stderr",
          "output_type": "stream",
          "text": [
            "c:\\Users\\AMD\\AppData\\Local\\Programs\\Python\\Python310\\lib\\site-packages\\sklearn\\base.py:443: UserWarning: X has feature names, but SelectFromModel was fitted without feature names\n",
            "  warnings.warn(\n"
          ]
        },
        {
          "name": "stdout",
          "output_type": "stream",
          "text": [
            "Best accuracy is = 0.6378519973804846, with criterion = gini max_depth = 15 metrics and fetaure len = 55\n"
          ]
        },
        {
          "name": "stderr",
          "output_type": "stream",
          "text": [
            "c:\\Users\\AMD\\AppData\\Local\\Programs\\Python\\Python310\\lib\\site-packages\\sklearn\\base.py:443: UserWarning: X has feature names, but SelectFromModel was fitted without feature names\n",
            "  warnings.warn(\n"
          ]
        },
        {
          "name": "stdout",
          "output_type": "stream",
          "text": [
            "Best accuracy is = 0.6378519973804846, with criterion = gini max_depth = 15 metrics and fetaure len = 55\n"
          ]
        },
        {
          "name": "stderr",
          "output_type": "stream",
          "text": [
            "c:\\Users\\AMD\\AppData\\Local\\Programs\\Python\\Python310\\lib\\site-packages\\sklearn\\base.py:443: UserWarning: X has feature names, but SelectFromModel was fitted without feature names\n",
            "  warnings.warn(\n"
          ]
        },
        {
          "name": "stdout",
          "output_type": "stream",
          "text": [
            "Best accuracy is = 0.6378519973804846, with criterion = gini max_depth = 15 metrics and fetaure len = 55\n"
          ]
        },
        {
          "name": "stderr",
          "output_type": "stream",
          "text": [
            "c:\\Users\\AMD\\AppData\\Local\\Programs\\Python\\Python310\\lib\\site-packages\\sklearn\\base.py:443: UserWarning: X has feature names, but SelectFromModel was fitted without feature names\n",
            "  warnings.warn(\n"
          ]
        },
        {
          "name": "stdout",
          "output_type": "stream",
          "text": [
            "Best accuracy is = 0.6378519973804846, with criterion = gini max_depth = 15 metrics and fetaure len = 55\n"
          ]
        },
        {
          "name": "stderr",
          "output_type": "stream",
          "text": [
            "c:\\Users\\AMD\\AppData\\Local\\Programs\\Python\\Python310\\lib\\site-packages\\sklearn\\base.py:443: UserWarning: X has feature names, but SelectFromModel was fitted without feature names\n",
            "  warnings.warn(\n"
          ]
        },
        {
          "name": "stdout",
          "output_type": "stream",
          "text": [
            "Best accuracy is = 0.6378519973804846, with criterion = gini max_depth = 15 metrics and fetaure len = 55\n"
          ]
        },
        {
          "name": "stderr",
          "output_type": "stream",
          "text": [
            "c:\\Users\\AMD\\AppData\\Local\\Programs\\Python\\Python310\\lib\\site-packages\\sklearn\\base.py:443: UserWarning: X has feature names, but SelectFromModel was fitted without feature names\n",
            "  warnings.warn(\n"
          ]
        },
        {
          "name": "stdout",
          "output_type": "stream",
          "text": [
            "Best accuracy is = 0.6378519973804846, with criterion = gini max_depth = 15 metrics and fetaure len = 55\n"
          ]
        },
        {
          "name": "stderr",
          "output_type": "stream",
          "text": [
            "c:\\Users\\AMD\\AppData\\Local\\Programs\\Python\\Python310\\lib\\site-packages\\sklearn\\base.py:443: UserWarning: X has feature names, but SelectFromModel was fitted without feature names\n",
            "  warnings.warn(\n"
          ]
        },
        {
          "name": "stdout",
          "output_type": "stream",
          "text": [
            "Best accuracy is = 0.6378519973804846, with criterion = gini max_depth = 15 metrics and fetaure len = 55\n"
          ]
        },
        {
          "name": "stderr",
          "output_type": "stream",
          "text": [
            "c:\\Users\\AMD\\AppData\\Local\\Programs\\Python\\Python310\\lib\\site-packages\\sklearn\\base.py:443: UserWarning: X has feature names, but SelectFromModel was fitted without feature names\n",
            "  warnings.warn(\n"
          ]
        },
        {
          "name": "stdout",
          "output_type": "stream",
          "text": [
            "Best accuracy is = 0.6378519973804846, with criterion = gini max_depth = 15 metrics and fetaure len = 55\n"
          ]
        },
        {
          "name": "stderr",
          "output_type": "stream",
          "text": [
            "c:\\Users\\AMD\\AppData\\Local\\Programs\\Python\\Python310\\lib\\site-packages\\sklearn\\base.py:443: UserWarning: X has feature names, but SelectFromModel was fitted without feature names\n",
            "  warnings.warn(\n"
          ]
        },
        {
          "name": "stdout",
          "output_type": "stream",
          "text": [
            "Best accuracy is = 0.6378519973804846, with criterion = gini max_depth = 15 metrics and fetaure len = 55\n"
          ]
        },
        {
          "name": "stderr",
          "output_type": "stream",
          "text": [
            "c:\\Users\\AMD\\AppData\\Local\\Programs\\Python\\Python310\\lib\\site-packages\\sklearn\\base.py:443: UserWarning: X has feature names, but SelectFromModel was fitted without feature names\n",
            "  warnings.warn(\n"
          ]
        },
        {
          "name": "stdout",
          "output_type": "stream",
          "text": [
            "Best accuracy is = 0.6378519973804846, with criterion = gini max_depth = 15 metrics and fetaure len = 55\n"
          ]
        },
        {
          "name": "stderr",
          "output_type": "stream",
          "text": [
            "c:\\Users\\AMD\\AppData\\Local\\Programs\\Python\\Python310\\lib\\site-packages\\sklearn\\base.py:443: UserWarning: X has feature names, but SelectFromModel was fitted without feature names\n",
            "  warnings.warn(\n"
          ]
        },
        {
          "name": "stdout",
          "output_type": "stream",
          "text": [
            "Best accuracy is = 0.6378519973804846, with criterion = gini max_depth = 15 metrics and fetaure len = 55\n"
          ]
        },
        {
          "name": "stderr",
          "output_type": "stream",
          "text": [
            "c:\\Users\\AMD\\AppData\\Local\\Programs\\Python\\Python310\\lib\\site-packages\\sklearn\\base.py:443: UserWarning: X has feature names, but SelectFromModel was fitted without feature names\n",
            "  warnings.warn(\n"
          ]
        },
        {
          "name": "stdout",
          "output_type": "stream",
          "text": [
            "Best accuracy is = 0.6378519973804846, with criterion = gini max_depth = 15 metrics and fetaure len = 55\n"
          ]
        },
        {
          "name": "stderr",
          "output_type": "stream",
          "text": [
            "c:\\Users\\AMD\\AppData\\Local\\Programs\\Python\\Python310\\lib\\site-packages\\sklearn\\base.py:443: UserWarning: X has feature names, but SelectFromModel was fitted without feature names\n",
            "  warnings.warn(\n"
          ]
        },
        {
          "name": "stdout",
          "output_type": "stream",
          "text": [
            "Model: PyTorch Best Epoch: 0 | Best Loss: 1.40735 | Best Acc: 32.94%  with LassoFeatureElimination, min-max,CrossEntropyLoss, len = 41 and Adam, lr = 0.001\n",
            "Model: PyTorch Best Epoch: 4 | Best Loss: 1.36196 | Best Acc: 33.46%  with LassoFeatureElimination, min-max,CrossEntropyLoss, len = 41 and Adam, lr = 0.001\n",
            "Model: PyTorch Best Epoch: 5 | Best Loss: 1.35006 | Best Acc: 36.74%  with LassoFeatureElimination, min-max,CrossEntropyLoss, len = 41 and Adam, lr = 0.001\n",
            "Model: PyTorch Best Epoch: 6 | Best Loss: 1.34096 | Best Acc: 38.11%  with LassoFeatureElimination, min-max,CrossEntropyLoss, len = 41 and Adam, lr = 0.001\n",
            "Model: PyTorch Best Epoch: 7 | Best Loss: 1.33620 | Best Acc: 38.51%  with LassoFeatureElimination, min-max,CrossEntropyLoss, len = 41 and Adam, lr = 0.001\n",
            "Model: PyTorch Best Epoch: 10 | Best Loss: 1.33865 | Best Acc: 39.23%  with LassoFeatureElimination, min-max,CrossEntropyLoss, len = 41 and Adam, lr = 0.001\n",
            "Model: PyTorch Best Epoch: 11 | Best Loss: 1.34161 | Best Acc: 40.01%  with LassoFeatureElimination, min-max,CrossEntropyLoss, len = 41 and Adam, lr = 0.001\n",
            "Model: PyTorch Best Epoch: 12 | Best Loss: 1.34516 | Best Acc: 40.14%  with LassoFeatureElimination, min-max,CrossEntropyLoss, len = 41 and Adam, lr = 0.001\n",
            "Model: PyTorch Best Epoch: 22 | Best Loss: 1.32251 | Best Acc: 40.21%  with LassoFeatureElimination, min-max,CrossEntropyLoss, len = 41 and Adam, lr = 0.001\n",
            "Model: PyTorch Best Epoch: 23 | Best Loss: 1.32222 | Best Acc: 40.47%  with LassoFeatureElimination, min-max,CrossEntropyLoss, len = 41 and Adam, lr = 0.001\n",
            "Model: PyTorch Best Epoch: 26 | Best Loss: 1.31766 | Best Acc: 40.86%  with LassoFeatureElimination, min-max,CrossEntropyLoss, len = 41 and Adam, lr = 0.001\n",
            "Model: PyTorch Best Epoch: 27 | Best Loss: 1.31727 | Best Acc: 40.93%  with LassoFeatureElimination, min-max,CrossEntropyLoss, len = 41 and Adam, lr = 0.001\n",
            "Model: PyTorch Best Epoch: 31 | Best Loss: 1.31515 | Best Acc: 41.72%  with LassoFeatureElimination, min-max,CrossEntropyLoss, len = 41 and Adam, lr = 0.001\n",
            "Model: PyTorch Best Epoch: 32 | Best Loss: 1.31643 | Best Acc: 42.04%  with LassoFeatureElimination, min-max,CrossEntropyLoss, len = 41 and Adam, lr = 0.001\n",
            "Model: PyTorch Best Epoch: 33 | Best Loss: 1.31642 | Best Acc: 42.31%  with LassoFeatureElimination, min-max,CrossEntropyLoss, len = 41 and Adam, lr = 0.001\n",
            "Model: PyTorch Best Epoch: 36 | Best Loss: 1.31782 | Best Acc: 42.57%  with LassoFeatureElimination, min-max,CrossEntropyLoss, len = 41 and Adam, lr = 0.001\n",
            "Model: PyTorch Best Epoch: 37 | Best Loss: 1.31965 | Best Acc: 42.76%  with LassoFeatureElimination, min-max,CrossEntropyLoss, len = 41 and Adam, lr = 0.001\n",
            "Model: PyTorch Best Epoch: 41 | Best Loss: 1.31825 | Best Acc: 42.89%  with LassoFeatureElimination, min-max,CrossEntropyLoss, len = 41 and Adam, lr = 0.001\n",
            "Model: PyTorch Best Epoch: 42 | Best Loss: 1.31774 | Best Acc: 42.96%  with LassoFeatureElimination, min-max,CrossEntropyLoss, len = 41 and Adam, lr = 0.001\n",
            "Model: PyTorch Best Epoch: 51 | Best Loss: 1.31377 | Best Acc: 43.03%  with LassoFeatureElimination, min-max,CrossEntropyLoss, len = 41 and Adam, lr = 0.001\n",
            "Model: PyTorch Best Epoch: 59 | Best Loss: 1.31177 | Best Acc: 43.09%  with LassoFeatureElimination, min-max,CrossEntropyLoss, len = 41 and Adam, lr = 0.001\n",
            "Model: PyTorch Best Epoch: 60 | Best Loss: 1.31205 | Best Acc: 43.22%  with LassoFeatureElimination, min-max,CrossEntropyLoss, len = 41 and Adam, lr = 0.001\n",
            "Model: PyTorch Best Epoch: 61 | Best Loss: 1.31178 | Best Acc: 43.29%  with LassoFeatureElimination, min-max,CrossEntropyLoss, len = 41 and Adam, lr = 0.001\n",
            "Model: PyTorch Best Epoch: 63 | Best Loss: 1.31155 | Best Acc: 43.35%  with LassoFeatureElimination, min-max,CrossEntropyLoss, len = 41 and Adam, lr = 0.001\n",
            "Model: PyTorch Best Epoch: 65 | Best Loss: 1.31230 | Best Acc: 43.48%  with LassoFeatureElimination, min-max,CrossEntropyLoss, len = 41 and Adam, lr = 0.001\n",
            "Model: PyTorch Best Epoch: 67 | Best Loss: 1.31237 | Best Acc: 43.75%  with LassoFeatureElimination, min-max,CrossEntropyLoss, len = 41 and Adam, lr = 0.001\n",
            "Model: PyTorch Best Epoch: 70 | Best Loss: 1.31092 | Best Acc: 43.81%  with LassoFeatureElimination, min-max,CrossEntropyLoss, len = 41 and Adam, lr = 0.001\n",
            "Model: PyTorch Best Epoch: 73 | Best Loss: 1.30984 | Best Acc: 43.94%  with LassoFeatureElimination, min-max,CrossEntropyLoss, len = 41 and Adam, lr = 0.001\n",
            "Model: PyTorch Best Epoch: 74 | Best Loss: 1.30866 | Best Acc: 44.07%  with LassoFeatureElimination, min-max,CrossEntropyLoss, len = 41 and Adam, lr = 0.001\n",
            "Model: PyTorch Best Epoch: 76 | Best Loss: 1.31153 | Best Acc: 44.27%  with LassoFeatureElimination, min-max,CrossEntropyLoss, len = 41 and Adam, lr = 0.001\n",
            "Model: PyTorch Best Epoch: 78 | Best Loss: 1.30536 | Best Acc: 44.34%  with LassoFeatureElimination, min-max,CrossEntropyLoss, len = 41 and Adam, lr = 0.001\n",
            "Model: PyTorch Best Epoch: 79 | Best Loss: 1.30884 | Best Acc: 44.47%  with LassoFeatureElimination, min-max,CrossEntropyLoss, len = 41 and Adam, lr = 0.001\n",
            "Model: PyTorch Best Epoch: 81 | Best Loss: 1.31483 | Best Acc: 44.53%  with LassoFeatureElimination, min-max,CrossEntropyLoss, len = 41 and Adam, lr = 0.001\n",
            "Model: PyTorch Best Epoch: 84 | Best Loss: 1.31083 | Best Acc: 44.60%  with LassoFeatureElimination, min-max,CrossEntropyLoss, len = 41 and Adam, lr = 0.001\n",
            "Model: PyTorch Best Epoch: 112 | Best Loss: 1.33326 | Best Acc: 44.66%  with LassoFeatureElimination, min-max,CrossEntropyLoss, len = 41 and Adam, lr = 0.001\n",
            "Model: PyTorch Best Epoch: 113 | Best Loss: 1.33771 | Best Acc: 44.86%  with LassoFeatureElimination, min-max,CrossEntropyLoss, len = 41 and Adam, lr = 0.001\n",
            "Model: PyTorch Best Epoch: 117 | Best Loss: 1.33528 | Best Acc: 44.92%  with LassoFeatureElimination, min-max,CrossEntropyLoss, len = 41 and Adam, lr = 0.001\n",
            "Model: PyTorch Best Epoch: 512 | Best Loss: 1.28628 | Best Acc: 44.99%  with LassoFeatureElimination, min-max,CrossEntropyLoss, len = 41 and Adam, lr = 0.001\n",
            "Model: PyTorch Best Epoch: 517 | Best Loss: 1.28615 | Best Acc: 45.06%  with LassoFeatureElimination, min-max,CrossEntropyLoss, len = 41 and Adam, lr = 0.001\n",
            "Model: PyTorch Best Epoch: 543 | Best Loss: 1.28334 | Best Acc: 45.12%  with LassoFeatureElimination, min-max,CrossEntropyLoss, len = 41 and Adam, lr = 0.001\n",
            "Model: PyTorch Best Epoch: 551 | Best Loss: 1.28275 | Best Acc: 45.19%  with LassoFeatureElimination, min-max,CrossEntropyLoss, len = 41 and Adam, lr = 0.001\n",
            "Model: PyTorch Best Epoch: 554 | Best Loss: 1.28207 | Best Acc: 45.25%  with LassoFeatureElimination, min-max,CrossEntropyLoss, len = 41 and Adam, lr = 0.001\n",
            "Model: PyTorch Best Epoch: 563 | Best Loss: 1.27885 | Best Acc: 45.45%  with LassoFeatureElimination, min-max,CrossEntropyLoss, len = 41 and Adam, lr = 0.001\n",
            "Model: PyTorch Best Epoch: 566 | Best Loss: 1.27819 | Best Acc: 45.51%  with LassoFeatureElimination, min-max,CrossEntropyLoss, len = 41 and Adam, lr = 0.001\n",
            "Model: PyTorch Best Epoch: 1097 | Best Loss: 1.33075 | Best Acc: 45.71%  with LassoFeatureElimination, min-max,CrossEntropyLoss, len = 41 and Adam, lr = 0.001\n",
            "Model: PyTorch Best Epoch: 1098 | Best Loss: 1.31128 | Best Acc: 45.84%  with LassoFeatureElimination, min-max,CrossEntropyLoss, len = 41 and Adam, lr = 0.001\n",
            "END OF FIRST ITERATION WITH FEATURES LEN = 41\n"
          ]
        },
        {
          "name": "stderr",
          "output_type": "stream",
          "text": [
            "c:\\Users\\AMD\\AppData\\Local\\Programs\\Python\\Python310\\lib\\site-packages\\sklearn\\base.py:443: UserWarning: X has feature names, but SelectFromModel was fitted without feature names\n",
            "  warnings.warn(\n"
          ]
        },
        {
          "name": "stdout",
          "output_type": "stream",
          "text": [
            "Model: PyTorch Best Epoch: 0 | Best Loss: 1.38856 | Best Acc: 43.35%  with LassoFeatureElimination, standart,CrossEntropyLoss, len = 53 and Adam, lr = 0.001\n",
            "Model: PyTorch Best Epoch: 31 | Best Loss: 1.31796 | Best Acc: 43.42%  with LassoFeatureElimination, standart,CrossEntropyLoss, len = 53 and Adam, lr = 0.001\n",
            "Model: PyTorch Best Epoch: 32 | Best Loss: 1.33104 | Best Acc: 43.81%  with LassoFeatureElimination, standart,CrossEntropyLoss, len = 53 and Adam, lr = 0.001\n",
            "Model: PyTorch Best Epoch: 41 | Best Loss: 1.31407 | Best Acc: 44.34%  with LassoFeatureElimination, standart,CrossEntropyLoss, len = 53 and Adam, lr = 0.001\n",
            "Model: PyTorch Best Epoch: 42 | Best Loss: 1.31020 | Best Acc: 44.53%  with LassoFeatureElimination, standart,CrossEntropyLoss, len = 53 and Adam, lr = 0.001\n",
            "Model: PyTorch Best Epoch: 45 | Best Loss: 1.34426 | Best Acc: 44.86%  with LassoFeatureElimination, standart,CrossEntropyLoss, len = 53 and Adam, lr = 0.001\n",
            "Model: PyTorch Best Epoch: 49 | Best Loss: 1.31306 | Best Acc: 44.99%  with LassoFeatureElimination, standart,CrossEntropyLoss, len = 53 and Adam, lr = 0.001\n",
            "Model: PyTorch Best Epoch: 50 | Best Loss: 1.31140 | Best Acc: 45.12%  with LassoFeatureElimination, standart,CrossEntropyLoss, len = 53 and Adam, lr = 0.001\n",
            "Model: PyTorch Best Epoch: 55 | Best Loss: 1.28542 | Best Acc: 45.19%  with LassoFeatureElimination, standart,CrossEntropyLoss, len = 53 and Adam, lr = 0.001\n",
            "Model: PyTorch Best Epoch: 58 | Best Loss: 1.28480 | Best Acc: 45.25%  with LassoFeatureElimination, standart,CrossEntropyLoss, len = 53 and Adam, lr = 0.001\n",
            "Model: PyTorch Best Epoch: 60 | Best Loss: 1.26865 | Best Acc: 45.45%  with LassoFeatureElimination, standart,CrossEntropyLoss, len = 53 and Adam, lr = 0.001\n",
            "Model: PyTorch Best Epoch: 61 | Best Loss: 1.26472 | Best Acc: 45.51%  with LassoFeatureElimination, standart,CrossEntropyLoss, len = 53 and Adam, lr = 0.001\n",
            "Model: PyTorch Best Epoch: 75 | Best Loss: 1.28937 | Best Acc: 45.78%  with LassoFeatureElimination, standart,CrossEntropyLoss, len = 53 and Adam, lr = 0.001\n",
            "Model: PyTorch Best Epoch: 78 | Best Loss: 1.30506 | Best Acc: 45.97%  with LassoFeatureElimination, standart,CrossEntropyLoss, len = 53 and Adam, lr = 0.001\n",
            "Model: PyTorch Best Epoch: 92 | Best Loss: 1.22547 | Best Acc: 46.10%  with LassoFeatureElimination, standart,CrossEntropyLoss, len = 53 and Adam, lr = 0.001\n",
            "Model: PyTorch Best Epoch: 101 | Best Loss: 1.27980 | Best Acc: 46.30%  with LassoFeatureElimination, standart,CrossEntropyLoss, len = 53 and Adam, lr = 0.001\n",
            "Model: PyTorch Best Epoch: 177 | Best Loss: 1.27852 | Best Acc: 46.69%  with LassoFeatureElimination, standart,CrossEntropyLoss, len = 53 and Adam, lr = 0.001\n",
            "Model: PyTorch Best Epoch: 199 | Best Loss: 1.25374 | Best Acc: 46.82%  with LassoFeatureElimination, standart,CrossEntropyLoss, len = 53 and Adam, lr = 0.001\n",
            "Model: PyTorch Best Epoch: 200 | Best Loss: 1.26635 | Best Acc: 47.41%  with LassoFeatureElimination, standart,CrossEntropyLoss, len = 53 and Adam, lr = 0.001\n",
            "Model: PyTorch Best Epoch: 203 | Best Loss: 1.20575 | Best Acc: 47.87%  with LassoFeatureElimination, standart,CrossEntropyLoss, len = 53 and Adam, lr = 0.001\n",
            "Model: PyTorch Best Epoch: 204 | Best Loss: 1.20839 | Best Acc: 49.44%  with LassoFeatureElimination, standart,CrossEntropyLoss, len = 53 and Adam, lr = 0.001\n",
            "Model: PyTorch Best Epoch: 252 | Best Loss: 1.17096 | Best Acc: 50.16%  with LassoFeatureElimination, standart,CrossEntropyLoss, len = 53 and Adam, lr = 0.001\n",
            "Model: PyTorch Best Epoch: 254 | Best Loss: 1.19168 | Best Acc: 52.13%  with LassoFeatureElimination, standart,CrossEntropyLoss, len = 53 and Adam, lr = 0.001\n",
            "Model: PyTorch Best Epoch: 266 | Best Loss: 1.13363 | Best Acc: 52.85%  with LassoFeatureElimination, standart,CrossEntropyLoss, len = 53 and Adam, lr = 0.001\n",
            "Model: PyTorch Best Epoch: 277 | Best Loss: 1.13849 | Best Acc: 53.18%  with LassoFeatureElimination, standart,CrossEntropyLoss, len = 53 and Adam, lr = 0.001\n",
            "Model: PyTorch Best Epoch: 296 | Best Loss: 1.08604 | Best Acc: 53.37%  with LassoFeatureElimination, standart,CrossEntropyLoss, len = 53 and Adam, lr = 0.001\n",
            "Model: PyTorch Best Epoch: 306 | Best Loss: 1.08297 | Best Acc: 53.63%  with LassoFeatureElimination, standart,CrossEntropyLoss, len = 53 and Adam, lr = 0.001\n",
            "Model: PyTorch Best Epoch: 381 | Best Loss: 1.05568 | Best Acc: 53.70%  with LassoFeatureElimination, standart,CrossEntropyLoss, len = 53 and Adam, lr = 0.001\n",
            "Model: PyTorch Best Epoch: 383 | Best Loss: 1.05772 | Best Acc: 54.03%  with LassoFeatureElimination, standart,CrossEntropyLoss, len = 53 and Adam, lr = 0.001\n",
            "Model: PyTorch Best Epoch: 384 | Best Loss: 1.06096 | Best Acc: 54.22%  with LassoFeatureElimination, standart,CrossEntropyLoss, len = 53 and Adam, lr = 0.001\n",
            "Model: PyTorch Best Epoch: 394 | Best Loss: 1.05039 | Best Acc: 54.35%  with LassoFeatureElimination, standart,CrossEntropyLoss, len = 53 and Adam, lr = 0.001\n",
            "Model: PyTorch Best Epoch: 400 | Best Loss: 1.05057 | Best Acc: 54.42%  with LassoFeatureElimination, standart,CrossEntropyLoss, len = 53 and Adam, lr = 0.001\n",
            "Model: PyTorch Best Epoch: 410 | Best Loss: 1.04818 | Best Acc: 54.81%  with LassoFeatureElimination, standart,CrossEntropyLoss, len = 53 and Adam, lr = 0.001\n",
            "Model: PyTorch Best Epoch: 415 | Best Loss: 1.05128 | Best Acc: 54.88%  with LassoFeatureElimination, standart,CrossEntropyLoss, len = 53 and Adam, lr = 0.001\n",
            "Model: PyTorch Best Epoch: 416 | Best Loss: 1.04960 | Best Acc: 55.08%  with LassoFeatureElimination, standart,CrossEntropyLoss, len = 53 and Adam, lr = 0.001\n",
            "Model: PyTorch Best Epoch: 421 | Best Loss: 1.04974 | Best Acc: 55.27%  with LassoFeatureElimination, standart,CrossEntropyLoss, len = 53 and Adam, lr = 0.001\n",
            "Model: PyTorch Best Epoch: 437 | Best Loss: 1.04560 | Best Acc: 55.73%  with LassoFeatureElimination, standart,CrossEntropyLoss, len = 53 and Adam, lr = 0.001\n",
            "Model: PyTorch Best Epoch: 443 | Best Loss: 1.04316 | Best Acc: 55.93%  with LassoFeatureElimination, standart,CrossEntropyLoss, len = 53 and Adam, lr = 0.001\n",
            "Model: PyTorch Best Epoch: 545 | Best Loss: 1.05466 | Best Acc: 56.19%  with LassoFeatureElimination, standart,CrossEntropyLoss, len = 53 and Adam, lr = 0.001\n",
            "Model: PyTorch Best Epoch: 547 | Best Loss: 1.05568 | Best Acc: 56.39%  with LassoFeatureElimination, standart,CrossEntropyLoss, len = 53 and Adam, lr = 0.001\n",
            "Model: PyTorch Best Epoch: 587 | Best Loss: 1.06488 | Best Acc: 56.45%  with LassoFeatureElimination, standart,CrossEntropyLoss, len = 53 and Adam, lr = 0.001\n",
            "Model: PyTorch Best Epoch: 611 | Best Loss: 1.07888 | Best Acc: 56.65%  with LassoFeatureElimination, standart,CrossEntropyLoss, len = 53 and Adam, lr = 0.001\n",
            "Model: PyTorch Best Epoch: 666 | Best Loss: 1.09785 | Best Acc: 56.91%  with LassoFeatureElimination, standart,CrossEntropyLoss, len = 53 and Adam, lr = 0.001\n",
            "Model: PyTorch Best Epoch: 702 | Best Loss: 1.10145 | Best Acc: 57.04%  with LassoFeatureElimination, standart,CrossEntropyLoss, len = 53 and Adam, lr = 0.001\n",
            "Model: PyTorch Best Epoch: 749 | Best Loss: 1.11673 | Best Acc: 57.30%  with LassoFeatureElimination, standart,CrossEntropyLoss, len = 53 and Adam, lr = 0.001\n",
            "Model: PyTorch Best Epoch: 751 | Best Loss: 1.11895 | Best Acc: 57.50%  with LassoFeatureElimination, standart,CrossEntropyLoss, len = 53 and Adam, lr = 0.001\n",
            "Model: PyTorch Best Epoch: 880 | Best Loss: 1.13181 | Best Acc: 57.63%  with LassoFeatureElimination, standart,CrossEntropyLoss, len = 53 and Adam, lr = 0.001\n",
            "Model: PyTorch Best Epoch: 883 | Best Loss: 1.13229 | Best Acc: 58.02%  with LassoFeatureElimination, standart,CrossEntropyLoss, len = 53 and Adam, lr = 0.001\n",
            "Model: PyTorch Best Epoch: 884 | Best Loss: 1.13272 | Best Acc: 58.28%  with LassoFeatureElimination, standart,CrossEntropyLoss, len = 53 and Adam, lr = 0.001\n",
            "Model: PyTorch Best Epoch: 887 | Best Loss: 1.13230 | Best Acc: 58.42%  with LassoFeatureElimination, standart,CrossEntropyLoss, len = 53 and Adam, lr = 0.001\n",
            "Model: PyTorch Best Epoch: 893 | Best Loss: 1.13248 | Best Acc: 58.87%  with LassoFeatureElimination, standart,CrossEntropyLoss, len = 53 and Adam, lr = 0.001\n",
            "Model: PyTorch Best Epoch: 909 | Best Loss: 1.14856 | Best Acc: 59.27%  with LassoFeatureElimination, standart,CrossEntropyLoss, len = 53 and Adam, lr = 0.001\n",
            "Model: PyTorch Best Epoch: 977 | Best Loss: 1.14576 | Best Acc: 59.40%  with LassoFeatureElimination, standart,CrossEntropyLoss, len = 53 and Adam, lr = 0.001\n",
            "Model: PyTorch Best Epoch: 991 | Best Loss: 1.14543 | Best Acc: 59.72%  with LassoFeatureElimination, standart,CrossEntropyLoss, len = 53 and Adam, lr = 0.001\n",
            "Model: PyTorch Best Epoch: 998 | Best Loss: 1.15306 | Best Acc: 60.18%  with LassoFeatureElimination, standart,CrossEntropyLoss, len = 53 and Adam, lr = 0.001\n",
            "Model: PyTorch Best Epoch: 1002 | Best Loss: 1.15724 | Best Acc: 60.31%  with LassoFeatureElimination, standart,CrossEntropyLoss, len = 53 and Adam, lr = 0.001\n",
            "Model: PyTorch Best Epoch: 1053 | Best Loss: 1.16789 | Best Acc: 60.58%  with LassoFeatureElimination, standart,CrossEntropyLoss, len = 53 and Adam, lr = 0.001\n",
            "Model: PyTorch Best Epoch: 1058 | Best Loss: 1.16830 | Best Acc: 60.97%  with LassoFeatureElimination, standart,CrossEntropyLoss, len = 53 and Adam, lr = 0.001\n",
            "Model: PyTorch Best Epoch: 1077 | Best Loss: 1.16216 | Best Acc: 61.10%  with LassoFeatureElimination, standart,CrossEntropyLoss, len = 53 and Adam, lr = 0.001\n",
            "Model: PyTorch Best Epoch: 1084 | Best Loss: 1.15886 | Best Acc: 61.23%  with LassoFeatureElimination, standart,CrossEntropyLoss, len = 53 and Adam, lr = 0.001\n",
            "Model: PyTorch Best Epoch: 1519 | Best Loss: 1.43184 | Best Acc: 61.30%  with LassoFeatureElimination, standart,CrossEntropyLoss, len = 53 and Adam, lr = 0.001\n",
            "Model: PyTorch Best Epoch: 1521 | Best Loss: 1.42547 | Best Acc: 61.36%  with LassoFeatureElimination, standart,CrossEntropyLoss, len = 53 and Adam, lr = 0.001\n",
            "Model: PyTorch Best Epoch: 1603 | Best Loss: 1.45574 | Best Acc: 61.43%  with LassoFeatureElimination, standart,CrossEntropyLoss, len = 53 and Adam, lr = 0.001\n",
            "Model: PyTorch Best Epoch: 1607 | Best Loss: 1.45647 | Best Acc: 61.56%  with LassoFeatureElimination, standart,CrossEntropyLoss, len = 53 and Adam, lr = 0.001\n",
            "Model: PyTorch Best Epoch: 1612 | Best Loss: 1.46362 | Best Acc: 61.62%  with LassoFeatureElimination, standart,CrossEntropyLoss, len = 53 and Adam, lr = 0.001\n",
            "Model: PyTorch Best Epoch: 2491 | Best Loss: 1.90202 | Best Acc: 61.76%  with LassoFeatureElimination, standart,CrossEntropyLoss, len = 53 and Adam, lr = 0.001\n",
            "Model: PyTorch Best Epoch: 2561 | Best Loss: 1.96713 | Best Acc: 62.02%  with LassoFeatureElimination, standart,CrossEntropyLoss, len = 53 and Adam, lr = 0.001\n",
            "Model: PyTorch Best Epoch: 2718 | Best Loss: 1.56124 | Best Acc: 62.15%  with LassoFeatureElimination, standart,CrossEntropyLoss, len = 53 and Adam, lr = 0.001\n",
            "END OF FIRST ITERATION WITH FEATURES LEN = 53\n",
            "Model: PyTorch Best Epoch: 0 | Best Loss: 1.44972 | Best Acc: 14.93%  with LassoFeatureElimination, robust,CrossEntropyLoss, len = 55 and Adam, lr = 0.001\n"
          ]
        },
        {
          "name": "stderr",
          "output_type": "stream",
          "text": [
            "c:\\Users\\AMD\\AppData\\Local\\Programs\\Python\\Python310\\lib\\site-packages\\sklearn\\base.py:443: UserWarning: X has feature names, but SelectFromModel was fitted without feature names\n",
            "  warnings.warn(\n"
          ]
        },
        {
          "name": "stdout",
          "output_type": "stream",
          "text": [
            "Model: PyTorch Best Epoch: 22 | Best Loss: 1.37384 | Best Acc: 15.91%  with LassoFeatureElimination, robust,CrossEntropyLoss, len = 55 and Adam, lr = 0.001\n",
            "Model: PyTorch Best Epoch: 23 | Best Loss: 1.36441 | Best Acc: 18.86%  with LassoFeatureElimination, robust,CrossEntropyLoss, len = 55 and Adam, lr = 0.001\n",
            "Model: PyTorch Best Epoch: 24 | Best Loss: 1.35359 | Best Acc: 26.46%  with LassoFeatureElimination, robust,CrossEntropyLoss, len = 55 and Adam, lr = 0.001\n",
            "Model: PyTorch Best Epoch: 25 | Best Loss: 1.34236 | Best Acc: 34.77%  with LassoFeatureElimination, robust,CrossEntropyLoss, len = 55 and Adam, lr = 0.001\n",
            "Model: PyTorch Best Epoch: 26 | Best Loss: 1.33066 | Best Acc: 42.04%  with LassoFeatureElimination, robust,CrossEntropyLoss, len = 55 and Adam, lr = 0.001\n",
            "Model: PyTorch Best Epoch: 27 | Best Loss: 1.31819 | Best Acc: 46.43%  with LassoFeatureElimination, robust,CrossEntropyLoss, len = 55 and Adam, lr = 0.001\n",
            "Model: PyTorch Best Epoch: 28 | Best Loss: 1.30557 | Best Acc: 47.22%  with LassoFeatureElimination, robust,CrossEntropyLoss, len = 55 and Adam, lr = 0.001\n",
            "Model: PyTorch Best Epoch: 43 | Best Loss: 1.17418 | Best Acc: 47.54%  with LassoFeatureElimination, robust,CrossEntropyLoss, len = 55 and Adam, lr = 0.001\n",
            "Model: PyTorch Best Epoch: 44 | Best Loss: 1.16649 | Best Acc: 47.61%  with LassoFeatureElimination, robust,CrossEntropyLoss, len = 55 and Adam, lr = 0.001\n",
            "Model: PyTorch Best Epoch: 45 | Best Loss: 1.15971 | Best Acc: 47.68%  with LassoFeatureElimination, robust,CrossEntropyLoss, len = 55 and Adam, lr = 0.001\n",
            "Model: PyTorch Best Epoch: 46 | Best Loss: 1.15378 | Best Acc: 47.74%  with LassoFeatureElimination, robust,CrossEntropyLoss, len = 55 and Adam, lr = 0.001\n",
            "Model: PyTorch Best Epoch: 47 | Best Loss: 1.14825 | Best Acc: 48.66%  with LassoFeatureElimination, robust,CrossEntropyLoss, len = 55 and Adam, lr = 0.001\n",
            "Model: PyTorch Best Epoch: 48 | Best Loss: 1.14265 | Best Acc: 49.31%  with LassoFeatureElimination, robust,CrossEntropyLoss, len = 55 and Adam, lr = 0.001\n",
            "Model: PyTorch Best Epoch: 49 | Best Loss: 1.13676 | Best Acc: 50.16%  with LassoFeatureElimination, robust,CrossEntropyLoss, len = 55 and Adam, lr = 0.001\n",
            "Model: PyTorch Best Epoch: 50 | Best Loss: 1.13064 | Best Acc: 50.82%  with LassoFeatureElimination, robust,CrossEntropyLoss, len = 55 and Adam, lr = 0.001\n",
            "Model: PyTorch Best Epoch: 51 | Best Loss: 1.12457 | Best Acc: 51.02%  with LassoFeatureElimination, robust,CrossEntropyLoss, len = 55 and Adam, lr = 0.001\n",
            "Model: PyTorch Best Epoch: 52 | Best Loss: 1.11874 | Best Acc: 51.80%  with LassoFeatureElimination, robust,CrossEntropyLoss, len = 55 and Adam, lr = 0.001\n",
            "Model: PyTorch Best Epoch: 53 | Best Loss: 1.11320 | Best Acc: 52.13%  with LassoFeatureElimination, robust,CrossEntropyLoss, len = 55 and Adam, lr = 0.001\n",
            "Model: PyTorch Best Epoch: 54 | Best Loss: 1.10787 | Best Acc: 52.19%  with LassoFeatureElimination, robust,CrossEntropyLoss, len = 55 and Adam, lr = 0.001\n",
            "Model: PyTorch Best Epoch: 55 | Best Loss: 1.10299 | Best Acc: 52.72%  with LassoFeatureElimination, robust,CrossEntropyLoss, len = 55 and Adam, lr = 0.001\n",
            "Model: PyTorch Best Epoch: 56 | Best Loss: 1.09835 | Best Acc: 52.85%  with LassoFeatureElimination, robust,CrossEntropyLoss, len = 55 and Adam, lr = 0.001\n",
            "Model: PyTorch Best Epoch: 57 | Best Loss: 1.09384 | Best Acc: 53.05%  with LassoFeatureElimination, robust,CrossEntropyLoss, len = 55 and Adam, lr = 0.001\n",
            "Model: PyTorch Best Epoch: 58 | Best Loss: 1.08942 | Best Acc: 53.50%  with LassoFeatureElimination, robust,CrossEntropyLoss, len = 55 and Adam, lr = 0.001\n",
            "Model: PyTorch Best Epoch: 59 | Best Loss: 1.08501 | Best Acc: 53.57%  with LassoFeatureElimination, robust,CrossEntropyLoss, len = 55 and Adam, lr = 0.001\n",
            "Model: PyTorch Best Epoch: 60 | Best Loss: 1.08071 | Best Acc: 53.70%  with LassoFeatureElimination, robust,CrossEntropyLoss, len = 55 and Adam, lr = 0.001\n",
            "Model: PyTorch Best Epoch: 62 | Best Loss: 1.07362 | Best Acc: 54.03%  with LassoFeatureElimination, robust,CrossEntropyLoss, len = 55 and Adam, lr = 0.001\n",
            "Model: PyTorch Best Epoch: 63 | Best Loss: 1.07077 | Best Acc: 54.35%  with LassoFeatureElimination, robust,CrossEntropyLoss, len = 55 and Adam, lr = 0.001\n",
            "Model: PyTorch Best Epoch: 64 | Best Loss: 1.06813 | Best Acc: 54.81%  with LassoFeatureElimination, robust,CrossEntropyLoss, len = 55 and Adam, lr = 0.001\n",
            "Model: PyTorch Best Epoch: 65 | Best Loss: 1.06519 | Best Acc: 55.40%  with LassoFeatureElimination, robust,CrossEntropyLoss, len = 55 and Adam, lr = 0.001\n",
            "Model: PyTorch Best Epoch: 66 | Best Loss: 1.06181 | Best Acc: 56.65%  with LassoFeatureElimination, robust,CrossEntropyLoss, len = 55 and Adam, lr = 0.001\n",
            "Model: PyTorch Best Epoch: 67 | Best Loss: 1.05865 | Best Acc: 56.84%  with LassoFeatureElimination, robust,CrossEntropyLoss, len = 55 and Adam, lr = 0.001\n",
            "Model: PyTorch Best Epoch: 68 | Best Loss: 1.05593 | Best Acc: 57.17%  with LassoFeatureElimination, robust,CrossEntropyLoss, len = 55 and Adam, lr = 0.001\n",
            "Model: PyTorch Best Epoch: 69 | Best Loss: 1.05369 | Best Acc: 57.83%  with LassoFeatureElimination, robust,CrossEntropyLoss, len = 55 and Adam, lr = 0.001\n",
            "Model: PyTorch Best Epoch: 70 | Best Loss: 1.05131 | Best Acc: 57.89%  with LassoFeatureElimination, robust,CrossEntropyLoss, len = 55 and Adam, lr = 0.001\n",
            "Model: PyTorch Best Epoch: 71 | Best Loss: 1.04816 | Best Acc: 58.15%  with LassoFeatureElimination, robust,CrossEntropyLoss, len = 55 and Adam, lr = 0.001\n",
            "Model: PyTorch Best Epoch: 73 | Best Loss: 1.04162 | Best Acc: 58.48%  with LassoFeatureElimination, robust,CrossEntropyLoss, len = 55 and Adam, lr = 0.001\n",
            "Model: PyTorch Best Epoch: 88 | Best Loss: 1.00518 | Best Acc: 58.94%  with LassoFeatureElimination, robust,CrossEntropyLoss, len = 55 and Adam, lr = 0.001\n",
            "Model: PyTorch Best Epoch: 89 | Best Loss: 1.00120 | Best Acc: 59.07%  with LassoFeatureElimination, robust,CrossEntropyLoss, len = 55 and Adam, lr = 0.001\n",
            "Model: PyTorch Best Epoch: 90 | Best Loss: 0.99810 | Best Acc: 59.33%  with LassoFeatureElimination, robust,CrossEntropyLoss, len = 55 and Adam, lr = 0.001\n",
            "Model: PyTorch Best Epoch: 97 | Best Loss: 0.98436 | Best Acc: 59.46%  with LassoFeatureElimination, robust,CrossEntropyLoss, len = 55 and Adam, lr = 0.001\n",
            "Model: PyTorch Best Epoch: 98 | Best Loss: 0.98270 | Best Acc: 59.53%  with LassoFeatureElimination, robust,CrossEntropyLoss, len = 55 and Adam, lr = 0.001\n",
            "Model: PyTorch Best Epoch: 99 | Best Loss: 0.98411 | Best Acc: 59.86%  with LassoFeatureElimination, robust,CrossEntropyLoss, len = 55 and Adam, lr = 0.001\n",
            "Model: PyTorch Best Epoch: 101 | Best Loss: 0.98541 | Best Acc: 60.05%  with LassoFeatureElimination, robust,CrossEntropyLoss, len = 55 and Adam, lr = 0.001\n",
            "Model: PyTorch Best Epoch: 103 | Best Loss: 0.98327 | Best Acc: 60.18%  with LassoFeatureElimination, robust,CrossEntropyLoss, len = 55 and Adam, lr = 0.001\n",
            "Model: PyTorch Best Epoch: 106 | Best Loss: 0.97753 | Best Acc: 60.38%  with LassoFeatureElimination, robust,CrossEntropyLoss, len = 55 and Adam, lr = 0.001\n",
            "Model: PyTorch Best Epoch: 194 | Best Loss: 1.17075 | Best Acc: 60.45%  with LassoFeatureElimination, robust,CrossEntropyLoss, len = 55 and Adam, lr = 0.001\n",
            "Model: PyTorch Best Epoch: 200 | Best Loss: 1.21253 | Best Acc: 60.58%  with LassoFeatureElimination, robust,CrossEntropyLoss, len = 55 and Adam, lr = 0.001\n",
            "Model: PyTorch Best Epoch: 202 | Best Loss: 1.23323 | Best Acc: 60.84%  with LassoFeatureElimination, robust,CrossEntropyLoss, len = 55 and Adam, lr = 0.001\n",
            "Model: PyTorch Best Epoch: 207 | Best Loss: 1.26213 | Best Acc: 60.97%  with LassoFeatureElimination, robust,CrossEntropyLoss, len = 55 and Adam, lr = 0.001\n",
            "END OF FIRST ITERATION WITH FEATURES LEN = 55\n"
          ]
        }
      ],
      "source": [
        "# Run RandomForest wiit RFEFeatureElimination and robust scaler in to the oversampling data\n",
        "RunThePredictAlgorithm(oversampling_df, 75, 'standart', LassoFeatureElimination, RandomForest, version_numer='V2')\n",
        "\n",
        "# Run RandomForest wiit RFEFeatureElimination and robust scaler in to the oversampling data\n",
        "RunThePredictAlgorithm(oversampling_df, 75, 'min-max', LassoFeatureElimination, RandomForest, version_numer='V2')\n",
        "\n",
        "# Run RandomForest wiit RFEFeatureElimination and robust scaler in to the oversampling data\n",
        "RunThePredictAlgorithm(oversampling_df, 75, 'robust', LassoFeatureElimination, RandomForest, version_numer='V2')\n",
        "\n",
        "\n",
        "\n",
        "RunThePredictAlgorithm(oversampling_df, 70, 'min-max', LassoFeatureElimination, PyTorch_TrainTest_Step,\n",
        "                       True, accuracy_method= accuracy_fn, loss_method=nn.CrossEntropyLoss(), optimizer_method='Adam', lr = 0.001)\n",
        "\n",
        "RunThePredictAlgorithm(oversampling_df, 70, 'standart', LassoFeatureElimination, PyTorch_TrainTest_Step,\n",
        "                       True, accuracy_method= accuracy_fn, loss_method=nn.CrossEntropyLoss(), optimizer_method='Adam', lr = 0.001)\n",
        "\n",
        "RunThePredictAlgorithm(oversampling_df, 70, 'robust', LassoFeatureElimination, PyTorch_TrainTest_Step,\n",
        "                       True, accuracy_method= accuracy_fn, loss_method=nn.CrossEntropyLoss(), optimizer_method='Adam', lr = 0.001)"
      ]
    }
  ],
  "metadata": {
    "colab": {
      "provenance": []
    },
    "kernelspec": {
      "display_name": "Python 3",
      "name": "python3"
    },
    "language_info": {
      "codemirror_mode": {
        "name": "ipython",
        "version": 3
      },
      "file_extension": ".py",
      "mimetype": "text/x-python",
      "name": "python",
      "nbconvert_exporter": "python",
      "pygments_lexer": "ipython3",
      "version": "3.10.4"
    }
  },
  "nbformat": 4,
  "nbformat_minor": 0
}
