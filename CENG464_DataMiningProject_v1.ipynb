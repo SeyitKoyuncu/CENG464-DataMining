{
  "cells": [
    {
      "cell_type": "markdown",
      "metadata": {
        "id": "o9Xx0621S0ko"
      },
      "source": [
        "# Import The libaries"
      ]
    },
    {
      "cell_type": "code",
      "execution_count": 1,
      "metadata": {
        "id": "kN7fd5_DS5Mu"
      },
      "outputs": [],
      "source": [
        "import numpy as np\n",
        "import pandas as pd\n",
        "import matplotlib.pyplot as plt\n",
        "import seaborn as sns"
      ]
    },
    {
      "cell_type": "markdown",
      "metadata": {
        "id": "3ip3ch6JS8b1"
      },
      "source": [
        "# Read DataSet"
      ]
    },
    {
      "cell_type": "code",
      "execution_count": 2,
      "metadata": {
        "id": "jd-9AFVNS9vR"
      },
      "outputs": [],
      "source": [
        "df = pd.DataFrame(pd.read_csv(\"file1.csv\"))"
      ]
    },
    {
      "cell_type": "code",
      "execution_count": 3,
      "metadata": {
        "colab": {
          "base_uri": "https://localhost:8080/"
        },
        "id": "1xQZ3R7VTGnX",
        "outputId": "e586ac95-a2bf-44bc-851e-8323ed249e19"
      },
      "outputs": [
        {
          "output_type": "execute_result",
          "data": {
            "text/plain": [
              "(Index(['Unnamed: 0', 'Q11_1', 'Q11_2', 'Q11_3', 'Q11_4', 'Q11_5', 'Q11_6',\n",
              "        'Q11_7', 'Q11_8', 'Q11_9', 'Q11_10', 'Q11_11', 'Q11_12', 'Q11_13',\n",
              "        'Q11_Dont_Know', 'Q12_1', 'Q12_2', 'Q12_3', 'Q12_4', 'Q12_5', 'Q12_6',\n",
              "        'Q12_7', 'Q12_8', 'Q12_9', 'Q12_10', 'Q12_11', 'Q12_12', 'Q12_13',\n",
              "        'Q12_14', 'Q12_Dont_Know', 'Q13_1', 'Q13_2', 'Q13_3', 'Q13_4', 'Q13_5',\n",
              "        'Q13_6', 'Q13_7', 'Q13_8', 'Q13_9', 'Q13_10', 'Q13_11', 'Q13_12',\n",
              "        'Q13_13', 'Q13_14', 'Q13_15', 'Q13_16', 'Q13_Dont_Know', 'Q14', 'Q15',\n",
              "        'Q17', 'Q18_1', 'Q18_2', 'Q18_3', 'Q18_4', 'Q18_5', 'Q18_6', 'Q18_7',\n",
              "        'Q18_8', 'Q18_9', 'Q18_10', 'Q18_11', 'Q18_12', 'Q18_13', 'Q18_14',\n",
              "        'Q18_15', 'Q18_16', 'Q18_17', 'Q18_18', 'Q18_19', 'Q18_20', 'Q18_21',\n",
              "        'Q18_22', 'Q18_23', 'Q20', 'Q21', 'Q16'],\n",
              "       dtype='object'),\n",
              " 76)"
            ]
          },
          "metadata": {},
          "execution_count": 3
        }
      ],
      "source": [
        "df.columns, len(df.columns)"
      ]
    },
    {
      "cell_type": "code",
      "execution_count": 4,
      "metadata": {
        "colab": {
          "base_uri": "https://localhost:8080/",
          "height": 392
        },
        "id": "dTyDgk96WQ8z",
        "outputId": "3b8174d8-81c5-4442-eba3-6961c2052a33"
      },
      "outputs": [
        {
          "output_type": "execute_result",
          "data": {
            "text/plain": [
              "   Unnamed: 0  Q11_1  Q11_2  Q11_3  Q11_4  Q11_5  Q11_6  Q11_7  Q11_8  Q11_9  \\\n",
              "0           0      0      0      0      1      1      0      0      1      0   \n",
              "1           1      1      0      0      1      0      0      1      0      0   \n",
              "2           2      1      1      0      1      0      0      1      1      0   \n",
              "3           3      0      0      0      0      0      0      0      0      0   \n",
              "4           4      1      1      0      1      0      0      1      1      0   \n",
              "5           5      0      1      0      0      0      0      0      0      0   \n",
              "6           6      1      0      0      1      1      0      1      1      0   \n",
              "7           7      1      0      1      0      1      1      1      0      0   \n",
              "8           8      1      1      0      0      0      0      1      1      0   \n",
              "9           9      1      0      0      0      0      0      0      0      0   \n",
              "\n",
              "   ...  Q18_17  Q18_18  Q18_19  Q18_20  Q18_21  Q18_22  Q18_23  Q20  Q21  Q16  \n",
              "0  ...       5       5       5       5       5       5       5    3    3    A  \n",
              "1  ...       4       2       4       2       2       2       2    3    3    D  \n",
              "2  ...       4       4       ?       ?       4       2       4    4    1    A  \n",
              "3  ...       ?       ?       ?       ?       ?       ?       ?    3    3    C  \n",
              "4  ...       ?       ?       1       1       ?       ?       ?    3    3    D  \n",
              "5  ...       4       4       4       4       4       4       4    3    3    B  \n",
              "6  ...       5       1       5       3       5       3       3    3    1    A  \n",
              "7  ...       3       2       5       5       5       5       5    5    1    A  \n",
              "8  ...       2       2       2       2       2       2       3    1    2    A  \n",
              "9  ...       4       1       4       1       4       1       1    4    4    A  \n",
              "\n",
              "[10 rows x 76 columns]"
            ],
            "text/html": [
              "\n",
              "  <div id=\"df-299c40de-08f2-40a6-9c4d-537a00dd47b6\" class=\"colab-df-container\">\n",
              "    <div>\n",
              "<style scoped>\n",
              "    .dataframe tbody tr th:only-of-type {\n",
              "        vertical-align: middle;\n",
              "    }\n",
              "\n",
              "    .dataframe tbody tr th {\n",
              "        vertical-align: top;\n",
              "    }\n",
              "\n",
              "    .dataframe thead th {\n",
              "        text-align: right;\n",
              "    }\n",
              "</style>\n",
              "<table border=\"1\" class=\"dataframe\">\n",
              "  <thead>\n",
              "    <tr style=\"text-align: right;\">\n",
              "      <th></th>\n",
              "      <th>Unnamed: 0</th>\n",
              "      <th>Q11_1</th>\n",
              "      <th>Q11_2</th>\n",
              "      <th>Q11_3</th>\n",
              "      <th>Q11_4</th>\n",
              "      <th>Q11_5</th>\n",
              "      <th>Q11_6</th>\n",
              "      <th>Q11_7</th>\n",
              "      <th>Q11_8</th>\n",
              "      <th>Q11_9</th>\n",
              "      <th>...</th>\n",
              "      <th>Q18_17</th>\n",
              "      <th>Q18_18</th>\n",
              "      <th>Q18_19</th>\n",
              "      <th>Q18_20</th>\n",
              "      <th>Q18_21</th>\n",
              "      <th>Q18_22</th>\n",
              "      <th>Q18_23</th>\n",
              "      <th>Q20</th>\n",
              "      <th>Q21</th>\n",
              "      <th>Q16</th>\n",
              "    </tr>\n",
              "  </thead>\n",
              "  <tbody>\n",
              "    <tr>\n",
              "      <th>0</th>\n",
              "      <td>0</td>\n",
              "      <td>0</td>\n",
              "      <td>0</td>\n",
              "      <td>0</td>\n",
              "      <td>1</td>\n",
              "      <td>1</td>\n",
              "      <td>0</td>\n",
              "      <td>0</td>\n",
              "      <td>1</td>\n",
              "      <td>0</td>\n",
              "      <td>...</td>\n",
              "      <td>5</td>\n",
              "      <td>5</td>\n",
              "      <td>5</td>\n",
              "      <td>5</td>\n",
              "      <td>5</td>\n",
              "      <td>5</td>\n",
              "      <td>5</td>\n",
              "      <td>3</td>\n",
              "      <td>3</td>\n",
              "      <td>A</td>\n",
              "    </tr>\n",
              "    <tr>\n",
              "      <th>1</th>\n",
              "      <td>1</td>\n",
              "      <td>1</td>\n",
              "      <td>0</td>\n",
              "      <td>0</td>\n",
              "      <td>1</td>\n",
              "      <td>0</td>\n",
              "      <td>0</td>\n",
              "      <td>1</td>\n",
              "      <td>0</td>\n",
              "      <td>0</td>\n",
              "      <td>...</td>\n",
              "      <td>4</td>\n",
              "      <td>2</td>\n",
              "      <td>4</td>\n",
              "      <td>2</td>\n",
              "      <td>2</td>\n",
              "      <td>2</td>\n",
              "      <td>2</td>\n",
              "      <td>3</td>\n",
              "      <td>3</td>\n",
              "      <td>D</td>\n",
              "    </tr>\n",
              "    <tr>\n",
              "      <th>2</th>\n",
              "      <td>2</td>\n",
              "      <td>1</td>\n",
              "      <td>1</td>\n",
              "      <td>0</td>\n",
              "      <td>1</td>\n",
              "      <td>0</td>\n",
              "      <td>0</td>\n",
              "      <td>1</td>\n",
              "      <td>1</td>\n",
              "      <td>0</td>\n",
              "      <td>...</td>\n",
              "      <td>4</td>\n",
              "      <td>4</td>\n",
              "      <td>?</td>\n",
              "      <td>?</td>\n",
              "      <td>4</td>\n",
              "      <td>2</td>\n",
              "      <td>4</td>\n",
              "      <td>4</td>\n",
              "      <td>1</td>\n",
              "      <td>A</td>\n",
              "    </tr>\n",
              "    <tr>\n",
              "      <th>3</th>\n",
              "      <td>3</td>\n",
              "      <td>0</td>\n",
              "      <td>0</td>\n",
              "      <td>0</td>\n",
              "      <td>0</td>\n",
              "      <td>0</td>\n",
              "      <td>0</td>\n",
              "      <td>0</td>\n",
              "      <td>0</td>\n",
              "      <td>0</td>\n",
              "      <td>...</td>\n",
              "      <td>?</td>\n",
              "      <td>?</td>\n",
              "      <td>?</td>\n",
              "      <td>?</td>\n",
              "      <td>?</td>\n",
              "      <td>?</td>\n",
              "      <td>?</td>\n",
              "      <td>3</td>\n",
              "      <td>3</td>\n",
              "      <td>C</td>\n",
              "    </tr>\n",
              "    <tr>\n",
              "      <th>4</th>\n",
              "      <td>4</td>\n",
              "      <td>1</td>\n",
              "      <td>1</td>\n",
              "      <td>0</td>\n",
              "      <td>1</td>\n",
              "      <td>0</td>\n",
              "      <td>0</td>\n",
              "      <td>1</td>\n",
              "      <td>1</td>\n",
              "      <td>0</td>\n",
              "      <td>...</td>\n",
              "      <td>?</td>\n",
              "      <td>?</td>\n",
              "      <td>1</td>\n",
              "      <td>1</td>\n",
              "      <td>?</td>\n",
              "      <td>?</td>\n",
              "      <td>?</td>\n",
              "      <td>3</td>\n",
              "      <td>3</td>\n",
              "      <td>D</td>\n",
              "    </tr>\n",
              "    <tr>\n",
              "      <th>5</th>\n",
              "      <td>5</td>\n",
              "      <td>0</td>\n",
              "      <td>1</td>\n",
              "      <td>0</td>\n",
              "      <td>0</td>\n",
              "      <td>0</td>\n",
              "      <td>0</td>\n",
              "      <td>0</td>\n",
              "      <td>0</td>\n",
              "      <td>0</td>\n",
              "      <td>...</td>\n",
              "      <td>4</td>\n",
              "      <td>4</td>\n",
              "      <td>4</td>\n",
              "      <td>4</td>\n",
              "      <td>4</td>\n",
              "      <td>4</td>\n",
              "      <td>4</td>\n",
              "      <td>3</td>\n",
              "      <td>3</td>\n",
              "      <td>B</td>\n",
              "    </tr>\n",
              "    <tr>\n",
              "      <th>6</th>\n",
              "      <td>6</td>\n",
              "      <td>1</td>\n",
              "      <td>0</td>\n",
              "      <td>0</td>\n",
              "      <td>1</td>\n",
              "      <td>1</td>\n",
              "      <td>0</td>\n",
              "      <td>1</td>\n",
              "      <td>1</td>\n",
              "      <td>0</td>\n",
              "      <td>...</td>\n",
              "      <td>5</td>\n",
              "      <td>1</td>\n",
              "      <td>5</td>\n",
              "      <td>3</td>\n",
              "      <td>5</td>\n",
              "      <td>3</td>\n",
              "      <td>3</td>\n",
              "      <td>3</td>\n",
              "      <td>1</td>\n",
              "      <td>A</td>\n",
              "    </tr>\n",
              "    <tr>\n",
              "      <th>7</th>\n",
              "      <td>7</td>\n",
              "      <td>1</td>\n",
              "      <td>0</td>\n",
              "      <td>1</td>\n",
              "      <td>0</td>\n",
              "      <td>1</td>\n",
              "      <td>1</td>\n",
              "      <td>1</td>\n",
              "      <td>0</td>\n",
              "      <td>0</td>\n",
              "      <td>...</td>\n",
              "      <td>3</td>\n",
              "      <td>2</td>\n",
              "      <td>5</td>\n",
              "      <td>5</td>\n",
              "      <td>5</td>\n",
              "      <td>5</td>\n",
              "      <td>5</td>\n",
              "      <td>5</td>\n",
              "      <td>1</td>\n",
              "      <td>A</td>\n",
              "    </tr>\n",
              "    <tr>\n",
              "      <th>8</th>\n",
              "      <td>8</td>\n",
              "      <td>1</td>\n",
              "      <td>1</td>\n",
              "      <td>0</td>\n",
              "      <td>0</td>\n",
              "      <td>0</td>\n",
              "      <td>0</td>\n",
              "      <td>1</td>\n",
              "      <td>1</td>\n",
              "      <td>0</td>\n",
              "      <td>...</td>\n",
              "      <td>2</td>\n",
              "      <td>2</td>\n",
              "      <td>2</td>\n",
              "      <td>2</td>\n",
              "      <td>2</td>\n",
              "      <td>2</td>\n",
              "      <td>3</td>\n",
              "      <td>1</td>\n",
              "      <td>2</td>\n",
              "      <td>A</td>\n",
              "    </tr>\n",
              "    <tr>\n",
              "      <th>9</th>\n",
              "      <td>9</td>\n",
              "      <td>1</td>\n",
              "      <td>0</td>\n",
              "      <td>0</td>\n",
              "      <td>0</td>\n",
              "      <td>0</td>\n",
              "      <td>0</td>\n",
              "      <td>0</td>\n",
              "      <td>0</td>\n",
              "      <td>0</td>\n",
              "      <td>...</td>\n",
              "      <td>4</td>\n",
              "      <td>1</td>\n",
              "      <td>4</td>\n",
              "      <td>1</td>\n",
              "      <td>4</td>\n",
              "      <td>1</td>\n",
              "      <td>1</td>\n",
              "      <td>4</td>\n",
              "      <td>4</td>\n",
              "      <td>A</td>\n",
              "    </tr>\n",
              "  </tbody>\n",
              "</table>\n",
              "<p>10 rows × 76 columns</p>\n",
              "</div>\n",
              "    <div class=\"colab-df-buttons\">\n",
              "\n",
              "  <div class=\"colab-df-container\">\n",
              "    <button class=\"colab-df-convert\" onclick=\"convertToInteractive('df-299c40de-08f2-40a6-9c4d-537a00dd47b6')\"\n",
              "            title=\"Convert this dataframe to an interactive table.\"\n",
              "            style=\"display:none;\">\n",
              "\n",
              "  <svg xmlns=\"http://www.w3.org/2000/svg\" height=\"24px\" viewBox=\"0 -960 960 960\">\n",
              "    <path d=\"M120-120v-720h720v720H120Zm60-500h600v-160H180v160Zm220 220h160v-160H400v160Zm0 220h160v-160H400v160ZM180-400h160v-160H180v160Zm440 0h160v-160H620v160ZM180-180h160v-160H180v160Zm440 0h160v-160H620v160Z\"/>\n",
              "  </svg>\n",
              "    </button>\n",
              "\n",
              "  <style>\n",
              "    .colab-df-container {\n",
              "      display:flex;\n",
              "      gap: 12px;\n",
              "    }\n",
              "\n",
              "    .colab-df-convert {\n",
              "      background-color: #E8F0FE;\n",
              "      border: none;\n",
              "      border-radius: 50%;\n",
              "      cursor: pointer;\n",
              "      display: none;\n",
              "      fill: #1967D2;\n",
              "      height: 32px;\n",
              "      padding: 0 0 0 0;\n",
              "      width: 32px;\n",
              "    }\n",
              "\n",
              "    .colab-df-convert:hover {\n",
              "      background-color: #E2EBFA;\n",
              "      box-shadow: 0px 1px 2px rgba(60, 64, 67, 0.3), 0px 1px 3px 1px rgba(60, 64, 67, 0.15);\n",
              "      fill: #174EA6;\n",
              "    }\n",
              "\n",
              "    .colab-df-buttons div {\n",
              "      margin-bottom: 4px;\n",
              "    }\n",
              "\n",
              "    [theme=dark] .colab-df-convert {\n",
              "      background-color: #3B4455;\n",
              "      fill: #D2E3FC;\n",
              "    }\n",
              "\n",
              "    [theme=dark] .colab-df-convert:hover {\n",
              "      background-color: #434B5C;\n",
              "      box-shadow: 0px 1px 3px 1px rgba(0, 0, 0, 0.15);\n",
              "      filter: drop-shadow(0px 1px 2px rgba(0, 0, 0, 0.3));\n",
              "      fill: #FFFFFF;\n",
              "    }\n",
              "  </style>\n",
              "\n",
              "    <script>\n",
              "      const buttonEl =\n",
              "        document.querySelector('#df-299c40de-08f2-40a6-9c4d-537a00dd47b6 button.colab-df-convert');\n",
              "      buttonEl.style.display =\n",
              "        google.colab.kernel.accessAllowed ? 'block' : 'none';\n",
              "\n",
              "      async function convertToInteractive(key) {\n",
              "        const element = document.querySelector('#df-299c40de-08f2-40a6-9c4d-537a00dd47b6');\n",
              "        const dataTable =\n",
              "          await google.colab.kernel.invokeFunction('convertToInteractive',\n",
              "                                                    [key], {});\n",
              "        if (!dataTable) return;\n",
              "\n",
              "        const docLinkHtml = 'Like what you see? Visit the ' +\n",
              "          '<a target=\"_blank\" href=https://colab.research.google.com/notebooks/data_table.ipynb>data table notebook</a>'\n",
              "          + ' to learn more about interactive tables.';\n",
              "        element.innerHTML = '';\n",
              "        dataTable['output_type'] = 'display_data';\n",
              "        await google.colab.output.renderOutput(dataTable, element);\n",
              "        const docLink = document.createElement('div');\n",
              "        docLink.innerHTML = docLinkHtml;\n",
              "        element.appendChild(docLink);\n",
              "      }\n",
              "    </script>\n",
              "  </div>\n",
              "\n",
              "\n",
              "<div id=\"df-c34e69f2-4b6d-40de-8029-994324ad5b36\">\n",
              "  <button class=\"colab-df-quickchart\" onclick=\"quickchart('df-c34e69f2-4b6d-40de-8029-994324ad5b36')\"\n",
              "            title=\"Suggest charts\"\n",
              "            style=\"display:none;\">\n",
              "\n",
              "<svg xmlns=\"http://www.w3.org/2000/svg\" height=\"24px\"viewBox=\"0 0 24 24\"\n",
              "     width=\"24px\">\n",
              "    <g>\n",
              "        <path d=\"M19 3H5c-1.1 0-2 .9-2 2v14c0 1.1.9 2 2 2h14c1.1 0 2-.9 2-2V5c0-1.1-.9-2-2-2zM9 17H7v-7h2v7zm4 0h-2V7h2v10zm4 0h-2v-4h2v4z\"/>\n",
              "    </g>\n",
              "</svg>\n",
              "  </button>\n",
              "\n",
              "<style>\n",
              "  .colab-df-quickchart {\n",
              "      --bg-color: #E8F0FE;\n",
              "      --fill-color: #1967D2;\n",
              "      --hover-bg-color: #E2EBFA;\n",
              "      --hover-fill-color: #174EA6;\n",
              "      --disabled-fill-color: #AAA;\n",
              "      --disabled-bg-color: #DDD;\n",
              "  }\n",
              "\n",
              "  [theme=dark] .colab-df-quickchart {\n",
              "      --bg-color: #3B4455;\n",
              "      --fill-color: #D2E3FC;\n",
              "      --hover-bg-color: #434B5C;\n",
              "      --hover-fill-color: #FFFFFF;\n",
              "      --disabled-bg-color: #3B4455;\n",
              "      --disabled-fill-color: #666;\n",
              "  }\n",
              "\n",
              "  .colab-df-quickchart {\n",
              "    background-color: var(--bg-color);\n",
              "    border: none;\n",
              "    border-radius: 50%;\n",
              "    cursor: pointer;\n",
              "    display: none;\n",
              "    fill: var(--fill-color);\n",
              "    height: 32px;\n",
              "    padding: 0;\n",
              "    width: 32px;\n",
              "  }\n",
              "\n",
              "  .colab-df-quickchart:hover {\n",
              "    background-color: var(--hover-bg-color);\n",
              "    box-shadow: 0 1px 2px rgba(60, 64, 67, 0.3), 0 1px 3px 1px rgba(60, 64, 67, 0.15);\n",
              "    fill: var(--button-hover-fill-color);\n",
              "  }\n",
              "\n",
              "  .colab-df-quickchart-complete:disabled,\n",
              "  .colab-df-quickchart-complete:disabled:hover {\n",
              "    background-color: var(--disabled-bg-color);\n",
              "    fill: var(--disabled-fill-color);\n",
              "    box-shadow: none;\n",
              "  }\n",
              "\n",
              "  .colab-df-spinner {\n",
              "    border: 2px solid var(--fill-color);\n",
              "    border-color: transparent;\n",
              "    border-bottom-color: var(--fill-color);\n",
              "    animation:\n",
              "      spin 1s steps(1) infinite;\n",
              "  }\n",
              "\n",
              "  @keyframes spin {\n",
              "    0% {\n",
              "      border-color: transparent;\n",
              "      border-bottom-color: var(--fill-color);\n",
              "      border-left-color: var(--fill-color);\n",
              "    }\n",
              "    20% {\n",
              "      border-color: transparent;\n",
              "      border-left-color: var(--fill-color);\n",
              "      border-top-color: var(--fill-color);\n",
              "    }\n",
              "    30% {\n",
              "      border-color: transparent;\n",
              "      border-left-color: var(--fill-color);\n",
              "      border-top-color: var(--fill-color);\n",
              "      border-right-color: var(--fill-color);\n",
              "    }\n",
              "    40% {\n",
              "      border-color: transparent;\n",
              "      border-right-color: var(--fill-color);\n",
              "      border-top-color: var(--fill-color);\n",
              "    }\n",
              "    60% {\n",
              "      border-color: transparent;\n",
              "      border-right-color: var(--fill-color);\n",
              "    }\n",
              "    80% {\n",
              "      border-color: transparent;\n",
              "      border-right-color: var(--fill-color);\n",
              "      border-bottom-color: var(--fill-color);\n",
              "    }\n",
              "    90% {\n",
              "      border-color: transparent;\n",
              "      border-bottom-color: var(--fill-color);\n",
              "    }\n",
              "  }\n",
              "</style>\n",
              "\n",
              "  <script>\n",
              "    async function quickchart(key) {\n",
              "      const quickchartButtonEl =\n",
              "        document.querySelector('#' + key + ' button');\n",
              "      quickchartButtonEl.disabled = true;  // To prevent multiple clicks.\n",
              "      quickchartButtonEl.classList.add('colab-df-spinner');\n",
              "      try {\n",
              "        const charts = await google.colab.kernel.invokeFunction(\n",
              "            'suggestCharts', [key], {});\n",
              "      } catch (error) {\n",
              "        console.error('Error during call to suggestCharts:', error);\n",
              "      }\n",
              "      quickchartButtonEl.classList.remove('colab-df-spinner');\n",
              "      quickchartButtonEl.classList.add('colab-df-quickchart-complete');\n",
              "    }\n",
              "    (() => {\n",
              "      let quickchartButtonEl =\n",
              "        document.querySelector('#df-c34e69f2-4b6d-40de-8029-994324ad5b36 button');\n",
              "      quickchartButtonEl.style.display =\n",
              "        google.colab.kernel.accessAllowed ? 'block' : 'none';\n",
              "    })();\n",
              "  </script>\n",
              "</div>\n",
              "\n",
              "    </div>\n",
              "  </div>\n"
            ]
          },
          "metadata": {},
          "execution_count": 4
        }
      ],
      "source": [
        "df.head(10)"
      ]
    },
    {
      "cell_type": "code",
      "execution_count": 5,
      "metadata": {
        "colab": {
          "base_uri": "https://localhost:8080/"
        },
        "id": "0ZqJwVspagIP",
        "outputId": "bec5599a-a2fe-435e-f5e5-89e4cb581273"
      },
      "outputs": [
        {
          "output_type": "execute_result",
          "data": {
            "text/plain": [
              "<bound method NDFrame.describe of       Unnamed: 0  Q11_1  Q11_2  Q11_3  Q11_4  Q11_5  Q11_6  Q11_7  Q11_8  \\\n",
              "0              0      0      0      0      1      1      0      0      1   \n",
              "1              1      1      0      0      1      0      0      1      0   \n",
              "2              2      1      1      0      1      0      0      1      1   \n",
              "3              3      0      0      0      0      0      0      0      0   \n",
              "4              4      1      1      0      1      0      0      1      1   \n",
              "...          ...    ...    ...    ...    ...    ...    ...    ...    ...   \n",
              "6103        6103      0      1      0      0      0      0      1      1   \n",
              "6104        6104      0      1      0      1      0      0      0      1   \n",
              "6105        6105      1      0      1      0      0      0      0      0   \n",
              "6106        6106      0      0      1      0      0      0      0      1   \n",
              "6107        6107      1      0      0      1      0      0      0      1   \n",
              "\n",
              "      Q11_9  ...  Q18_17  Q18_18  Q18_19  Q18_20  Q18_21  Q18_22  Q18_23  Q20  \\\n",
              "0         0  ...       5       5       5       5       5       5       5    3   \n",
              "1         0  ...       4       2       4       2       2       2       2    3   \n",
              "2         0  ...       4       4       ?       ?       4       2       4    4   \n",
              "3         0  ...       ?       ?       ?       ?       ?       ?       ?    3   \n",
              "4         0  ...       ?       ?       1       1       ?       ?       ?    3   \n",
              "...     ...  ...     ...     ...     ...     ...     ...     ...     ...  ...   \n",
              "6103      1  ...       2       2       3       3       2       1       1    1   \n",
              "6104      0  ...       ?       ?       ?       ?       ?       ?       ?    3   \n",
              "6105      0  ...       4       1       5       4       5       4       5    5   \n",
              "6106      0  ...       1       3       4       5       3       2       3    2   \n",
              "6107      0  ...       3       3       3       3       3       3       3    3   \n",
              "\n",
              "      Q21  Q16  \n",
              "0       3    A  \n",
              "1       3    D  \n",
              "2       1    A  \n",
              "3       3    C  \n",
              "4       3    D  \n",
              "...   ...  ...  \n",
              "6103    3    B  \n",
              "6104    3    A  \n",
              "6105    2    A  \n",
              "6106    3    A  \n",
              "6107    3    D  \n",
              "\n",
              "[6108 rows x 76 columns]>"
            ]
          },
          "metadata": {},
          "execution_count": 5
        }
      ],
      "source": [
        "df.describe"
      ]
    },
    {
      "cell_type": "markdown",
      "metadata": {
        "id": "VMuVgQS_WP__"
      },
      "source": []
    },
    {
      "cell_type": "markdown",
      "metadata": {
        "id": "lrBig6ByWP__"
      },
      "source": [
        "### Check the target column values"
      ]
    },
    {
      "cell_type": "code",
      "execution_count": 6,
      "metadata": {
        "colab": {
          "base_uri": "https://localhost:8080/",
          "height": 519
        },
        "id": "U_bPh_XfWP__",
        "outputId": "dabf8985-f901-432d-d53a-b5394570beb6"
      },
      "outputs": [
        {
          "output_type": "stream",
          "name": "stdout",
          "text": [
            "['A' 'D' 'C' 'B']\n"
          ]
        },
        {
          "output_type": "display_data",
          "data": {
            "text/plain": [
              "<Figure size 640x480 with 1 Axes>"
            ],
            "image/png": "[encoded data removed]"
          },
          "metadata": {}
        },
        {
          "output_type": "stream",
          "name": "stdout",
          "text": [
            "Lenght of A's 2883\n",
            "Lenght of B's 1526\n",
            "Lenght of C's 892\n",
            "Lenght of D's 807\n"
          ]
        }
      ],
      "source": [
        "print(df['Q16'].unique())\n",
        "class_distribution = {'Class A': len(df[df['Q16'] == 'A'].value_counts()), 'Class B': len(df[df['Q16'] == 'B'].value_counts()), 'Class C': len(df[df['Q16'] == 'C'].value_counts()), 'Class D': len(df[df['Q16'] == 'D'].value_counts())}\n",
        "\n",
        "sns.barplot(x=list(class_distribution.keys()), y=list(class_distribution.values()))\n",
        "plt.show()\n",
        "print(f\"Lenght of A's {len(df[df['Q16'] == 'A'].value_counts())}\")\n",
        "print(f\"Lenght of B's {len(df[df['Q16'] == 'B'].value_counts())}\")\n",
        "print(f\"Lenght of C's {len(df[df['Q16'] == 'C'].value_counts())}\")\n",
        "print(f\"Lenght of D's {len(df[df['Q16'] == 'D'].value_counts())}\")"
      ]
    },
    {
      "cell_type": "markdown",
      "metadata": {
        "id": "PL_UL5IdWQAA"
      },
      "source": [
        "## Convert String Targets To The Countable Data"
      ]
    },
    {
      "cell_type": "code",
      "execution_count": 7,
      "metadata": {
        "colab": {
          "base_uri": "https://localhost:8080/"
        },
        "id": "b-NPN1doWQAA",
        "outputId": "e26db7ae-b530-4876-d3e8-c2169d9ba432"
      },
      "outputs": [
        {
          "output_type": "stream",
          "name": "stdout",
          "text": [
            "['A' 'D' 'C' 'B']\n"
          ]
        },
        {
          "output_type": "stream",
          "name": "stderr",
          "text": [
            "<ipython-input-7-2a5830fd3b20>:3: SettingWithCopyWarning: \n",
            "A value is trying to be set on a copy of a slice from a DataFrame\n",
            "\n",
            "See the caveats in the documentation: https://pandas.pydata.org/pandas-docs/stable/user_guide/indexing.html#returning-a-view-versus-a-copy\n",
            "  if(df['Q16'][i] == 'A'): df['Q16'][i] = 0\n",
            "<ipython-input-7-2a5830fd3b20>:6: SettingWithCopyWarning: \n",
            "A value is trying to be set on a copy of a slice from a DataFrame\n",
            "\n",
            "See the caveats in the documentation: https://pandas.pydata.org/pandas-docs/stable/user_guide/indexing.html#returning-a-view-versus-a-copy\n",
            "  elif(df['Q16'][i] == 'D'): df['Q16'][i] = 3\n",
            "<ipython-input-7-2a5830fd3b20>:5: SettingWithCopyWarning: \n",
            "A value is trying to be set on a copy of a slice from a DataFrame\n",
            "\n",
            "See the caveats in the documentation: https://pandas.pydata.org/pandas-docs/stable/user_guide/indexing.html#returning-a-view-versus-a-copy\n",
            "  elif(df['Q16'][i] == 'C'): df['Q16'][i] = 2\n",
            "<ipython-input-7-2a5830fd3b20>:4: SettingWithCopyWarning: \n",
            "A value is trying to be set on a copy of a slice from a DataFrame\n",
            "\n",
            "See the caveats in the documentation: https://pandas.pydata.org/pandas-docs/stable/user_guide/indexing.html#returning-a-view-versus-a-copy\n",
            "  elif(df['Q16'][i] == 'B'): df['Q16'][i] = 1\n"
          ]
        },
        {
          "output_type": "stream",
          "name": "stdout",
          "text": [
            "[0 3 2 1]\n"
          ]
        }
      ],
      "source": [
        "print(df['Q16'].unique())\n",
        "for i in range(len(df['Q16'])):\n",
        "    if(df['Q16'][i] == 'A'): df['Q16'][i] = 0\n",
        "    elif(df['Q16'][i] == 'B'): df['Q16'][i] = 1\n",
        "    elif(df['Q16'][i] == 'C'): df['Q16'][i] = 2\n",
        "    elif(df['Q16'][i] == 'D'): df['Q16'][i] = 3\n",
        "\n",
        "print(df['Q16'].unique())"
      ]
    },
    {
      "cell_type": "code",
      "execution_count": 8,
      "metadata": {
        "colab": {
          "base_uri": "https://localhost:8080/"
        },
        "id": "Lol9VrQiWQAB",
        "outputId": "f66ca6bb-976c-4ae1-8e46-56f4642bf2af"
      },
      "outputs": [
        {
          "output_type": "stream",
          "name": "stdout",
          "text": [
            "Lenght of 0's 2883\n",
            "Lenght of 1's 1526\n",
            "Lenght of 2's 892\n",
            "Lenght of 3's 807\n"
          ]
        }
      ],
      "source": [
        "def PrintTheTargetColumnsRange(df):\n",
        "    print(f\"Lenght of 0's {len(df[df['Q16'] == 0])}\")\n",
        "    print(f\"Lenght of 1's {len(df[df['Q16'] == 1])}\")\n",
        "    print(f\"Lenght of 2's {len(df[df['Q16'] == 2])}\")\n",
        "    print(f\"Lenght of 3's {len(df[df['Q16'] == 3])}\")\n",
        "\n",
        "PrintTheTargetColumnsRange(df)"
      ]
    },
    {
      "cell_type": "markdown",
      "metadata": {
        "id": "KUf9LT6ndQib"
      },
      "source": [
        "### Check the DataTypes of all columns"
      ]
    },
    {
      "cell_type": "code",
      "execution_count": 9,
      "metadata": {
        "colab": {
          "base_uri": "https://localhost:8080/"
        },
        "id": "DBBTGps-dV9M",
        "outputId": "dcb52e52-6ffe-4e11-ec17-1db2715ef616"
      },
      "outputs": [
        {
          "output_type": "execute_result",
          "data": {
            "text/plain": [
              "Unnamed: 0     int64\n",
              "Q11_1          int64\n",
              "Q11_2          int64\n",
              "Q11_3          int64\n",
              "Q11_4          int64\n",
              "               ...  \n",
              "Q18_22        object\n",
              "Q18_23        object\n",
              "Q20            int64\n",
              "Q21            int64\n",
              "Q16           object\n",
              "Length: 76, dtype: object"
            ]
          },
          "metadata": {},
          "execution_count": 9
        }
      ],
      "source": [
        "df.dtypes"
      ]
    },
    {
      "cell_type": "markdown",
      "metadata": {
        "id": "ujrYjBlUWQAC"
      },
      "source": [
        "## Check The Uniqes of Columns"
      ]
    },
    {
      "cell_type": "code",
      "execution_count": 10,
      "metadata": {
        "colab": {
          "base_uri": "https://localhost:8080/"
        },
        "id": "jXZwRWKhWQAC",
        "outputId": "4328048b-c08f-4350-86b8-fe1eb0dd67fd"
      },
      "outputs": [
        {
          "output_type": "stream",
          "name": "stdout",
          "text": [
            "Q11_1 = [0 1]\n",
            "Q11_2 = [0 1]\n",
            "Q11_3 = [0 1]\n",
            "Q11_4 = [1 0]\n",
            "Q11_5 = [1 0]\n",
            "Q11_6 = [0 1]\n",
            "Q11_7 = [0 1]\n",
            "Q11_8 = [1 0]\n",
            "Q11_9 = [0 1]\n",
            "Q11_10 = [0 1]\n",
            "Q11_11 = [1 0]\n",
            "Q11_12 = [0 1]\n",
            "Q11_13 = [0 1]\n",
            "Q11_Dont_Know = [0 1]\n",
            "Q12_1 = [0 1]\n",
            "Q12_2 = [0 1]\n",
            "Q12_3 = [1 0]\n",
            "Q12_4 = [1 0]\n",
            "Q12_5 = [0 1]\n",
            "Q12_6 = [0 1]\n",
            "Q12_7 = [0 1]\n",
            "Q12_8 = [1 0]\n",
            "Q12_9 = [0 1]\n",
            "Q12_10 = [0 1]\n",
            "Q12_11 = [1 0]\n",
            "Q12_12 = [0 1]\n",
            "Q12_13 = [0 1]\n",
            "Q12_14 = [0 1]\n",
            "Q12_Dont_Know = [0 1]\n",
            "Q13_1 = [0 1]\n",
            "Q13_2 = [0 1]\n",
            "Q13_3 = [1 0]\n",
            "Q13_4 = [0 1]\n",
            "Q13_5 = [1 0]\n",
            "Q13_6 = [0 1]\n",
            "Q13_7 = [0 1]\n",
            "Q13_8 = [0 1]\n",
            "Q13_9 = [1 0]\n",
            "Q13_10 = [0 1]\n",
            "Q13_11 = [0 1]\n",
            "Q13_12 = [0 1]\n",
            "Q13_13 = [1 0]\n",
            "Q13_14 = [1 0]\n",
            "Q13_15 = [0 1]\n",
            "Q13_16 = [0 1]\n",
            "Q13_Dont_Know = [0 1]\n",
            "Q14 = ['1' '3' '?' '2' '4' '5']\n",
            "Q15 = ['2' '1' '?']\n",
            "Q17 = ['3' '1' '?' '2' '4' '5']\n",
            "Q18_1 = ['5' '4' '?' '2' '3' '1']\n",
            "Q18_2 = ['5' '3' '?' '4' '1' '2']\n",
            "Q18_3 = ['5' '2' '4' '?' '3' '1']\n",
            "Q18_4 = ['5' '4' '?' '3' '2' '1']\n",
            "Q18_5 = ['5' '3' '4' '?' '2' '1']\n",
            "Q18_6 = ['5' '2' '4' '?' '3' '1']\n",
            "Q18_7 = ['5' '2' '4' '?' '1' '3']\n",
            "Q18_8 = ['5' '3' '4' '?' '2' '1']\n",
            "Q18_9 = ['5' '3' '4' '?' '2' '1']\n",
            "Q18_10 = ['5' '3' '4' '?' '2' '1']\n",
            "Q18_11 = ['5' '2' '?' '4' '1' '3']\n",
            "Q18_12 = ['5' '1' '4' '?' '3' '2']\n",
            "Q18_13 = ['5' '2' '?' '4' '3' '1']\n",
            "Q18_14 = ['5' '4' '?' '3' '2' '1']\n",
            "Q18_15 = ['5' '2' '?' '4' '3' '1']\n",
            "Q18_16 = ['5' '2' '?' '4' '1' '3']\n",
            "Q18_17 = ['5' '4' '?' '3' '2' '1']\n",
            "Q18_18 = ['5' '2' '4' '?' '1' '3']\n",
            "Q18_19 = ['5' '4' '?' '1' '2' '3']\n",
            "Q18_20 = ['5' '2' '?' '1' '4' '3']\n",
            "Q18_21 = ['5' '2' '4' '?' '3' '1']\n",
            "Q18_22 = ['5' '2' '?' '4' '3' '1']\n",
            "Q18_23 = ['5' '2' '4' '?' '3' '1']\n",
            "Q20 = [3 4 5 1 2]\n",
            "Q21 = [3 1 2 4 5]\n",
            "Q16 = [0 3 2 1]\n"
          ]
        }
      ],
      "source": [
        "for column in df.columns:\n",
        "    if column != 'Unnamed: 0':\n",
        "        print(f\"{column} = {df[column].unique()}\")"
      ]
    },
    {
      "cell_type": "markdown",
      "metadata": {
        "id": "fbw4uU1EXYml"
      },
      "source": [
        "# Handling NULL Values"
      ]
    },
    {
      "cell_type": "code",
      "execution_count": 11,
      "metadata": {
        "id": "mJitLH0mXhDH"
      },
      "outputs": [],
      "source": [
        "null_df = df.isnull().sum()"
      ]
    },
    {
      "cell_type": "code",
      "execution_count": 12,
      "metadata": {
        "colab": {
          "base_uri": "https://localhost:8080/"
        },
        "id": "G1ex53PmX3n4",
        "outputId": "480b2dfb-0e1b-46f3-b6da-b389d6580382"
      },
      "outputs": [
        {
          "output_type": "execute_result",
          "data": {
            "text/plain": [
              "Unnamed: 0    0\n",
              "Q11_1         0\n",
              "Q11_2         0\n",
              "Q11_3         0\n",
              "Q11_4         0\n",
              "             ..\n",
              "Q18_22        0\n",
              "Q18_23        0\n",
              "Q20           0\n",
              "Q21           0\n",
              "Q16           0\n",
              "Length: 76, dtype: int64"
            ]
          },
          "metadata": {},
          "execution_count": 12
        }
      ],
      "source": [
        "null_df"
      ]
    },
    {
      "cell_type": "code",
      "execution_count": 13,
      "metadata": {
        "colab": {
          "base_uri": "https://localhost:8080/"
        },
        "id": "P331kpJEdZSS",
        "outputId": "a380ddae-d64e-48ec-c8f6-838ef7df5004"
      },
      "outputs": [
        {
          "output_type": "execute_result",
          "data": {
            "text/plain": [
              "Unnamed: 0       0\n",
              "Q11_1            0\n",
              "Q11_2            0\n",
              "Q11_3            0\n",
              "Q11_4            0\n",
              "Q11_5            0\n",
              "Q11_6            0\n",
              "Q11_7            0\n",
              "Q11_8            0\n",
              "Q11_9            0\n",
              "Q11_10           0\n",
              "Q11_11           0\n",
              "Q11_12           0\n",
              "Q11_13           0\n",
              "Q11_Dont_Know    0\n",
              "Q12_1            0\n",
              "Q12_2            0\n",
              "Q12_3            0\n",
              "Q12_4            0\n",
              "Q12_5            0\n",
              "Q12_6            0\n",
              "Q12_7            0\n",
              "Q12_8            0\n",
              "Q12_9            0\n",
              "Q12_10           0\n",
              "Q12_11           0\n",
              "Q12_12           0\n",
              "Q12_13           0\n",
              "Q12_14           0\n",
              "Q12_Dont_Know    0\n",
              "Q13_1            0\n",
              "Q13_2            0\n",
              "Q13_3            0\n",
              "Q13_4            0\n",
              "Q13_5            0\n",
              "dtype: int64"
            ]
          },
          "metadata": {},
          "execution_count": 13
        }
      ],
      "source": [
        "question_mark_cells = df.applymap(lambda x: x == \"?\")\n",
        "question_mark_counts = question_mark_cells.sum(axis = 0)\n",
        "question_mark_counts.head(35)"
      ]
    },
    {
      "cell_type": "code",
      "execution_count": 14,
      "metadata": {
        "colab": {
          "base_uri": "https://localhost:8080/"
        },
        "id": "EqMVev5jdkOk",
        "outputId": "28ebd696-ddcb-45a0-da67-8f29d97359db"
      },
      "outputs": [
        {
          "output_type": "execute_result",
          "data": {
            "text/plain": [
              "Q13_7               0\n",
              "Q13_8               0\n",
              "Q13_9               0\n",
              "Q13_10              0\n",
              "Q13_11              0\n",
              "Q13_12              0\n",
              "Q13_13              0\n",
              "Q13_14              0\n",
              "Q13_15              0\n",
              "Q13_16              0\n",
              "Q13_Dont_Know       0\n",
              "Q14               422\n",
              "Q15                92\n",
              "Q17               742\n",
              "Q18_1             559\n",
              "Q18_2             889\n",
              "Q18_3            1361\n",
              "Q18_4             801\n",
              "Q18_5            1588\n",
              "Q18_6            1219\n",
              "Q18_7             947\n",
              "Q18_8             712\n",
              "Q18_9            1055\n",
              "Q18_10           1421\n",
              "Q18_11            918\n",
              "Q18_12           1126\n",
              "Q18_13            738\n",
              "Q18_14            787\n",
              "Q18_15           1361\n",
              "Q18_16           1460\n",
              "Q18_17           1216\n",
              "Q18_18           1027\n",
              "Q18_19           1721\n",
              "Q18_20           1098\n",
              "Q18_21           1669\n",
              "Q18_22           1700\n",
              "Q18_23           1451\n",
              "Q20                 0\n",
              "Q21                 0\n",
              "Q16                 0\n",
              "dtype: int64"
            ]
          },
          "metadata": {},
          "execution_count": 14
        }
      ],
      "source": [
        "question_mark_counts.tail(40)"
      ]
    },
    {
      "cell_type": "markdown",
      "metadata": {
        "id": "_DXFws5BeCMB"
      },
      "source": [
        "### Method For Filling '?' variabels"
      ]
    },
    {
      "cell_type": "code",
      "execution_count": 15,
      "metadata": {
        "id": "VWhvr4BZeLC2"
      },
      "outputs": [],
      "source": [
        "def FillingQuestionWithMode(df):\n",
        "    result = \"\"\n",
        "    questionMarkSet = []\n",
        "    for column in question_mark_cells:\n",
        "        if(isinstance(question_mark_counts[column], np.int64) and question_mark_counts[column] > 0):\n",
        "            questionMarkSet.append(column)\n",
        "\n",
        "    for column in questionMarkSet:\n",
        "        mode_value = df[column].mode().iloc[0]  # Get the first mode in case of multiple modes\n",
        "        if(mode_value == '?'):\n",
        "            df[column] = df[column].replace('?', round(pd.to_numeric(df[column], errors='coerce').mean()))\n",
        "            result = result + f\"This {column} mode is '?' so filling with average of column {round(pd.to_numeric(df[column], errors='coerce').mean())}.\\n\"\n",
        "        else:\n",
        "            df[column] = df[column].replace('?', mode_value)\n",
        "    return df, result"
      ]
    },
    {
      "cell_type": "code",
      "execution_count": 16,
      "metadata": {
        "colab": {
          "base_uri": "https://localhost:8080/"
        },
        "id": "BAZrp5VsKLBI",
        "outputId": "94581e63-151c-4083-b079-6707bf008201"
      },
      "outputs": [
        {
          "output_type": "stream",
          "name": "stdout",
          "text": [
            "This Q18_19 mode is '?' so filling with average of column 3.\n",
            "This Q18_22 mode is '?' so filling with average of column 2.\n",
            "\n"
          ]
        }
      ],
      "source": [
        "questionToMode_df = df.copy()\n",
        "questionToMode_df, result = FillingQuestionWithMode(questionToMode_df)\n",
        "print(result)"
      ]
    },
    {
      "cell_type": "code",
      "execution_count": 17,
      "metadata": {
        "colab": {
          "base_uri": "https://localhost:8080/"
        },
        "id": "jGNxnnElfUM0",
        "outputId": "151f81fe-0cd7-4e7e-ae02-a1f90900552c"
      },
      "outputs": [
        {
          "output_type": "execute_result",
          "data": {
            "text/plain": [
              "Q12_12           0\n",
              "Q12_13           0\n",
              "Q12_14           0\n",
              "Q12_Dont_Know    0\n",
              "Q13_1            0\n",
              "Q13_2            0\n",
              "Q13_3            0\n",
              "Q13_4            0\n",
              "Q13_5            0\n",
              "Q13_6            0\n",
              "Q13_7            0\n",
              "Q13_8            0\n",
              "Q13_9            0\n",
              "Q13_10           0\n",
              "Q13_11           0\n",
              "Q13_12           0\n",
              "Q13_13           0\n",
              "Q13_14           0\n",
              "Q13_15           0\n",
              "Q13_16           0\n",
              "Q13_Dont_Know    0\n",
              "Q14              0\n",
              "Q15              0\n",
              "Q17              0\n",
              "Q18_1            0\n",
              "Q18_2            0\n",
              "Q18_3            0\n",
              "Q18_4            0\n",
              "Q18_5            0\n",
              "Q18_6            0\n",
              "Q18_7            0\n",
              "Q18_8            0\n",
              "Q18_9            0\n",
              "Q18_10           0\n",
              "Q18_11           0\n",
              "Q18_12           0\n",
              "Q18_13           0\n",
              "Q18_14           0\n",
              "Q18_15           0\n",
              "Q18_16           0\n",
              "Q18_17           0\n",
              "Q18_18           0\n",
              "Q18_19           0\n",
              "Q18_20           0\n",
              "Q18_21           0\n",
              "Q18_22           0\n",
              "Q18_23           0\n",
              "Q20              0\n",
              "Q21              0\n",
              "Q16              0\n",
              "dtype: int64"
            ]
          },
          "metadata": {},
          "execution_count": 17
        }
      ],
      "source": [
        "question_mark_cells = questionToMode_df.applymap(lambda x: x == \"?\")\n",
        "question_mark_cells.sum().tail(50)"
      ]
    },
    {
      "cell_type": "code",
      "execution_count": 18,
      "metadata": {
        "colab": {
          "base_uri": "https://localhost:8080/"
        },
        "id": "fuB3hJflKLBJ",
        "outputId": "37f3f474-b66c-4b3a-a4cd-57b60ea684ff"
      },
      "outputs": [
        {
          "output_type": "execute_result",
          "data": {
            "text/plain": [
              "Unnamed: 0       0\n",
              "Q11_1            0\n",
              "Q11_2            0\n",
              "Q11_3            0\n",
              "Q11_4            0\n",
              "Q11_5            0\n",
              "Q11_6            0\n",
              "Q11_7            0\n",
              "Q11_8            0\n",
              "Q11_9            0\n",
              "Q11_10           0\n",
              "Q11_11           0\n",
              "Q11_12           0\n",
              "Q11_13           0\n",
              "Q11_Dont_Know    0\n",
              "Q12_1            0\n",
              "Q12_2            0\n",
              "Q12_3            0\n",
              "Q12_4            0\n",
              "Q12_5            0\n",
              "Q12_6            0\n",
              "Q12_7            0\n",
              "Q12_8            0\n",
              "Q12_9            0\n",
              "Q12_10           0\n",
              "dtype: int64"
            ]
          },
          "metadata": {},
          "execution_count": 18
        }
      ],
      "source": [
        "question_mark_cells.sum().head(25)"
      ]
    },
    {
      "cell_type": "markdown",
      "metadata": {
        "id": "p0k1QJwwd0n5"
      },
      "source": [
        "### Change Data Types to NumpyInt64"
      ]
    },
    {
      "cell_type": "code",
      "execution_count": 19,
      "metadata": {
        "id": "ooUXDDnVd3ea"
      },
      "outputs": [],
      "source": [
        "for column in questionToMode_df:\n",
        "  try:\n",
        "    questionToMode_df[column] = questionToMode_df[column].astype('int64')\n",
        "  except:\n",
        "    continue"
      ]
    },
    {
      "cell_type": "code",
      "execution_count": 20,
      "metadata": {
        "colab": {
          "base_uri": "https://localhost:8080/"
        },
        "id": "E7gfW0z1WQAF",
        "outputId": "08003bb0-e087-490a-b146-bcfd2cf5f1d6"
      },
      "outputs": [
        {
          "output_type": "execute_result",
          "data": {
            "text/plain": [
              "Unnamed: 0       int64\n",
              "Q11_1            int64\n",
              "Q11_2            int64\n",
              "Q11_3            int64\n",
              "Q11_4            int64\n",
              "Q11_5            int64\n",
              "Q11_6            int64\n",
              "Q11_7            int64\n",
              "Q11_8            int64\n",
              "Q11_9            int64\n",
              "Q11_10           int64\n",
              "Q11_11           int64\n",
              "Q11_12           int64\n",
              "Q11_13           int64\n",
              "Q11_Dont_Know    int64\n",
              "Q12_1            int64\n",
              "Q12_2            int64\n",
              "Q12_3            int64\n",
              "Q12_4            int64\n",
              "Q12_5            int64\n",
              "Q12_6            int64\n",
              "Q12_7            int64\n",
              "Q12_8            int64\n",
              "Q12_9            int64\n",
              "Q12_10           int64\n",
              "Q12_11           int64\n",
              "Q12_12           int64\n",
              "Q12_13           int64\n",
              "Q12_14           int64\n",
              "Q12_Dont_Know    int64\n",
              "Q13_1            int64\n",
              "Q13_2            int64\n",
              "Q13_3            int64\n",
              "Q13_4            int64\n",
              "Q13_5            int64\n",
              "Q13_6            int64\n",
              "Q13_7            int64\n",
              "Q13_8            int64\n",
              "Q13_9            int64\n",
              "Q13_10           int64\n",
              "Q13_11           int64\n",
              "Q13_12           int64\n",
              "Q13_13           int64\n",
              "Q13_14           int64\n",
              "Q13_15           int64\n",
              "Q13_16           int64\n",
              "Q13_Dont_Know    int64\n",
              "Q14              int64\n",
              "Q15              int64\n",
              "Q17              int64\n",
              "dtype: object"
            ]
          },
          "metadata": {},
          "execution_count": 20
        }
      ],
      "source": [
        "questionToMode_df.dtypes.head(50)"
      ]
    },
    {
      "cell_type": "code",
      "execution_count": 21,
      "metadata": {
        "colab": {
          "base_uri": "https://localhost:8080/"
        },
        "id": "TH11bDMhWQAF",
        "outputId": "eacc54d1-71d7-4c41-80d5-15d8d529b6c1"
      },
      "outputs": [
        {
          "output_type": "execute_result",
          "data": {
            "text/plain": [
              "Q18_2     int64\n",
              "Q18_3     int64\n",
              "Q18_4     int64\n",
              "Q18_5     int64\n",
              "Q18_6     int64\n",
              "Q18_7     int64\n",
              "Q18_8     int64\n",
              "Q18_9     int64\n",
              "Q18_10    int64\n",
              "Q18_11    int64\n",
              "Q18_12    int64\n",
              "Q18_13    int64\n",
              "Q18_14    int64\n",
              "Q18_15    int64\n",
              "Q18_16    int64\n",
              "Q18_17    int64\n",
              "Q18_18    int64\n",
              "Q18_19    int64\n",
              "Q18_20    int64\n",
              "Q18_21    int64\n",
              "Q18_22    int64\n",
              "Q18_23    int64\n",
              "Q20       int64\n",
              "Q21       int64\n",
              "Q16       int64\n",
              "dtype: object"
            ]
          },
          "metadata": {},
          "execution_count": 21
        }
      ],
      "source": [
        "questionToMode_df.dtypes.tail(25)"
      ]
    },
    {
      "cell_type": "markdown",
      "metadata": {
        "id": "lIud2itKK-oW"
      },
      "source": [
        "### Check Missing Values"
      ]
    },
    {
      "cell_type": "code",
      "execution_count": 22,
      "metadata": {
        "colab": {
          "base_uri": "https://localhost:8080/"
        },
        "id": "-Iste_2gKVqa",
        "outputId": "77d99ec0-f939-45e9-ce04-be0e5bdd35aa"
      },
      "outputs": [
        {
          "output_type": "execute_result",
          "data": {
            "text/plain": [
              "Unnamed: 0    0\n",
              "Q11_1         0\n",
              "Q11_2         0\n",
              "Q11_3         0\n",
              "Q11_4         0\n",
              "             ..\n",
              "Q18_22        0\n",
              "Q18_23        0\n",
              "Q20           0\n",
              "Q21           0\n",
              "Q16           0\n",
              "Length: 76, dtype: int64"
            ]
          },
          "metadata": {},
          "execution_count": 22
        }
      ],
      "source": [
        "questionToMode_df.isnull().sum()"
      ]
    },
    {
      "cell_type": "markdown",
      "metadata": {
        "id": "jLcyT_iCLwHF"
      },
      "source": [
        "### Describtion of Dataset After Handling Null Values"
      ]
    },
    {
      "cell_type": "code",
      "execution_count": 23,
      "metadata": {
        "colab": {
          "base_uri": "https://localhost:8080/",
          "height": 329
        },
        "id": "votWtuR5LZGz",
        "outputId": "5ec00bce-8c22-403c-bf7b-b091d6e26476"
      },
      "outputs": [
        {
          "output_type": "execute_result",
          "data": {
            "text/plain": [
              "        Unnamed: 0        Q11_1        Q11_2        Q11_3        Q11_4  \\\n",
              "count  6108.000000  6108.000000  6108.000000  6108.000000  6108.000000   \n",
              "mean   3053.500000     0.479044     0.295678     0.178782     0.584152   \n",
              "std    1763.372054     0.499602     0.456384     0.383201     0.492908   \n",
              "min       0.000000     0.000000     0.000000     0.000000     0.000000   \n",
              "25%    1526.750000     0.000000     0.000000     0.000000     0.000000   \n",
              "50%    3053.500000     0.000000     0.000000     0.000000     1.000000   \n",
              "75%    4580.250000     1.000000     1.000000     0.000000     1.000000   \n",
              "max    6107.000000     1.000000     1.000000     1.000000     1.000000   \n",
              "\n",
              "             Q11_5        Q11_6        Q11_7        Q11_8        Q11_9  ...  \\\n",
              "count  6108.000000  6108.000000  6108.000000  6108.000000  6108.000000  ...   \n",
              "mean      0.280779     0.089555     0.379993     0.302227     0.076130  ...   \n",
              "std       0.449417     0.285566     0.485425     0.459261     0.265227  ...   \n",
              "min       0.000000     0.000000     0.000000     0.000000     0.000000  ...   \n",
              "25%       0.000000     0.000000     0.000000     0.000000     0.000000  ...   \n",
              "50%       0.000000     0.000000     0.000000     0.000000     0.000000  ...   \n",
              "75%       1.000000     0.000000     1.000000     1.000000     0.000000  ...   \n",
              "max       1.000000     1.000000     1.000000     1.000000     1.000000  ...   \n",
              "\n",
              "            Q18_17       Q18_18       Q18_19       Q18_20       Q18_21  \\\n",
              "count  6108.000000  6108.000000  6108.000000  6108.000000  6108.000000   \n",
              "mean      3.034217     2.200557     3.046005     2.274067     2.863785   \n",
              "std       1.013568     0.940799     0.969493     1.031295     0.929183   \n",
              "min       1.000000     1.000000     1.000000     1.000000     1.000000   \n",
              "25%       2.000000     2.000000     3.000000     2.000000     2.000000   \n",
              "50%       3.000000     2.000000     3.000000     2.000000     3.000000   \n",
              "75%       4.000000     3.000000     4.000000     3.000000     3.000000   \n",
              "max       5.000000     5.000000     5.000000     5.000000     5.000000   \n",
              "\n",
              "            Q18_22       Q18_23          Q20          Q21          Q16  \n",
              "count  6108.000000  6108.000000  6108.000000  6108.000000  6108.000000  \n",
              "mean      2.350196     2.612803     2.870825     2.596758     0.938278  \n",
              "std       0.928942     0.952385     0.811442     0.834790     1.069068  \n",
              "min       1.000000     1.000000     1.000000     1.000000     0.000000  \n",
              "25%       2.000000     2.000000     3.000000     2.000000     0.000000  \n",
              "50%       2.000000     3.000000     3.000000     3.000000     1.000000  \n",
              "75%       3.000000     3.000000     3.000000     3.000000     2.000000  \n",
              "max       5.000000     5.000000     5.000000     5.000000     3.000000  \n",
              "\n",
              "[8 rows x 76 columns]"
            ],
            "text/html": [
              "\n",
              "  <div id=\"df-dec4618d-2ce5-491d-ad20-968f9ed277e0\" class=\"colab-df-container\">\n",
              "    <div>\n",
              "<style scoped>\n",
              "    .dataframe tbody tr th:only-of-type {\n",
              "        vertical-align: middle;\n",
              "    }\n",
              "\n",
              "    .dataframe tbody tr th {\n",
              "        vertical-align: top;\n",
              "    }\n",
              "\n",
              "    .dataframe thead th {\n",
              "        text-align: right;\n",
              "    }\n",
              "</style>\n",
              "<table border=\"1\" class=\"dataframe\">\n",
              "  <thead>\n",
              "    <tr style=\"text-align: right;\">\n",
              "      <th></th>\n",
              "      <th>Unnamed: 0</th>\n",
              "      <th>Q11_1</th>\n",
              "      <th>Q11_2</th>\n",
              "      <th>Q11_3</th>\n",
              "      <th>Q11_4</th>\n",
              "      <th>Q11_5</th>\n",
              "      <th>Q11_6</th>\n",
              "      <th>Q11_7</th>\n",
              "      <th>Q11_8</th>\n",
              "      <th>Q11_9</th>\n",
              "      <th>...</th>\n",
              "      <th>Q18_17</th>\n",
              "      <th>Q18_18</th>\n",
              "      <th>Q18_19</th>\n",
              "      <th>Q18_20</th>\n",
              "      <th>Q18_21</th>\n",
              "      <th>Q18_22</th>\n",
              "      <th>Q18_23</th>\n",
              "      <th>Q20</th>\n",
              "      <th>Q21</th>\n",
              "      <th>Q16</th>\n",
              "    </tr>\n",
              "  </thead>\n",
              "  <tbody>\n",
              "    <tr>\n",
              "      <th>count</th>\n",
              "      <td>6108.000000</td>\n",
              "      <td>6108.000000</td>\n",
              "      <td>6108.000000</td>\n",
              "      <td>6108.000000</td>\n",
              "      <td>6108.000000</td>\n",
              "      <td>6108.000000</td>\n",
              "      <td>6108.000000</td>\n",
              "      <td>6108.000000</td>\n",
              "      <td>6108.000000</td>\n",
              "      <td>6108.000000</td>\n",
              "      <td>...</td>\n",
              "      <td>6108.000000</td>\n",
              "      <td>6108.000000</td>\n",
              "      <td>6108.000000</td>\n",
              "      <td>6108.000000</td>\n",
              "      <td>6108.000000</td>\n",
              "      <td>6108.000000</td>\n",
              "      <td>6108.000000</td>\n",
              "      <td>6108.000000</td>\n",
              "      <td>6108.000000</td>\n",
              "      <td>6108.000000</td>\n",
              "    </tr>\n",
              "    <tr>\n",
              "      <th>mean</th>\n",
              "      <td>3053.500000</td>\n",
              "      <td>0.479044</td>\n",
              "      <td>0.295678</td>\n",
              "      <td>0.178782</td>\n",
              "      <td>0.584152</td>\n",
              "      <td>0.280779</td>\n",
              "      <td>0.089555</td>\n",
              "      <td>0.379993</td>\n",
              "      <td>0.302227</td>\n",
              "      <td>0.076130</td>\n",
              "      <td>...</td>\n",
              "      <td>3.034217</td>\n",
              "      <td>2.200557</td>\n",
              "      <td>3.046005</td>\n",
              "      <td>2.274067</td>\n",
              "      <td>2.863785</td>\n",
              "      <td>2.350196</td>\n",
              "      <td>2.612803</td>\n",
              "      <td>2.870825</td>\n",
              "      <td>2.596758</td>\n",
              "      <td>0.938278</td>\n",
              "    </tr>\n",
              "    <tr>\n",
              "      <th>std</th>\n",
              "      <td>1763.372054</td>\n",
              "      <td>0.499602</td>\n",
              "      <td>0.456384</td>\n",
              "      <td>0.383201</td>\n",
              "      <td>0.492908</td>\n",
              "      <td>0.449417</td>\n",
              "      <td>0.285566</td>\n",
              "      <td>0.485425</td>\n",
              "      <td>0.459261</td>\n",
              "      <td>0.265227</td>\n",
              "      <td>...</td>\n",
              "      <td>1.013568</td>\n",
              "      <td>0.940799</td>\n",
              "      <td>0.969493</td>\n",
              "      <td>1.031295</td>\n",
              "      <td>0.929183</td>\n",
              "      <td>0.928942</td>\n",
              "      <td>0.952385</td>\n",
              "      <td>0.811442</td>\n",
              "      <td>0.834790</td>\n",
              "      <td>1.069068</td>\n",
              "    </tr>\n",
              "    <tr>\n",
              "      <th>min</th>\n",
              "      <td>0.000000</td>\n",
              "      <td>0.000000</td>\n",
              "      <td>0.000000</td>\n",
              "      <td>0.000000</td>\n",
              "      <td>0.000000</td>\n",
              "      <td>0.000000</td>\n",
              "      <td>0.000000</td>\n",
              "      <td>0.000000</td>\n",
              "      <td>0.000000</td>\n",
              "      <td>0.000000</td>\n",
              "      <td>...</td>\n",
              "      <td>1.000000</td>\n",
              "      <td>1.000000</td>\n",
              "      <td>1.000000</td>\n",
              "      <td>1.000000</td>\n",
              "      <td>1.000000</td>\n",
              "      <td>1.000000</td>\n",
              "      <td>1.000000</td>\n",
              "      <td>1.000000</td>\n",
              "      <td>1.000000</td>\n",
              "      <td>0.000000</td>\n",
              "    </tr>\n",
              "    <tr>\n",
              "      <th>25%</th>\n",
              "      <td>1526.750000</td>\n",
              "      <td>0.000000</td>\n",
              "      <td>0.000000</td>\n",
              "      <td>0.000000</td>\n",
              "      <td>0.000000</td>\n",
              "      <td>0.000000</td>\n",
              "      <td>0.000000</td>\n",
              "      <td>0.000000</td>\n",
              "      <td>0.000000</td>\n",
              "      <td>0.000000</td>\n",
              "      <td>...</td>\n",
              "      <td>2.000000</td>\n",
              "      <td>2.000000</td>\n",
              "      <td>3.000000</td>\n",
              "      <td>2.000000</td>\n",
              "      <td>2.000000</td>\n",
              "      <td>2.000000</td>\n",
              "      <td>2.000000</td>\n",
              "      <td>3.000000</td>\n",
              "      <td>2.000000</td>\n",
              "      <td>0.000000</td>\n",
              "    </tr>\n",
              "    <tr>\n",
              "      <th>50%</th>\n",
              "      <td>3053.500000</td>\n",
              "      <td>0.000000</td>\n",
              "      <td>0.000000</td>\n",
              "      <td>0.000000</td>\n",
              "      <td>1.000000</td>\n",
              "      <td>0.000000</td>\n",
              "      <td>0.000000</td>\n",
              "      <td>0.000000</td>\n",
              "      <td>0.000000</td>\n",
              "      <td>0.000000</td>\n",
              "      <td>...</td>\n",
              "      <td>3.000000</td>\n",
              "      <td>2.000000</td>\n",
              "      <td>3.000000</td>\n",
              "      <td>2.000000</td>\n",
              "      <td>3.000000</td>\n",
              "      <td>2.000000</td>\n",
              "      <td>3.000000</td>\n",
              "      <td>3.000000</td>\n",
              "      <td>3.000000</td>\n",
              "      <td>1.000000</td>\n",
              "    </tr>\n",
              "    <tr>\n",
              "      <th>75%</th>\n",
              "      <td>4580.250000</td>\n",
              "      <td>1.000000</td>\n",
              "      <td>1.000000</td>\n",
              "      <td>0.000000</td>\n",
              "      <td>1.000000</td>\n",
              "      <td>1.000000</td>\n",
              "      <td>0.000000</td>\n",
              "      <td>1.000000</td>\n",
              "      <td>1.000000</td>\n",
              "      <td>0.000000</td>\n",
              "      <td>...</td>\n",
              "      <td>4.000000</td>\n",
              "      <td>3.000000</td>\n",
              "      <td>4.000000</td>\n",
              "      <td>3.000000</td>\n",
              "      <td>3.000000</td>\n",
              "      <td>3.000000</td>\n",
              "      <td>3.000000</td>\n",
              "      <td>3.000000</td>\n",
              "      <td>3.000000</td>\n",
              "      <td>2.000000</td>\n",
              "    </tr>\n",
              "    <tr>\n",
              "      <th>max</th>\n",
              "      <td>6107.000000</td>\n",
              "      <td>1.000000</td>\n",
              "      <td>1.000000</td>\n",
              "      <td>1.000000</td>\n",
              "      <td>1.000000</td>\n",
              "      <td>1.000000</td>\n",
              "      <td>1.000000</td>\n",
              "      <td>1.000000</td>\n",
              "      <td>1.000000</td>\n",
              "      <td>1.000000</td>\n",
              "      <td>...</td>\n",
              "      <td>5.000000</td>\n",
              "      <td>5.000000</td>\n",
              "      <td>5.000000</td>\n",
              "      <td>5.000000</td>\n",
              "      <td>5.000000</td>\n",
              "      <td>5.000000</td>\n",
              "      <td>5.000000</td>\n",
              "      <td>5.000000</td>\n",
              "      <td>5.000000</td>\n",
              "      <td>3.000000</td>\n",
              "    </tr>\n",
              "  </tbody>\n",
              "</table>\n",
              "<p>8 rows × 76 columns</p>\n",
              "</div>\n",
              "    <div class=\"colab-df-buttons\">\n",
              "\n",
              "  <div class=\"colab-df-container\">\n",
              "    <button class=\"colab-df-convert\" onclick=\"convertToInteractive('df-dec4618d-2ce5-491d-ad20-968f9ed277e0')\"\n",
              "            title=\"Convert this dataframe to an interactive table.\"\n",
              "            style=\"display:none;\">\n",
              "\n",
              "  <svg xmlns=\"http://www.w3.org/2000/svg\" height=\"24px\" viewBox=\"0 -960 960 960\">\n",
              "    <path d=\"M120-120v-720h720v720H120Zm60-500h600v-160H180v160Zm220 220h160v-160H400v160Zm0 220h160v-160H400v160ZM180-400h160v-160H180v160Zm440 0h160v-160H620v160ZM180-180h160v-160H180v160Zm440 0h160v-160H620v160Z\"/>\n",
              "  </svg>\n",
              "    </button>\n",
              "\n",
              "  <style>\n",
              "    .colab-df-container {\n",
              "      display:flex;\n",
              "      gap: 12px;\n",
              "    }\n",
              "\n",
              "    .colab-df-convert {\n",
              "      background-color: #E8F0FE;\n",
              "      border: none;\n",
              "      border-radius: 50%;\n",
              "      cursor: pointer;\n",
              "      display: none;\n",
              "      fill: #1967D2;\n",
              "      height: 32px;\n",
              "      padding: 0 0 0 0;\n",
              "      width: 32px;\n",
              "    }\n",
              "\n",
              "    .colab-df-convert:hover {\n",
              "      background-color: #E2EBFA;\n",
              "      box-shadow: 0px 1px 2px rgba(60, 64, 67, 0.3), 0px 1px 3px 1px rgba(60, 64, 67, 0.15);\n",
              "      fill: #174EA6;\n",
              "    }\n",
              "\n",
              "    .colab-df-buttons div {\n",
              "      margin-bottom: 4px;\n",
              "    }\n",
              "\n",
              "    [theme=dark] .colab-df-convert {\n",
              "      background-color: #3B4455;\n",
              "      fill: #D2E3FC;\n",
              "    }\n",
              "\n",
              "    [theme=dark] .colab-df-convert:hover {\n",
              "      background-color: #434B5C;\n",
              "      box-shadow: 0px 1px 3px 1px rgba(0, 0, 0, 0.15);\n",
              "      filter: drop-shadow(0px 1px 2px rgba(0, 0, 0, 0.3));\n",
              "      fill: #FFFFFF;\n",
              "    }\n",
              "  </style>\n",
              "\n",
              "    <script>\n",
              "      const buttonEl =\n",
              "        document.querySelector('#df-dec4618d-2ce5-491d-ad20-968f9ed277e0 button.colab-df-convert');\n",
              "      buttonEl.style.display =\n",
              "        google.colab.kernel.accessAllowed ? 'block' : 'none';\n",
              "\n",
              "      async function convertToInteractive(key) {\n",
              "        const element = document.querySelector('#df-dec4618d-2ce5-491d-ad20-968f9ed277e0');\n",
              "        const dataTable =\n",
              "          await google.colab.kernel.invokeFunction('convertToInteractive',\n",
              "                                                    [key], {});\n",
              "        if (!dataTable) return;\n",
              "\n",
              "        const docLinkHtml = 'Like what you see? Visit the ' +\n",
              "          '<a target=\"_blank\" href=https://colab.research.google.com/notebooks/data_table.ipynb>data table notebook</a>'\n",
              "          + ' to learn more about interactive tables.';\n",
              "        element.innerHTML = '';\n",
              "        dataTable['output_type'] = 'display_data';\n",
              "        await google.colab.output.renderOutput(dataTable, element);\n",
              "        const docLink = document.createElement('div');\n",
              "        docLink.innerHTML = docLinkHtml;\n",
              "        element.appendChild(docLink);\n",
              "      }\n",
              "    </script>\n",
              "  </div>\n",
              "\n",
              "\n",
              "<div id=\"df-e529e461-f2db-4513-9ed6-e974d9ddcb75\">\n",
              "  <button class=\"colab-df-quickchart\" onclick=\"quickchart('df-e529e461-f2db-4513-9ed6-e974d9ddcb75')\"\n",
              "            title=\"Suggest charts\"\n",
              "            style=\"display:none;\">\n",
              "\n",
              "<svg xmlns=\"http://www.w3.org/2000/svg\" height=\"24px\"viewBox=\"0 0 24 24\"\n",
              "     width=\"24px\">\n",
              "    <g>\n",
              "        <path d=\"M19 3H5c-1.1 0-2 .9-2 2v14c0 1.1.9 2 2 2h14c1.1 0 2-.9 2-2V5c0-1.1-.9-2-2-2zM9 17H7v-7h2v7zm4 0h-2V7h2v10zm4 0h-2v-4h2v4z\"/>\n",
              "    </g>\n",
              "</svg>\n",
              "  </button>\n",
              "\n",
              "<style>\n",
              "  .colab-df-quickchart {\n",
              "      --bg-color: #E8F0FE;\n",
              "      --fill-color: #1967D2;\n",
              "      --hover-bg-color: #E2EBFA;\n",
              "      --hover-fill-color: #174EA6;\n",
              "      --disabled-fill-color: #AAA;\n",
              "      --disabled-bg-color: #DDD;\n",
              "  }\n",
              "\n",
              "  [theme=dark] .colab-df-quickchart {\n",
              "      --bg-color: #3B4455;\n",
              "      --fill-color: #D2E3FC;\n",
              "      --hover-bg-color: #434B5C;\n",
              "      --hover-fill-color: #FFFFFF;\n",
              "      --disabled-bg-color: #3B4455;\n",
              "      --disabled-fill-color: #666;\n",
              "  }\n",
              "\n",
              "  .colab-df-quickchart {\n",
              "    background-color: var(--bg-color);\n",
              "    border: none;\n",
              "    border-radius: 50%;\n",
              "    cursor: pointer;\n",
              "    display: none;\n",
              "    fill: var(--fill-color);\n",
              "    height: 32px;\n",
              "    padding: 0;\n",
              "    width: 32px;\n",
              "  }\n",
              "\n",
              "  .colab-df-quickchart:hover {\n",
              "    background-color: var(--hover-bg-color);\n",
              "    box-shadow: 0 1px 2px rgba(60, 64, 67, 0.3), 0 1px 3px 1px rgba(60, 64, 67, 0.15);\n",
              "    fill: var(--button-hover-fill-color);\n",
              "  }\n",
              "\n",
              "  .colab-df-quickchart-complete:disabled,\n",
              "  .colab-df-quickchart-complete:disabled:hover {\n",
              "    background-color: var(--disabled-bg-color);\n",
              "    fill: var(--disabled-fill-color);\n",
              "    box-shadow: none;\n",
              "  }\n",
              "\n",
              "  .colab-df-spinner {\n",
              "    border: 2px solid var(--fill-color);\n",
              "    border-color: transparent;\n",
              "    border-bottom-color: var(--fill-color);\n",
              "    animation:\n",
              "      spin 1s steps(1) infinite;\n",
              "  }\n",
              "\n",
              "  @keyframes spin {\n",
              "    0% {\n",
              "      border-color: transparent;\n",
              "      border-bottom-color: var(--fill-color);\n",
              "      border-left-color: var(--fill-color);\n",
              "    }\n",
              "    20% {\n",
              "      border-color: transparent;\n",
              "      border-left-color: var(--fill-color);\n",
              "      border-top-color: var(--fill-color);\n",
              "    }\n",
              "    30% {\n",
              "      border-color: transparent;\n",
              "      border-left-color: var(--fill-color);\n",
              "      border-top-color: var(--fill-color);\n",
              "      border-right-color: var(--fill-color);\n",
              "    }\n",
              "    40% {\n",
              "      border-color: transparent;\n",
              "      border-right-color: var(--fill-color);\n",
              "      border-top-color: var(--fill-color);\n",
              "    }\n",
              "    60% {\n",
              "      border-color: transparent;\n",
              "      border-right-color: var(--fill-color);\n",
              "    }\n",
              "    80% {\n",
              "      border-color: transparent;\n",
              "      border-right-color: var(--fill-color);\n",
              "      border-bottom-color: var(--fill-color);\n",
              "    }\n",
              "    90% {\n",
              "      border-color: transparent;\n",
              "      border-bottom-color: var(--fill-color);\n",
              "    }\n",
              "  }\n",
              "</style>\n",
              "\n",
              "  <script>\n",
              "    async function quickchart(key) {\n",
              "      const quickchartButtonEl =\n",
              "        document.querySelector('#' + key + ' button');\n",
              "      quickchartButtonEl.disabled = true;  // To prevent multiple clicks.\n",
              "      quickchartButtonEl.classList.add('colab-df-spinner');\n",
              "      try {\n",
              "        const charts = await google.colab.kernel.invokeFunction(\n",
              "            'suggestCharts', [key], {});\n",
              "      } catch (error) {\n",
              "        console.error('Error during call to suggestCharts:', error);\n",
              "      }\n",
              "      quickchartButtonEl.classList.remove('colab-df-spinner');\n",
              "      quickchartButtonEl.classList.add('colab-df-quickchart-complete');\n",
              "    }\n",
              "    (() => {\n",
              "      let quickchartButtonEl =\n",
              "        document.querySelector('#df-e529e461-f2db-4513-9ed6-e974d9ddcb75 button');\n",
              "      quickchartButtonEl.style.display =\n",
              "        google.colab.kernel.accessAllowed ? 'block' : 'none';\n",
              "    })();\n",
              "  </script>\n",
              "</div>\n",
              "\n",
              "    </div>\n",
              "  </div>\n"
            ]
          },
          "metadata": {},
          "execution_count": 23
        }
      ],
      "source": [
        "questionToMode_df.describe()"
      ]
    },
    {
      "cell_type": "markdown",
      "metadata": {
        "id": "1jNYqpObQWZR"
      },
      "source": [
        "### Showing Outliers\n"
      ]
    },
    {
      "cell_type": "code",
      "execution_count": 24,
      "metadata": {
        "colab": {
          "base_uri": "https://localhost:8080/",
          "height": 472
        },
        "id": "WZGJjlIVQjb7",
        "outputId": "d1d21373-77a6-43c6-c1ee-184aa4f86b8c"
      },
      "outputs": [
        {
          "output_type": "display_data",
          "data": {
            "text/plain": [
              "<Figure size 640x480 with 1 Axes>"
            ],
            "image/png": "[encoded data removed]"
          },
          "metadata": {}
        }
      ],
      "source": [
        "import seaborn as sns\n",
        "import matplotlib.pyplot as plt\n",
        "\n",
        "colName = 'Q21'\n",
        "\n",
        "# Box plot çizimi\n",
        "sns.boxplot(x=questionToMode_df[colName])\n",
        "plt.title(f'Box Plot of {colName}')\n",
        "plt.show()"
      ]
    },
    {
      "cell_type": "markdown",
      "metadata": {
        "id": "pI79FRwS4T37"
      },
      "source": [
        "## Visualization"
      ]
    },
    {
      "cell_type": "code",
      "execution_count": 25,
      "metadata": {
        "id": "hXO0EuKf4WrH"
      },
      "outputs": [],
      "source": [
        "import matplotlib.pyplot as plt\n",
        "import seaborn as sns\n",
        "\n",
        "def Visualize(columnName):\n",
        "  plt.figure(figsize=(8, 4))\n",
        "  sns.countplot(x=columnName, data=questionToMode_df)\n",
        "  plt.title('Features')\n",
        "  plt.show()\n"
      ]
    },
    {
      "cell_type": "code",
      "execution_count": 26,
      "metadata": {
        "colab": {
          "base_uri": "https://localhost:8080/",
          "height": 803
        },
        "id": "IqPSOdZ_4cOo",
        "outputId": "24c870bb-c151-4a59-d54e-07496388c830"
      },
      "outputs": [
        {
          "output_type": "display_data",
          "data": {
            "text/plain": [
              "<Figure size 800x400 with 1 Axes>"
            ],
            "image/png": "[encoded data removed]"
          },
          "metadata": {}
        },
        {
          "output_type": "display_data",
          "data": {
            "text/plain": [
              "<Figure size 800x400 with 1 Axes>"
            ],
            "image/png": "[encoded data removed]"
          },
          "metadata": {}
        }
      ],
      "source": [
        "import numpy as np\n",
        "for i in range(1,3):\n",
        "  feature_names=questionToMode_df.columns\n",
        "  selected_feature = np.random.choice(feature_names)\n",
        "  Visualize(selected_feature)"
      ]
    },
    {
      "cell_type": "code",
      "execution_count": 27,
      "metadata": {
        "id": "-cgFVwbtTEGO"
      },
      "outputs": [],
      "source": [
        "import numpy as np\n",
        "import matplotlib.pyplot as plt\n",
        "import seaborn as sns\n",
        "\n",
        "# TODO This graphs looks like unnecessary will be checked -Seyit\n",
        "def VisualizeSubset(dataframe, step):\n",
        "    feature_names = dataframe.columns\n",
        "    num_subsets = len(feature_names) // step\n",
        "\n",
        "    fig, axes = plt.subplots(num_subsets, 1, figsize=(step, num_subsets * num_subsets))\n",
        "\n",
        "\n",
        "    for i in range(num_subsets):\n",
        "        selected_features = feature_names[i * step: (i + 1) * step]\n",
        "        sns.countplot(data=dataframe[selected_features], ax=axes[i])\n",
        "        axes[i].set_title(f'Subset {i + 1}')\n",
        "\n",
        "    plt.show()"
      ]
    },
    {
      "cell_type": "code",
      "execution_count": 28,
      "metadata": {
        "colab": {
          "base_uri": "https://localhost:8080/",
          "height": 1000
        },
        "id": "yhGkmW6aTI4S",
        "outputId": "b45e2563-c03e-4c86-b772-207b08e12372"
      },
      "outputs": [
        {
          "output_type": "display_data",
          "data": {
            "text/plain": [
              "<Figure size 1500x2500 with 5 Axes>"
            ],
            "image/png": "[encoded data removed]"
          },
          "metadata": {}
        }
      ],
      "source": [
        "VisualizeSubset(questionToMode_df,15)"
      ]
    },
    {
      "cell_type": "markdown",
      "metadata": {
        "id": "MJwlLVaXMJgU"
      },
      "source": [
        "## Normalization"
      ]
    },
    {
      "cell_type": "markdown",
      "metadata": {
        "id": "MmgEjjpXPHWu"
      },
      "source": [
        "### MinMaxScaler scaling the data to a specific range (usually [0, 1]) ensures that all features are kept on the same scale."
      ]
    },
    {
      "cell_type": "code",
      "execution_count": 29,
      "metadata": {
        "id": "M091jEdaMN5R"
      },
      "outputs": [],
      "source": [
        "from sklearn.preprocessing import MinMaxScaler\n",
        "def MinMaxScaling(df):\n",
        "    scaledDataFrame_minmax=df.copy()\n",
        "    scaledForm = scaledDataFrame_minmax.iloc[:, scaledDataFrame_minmax.columns.get_loc('Q15'):-1]\n",
        "    scaler = MinMaxScaler()\n",
        "    scaledDataFrame_minmax.iloc[:, scaledDataFrame_minmax.columns.get_loc('Q15'):-1] = scaler.fit_transform(scaledForm)\n",
        "    X_minmax, y_minmax = scaledDataFrame_minmax.iloc[:, :-1], scaledDataFrame_minmax.iloc[:, -1:]\n",
        "    return ({\"X\": X_minmax,\n",
        "            \"y\": y_minmax,\n",
        "            \"df\": scaledDataFrame_minmax})"
      ]
    },
    {
      "cell_type": "code",
      "execution_count": 30,
      "metadata": {
        "colab": {
          "base_uri": "https://localhost:8080/"
        },
        "id": "obq3cMhoN2Q2",
        "outputId": "b50a446f-b801-4391-9a44-358111ac68f1"
      },
      "outputs": [
        {
          "output_type": "stream",
          "name": "stderr",
          "text": [
            "<ipython-input-29-323a2d4c0702>:6: DeprecationWarning: In a future version, `df.iloc[:, i] = newvals` will attempt to set the values inplace instead of always setting a new array. To retain the old behavior, use either `df[df.columns[i]] = newvals` or, if columns are non-unique, `df.isetitem(i, newvals)`\n",
            "  scaledDataFrame_minmax.iloc[:, scaledDataFrame_minmax.columns.get_loc('Q15'):-1] = scaler.fit_transform(scaledForm)\n"
          ]
        },
        {
          "output_type": "execute_result",
          "data": {
            "text/plain": [
              "<bound method NDFrame.describe of       Unnamed: 0  Q11_1  Q11_2  Q11_3  Q11_4  Q11_5  Q11_6  Q11_7  Q11_8  \\\n",
              "0              0      0      0      0      1      1      0      0      1   \n",
              "1              1      1      0      0      1      0      0      1      0   \n",
              "2              2      1      1      0      1      0      0      1      1   \n",
              "3              3      0      0      0      0      0      0      0      0   \n",
              "4              4      1      1      0      1      0      0      1      1   \n",
              "...          ...    ...    ...    ...    ...    ...    ...    ...    ...   \n",
              "6103        6103      0      1      0      0      0      0      1      1   \n",
              "6104        6104      0      1      0      1      0      0      0      1   \n",
              "6105        6105      1      0      1      0      0      0      0      0   \n",
              "6106        6106      0      0      1      0      0      0      0      1   \n",
              "6107        6107      1      0      0      1      0      0      0      1   \n",
              "\n",
              "      Q11_9  ...  Q18_17  Q18_18  Q18_19  Q18_20  Q18_21  Q18_22  Q18_23  \\\n",
              "0         0  ...    1.00    1.00    1.00    1.00    1.00    1.00    1.00   \n",
              "1         0  ...    0.75    0.25    0.75    0.25    0.25    0.25    0.25   \n",
              "2         0  ...    0.75    0.75    0.50    0.25    0.75    0.25    0.75   \n",
              "3         0  ...    0.50    0.25    0.50    0.25    0.50    0.25    0.50   \n",
              "4         0  ...    0.50    0.25    0.00    0.00    0.50    0.25    0.50   \n",
              "...     ...  ...     ...     ...     ...     ...     ...     ...     ...   \n",
              "6103      1  ...    0.25    0.25    0.50    0.50    0.25    0.00    0.00   \n",
              "6104      0  ...    0.50    0.25    0.50    0.25    0.50    0.25    0.50   \n",
              "6105      0  ...    0.75    0.00    1.00    0.75    1.00    0.75    1.00   \n",
              "6106      0  ...    0.00    0.50    0.75    1.00    0.50    0.25    0.50   \n",
              "6107      0  ...    0.50    0.50    0.50    0.50    0.50    0.50    0.50   \n",
              "\n",
              "       Q20   Q21  Q16  \n",
              "0     0.50  0.50    0  \n",
              "1     0.50  0.50    3  \n",
              "2     0.75  0.00    0  \n",
              "3     0.50  0.50    2  \n",
              "4     0.50  0.50    3  \n",
              "...    ...   ...  ...  \n",
              "6103  0.00  0.50    1  \n",
              "6104  0.50  0.50    0  \n",
              "6105  1.00  0.25    0  \n",
              "6106  0.25  0.50    0  \n",
              "6107  0.50  0.50    3  \n",
              "\n",
              "[6108 rows x 76 columns]>"
            ]
          },
          "metadata": {},
          "execution_count": 30
        }
      ],
      "source": [
        "min_max_scaled_items = MinMaxScaling(questionToMode_df)\n",
        "min_max_scaled_items['df'].describe"
      ]
    },
    {
      "cell_type": "markdown",
      "metadata": {
        "id": "0pmxtl2qPPKL"
      },
      "source": [
        "### StandartScaler transforming the data into a standard normal distribution makes the features comparable with each other"
      ]
    },
    {
      "cell_type": "code",
      "execution_count": 31,
      "metadata": {
        "id": "S2tvHTTwN9yT"
      },
      "outputs": [],
      "source": [
        "from sklearn.preprocessing import StandardScaler\n",
        "def StandardScaling(df):\n",
        "    scaledDataFrame_stc=df.copy()\n",
        "    scaledForm = scaledDataFrame_stc.iloc[:, scaledDataFrame_stc.columns.get_loc('Q15'):-1]\n",
        "    scaler = StandardScaler()\n",
        "    scaledDataFrame_stc.iloc[:, scaledDataFrame_stc.columns.get_loc('Q15'):-1] = scaler.fit_transform(scaledForm)\n",
        "    X_stc, y_stc = scaledDataFrame_stc.iloc[:, :-1], scaledDataFrame_stc.iloc[:, -1:]\n",
        "    return ({\"X\": X_stc,\n",
        "            \"y\": y_stc,\n",
        "            \"df\": scaledDataFrame_stc})"
      ]
    },
    {
      "cell_type": "code",
      "execution_count": 32,
      "metadata": {
        "colab": {
          "base_uri": "https://localhost:8080/"
        },
        "id": "Q3POFrQ9OSp3",
        "outputId": "73017927-7a3c-4205-85b0-414d7b6dcefc"
      },
      "outputs": [
        {
          "output_type": "execute_result",
          "data": {
            "text/plain": [
              "<bound method NDFrame.describe of       Unnamed: 0  Q11_1  Q11_2  Q11_3  Q11_4  Q11_5  Q11_6  Q11_7  Q11_8  \\\n",
              "0              0      0      0      0      1      1      0      0      1   \n",
              "1              1      1      0      0      1      0      0      1      0   \n",
              "2              2      1      1      0      1      0      0      1      1   \n",
              "3              3      0      0      0      0      0      0      0      0   \n",
              "4              4      1      1      0      1      0      0      1      1   \n",
              "...          ...    ...    ...    ...    ...    ...    ...    ...    ...   \n",
              "6103        6103      0      1      0      0      0      0      1      1   \n",
              "6104        6104      0      1      0      1      0      0      0      1   \n",
              "6105        6105      1      0      1      0      0      0      0      0   \n",
              "6106        6106      0      0      1      0      0      0      0      1   \n",
              "6107        6107      1      0      0      1      0      0      0      1   \n",
              "\n",
              "      Q11_9  ...    Q18_17    Q18_18    Q18_19    Q18_20    Q18_21    Q18_22  \\\n",
              "0         0  ...  1.939626  2.975847  2.015646  2.643431  2.299213  2.852731   \n",
              "1         0  ...  0.952932 -0.213194  0.984095 -0.265772 -0.929694 -0.377015   \n",
              "2         0  ...  0.952932  1.912833 -0.047457 -0.265772  1.222911 -0.377015   \n",
              "3         0  ... -0.033762 -0.213194 -0.047457 -0.265772  0.146608 -0.377015   \n",
              "4         0  ... -0.033762 -0.213194 -2.110559 -1.235507  0.146608 -0.377015   \n",
              "...     ...  ...       ...       ...       ...       ...       ...       ...   \n",
              "6103      1  ... -1.020456 -0.213194 -0.047457  0.703962 -0.929694 -1.453597   \n",
              "6104      0  ... -0.033762 -0.213194 -0.047457 -0.265772  0.146608 -0.377015   \n",
              "6105      0  ...  0.952932 -1.276208  2.015646  1.673697  2.299213  1.776149   \n",
              "6106      0  ... -2.007150  0.849819  0.984095  2.643431  0.146608 -0.377015   \n",
              "6107      0  ... -0.033762  0.849819 -0.047457  0.703962  0.146608  0.699567   \n",
              "\n",
              "        Q18_23       Q20       Q21  Q16  \n",
              "0     2.506751  0.159205  0.483085    0  \n",
              "1    -0.643493  0.159205  0.483085    3  \n",
              "2     1.456670  1.391680 -1.912922    0  \n",
              "3     0.406588  0.159205  0.483085    2  \n",
              "4     0.406588  0.159205  0.483085    3  \n",
              "...        ...       ...       ...  ...  \n",
              "6103 -1.693574 -2.305745  0.483085    1  \n",
              "6104  0.406588  0.159205  0.483085    0  \n",
              "6105  2.506751  2.624155 -0.714919    0  \n",
              "6106  0.406588 -1.073270  0.483085    0  \n",
              "6107  0.406588  0.159205  0.483085    3  \n",
              "\n",
              "[6108 rows x 76 columns]>"
            ]
          },
          "metadata": {},
          "execution_count": 32
        }
      ],
      "source": [
        "stc_scaled_items = StandardScaling(questionToMode_df)\n",
        "stc_scaled_items['df'].describe"
      ]
    },
    {
      "cell_type": "markdown",
      "metadata": {
        "id": "zuMeSnqWO5hX"
      },
      "source": [
        "### RobustScaler resistant to outlier values, this is a scaling method. Scaling is done using the median and IQR"
      ]
    },
    {
      "cell_type": "code",
      "execution_count": 33,
      "metadata": {
        "id": "Cu4DnaEGOl0R"
      },
      "outputs": [],
      "source": [
        "from sklearn.preprocessing import RobustScaler\n",
        "\n",
        "def StandardScaling(df):\n",
        "    scaledDataFrame_robust=df.copy()\n",
        "    scaledForm = scaledDataFrame_robust.iloc[scaledDataFrame_robust.columns.get_loc('Q15'):, :-1]\n",
        "    scaler = RobustScaler()\n",
        "    scaledDataFrame_robust.iloc[scaledDataFrame_robust.columns.get_loc('Q15'):, :-1]  = scaler.fit_transform(scaledForm)\n",
        "    X_robust, y_robust = scaledDataFrame_robust.iloc[:, :-1], scaledDataFrame_robust.iloc[:, -1:]\n",
        "    return ({\"X\": X_robust,\n",
        "            \"y\": y_robust,\n",
        "            \"df\": scaledDataFrame_robust})"
      ]
    },
    {
      "cell_type": "code",
      "execution_count": 34,
      "metadata": {
        "colab": {
          "base_uri": "https://localhost:8080/"
        },
        "id": "qPxswWw4OuIK",
        "outputId": "15b8346f-a935-4ead-da16-5e11d1091ba0"
      },
      "outputs": [
        {
          "output_type": "execute_result",
          "data": {
            "text/plain": [
              "<bound method NDFrame.describe of       Unnamed: 0  Q11_1  Q11_2  Q11_3  Q11_4  Q11_5  Q11_6  Q11_7  Q11_8  \\\n",
              "0        0.00000    0.0    0.0    0.0    1.0    1.0    0.0    0.0    1.0   \n",
              "1        1.00000    1.0    0.0    0.0    1.0    0.0    0.0    1.0    0.0   \n",
              "2        2.00000    1.0    1.0    0.0    1.0    0.0    0.0    1.0    1.0   \n",
              "3        3.00000    0.0    0.0    0.0    0.0    0.0    0.0    0.0    0.0   \n",
              "4        4.00000    1.0    1.0    0.0    1.0    0.0    0.0    1.0    1.0   \n",
              "...          ...    ...    ...    ...    ...    ...    ...    ...    ...   \n",
              "6103     0.99868    0.0    1.0    0.0   -1.0    0.0    0.0    1.0    1.0   \n",
              "6104     0.99901    0.0    1.0    0.0    0.0    0.0    0.0    0.0    1.0   \n",
              "6105     0.99934    1.0    0.0    1.0   -1.0    0.0    0.0    0.0    0.0   \n",
              "6106     0.99967    0.0    0.0    1.0   -1.0    0.0    0.0    0.0    1.0   \n",
              "6107     1.00000    1.0    0.0    0.0    0.0    0.0    0.0    0.0    1.0   \n",
              "\n",
              "      Q11_9  ...  Q18_17  Q18_18  Q18_19  Q18_20  Q18_21  Q18_22  Q18_23  Q20  \\\n",
              "0       0.0  ...     5.0     5.0     5.0     5.0     5.0     5.0     5.0  3.0   \n",
              "1       0.0  ...     4.0     2.0     4.0     2.0     2.0     2.0     2.0  3.0   \n",
              "2       0.0  ...     4.0     4.0     3.0     2.0     4.0     2.0     4.0  4.0   \n",
              "3       0.0  ...     3.0     2.0     3.0     2.0     3.0     2.0     3.0  3.0   \n",
              "4       0.0  ...     3.0     2.0     1.0     1.0     3.0     2.0     3.0  3.0   \n",
              "...     ...  ...     ...     ...     ...     ...     ...     ...     ...  ...   \n",
              "6103    1.0  ...    -0.5     0.0     0.0     1.0    -1.0    -1.0    -2.0 -2.0   \n",
              "6104    0.0  ...     0.0     0.0     0.0     0.0     0.0     0.0     0.0  0.0   \n",
              "6105    0.0  ...     0.5    -1.0     2.0     2.0     2.0     2.0     2.0  2.0   \n",
              "6106    0.0  ...    -1.0     1.0     1.0     3.0     0.0     0.0     0.0 -1.0   \n",
              "6107    0.0  ...     0.0     1.0     0.0     1.0     0.0     1.0     0.0  0.0   \n",
              "\n",
              "      Q21  Q16  \n",
              "0     3.0    0  \n",
              "1     3.0    3  \n",
              "2     1.0    0  \n",
              "3     3.0    2  \n",
              "4     3.0    3  \n",
              "...   ...  ...  \n",
              "6103  0.0    1  \n",
              "6104  0.0    0  \n",
              "6105 -1.0    0  \n",
              "6106  0.0    0  \n",
              "6107  0.0    3  \n",
              "\n",
              "[6108 rows x 76 columns]>"
            ]
          },
          "metadata": {},
          "execution_count": 34
        }
      ],
      "source": [
        "robust_scaled_items = StandardScaling(questionToMode_df)\n",
        "robust_scaled_items['df'].describe"
      ]
    },
    {
      "cell_type": "markdown",
      "metadata": {
        "id": "-OapTP6NWQAO"
      },
      "source": [
        "### Save Results To The Txt For Later Using"
      ]
    },
    {
      "cell_type": "code",
      "execution_count": 35,
      "metadata": {
        "id": "TSlVncZ-WQAO"
      },
      "outputs": [],
      "source": [
        "def SaveResults(result, txt_name):\n",
        "    with open(txt_name, 'a') as file:\n",
        "        file.write(str(result) + '\\n')"
      ]
    },
    {
      "cell_type": "markdown",
      "metadata": {
        "id": "DOSnO-SeWQAP"
      },
      "source": [
        "## Feature Selection"
      ]
    },
    {
      "cell_type": "markdown",
      "metadata": {
        "id": "bGyf4ybaSQGi"
      },
      "source": [
        "### DataFrame To X and y and Vice Versa"
      ]
    },
    {
      "cell_type": "code",
      "execution_count": 36,
      "metadata": {
        "id": "mzeGFPbXSQGi"
      },
      "outputs": [],
      "source": [
        "def DFToXAndY(df):\n",
        "    X, y = df.iloc[:, :-1], df.iloc[:, -1:]\n",
        "    return X, y"
      ]
    },
    {
      "cell_type": "markdown",
      "metadata": {
        "id": "Q7UFFAd5WQAP"
      },
      "source": [
        "### Train-Test Split Method"
      ]
    },
    {
      "cell_type": "code",
      "execution_count": 37,
      "metadata": {
        "id": "JEpzyzK0WQAP"
      },
      "outputs": [],
      "source": [
        "from sklearn.model_selection import train_test_split\n",
        "def train_test_split_modified(df, test_size_input = 0.25, randdom_state_input = 0 ):\n",
        "    X, y = df.iloc[:, :-1], df.iloc[:, -1:]\n",
        "    x_train, x_test, y_train, y_test = train_test_split(X, y, test_size = test_size_input, random_state = randdom_state_input)\n",
        "    return x_train, x_test, y_train, y_test"
      ]
    },
    {
      "cell_type": "markdown",
      "metadata": {
        "id": "_w4sHas7WQAP"
      },
      "source": [
        "### RFE Feature Elimination Method"
      ]
    },
    {
      "cell_type": "code",
      "execution_count": 38,
      "metadata": {
        "id": "VIs1L6oPWQAP"
      },
      "outputs": [],
      "source": [
        "from sklearn.feature_selection import RFE\n",
        "from sklearn import tree\n",
        "\n",
        "def RFEFeatureElimination(df, X, y, n_features_to_select, step = 1):\n",
        "    rfe_df = df.copy()\n",
        "    dropped_columns = []\n",
        "    estimator = tree.DecisionTreeClassifier()\n",
        "    selector = RFE(estimator = estimator, n_features_to_select = n_features_to_select, step = 1)\n",
        "    selector = selector.fit(X, y)\n",
        "\n",
        "    for i, value in enumerate(selector.support_, start=1):\n",
        "        #print(len(selector.support_))\n",
        "        #print(selector.ranking_)\n",
        "        if(value == False) and rfe_df.columns[i] != 'Q16':\n",
        "            dropped_columns.append(rfe_df.columns[i])\n",
        "\n",
        "    rfe_df = rfe_df.drop(dropped_columns, axis = 1)\n",
        "    return rfe_df"
      ]
    },
    {
      "cell_type": "markdown",
      "metadata": {
        "id": "qKbMBUX7SQGj"
      },
      "source": [
        "### Chi Squared Feature Elimination Method"
      ]
    },
    {
      "cell_type": "code",
      "execution_count": 39,
      "metadata": {
        "id": "MLqBwygRSQGj"
      },
      "outputs": [],
      "source": [
        "from sklearn.feature_selection import SelectKBest, chi2\n",
        "\n",
        "def ChiSquareFeatureElimination(X, y, n_features_to_select, df= None):\n",
        "    X_chi2 = SelectKBest(chi2, k = n_features_to_select).fit_transform(X, y)\n",
        "    X_chi2_df = pd.DataFrame(X_chi2, columns=[f\"feature_{i}\" for i in range(n_features_to_select)])\n",
        "    return pd.concat([X_chi2_df, y.reset_index(drop=True)], axis=1)"
      ]
    },
    {
      "cell_type": "markdown",
      "metadata": {
        "id": "gkd3OpGHSQGj"
      },
      "source": [
        "### Mutual Information Feature Elimination Method"
      ]
    },
    {
      "cell_type": "code",
      "execution_count": 40,
      "metadata": {
        "id": "UXjWNYO-SQGj"
      },
      "outputs": [],
      "source": [
        "from sklearn.feature_selection import mutual_info_classif\n",
        "\n",
        "def MutualInformationFeatureElimination(X, y, n_features_to_select, df= None):\n",
        "    X_mutual_info = SelectKBest(mutual_info_classif, k = n_features_to_select).fit_transform(X, y)\n",
        "    X_mutual_info_df = pd.DataFrame(X_mutual_info, columns=[f\"feature_{i}\" for i in range(n_features_to_select)])\n",
        "    return pd.concat([X_mutual_info_df, y.reset_index(drop=True)], axis=1)"
      ]
    },
    {
      "cell_type": "markdown",
      "metadata": {
        "id": "x9JAFqEXSQGj"
      },
      "source": [
        "### Lasso Feature Elimination Method"
      ]
    },
    {
      "cell_type": "code",
      "execution_count": 41,
      "metadata": {
        "id": "JrU70ADfSQGj"
      },
      "outputs": [],
      "source": [
        "from sklearn.svm import LinearSVC\n",
        "from sklearn.feature_selection import SelectFromModel\n",
        "\n",
        "\n",
        "def LassoFeatureElimination(X, y, n_features_to_select, df= None):\n",
        "    lsvc = LinearSVC(C=0.01, penalty=\"l1\", dual=False).fit(X, y)\n",
        "    model = SelectFromModel(lsvc, prefit=True, max_features=n_features_to_select)\n",
        "    X_l1 = model.transform(X)\n",
        "    X_l1_df = X_l1_df = pd.DataFrame(X_l1, columns=[f\"feature_{i}\" for i in range(X_l1.shape[1])])\n",
        "    return pd.concat([X_l1_df, y.reset_index(drop=True)], axis=1)\n"
      ]
    },
    {
      "cell_type": "code",
      "execution_count": 42,
      "metadata": {
        "colab": {
          "base_uri": "https://localhost:8080/",
          "height": 87
        },
        "id": "Gq3ZglvLSQGj",
        "outputId": "acf83c30-626b-46c4-e00d-ccd189b6a67c"
      },
      "outputs": [
        {
          "output_type": "execute_result",
          "data": {
            "text/plain": [
              "'\\nfrom sklearn.linear_model import Lasso\\nfrom sklearn.feature_selection import SelectFromModel\\nimport pandas as pd\\n\\ndef LassoFeatureElimination(X, y, n_features_to_select, alpha=1, df=None):\\n    \"\"\"\\n    Perform feature selection using Lasso regression.\\n\\n    Parameters:\\n    - X: Features\\n    - y: Target variable\\n    - alpha: Regularization strength\\n    - df: DataFrame to concatenate the selected features and target variable\\n\\n    Returns:\\n    - DataFrame containing selected features and target variable\\n    \"\"\"\\n    lasso_model = Lasso(alpha=alpha, random_state=42)  # You can choose an appropriate alpha\\n    model = SelectFromModel(lasso_model, prefit=False)\\n\\n    # Fit the model and transform the data\\n    X_lasso = model.fit_transform(X, y)\\n\\n    # Get the selected feature indices\\n    feature_indices = model.get_support(indices=True)\\n\\n    # Select the corresponding columns from the original DataFrame\\n    selected_features = X.iloc[:, feature_indices]\\n\\n    # Concatenate selected features and target variable\\n    selected_df = pd.concat([selected_features, y.reset_index(drop=True)], axis=1)\\n\\n    return selected_df\\n'"
            ],
            "application/vnd.google.colaboratory.intrinsic+json": {
              "type": "string"
            }
          },
          "metadata": {},
          "execution_count": 42
        }
      ],
      "source": [
        "'''\n",
        "from sklearn.linear_model import Lasso\n",
        "from sklearn.feature_selection import SelectFromModel\n",
        "import pandas as pd\n",
        "\n",
        "def LassoFeatureElimination(X, y, n_features_to_select, alpha=1, df=None):\n",
        "    \"\"\"\n",
        "    Perform feature selection using Lasso regression.\n",
        "\n",
        "    Parameters:\n",
        "    - X: Features\n",
        "    - y: Target variable\n",
        "    - alpha: Regularization strength\n",
        "    - df: DataFrame to concatenate the selected features and target variable\n",
        "\n",
        "    Returns:\n",
        "    - DataFrame containing selected features and target variable\n",
        "    \"\"\"\n",
        "    lasso_model = Lasso(alpha=alpha, random_state=42)  # You can choose an appropriate alpha\n",
        "    model = SelectFromModel(lasso_model, prefit=False)\n",
        "\n",
        "    # Fit the model and transform the data\n",
        "    X_lasso = model.fit_transform(X, y)\n",
        "\n",
        "    # Get the selected feature indices\n",
        "    feature_indices = model.get_support(indices=True)\n",
        "\n",
        "    # Select the corresponding columns from the original DataFrame\n",
        "    selected_features = X.iloc[:, feature_indices]\n",
        "\n",
        "    # Concatenate selected features and target variable\n",
        "    selected_df = pd.concat([selected_features, y.reset_index(drop=True)], axis=1)\n",
        "\n",
        "    return selected_df\n",
        "'''"
      ]
    },
    {
      "cell_type": "markdown",
      "metadata": {
        "id": "U14zVlzswqBU"
      },
      "source": [
        "# ML and DL Algorithms"
      ]
    },
    {
      "cell_type": "markdown",
      "metadata": {
        "id": "dW0jDJ0hWQAP"
      },
      "source": [
        "### KNN Classification Algorithm Method"
      ]
    },
    {
      "cell_type": "code",
      "execution_count": 43,
      "metadata": {
        "id": "6m4dNXtRWQAP"
      },
      "outputs": [],
      "source": [
        "from sklearn.neighbors import KNeighborsClassifier\n",
        "from sklearn.metrics import accuracy_score\n",
        "from sklearn.metrics import confusion_matrix\n",
        "\n",
        "def KNN(x_train, x_test, y_train, y_test):\n",
        "    knn_params = {\"cosine\", \"euclidean\", \"manhattan\", \"nan_euclidean\"}\n",
        "    best_accuracy_knn = 0\n",
        "    best_metric = \"\"\n",
        "    best_neighbor_count = 0\n",
        "    max_neighbour = 50\n",
        "    for i in range(1,max_neighbour):\n",
        "        for param in knn_params:\n",
        "            knn = KNeighborsClassifier(n_neighbors=i, metric = param, weights = \"distance\")\n",
        "            knn.fit(x_train, y_train)\n",
        "            y_pred = knn.predict(x_test)\n",
        "            if accuracy_score(y_test, y_pred) < 1 and best_accuracy_knn < accuracy_score(y_test, y_pred) :\n",
        "                best_accuracy_knn, best_neighbor_count, best_metric = accuracy_score(y_test, y_pred), i, param\n",
        "\n",
        "    print(f\"Best accuracy is = {best_accuracy_knn}, with {best_neighbor_count} n_neighbors, {best_metric} metrics and fetaure len = {len(x_train.columns)}\")\n",
        "    #knn = KNeighborsClassifier(n_neighbors=best_neighbor_count, metric = best_metric, weights = \"distance\")\n",
        "    #knn.fit(x_train, y_train)\n",
        "    #y_pred = knn.predict(x_test)\n",
        "    #print(confusion_matrix(y_test,y_pred))\n",
        "    return {\"Accuracy\": best_accuracy_knn,\n",
        "            \"Model_Name\": \"KNN\",\n",
        "            \"HyperParameters\": f\"n_neighbor:{best_neighbor_count}, metric:{best_metric}, n_feature:{len(x_train.columns)}\"}"
      ]
    },
    {
      "cell_type": "markdown",
      "metadata": {
        "id": "dmojFRPSWQAQ"
      },
      "source": [
        "### Random Forest Classifier Method"
      ]
    },
    {
      "cell_type": "code",
      "execution_count": 44,
      "metadata": {
        "id": "lsz1N09sWQAQ"
      },
      "outputs": [],
      "source": [
        "from sklearn.ensemble import RandomForestClassifier\n",
        "from sklearn.datasets import make_classification\n",
        "\n",
        "# TODO Hyper Parameters Trying will be added with loop\n",
        "def RandomForest(x_train, x_test, y_train, y_test):\n",
        "    criterions = {\"gini\", \"entropy\"}\n",
        "    best_accuracy = 0\n",
        "    best_criterion = \"\"\n",
        "    best_depth = 0,\n",
        "    best_n_estimators = 0 #The number of trees in the forest\n",
        "    for criterion_changer in criterions:\n",
        "        for max_depth_changer in [None,5,10,15,20,25,30,35,40,45,50]:\n",
        "            RandomForestClf = RandomForestClassifier(criterion= criterion_changer, max_depth=max_depth_changer, random_state=1)\n",
        "            RandomForestClf.fit(x_train, y_train)\n",
        "            y_pred = RandomForestClf.predict(x_test)\n",
        "            accuracy = accuracy_score(y_test, y_pred)\n",
        "            if(accuracy > best_accuracy):\n",
        "                best_accuracy, best_criterion, best_depth = accuracy, criterion_changer, max_depth_changer\n",
        "    print(f\"Best accuracy is = {best_accuracy}, with criterion = {best_criterion} max_depth = {best_depth} metrics and fetaure len = {len(x_train.columns)}\")\n",
        "\n",
        "    return {\"Accuracy\": best_accuracy,\n",
        "            \"Model_Name\": \"RandomForest\",\n",
        "            \"HyperParameters\": f\"best_criterion: {best_criterion}, max_depth:{best_depth} fetaure len = {len(x_train.columns)}\"}"
      ]
    },
    {
      "cell_type": "markdown",
      "metadata": {
        "id": "a3VNmUUzNVvF"
      },
      "source": [
        "### Gradient Boosting Classifier Method"
      ]
    },
    {
      "cell_type": "code",
      "execution_count": 45,
      "metadata": {
        "id": "F_M3nwA5NVvF"
      },
      "outputs": [],
      "source": [
        "from sklearn.ensemble import GradientBoostingClassifier\n",
        "def GradientBoosting(x_train, x_test, y_train, y_test):\n",
        "    best_accuracy = 0\n",
        "    best_n_estimators = \"\"\n",
        "    best_depth = 0\n",
        "    for n_estimators in [100,125,150,175,200]:\n",
        "        clf = GradientBoostingClassifier(n_estimators=n_estimators, loss = 'deviance', learning_rate=0.1, criterion = 'squared_error', max_depth=1, random_state=0)\n",
        "        clf.fit(x_train, y_train)\n",
        "        accuracy = clf.score(x_test, y_test)\n",
        "        if(accuracy > best_accuracy):\n",
        "            best_accuracy, best_n_estimators = accuracy, n_estimators\n",
        "    print(f\"Best accuracy is = {best_accuracy}, with best_n_estimators = {best_n_estimators} learning_rate = 0.1 criterion = squared_error best_depth = 1 metrics and fetaure len = {len(x_train.columns)}\")\n",
        "    return {\"Accuracy\": best_accuracy,\n",
        "            \"Model_Name\": \"GradientBoosting\",\n",
        "            \"HyperParameters\": f\"best_n_estimators: {best_n_estimators}, loss:deviance, learning_rate = 0.1, depth = 1  criterion = squared_error\"}"
      ]
    },
    {
      "cell_type": "markdown",
      "metadata": {
        "id": "FrYMHVg6NVvF"
      },
      "source": [
        "### Stochastic Gradient Descent"
      ]
    },
    {
      "cell_type": "code",
      "execution_count": 46,
      "metadata": {
        "id": "bv6ClgANNVvF"
      },
      "outputs": [],
      "source": [
        "from sklearn.linear_model import SGDClassifier\n",
        "def StockGradientDescent(x_train, x_test, y_train, y_test):\n",
        "    best_accuracy = 0\n",
        "    best_penalty = ''\n",
        "    for penalty in ['l2', 'l1', 'elasticnet']:\n",
        "        clf = SGDClassifier(loss=\"squared_error\", penalty=penalty, max_iter=1000)\n",
        "        clf.fit(x_train, y_train)\n",
        "        y_pred = clf.predict(x_test)\n",
        "        accuracy = accuracy_score(y_test, y_pred)\n",
        "        if(accuracy > best_accuracy):\n",
        "            best_accuracy, best_penalty = accuracy, penalty\n",
        "    print(f\"Best accuracy is = {best_accuracy}, with max_iter = 1000 best_penalty = {best_penalty} loss = squared_error  metrics and fetaure len = {len(x_train.columns)}\")\n",
        "    return {\"Accuracy\": best_accuracy,\n",
        "            \"Model_Name\": \"StockGradientDescent\",\n",
        "            \"HyperParameters\": f\"best_max_iter: 1000, loss:squared_error, best_penalty = {best_penalty}\"}"
      ]
    },
    {
      "cell_type": "markdown",
      "metadata": {
        "id": "8z6tObWSW01F"
      },
      "source": [
        "### SVM\n"
      ]
    },
    {
      "cell_type": "code",
      "execution_count": 47,
      "metadata": {
        "id": "x4MqbpAaW3tO"
      },
      "outputs": [],
      "source": [
        "from sklearn import svm\n",
        "\n",
        "def NonlinearSVM(x_train, x_test, y_train, y_test):\n",
        "    best_accuracy = 0\n",
        "    functionsForSVM={\"rbf\",\"sigmoid\"}\n",
        "    best_function=\"\"\n",
        "\n",
        "    for function in functionsForSVM:\n",
        "      model = svm.SVC(kernel=function)\n",
        "      model.fit(x_train, y_train)\n",
        "      y_pred = model.predict(x_test)\n",
        "      accuracy = accuracy_score(y_test, y_pred)\n",
        "      if(accuracy > best_accuracy):\n",
        "        best_accuracy=accuracy\n",
        "        best_function=function\n",
        "    print(f\"Best accuracy is = {best_accuracy}, with function = {best_function}\")\n",
        "    return  {\"Accuracy\": best_accuracy,\n",
        "            \"Model_Name\": \"SVM\",\n",
        "            \"HyperParameters\": f\"best_function: {best_function}\"}"
      ]
    },
    {
      "cell_type": "markdown",
      "metadata": {
        "id": "o1oit3UQa5ZO"
      },
      "source": [
        "### Naive Bayes"
      ]
    },
    {
      "cell_type": "code",
      "execution_count": 48,
      "metadata": {
        "id": "wwnAkECVa8e2"
      },
      "outputs": [],
      "source": [
        "from sklearn.naive_bayes import MultinomialNB\n",
        "\n",
        "def MultinomialNaiveBayes(x_train, x_test, y_train, y_test):\n",
        "    best_accuracy = 0\n",
        "    best_alpha = 0\n",
        "    alphas = [0.2, 0.3, 0.5]\n",
        "\n",
        "    for alpha in alphas:\n",
        "        model = MultinomialNB(alpha=alpha)\n",
        "        model.fit(x_train, y_train)\n",
        "        y_pred = model.predict(x_test)\n",
        "        accuracy = accuracy_score(y_test, y_pred)\n",
        "\n",
        "        if accuracy > best_accuracy:\n",
        "            best_accuracy = accuracy\n",
        "            best_alpha = alpha\n",
        "\n",
        "    print(f\"Best accuracy is = {best_accuracy}, with alpha = {best_alpha}\")\n",
        "\n",
        "    return {\n",
        "        \"Accuracy\": best_accuracy,\n",
        "        \"Model_Name\": \"Multinomial Naive Bayes\",\n",
        "        \"HyperParameters\": f\"best_alpha: {best_alpha}\"\n",
        "    }"
      ]
    },
    {
      "cell_type": "markdown",
      "metadata": {
        "id": "Y2AAIT6PhU8Z"
      },
      "source": [
        "### Decision Tree"
      ]
    },
    {
      "cell_type": "code",
      "execution_count": 49,
      "metadata": {
        "id": "e9rSv7J9hdYY"
      },
      "outputs": [],
      "source": [
        "from sklearn.tree import DecisionTreeClassifier\n",
        "\n",
        "\n",
        "def DecisionTree(x_train, x_test, y_train, y_test):\n",
        "    dephts= [5,10,12,17]\n",
        "    best_accuracy=0\n",
        "    best_max_depth=0\n",
        "\n",
        "    for depth in dephts:\n",
        "        model = DecisionTreeClassifier(random_state=42,max_depth=depth)\n",
        "        model.fit(x_train, y_train)\n",
        "        y_pred = model.predict(x_test)\n",
        "        accuracy = accuracy_score(y_test, y_pred)\n",
        "        if accuracy > best_accuracy:\n",
        "            best_accuracy, best_max_depth = accuracy, depth\n",
        "    print(f\"Best accuracy is = {best_accuracy}, with max_depth = {best_max_depth}\")\n",
        "\n",
        "    return {\n",
        "        \"Accuracy\": best_accuracy,\n",
        "        \"Model_Name\": \"Decision Tree\",\n",
        "        \"HyperParameters\": f\"best_max_depth: {best_max_depth}\"\n",
        "    }"
      ]
    },
    {
      "cell_type": "markdown",
      "metadata": {
        "id": "WFmpkQDOk2qq"
      },
      "source": [
        "### Ada Boost"
      ]
    },
    {
      "cell_type": "code",
      "execution_count": 50,
      "metadata": {
        "id": "juPL62dik5r9"
      },
      "outputs": [],
      "source": [
        "from sklearn.ensemble import AdaBoostClassifier\n",
        "from sklearn.tree import DecisionTreeClassifier\n",
        "\n",
        "\n",
        "def AdaBoost(x_train, x_test, y_train, y_test):\n",
        "  depths=[1,3,5]\n",
        "  best_max_depth=0\n",
        "  best_accuracy=0\n",
        "  best_n_estimators=0\n",
        "  for depth in depths:\n",
        "    weak_learner = DecisionTreeClassifier(max_depth=depth)\n",
        "    adaboost_model = AdaBoostClassifier(base_estimator=weak_learner, n_estimators=5, random_state=42)\n",
        "    adaboost_model.fit(x_train, y_train)\n",
        "    y_pred = adaboost_model.predict(x_test)\n",
        "    accuracy = accuracy_score(y_test, y_pred)\n",
        "\n",
        "    if accuracy > best_accuracy:\n",
        "            best_accuracy = accuracy\n",
        "            best_max_depth = depth\n",
        "  print(f\"Best accuracy is = {best_accuracy}, with max_depth = {best_max_depth}\")\n",
        "\n",
        "  return {\n",
        "        \"Accuracy\": best_accuracy,\n",
        "        \"Model_Name\": \"Ada Boost\",\n",
        "        \"HyperParameters\": f\"best_max_depth: {best_max_depth}\"\n",
        "    }"
      ]
    },
    {
      "cell_type": "markdown",
      "metadata": {
        "id": "Ahif18dsnkO8"
      },
      "source": [
        "## TensorFlow"
      ]
    },
    {
      "cell_type": "code",
      "execution_count": 88,
      "metadata": {
        "colab": {
          "base_uri": "https://localhost:8080/",
          "height": 1000
        },
        "id": "e1EcIkWNnm16",
        "outputId": "5c23d421-e58c-4b22-997d-25e6c17eae6d"
      },
      "outputs": [
        {
          "output_type": "stream",
          "name": "stdout",
          "text": [
            "(11532, 40)\n",
            "(8072, 40)\n",
            "(3460, 40)\n",
            "(8072, 4)\n",
            "(3460, 4)\n",
            "(8072, 40)\n",
            "(3460, 40)\n",
            "Epoch 1/100\n",
            "253/253 [==============================] - 2s 4ms/step - loss: 1.2633 - accuracy: 0.4139 - val_loss: 1.1687 - val_accuracy: 0.4728\n",
            "Epoch 2/100\n",
            "253/253 [==============================] - 1s 4ms/step - loss: 1.1432 - accuracy: 0.5121 - val_loss: 1.0847 - val_accuracy: 0.5803\n",
            "Epoch 3/100\n",
            "253/253 [==============================] - 1s 4ms/step - loss: 1.0698 - accuracy: 0.5669 - val_loss: 1.0206 - val_accuracy: 0.6009\n",
            "Epoch 4/100\n",
            "253/253 [==============================] - 1s 4ms/step - loss: 1.0167 - accuracy: 0.5917 - val_loss: 0.9796 - val_accuracy: 0.6069\n",
            "Epoch 5/100\n",
            "253/253 [==============================] - 1s 5ms/step - loss: 0.9836 - accuracy: 0.6026 - val_loss: 0.9677 - val_accuracy: 0.6035\n",
            "Epoch 6/100\n",
            "253/253 [==============================] - 1s 5ms/step - loss: 0.9691 - accuracy: 0.6023 - val_loss: 0.9362 - val_accuracy: 0.6214\n",
            "Epoch 7/100\n",
            "253/253 [==============================] - 1s 5ms/step - loss: 0.9458 - accuracy: 0.6085 - val_loss: 0.9235 - val_accuracy: 0.6162\n",
            "Epoch 8/100\n",
            "253/253 [==============================] - 1s 4ms/step - loss: 0.9284 - accuracy: 0.6174 - val_loss: 0.9080 - val_accuracy: 0.6318\n",
            "Epoch 9/100\n",
            "253/253 [==============================] - 1s 3ms/step - loss: 0.9125 - accuracy: 0.6255 - val_loss: 0.8928 - val_accuracy: 0.6384\n",
            "Epoch 10/100\n",
            "253/253 [==============================] - 1s 4ms/step - loss: 0.8993 - accuracy: 0.6254 - val_loss: 0.8867 - val_accuracy: 0.6442\n",
            "Epoch 11/100\n",
            "253/253 [==============================] - 1s 4ms/step - loss: 0.8845 - accuracy: 0.6402 - val_loss: 0.8742 - val_accuracy: 0.6439\n",
            "Epoch 12/100\n",
            "253/253 [==============================] - 1s 3ms/step - loss: 0.8763 - accuracy: 0.6404 - val_loss: 0.8827 - val_accuracy: 0.6269\n",
            "Epoch 13/100\n",
            "253/253 [==============================] - 1s 3ms/step - loss: 0.8652 - accuracy: 0.6464 - val_loss: 0.8603 - val_accuracy: 0.6607\n",
            "Epoch 14/100\n",
            "253/253 [==============================] - 1s 4ms/step - loss: 0.8601 - accuracy: 0.6509 - val_loss: 0.8643 - val_accuracy: 0.6315\n",
            "Epoch 15/100\n",
            "253/253 [==============================] - 1s 3ms/step - loss: 0.8444 - accuracy: 0.6562 - val_loss: 0.8511 - val_accuracy: 0.6428\n",
            "Epoch 16/100\n",
            "253/253 [==============================] - 1s 4ms/step - loss: 0.8414 - accuracy: 0.6608 - val_loss: 0.8424 - val_accuracy: 0.6633\n",
            "Epoch 17/100\n",
            "253/253 [==============================] - 1s 3ms/step - loss: 0.8291 - accuracy: 0.6661 - val_loss: 0.8313 - val_accuracy: 0.6746\n",
            "Epoch 18/100\n",
            "253/253 [==============================] - 1s 4ms/step - loss: 0.8078 - accuracy: 0.6798 - val_loss: 0.8273 - val_accuracy: 0.6682\n",
            "Epoch 19/100\n",
            "253/253 [==============================] - 1s 6ms/step - loss: 0.8057 - accuracy: 0.6860 - val_loss: 0.8090 - val_accuracy: 0.6879\n",
            "Epoch 20/100\n",
            "253/253 [==============================] - 1s 5ms/step - loss: 0.7888 - accuracy: 0.6956 - val_loss: 0.7999 - val_accuracy: 0.6884\n",
            "Epoch 21/100\n",
            "253/253 [==============================] - 1s 4ms/step - loss: 0.7718 - accuracy: 0.7055 - val_loss: 0.8130 - val_accuracy: 0.6786\n",
            "Epoch 22/100\n",
            "253/253 [==============================] - 1s 4ms/step - loss: 0.7628 - accuracy: 0.7125 - val_loss: 0.8016 - val_accuracy: 0.6815\n",
            "Epoch 23/100\n",
            "253/253 [==============================] - 1s 4ms/step - loss: 0.7501 - accuracy: 0.7086 - val_loss: 0.7905 - val_accuracy: 0.6960\n",
            "Epoch 24/100\n",
            "253/253 [==============================] - 1s 4ms/step - loss: 0.7497 - accuracy: 0.7157 - val_loss: 0.7796 - val_accuracy: 0.7035\n",
            "Epoch 25/100\n",
            "253/253 [==============================] - 1s 4ms/step - loss: 0.7396 - accuracy: 0.7211 - val_loss: 0.7729 - val_accuracy: 0.7052\n",
            "Epoch 26/100\n",
            "253/253 [==============================] - 1s 4ms/step - loss: 0.7339 - accuracy: 0.7235 - val_loss: 0.7692 - val_accuracy: 0.7055\n",
            "Epoch 27/100\n",
            "253/253 [==============================] - 1s 4ms/step - loss: 0.7245 - accuracy: 0.7297 - val_loss: 0.7661 - val_accuracy: 0.7087\n",
            "Epoch 28/100\n",
            "253/253 [==============================] - 1s 3ms/step - loss: 0.7200 - accuracy: 0.7314 - val_loss: 0.7718 - val_accuracy: 0.7084\n",
            "Epoch 29/100\n",
            "253/253 [==============================] - 1s 3ms/step - loss: 0.7097 - accuracy: 0.7320 - val_loss: 0.7616 - val_accuracy: 0.7069\n",
            "Epoch 30/100\n",
            "253/253 [==============================] - 1s 4ms/step - loss: 0.7065 - accuracy: 0.7371 - val_loss: 0.7602 - val_accuracy: 0.7069\n",
            "Epoch 31/100\n",
            "253/253 [==============================] - 1s 4ms/step - loss: 0.6940 - accuracy: 0.7395 - val_loss: 0.7613 - val_accuracy: 0.7118\n",
            "Epoch 32/100\n",
            "253/253 [==============================] - 1s 5ms/step - loss: 0.7015 - accuracy: 0.7365 - val_loss: 0.7497 - val_accuracy: 0.7153\n",
            "Epoch 33/100\n",
            "253/253 [==============================] - 1s 5ms/step - loss: 0.6946 - accuracy: 0.7405 - val_loss: 0.7564 - val_accuracy: 0.7124\n",
            "Epoch 34/100\n",
            "253/253 [==============================] - 1s 4ms/step - loss: 0.6867 - accuracy: 0.7427 - val_loss: 0.7471 - val_accuracy: 0.7153\n",
            "Epoch 35/100\n",
            "253/253 [==============================] - 1s 4ms/step - loss: 0.6792 - accuracy: 0.7473 - val_loss: 0.7419 - val_accuracy: 0.7162\n",
            "Epoch 36/100\n",
            "253/253 [==============================] - 1s 4ms/step - loss: 0.6764 - accuracy: 0.7434 - val_loss: 0.7502 - val_accuracy: 0.7168\n",
            "Epoch 37/100\n",
            "253/253 [==============================] - 1s 3ms/step - loss: 0.6708 - accuracy: 0.7511 - val_loss: 0.7431 - val_accuracy: 0.7142\n",
            "Epoch 38/100\n",
            "253/253 [==============================] - 1s 4ms/step - loss: 0.6685 - accuracy: 0.7511 - val_loss: 0.7374 - val_accuracy: 0.7202\n",
            "Epoch 39/100\n",
            "253/253 [==============================] - 1s 4ms/step - loss: 0.6611 - accuracy: 0.7502 - val_loss: 0.7355 - val_accuracy: 0.7159\n",
            "Epoch 40/100\n",
            "253/253 [==============================] - 1s 4ms/step - loss: 0.6643 - accuracy: 0.7500 - val_loss: 0.7496 - val_accuracy: 0.7162\n",
            "Epoch 41/100\n",
            "253/253 [==============================] - 1s 4ms/step - loss: 0.6619 - accuracy: 0.7519 - val_loss: 0.7330 - val_accuracy: 0.7214\n",
            "Epoch 42/100\n",
            "253/253 [==============================] - 1s 4ms/step - loss: 0.6426 - accuracy: 0.7650 - val_loss: 0.7424 - val_accuracy: 0.7162\n",
            "Epoch 43/100\n",
            "253/253 [==============================] - 1s 3ms/step - loss: 0.6456 - accuracy: 0.7639 - val_loss: 0.7374 - val_accuracy: 0.7228\n",
            "Epoch 44/100\n",
            "253/253 [==============================] - 1s 4ms/step - loss: 0.6495 - accuracy: 0.7545 - val_loss: 0.7317 - val_accuracy: 0.7197\n",
            "Epoch 45/100\n",
            "253/253 [==============================] - 1s 5ms/step - loss: 0.6521 - accuracy: 0.7535 - val_loss: 0.7271 - val_accuracy: 0.7217\n",
            "Epoch 46/100\n",
            "253/253 [==============================] - 1s 5ms/step - loss: 0.6423 - accuracy: 0.7557 - val_loss: 0.7271 - val_accuracy: 0.7205\n",
            "Epoch 47/100\n",
            "253/253 [==============================] - 1s 5ms/step - loss: 0.6398 - accuracy: 0.7634 - val_loss: 0.7327 - val_accuracy: 0.7234\n",
            "Epoch 48/100\n",
            "253/253 [==============================] - 1s 3ms/step - loss: 0.6402 - accuracy: 0.7593 - val_loss: 0.7319 - val_accuracy: 0.7225\n",
            "Epoch 49/100\n",
            "253/253 [==============================] - 1s 4ms/step - loss: 0.6301 - accuracy: 0.7602 - val_loss: 0.7326 - val_accuracy: 0.7249\n",
            "Epoch 50/100\n",
            "253/253 [==============================] - 1s 4ms/step - loss: 0.6305 - accuracy: 0.7660 - val_loss: 0.7210 - val_accuracy: 0.7260\n",
            "Epoch 51/100\n",
            "253/253 [==============================] - 1s 4ms/step - loss: 0.6245 - accuracy: 0.7681 - val_loss: 0.7168 - val_accuracy: 0.7283\n",
            "Epoch 52/100\n",
            "253/253 [==============================] - 1s 4ms/step - loss: 0.6170 - accuracy: 0.7707 - val_loss: 0.7182 - val_accuracy: 0.7246\n",
            "Epoch 53/100\n",
            "253/253 [==============================] - 1s 4ms/step - loss: 0.6192 - accuracy: 0.7714 - val_loss: 0.7184 - val_accuracy: 0.7240\n",
            "Epoch 54/100\n",
            "253/253 [==============================] - 1s 3ms/step - loss: 0.6111 - accuracy: 0.7729 - val_loss: 0.7152 - val_accuracy: 0.7277\n",
            "Epoch 55/100\n",
            "253/253 [==============================] - 1s 3ms/step - loss: 0.6087 - accuracy: 0.7719 - val_loss: 0.7268 - val_accuracy: 0.7188\n",
            "Epoch 56/100\n",
            "253/253 [==============================] - 1s 3ms/step - loss: 0.6111 - accuracy: 0.7673 - val_loss: 0.7138 - val_accuracy: 0.7280\n",
            "Epoch 57/100\n",
            "253/253 [==============================] - 1s 4ms/step - loss: 0.6133 - accuracy: 0.7693 - val_loss: 0.7158 - val_accuracy: 0.7272\n",
            "Epoch 58/100\n",
            "253/253 [==============================] - 1s 5ms/step - loss: 0.5963 - accuracy: 0.7791 - val_loss: 0.7177 - val_accuracy: 0.7315\n",
            "Epoch 59/100\n",
            "253/253 [==============================] - 1s 5ms/step - loss: 0.5984 - accuracy: 0.7790 - val_loss: 0.7279 - val_accuracy: 0.7303\n",
            "Epoch 60/100\n",
            "253/253 [==============================] - 1s 5ms/step - loss: 0.5937 - accuracy: 0.7766 - val_loss: 0.7143 - val_accuracy: 0.7327\n",
            "Epoch 61/100\n",
            "253/253 [==============================] - 1s 4ms/step - loss: 0.5970 - accuracy: 0.7782 - val_loss: 0.7135 - val_accuracy: 0.7324\n",
            "Epoch 62/100\n",
            "253/253 [==============================] - 1s 3ms/step - loss: 0.5900 - accuracy: 0.7791 - val_loss: 0.7136 - val_accuracy: 0.7335\n",
            "Epoch 63/100\n",
            "253/253 [==============================] - 1s 3ms/step - loss: 0.5939 - accuracy: 0.7802 - val_loss: 0.7205 - val_accuracy: 0.7286\n",
            "Epoch 64/100\n",
            "253/253 [==============================] - 1s 3ms/step - loss: 0.5829 - accuracy: 0.7861 - val_loss: 0.7196 - val_accuracy: 0.7283\n",
            "Epoch 65/100\n",
            "253/253 [==============================] - 1s 4ms/step - loss: 0.5843 - accuracy: 0.7825 - val_loss: 0.7212 - val_accuracy: 0.7344\n",
            "Epoch 66/100\n",
            "253/253 [==============================] - 1s 4ms/step - loss: 0.5866 - accuracy: 0.7801 - val_loss: 0.7147 - val_accuracy: 0.7280\n",
            "Epoch 67/100\n",
            "253/253 [==============================] - 1s 4ms/step - loss: 0.5718 - accuracy: 0.7887 - val_loss: 0.7264 - val_accuracy: 0.7292\n",
            "Epoch 68/100\n",
            "253/253 [==============================] - 1s 3ms/step - loss: 0.5857 - accuracy: 0.7802 - val_loss: 0.7045 - val_accuracy: 0.7382\n",
            "Epoch 69/100\n",
            "253/253 [==============================] - 1s 4ms/step - loss: 0.5720 - accuracy: 0.7908 - val_loss: 0.7091 - val_accuracy: 0.7329\n",
            "Epoch 70/100\n",
            "253/253 [==============================] - 1s 4ms/step - loss: 0.5709 - accuracy: 0.7846 - val_loss: 0.7195 - val_accuracy: 0.7280\n",
            "Epoch 71/100\n",
            "253/253 [==============================] - 1s 4ms/step - loss: 0.5743 - accuracy: 0.7887 - val_loss: 0.7141 - val_accuracy: 0.7332\n",
            "Epoch 72/100\n",
            "253/253 [==============================] - 1s 5ms/step - loss: 0.5774 - accuracy: 0.7894 - val_loss: 0.7104 - val_accuracy: 0.7306\n",
            "Epoch 73/100\n",
            "253/253 [==============================] - 1s 5ms/step - loss: 0.5644 - accuracy: 0.7917 - val_loss: 0.7084 - val_accuracy: 0.7341\n",
            "Epoch 74/100\n",
            "253/253 [==============================] - 1s 5ms/step - loss: 0.5728 - accuracy: 0.7880 - val_loss: 0.7094 - val_accuracy: 0.7370\n",
            "Epoch 75/100\n",
            "253/253 [==============================] - 1s 3ms/step - loss: 0.5667 - accuracy: 0.7904 - val_loss: 0.7136 - val_accuracy: 0.7335\n",
            "Epoch 76/100\n",
            "253/253 [==============================] - 1s 3ms/step - loss: 0.5524 - accuracy: 0.7978 - val_loss: 0.7238 - val_accuracy: 0.7306\n",
            "Epoch 77/100\n",
            "253/253 [==============================] - 1s 4ms/step - loss: 0.5520 - accuracy: 0.7962 - val_loss: 0.7256 - val_accuracy: 0.7292\n",
            "Epoch 78/100\n",
            "253/253 [==============================] - 1s 3ms/step - loss: 0.5510 - accuracy: 0.7974 - val_loss: 0.7203 - val_accuracy: 0.7344\n",
            "Epoch 79/100\n",
            "253/253 [==============================] - 1s 3ms/step - loss: 0.5491 - accuracy: 0.7974 - val_loss: 0.7137 - val_accuracy: 0.7301\n",
            "Epoch 80/100\n",
            "253/253 [==============================] - 1s 4ms/step - loss: 0.5521 - accuracy: 0.7927 - val_loss: 0.7118 - val_accuracy: 0.7292\n",
            "Epoch 81/100\n",
            "253/253 [==============================] - 1s 3ms/step - loss: 0.5490 - accuracy: 0.7992 - val_loss: 0.7172 - val_accuracy: 0.7306\n",
            "Epoch 82/100\n",
            "253/253 [==============================] - 1s 4ms/step - loss: 0.5467 - accuracy: 0.7976 - val_loss: 0.7139 - val_accuracy: 0.7358\n",
            "Epoch 83/100\n",
            "253/253 [==============================] - 1s 3ms/step - loss: 0.5462 - accuracy: 0.7967 - val_loss: 0.7127 - val_accuracy: 0.7327\n",
            "Epoch 84/100\n",
            "253/253 [==============================] - 1s 3ms/step - loss: 0.5553 - accuracy: 0.7962 - val_loss: 0.7070 - val_accuracy: 0.7370\n",
            "Epoch 85/100\n",
            "253/253 [==============================] - 1s 5ms/step - loss: 0.5450 - accuracy: 0.7994 - val_loss: 0.7217 - val_accuracy: 0.7306\n",
            "Epoch 86/100\n",
            "253/253 [==============================] - 1s 5ms/step - loss: 0.5429 - accuracy: 0.7917 - val_loss: 0.7175 - val_accuracy: 0.7309\n",
            "Epoch 87/100\n",
            "253/253 [==============================] - 1s 5ms/step - loss: 0.5386 - accuracy: 0.8043 - val_loss: 0.7224 - val_accuracy: 0.7286\n",
            "Epoch 88/100\n",
            "253/253 [==============================] - 1s 4ms/step - loss: 0.5454 - accuracy: 0.7979 - val_loss: 0.7124 - val_accuracy: 0.7361\n",
            "Epoch 89/100\n",
            "253/253 [==============================] - 1s 3ms/step - loss: 0.5339 - accuracy: 0.7998 - val_loss: 0.7105 - val_accuracy: 0.7425\n",
            "Epoch 90/100\n",
            "253/253 [==============================] - 1s 3ms/step - loss: 0.5349 - accuracy: 0.8041 - val_loss: 0.7175 - val_accuracy: 0.7309\n",
            "Epoch 91/100\n",
            "253/253 [==============================] - 1s 3ms/step - loss: 0.5269 - accuracy: 0.8038 - val_loss: 0.7207 - val_accuracy: 0.7335\n",
            "Epoch 92/100\n",
            "253/253 [==============================] - 1s 5ms/step - loss: 0.5284 - accuracy: 0.8034 - val_loss: 0.7106 - val_accuracy: 0.7344\n",
            "Epoch 93/100\n",
            "253/253 [==============================] - 1s 5ms/step - loss: 0.5284 - accuracy: 0.8027 - val_loss: 0.7175 - val_accuracy: 0.7298\n",
            "Epoch 94/100\n",
            "253/253 [==============================] - 1s 5ms/step - loss: 0.5365 - accuracy: 0.7972 - val_loss: 0.7102 - val_accuracy: 0.7364\n",
            "Epoch 95/100\n",
            "253/253 [==============================] - 2s 7ms/step - loss: 0.5282 - accuracy: 0.8054 - val_loss: 0.7096 - val_accuracy: 0.7384\n",
            "Epoch 96/100\n",
            "253/253 [==============================] - 4s 14ms/step - loss: 0.5329 - accuracy: 0.8022 - val_loss: 0.7081 - val_accuracy: 0.7341\n",
            "Epoch 97/100\n",
            "253/253 [==============================] - 3s 12ms/step - loss: 0.5174 - accuracy: 0.8080 - val_loss: 0.7105 - val_accuracy: 0.7353\n",
            "Epoch 98/100\n",
            "253/253 [==============================] - 2s 6ms/step - loss: 0.5195 - accuracy: 0.8074 - val_loss: 0.7154 - val_accuracy: 0.7367\n",
            "Epoch 99/100\n",
            "253/253 [==============================] - 2s 8ms/step - loss: 0.5194 - accuracy: 0.8051 - val_loss: 0.7083 - val_accuracy: 0.7347\n",
            "Epoch 100/100\n",
            "200/253 [======================>.......] - ETA: 0s - loss: 0.5176 - accuracy: 0.8039"
          ]
        },
        {
          "output_type": "error",
          "ename": "KeyboardInterrupt",
          "evalue": "ignored",
          "traceback": [
            "\u001b[0;31m---------------------------------------------------------------------------\u001b[0m",
            "\u001b[0;31mKeyboardInterrupt\u001b[0m                         Traceback (most recent call last)",
            "\u001b[0;32m<ipython-input-88-c331ee00572e>\u001b[0m in \u001b[0;36m<cell line: 72>\u001b[0;34m()\u001b[0m\n\u001b[1;32m     70\u001b[0m \u001b[0;34m\u001b[0m\u001b[0m\n\u001b[1;32m     71\u001b[0m \u001b[0;34m\u001b[0m\u001b[0m\n\u001b[0;32m---> 72\u001b[0;31m \u001b[0mmodel_result\u001b[0m \u001b[0;34m=\u001b[0m \u001b[0mmodel\u001b[0m\u001b[0;34m.\u001b[0m\u001b[0mfit\u001b[0m\u001b[0;34m(\u001b[0m\u001b[0mX_train_scaled\u001b[0m\u001b[0;34m,\u001b[0m \u001b[0my_train\u001b[0m\u001b[0;34m,\u001b[0m \u001b[0mepochs\u001b[0m\u001b[0;34m=\u001b[0m\u001b[0;36m100\u001b[0m\u001b[0;34m,\u001b[0m\u001b[0mvalidation_data\u001b[0m\u001b[0;34m=\u001b[0m\u001b[0;34m(\u001b[0m\u001b[0mX_test_scaled\u001b[0m\u001b[0;34m,\u001b[0m \u001b[0my_test\u001b[0m\u001b[0;34m)\u001b[0m\u001b[0;34m)\u001b[0m\u001b[0;34m\u001b[0m\u001b[0;34m\u001b[0m\u001b[0m\n\u001b[0m\u001b[1;32m     73\u001b[0m \u001b[0mhistory\u001b[0m \u001b[0;34m=\u001b[0m \u001b[0mmodel_result\u001b[0m\u001b[0;34m.\u001b[0m\u001b[0mhistory\u001b[0m\u001b[0;34m\u001b[0m\u001b[0;34m\u001b[0m\u001b[0m\n\u001b[1;32m     74\u001b[0m \u001b[0;34m\u001b[0m\u001b[0m\n",
            "\u001b[0;32m/usr/local/lib/python3.10/dist-packages/keras/src/utils/traceback_utils.py\u001b[0m in \u001b[0;36merror_handler\u001b[0;34m(*args, **kwargs)\u001b[0m\n\u001b[1;32m     63\u001b[0m         \u001b[0mfiltered_tb\u001b[0m \u001b[0;34m=\u001b[0m \u001b[0;32mNone\u001b[0m\u001b[0;34m\u001b[0m\u001b[0;34m\u001b[0m\u001b[0m\n\u001b[1;32m     64\u001b[0m         \u001b[0;32mtry\u001b[0m\u001b[0;34m:\u001b[0m\u001b[0;34m\u001b[0m\u001b[0;34m\u001b[0m\u001b[0m\n\u001b[0;32m---> 65\u001b[0;31m             \u001b[0;32mreturn\u001b[0m \u001b[0mfn\u001b[0m\u001b[0;34m(\u001b[0m\u001b[0;34m*\u001b[0m\u001b[0margs\u001b[0m\u001b[0;34m,\u001b[0m \u001b[0;34m**\u001b[0m\u001b[0mkwargs\u001b[0m\u001b[0;34m)\u001b[0m\u001b[0;34m\u001b[0m\u001b[0;34m\u001b[0m\u001b[0m\n\u001b[0m\u001b[1;32m     66\u001b[0m         \u001b[0;32mexcept\u001b[0m \u001b[0mException\u001b[0m \u001b[0;32mas\u001b[0m \u001b[0me\u001b[0m\u001b[0;34m:\u001b[0m\u001b[0;34m\u001b[0m\u001b[0;34m\u001b[0m\u001b[0m\n\u001b[1;32m     67\u001b[0m             \u001b[0mfiltered_tb\u001b[0m \u001b[0;34m=\u001b[0m \u001b[0m_process_traceback_frames\u001b[0m\u001b[0;34m(\u001b[0m\u001b[0me\u001b[0m\u001b[0;34m.\u001b[0m\u001b[0m__traceback__\u001b[0m\u001b[0;34m)\u001b[0m\u001b[0;34m\u001b[0m\u001b[0;34m\u001b[0m\u001b[0m\n",
            "\u001b[0;32m/usr/local/lib/python3.10/dist-packages/keras/src/engine/training.py\u001b[0m in \u001b[0;36mfit\u001b[0;34m(self, x, y, batch_size, epochs, verbose, callbacks, validation_split, validation_data, shuffle, class_weight, sample_weight, initial_epoch, steps_per_epoch, validation_steps, validation_batch_size, validation_freq, max_queue_size, workers, use_multiprocessing)\u001b[0m\n\u001b[1;32m   1805\u001b[0m                         ):\n\u001b[1;32m   1806\u001b[0m                             \u001b[0mcallbacks\u001b[0m\u001b[0;34m.\u001b[0m\u001b[0mon_train_batch_begin\u001b[0m\u001b[0;34m(\u001b[0m\u001b[0mstep\u001b[0m\u001b[0;34m)\u001b[0m\u001b[0;34m\u001b[0m\u001b[0;34m\u001b[0m\u001b[0m\n\u001b[0;32m-> 1807\u001b[0;31m                             \u001b[0mtmp_logs\u001b[0m \u001b[0;34m=\u001b[0m \u001b[0mself\u001b[0m\u001b[0;34m.\u001b[0m\u001b[0mtrain_function\u001b[0m\u001b[0;34m(\u001b[0m\u001b[0miterator\u001b[0m\u001b[0;34m)\u001b[0m\u001b[0;34m\u001b[0m\u001b[0;34m\u001b[0m\u001b[0m\n\u001b[0m\u001b[1;32m   1808\u001b[0m                             \u001b[0;32mif\u001b[0m \u001b[0mdata_handler\u001b[0m\u001b[0;34m.\u001b[0m\u001b[0mshould_sync\u001b[0m\u001b[0;34m:\u001b[0m\u001b[0;34m\u001b[0m\u001b[0;34m\u001b[0m\u001b[0m\n\u001b[1;32m   1809\u001b[0m                                 \u001b[0mcontext\u001b[0m\u001b[0;34m.\u001b[0m\u001b[0masync_wait\u001b[0m\u001b[0;34m(\u001b[0m\u001b[0;34m)\u001b[0m\u001b[0;34m\u001b[0m\u001b[0;34m\u001b[0m\u001b[0m\n",
            "\u001b[0;32m/usr/local/lib/python3.10/dist-packages/tensorflow/python/util/traceback_utils.py\u001b[0m in \u001b[0;36merror_handler\u001b[0;34m(*args, **kwargs)\u001b[0m\n\u001b[1;32m    148\u001b[0m     \u001b[0mfiltered_tb\u001b[0m \u001b[0;34m=\u001b[0m \u001b[0;32mNone\u001b[0m\u001b[0;34m\u001b[0m\u001b[0;34m\u001b[0m\u001b[0m\n\u001b[1;32m    149\u001b[0m     \u001b[0;32mtry\u001b[0m\u001b[0;34m:\u001b[0m\u001b[0;34m\u001b[0m\u001b[0;34m\u001b[0m\u001b[0m\n\u001b[0;32m--> 150\u001b[0;31m       \u001b[0;32mreturn\u001b[0m \u001b[0mfn\u001b[0m\u001b[0;34m(\u001b[0m\u001b[0;34m*\u001b[0m\u001b[0margs\u001b[0m\u001b[0;34m,\u001b[0m \u001b[0;34m**\u001b[0m\u001b[0mkwargs\u001b[0m\u001b[0;34m)\u001b[0m\u001b[0;34m\u001b[0m\u001b[0;34m\u001b[0m\u001b[0m\n\u001b[0m\u001b[1;32m    151\u001b[0m     \u001b[0;32mexcept\u001b[0m \u001b[0mException\u001b[0m \u001b[0;32mas\u001b[0m \u001b[0me\u001b[0m\u001b[0;34m:\u001b[0m\u001b[0;34m\u001b[0m\u001b[0;34m\u001b[0m\u001b[0m\n\u001b[1;32m    152\u001b[0m       \u001b[0mfiltered_tb\u001b[0m \u001b[0;34m=\u001b[0m \u001b[0m_process_traceback_frames\u001b[0m\u001b[0;34m(\u001b[0m\u001b[0me\u001b[0m\u001b[0;34m.\u001b[0m\u001b[0m__traceback__\u001b[0m\u001b[0;34m)\u001b[0m\u001b[0;34m\u001b[0m\u001b[0;34m\u001b[0m\u001b[0m\n",
            "\u001b[0;32m/usr/local/lib/python3.10/dist-packages/tensorflow/python/eager/polymorphic_function/polymorphic_function.py\u001b[0m in \u001b[0;36m__call__\u001b[0;34m(self, *args, **kwds)\u001b[0m\n\u001b[1;32m    830\u001b[0m \u001b[0;34m\u001b[0m\u001b[0m\n\u001b[1;32m    831\u001b[0m       \u001b[0;32mwith\u001b[0m \u001b[0mOptionalXlaContext\u001b[0m\u001b[0;34m(\u001b[0m\u001b[0mself\u001b[0m\u001b[0;34m.\u001b[0m\u001b[0m_jit_compile\u001b[0m\u001b[0;34m)\u001b[0m\u001b[0;34m:\u001b[0m\u001b[0;34m\u001b[0m\u001b[0;34m\u001b[0m\u001b[0m\n\u001b[0;32m--> 832\u001b[0;31m         \u001b[0mresult\u001b[0m \u001b[0;34m=\u001b[0m \u001b[0mself\u001b[0m\u001b[0;34m.\u001b[0m\u001b[0m_call\u001b[0m\u001b[0;34m(\u001b[0m\u001b[0;34m*\u001b[0m\u001b[0margs\u001b[0m\u001b[0;34m,\u001b[0m \u001b[0;34m**\u001b[0m\u001b[0mkwds\u001b[0m\u001b[0;34m)\u001b[0m\u001b[0;34m\u001b[0m\u001b[0;34m\u001b[0m\u001b[0m\n\u001b[0m\u001b[1;32m    833\u001b[0m \u001b[0;34m\u001b[0m\u001b[0m\n\u001b[1;32m    834\u001b[0m       \u001b[0mnew_tracing_count\u001b[0m \u001b[0;34m=\u001b[0m \u001b[0mself\u001b[0m\u001b[0;34m.\u001b[0m\u001b[0mexperimental_get_tracing_count\u001b[0m\u001b[0;34m(\u001b[0m\u001b[0;34m)\u001b[0m\u001b[0;34m\u001b[0m\u001b[0;34m\u001b[0m\u001b[0m\n",
            "\u001b[0;32m/usr/local/lib/python3.10/dist-packages/tensorflow/python/eager/polymorphic_function/polymorphic_function.py\u001b[0m in \u001b[0;36m_call\u001b[0;34m(self, *args, **kwds)\u001b[0m\n\u001b[1;32m    866\u001b[0m       \u001b[0;31m# In this case we have created variables on the first call, so we run the\u001b[0m\u001b[0;34m\u001b[0m\u001b[0;34m\u001b[0m\u001b[0m\n\u001b[1;32m    867\u001b[0m       \u001b[0;31m# defunned version which is guaranteed to never create variables.\u001b[0m\u001b[0;34m\u001b[0m\u001b[0;34m\u001b[0m\u001b[0m\n\u001b[0;32m--> 868\u001b[0;31m       return tracing_compilation.call_function(\n\u001b[0m\u001b[1;32m    869\u001b[0m           \u001b[0margs\u001b[0m\u001b[0;34m,\u001b[0m \u001b[0mkwds\u001b[0m\u001b[0;34m,\u001b[0m \u001b[0mself\u001b[0m\u001b[0;34m.\u001b[0m\u001b[0m_no_variable_creation_config\u001b[0m\u001b[0;34m\u001b[0m\u001b[0;34m\u001b[0m\u001b[0m\n\u001b[1;32m    870\u001b[0m       )\n",
            "\u001b[0;32m/usr/local/lib/python3.10/dist-packages/tensorflow/python/eager/polymorphic_function/tracing_compilation.py\u001b[0m in \u001b[0;36mcall_function\u001b[0;34m(args, kwargs, tracing_options)\u001b[0m\n\u001b[1;32m    137\u001b[0m   \u001b[0mbound_args\u001b[0m \u001b[0;34m=\u001b[0m \u001b[0mfunction\u001b[0m\u001b[0;34m.\u001b[0m\u001b[0mfunction_type\u001b[0m\u001b[0;34m.\u001b[0m\u001b[0mbind\u001b[0m\u001b[0;34m(\u001b[0m\u001b[0;34m*\u001b[0m\u001b[0margs\u001b[0m\u001b[0;34m,\u001b[0m \u001b[0;34m**\u001b[0m\u001b[0mkwargs\u001b[0m\u001b[0;34m)\u001b[0m\u001b[0;34m\u001b[0m\u001b[0;34m\u001b[0m\u001b[0m\n\u001b[1;32m    138\u001b[0m   \u001b[0mflat_inputs\u001b[0m \u001b[0;34m=\u001b[0m \u001b[0mfunction\u001b[0m\u001b[0;34m.\u001b[0m\u001b[0mfunction_type\u001b[0m\u001b[0;34m.\u001b[0m\u001b[0munpack_inputs\u001b[0m\u001b[0;34m(\u001b[0m\u001b[0mbound_args\u001b[0m\u001b[0;34m)\u001b[0m\u001b[0;34m\u001b[0m\u001b[0;34m\u001b[0m\u001b[0m\n\u001b[0;32m--> 139\u001b[0;31m   return function._call_flat(  # pylint: disable=protected-access\n\u001b[0m\u001b[1;32m    140\u001b[0m       \u001b[0mflat_inputs\u001b[0m\u001b[0;34m,\u001b[0m \u001b[0mcaptured_inputs\u001b[0m\u001b[0;34m=\u001b[0m\u001b[0mfunction\u001b[0m\u001b[0;34m.\u001b[0m\u001b[0mcaptured_inputs\u001b[0m\u001b[0;34m\u001b[0m\u001b[0;34m\u001b[0m\u001b[0m\n\u001b[1;32m    141\u001b[0m   )\n",
            "\u001b[0;32m/usr/local/lib/python3.10/dist-packages/tensorflow/python/eager/polymorphic_function/concrete_function.py\u001b[0m in \u001b[0;36m_call_flat\u001b[0;34m(self, tensor_inputs, captured_inputs)\u001b[0m\n\u001b[1;32m   1321\u001b[0m         and executing_eagerly):\n\u001b[1;32m   1322\u001b[0m       \u001b[0;31m# No tape is watching; skip to running the function.\u001b[0m\u001b[0;34m\u001b[0m\u001b[0;34m\u001b[0m\u001b[0m\n\u001b[0;32m-> 1323\u001b[0;31m       \u001b[0;32mreturn\u001b[0m \u001b[0mself\u001b[0m\u001b[0;34m.\u001b[0m\u001b[0m_inference_function\u001b[0m\u001b[0;34m.\u001b[0m\u001b[0mcall_preflattened\u001b[0m\u001b[0;34m(\u001b[0m\u001b[0margs\u001b[0m\u001b[0;34m)\u001b[0m\u001b[0;34m\u001b[0m\u001b[0;34m\u001b[0m\u001b[0m\n\u001b[0m\u001b[1;32m   1324\u001b[0m     forward_backward = self._select_forward_and_backward_functions(\n\u001b[1;32m   1325\u001b[0m         \u001b[0margs\u001b[0m\u001b[0;34m,\u001b[0m\u001b[0;34m\u001b[0m\u001b[0;34m\u001b[0m\u001b[0m\n",
            "\u001b[0;32m/usr/local/lib/python3.10/dist-packages/tensorflow/python/eager/polymorphic_function/atomic_function.py\u001b[0m in \u001b[0;36mcall_preflattened\u001b[0;34m(self, args)\u001b[0m\n\u001b[1;32m    214\u001b[0m   \u001b[0;32mdef\u001b[0m \u001b[0mcall_preflattened\u001b[0m\u001b[0;34m(\u001b[0m\u001b[0mself\u001b[0m\u001b[0;34m,\u001b[0m \u001b[0margs\u001b[0m\u001b[0;34m:\u001b[0m \u001b[0mSequence\u001b[0m\u001b[0;34m[\u001b[0m\u001b[0mcore\u001b[0m\u001b[0;34m.\u001b[0m\u001b[0mTensor\u001b[0m\u001b[0;34m]\u001b[0m\u001b[0;34m)\u001b[0m \u001b[0;34m->\u001b[0m \u001b[0mAny\u001b[0m\u001b[0;34m:\u001b[0m\u001b[0;34m\u001b[0m\u001b[0;34m\u001b[0m\u001b[0m\n\u001b[1;32m    215\u001b[0m     \u001b[0;34m\"\"\"Calls with flattened tensor inputs and returns the structured output.\"\"\"\u001b[0m\u001b[0;34m\u001b[0m\u001b[0;34m\u001b[0m\u001b[0m\n\u001b[0;32m--> 216\u001b[0;31m     \u001b[0mflat_outputs\u001b[0m \u001b[0;34m=\u001b[0m \u001b[0mself\u001b[0m\u001b[0;34m.\u001b[0m\u001b[0mcall_flat\u001b[0m\u001b[0;34m(\u001b[0m\u001b[0;34m*\u001b[0m\u001b[0margs\u001b[0m\u001b[0;34m)\u001b[0m\u001b[0;34m\u001b[0m\u001b[0;34m\u001b[0m\u001b[0m\n\u001b[0m\u001b[1;32m    217\u001b[0m     \u001b[0;32mreturn\u001b[0m \u001b[0mself\u001b[0m\u001b[0;34m.\u001b[0m\u001b[0mfunction_type\u001b[0m\u001b[0;34m.\u001b[0m\u001b[0mpack_output\u001b[0m\u001b[0;34m(\u001b[0m\u001b[0mflat_outputs\u001b[0m\u001b[0;34m)\u001b[0m\u001b[0;34m\u001b[0m\u001b[0;34m\u001b[0m\u001b[0m\n\u001b[1;32m    218\u001b[0m \u001b[0;34m\u001b[0m\u001b[0m\n",
            "\u001b[0;32m/usr/local/lib/python3.10/dist-packages/tensorflow/python/eager/polymorphic_function/atomic_function.py\u001b[0m in \u001b[0;36mcall_flat\u001b[0;34m(self, *args)\u001b[0m\n\u001b[1;32m    249\u001b[0m         \u001b[0;32mwith\u001b[0m \u001b[0mrecord\u001b[0m\u001b[0;34m.\u001b[0m\u001b[0mstop_recording\u001b[0m\u001b[0;34m(\u001b[0m\u001b[0;34m)\u001b[0m\u001b[0;34m:\u001b[0m\u001b[0;34m\u001b[0m\u001b[0;34m\u001b[0m\u001b[0m\n\u001b[1;32m    250\u001b[0m           \u001b[0;32mif\u001b[0m \u001b[0mself\u001b[0m\u001b[0;34m.\u001b[0m\u001b[0m_bound_context\u001b[0m\u001b[0;34m.\u001b[0m\u001b[0mexecuting_eagerly\u001b[0m\u001b[0;34m(\u001b[0m\u001b[0;34m)\u001b[0m\u001b[0;34m:\u001b[0m\u001b[0;34m\u001b[0m\u001b[0;34m\u001b[0m\u001b[0m\n\u001b[0;32m--> 251\u001b[0;31m             outputs = self._bound_context.call_function(\n\u001b[0m\u001b[1;32m    252\u001b[0m                 \u001b[0mself\u001b[0m\u001b[0;34m.\u001b[0m\u001b[0mname\u001b[0m\u001b[0;34m,\u001b[0m\u001b[0;34m\u001b[0m\u001b[0;34m\u001b[0m\u001b[0m\n\u001b[1;32m    253\u001b[0m                 \u001b[0mlist\u001b[0m\u001b[0;34m(\u001b[0m\u001b[0margs\u001b[0m\u001b[0;34m)\u001b[0m\u001b[0;34m,\u001b[0m\u001b[0;34m\u001b[0m\u001b[0;34m\u001b[0m\u001b[0m\n",
            "\u001b[0;32m/usr/local/lib/python3.10/dist-packages/tensorflow/python/eager/context.py\u001b[0m in \u001b[0;36mcall_function\u001b[0;34m(self, name, tensor_inputs, num_outputs)\u001b[0m\n\u001b[1;32m   1484\u001b[0m     \u001b[0mcancellation_context\u001b[0m \u001b[0;34m=\u001b[0m \u001b[0mcancellation\u001b[0m\u001b[0;34m.\u001b[0m\u001b[0mcontext\u001b[0m\u001b[0;34m(\u001b[0m\u001b[0;34m)\u001b[0m\u001b[0;34m\u001b[0m\u001b[0;34m\u001b[0m\u001b[0m\n\u001b[1;32m   1485\u001b[0m     \u001b[0;32mif\u001b[0m \u001b[0mcancellation_context\u001b[0m \u001b[0;32mis\u001b[0m \u001b[0;32mNone\u001b[0m\u001b[0;34m:\u001b[0m\u001b[0;34m\u001b[0m\u001b[0;34m\u001b[0m\u001b[0m\n\u001b[0;32m-> 1486\u001b[0;31m       outputs = execute.execute(\n\u001b[0m\u001b[1;32m   1487\u001b[0m           \u001b[0mname\u001b[0m\u001b[0;34m.\u001b[0m\u001b[0mdecode\u001b[0m\u001b[0;34m(\u001b[0m\u001b[0;34m\"utf-8\"\u001b[0m\u001b[0;34m)\u001b[0m\u001b[0;34m,\u001b[0m\u001b[0;34m\u001b[0m\u001b[0;34m\u001b[0m\u001b[0m\n\u001b[1;32m   1488\u001b[0m           \u001b[0mnum_outputs\u001b[0m\u001b[0;34m=\u001b[0m\u001b[0mnum_outputs\u001b[0m\u001b[0;34m,\u001b[0m\u001b[0;34m\u001b[0m\u001b[0;34m\u001b[0m\u001b[0m\n",
            "\u001b[0;32m/usr/local/lib/python3.10/dist-packages/tensorflow/python/eager/execute.py\u001b[0m in \u001b[0;36mquick_execute\u001b[0;34m(op_name, num_outputs, inputs, attrs, ctx, name)\u001b[0m\n\u001b[1;32m     51\u001b[0m   \u001b[0;32mtry\u001b[0m\u001b[0;34m:\u001b[0m\u001b[0;34m\u001b[0m\u001b[0;34m\u001b[0m\u001b[0m\n\u001b[1;32m     52\u001b[0m     \u001b[0mctx\u001b[0m\u001b[0;34m.\u001b[0m\u001b[0mensure_initialized\u001b[0m\u001b[0;34m(\u001b[0m\u001b[0;34m)\u001b[0m\u001b[0;34m\u001b[0m\u001b[0;34m\u001b[0m\u001b[0m\n\u001b[0;32m---> 53\u001b[0;31m     tensors = pywrap_tfe.TFE_Py_Execute(ctx._handle, device_name, op_name,\n\u001b[0m\u001b[1;32m     54\u001b[0m                                         inputs, attrs, num_outputs)\n\u001b[1;32m     55\u001b[0m   \u001b[0;32mexcept\u001b[0m \u001b[0mcore\u001b[0m\u001b[0;34m.\u001b[0m\u001b[0m_NotOkStatusException\u001b[0m \u001b[0;32mas\u001b[0m \u001b[0me\u001b[0m\u001b[0;34m:\u001b[0m\u001b[0;34m\u001b[0m\u001b[0;34m\u001b[0m\u001b[0m\n",
            "\u001b[0;31mKeyboardInterrupt\u001b[0m: "
          ]
        }
      ],
      "source": [
        "import tensorflow as tf\n",
        "from tensorflow.keras import layers, models\n",
        "from sklearn.model_selection import train_test_split\n",
        "from sklearn.preprocessing import LabelEncoder\n",
        "from tensorflow.keras.models import Sequential\n",
        "from tensorflow.keras.layers import Dense\n",
        "from tensorflow.keras.optimizers import Adam\n",
        "from imblearn.over_sampling import SMOTE\n",
        "from sklearn.preprocessing import LabelEncoder,  RobustScaler\n",
        "from tensorflow.keras.regularizers import l2\n",
        "from tensorflow.keras.layers import Dropout\n",
        "\n",
        "df_tr=questionToMode_df.copy()\n",
        "#for label\n",
        "df_tr = pd.get_dummies(df_tr, columns=['Q16'], prefix='Q16')\n",
        "\n",
        "#for features\n",
        "label_encoder = LabelEncoder()\n",
        "categorical_columns = df_tr.columns[:-4]\n",
        "for col in categorical_columns:\n",
        "    df_tr[col] = label_encoder.fit_transform(df_tr[col])\n",
        "\n",
        "X = df_tr.drop(['Q16_0', 'Q16_1', 'Q16_2', 'Q16_3'], axis=1)\n",
        "y = df_tr[['Q16_0', 'Q16_1', 'Q16_2', 'Q16_3']]\n",
        "\n",
        "X_array, y_array = X, y.values\n",
        "smote = SMOTE(random_state=42)\n",
        "X_resampled, y_resampled = smote.fit_resample(X_array, y_array)\n",
        "\n",
        "\n",
        "from sklearn.feature_selection import RFE\n",
        "from sklearn.ensemble import RandomForestClassifier\n",
        "classifier = RandomForestClassifier()\n",
        "rfe = RFE(classifier, n_features_to_select=40)\n",
        "X_rfe = rfe.fit_transform(X_resampled, y_resampled)\n",
        "print(X_rfe.shape)\n",
        "\n",
        "#train-test-split\n",
        "X_train, X_test, y_train, y_test = train_test_split(X_rfe, y_resampled, test_size=0.3, random_state=42)\n",
        "\n",
        "\n",
        "scaler = RobustScaler()\n",
        "X_train_scaled = scaler.fit_transform(X_train)\n",
        "X_test_scaled = scaler.transform(X_test)\n",
        "\n",
        "\n",
        "print(X_train.shape)\n",
        "print(X_test.shape)\n",
        "print(y_train.shape)\n",
        "print(y_test.shape)\n",
        "print(X_train_scaled.shape)\n",
        "print(X_test_scaled.shape)\n",
        "\n",
        "#model\n",
        "model = Sequential()\n",
        "model.add(Dense(256, input_dim=X_train_scaled.shape[1], activation='relu'))\n",
        "model.add(Dropout(0.5))\n",
        "model.add(Dense(128, activation='sigmoid'))\n",
        "model.add(Dropout(0.5))\n",
        "model.add(Dense(64, activation='sigmoid'))\n",
        "model.add(Dense(32, activation='relu'))\n",
        "model.add(Dense(4, activation='softmax'))\n",
        "\n",
        "\n",
        "\n",
        "\n",
        "model.compile(loss='categorical_crossentropy',\n",
        "              optimizer=Adam(learning_rate=0.001),\n",
        "              metrics=['accuracy'])\n",
        "\n",
        "\n",
        "model_result = model.fit(X_train_scaled, y_train, epochs=100,validation_data=(X_test_scaled, y_test))\n",
        "history = model_result.history\n",
        "\n",
        "\n",
        "best_accuracy = max(history['val_accuracy'])\n",
        "\n",
        "print(f'Best: {best_accuracy}')\n"
      ]
    },
    {
      "cell_type": "markdown",
      "metadata": {
        "id": "xrksmOBhWQAQ"
      },
      "source": [
        "### PyTorch Classifier"
      ]
    },
    {
      "cell_type": "code",
      "execution_count": null,
      "metadata": {
        "id": "Oaio8HLwWQAQ"
      },
      "outputs": [],
      "source": [
        "# Check Torch version\n",
        "import torch\n",
        "print(torch.__version__)"
      ]
    },
    {
      "cell_type": "code",
      "execution_count": null,
      "metadata": {
        "id": "FJwRyYW6WQAQ"
      },
      "outputs": [],
      "source": [
        "def ConvertNumpyToTorch(x_train, x_test, y_train, y_test):\n",
        "    x_train, x_test = torch.from_numpy(x_train.values), torch.from_numpy(x_test.values)\n",
        "    y_train, y_test = torch.from_numpy(y_train.values), torch.from_numpy(y_test.values)\n",
        "    return x_train, x_test, y_train, y_test"
      ]
    },
    {
      "cell_type": "code",
      "execution_count": null,
      "metadata": {
        "id": "6SwY4KihWQAQ"
      },
      "outputs": [],
      "source": [
        "from torch import nn\n",
        "from torch.nn.functional import one_hot\n",
        "\n",
        "def accuracy_fn(y_true, y_pred):\n",
        "    correct = torch.eq(y_true, y_pred).sum().item()\n",
        "    acc = (correct / len(y_pred)) * 100\n",
        "    return acc\n",
        "\n",
        "class PyTorchClassifier(nn.Module):\n",
        "    def __init__(self, input_layers, hidden_layers, output_layers):\n",
        "        super().__init__()\n",
        "        self.layer_1 = nn.Linear(in_features=input_layers, out_features=256).to(dtype=torch.float64)\n",
        "        self.relu = nn.ReLU()\n",
        "\n",
        "        self.layer_2= nn.Linear(in_features=256, out_features=128).to(dtype=torch.float64)\n",
        "        self.relu2 = nn.ReLU()\n",
        "\n",
        "        self.layer_6 = nn.Linear(in_features=128, out_features=32).to(dtype=torch.float64)\n",
        "        self.relu6 = nn.ReLU()\n",
        "\n",
        "        self.layer_7 = nn.Linear(in_features=32, out_features=4).to(dtype=torch.float64)\n",
        "        self.softmax = nn.Softmax(dim=1)\n",
        "\n",
        "    def forward(self, x):\n",
        "        x = self.relu(self.layer_1(x).to(dtype=torch.float64)).to(dtype=torch.float64)\n",
        "        x = self.relu2(self.layer_2(x).to(dtype=torch.float64)).to(dtype=torch.float64)\n",
        "        x = self.relu6(self.layer_6(x).to(dtype=torch.float64)).to(dtype=torch.float64)\n",
        "        x = self.layer_7(x).to(dtype=torch.float64)\n",
        "        x = x = self.softmax(x)\n",
        "        return x\n",
        "\n",
        "results_pytorch = []\n",
        "def PyTorch_TrainTest_Step(model: torch.nn.Module,\n",
        "                       x_train, x_test, y_train, y_test,\n",
        "                       loss_fn,\n",
        "                       accuracy_fn,\n",
        "                       optimizer: torch.optim.Optimizer,\n",
        "                       feature_elimination_name,\n",
        "                       scaler_name,\n",
        "                       epochs = 20000):\n",
        "\n",
        "    best_accuracy, best_loss, best_epoch = 0, 0, 0\n",
        "    for epoch in range(epochs):\n",
        "        model.train()\n",
        "        y_pred = model(x_train.to(dtype=torch.float64))\n",
        "        loss = loss_fn(y_pred, y_train.squeeze().to(torch.long))\n",
        "\n",
        "        #acc = accuracy_fn(y_train.squeeze().to(torch.long), y_pred.argmax(dim = 1))\n",
        "        optimizer.zero_grad()\n",
        "        loss.backward()\n",
        "        optimizer.step()\n",
        "\n",
        "        model.eval()\n",
        "        with torch.inference_mode():\n",
        "            test_y_pred = model(x_test.to(dtype=torch.float64))\n",
        "            test_loss = loss_fn(test_y_pred, y_test.squeeze().to(torch.long))\n",
        "            test_acc = accuracy_fn(y_test.squeeze().to(torch.long), test_y_pred.argmax(dim = 1))\n",
        "            if(test_acc > best_accuracy):\n",
        "                best_accuracy, best_loss, best_epoch = test_acc, test_loss, epoch\n",
        "                result = f\"Model: PyTorch Best Epoch: {best_epoch} | Best Loss: {best_loss:.5f} | Best Acc: {best_accuracy:.2f}%  with {feature_elimination_name}, {scaler_name},{type(loss_fn).__name__}, len = {x_train.size()[1]} and {type(optimizer).__name__}, lr = {optimizer.param_groups[0]['lr']}\"\n",
        "                print(result)\n",
        "\n",
        "    results_pytorch.append(result)\n",
        "    print(f\"END OF FIRST ITERATION WITH FEATURES LEN = {x_train.size()[1]}\")\n",
        "    return {\n",
        "            \"Accuracy\": best_accuracy,\n",
        "            \"Model_Name\": \"PyTorch\",\n",
        "            \"HyperParameters\": f\"Model: PyTorch Best Epoch: {best_epoch} | Best Loss: {best_loss:.5f} | Best Acc: {best_accuracy:.2f}%  with {feature_elimination_name}, {scaler_name},{type(loss_fn).__name__}, len = {x_train.size()[1]} and {type(optimizer).__name__}, lr = {optimizer.param_groups[0]['lr']}\"\n",
        "        }"
      ]
    },
    {
      "cell_type": "markdown",
      "metadata": {
        "id": "qZmeaSQZWQAQ"
      },
      "source": [
        "### Method For Running Spesific Method with Spesific Parameters"
      ]
    },
    {
      "cell_type": "code",
      "execution_count": null,
      "metadata": {
        "id": "B2l6lrG8WQAR"
      },
      "outputs": [],
      "source": [
        "from sklearn.exceptions import DataConversionWarning\n",
        "import warnings\n",
        "from sklearn.preprocessing import OneHotEncoder\n",
        "\n",
        "algorithms_results = []\n",
        "# Ignore specific warnings\n",
        "warnings.filterwarnings(\"ignore\", category=DataConversionWarning)\n",
        "warnings.filterwarnings(\"ignore\", category=DataConversionWarning)\n",
        "\n",
        "def RunThePredictAlgorithm(df, max_feature, scaling_method, FeatureEliminationMethod, MLORDLAlgorithm,\n",
        "                           IsPytorch = False,  loss_method = None, accuracy_method = None, optimizer_method = None, lr = 0.1, version_numer = 'V1',\n",
        "                           IsTensor = False) -> bool | None:\n",
        "\n",
        "    if(scaling_method == 'min-max'):\n",
        "        X, y = min_max_scaled_items[\"X\"], min_max_scaled_items[\"y\"]\n",
        "    elif(scaling_method == 'standart'):\n",
        "        X, y = stc_scaled_items[\"X\"], stc_scaled_items[\"y\"]\n",
        "    elif(scaling_method == 'robust'):\n",
        "        X, y = robust_scaled_items[\"X\"], robust_scaled_items[\"y\"]\n",
        "    else:\n",
        "        print(\"Scaling method not acceptable try acceptable scaling_method ['min-max', 'standart', 'robust']\")\n",
        "        return False\n",
        "\n",
        "    if IsPytorch == False and IsTensor == False:\n",
        "        for i in range(1,max_feature):\n",
        "            feature_eliminated_df = FeatureEliminationMethod(df = df, X = X, y = y, n_features_to_select = i)\n",
        "            x_train, x_test, y_train, y_test = train_test_split_modified(feature_eliminated_df)\n",
        "            result = MLORDLAlgorithm(x_train, x_test, y_train, y_test)\n",
        "            result[\"FeatureEliminationMethod\"] = FeatureEliminationMethod.__name__\n",
        "            SaveResults(result, str(MLORDLAlgorithm.__name__) + \"_\" + str(FeatureEliminationMethod.__name__) + \"_\" + scaling_method +'_' + version_numer +\".txt\")\n",
        "            algorithms_results.append(result)\n",
        "\n",
        "    elif IsPytorch == True and IsTensor == False:\n",
        "        #for i in range(68, max_feature):\n",
        "            feature_eliminated_df = FeatureEliminationMethod(df = df, X = X, y = y, n_features_to_select = max_feature)\n",
        "            x_train, x_test, y_train, y_test = train_test_split_modified(feature_eliminated_df)\n",
        "            x_train, x_test, y_train, y_test = ConvertNumpyToTorch(x_train, x_test, y_train, y_test)\n",
        "\n",
        "            pytorch_model = PyTorchClassifier(x_train.shape[1], 256, len(y_train.unique()))\n",
        "            #print(pytorch_model.parameters)\n",
        "\n",
        "            if optimizer_method == 'Adam':\n",
        "                optimizer_fn = torch.optim.Adam(params = pytorch_model.parameters(), lr = lr)\n",
        "            elif optimizer_method == 'SGD':\n",
        "                optimizer_fn = torch.optim.SGD(params = pytorch_model.parameters(), lr = lr)\n",
        "            else:\n",
        "                print(\"You give a wrong optimizer name, pls try again. Accepted optimizer names = 'Adam' or 'SGD' \")\n",
        "                return False\n",
        "\n",
        "            result = MLORDLAlgorithm(model = pytorch_model,\n",
        "                                x_train = x_train.to(dtype=torch.float64), x_test = x_test.to(dtype=torch.float64), y_train = y_train.to(dtype=torch.float64), y_test = y_test.to(dtype=torch.float64),\n",
        "                                loss_fn = loss_method,\n",
        "                                accuracy_fn = accuracy_method,\n",
        "                                optimizer = optimizer_fn,\n",
        "                                feature_elimination_name = FeatureEliminationMethod.__name__,\n",
        "                                scaler_name = scaling_method)\n",
        "            result[\"FeatureEliminationMethod\"] = FeatureEliminationMethod.__name__\n",
        "            SaveResults(result, txt_name=\"PyTorch\" + '_' + str(FeatureEliminationMethod.__name__) + '_' + str(scaling_method) + '_' + 'optimizer_method' + '_' + str(lr) + '_' + version_numer +\".txt\")\n",
        "            algorithms_results.append(result)\n",
        "\n",
        "    elif IsPytorch == False and IsTensor == True:\n",
        "        return True\n",
        "\n",
        "    else:\n",
        "        print(\"You can just set True IsPytorch or IsTensor at the same time, try again\")\n",
        "        return False"
      ]
    },
    {
      "cell_type": "markdown",
      "metadata": {
        "id": "lLU97HwJWQAR"
      },
      "source": [
        "### Method For Finding Max Accuracy's Situation Details"
      ]
    },
    {
      "cell_type": "code",
      "execution_count": null,
      "metadata": {
        "id": "mW9YdVguWQAR"
      },
      "outputs": [],
      "source": [
        "def FindBestModel(results_list):\n",
        "    best_accuracy = 0\n",
        "    best_accuracy_index = 0\n",
        "    for i in range(len(results_list)):\n",
        "        if(results_list[i]['Accuracy'] > best_accuracy):\n",
        "            best_accuracy_index = i\n",
        "    return best_accuracy_index"
      ]
    },
    {
      "cell_type": "code",
      "execution_count": null,
      "metadata": {
        "id": "u3JmcNKWWQAR"
      },
      "outputs": [],
      "source": [
        "# Run KNN wiit RFEFeatureElimination and min-max scaler\n",
        "RunThePredictAlgorithm(questionToMode_df, 50, 'min-max', RFEFeatureElimination, KNN)"
      ]
    },
    {
      "cell_type": "code",
      "execution_count": null,
      "metadata": {
        "id": "ahSKxpo3SQGn"
      },
      "outputs": [],
      "source": [
        "RunThePredictAlgorithm(questionToMode_df, 75, 'min-max', RFEFeatureElimination, PyTorch_TrainTest_Step,\n",
        "                       True, accuracy_method= accuracy_fn, loss_method=nn.CrossEntropyLoss(), optimizer_method='Adam', lr = 0.001, version_numer= 'V3')"
      ]
    },
    {
      "cell_type": "code",
      "execution_count": null,
      "metadata": {
        "id": "vj0RsPK-WQAR"
      },
      "outputs": [],
      "source": [
        "# Run RandomForest wiit RFEFeatureElimination and min-max scaler\n",
        "#RunThePredictAlgorithm(questionToMode_df, 75, 'min-max', RFEFeatureElimination, RandomForest)\n",
        "\n",
        "# Run RandomForest wiit RFEFeatureElimination and robust scaler\n",
        "#RunThePredictAlgorithm(questionToMode_df, 75, 'robust', RFEFeatureElimination, RandomForest)\n",
        "\n",
        "# Run RandomForest wiit RFEFeatureElimination and standart scaler\n",
        "RunThePredictAlgorithm(questionToMode_df, 75, 'standart', RFEFeatureElimination, RandomForest)"
      ]
    },
    {
      "cell_type": "code",
      "execution_count": null,
      "metadata": {
        "id": "Ws31btg_NVvJ"
      },
      "outputs": [],
      "source": [
        "# Run GradientBoosting wiit RFEFeatureElimination and min-max scaler\n",
        "RunThePredictAlgorithm(questionToMode_df, 75, 'min-max', RFEFeatureElimination, GradientBoosting)"
      ]
    },
    {
      "cell_type": "code",
      "execution_count": null,
      "metadata": {
        "id": "f7ecTlkxZdmV"
      },
      "outputs": [],
      "source": [
        "# Run NonlinearSVM wiit RFEFeatureElimination and min-max scaler\n",
        "RunThePredictAlgorithm(questionToMode_df, 25, 'min-max', RFEFeatureElimination, NonlinearSVM)"
      ]
    },
    {
      "cell_type": "code",
      "execution_count": null,
      "metadata": {
        "id": "2rbbBWrndTBr"
      },
      "outputs": [],
      "source": [
        "# Run MultinomialNaiveBayes wiit RFEFeatureElimination and min-max scaler\n",
        "RunThePredictAlgorithm(questionToMode_df, 10, 'min-max', RFEFeatureElimination, MultinomialNaiveBayes)"
      ]
    },
    {
      "cell_type": "code",
      "execution_count": null,
      "metadata": {
        "id": "WBVboFt4h3T9"
      },
      "outputs": [],
      "source": [
        "# Run DecisionTree wiit RFEFeatureElimination and min-max scaler\n",
        "RunThePredictAlgorithm(questionToMode_df, 25, 'min-max', RFEFeatureElimination, DecisionTree)"
      ]
    },
    {
      "cell_type": "code",
      "execution_count": null,
      "metadata": {
        "id": "KhdrIdHlmO0E"
      },
      "outputs": [],
      "source": [
        "# Run AdaBoost wiit RFEFeatureElimination and min-max scaler\n",
        "RunThePredictAlgorithm(questionToMode_df, 25, 'min-max', RFEFeatureElimination, AdaBoost) #0.57 max"
      ]
    },
    {
      "cell_type": "code",
      "execution_count": null,
      "metadata": {
        "id": "xVQ36rnmNVvK"
      },
      "outputs": [],
      "source": [
        "# Run StockGradientDescent wiit RFEFeatureElimination and min-max scaler\n",
        "RunThePredictAlgorithm(questionToMode_df, 25, 'min-max', RFEFeatureElimination, StockGradientDescent) #0.5"
      ]
    },
    {
      "cell_type": "code",
      "execution_count": null,
      "metadata": {
        "id": "iEcxkDQDWQAR"
      },
      "outputs": [],
      "source": [
        "print(algorithms_results[FindBestModel(algorithms_results)])"
      ]
    },
    {
      "cell_type": "markdown",
      "metadata": {
        "id": "HOm82GhQSQGp"
      },
      "source": [
        "### Fix The Imbalance Data"
      ]
    },
    {
      "cell_type": "code",
      "execution_count": null,
      "metadata": {
        "id": "1eH7mpkUSQGp"
      },
      "outputs": [],
      "source": [
        "from imblearn.over_sampling import SMOTE, SMOTEN\n",
        "\n",
        "def XAndYToDF(X, y):\n",
        "    df = pd.concat([X, y], axis = 1)\n",
        "    return df\n",
        "\n",
        "\n",
        "def OverSampling(X, y, oversampling_startegey, random_state = None, k_neighbors = 5):\n",
        "    oversample = SMOTEN()\n",
        "    X_oversampled, y_oversampled = oversample.fit_resample(X,y)\n",
        "    return X_oversampled, y_oversampled\n",
        "\n",
        "X, y = DFToXAndY(questionToMode_df)\n",
        "X_oversampled, y_oversampled = OverSampling(X, y, 'minority', random_state=9, k_neighbors=40)\n",
        "oversampling_df = XAndYToDF(X_oversampled, y_oversampled)\n",
        "PrintTheTargetColumnsRange(oversampling_df)"
      ]
    },
    {
      "cell_type": "code",
      "execution_count": null,
      "metadata": {
        "id": "4B9DWcBDSQGp"
      },
      "outputs": [],
      "source": [
        "import tensorflow as tf\n",
        "from tensorflow.keras import layers, models\n",
        "from sklearn.model_selection import train_test_split\n",
        "from sklearn.preprocessing import LabelEncoder\n",
        "from tensorflow.keras.models import Sequential\n",
        "from tensorflow.keras.layers import Dense\n",
        "from tensorflow.keras.optimizers import Adam\n",
        "\n",
        "\n",
        "df_tr=questionToMode_df.copy()\n",
        "#for label\n",
        "df_tr = pd.get_dummies(df_tr, columns=['Q16'], prefix='Q16')\n",
        "\n",
        "#for features\n",
        "label_encoder = LabelEncoder()\n",
        "categorical_columns = df_tr.columns[:-4]\n",
        "for col in categorical_columns:\n",
        "    df_tr[col] = label_encoder.fit_transform(df_tr[col])\n",
        "\n",
        "X = df_tr.drop(['Q16_0', 'Q16_1', 'Q16_2', 'Q16_3'], axis=1)\n",
        "y = df_tr[['Q16_0', 'Q16_1', 'Q16_2', 'Q16_3']]\n",
        "\n",
        "#train-test-split\n",
        "X_train, X_test, y_train, y_test = train_test_split(X, y, test_size=0.2, random_state=42)\n",
        "\n",
        "#model\n",
        "\n",
        "model = Sequential()\n",
        "model.add(Dense(256, input_dim=75, activation='relu'))\n",
        "model.add(Dense(128, activation='relu'))\n",
        "model.add(Dense(64, activation='relu'))\n",
        "model.add(Dense(4, activation='softmax'))\n",
        "\n",
        "\n",
        "\n",
        "\n",
        "model.compile(loss='categorical_crossentropy',\n",
        "              optimizer=Adam(learning_rate=0.001),\n",
        "              metrics=['accuracy'])\n",
        "\n",
        "\n",
        "model_result = model.fit(X_train, y_train, epochs=2000,validation_data=(X_test, y_test))"
      ]
    },
    {
      "cell_type": "code",
      "execution_count": null,
      "metadata": {
        "id": "ir-dPU-6SQGp"
      },
      "outputs": [],
      "source": [
        "# Run the V3 Codes (in V2, oversampling dahat awith k_neigbors = 20, best results comes with PyTorch and RandomForest's min-max scaler, now tyring to more k_neighbors in oversampling)\n",
        "RunThePredictAlgorithm(oversampling_df, 75, 'min-max', RFEFeatureElimination, RandomForest, version_numer='V3')"
      ]
    },
    {
      "cell_type": "code",
      "execution_count": null,
      "metadata": {
        "id": "F3inRjthSQGp"
      },
      "outputs": [],
      "source": [
        "RunThePredictAlgorithm(oversampling_df, 70, 'min-max', RFEFeatureElimination, PyTorch_TrainTest_Step,\n",
        "                       True, accuracy_method= accuracy_fn, loss_method=nn.CrossEntropyLoss(), optimizer_method='Adam', lr = 0.003, version_numer='V4')"
      ]
    },
    {
      "cell_type": "code",
      "execution_count": null,
      "metadata": {
        "id": "a54VetYCSQGp"
      },
      "outputs": [],
      "source": [
        "RunThePredictAlgorithm(oversampling_df, 75, 'min-max', RFEFeatureElimination, KNN, version_numer='V3')"
      ]
    },
    {
      "cell_type": "code",
      "execution_count": null,
      "metadata": {
        "id": "3DSvC-9nSQGq"
      },
      "outputs": [],
      "source": [
        "# Run RandomForest wiit RFEFeatureElimination and robust scaler in to the oversampling data\n",
        "RunThePredictAlgorithm(oversampling_df, 75, 'robust', RFEFeatureElimination, RandomForest, version_numer='V2')"
      ]
    },
    {
      "cell_type": "code",
      "execution_count": null,
      "metadata": {
        "id": "1wwedA5vSQGq"
      },
      "outputs": [],
      "source": [
        "# Run RandomForest wiit RFEFeatureElimination and robust scaler in to the oversampling data\n",
        "RunThePredictAlgorithm(oversampling_df, 75, 'min-max', RFEFeatureElimination, RandomForest, version_numer='V2')"
      ]
    },
    {
      "cell_type": "code",
      "execution_count": null,
      "metadata": {
        "id": "gFZbdx6kSQGq"
      },
      "outputs": [],
      "source": [
        "# Run RandomForest wiit RFEFeatureElimination and robust scaler in to the oversampling data\n",
        "RunThePredictAlgorithm(oversampling_df, 75, 'standart', MutualInformationFeatureElimination, RandomForest, version_numer='V2')\n",
        "\n",
        "# Run RandomForest wiit RFEFeatureElimination and robust scaler in to the oversampling data\n",
        "RunThePredictAlgorithm(oversampling_df, 75, 'min-max', MutualInformationFeatureElimination, RandomForest, version_numer='V2')\n",
        "\n",
        "# Run RandomForest wiit RFEFeatureElimination and robust scaler in to the oversampling data\n",
        "RunThePredictAlgorithm(oversampling_df, 75, 'robust', MutualInformationFeatureElimination, RandomForest, version_numer='V2')\n",
        "\n",
        "# Run RandomForest wiit RFEFeatureElimination and robust scaler in to the oversampling data\n",
        "RunThePredictAlgorithm(oversampling_df, 75, 'standart', ChiSquareFeatureElimination, RandomForest, version_numer='V2')"
      ]
    },
    {
      "cell_type": "code",
      "execution_count": null,
      "metadata": {
        "id": "jodUfal8SQGq"
      },
      "outputs": [],
      "source": [
        "RunThePredictAlgorithm(oversampling_df, 70, 'standart', RFEFeatureElimination, PyTorch_TrainTest_Step,\n",
        "                       True, accuracy_method= accuracy_fn, loss_method=nn.CrossEntropyLoss(), optimizer_method='Adam', lr = 0.001)\n",
        "RunThePredictAlgorithm(oversampling_df, 70, 'robust', RFEFeatureElimination, PyTorch_TrainTest_Step,\n",
        "                       True, accuracy_method= accuracy_fn, loss_method=nn.CrossEntropyLoss(), optimizer_method='Adam', lr = 0.001)\n",
        "\n",
        "\n",
        "\n",
        "RunThePredictAlgorithm(oversampling_df, 70, 'min-max', MutualInformationFeatureElimination, PyTorch_TrainTest_Step,\n",
        "                       True, accuracy_method= accuracy_fn, loss_method=nn.CrossEntropyLoss(), optimizer_method='Adam', lr = 0.001)\n",
        "\n",
        "RunThePredictAlgorithm(oversampling_df, 70, 'standart', MutualInformationFeatureElimination, PyTorch_TrainTest_Step,\n",
        "                       True, accuracy_method= accuracy_fn, loss_method=nn.CrossEntropyLoss(), optimizer_method='Adam', lr = 0.001)\n",
        "\n",
        "RunThePredictAlgorithm(oversampling_df, 70, 'robust', MutualInformationFeatureElimination, PyTorch_TrainTest_Step,\n",
        "                       True, accuracy_method= accuracy_fn, loss_method=nn.CrossEntropyLoss(), optimizer_method='Adam', lr = 0.001)\n",
        "\n",
        "\n",
        "\n",
        "\n",
        "\n",
        "RunThePredictAlgorithm(oversampling_df, 70, 'min-max', ChiSquareFeatureElimination, PyTorch_TrainTest_Step,\n",
        "                       True, accuracy_method= accuracy_fn, loss_method=nn.CrossEntropyLoss(), optimizer_method='Adam', lr = 0.001)"
      ]
    },
    {
      "cell_type": "code",
      "execution_count": null,
      "metadata": {
        "id": "2JKr56sTSQGq"
      },
      "outputs": [],
      "source": [
        "# Run RandomForest wiit RFEFeatureElimination and robust scaler in to the oversampling data\n",
        "RunThePredictAlgorithm(oversampling_df, 75, 'standart', LassoFeatureElimination, RandomForest, version_numer='V2')\n",
        "\n",
        "# Run RandomForest wiit RFEFeatureElimination and robust scaler in to the oversampling data\n",
        "RunThePredictAlgorithm(oversampling_df, 75, 'min-max', LassoFeatureElimination, RandomForest, version_numer='V2')\n",
        "\n",
        "# Run RandomForest wiit RFEFeatureElimination and robust scaler in to the oversampling data\n",
        "RunThePredictAlgorithm(oversampling_df, 75, 'robust', LassoFeatureElimination, RandomForest, version_numer='V2')\n",
        "\n",
        "\n",
        "\n",
        "RunThePredictAlgorithm(oversampling_df, 70, 'min-max', LassoFeatureElimination, PyTorch_TrainTest_Step,\n",
        "                       True, accuracy_method= accuracy_fn, loss_method=nn.CrossEntropyLoss(), optimizer_method='Adam', lr = 0.001)\n",
        "\n",
        "RunThePredictAlgorithm(oversampling_df, 70, 'standart', LassoFeatureElimination, PyTorch_TrainTest_Step,\n",
        "                       True, accuracy_method= accuracy_fn, loss_method=nn.CrossEntropyLoss(), optimizer_method='Adam', lr = 0.001)\n",
        "\n",
        "RunThePredictAlgorithm(oversampling_df, 70, 'robust', LassoFeatureElimination, PyTorch_TrainTest_Step,\n",
        "                       True, accuracy_method= accuracy_fn, loss_method=nn.CrossEntropyLoss(), optimizer_method='Adam', lr = 0.001)"
      ]
    }
  ],
  "metadata": {
    "colab": {
      "provenance": []
    },
    "kernelspec": {
      "display_name": "Python 3",
      "name": "python3"
    },
    "language_info": {
      "codemirror_mode": {
        "name": "ipython",
        "version": 3
      },
      "file_extension": ".py",
      "mimetype": "text/x-python",
      "name": "python",
      "nbconvert_exporter": "python",
      "pygments_lexer": "ipython3",
      "version": "3.10.4"
    }
  },
  "nbformat": 4,
  "nbformat_minor": 0
}