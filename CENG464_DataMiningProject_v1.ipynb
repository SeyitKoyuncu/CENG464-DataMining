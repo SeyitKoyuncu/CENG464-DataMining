{
  "cells": [
    {
      "cell_type": "markdown",
      "metadata": {
        "id": "o9Xx0621S0ko"
      },
      "source": [
        "# Import The libaries"
      ]
    },
    {
      "cell_type": "code",
      "execution_count": 257,
      "metadata": {
        "id": "kN7fd5_DS5Mu"
      },
      "outputs": [],
      "source": [
        "import numpy as np\n",
        "import pandas as pd\n",
        "import matplotlib.pyplot as plt\n",
        "import seaborn as sns"
      ]
    },
    {
      "cell_type": "markdown",
      "metadata": {
        "id": "3ip3ch6JS8b1"
      },
      "source": [
        "# Read DataSet"
      ]
    },
    {
      "cell_type": "code",
      "execution_count": 258,
      "metadata": {
        "id": "jd-9AFVNS9vR"
      },
      "outputs": [],
      "source": [
        "df = pd.DataFrame(pd.read_csv(\"file1.csv\"))"
      ]
    },
    {
      "cell_type": "code",
      "execution_count": 259,
      "metadata": {
        "colab": {
          "base_uri": "https://localhost:8080/"
        },
        "id": "1xQZ3R7VTGnX",
        "outputId": "846bbe34-156a-465b-9444-6f7c2ceecfae"
      },
      "outputs": [
        {
          "data": {
            "text/plain": [
              "(Index(['Unnamed: 0', 'Q11_1', 'Q11_2', 'Q11_3', 'Q11_4', 'Q11_5', 'Q11_6',\n",
              "        'Q11_7', 'Q11_8', 'Q11_9', 'Q11_10', 'Q11_11', 'Q11_12', 'Q11_13',\n",
              "        'Q11_Dont_Know', 'Q12_1', 'Q12_2', 'Q12_3', 'Q12_4', 'Q12_5', 'Q12_6',\n",
              "        'Q12_7', 'Q12_8', 'Q12_9', 'Q12_10', 'Q12_11', 'Q12_12', 'Q12_13',\n",
              "        'Q12_14', 'Q12_Dont_Know', 'Q13_1', 'Q13_2', 'Q13_3', 'Q13_4', 'Q13_5',\n",
              "        'Q13_6', 'Q13_7', 'Q13_8', 'Q13_9', 'Q13_10', 'Q13_11', 'Q13_12',\n",
              "        'Q13_13', 'Q13_14', 'Q13_15', 'Q13_16', 'Q13_Dont_Know', 'Q14', 'Q15',\n",
              "        'Q17', 'Q18_1', 'Q18_2', 'Q18_3', 'Q18_4', 'Q18_5', 'Q18_6', 'Q18_7',\n",
              "        'Q18_8', 'Q18_9', 'Q18_10', 'Q18_11', 'Q18_12', 'Q18_13', 'Q18_14',\n",
              "        'Q18_15', 'Q18_16', 'Q18_17', 'Q18_18', 'Q18_19', 'Q18_20', 'Q18_21',\n",
              "        'Q18_22', 'Q18_23', 'Q20', 'Q21', 'Q16'],\n",
              "       dtype='object'),\n",
              " 76)"
            ]
          },
          "execution_count": 259,
          "metadata": {},
          "output_type": "execute_result"
        }
      ],
      "source": [
        "df.columns, len(df.columns)"
      ]
    },
    {
      "cell_type": "code",
      "execution_count": 260,
      "metadata": {
        "colab": {
          "base_uri": "https://localhost:8080/",
          "height": 392
        },
        "id": "dTyDgk96WQ8z",
        "outputId": "6c634032-8220-41a9-a62e-927dad571410"
      },
      "outputs": [
        {
          "data": {
            "text/html": [
              "<div>\n",
              "<style scoped>\n",
              "    .dataframe tbody tr th:only-of-type {\n",
              "        vertical-align: middle;\n",
              "    }\n",
              "\n",
              "    .dataframe tbody tr th {\n",
              "        vertical-align: top;\n",
              "    }\n",
              "\n",
              "    .dataframe thead th {\n",
              "        text-align: right;\n",
              "    }\n",
              "</style>\n",
              "<table border=\"1\" class=\"dataframe\">\n",
              "  <thead>\n",
              "    <tr style=\"text-align: right;\">\n",
              "      <th></th>\n",
              "      <th>Unnamed: 0</th>\n",
              "      <th>Q11_1</th>\n",
              "      <th>Q11_2</th>\n",
              "      <th>Q11_3</th>\n",
              "      <th>Q11_4</th>\n",
              "      <th>Q11_5</th>\n",
              "      <th>Q11_6</th>\n",
              "      <th>Q11_7</th>\n",
              "      <th>Q11_8</th>\n",
              "      <th>Q11_9</th>\n",
              "      <th>...</th>\n",
              "      <th>Q18_17</th>\n",
              "      <th>Q18_18</th>\n",
              "      <th>Q18_19</th>\n",
              "      <th>Q18_20</th>\n",
              "      <th>Q18_21</th>\n",
              "      <th>Q18_22</th>\n",
              "      <th>Q18_23</th>\n",
              "      <th>Q20</th>\n",
              "      <th>Q21</th>\n",
              "      <th>Q16</th>\n",
              "    </tr>\n",
              "  </thead>\n",
              "  <tbody>\n",
              "    <tr>\n",
              "      <th>0</th>\n",
              "      <td>0</td>\n",
              "      <td>0</td>\n",
              "      <td>0</td>\n",
              "      <td>0</td>\n",
              "      <td>1</td>\n",
              "      <td>1</td>\n",
              "      <td>0</td>\n",
              "      <td>0</td>\n",
              "      <td>1</td>\n",
              "      <td>0</td>\n",
              "      <td>...</td>\n",
              "      <td>5</td>\n",
              "      <td>5</td>\n",
              "      <td>5</td>\n",
              "      <td>5</td>\n",
              "      <td>5</td>\n",
              "      <td>5</td>\n",
              "      <td>5</td>\n",
              "      <td>3</td>\n",
              "      <td>3</td>\n",
              "      <td>A</td>\n",
              "    </tr>\n",
              "    <tr>\n",
              "      <th>1</th>\n",
              "      <td>1</td>\n",
              "      <td>1</td>\n",
              "      <td>0</td>\n",
              "      <td>0</td>\n",
              "      <td>1</td>\n",
              "      <td>0</td>\n",
              "      <td>0</td>\n",
              "      <td>1</td>\n",
              "      <td>0</td>\n",
              "      <td>0</td>\n",
              "      <td>...</td>\n",
              "      <td>4</td>\n",
              "      <td>2</td>\n",
              "      <td>4</td>\n",
              "      <td>2</td>\n",
              "      <td>2</td>\n",
              "      <td>2</td>\n",
              "      <td>2</td>\n",
              "      <td>3</td>\n",
              "      <td>3</td>\n",
              "      <td>D</td>\n",
              "    </tr>\n",
              "    <tr>\n",
              "      <th>2</th>\n",
              "      <td>2</td>\n",
              "      <td>1</td>\n",
              "      <td>1</td>\n",
              "      <td>0</td>\n",
              "      <td>1</td>\n",
              "      <td>0</td>\n",
              "      <td>0</td>\n",
              "      <td>1</td>\n",
              "      <td>1</td>\n",
              "      <td>0</td>\n",
              "      <td>...</td>\n",
              "      <td>4</td>\n",
              "      <td>4</td>\n",
              "      <td>?</td>\n",
              "      <td>?</td>\n",
              "      <td>4</td>\n",
              "      <td>2</td>\n",
              "      <td>4</td>\n",
              "      <td>4</td>\n",
              "      <td>1</td>\n",
              "      <td>A</td>\n",
              "    </tr>\n",
              "    <tr>\n",
              "      <th>3</th>\n",
              "      <td>3</td>\n",
              "      <td>0</td>\n",
              "      <td>0</td>\n",
              "      <td>0</td>\n",
              "      <td>0</td>\n",
              "      <td>0</td>\n",
              "      <td>0</td>\n",
              "      <td>0</td>\n",
              "      <td>0</td>\n",
              "      <td>0</td>\n",
              "      <td>...</td>\n",
              "      <td>?</td>\n",
              "      <td>?</td>\n",
              "      <td>?</td>\n",
              "      <td>?</td>\n",
              "      <td>?</td>\n",
              "      <td>?</td>\n",
              "      <td>?</td>\n",
              "      <td>3</td>\n",
              "      <td>3</td>\n",
              "      <td>C</td>\n",
              "    </tr>\n",
              "    <tr>\n",
              "      <th>4</th>\n",
              "      <td>4</td>\n",
              "      <td>1</td>\n",
              "      <td>1</td>\n",
              "      <td>0</td>\n",
              "      <td>1</td>\n",
              "      <td>0</td>\n",
              "      <td>0</td>\n",
              "      <td>1</td>\n",
              "      <td>1</td>\n",
              "      <td>0</td>\n",
              "      <td>...</td>\n",
              "      <td>?</td>\n",
              "      <td>?</td>\n",
              "      <td>1</td>\n",
              "      <td>1</td>\n",
              "      <td>?</td>\n",
              "      <td>?</td>\n",
              "      <td>?</td>\n",
              "      <td>3</td>\n",
              "      <td>3</td>\n",
              "      <td>D</td>\n",
              "    </tr>\n",
              "    <tr>\n",
              "      <th>5</th>\n",
              "      <td>5</td>\n",
              "      <td>0</td>\n",
              "      <td>1</td>\n",
              "      <td>0</td>\n",
              "      <td>0</td>\n",
              "      <td>0</td>\n",
              "      <td>0</td>\n",
              "      <td>0</td>\n",
              "      <td>0</td>\n",
              "      <td>0</td>\n",
              "      <td>...</td>\n",
              "      <td>4</td>\n",
              "      <td>4</td>\n",
              "      <td>4</td>\n",
              "      <td>4</td>\n",
              "      <td>4</td>\n",
              "      <td>4</td>\n",
              "      <td>4</td>\n",
              "      <td>3</td>\n",
              "      <td>3</td>\n",
              "      <td>B</td>\n",
              "    </tr>\n",
              "    <tr>\n",
              "      <th>6</th>\n",
              "      <td>6</td>\n",
              "      <td>1</td>\n",
              "      <td>0</td>\n",
              "      <td>0</td>\n",
              "      <td>1</td>\n",
              "      <td>1</td>\n",
              "      <td>0</td>\n",
              "      <td>1</td>\n",
              "      <td>1</td>\n",
              "      <td>0</td>\n",
              "      <td>...</td>\n",
              "      <td>5</td>\n",
              "      <td>1</td>\n",
              "      <td>5</td>\n",
              "      <td>3</td>\n",
              "      <td>5</td>\n",
              "      <td>3</td>\n",
              "      <td>3</td>\n",
              "      <td>3</td>\n",
              "      <td>1</td>\n",
              "      <td>A</td>\n",
              "    </tr>\n",
              "    <tr>\n",
              "      <th>7</th>\n",
              "      <td>7</td>\n",
              "      <td>1</td>\n",
              "      <td>0</td>\n",
              "      <td>1</td>\n",
              "      <td>0</td>\n",
              "      <td>1</td>\n",
              "      <td>1</td>\n",
              "      <td>1</td>\n",
              "      <td>0</td>\n",
              "      <td>0</td>\n",
              "      <td>...</td>\n",
              "      <td>3</td>\n",
              "      <td>2</td>\n",
              "      <td>5</td>\n",
              "      <td>5</td>\n",
              "      <td>5</td>\n",
              "      <td>5</td>\n",
              "      <td>5</td>\n",
              "      <td>5</td>\n",
              "      <td>1</td>\n",
              "      <td>A</td>\n",
              "    </tr>\n",
              "    <tr>\n",
              "      <th>8</th>\n",
              "      <td>8</td>\n",
              "      <td>1</td>\n",
              "      <td>1</td>\n",
              "      <td>0</td>\n",
              "      <td>0</td>\n",
              "      <td>0</td>\n",
              "      <td>0</td>\n",
              "      <td>1</td>\n",
              "      <td>1</td>\n",
              "      <td>0</td>\n",
              "      <td>...</td>\n",
              "      <td>2</td>\n",
              "      <td>2</td>\n",
              "      <td>2</td>\n",
              "      <td>2</td>\n",
              "      <td>2</td>\n",
              "      <td>2</td>\n",
              "      <td>3</td>\n",
              "      <td>1</td>\n",
              "      <td>2</td>\n",
              "      <td>A</td>\n",
              "    </tr>\n",
              "    <tr>\n",
              "      <th>9</th>\n",
              "      <td>9</td>\n",
              "      <td>1</td>\n",
              "      <td>0</td>\n",
              "      <td>0</td>\n",
              "      <td>0</td>\n",
              "      <td>0</td>\n",
              "      <td>0</td>\n",
              "      <td>0</td>\n",
              "      <td>0</td>\n",
              "      <td>0</td>\n",
              "      <td>...</td>\n",
              "      <td>4</td>\n",
              "      <td>1</td>\n",
              "      <td>4</td>\n",
              "      <td>1</td>\n",
              "      <td>4</td>\n",
              "      <td>1</td>\n",
              "      <td>1</td>\n",
              "      <td>4</td>\n",
              "      <td>4</td>\n",
              "      <td>A</td>\n",
              "    </tr>\n",
              "  </tbody>\n",
              "</table>\n",
              "<p>10 rows × 76 columns</p>\n",
              "</div>"
            ],
            "text/plain": [
              "   Unnamed: 0  Q11_1  Q11_2  Q11_3  Q11_4  Q11_5  Q11_6  Q11_7  Q11_8  Q11_9  \\\n",
              "0           0      0      0      0      1      1      0      0      1      0   \n",
              "1           1      1      0      0      1      0      0      1      0      0   \n",
              "2           2      1      1      0      1      0      0      1      1      0   \n",
              "3           3      0      0      0      0      0      0      0      0      0   \n",
              "4           4      1      1      0      1      0      0      1      1      0   \n",
              "5           5      0      1      0      0      0      0      0      0      0   \n",
              "6           6      1      0      0      1      1      0      1      1      0   \n",
              "7           7      1      0      1      0      1      1      1      0      0   \n",
              "8           8      1      1      0      0      0      0      1      1      0   \n",
              "9           9      1      0      0      0      0      0      0      0      0   \n",
              "\n",
              "   ...  Q18_17  Q18_18  Q18_19  Q18_20  Q18_21  Q18_22  Q18_23  Q20  Q21  Q16  \n",
              "0  ...       5       5       5       5       5       5       5    3    3    A  \n",
              "1  ...       4       2       4       2       2       2       2    3    3    D  \n",
              "2  ...       4       4       ?       ?       4       2       4    4    1    A  \n",
              "3  ...       ?       ?       ?       ?       ?       ?       ?    3    3    C  \n",
              "4  ...       ?       ?       1       1       ?       ?       ?    3    3    D  \n",
              "5  ...       4       4       4       4       4       4       4    3    3    B  \n",
              "6  ...       5       1       5       3       5       3       3    3    1    A  \n",
              "7  ...       3       2       5       5       5       5       5    5    1    A  \n",
              "8  ...       2       2       2       2       2       2       3    1    2    A  \n",
              "9  ...       4       1       4       1       4       1       1    4    4    A  \n",
              "\n",
              "[10 rows x 76 columns]"
            ]
          },
          "execution_count": 260,
          "metadata": {},
          "output_type": "execute_result"
        }
      ],
      "source": [
        "df.head(10)"
      ]
    },
    {
      "cell_type": "code",
      "execution_count": 261,
      "metadata": {
        "colab": {
          "base_uri": "https://localhost:8080/"
        },
        "id": "0ZqJwVspagIP",
        "outputId": "41092043-41f0-49fb-e53a-41f631ed8694"
      },
      "outputs": [
        {
          "data": {
            "text/plain": [
              "<bound method NDFrame.describe of       Unnamed: 0  Q11_1  Q11_2  Q11_3  Q11_4  Q11_5  Q11_6  Q11_7  Q11_8  \\\n",
              "0              0      0      0      0      1      1      0      0      1   \n",
              "1              1      1      0      0      1      0      0      1      0   \n",
              "2              2      1      1      0      1      0      0      1      1   \n",
              "3              3      0      0      0      0      0      0      0      0   \n",
              "4              4      1      1      0      1      0      0      1      1   \n",
              "...          ...    ...    ...    ...    ...    ...    ...    ...    ...   \n",
              "6103        6103      0      1      0      0      0      0      1      1   \n",
              "6104        6104      0      1      0      1      0      0      0      1   \n",
              "6105        6105      1      0      1      0      0      0      0      0   \n",
              "6106        6106      0      0      1      0      0      0      0      1   \n",
              "6107        6107      1      0      0      1      0      0      0      1   \n",
              "\n",
              "      Q11_9  ...  Q18_17  Q18_18  Q18_19  Q18_20  Q18_21  Q18_22  Q18_23  Q20  \\\n",
              "0         0  ...       5       5       5       5       5       5       5    3   \n",
              "1         0  ...       4       2       4       2       2       2       2    3   \n",
              "2         0  ...       4       4       ?       ?       4       2       4    4   \n",
              "3         0  ...       ?       ?       ?       ?       ?       ?       ?    3   \n",
              "4         0  ...       ?       ?       1       1       ?       ?       ?    3   \n",
              "...     ...  ...     ...     ...     ...     ...     ...     ...     ...  ...   \n",
              "6103      1  ...       2       2       3       3       2       1       1    1   \n",
              "6104      0  ...       ?       ?       ?       ?       ?       ?       ?    3   \n",
              "6105      0  ...       4       1       5       4       5       4       5    5   \n",
              "6106      0  ...       1       3       4       5       3       2       3    2   \n",
              "6107      0  ...       3       3       3       3       3       3       3    3   \n",
              "\n",
              "      Q21  Q16  \n",
              "0       3    A  \n",
              "1       3    D  \n",
              "2       1    A  \n",
              "3       3    C  \n",
              "4       3    D  \n",
              "...   ...  ...  \n",
              "6103    3    B  \n",
              "6104    3    A  \n",
              "6105    2    A  \n",
              "6106    3    A  \n",
              "6107    3    D  \n",
              "\n",
              "[6108 rows x 76 columns]>"
            ]
          },
          "execution_count": 261,
          "metadata": {},
          "output_type": "execute_result"
        }
      ],
      "source": [
        "df.describe"
      ]
    },
    {
      "cell_type": "markdown",
      "metadata": {
        "id": "VMuVgQS_WP__"
      },
      "source": []
    },
    {
      "cell_type": "markdown",
      "metadata": {
        "id": "lrBig6ByWP__"
      },
      "source": [
        "### Check the target column values"
      ]
    },
    {
      "cell_type": "code",
      "execution_count": 262,
      "metadata": {
        "colab": {
          "base_uri": "https://localhost:8080/",
          "height": 519
        },
        "id": "U_bPh_XfWP__",
        "outputId": "b0564c3e-f500-41e0-c709-f21593a2c22b"
      },
      "outputs": [
        {
          "name": "stdout",
          "output_type": "stream",
          "text": [
            "['A' 'D' 'C' 'B']\n"
          ]
        },
        {
          "data": {
            "image/png": "[encoded data removed]",
            "text/plain": [
              "<Figure size 432x288 with 1 Axes>"
            ]
          },
          "metadata": {
            "needs_background": "light"
          },
          "output_type": "display_data"
        },
        {
          "name": "stdout",
          "output_type": "stream",
          "text": [
            "Lenght of A's 2883\n",
            "Lenght of B's 1526\n",
            "Lenght of C's 892\n",
            "Lenght of D's 807\n"
          ]
        }
      ],
      "source": [
        "print(df['Q16'].unique())\n",
        "class_distribution = {'Class A': len(df[df['Q16'] == 'A'].value_counts()), 'Class B': len(df[df['Q16'] == 'B'].value_counts()), 'Class C': len(df[df['Q16'] == 'C'].value_counts()), 'Class D': len(df[df['Q16'] == 'D'].value_counts())}\n",
        "\n",
        "sns.barplot(x=list(class_distribution.keys()), y=list(class_distribution.values()))\n",
        "plt.show()\n",
        "print(f\"Lenght of A's {len(df[df['Q16'] == 'A'].value_counts())}\")\n",
        "print(f\"Lenght of B's {len(df[df['Q16'] == 'B'].value_counts())}\")\n",
        "print(f\"Lenght of C's {len(df[df['Q16'] == 'C'].value_counts())}\")\n",
        "print(f\"Lenght of D's {len(df[df['Q16'] == 'D'].value_counts())}\")"
      ]
    },
    {
      "cell_type": "markdown",
      "metadata": {
        "id": "PL_UL5IdWQAA"
      },
      "source": [
        "## Convert String Targets To The Countable Data"
      ]
    },
    {
      "cell_type": "code",
      "execution_count": 263,
      "metadata": {
        "colab": {
          "base_uri": "https://localhost:8080/"
        },
        "id": "b-NPN1doWQAA",
        "outputId": "60dbf6df-10a8-454e-a677-c62ea1888a89"
      },
      "outputs": [
        {
          "name": "stdout",
          "output_type": "stream",
          "text": [
            "['A' 'D' 'C' 'B']\n"
          ]
        },
        {
          "name": "stderr",
          "output_type": "stream",
          "text": [
            "C:\\Users\\AMD\\AppData\\Local\\Temp\\ipykernel_20744\\3392180124.py:3: SettingWithCopyWarning: \n",
            "A value is trying to be set on a copy of a slice from a DataFrame\n",
            "\n",
            "See the caveats in the documentation: https://pandas.pydata.org/pandas-docs/stable/user_guide/indexing.html#returning-a-view-versus-a-copy\n",
            "  if(df['Q16'][i] == 'A'): df['Q16'][i] = 0\n",
            "C:\\Users\\AMD\\AppData\\Local\\Temp\\ipykernel_20744\\3392180124.py:6: SettingWithCopyWarning: \n",
            "A value is trying to be set on a copy of a slice from a DataFrame\n",
            "\n",
            "See the caveats in the documentation: https://pandas.pydata.org/pandas-docs/stable/user_guide/indexing.html#returning-a-view-versus-a-copy\n",
            "  elif(df['Q16'][i] == 'D'): df['Q16'][i] = 3\n",
            "C:\\Users\\AMD\\AppData\\Local\\Temp\\ipykernel_20744\\3392180124.py:5: SettingWithCopyWarning: \n",
            "A value is trying to be set on a copy of a slice from a DataFrame\n",
            "\n",
            "See the caveats in the documentation: https://pandas.pydata.org/pandas-docs/stable/user_guide/indexing.html#returning-a-view-versus-a-copy\n",
            "  elif(df['Q16'][i] == 'C'): df['Q16'][i] = 2\n",
            "C:\\Users\\AMD\\AppData\\Local\\Temp\\ipykernel_20744\\3392180124.py:4: SettingWithCopyWarning: \n",
            "A value is trying to be set on a copy of a slice from a DataFrame\n",
            "\n",
            "See the caveats in the documentation: https://pandas.pydata.org/pandas-docs/stable/user_guide/indexing.html#returning-a-view-versus-a-copy\n",
            "  elif(df['Q16'][i] == 'B'): df['Q16'][i] = 1\n"
          ]
        },
        {
          "name": "stdout",
          "output_type": "stream",
          "text": [
            "[0 3 2 1]\n"
          ]
        }
      ],
      "source": [
        "print(df['Q16'].unique())\n",
        "for i in range(len(df['Q16'])):\n",
        "    if(df['Q16'][i] == 'A'): df['Q16'][i] = 0\n",
        "    elif(df['Q16'][i] == 'B'): df['Q16'][i] = 1\n",
        "    elif(df['Q16'][i] == 'C'): df['Q16'][i] = 2\n",
        "    elif(df['Q16'][i] == 'D'): df['Q16'][i] = 3\n",
        "\n",
        "print(df['Q16'].unique())"
      ]
    },
    {
      "cell_type": "code",
      "execution_count": 264,
      "metadata": {
        "colab": {
          "base_uri": "https://localhost:8080/"
        },
        "id": "Lol9VrQiWQAB",
        "outputId": "137c5963-a0ed-473d-d2ea-d3e9fb7096ad"
      },
      "outputs": [
        {
          "name": "stdout",
          "output_type": "stream",
          "text": [
            "Lenght of 0's 2883\n",
            "Lenght of 1's 1526\n",
            "Lenght of 2's 892\n",
            "Lenght of 3's 807\n"
          ]
        }
      ],
      "source": [
        "def PrintTheTargetColumnsRange(df):\n",
        "    print(f\"Lenght of 0's {len(df[df['Q16'] == 0])}\")\n",
        "    print(f\"Lenght of 1's {len(df[df['Q16'] == 1])}\")\n",
        "    print(f\"Lenght of 2's {len(df[df['Q16'] == 2])}\")\n",
        "    print(f\"Lenght of 3's {len(df[df['Q16'] == 3])}\")\n",
        "\n",
        "PrintTheTargetColumnsRange(df)"
      ]
    },
    {
      "cell_type": "markdown",
      "metadata": {
        "id": "KUf9LT6ndQib"
      },
      "source": [
        "### Check the DataTypes of all columns"
      ]
    },
    {
      "cell_type": "code",
      "execution_count": 265,
      "metadata": {
        "colab": {
          "base_uri": "https://localhost:8080/"
        },
        "id": "DBBTGps-dV9M",
        "outputId": "4e006fab-1b32-4f2f-f2e2-a18f9b3c0b22"
      },
      "outputs": [
        {
          "data": {
            "text/plain": [
              "Unnamed: 0     int64\n",
              "Q11_1          int64\n",
              "Q11_2          int64\n",
              "Q11_3          int64\n",
              "Q11_4          int64\n",
              "               ...  \n",
              "Q18_22        object\n",
              "Q18_23        object\n",
              "Q20            int64\n",
              "Q21            int64\n",
              "Q16           object\n",
              "Length: 76, dtype: object"
            ]
          },
          "execution_count": 265,
          "metadata": {},
          "output_type": "execute_result"
        }
      ],
      "source": [
        "df.dtypes"
      ]
    },
    {
      "cell_type": "markdown",
      "metadata": {
        "id": "ujrYjBlUWQAC"
      },
      "source": [
        "## Check The Uniqes of Columns"
      ]
    },
    {
      "cell_type": "code",
      "execution_count": 266,
      "metadata": {
        "colab": {
          "base_uri": "https://localhost:8080/"
        },
        "id": "jXZwRWKhWQAC",
        "outputId": "bebfe07e-63a2-4772-96d6-48523bb40c5f"
      },
      "outputs": [
        {
          "name": "stdout",
          "output_type": "stream",
          "text": [
            "Q11_1 = [0 1]\n",
            "Q11_2 = [0 1]\n",
            "Q11_3 = [0 1]\n",
            "Q11_4 = [1 0]\n",
            "Q11_5 = [1 0]\n",
            "Q11_6 = [0 1]\n",
            "Q11_7 = [0 1]\n",
            "Q11_8 = [1 0]\n",
            "Q11_9 = [0 1]\n",
            "Q11_10 = [0 1]\n",
            "Q11_11 = [1 0]\n",
            "Q11_12 = [0 1]\n",
            "Q11_13 = [0 1]\n",
            "Q11_Dont_Know = [0 1]\n",
            "Q12_1 = [0 1]\n",
            "Q12_2 = [0 1]\n",
            "Q12_3 = [1 0]\n",
            "Q12_4 = [1 0]\n",
            "Q12_5 = [0 1]\n",
            "Q12_6 = [0 1]\n",
            "Q12_7 = [0 1]\n",
            "Q12_8 = [1 0]\n",
            "Q12_9 = [0 1]\n",
            "Q12_10 = [0 1]\n",
            "Q12_11 = [1 0]\n",
            "Q12_12 = [0 1]\n",
            "Q12_13 = [0 1]\n",
            "Q12_14 = [0 1]\n",
            "Q12_Dont_Know = [0 1]\n",
            "Q13_1 = [0 1]\n",
            "Q13_2 = [0 1]\n",
            "Q13_3 = [1 0]\n",
            "Q13_4 = [0 1]\n",
            "Q13_5 = [1 0]\n",
            "Q13_6 = [0 1]\n",
            "Q13_7 = [0 1]\n",
            "Q13_8 = [0 1]\n",
            "Q13_9 = [1 0]\n",
            "Q13_10 = [0 1]\n",
            "Q13_11 = [0 1]\n",
            "Q13_12 = [0 1]\n",
            "Q13_13 = [1 0]\n",
            "Q13_14 = [1 0]\n",
            "Q13_15 = [0 1]\n",
            "Q13_16 = [0 1]\n",
            "Q13_Dont_Know = [0 1]\n",
            "Q14 = ['1' '3' '?' '2' '4' '5']\n",
            "Q15 = ['2' '1' '?']\n",
            "Q17 = ['3' '1' '?' '2' '4' '5']\n",
            "Q18_1 = ['5' '4' '?' '2' '3' '1']\n",
            "Q18_2 = ['5' '3' '?' '4' '1' '2']\n",
            "Q18_3 = ['5' '2' '4' '?' '3' '1']\n",
            "Q18_4 = ['5' '4' '?' '3' '2' '1']\n",
            "Q18_5 = ['5' '3' '4' '?' '2' '1']\n",
            "Q18_6 = ['5' '2' '4' '?' '3' '1']\n",
            "Q18_7 = ['5' '2' '4' '?' '1' '3']\n",
            "Q18_8 = ['5' '3' '4' '?' '2' '1']\n",
            "Q18_9 = ['5' '3' '4' '?' '2' '1']\n",
            "Q18_10 = ['5' '3' '4' '?' '2' '1']\n",
            "Q18_11 = ['5' '2' '?' '4' '1' '3']\n",
            "Q18_12 = ['5' '1' '4' '?' '3' '2']\n",
            "Q18_13 = ['5' '2' '?' '4' '3' '1']\n",
            "Q18_14 = ['5' '4' '?' '3' '2' '1']\n",
            "Q18_15 = ['5' '2' '?' '4' '3' '1']\n",
            "Q18_16 = ['5' '2' '?' '4' '1' '3']\n",
            "Q18_17 = ['5' '4' '?' '3' '2' '1']\n",
            "Q18_18 = ['5' '2' '4' '?' '1' '3']\n",
            "Q18_19 = ['5' '4' '?' '1' '2' '3']\n",
            "Q18_20 = ['5' '2' '?' '1' '4' '3']\n",
            "Q18_21 = ['5' '2' '4' '?' '3' '1']\n",
            "Q18_22 = ['5' '2' '?' '4' '3' '1']\n",
            "Q18_23 = ['5' '2' '4' '?' '3' '1']\n",
            "Q20 = [3 4 5 1 2]\n",
            "Q21 = [3 1 2 4 5]\n",
            "Q16 = [0 3 2 1]\n"
          ]
        }
      ],
      "source": [
        "for column in df.columns:\n",
        "    if column != 'Unnamed: 0':\n",
        "        print(f\"{column} = {df[column].unique()}\")"
      ]
    },
    {
      "cell_type": "markdown",
      "metadata": {
        "id": "fbw4uU1EXYml"
      },
      "source": [
        "# Handling NULL Values"
      ]
    },
    {
      "cell_type": "code",
      "execution_count": 267,
      "metadata": {
        "id": "mJitLH0mXhDH"
      },
      "outputs": [],
      "source": [
        "null_df = df.isnull().sum()"
      ]
    },
    {
      "cell_type": "code",
      "execution_count": 268,
      "metadata": {
        "colab": {
          "base_uri": "https://localhost:8080/"
        },
        "id": "G1ex53PmX3n4",
        "outputId": "b331bf89-fac1-4917-af8b-53840408e9d4"
      },
      "outputs": [
        {
          "data": {
            "text/plain": [
              "Unnamed: 0    0\n",
              "Q11_1         0\n",
              "Q11_2         0\n",
              "Q11_3         0\n",
              "Q11_4         0\n",
              "             ..\n",
              "Q18_22        0\n",
              "Q18_23        0\n",
              "Q20           0\n",
              "Q21           0\n",
              "Q16           0\n",
              "Length: 76, dtype: int64"
            ]
          },
          "execution_count": 268,
          "metadata": {},
          "output_type": "execute_result"
        }
      ],
      "source": [
        "null_df"
      ]
    },
    {
      "cell_type": "code",
      "execution_count": 269,
      "metadata": {
        "colab": {
          "base_uri": "https://localhost:8080/"
        },
        "id": "P331kpJEdZSS",
        "outputId": "0a7989d9-321c-4d19-9459-02bb3de7bdce"
      },
      "outputs": [
        {
          "data": {
            "text/plain": [
              "Unnamed: 0       0\n",
              "Q11_1            0\n",
              "Q11_2            0\n",
              "Q11_3            0\n",
              "Q11_4            0\n",
              "Q11_5            0\n",
              "Q11_6            0\n",
              "Q11_7            0\n",
              "Q11_8            0\n",
              "Q11_9            0\n",
              "Q11_10           0\n",
              "Q11_11           0\n",
              "Q11_12           0\n",
              "Q11_13           0\n",
              "Q11_Dont_Know    0\n",
              "Q12_1            0\n",
              "Q12_2            0\n",
              "Q12_3            0\n",
              "Q12_4            0\n",
              "Q12_5            0\n",
              "Q12_6            0\n",
              "Q12_7            0\n",
              "Q12_8            0\n",
              "Q12_9            0\n",
              "Q12_10           0\n",
              "Q12_11           0\n",
              "Q12_12           0\n",
              "Q12_13           0\n",
              "Q12_14           0\n",
              "Q12_Dont_Know    0\n",
              "Q13_1            0\n",
              "Q13_2            0\n",
              "Q13_3            0\n",
              "Q13_4            0\n",
              "Q13_5            0\n",
              "dtype: int64"
            ]
          },
          "execution_count": 269,
          "metadata": {},
          "output_type": "execute_result"
        }
      ],
      "source": [
        "question_mark_cells = df.applymap(lambda x: x == \"?\")\n",
        "question_mark_counts = question_mark_cells.sum(axis = 0)\n",
        "question_mark_counts.head(35)"
      ]
    },
    {
      "cell_type": "code",
      "execution_count": 270,
      "metadata": {
        "colab": {
          "base_uri": "https://localhost:8080/"
        },
        "id": "EqMVev5jdkOk",
        "outputId": "5c22f6cf-f6df-493a-d5ee-7b34b37b7545"
      },
      "outputs": [
        {
          "data": {
            "text/plain": [
              "Q13_7               0\n",
              "Q13_8               0\n",
              "Q13_9               0\n",
              "Q13_10              0\n",
              "Q13_11              0\n",
              "Q13_12              0\n",
              "Q13_13              0\n",
              "Q13_14              0\n",
              "Q13_15              0\n",
              "Q13_16              0\n",
              "Q13_Dont_Know       0\n",
              "Q14               422\n",
              "Q15                92\n",
              "Q17               742\n",
              "Q18_1             559\n",
              "Q18_2             889\n",
              "Q18_3            1361\n",
              "Q18_4             801\n",
              "Q18_5            1588\n",
              "Q18_6            1219\n",
              "Q18_7             947\n",
              "Q18_8             712\n",
              "Q18_9            1055\n",
              "Q18_10           1421\n",
              "Q18_11            918\n",
              "Q18_12           1126\n",
              "Q18_13            738\n",
              "Q18_14            787\n",
              "Q18_15           1361\n",
              "Q18_16           1460\n",
              "Q18_17           1216\n",
              "Q18_18           1027\n",
              "Q18_19           1721\n",
              "Q18_20           1098\n",
              "Q18_21           1669\n",
              "Q18_22           1700\n",
              "Q18_23           1451\n",
              "Q20                 0\n",
              "Q21                 0\n",
              "Q16                 0\n",
              "dtype: int64"
            ]
          },
          "execution_count": 270,
          "metadata": {},
          "output_type": "execute_result"
        }
      ],
      "source": [
        "question_mark_counts.tail(40)"
      ]
    },
    {
      "cell_type": "markdown",
      "metadata": {
        "id": "_DXFws5BeCMB"
      },
      "source": [
        "### Method For Filling '?' variabels"
      ]
    },
    {
      "cell_type": "code",
      "execution_count": 271,
      "metadata": {
        "id": "VWhvr4BZeLC2"
      },
      "outputs": [],
      "source": [
        "def FillingQuestionWithMode(df):\n",
        "    result = \"\"\n",
        "    questionMarkSet = []\n",
        "    for column in question_mark_cells:\n",
        "        if(isinstance(question_mark_counts[column], np.int64) and question_mark_counts[column] > 0):\n",
        "            questionMarkSet.append(column)\n",
        "\n",
        "    for column in questionMarkSet:\n",
        "        mode_value = df[column].mode().iloc[0]  # Get the first mode in case of multiple modes\n",
        "        if(mode_value == '?'):\n",
        "            df[column] = df[column].replace('?', round(pd.to_numeric(df[column], errors='coerce').mean()))\n",
        "            result = result + f\"This {column} mode is '?' so filling with average of column {round(pd.to_numeric(df[column], errors='coerce').mean())}.\\n\"\n",
        "        else:\n",
        "            df[column] = df[column].replace('?', mode_value)\n",
        "    return df, result"
      ]
    },
    {
      "cell_type": "code",
      "execution_count": 272,
      "metadata": {
        "colab": {
          "base_uri": "https://localhost:8080/"
        },
        "id": "BAZrp5VsKLBI",
        "outputId": "72cda099-546b-48fa-eeea-93b3da7a4428"
      },
      "outputs": [
        {
          "name": "stdout",
          "output_type": "stream",
          "text": [
            "This Q18_19 mode is '?' so filling with average of column 3.\n",
            "This Q18_22 mode is '?' so filling with average of column 2.\n",
            "\n"
          ]
        }
      ],
      "source": [
        "questionToMode_df = df.copy()\n",
        "questionToMode_df, result = FillingQuestionWithMode(questionToMode_df)\n",
        "print(result)"
      ]
    },
    {
      "cell_type": "code",
      "execution_count": 273,
      "metadata": {
        "colab": {
          "base_uri": "https://localhost:8080/"
        },
        "id": "jGNxnnElfUM0",
        "outputId": "32fb10fb-32fd-43f3-c6a7-b9419a12f04a"
      },
      "outputs": [
        {
          "data": {
            "text/plain": [
              "Q12_12           0\n",
              "Q12_13           0\n",
              "Q12_14           0\n",
              "Q12_Dont_Know    0\n",
              "Q13_1            0\n",
              "Q13_2            0\n",
              "Q13_3            0\n",
              "Q13_4            0\n",
              "Q13_5            0\n",
              "Q13_6            0\n",
              "Q13_7            0\n",
              "Q13_8            0\n",
              "Q13_9            0\n",
              "Q13_10           0\n",
              "Q13_11           0\n",
              "Q13_12           0\n",
              "Q13_13           0\n",
              "Q13_14           0\n",
              "Q13_15           0\n",
              "Q13_16           0\n",
              "Q13_Dont_Know    0\n",
              "Q14              0\n",
              "Q15              0\n",
              "Q17              0\n",
              "Q18_1            0\n",
              "Q18_2            0\n",
              "Q18_3            0\n",
              "Q18_4            0\n",
              "Q18_5            0\n",
              "Q18_6            0\n",
              "Q18_7            0\n",
              "Q18_8            0\n",
              "Q18_9            0\n",
              "Q18_10           0\n",
              "Q18_11           0\n",
              "Q18_12           0\n",
              "Q18_13           0\n",
              "Q18_14           0\n",
              "Q18_15           0\n",
              "Q18_16           0\n",
              "Q18_17           0\n",
              "Q18_18           0\n",
              "Q18_19           0\n",
              "Q18_20           0\n",
              "Q18_21           0\n",
              "Q18_22           0\n",
              "Q18_23           0\n",
              "Q20              0\n",
              "Q21              0\n",
              "Q16              0\n",
              "dtype: int64"
            ]
          },
          "execution_count": 273,
          "metadata": {},
          "output_type": "execute_result"
        }
      ],
      "source": [
        "question_mark_cells = questionToMode_df.applymap(lambda x: x == \"?\")\n",
        "question_mark_cells.sum().tail(50)"
      ]
    },
    {
      "cell_type": "code",
      "execution_count": 274,
      "metadata": {
        "colab": {
          "base_uri": "https://localhost:8080/"
        },
        "id": "fuB3hJflKLBJ",
        "outputId": "ebe74636-8e5d-4a65-b959-ab5bc6dd4bbe"
      },
      "outputs": [
        {
          "data": {
            "text/plain": [
              "Unnamed: 0       0\n",
              "Q11_1            0\n",
              "Q11_2            0\n",
              "Q11_3            0\n",
              "Q11_4            0\n",
              "Q11_5            0\n",
              "Q11_6            0\n",
              "Q11_7            0\n",
              "Q11_8            0\n",
              "Q11_9            0\n",
              "Q11_10           0\n",
              "Q11_11           0\n",
              "Q11_12           0\n",
              "Q11_13           0\n",
              "Q11_Dont_Know    0\n",
              "Q12_1            0\n",
              "Q12_2            0\n",
              "Q12_3            0\n",
              "Q12_4            0\n",
              "Q12_5            0\n",
              "Q12_6            0\n",
              "Q12_7            0\n",
              "Q12_8            0\n",
              "Q12_9            0\n",
              "Q12_10           0\n",
              "dtype: int64"
            ]
          },
          "execution_count": 274,
          "metadata": {},
          "output_type": "execute_result"
        }
      ],
      "source": [
        "question_mark_cells.sum().head(25)"
      ]
    },
    {
      "cell_type": "markdown",
      "metadata": {
        "id": "p0k1QJwwd0n5"
      },
      "source": [
        "### Change Data Types to NumpyInt64"
      ]
    },
    {
      "cell_type": "code",
      "execution_count": 275,
      "metadata": {
        "id": "ooUXDDnVd3ea"
      },
      "outputs": [],
      "source": [
        "for column in questionToMode_df:\n",
        "  try:\n",
        "    questionToMode_df[column] = questionToMode_df[column].astype('int64')\n",
        "  except:\n",
        "    continue"
      ]
    },
    {
      "cell_type": "code",
      "execution_count": 276,
      "metadata": {
        "colab": {
          "base_uri": "https://localhost:8080/"
        },
        "id": "E7gfW0z1WQAF",
        "outputId": "65ba5bbe-b307-4d25-e8bb-23bc7515aec4"
      },
      "outputs": [
        {
          "data": {
            "text/plain": [
              "Unnamed: 0       int64\n",
              "Q11_1            int64\n",
              "Q11_2            int64\n",
              "Q11_3            int64\n",
              "Q11_4            int64\n",
              "Q11_5            int64\n",
              "Q11_6            int64\n",
              "Q11_7            int64\n",
              "Q11_8            int64\n",
              "Q11_9            int64\n",
              "Q11_10           int64\n",
              "Q11_11           int64\n",
              "Q11_12           int64\n",
              "Q11_13           int64\n",
              "Q11_Dont_Know    int64\n",
              "Q12_1            int64\n",
              "Q12_2            int64\n",
              "Q12_3            int64\n",
              "Q12_4            int64\n",
              "Q12_5            int64\n",
              "Q12_6            int64\n",
              "Q12_7            int64\n",
              "Q12_8            int64\n",
              "Q12_9            int64\n",
              "Q12_10           int64\n",
              "Q12_11           int64\n",
              "Q12_12           int64\n",
              "Q12_13           int64\n",
              "Q12_14           int64\n",
              "Q12_Dont_Know    int64\n",
              "Q13_1            int64\n",
              "Q13_2            int64\n",
              "Q13_3            int64\n",
              "Q13_4            int64\n",
              "Q13_5            int64\n",
              "Q13_6            int64\n",
              "Q13_7            int64\n",
              "Q13_8            int64\n",
              "Q13_9            int64\n",
              "Q13_10           int64\n",
              "Q13_11           int64\n",
              "Q13_12           int64\n",
              "Q13_13           int64\n",
              "Q13_14           int64\n",
              "Q13_15           int64\n",
              "Q13_16           int64\n",
              "Q13_Dont_Know    int64\n",
              "Q14              int64\n",
              "Q15              int64\n",
              "Q17              int64\n",
              "dtype: object"
            ]
          },
          "execution_count": 276,
          "metadata": {},
          "output_type": "execute_result"
        }
      ],
      "source": [
        "questionToMode_df.dtypes.head(50)"
      ]
    },
    {
      "cell_type": "code",
      "execution_count": 277,
      "metadata": {
        "colab": {
          "base_uri": "https://localhost:8080/"
        },
        "id": "TH11bDMhWQAF",
        "outputId": "b79b60bb-66d9-4e4b-8639-758e6b745e8f"
      },
      "outputs": [
        {
          "data": {
            "text/plain": [
              "Q18_2     int64\n",
              "Q18_3     int64\n",
              "Q18_4     int64\n",
              "Q18_5     int64\n",
              "Q18_6     int64\n",
              "Q18_7     int64\n",
              "Q18_8     int64\n",
              "Q18_9     int64\n",
              "Q18_10    int64\n",
              "Q18_11    int64\n",
              "Q18_12    int64\n",
              "Q18_13    int64\n",
              "Q18_14    int64\n",
              "Q18_15    int64\n",
              "Q18_16    int64\n",
              "Q18_17    int64\n",
              "Q18_18    int64\n",
              "Q18_19    int64\n",
              "Q18_20    int64\n",
              "Q18_21    int64\n",
              "Q18_22    int64\n",
              "Q18_23    int64\n",
              "Q20       int64\n",
              "Q21       int64\n",
              "Q16       int64\n",
              "dtype: object"
            ]
          },
          "execution_count": 277,
          "metadata": {},
          "output_type": "execute_result"
        }
      ],
      "source": [
        "questionToMode_df.dtypes.tail(25)"
      ]
    },
    {
      "cell_type": "markdown",
      "metadata": {
        "id": "lIud2itKK-oW"
      },
      "source": [
        "### Check Missing Values"
      ]
    },
    {
      "cell_type": "code",
      "execution_count": 278,
      "metadata": {
        "colab": {
          "base_uri": "https://localhost:8080/"
        },
        "id": "-Iste_2gKVqa",
        "outputId": "cf1fb506-98cc-4afb-866c-f53a2f38ee46"
      },
      "outputs": [
        {
          "data": {
            "text/plain": [
              "Unnamed: 0    0\n",
              "Q11_1         0\n",
              "Q11_2         0\n",
              "Q11_3         0\n",
              "Q11_4         0\n",
              "             ..\n",
              "Q18_22        0\n",
              "Q18_23        0\n",
              "Q20           0\n",
              "Q21           0\n",
              "Q16           0\n",
              "Length: 76, dtype: int64"
            ]
          },
          "execution_count": 278,
          "metadata": {},
          "output_type": "execute_result"
        }
      ],
      "source": [
        "questionToMode_df.isnull().sum()"
      ]
    },
    {
      "cell_type": "markdown",
      "metadata": {
        "id": "jLcyT_iCLwHF"
      },
      "source": [
        "### Describtion of Dataset After Handling Null Values"
      ]
    },
    {
      "cell_type": "code",
      "execution_count": 279,
      "metadata": {
        "colab": {
          "base_uri": "https://localhost:8080/",
          "height": 329
        },
        "id": "votWtuR5LZGz",
        "outputId": "485537a8-dbca-4251-fea2-58408e5dad69"
      },
      "outputs": [
        {
          "data": {
            "text/html": [
              "<div>\n",
              "<style scoped>\n",
              "    .dataframe tbody tr th:only-of-type {\n",
              "        vertical-align: middle;\n",
              "    }\n",
              "\n",
              "    .dataframe tbody tr th {\n",
              "        vertical-align: top;\n",
              "    }\n",
              "\n",
              "    .dataframe thead th {\n",
              "        text-align: right;\n",
              "    }\n",
              "</style>\n",
              "<table border=\"1\" class=\"dataframe\">\n",
              "  <thead>\n",
              "    <tr style=\"text-align: right;\">\n",
              "      <th></th>\n",
              "      <th>Unnamed: 0</th>\n",
              "      <th>Q11_1</th>\n",
              "      <th>Q11_2</th>\n",
              "      <th>Q11_3</th>\n",
              "      <th>Q11_4</th>\n",
              "      <th>Q11_5</th>\n",
              "      <th>Q11_6</th>\n",
              "      <th>Q11_7</th>\n",
              "      <th>Q11_8</th>\n",
              "      <th>Q11_9</th>\n",
              "      <th>...</th>\n",
              "      <th>Q18_17</th>\n",
              "      <th>Q18_18</th>\n",
              "      <th>Q18_19</th>\n",
              "      <th>Q18_20</th>\n",
              "      <th>Q18_21</th>\n",
              "      <th>Q18_22</th>\n",
              "      <th>Q18_23</th>\n",
              "      <th>Q20</th>\n",
              "      <th>Q21</th>\n",
              "      <th>Q16</th>\n",
              "    </tr>\n",
              "  </thead>\n",
              "  <tbody>\n",
              "    <tr>\n",
              "      <th>count</th>\n",
              "      <td>6108.000000</td>\n",
              "      <td>6108.000000</td>\n",
              "      <td>6108.000000</td>\n",
              "      <td>6108.000000</td>\n",
              "      <td>6108.000000</td>\n",
              "      <td>6108.000000</td>\n",
              "      <td>6108.000000</td>\n",
              "      <td>6108.000000</td>\n",
              "      <td>6108.000000</td>\n",
              "      <td>6108.000000</td>\n",
              "      <td>...</td>\n",
              "      <td>6108.000000</td>\n",
              "      <td>6108.000000</td>\n",
              "      <td>6108.000000</td>\n",
              "      <td>6108.000000</td>\n",
              "      <td>6108.000000</td>\n",
              "      <td>6108.000000</td>\n",
              "      <td>6108.000000</td>\n",
              "      <td>6108.000000</td>\n",
              "      <td>6108.000000</td>\n",
              "      <td>6108.000000</td>\n",
              "    </tr>\n",
              "    <tr>\n",
              "      <th>mean</th>\n",
              "      <td>3053.500000</td>\n",
              "      <td>0.479044</td>\n",
              "      <td>0.295678</td>\n",
              "      <td>0.178782</td>\n",
              "      <td>0.584152</td>\n",
              "      <td>0.280779</td>\n",
              "      <td>0.089555</td>\n",
              "      <td>0.379993</td>\n",
              "      <td>0.302227</td>\n",
              "      <td>0.076130</td>\n",
              "      <td>...</td>\n",
              "      <td>3.034217</td>\n",
              "      <td>2.200557</td>\n",
              "      <td>3.046005</td>\n",
              "      <td>2.274067</td>\n",
              "      <td>2.863785</td>\n",
              "      <td>2.350196</td>\n",
              "      <td>2.612803</td>\n",
              "      <td>2.870825</td>\n",
              "      <td>2.596758</td>\n",
              "      <td>0.938278</td>\n",
              "    </tr>\n",
              "    <tr>\n",
              "      <th>std</th>\n",
              "      <td>1763.372054</td>\n",
              "      <td>0.499602</td>\n",
              "      <td>0.456384</td>\n",
              "      <td>0.383201</td>\n",
              "      <td>0.492908</td>\n",
              "      <td>0.449417</td>\n",
              "      <td>0.285566</td>\n",
              "      <td>0.485425</td>\n",
              "      <td>0.459261</td>\n",
              "      <td>0.265227</td>\n",
              "      <td>...</td>\n",
              "      <td>1.013568</td>\n",
              "      <td>0.940799</td>\n",
              "      <td>0.969493</td>\n",
              "      <td>1.031295</td>\n",
              "      <td>0.929183</td>\n",
              "      <td>0.928942</td>\n",
              "      <td>0.952385</td>\n",
              "      <td>0.811442</td>\n",
              "      <td>0.834790</td>\n",
              "      <td>1.069068</td>\n",
              "    </tr>\n",
              "    <tr>\n",
              "      <th>min</th>\n",
              "      <td>0.000000</td>\n",
              "      <td>0.000000</td>\n",
              "      <td>0.000000</td>\n",
              "      <td>0.000000</td>\n",
              "      <td>0.000000</td>\n",
              "      <td>0.000000</td>\n",
              "      <td>0.000000</td>\n",
              "      <td>0.000000</td>\n",
              "      <td>0.000000</td>\n",
              "      <td>0.000000</td>\n",
              "      <td>...</td>\n",
              "      <td>1.000000</td>\n",
              "      <td>1.000000</td>\n",
              "      <td>1.000000</td>\n",
              "      <td>1.000000</td>\n",
              "      <td>1.000000</td>\n",
              "      <td>1.000000</td>\n",
              "      <td>1.000000</td>\n",
              "      <td>1.000000</td>\n",
              "      <td>1.000000</td>\n",
              "      <td>0.000000</td>\n",
              "    </tr>\n",
              "    <tr>\n",
              "      <th>25%</th>\n",
              "      <td>1526.750000</td>\n",
              "      <td>0.000000</td>\n",
              "      <td>0.000000</td>\n",
              "      <td>0.000000</td>\n",
              "      <td>0.000000</td>\n",
              "      <td>0.000000</td>\n",
              "      <td>0.000000</td>\n",
              "      <td>0.000000</td>\n",
              "      <td>0.000000</td>\n",
              "      <td>0.000000</td>\n",
              "      <td>...</td>\n",
              "      <td>2.000000</td>\n",
              "      <td>2.000000</td>\n",
              "      <td>3.000000</td>\n",
              "      <td>2.000000</td>\n",
              "      <td>2.000000</td>\n",
              "      <td>2.000000</td>\n",
              "      <td>2.000000</td>\n",
              "      <td>3.000000</td>\n",
              "      <td>2.000000</td>\n",
              "      <td>0.000000</td>\n",
              "    </tr>\n",
              "    <tr>\n",
              "      <th>50%</th>\n",
              "      <td>3053.500000</td>\n",
              "      <td>0.000000</td>\n",
              "      <td>0.000000</td>\n",
              "      <td>0.000000</td>\n",
              "      <td>1.000000</td>\n",
              "      <td>0.000000</td>\n",
              "      <td>0.000000</td>\n",
              "      <td>0.000000</td>\n",
              "      <td>0.000000</td>\n",
              "      <td>0.000000</td>\n",
              "      <td>...</td>\n",
              "      <td>3.000000</td>\n",
              "      <td>2.000000</td>\n",
              "      <td>3.000000</td>\n",
              "      <td>2.000000</td>\n",
              "      <td>3.000000</td>\n",
              "      <td>2.000000</td>\n",
              "      <td>3.000000</td>\n",
              "      <td>3.000000</td>\n",
              "      <td>3.000000</td>\n",
              "      <td>1.000000</td>\n",
              "    </tr>\n",
              "    <tr>\n",
              "      <th>75%</th>\n",
              "      <td>4580.250000</td>\n",
              "      <td>1.000000</td>\n",
              "      <td>1.000000</td>\n",
              "      <td>0.000000</td>\n",
              "      <td>1.000000</td>\n",
              "      <td>1.000000</td>\n",
              "      <td>0.000000</td>\n",
              "      <td>1.000000</td>\n",
              "      <td>1.000000</td>\n",
              "      <td>0.000000</td>\n",
              "      <td>...</td>\n",
              "      <td>4.000000</td>\n",
              "      <td>3.000000</td>\n",
              "      <td>4.000000</td>\n",
              "      <td>3.000000</td>\n",
              "      <td>3.000000</td>\n",
              "      <td>3.000000</td>\n",
              "      <td>3.000000</td>\n",
              "      <td>3.000000</td>\n",
              "      <td>3.000000</td>\n",
              "      <td>2.000000</td>\n",
              "    </tr>\n",
              "    <tr>\n",
              "      <th>max</th>\n",
              "      <td>6107.000000</td>\n",
              "      <td>1.000000</td>\n",
              "      <td>1.000000</td>\n",
              "      <td>1.000000</td>\n",
              "      <td>1.000000</td>\n",
              "      <td>1.000000</td>\n",
              "      <td>1.000000</td>\n",
              "      <td>1.000000</td>\n",
              "      <td>1.000000</td>\n",
              "      <td>1.000000</td>\n",
              "      <td>...</td>\n",
              "      <td>5.000000</td>\n",
              "      <td>5.000000</td>\n",
              "      <td>5.000000</td>\n",
              "      <td>5.000000</td>\n",
              "      <td>5.000000</td>\n",
              "      <td>5.000000</td>\n",
              "      <td>5.000000</td>\n",
              "      <td>5.000000</td>\n",
              "      <td>5.000000</td>\n",
              "      <td>3.000000</td>\n",
              "    </tr>\n",
              "  </tbody>\n",
              "</table>\n",
              "<p>8 rows × 76 columns</p>\n",
              "</div>"
            ],
            "text/plain": [
              "        Unnamed: 0        Q11_1        Q11_2        Q11_3        Q11_4  \\\n",
              "count  6108.000000  6108.000000  6108.000000  6108.000000  6108.000000   \n",
              "mean   3053.500000     0.479044     0.295678     0.178782     0.584152   \n",
              "std    1763.372054     0.499602     0.456384     0.383201     0.492908   \n",
              "min       0.000000     0.000000     0.000000     0.000000     0.000000   \n",
              "25%    1526.750000     0.000000     0.000000     0.000000     0.000000   \n",
              "50%    3053.500000     0.000000     0.000000     0.000000     1.000000   \n",
              "75%    4580.250000     1.000000     1.000000     0.000000     1.000000   \n",
              "max    6107.000000     1.000000     1.000000     1.000000     1.000000   \n",
              "\n",
              "             Q11_5        Q11_6        Q11_7        Q11_8        Q11_9  ...  \\\n",
              "count  6108.000000  6108.000000  6108.000000  6108.000000  6108.000000  ...   \n",
              "mean      0.280779     0.089555     0.379993     0.302227     0.076130  ...   \n",
              "std       0.449417     0.285566     0.485425     0.459261     0.265227  ...   \n",
              "min       0.000000     0.000000     0.000000     0.000000     0.000000  ...   \n",
              "25%       0.000000     0.000000     0.000000     0.000000     0.000000  ...   \n",
              "50%       0.000000     0.000000     0.000000     0.000000     0.000000  ...   \n",
              "75%       1.000000     0.000000     1.000000     1.000000     0.000000  ...   \n",
              "max       1.000000     1.000000     1.000000     1.000000     1.000000  ...   \n",
              "\n",
              "            Q18_17       Q18_18       Q18_19       Q18_20       Q18_21  \\\n",
              "count  6108.000000  6108.000000  6108.000000  6108.000000  6108.000000   \n",
              "mean      3.034217     2.200557     3.046005     2.274067     2.863785   \n",
              "std       1.013568     0.940799     0.969493     1.031295     0.929183   \n",
              "min       1.000000     1.000000     1.000000     1.000000     1.000000   \n",
              "25%       2.000000     2.000000     3.000000     2.000000     2.000000   \n",
              "50%       3.000000     2.000000     3.000000     2.000000     3.000000   \n",
              "75%       4.000000     3.000000     4.000000     3.000000     3.000000   \n",
              "max       5.000000     5.000000     5.000000     5.000000     5.000000   \n",
              "\n",
              "            Q18_22       Q18_23          Q20          Q21          Q16  \n",
              "count  6108.000000  6108.000000  6108.000000  6108.000000  6108.000000  \n",
              "mean      2.350196     2.612803     2.870825     2.596758     0.938278  \n",
              "std       0.928942     0.952385     0.811442     0.834790     1.069068  \n",
              "min       1.000000     1.000000     1.000000     1.000000     0.000000  \n",
              "25%       2.000000     2.000000     3.000000     2.000000     0.000000  \n",
              "50%       2.000000     3.000000     3.000000     3.000000     1.000000  \n",
              "75%       3.000000     3.000000     3.000000     3.000000     2.000000  \n",
              "max       5.000000     5.000000     5.000000     5.000000     3.000000  \n",
              "\n",
              "[8 rows x 76 columns]"
            ]
          },
          "execution_count": 279,
          "metadata": {},
          "output_type": "execute_result"
        }
      ],
      "source": [
        "questionToMode_df.describe()"
      ]
    },
    {
      "cell_type": "markdown",
      "metadata": {
        "id": "1jNYqpObQWZR"
      },
      "source": [
        "### Showing Outliers\n"
      ]
    },
    {
      "cell_type": "code",
      "execution_count": 280,
      "metadata": {
        "colab": {
          "base_uri": "https://localhost:8080/",
          "height": 472
        },
        "id": "WZGJjlIVQjb7",
        "outputId": "ba40936a-f173-466e-a1e8-3713d89521cf"
      },
      "outputs": [
        {
          "data": {
            "image/png": "[encoded data removed]",
            "text/plain": [
              "<Figure size 432x288 with 1 Axes>"
            ]
          },
          "metadata": {
            "needs_background": "light"
          },
          "output_type": "display_data"
        }
      ],
      "source": [
        "import seaborn as sns\n",
        "import matplotlib.pyplot as plt\n",
        "\n",
        "colName = 'Q21'\n",
        "\n",
        "# Box plot çizimi\n",
        "sns.boxplot(x=questionToMode_df[colName])\n",
        "plt.title(f'Box Plot of {colName}')\n",
        "plt.show()"
      ]
    },
    {
      "cell_type": "markdown",
      "metadata": {
        "id": "pI79FRwS4T37"
      },
      "source": [
        "## Visualization"
      ]
    },
    {
      "cell_type": "code",
      "execution_count": 281,
      "metadata": {
        "id": "hXO0EuKf4WrH"
      },
      "outputs": [],
      "source": [
        "import matplotlib.pyplot as plt\n",
        "import seaborn as sns\n",
        "\n",
        "def Visualize(columnName):\n",
        "  plt.figure(figsize=(8, 4))\n",
        "  sns.countplot(x=columnName, data=questionToMode_df)\n",
        "  plt.title('Features')\n",
        "  plt.show()\n"
      ]
    },
    {
      "cell_type": "code",
      "execution_count": 282,
      "metadata": {
        "colab": {
          "base_uri": "https://localhost:8080/",
          "height": 803
        },
        "id": "IqPSOdZ_4cOo",
        "outputId": "83177182-bd2e-4d08-9315-a70fa4813251"
      },
      "outputs": [
        {
          "data": {
            "image/png": "[encoded data removed]",
            "text/plain": [
              "<Figure size 576x288 with 1 Axes>"
            ]
          },
          "metadata": {
            "needs_background": "light"
          },
          "output_type": "display_data"
        },
        {
          "data": {
            "image/png": "[encoded data removed]",
            "text/plain": [
              "<Figure size 576x288 with 1 Axes>"
            ]
          },
          "metadata": {
            "needs_background": "light"
          },
          "output_type": "display_data"
        }
      ],
      "source": [
        "import numpy as np\n",
        "for i in range(1,3):\n",
        "  feature_names=questionToMode_df.columns\n",
        "  selected_feature = np.random.choice(feature_names)\n",
        "  Visualize(selected_feature)"
      ]
    },
    {
      "cell_type": "code",
      "execution_count": 283,
      "metadata": {
        "id": "-cgFVwbtTEGO"
      },
      "outputs": [],
      "source": [
        "import numpy as np\n",
        "import matplotlib.pyplot as plt\n",
        "import seaborn as sns\n",
        "\n",
        "def VisualizeSubset(dataframe, step):\n",
        "    feature_names = dataframe.columns\n",
        "    num_subsets = len(feature_names) // step\n",
        "\n",
        "    fig, axes = plt.subplots(num_subsets, 1, figsize=(step, num_subsets * num_subsets))\n",
        "\n",
        "\n",
        "    for i in range(num_subsets):\n",
        "        selected_features = feature_names[i * step: (i + 1) * step]\n",
        "        sns.countplot(data=dataframe[selected_features], ax=axes[i])\n",
        "        axes[i].set_title(f'Subset {i + 1}')\n",
        "\n",
        "    plt.show()"
      ]
    },
    {
      "cell_type": "code",
      "execution_count": null,
      "metadata": {
        "colab": {
          "base_uri": "https://localhost:8080/",
          "height": 1000
        },
        "id": "yhGkmW6aTI4S",
        "outputId": "ee23b562-9650-4706-fad4-b54c6feca28c"
      },
      "outputs": [
        {
          "data": {
            "image/png": "[encoded data removed]",
            "text/plain": [
              "<Figure size 1500x2500 with 5 Axes>"
            ]
          },
          "metadata": {},
          "output_type": "display_data"
        }
      ],
      "source": [
        "VisualizeSubset(questionToMode_df,15)"
      ]
    },
    {
      "cell_type": "markdown",
      "metadata": {
        "id": "MJwlLVaXMJgU"
      },
      "source": [
        "## Normalization"
      ]
    },
    {
      "cell_type": "markdown",
      "metadata": {
        "id": "MmgEjjpXPHWu"
      },
      "source": [
        "### MinMaxScaler scaling the data to a specific range (usually [0, 1]) ensures that all features are kept on the same scale."
      ]
    },
    {
      "cell_type": "code",
      "execution_count": 284,
      "metadata": {
        "id": "M091jEdaMN5R"
      },
      "outputs": [],
      "source": [
        "from sklearn.preprocessing import MinMaxScaler\n",
        "def MinMaxScaling(df):\n",
        "    scaledDataFrame_minmax=df.copy()\n",
        "    scaledForm = scaledDataFrame_minmax.iloc[:, scaledDataFrame_minmax.columns.get_loc('Q15'):-1]\n",
        "    scaler = MinMaxScaler()\n",
        "    scaledDataFrame_minmax.iloc[:, scaledDataFrame_minmax.columns.get_loc('Q15'):-1] = scaler.fit_transform(scaledForm)\n",
        "    X_minmax, y_minmax = scaledDataFrame_minmax.iloc[:, :-1], scaledDataFrame_minmax.iloc[:, -1:]\n",
        "    return ({\"X\": X_minmax,\n",
        "            \"y\": y_minmax,\n",
        "            \"df\": scaledDataFrame_minmax})"
      ]
    },
    {
      "cell_type": "code",
      "execution_count": 285,
      "metadata": {
        "colab": {
          "base_uri": "https://localhost:8080/"
        },
        "id": "obq3cMhoN2Q2",
        "outputId": "49db400f-e22a-46e9-b281-18b8ba4e6fb7"
      },
      "outputs": [
        {
          "data": {
            "text/plain": [
              "<bound method NDFrame.describe of       Unnamed: 0  Q11_1  Q11_2  Q11_3  Q11_4  Q11_5  Q11_6  Q11_7  Q11_8  \\\n",
              "0              0      0      0      0      1      1      0      0      1   \n",
              "1              1      1      0      0      1      0      0      1      0   \n",
              "2              2      1      1      0      1      0      0      1      1   \n",
              "3              3      0      0      0      0      0      0      0      0   \n",
              "4              4      1      1      0      1      0      0      1      1   \n",
              "...          ...    ...    ...    ...    ...    ...    ...    ...    ...   \n",
              "6103        6103      0      1      0      0      0      0      1      1   \n",
              "6104        6104      0      1      0      1      0      0      0      1   \n",
              "6105        6105      1      0      1      0      0      0      0      0   \n",
              "6106        6106      0      0      1      0      0      0      0      1   \n",
              "6107        6107      1      0      0      1      0      0      0      1   \n",
              "\n",
              "      Q11_9  ...  Q18_17  Q18_18  Q18_19  Q18_20  Q18_21  Q18_22  Q18_23  \\\n",
              "0         0  ...    1.00    1.00    1.00    1.00    1.00    1.00    1.00   \n",
              "1         0  ...    0.75    0.25    0.75    0.25    0.25    0.25    0.25   \n",
              "2         0  ...    0.75    0.75    0.50    0.25    0.75    0.25    0.75   \n",
              "3         0  ...    0.50    0.25    0.50    0.25    0.50    0.25    0.50   \n",
              "4         0  ...    0.50    0.25    0.00    0.00    0.50    0.25    0.50   \n",
              "...     ...  ...     ...     ...     ...     ...     ...     ...     ...   \n",
              "6103      1  ...    0.25    0.25    0.50    0.50    0.25    0.00    0.00   \n",
              "6104      0  ...    0.50    0.25    0.50    0.25    0.50    0.25    0.50   \n",
              "6105      0  ...    0.75    0.00    1.00    0.75    1.00    0.75    1.00   \n",
              "6106      0  ...    0.00    0.50    0.75    1.00    0.50    0.25    0.50   \n",
              "6107      0  ...    0.50    0.50    0.50    0.50    0.50    0.50    0.50   \n",
              "\n",
              "       Q20   Q21  Q16  \n",
              "0     0.50  0.50    0  \n",
              "1     0.50  0.50    3  \n",
              "2     0.75  0.00    0  \n",
              "3     0.50  0.50    2  \n",
              "4     0.50  0.50    3  \n",
              "...    ...   ...  ...  \n",
              "6103  0.00  0.50    1  \n",
              "6104  0.50  0.50    0  \n",
              "6105  1.00  0.25    0  \n",
              "6106  0.25  0.50    0  \n",
              "6107  0.50  0.50    3  \n",
              "\n",
              "[6108 rows x 76 columns]>"
            ]
          },
          "execution_count": 285,
          "metadata": {},
          "output_type": "execute_result"
        }
      ],
      "source": [
        "min_max_scaled_items = MinMaxScaling(questionToMode_df)\n",
        "min_max_scaled_items['df'].describe"
      ]
    },
    {
      "cell_type": "markdown",
      "metadata": {
        "id": "0pmxtl2qPPKL"
      },
      "source": [
        "### StandartScaler transforming the data into a standard normal distribution makes the features comparable with each other"
      ]
    },
    {
      "cell_type": "code",
      "execution_count": 286,
      "metadata": {
        "id": "S2tvHTTwN9yT"
      },
      "outputs": [],
      "source": [
        "from sklearn.preprocessing import StandardScaler\n",
        "def StandardScaling(df):\n",
        "    scaledDataFrame_stc=df.copy()\n",
        "    scaledForm = scaledDataFrame_stc.iloc[:, scaledDataFrame_stc.columns.get_loc('Q15'):-1]\n",
        "    scaler = StandardScaler()\n",
        "    scaledDataFrame_stc.iloc[:, scaledDataFrame_stc.columns.get_loc('Q15'):-1] = scaler.fit_transform(scaledForm)\n",
        "    X_stc, y_stc = scaledDataFrame_stc.iloc[:, :-1], scaledDataFrame_stc.iloc[:, -1:]\n",
        "    return ({\"X\": X_stc,\n",
        "            \"y\": y_stc,\n",
        "            \"df\": scaledDataFrame_stc})"
      ]
    },
    {
      "cell_type": "code",
      "execution_count": 287,
      "metadata": {
        "colab": {
          "base_uri": "https://localhost:8080/"
        },
        "id": "Q3POFrQ9OSp3",
        "outputId": "fdf216d3-7b02-45f8-ed97-f4c3ca0c4c94"
      },
      "outputs": [
        {
          "data": {
            "text/plain": [
              "<bound method NDFrame.describe of       Unnamed: 0  Q11_1  Q11_2  Q11_3  Q11_4  Q11_5  Q11_6  Q11_7  Q11_8  \\\n",
              "0              0      0      0      0      1      1      0      0      1   \n",
              "1              1      1      0      0      1      0      0      1      0   \n",
              "2              2      1      1      0      1      0      0      1      1   \n",
              "3              3      0      0      0      0      0      0      0      0   \n",
              "4              4      1      1      0      1      0      0      1      1   \n",
              "...          ...    ...    ...    ...    ...    ...    ...    ...    ...   \n",
              "6103        6103      0      1      0      0      0      0      1      1   \n",
              "6104        6104      0      1      0      1      0      0      0      1   \n",
              "6105        6105      1      0      1      0      0      0      0      0   \n",
              "6106        6106      0      0      1      0      0      0      0      1   \n",
              "6107        6107      1      0      0      1      0      0      0      1   \n",
              "\n",
              "      Q11_9  ...    Q18_17    Q18_18    Q18_19    Q18_20    Q18_21    Q18_22  \\\n",
              "0         0  ...  1.939626  2.975847  2.015646  2.643431  2.299213  2.852731   \n",
              "1         0  ...  0.952932 -0.213194  0.984095 -0.265772 -0.929694 -0.377015   \n",
              "2         0  ...  0.952932  1.912833 -0.047457 -0.265772  1.222911 -0.377015   \n",
              "3         0  ... -0.033762 -0.213194 -0.047457 -0.265772  0.146608 -0.377015   \n",
              "4         0  ... -0.033762 -0.213194 -2.110559 -1.235507  0.146608 -0.377015   \n",
              "...     ...  ...       ...       ...       ...       ...       ...       ...   \n",
              "6103      1  ... -1.020456 -0.213194 -0.047457  0.703962 -0.929694 -1.453597   \n",
              "6104      0  ... -0.033762 -0.213194 -0.047457 -0.265772  0.146608 -0.377015   \n",
              "6105      0  ...  0.952932 -1.276208  2.015646  1.673697  2.299213  1.776149   \n",
              "6106      0  ... -2.007150  0.849819  0.984095  2.643431  0.146608 -0.377015   \n",
              "6107      0  ... -0.033762  0.849819 -0.047457  0.703962  0.146608  0.699567   \n",
              "\n",
              "        Q18_23       Q20       Q21  Q16  \n",
              "0     2.506751  0.159205  0.483085    0  \n",
              "1    -0.643493  0.159205  0.483085    3  \n",
              "2     1.456670  1.391680 -1.912922    0  \n",
              "3     0.406588  0.159205  0.483085    2  \n",
              "4     0.406588  0.159205  0.483085    3  \n",
              "...        ...       ...       ...  ...  \n",
              "6103 -1.693574 -2.305745  0.483085    1  \n",
              "6104  0.406588  0.159205  0.483085    0  \n",
              "6105  2.506751  2.624155 -0.714919    0  \n",
              "6106  0.406588 -1.073270  0.483085    0  \n",
              "6107  0.406588  0.159205  0.483085    3  \n",
              "\n",
              "[6108 rows x 76 columns]>"
            ]
          },
          "execution_count": 287,
          "metadata": {},
          "output_type": "execute_result"
        }
      ],
      "source": [
        "stc_scaled_items = StandardScaling(questionToMode_df)\n",
        "stc_scaled_items['df'].describe"
      ]
    },
    {
      "cell_type": "markdown",
      "metadata": {
        "id": "zuMeSnqWO5hX"
      },
      "source": [
        "### RobustScaler resistant to outlier values, this is a scaling method. Scaling is done using the median and IQR"
      ]
    },
    {
      "cell_type": "code",
      "execution_count": 288,
      "metadata": {
        "id": "Cu4DnaEGOl0R"
      },
      "outputs": [],
      "source": [
        "from sklearn.preprocessing import RobustScaler\n",
        "\n",
        "def StandardScaling(df):\n",
        "    scaledDataFrame_robust=df.copy()\n",
        "    scaledForm = scaledDataFrame_robust.iloc[scaledDataFrame_robust.columns.get_loc('Q15'):, :-1]\n",
        "    scaler = RobustScaler()\n",
        "    scaledDataFrame_robust.iloc[scaledDataFrame_robust.columns.get_loc('Q15'):, :-1]  = scaler.fit_transform(scaledForm)\n",
        "    X_robust, y_robust = scaledDataFrame_robust.iloc[:, :-1], scaledDataFrame_robust.iloc[:, -1:]\n",
        "    return ({\"X\": X_robust,\n",
        "            \"y\": y_robust,\n",
        "            \"df\": scaledDataFrame_robust})"
      ]
    },
    {
      "cell_type": "code",
      "execution_count": 289,
      "metadata": {
        "colab": {
          "base_uri": "https://localhost:8080/"
        },
        "id": "qPxswWw4OuIK",
        "outputId": "28eeae6c-3501-436e-b7c6-d8a95c372d38"
      },
      "outputs": [
        {
          "data": {
            "text/plain": [
              "<bound method NDFrame.describe of       Unnamed: 0  Q11_1  Q11_2  Q11_3  Q11_4  Q11_5  Q11_6  Q11_7  Q11_8  \\\n",
              "0        0.00000    0.0    0.0    0.0    1.0    1.0    0.0    0.0    1.0   \n",
              "1        1.00000    1.0    0.0    0.0    1.0    0.0    0.0    1.0    0.0   \n",
              "2        2.00000    1.0    1.0    0.0    1.0    0.0    0.0    1.0    1.0   \n",
              "3        3.00000    0.0    0.0    0.0    0.0    0.0    0.0    0.0    0.0   \n",
              "4        4.00000    1.0    1.0    0.0    1.0    0.0    0.0    1.0    1.0   \n",
              "...          ...    ...    ...    ...    ...    ...    ...    ...    ...   \n",
              "6103     0.99868    0.0    1.0    0.0   -1.0    0.0    0.0    1.0    1.0   \n",
              "6104     0.99901    0.0    1.0    0.0    0.0    0.0    0.0    0.0    1.0   \n",
              "6105     0.99934    1.0    0.0    1.0   -1.0    0.0    0.0    0.0    0.0   \n",
              "6106     0.99967    0.0    0.0    1.0   -1.0    0.0    0.0    0.0    1.0   \n",
              "6107     1.00000    1.0    0.0    0.0    0.0    0.0    0.0    0.0    1.0   \n",
              "\n",
              "      Q11_9  ...  Q18_17  Q18_18  Q18_19  Q18_20  Q18_21  Q18_22  Q18_23  Q20  \\\n",
              "0       0.0  ...     5.0     5.0     5.0     5.0     5.0     5.0     5.0  3.0   \n",
              "1       0.0  ...     4.0     2.0     4.0     2.0     2.0     2.0     2.0  3.0   \n",
              "2       0.0  ...     4.0     4.0     3.0     2.0     4.0     2.0     4.0  4.0   \n",
              "3       0.0  ...     3.0     2.0     3.0     2.0     3.0     2.0     3.0  3.0   \n",
              "4       0.0  ...     3.0     2.0     1.0     1.0     3.0     2.0     3.0  3.0   \n",
              "...     ...  ...     ...     ...     ...     ...     ...     ...     ...  ...   \n",
              "6103    1.0  ...    -0.5     0.0     0.0     1.0    -1.0    -1.0    -2.0 -2.0   \n",
              "6104    0.0  ...     0.0     0.0     0.0     0.0     0.0     0.0     0.0  0.0   \n",
              "6105    0.0  ...     0.5    -1.0     2.0     2.0     2.0     2.0     2.0  2.0   \n",
              "6106    0.0  ...    -1.0     1.0     1.0     3.0     0.0     0.0     0.0 -1.0   \n",
              "6107    0.0  ...     0.0     1.0     0.0     1.0     0.0     1.0     0.0  0.0   \n",
              "\n",
              "      Q21  Q16  \n",
              "0     3.0    0  \n",
              "1     3.0    3  \n",
              "2     1.0    0  \n",
              "3     3.0    2  \n",
              "4     3.0    3  \n",
              "...   ...  ...  \n",
              "6103  0.0    1  \n",
              "6104  0.0    0  \n",
              "6105 -1.0    0  \n",
              "6106  0.0    0  \n",
              "6107  0.0    3  \n",
              "\n",
              "[6108 rows x 76 columns]>"
            ]
          },
          "execution_count": 289,
          "metadata": {},
          "output_type": "execute_result"
        }
      ],
      "source": [
        "robust_scaled_items = StandardScaling(questionToMode_df)\n",
        "robust_scaled_items['df'].describe"
      ]
    },
    {
      "cell_type": "markdown",
      "metadata": {
        "id": "-OapTP6NWQAO"
      },
      "source": [
        "### Save Results To The Txt For Later Using"
      ]
    },
    {
      "cell_type": "code",
      "execution_count": 290,
      "metadata": {
        "id": "TSlVncZ-WQAO"
      },
      "outputs": [],
      "source": [
        "def SaveResults(result, txt_name):\n",
        "    with open(txt_name, 'a') as file:\n",
        "        file.write(str(result) + '\\n')"
      ]
    },
    {
      "cell_type": "markdown",
      "metadata": {
        "id": "HAT1tRqFVQAy"
      },
      "source": [
        "### Roc Curve / AOC / F1 / Recall / Precision / MCC"
      ]
    },
    {
      "cell_type": "code",
      "execution_count": 314,
      "metadata": {
        "id": "wAkklF6oVbs5"
      },
      "outputs": [],
      "source": [
        "from sklearn.metrics import roc_curve, auc, roc_auc_score, f1_score, recall_score, precision_score, matthews_corrcoef\n",
        "from sklearn.preprocessing import label_binarize\n",
        "from sklearn.model_selection import train_test_split\n",
        "from sklearn.metrics import classification_report\n",
        "\n",
        "\n",
        "def DrawRocCurve(y_true, y_predict_proba):\n",
        "    y_true_binary = label_binarize(y_true, classes=[0, 1])\n",
        "\n",
        "    # Compute ROC curve and ROC area for each class\n",
        "    fpr, tpr, _ = roc_curve(y_true_binary, y_predict_proba)\n",
        "    roc_auc = auc(fpr, tpr)\n",
        "\n",
        "    # Plot ROC curve\n",
        "    plt.figure(figsize=(8, 6))\n",
        "    plt.plot(fpr, tpr, color='darkorange', lw=2, label=f'ROC curve (AUC = {roc_auc:.2f})')\n",
        "    plt.plot([0, 1], [0, 1], color='navy', lw=2, linestyle='--')\n",
        "    plt.xlim([0.0, 1.0])\n",
        "    plt.ylim([0.0, 1.05])\n",
        "    plt.xlabel('False Positive Rate')\n",
        "    plt.ylabel('True Positive Rate')\n",
        "    plt.title('Receiver Operating Characteristic (ROC) Curve')\n",
        "    plt.legend(loc='lower right')\n",
        "    plt.show()\n",
        "\n",
        "def DrawRocCurveMultiClass(y_true, y_predict_proba):\n",
        "    y_true = label_binarize(y_true, classes=np.unique(y_true))\n",
        "\n",
        "    fpr = dict()\n",
        "    tpr = dict()\n",
        "    roc_auc = dict()\n",
        "\n",
        "    n_classes = y_true.shape[1]\n",
        "\n",
        "    for i in range(n_classes):\n",
        "        fpr[i], tpr[i], _ = roc_curve(y_true[:, i], y_predict_proba[:, i])\n",
        "        roc_auc[i] = auc(fpr[i], tpr[i])\n",
        "\n",
        "    # Compute micro-average ROC curve and ROC area\n",
        "    fpr[\"micro\"], tpr[\"micro\"], _ = roc_curve(y_true.ravel(), y_predict_proba.ravel())\n",
        "    roc_auc[\"micro\"] = auc(fpr[\"micro\"], tpr[\"micro\"])\n",
        "\n",
        "    # Plot ROC curve\n",
        "    plt.figure(figsize=(8, 6))\n",
        "\n",
        "    colors = ['b', 'g', 'r', 'c', 'm', 'y', 'k']  # You might need to adjust this based on the number of classes\n",
        "\n",
        "    for i, color in zip(range(n_classes), colors):\n",
        "        plt.plot(fpr[i], tpr[i], color=color, lw=2, label=f'Class {i} (AUC = {roc_auc[i]:.2f})')\n",
        "\n",
        "    plt.plot(fpr[\"micro\"], tpr[\"micro\"], color='deeppink', linestyle='--', lw=2, label='Micro-average (AUC = {0:0.2f})'.format(roc_auc[\"micro\"]))\n",
        "\n",
        "    plt.plot([0, 1], [0, 1], 'k--', lw=2)\n",
        "    plt.xlim([0.0, 1.0])\n",
        "    plt.ylim([0.0, 1.05])\n",
        "    plt.xlabel('False Positive Rate')\n",
        "    plt.ylabel('True Positive Rate')\n",
        "    plt.title('Receiver Operating Characteristic (ROC) Curve')\n",
        "    plt.legend(loc='lower right')\n",
        "\n",
        "    plt.show()\n",
        "\n",
        "def FindNecessaryMetrics(y_true, y_predicted, y_predict_proba):\n",
        "    f1, recall, precision, mcc, auc_score = 0, 0, 0, 0, 0\n",
        "\n",
        "    # F1 Score\n",
        "    f1 = f1_score(y_true, y_predicted, average=\"weighted\")\n",
        "\n",
        "    # Recall\n",
        "    recall = recall_score(y_true, y_predicted, average=\"weighted\")\n",
        "\n",
        "    # Precision\n",
        "    precision = precision_score(y_true, y_predicted, average=\"weighted\")\n",
        "\n",
        "    # Matthews Correlation Coefficient (MCC)\n",
        "    mcc = matthews_corrcoef(y_true, y_predicted)\n",
        "\n",
        "    # AUC\n",
        "    auc_score = roc_auc_score(y_true,y_predict_proba)\n",
        "\n",
        "    return f1, recall, precision, mcc, auc_score\n",
        "\n",
        "def FindNecessaryMetricsMultiClass(y_true, y_predicted, y_predict_proba):\n",
        "    f1, recall, precision, mcc, auc_score = 0, 0, 0, 0, 0\n",
        "\n",
        "    # F1 Score\n",
        "    f1 = f1_score(y_true, y_predicted, average=\"weighted\")\n",
        "\n",
        "    # Recall\n",
        "    recall = recall_score(y_true, y_predicted, average=\"weighted\")\n",
        "\n",
        "    # Precision\n",
        "    precision = precision_score(y_true, y_predicted, average=\"weighted\")\n",
        "\n",
        "    # Matthews Correlation Coefficient (MCC)\n",
        "    mcc = matthews_corrcoef(y_true, y_predicted)\n",
        "\n",
        "    # AUC\n",
        "    # For multiclass, set the multi_class parameter to 'ovr' (one-vs-rest)\n",
        "    auc_score = roc_auc_score(y_true, y_predict_proba, multi_class='ovr')\n",
        "\n",
        "    return f1, recall, precision, mcc, auc_score"
      ]
    },
    {
      "cell_type": "markdown",
      "metadata": {
        "id": "DOSnO-SeWQAP"
      },
      "source": [
        "## Feature Selection"
      ]
    },
    {
      "cell_type": "markdown",
      "metadata": {
        "id": "AbecGY6Ahl3L"
      },
      "source": [
        "### DataFrame To X and y and Vice Versa"
      ]
    },
    {
      "cell_type": "code",
      "execution_count": 292,
      "metadata": {
        "id": "jZcga6Owhl3L"
      },
      "outputs": [],
      "source": [
        "def DFToXAndY(df):\n",
        "    X, y = df.iloc[:, :-1], df.iloc[:, -1:]\n",
        "    return X, y"
      ]
    },
    {
      "cell_type": "markdown",
      "metadata": {
        "id": "Q7UFFAd5WQAP"
      },
      "source": [
        "### Train-Test Split Method"
      ]
    },
    {
      "cell_type": "code",
      "execution_count": 293,
      "metadata": {
        "id": "JEpzyzK0WQAP"
      },
      "outputs": [],
      "source": [
        "from sklearn.model_selection import train_test_split\n",
        "def train_test_split_modified(df, test_size_input = 0.25, randdom_state_input = 0 ):\n",
        "    X, y = df.iloc[:, :-1], df.iloc[:, -1:]\n",
        "    x_train, x_test, y_train, y_test = train_test_split(X, y, test_size = test_size_input, random_state = randdom_state_input)\n",
        "    return x_train, x_test, y_train, y_test"
      ]
    },
    {
      "cell_type": "markdown",
      "metadata": {
        "id": "_w4sHas7WQAP"
      },
      "source": [
        "### RFE Feature Elimination Method"
      ]
    },
    {
      "cell_type": "code",
      "execution_count": 294,
      "metadata": {
        "id": "VIs1L6oPWQAP"
      },
      "outputs": [],
      "source": [
        "from sklearn.feature_selection import RFE\n",
        "from sklearn import tree\n",
        "from sklearn.ensemble import RandomForestClassifier\n",
        "\n",
        "def RFEFeatureElimination(df, X, y, n_features_to_select, step = 1):\n",
        "    rfe_df = df.copy()\n",
        "    dropped_columns = []\n",
        "    estimator = tree.DecisionTreeClassifier()\n",
        "    selector = RFE(estimator = estimator, n_features_to_select = n_features_to_select, step = 1)\n",
        "    selector = selector.fit(X, y)\n",
        "\n",
        "    for i, value in enumerate(selector.support_, start=1):\n",
        "        #print(len(selector.support_))\n",
        "        #print(selector.ranking_)\n",
        "        if(value == False) and rfe_df.columns[i] != 'Q16':\n",
        "            dropped_columns.append(rfe_df.columns[i])\n",
        "\n",
        "    rfe_df = rfe_df.drop(dropped_columns, axis = 1)\n",
        "    return rfe_df"
      ]
    },
    {
      "cell_type": "markdown",
      "metadata": {
        "id": "km2gVQIRhl3M"
      },
      "source": [
        "### Chi Squared Feature Elimination Method"
      ]
    },
    {
      "cell_type": "code",
      "execution_count": 295,
      "metadata": {
        "id": "UjejAARehl3M"
      },
      "outputs": [],
      "source": [
        "from sklearn.feature_selection import SelectKBest, chi2\n",
        "\n",
        "def ChiSquareFeatureElimination(X, y, n_features_to_select, df= None):\n",
        "    X_chi2 = SelectKBest(chi2, k = n_features_to_select).fit_transform(X, y)\n",
        "    X_chi2_df = pd.DataFrame(X_chi2, columns=[f\"feature_{i}\" for i in range(n_features_to_select)])\n",
        "    return pd.concat([X_chi2_df, y.reset_index(drop=True)], axis=1)"
      ]
    },
    {
      "cell_type": "markdown",
      "metadata": {
        "id": "UOy50YBVhl3M"
      },
      "source": [
        "### Mutual Information Feature Elimination Method"
      ]
    },
    {
      "cell_type": "code",
      "execution_count": 296,
      "metadata": {
        "id": "MQ6k2_QBhl3M"
      },
      "outputs": [],
      "source": [
        "from sklearn.feature_selection import mutual_info_classif\n",
        "\n",
        "def MutualInformationFeatureElimination(X, y, n_features_to_select, df= None):\n",
        "    X_mutual_info = SelectKBest(mutual_info_classif, k = n_features_to_select).fit_transform(X, y)\n",
        "    X_mutual_info_df = pd.DataFrame(X_mutual_info, columns=[f\"feature_{i}\" for i in range(n_features_to_select)])\n",
        "    return pd.concat([X_mutual_info_df, y.reset_index(drop=True)], axis=1)"
      ]
    },
    {
      "cell_type": "markdown",
      "metadata": {
        "id": "3AJHcLa8hl3M"
      },
      "source": [
        "### Lasso Feature Elimination Method"
      ]
    },
    {
      "cell_type": "code",
      "execution_count": 297,
      "metadata": {
        "id": "DU75m1luhl3M"
      },
      "outputs": [],
      "source": [
        "from sklearn.svm import LinearSVC\n",
        "from sklearn.feature_selection import SelectFromModel\n",
        "\n",
        "\n",
        "def LassoFeatureElimination(X, y, n_features_to_select, df= None):\n",
        "    lsvc = LinearSVC(C=0.01, penalty=\"l1\", dual=False).fit(X, y)\n",
        "    model = SelectFromModel(lsvc, prefit=True, max_features=n_features_to_select)\n",
        "    X_l1 = model.transform(X)\n",
        "    X_l1_df = X_l1_df = pd.DataFrame(X_l1, columns=[f\"feature_{i}\" for i in range(X_l1.shape[1])])\n",
        "    return pd.concat([X_l1_df, y.reset_index(drop=True)], axis=1)\n"
      ]
    },
    {
      "cell_type": "markdown",
      "metadata": {
        "id": "U14zVlzswqBU"
      },
      "source": [
        "# ML and DL Algorithms"
      ]
    },
    {
      "cell_type": "markdown",
      "metadata": {
        "id": "dW0jDJ0hWQAP"
      },
      "source": [
        "### KNN Classification Algorithm Method"
      ]
    },
    {
      "cell_type": "code",
      "execution_count": 298,
      "metadata": {
        "id": "6m4dNXtRWQAP"
      },
      "outputs": [],
      "source": [
        "from sklearn.neighbors import KNeighborsClassifier\n",
        "from sklearn.metrics import accuracy_score\n",
        "from sklearn.metrics import confusion_matrix\n",
        "\n",
        "def KNN(x_train, x_test, y_train, y_test):\n",
        "    knn_params = {\"cosine\", \"euclidean\", \"manhattan\", \"nan_euclidean\"}\n",
        "    best_accuracy_knn = 0\n",
        "    best_metric = \"\"\n",
        "    best_neighbor_count = 0\n",
        "    max_neighbour = 50\n",
        "    for i in range(1,max_neighbour):\n",
        "        for param in knn_params:\n",
        "            knn = KNeighborsClassifier(n_neighbors=i, metric = param, weights = \"distance\")\n",
        "            knn.fit(x_train, y_train)\n",
        "            y_pred = knn.predict(x_test)\n",
        "            if accuracy_score(y_test, y_pred) < 1 and best_accuracy_knn < accuracy_score(y_test, y_pred) :\n",
        "                best_accuracy_knn, best_neighbor_count, best_metric = accuracy_score(y_test, y_pred), i, param\n",
        "\n",
        "    print(f\"Best accuracy is = {best_accuracy_knn}, with {best_neighbor_count} n_neighbors, {best_metric} metrics and fetaure len = {len(x_train.columns)}\")\n",
        "    #knn = KNeighborsClassifier(n_neighbors=best_neighbor_count, metric = best_metric, weights = \"distance\")\n",
        "    #knn.fit(x_train, y_train)\n",
        "    #y_pred = knn.predict(x_test)\n",
        "    #print(confusion_matrix(y_test,y_pred))\n",
        "    return {\"Accuracy\": best_accuracy_knn,\n",
        "            \"Model_Name\": \"KNN\",\n",
        "            \"HyperParameters\": f\"n_neighbor:{best_neighbor_count}, metric:{best_metric}, n_feature:{len(x_train.columns)}\"}"
      ]
    },
    {
      "cell_type": "markdown",
      "metadata": {
        "id": "dmojFRPSWQAQ"
      },
      "source": [
        "### Random Forest Classifier Method"
      ]
    },
    {
      "cell_type": "code",
      "execution_count": 299,
      "metadata": {
        "id": "lsz1N09sWQAQ"
      },
      "outputs": [],
      "source": [
        "from sklearn.ensemble import RandomForestClassifier\n",
        "from sklearn.datasets import make_classification\n",
        "from sklearn.utils.class_weight import compute_class_weight\n",
        "\n",
        "def RandomForest(x_train, x_test, y_train, y_test):\n",
        "    criterions = {\"gini\", \"entropy\"}\n",
        "    best_accuracy = 0\n",
        "    best_criterion = \"\"\n",
        "    best_depth = 0,\n",
        "    for criterion_changer in criterions:\n",
        "        for max_depth_changer in [None,5,10,15,20,25,30,35,40,45,50]:\n",
        "            RandomForestClf = RandomForestClassifier(criterion= criterion_changer, max_depth=max_depth_changer, random_state=1)\n",
        "            clf = RandomForestClf.fit(x_train, y_train)\n",
        "            y_predict_proba = clf.predict_proba(x_test)[:, 1]\n",
        "            y_pred = RandomForestClf.predict(x_test)\n",
        "            accuracy = accuracy_score(y_test, y_pred)\n",
        "\n",
        "            if(accuracy > best_accuracy):\n",
        "                best_accuracy, best_criterion, best_depth = accuracy, criterion_changer, max_depth_changer\n",
        "    print(f\"Best accuracy is = {best_accuracy}, with criterion = {best_criterion} max_depth = {best_depth} metrics and fetaure len = {len(x_train.columns)}\")\n",
        "    f1, recall, precision, mcc, auc_score = FindNecessaryMetrics(y_test, y_pred, y_predict_proba)\n",
        "    return {\"Accuracy\": best_accuracy,\n",
        "            \"F1\": f1, \"Recall\": recall, \"Precision\": precision, \"Mcc\": mcc, \"Auc_score\": auc_score,\n",
        "            \"y_true\": y_test, \"y_predict_proba\": y_predict_proba,\n",
        "            \"Model_Name\": \"RandomForest\",\n",
        "            \"HyperParameters\": f\"best_criterion: {best_criterion}, max_depth:{best_depth} fetaure len = {len(x_train.columns)}\"}"
      ]
    },
    {
      "cell_type": "markdown",
      "metadata": {
        "id": "a3VNmUUzNVvF"
      },
      "source": [
        "### Gradient Boosting Classifier Method"
      ]
    },
    {
      "cell_type": "code",
      "execution_count": 300,
      "metadata": {
        "id": "F_M3nwA5NVvF"
      },
      "outputs": [],
      "source": [
        "from sklearn.ensemble import GradientBoostingClassifier\n",
        "def GradientBoosting(x_train, x_test, y_train, y_test):\n",
        "    best_accuracy = 0\n",
        "    best_n_estimators = \"\"\n",
        "    best_depth = 0\n",
        "    for n_estimators in [100,125,150,175,200]:\n",
        "        clf = GradientBoostingClassifier(n_estimators=n_estimators, loss = 'deviance', learning_rate=0.1, criterion = 'squared_error', max_depth=1, random_state=0)\n",
        "        clf.fit(x_train, y_train)\n",
        "        accuracy = clf.score(x_test, y_test)\n",
        "        if(accuracy > best_accuracy):\n",
        "            best_accuracy, best_n_estimators = accuracy, n_estimators\n",
        "    print(f\"Best accuracy is = {best_accuracy}, with best_n_estimators = {best_n_estimators} learning_rate = 0.1 criterion = squared_error best_depth = 1 metrics and fetaure len = {len(x_train.columns)}\")\n",
        "    return {\"Accuracy\": best_accuracy,\n",
        "            \"Model_Name\": \"GradientBoosting\",\n",
        "            \"HyperParameters\": f\"best_n_estimators: {best_n_estimators}, loss:deviance, learning_rate = 0.1, depth = 1  criterion = squared_error\"}"
      ]
    },
    {
      "cell_type": "markdown",
      "metadata": {
        "id": "FrYMHVg6NVvF"
      },
      "source": [
        "### Stochastic Gradient Descent"
      ]
    },
    {
      "cell_type": "code",
      "execution_count": 301,
      "metadata": {
        "id": "bv6ClgANNVvF"
      },
      "outputs": [],
      "source": [
        "from sklearn.linear_model import SGDClassifier\n",
        "def StockGradientDescent(x_train, x_test, y_train, y_test):\n",
        "    best_accuracy = 0\n",
        "    best_penalty = ''\n",
        "    for penalty in ['l2', 'l1', 'elasticnet']:\n",
        "        clf = SGDClassifier(loss=\"squared_error\", penalty=penalty, max_iter=1000)\n",
        "        clf.fit(x_train, y_train)\n",
        "        y_pred = clf.predict(x_test)\n",
        "        accuracy = accuracy_score(y_test, y_pred)\n",
        "        if(accuracy > best_accuracy):\n",
        "            best_accuracy, best_penalty = accuracy, penalty\n",
        "    print(f\"Best accuracy is = {best_accuracy}, with max_iter = 1000 best_penalty = {best_penalty} loss = squared_error  metrics and fetaure len = {len(x_train.columns)}\")\n",
        "    return {\"Accuracy\": best_accuracy,\n",
        "            \"Model_Name\": \"StockGradientDescent\",\n",
        "            \"HyperParameters\": f\"best_max_iter: 1000, loss:squared_error, best_penalty = {best_penalty}\"}"
      ]
    },
    {
      "cell_type": "markdown",
      "metadata": {
        "id": "8z6tObWSW01F"
      },
      "source": [
        "### SVM\n"
      ]
    },
    {
      "cell_type": "code",
      "execution_count": 302,
      "metadata": {
        "id": "x4MqbpAaW3tO"
      },
      "outputs": [],
      "source": [
        "from sklearn import svm\n",
        "\n",
        "def NonlinearSVM(x_train, x_test, y_train, y_test):\n",
        "    best_accuracy = 0\n",
        "    functionsForSVM={\"rbf\",\"sigmoid\"}\n",
        "    best_function=\"\"\n",
        "\n",
        "    for function in functionsForSVM:\n",
        "      model = svm.SVC(kernel=function)\n",
        "      model.fit(x_train, y_train)\n",
        "      y_pred = model.predict(x_test)\n",
        "      accuracy = accuracy_score(y_test, y_pred)\n",
        "      if(accuracy > best_accuracy):\n",
        "        best_accuracy=accuracy\n",
        "        best_function=function\n",
        "    print(f\"Best accuracy is = {best_accuracy}, with function = {best_function}\")\n",
        "    return  {\"Accuracy\": best_accuracy,\n",
        "            \"Model_Name\": \"SVM\",\n",
        "            \"HyperParameters\": f\"best_function: {best_function}\"}"
      ]
    },
    {
      "cell_type": "markdown",
      "metadata": {
        "id": "o1oit3UQa5ZO"
      },
      "source": [
        "### Naive Bayes"
      ]
    },
    {
      "cell_type": "code",
      "execution_count": 303,
      "metadata": {
        "id": "wwnAkECVa8e2"
      },
      "outputs": [],
      "source": [
        "from sklearn.naive_bayes import MultinomialNB\n",
        "\n",
        "def MultinomialNaiveBayes(x_train, x_test, y_train, y_test):\n",
        "    best_accuracy = 0\n",
        "    best_alpha = 0\n",
        "    alphas = [0.2, 0.3, 0.5]\n",
        "\n",
        "    for alpha in alphas:\n",
        "        model = MultinomialNB(alpha=alpha)\n",
        "        model.fit(x_train, y_train)\n",
        "        y_pred = model.predict(x_test)\n",
        "        accuracy = accuracy_score(y_test, y_pred)\n",
        "\n",
        "        if accuracy > best_accuracy:\n",
        "            best_accuracy = accuracy\n",
        "            best_alpha = alpha\n",
        "\n",
        "    print(f\"Best accuracy is = {best_accuracy}, with alpha = {best_alpha}\")\n",
        "\n",
        "    return {\n",
        "        \"Accuracy\": best_accuracy,\n",
        "        \"Model_Name\": \"Multinomial Naive Bayes\",\n",
        "        \"HyperParameters\": f\"best_alpha: {best_alpha}\"\n",
        "    }"
      ]
    },
    {
      "cell_type": "markdown",
      "metadata": {
        "id": "Y2AAIT6PhU8Z"
      },
      "source": [
        "### Decision Tree"
      ]
    },
    {
      "cell_type": "code",
      "execution_count": 304,
      "metadata": {
        "id": "e9rSv7J9hdYY"
      },
      "outputs": [],
      "source": [
        "from sklearn.tree import DecisionTreeClassifier\n",
        "\n",
        "\n",
        "def DecisionTree(x_train, x_test, y_train, y_test):\n",
        "    dephts= [5,10,12,17]\n",
        "    best_accuracy=0\n",
        "    best_max_depth=0\n",
        "\n",
        "    for depth in dephts:\n",
        "        model = DecisionTreeClassifier(random_state=42,max_depth=depth)\n",
        "        model.fit(x_train, y_train)\n",
        "        y_pred = model.predict(x_test)\n",
        "        accuracy = accuracy_score(y_test, y_pred)\n",
        "        if accuracy > best_accuracy:\n",
        "            best_accuracy, best_max_depth = accuracy, depth\n",
        "    print(f\"Best accuracy is = {best_accuracy}, with max_depth = {best_max_depth}\")\n",
        "\n",
        "    return {\n",
        "        \"Accuracy\": best_accuracy,\n",
        "        \"Model_Name\": \"Decision Tree\",\n",
        "        \"HyperParameters\": f\"best_max_depth: {best_max_depth}\"\n",
        "    }"
      ]
    },
    {
      "cell_type": "markdown",
      "metadata": {
        "id": "WFmpkQDOk2qq"
      },
      "source": [
        "### Ada Boost"
      ]
    },
    {
      "cell_type": "code",
      "execution_count": 305,
      "metadata": {
        "id": "juPL62dik5r9"
      },
      "outputs": [],
      "source": [
        "from sklearn.ensemble import AdaBoostClassifier\n",
        "from sklearn.tree import DecisionTreeClassifier\n",
        "\n",
        "\n",
        "def AdaBoost(x_train, x_test, y_train, y_test):\n",
        "  depths=[1,3,5]\n",
        "  best_max_depth=0\n",
        "  best_accuracy=0\n",
        "  best_n_estimators=0\n",
        "  for depth in depths:\n",
        "    weak_learner = DecisionTreeClassifier(max_depth=depth)\n",
        "    adaboost_model = AdaBoostClassifier(base_estimator=weak_learner, n_estimators=5, random_state=42)\n",
        "    adaboost_model.fit(x_train, y_train)\n",
        "    y_pred = adaboost_model.predict(x_test)\n",
        "    accuracy = accuracy_score(y_test, y_pred)\n",
        "\n",
        "    if accuracy > best_accuracy:\n",
        "            best_accuracy = accuracy\n",
        "            best_max_depth = depth\n",
        "  print(f\"Best accuracy is = {best_accuracy}, with max_depth = {best_max_depth}\")\n",
        "\n",
        "  return {\n",
        "        \"Accuracy\": best_accuracy,\n",
        "        \"Model_Name\": \"Ada Boost\",\n",
        "        \"HyperParameters\": f\"best_max_depth: {best_max_depth}\"\n",
        "    }"
      ]
    },
    {
      "cell_type": "markdown",
      "metadata": {
        "id": "Ahif18dsnkO8"
      },
      "source": [
        "## TensorFlow"
      ]
    },
    {
      "cell_type": "code",
      "execution_count": null,
      "metadata": {
        "colab": {
          "base_uri": "https://localhost:8080/",
          "height": 390
        },
        "id": "e1EcIkWNnm16",
        "outputId": "4f63e576-7bba-453a-ab2d-2e522322a833"
      },
      "outputs": [
        {
          "ename": "KeyboardInterrupt",
          "evalue": "ignored",
          "output_type": "error",
          "traceback": [
            "\u001b[0;31m---------------------------------------------------------------------------\u001b[0m",
            "\u001b[0;31mKeyboardInterrupt\u001b[0m                         Traceback (most recent call last)",
            "\u001b[0;32m<ipython-input-34-92240831c0d9>\u001b[0m in \u001b[0;36m<cell line: 1>\u001b[0;34m()\u001b[0m\n\u001b[0;32m----> 1\u001b[0;31m \u001b[0;32mimport\u001b[0m \u001b[0mtensorflow\u001b[0m \u001b[0;32mas\u001b[0m \u001b[0mtf\u001b[0m\u001b[0;34m\u001b[0m\u001b[0;34m\u001b[0m\u001b[0m\n\u001b[0m\u001b[1;32m      2\u001b[0m \u001b[0;32mfrom\u001b[0m \u001b[0mtensorflow\u001b[0m\u001b[0;34m.\u001b[0m\u001b[0mkeras\u001b[0m \u001b[0;32mimport\u001b[0m \u001b[0mlayers\u001b[0m\u001b[0;34m,\u001b[0m \u001b[0mmodels\u001b[0m\u001b[0;34m\u001b[0m\u001b[0;34m\u001b[0m\u001b[0m\n\u001b[1;32m      3\u001b[0m \u001b[0;32mfrom\u001b[0m \u001b[0msklearn\u001b[0m\u001b[0;34m.\u001b[0m\u001b[0mmodel_selection\u001b[0m \u001b[0;32mimport\u001b[0m \u001b[0mtrain_test_split\u001b[0m\u001b[0;34m\u001b[0m\u001b[0;34m\u001b[0m\u001b[0m\n\u001b[1;32m      4\u001b[0m \u001b[0;32mfrom\u001b[0m \u001b[0msklearn\u001b[0m\u001b[0;34m.\u001b[0m\u001b[0mpreprocessing\u001b[0m \u001b[0;32mimport\u001b[0m \u001b[0mLabelEncoder\u001b[0m\u001b[0;34m\u001b[0m\u001b[0;34m\u001b[0m\u001b[0m\n\u001b[1;32m      5\u001b[0m \u001b[0;32mfrom\u001b[0m \u001b[0mtensorflow\u001b[0m\u001b[0;34m.\u001b[0m\u001b[0mkeras\u001b[0m\u001b[0;34m.\u001b[0m\u001b[0mmodels\u001b[0m \u001b[0;32mimport\u001b[0m \u001b[0mSequential\u001b[0m\u001b[0;34m\u001b[0m\u001b[0;34m\u001b[0m\u001b[0m\n",
            "\u001b[0;32m/usr/local/lib/python3.10/dist-packages/tensorflow/__init__.py\u001b[0m in \u001b[0;36m<module>\u001b[0;34m\u001b[0m\n\u001b[1;32m     35\u001b[0m \u001b[0;32mimport\u001b[0m \u001b[0mtyping\u001b[0m \u001b[0;32mas\u001b[0m \u001b[0m_typing\u001b[0m\u001b[0;34m\u001b[0m\u001b[0;34m\u001b[0m\u001b[0m\n\u001b[1;32m     36\u001b[0m \u001b[0;34m\u001b[0m\u001b[0m\n\u001b[0;32m---> 37\u001b[0;31m \u001b[0;32mfrom\u001b[0m \u001b[0mtensorflow\u001b[0m\u001b[0;34m.\u001b[0m\u001b[0mpython\u001b[0m\u001b[0;34m.\u001b[0m\u001b[0mtools\u001b[0m \u001b[0;32mimport\u001b[0m \u001b[0mmodule_util\u001b[0m \u001b[0;32mas\u001b[0m \u001b[0m_module_util\u001b[0m\u001b[0;34m\u001b[0m\u001b[0;34m\u001b[0m\u001b[0m\n\u001b[0m\u001b[1;32m     38\u001b[0m \u001b[0;32mfrom\u001b[0m \u001b[0mtensorflow\u001b[0m\u001b[0;34m.\u001b[0m\u001b[0mpython\u001b[0m\u001b[0;34m.\u001b[0m\u001b[0mutil\u001b[0m\u001b[0;34m.\u001b[0m\u001b[0mlazy_loader\u001b[0m \u001b[0;32mimport\u001b[0m \u001b[0mLazyLoader\u001b[0m \u001b[0;32mas\u001b[0m \u001b[0m_LazyLoader\u001b[0m\u001b[0;34m\u001b[0m\u001b[0;34m\u001b[0m\u001b[0m\n\u001b[1;32m     39\u001b[0m \u001b[0;34m\u001b[0m\u001b[0m\n",
            "\u001b[0;32m/usr/local/lib/python3.10/dist-packages/tensorflow/python/__init__.py\u001b[0m in \u001b[0;36m<module>\u001b[0;34m\u001b[0m\n\u001b[1;32m     43\u001b[0m \u001b[0;32mfrom\u001b[0m \u001b[0mtensorflow\u001b[0m\u001b[0;34m.\u001b[0m\u001b[0mpython\u001b[0m \u001b[0;32mimport\u001b[0m \u001b[0mdistribute\u001b[0m\u001b[0;34m\u001b[0m\u001b[0;34m\u001b[0m\u001b[0m\n\u001b[1;32m     44\u001b[0m \u001b[0;31m# from tensorflow.python import keras\u001b[0m\u001b[0;34m\u001b[0m\u001b[0;34m\u001b[0m\u001b[0m\n\u001b[0;32m---> 45\u001b[0;31m \u001b[0;32mfrom\u001b[0m \u001b[0mtensorflow\u001b[0m\u001b[0;34m.\u001b[0m\u001b[0mpython\u001b[0m\u001b[0;34m.\u001b[0m\u001b[0mfeature_column\u001b[0m \u001b[0;32mimport\u001b[0m \u001b[0mfeature_column_lib\u001b[0m \u001b[0;32mas\u001b[0m \u001b[0mfeature_column\u001b[0m\u001b[0;34m\u001b[0m\u001b[0;34m\u001b[0m\u001b[0m\n\u001b[0m\u001b[1;32m     46\u001b[0m \u001b[0;31m# from tensorflow.python.layers import layers\u001b[0m\u001b[0;34m\u001b[0m\u001b[0;34m\u001b[0m\u001b[0m\n\u001b[1;32m     47\u001b[0m \u001b[0;32mfrom\u001b[0m \u001b[0mtensorflow\u001b[0m\u001b[0;34m.\u001b[0m\u001b[0mpython\u001b[0m\u001b[0;34m.\u001b[0m\u001b[0mmodule\u001b[0m \u001b[0;32mimport\u001b[0m \u001b[0mmodule\u001b[0m\u001b[0;34m\u001b[0m\u001b[0;34m\u001b[0m\u001b[0m\n",
            "\u001b[0;32m/usr/local/lib/python3.10/dist-packages/tensorflow/python/feature_column/feature_column_lib.py\u001b[0m in \u001b[0;36m<module>\u001b[0;34m\u001b[0m\n\u001b[1;32m     16\u001b[0m \u001b[0;34m\u001b[0m\u001b[0m\n\u001b[1;32m     17\u001b[0m \u001b[0;31m# pylint: disable=unused-import,line-too-long,wildcard-import,g-bad-import-order\u001b[0m\u001b[0;34m\u001b[0m\u001b[0;34m\u001b[0m\u001b[0m\n\u001b[0;32m---> 18\u001b[0;31m \u001b[0;32mfrom\u001b[0m \u001b[0mtensorflow\u001b[0m\u001b[0;34m.\u001b[0m\u001b[0mpython\u001b[0m\u001b[0;34m.\u001b[0m\u001b[0mfeature_column\u001b[0m\u001b[0;34m.\u001b[0m\u001b[0mfeature_column\u001b[0m \u001b[0;32mimport\u001b[0m \u001b[0;34m*\u001b[0m\u001b[0;34m\u001b[0m\u001b[0;34m\u001b[0m\u001b[0m\n\u001b[0m\u001b[1;32m     19\u001b[0m \u001b[0;32mfrom\u001b[0m \u001b[0mtensorflow\u001b[0m\u001b[0;34m.\u001b[0m\u001b[0mpython\u001b[0m\u001b[0;34m.\u001b[0m\u001b[0mfeature_column\u001b[0m\u001b[0;34m.\u001b[0m\u001b[0mfeature_column_v2\u001b[0m \u001b[0;32mimport\u001b[0m \u001b[0;34m*\u001b[0m\u001b[0;34m\u001b[0m\u001b[0;34m\u001b[0m\u001b[0m\n\u001b[1;32m     20\u001b[0m \u001b[0;32mfrom\u001b[0m \u001b[0mtensorflow\u001b[0m\u001b[0;34m.\u001b[0m\u001b[0mpython\u001b[0m\u001b[0;34m.\u001b[0m\u001b[0mfeature_column\u001b[0m\u001b[0;34m.\u001b[0m\u001b[0msequence_feature_column\u001b[0m \u001b[0;32mimport\u001b[0m \u001b[0;34m*\u001b[0m\u001b[0;34m\u001b[0m\u001b[0;34m\u001b[0m\u001b[0m\n",
            "\u001b[0;32m/usr/local/lib/python3.10/dist-packages/tensorflow/python/feature_column/feature_column.py\u001b[0m in \u001b[0;36m<module>\u001b[0;34m\u001b[0m\n\u001b[1;32m    141\u001b[0m \u001b[0;32mfrom\u001b[0m \u001b[0mtensorflow\u001b[0m\u001b[0;34m.\u001b[0m\u001b[0mpython\u001b[0m\u001b[0;34m.\u001b[0m\u001b[0mframework\u001b[0m \u001b[0;32mimport\u001b[0m \u001b[0msparse_tensor\u001b[0m \u001b[0;32mas\u001b[0m \u001b[0msparse_tensor_lib\u001b[0m\u001b[0;34m\u001b[0m\u001b[0;34m\u001b[0m\u001b[0m\n\u001b[1;32m    142\u001b[0m \u001b[0;32mfrom\u001b[0m \u001b[0mtensorflow\u001b[0m\u001b[0;34m.\u001b[0m\u001b[0mpython\u001b[0m\u001b[0;34m.\u001b[0m\u001b[0mframework\u001b[0m \u001b[0;32mimport\u001b[0m \u001b[0mtensor_shape\u001b[0m\u001b[0;34m\u001b[0m\u001b[0;34m\u001b[0m\u001b[0m\n\u001b[0;32m--> 143\u001b[0;31m \u001b[0;32mfrom\u001b[0m \u001b[0mtensorflow\u001b[0m\u001b[0;34m.\u001b[0m\u001b[0mpython\u001b[0m\u001b[0;34m.\u001b[0m\u001b[0mlayers\u001b[0m \u001b[0;32mimport\u001b[0m \u001b[0mbase\u001b[0m\u001b[0;34m\u001b[0m\u001b[0;34m\u001b[0m\u001b[0m\n\u001b[0m\u001b[1;32m    144\u001b[0m \u001b[0;32mfrom\u001b[0m \u001b[0mtensorflow\u001b[0m\u001b[0;34m.\u001b[0m\u001b[0mpython\u001b[0m\u001b[0;34m.\u001b[0m\u001b[0mops\u001b[0m \u001b[0;32mimport\u001b[0m \u001b[0marray_ops\u001b[0m\u001b[0;34m\u001b[0m\u001b[0;34m\u001b[0m\u001b[0m\n\u001b[1;32m    145\u001b[0m \u001b[0;32mfrom\u001b[0m \u001b[0mtensorflow\u001b[0m\u001b[0;34m.\u001b[0m\u001b[0mpython\u001b[0m\u001b[0;34m.\u001b[0m\u001b[0mops\u001b[0m \u001b[0;32mimport\u001b[0m \u001b[0mcheck_ops\u001b[0m\u001b[0;34m\u001b[0m\u001b[0;34m\u001b[0m\u001b[0m\n",
            "\u001b[0;32m/usr/local/lib/python3.10/dist-packages/tensorflow/python/layers/base.py\u001b[0m in \u001b[0;36m<module>\u001b[0;34m\u001b[0m\n\u001b[1;32m     14\u001b[0m \u001b[0;31m# =============================================================================\u001b[0m\u001b[0;34m\u001b[0m\u001b[0;34m\u001b[0m\u001b[0m\n\u001b[1;32m     15\u001b[0m \u001b[0;34m\"\"\"Contains the base Layer class, from which all layers inherit.\"\"\"\u001b[0m\u001b[0;34m\u001b[0m\u001b[0;34m\u001b[0m\u001b[0m\n\u001b[0;32m---> 16\u001b[0;31m \u001b[0;32mfrom\u001b[0m \u001b[0mtensorflow\u001b[0m\u001b[0;34m.\u001b[0m\u001b[0mpython\u001b[0m\u001b[0;34m.\u001b[0m\u001b[0mkeras\u001b[0m\u001b[0;34m.\u001b[0m\u001b[0mlegacy_tf_layers\u001b[0m \u001b[0;32mimport\u001b[0m \u001b[0mbase\u001b[0m\u001b[0;34m\u001b[0m\u001b[0;34m\u001b[0m\u001b[0m\n\u001b[0m\u001b[1;32m     17\u001b[0m \u001b[0;34m\u001b[0m\u001b[0m\n\u001b[1;32m     18\u001b[0m \u001b[0mInputSpec\u001b[0m \u001b[0;34m=\u001b[0m \u001b[0mbase\u001b[0m\u001b[0;34m.\u001b[0m\u001b[0mInputSpec\u001b[0m\u001b[0;34m\u001b[0m\u001b[0;34m\u001b[0m\u001b[0m\n",
            "\u001b[0;32m/usr/local/lib/python3.10/dist-packages/tensorflow/python/keras/__init__.py\u001b[0m in \u001b[0;36m<module>\u001b[0;34m\u001b[0m\n\u001b[1;32m     23\u001b[0m \u001b[0;34m\u001b[0m\u001b[0m\n\u001b[1;32m     24\u001b[0m \u001b[0;31m# See b/110718070#comment18 for more details about this import.\u001b[0m\u001b[0;34m\u001b[0m\u001b[0;34m\u001b[0m\u001b[0m\n\u001b[0;32m---> 25\u001b[0;31m \u001b[0;32mfrom\u001b[0m \u001b[0mtensorflow\u001b[0m\u001b[0;34m.\u001b[0m\u001b[0mpython\u001b[0m\u001b[0;34m.\u001b[0m\u001b[0mkeras\u001b[0m \u001b[0;32mimport\u001b[0m \u001b[0mmodels\u001b[0m\u001b[0;34m\u001b[0m\u001b[0;34m\u001b[0m\u001b[0m\n\u001b[0m\u001b[1;32m     26\u001b[0m \u001b[0;34m\u001b[0m\u001b[0m\n\u001b[1;32m     27\u001b[0m \u001b[0;32mfrom\u001b[0m \u001b[0mtensorflow\u001b[0m\u001b[0;34m.\u001b[0m\u001b[0mpython\u001b[0m\u001b[0;34m.\u001b[0m\u001b[0mkeras\u001b[0m\u001b[0;34m.\u001b[0m\u001b[0mengine\u001b[0m\u001b[0;34m.\u001b[0m\u001b[0minput_layer\u001b[0m \u001b[0;32mimport\u001b[0m \u001b[0mInput\u001b[0m\u001b[0;34m\u001b[0m\u001b[0;34m\u001b[0m\u001b[0m\n",
            "\u001b[0;32m/usr/local/lib/python3.10/dist-packages/tensorflow/python/keras/models.py\u001b[0m in \u001b[0;36m<module>\u001b[0;34m\u001b[0m\n\u001b[1;32m     18\u001b[0m \u001b[0;32mfrom\u001b[0m \u001b[0mtensorflow\u001b[0m\u001b[0;34m.\u001b[0m\u001b[0mpython\u001b[0m\u001b[0;34m.\u001b[0m\u001b[0mframework\u001b[0m \u001b[0;32mimport\u001b[0m \u001b[0mops\u001b[0m\u001b[0;34m\u001b[0m\u001b[0;34m\u001b[0m\u001b[0m\n\u001b[1;32m     19\u001b[0m \u001b[0;32mfrom\u001b[0m \u001b[0mtensorflow\u001b[0m\u001b[0;34m.\u001b[0m\u001b[0mpython\u001b[0m\u001b[0;34m.\u001b[0m\u001b[0mkeras\u001b[0m \u001b[0;32mimport\u001b[0m \u001b[0mbackend\u001b[0m\u001b[0;34m\u001b[0m\u001b[0;34m\u001b[0m\u001b[0m\n\u001b[0;32m---> 20\u001b[0;31m \u001b[0;32mfrom\u001b[0m \u001b[0mtensorflow\u001b[0m\u001b[0;34m.\u001b[0m\u001b[0mpython\u001b[0m\u001b[0;34m.\u001b[0m\u001b[0mkeras\u001b[0m \u001b[0;32mimport\u001b[0m \u001b[0mmetrics\u001b[0m \u001b[0;32mas\u001b[0m \u001b[0mmetrics_module\u001b[0m\u001b[0;34m\u001b[0m\u001b[0;34m\u001b[0m\u001b[0m\n\u001b[0m\u001b[1;32m     21\u001b[0m \u001b[0;32mfrom\u001b[0m \u001b[0mtensorflow\u001b[0m\u001b[0;34m.\u001b[0m\u001b[0mpython\u001b[0m\u001b[0;34m.\u001b[0m\u001b[0mkeras\u001b[0m \u001b[0;32mimport\u001b[0m \u001b[0moptimizer_v1\u001b[0m\u001b[0;34m\u001b[0m\u001b[0;34m\u001b[0m\u001b[0m\n\u001b[1;32m     22\u001b[0m \u001b[0;32mfrom\u001b[0m \u001b[0mtensorflow\u001b[0m\u001b[0;34m.\u001b[0m\u001b[0mpython\u001b[0m\u001b[0;34m.\u001b[0m\u001b[0mkeras\u001b[0m\u001b[0;34m.\u001b[0m\u001b[0mengine\u001b[0m \u001b[0;32mimport\u001b[0m \u001b[0mfunctional\u001b[0m\u001b[0;34m\u001b[0m\u001b[0;34m\u001b[0m\u001b[0m\n",
            "\u001b[0;32m/usr/local/lib/python3.10/dist-packages/tensorflow/python/keras/metrics.py\u001b[0m in \u001b[0;36m<module>\u001b[0;34m\u001b[0m\n\u001b[1;32m     32\u001b[0m \u001b[0;32mfrom\u001b[0m \u001b[0mtensorflow\u001b[0m\u001b[0;34m.\u001b[0m\u001b[0mpython\u001b[0m\u001b[0;34m.\u001b[0m\u001b[0mframework\u001b[0m \u001b[0;32mimport\u001b[0m \u001b[0mops\u001b[0m\u001b[0;34m\u001b[0m\u001b[0;34m\u001b[0m\u001b[0m\n\u001b[1;32m     33\u001b[0m \u001b[0;32mfrom\u001b[0m \u001b[0mtensorflow\u001b[0m\u001b[0;34m.\u001b[0m\u001b[0mpython\u001b[0m\u001b[0;34m.\u001b[0m\u001b[0mframework\u001b[0m \u001b[0;32mimport\u001b[0m \u001b[0mtensor_shape\u001b[0m\u001b[0;34m\u001b[0m\u001b[0;34m\u001b[0m\u001b[0m\n\u001b[0;32m---> 34\u001b[0;31m \u001b[0;32mfrom\u001b[0m \u001b[0mtensorflow\u001b[0m\u001b[0;34m.\u001b[0m\u001b[0mpython\u001b[0m\u001b[0;34m.\u001b[0m\u001b[0mkeras\u001b[0m \u001b[0;32mimport\u001b[0m \u001b[0mactivations\u001b[0m\u001b[0;34m\u001b[0m\u001b[0;34m\u001b[0m\u001b[0m\n\u001b[0m\u001b[1;32m     35\u001b[0m \u001b[0;32mfrom\u001b[0m \u001b[0mtensorflow\u001b[0m\u001b[0;34m.\u001b[0m\u001b[0mpython\u001b[0m\u001b[0;34m.\u001b[0m\u001b[0mkeras\u001b[0m \u001b[0;32mimport\u001b[0m \u001b[0mbackend\u001b[0m\u001b[0;34m\u001b[0m\u001b[0;34m\u001b[0m\u001b[0m\n\u001b[1;32m     36\u001b[0m \u001b[0;32mfrom\u001b[0m \u001b[0mtensorflow\u001b[0m\u001b[0;34m.\u001b[0m\u001b[0mpython\u001b[0m\u001b[0;34m.\u001b[0m\u001b[0mkeras\u001b[0m\u001b[0;34m.\u001b[0m\u001b[0mengine\u001b[0m \u001b[0;32mimport\u001b[0m \u001b[0mbase_layer\u001b[0m\u001b[0;34m\u001b[0m\u001b[0;34m\u001b[0m\u001b[0m\n",
            "\u001b[0;32m/usr/local/lib/python3.10/dist-packages/tensorflow/python/keras/activations.py\u001b[0m in \u001b[0;36m<module>\u001b[0;34m\u001b[0m\n\u001b[1;32m     16\u001b[0m \u001b[0;34m\u001b[0m\u001b[0m\n\u001b[1;32m     17\u001b[0m \u001b[0;32mfrom\u001b[0m \u001b[0mtensorflow\u001b[0m\u001b[0;34m.\u001b[0m\u001b[0mpython\u001b[0m\u001b[0;34m.\u001b[0m\u001b[0mkeras\u001b[0m \u001b[0;32mimport\u001b[0m \u001b[0mbackend\u001b[0m\u001b[0;34m\u001b[0m\u001b[0;34m\u001b[0m\u001b[0m\n\u001b[0;32m---> 18\u001b[0;31m \u001b[0;32mfrom\u001b[0m \u001b[0mtensorflow\u001b[0m\u001b[0;34m.\u001b[0m\u001b[0mpython\u001b[0m\u001b[0;34m.\u001b[0m\u001b[0mkeras\u001b[0m\u001b[0;34m.\u001b[0m\u001b[0mlayers\u001b[0m \u001b[0;32mimport\u001b[0m \u001b[0madvanced_activations\u001b[0m\u001b[0;34m\u001b[0m\u001b[0;34m\u001b[0m\u001b[0m\n\u001b[0m\u001b[1;32m     19\u001b[0m \u001b[0;32mfrom\u001b[0m \u001b[0mtensorflow\u001b[0m\u001b[0;34m.\u001b[0m\u001b[0mpython\u001b[0m\u001b[0;34m.\u001b[0m\u001b[0mkeras\u001b[0m\u001b[0;34m.\u001b[0m\u001b[0mutils\u001b[0m\u001b[0;34m.\u001b[0m\u001b[0mgeneric_utils\u001b[0m \u001b[0;32mimport\u001b[0m \u001b[0mdeserialize_keras_object\u001b[0m\u001b[0;34m\u001b[0m\u001b[0;34m\u001b[0m\u001b[0m\n\u001b[1;32m     20\u001b[0m \u001b[0;32mfrom\u001b[0m \u001b[0mtensorflow\u001b[0m\u001b[0;34m.\u001b[0m\u001b[0mpython\u001b[0m\u001b[0;34m.\u001b[0m\u001b[0mkeras\u001b[0m\u001b[0;34m.\u001b[0m\u001b[0mutils\u001b[0m\u001b[0;34m.\u001b[0m\u001b[0mgeneric_utils\u001b[0m \u001b[0;32mimport\u001b[0m \u001b[0mserialize_keras_object\u001b[0m\u001b[0;34m\u001b[0m\u001b[0;34m\u001b[0m\u001b[0m\n",
            "\u001b[0;32m/usr/local/lib/python3.10/dist-packages/tensorflow/python/keras/layers/__init__.py\u001b[0m in \u001b[0;36m<module>\u001b[0;34m\u001b[0m\n\u001b[1;32m     20\u001b[0m \u001b[0;31m# pylint: disable=g-bad-import-order\u001b[0m\u001b[0;34m\u001b[0m\u001b[0;34m\u001b[0m\u001b[0m\n\u001b[1;32m     21\u001b[0m \u001b[0;31m# pylint: disable=g-import-not-at-top\u001b[0m\u001b[0;34m\u001b[0m\u001b[0;34m\u001b[0m\u001b[0m\n\u001b[0;32m---> 22\u001b[0;31m \u001b[0;32mfrom\u001b[0m \u001b[0mtensorflow\u001b[0m\u001b[0;34m.\u001b[0m\u001b[0mpython\u001b[0m\u001b[0;34m.\u001b[0m\u001b[0mkeras\u001b[0m\u001b[0;34m.\u001b[0m\u001b[0mengine\u001b[0m\u001b[0;34m.\u001b[0m\u001b[0minput_layer\u001b[0m \u001b[0;32mimport\u001b[0m \u001b[0mInput\u001b[0m\u001b[0;34m\u001b[0m\u001b[0;34m\u001b[0m\u001b[0m\n\u001b[0m\u001b[1;32m     23\u001b[0m \u001b[0;32mfrom\u001b[0m \u001b[0mtensorflow\u001b[0m\u001b[0;34m.\u001b[0m\u001b[0mpython\u001b[0m\u001b[0;34m.\u001b[0m\u001b[0mkeras\u001b[0m\u001b[0;34m.\u001b[0m\u001b[0mengine\u001b[0m\u001b[0;34m.\u001b[0m\u001b[0minput_layer\u001b[0m \u001b[0;32mimport\u001b[0m \u001b[0mInputLayer\u001b[0m\u001b[0;34m\u001b[0m\u001b[0;34m\u001b[0m\u001b[0m\n\u001b[1;32m     24\u001b[0m \u001b[0;32mfrom\u001b[0m \u001b[0mtensorflow\u001b[0m\u001b[0;34m.\u001b[0m\u001b[0mpython\u001b[0m\u001b[0;34m.\u001b[0m\u001b[0mkeras\u001b[0m\u001b[0;34m.\u001b[0m\u001b[0mengine\u001b[0m\u001b[0;34m.\u001b[0m\u001b[0minput_spec\u001b[0m \u001b[0;32mimport\u001b[0m \u001b[0mInputSpec\u001b[0m\u001b[0;34m\u001b[0m\u001b[0;34m\u001b[0m\u001b[0m\n",
            "\u001b[0;32m/usr/local/lib/python3.10/dist-packages/tensorflow/python/keras/engine/input_layer.py\u001b[0m in \u001b[0;36m<module>\u001b[0;34m\u001b[0m\n\u001b[1;32m     22\u001b[0m \u001b[0;32mfrom\u001b[0m \u001b[0mtensorflow\u001b[0m\u001b[0;34m.\u001b[0m\u001b[0mpython\u001b[0m\u001b[0;34m.\u001b[0m\u001b[0mkeras\u001b[0m \u001b[0;32mimport\u001b[0m \u001b[0mbackend\u001b[0m\u001b[0;34m\u001b[0m\u001b[0;34m\u001b[0m\u001b[0m\n\u001b[1;32m     23\u001b[0m \u001b[0;32mfrom\u001b[0m \u001b[0mtensorflow\u001b[0m\u001b[0;34m.\u001b[0m\u001b[0mpython\u001b[0m\u001b[0;34m.\u001b[0m\u001b[0mkeras\u001b[0m\u001b[0;34m.\u001b[0m\u001b[0mdistribute\u001b[0m \u001b[0;32mimport\u001b[0m \u001b[0mdistributed_training_utils\u001b[0m\u001b[0;34m\u001b[0m\u001b[0;34m\u001b[0m\u001b[0m\n\u001b[0;32m---> 24\u001b[0;31m \u001b[0;32mfrom\u001b[0m \u001b[0mtensorflow\u001b[0m\u001b[0;34m.\u001b[0m\u001b[0mpython\u001b[0m\u001b[0;34m.\u001b[0m\u001b[0mkeras\u001b[0m\u001b[0;34m.\u001b[0m\u001b[0mengine\u001b[0m \u001b[0;32mimport\u001b[0m \u001b[0mbase_layer\u001b[0m\u001b[0;34m\u001b[0m\u001b[0;34m\u001b[0m\u001b[0m\n\u001b[0m\u001b[1;32m     25\u001b[0m \u001b[0;32mfrom\u001b[0m \u001b[0mtensorflow\u001b[0m\u001b[0;34m.\u001b[0m\u001b[0mpython\u001b[0m\u001b[0;34m.\u001b[0m\u001b[0mkeras\u001b[0m\u001b[0;34m.\u001b[0m\u001b[0mengine\u001b[0m \u001b[0;32mimport\u001b[0m \u001b[0mkeras_tensor\u001b[0m\u001b[0;34m\u001b[0m\u001b[0;34m\u001b[0m\u001b[0m\n\u001b[1;32m     26\u001b[0m \u001b[0;32mfrom\u001b[0m \u001b[0mtensorflow\u001b[0m\u001b[0;34m.\u001b[0m\u001b[0mpython\u001b[0m\u001b[0;34m.\u001b[0m\u001b[0mkeras\u001b[0m\u001b[0;34m.\u001b[0m\u001b[0mengine\u001b[0m \u001b[0;32mimport\u001b[0m \u001b[0mnode\u001b[0m \u001b[0;32mas\u001b[0m \u001b[0mnode_module\u001b[0m\u001b[0;34m\u001b[0m\u001b[0;34m\u001b[0m\u001b[0m\n",
            "\u001b[0;32m/usr/local/lib/python3.10/dist-packages/tensorflow/python/keras/engine/base_layer.py\u001b[0m in \u001b[0;36m<module>\u001b[0;34m\u001b[0m\n\u001b[1;32m     46\u001b[0m \u001b[0;32mfrom\u001b[0m \u001b[0mtensorflow\u001b[0m\u001b[0;34m.\u001b[0m\u001b[0mpython\u001b[0m\u001b[0;34m.\u001b[0m\u001b[0mkeras\u001b[0m \u001b[0;32mimport\u001b[0m \u001b[0minitializers\u001b[0m\u001b[0;34m\u001b[0m\u001b[0;34m\u001b[0m\u001b[0m\n\u001b[1;32m     47\u001b[0m \u001b[0;32mfrom\u001b[0m \u001b[0mtensorflow\u001b[0m\u001b[0;34m.\u001b[0m\u001b[0mpython\u001b[0m\u001b[0;34m.\u001b[0m\u001b[0mkeras\u001b[0m \u001b[0;32mimport\u001b[0m \u001b[0mregularizers\u001b[0m\u001b[0;34m\u001b[0m\u001b[0;34m\u001b[0m\u001b[0m\n\u001b[0;32m---> 48\u001b[0;31m \u001b[0;32mfrom\u001b[0m \u001b[0mtensorflow\u001b[0m\u001b[0;34m.\u001b[0m\u001b[0mpython\u001b[0m\u001b[0;34m.\u001b[0m\u001b[0mkeras\u001b[0m\u001b[0;34m.\u001b[0m\u001b[0mengine\u001b[0m \u001b[0;32mimport\u001b[0m \u001b[0mbase_layer_utils\u001b[0m\u001b[0;34m\u001b[0m\u001b[0;34m\u001b[0m\u001b[0m\n\u001b[0m\u001b[1;32m     49\u001b[0m \u001b[0;32mfrom\u001b[0m \u001b[0mtensorflow\u001b[0m\u001b[0;34m.\u001b[0m\u001b[0mpython\u001b[0m\u001b[0;34m.\u001b[0m\u001b[0mkeras\u001b[0m\u001b[0;34m.\u001b[0m\u001b[0mengine\u001b[0m \u001b[0;32mimport\u001b[0m \u001b[0minput_spec\u001b[0m\u001b[0;34m\u001b[0m\u001b[0;34m\u001b[0m\u001b[0m\n\u001b[1;32m     50\u001b[0m \u001b[0;32mfrom\u001b[0m \u001b[0mtensorflow\u001b[0m\u001b[0;34m.\u001b[0m\u001b[0mpython\u001b[0m\u001b[0;34m.\u001b[0m\u001b[0mkeras\u001b[0m\u001b[0;34m.\u001b[0m\u001b[0mengine\u001b[0m \u001b[0;32mimport\u001b[0m \u001b[0mkeras_tensor\u001b[0m\u001b[0;34m\u001b[0m\u001b[0;34m\u001b[0m\u001b[0m\n",
            "\u001b[0;32m/usr/local/lib/python3.10/dist-packages/tensorflow/python/keras/engine/base_layer_utils.py\u001b[0m in \u001b[0;36m<module>\u001b[0;34m\u001b[0m\n\u001b[1;32m     29\u001b[0m \u001b[0;32mfrom\u001b[0m \u001b[0mtensorflow\u001b[0m\u001b[0;34m.\u001b[0m\u001b[0mpython\u001b[0m\u001b[0;34m.\u001b[0m\u001b[0mkeras\u001b[0m\u001b[0;34m.\u001b[0m\u001b[0mutils\u001b[0m \u001b[0;32mimport\u001b[0m \u001b[0mcontrol_flow_util\u001b[0m\u001b[0;34m\u001b[0m\u001b[0;34m\u001b[0m\u001b[0m\n\u001b[1;32m     30\u001b[0m \u001b[0;32mfrom\u001b[0m \u001b[0mtensorflow\u001b[0m\u001b[0;34m.\u001b[0m\u001b[0mpython\u001b[0m\u001b[0;34m.\u001b[0m\u001b[0mkeras\u001b[0m\u001b[0;34m.\u001b[0m\u001b[0mutils\u001b[0m \u001b[0;32mimport\u001b[0m \u001b[0mtf_inspect\u001b[0m\u001b[0;34m\u001b[0m\u001b[0;34m\u001b[0m\u001b[0m\n\u001b[0;32m---> 31\u001b[0;31m \u001b[0;32mfrom\u001b[0m \u001b[0mtensorflow\u001b[0m\u001b[0;34m.\u001b[0m\u001b[0mpython\u001b[0m\u001b[0;34m.\u001b[0m\u001b[0mkeras\u001b[0m\u001b[0;34m.\u001b[0m\u001b[0mutils\u001b[0m \u001b[0;32mimport\u001b[0m \u001b[0mtf_utils\u001b[0m\u001b[0;34m\u001b[0m\u001b[0;34m\u001b[0m\u001b[0m\n\u001b[0m\u001b[1;32m     32\u001b[0m \u001b[0;32mfrom\u001b[0m \u001b[0mtensorflow\u001b[0m\u001b[0;34m.\u001b[0m\u001b[0mpython\u001b[0m\u001b[0;34m.\u001b[0m\u001b[0mops\u001b[0m \u001b[0;32mimport\u001b[0m \u001b[0marray_ops\u001b[0m\u001b[0;34m\u001b[0m\u001b[0;34m\u001b[0m\u001b[0m\n\u001b[1;32m     33\u001b[0m \u001b[0;32mfrom\u001b[0m \u001b[0mtensorflow\u001b[0m\u001b[0;34m.\u001b[0m\u001b[0mpython\u001b[0m\u001b[0;34m.\u001b[0m\u001b[0mops\u001b[0m \u001b[0;32mimport\u001b[0m \u001b[0mvariables\u001b[0m \u001b[0;32mas\u001b[0m \u001b[0mtf_variables\u001b[0m\u001b[0;34m\u001b[0m\u001b[0;34m\u001b[0m\u001b[0m\n",
            "\u001b[0;32m/usr/local/lib/python3.10/dist-packages/tensorflow/python/keras/utils/tf_utils.py\u001b[0m in \u001b[0;36m<module>\u001b[0;34m\u001b[0m\n\u001b[1;32m     20\u001b[0m \u001b[0;34m\u001b[0m\u001b[0m\n\u001b[1;32m     21\u001b[0m \u001b[0;32mfrom\u001b[0m \u001b[0mtensorflow\u001b[0m\u001b[0;34m.\u001b[0m\u001b[0mpython\u001b[0m\u001b[0;34m.\u001b[0m\u001b[0mdata\u001b[0m\u001b[0;34m.\u001b[0m\u001b[0mexperimental\u001b[0m\u001b[0;34m.\u001b[0m\u001b[0mops\u001b[0m \u001b[0;32mimport\u001b[0m \u001b[0mcardinality\u001b[0m\u001b[0;34m\u001b[0m\u001b[0;34m\u001b[0m\u001b[0m\n\u001b[0;32m---> 22\u001b[0;31m \u001b[0;32mfrom\u001b[0m \u001b[0mtensorflow\u001b[0m\u001b[0;34m.\u001b[0m\u001b[0mpython\u001b[0m\u001b[0;34m.\u001b[0m\u001b[0mdistribute\u001b[0m\u001b[0;34m.\u001b[0m\u001b[0mcoordinator\u001b[0m \u001b[0;32mimport\u001b[0m \u001b[0mcluster_coordinator\u001b[0m \u001b[0;32mas\u001b[0m \u001b[0mcoordinator_lib\u001b[0m\u001b[0;34m\u001b[0m\u001b[0;34m\u001b[0m\u001b[0m\n\u001b[0m\u001b[1;32m     23\u001b[0m \u001b[0;32mfrom\u001b[0m \u001b[0mtensorflow\u001b[0m\u001b[0;34m.\u001b[0m\u001b[0mpython\u001b[0m\u001b[0;34m.\u001b[0m\u001b[0meager\u001b[0m \u001b[0;32mimport\u001b[0m \u001b[0mcontext\u001b[0m\u001b[0;34m\u001b[0m\u001b[0;34m\u001b[0m\u001b[0m\n\u001b[1;32m     24\u001b[0m \u001b[0;32mfrom\u001b[0m \u001b[0mtensorflow\u001b[0m\u001b[0;34m.\u001b[0m\u001b[0mpython\u001b[0m\u001b[0;34m.\u001b[0m\u001b[0mframework\u001b[0m \u001b[0;32mimport\u001b[0m \u001b[0mcomposite_tensor\u001b[0m\u001b[0;34m\u001b[0m\u001b[0;34m\u001b[0m\u001b[0m\n",
            "\u001b[0;32m/usr/local/lib/python3.10/dist-packages/tensorflow/python/distribute/coordinator/cluster_coordinator.py\u001b[0m in \u001b[0;36m<module>\u001b[0;34m\u001b[0m\n\u001b[1;32m     28\u001b[0m \u001b[0;32mfrom\u001b[0m \u001b[0msix\u001b[0m\u001b[0;34m.\u001b[0m\u001b[0mmoves\u001b[0m \u001b[0;32mimport\u001b[0m \u001b[0mqueue\u001b[0m\u001b[0;34m\u001b[0m\u001b[0;34m\u001b[0m\u001b[0m\n\u001b[1;32m     29\u001b[0m \u001b[0;34m\u001b[0m\u001b[0m\n\u001b[0;32m---> 30\u001b[0;31m \u001b[0;32mfrom\u001b[0m \u001b[0mtensorflow\u001b[0m\u001b[0;34m.\u001b[0m\u001b[0mpython\u001b[0m\u001b[0;34m.\u001b[0m\u001b[0mdistribute\u001b[0m \u001b[0;32mimport\u001b[0m \u001b[0mparameter_server_strategy_v2\u001b[0m\u001b[0;34m\u001b[0m\u001b[0;34m\u001b[0m\u001b[0m\n\u001b[0m\u001b[1;32m     31\u001b[0m \u001b[0;32mfrom\u001b[0m \u001b[0mtensorflow\u001b[0m\u001b[0;34m.\u001b[0m\u001b[0mpython\u001b[0m\u001b[0;34m.\u001b[0m\u001b[0mdistribute\u001b[0m\u001b[0;34m.\u001b[0m\u001b[0mcoordinator\u001b[0m \u001b[0;32mimport\u001b[0m \u001b[0mcoordinator_context\u001b[0m\u001b[0;34m\u001b[0m\u001b[0;34m\u001b[0m\u001b[0m\n\u001b[1;32m     32\u001b[0m \u001b[0;32mfrom\u001b[0m \u001b[0mtensorflow\u001b[0m\u001b[0;34m.\u001b[0m\u001b[0mpython\u001b[0m\u001b[0;34m.\u001b[0m\u001b[0mdistribute\u001b[0m\u001b[0;34m.\u001b[0m\u001b[0mcoordinator\u001b[0m \u001b[0;32mimport\u001b[0m \u001b[0mmetric_utils\u001b[0m\u001b[0;34m\u001b[0m\u001b[0;34m\u001b[0m\u001b[0m\n",
            "\u001b[0;32m/usr/local/lib/python3.10/dist-packages/tensorflow/python/distribute/parameter_server_strategy_v2.py\u001b[0m in \u001b[0;36m<module>\u001b[0;34m\u001b[0m\n\u001b[1;32m     29\u001b[0m \u001b[0;32mfrom\u001b[0m \u001b[0mtensorflow\u001b[0m\u001b[0;34m.\u001b[0m\u001b[0mpython\u001b[0m\u001b[0;34m.\u001b[0m\u001b[0mdistribute\u001b[0m \u001b[0;32mimport\u001b[0m \u001b[0mmirrored_run\u001b[0m\u001b[0;34m\u001b[0m\u001b[0;34m\u001b[0m\u001b[0m\n\u001b[1;32m     30\u001b[0m \u001b[0;32mfrom\u001b[0m \u001b[0mtensorflow\u001b[0m\u001b[0;34m.\u001b[0m\u001b[0mpython\u001b[0m\u001b[0;34m.\u001b[0m\u001b[0mdistribute\u001b[0m \u001b[0;32mimport\u001b[0m \u001b[0mmulti_worker_util\u001b[0m\u001b[0;34m\u001b[0m\u001b[0;34m\u001b[0m\u001b[0m\n\u001b[0;32m---> 31\u001b[0;31m \u001b[0;32mfrom\u001b[0m \u001b[0mtensorflow\u001b[0m\u001b[0;34m.\u001b[0m\u001b[0mpython\u001b[0m\u001b[0;34m.\u001b[0m\u001b[0mdistribute\u001b[0m \u001b[0;32mimport\u001b[0m \u001b[0mparameter_server_strategy\u001b[0m\u001b[0;34m\u001b[0m\u001b[0;34m\u001b[0m\u001b[0m\n\u001b[0m\u001b[1;32m     32\u001b[0m \u001b[0;32mfrom\u001b[0m \u001b[0mtensorflow\u001b[0m\u001b[0;34m.\u001b[0m\u001b[0mpython\u001b[0m\u001b[0;34m.\u001b[0m\u001b[0mdistribute\u001b[0m \u001b[0;32mimport\u001b[0m \u001b[0mps_values\u001b[0m\u001b[0;34m\u001b[0m\u001b[0;34m\u001b[0m\u001b[0m\n\u001b[1;32m     33\u001b[0m \u001b[0;32mfrom\u001b[0m \u001b[0mtensorflow\u001b[0m\u001b[0;34m.\u001b[0m\u001b[0mpython\u001b[0m\u001b[0;34m.\u001b[0m\u001b[0mdistribute\u001b[0m \u001b[0;32mimport\u001b[0m \u001b[0msharded_variable\u001b[0m\u001b[0;34m\u001b[0m\u001b[0;34m\u001b[0m\u001b[0m\n",
            "\u001b[0;32m/usr/local/lib/python3.10/dist-packages/tensorflow/python/distribute/parameter_server_strategy.py\u001b[0m in \u001b[0;36m<module>\u001b[0;34m\u001b[0m\n\u001b[1;32m     29\u001b[0m \u001b[0;32mfrom\u001b[0m \u001b[0mtensorflow\u001b[0m\u001b[0;34m.\u001b[0m\u001b[0mpython\u001b[0m\u001b[0;34m.\u001b[0m\u001b[0mdistribute\u001b[0m \u001b[0;32mimport\u001b[0m \u001b[0mps_values\u001b[0m\u001b[0;34m\u001b[0m\u001b[0;34m\u001b[0m\u001b[0m\n\u001b[1;32m     30\u001b[0m \u001b[0;32mfrom\u001b[0m \u001b[0mtensorflow\u001b[0m\u001b[0;34m.\u001b[0m\u001b[0mpython\u001b[0m\u001b[0;34m.\u001b[0m\u001b[0mdistribute\u001b[0m \u001b[0;32mimport\u001b[0m \u001b[0mvalues\u001b[0m\u001b[0;34m\u001b[0m\u001b[0;34m\u001b[0m\u001b[0m\n\u001b[0;32m---> 31\u001b[0;31m \u001b[0;32mfrom\u001b[0m \u001b[0mtensorflow\u001b[0m\u001b[0;34m.\u001b[0m\u001b[0mpython\u001b[0m\u001b[0;34m.\u001b[0m\u001b[0mdistribute\u001b[0m\u001b[0;34m.\u001b[0m\u001b[0mcluster_resolver\u001b[0m \u001b[0;32mimport\u001b[0m \u001b[0mSimpleClusterResolver\u001b[0m\u001b[0;34m\u001b[0m\u001b[0;34m\u001b[0m\u001b[0m\n\u001b[0m\u001b[1;32m     32\u001b[0m \u001b[0;32mfrom\u001b[0m \u001b[0mtensorflow\u001b[0m\u001b[0;34m.\u001b[0m\u001b[0mpython\u001b[0m\u001b[0;34m.\u001b[0m\u001b[0mdistribute\u001b[0m\u001b[0;34m.\u001b[0m\u001b[0mcluster_resolver\u001b[0m \u001b[0;32mimport\u001b[0m \u001b[0mTFConfigClusterResolver\u001b[0m\u001b[0;34m\u001b[0m\u001b[0;34m\u001b[0m\u001b[0m\n\u001b[1;32m     33\u001b[0m \u001b[0;32mfrom\u001b[0m \u001b[0mtensorflow\u001b[0m\u001b[0;34m.\u001b[0m\u001b[0mpython\u001b[0m\u001b[0;34m.\u001b[0m\u001b[0mdistribute\u001b[0m\u001b[0;34m.\u001b[0m\u001b[0mv1\u001b[0m \u001b[0;32mimport\u001b[0m \u001b[0minput_lib\u001b[0m \u001b[0;32mas\u001b[0m \u001b[0minput_lib_v1\u001b[0m\u001b[0;34m\u001b[0m\u001b[0;34m\u001b[0m\u001b[0m\n",
            "\u001b[0;32m/usr/local/lib/python3.10/dist-packages/tensorflow/python/distribute/cluster_resolver/__init__.py\u001b[0m in \u001b[0;36m<module>\u001b[0;34m\u001b[0m\n\u001b[1;32m     25\u001b[0m \u001b[0;32mfrom\u001b[0m \u001b[0mtensorflow\u001b[0m\u001b[0;34m.\u001b[0m\u001b[0mpython\u001b[0m\u001b[0;34m.\u001b[0m\u001b[0mdistribute\u001b[0m\u001b[0;34m.\u001b[0m\u001b[0mcluster_resolver\u001b[0m\u001b[0;34m.\u001b[0m\u001b[0mcluster_resolver\u001b[0m \u001b[0;32mimport\u001b[0m \u001b[0mSimpleClusterResolver\u001b[0m\u001b[0;34m\u001b[0m\u001b[0;34m\u001b[0m\u001b[0m\n\u001b[1;32m     26\u001b[0m \u001b[0;32mfrom\u001b[0m \u001b[0mtensorflow\u001b[0m\u001b[0;34m.\u001b[0m\u001b[0mpython\u001b[0m\u001b[0;34m.\u001b[0m\u001b[0mdistribute\u001b[0m\u001b[0;34m.\u001b[0m\u001b[0mcluster_resolver\u001b[0m\u001b[0;34m.\u001b[0m\u001b[0mcluster_resolver\u001b[0m \u001b[0;32mimport\u001b[0m \u001b[0mUnionClusterResolver\u001b[0m\u001b[0;34m\u001b[0m\u001b[0;34m\u001b[0m\u001b[0m\n\u001b[0;32m---> 27\u001b[0;31m \u001b[0;32mfrom\u001b[0m \u001b[0mtensorflow\u001b[0m\u001b[0;34m.\u001b[0m\u001b[0mpython\u001b[0m\u001b[0;34m.\u001b[0m\u001b[0mdistribute\u001b[0m\u001b[0;34m.\u001b[0m\u001b[0mcluster_resolver\u001b[0m\u001b[0;34m.\u001b[0m\u001b[0mgce_cluster_resolver\u001b[0m \u001b[0;32mimport\u001b[0m \u001b[0mGCEClusterResolver\u001b[0m\u001b[0;34m\u001b[0m\u001b[0;34m\u001b[0m\u001b[0m\n\u001b[0m\u001b[1;32m     28\u001b[0m \u001b[0;32mfrom\u001b[0m \u001b[0mtensorflow\u001b[0m\u001b[0;34m.\u001b[0m\u001b[0mpython\u001b[0m\u001b[0;34m.\u001b[0m\u001b[0mdistribute\u001b[0m\u001b[0;34m.\u001b[0m\u001b[0mcluster_resolver\u001b[0m\u001b[0;34m.\u001b[0m\u001b[0mkubernetes_cluster_resolver\u001b[0m \u001b[0;32mimport\u001b[0m \u001b[0mKubernetesClusterResolver\u001b[0m\u001b[0;34m\u001b[0m\u001b[0;34m\u001b[0m\u001b[0m\n\u001b[1;32m     29\u001b[0m \u001b[0;32mfrom\u001b[0m \u001b[0mtensorflow\u001b[0m\u001b[0;34m.\u001b[0m\u001b[0mpython\u001b[0m\u001b[0;34m.\u001b[0m\u001b[0mdistribute\u001b[0m\u001b[0;34m.\u001b[0m\u001b[0mcluster_resolver\u001b[0m\u001b[0;34m.\u001b[0m\u001b[0mslurm_cluster_resolver\u001b[0m \u001b[0;32mimport\u001b[0m \u001b[0mSlurmClusterResolver\u001b[0m\u001b[0;34m\u001b[0m\u001b[0;34m\u001b[0m\u001b[0m\n",
            "\u001b[0;32m/usr/local/lib/python3.10/dist-packages/tensorflow/python/distribute/cluster_resolver/gce_cluster_resolver.py\u001b[0m in \u001b[0;36m<module>\u001b[0;34m\u001b[0m\n\u001b[1;32m     22\u001b[0m \u001b[0m_GOOGLE_API_CLIENT_INSTALLED\u001b[0m \u001b[0;34m=\u001b[0m \u001b[0;32mTrue\u001b[0m\u001b[0;34m\u001b[0m\u001b[0;34m\u001b[0m\u001b[0m\n\u001b[1;32m     23\u001b[0m \u001b[0;32mtry\u001b[0m\u001b[0;34m:\u001b[0m\u001b[0;34m\u001b[0m\u001b[0;34m\u001b[0m\u001b[0m\n\u001b[0;32m---> 24\u001b[0;31m   \u001b[0;32mfrom\u001b[0m \u001b[0mgoogleapiclient\u001b[0m \u001b[0;32mimport\u001b[0m \u001b[0mdiscovery\u001b[0m  \u001b[0;31m# pylint: disable=g-import-not-at-top\u001b[0m\u001b[0;34m\u001b[0m\u001b[0;34m\u001b[0m\u001b[0m\n\u001b[0m\u001b[1;32m     25\u001b[0m   \u001b[0;32mfrom\u001b[0m \u001b[0moauth2client\u001b[0m\u001b[0;34m.\u001b[0m\u001b[0mclient\u001b[0m \u001b[0;32mimport\u001b[0m \u001b[0mGoogleCredentials\u001b[0m  \u001b[0;31m# pylint: disable=g-import-not-at-top\u001b[0m\u001b[0;34m\u001b[0m\u001b[0;34m\u001b[0m\u001b[0m\n\u001b[1;32m     26\u001b[0m \u001b[0;32mexcept\u001b[0m \u001b[0mImportError\u001b[0m\u001b[0;34m:\u001b[0m\u001b[0;34m\u001b[0m\u001b[0;34m\u001b[0m\u001b[0m\n",
            "\u001b[0;32m/usr/local/lib/python3.10/dist-packages/googleapiclient/discovery.py\u001b[0m in \u001b[0;36m<module>\u001b[0;34m\u001b[0m\n\u001b[1;32m     43\u001b[0m \u001b[0;32mfrom\u001b[0m \u001b[0mgoogle\u001b[0m\u001b[0;34m.\u001b[0m\u001b[0mauth\u001b[0m\u001b[0;34m.\u001b[0m\u001b[0mexceptions\u001b[0m \u001b[0;32mimport\u001b[0m \u001b[0mMutualTLSChannelError\u001b[0m\u001b[0;34m\u001b[0m\u001b[0;34m\u001b[0m\u001b[0m\n\u001b[1;32m     44\u001b[0m \u001b[0;32mfrom\u001b[0m \u001b[0mgoogle\u001b[0m\u001b[0;34m.\u001b[0m\u001b[0mauth\u001b[0m\u001b[0;34m.\u001b[0m\u001b[0mtransport\u001b[0m \u001b[0;32mimport\u001b[0m \u001b[0mmtls\u001b[0m\u001b[0;34m\u001b[0m\u001b[0;34m\u001b[0m\u001b[0m\n\u001b[0;32m---> 45\u001b[0;31m \u001b[0;32mfrom\u001b[0m \u001b[0mgoogle\u001b[0m\u001b[0;34m.\u001b[0m\u001b[0moauth2\u001b[0m \u001b[0;32mimport\u001b[0m \u001b[0mservice_account\u001b[0m\u001b[0;34m\u001b[0m\u001b[0;34m\u001b[0m\u001b[0m\n\u001b[0m\u001b[1;32m     46\u001b[0m \u001b[0;34m\u001b[0m\u001b[0m\n\u001b[1;32m     47\u001b[0m \u001b[0;31m# Third-party imports\u001b[0m\u001b[0;34m\u001b[0m\u001b[0;34m\u001b[0m\u001b[0m\n",
            "\u001b[0;32m/usr/local/lib/python3.10/dist-packages/google/oauth2/service_account.py\u001b[0m in \u001b[0;36m<module>\u001b[0;34m\u001b[0m\n\u001b[1;32m     75\u001b[0m \u001b[0;34m\u001b[0m\u001b[0m\n\u001b[1;32m     76\u001b[0m \u001b[0;32mfrom\u001b[0m \u001b[0mgoogle\u001b[0m\u001b[0;34m.\u001b[0m\u001b[0mauth\u001b[0m \u001b[0;32mimport\u001b[0m \u001b[0m_helpers\u001b[0m\u001b[0;34m\u001b[0m\u001b[0;34m\u001b[0m\u001b[0m\n\u001b[0;32m---> 77\u001b[0;31m \u001b[0;32mfrom\u001b[0m \u001b[0mgoogle\u001b[0m\u001b[0;34m.\u001b[0m\u001b[0mauth\u001b[0m \u001b[0;32mimport\u001b[0m \u001b[0m_service_account_info\u001b[0m\u001b[0;34m\u001b[0m\u001b[0;34m\u001b[0m\u001b[0m\n\u001b[0m\u001b[1;32m     78\u001b[0m \u001b[0;32mfrom\u001b[0m \u001b[0mgoogle\u001b[0m\u001b[0;34m.\u001b[0m\u001b[0mauth\u001b[0m \u001b[0;32mimport\u001b[0m \u001b[0mcredentials\u001b[0m\u001b[0;34m\u001b[0m\u001b[0;34m\u001b[0m\u001b[0m\n\u001b[1;32m     79\u001b[0m \u001b[0;32mfrom\u001b[0m \u001b[0mgoogle\u001b[0m\u001b[0;34m.\u001b[0m\u001b[0mauth\u001b[0m \u001b[0;32mimport\u001b[0m \u001b[0mjwt\u001b[0m\u001b[0;34m\u001b[0m\u001b[0;34m\u001b[0m\u001b[0m\n",
            "\u001b[0;32m/usr/local/lib/python3.10/dist-packages/google/auth/_service_account_info.py\u001b[0m in \u001b[0;36m<module>\u001b[0;34m\u001b[0m\n\u001b[1;32m     20\u001b[0m \u001b[0;32mimport\u001b[0m \u001b[0msix\u001b[0m\u001b[0;34m\u001b[0m\u001b[0;34m\u001b[0m\u001b[0m\n\u001b[1;32m     21\u001b[0m \u001b[0;34m\u001b[0m\u001b[0m\n\u001b[0;32m---> 22\u001b[0;31m \u001b[0;32mfrom\u001b[0m \u001b[0mgoogle\u001b[0m\u001b[0;34m.\u001b[0m\u001b[0mauth\u001b[0m \u001b[0;32mimport\u001b[0m \u001b[0mcrypt\u001b[0m\u001b[0;34m\u001b[0m\u001b[0;34m\u001b[0m\u001b[0m\n\u001b[0m\u001b[1;32m     23\u001b[0m \u001b[0;32mfrom\u001b[0m \u001b[0mgoogle\u001b[0m\u001b[0;34m.\u001b[0m\u001b[0mauth\u001b[0m \u001b[0;32mimport\u001b[0m \u001b[0mexceptions\u001b[0m\u001b[0;34m\u001b[0m\u001b[0;34m\u001b[0m\u001b[0m\n\u001b[1;32m     24\u001b[0m \u001b[0;34m\u001b[0m\u001b[0m\n",
            "\u001b[0;32m/usr/local/lib/python3.10/dist-packages/google/auth/crypt/__init__.py\u001b[0m in \u001b[0;36m<module>\u001b[0;34m\u001b[0m\n\u001b[1;32m     41\u001b[0m \u001b[0;34m\u001b[0m\u001b[0m\n\u001b[1;32m     42\u001b[0m \u001b[0;32mfrom\u001b[0m \u001b[0mgoogle\u001b[0m\u001b[0;34m.\u001b[0m\u001b[0mauth\u001b[0m\u001b[0;34m.\u001b[0m\u001b[0mcrypt\u001b[0m \u001b[0;32mimport\u001b[0m \u001b[0mbase\u001b[0m\u001b[0;34m\u001b[0m\u001b[0;34m\u001b[0m\u001b[0m\n\u001b[0;32m---> 43\u001b[0;31m \u001b[0;32mfrom\u001b[0m \u001b[0mgoogle\u001b[0m\u001b[0;34m.\u001b[0m\u001b[0mauth\u001b[0m\u001b[0;34m.\u001b[0m\u001b[0mcrypt\u001b[0m \u001b[0;32mimport\u001b[0m \u001b[0mrsa\u001b[0m\u001b[0;34m\u001b[0m\u001b[0;34m\u001b[0m\u001b[0m\n\u001b[0m\u001b[1;32m     44\u001b[0m \u001b[0;34m\u001b[0m\u001b[0m\n\u001b[1;32m     45\u001b[0m \u001b[0;32mtry\u001b[0m\u001b[0;34m:\u001b[0m\u001b[0;34m\u001b[0m\u001b[0;34m\u001b[0m\u001b[0m\n",
            "\u001b[0;32m/usr/local/lib/python3.10/dist-packages/google/auth/crypt/rsa.py\u001b[0m in \u001b[0;36m<module>\u001b[0;34m\u001b[0m\n\u001b[1;32m     18\u001b[0m \u001b[0;32mtry\u001b[0m\u001b[0;34m:\u001b[0m\u001b[0;34m\u001b[0m\u001b[0;34m\u001b[0m\u001b[0m\n\u001b[1;32m     19\u001b[0m     \u001b[0;31m# Prefer cryptograph-based RSA implementation.\u001b[0m\u001b[0;34m\u001b[0m\u001b[0;34m\u001b[0m\u001b[0m\n\u001b[0;32m---> 20\u001b[0;31m     \u001b[0;32mfrom\u001b[0m \u001b[0mgoogle\u001b[0m\u001b[0;34m.\u001b[0m\u001b[0mauth\u001b[0m\u001b[0;34m.\u001b[0m\u001b[0mcrypt\u001b[0m \u001b[0;32mimport\u001b[0m \u001b[0m_cryptography_rsa\u001b[0m\u001b[0;34m\u001b[0m\u001b[0;34m\u001b[0m\u001b[0m\n\u001b[0m\u001b[1;32m     21\u001b[0m \u001b[0;34m\u001b[0m\u001b[0m\n\u001b[1;32m     22\u001b[0m     \u001b[0mRSASigner\u001b[0m \u001b[0;34m=\u001b[0m \u001b[0m_cryptography_rsa\u001b[0m\u001b[0;34m.\u001b[0m\u001b[0mRSASigner\u001b[0m\u001b[0;34m\u001b[0m\u001b[0;34m\u001b[0m\u001b[0m\n",
            "\u001b[0;32m/usr/local/lib/python3.10/dist-packages/google/auth/crypt/_cryptography_rsa.py\u001b[0m in \u001b[0;36m<module>\u001b[0;34m\u001b[0m\n\u001b[1;32m     23\u001b[0m \u001b[0;32mfrom\u001b[0m \u001b[0mcryptography\u001b[0m\u001b[0;34m.\u001b[0m\u001b[0mhazmat\u001b[0m \u001b[0;32mimport\u001b[0m \u001b[0mbackends\u001b[0m\u001b[0;34m\u001b[0m\u001b[0;34m\u001b[0m\u001b[0m\n\u001b[1;32m     24\u001b[0m \u001b[0;32mfrom\u001b[0m \u001b[0mcryptography\u001b[0m\u001b[0;34m.\u001b[0m\u001b[0mhazmat\u001b[0m\u001b[0;34m.\u001b[0m\u001b[0mprimitives\u001b[0m \u001b[0;32mimport\u001b[0m \u001b[0mhashes\u001b[0m\u001b[0;34m\u001b[0m\u001b[0;34m\u001b[0m\u001b[0m\n\u001b[0;32m---> 25\u001b[0;31m \u001b[0;32mfrom\u001b[0m \u001b[0mcryptography\u001b[0m\u001b[0;34m.\u001b[0m\u001b[0mhazmat\u001b[0m\u001b[0;34m.\u001b[0m\u001b[0mprimitives\u001b[0m \u001b[0;32mimport\u001b[0m \u001b[0mserialization\u001b[0m\u001b[0;34m\u001b[0m\u001b[0;34m\u001b[0m\u001b[0m\n\u001b[0m\u001b[1;32m     26\u001b[0m \u001b[0;32mfrom\u001b[0m \u001b[0mcryptography\u001b[0m\u001b[0;34m.\u001b[0m\u001b[0mhazmat\u001b[0m\u001b[0;34m.\u001b[0m\u001b[0mprimitives\u001b[0m\u001b[0;34m.\u001b[0m\u001b[0masymmetric\u001b[0m \u001b[0;32mimport\u001b[0m \u001b[0mpadding\u001b[0m\u001b[0;34m\u001b[0m\u001b[0;34m\u001b[0m\u001b[0m\n\u001b[1;32m     27\u001b[0m \u001b[0;32mimport\u001b[0m \u001b[0mcryptography\u001b[0m\u001b[0;34m.\u001b[0m\u001b[0mx509\u001b[0m\u001b[0;34m\u001b[0m\u001b[0;34m\u001b[0m\u001b[0m\n",
            "\u001b[0;32m/usr/local/lib/python3.10/dist-packages/cryptography/hazmat/primitives/serialization/__init__.py\u001b[0m in \u001b[0;36m<module>\u001b[0;34m\u001b[0m\n\u001b[1;32m     15\u001b[0m     \u001b[0m_KeySerializationEncryption\u001b[0m\u001b[0;34m,\u001b[0m\u001b[0;34m\u001b[0m\u001b[0;34m\u001b[0m\u001b[0m\n\u001b[1;32m     16\u001b[0m )\n\u001b[0;32m---> 17\u001b[0;31m from cryptography.hazmat.primitives.serialization.base import (\n\u001b[0m\u001b[1;32m     18\u001b[0m     \u001b[0mload_der_parameters\u001b[0m\u001b[0;34m,\u001b[0m\u001b[0;34m\u001b[0m\u001b[0;34m\u001b[0m\u001b[0m\n\u001b[1;32m     19\u001b[0m     \u001b[0mload_der_private_key\u001b[0m\u001b[0;34m,\u001b[0m\u001b[0;34m\u001b[0m\u001b[0;34m\u001b[0m\u001b[0m\n",
            "\u001b[0;32m/usr/local/lib/python3.10/dist-packages/cryptography/hazmat/primitives/serialization/base.py\u001b[0m in \u001b[0;36m<module>\u001b[0;34m\u001b[0m\n\u001b[1;32m      8\u001b[0m \u001b[0;34m\u001b[0m\u001b[0m\n\u001b[1;32m      9\u001b[0m \u001b[0;32mfrom\u001b[0m \u001b[0mcryptography\u001b[0m\u001b[0;34m.\u001b[0m\u001b[0mhazmat\u001b[0m\u001b[0;34m.\u001b[0m\u001b[0mprimitives\u001b[0m\u001b[0;34m.\u001b[0m\u001b[0masymmetric\u001b[0m \u001b[0;32mimport\u001b[0m \u001b[0mdh\u001b[0m\u001b[0;34m\u001b[0m\u001b[0;34m\u001b[0m\u001b[0m\n\u001b[0;32m---> 10\u001b[0;31m from cryptography.hazmat.primitives.asymmetric.types import (\n\u001b[0m\u001b[1;32m     11\u001b[0m     \u001b[0mPrivateKeyTypes\u001b[0m\u001b[0;34m,\u001b[0m\u001b[0;34m\u001b[0m\u001b[0;34m\u001b[0m\u001b[0m\n\u001b[1;32m     12\u001b[0m     \u001b[0mPublicKeyTypes\u001b[0m\u001b[0;34m,\u001b[0m\u001b[0;34m\u001b[0m\u001b[0;34m\u001b[0m\u001b[0m\n",
            "\u001b[0;32m/usr/local/lib/python3.10/dist-packages/cryptography/hazmat/primitives/asymmetric/types.py\u001b[0m in \u001b[0;36m<module>\u001b[0;34m\u001b[0m\n\u001b[1;32m      8\u001b[0m \u001b[0;34m\u001b[0m\u001b[0m\n\u001b[1;32m      9\u001b[0m \u001b[0;32mfrom\u001b[0m \u001b[0mcryptography\u001b[0m \u001b[0;32mimport\u001b[0m \u001b[0mutils\u001b[0m\u001b[0;34m\u001b[0m\u001b[0;34m\u001b[0m\u001b[0m\n\u001b[0;32m---> 10\u001b[0;31m from cryptography.hazmat.primitives.asymmetric import (\n\u001b[0m\u001b[1;32m     11\u001b[0m     \u001b[0mdh\u001b[0m\u001b[0;34m,\u001b[0m\u001b[0;34m\u001b[0m\u001b[0;34m\u001b[0m\u001b[0m\n\u001b[1;32m     12\u001b[0m     \u001b[0mdsa\u001b[0m\u001b[0;34m,\u001b[0m\u001b[0;34m\u001b[0m\u001b[0;34m\u001b[0m\u001b[0m\n",
            "\u001b[0;32m/usr/local/lib/python3.10/dist-packages/cryptography/hazmat/primitives/asymmetric/ec.py\u001b[0m in \u001b[0;36m<module>\u001b[0;34m\u001b[0m\n\u001b[1;32m      9\u001b[0m \u001b[0;34m\u001b[0m\u001b[0m\n\u001b[1;32m     10\u001b[0m \u001b[0;32mfrom\u001b[0m \u001b[0mcryptography\u001b[0m \u001b[0;32mimport\u001b[0m \u001b[0mutils\u001b[0m\u001b[0;34m\u001b[0m\u001b[0;34m\u001b[0m\u001b[0m\n\u001b[0;32m---> 11\u001b[0;31m \u001b[0;32mfrom\u001b[0m \u001b[0mcryptography\u001b[0m\u001b[0;34m.\u001b[0m\u001b[0mhazmat\u001b[0m\u001b[0;34m.\u001b[0m\u001b[0m_oid\u001b[0m \u001b[0;32mimport\u001b[0m \u001b[0mObjectIdentifier\u001b[0m\u001b[0;34m\u001b[0m\u001b[0;34m\u001b[0m\u001b[0m\n\u001b[0m\u001b[1;32m     12\u001b[0m \u001b[0;32mfrom\u001b[0m \u001b[0mcryptography\u001b[0m\u001b[0;34m.\u001b[0m\u001b[0mhazmat\u001b[0m\u001b[0;34m.\u001b[0m\u001b[0mprimitives\u001b[0m \u001b[0;32mimport\u001b[0m \u001b[0m_serialization\u001b[0m\u001b[0;34m,\u001b[0m \u001b[0mhashes\u001b[0m\u001b[0;34m\u001b[0m\u001b[0;34m\u001b[0m\u001b[0m\n\u001b[1;32m     13\u001b[0m \u001b[0;32mfrom\u001b[0m \u001b[0mcryptography\u001b[0m\u001b[0;34m.\u001b[0m\u001b[0mhazmat\u001b[0m\u001b[0;34m.\u001b[0m\u001b[0mprimitives\u001b[0m\u001b[0;34m.\u001b[0m\u001b[0masymmetric\u001b[0m \u001b[0;32mimport\u001b[0m \u001b[0mutils\u001b[0m \u001b[0;32mas\u001b[0m \u001b[0masym_utils\u001b[0m\u001b[0;34m\u001b[0m\u001b[0;34m\u001b[0m\u001b[0m\n",
            "\u001b[0;32m/usr/local/lib/python3.10/dist-packages/cryptography/hazmat/_oid.py\u001b[0m in \u001b[0;36m<module>\u001b[0;34m\u001b[0m\n\u001b[1;32m     13\u001b[0m \u001b[0;34m\u001b[0m\u001b[0m\n\u001b[1;32m     14\u001b[0m \u001b[0;34m\u001b[0m\u001b[0m\n\u001b[0;32m---> 15\u001b[0;31m \u001b[0;32mclass\u001b[0m \u001b[0mExtensionOID\u001b[0m\u001b[0;34m:\u001b[0m\u001b[0;34m\u001b[0m\u001b[0;34m\u001b[0m\u001b[0m\n\u001b[0m\u001b[1;32m     16\u001b[0m     \u001b[0mSUBJECT_DIRECTORY_ATTRIBUTES\u001b[0m \u001b[0;34m=\u001b[0m \u001b[0mObjectIdentifier\u001b[0m\u001b[0;34m(\u001b[0m\u001b[0;34m\"2.5.29.9\"\u001b[0m\u001b[0;34m)\u001b[0m\u001b[0;34m\u001b[0m\u001b[0;34m\u001b[0m\u001b[0m\n\u001b[1;32m     17\u001b[0m     \u001b[0mSUBJECT_KEY_IDENTIFIER\u001b[0m \u001b[0;34m=\u001b[0m \u001b[0mObjectIdentifier\u001b[0m\u001b[0;34m(\u001b[0m\u001b[0;34m\"2.5.29.14\"\u001b[0m\u001b[0;34m)\u001b[0m\u001b[0;34m\u001b[0m\u001b[0;34m\u001b[0m\u001b[0m\n",
            "\u001b[0;32m/usr/local/lib/python3.10/dist-packages/cryptography/hazmat/_oid.py\u001b[0m in \u001b[0;36mExtensionOID\u001b[0;34m()\u001b[0m\n\u001b[1;32m     31\u001b[0m     \u001b[0mISSUING_DISTRIBUTION_POINT\u001b[0m \u001b[0;34m=\u001b[0m \u001b[0mObjectIdentifier\u001b[0m\u001b[0;34m(\u001b[0m\u001b[0;34m\"2.5.29.28\"\u001b[0m\u001b[0;34m)\u001b[0m\u001b[0;34m\u001b[0m\u001b[0;34m\u001b[0m\u001b[0m\n\u001b[1;32m     32\u001b[0m     \u001b[0mAUTHORITY_INFORMATION_ACCESS\u001b[0m \u001b[0;34m=\u001b[0m \u001b[0mObjectIdentifier\u001b[0m\u001b[0;34m(\u001b[0m\u001b[0;34m\"1.3.6.1.5.5.7.1.1\"\u001b[0m\u001b[0;34m)\u001b[0m\u001b[0;34m\u001b[0m\u001b[0;34m\u001b[0m\u001b[0m\n\u001b[0;32m---> 33\u001b[0;31m     \u001b[0mSUBJECT_INFORMATION_ACCESS\u001b[0m \u001b[0;34m=\u001b[0m \u001b[0mObjectIdentifier\u001b[0m\u001b[0;34m(\u001b[0m\u001b[0;34m\"1.3.6.1.5.5.7.1.11\"\u001b[0m\u001b[0;34m)\u001b[0m\u001b[0;34m\u001b[0m\u001b[0;34m\u001b[0m\u001b[0m\n\u001b[0m\u001b[1;32m     34\u001b[0m     \u001b[0mOCSP_NO_CHECK\u001b[0m \u001b[0;34m=\u001b[0m \u001b[0mObjectIdentifier\u001b[0m\u001b[0;34m(\u001b[0m\u001b[0;34m\"1.3.6.1.5.5.7.48.1.5\"\u001b[0m\u001b[0;34m)\u001b[0m\u001b[0;34m\u001b[0m\u001b[0;34m\u001b[0m\u001b[0m\n\u001b[1;32m     35\u001b[0m     \u001b[0mTLS_FEATURE\u001b[0m \u001b[0;34m=\u001b[0m \u001b[0mObjectIdentifier\u001b[0m\u001b[0;34m(\u001b[0m\u001b[0;34m\"1.3.6.1.5.5.7.1.24\"\u001b[0m\u001b[0;34m)\u001b[0m\u001b[0;34m\u001b[0m\u001b[0;34m\u001b[0m\u001b[0m\n",
            "\u001b[0;31mKeyboardInterrupt\u001b[0m: "
          ]
        }
      ],
      "source": [
        "import tensorflow as tf\n",
        "from tensorflow.keras import layers, models\n",
        "from sklearn.model_selection import train_test_split\n",
        "from sklearn.preprocessing import LabelEncoder\n",
        "from tensorflow.keras.models import Sequential\n",
        "from tensorflow.keras.layers import Dense\n",
        "from tensorflow.keras.optimizers import Adam\n",
        "\n",
        "\n",
        "df_tr=questionToMode_df.copy()\n",
        "#for label\n",
        "df_tr = pd.get_dummies(df_tr, columns=['Q16'], prefix='Q16')\n",
        "\n",
        "#for features\n",
        "label_encoder = LabelEncoder()\n",
        "categorical_columns = df_tr.columns[:-4]\n",
        "for col in categorical_columns:\n",
        "    df_tr[col] = label_encoder.fit_transform(df_tr[col])\n",
        "\n",
        "X = df_tr.drop(['Q16_0', 'Q16_1', 'Q16_2', 'Q16_3'], axis=1)\n",
        "y = df_tr[['Q16_0', 'Q16_1', 'Q16_2', 'Q16_3']]\n",
        "\n",
        "#train-test-split\n",
        "X_train, X_test, y_train, y_test = train_test_split(X, y, test_size=0.2, random_state=42)\n",
        "\n",
        "#model\n",
        "\n",
        "model = Sequential()\n",
        "model.add(Dense(256, input_dim=75, activation='relu'))\n",
        "model.add(Dense(128, activation='relu'))\n",
        "model.add(Dense(64, activation='relu'))\n",
        "model.add(Dense(4, activation='softmax'))\n",
        "\n",
        "\n",
        "\n",
        "\n",
        "model.compile(loss='categorical_crossentropy',\n",
        "              optimizer=Adam(learning_rate=0.001),\n",
        "              metrics=['accuracy'])\n",
        "\n",
        "\n",
        "model_result = model.fit(X_train, y_train, epochs=80,validation_data=(X_test, y_test))"
      ]
    },
    {
      "cell_type": "markdown",
      "metadata": {
        "id": "xrksmOBhWQAQ"
      },
      "source": [
        "### PyTorch Classifier"
      ]
    },
    {
      "cell_type": "code",
      "execution_count": 306,
      "metadata": {
        "colab": {
          "base_uri": "https://localhost:8080/"
        },
        "id": "Oaio8HLwWQAQ",
        "outputId": "867eb1b7-b3d6-4d0b-90ee-bbcab1a43b71"
      },
      "outputs": [
        {
          "name": "stdout",
          "output_type": "stream",
          "text": [
            "2.1.2+cpu\n"
          ]
        }
      ],
      "source": [
        "# Check Torch version\n",
        "import torch\n",
        "print(torch.__version__)"
      ]
    },
    {
      "cell_type": "code",
      "execution_count": 56,
      "metadata": {
        "id": "FJwRyYW6WQAQ"
      },
      "outputs": [],
      "source": [
        "def ConvertNumpyToTorch(x_train, x_test, y_train, y_test):\n",
        "    x_train, x_test = torch.from_numpy(x_train.values), torch.from_numpy(x_test.values)\n",
        "    y_train, y_test = torch.from_numpy(y_train.values), torch.from_numpy(y_test.values)\n",
        "    return x_train, x_test, y_train, y_test"
      ]
    },
    {
      "cell_type": "code",
      "execution_count": 307,
      "metadata": {
        "id": "6SwY4KihWQAQ"
      },
      "outputs": [],
      "source": [
        "from torch import nn\n",
        "from torch.nn.functional import one_hot\n",
        "\n",
        "def accuracy_fn(y_true, y_pred):\n",
        "    correct = torch.eq(y_true, y_pred).sum().item()\n",
        "    acc = (correct / len(y_pred)) * 100\n",
        "    return acc\n",
        "\n",
        "class PyTorchClassifier(nn.Module):\n",
        "    def __init__(self, input_layers, hidden_layers, output_layers):\n",
        "        super().__init__()\n",
        "        self.layer_1 = nn.Linear(in_features=input_layers, out_features=256).to(dtype=torch.float64)\n",
        "        self.relu = nn.ReLU()\n",
        "\n",
        "        self.layer_2= nn.Linear(in_features=256, out_features=128).to(dtype=torch.float64)\n",
        "        self.relu2 = nn.ReLU()\n",
        "\n",
        "        self.layer_6 = nn.Linear(in_features=128, out_features=32).to(dtype=torch.float64)\n",
        "        self.relu6 = nn.ReLU()\n",
        "\n",
        "        self.layer_7 = nn.Linear(in_features=32, out_features=4).to(dtype=torch.float64)\n",
        "        self.softmax = nn.Softmax(dim=1)\n",
        "\n",
        "    def forward(self, x):\n",
        "        x = self.relu(self.layer_1(x).to(dtype=torch.float64)).to(dtype=torch.float64)\n",
        "        x = self.relu2(self.layer_2(x).to(dtype=torch.float64)).to(dtype=torch.float64)\n",
        "        x = self.relu6(self.layer_6(x).to(dtype=torch.float64)).to(dtype=torch.float64)\n",
        "        x = self.layer_7(x).to(dtype=torch.float64)\n",
        "        x = x = self.softmax(x)\n",
        "        return x\n",
        "\n",
        "results_pytorch = []\n",
        "def PyTorch_TrainTest_Step(model: torch.nn.Module,\n",
        "                       x_train, x_test, y_train, y_test,\n",
        "                       loss_fn,\n",
        "                       accuracy_fn,\n",
        "                       optimizer: torch.optim.Optimizer,\n",
        "                       feature_elimination_name,\n",
        "                       scaler_name,\n",
        "                       epochs = 200):\n",
        "\n",
        "    best_accuracy, best_loss, best_epoch = 0, 0, 0\n",
        "    for epoch in range(epochs):\n",
        "        model.train()\n",
        "        y_pred = model(x_train.to(dtype=torch.float64))\n",
        "        loss = loss_fn(y_pred, y_train.squeeze().to(torch.long))\n",
        "\n",
        "        #acc = accuracy_fn(y_train.squeeze().to(torch.long), y_pred.argmax(dim = 1))\n",
        "        optimizer.zero_grad()\n",
        "        loss.backward()\n",
        "        optimizer.step()\n",
        "\n",
        "        model.eval()\n",
        "        with torch.inference_mode():\n",
        "            test_y_pred = model(x_test.to(dtype=torch.float64))\n",
        "            test_loss = loss_fn(test_y_pred, y_test.squeeze().to(torch.long))\n",
        "            test_acc = accuracy_fn(y_test.squeeze().to(torch.long), test_y_pred.argmax(dim = 1))\n",
        "            if(test_acc > best_accuracy):\n",
        "                best_accuracy, best_loss, best_epoch = test_acc, test_loss, epoch\n",
        "                if(epochs % 100 == 0):\n",
        "                    result = f\"Model: PyTorch Best Epoch: {best_epoch} | Best Loss: {best_loss:.5f} | Best Acc: {best_accuracy:.2f}%  with {feature_elimination_name}, {scaler_name},{type(loss_fn).__name__}, len = {x_train.size()[1]} and {type(optimizer).__name__}, lr = {optimizer.param_groups[0]['lr']}\"\n",
        "                    print(result)\n",
        "\n",
        "    with torch.inference_mode():\n",
        "        y_test_pred_proba = model(x_test.to(dtype=torch.float64))\n",
        "        y_test_pred = y_test_pred_proba.argmax(dim=1)\n",
        "        f1 = f1_score(y_test, y_test_pred, average='weighted')\n",
        "        recall = recall_score(y_test, y_test_pred, average='weighted')\n",
        "        precision = precision_score(y_test, y_test_pred, average='weighted')\n",
        "        mcc = matthews_corrcoef(y_test, y_test_pred)\n",
        "\n",
        "    results_pytorch.append(result)\n",
        "    print(f\"END OF ITERATION WITH FEATURES LEN = {x_train.size()[1]}\")\n",
        "\n",
        "    return {\n",
        "        \"Accuracy\": best_accuracy,\n",
        "        \"F1\": f1, \"Recall\": recall, \"Precision\": precision, \"Mcc\": mcc, \"Model_Name\": \"PyTorch\",\n",
        "        \"y_true\": y_test, \"y_predict_proba\": y_test_pred_proba.detach().numpy()[:, 0],\n",
        "        \"HyperParameters\": f\"Model: PyTorch Best Epoch: {best_epoch} | Best Loss: {best_loss:.5f} | Best Acc: {best_accuracy:.2f}%  with {feature_elimination_name}, {scaler_name},{type(loss_fn).__name__}, len = {x_train.size()[1]} and {type(optimizer).__name__}, lr = {optimizer.param_groups[0]['lr']}\"\n",
        "    }"
      ]
    },
    {
      "cell_type": "markdown",
      "metadata": {},
      "source": [
        "### Method For Finding Max Accuracy's Situation Details"
      ]
    },
    {
      "cell_type": "code",
      "execution_count": 308,
      "metadata": {
        "id": "mW9YdVguWQAR"
      },
      "outputs": [],
      "source": [
        "def FindBestModel(results_list):\n",
        "    best_accuracy = 0\n",
        "    best_accuracy_index = 0\n",
        "    for i in range(len(results_list)):\n",
        "        if(results_list[i]['Accuracy'] > best_accuracy):\n",
        "            best_accuracy_index = i\n",
        "    return best_accuracy_index"
      ]
    },
    {
      "cell_type": "markdown",
      "metadata": {
        "id": "qZmeaSQZWQAQ"
      },
      "source": [
        "### Method For Running Spesific Method with Spesific Parameters"
      ]
    },
    {
      "cell_type": "code",
      "execution_count": 316,
      "metadata": {
        "id": "B2l6lrG8WQAR"
      },
      "outputs": [],
      "source": [
        "from sklearn.exceptions import DataConversionWarning\n",
        "import warnings\n",
        "from sklearn.model_selection import KFold\n",
        "\n",
        "# Ignore specific warnings\n",
        "warnings.filterwarnings(\"ignore\", category=DataConversionWarning)\n",
        "warnings.filterwarnings(\"ignore\", category=DataConversionWarning)\n",
        "\n",
        "def RunThePredictAlgorithm(df, max_feature, scaling_method, FeatureEliminationMethod, MLORDLAlgorithm,\n",
        "                           IsPytorch = False,  loss_method = None, accuracy_method = None, optimizer_method = None, lr = 0.1, version_numer = 'V1',\n",
        "                           IsTensor = False,\n",
        "                           IsMultiClass = False) -> bool | None:\n",
        "    algorithms_results = []\n",
        "    if(scaling_method == 'min-max'):\n",
        "        X, y = min_max_scaled_items[\"X\"], min_max_scaled_items[\"y\"]\n",
        "    elif(scaling_method == 'standart'):\n",
        "        X, y = stc_scaled_items[\"X\"], stc_scaled_items[\"y\"]\n",
        "    elif(scaling_method == 'robust'):\n",
        "        X, y = robust_scaled_items[\"X\"], robust_scaled_items[\"y\"]\n",
        "    else:\n",
        "        print(\"Scaling method not acceptable try acceptable scaling_method ['min-max', 'standart', 'robust']\")\n",
        "        return False\n",
        "    num_fold = 2\n",
        "    kf = KFold(n_splits=num_fold, shuffle=True, random_state=42)\n",
        "\n",
        "    if IsPytorch == False and IsTensor == False:\n",
        "        for i in range(70, max_feature):\n",
        "          feature_eliminated_df = FeatureEliminationMethod(df=df, X=X, y=y, n_features_to_select=i)\n",
        "          X_new, y_new = DFToXAndY(feature_eliminated_df)\n",
        "          test_accuracies, f1, recall, precision, mcc, auc_score = 0, 0, 0, 0, 0, 0\n",
        "          # Iterate over the k folds\n",
        "          for train_index, test_index in kf.split(feature_eliminated_df):\n",
        "            x_train, x_test = X_new.iloc[train_index], X_new.iloc[test_index]\n",
        "            y_train, y_test = y_new.iloc[train_index],y_new.iloc[test_index]\n",
        "\n",
        "            result = MLORDLAlgorithm(x_train, x_test, y_train, y_test)\n",
        "            test_accuracies +=  result[\"Accuracy\"]\n",
        "            f1 += result[\"F1\"]\n",
        "            recall += result[\"Recall\"]\n",
        "            precision += result[\"Precision\"]\n",
        "            mcc += result[\"Mcc\"]\n",
        "            auc_score += result[\"Auc_score\"]\n",
        "            result[\"FeatureEliminationMethod\"] = FeatureEliminationMethod.__name__\n",
        "\n",
        "            # Modify your SaveResults function to handle k-fold results\n",
        "            SaveResults(result, str(MLORDLAlgorithm.__name__) + \"_\" + str(FeatureEliminationMethod.__name__) + \"_\" + scaling_method +'_' + version_numer + \".txt\")\n",
        "\n",
        "            algorithms_results.append(result)\n",
        "          # Calculate means\n",
        "          mean_test_accuracy = test_accuracies / num_fold\n",
        "          mean_f1 = f1 / num_fold\n",
        "          mean_recall = recall / num_fold\n",
        "          mean_precision = precision / num_fold\n",
        "          mean_mcc = mcc / num_fold\n",
        "          mean_auc_score = auc_score / num_fold\n",
        "          print(f\" Mean Test Accuracy: {mean_test_accuracy:.4f} \\n Mean f1: {mean_f1} \\n Mean_recall: {mean_recall} \\n Mean_Precision: {mean_precision} \\n Mean_Mcc: {mean_mcc} \\n Mean_Auc_Score: {mean_auc_score}\")\n",
        "\n",
        "        best_model_index = FindBestModel(algorithms_results)\n",
        "        print(\"******************************************************************************\")\n",
        "        print(f\"Best Accuracy: {algorithms_results[best_model_index]['Accuracy']:.4f} with:\\n\"\n",
        "            f\"f1: {algorithms_results[best_model_index]['F1']} \\n\"\n",
        "            f\"recall: {algorithms_results[best_model_index]['Recall']} \\n\"\n",
        "            f\"Precision: {algorithms_results[best_model_index]['Precision']} \\n\"\n",
        "            f\"Mcc: {algorithms_results[best_model_index]['Mcc']} \\n\"\n",
        "            f\"Auc_Score: {algorithms_results[best_model_index]['Auc_score']} \\n\"\n",
        "            f\"Parameters: {algorithms_results[best_model_index]['HyperParameters']}\")\n",
        "\n",
        "        if(IsMultiClass == True):\n",
        "            DrawRocCurveMultiClass(algorithms_results[best_model_index]['y_true'], algorithms_results[best_model_index]['y_predict_proba'])\n",
        "        else:\n",
        "            DrawRocCurve(algorithms_results[best_model_index]['y_true'], algorithms_results[best_model_index]['y_predict_proba'])\n",
        "\n",
        "    elif IsPytorch == True and IsTensor == False:\n",
        "        for i in range(70, max_feature):\n",
        "            feature_eliminated_df = FeatureEliminationMethod(df=df, X=X, y=y, n_features_to_select=i)\n",
        "            X_new, y_new = DFToXAndY(feature_eliminated_df)\n",
        "            test_accuracies, f1, recall, precision, mcc, auc_score = 0, 0, 0, 0, 0, 0\n",
        "            # Iterate over the k folds\n",
        "            for train_index, test_index in kf.split(feature_eliminated_df):\n",
        "                x_train, x_test = X_new.iloc[train_index], X_new.iloc[test_index]\n",
        "                y_train, y_test = y_new.iloc[train_index],y_new.iloc[test_index]\n",
        "\n",
        "                x_train, x_test, y_train, y_test = ConvertNumpyToTorch(x_train, x_test, y_train, y_test)\n",
        "\n",
        "                pytorch_model = PyTorchClassifier(x_train.shape[1], 256, len(y_train.unique()))\n",
        "\n",
        "                if optimizer_method == 'Adam':\n",
        "                    optimizer_fn = torch.optim.Adam(params = pytorch_model.parameters(), lr = lr)\n",
        "                elif optimizer_method == 'SGD':\n",
        "                    optimizer_fn = torch.optim.SGD(params = pytorch_model.parameters(), lr = lr)\n",
        "                else:\n",
        "                    print(\"You give a wrong optimizer name, pls try again. Accepted optimizer names = 'Adam' or 'SGD' \")\n",
        "                    return False\n",
        "\n",
        "                result = MLORDLAlgorithm(model = pytorch_model,\n",
        "                                    x_train = x_train.to(dtype=torch.float64), x_test = x_test.to(dtype=torch.float64), y_train = y_train.to(dtype=torch.float64), y_test = y_test.to(dtype=torch.float64),\n",
        "                                    loss_fn = loss_method,\n",
        "                                    accuracy_fn = accuracy_method,\n",
        "                                    optimizer = optimizer_fn,\n",
        "                                    feature_elimination_name = FeatureEliminationMethod.__name__,\n",
        "                                    scaler_name = scaling_method)\n",
        "                test_accuracies +=  result[\"Accuracy\"]\n",
        "                f1 += result[\"F1\"]\n",
        "                recall += result[\"Recall\"]\n",
        "                precision += result[\"Precision\"]\n",
        "                mcc += result[\"Mcc\"]\n",
        "                result[\"FeatureEliminationMethod\"] = FeatureEliminationMethod.__name__\n",
        "                SaveResults(result, txt_name=\"PyTorch\" + '' + str(FeatureEliminationMethod.__name__) + '_' + str(scaling_method) + '_' + 'optimizer_method' + '_' + str(lr) + '_' + version_numer +\".txt\")\n",
        "                algorithms_results.append(result)\n",
        "            # Calculate means\n",
        "            mean_test_accuracy = test_accuracies / num_fold\n",
        "            mean_f1 = f1 / num_fold\n",
        "            mean_recall = recall / num_fold\n",
        "            mean_precision = precision / num_fold\n",
        "            mean_mcc = mcc / num_fold\n",
        "            print(f\"Mean Test Accuracy: {mean_test_accuracy:.4f} \\n Mean f1: {mean_f1} \\n Mean_recall: {mean_recall} \\n Mean_Precision: {mean_precision} \\n Mean_Mcc: {mean_mcc} \\n\")\n",
        "\n",
        "        best_model_index = FindBestModel(algorithms_results)\n",
        "        print(\"******************************************************************************\")\n",
        "        print(f\"Best Accuracy: {algorithms_results[best_model_index]['Accuracy']:.4f} with:\\n\"\n",
        "            f\"f1: {algorithms_results[best_model_index]['F1']} \\n\"\n",
        "            f\"recall: {algorithms_results[best_model_index]['Recall']} \\n\"\n",
        "            f\"Precision: {algorithms_results[best_model_index]['Precision']} \\n\"\n",
        "            f\"Mcc: {algorithms_results[best_model_index]['Mcc']} \\n\"\n",
        "            f\"Parameters: {algorithms_results[best_model_index]['HyperParameters']}\")\n",
        "\n",
        "        if(IsMultiClass == True):\n",
        "            DrawRocCurveMultiClass(algorithms_results[best_model_index]['y_true'], algorithms_results[best_model_index]['y_predict_proba'])\n",
        "        else:\n",
        "            DrawRocCurve(algorithms_results[best_model_index]['y_true'], algorithms_results[best_model_index]['y_predict_proba'])\n",
        "    elif IsPytorch == False and IsTensor == True:\n",
        "        return True\n",
        "\n",
        "    else:\n",
        "        print(\"You can just set True IsPytorch or IsTensor at the same time, try again\")\n",
        "        return False"
      ]
    },
    {
      "cell_type": "markdown",
      "metadata": {},
      "source": [
        "### Run The Algorithms with V1 DataFrame (just null values cleared)"
      ]
    },
    {
      "cell_type": "code",
      "execution_count": 311,
      "metadata": {
        "id": "spRsQrjqhl3Q",
        "outputId": "b5165c30-3067-493e-a6a9-f080827ea224"
      },
      "outputs": [
        {
          "name": "stdout",
          "output_type": "stream",
          "text": [
            "Best accuracy is = 0.6368696791093648, with criterion = entropy max_depth = None metrics and fetaure len = 70\n"
          ]
        },
        {
          "ename": "ValueError",
          "evalue": "multi_class must be in ('ovo', 'ovr')",
          "output_type": "error",
          "traceback": [
            "\u001b[1;31m---------------------------------------------------------------------------\u001b[0m",
            "\u001b[1;31mValueError\u001b[0m                                Traceback (most recent call last)",
            "Input \u001b[1;32mIn [311]\u001b[0m, in \u001b[0;36m<cell line: 1>\u001b[1;34m()\u001b[0m\n\u001b[1;32m----> 1\u001b[0m \u001b[43mRunThePredictAlgorithm\u001b[49m\u001b[43m(\u001b[49m\u001b[43mquestionToMode_df\u001b[49m\u001b[43m,\u001b[49m\u001b[43m \u001b[49m\u001b[38;5;241;43m71\u001b[39;49m\u001b[43m,\u001b[49m\u001b[43m \u001b[49m\u001b[38;5;124;43m'\u001b[39;49m\u001b[38;5;124;43mmin-max\u001b[39;49m\u001b[38;5;124;43m'\u001b[39;49m\u001b[43m,\u001b[49m\u001b[43m \u001b[49m\u001b[43mRFEFeatureElimination\u001b[49m\u001b[43m,\u001b[49m\u001b[43m \u001b[49m\u001b[43mRandomForest\u001b[49m\u001b[43m,\u001b[49m\u001b[43m \u001b[49m\u001b[43mversion_numer\u001b[49m\u001b[38;5;241;43m=\u001b[39;49m\u001b[43m \u001b[49m\u001b[38;5;124;43m'\u001b[39;49m\u001b[38;5;124;43mV1\u001b[39;49m\u001b[38;5;124;43m'\u001b[39;49m\u001b[43m)\u001b[49m\n",
            "Input \u001b[1;32mIn [309]\u001b[0m, in \u001b[0;36mRunThePredictAlgorithm\u001b[1;34m(df, max_feature, scaling_method, FeatureEliminationMethod, MLORDLAlgorithm, IsPytorch, loss_method, accuracy_method, optimizer_method, lr, version_numer, IsTensor)\u001b[0m\n\u001b[0;32m     32\u001b[0m x_train, x_test \u001b[38;5;241m=\u001b[39m X_new\u001b[38;5;241m.\u001b[39miloc[train_index], X_new\u001b[38;5;241m.\u001b[39miloc[test_index]\n\u001b[0;32m     33\u001b[0m y_train, y_test \u001b[38;5;241m=\u001b[39m y_new\u001b[38;5;241m.\u001b[39miloc[train_index],y_new\u001b[38;5;241m.\u001b[39miloc[test_index]\n\u001b[1;32m---> 35\u001b[0m result \u001b[38;5;241m=\u001b[39m \u001b[43mMLORDLAlgorithm\u001b[49m\u001b[43m(\u001b[49m\u001b[43mx_train\u001b[49m\u001b[43m,\u001b[49m\u001b[43m \u001b[49m\u001b[43mx_test\u001b[49m\u001b[43m,\u001b[49m\u001b[43m \u001b[49m\u001b[43my_train\u001b[49m\u001b[43m,\u001b[49m\u001b[43m \u001b[49m\u001b[43my_test\u001b[49m\u001b[43m)\u001b[49m\n\u001b[0;32m     36\u001b[0m test_accuracies \u001b[38;5;241m+\u001b[39m\u001b[38;5;241m=\u001b[39m  result[\u001b[38;5;124m\"\u001b[39m\u001b[38;5;124mAccuracy\u001b[39m\u001b[38;5;124m\"\u001b[39m]\n\u001b[0;32m     37\u001b[0m f1 \u001b[38;5;241m+\u001b[39m\u001b[38;5;241m=\u001b[39m result[\u001b[38;5;124m\"\u001b[39m\u001b[38;5;124mF1\u001b[39m\u001b[38;5;124m\"\u001b[39m]\n",
            "Input \u001b[1;32mIn [299]\u001b[0m, in \u001b[0;36mRandomForest\u001b[1;34m(x_train, x_test, y_train, y_test)\u001b[0m\n\u001b[0;32m     43\u001b[0m             best_accuracy, best_criterion, best_depth \u001b[38;5;241m=\u001b[39m accuracy, criterion_changer, max_depth_changer\n\u001b[0;32m     44\u001b[0m \u001b[38;5;28mprint\u001b[39m(\u001b[38;5;124mf\u001b[39m\u001b[38;5;124m\"\u001b[39m\u001b[38;5;124mBest accuracy is = \u001b[39m\u001b[38;5;132;01m{\u001b[39;00mbest_accuracy\u001b[38;5;132;01m}\u001b[39;00m\u001b[38;5;124m, with criterion = \u001b[39m\u001b[38;5;132;01m{\u001b[39;00mbest_criterion\u001b[38;5;132;01m}\u001b[39;00m\u001b[38;5;124m max_depth = \u001b[39m\u001b[38;5;132;01m{\u001b[39;00mbest_depth\u001b[38;5;132;01m}\u001b[39;00m\u001b[38;5;124m metrics and fetaure len = \u001b[39m\u001b[38;5;132;01m{\u001b[39;00m\u001b[38;5;28mlen\u001b[39m(x_train\u001b[38;5;241m.\u001b[39mcolumns)\u001b[38;5;132;01m}\u001b[39;00m\u001b[38;5;124m\"\u001b[39m)\n\u001b[1;32m---> 45\u001b[0m f1, recall, precision, mcc, auc_score \u001b[38;5;241m=\u001b[39m \u001b[43mFindNecessaryMetrics\u001b[49m\u001b[43m(\u001b[49m\u001b[43my_test\u001b[49m\u001b[43m,\u001b[49m\u001b[43m \u001b[49m\u001b[43my_pred\u001b[49m\u001b[43m,\u001b[49m\u001b[43m \u001b[49m\u001b[43my_predict_proba\u001b[49m\u001b[43m)\u001b[49m\n\u001b[0;32m     46\u001b[0m \u001b[38;5;28;01mreturn\u001b[39;00m {\u001b[38;5;124m\"\u001b[39m\u001b[38;5;124mAccuracy\u001b[39m\u001b[38;5;124m\"\u001b[39m: best_accuracy,\n\u001b[0;32m     47\u001b[0m         \u001b[38;5;124m\"\u001b[39m\u001b[38;5;124mF1\u001b[39m\u001b[38;5;124m\"\u001b[39m: f1, \u001b[38;5;124m\"\u001b[39m\u001b[38;5;124mRecall\u001b[39m\u001b[38;5;124m\"\u001b[39m: recall, \u001b[38;5;124m\"\u001b[39m\u001b[38;5;124mPrecision\u001b[39m\u001b[38;5;124m\"\u001b[39m: precision, \u001b[38;5;124m\"\u001b[39m\u001b[38;5;124mMcc\u001b[39m\u001b[38;5;124m\"\u001b[39m: mcc, \u001b[38;5;124m\"\u001b[39m\u001b[38;5;124mAuc_score\u001b[39m\u001b[38;5;124m\"\u001b[39m: auc_score,\n\u001b[0;32m     48\u001b[0m         \u001b[38;5;124m\"\u001b[39m\u001b[38;5;124my_true\u001b[39m\u001b[38;5;124m\"\u001b[39m: y_test, \u001b[38;5;124m\"\u001b[39m\u001b[38;5;124my_predict_proba\u001b[39m\u001b[38;5;124m\"\u001b[39m: y_predict_proba,\n\u001b[0;32m     49\u001b[0m         \u001b[38;5;124m\"\u001b[39m\u001b[38;5;124mModel_Name\u001b[39m\u001b[38;5;124m\"\u001b[39m: \u001b[38;5;124m\"\u001b[39m\u001b[38;5;124mRandomForest\u001b[39m\u001b[38;5;124m\"\u001b[39m,\n\u001b[0;32m     50\u001b[0m         \u001b[38;5;124m\"\u001b[39m\u001b[38;5;124mHyperParameters\u001b[39m\u001b[38;5;124m\"\u001b[39m: \u001b[38;5;124mf\u001b[39m\u001b[38;5;124m\"\u001b[39m\u001b[38;5;124mbest_criterion: \u001b[39m\u001b[38;5;132;01m{\u001b[39;00mbest_criterion\u001b[38;5;132;01m}\u001b[39;00m\u001b[38;5;124m, max_depth:\u001b[39m\u001b[38;5;132;01m{\u001b[39;00mbest_depth\u001b[38;5;132;01m}\u001b[39;00m\u001b[38;5;124m fetaure len = \u001b[39m\u001b[38;5;132;01m{\u001b[39;00m\u001b[38;5;28mlen\u001b[39m(x_train\u001b[38;5;241m.\u001b[39mcolumns)\u001b[38;5;132;01m}\u001b[39;00m\u001b[38;5;124m\"\u001b[39m}\n",
            "Input \u001b[1;32mIn [291]\u001b[0m, in \u001b[0;36mFindNecessaryMetrics\u001b[1;34m(y_true, y_predicted, y_predict_proba)\u001b[0m\n\u001b[0;32m     77\u001b[0m mcc \u001b[38;5;241m=\u001b[39m matthews_corrcoef(y_true, y_predicted)\n\u001b[0;32m     79\u001b[0m \u001b[38;5;66;03m# AUC\u001b[39;00m\n\u001b[1;32m---> 80\u001b[0m auc_score \u001b[38;5;241m=\u001b[39m \u001b[43mroc_auc_score\u001b[49m\u001b[43m(\u001b[49m\u001b[43my_true\u001b[49m\u001b[43m,\u001b[49m\u001b[43my_predict_proba\u001b[49m\u001b[43m)\u001b[49m\n\u001b[0;32m     82\u001b[0m \u001b[38;5;28;01mreturn\u001b[39;00m f1, recall, precision, mcc, auc_score\n",
            "File \u001b[1;32mc:\\Users\\AMD\\AppData\\Local\\Programs\\Python\\Python310\\lib\\site-packages\\sklearn\\metrics\\_ranking.py:560\u001b[0m, in \u001b[0;36mroc_auc_score\u001b[1;34m(y_true, y_score, average, sample_weight, max_fpr, multi_class, labels)\u001b[0m\n\u001b[0;32m    553\u001b[0m         \u001b[38;5;28;01mraise\u001b[39;00m \u001b[38;5;167;01mValueError\u001b[39;00m(\n\u001b[0;32m    554\u001b[0m             \u001b[38;5;124m\"\u001b[39m\u001b[38;5;124mPartial AUC computation not available in \u001b[39m\u001b[38;5;124m\"\u001b[39m\n\u001b[0;32m    555\u001b[0m             \u001b[38;5;124m\"\u001b[39m\u001b[38;5;124mmulticlass setting, \u001b[39m\u001b[38;5;124m'\u001b[39m\u001b[38;5;124mmax_fpr\u001b[39m\u001b[38;5;124m'\u001b[39m\u001b[38;5;124m must be\u001b[39m\u001b[38;5;124m\"\u001b[39m\n\u001b[0;32m    556\u001b[0m             \u001b[38;5;124m\"\u001b[39m\u001b[38;5;124m set to `None`, received `max_fpr=\u001b[39m\u001b[38;5;132;01m{0}\u001b[39;00m\u001b[38;5;124m` \u001b[39m\u001b[38;5;124m\"\u001b[39m\n\u001b[0;32m    557\u001b[0m             \u001b[38;5;124m\"\u001b[39m\u001b[38;5;124minstead\u001b[39m\u001b[38;5;124m\"\u001b[39m\u001b[38;5;241m.\u001b[39mformat(max_fpr)\n\u001b[0;32m    558\u001b[0m         )\n\u001b[0;32m    559\u001b[0m     \u001b[38;5;28;01mif\u001b[39;00m multi_class \u001b[38;5;241m==\u001b[39m \u001b[38;5;124m\"\u001b[39m\u001b[38;5;124mraise\u001b[39m\u001b[38;5;124m\"\u001b[39m:\n\u001b[1;32m--> 560\u001b[0m         \u001b[38;5;28;01mraise\u001b[39;00m \u001b[38;5;167;01mValueError\u001b[39;00m(\u001b[38;5;124m\"\u001b[39m\u001b[38;5;124mmulti_class must be in (\u001b[39m\u001b[38;5;124m'\u001b[39m\u001b[38;5;124movo\u001b[39m\u001b[38;5;124m'\u001b[39m\u001b[38;5;124m, \u001b[39m\u001b[38;5;124m'\u001b[39m\u001b[38;5;124movr\u001b[39m\u001b[38;5;124m'\u001b[39m\u001b[38;5;124m)\u001b[39m\u001b[38;5;124m\"\u001b[39m)\n\u001b[0;32m    561\u001b[0m     \u001b[38;5;28;01mreturn\u001b[39;00m _multiclass_roc_auc_score(\n\u001b[0;32m    562\u001b[0m         y_true, y_score, labels, multi_class, average, sample_weight\n\u001b[0;32m    563\u001b[0m     )\n\u001b[0;32m    564\u001b[0m \u001b[38;5;28;01melif\u001b[39;00m y_type \u001b[38;5;241m==\u001b[39m \u001b[38;5;124m\"\u001b[39m\u001b[38;5;124mbinary\u001b[39m\u001b[38;5;124m\"\u001b[39m:\n",
            "\u001b[1;31mValueError\u001b[0m: multi_class must be in ('ovo', 'ovr')"
          ]
        }
      ],
      "source": [
        "RunThePredictAlgorithm(questionToMode_df, 71, 'min-max', RFEFeatureElimination, RandomForest, version_numer= 'V1')"
      ]
    },
    {
      "cell_type": "code",
      "execution_count": null,
      "metadata": {
        "id": "vj0RsPK-WQAR",
        "outputId": "d7ca3678-3f44-4351-c6f6-b68d59941aaa"
      },
      "outputs": [
        {
          "ename": "KeyboardInterrupt",
          "evalue": "",
          "output_type": "error",
          "traceback": [
            "\u001b[1;31m---------------------------------------------------------------------------\u001b[0m",
            "\u001b[1;31mKeyboardInterrupt\u001b[0m                         Traceback (most recent call last)",
            "Input \u001b[1;32mIn [138]\u001b[0m, in \u001b[0;36m<cell line: 2>\u001b[1;34m()\u001b[0m\n\u001b[0;32m      1\u001b[0m \u001b[38;5;66;03m# Run RandomForest wiit RFEFeatureElimination and min-max scaler\u001b[39;00m\n\u001b[1;32m----> 2\u001b[0m \u001b[43mRunThePredictAlgorithm\u001b[49m\u001b[43m(\u001b[49m\u001b[43mquestionToMode_df\u001b[49m\u001b[43m,\u001b[49m\u001b[43m \u001b[49m\u001b[38;5;241;43m75\u001b[39;49m\u001b[43m,\u001b[49m\u001b[43m \u001b[49m\u001b[38;5;124;43m'\u001b[39;49m\u001b[38;5;124;43mmin-max\u001b[39;49m\u001b[38;5;124;43m'\u001b[39;49m\u001b[43m,\u001b[49m\u001b[43m \u001b[49m\u001b[43mRFEFeatureElimination\u001b[49m\u001b[43m,\u001b[49m\u001b[43m \u001b[49m\u001b[43mRandomForest\u001b[49m\u001b[43m,\u001b[49m\u001b[43m \u001b[49m\u001b[43mversion_numer\u001b[49m\u001b[38;5;241;43m=\u001b[39;49m\u001b[43m \u001b[49m\u001b[38;5;124;43m'\u001b[39;49m\u001b[38;5;124;43mV6\u001b[39;49m\u001b[38;5;124;43m'\u001b[39;49m\u001b[43m)\u001b[49m\n",
            "Input \u001b[1;32mIn [72]\u001b[0m, in \u001b[0;36mRunThePredictAlgorithm\u001b[1;34m(df, max_feature, scaling_method, FeatureEliminationMethod, MLORDLAlgorithm, IsPytorch, loss_method, accuracy_method, optimizer_method, lr, version_numer, IsTensor)\u001b[0m\n\u001b[0;32m     26\u001b[0m feature_eliminated_df \u001b[38;5;241m=\u001b[39m FeatureEliminationMethod(df \u001b[38;5;241m=\u001b[39m df, X \u001b[38;5;241m=\u001b[39m X, y \u001b[38;5;241m=\u001b[39m y, n_features_to_select \u001b[38;5;241m=\u001b[39m i)\n\u001b[0;32m     27\u001b[0m x_train, x_test, y_train, y_test \u001b[38;5;241m=\u001b[39m train_test_split_modified(feature_eliminated_df)\n\u001b[1;32m---> 28\u001b[0m result \u001b[38;5;241m=\u001b[39m \u001b[43mMLORDLAlgorithm\u001b[49m\u001b[43m(\u001b[49m\u001b[43mx_train\u001b[49m\u001b[43m,\u001b[49m\u001b[43m \u001b[49m\u001b[43mx_test\u001b[49m\u001b[43m,\u001b[49m\u001b[43m \u001b[49m\u001b[43my_train\u001b[49m\u001b[43m,\u001b[49m\u001b[43m \u001b[49m\u001b[43my_test\u001b[49m\u001b[43m)\u001b[49m\n\u001b[0;32m     29\u001b[0m result[\u001b[38;5;124m\"\u001b[39m\u001b[38;5;124mFeatureEliminationMethod\u001b[39m\u001b[38;5;124m\"\u001b[39m] \u001b[38;5;241m=\u001b[39m FeatureEliminationMethod\u001b[38;5;241m.\u001b[39m\u001b[38;5;18m__name__\u001b[39m\n\u001b[0;32m     30\u001b[0m SaveResults(result, \u001b[38;5;28mstr\u001b[39m(MLORDLAlgorithm\u001b[38;5;241m.\u001b[39m\u001b[38;5;18m__name__\u001b[39m) \u001b[38;5;241m+\u001b[39m \u001b[38;5;124m\"\u001b[39m\u001b[38;5;124m_\u001b[39m\u001b[38;5;124m\"\u001b[39m \u001b[38;5;241m+\u001b[39m \u001b[38;5;28mstr\u001b[39m(FeatureEliminationMethod\u001b[38;5;241m.\u001b[39m\u001b[38;5;18m__name__\u001b[39m) \u001b[38;5;241m+\u001b[39m \u001b[38;5;124m\"\u001b[39m\u001b[38;5;124m_\u001b[39m\u001b[38;5;124m\"\u001b[39m \u001b[38;5;241m+\u001b[39m scaling_method \u001b[38;5;241m+\u001b[39m\u001b[38;5;124m'\u001b[39m\u001b[38;5;124m_\u001b[39m\u001b[38;5;124m'\u001b[39m \u001b[38;5;241m+\u001b[39m version_numer \u001b[38;5;241m+\u001b[39m\u001b[38;5;124m\"\u001b[39m\u001b[38;5;124m.txt\u001b[39m\u001b[38;5;124m\"\u001b[39m)\n",
            "Input \u001b[1;32mIn [137]\u001b[0m, in \u001b[0;36mRandomForest\u001b[1;34m(x_train, x_test, y_train, y_test)\u001b[0m\n\u001b[0;32m     13\u001b[0m \u001b[38;5;28;01mfor\u001b[39;00m max_depth_changer \u001b[38;5;129;01min\u001b[39;00m [\u001b[38;5;28;01mNone\u001b[39;00m,\u001b[38;5;241m5\u001b[39m,\u001b[38;5;241m10\u001b[39m,\u001b[38;5;241m15\u001b[39m,\u001b[38;5;241m20\u001b[39m,\u001b[38;5;241m25\u001b[39m,\u001b[38;5;241m30\u001b[39m,\u001b[38;5;241m35\u001b[39m,\u001b[38;5;241m40\u001b[39m,\u001b[38;5;241m45\u001b[39m,\u001b[38;5;241m50\u001b[39m]:\n\u001b[0;32m     14\u001b[0m     RandomForestClf \u001b[38;5;241m=\u001b[39m RandomForestClassifier(criterion\u001b[38;5;241m=\u001b[39m criterion_changer, max_depth\u001b[38;5;241m=\u001b[39mmax_depth_changer, random_state\u001b[38;5;241m=\u001b[39m\u001b[38;5;241m1\u001b[39m)\n\u001b[1;32m---> 15\u001b[0m     \u001b[43mRandomForestClf\u001b[49m\u001b[38;5;241;43m.\u001b[39;49m\u001b[43mfit\u001b[49m\u001b[43m(\u001b[49m\u001b[43mx_train\u001b[49m\u001b[43m,\u001b[49m\u001b[43m \u001b[49m\u001b[43my_train\u001b[49m\u001b[43m)\u001b[49m\n\u001b[0;32m     16\u001b[0m     y_pred \u001b[38;5;241m=\u001b[39m RandomForestClf\u001b[38;5;241m.\u001b[39mpredict(x_test)\n\u001b[0;32m     17\u001b[0m     accuracy \u001b[38;5;241m=\u001b[39m accuracy_score(y_test, y_pred)\n",
            "File \u001b[1;32mc:\\Users\\AMD\\AppData\\Local\\Programs\\Python\\Python310\\lib\\site-packages\\sklearn\\ensemble\\_forest.py:439\u001b[0m, in \u001b[0;36mBaseForest.fit\u001b[1;34m(self, X, y, sample_weight)\u001b[0m\n\u001b[0;32m    434\u001b[0m \u001b[38;5;28;01mif\u001b[39;00m \u001b[38;5;28mself\u001b[39m\u001b[38;5;241m.\u001b[39mwarm_start \u001b[38;5;129;01mand\u001b[39;00m \u001b[38;5;28mlen\u001b[39m(\u001b[38;5;28mself\u001b[39m\u001b[38;5;241m.\u001b[39mestimators_) \u001b[38;5;241m>\u001b[39m \u001b[38;5;241m0\u001b[39m:\n\u001b[0;32m    435\u001b[0m     \u001b[38;5;66;03m# We draw from the random state to get the random state we\u001b[39;00m\n\u001b[0;32m    436\u001b[0m     \u001b[38;5;66;03m# would have got if we hadn't used a warm_start.\u001b[39;00m\n\u001b[0;32m    437\u001b[0m     random_state\u001b[38;5;241m.\u001b[39mrandint(MAX_INT, size\u001b[38;5;241m=\u001b[39m\u001b[38;5;28mlen\u001b[39m(\u001b[38;5;28mself\u001b[39m\u001b[38;5;241m.\u001b[39mestimators_))\n\u001b[1;32m--> 439\u001b[0m trees \u001b[38;5;241m=\u001b[39m [\n\u001b[0;32m    440\u001b[0m     \u001b[38;5;28mself\u001b[39m\u001b[38;5;241m.\u001b[39m_make_estimator(append\u001b[38;5;241m=\u001b[39m\u001b[38;5;28;01mFalse\u001b[39;00m, random_state\u001b[38;5;241m=\u001b[39mrandom_state)\n\u001b[0;32m    441\u001b[0m     \u001b[38;5;28;01mfor\u001b[39;00m i \u001b[38;5;129;01min\u001b[39;00m \u001b[38;5;28mrange\u001b[39m(n_more_estimators)\n\u001b[0;32m    442\u001b[0m ]\n\u001b[0;32m    444\u001b[0m \u001b[38;5;66;03m# Parallel loop: we prefer the threading backend as the Cython code\u001b[39;00m\n\u001b[0;32m    445\u001b[0m \u001b[38;5;66;03m# for fitting the trees is internally releasing the Python GIL\u001b[39;00m\n\u001b[0;32m    446\u001b[0m \u001b[38;5;66;03m# making threading more efficient than multiprocessing in\u001b[39;00m\n\u001b[0;32m    447\u001b[0m \u001b[38;5;66;03m# that case. However, for joblib 0.12+ we respect any\u001b[39;00m\n\u001b[0;32m    448\u001b[0m \u001b[38;5;66;03m# parallel_backend contexts set at a higher level,\u001b[39;00m\n\u001b[0;32m    449\u001b[0m \u001b[38;5;66;03m# since correctness does not rely on using threads.\u001b[39;00m\n\u001b[0;32m    450\u001b[0m trees \u001b[38;5;241m=\u001b[39m Parallel(\n\u001b[0;32m    451\u001b[0m     n_jobs\u001b[38;5;241m=\u001b[39m\u001b[38;5;28mself\u001b[39m\u001b[38;5;241m.\u001b[39mn_jobs,\n\u001b[0;32m    452\u001b[0m     verbose\u001b[38;5;241m=\u001b[39m\u001b[38;5;28mself\u001b[39m\u001b[38;5;241m.\u001b[39mverbose,\n\u001b[1;32m   (...)\u001b[0m\n\u001b[0;32m    467\u001b[0m     \u001b[38;5;28;01mfor\u001b[39;00m i, t \u001b[38;5;129;01min\u001b[39;00m \u001b[38;5;28menumerate\u001b[39m(trees)\n\u001b[0;32m    468\u001b[0m )\n",
            "File \u001b[1;32mc:\\Users\\AMD\\AppData\\Local\\Programs\\Python\\Python310\\lib\\site-packages\\sklearn\\ensemble\\_forest.py:440\u001b[0m, in \u001b[0;36m<listcomp>\u001b[1;34m(.0)\u001b[0m\n\u001b[0;32m    434\u001b[0m \u001b[38;5;28;01mif\u001b[39;00m \u001b[38;5;28mself\u001b[39m\u001b[38;5;241m.\u001b[39mwarm_start \u001b[38;5;129;01mand\u001b[39;00m \u001b[38;5;28mlen\u001b[39m(\u001b[38;5;28mself\u001b[39m\u001b[38;5;241m.\u001b[39mestimators_) \u001b[38;5;241m>\u001b[39m \u001b[38;5;241m0\u001b[39m:\n\u001b[0;32m    435\u001b[0m     \u001b[38;5;66;03m# We draw from the random state to get the random state we\u001b[39;00m\n\u001b[0;32m    436\u001b[0m     \u001b[38;5;66;03m# would have got if we hadn't used a warm_start.\u001b[39;00m\n\u001b[0;32m    437\u001b[0m     random_state\u001b[38;5;241m.\u001b[39mrandint(MAX_INT, size\u001b[38;5;241m=\u001b[39m\u001b[38;5;28mlen\u001b[39m(\u001b[38;5;28mself\u001b[39m\u001b[38;5;241m.\u001b[39mestimators_))\n\u001b[0;32m    439\u001b[0m trees \u001b[38;5;241m=\u001b[39m [\n\u001b[1;32m--> 440\u001b[0m     \u001b[38;5;28;43mself\u001b[39;49m\u001b[38;5;241;43m.\u001b[39;49m\u001b[43m_make_estimator\u001b[49m\u001b[43m(\u001b[49m\u001b[43mappend\u001b[49m\u001b[38;5;241;43m=\u001b[39;49m\u001b[38;5;28;43;01mFalse\u001b[39;49;00m\u001b[43m,\u001b[49m\u001b[43m \u001b[49m\u001b[43mrandom_state\u001b[49m\u001b[38;5;241;43m=\u001b[39;49m\u001b[43mrandom_state\u001b[49m\u001b[43m)\u001b[49m\n\u001b[0;32m    441\u001b[0m     \u001b[38;5;28;01mfor\u001b[39;00m i \u001b[38;5;129;01min\u001b[39;00m \u001b[38;5;28mrange\u001b[39m(n_more_estimators)\n\u001b[0;32m    442\u001b[0m ]\n\u001b[0;32m    444\u001b[0m \u001b[38;5;66;03m# Parallel loop: we prefer the threading backend as the Cython code\u001b[39;00m\n\u001b[0;32m    445\u001b[0m \u001b[38;5;66;03m# for fitting the trees is internally releasing the Python GIL\u001b[39;00m\n\u001b[0;32m    446\u001b[0m \u001b[38;5;66;03m# making threading more efficient than multiprocessing in\u001b[39;00m\n\u001b[0;32m    447\u001b[0m \u001b[38;5;66;03m# that case. However, for joblib 0.12+ we respect any\u001b[39;00m\n\u001b[0;32m    448\u001b[0m \u001b[38;5;66;03m# parallel_backend contexts set at a higher level,\u001b[39;00m\n\u001b[0;32m    449\u001b[0m \u001b[38;5;66;03m# since correctness does not rely on using threads.\u001b[39;00m\n\u001b[0;32m    450\u001b[0m trees \u001b[38;5;241m=\u001b[39m Parallel(\n\u001b[0;32m    451\u001b[0m     n_jobs\u001b[38;5;241m=\u001b[39m\u001b[38;5;28mself\u001b[39m\u001b[38;5;241m.\u001b[39mn_jobs,\n\u001b[0;32m    452\u001b[0m     verbose\u001b[38;5;241m=\u001b[39m\u001b[38;5;28mself\u001b[39m\u001b[38;5;241m.\u001b[39mverbose,\n\u001b[1;32m   (...)\u001b[0m\n\u001b[0;32m    467\u001b[0m     \u001b[38;5;28;01mfor\u001b[39;00m i, t \u001b[38;5;129;01min\u001b[39;00m \u001b[38;5;28menumerate\u001b[39m(trees)\n\u001b[0;32m    468\u001b[0m )\n",
            "File \u001b[1;32mc:\\Users\\AMD\\AppData\\Local\\Programs\\Python\\Python310\\lib\\site-packages\\sklearn\\ensemble\\_base.py:158\u001b[0m, in \u001b[0;36mBaseEnsemble._make_estimator\u001b[1;34m(self, append, random_state)\u001b[0m\n\u001b[0;32m    152\u001b[0m \u001b[38;5;28;01mdef\u001b[39;00m \u001b[38;5;21m_make_estimator\u001b[39m(\u001b[38;5;28mself\u001b[39m, append\u001b[38;5;241m=\u001b[39m\u001b[38;5;28;01mTrue\u001b[39;00m, random_state\u001b[38;5;241m=\u001b[39m\u001b[38;5;28;01mNone\u001b[39;00m):\n\u001b[0;32m    153\u001b[0m     \u001b[38;5;124;03m\"\"\"Make and configure a copy of the `base_estimator_` attribute.\u001b[39;00m\n\u001b[0;32m    154\u001b[0m \n\u001b[0;32m    155\u001b[0m \u001b[38;5;124;03m    Warning: This method should be used to properly instantiate new\u001b[39;00m\n\u001b[0;32m    156\u001b[0m \u001b[38;5;124;03m    sub-estimators.\u001b[39;00m\n\u001b[0;32m    157\u001b[0m \u001b[38;5;124;03m    \"\"\"\u001b[39;00m\n\u001b[1;32m--> 158\u001b[0m     estimator \u001b[38;5;241m=\u001b[39m \u001b[43mclone\u001b[49m\u001b[43m(\u001b[49m\u001b[38;5;28;43mself\u001b[39;49m\u001b[38;5;241;43m.\u001b[39;49m\u001b[43mbase_estimator_\u001b[49m\u001b[43m)\u001b[49m\n\u001b[0;32m    159\u001b[0m     estimator\u001b[38;5;241m.\u001b[39mset_params(\u001b[38;5;241m*\u001b[39m\u001b[38;5;241m*\u001b[39m{p: \u001b[38;5;28mgetattr\u001b[39m(\u001b[38;5;28mself\u001b[39m, p) \u001b[38;5;28;01mfor\u001b[39;00m p \u001b[38;5;129;01min\u001b[39;00m \u001b[38;5;28mself\u001b[39m\u001b[38;5;241m.\u001b[39mestimator_params})\n\u001b[0;32m    161\u001b[0m     \u001b[38;5;66;03m# TODO: Remove in v1.2\u001b[39;00m\n\u001b[0;32m    162\u001b[0m     \u001b[38;5;66;03m# criterion \"mse\" and \"mae\" would cause warnings in every call to\u001b[39;00m\n\u001b[0;32m    163\u001b[0m     \u001b[38;5;66;03m# DecisionTreeRegressor.fit(..)\u001b[39;00m\n",
            "File \u001b[1;32mc:\\Users\\AMD\\AppData\\Local\\Programs\\Python\\Python310\\lib\\site-packages\\sklearn\\base.py:84\u001b[0m, in \u001b[0;36mclone\u001b[1;34m(estimator, safe)\u001b[0m\n\u001b[0;32m     76\u001b[0m             \u001b[38;5;28;01mraise\u001b[39;00m \u001b[38;5;167;01mTypeError\u001b[39;00m(\n\u001b[0;32m     77\u001b[0m                 \u001b[38;5;124m\"\u001b[39m\u001b[38;5;124mCannot clone object \u001b[39m\u001b[38;5;124m'\u001b[39m\u001b[38;5;132;01m%s\u001b[39;00m\u001b[38;5;124m'\u001b[39m\u001b[38;5;124m (type \u001b[39m\u001b[38;5;132;01m%s\u001b[39;00m\u001b[38;5;124m): \u001b[39m\u001b[38;5;124m\"\u001b[39m\n\u001b[0;32m     78\u001b[0m                 \u001b[38;5;124m\"\u001b[39m\u001b[38;5;124mit does not seem to be a scikit-learn \u001b[39m\u001b[38;5;124m\"\u001b[39m\n\u001b[0;32m     79\u001b[0m                 \u001b[38;5;124m\"\u001b[39m\u001b[38;5;124mestimator as it does not implement a \u001b[39m\u001b[38;5;124m\"\u001b[39m\n\u001b[0;32m     80\u001b[0m                 \u001b[38;5;124m\"\u001b[39m\u001b[38;5;124m'\u001b[39m\u001b[38;5;124mget_params\u001b[39m\u001b[38;5;124m'\u001b[39m\u001b[38;5;124m method.\u001b[39m\u001b[38;5;124m\"\u001b[39m \u001b[38;5;241m%\u001b[39m (\u001b[38;5;28mrepr\u001b[39m(estimator), \u001b[38;5;28mtype\u001b[39m(estimator))\n\u001b[0;32m     81\u001b[0m             )\n\u001b[0;32m     83\u001b[0m klass \u001b[38;5;241m=\u001b[39m estimator\u001b[38;5;241m.\u001b[39m\u001b[38;5;18m__class__\u001b[39m\n\u001b[1;32m---> 84\u001b[0m new_object_params \u001b[38;5;241m=\u001b[39m \u001b[43mestimator\u001b[49m\u001b[38;5;241;43m.\u001b[39;49m\u001b[43mget_params\u001b[49m\u001b[43m(\u001b[49m\u001b[43mdeep\u001b[49m\u001b[38;5;241;43m=\u001b[39;49m\u001b[38;5;28;43;01mFalse\u001b[39;49;00m\u001b[43m)\u001b[49m\n\u001b[0;32m     85\u001b[0m \u001b[38;5;28;01mfor\u001b[39;00m name, param \u001b[38;5;129;01min\u001b[39;00m new_object_params\u001b[38;5;241m.\u001b[39mitems():\n\u001b[0;32m     86\u001b[0m     new_object_params[name] \u001b[38;5;241m=\u001b[39m clone(param, safe\u001b[38;5;241m=\u001b[39m\u001b[38;5;28;01mFalse\u001b[39;00m)\n",
            "File \u001b[1;32mc:\\Users\\AMD\\AppData\\Local\\Programs\\Python\\Python310\\lib\\site-packages\\sklearn\\base.py:210\u001b[0m, in \u001b[0;36mBaseEstimator.get_params\u001b[1;34m(self, deep)\u001b[0m\n\u001b[0;32m    208\u001b[0m out \u001b[38;5;241m=\u001b[39m \u001b[38;5;28mdict\u001b[39m()\n\u001b[0;32m    209\u001b[0m \u001b[38;5;28;01mfor\u001b[39;00m key \u001b[38;5;129;01min\u001b[39;00m \u001b[38;5;28mself\u001b[39m\u001b[38;5;241m.\u001b[39m_get_param_names():\n\u001b[1;32m--> 210\u001b[0m     value \u001b[38;5;241m=\u001b[39m \u001b[38;5;28;43mgetattr\u001b[39;49m\u001b[43m(\u001b[49m\u001b[38;5;28;43mself\u001b[39;49m\u001b[43m,\u001b[49m\u001b[43m \u001b[49m\u001b[43mkey\u001b[49m\u001b[43m)\u001b[49m\n\u001b[0;32m    211\u001b[0m     \u001b[38;5;28;01mif\u001b[39;00m deep \u001b[38;5;129;01mand\u001b[39;00m \u001b[38;5;28mhasattr\u001b[39m(value, \u001b[38;5;124m\"\u001b[39m\u001b[38;5;124mget_params\u001b[39m\u001b[38;5;124m\"\u001b[39m):\n\u001b[0;32m    212\u001b[0m         deep_items \u001b[38;5;241m=\u001b[39m value\u001b[38;5;241m.\u001b[39mget_params()\u001b[38;5;241m.\u001b[39mitems()\n",
            "\u001b[1;31mKeyboardInterrupt\u001b[0m: "
          ]
        }
      ],
      "source": [
        "# Run RandomForest wiit RFEFeatureElimination and min-max scaler\n",
        "RunThePredictAlgorithm(questionToMode_df, 75, 'min-max', RFEFeatureElimination, RandomForest, version_numer= 'V6')\n",
        "\n",
        "# Run RandomForest wiit RFEFeatureElimination and robust scaler\n",
        "#RunThePredictAlgorithm(questionToMode_df, 75, 'robust', RFEFeatureElimination, RandomForest)\n",
        "\n",
        "# Run RandomForest wiit RFEFeatureElimination and standart scaler\n",
        "#RunThePredictAlgorithm(questionToMode_df, 75, 'standart', RFEFeatureElimination, RandomForest)"
      ]
    },
    {
      "cell_type": "code",
      "execution_count": null,
      "metadata": {
        "id": "Ws31btg_NVvJ"
      },
      "outputs": [],
      "source": [
        "# Run GradientBoosting wiit RFEFeatureElimination and min-max scaler\n",
        "RunThePredictAlgorithm(questionToMode_df, 75, 'min-max', RFEFeatureElimination, GradientBoosting)"
      ]
    },
    {
      "cell_type": "code",
      "execution_count": null,
      "metadata": {
        "id": "f7ecTlkxZdmV"
      },
      "outputs": [],
      "source": [
        "# Run NonlinearSVM wiit RFEFeatureElimination and min-max scaler\n",
        "RunThePredictAlgorithm(questionToMode_df, 25, 'min-max', RFEFeatureElimination, NonlinearSVM)"
      ]
    },
    {
      "cell_type": "code",
      "execution_count": null,
      "metadata": {
        "id": "2rbbBWrndTBr"
      },
      "outputs": [],
      "source": [
        "# Run MultinomialNaiveBayes wiit RFEFeatureElimination and min-max scaler\n",
        "RunThePredictAlgorithm(questionToMode_df, 10, 'min-max', RFEFeatureElimination, MultinomialNaiveBayes)"
      ]
    },
    {
      "cell_type": "code",
      "execution_count": null,
      "metadata": {
        "id": "WBVboFt4h3T9"
      },
      "outputs": [],
      "source": [
        "# Run DecisionTree wiit RFEFeatureElimination and min-max scaler\n",
        "RunThePredictAlgorithm(questionToMode_df, 25, 'min-max', RFEFeatureElimination, DecisionTree)"
      ]
    },
    {
      "cell_type": "code",
      "execution_count": null,
      "metadata": {
        "id": "KhdrIdHlmO0E"
      },
      "outputs": [],
      "source": [
        "# Run AdaBoost wiit RFEFeatureElimination and min-max scaler\n",
        "RunThePredictAlgorithm(questionToMode_df, 25, 'min-max', RFEFeatureElimination, AdaBoost) #0.57 max"
      ]
    },
    {
      "cell_type": "code",
      "execution_count": null,
      "metadata": {
        "id": "xVQ36rnmNVvK"
      },
      "outputs": [],
      "source": [
        "# Run StockGradientDescent wiit RFEFeatureElimination and min-max scaler\n",
        "RunThePredictAlgorithm(questionToMode_df, 25, 'min-max', RFEFeatureElimination, StockGradientDescent) #0.5"
      ]
    },
    {
      "cell_type": "code",
      "execution_count": null,
      "metadata": {
        "id": "iEcxkDQDWQAR"
      },
      "outputs": [],
      "source": [
        "print(algorithms_results[FindBestModel(algorithms_results)])"
      ]
    },
    {
      "cell_type": "markdown",
      "metadata": {
        "id": "HqE9bF6OG_ai"
      },
      "source": [
        "### Combıne Target Values Method"
      ]
    },
    {
      "cell_type": "code",
      "execution_count": 117,
      "metadata": {
        "id": "u_J6BdZIG_qC"
      },
      "outputs": [],
      "source": [
        "from sklearn.neighbors import KNeighborsClassifier\n",
        "import pandas as pd\n",
        "\n",
        "def CombineTargets(X, y):\n",
        "    count = 0\n",
        "    knn = KNeighborsClassifier(n_neighbors=75)\n",
        "    knn.fit(X, y)\n",
        "\n",
        "    y_pred = knn.predict(X)\n",
        "    y_copy = y.copy()\n",
        "    drop_indices = []\n",
        "    for i in range(len(y_copy)):\n",
        "        if y_copy.iloc[i, 0] in [2, 3]:\n",
        "            # Find the indices of the 5 nearest neighbors\n",
        "            indices = knn.kneighbors([X.iloc[i, :]], 75, return_distance=False)[0]\n",
        "            if(pd.Series(y_pred[indices]).mode().iloc[0] in [2,3]):\n",
        "                drop_indices.append(i)\n",
        "                count += 1\n",
        "            else:\n",
        "                # Replace the value with the majority class among neighbors\n",
        "                majority_class = pd.Series(y_pred[indices]).mode().iloc[0]\n",
        "                y_copy.iloc[i, 0] = majority_class\n",
        "    print(f\"Will Dropped {count}s sample from 2 and 3 because, most of sample in the 2 and 3 class most similar samples equals to the class 0 and 1, so we convert 2 and 3 to 0 and 1\")\n",
        "    return y_copy, drop_indices"
      ]
    },
    {
      "cell_type": "markdown",
      "metadata": {
        "id": "vPdQhniHhl3R"
      },
      "source": [
        "### Fix The Imbalance Data"
      ]
    },
    {
      "cell_type": "code",
      "execution_count": 173,
      "metadata": {},
      "outputs": [
        {
          "name": "stdout",
          "output_type": "stream",
          "text": [
            "Lenght of 0's 2883\n",
            "Lenght of 1's 2883\n",
            "Lenght of 2's 2883\n",
            "Lenght of 3's 2883\n"
          ]
        }
      ],
      "source": [
        "from imblearn.over_sampling import SMOTEN\n",
        "warnings.filterwarnings(\"ignore\", category=UserWarning, module=\"sklearn\")\n",
        "\n",
        "def XAndYToDF(X, y):\n",
        "    df = pd.concat([X, y], axis = 1)\n",
        "    return df\n",
        "\n",
        "def OverSampling(X, y, random_state=None, k_neighbors=5):\n",
        "    oversample = SMOTEN(random_state=random_state, k_neighbors=k_neighbors)\n",
        "    X_oversampled, y_oversampled = oversample.fit_resample(X, y)\n",
        "    return X_oversampled, y_oversampled\n",
        "\n",
        "X, y = DFToXAndY(questionToMode_df)\n",
        "X_oversampled, y_oversampled = OverSampling(X, y, random_state=42, k_neighbors=5)\n",
        "oversampling_df = XAndYToDF(X_oversampled, y_oversampled)\n",
        "PrintTheTargetColumnsRange(oversampling_df)"
      ]
    },
    {
      "cell_type": "code",
      "execution_count": 174,
      "metadata": {
        "colab": {
          "base_uri": "https://localhost:8080/"
        },
        "id": "x_sesDjFhl3R",
        "outputId": "cbfa651e-8a93-4494-bd7a-4abed002f919"
      },
      "outputs": [
        {
          "name": "stdout",
          "output_type": "stream",
          "text": [
            "Will Dropped 0s sample from 2 and 3 because, most of sample in the 2 and 3 class most similar samples equals to the class 0 and 1, so we convert 2 and 3 to 0 and 1\n",
            "Lenght of 0's 4570\n",
            "Lenght of 1's 1538\n",
            "Lenght of 2's 0\n",
            "Lenght of 3's 0\n",
            "-----------------------------\n",
            "Lenght of 0's 4570\n",
            "Lenght of 1's 4570\n",
            "Lenght of 2's 0\n",
            "Lenght of 3's 0\n"
          ]
        }
      ],
      "source": [
        "warnings.filterwarnings(\"ignore\", category=UserWarning, module=\"sklearn\")\n",
        "\n",
        "X, y = DFToXAndY(questionToMode_df)\n",
        "y, indices_to_drop = CombineTargets(X, y)\n",
        "combined_df = XAndYToDF(X, y)\n",
        "PrintTheTargetColumnsRange(combined_df)\n",
        "print(\"-----------------------------\")\n",
        "X = X.drop(indices_to_drop)\n",
        "y = y.drop(indices_to_drop)\n",
        "\n",
        "X_oversampled2, y_oversampled2 = OverSampling(X, y, random_state=42, k_neighbors=5)\n",
        "oversampling_df2 = XAndYToDF(X_oversampled2, y_oversampled2)\n",
        "PrintTheTargetColumnsRange(oversampling_df2)"
      ]
    },
    {
      "cell_type": "code",
      "execution_count": 239,
      "metadata": {
        "colab": {
          "base_uri": "https://localhost:8080/",
          "height": 374
        },
        "id": "gB9WE_8Chl3R",
        "outputId": "486ce4da-cf36-40a4-912d-981561d7fbb7"
      },
      "outputs": [
        {
          "name": "stdout",
          "output_type": "stream",
          "text": [
            "Best accuracy is = 0.8409190371991248, with criterion = gini max_depth = 40 metrics and fetaure len = 74\n",
            "Best accuracy is = 0.825601750547046, with criterion = entropy max_depth = 30 metrics and fetaure len = 74\n",
            " Mean Test Accuracy: 0.8333 \n",
            " Mean f1: 0.8304117813495229 \n",
            " Mean_recall: 0.8309628008752735 \n",
            " Mean_Precision: 0.8356965637869935 \n",
            " Mean_Mcc: 0.6666111558093757 \n",
            " Mean_Auc_Score: 0.9138428303188229\n",
            "******************************************************************************\n",
            "Best Accuracy: 0.8256 with:\n",
            "f1: 0.8227849976928021 \n",
            "recall: 0.8234135667396061 \n",
            "Precision: 0.8303864154644408 \n",
            "Mcc: 0.6541210571209557 \n",
            "Auc_Score: 0.9089740764868179 \n",
            "Parameters: best_criterion: entropy, max_depth:30 fetaure len = 74\n"
          ]
        },
        {
          "data": {
            "image/png": "[encoded data removed]",
            "text/plain": [
              "<Figure size 576x432 with 1 Axes>"
            ]
          },
          "metadata": {
            "needs_background": "light"
          },
          "output_type": "display_data"
        }
      ],
      "source": [
        "RunThePredictAlgorithm(oversampling_df2, 75, 'min-max', RFEFeatureElimination, RandomForest, version_numer='V3')"
      ]
    },
    {
      "cell_type": "code",
      "execution_count": 254,
      "metadata": {
        "colab": {
          "background_save": true,
          "base_uri": "https://localhost:8080/"
        },
        "id": "ZahAD654hl3S",
        "outputId": "17ae16d3-a6da-46aa-d3a3-6d4d43ccfead"
      },
      "outputs": [
        {
          "name": "stdout",
          "output_type": "stream",
          "text": [
            "Model: PyTorch Best Epoch: 0 | Best Loss: 1.20227 | Best Acc: 50.98%  with RFEFeatureElimination, min-max,CrossEntropyLoss, len = 70 and Adam, lr = 0.001\n",
            "Model: PyTorch Best Epoch: 160 | Best Loss: 1.22997 | Best Acc: 51.23%  with RFEFeatureElimination, min-max,CrossEntropyLoss, len = 70 and Adam, lr = 0.001\n",
            "Model: PyTorch Best Epoch: 161 | Best Loss: 1.20157 | Best Acc: 54.07%  with RFEFeatureElimination, min-max,CrossEntropyLoss, len = 70 and Adam, lr = 0.001\n",
            "Model: PyTorch Best Epoch: 162 | Best Loss: 1.19675 | Best Acc: 54.68%  with RFEFeatureElimination, min-max,CrossEntropyLoss, len = 70 and Adam, lr = 0.001\n",
            "Model: PyTorch Best Epoch: 163 | Best Loss: 1.15648 | Best Acc: 58.42%  with RFEFeatureElimination, min-max,CrossEntropyLoss, len = 70 and Adam, lr = 0.001\n",
            "END OF FIRST ITERATION WITH FEATURES LEN = 70\n",
            "Model: PyTorch Best Epoch: 0 | Best Loss: 1.24032 | Best Acc: 50.98%  with RFEFeatureElimination, min-max,CrossEntropyLoss, len = 70 and Adam, lr = 0.001\n",
            "Model: PyTorch Best Epoch: 130 | Best Loss: 1.23341 | Best Acc: 51.01%  with RFEFeatureElimination, min-max,CrossEntropyLoss, len = 70 and Adam, lr = 0.001\n",
            "Model: PyTorch Best Epoch: 131 | Best Loss: 1.23324 | Best Acc: 51.09%  with RFEFeatureElimination, min-max,CrossEntropyLoss, len = 70 and Adam, lr = 0.001\n",
            "Model: PyTorch Best Epoch: 147 | Best Loss: 1.23253 | Best Acc: 51.14%  with RFEFeatureElimination, min-max,CrossEntropyLoss, len = 70 and Adam, lr = 0.001\n",
            "Model: PyTorch Best Epoch: 153 | Best Loss: 1.23209 | Best Acc: 51.16%  with RFEFeatureElimination, min-max,CrossEntropyLoss, len = 70 and Adam, lr = 0.001\n",
            "Model: PyTorch Best Epoch: 155 | Best Loss: 1.23176 | Best Acc: 51.18%  with RFEFeatureElimination, min-max,CrossEntropyLoss, len = 70 and Adam, lr = 0.001\n",
            "Model: PyTorch Best Epoch: 156 | Best Loss: 1.23144 | Best Acc: 51.20%  with RFEFeatureElimination, min-max,CrossEntropyLoss, len = 70 and Adam, lr = 0.001\n",
            "Model: PyTorch Best Epoch: 157 | Best Loss: 1.23094 | Best Acc: 51.27%  with RFEFeatureElimination, min-max,CrossEntropyLoss, len = 70 and Adam, lr = 0.001\n",
            "Model: PyTorch Best Epoch: 158 | Best Loss: 1.23031 | Best Acc: 51.36%  with RFEFeatureElimination, min-max,CrossEntropyLoss, len = 70 and Adam, lr = 0.001\n",
            "Model: PyTorch Best Epoch: 165 | Best Loss: 1.22992 | Best Acc: 51.47%  with RFEFeatureElimination, min-max,CrossEntropyLoss, len = 70 and Adam, lr = 0.001\n",
            "Model: PyTorch Best Epoch: 166 | Best Loss: 1.22938 | Best Acc: 51.49%  with RFEFeatureElimination, min-max,CrossEntropyLoss, len = 70 and Adam, lr = 0.001\n",
            "Model: PyTorch Best Epoch: 177 | Best Loss: 1.14747 | Best Acc: 57.51%  with RFEFeatureElimination, min-max,CrossEntropyLoss, len = 70 and Adam, lr = 0.001\n",
            "END OF FIRST ITERATION WITH FEATURES LEN = 70\n",
            "Mean Test Accuracy: 57.9650 \n",
            " Mean f1: 0.3260176852027602 \n",
            " Mean_recall: 0.49168490153172867 \n",
            " Mean_Precision: 0.4796090642002862 \n",
            " Mean_Mcc: 0.025353586992317153 \n",
            "\n",
            "Model: PyTorch Best Epoch: 0 | Best Loss: 1.32208 | Best Acc: 45.49%  with RFEFeatureElimination, min-max,CrossEntropyLoss, len = 70 and Adam, lr = 0.001\n",
            "Model: PyTorch Best Epoch: 1 | Best Loss: 1.28460 | Best Acc: 48.27%  with RFEFeatureElimination, min-max,CrossEntropyLoss, len = 70 and Adam, lr = 0.001\n",
            "Model: PyTorch Best Epoch: 2 | Best Loss: 1.27649 | Best Acc: 48.73%  with RFEFeatureElimination, min-max,CrossEntropyLoss, len = 70 and Adam, lr = 0.001\n",
            "Model: PyTorch Best Epoch: 3 | Best Loss: 1.27111 | Best Acc: 48.86%  with RFEFeatureElimination, min-max,CrossEntropyLoss, len = 70 and Adam, lr = 0.001\n",
            "Model: PyTorch Best Epoch: 4 | Best Loss: 1.26735 | Best Acc: 49.02%  with RFEFeatureElimination, min-max,CrossEntropyLoss, len = 70 and Adam, lr = 0.001\n",
            "Model: PyTorch Best Epoch: 5 | Best Loss: 1.26454 | Best Acc: 49.06%  with RFEFeatureElimination, min-max,CrossEntropyLoss, len = 70 and Adam, lr = 0.001\n",
            "Model: PyTorch Best Epoch: 30 | Best Loss: 1.25343 | Best Acc: 49.08%  with RFEFeatureElimination, min-max,CrossEntropyLoss, len = 70 and Adam, lr = 0.001\n",
            "Model: PyTorch Best Epoch: 35 | Best Loss: 1.25320 | Best Acc: 49.10%  with RFEFeatureElimination, min-max,CrossEntropyLoss, len = 70 and Adam, lr = 0.001\n",
            "Model: PyTorch Best Epoch: 37 | Best Loss: 1.25320 | Best Acc: 49.12%  with RFEFeatureElimination, min-max,CrossEntropyLoss, len = 70 and Adam, lr = 0.001\n",
            "Model: PyTorch Best Epoch: 41 | Best Loss: 1.25280 | Best Acc: 49.17%  with RFEFeatureElimination, min-max,CrossEntropyLoss, len = 70 and Adam, lr = 0.001\n",
            "Model: PyTorch Best Epoch: 45 | Best Loss: 1.25248 | Best Acc: 49.23%  with RFEFeatureElimination, min-max,CrossEntropyLoss, len = 70 and Adam, lr = 0.001\n",
            "Model: PyTorch Best Epoch: 50 | Best Loss: 1.25159 | Best Acc: 49.26%  with RFEFeatureElimination, min-max,CrossEntropyLoss, len = 70 and Adam, lr = 0.001\n",
            "Model: PyTorch Best Epoch: 53 | Best Loss: 1.25129 | Best Acc: 49.28%  with RFEFeatureElimination, min-max,CrossEntropyLoss, len = 70 and Adam, lr = 0.001\n",
            "Model: PyTorch Best Epoch: 54 | Best Loss: 1.25104 | Best Acc: 49.30%  with RFEFeatureElimination, min-max,CrossEntropyLoss, len = 70 and Adam, lr = 0.001\n",
            "Model: PyTorch Best Epoch: 56 | Best Loss: 1.25098 | Best Acc: 49.32%  with RFEFeatureElimination, min-max,CrossEntropyLoss, len = 70 and Adam, lr = 0.001\n",
            "Model: PyTorch Best Epoch: 58 | Best Loss: 1.25065 | Best Acc: 49.34%  with RFEFeatureElimination, min-max,CrossEntropyLoss, len = 70 and Adam, lr = 0.001\n",
            "Model: PyTorch Best Epoch: 59 | Best Loss: 1.25072 | Best Acc: 49.37%  with RFEFeatureElimination, min-max,CrossEntropyLoss, len = 70 and Adam, lr = 0.001\n",
            "Model: PyTorch Best Epoch: 63 | Best Loss: 1.25019 | Best Acc: 49.39%  with RFEFeatureElimination, min-max,CrossEntropyLoss, len = 70 and Adam, lr = 0.001\n",
            "Model: PyTorch Best Epoch: 66 | Best Loss: 1.25009 | Best Acc: 49.41%  with RFEFeatureElimination, min-max,CrossEntropyLoss, len = 70 and Adam, lr = 0.001\n",
            "Model: PyTorch Best Epoch: 69 | Best Loss: 1.25001 | Best Acc: 49.43%  with RFEFeatureElimination, min-max,CrossEntropyLoss, len = 70 and Adam, lr = 0.001\n",
            "Model: PyTorch Best Epoch: 70 | Best Loss: 1.24951 | Best Acc: 49.47%  with RFEFeatureElimination, min-max,CrossEntropyLoss, len = 70 and Adam, lr = 0.001\n",
            "Model: PyTorch Best Epoch: 75 | Best Loss: 1.24920 | Best Acc: 49.50%  with RFEFeatureElimination, min-max,CrossEntropyLoss, len = 70 and Adam, lr = 0.001\n",
            "Model: PyTorch Best Epoch: 84 | Best Loss: 1.24750 | Best Acc: 49.58%  with RFEFeatureElimination, min-max,CrossEntropyLoss, len = 70 and Adam, lr = 0.001\n",
            "Model: PyTorch Best Epoch: 86 | Best Loss: 1.24630 | Best Acc: 49.72%  with RFEFeatureElimination, min-max,CrossEntropyLoss, len = 70 and Adam, lr = 0.001\n",
            "Model: PyTorch Best Epoch: 87 | Best Loss: 1.24548 | Best Acc: 49.76%  with RFEFeatureElimination, min-max,CrossEntropyLoss, len = 70 and Adam, lr = 0.001\n",
            "Model: PyTorch Best Epoch: 88 | Best Loss: 1.23996 | Best Acc: 50.28%  with RFEFeatureElimination, min-max,CrossEntropyLoss, len = 70 and Adam, lr = 0.001\n",
            "Model: PyTorch Best Epoch: 89 | Best Loss: 1.23669 | Best Acc: 50.44%  with RFEFeatureElimination, min-max,CrossEntropyLoss, len = 70 and Adam, lr = 0.001\n",
            "Model: PyTorch Best Epoch: 90 | Best Loss: 1.19774 | Best Acc: 54.40%  with RFEFeatureElimination, min-max,CrossEntropyLoss, len = 70 and Adam, lr = 0.001\n",
            "Model: PyTorch Best Epoch: 133 | Best Loss: 1.19271 | Best Acc: 54.86%  with RFEFeatureElimination, min-max,CrossEntropyLoss, len = 70 and Adam, lr = 0.001\n",
            "Model: PyTorch Best Epoch: 134 | Best Loss: 1.09056 | Best Acc: 65.10%  with RFEFeatureElimination, min-max,CrossEntropyLoss, len = 70 and Adam, lr = 0.001\n",
            "END OF FIRST ITERATION WITH FEATURES LEN = 70\n",
            "Model: PyTorch Best Epoch: 0 | Best Loss: 1.24258 | Best Acc: 51.05%  with RFEFeatureElimination, min-max,CrossEntropyLoss, len = 70 and Adam, lr = 0.001\n",
            "Model: PyTorch Best Epoch: 65 | Best Loss: 1.23307 | Best Acc: 51.09%  with RFEFeatureElimination, min-max,CrossEntropyLoss, len = 70 and Adam, lr = 0.001\n",
            "Model: PyTorch Best Epoch: 73 | Best Loss: 1.23268 | Best Acc: 51.12%  with RFEFeatureElimination, min-max,CrossEntropyLoss, len = 70 and Adam, lr = 0.001\n",
            "Model: PyTorch Best Epoch: 74 | Best Loss: 1.23259 | Best Acc: 51.14%  with RFEFeatureElimination, min-max,CrossEntropyLoss, len = 70 and Adam, lr = 0.001\n",
            "Model: PyTorch Best Epoch: 77 | Best Loss: 1.23237 | Best Acc: 51.16%  with RFEFeatureElimination, min-max,CrossEntropyLoss, len = 70 and Adam, lr = 0.001\n",
            "Model: PyTorch Best Epoch: 81 | Best Loss: 1.23179 | Best Acc: 51.18%  with RFEFeatureElimination, min-max,CrossEntropyLoss, len = 70 and Adam, lr = 0.001\n",
            "Model: PyTorch Best Epoch: 83 | Best Loss: 1.23112 | Best Acc: 51.29%  with RFEFeatureElimination, min-max,CrossEntropyLoss, len = 70 and Adam, lr = 0.001\n",
            "Model: PyTorch Best Epoch: 86 | Best Loss: 1.23033 | Best Acc: 51.31%  with RFEFeatureElimination, min-max,CrossEntropyLoss, len = 70 and Adam, lr = 0.001\n",
            "Model: PyTorch Best Epoch: 95 | Best Loss: 1.22659 | Best Acc: 51.51%  with RFEFeatureElimination, min-max,CrossEntropyLoss, len = 70 and Adam, lr = 0.001\n",
            "Model: PyTorch Best Epoch: 114 | Best Loss: 1.22196 | Best Acc: 52.06%  with RFEFeatureElimination, min-max,CrossEntropyLoss, len = 70 and Adam, lr = 0.001\n",
            "Model: PyTorch Best Epoch: 115 | Best Loss: 1.19540 | Best Acc: 54.77%  with RFEFeatureElimination, min-max,CrossEntropyLoss, len = 70 and Adam, lr = 0.001\n",
            "END OF FIRST ITERATION WITH FEATURES LEN = 70\n",
            "Mean Test Accuracy: 59.9344 \n",
            " Mean f1: 0.33339079358998913 \n",
            " Mean_recall: 0.5 \n",
            " Mean_Precision: 0.25009696000459664 \n",
            " Mean_Mcc: 0.0 \n",
            "\n",
            "******************************************************************************\n",
            "Best Accuracy: 54.7702 with:\n",
            "f1: 0.3443313354263787 \n",
            "recall: 0.5098468271334792 \n",
            "Precision: 0.25994378713807587 \n",
            "Mcc: 0.0 \n",
            "Parameters: Model: PyTorch Best Epoch: 115 | Best Loss: 1.19540 | Best Acc: 54.77%  with RFEFeatureElimination, min-max,CrossEntropyLoss, len = 70 and Adam, lr = 0.001\n"
          ]
        },
        {
          "data": {
            "image/png": "[encoded data removed]",
            "text/plain": [
              "<Figure size 576x432 with 1 Axes>"
            ]
          },
          "metadata": {
            "needs_background": "light"
          },
          "output_type": "display_data"
        }
      ],
      "source": [
        "RunThePredictAlgorithm(oversampling_df2, 70, 'min-max', RFEFeatureElimination, PyTorch_TrainTest_Step,\n",
        "                       True, accuracy_method= accuracy_fn, loss_method=nn.CrossEntropyLoss(), optimizer_method='Adam', lr = 0.001, version_numer='V4')"
      ]
    },
    {
      "cell_type": "code",
      "execution_count": null,
      "metadata": {
        "id": "vNIgDJPkhl3S",
        "outputId": "bfd77c6b-60b5-4ca0-a6df-f7ca67c869c9"
      },
      "outputs": [
        {
          "name": "stdout",
          "output_type": "stream",
          "text": [
            "Best accuracy is = 0.44597249508840864, with criterion = entropy max_depth = 5 metrics and fetaure len = 1\n",
            "Best accuracy is = 0.527177472167649, with criterion = entropy max_depth = 5 metrics and fetaure len = 2\n",
            "Best accuracy is = 0.5337262606417813, with criterion = entropy max_depth = 5 metrics and fetaure len = 3\n",
            "Best accuracy is = 0.5690897184020957, with criterion = entropy max_depth = 5 metrics and fetaure len = 4\n",
            "Best accuracy is = 0.5867714472822528, with criterion = gini max_depth = 5 metrics and fetaure len = 5\n",
            "Best accuracy is = 0.5756385068762279, with criterion = gini max_depth = 5 metrics and fetaure len = 6\n",
            "Best accuracy is = 0.5782580222658809, with criterion = entropy max_depth = 10 metrics and fetaure len = 7\n",
            "Best accuracy is = 0.5789129011132941, with criterion = gini max_depth = 10 metrics and fetaure len = 8\n",
            "Best accuracy is = 0.601833660772757, with criterion = gini max_depth = 10 metrics and fetaure len = 9\n",
            "Best accuracy is = 0.5985592665356909, with criterion = entropy max_depth = 10 metrics and fetaure len = 10\n",
            "Best accuracy is = 0.601833660772757, with criterion = gini max_depth = 10 metrics and fetaure len = 11\n",
            "Best accuracy is = 0.6031434184675835, with criterion = gini max_depth = 10 metrics and fetaure len = 12\n",
            "Best accuracy is = 0.5952848722986247, with criterion = gini max_depth = 10 metrics and fetaure len = 13\n",
            "Best accuracy is = 0.6070726915520629, with criterion = entropy max_depth = 10 metrics and fetaure len = 14\n",
            "Best accuracy is = 0.5985592665356909, with criterion = gini max_depth = 10 metrics and fetaure len = 15\n",
            "Best accuracy is = 0.5979043876882777, with criterion = gini max_depth = 10 metrics and fetaure len = 16\n",
            "Best accuracy is = 0.595939751146038, with criterion = entropy max_depth = 10 metrics and fetaure len = 17\n",
            "Best accuracy is = 0.5946299934512115, with criterion = entropy max_depth = 10 metrics and fetaure len = 18\n",
            "Best accuracy is = 0.5972495088408645, with criterion = gini max_depth = 10 metrics and fetaure len = 19\n",
            "Best accuracy is = 0.5972495088408645, with criterion = entropy max_depth = 10 metrics and fetaure len = 20\n",
            "Best accuracy is = 0.5965946299934513, with criterion = gini max_depth = 10 metrics and fetaure len = 21\n",
            "Best accuracy is = 0.595939751146038, with criterion = gini max_depth = 10 metrics and fetaure len = 22\n",
            "Best accuracy is = 0.6005239030779306, with criterion = gini max_depth = 10 metrics and fetaure len = 23\n",
            "Best accuracy is = 0.5952848722986247, with criterion = gini max_depth = 10 metrics and fetaure len = 24\n",
            "Best accuracy is = 0.6214800261951539, with criterion = gini max_depth = 10 metrics and fetaure len = 25\n",
            "Best accuracy is = 0.6234446627373936, with criterion = entropy max_depth = 10 metrics and fetaure len = 26\n",
            "Best accuracy is = 0.6254092992796333, with criterion = entropy max_depth = 10 metrics and fetaure len = 27\n",
            "Best accuracy is = 0.6280288146692862, with criterion = entropy max_depth = 10 metrics and fetaure len = 28\n",
            "Best accuracy is = 0.6286836935166994, with criterion = gini max_depth = 10 metrics and fetaure len = 29\n",
            "Best accuracy is = 0.6293385723641126, with criterion = entropy max_depth = 10 metrics and fetaure len = 30\n",
            "Best accuracy is = 0.6339227242960053, with criterion = entropy max_depth = 10 metrics and fetaure len = 31\n",
            "Best accuracy is = 0.6286836935166994, with criterion = gini max_depth = 10 metrics and fetaure len = 32\n",
            "Best accuracy is = 0.6240995415848068, with criterion = gini max_depth = 10 metrics and fetaure len = 33\n",
            "Best accuracy is = 0.633267845448592, with criterion = entropy max_depth = None metrics and fetaure len = 34\n",
            "Best accuracy is = 0.627373935821873, with criterion = entropy max_depth = 20 metrics and fetaure len = 35\n",
            "Best accuracy is = 0.6299934512115258, with criterion = gini max_depth = None metrics and fetaure len = 36\n",
            "Best accuracy is = 0.6293385723641126, with criterion = entropy max_depth = 15 metrics and fetaure len = 37\n",
            "Best accuracy is = 0.6339227242960053, with criterion = entropy max_depth = 15 metrics and fetaure len = 38\n",
            "Best accuracy is = 0.6299934512115258, with criterion = gini max_depth = 10 metrics and fetaure len = 39\n",
            "Best accuracy is = 0.6313032089063523, with criterion = entropy max_depth = None metrics and fetaure len = 40\n",
            "Best accuracy is = 0.6319580877537656, with criterion = gini max_depth = 20 metrics and fetaure len = 41\n",
            "Best accuracy is = 0.6293385723641126, with criterion = entropy max_depth = 15 metrics and fetaure len = 42\n",
            "Best accuracy is = 0.6293385723641126, with criterion = entropy max_depth = 25 metrics and fetaure len = 43\n",
            "Best accuracy is = 0.6280288146692862, with criterion = entropy max_depth = 20 metrics and fetaure len = 44\n",
            "Best accuracy is = 0.6365422396856582, with criterion = entropy max_depth = 15 metrics and fetaure len = 45\n",
            "Best accuracy is = 0.6345776031434185, with criterion = entropy max_depth = 30 metrics and fetaure len = 46\n",
            "Best accuracy is = 0.6378519973804846, with criterion = gini max_depth = 25 metrics and fetaure len = 47\n",
            "Best accuracy is = 0.6339227242960053, with criterion = entropy max_depth = 20 metrics and fetaure len = 48\n",
            "Best accuracy is = 0.6365422396856582, with criterion = entropy max_depth = 30 metrics and fetaure len = 49\n",
            "Best accuracy is = 0.6326129666011788, with criterion = gini max_depth = 15 metrics and fetaure len = 50\n",
            "Best accuracy is = 0.6371971185330714, with criterion = entropy max_depth = 25 metrics and fetaure len = 51\n",
            "Best accuracy is = 0.6378519973804846, with criterion = gini max_depth = None metrics and fetaure len = 52\n",
            "Best accuracy is = 0.6247544204322201, with criterion = entropy max_depth = None metrics and fetaure len = 53\n",
            "Best accuracy is = 0.6371971185330714, with criterion = entropy max_depth = 25 metrics and fetaure len = 54\n",
            "Best accuracy is = 0.6313032089063523, with criterion = entropy max_depth = 15 metrics and fetaure len = 55\n",
            "Best accuracy is = 0.6385068762278978, with criterion = entropy max_depth = 25 metrics and fetaure len = 56\n",
            "Best accuracy is = 0.6371971185330714, with criterion = entropy max_depth = 30 metrics and fetaure len = 57\n",
            "Best accuracy is = 0.6319580877537656, with criterion = entropy max_depth = 20 metrics and fetaure len = 58\n",
            "Best accuracy is = 0.6358873608382449, with criterion = entropy max_depth = None metrics and fetaure len = 59\n",
            "Best accuracy is = 0.6365422396856582, with criterion = gini max_depth = 20 metrics and fetaure len = 60\n",
            "Best accuracy is = 0.6371971185330714, with criterion = gini max_depth = 25 metrics and fetaure len = 61\n",
            "Best accuracy is = 0.639161755075311, with criterion = gini max_depth = 30 metrics and fetaure len = 62\n",
            "Best accuracy is = 0.6385068762278978, with criterion = entropy max_depth = 25 metrics and fetaure len = 63\n",
            "Best accuracy is = 0.6345776031434185, with criterion = entropy max_depth = 20 metrics and fetaure len = 64\n",
            "Best accuracy is = 0.6371971185330714, with criterion = gini max_depth = 30 metrics and fetaure len = 65\n",
            "Best accuracy is = 0.6365422396856582, with criterion = entropy max_depth = 20 metrics and fetaure len = 66\n",
            "Best accuracy is = 0.6371971185330714, with criterion = gini max_depth = 25 metrics and fetaure len = 67\n",
            "Best accuracy is = 0.6319580877537656, with criterion = gini max_depth = 25 metrics and fetaure len = 68\n",
            "Best accuracy is = 0.6404715127701375, with criterion = entropy max_depth = 15 metrics and fetaure len = 69\n",
            "Best accuracy is = 0.6313032089063523, with criterion = gini max_depth = 20 metrics and fetaure len = 70\n",
            "Best accuracy is = 0.6339227242960053, with criterion = entropy max_depth = 35 metrics and fetaure len = 71\n",
            "Best accuracy is = 0.6358873608382449, with criterion = gini max_depth = None metrics and fetaure len = 72\n",
            "Best accuracy is = 0.6286836935166994, with criterion = gini max_depth = 30 metrics and fetaure len = 73\n",
            "Best accuracy is = 0.6358873608382449, with criterion = entropy max_depth = 25 metrics and fetaure len = 74\n"
          ]
        },
        {
          "ename": "ValueError",
          "evalue": "Input X must be non-negative.",
          "output_type": "error",
          "traceback": [
            "\u001b[1;31m---------------------------------------------------------------------------\u001b[0m",
            "\u001b[1;31mValueError\u001b[0m                                Traceback (most recent call last)",
            "Input \u001b[1;32mIn [75]\u001b[0m, in \u001b[0;36m<cell line: 20>\u001b[1;34m()\u001b[0m\n\u001b[0;32m     17\u001b[0m RunThePredictAlgorithm(oversampling_df, \u001b[38;5;241m75\u001b[39m, \u001b[38;5;124m'\u001b[39m\u001b[38;5;124mmin-max\u001b[39m\u001b[38;5;124m'\u001b[39m, ChiSquareFeatureElimination, RandomForest, version_numer\u001b[38;5;241m=\u001b[39m\u001b[38;5;124m'\u001b[39m\u001b[38;5;124mV2\u001b[39m\u001b[38;5;124m'\u001b[39m)\n\u001b[0;32m     19\u001b[0m \u001b[38;5;66;03m# Run RandomForest wiit RFEFeatureElimination and robust scaler in to the oversampling data\u001b[39;00m\n\u001b[1;32m---> 20\u001b[0m \u001b[43mRunThePredictAlgorithm\u001b[49m\u001b[43m(\u001b[49m\u001b[43moversampling_df\u001b[49m\u001b[43m,\u001b[49m\u001b[43m \u001b[49m\u001b[38;5;241;43m75\u001b[39;49m\u001b[43m,\u001b[49m\u001b[43m \u001b[49m\u001b[38;5;124;43m'\u001b[39;49m\u001b[38;5;124;43mrobust\u001b[39;49m\u001b[38;5;124;43m'\u001b[39;49m\u001b[43m,\u001b[49m\u001b[43m \u001b[49m\u001b[43mChiSquareFeatureElimination\u001b[49m\u001b[43m,\u001b[49m\u001b[43m \u001b[49m\u001b[43mRandomForest\u001b[49m\u001b[43m,\u001b[49m\u001b[43m \u001b[49m\u001b[43mversion_numer\u001b[49m\u001b[38;5;241;43m=\u001b[39;49m\u001b[38;5;124;43m'\u001b[39;49m\u001b[38;5;124;43mV2\u001b[39;49m\u001b[38;5;124;43m'\u001b[39;49m\u001b[43m)\u001b[49m\n",
            "Input \u001b[1;32mIn [72]\u001b[0m, in \u001b[0;36mRunThePredictAlgorithm\u001b[1;34m(df, max_feature, scaling_method, FeatureEliminationMethod, MLORDLAlgorithm, IsPytorch, loss_method, accuracy_method, optimizer_method, lr, version_numer, IsTensor)\u001b[0m\n\u001b[0;32m     24\u001b[0m \u001b[38;5;28;01mif\u001b[39;00m IsPytorch \u001b[38;5;241m==\u001b[39m \u001b[38;5;28;01mFalse\u001b[39;00m \u001b[38;5;129;01mand\u001b[39;00m IsTensor \u001b[38;5;241m==\u001b[39m \u001b[38;5;28;01mFalse\u001b[39;00m:\n\u001b[0;32m     25\u001b[0m     \u001b[38;5;28;01mfor\u001b[39;00m i \u001b[38;5;129;01min\u001b[39;00m \u001b[38;5;28mrange\u001b[39m(\u001b[38;5;241m1\u001b[39m,max_feature):\n\u001b[1;32m---> 26\u001b[0m         feature_eliminated_df \u001b[38;5;241m=\u001b[39m \u001b[43mFeatureEliminationMethod\u001b[49m\u001b[43m(\u001b[49m\u001b[43mdf\u001b[49m\u001b[43m \u001b[49m\u001b[38;5;241;43m=\u001b[39;49m\u001b[43m \u001b[49m\u001b[43mdf\u001b[49m\u001b[43m,\u001b[49m\u001b[43m \u001b[49m\u001b[43mX\u001b[49m\u001b[43m \u001b[49m\u001b[38;5;241;43m=\u001b[39;49m\u001b[43m \u001b[49m\u001b[43mX\u001b[49m\u001b[43m,\u001b[49m\u001b[43m \u001b[49m\u001b[43my\u001b[49m\u001b[43m \u001b[49m\u001b[38;5;241;43m=\u001b[39;49m\u001b[43m \u001b[49m\u001b[43my\u001b[49m\u001b[43m,\u001b[49m\u001b[43m \u001b[49m\u001b[43mn_features_to_select\u001b[49m\u001b[43m \u001b[49m\u001b[38;5;241;43m=\u001b[39;49m\u001b[43m \u001b[49m\u001b[43mi\u001b[49m\u001b[43m)\u001b[49m\n\u001b[0;32m     27\u001b[0m         x_train, x_test, y_train, y_test \u001b[38;5;241m=\u001b[39m train_test_split_modified(feature_eliminated_df)\n\u001b[0;32m     28\u001b[0m         result \u001b[38;5;241m=\u001b[39m MLORDLAlgorithm(x_train, x_test, y_train, y_test)\n",
            "Input \u001b[1;32mIn [22]\u001b[0m, in \u001b[0;36mChiSquareFeatureElimination\u001b[1;34m(X, y, n_features_to_select, df)\u001b[0m\n\u001b[0;32m      3\u001b[0m \u001b[38;5;28;01mdef\u001b[39;00m \u001b[38;5;21mChiSquareFeatureElimination\u001b[39m(X, y, n_features_to_select, df\u001b[38;5;241m=\u001b[39m \u001b[38;5;28;01mNone\u001b[39;00m):\n\u001b[1;32m----> 4\u001b[0m     X_chi2 \u001b[38;5;241m=\u001b[39m \u001b[43mSelectKBest\u001b[49m\u001b[43m(\u001b[49m\u001b[43mchi2\u001b[49m\u001b[43m,\u001b[49m\u001b[43m \u001b[49m\u001b[43mk\u001b[49m\u001b[43m \u001b[49m\u001b[38;5;241;43m=\u001b[39;49m\u001b[43m \u001b[49m\u001b[43mn_features_to_select\u001b[49m\u001b[43m)\u001b[49m\u001b[38;5;241;43m.\u001b[39;49m\u001b[43mfit_transform\u001b[49m\u001b[43m(\u001b[49m\u001b[43mX\u001b[49m\u001b[43m,\u001b[49m\u001b[43m \u001b[49m\u001b[43my\u001b[49m\u001b[43m)\u001b[49m\n\u001b[0;32m      5\u001b[0m     X_chi2_df \u001b[38;5;241m=\u001b[39m pd\u001b[38;5;241m.\u001b[39mDataFrame(X_chi2, columns\u001b[38;5;241m=\u001b[39m[\u001b[38;5;124mf\u001b[39m\u001b[38;5;124m\"\u001b[39m\u001b[38;5;124mfeature_\u001b[39m\u001b[38;5;132;01m{\u001b[39;00mi\u001b[38;5;132;01m}\u001b[39;00m\u001b[38;5;124m\"\u001b[39m \u001b[38;5;28;01mfor\u001b[39;00m i \u001b[38;5;129;01min\u001b[39;00m \u001b[38;5;28mrange\u001b[39m(n_features_to_select)])\n\u001b[0;32m      6\u001b[0m     \u001b[38;5;28;01mreturn\u001b[39;00m pd\u001b[38;5;241m.\u001b[39mconcat([X_chi2_df, y\u001b[38;5;241m.\u001b[39mreset_index(drop\u001b[38;5;241m=\u001b[39m\u001b[38;5;28;01mTrue\u001b[39;00m)], axis\u001b[38;5;241m=\u001b[39m\u001b[38;5;241m1\u001b[39m)\n",
            "File \u001b[1;32mc:\\Users\\AMD\\AppData\\Local\\Programs\\Python\\Python310\\lib\\site-packages\\sklearn\\base.py:855\u001b[0m, in \u001b[0;36mTransformerMixin.fit_transform\u001b[1;34m(self, X, y, **fit_params)\u001b[0m\n\u001b[0;32m    852\u001b[0m     \u001b[38;5;28;01mreturn\u001b[39;00m \u001b[38;5;28mself\u001b[39m\u001b[38;5;241m.\u001b[39mfit(X, \u001b[38;5;241m*\u001b[39m\u001b[38;5;241m*\u001b[39mfit_params)\u001b[38;5;241m.\u001b[39mtransform(X)\n\u001b[0;32m    853\u001b[0m \u001b[38;5;28;01melse\u001b[39;00m:\n\u001b[0;32m    854\u001b[0m     \u001b[38;5;66;03m# fit method of arity 2 (supervised transformation)\u001b[39;00m\n\u001b[1;32m--> 855\u001b[0m     \u001b[38;5;28;01mreturn\u001b[39;00m \u001b[38;5;28mself\u001b[39m\u001b[38;5;241m.\u001b[39mfit(X, y, \u001b[38;5;241m*\u001b[39m\u001b[38;5;241m*\u001b[39mfit_params)\u001b[38;5;241m.\u001b[39mtransform(X)\n",
            "File \u001b[1;32mc:\\Users\\AMD\\AppData\\Local\\Programs\\Python\\Python310\\lib\\site-packages\\sklearn\\feature_selection\\_univariate_selection.py:408\u001b[0m, in \u001b[0;36m_BaseFilter.fit\u001b[1;34m(self, X, y)\u001b[0m\n\u001b[0;32m    402\u001b[0m     \u001b[38;5;28;01mraise\u001b[39;00m \u001b[38;5;167;01mTypeError\u001b[39;00m(\n\u001b[0;32m    403\u001b[0m         \u001b[38;5;124m\"\u001b[39m\u001b[38;5;124mThe score function should be a callable, \u001b[39m\u001b[38;5;132;01m%s\u001b[39;00m\u001b[38;5;124m (\u001b[39m\u001b[38;5;132;01m%s\u001b[39;00m\u001b[38;5;124m) was passed.\u001b[39m\u001b[38;5;124m\"\u001b[39m\n\u001b[0;32m    404\u001b[0m         \u001b[38;5;241m%\u001b[39m (\u001b[38;5;28mself\u001b[39m\u001b[38;5;241m.\u001b[39mscore_func, \u001b[38;5;28mtype\u001b[39m(\u001b[38;5;28mself\u001b[39m\u001b[38;5;241m.\u001b[39mscore_func))\n\u001b[0;32m    405\u001b[0m     )\n\u001b[0;32m    407\u001b[0m \u001b[38;5;28mself\u001b[39m\u001b[38;5;241m.\u001b[39m_check_params(X, y)\n\u001b[1;32m--> 408\u001b[0m score_func_ret \u001b[38;5;241m=\u001b[39m \u001b[38;5;28;43mself\u001b[39;49m\u001b[38;5;241;43m.\u001b[39;49m\u001b[43mscore_func\u001b[49m\u001b[43m(\u001b[49m\u001b[43mX\u001b[49m\u001b[43m,\u001b[49m\u001b[43m \u001b[49m\u001b[43my\u001b[49m\u001b[43m)\u001b[49m\n\u001b[0;32m    409\u001b[0m \u001b[38;5;28;01mif\u001b[39;00m \u001b[38;5;28misinstance\u001b[39m(score_func_ret, (\u001b[38;5;28mlist\u001b[39m, \u001b[38;5;28mtuple\u001b[39m)):\n\u001b[0;32m    410\u001b[0m     \u001b[38;5;28mself\u001b[39m\u001b[38;5;241m.\u001b[39mscores_, \u001b[38;5;28mself\u001b[39m\u001b[38;5;241m.\u001b[39mpvalues_ \u001b[38;5;241m=\u001b[39m score_func_ret\n",
            "File \u001b[1;32mc:\\Users\\AMD\\AppData\\Local\\Programs\\Python\\Python310\\lib\\site-packages\\sklearn\\feature_selection\\_univariate_selection.py:215\u001b[0m, in \u001b[0;36mchi2\u001b[1;34m(X, y)\u001b[0m\n\u001b[0;32m    213\u001b[0m X \u001b[38;5;241m=\u001b[39m check_array(X, accept_sparse\u001b[38;5;241m=\u001b[39m\u001b[38;5;124m\"\u001b[39m\u001b[38;5;124mcsr\u001b[39m\u001b[38;5;124m\"\u001b[39m)\n\u001b[0;32m    214\u001b[0m \u001b[38;5;28;01mif\u001b[39;00m np\u001b[38;5;241m.\u001b[39many((X\u001b[38;5;241m.\u001b[39mdata \u001b[38;5;28;01mif\u001b[39;00m issparse(X) \u001b[38;5;28;01melse\u001b[39;00m X) \u001b[38;5;241m<\u001b[39m \u001b[38;5;241m0\u001b[39m):\n\u001b[1;32m--> 215\u001b[0m     \u001b[38;5;28;01mraise\u001b[39;00m \u001b[38;5;167;01mValueError\u001b[39;00m(\u001b[38;5;124m\"\u001b[39m\u001b[38;5;124mInput X must be non-negative.\u001b[39m\u001b[38;5;124m\"\u001b[39m)\n\u001b[0;32m    217\u001b[0m Y \u001b[38;5;241m=\u001b[39m LabelBinarizer()\u001b[38;5;241m.\u001b[39mfit_transform(y)\n\u001b[0;32m    218\u001b[0m \u001b[38;5;28;01mif\u001b[39;00m Y\u001b[38;5;241m.\u001b[39mshape[\u001b[38;5;241m1\u001b[39m] \u001b[38;5;241m==\u001b[39m \u001b[38;5;241m1\u001b[39m:\n",
            "\u001b[1;31mValueError\u001b[0m: Input X must be non-negative."
          ]
        }
      ],
      "source": [
        "# Run RandomForest wiit RFEFeatureElimination and robust scaler in to the oversampling data\n",
        "RunThePredictAlgorithm(oversampling_df, 75, 'standart', MutualInformationFeatureElimination, RandomForest, version_numer='V2')\n",
        "\n",
        "# Run RandomForest wiit RFEFeatureElimination and robust scaler in to the oversampling data\n",
        "RunThePredictAlgorithm(oversampling_df, 75, 'min-max', MutualInformationFeatureElimination, RandomForest, version_numer='V2')\n",
        "\n",
        "# Run RandomForest wiit RFEFeatureElimination and robust scaler in to the oversampling data\n",
        "RunThePredictAlgorithm(oversampling_df, 75, 'robust', MutualInformationFeatureElimination, RandomForest, version_numer='V2')\n",
        "\n",
        "# Run RandomForest wiit RFEFeatureElimination and robust scaler in to the oversampling data\n",
        "RunThePredictAlgorithm(oversampling_df, 75, 'standart', ChiSquareFeatureElimination, RandomForest, version_numer='V2')"
      ]
    },
    {
      "cell_type": "code",
      "execution_count": null,
      "metadata": {
        "id": "cCAUzt-ohl3S"
      },
      "outputs": [],
      "source": [
        "RunThePredictAlgorithm(oversampling_df, 70, 'standart', RFEFeatureElimination, PyTorch_TrainTest_Step,\n",
        "                       True, accuracy_method= accuracy_fn, loss_method=nn.CrossEntropyLoss(), optimizer_method='Adam', lr = 0.001)\n",
        "RunThePredictAlgorithm(oversampling_df, 70, 'robust', RFEFeatureElimination, PyTorch_TrainTest_Step,\n",
        "                       True, accuracy_method= accuracy_fn, loss_method=nn.CrossEntropyLoss(), optimizer_method='Adam', lr = 0.001)\n",
        "\n",
        "\n",
        "\n",
        "RunThePredictAlgorithm(oversampling_df, 70, 'min-max', MutualInformationFeatureElimination, PyTorch_TrainTest_Step,\n",
        "                       True, accuracy_method= accuracy_fn, loss_method=nn.CrossEntropyLoss(), optimizer_method='Adam', lr = 0.001)\n",
        "\n",
        "RunThePredictAlgorithm(oversampling_df, 70, 'standart', MutualInformationFeatureElimination, PyTorch_TrainTest_Step,\n",
        "                       True, accuracy_method= accuracy_fn, loss_method=nn.CrossEntropyLoss(), optimizer_method='Adam', lr = 0.001)\n",
        "\n",
        "RunThePredictAlgorithm(oversampling_df, 70, 'robust', MutualInformationFeatureElimination, PyTorch_TrainTest_Step,\n",
        "                       True, accuracy_method= accuracy_fn, loss_method=nn.CrossEntropyLoss(), optimizer_method='Adam', lr = 0.001)\n",
        "\n",
        "\n",
        "\n",
        "\n",
        "\n",
        "RunThePredictAlgorithm(oversampling_df, 70, 'min-max', ChiSquareFeatureElimination, PyTorch_TrainTest_Step,\n",
        "                       True, accuracy_method= accuracy_fn, loss_method=nn.CrossEntropyLoss(), optimizer_method='Adam', lr = 0.001)"
      ]
    },
    {
      "cell_type": "code",
      "execution_count": null,
      "metadata": {
        "id": "YwLdX4Nrhl3S",
        "outputId": "30f922e3-561e-4fa0-f8f9-40f3698b13f1"
      },
      "outputs": [
        {
          "name": "stderr",
          "output_type": "stream",
          "text": [
            "c:\\Users\\AMD\\AppData\\Local\\Programs\\Python\\Python310\\lib\\site-packages\\sklearn\\base.py:443: UserWarning: X has feature names, but SelectFromModel was fitted without feature names\n",
            "  warnings.warn(\n"
          ]
        },
        {
          "name": "stdout",
          "output_type": "stream",
          "text": [
            "Best accuracy is = 0.5127701375245579, with criterion = entropy max_depth = None metrics and fetaure len = 1\n"
          ]
        },
        {
          "name": "stderr",
          "output_type": "stream",
          "text": [
            "c:\\Users\\AMD\\AppData\\Local\\Programs\\Python\\Python310\\lib\\site-packages\\sklearn\\base.py:443: UserWarning: X has feature names, but SelectFromModel was fitted without feature names\n",
            "  warnings.warn(\n"
          ]
        },
        {
          "name": "stdout",
          "output_type": "stream",
          "text": [
            "Best accuracy is = 0.5330713817943681, with criterion = entropy max_depth = None metrics and fetaure len = 2\n"
          ]
        },
        {
          "name": "stderr",
          "output_type": "stream",
          "text": [
            "c:\\Users\\AMD\\AppData\\Local\\Programs\\Python\\Python310\\lib\\site-packages\\sklearn\\base.py:443: UserWarning: X has feature names, but SelectFromModel was fitted without feature names\n",
            "  warnings.warn(\n"
          ]
        },
        {
          "name": "stdout",
          "output_type": "stream",
          "text": [
            "Best accuracy is = 0.5514079895219385, with criterion = entropy max_depth = None metrics and fetaure len = 3\n"
          ]
        },
        {
          "name": "stderr",
          "output_type": "stream",
          "text": [
            "c:\\Users\\AMD\\AppData\\Local\\Programs\\Python\\Python310\\lib\\site-packages\\sklearn\\base.py:443: UserWarning: X has feature names, but SelectFromModel was fitted without feature names\n",
            "  warnings.warn(\n"
          ]
        },
        {
          "name": "stdout",
          "output_type": "stream",
          "text": [
            "Best accuracy is = 0.5848068107400131, with criterion = entropy max_depth = None metrics and fetaure len = 4\n"
          ]
        },
        {
          "name": "stderr",
          "output_type": "stream",
          "text": [
            "c:\\Users\\AMD\\AppData\\Local\\Programs\\Python\\Python310\\lib\\site-packages\\sklearn\\base.py:443: UserWarning: X has feature names, but SelectFromModel was fitted without feature names\n",
            "  warnings.warn(\n"
          ]
        },
        {
          "name": "stdout",
          "output_type": "stream",
          "text": [
            "Best accuracy is = 0.5834970530451866, with criterion = entropy max_depth = 5 metrics and fetaure len = 5\n"
          ]
        },
        {
          "name": "stderr",
          "output_type": "stream",
          "text": [
            "c:\\Users\\AMD\\AppData\\Local\\Programs\\Python\\Python310\\lib\\site-packages\\sklearn\\base.py:443: UserWarning: X has feature names, but SelectFromModel was fitted without feature names\n",
            "  warnings.warn(\n"
          ]
        },
        {
          "name": "stdout",
          "output_type": "stream",
          "text": [
            "Best accuracy is = 0.6096922069417158, with criterion = entropy max_depth = None metrics and fetaure len = 6\n"
          ]
        },
        {
          "name": "stderr",
          "output_type": "stream",
          "text": [
            "c:\\Users\\AMD\\AppData\\Local\\Programs\\Python\\Python310\\lib\\site-packages\\sklearn\\base.py:443: UserWarning: X has feature names, but SelectFromModel was fitted without feature names\n",
            "  warnings.warn(\n"
          ]
        },
        {
          "name": "stdout",
          "output_type": "stream",
          "text": [
            "Best accuracy is = 0.6116568434839554, with criterion = entropy max_depth = None metrics and fetaure len = 7\n"
          ]
        },
        {
          "name": "stderr",
          "output_type": "stream",
          "text": [
            "c:\\Users\\AMD\\AppData\\Local\\Programs\\Python\\Python310\\lib\\site-packages\\sklearn\\base.py:443: UserWarning: X has feature names, but SelectFromModel was fitted without feature names\n",
            "  warnings.warn(\n"
          ]
        },
        {
          "name": "stdout",
          "output_type": "stream",
          "text": [
            "Best accuracy is = 0.6037982973149967, with criterion = entropy max_depth = 10 metrics and fetaure len = 8\n"
          ]
        },
        {
          "name": "stderr",
          "output_type": "stream",
          "text": [
            "c:\\Users\\AMD\\AppData\\Local\\Programs\\Python\\Python310\\lib\\site-packages\\sklearn\\base.py:443: UserWarning: X has feature names, but SelectFromModel was fitted without feature names\n",
            "  warnings.warn(\n"
          ]
        },
        {
          "name": "stdout",
          "output_type": "stream",
          "text": [
            "Best accuracy is = 0.6051080550098232, with criterion = gini max_depth = 10 metrics and fetaure len = 9\n"
          ]
        },
        {
          "name": "stderr",
          "output_type": "stream",
          "text": [
            "c:\\Users\\AMD\\AppData\\Local\\Programs\\Python\\Python310\\lib\\site-packages\\sklearn\\base.py:443: UserWarning: X has feature names, but SelectFromModel was fitted without feature names\n",
            "  warnings.warn(\n"
          ]
        },
        {
          "name": "stdout",
          "output_type": "stream",
          "text": [
            "Best accuracy is = 0.6110019646365422, with criterion = gini max_depth = 10 metrics and fetaure len = 10\n"
          ]
        },
        {
          "name": "stderr",
          "output_type": "stream",
          "text": [
            "c:\\Users\\AMD\\AppData\\Local\\Programs\\Python\\Python310\\lib\\site-packages\\sklearn\\base.py:443: UserWarning: X has feature names, but SelectFromModel was fitted without feature names\n",
            "  warnings.warn(\n"
          ]
        },
        {
          "name": "stdout",
          "output_type": "stream",
          "text": [
            "Best accuracy is = 0.618860510805501, with criterion = entropy max_depth = 10 metrics and fetaure len = 11\n"
          ]
        },
        {
          "name": "stderr",
          "output_type": "stream",
          "text": [
            "c:\\Users\\AMD\\AppData\\Local\\Programs\\Python\\Python310\\lib\\site-packages\\sklearn\\base.py:443: UserWarning: X has feature names, but SelectFromModel was fitted without feature names\n",
            "  warnings.warn(\n"
          ]
        },
        {
          "name": "stdout",
          "output_type": "stream",
          "text": [
            "Best accuracy is = 0.6247544204322201, with criterion = entropy max_depth = 10 metrics and fetaure len = 12\n"
          ]
        },
        {
          "name": "stderr",
          "output_type": "stream",
          "text": [
            "c:\\Users\\AMD\\AppData\\Local\\Programs\\Python\\Python310\\lib\\site-packages\\sklearn\\base.py:443: UserWarning: X has feature names, but SelectFromModel was fitted without feature names\n",
            "  warnings.warn(\n"
          ]
        },
        {
          "name": "stdout",
          "output_type": "stream",
          "text": [
            "Best accuracy is = 0.6201702685003274, with criterion = entropy max_depth = 10 metrics and fetaure len = 13\n"
          ]
        },
        {
          "name": "stderr",
          "output_type": "stream",
          "text": [
            "c:\\Users\\AMD\\AppData\\Local\\Programs\\Python\\Python310\\lib\\site-packages\\sklearn\\base.py:443: UserWarning: X has feature names, but SelectFromModel was fitted without feature names\n",
            "  warnings.warn(\n"
          ]
        },
        {
          "name": "stdout",
          "output_type": "stream",
          "text": [
            "Best accuracy is = 0.6227897838899804, with criterion = entropy max_depth = 10 metrics and fetaure len = 14\n"
          ]
        },
        {
          "name": "stderr",
          "output_type": "stream",
          "text": [
            "c:\\Users\\AMD\\AppData\\Local\\Programs\\Python\\Python310\\lib\\site-packages\\sklearn\\base.py:443: UserWarning: X has feature names, but SelectFromModel was fitted without feature names\n",
            "  warnings.warn(\n"
          ]
        },
        {
          "name": "stdout",
          "output_type": "stream",
          "text": [
            "Best accuracy is = 0.6299934512115258, with criterion = entropy max_depth = 10 metrics and fetaure len = 15\n"
          ]
        },
        {
          "name": "stderr",
          "output_type": "stream",
          "text": [
            "c:\\Users\\AMD\\AppData\\Local\\Programs\\Python\\Python310\\lib\\site-packages\\sklearn\\base.py:443: UserWarning: X has feature names, but SelectFromModel was fitted without feature names\n",
            "  warnings.warn(\n"
          ]
        },
        {
          "name": "stdout",
          "output_type": "stream",
          "text": [
            "Best accuracy is = 0.6221349050425671, with criterion = gini max_depth = 10 metrics and fetaure len = 16\n"
          ]
        },
        {
          "name": "stderr",
          "output_type": "stream",
          "text": [
            "c:\\Users\\AMD\\AppData\\Local\\Programs\\Python\\Python310\\lib\\site-packages\\sklearn\\base.py:443: UserWarning: X has feature names, but SelectFromModel was fitted without feature names\n",
            "  warnings.warn(\n"
          ]
        },
        {
          "name": "stdout",
          "output_type": "stream",
          "text": [
            "Best accuracy is = 0.6234446627373936, with criterion = entropy max_depth = 10 metrics and fetaure len = 17\n"
          ]
        },
        {
          "name": "stderr",
          "output_type": "stream",
          "text": [
            "c:\\Users\\AMD\\AppData\\Local\\Programs\\Python\\Python310\\lib\\site-packages\\sklearn\\base.py:443: UserWarning: X has feature names, but SelectFromModel was fitted without feature names\n",
            "  warnings.warn(\n"
          ]
        },
        {
          "name": "stdout",
          "output_type": "stream",
          "text": [
            "Best accuracy is = 0.6234446627373936, with criterion = entropy max_depth = 10 metrics and fetaure len = 18\n"
          ]
        },
        {
          "name": "stderr",
          "output_type": "stream",
          "text": [
            "c:\\Users\\AMD\\AppData\\Local\\Programs\\Python\\Python310\\lib\\site-packages\\sklearn\\base.py:443: UserWarning: X has feature names, but SelectFromModel was fitted without feature names\n",
            "  warnings.warn(\n"
          ]
        },
        {
          "name": "stdout",
          "output_type": "stream",
          "text": [
            "Best accuracy is = 0.6313032089063523, with criterion = entropy max_depth = 10 metrics and fetaure len = 19\n"
          ]
        },
        {
          "name": "stderr",
          "output_type": "stream",
          "text": [
            "c:\\Users\\AMD\\AppData\\Local\\Programs\\Python\\Python310\\lib\\site-packages\\sklearn\\base.py:443: UserWarning: X has feature names, but SelectFromModel was fitted without feature names\n",
            "  warnings.warn(\n"
          ]
        },
        {
          "name": "stdout",
          "output_type": "stream",
          "text": [
            "Best accuracy is = 0.630648330058939, with criterion = entropy max_depth = 10 metrics and fetaure len = 20\n"
          ]
        },
        {
          "name": "stderr",
          "output_type": "stream",
          "text": [
            "c:\\Users\\AMD\\AppData\\Local\\Programs\\Python\\Python310\\lib\\site-packages\\sklearn\\base.py:443: UserWarning: X has feature names, but SelectFromModel was fitted without feature names\n",
            "  warnings.warn(\n"
          ]
        },
        {
          "name": "stdout",
          "output_type": "stream",
          "text": [
            "Best accuracy is = 0.6286836935166994, with criterion = entropy max_depth = 10 metrics and fetaure len = 21\n"
          ]
        },
        {
          "name": "stderr",
          "output_type": "stream",
          "text": [
            "c:\\Users\\AMD\\AppData\\Local\\Programs\\Python\\Python310\\lib\\site-packages\\sklearn\\base.py:443: UserWarning: X has feature names, but SelectFromModel was fitted without feature names\n",
            "  warnings.warn(\n"
          ]
        },
        {
          "name": "stdout",
          "output_type": "stream",
          "text": [
            "Best accuracy is = 0.630648330058939, with criterion = gini max_depth = 20 metrics and fetaure len = 22\n"
          ]
        },
        {
          "name": "stderr",
          "output_type": "stream",
          "text": [
            "c:\\Users\\AMD\\AppData\\Local\\Programs\\Python\\Python310\\lib\\site-packages\\sklearn\\base.py:443: UserWarning: X has feature names, but SelectFromModel was fitted without feature names\n",
            "  warnings.warn(\n"
          ]
        },
        {
          "name": "stdout",
          "output_type": "stream",
          "text": [
            "Best accuracy is = 0.6240995415848068, with criterion = entropy max_depth = 15 metrics and fetaure len = 23\n"
          ]
        },
        {
          "name": "stderr",
          "output_type": "stream",
          "text": [
            "c:\\Users\\AMD\\AppData\\Local\\Programs\\Python\\Python310\\lib\\site-packages\\sklearn\\base.py:443: UserWarning: X has feature names, but SelectFromModel was fitted without feature names\n",
            "  warnings.warn(\n"
          ]
        },
        {
          "name": "stdout",
          "output_type": "stream",
          "text": [
            "Best accuracy is = 0.6280288146692862, with criterion = gini max_depth = 25 metrics and fetaure len = 24\n"
          ]
        },
        {
          "name": "stderr",
          "output_type": "stream",
          "text": [
            "c:\\Users\\AMD\\AppData\\Local\\Programs\\Python\\Python310\\lib\\site-packages\\sklearn\\base.py:443: UserWarning: X has feature names, but SelectFromModel was fitted without feature names\n",
            "  warnings.warn(\n"
          ]
        },
        {
          "name": "stdout",
          "output_type": "stream",
          "text": [
            "Best accuracy is = 0.6286836935166994, with criterion = gini max_depth = 10 metrics and fetaure len = 25\n"
          ]
        },
        {
          "name": "stderr",
          "output_type": "stream",
          "text": [
            "c:\\Users\\AMD\\AppData\\Local\\Programs\\Python\\Python310\\lib\\site-packages\\sklearn\\base.py:443: UserWarning: X has feature names, but SelectFromModel was fitted without feature names\n",
            "  warnings.warn(\n"
          ]
        },
        {
          "name": "stdout",
          "output_type": "stream",
          "text": [
            "Best accuracy is = 0.6319580877537656, with criterion = gini max_depth = 15 metrics and fetaure len = 26\n"
          ]
        },
        {
          "name": "stderr",
          "output_type": "stream",
          "text": [
            "c:\\Users\\AMD\\AppData\\Local\\Programs\\Python\\Python310\\lib\\site-packages\\sklearn\\base.py:443: UserWarning: X has feature names, but SelectFromModel was fitted without feature names\n",
            "  warnings.warn(\n"
          ]
        },
        {
          "name": "stdout",
          "output_type": "stream",
          "text": [
            "Best accuracy is = 0.633267845448592, with criterion = gini max_depth = None metrics and fetaure len = 27\n"
          ]
        },
        {
          "name": "stderr",
          "output_type": "stream",
          "text": [
            "c:\\Users\\AMD\\AppData\\Local\\Programs\\Python\\Python310\\lib\\site-packages\\sklearn\\base.py:443: UserWarning: X has feature names, but SelectFromModel was fitted without feature names\n",
            "  warnings.warn(\n"
          ]
        },
        {
          "name": "stdout",
          "output_type": "stream",
          "text": [
            "Best accuracy is = 0.6339227242960053, with criterion = entropy max_depth = 30 metrics and fetaure len = 28\n"
          ]
        },
        {
          "name": "stderr",
          "output_type": "stream",
          "text": [
            "c:\\Users\\AMD\\AppData\\Local\\Programs\\Python\\Python310\\lib\\site-packages\\sklearn\\base.py:443: UserWarning: X has feature names, but SelectFromModel was fitted without feature names\n",
            "  warnings.warn(\n"
          ]
        },
        {
          "name": "stdout",
          "output_type": "stream",
          "text": [
            "Best accuracy is = 0.6326129666011788, with criterion = gini max_depth = 15 metrics and fetaure len = 29\n"
          ]
        },
        {
          "name": "stderr",
          "output_type": "stream",
          "text": [
            "c:\\Users\\AMD\\AppData\\Local\\Programs\\Python\\Python310\\lib\\site-packages\\sklearn\\base.py:443: UserWarning: X has feature names, but SelectFromModel was fitted without feature names\n",
            "  warnings.warn(\n"
          ]
        },
        {
          "name": "stdout",
          "output_type": "stream",
          "text": [
            "Best accuracy is = 0.6358873608382449, with criterion = gini max_depth = 20 metrics and fetaure len = 30\n"
          ]
        },
        {
          "name": "stderr",
          "output_type": "stream",
          "text": [
            "c:\\Users\\AMD\\AppData\\Local\\Programs\\Python\\Python310\\lib\\site-packages\\sklearn\\base.py:443: UserWarning: X has feature names, but SelectFromModel was fitted without feature names\n",
            "  warnings.warn(\n"
          ]
        },
        {
          "name": "stdout",
          "output_type": "stream",
          "text": [
            "Best accuracy is = 0.639161755075311, with criterion = entropy max_depth = None metrics and fetaure len = 31\n"
          ]
        },
        {
          "name": "stderr",
          "output_type": "stream",
          "text": [
            "c:\\Users\\AMD\\AppData\\Local\\Programs\\Python\\Python310\\lib\\site-packages\\sklearn\\base.py:443: UserWarning: X has feature names, but SelectFromModel was fitted without feature names\n",
            "  warnings.warn(\n"
          ]
        },
        {
          "name": "stdout",
          "output_type": "stream",
          "text": [
            "Best accuracy is = 0.6378519973804846, with criterion = gini max_depth = 30 metrics and fetaure len = 32\n"
          ]
        },
        {
          "name": "stderr",
          "output_type": "stream",
          "text": [
            "c:\\Users\\AMD\\AppData\\Local\\Programs\\Python\\Python310\\lib\\site-packages\\sklearn\\base.py:443: UserWarning: X has feature names, but SelectFromModel was fitted without feature names\n",
            "  warnings.warn(\n"
          ]
        },
        {
          "name": "stdout",
          "output_type": "stream",
          "text": [
            "Best accuracy is = 0.6345776031434185, with criterion = gini max_depth = 20 metrics and fetaure len = 33\n"
          ]
        },
        {
          "name": "stderr",
          "output_type": "stream",
          "text": [
            "c:\\Users\\AMD\\AppData\\Local\\Programs\\Python\\Python310\\lib\\site-packages\\sklearn\\base.py:443: UserWarning: X has feature names, but SelectFromModel was fitted without feature names\n",
            "  warnings.warn(\n"
          ]
        },
        {
          "name": "stdout",
          "output_type": "stream",
          "text": [
            "Best accuracy is = 0.639161755075311, with criterion = gini max_depth = 15 metrics and fetaure len = 34\n"
          ]
        },
        {
          "name": "stderr",
          "output_type": "stream",
          "text": [
            "c:\\Users\\AMD\\AppData\\Local\\Programs\\Python\\Python310\\lib\\site-packages\\sklearn\\base.py:443: UserWarning: X has feature names, but SelectFromModel was fitted without feature names\n",
            "  warnings.warn(\n"
          ]
        },
        {
          "name": "stdout",
          "output_type": "stream",
          "text": [
            "Best accuracy is = 0.6404715127701375, with criterion = gini max_depth = 25 metrics and fetaure len = 35\n"
          ]
        },
        {
          "name": "stderr",
          "output_type": "stream",
          "text": [
            "c:\\Users\\AMD\\AppData\\Local\\Programs\\Python\\Python310\\lib\\site-packages\\sklearn\\base.py:443: UserWarning: X has feature names, but SelectFromModel was fitted without feature names\n",
            "  warnings.warn(\n"
          ]
        },
        {
          "name": "stdout",
          "output_type": "stream",
          "text": [
            "Best accuracy is = 0.6470203012442698, with criterion = gini max_depth = 20 metrics and fetaure len = 36\n"
          ]
        },
        {
          "name": "stderr",
          "output_type": "stream",
          "text": [
            "c:\\Users\\AMD\\AppData\\Local\\Programs\\Python\\Python310\\lib\\site-packages\\sklearn\\base.py:443: UserWarning: X has feature names, but SelectFromModel was fitted without feature names\n",
            "  warnings.warn(\n"
          ]
        },
        {
          "name": "stdout",
          "output_type": "stream",
          "text": [
            "Best accuracy is = 0.6450556647020301, with criterion = entropy max_depth = 20 metrics and fetaure len = 37\n"
          ]
        },
        {
          "name": "stderr",
          "output_type": "stream",
          "text": [
            "c:\\Users\\AMD\\AppData\\Local\\Programs\\Python\\Python310\\lib\\site-packages\\sklearn\\base.py:443: UserWarning: X has feature names, but SelectFromModel was fitted without feature names\n",
            "  warnings.warn(\n"
          ]
        },
        {
          "name": "stdout",
          "output_type": "stream",
          "text": [
            "Best accuracy is = 0.6378519973804846, with criterion = entropy max_depth = 25 metrics and fetaure len = 38\n"
          ]
        },
        {
          "name": "stderr",
          "output_type": "stream",
          "text": [
            "c:\\Users\\AMD\\AppData\\Local\\Programs\\Python\\Python310\\lib\\site-packages\\sklearn\\base.py:443: UserWarning: X has feature names, but SelectFromModel was fitted without feature names\n",
            "  warnings.warn(\n"
          ]
        },
        {
          "name": "stdout",
          "output_type": "stream",
          "text": [
            "Best accuracy is = 0.641781270464964, with criterion = gini max_depth = 20 metrics and fetaure len = 39\n"
          ]
        },
        {
          "name": "stderr",
          "output_type": "stream",
          "text": [
            "c:\\Users\\AMD\\AppData\\Local\\Programs\\Python\\Python310\\lib\\site-packages\\sklearn\\base.py:443: UserWarning: X has feature names, but SelectFromModel was fitted without feature names\n",
            "  warnings.warn(\n"
          ]
        },
        {
          "name": "stdout",
          "output_type": "stream",
          "text": [
            "Best accuracy is = 0.6371971185330714, with criterion = entropy max_depth = 20 metrics and fetaure len = 40\n"
          ]
        },
        {
          "name": "stderr",
          "output_type": "stream",
          "text": [
            "c:\\Users\\AMD\\AppData\\Local\\Programs\\Python\\Python310\\lib\\site-packages\\sklearn\\base.py:443: UserWarning: X has feature names, but SelectFromModel was fitted without feature names\n",
            "  warnings.warn(\n"
          ]
        },
        {
          "name": "stdout",
          "output_type": "stream",
          "text": [
            "Best accuracy is = 0.639161755075311, with criterion = gini max_depth = 35 metrics and fetaure len = 41\n"
          ]
        },
        {
          "name": "stderr",
          "output_type": "stream",
          "text": [
            "c:\\Users\\AMD\\AppData\\Local\\Programs\\Python\\Python310\\lib\\site-packages\\sklearn\\base.py:443: UserWarning: X has feature names, but SelectFromModel was fitted without feature names\n",
            "  warnings.warn(\n"
          ]
        },
        {
          "name": "stdout",
          "output_type": "stream",
          "text": [
            "Best accuracy is = 0.6378519973804846, with criterion = entropy max_depth = 20 metrics and fetaure len = 42\n"
          ]
        },
        {
          "name": "stderr",
          "output_type": "stream",
          "text": [
            "c:\\Users\\AMD\\AppData\\Local\\Programs\\Python\\Python310\\lib\\site-packages\\sklearn\\base.py:443: UserWarning: X has feature names, but SelectFromModel was fitted without feature names\n",
            "  warnings.warn(\n"
          ]
        },
        {
          "name": "stdout",
          "output_type": "stream",
          "text": [
            "Best accuracy is = 0.6339227242960053, with criterion = entropy max_depth = 25 metrics and fetaure len = 43\n"
          ]
        },
        {
          "name": "stderr",
          "output_type": "stream",
          "text": [
            "c:\\Users\\AMD\\AppData\\Local\\Programs\\Python\\Python310\\lib\\site-packages\\sklearn\\base.py:443: UserWarning: X has feature names, but SelectFromModel was fitted without feature names\n",
            "  warnings.warn(\n"
          ]
        },
        {
          "name": "stdout",
          "output_type": "stream",
          "text": [
            "Best accuracy is = 0.639161755075311, with criterion = gini max_depth = 25 metrics and fetaure len = 44\n"
          ]
        },
        {
          "name": "stderr",
          "output_type": "stream",
          "text": [
            "c:\\Users\\AMD\\AppData\\Local\\Programs\\Python\\Python310\\lib\\site-packages\\sklearn\\base.py:443: UserWarning: X has feature names, but SelectFromModel was fitted without feature names\n",
            "  warnings.warn(\n"
          ]
        },
        {
          "name": "stdout",
          "output_type": "stream",
          "text": [
            "Best accuracy is = 0.6358873608382449, with criterion = entropy max_depth = 20 metrics and fetaure len = 45\n"
          ]
        },
        {
          "name": "stderr",
          "output_type": "stream",
          "text": [
            "c:\\Users\\AMD\\AppData\\Local\\Programs\\Python\\Python310\\lib\\site-packages\\sklearn\\base.py:443: UserWarning: X has feature names, but SelectFromModel was fitted without feature names\n",
            "  warnings.warn(\n"
          ]
        },
        {
          "name": "stdout",
          "output_type": "stream",
          "text": [
            "Best accuracy is = 0.6352324819908317, with criterion = gini max_depth = None metrics and fetaure len = 46\n"
          ]
        },
        {
          "name": "stderr",
          "output_type": "stream",
          "text": [
            "c:\\Users\\AMD\\AppData\\Local\\Programs\\Python\\Python310\\lib\\site-packages\\sklearn\\base.py:443: UserWarning: X has feature names, but SelectFromModel was fitted without feature names\n",
            "  warnings.warn(\n"
          ]
        },
        {
          "name": "stdout",
          "output_type": "stream",
          "text": [
            "Best accuracy is = 0.6339227242960053, with criterion = gini max_depth = 30 metrics and fetaure len = 47\n"
          ]
        },
        {
          "name": "stderr",
          "output_type": "stream",
          "text": [
            "c:\\Users\\AMD\\AppData\\Local\\Programs\\Python\\Python310\\lib\\site-packages\\sklearn\\base.py:443: UserWarning: X has feature names, but SelectFromModel was fitted without feature names\n",
            "  warnings.warn(\n"
          ]
        },
        {
          "name": "stdout",
          "output_type": "stream",
          "text": [
            "Best accuracy is = 0.6371971185330714, with criterion = gini max_depth = 25 metrics and fetaure len = 48\n"
          ]
        },
        {
          "name": "stderr",
          "output_type": "stream",
          "text": [
            "c:\\Users\\AMD\\AppData\\Local\\Programs\\Python\\Python310\\lib\\site-packages\\sklearn\\base.py:443: UserWarning: X has feature names, but SelectFromModel was fitted without feature names\n",
            "  warnings.warn(\n"
          ]
        },
        {
          "name": "stdout",
          "output_type": "stream",
          "text": [
            "Best accuracy is = 0.6411263916175508, with criterion = gini max_depth = 20 metrics and fetaure len = 49\n"
          ]
        },
        {
          "name": "stderr",
          "output_type": "stream",
          "text": [
            "c:\\Users\\AMD\\AppData\\Local\\Programs\\Python\\Python310\\lib\\site-packages\\sklearn\\base.py:443: UserWarning: X has feature names, but SelectFromModel was fitted without feature names\n",
            "  warnings.warn(\n"
          ]
        },
        {
          "name": "stdout",
          "output_type": "stream",
          "text": [
            "Best accuracy is = 0.6352324819908317, with criterion = gini max_depth = 25 metrics and fetaure len = 50\n"
          ]
        },
        {
          "name": "stderr",
          "output_type": "stream",
          "text": [
            "c:\\Users\\AMD\\AppData\\Local\\Programs\\Python\\Python310\\lib\\site-packages\\sklearn\\base.py:443: UserWarning: X has feature names, but SelectFromModel was fitted without feature names\n",
            "  warnings.warn(\n"
          ]
        },
        {
          "name": "stdout",
          "output_type": "stream",
          "text": [
            "Best accuracy is = 0.6371971185330714, with criterion = gini max_depth = 20 metrics and fetaure len = 51\n"
          ]
        },
        {
          "name": "stderr",
          "output_type": "stream",
          "text": [
            "c:\\Users\\AMD\\AppData\\Local\\Programs\\Python\\Python310\\lib\\site-packages\\sklearn\\base.py:443: UserWarning: X has feature names, but SelectFromModel was fitted without feature names\n",
            "  warnings.warn(\n"
          ]
        },
        {
          "name": "stdout",
          "output_type": "stream",
          "text": [
            "Best accuracy is = 0.6352324819908317, with criterion = entropy max_depth = 30 metrics and fetaure len = 52\n"
          ]
        },
        {
          "name": "stderr",
          "output_type": "stream",
          "text": [
            "c:\\Users\\AMD\\AppData\\Local\\Programs\\Python\\Python310\\lib\\site-packages\\sklearn\\base.py:443: UserWarning: X has feature names, but SelectFromModel was fitted without feature names\n",
            "  warnings.warn(\n"
          ]
        },
        {
          "name": "stdout",
          "output_type": "stream",
          "text": [
            "Best accuracy is = 0.6365422396856582, with criterion = gini max_depth = 15 metrics and fetaure len = 53\n"
          ]
        },
        {
          "name": "stderr",
          "output_type": "stream",
          "text": [
            "c:\\Users\\AMD\\AppData\\Local\\Programs\\Python\\Python310\\lib\\site-packages\\sklearn\\base.py:443: UserWarning: X has feature names, but SelectFromModel was fitted without feature names\n",
            "  warnings.warn(\n"
          ]
        },
        {
          "name": "stdout",
          "output_type": "stream",
          "text": [
            "Best accuracy is = 0.6365422396856582, with criterion = gini max_depth = 15 metrics and fetaure len = 53\n"
          ]
        },
        {
          "name": "stderr",
          "output_type": "stream",
          "text": [
            "c:\\Users\\AMD\\AppData\\Local\\Programs\\Python\\Python310\\lib\\site-packages\\sklearn\\base.py:443: UserWarning: X has feature names, but SelectFromModel was fitted without feature names\n",
            "  warnings.warn(\n"
          ]
        },
        {
          "name": "stdout",
          "output_type": "stream",
          "text": [
            "Best accuracy is = 0.6365422396856582, with criterion = gini max_depth = 15 metrics and fetaure len = 53\n"
          ]
        },
        {
          "name": "stderr",
          "output_type": "stream",
          "text": [
            "c:\\Users\\AMD\\AppData\\Local\\Programs\\Python\\Python310\\lib\\site-packages\\sklearn\\base.py:443: UserWarning: X has feature names, but SelectFromModel was fitted without feature names\n",
            "  warnings.warn(\n"
          ]
        },
        {
          "name": "stdout",
          "output_type": "stream",
          "text": [
            "Best accuracy is = 0.6365422396856582, with criterion = gini max_depth = 15 metrics and fetaure len = 53\n"
          ]
        },
        {
          "name": "stderr",
          "output_type": "stream",
          "text": [
            "c:\\Users\\AMD\\AppData\\Local\\Programs\\Python\\Python310\\lib\\site-packages\\sklearn\\base.py:443: UserWarning: X has feature names, but SelectFromModel was fitted without feature names\n",
            "  warnings.warn(\n"
          ]
        },
        {
          "name": "stdout",
          "output_type": "stream",
          "text": [
            "Best accuracy is = 0.6365422396856582, with criterion = gini max_depth = 15 metrics and fetaure len = 53\n"
          ]
        },
        {
          "name": "stderr",
          "output_type": "stream",
          "text": [
            "c:\\Users\\AMD\\AppData\\Local\\Programs\\Python\\Python310\\lib\\site-packages\\sklearn\\base.py:443: UserWarning: X has feature names, but SelectFromModel was fitted without feature names\n",
            "  warnings.warn(\n"
          ]
        },
        {
          "name": "stdout",
          "output_type": "stream",
          "text": [
            "Best accuracy is = 0.6365422396856582, with criterion = gini max_depth = 15 metrics and fetaure len = 53\n"
          ]
        },
        {
          "name": "stderr",
          "output_type": "stream",
          "text": [
            "c:\\Users\\AMD\\AppData\\Local\\Programs\\Python\\Python310\\lib\\site-packages\\sklearn\\base.py:443: UserWarning: X has feature names, but SelectFromModel was fitted without feature names\n",
            "  warnings.warn(\n"
          ]
        },
        {
          "name": "stdout",
          "output_type": "stream",
          "text": [
            "Best accuracy is = 0.6365422396856582, with criterion = gini max_depth = 15 metrics and fetaure len = 53\n"
          ]
        },
        {
          "name": "stderr",
          "output_type": "stream",
          "text": [
            "c:\\Users\\AMD\\AppData\\Local\\Programs\\Python\\Python310\\lib\\site-packages\\sklearn\\base.py:443: UserWarning: X has feature names, but SelectFromModel was fitted without feature names\n",
            "  warnings.warn(\n"
          ]
        },
        {
          "name": "stdout",
          "output_type": "stream",
          "text": [
            "Best accuracy is = 0.6365422396856582, with criterion = gini max_depth = 15 metrics and fetaure len = 53\n"
          ]
        },
        {
          "name": "stderr",
          "output_type": "stream",
          "text": [
            "c:\\Users\\AMD\\AppData\\Local\\Programs\\Python\\Python310\\lib\\site-packages\\sklearn\\base.py:443: UserWarning: X has feature names, but SelectFromModel was fitted without feature names\n",
            "  warnings.warn(\n"
          ]
        },
        {
          "name": "stdout",
          "output_type": "stream",
          "text": [
            "Best accuracy is = 0.6365422396856582, with criterion = gini max_depth = 15 metrics and fetaure len = 53\n"
          ]
        },
        {
          "name": "stderr",
          "output_type": "stream",
          "text": [
            "c:\\Users\\AMD\\AppData\\Local\\Programs\\Python\\Python310\\lib\\site-packages\\sklearn\\base.py:443: UserWarning: X has feature names, but SelectFromModel was fitted without feature names\n",
            "  warnings.warn(\n"
          ]
        },
        {
          "name": "stdout",
          "output_type": "stream",
          "text": [
            "Best accuracy is = 0.6365422396856582, with criterion = gini max_depth = 15 metrics and fetaure len = 53\n"
          ]
        },
        {
          "name": "stderr",
          "output_type": "stream",
          "text": [
            "c:\\Users\\AMD\\AppData\\Local\\Programs\\Python\\Python310\\lib\\site-packages\\sklearn\\base.py:443: UserWarning: X has feature names, but SelectFromModel was fitted without feature names\n",
            "  warnings.warn(\n"
          ]
        },
        {
          "name": "stdout",
          "output_type": "stream",
          "text": [
            "Best accuracy is = 0.6365422396856582, with criterion = gini max_depth = 15 metrics and fetaure len = 53\n"
          ]
        },
        {
          "name": "stderr",
          "output_type": "stream",
          "text": [
            "c:\\Users\\AMD\\AppData\\Local\\Programs\\Python\\Python310\\lib\\site-packages\\sklearn\\base.py:443: UserWarning: X has feature names, but SelectFromModel was fitted without feature names\n",
            "  warnings.warn(\n"
          ]
        },
        {
          "name": "stdout",
          "output_type": "stream",
          "text": [
            "Best accuracy is = 0.6365422396856582, with criterion = gini max_depth = 15 metrics and fetaure len = 53\n"
          ]
        },
        {
          "name": "stderr",
          "output_type": "stream",
          "text": [
            "c:\\Users\\AMD\\AppData\\Local\\Programs\\Python\\Python310\\lib\\site-packages\\sklearn\\base.py:443: UserWarning: X has feature names, but SelectFromModel was fitted without feature names\n",
            "  warnings.warn(\n"
          ]
        },
        {
          "name": "stdout",
          "output_type": "stream",
          "text": [
            "Best accuracy is = 0.6365422396856582, with criterion = gini max_depth = 15 metrics and fetaure len = 53\n"
          ]
        },
        {
          "name": "stderr",
          "output_type": "stream",
          "text": [
            "c:\\Users\\AMD\\AppData\\Local\\Programs\\Python\\Python310\\lib\\site-packages\\sklearn\\base.py:443: UserWarning: X has feature names, but SelectFromModel was fitted without feature names\n",
            "  warnings.warn(\n"
          ]
        },
        {
          "name": "stdout",
          "output_type": "stream",
          "text": [
            "Best accuracy is = 0.6365422396856582, with criterion = gini max_depth = 15 metrics and fetaure len = 53\n"
          ]
        },
        {
          "name": "stderr",
          "output_type": "stream",
          "text": [
            "c:\\Users\\AMD\\AppData\\Local\\Programs\\Python\\Python310\\lib\\site-packages\\sklearn\\base.py:443: UserWarning: X has feature names, but SelectFromModel was fitted without feature names\n",
            "  warnings.warn(\n"
          ]
        },
        {
          "name": "stdout",
          "output_type": "stream",
          "text": [
            "Best accuracy is = 0.6365422396856582, with criterion = gini max_depth = 15 metrics and fetaure len = 53\n"
          ]
        },
        {
          "name": "stderr",
          "output_type": "stream",
          "text": [
            "c:\\Users\\AMD\\AppData\\Local\\Programs\\Python\\Python310\\lib\\site-packages\\sklearn\\base.py:443: UserWarning: X has feature names, but SelectFromModel was fitted without feature names\n",
            "  warnings.warn(\n"
          ]
        },
        {
          "name": "stdout",
          "output_type": "stream",
          "text": [
            "Best accuracy is = 0.6365422396856582, with criterion = gini max_depth = 15 metrics and fetaure len = 53\n"
          ]
        },
        {
          "name": "stderr",
          "output_type": "stream",
          "text": [
            "c:\\Users\\AMD\\AppData\\Local\\Programs\\Python\\Python310\\lib\\site-packages\\sklearn\\base.py:443: UserWarning: X has feature names, but SelectFromModel was fitted without feature names\n",
            "  warnings.warn(\n"
          ]
        },
        {
          "name": "stdout",
          "output_type": "stream",
          "text": [
            "Best accuracy is = 0.6365422396856582, with criterion = gini max_depth = 15 metrics and fetaure len = 53\n"
          ]
        },
        {
          "name": "stderr",
          "output_type": "stream",
          "text": [
            "c:\\Users\\AMD\\AppData\\Local\\Programs\\Python\\Python310\\lib\\site-packages\\sklearn\\base.py:443: UserWarning: X has feature names, but SelectFromModel was fitted without feature names\n",
            "  warnings.warn(\n"
          ]
        },
        {
          "name": "stdout",
          "output_type": "stream",
          "text": [
            "Best accuracy is = 0.6365422396856582, with criterion = gini max_depth = 15 metrics and fetaure len = 53\n"
          ]
        },
        {
          "name": "stderr",
          "output_type": "stream",
          "text": [
            "c:\\Users\\AMD\\AppData\\Local\\Programs\\Python\\Python310\\lib\\site-packages\\sklearn\\base.py:443: UserWarning: X has feature names, but SelectFromModel was fitted without feature names\n",
            "  warnings.warn(\n"
          ]
        },
        {
          "name": "stdout",
          "output_type": "stream",
          "text": [
            "Best accuracy is = 0.6365422396856582, with criterion = gini max_depth = 15 metrics and fetaure len = 53\n"
          ]
        },
        {
          "name": "stderr",
          "output_type": "stream",
          "text": [
            "c:\\Users\\AMD\\AppData\\Local\\Programs\\Python\\Python310\\lib\\site-packages\\sklearn\\base.py:443: UserWarning: X has feature names, but SelectFromModel was fitted without feature names\n",
            "  warnings.warn(\n"
          ]
        },
        {
          "name": "stdout",
          "output_type": "stream",
          "text": [
            "Best accuracy is = 0.6365422396856582, with criterion = gini max_depth = 15 metrics and fetaure len = 53\n"
          ]
        },
        {
          "name": "stderr",
          "output_type": "stream",
          "text": [
            "c:\\Users\\AMD\\AppData\\Local\\Programs\\Python\\Python310\\lib\\site-packages\\sklearn\\base.py:443: UserWarning: X has feature names, but SelectFromModel was fitted without feature names\n",
            "  warnings.warn(\n"
          ]
        },
        {
          "name": "stdout",
          "output_type": "stream",
          "text": [
            "Best accuracy is = 0.6365422396856582, with criterion = gini max_depth = 15 metrics and fetaure len = 53\n"
          ]
        },
        {
          "name": "stderr",
          "output_type": "stream",
          "text": [
            "c:\\Users\\AMD\\AppData\\Local\\Programs\\Python\\Python310\\lib\\site-packages\\sklearn\\base.py:443: UserWarning: X has feature names, but SelectFromModel was fitted without feature names\n",
            "  warnings.warn(\n"
          ]
        },
        {
          "name": "stdout",
          "output_type": "stream",
          "text": [
            "Best accuracy is = 0.6365422396856582, with criterion = gini max_depth = 15 metrics and fetaure len = 53\n"
          ]
        },
        {
          "name": "stderr",
          "output_type": "stream",
          "text": [
            "c:\\Users\\AMD\\AppData\\Local\\Programs\\Python\\Python310\\lib\\site-packages\\sklearn\\base.py:443: UserWarning: X has feature names, but SelectFromModel was fitted without feature names\n",
            "  warnings.warn(\n"
          ]
        },
        {
          "name": "stdout",
          "output_type": "stream",
          "text": [
            "Best accuracy is = 0.48788474132285525, with criterion = entropy max_depth = None metrics and fetaure len = 1\n"
          ]
        },
        {
          "name": "stderr",
          "output_type": "stream",
          "text": [
            "c:\\Users\\AMD\\AppData\\Local\\Programs\\Python\\Python310\\lib\\site-packages\\sklearn\\base.py:443: UserWarning: X has feature names, but SelectFromModel was fitted without feature names\n",
            "  warnings.warn(\n"
          ]
        },
        {
          "name": "stdout",
          "output_type": "stream",
          "text": [
            "Best accuracy is = 0.5514079895219385, with criterion = entropy max_depth = None metrics and fetaure len = 2\n"
          ]
        },
        {
          "name": "stderr",
          "output_type": "stream",
          "text": [
            "c:\\Users\\AMD\\AppData\\Local\\Programs\\Python\\Python310\\lib\\site-packages\\sklearn\\base.py:443: UserWarning: X has feature names, but SelectFromModel was fitted without feature names\n",
            "  warnings.warn(\n"
          ]
        },
        {
          "name": "stdout",
          "output_type": "stream",
          "text": [
            "Best accuracy is = 0.5703994760969221, with criterion = entropy max_depth = None metrics and fetaure len = 3\n"
          ]
        },
        {
          "name": "stderr",
          "output_type": "stream",
          "text": [
            "c:\\Users\\AMD\\AppData\\Local\\Programs\\Python\\Python310\\lib\\site-packages\\sklearn\\base.py:443: UserWarning: X has feature names, but SelectFromModel was fitted without feature names\n",
            "  warnings.warn(\n"
          ]
        },
        {
          "name": "stdout",
          "output_type": "stream",
          "text": [
            "Best accuracy is = 0.5946299934512115, with criterion = gini max_depth = 5 metrics and fetaure len = 4\n"
          ]
        },
        {
          "name": "stderr",
          "output_type": "stream",
          "text": [
            "c:\\Users\\AMD\\AppData\\Local\\Programs\\Python\\Python310\\lib\\site-packages\\sklearn\\base.py:443: UserWarning: X has feature names, but SelectFromModel was fitted without feature names\n",
            "  warnings.warn(\n"
          ]
        },
        {
          "name": "stdout",
          "output_type": "stream",
          "text": [
            "Best accuracy is = 0.6123117223313687, with criterion = entropy max_depth = None metrics and fetaure len = 5\n"
          ]
        },
        {
          "name": "stderr",
          "output_type": "stream",
          "text": [
            "c:\\Users\\AMD\\AppData\\Local\\Programs\\Python\\Python310\\lib\\site-packages\\sklearn\\base.py:443: UserWarning: X has feature names, but SelectFromModel was fitted without feature names\n",
            "  warnings.warn(\n"
          ]
        },
        {
          "name": "stdout",
          "output_type": "stream",
          "text": [
            "Best accuracy is = 0.610347085789129, with criterion = entropy max_depth = None metrics and fetaure len = 6\n"
          ]
        },
        {
          "name": "stderr",
          "output_type": "stream",
          "text": [
            "c:\\Users\\AMD\\AppData\\Local\\Programs\\Python\\Python310\\lib\\site-packages\\sklearn\\base.py:443: UserWarning: X has feature names, but SelectFromModel was fitted without feature names\n",
            "  warnings.warn(\n"
          ]
        },
        {
          "name": "stdout",
          "output_type": "stream",
          "text": [
            "Best accuracy is = 0.6129666011787819, with criterion = entropy max_depth = 10 metrics and fetaure len = 7\n"
          ]
        },
        {
          "name": "stderr",
          "output_type": "stream",
          "text": [
            "c:\\Users\\AMD\\AppData\\Local\\Programs\\Python\\Python310\\lib\\site-packages\\sklearn\\base.py:443: UserWarning: X has feature names, but SelectFromModel was fitted without feature names\n",
            "  warnings.warn(\n"
          ]
        },
        {
          "name": "stdout",
          "output_type": "stream",
          "text": [
            "Best accuracy is = 0.6155861165684349, with criterion = entropy max_depth = 15 metrics and fetaure len = 8\n"
          ]
        },
        {
          "name": "stderr",
          "output_type": "stream",
          "text": [
            "c:\\Users\\AMD\\AppData\\Local\\Programs\\Python\\Python310\\lib\\site-packages\\sklearn\\base.py:443: UserWarning: X has feature names, but SelectFromModel was fitted without feature names\n",
            "  warnings.warn(\n"
          ]
        },
        {
          "name": "stdout",
          "output_type": "stream",
          "text": [
            "Best accuracy is = 0.6136214800261951, with criterion = entropy max_depth = 10 metrics and fetaure len = 9\n"
          ]
        },
        {
          "name": "stderr",
          "output_type": "stream",
          "text": [
            "c:\\Users\\AMD\\AppData\\Local\\Programs\\Python\\Python310\\lib\\site-packages\\sklearn\\base.py:443: UserWarning: X has feature names, but SelectFromModel was fitted without feature names\n",
            "  warnings.warn(\n"
          ]
        },
        {
          "name": "stdout",
          "output_type": "stream",
          "text": [
            "Best accuracy is = 0.6175507531106745, with criterion = entropy max_depth = 10 metrics and fetaure len = 10\n"
          ]
        },
        {
          "name": "stderr",
          "output_type": "stream",
          "text": [
            "c:\\Users\\AMD\\AppData\\Local\\Programs\\Python\\Python310\\lib\\site-packages\\sklearn\\base.py:443: UserWarning: X has feature names, but SelectFromModel was fitted without feature names\n",
            "  warnings.warn(\n"
          ]
        },
        {
          "name": "stdout",
          "output_type": "stream",
          "text": [
            "Best accuracy is = 0.6201702685003274, with criterion = entropy max_depth = 10 metrics and fetaure len = 11\n"
          ]
        },
        {
          "name": "stderr",
          "output_type": "stream",
          "text": [
            "c:\\Users\\AMD\\AppData\\Local\\Programs\\Python\\Python310\\lib\\site-packages\\sklearn\\base.py:443: UserWarning: X has feature names, but SelectFromModel was fitted without feature names\n",
            "  warnings.warn(\n"
          ]
        },
        {
          "name": "stdout",
          "output_type": "stream",
          "text": [
            "Best accuracy is = 0.6267190569744597, with criterion = gini max_depth = 10 metrics and fetaure len = 12\n"
          ]
        },
        {
          "name": "stderr",
          "output_type": "stream",
          "text": [
            "c:\\Users\\AMD\\AppData\\Local\\Programs\\Python\\Python310\\lib\\site-packages\\sklearn\\base.py:443: UserWarning: X has feature names, but SelectFromModel was fitted without feature names\n",
            "  warnings.warn(\n"
          ]
        },
        {
          "name": "stdout",
          "output_type": "stream",
          "text": [
            "Best accuracy is = 0.6358873608382449, with criterion = gini max_depth = 10 metrics and fetaure len = 13\n"
          ]
        },
        {
          "name": "stderr",
          "output_type": "stream",
          "text": [
            "c:\\Users\\AMD\\AppData\\Local\\Programs\\Python\\Python310\\lib\\site-packages\\sklearn\\base.py:443: UserWarning: X has feature names, but SelectFromModel was fitted without feature names\n",
            "  warnings.warn(\n"
          ]
        },
        {
          "name": "stdout",
          "output_type": "stream",
          "text": [
            "Best accuracy is = 0.6247544204322201, with criterion = entropy max_depth = 10 metrics and fetaure len = 14\n"
          ]
        },
        {
          "name": "stderr",
          "output_type": "stream",
          "text": [
            "c:\\Users\\AMD\\AppData\\Local\\Programs\\Python\\Python310\\lib\\site-packages\\sklearn\\base.py:443: UserWarning: X has feature names, but SelectFromModel was fitted without feature names\n",
            "  warnings.warn(\n"
          ]
        },
        {
          "name": "stdout",
          "output_type": "stream",
          "text": [
            "Best accuracy is = 0.6254092992796333, with criterion = entropy max_depth = 10 metrics and fetaure len = 15\n"
          ]
        },
        {
          "name": "stderr",
          "output_type": "stream",
          "text": [
            "c:\\Users\\AMD\\AppData\\Local\\Programs\\Python\\Python310\\lib\\site-packages\\sklearn\\base.py:443: UserWarning: X has feature names, but SelectFromModel was fitted without feature names\n",
            "  warnings.warn(\n"
          ]
        },
        {
          "name": "stdout",
          "output_type": "stream",
          "text": [
            "Best accuracy is = 0.6286836935166994, with criterion = gini max_depth = 10 metrics and fetaure len = 16\n"
          ]
        },
        {
          "name": "stderr",
          "output_type": "stream",
          "text": [
            "c:\\Users\\AMD\\AppData\\Local\\Programs\\Python\\Python310\\lib\\site-packages\\sklearn\\base.py:443: UserWarning: X has feature names, but SelectFromModel was fitted without feature names\n",
            "  warnings.warn(\n"
          ]
        },
        {
          "name": "stdout",
          "output_type": "stream",
          "text": [
            "Best accuracy is = 0.627373935821873, with criterion = entropy max_depth = 15 metrics and fetaure len = 17\n"
          ]
        },
        {
          "name": "stderr",
          "output_type": "stream",
          "text": [
            "c:\\Users\\AMD\\AppData\\Local\\Programs\\Python\\Python310\\lib\\site-packages\\sklearn\\base.py:443: UserWarning: X has feature names, but SelectFromModel was fitted without feature names\n",
            "  warnings.warn(\n"
          ]
        },
        {
          "name": "stdout",
          "output_type": "stream",
          "text": [
            "Best accuracy is = 0.6247544204322201, with criterion = entropy max_depth = 10 metrics and fetaure len = 18\n"
          ]
        },
        {
          "name": "stderr",
          "output_type": "stream",
          "text": [
            "c:\\Users\\AMD\\AppData\\Local\\Programs\\Python\\Python310\\lib\\site-packages\\sklearn\\base.py:443: UserWarning: X has feature names, but SelectFromModel was fitted without feature names\n",
            "  warnings.warn(\n"
          ]
        },
        {
          "name": "stdout",
          "output_type": "stream",
          "text": [
            "Best accuracy is = 0.6240995415848068, with criterion = gini max_depth = 10 metrics and fetaure len = 19\n"
          ]
        },
        {
          "name": "stderr",
          "output_type": "stream",
          "text": [
            "c:\\Users\\AMD\\AppData\\Local\\Programs\\Python\\Python310\\lib\\site-packages\\sklearn\\base.py:443: UserWarning: X has feature names, but SelectFromModel was fitted without feature names\n",
            "  warnings.warn(\n"
          ]
        },
        {
          "name": "stdout",
          "output_type": "stream",
          "text": [
            "Best accuracy is = 0.633267845448592, with criterion = entropy max_depth = 10 metrics and fetaure len = 20\n"
          ]
        },
        {
          "name": "stderr",
          "output_type": "stream",
          "text": [
            "c:\\Users\\AMD\\AppData\\Local\\Programs\\Python\\Python310\\lib\\site-packages\\sklearn\\base.py:443: UserWarning: X has feature names, but SelectFromModel was fitted without feature names\n",
            "  warnings.warn(\n"
          ]
        },
        {
          "name": "stdout",
          "output_type": "stream",
          "text": [
            "Best accuracy is = 0.6293385723641126, with criterion = gini max_depth = 10 metrics and fetaure len = 21\n"
          ]
        },
        {
          "name": "stderr",
          "output_type": "stream",
          "text": [
            "c:\\Users\\AMD\\AppData\\Local\\Programs\\Python\\Python310\\lib\\site-packages\\sklearn\\base.py:443: UserWarning: X has feature names, but SelectFromModel was fitted without feature names\n",
            "  warnings.warn(\n"
          ]
        },
        {
          "name": "stdout",
          "output_type": "stream",
          "text": [
            "Best accuracy is = 0.6313032089063523, with criterion = gini max_depth = 10 metrics and fetaure len = 22\n"
          ]
        },
        {
          "name": "stderr",
          "output_type": "stream",
          "text": [
            "c:\\Users\\AMD\\AppData\\Local\\Programs\\Python\\Python310\\lib\\site-packages\\sklearn\\base.py:443: UserWarning: X has feature names, but SelectFromModel was fitted without feature names\n",
            "  warnings.warn(\n"
          ]
        },
        {
          "name": "stdout",
          "output_type": "stream",
          "text": [
            "Best accuracy is = 0.630648330058939, with criterion = entropy max_depth = 15 metrics and fetaure len = 23\n"
          ]
        },
        {
          "name": "stderr",
          "output_type": "stream",
          "text": [
            "c:\\Users\\AMD\\AppData\\Local\\Programs\\Python\\Python310\\lib\\site-packages\\sklearn\\base.py:443: UserWarning: X has feature names, but SelectFromModel was fitted without feature names\n",
            "  warnings.warn(\n"
          ]
        },
        {
          "name": "stdout",
          "output_type": "stream",
          "text": [
            "Best accuracy is = 0.6345776031434185, with criterion = entropy max_depth = 10 metrics and fetaure len = 24\n"
          ]
        },
        {
          "name": "stderr",
          "output_type": "stream",
          "text": [
            "c:\\Users\\AMD\\AppData\\Local\\Programs\\Python\\Python310\\lib\\site-packages\\sklearn\\base.py:443: UserWarning: X has feature names, but SelectFromModel was fitted without feature names\n",
            "  warnings.warn(\n"
          ]
        },
        {
          "name": "stdout",
          "output_type": "stream",
          "text": [
            "Best accuracy is = 0.6371971185330714, with criterion = gini max_depth = 10 metrics and fetaure len = 25\n"
          ]
        },
        {
          "name": "stderr",
          "output_type": "stream",
          "text": [
            "c:\\Users\\AMD\\AppData\\Local\\Programs\\Python\\Python310\\lib\\site-packages\\sklearn\\base.py:443: UserWarning: X has feature names, but SelectFromModel was fitted without feature names\n",
            "  warnings.warn(\n"
          ]
        },
        {
          "name": "stdout",
          "output_type": "stream",
          "text": [
            "Best accuracy is = 0.633267845448592, with criterion = entropy max_depth = 10 metrics and fetaure len = 26\n"
          ]
        },
        {
          "name": "stderr",
          "output_type": "stream",
          "text": [
            "c:\\Users\\AMD\\AppData\\Local\\Programs\\Python\\Python310\\lib\\site-packages\\sklearn\\base.py:443: UserWarning: X has feature names, but SelectFromModel was fitted without feature names\n",
            "  warnings.warn(\n"
          ]
        },
        {
          "name": "stdout",
          "output_type": "stream",
          "text": [
            "Best accuracy is = 0.633267845448592, with criterion = entropy max_depth = 30 metrics and fetaure len = 27\n"
          ]
        },
        {
          "name": "stderr",
          "output_type": "stream",
          "text": [
            "c:\\Users\\AMD\\AppData\\Local\\Programs\\Python\\Python310\\lib\\site-packages\\sklearn\\base.py:443: UserWarning: X has feature names, but SelectFromModel was fitted without feature names\n",
            "  warnings.warn(\n"
          ]
        },
        {
          "name": "stdout",
          "output_type": "stream",
          "text": [
            "Best accuracy is = 0.6345776031434185, with criterion = gini max_depth = 15 metrics and fetaure len = 28\n"
          ]
        },
        {
          "name": "stderr",
          "output_type": "stream",
          "text": [
            "c:\\Users\\AMD\\AppData\\Local\\Programs\\Python\\Python310\\lib\\site-packages\\sklearn\\base.py:443: UserWarning: X has feature names, but SelectFromModel was fitted without feature names\n",
            "  warnings.warn(\n"
          ]
        },
        {
          "name": "stdout",
          "output_type": "stream",
          "text": [
            "Best accuracy is = 0.6326129666011788, with criterion = gini max_depth = 15 metrics and fetaure len = 29\n"
          ]
        },
        {
          "name": "stderr",
          "output_type": "stream",
          "text": [
            "c:\\Users\\AMD\\AppData\\Local\\Programs\\Python\\Python310\\lib\\site-packages\\sklearn\\base.py:443: UserWarning: X has feature names, but SelectFromModel was fitted without feature names\n",
            "  warnings.warn(\n"
          ]
        },
        {
          "name": "stdout",
          "output_type": "stream",
          "text": [
            "Best accuracy is = 0.6339227242960053, with criterion = entropy max_depth = 15 metrics and fetaure len = 30\n"
          ]
        },
        {
          "name": "stderr",
          "output_type": "stream",
          "text": [
            "c:\\Users\\AMD\\AppData\\Local\\Programs\\Python\\Python310\\lib\\site-packages\\sklearn\\base.py:443: UserWarning: X has feature names, but SelectFromModel was fitted without feature names\n",
            "  warnings.warn(\n"
          ]
        },
        {
          "name": "stdout",
          "output_type": "stream",
          "text": [
            "Best accuracy is = 0.6339227242960053, with criterion = entropy max_depth = 20 metrics and fetaure len = 31\n"
          ]
        },
        {
          "name": "stderr",
          "output_type": "stream",
          "text": [
            "c:\\Users\\AMD\\AppData\\Local\\Programs\\Python\\Python310\\lib\\site-packages\\sklearn\\base.py:443: UserWarning: X has feature names, but SelectFromModel was fitted without feature names\n",
            "  warnings.warn(\n"
          ]
        },
        {
          "name": "stdout",
          "output_type": "stream",
          "text": [
            "Best accuracy is = 0.6378519973804846, with criterion = gini max_depth = 25 metrics and fetaure len = 32\n"
          ]
        },
        {
          "name": "stderr",
          "output_type": "stream",
          "text": [
            "c:\\Users\\AMD\\AppData\\Local\\Programs\\Python\\Python310\\lib\\site-packages\\sklearn\\base.py:443: UserWarning: X has feature names, but SelectFromModel was fitted without feature names\n",
            "  warnings.warn(\n"
          ]
        },
        {
          "name": "stdout",
          "output_type": "stream",
          "text": [
            "Best accuracy is = 0.6437459070072037, with criterion = entropy max_depth = 20 metrics and fetaure len = 33\n"
          ]
        },
        {
          "name": "stderr",
          "output_type": "stream",
          "text": [
            "c:\\Users\\AMD\\AppData\\Local\\Programs\\Python\\Python310\\lib\\site-packages\\sklearn\\base.py:443: UserWarning: X has feature names, but SelectFromModel was fitted without feature names\n",
            "  warnings.warn(\n"
          ]
        },
        {
          "name": "stdout",
          "output_type": "stream",
          "text": [
            "Best accuracy is = 0.6430910281597905, with criterion = gini max_depth = 20 metrics and fetaure len = 34\n"
          ]
        },
        {
          "name": "stderr",
          "output_type": "stream",
          "text": [
            "c:\\Users\\AMD\\AppData\\Local\\Programs\\Python\\Python310\\lib\\site-packages\\sklearn\\base.py:443: UserWarning: X has feature names, but SelectFromModel was fitted without feature names\n",
            "  warnings.warn(\n"
          ]
        },
        {
          "name": "stdout",
          "output_type": "stream",
          "text": [
            "Best accuracy is = 0.6430910281597905, with criterion = gini max_depth = 15 metrics and fetaure len = 35\n"
          ]
        },
        {
          "name": "stderr",
          "output_type": "stream",
          "text": [
            "c:\\Users\\AMD\\AppData\\Local\\Programs\\Python\\Python310\\lib\\site-packages\\sklearn\\base.py:443: UserWarning: X has feature names, but SelectFromModel was fitted without feature names\n",
            "  warnings.warn(\n"
          ]
        },
        {
          "name": "stdout",
          "output_type": "stream",
          "text": [
            "Best accuracy is = 0.641781270464964, with criterion = gini max_depth = 15 metrics and fetaure len = 36\n"
          ]
        },
        {
          "name": "stderr",
          "output_type": "stream",
          "text": [
            "c:\\Users\\AMD\\AppData\\Local\\Programs\\Python\\Python310\\lib\\site-packages\\sklearn\\base.py:443: UserWarning: X has feature names, but SelectFromModel was fitted without feature names\n",
            "  warnings.warn(\n"
          ]
        },
        {
          "name": "stdout",
          "output_type": "stream",
          "text": [
            "Best accuracy is = 0.6339227242960053, with criterion = gini max_depth = 15 metrics and fetaure len = 37\n"
          ]
        },
        {
          "name": "stderr",
          "output_type": "stream",
          "text": [
            "c:\\Users\\AMD\\AppData\\Local\\Programs\\Python\\Python310\\lib\\site-packages\\sklearn\\base.py:443: UserWarning: X has feature names, but SelectFromModel was fitted without feature names\n",
            "  warnings.warn(\n"
          ]
        },
        {
          "name": "stdout",
          "output_type": "stream",
          "text": [
            "Best accuracy is = 0.6385068762278978, with criterion = entropy max_depth = 15 metrics and fetaure len = 38\n"
          ]
        },
        {
          "name": "stderr",
          "output_type": "stream",
          "text": [
            "c:\\Users\\AMD\\AppData\\Local\\Programs\\Python\\Python310\\lib\\site-packages\\sklearn\\base.py:443: UserWarning: X has feature names, but SelectFromModel was fitted without feature names\n",
            "  warnings.warn(\n"
          ]
        },
        {
          "name": "stdout",
          "output_type": "stream",
          "text": [
            "Best accuracy is = 0.6358873608382449, with criterion = entropy max_depth = None metrics and fetaure len = 39\n"
          ]
        },
        {
          "name": "stderr",
          "output_type": "stream",
          "text": [
            "c:\\Users\\AMD\\AppData\\Local\\Programs\\Python\\Python310\\lib\\site-packages\\sklearn\\base.py:443: UserWarning: X has feature names, but SelectFromModel was fitted without feature names\n",
            "  warnings.warn(\n"
          ]
        },
        {
          "name": "stdout",
          "output_type": "stream",
          "text": [
            "Best accuracy is = 0.6398166339227243, with criterion = gini max_depth = 30 metrics and fetaure len = 40\n"
          ]
        },
        {
          "name": "stderr",
          "output_type": "stream",
          "text": [
            "c:\\Users\\AMD\\AppData\\Local\\Programs\\Python\\Python310\\lib\\site-packages\\sklearn\\base.py:443: UserWarning: X has feature names, but SelectFromModel was fitted without feature names\n",
            "  warnings.warn(\n"
          ]
        },
        {
          "name": "stdout",
          "output_type": "stream",
          "text": [
            "Best accuracy is = 0.639161755075311, with criterion = gini max_depth = None metrics and fetaure len = 41\n"
          ]
        },
        {
          "name": "stderr",
          "output_type": "stream",
          "text": [
            "c:\\Users\\AMD\\AppData\\Local\\Programs\\Python\\Python310\\lib\\site-packages\\sklearn\\base.py:443: UserWarning: X has feature names, but SelectFromModel was fitted without feature names\n",
            "  warnings.warn(\n"
          ]
        },
        {
          "name": "stdout",
          "output_type": "stream",
          "text": [
            "Best accuracy is = 0.639161755075311, with criterion = gini max_depth = None metrics and fetaure len = 41\n"
          ]
        },
        {
          "name": "stderr",
          "output_type": "stream",
          "text": [
            "c:\\Users\\AMD\\AppData\\Local\\Programs\\Python\\Python310\\lib\\site-packages\\sklearn\\base.py:443: UserWarning: X has feature names, but SelectFromModel was fitted without feature names\n",
            "  warnings.warn(\n"
          ]
        },
        {
          "name": "stdout",
          "output_type": "stream",
          "text": [
            "Best accuracy is = 0.639161755075311, with criterion = gini max_depth = None metrics and fetaure len = 41\n"
          ]
        },
        {
          "name": "stderr",
          "output_type": "stream",
          "text": [
            "c:\\Users\\AMD\\AppData\\Local\\Programs\\Python\\Python310\\lib\\site-packages\\sklearn\\base.py:443: UserWarning: X has feature names, but SelectFromModel was fitted without feature names\n",
            "  warnings.warn(\n"
          ]
        },
        {
          "name": "stdout",
          "output_type": "stream",
          "text": [
            "Best accuracy is = 0.639161755075311, with criterion = gini max_depth = None metrics and fetaure len = 41\n"
          ]
        },
        {
          "name": "stderr",
          "output_type": "stream",
          "text": [
            "c:\\Users\\AMD\\AppData\\Local\\Programs\\Python\\Python310\\lib\\site-packages\\sklearn\\base.py:443: UserWarning: X has feature names, but SelectFromModel was fitted without feature names\n",
            "  warnings.warn(\n"
          ]
        },
        {
          "name": "stdout",
          "output_type": "stream",
          "text": [
            "Best accuracy is = 0.639161755075311, with criterion = gini max_depth = None metrics and fetaure len = 41\n"
          ]
        },
        {
          "name": "stderr",
          "output_type": "stream",
          "text": [
            "c:\\Users\\AMD\\AppData\\Local\\Programs\\Python\\Python310\\lib\\site-packages\\sklearn\\base.py:443: UserWarning: X has feature names, but SelectFromModel was fitted without feature names\n",
            "  warnings.warn(\n"
          ]
        },
        {
          "name": "stdout",
          "output_type": "stream",
          "text": [
            "Best accuracy is = 0.639161755075311, with criterion = gini max_depth = None metrics and fetaure len = 41\n"
          ]
        },
        {
          "name": "stderr",
          "output_type": "stream",
          "text": [
            "c:\\Users\\AMD\\AppData\\Local\\Programs\\Python\\Python310\\lib\\site-packages\\sklearn\\base.py:443: UserWarning: X has feature names, but SelectFromModel was fitted without feature names\n",
            "  warnings.warn(\n"
          ]
        },
        {
          "name": "stdout",
          "output_type": "stream",
          "text": [
            "Best accuracy is = 0.639161755075311, with criterion = gini max_depth = None metrics and fetaure len = 41\n"
          ]
        },
        {
          "name": "stderr",
          "output_type": "stream",
          "text": [
            "c:\\Users\\AMD\\AppData\\Local\\Programs\\Python\\Python310\\lib\\site-packages\\sklearn\\base.py:443: UserWarning: X has feature names, but SelectFromModel was fitted without feature names\n",
            "  warnings.warn(\n"
          ]
        },
        {
          "name": "stdout",
          "output_type": "stream",
          "text": [
            "Best accuracy is = 0.639161755075311, with criterion = gini max_depth = None metrics and fetaure len = 41\n"
          ]
        },
        {
          "name": "stderr",
          "output_type": "stream",
          "text": [
            "c:\\Users\\AMD\\AppData\\Local\\Programs\\Python\\Python310\\lib\\site-packages\\sklearn\\base.py:443: UserWarning: X has feature names, but SelectFromModel was fitted without feature names\n",
            "  warnings.warn(\n"
          ]
        },
        {
          "name": "stdout",
          "output_type": "stream",
          "text": [
            "Best accuracy is = 0.639161755075311, with criterion = gini max_depth = None metrics and fetaure len = 41\n"
          ]
        },
        {
          "name": "stderr",
          "output_type": "stream",
          "text": [
            "c:\\Users\\AMD\\AppData\\Local\\Programs\\Python\\Python310\\lib\\site-packages\\sklearn\\base.py:443: UserWarning: X has feature names, but SelectFromModel was fitted without feature names\n",
            "  warnings.warn(\n"
          ]
        },
        {
          "name": "stdout",
          "output_type": "stream",
          "text": [
            "Best accuracy is = 0.639161755075311, with criterion = gini max_depth = None metrics and fetaure len = 41\n"
          ]
        },
        {
          "name": "stderr",
          "output_type": "stream",
          "text": [
            "c:\\Users\\AMD\\AppData\\Local\\Programs\\Python\\Python310\\lib\\site-packages\\sklearn\\base.py:443: UserWarning: X has feature names, but SelectFromModel was fitted without feature names\n",
            "  warnings.warn(\n"
          ]
        },
        {
          "name": "stdout",
          "output_type": "stream",
          "text": [
            "Best accuracy is = 0.639161755075311, with criterion = gini max_depth = None metrics and fetaure len = 41\n"
          ]
        },
        {
          "name": "stderr",
          "output_type": "stream",
          "text": [
            "c:\\Users\\AMD\\AppData\\Local\\Programs\\Python\\Python310\\lib\\site-packages\\sklearn\\base.py:443: UserWarning: X has feature names, but SelectFromModel was fitted without feature names\n",
            "  warnings.warn(\n"
          ]
        },
        {
          "name": "stdout",
          "output_type": "stream",
          "text": [
            "Best accuracy is = 0.639161755075311, with criterion = gini max_depth = None metrics and fetaure len = 41\n"
          ]
        },
        {
          "name": "stderr",
          "output_type": "stream",
          "text": [
            "c:\\Users\\AMD\\AppData\\Local\\Programs\\Python\\Python310\\lib\\site-packages\\sklearn\\base.py:443: UserWarning: X has feature names, but SelectFromModel was fitted without feature names\n",
            "  warnings.warn(\n"
          ]
        },
        {
          "name": "stdout",
          "output_type": "stream",
          "text": [
            "Best accuracy is = 0.639161755075311, with criterion = gini max_depth = None metrics and fetaure len = 41\n"
          ]
        },
        {
          "name": "stderr",
          "output_type": "stream",
          "text": [
            "c:\\Users\\AMD\\AppData\\Local\\Programs\\Python\\Python310\\lib\\site-packages\\sklearn\\base.py:443: UserWarning: X has feature names, but SelectFromModel was fitted without feature names\n",
            "  warnings.warn(\n"
          ]
        },
        {
          "name": "stdout",
          "output_type": "stream",
          "text": [
            "Best accuracy is = 0.639161755075311, with criterion = gini max_depth = None metrics and fetaure len = 41\n"
          ]
        },
        {
          "name": "stderr",
          "output_type": "stream",
          "text": [
            "c:\\Users\\AMD\\AppData\\Local\\Programs\\Python\\Python310\\lib\\site-packages\\sklearn\\base.py:443: UserWarning: X has feature names, but SelectFromModel was fitted without feature names\n",
            "  warnings.warn(\n"
          ]
        },
        {
          "name": "stdout",
          "output_type": "stream",
          "text": [
            "Best accuracy is = 0.639161755075311, with criterion = gini max_depth = None metrics and fetaure len = 41\n"
          ]
        },
        {
          "name": "stderr",
          "output_type": "stream",
          "text": [
            "c:\\Users\\AMD\\AppData\\Local\\Programs\\Python\\Python310\\lib\\site-packages\\sklearn\\base.py:443: UserWarning: X has feature names, but SelectFromModel was fitted without feature names\n",
            "  warnings.warn(\n"
          ]
        },
        {
          "name": "stdout",
          "output_type": "stream",
          "text": [
            "Best accuracy is = 0.639161755075311, with criterion = gini max_depth = None metrics and fetaure len = 41\n"
          ]
        },
        {
          "name": "stderr",
          "output_type": "stream",
          "text": [
            "c:\\Users\\AMD\\AppData\\Local\\Programs\\Python\\Python310\\lib\\site-packages\\sklearn\\base.py:443: UserWarning: X has feature names, but SelectFromModel was fitted without feature names\n",
            "  warnings.warn(\n"
          ]
        },
        {
          "name": "stdout",
          "output_type": "stream",
          "text": [
            "Best accuracy is = 0.639161755075311, with criterion = gini max_depth = None metrics and fetaure len = 41\n"
          ]
        },
        {
          "name": "stderr",
          "output_type": "stream",
          "text": [
            "c:\\Users\\AMD\\AppData\\Local\\Programs\\Python\\Python310\\lib\\site-packages\\sklearn\\base.py:443: UserWarning: X has feature names, but SelectFromModel was fitted without feature names\n",
            "  warnings.warn(\n"
          ]
        },
        {
          "name": "stdout",
          "output_type": "stream",
          "text": [
            "Best accuracy is = 0.639161755075311, with criterion = gini max_depth = None metrics and fetaure len = 41\n"
          ]
        },
        {
          "name": "stderr",
          "output_type": "stream",
          "text": [
            "c:\\Users\\AMD\\AppData\\Local\\Programs\\Python\\Python310\\lib\\site-packages\\sklearn\\base.py:443: UserWarning: X has feature names, but SelectFromModel was fitted without feature names\n",
            "  warnings.warn(\n"
          ]
        },
        {
          "name": "stdout",
          "output_type": "stream",
          "text": [
            "Best accuracy is = 0.639161755075311, with criterion = gini max_depth = None metrics and fetaure len = 41\n"
          ]
        },
        {
          "name": "stderr",
          "output_type": "stream",
          "text": [
            "c:\\Users\\AMD\\AppData\\Local\\Programs\\Python\\Python310\\lib\\site-packages\\sklearn\\base.py:443: UserWarning: X has feature names, but SelectFromModel was fitted without feature names\n",
            "  warnings.warn(\n"
          ]
        },
        {
          "name": "stdout",
          "output_type": "stream",
          "text": [
            "Best accuracy is = 0.639161755075311, with criterion = gini max_depth = None metrics and fetaure len = 41\n"
          ]
        },
        {
          "name": "stderr",
          "output_type": "stream",
          "text": [
            "c:\\Users\\AMD\\AppData\\Local\\Programs\\Python\\Python310\\lib\\site-packages\\sklearn\\base.py:443: UserWarning: X has feature names, but SelectFromModel was fitted without feature names\n",
            "  warnings.warn(\n"
          ]
        },
        {
          "name": "stdout",
          "output_type": "stream",
          "text": [
            "Best accuracy is = 0.639161755075311, with criterion = gini max_depth = None metrics and fetaure len = 41\n"
          ]
        },
        {
          "name": "stderr",
          "output_type": "stream",
          "text": [
            "c:\\Users\\AMD\\AppData\\Local\\Programs\\Python\\Python310\\lib\\site-packages\\sklearn\\base.py:443: UserWarning: X has feature names, but SelectFromModel was fitted without feature names\n",
            "  warnings.warn(\n"
          ]
        },
        {
          "name": "stdout",
          "output_type": "stream",
          "text": [
            "Best accuracy is = 0.639161755075311, with criterion = gini max_depth = None metrics and fetaure len = 41\n"
          ]
        },
        {
          "name": "stderr",
          "output_type": "stream",
          "text": [
            "c:\\Users\\AMD\\AppData\\Local\\Programs\\Python\\Python310\\lib\\site-packages\\sklearn\\base.py:443: UserWarning: X has feature names, but SelectFromModel was fitted without feature names\n",
            "  warnings.warn(\n"
          ]
        },
        {
          "name": "stdout",
          "output_type": "stream",
          "text": [
            "Best accuracy is = 0.639161755075311, with criterion = gini max_depth = None metrics and fetaure len = 41\n"
          ]
        },
        {
          "name": "stderr",
          "output_type": "stream",
          "text": [
            "c:\\Users\\AMD\\AppData\\Local\\Programs\\Python\\Python310\\lib\\site-packages\\sklearn\\base.py:443: UserWarning: X has feature names, but SelectFromModel was fitted without feature names\n",
            "  warnings.warn(\n"
          ]
        },
        {
          "name": "stdout",
          "output_type": "stream",
          "text": [
            "Best accuracy is = 0.639161755075311, with criterion = gini max_depth = None metrics and fetaure len = 41\n"
          ]
        },
        {
          "name": "stderr",
          "output_type": "stream",
          "text": [
            "c:\\Users\\AMD\\AppData\\Local\\Programs\\Python\\Python310\\lib\\site-packages\\sklearn\\base.py:443: UserWarning: X has feature names, but SelectFromModel was fitted without feature names\n",
            "  warnings.warn(\n"
          ]
        },
        {
          "name": "stdout",
          "output_type": "stream",
          "text": [
            "Best accuracy is = 0.639161755075311, with criterion = gini max_depth = None metrics and fetaure len = 41\n"
          ]
        },
        {
          "name": "stderr",
          "output_type": "stream",
          "text": [
            "c:\\Users\\AMD\\AppData\\Local\\Programs\\Python\\Python310\\lib\\site-packages\\sklearn\\base.py:443: UserWarning: X has feature names, but SelectFromModel was fitted without feature names\n",
            "  warnings.warn(\n"
          ]
        },
        {
          "name": "stdout",
          "output_type": "stream",
          "text": [
            "Best accuracy is = 0.639161755075311, with criterion = gini max_depth = None metrics and fetaure len = 41\n"
          ]
        },
        {
          "name": "stderr",
          "output_type": "stream",
          "text": [
            "c:\\Users\\AMD\\AppData\\Local\\Programs\\Python\\Python310\\lib\\site-packages\\sklearn\\base.py:443: UserWarning: X has feature names, but SelectFromModel was fitted without feature names\n",
            "  warnings.warn(\n"
          ]
        },
        {
          "name": "stdout",
          "output_type": "stream",
          "text": [
            "Best accuracy is = 0.639161755075311, with criterion = gini max_depth = None metrics and fetaure len = 41\n"
          ]
        },
        {
          "name": "stderr",
          "output_type": "stream",
          "text": [
            "c:\\Users\\AMD\\AppData\\Local\\Programs\\Python\\Python310\\lib\\site-packages\\sklearn\\base.py:443: UserWarning: X has feature names, but SelectFromModel was fitted without feature names\n",
            "  warnings.warn(\n"
          ]
        },
        {
          "name": "stdout",
          "output_type": "stream",
          "text": [
            "Best accuracy is = 0.639161755075311, with criterion = gini max_depth = None metrics and fetaure len = 41\n"
          ]
        },
        {
          "name": "stderr",
          "output_type": "stream",
          "text": [
            "c:\\Users\\AMD\\AppData\\Local\\Programs\\Python\\Python310\\lib\\site-packages\\sklearn\\base.py:443: UserWarning: X has feature names, but SelectFromModel was fitted without feature names\n",
            "  warnings.warn(\n"
          ]
        },
        {
          "name": "stdout",
          "output_type": "stream",
          "text": [
            "Best accuracy is = 0.639161755075311, with criterion = gini max_depth = None metrics and fetaure len = 41\n"
          ]
        },
        {
          "name": "stderr",
          "output_type": "stream",
          "text": [
            "c:\\Users\\AMD\\AppData\\Local\\Programs\\Python\\Python310\\lib\\site-packages\\sklearn\\base.py:443: UserWarning: X has feature names, but SelectFromModel was fitted without feature names\n",
            "  warnings.warn(\n"
          ]
        },
        {
          "name": "stdout",
          "output_type": "stream",
          "text": [
            "Best accuracy is = 0.639161755075311, with criterion = gini max_depth = None metrics and fetaure len = 41\n"
          ]
        },
        {
          "name": "stderr",
          "output_type": "stream",
          "text": [
            "c:\\Users\\AMD\\AppData\\Local\\Programs\\Python\\Python310\\lib\\site-packages\\sklearn\\base.py:443: UserWarning: X has feature names, but SelectFromModel was fitted without feature names\n",
            "  warnings.warn(\n"
          ]
        },
        {
          "name": "stdout",
          "output_type": "stream",
          "text": [
            "Best accuracy is = 0.639161755075311, with criterion = gini max_depth = None metrics and fetaure len = 41\n"
          ]
        },
        {
          "name": "stderr",
          "output_type": "stream",
          "text": [
            "c:\\Users\\AMD\\AppData\\Local\\Programs\\Python\\Python310\\lib\\site-packages\\sklearn\\base.py:443: UserWarning: X has feature names, but SelectFromModel was fitted without feature names\n",
            "  warnings.warn(\n"
          ]
        },
        {
          "name": "stdout",
          "output_type": "stream",
          "text": [
            "Best accuracy is = 0.639161755075311, with criterion = gini max_depth = None metrics and fetaure len = 41\n"
          ]
        },
        {
          "name": "stderr",
          "output_type": "stream",
          "text": [
            "c:\\Users\\AMD\\AppData\\Local\\Programs\\Python\\Python310\\lib\\site-packages\\sklearn\\base.py:443: UserWarning: X has feature names, but SelectFromModel was fitted without feature names\n",
            "  warnings.warn(\n"
          ]
        },
        {
          "name": "stdout",
          "output_type": "stream",
          "text": [
            "Best accuracy is = 0.639161755075311, with criterion = gini max_depth = None metrics and fetaure len = 41\n"
          ]
        },
        {
          "name": "stderr",
          "output_type": "stream",
          "text": [
            "c:\\Users\\AMD\\AppData\\Local\\Programs\\Python\\Python310\\lib\\site-packages\\sklearn\\base.py:443: UserWarning: X has feature names, but SelectFromModel was fitted without feature names\n",
            "  warnings.warn(\n"
          ]
        },
        {
          "name": "stdout",
          "output_type": "stream",
          "text": [
            "Best accuracy is = 0.639161755075311, with criterion = gini max_depth = None metrics and fetaure len = 41\n"
          ]
        },
        {
          "name": "stderr",
          "output_type": "stream",
          "text": [
            "c:\\Users\\AMD\\AppData\\Local\\Programs\\Python\\Python310\\lib\\site-packages\\sklearn\\base.py:443: UserWarning: X has feature names, but SelectFromModel was fitted without feature names\n",
            "  warnings.warn(\n"
          ]
        },
        {
          "name": "stdout",
          "output_type": "stream",
          "text": [
            "Best accuracy is = 0.527177472167649, with criterion = entropy max_depth = None metrics and fetaure len = 1\n"
          ]
        },
        {
          "name": "stderr",
          "output_type": "stream",
          "text": [
            "c:\\Users\\AMD\\AppData\\Local\\Programs\\Python\\Python310\\lib\\site-packages\\sklearn\\base.py:443: UserWarning: X has feature names, but SelectFromModel was fitted without feature names\n",
            "  warnings.warn(\n"
          ]
        },
        {
          "name": "stdout",
          "output_type": "stream",
          "text": [
            "Best accuracy is = 0.5330713817943681, with criterion = entropy max_depth = None metrics and fetaure len = 2\n"
          ]
        },
        {
          "name": "stderr",
          "output_type": "stream",
          "text": [
            "c:\\Users\\AMD\\AppData\\Local\\Programs\\Python\\Python310\\lib\\site-packages\\sklearn\\base.py:443: UserWarning: X has feature names, but SelectFromModel was fitted without feature names\n",
            "  warnings.warn(\n"
          ]
        },
        {
          "name": "stdout",
          "output_type": "stream",
          "text": [
            "Best accuracy is = 0.5514079895219385, with criterion = entropy max_depth = None metrics and fetaure len = 3\n"
          ]
        },
        {
          "name": "stderr",
          "output_type": "stream",
          "text": [
            "c:\\Users\\AMD\\AppData\\Local\\Programs\\Python\\Python310\\lib\\site-packages\\sklearn\\base.py:443: UserWarning: X has feature names, but SelectFromModel was fitted without feature names\n",
            "  warnings.warn(\n"
          ]
        },
        {
          "name": "stdout",
          "output_type": "stream",
          "text": [
            "Best accuracy is = 0.587426326129666, with criterion = entropy max_depth = None metrics and fetaure len = 4\n"
          ]
        },
        {
          "name": "stderr",
          "output_type": "stream",
          "text": [
            "c:\\Users\\AMD\\AppData\\Local\\Programs\\Python\\Python310\\lib\\site-packages\\sklearn\\base.py:443: UserWarning: X has feature names, but SelectFromModel was fitted without feature names\n",
            "  warnings.warn(\n"
          ]
        },
        {
          "name": "stdout",
          "output_type": "stream",
          "text": [
            "Best accuracy is = 0.5952848722986247, with criterion = gini max_depth = 5 metrics and fetaure len = 5\n"
          ]
        },
        {
          "name": "stderr",
          "output_type": "stream",
          "text": [
            "c:\\Users\\AMD\\AppData\\Local\\Programs\\Python\\Python310\\lib\\site-packages\\sklearn\\base.py:443: UserWarning: X has feature names, but SelectFromModel was fitted without feature names\n",
            "  warnings.warn(\n"
          ]
        },
        {
          "name": "stdout",
          "output_type": "stream",
          "text": [
            "Best accuracy is = 0.5952848722986247, with criterion = gini max_depth = None metrics and fetaure len = 6\n"
          ]
        },
        {
          "name": "stderr",
          "output_type": "stream",
          "text": [
            "c:\\Users\\AMD\\AppData\\Local\\Programs\\Python\\Python310\\lib\\site-packages\\sklearn\\base.py:443: UserWarning: X has feature names, but SelectFromModel was fitted without feature names\n",
            "  warnings.warn(\n"
          ]
        },
        {
          "name": "stdout",
          "output_type": "stream",
          "text": [
            "Best accuracy is = 0.6129666011787819, with criterion = entropy max_depth = 10 metrics and fetaure len = 7\n"
          ]
        },
        {
          "name": "stderr",
          "output_type": "stream",
          "text": [
            "c:\\Users\\AMD\\AppData\\Local\\Programs\\Python\\Python310\\lib\\site-packages\\sklearn\\base.py:443: UserWarning: X has feature names, but SelectFromModel was fitted without feature names\n",
            "  warnings.warn(\n"
          ]
        },
        {
          "name": "stdout",
          "output_type": "stream",
          "text": [
            "Best accuracy is = 0.6136214800261951, with criterion = entropy max_depth = None metrics and fetaure len = 8\n"
          ]
        },
        {
          "name": "stderr",
          "output_type": "stream",
          "text": [
            "c:\\Users\\AMD\\AppData\\Local\\Programs\\Python\\Python310\\lib\\site-packages\\sklearn\\base.py:443: UserWarning: X has feature names, but SelectFromModel was fitted without feature names\n",
            "  warnings.warn(\n"
          ]
        },
        {
          "name": "stdout",
          "output_type": "stream",
          "text": [
            "Best accuracy is = 0.6057629338572365, with criterion = entropy max_depth = 5 metrics and fetaure len = 9\n"
          ]
        },
        {
          "name": "stderr",
          "output_type": "stream",
          "text": [
            "c:\\Users\\AMD\\AppData\\Local\\Programs\\Python\\Python310\\lib\\site-packages\\sklearn\\base.py:443: UserWarning: X has feature names, but SelectFromModel was fitted without feature names\n",
            "  warnings.warn(\n"
          ]
        },
        {
          "name": "stdout",
          "output_type": "stream",
          "text": [
            "Best accuracy is = 0.610347085789129, with criterion = entropy max_depth = 10 metrics and fetaure len = 10\n"
          ]
        },
        {
          "name": "stderr",
          "output_type": "stream",
          "text": [
            "c:\\Users\\AMD\\AppData\\Local\\Programs\\Python\\Python310\\lib\\site-packages\\sklearn\\base.py:443: UserWarning: X has feature names, but SelectFromModel was fitted without feature names\n",
            "  warnings.warn(\n"
          ]
        },
        {
          "name": "stdout",
          "output_type": "stream",
          "text": [
            "Best accuracy is = 0.6149312377210217, with criterion = gini max_depth = 10 metrics and fetaure len = 11\n"
          ]
        },
        {
          "name": "stderr",
          "output_type": "stream",
          "text": [
            "c:\\Users\\AMD\\AppData\\Local\\Programs\\Python\\Python310\\lib\\site-packages\\sklearn\\base.py:443: UserWarning: X has feature names, but SelectFromModel was fitted without feature names\n",
            "  warnings.warn(\n"
          ]
        },
        {
          "name": "stdout",
          "output_type": "stream",
          "text": [
            "Best accuracy is = 0.618860510805501, with criterion = entropy max_depth = 10 metrics and fetaure len = 12\n"
          ]
        },
        {
          "name": "stderr",
          "output_type": "stream",
          "text": [
            "c:\\Users\\AMD\\AppData\\Local\\Programs\\Python\\Python310\\lib\\site-packages\\sklearn\\base.py:443: UserWarning: X has feature names, but SelectFromModel was fitted without feature names\n",
            "  warnings.warn(\n"
          ]
        },
        {
          "name": "stdout",
          "output_type": "stream",
          "text": [
            "Best accuracy is = 0.6195153896529142, with criterion = entropy max_depth = 10 metrics and fetaure len = 13\n"
          ]
        },
        {
          "name": "stderr",
          "output_type": "stream",
          "text": [
            "c:\\Users\\AMD\\AppData\\Local\\Programs\\Python\\Python310\\lib\\site-packages\\sklearn\\base.py:443: UserWarning: X has feature names, but SelectFromModel was fitted without feature names\n",
            "  warnings.warn(\n"
          ]
        },
        {
          "name": "stdout",
          "output_type": "stream",
          "text": [
            "Best accuracy is = 0.6293385723641126, with criterion = entropy max_depth = 10 metrics and fetaure len = 14\n"
          ]
        },
        {
          "name": "stderr",
          "output_type": "stream",
          "text": [
            "c:\\Users\\AMD\\AppData\\Local\\Programs\\Python\\Python310\\lib\\site-packages\\sklearn\\base.py:443: UserWarning: X has feature names, but SelectFromModel was fitted without feature names\n",
            "  warnings.warn(\n"
          ]
        },
        {
          "name": "stdout",
          "output_type": "stream",
          "text": [
            "Best accuracy is = 0.6234446627373936, with criterion = entropy max_depth = 10 metrics and fetaure len = 15\n"
          ]
        },
        {
          "name": "stderr",
          "output_type": "stream",
          "text": [
            "c:\\Users\\AMD\\AppData\\Local\\Programs\\Python\\Python310\\lib\\site-packages\\sklearn\\base.py:443: UserWarning: X has feature names, but SelectFromModel was fitted without feature names\n",
            "  warnings.warn(\n"
          ]
        },
        {
          "name": "stdout",
          "output_type": "stream",
          "text": [
            "Best accuracy is = 0.6247544204322201, with criterion = entropy max_depth = 10 metrics and fetaure len = 16\n"
          ]
        },
        {
          "name": "stderr",
          "output_type": "stream",
          "text": [
            "c:\\Users\\AMD\\AppData\\Local\\Programs\\Python\\Python310\\lib\\site-packages\\sklearn\\base.py:443: UserWarning: X has feature names, but SelectFromModel was fitted without feature names\n",
            "  warnings.warn(\n"
          ]
        },
        {
          "name": "stdout",
          "output_type": "stream",
          "text": [
            "Best accuracy is = 0.6162409954158481, with criterion = entropy max_depth = 10 metrics and fetaure len = 17\n"
          ]
        },
        {
          "name": "stderr",
          "output_type": "stream",
          "text": [
            "c:\\Users\\AMD\\AppData\\Local\\Programs\\Python\\Python310\\lib\\site-packages\\sklearn\\base.py:443: UserWarning: X has feature names, but SelectFromModel was fitted without feature names\n",
            "  warnings.warn(\n"
          ]
        },
        {
          "name": "stdout",
          "output_type": "stream",
          "text": [
            "Best accuracy is = 0.6208251473477406, with criterion = entropy max_depth = 10 metrics and fetaure len = 18\n"
          ]
        },
        {
          "name": "stderr",
          "output_type": "stream",
          "text": [
            "c:\\Users\\AMD\\AppData\\Local\\Programs\\Python\\Python310\\lib\\site-packages\\sklearn\\base.py:443: UserWarning: X has feature names, but SelectFromModel was fitted without feature names\n",
            "  warnings.warn(\n"
          ]
        },
        {
          "name": "stdout",
          "output_type": "stream",
          "text": [
            "Best accuracy is = 0.6293385723641126, with criterion = entropy max_depth = 10 metrics and fetaure len = 19\n"
          ]
        },
        {
          "name": "stderr",
          "output_type": "stream",
          "text": [
            "c:\\Users\\AMD\\AppData\\Local\\Programs\\Python\\Python310\\lib\\site-packages\\sklearn\\base.py:443: UserWarning: X has feature names, but SelectFromModel was fitted without feature names\n",
            "  warnings.warn(\n"
          ]
        },
        {
          "name": "stdout",
          "output_type": "stream",
          "text": [
            "Best accuracy is = 0.6286836935166994, with criterion = gini max_depth = 15 metrics and fetaure len = 20\n"
          ]
        },
        {
          "name": "stderr",
          "output_type": "stream",
          "text": [
            "c:\\Users\\AMD\\AppData\\Local\\Programs\\Python\\Python310\\lib\\site-packages\\sklearn\\base.py:443: UserWarning: X has feature names, but SelectFromModel was fitted without feature names\n",
            "  warnings.warn(\n"
          ]
        },
        {
          "name": "stdout",
          "output_type": "stream",
          "text": [
            "Best accuracy is = 0.6201702685003274, with criterion = gini max_depth = 15 metrics and fetaure len = 21\n"
          ]
        },
        {
          "name": "stderr",
          "output_type": "stream",
          "text": [
            "c:\\Users\\AMD\\AppData\\Local\\Programs\\Python\\Python310\\lib\\site-packages\\sklearn\\base.py:443: UserWarning: X has feature names, but SelectFromModel was fitted without feature names\n",
            "  warnings.warn(\n"
          ]
        },
        {
          "name": "stdout",
          "output_type": "stream",
          "text": [
            "Best accuracy is = 0.6227897838899804, with criterion = entropy max_depth = 15 metrics and fetaure len = 22\n"
          ]
        },
        {
          "name": "stderr",
          "output_type": "stream",
          "text": [
            "c:\\Users\\AMD\\AppData\\Local\\Programs\\Python\\Python310\\lib\\site-packages\\sklearn\\base.py:443: UserWarning: X has feature names, but SelectFromModel was fitted without feature names\n",
            "  warnings.warn(\n"
          ]
        },
        {
          "name": "stdout",
          "output_type": "stream",
          "text": [
            "Best accuracy is = 0.6240995415848068, with criterion = entropy max_depth = 15 metrics and fetaure len = 23\n"
          ]
        },
        {
          "name": "stderr",
          "output_type": "stream",
          "text": [
            "c:\\Users\\AMD\\AppData\\Local\\Programs\\Python\\Python310\\lib\\site-packages\\sklearn\\base.py:443: UserWarning: X has feature names, but SelectFromModel was fitted without feature names\n",
            "  warnings.warn(\n"
          ]
        },
        {
          "name": "stdout",
          "output_type": "stream",
          "text": [
            "Best accuracy is = 0.627373935821873, with criterion = entropy max_depth = 20 metrics and fetaure len = 24\n"
          ]
        },
        {
          "name": "stderr",
          "output_type": "stream",
          "text": [
            "c:\\Users\\AMD\\AppData\\Local\\Programs\\Python\\Python310\\lib\\site-packages\\sklearn\\base.py:443: UserWarning: X has feature names, but SelectFromModel was fitted without feature names\n",
            "  warnings.warn(\n"
          ]
        },
        {
          "name": "stdout",
          "output_type": "stream",
          "text": [
            "Best accuracy is = 0.6286836935166994, with criterion = entropy max_depth = 15 metrics and fetaure len = 25\n"
          ]
        },
        {
          "name": "stderr",
          "output_type": "stream",
          "text": [
            "c:\\Users\\AMD\\AppData\\Local\\Programs\\Python\\Python310\\lib\\site-packages\\sklearn\\base.py:443: UserWarning: X has feature names, but SelectFromModel was fitted without feature names\n",
            "  warnings.warn(\n"
          ]
        },
        {
          "name": "stdout",
          "output_type": "stream",
          "text": [
            "Best accuracy is = 0.6358873608382449, with criterion = entropy max_depth = 25 metrics and fetaure len = 26\n"
          ]
        },
        {
          "name": "stderr",
          "output_type": "stream",
          "text": [
            "c:\\Users\\AMD\\AppData\\Local\\Programs\\Python\\Python310\\lib\\site-packages\\sklearn\\base.py:443: UserWarning: X has feature names, but SelectFromModel was fitted without feature names\n",
            "  warnings.warn(\n"
          ]
        },
        {
          "name": "stdout",
          "output_type": "stream",
          "text": [
            "Best accuracy is = 0.630648330058939, with criterion = entropy max_depth = 15 metrics and fetaure len = 27\n"
          ]
        },
        {
          "name": "stderr",
          "output_type": "stream",
          "text": [
            "c:\\Users\\AMD\\AppData\\Local\\Programs\\Python\\Python310\\lib\\site-packages\\sklearn\\base.py:443: UserWarning: X has feature names, but SelectFromModel was fitted without feature names\n",
            "  warnings.warn(\n"
          ]
        },
        {
          "name": "stdout",
          "output_type": "stream",
          "text": [
            "Best accuracy is = 0.6319580877537656, with criterion = entropy max_depth = 25 metrics and fetaure len = 28\n"
          ]
        },
        {
          "name": "stderr",
          "output_type": "stream",
          "text": [
            "c:\\Users\\AMD\\AppData\\Local\\Programs\\Python\\Python310\\lib\\site-packages\\sklearn\\base.py:443: UserWarning: X has feature names, but SelectFromModel was fitted without feature names\n",
            "  warnings.warn(\n"
          ]
        },
        {
          "name": "stdout",
          "output_type": "stream",
          "text": [
            "Best accuracy is = 0.6365422396856582, with criterion = entropy max_depth = 20 metrics and fetaure len = 29\n"
          ]
        },
        {
          "name": "stderr",
          "output_type": "stream",
          "text": [
            "c:\\Users\\AMD\\AppData\\Local\\Programs\\Python\\Python310\\lib\\site-packages\\sklearn\\base.py:443: UserWarning: X has feature names, but SelectFromModel was fitted without feature names\n",
            "  warnings.warn(\n"
          ]
        },
        {
          "name": "stdout",
          "output_type": "stream",
          "text": [
            "Best accuracy is = 0.6352324819908317, with criterion = entropy max_depth = 20 metrics and fetaure len = 30\n"
          ]
        },
        {
          "name": "stderr",
          "output_type": "stream",
          "text": [
            "c:\\Users\\AMD\\AppData\\Local\\Programs\\Python\\Python310\\lib\\site-packages\\sklearn\\base.py:443: UserWarning: X has feature names, but SelectFromModel was fitted without feature names\n",
            "  warnings.warn(\n"
          ]
        },
        {
          "name": "stdout",
          "output_type": "stream",
          "text": [
            "Best accuracy is = 0.6398166339227243, with criterion = gini max_depth = 15 metrics and fetaure len = 31\n"
          ]
        },
        {
          "name": "stderr",
          "output_type": "stream",
          "text": [
            "c:\\Users\\AMD\\AppData\\Local\\Programs\\Python\\Python310\\lib\\site-packages\\sklearn\\base.py:443: UserWarning: X has feature names, but SelectFromModel was fitted without feature names\n",
            "  warnings.warn(\n"
          ]
        },
        {
          "name": "stdout",
          "output_type": "stream",
          "text": [
            "Best accuracy is = 0.6371971185330714, with criterion = gini max_depth = 15 metrics and fetaure len = 32\n"
          ]
        },
        {
          "name": "stderr",
          "output_type": "stream",
          "text": [
            "c:\\Users\\AMD\\AppData\\Local\\Programs\\Python\\Python310\\lib\\site-packages\\sklearn\\base.py:443: UserWarning: X has feature names, but SelectFromModel was fitted without feature names\n",
            "  warnings.warn(\n"
          ]
        },
        {
          "name": "stdout",
          "output_type": "stream",
          "text": [
            "Best accuracy is = 0.6437459070072037, with criterion = gini max_depth = 15 metrics and fetaure len = 33\n"
          ]
        },
        {
          "name": "stderr",
          "output_type": "stream",
          "text": [
            "c:\\Users\\AMD\\AppData\\Local\\Programs\\Python\\Python310\\lib\\site-packages\\sklearn\\base.py:443: UserWarning: X has feature names, but SelectFromModel was fitted without feature names\n",
            "  warnings.warn(\n"
          ]
        },
        {
          "name": "stdout",
          "output_type": "stream",
          "text": [
            "Best accuracy is = 0.6371971185330714, with criterion = gini max_depth = None metrics and fetaure len = 34\n"
          ]
        },
        {
          "name": "stderr",
          "output_type": "stream",
          "text": [
            "c:\\Users\\AMD\\AppData\\Local\\Programs\\Python\\Python310\\lib\\site-packages\\sklearn\\base.py:443: UserWarning: X has feature names, but SelectFromModel was fitted without feature names\n",
            "  warnings.warn(\n"
          ]
        },
        {
          "name": "stdout",
          "output_type": "stream",
          "text": [
            "Best accuracy is = 0.6319580877537656, with criterion = entropy max_depth = 15 metrics and fetaure len = 35\n"
          ]
        },
        {
          "name": "stderr",
          "output_type": "stream",
          "text": [
            "c:\\Users\\AMD\\AppData\\Local\\Programs\\Python\\Python310\\lib\\site-packages\\sklearn\\base.py:443: UserWarning: X has feature names, but SelectFromModel was fitted without feature names\n",
            "  warnings.warn(\n"
          ]
        },
        {
          "name": "stdout",
          "output_type": "stream",
          "text": [
            "Best accuracy is = 0.6339227242960053, with criterion = gini max_depth = 25 metrics and fetaure len = 36\n"
          ]
        },
        {
          "name": "stderr",
          "output_type": "stream",
          "text": [
            "c:\\Users\\AMD\\AppData\\Local\\Programs\\Python\\Python310\\lib\\site-packages\\sklearn\\base.py:443: UserWarning: X has feature names, but SelectFromModel was fitted without feature names\n",
            "  warnings.warn(\n"
          ]
        },
        {
          "name": "stdout",
          "output_type": "stream",
          "text": [
            "Best accuracy is = 0.6345776031434185, with criterion = entropy max_depth = 30 metrics and fetaure len = 37\n"
          ]
        },
        {
          "name": "stderr",
          "output_type": "stream",
          "text": [
            "c:\\Users\\AMD\\AppData\\Local\\Programs\\Python\\Python310\\lib\\site-packages\\sklearn\\base.py:443: UserWarning: X has feature names, but SelectFromModel was fitted without feature names\n",
            "  warnings.warn(\n"
          ]
        },
        {
          "name": "stdout",
          "output_type": "stream",
          "text": [
            "Best accuracy is = 0.6319580877537656, with criterion = entropy max_depth = 25 metrics and fetaure len = 38\n"
          ]
        },
        {
          "name": "stderr",
          "output_type": "stream",
          "text": [
            "c:\\Users\\AMD\\AppData\\Local\\Programs\\Python\\Python310\\lib\\site-packages\\sklearn\\base.py:443: UserWarning: X has feature names, but SelectFromModel was fitted without feature names\n",
            "  warnings.warn(\n"
          ]
        },
        {
          "name": "stdout",
          "output_type": "stream",
          "text": [
            "Best accuracy is = 0.6378519973804846, with criterion = gini max_depth = 35 metrics and fetaure len = 39\n"
          ]
        },
        {
          "name": "stderr",
          "output_type": "stream",
          "text": [
            "c:\\Users\\AMD\\AppData\\Local\\Programs\\Python\\Python310\\lib\\site-packages\\sklearn\\base.py:443: UserWarning: X has feature names, but SelectFromModel was fitted without feature names\n",
            "  warnings.warn(\n"
          ]
        },
        {
          "name": "stdout",
          "output_type": "stream",
          "text": [
            "Best accuracy is = 0.633267845448592, with criterion = gini max_depth = 25 metrics and fetaure len = 40\n"
          ]
        },
        {
          "name": "stderr",
          "output_type": "stream",
          "text": [
            "c:\\Users\\AMD\\AppData\\Local\\Programs\\Python\\Python310\\lib\\site-packages\\sklearn\\base.py:443: UserWarning: X has feature names, but SelectFromModel was fitted without feature names\n",
            "  warnings.warn(\n"
          ]
        },
        {
          "name": "stdout",
          "output_type": "stream",
          "text": [
            "Best accuracy is = 0.6365422396856582, with criterion = entropy max_depth = 15 metrics and fetaure len = 41\n"
          ]
        },
        {
          "name": "stderr",
          "output_type": "stream",
          "text": [
            "c:\\Users\\AMD\\AppData\\Local\\Programs\\Python\\Python310\\lib\\site-packages\\sklearn\\base.py:443: UserWarning: X has feature names, but SelectFromModel was fitted without feature names\n",
            "  warnings.warn(\n"
          ]
        },
        {
          "name": "stdout",
          "output_type": "stream",
          "text": [
            "Best accuracy is = 0.6371971185330714, with criterion = gini max_depth = 30 metrics and fetaure len = 42\n"
          ]
        },
        {
          "name": "stderr",
          "output_type": "stream",
          "text": [
            "c:\\Users\\AMD\\AppData\\Local\\Programs\\Python\\Python310\\lib\\site-packages\\sklearn\\base.py:443: UserWarning: X has feature names, but SelectFromModel was fitted without feature names\n",
            "  warnings.warn(\n"
          ]
        },
        {
          "name": "stdout",
          "output_type": "stream",
          "text": [
            "Best accuracy is = 0.6313032089063523, with criterion = entropy max_depth = 20 metrics and fetaure len = 43\n"
          ]
        },
        {
          "name": "stderr",
          "output_type": "stream",
          "text": [
            "c:\\Users\\AMD\\AppData\\Local\\Programs\\Python\\Python310\\lib\\site-packages\\sklearn\\base.py:443: UserWarning: X has feature names, but SelectFromModel was fitted without feature names\n",
            "  warnings.warn(\n"
          ]
        },
        {
          "name": "stdout",
          "output_type": "stream",
          "text": [
            "Best accuracy is = 0.6358873608382449, with criterion = entropy max_depth = 15 metrics and fetaure len = 44\n"
          ]
        },
        {
          "name": "stderr",
          "output_type": "stream",
          "text": [
            "c:\\Users\\AMD\\AppData\\Local\\Programs\\Python\\Python310\\lib\\site-packages\\sklearn\\base.py:443: UserWarning: X has feature names, but SelectFromModel was fitted without feature names\n",
            "  warnings.warn(\n"
          ]
        },
        {
          "name": "stdout",
          "output_type": "stream",
          "text": [
            "Best accuracy is = 0.6313032089063523, with criterion = gini max_depth = 15 metrics and fetaure len = 45\n"
          ]
        },
        {
          "name": "stderr",
          "output_type": "stream",
          "text": [
            "c:\\Users\\AMD\\AppData\\Local\\Programs\\Python\\Python310\\lib\\site-packages\\sklearn\\base.py:443: UserWarning: X has feature names, but SelectFromModel was fitted without feature names\n",
            "  warnings.warn(\n"
          ]
        },
        {
          "name": "stdout",
          "output_type": "stream",
          "text": [
            "Best accuracy is = 0.6267190569744597, with criterion = gini max_depth = 15 metrics and fetaure len = 46\n"
          ]
        },
        {
          "name": "stderr",
          "output_type": "stream",
          "text": [
            "c:\\Users\\AMD\\AppData\\Local\\Programs\\Python\\Python310\\lib\\site-packages\\sklearn\\base.py:443: UserWarning: X has feature names, but SelectFromModel was fitted without feature names\n",
            "  warnings.warn(\n"
          ]
        },
        {
          "name": "stdout",
          "output_type": "stream",
          "text": [
            "Best accuracy is = 0.6280288146692862, with criterion = entropy max_depth = 15 metrics and fetaure len = 47\n"
          ]
        },
        {
          "name": "stderr",
          "output_type": "stream",
          "text": [
            "c:\\Users\\AMD\\AppData\\Local\\Programs\\Python\\Python310\\lib\\site-packages\\sklearn\\base.py:443: UserWarning: X has feature names, but SelectFromModel was fitted without feature names\n",
            "  warnings.warn(\n"
          ]
        },
        {
          "name": "stdout",
          "output_type": "stream",
          "text": [
            "Best accuracy is = 0.6326129666011788, with criterion = gini max_depth = 40 metrics and fetaure len = 48\n"
          ]
        },
        {
          "name": "stderr",
          "output_type": "stream",
          "text": [
            "c:\\Users\\AMD\\AppData\\Local\\Programs\\Python\\Python310\\lib\\site-packages\\sklearn\\base.py:443: UserWarning: X has feature names, but SelectFromModel was fitted without feature names\n",
            "  warnings.warn(\n"
          ]
        },
        {
          "name": "stdout",
          "output_type": "stream",
          "text": [
            "Best accuracy is = 0.6313032089063523, with criterion = entropy max_depth = 25 metrics and fetaure len = 49\n"
          ]
        },
        {
          "name": "stderr",
          "output_type": "stream",
          "text": [
            "c:\\Users\\AMD\\AppData\\Local\\Programs\\Python\\Python310\\lib\\site-packages\\sklearn\\base.py:443: UserWarning: X has feature names, but SelectFromModel was fitted without feature names\n",
            "  warnings.warn(\n"
          ]
        },
        {
          "name": "stdout",
          "output_type": "stream",
          "text": [
            "Best accuracy is = 0.6352324819908317, with criterion = gini max_depth = 15 metrics and fetaure len = 50\n"
          ]
        },
        {
          "name": "stderr",
          "output_type": "stream",
          "text": [
            "c:\\Users\\AMD\\AppData\\Local\\Programs\\Python\\Python310\\lib\\site-packages\\sklearn\\base.py:443: UserWarning: X has feature names, but SelectFromModel was fitted without feature names\n",
            "  warnings.warn(\n"
          ]
        },
        {
          "name": "stdout",
          "output_type": "stream",
          "text": [
            "Best accuracy is = 0.6358873608382449, with criterion = gini max_depth = 25 metrics and fetaure len = 51\n"
          ]
        },
        {
          "name": "stderr",
          "output_type": "stream",
          "text": [
            "c:\\Users\\AMD\\AppData\\Local\\Programs\\Python\\Python310\\lib\\site-packages\\sklearn\\base.py:443: UserWarning: X has feature names, but SelectFromModel was fitted without feature names\n",
            "  warnings.warn(\n"
          ]
        },
        {
          "name": "stdout",
          "output_type": "stream",
          "text": [
            "Best accuracy is = 0.633267845448592, with criterion = entropy max_depth = 15 metrics and fetaure len = 52\n"
          ]
        },
        {
          "name": "stderr",
          "output_type": "stream",
          "text": [
            "c:\\Users\\AMD\\AppData\\Local\\Programs\\Python\\Python310\\lib\\site-packages\\sklearn\\base.py:443: UserWarning: X has feature names, but SelectFromModel was fitted without feature names\n",
            "  warnings.warn(\n"
          ]
        },
        {
          "name": "stdout",
          "output_type": "stream",
          "text": [
            "Best accuracy is = 0.6352324819908317, with criterion = entropy max_depth = 30 metrics and fetaure len = 53\n"
          ]
        },
        {
          "name": "stderr",
          "output_type": "stream",
          "text": [
            "c:\\Users\\AMD\\AppData\\Local\\Programs\\Python\\Python310\\lib\\site-packages\\sklearn\\base.py:443: UserWarning: X has feature names, but SelectFromModel was fitted without feature names\n",
            "  warnings.warn(\n"
          ]
        },
        {
          "name": "stdout",
          "output_type": "stream",
          "text": [
            "Best accuracy is = 0.6326129666011788, with criterion = gini max_depth = 15 metrics and fetaure len = 54\n"
          ]
        },
        {
          "name": "stderr",
          "output_type": "stream",
          "text": [
            "c:\\Users\\AMD\\AppData\\Local\\Programs\\Python\\Python310\\lib\\site-packages\\sklearn\\base.py:443: UserWarning: X has feature names, but SelectFromModel was fitted without feature names\n",
            "  warnings.warn(\n"
          ]
        },
        {
          "name": "stdout",
          "output_type": "stream",
          "text": [
            "Best accuracy is = 0.6378519973804846, with criterion = gini max_depth = 15 metrics and fetaure len = 55\n"
          ]
        },
        {
          "name": "stderr",
          "output_type": "stream",
          "text": [
            "c:\\Users\\AMD\\AppData\\Local\\Programs\\Python\\Python310\\lib\\site-packages\\sklearn\\base.py:443: UserWarning: X has feature names, but SelectFromModel was fitted without feature names\n",
            "  warnings.warn(\n"
          ]
        },
        {
          "name": "stdout",
          "output_type": "stream",
          "text": [
            "Best accuracy is = 0.6378519973804846, with criterion = gini max_depth = 15 metrics and fetaure len = 55\n"
          ]
        },
        {
          "name": "stderr",
          "output_type": "stream",
          "text": [
            "c:\\Users\\AMD\\AppData\\Local\\Programs\\Python\\Python310\\lib\\site-packages\\sklearn\\base.py:443: UserWarning: X has feature names, but SelectFromModel was fitted without feature names\n",
            "  warnings.warn(\n"
          ]
        },
        {
          "name": "stdout",
          "output_type": "stream",
          "text": [
            "Best accuracy is = 0.6378519973804846, with criterion = gini max_depth = 15 metrics and fetaure len = 55\n"
          ]
        },
        {
          "name": "stderr",
          "output_type": "stream",
          "text": [
            "c:\\Users\\AMD\\AppData\\Local\\Programs\\Python\\Python310\\lib\\site-packages\\sklearn\\base.py:443: UserWarning: X has feature names, but SelectFromModel was fitted without feature names\n",
            "  warnings.warn(\n"
          ]
        },
        {
          "name": "stdout",
          "output_type": "stream",
          "text": [
            "Best accuracy is = 0.6378519973804846, with criterion = gini max_depth = 15 metrics and fetaure len = 55\n"
          ]
        },
        {
          "name": "stderr",
          "output_type": "stream",
          "text": [
            "c:\\Users\\AMD\\AppData\\Local\\Programs\\Python\\Python310\\lib\\site-packages\\sklearn\\base.py:443: UserWarning: X has feature names, but SelectFromModel was fitted without feature names\n",
            "  warnings.warn(\n"
          ]
        },
        {
          "name": "stdout",
          "output_type": "stream",
          "text": [
            "Best accuracy is = 0.6378519973804846, with criterion = gini max_depth = 15 metrics and fetaure len = 55\n"
          ]
        },
        {
          "name": "stderr",
          "output_type": "stream",
          "text": [
            "c:\\Users\\AMD\\AppData\\Local\\Programs\\Python\\Python310\\lib\\site-packages\\sklearn\\base.py:443: UserWarning: X has feature names, but SelectFromModel was fitted without feature names\n",
            "  warnings.warn(\n"
          ]
        },
        {
          "name": "stdout",
          "output_type": "stream",
          "text": [
            "Best accuracy is = 0.6378519973804846, with criterion = gini max_depth = 15 metrics and fetaure len = 55\n"
          ]
        },
        {
          "name": "stderr",
          "output_type": "stream",
          "text": [
            "c:\\Users\\AMD\\AppData\\Local\\Programs\\Python\\Python310\\lib\\site-packages\\sklearn\\base.py:443: UserWarning: X has feature names, but SelectFromModel was fitted without feature names\n",
            "  warnings.warn(\n"
          ]
        },
        {
          "name": "stdout",
          "output_type": "stream",
          "text": [
            "Best accuracy is = 0.6378519973804846, with criterion = gini max_depth = 15 metrics and fetaure len = 55\n"
          ]
        },
        {
          "name": "stderr",
          "output_type": "stream",
          "text": [
            "c:\\Users\\AMD\\AppData\\Local\\Programs\\Python\\Python310\\lib\\site-packages\\sklearn\\base.py:443: UserWarning: X has feature names, but SelectFromModel was fitted without feature names\n",
            "  warnings.warn(\n"
          ]
        },
        {
          "name": "stdout",
          "output_type": "stream",
          "text": [
            "Best accuracy is = 0.6378519973804846, with criterion = gini max_depth = 15 metrics and fetaure len = 55\n"
          ]
        },
        {
          "name": "stderr",
          "output_type": "stream",
          "text": [
            "c:\\Users\\AMD\\AppData\\Local\\Programs\\Python\\Python310\\lib\\site-packages\\sklearn\\base.py:443: UserWarning: X has feature names, but SelectFromModel was fitted without feature names\n",
            "  warnings.warn(\n"
          ]
        },
        {
          "name": "stdout",
          "output_type": "stream",
          "text": [
            "Best accuracy is = 0.6378519973804846, with criterion = gini max_depth = 15 metrics and fetaure len = 55\n"
          ]
        },
        {
          "name": "stderr",
          "output_type": "stream",
          "text": [
            "c:\\Users\\AMD\\AppData\\Local\\Programs\\Python\\Python310\\lib\\site-packages\\sklearn\\base.py:443: UserWarning: X has feature names, but SelectFromModel was fitted without feature names\n",
            "  warnings.warn(\n"
          ]
        },
        {
          "name": "stdout",
          "output_type": "stream",
          "text": [
            "Best accuracy is = 0.6378519973804846, with criterion = gini max_depth = 15 metrics and fetaure len = 55\n"
          ]
        },
        {
          "name": "stderr",
          "output_type": "stream",
          "text": [
            "c:\\Users\\AMD\\AppData\\Local\\Programs\\Python\\Python310\\lib\\site-packages\\sklearn\\base.py:443: UserWarning: X has feature names, but SelectFromModel was fitted without feature names\n",
            "  warnings.warn(\n"
          ]
        },
        {
          "name": "stdout",
          "output_type": "stream",
          "text": [
            "Best accuracy is = 0.6378519973804846, with criterion = gini max_depth = 15 metrics and fetaure len = 55\n"
          ]
        },
        {
          "name": "stderr",
          "output_type": "stream",
          "text": [
            "c:\\Users\\AMD\\AppData\\Local\\Programs\\Python\\Python310\\lib\\site-packages\\sklearn\\base.py:443: UserWarning: X has feature names, but SelectFromModel was fitted without feature names\n",
            "  warnings.warn(\n"
          ]
        },
        {
          "name": "stdout",
          "output_type": "stream",
          "text": [
            "Best accuracy is = 0.6378519973804846, with criterion = gini max_depth = 15 metrics and fetaure len = 55\n"
          ]
        },
        {
          "name": "stderr",
          "output_type": "stream",
          "text": [
            "c:\\Users\\AMD\\AppData\\Local\\Programs\\Python\\Python310\\lib\\site-packages\\sklearn\\base.py:443: UserWarning: X has feature names, but SelectFromModel was fitted without feature names\n",
            "  warnings.warn(\n"
          ]
        },
        {
          "name": "stdout",
          "output_type": "stream",
          "text": [
            "Best accuracy is = 0.6378519973804846, with criterion = gini max_depth = 15 metrics and fetaure len = 55\n"
          ]
        },
        {
          "name": "stderr",
          "output_type": "stream",
          "text": [
            "c:\\Users\\AMD\\AppData\\Local\\Programs\\Python\\Python310\\lib\\site-packages\\sklearn\\base.py:443: UserWarning: X has feature names, but SelectFromModel was fitted without feature names\n",
            "  warnings.warn(\n"
          ]
        },
        {
          "name": "stdout",
          "output_type": "stream",
          "text": [
            "Best accuracy is = 0.6378519973804846, with criterion = gini max_depth = 15 metrics and fetaure len = 55\n"
          ]
        },
        {
          "name": "stderr",
          "output_type": "stream",
          "text": [
            "c:\\Users\\AMD\\AppData\\Local\\Programs\\Python\\Python310\\lib\\site-packages\\sklearn\\base.py:443: UserWarning: X has feature names, but SelectFromModel was fitted without feature names\n",
            "  warnings.warn(\n"
          ]
        },
        {
          "name": "stdout",
          "output_type": "stream",
          "text": [
            "Best accuracy is = 0.6378519973804846, with criterion = gini max_depth = 15 metrics and fetaure len = 55\n"
          ]
        },
        {
          "name": "stderr",
          "output_type": "stream",
          "text": [
            "c:\\Users\\AMD\\AppData\\Local\\Programs\\Python\\Python310\\lib\\site-packages\\sklearn\\base.py:443: UserWarning: X has feature names, but SelectFromModel was fitted without feature names\n",
            "  warnings.warn(\n"
          ]
        },
        {
          "name": "stdout",
          "output_type": "stream",
          "text": [
            "Best accuracy is = 0.6378519973804846, with criterion = gini max_depth = 15 metrics and fetaure len = 55\n"
          ]
        },
        {
          "name": "stderr",
          "output_type": "stream",
          "text": [
            "c:\\Users\\AMD\\AppData\\Local\\Programs\\Python\\Python310\\lib\\site-packages\\sklearn\\base.py:443: UserWarning: X has feature names, but SelectFromModel was fitted without feature names\n",
            "  warnings.warn(\n"
          ]
        },
        {
          "name": "stdout",
          "output_type": "stream",
          "text": [
            "Best accuracy is = 0.6378519973804846, with criterion = gini max_depth = 15 metrics and fetaure len = 55\n"
          ]
        },
        {
          "name": "stderr",
          "output_type": "stream",
          "text": [
            "c:\\Users\\AMD\\AppData\\Local\\Programs\\Python\\Python310\\lib\\site-packages\\sklearn\\base.py:443: UserWarning: X has feature names, but SelectFromModel was fitted without feature names\n",
            "  warnings.warn(\n"
          ]
        },
        {
          "name": "stdout",
          "output_type": "stream",
          "text": [
            "Best accuracy is = 0.6378519973804846, with criterion = gini max_depth = 15 metrics and fetaure len = 55\n"
          ]
        },
        {
          "name": "stderr",
          "output_type": "stream",
          "text": [
            "c:\\Users\\AMD\\AppData\\Local\\Programs\\Python\\Python310\\lib\\site-packages\\sklearn\\base.py:443: UserWarning: X has feature names, but SelectFromModel was fitted without feature names\n",
            "  warnings.warn(\n"
          ]
        },
        {
          "name": "stdout",
          "output_type": "stream",
          "text": [
            "Best accuracy is = 0.6378519973804846, with criterion = gini max_depth = 15 metrics and fetaure len = 55\n"
          ]
        },
        {
          "name": "stderr",
          "output_type": "stream",
          "text": [
            "c:\\Users\\AMD\\AppData\\Local\\Programs\\Python\\Python310\\lib\\site-packages\\sklearn\\base.py:443: UserWarning: X has feature names, but SelectFromModel was fitted without feature names\n",
            "  warnings.warn(\n"
          ]
        },
        {
          "name": "stdout",
          "output_type": "stream",
          "text": [
            "Best accuracy is = 0.6378519973804846, with criterion = gini max_depth = 15 metrics and fetaure len = 55\n"
          ]
        },
        {
          "name": "stderr",
          "output_type": "stream",
          "text": [
            "c:\\Users\\AMD\\AppData\\Local\\Programs\\Python\\Python310\\lib\\site-packages\\sklearn\\base.py:443: UserWarning: X has feature names, but SelectFromModel was fitted without feature names\n",
            "  warnings.warn(\n"
          ]
        },
        {
          "name": "stdout",
          "output_type": "stream",
          "text": [
            "Model: PyTorch Best Epoch: 0 | Best Loss: 1.40735 | Best Acc: 32.94%  with LassoFeatureElimination, min-max,CrossEntropyLoss, len = 41 and Adam, lr = 0.001\n",
            "Model: PyTorch Best Epoch: 4 | Best Loss: 1.36196 | Best Acc: 33.46%  with LassoFeatureElimination, min-max,CrossEntropyLoss, len = 41 and Adam, lr = 0.001\n",
            "Model: PyTorch Best Epoch: 5 | Best Loss: 1.35006 | Best Acc: 36.74%  with LassoFeatureElimination, min-max,CrossEntropyLoss, len = 41 and Adam, lr = 0.001\n",
            "Model: PyTorch Best Epoch: 6 | Best Loss: 1.34096 | Best Acc: 38.11%  with LassoFeatureElimination, min-max,CrossEntropyLoss, len = 41 and Adam, lr = 0.001\n",
            "Model: PyTorch Best Epoch: 7 | Best Loss: 1.33620 | Best Acc: 38.51%  with LassoFeatureElimination, min-max,CrossEntropyLoss, len = 41 and Adam, lr = 0.001\n",
            "Model: PyTorch Best Epoch: 10 | Best Loss: 1.33865 | Best Acc: 39.23%  with LassoFeatureElimination, min-max,CrossEntropyLoss, len = 41 and Adam, lr = 0.001\n",
            "Model: PyTorch Best Epoch: 11 | Best Loss: 1.34161 | Best Acc: 40.01%  with LassoFeatureElimination, min-max,CrossEntropyLoss, len = 41 and Adam, lr = 0.001\n",
            "Model: PyTorch Best Epoch: 12 | Best Loss: 1.34516 | Best Acc: 40.14%  with LassoFeatureElimination, min-max,CrossEntropyLoss, len = 41 and Adam, lr = 0.001\n",
            "Model: PyTorch Best Epoch: 22 | Best Loss: 1.32251 | Best Acc: 40.21%  with LassoFeatureElimination, min-max,CrossEntropyLoss, len = 41 and Adam, lr = 0.001\n",
            "Model: PyTorch Best Epoch: 23 | Best Loss: 1.32222 | Best Acc: 40.47%  with LassoFeatureElimination, min-max,CrossEntropyLoss, len = 41 and Adam, lr = 0.001\n",
            "Model: PyTorch Best Epoch: 26 | Best Loss: 1.31766 | Best Acc: 40.86%  with LassoFeatureElimination, min-max,CrossEntropyLoss, len = 41 and Adam, lr = 0.001\n",
            "Model: PyTorch Best Epoch: 27 | Best Loss: 1.31727 | Best Acc: 40.93%  with LassoFeatureElimination, min-max,CrossEntropyLoss, len = 41 and Adam, lr = 0.001\n",
            "Model: PyTorch Best Epoch: 31 | Best Loss: 1.31515 | Best Acc: 41.72%  with LassoFeatureElimination, min-max,CrossEntropyLoss, len = 41 and Adam, lr = 0.001\n",
            "Model: PyTorch Best Epoch: 32 | Best Loss: 1.31643 | Best Acc: 42.04%  with LassoFeatureElimination, min-max,CrossEntropyLoss, len = 41 and Adam, lr = 0.001\n",
            "Model: PyTorch Best Epoch: 33 | Best Loss: 1.31642 | Best Acc: 42.31%  with LassoFeatureElimination, min-max,CrossEntropyLoss, len = 41 and Adam, lr = 0.001\n",
            "Model: PyTorch Best Epoch: 36 | Best Loss: 1.31782 | Best Acc: 42.57%  with LassoFeatureElimination, min-max,CrossEntropyLoss, len = 41 and Adam, lr = 0.001\n",
            "Model: PyTorch Best Epoch: 37 | Best Loss: 1.31965 | Best Acc: 42.76%  with LassoFeatureElimination, min-max,CrossEntropyLoss, len = 41 and Adam, lr = 0.001\n",
            "Model: PyTorch Best Epoch: 41 | Best Loss: 1.31825 | Best Acc: 42.89%  with LassoFeatureElimination, min-max,CrossEntropyLoss, len = 41 and Adam, lr = 0.001\n",
            "Model: PyTorch Best Epoch: 42 | Best Loss: 1.31774 | Best Acc: 42.96%  with LassoFeatureElimination, min-max,CrossEntropyLoss, len = 41 and Adam, lr = 0.001\n",
            "Model: PyTorch Best Epoch: 51 | Best Loss: 1.31377 | Best Acc: 43.03%  with LassoFeatureElimination, min-max,CrossEntropyLoss, len = 41 and Adam, lr = 0.001\n",
            "Model: PyTorch Best Epoch: 59 | Best Loss: 1.31177 | Best Acc: 43.09%  with LassoFeatureElimination, min-max,CrossEntropyLoss, len = 41 and Adam, lr = 0.001\n",
            "Model: PyTorch Best Epoch: 60 | Best Loss: 1.31205 | Best Acc: 43.22%  with LassoFeatureElimination, min-max,CrossEntropyLoss, len = 41 and Adam, lr = 0.001\n",
            "Model: PyTorch Best Epoch: 61 | Best Loss: 1.31178 | Best Acc: 43.29%  with LassoFeatureElimination, min-max,CrossEntropyLoss, len = 41 and Adam, lr = 0.001\n",
            "Model: PyTorch Best Epoch: 63 | Best Loss: 1.31155 | Best Acc: 43.35%  with LassoFeatureElimination, min-max,CrossEntropyLoss, len = 41 and Adam, lr = 0.001\n",
            "Model: PyTorch Best Epoch: 65 | Best Loss: 1.31230 | Best Acc: 43.48%  with LassoFeatureElimination, min-max,CrossEntropyLoss, len = 41 and Adam, lr = 0.001\n",
            "Model: PyTorch Best Epoch: 67 | Best Loss: 1.31237 | Best Acc: 43.75%  with LassoFeatureElimination, min-max,CrossEntropyLoss, len = 41 and Adam, lr = 0.001\n",
            "Model: PyTorch Best Epoch: 70 | Best Loss: 1.31092 | Best Acc: 43.81%  with LassoFeatureElimination, min-max,CrossEntropyLoss, len = 41 and Adam, lr = 0.001\n",
            "Model: PyTorch Best Epoch: 73 | Best Loss: 1.30984 | Best Acc: 43.94%  with LassoFeatureElimination, min-max,CrossEntropyLoss, len = 41 and Adam, lr = 0.001\n",
            "Model: PyTorch Best Epoch: 74 | Best Loss: 1.30866 | Best Acc: 44.07%  with LassoFeatureElimination, min-max,CrossEntropyLoss, len = 41 and Adam, lr = 0.001\n",
            "Model: PyTorch Best Epoch: 76 | Best Loss: 1.31153 | Best Acc: 44.27%  with LassoFeatureElimination, min-max,CrossEntropyLoss, len = 41 and Adam, lr = 0.001\n",
            "Model: PyTorch Best Epoch: 78 | Best Loss: 1.30536 | Best Acc: 44.34%  with LassoFeatureElimination, min-max,CrossEntropyLoss, len = 41 and Adam, lr = 0.001\n",
            "Model: PyTorch Best Epoch: 79 | Best Loss: 1.30884 | Best Acc: 44.47%  with LassoFeatureElimination, min-max,CrossEntropyLoss, len = 41 and Adam, lr = 0.001\n",
            "Model: PyTorch Best Epoch: 81 | Best Loss: 1.31483 | Best Acc: 44.53%  with LassoFeatureElimination, min-max,CrossEntropyLoss, len = 41 and Adam, lr = 0.001\n",
            "Model: PyTorch Best Epoch: 84 | Best Loss: 1.31083 | Best Acc: 44.60%  with LassoFeatureElimination, min-max,CrossEntropyLoss, len = 41 and Adam, lr = 0.001\n",
            "Model: PyTorch Best Epoch: 112 | Best Loss: 1.33326 | Best Acc: 44.66%  with LassoFeatureElimination, min-max,CrossEntropyLoss, len = 41 and Adam, lr = 0.001\n",
            "Model: PyTorch Best Epoch: 113 | Best Loss: 1.33771 | Best Acc: 44.86%  with LassoFeatureElimination, min-max,CrossEntropyLoss, len = 41 and Adam, lr = 0.001\n",
            "Model: PyTorch Best Epoch: 117 | Best Loss: 1.33528 | Best Acc: 44.92%  with LassoFeatureElimination, min-max,CrossEntropyLoss, len = 41 and Adam, lr = 0.001\n",
            "Model: PyTorch Best Epoch: 512 | Best Loss: 1.28628 | Best Acc: 44.99%  with LassoFeatureElimination, min-max,CrossEntropyLoss, len = 41 and Adam, lr = 0.001\n",
            "Model: PyTorch Best Epoch: 517 | Best Loss: 1.28615 | Best Acc: 45.06%  with LassoFeatureElimination, min-max,CrossEntropyLoss, len = 41 and Adam, lr = 0.001\n",
            "Model: PyTorch Best Epoch: 543 | Best Loss: 1.28334 | Best Acc: 45.12%  with LassoFeatureElimination, min-max,CrossEntropyLoss, len = 41 and Adam, lr = 0.001\n",
            "Model: PyTorch Best Epoch: 551 | Best Loss: 1.28275 | Best Acc: 45.19%  with LassoFeatureElimination, min-max,CrossEntropyLoss, len = 41 and Adam, lr = 0.001\n",
            "Model: PyTorch Best Epoch: 554 | Best Loss: 1.28207 | Best Acc: 45.25%  with LassoFeatureElimination, min-max,CrossEntropyLoss, len = 41 and Adam, lr = 0.001\n",
            "Model: PyTorch Best Epoch: 563 | Best Loss: 1.27885 | Best Acc: 45.45%  with LassoFeatureElimination, min-max,CrossEntropyLoss, len = 41 and Adam, lr = 0.001\n",
            "Model: PyTorch Best Epoch: 566 | Best Loss: 1.27819 | Best Acc: 45.51%  with LassoFeatureElimination, min-max,CrossEntropyLoss, len = 41 and Adam, lr = 0.001\n",
            "Model: PyTorch Best Epoch: 1097 | Best Loss: 1.33075 | Best Acc: 45.71%  with LassoFeatureElimination, min-max,CrossEntropyLoss, len = 41 and Adam, lr = 0.001\n",
            "Model: PyTorch Best Epoch: 1098 | Best Loss: 1.31128 | Best Acc: 45.84%  with LassoFeatureElimination, min-max,CrossEntropyLoss, len = 41 and Adam, lr = 0.001\n",
            "END OF FIRST ITERATION WITH FEATURES LEN = 41\n"
          ]
        },
        {
          "name": "stderr",
          "output_type": "stream",
          "text": [
            "c:\\Users\\AMD\\AppData\\Local\\Programs\\Python\\Python310\\lib\\site-packages\\sklearn\\base.py:443: UserWarning: X has feature names, but SelectFromModel was fitted without feature names\n",
            "  warnings.warn(\n"
          ]
        },
        {
          "name": "stdout",
          "output_type": "stream",
          "text": [
            "Model: PyTorch Best Epoch: 0 | Best Loss: 1.38856 | Best Acc: 43.35%  with LassoFeatureElimination, standart,CrossEntropyLoss, len = 53 and Adam, lr = 0.001\n",
            "Model: PyTorch Best Epoch: 31 | Best Loss: 1.31796 | Best Acc: 43.42%  with LassoFeatureElimination, standart,CrossEntropyLoss, len = 53 and Adam, lr = 0.001\n",
            "Model: PyTorch Best Epoch: 32 | Best Loss: 1.33104 | Best Acc: 43.81%  with LassoFeatureElimination, standart,CrossEntropyLoss, len = 53 and Adam, lr = 0.001\n",
            "Model: PyTorch Best Epoch: 41 | Best Loss: 1.31407 | Best Acc: 44.34%  with LassoFeatureElimination, standart,CrossEntropyLoss, len = 53 and Adam, lr = 0.001\n",
            "Model: PyTorch Best Epoch: 42 | Best Loss: 1.31020 | Best Acc: 44.53%  with LassoFeatureElimination, standart,CrossEntropyLoss, len = 53 and Adam, lr = 0.001\n",
            "Model: PyTorch Best Epoch: 45 | Best Loss: 1.34426 | Best Acc: 44.86%  with LassoFeatureElimination, standart,CrossEntropyLoss, len = 53 and Adam, lr = 0.001\n",
            "Model: PyTorch Best Epoch: 49 | Best Loss: 1.31306 | Best Acc: 44.99%  with LassoFeatureElimination, standart,CrossEntropyLoss, len = 53 and Adam, lr = 0.001\n",
            "Model: PyTorch Best Epoch: 50 | Best Loss: 1.31140 | Best Acc: 45.12%  with LassoFeatureElimination, standart,CrossEntropyLoss, len = 53 and Adam, lr = 0.001\n",
            "Model: PyTorch Best Epoch: 55 | Best Loss: 1.28542 | Best Acc: 45.19%  with LassoFeatureElimination, standart,CrossEntropyLoss, len = 53 and Adam, lr = 0.001\n",
            "Model: PyTorch Best Epoch: 58 | Best Loss: 1.28480 | Best Acc: 45.25%  with LassoFeatureElimination, standart,CrossEntropyLoss, len = 53 and Adam, lr = 0.001\n",
            "Model: PyTorch Best Epoch: 60 | Best Loss: 1.26865 | Best Acc: 45.45%  with LassoFeatureElimination, standart,CrossEntropyLoss, len = 53 and Adam, lr = 0.001\n",
            "Model: PyTorch Best Epoch: 61 | Best Loss: 1.26472 | Best Acc: 45.51%  with LassoFeatureElimination, standart,CrossEntropyLoss, len = 53 and Adam, lr = 0.001\n",
            "Model: PyTorch Best Epoch: 75 | Best Loss: 1.28937 | Best Acc: 45.78%  with LassoFeatureElimination, standart,CrossEntropyLoss, len = 53 and Adam, lr = 0.001\n",
            "Model: PyTorch Best Epoch: 78 | Best Loss: 1.30506 | Best Acc: 45.97%  with LassoFeatureElimination, standart,CrossEntropyLoss, len = 53 and Adam, lr = 0.001\n",
            "Model: PyTorch Best Epoch: 92 | Best Loss: 1.22547 | Best Acc: 46.10%  with LassoFeatureElimination, standart,CrossEntropyLoss, len = 53 and Adam, lr = 0.001\n",
            "Model: PyTorch Best Epoch: 101 | Best Loss: 1.27980 | Best Acc: 46.30%  with LassoFeatureElimination, standart,CrossEntropyLoss, len = 53 and Adam, lr = 0.001\n",
            "Model: PyTorch Best Epoch: 177 | Best Loss: 1.27852 | Best Acc: 46.69%  with LassoFeatureElimination, standart,CrossEntropyLoss, len = 53 and Adam, lr = 0.001\n",
            "Model: PyTorch Best Epoch: 199 | Best Loss: 1.25374 | Best Acc: 46.82%  with LassoFeatureElimination, standart,CrossEntropyLoss, len = 53 and Adam, lr = 0.001\n",
            "Model: PyTorch Best Epoch: 200 | Best Loss: 1.26635 | Best Acc: 47.41%  with LassoFeatureElimination, standart,CrossEntropyLoss, len = 53 and Adam, lr = 0.001\n",
            "Model: PyTorch Best Epoch: 203 | Best Loss: 1.20575 | Best Acc: 47.87%  with LassoFeatureElimination, standart,CrossEntropyLoss, len = 53 and Adam, lr = 0.001\n",
            "Model: PyTorch Best Epoch: 204 | Best Loss: 1.20839 | Best Acc: 49.44%  with LassoFeatureElimination, standart,CrossEntropyLoss, len = 53 and Adam, lr = 0.001\n",
            "Model: PyTorch Best Epoch: 252 | Best Loss: 1.17096 | Best Acc: 50.16%  with LassoFeatureElimination, standart,CrossEntropyLoss, len = 53 and Adam, lr = 0.001\n",
            "Model: PyTorch Best Epoch: 254 | Best Loss: 1.19168 | Best Acc: 52.13%  with LassoFeatureElimination, standart,CrossEntropyLoss, len = 53 and Adam, lr = 0.001\n",
            "Model: PyTorch Best Epoch: 266 | Best Loss: 1.13363 | Best Acc: 52.85%  with LassoFeatureElimination, standart,CrossEntropyLoss, len = 53 and Adam, lr = 0.001\n",
            "Model: PyTorch Best Epoch: 277 | Best Loss: 1.13849 | Best Acc: 53.18%  with LassoFeatureElimination, standart,CrossEntropyLoss, len = 53 and Adam, lr = 0.001\n",
            "Model: PyTorch Best Epoch: 296 | Best Loss: 1.08604 | Best Acc: 53.37%  with LassoFeatureElimination, standart,CrossEntropyLoss, len = 53 and Adam, lr = 0.001\n",
            "Model: PyTorch Best Epoch: 306 | Best Loss: 1.08297 | Best Acc: 53.63%  with LassoFeatureElimination, standart,CrossEntropyLoss, len = 53 and Adam, lr = 0.001\n",
            "Model: PyTorch Best Epoch: 381 | Best Loss: 1.05568 | Best Acc: 53.70%  with LassoFeatureElimination, standart,CrossEntropyLoss, len = 53 and Adam, lr = 0.001\n",
            "Model: PyTorch Best Epoch: 383 | Best Loss: 1.05772 | Best Acc: 54.03%  with LassoFeatureElimination, standart,CrossEntropyLoss, len = 53 and Adam, lr = 0.001\n",
            "Model: PyTorch Best Epoch: 384 | Best Loss: 1.06096 | Best Acc: 54.22%  with LassoFeatureElimination, standart,CrossEntropyLoss, len = 53 and Adam, lr = 0.001\n",
            "Model: PyTorch Best Epoch: 394 | Best Loss: 1.05039 | Best Acc: 54.35%  with LassoFeatureElimination, standart,CrossEntropyLoss, len = 53 and Adam, lr = 0.001\n",
            "Model: PyTorch Best Epoch: 400 | Best Loss: 1.05057 | Best Acc: 54.42%  with LassoFeatureElimination, standart,CrossEntropyLoss, len = 53 and Adam, lr = 0.001\n",
            "Model: PyTorch Best Epoch: 410 | Best Loss: 1.04818 | Best Acc: 54.81%  with LassoFeatureElimination, standart,CrossEntropyLoss, len = 53 and Adam, lr = 0.001\n",
            "Model: PyTorch Best Epoch: 415 | Best Loss: 1.05128 | Best Acc: 54.88%  with LassoFeatureElimination, standart,CrossEntropyLoss, len = 53 and Adam, lr = 0.001\n",
            "Model: PyTorch Best Epoch: 416 | Best Loss: 1.04960 | Best Acc: 55.08%  with LassoFeatureElimination, standart,CrossEntropyLoss, len = 53 and Adam, lr = 0.001\n",
            "Model: PyTorch Best Epoch: 421 | Best Loss: 1.04974 | Best Acc: 55.27%  with LassoFeatureElimination, standart,CrossEntropyLoss, len = 53 and Adam, lr = 0.001\n",
            "Model: PyTorch Best Epoch: 437 | Best Loss: 1.04560 | Best Acc: 55.73%  with LassoFeatureElimination, standart,CrossEntropyLoss, len = 53 and Adam, lr = 0.001\n",
            "Model: PyTorch Best Epoch: 443 | Best Loss: 1.04316 | Best Acc: 55.93%  with LassoFeatureElimination, standart,CrossEntropyLoss, len = 53 and Adam, lr = 0.001\n",
            "Model: PyTorch Best Epoch: 545 | Best Loss: 1.05466 | Best Acc: 56.19%  with LassoFeatureElimination, standart,CrossEntropyLoss, len = 53 and Adam, lr = 0.001\n",
            "Model: PyTorch Best Epoch: 547 | Best Loss: 1.05568 | Best Acc: 56.39%  with LassoFeatureElimination, standart,CrossEntropyLoss, len = 53 and Adam, lr = 0.001\n",
            "Model: PyTorch Best Epoch: 587 | Best Loss: 1.06488 | Best Acc: 56.45%  with LassoFeatureElimination, standart,CrossEntropyLoss, len = 53 and Adam, lr = 0.001\n",
            "Model: PyTorch Best Epoch: 611 | Best Loss: 1.07888 | Best Acc: 56.65%  with LassoFeatureElimination, standart,CrossEntropyLoss, len = 53 and Adam, lr = 0.001\n",
            "Model: PyTorch Best Epoch: 666 | Best Loss: 1.09785 | Best Acc: 56.91%  with LassoFeatureElimination, standart,CrossEntropyLoss, len = 53 and Adam, lr = 0.001\n",
            "Model: PyTorch Best Epoch: 702 | Best Loss: 1.10145 | Best Acc: 57.04%  with LassoFeatureElimination, standart,CrossEntropyLoss, len = 53 and Adam, lr = 0.001\n",
            "Model: PyTorch Best Epoch: 749 | Best Loss: 1.11673 | Best Acc: 57.30%  with LassoFeatureElimination, standart,CrossEntropyLoss, len = 53 and Adam, lr = 0.001\n",
            "Model: PyTorch Best Epoch: 751 | Best Loss: 1.11895 | Best Acc: 57.50%  with LassoFeatureElimination, standart,CrossEntropyLoss, len = 53 and Adam, lr = 0.001\n",
            "Model: PyTorch Best Epoch: 880 | Best Loss: 1.13181 | Best Acc: 57.63%  with LassoFeatureElimination, standart,CrossEntropyLoss, len = 53 and Adam, lr = 0.001\n",
            "Model: PyTorch Best Epoch: 883 | Best Loss: 1.13229 | Best Acc: 58.02%  with LassoFeatureElimination, standart,CrossEntropyLoss, len = 53 and Adam, lr = 0.001\n",
            "Model: PyTorch Best Epoch: 884 | Best Loss: 1.13272 | Best Acc: 58.28%  with LassoFeatureElimination, standart,CrossEntropyLoss, len = 53 and Adam, lr = 0.001\n",
            "Model: PyTorch Best Epoch: 887 | Best Loss: 1.13230 | Best Acc: 58.42%  with LassoFeatureElimination, standart,CrossEntropyLoss, len = 53 and Adam, lr = 0.001\n",
            "Model: PyTorch Best Epoch: 893 | Best Loss: 1.13248 | Best Acc: 58.87%  with LassoFeatureElimination, standart,CrossEntropyLoss, len = 53 and Adam, lr = 0.001\n",
            "Model: PyTorch Best Epoch: 909 | Best Loss: 1.14856 | Best Acc: 59.27%  with LassoFeatureElimination, standart,CrossEntropyLoss, len = 53 and Adam, lr = 0.001\n",
            "Model: PyTorch Best Epoch: 977 | Best Loss: 1.14576 | Best Acc: 59.40%  with LassoFeatureElimination, standart,CrossEntropyLoss, len = 53 and Adam, lr = 0.001\n",
            "Model: PyTorch Best Epoch: 991 | Best Loss: 1.14543 | Best Acc: 59.72%  with LassoFeatureElimination, standart,CrossEntropyLoss, len = 53 and Adam, lr = 0.001\n",
            "Model: PyTorch Best Epoch: 998 | Best Loss: 1.15306 | Best Acc: 60.18%  with LassoFeatureElimination, standart,CrossEntropyLoss, len = 53 and Adam, lr = 0.001\n",
            "Model: PyTorch Best Epoch: 1002 | Best Loss: 1.15724 | Best Acc: 60.31%  with LassoFeatureElimination, standart,CrossEntropyLoss, len = 53 and Adam, lr = 0.001\n",
            "Model: PyTorch Best Epoch: 1053 | Best Loss: 1.16789 | Best Acc: 60.58%  with LassoFeatureElimination, standart,CrossEntropyLoss, len = 53 and Adam, lr = 0.001\n",
            "Model: PyTorch Best Epoch: 1058 | Best Loss: 1.16830 | Best Acc: 60.97%  with LassoFeatureElimination, standart,CrossEntropyLoss, len = 53 and Adam, lr = 0.001\n",
            "Model: PyTorch Best Epoch: 1077 | Best Loss: 1.16216 | Best Acc: 61.10%  with LassoFeatureElimination, standart,CrossEntropyLoss, len = 53 and Adam, lr = 0.001\n",
            "Model: PyTorch Best Epoch: 1084 | Best Loss: 1.15886 | Best Acc: 61.23%  with LassoFeatureElimination, standart,CrossEntropyLoss, len = 53 and Adam, lr = 0.001\n",
            "Model: PyTorch Best Epoch: 1519 | Best Loss: 1.43184 | Best Acc: 61.30%  with LassoFeatureElimination, standart,CrossEntropyLoss, len = 53 and Adam, lr = 0.001\n",
            "Model: PyTorch Best Epoch: 1521 | Best Loss: 1.42547 | Best Acc: 61.36%  with LassoFeatureElimination, standart,CrossEntropyLoss, len = 53 and Adam, lr = 0.001\n",
            "Model: PyTorch Best Epoch: 1603 | Best Loss: 1.45574 | Best Acc: 61.43%  with LassoFeatureElimination, standart,CrossEntropyLoss, len = 53 and Adam, lr = 0.001\n",
            "Model: PyTorch Best Epoch: 1607 | Best Loss: 1.45647 | Best Acc: 61.56%  with LassoFeatureElimination, standart,CrossEntropyLoss, len = 53 and Adam, lr = 0.001\n",
            "Model: PyTorch Best Epoch: 1612 | Best Loss: 1.46362 | Best Acc: 61.62%  with LassoFeatureElimination, standart,CrossEntropyLoss, len = 53 and Adam, lr = 0.001\n",
            "Model: PyTorch Best Epoch: 2491 | Best Loss: 1.90202 | Best Acc: 61.76%  with LassoFeatureElimination, standart,CrossEntropyLoss, len = 53 and Adam, lr = 0.001\n",
            "Model: PyTorch Best Epoch: 2561 | Best Loss: 1.96713 | Best Acc: 62.02%  with LassoFeatureElimination, standart,CrossEntropyLoss, len = 53 and Adam, lr = 0.001\n",
            "Model: PyTorch Best Epoch: 2718 | Best Loss: 1.56124 | Best Acc: 62.15%  with LassoFeatureElimination, standart,CrossEntropyLoss, len = 53 and Adam, lr = 0.001\n",
            "END OF FIRST ITERATION WITH FEATURES LEN = 53\n",
            "Model: PyTorch Best Epoch: 0 | Best Loss: 1.44972 | Best Acc: 14.93%  with LassoFeatureElimination, robust,CrossEntropyLoss, len = 55 and Adam, lr = 0.001\n"
          ]
        },
        {
          "name": "stderr",
          "output_type": "stream",
          "text": [
            "c:\\Users\\AMD\\AppData\\Local\\Programs\\Python\\Python310\\lib\\site-packages\\sklearn\\base.py:443: UserWarning: X has feature names, but SelectFromModel was fitted without feature names\n",
            "  warnings.warn(\n"
          ]
        },
        {
          "name": "stdout",
          "output_type": "stream",
          "text": [
            "Model: PyTorch Best Epoch: 22 | Best Loss: 1.37384 | Best Acc: 15.91%  with LassoFeatureElimination, robust,CrossEntropyLoss, len = 55 and Adam, lr = 0.001\n",
            "Model: PyTorch Best Epoch: 23 | Best Loss: 1.36441 | Best Acc: 18.86%  with LassoFeatureElimination, robust,CrossEntropyLoss, len = 55 and Adam, lr = 0.001\n",
            "Model: PyTorch Best Epoch: 24 | Best Loss: 1.35359 | Best Acc: 26.46%  with LassoFeatureElimination, robust,CrossEntropyLoss, len = 55 and Adam, lr = 0.001\n",
            "Model: PyTorch Best Epoch: 25 | Best Loss: 1.34236 | Best Acc: 34.77%  with LassoFeatureElimination, robust,CrossEntropyLoss, len = 55 and Adam, lr = 0.001\n",
            "Model: PyTorch Best Epoch: 26 | Best Loss: 1.33066 | Best Acc: 42.04%  with LassoFeatureElimination, robust,CrossEntropyLoss, len = 55 and Adam, lr = 0.001\n",
            "Model: PyTorch Best Epoch: 27 | Best Loss: 1.31819 | Best Acc: 46.43%  with LassoFeatureElimination, robust,CrossEntropyLoss, len = 55 and Adam, lr = 0.001\n",
            "Model: PyTorch Best Epoch: 28 | Best Loss: 1.30557 | Best Acc: 47.22%  with LassoFeatureElimination, robust,CrossEntropyLoss, len = 55 and Adam, lr = 0.001\n",
            "Model: PyTorch Best Epoch: 43 | Best Loss: 1.17418 | Best Acc: 47.54%  with LassoFeatureElimination, robust,CrossEntropyLoss, len = 55 and Adam, lr = 0.001\n",
            "Model: PyTorch Best Epoch: 44 | Best Loss: 1.16649 | Best Acc: 47.61%  with LassoFeatureElimination, robust,CrossEntropyLoss, len = 55 and Adam, lr = 0.001\n",
            "Model: PyTorch Best Epoch: 45 | Best Loss: 1.15971 | Best Acc: 47.68%  with LassoFeatureElimination, robust,CrossEntropyLoss, len = 55 and Adam, lr = 0.001\n",
            "Model: PyTorch Best Epoch: 46 | Best Loss: 1.15378 | Best Acc: 47.74%  with LassoFeatureElimination, robust,CrossEntropyLoss, len = 55 and Adam, lr = 0.001\n",
            "Model: PyTorch Best Epoch: 47 | Best Loss: 1.14825 | Best Acc: 48.66%  with LassoFeatureElimination, robust,CrossEntropyLoss, len = 55 and Adam, lr = 0.001\n",
            "Model: PyTorch Best Epoch: 48 | Best Loss: 1.14265 | Best Acc: 49.31%  with LassoFeatureElimination, robust,CrossEntropyLoss, len = 55 and Adam, lr = 0.001\n",
            "Model: PyTorch Best Epoch: 49 | Best Loss: 1.13676 | Best Acc: 50.16%  with LassoFeatureElimination, robust,CrossEntropyLoss, len = 55 and Adam, lr = 0.001\n",
            "Model: PyTorch Best Epoch: 50 | Best Loss: 1.13064 | Best Acc: 50.82%  with LassoFeatureElimination, robust,CrossEntropyLoss, len = 55 and Adam, lr = 0.001\n",
            "Model: PyTorch Best Epoch: 51 | Best Loss: 1.12457 | Best Acc: 51.02%  with LassoFeatureElimination, robust,CrossEntropyLoss, len = 55 and Adam, lr = 0.001\n",
            "Model: PyTorch Best Epoch: 52 | Best Loss: 1.11874 | Best Acc: 51.80%  with LassoFeatureElimination, robust,CrossEntropyLoss, len = 55 and Adam, lr = 0.001\n",
            "Model: PyTorch Best Epoch: 53 | Best Loss: 1.11320 | Best Acc: 52.13%  with LassoFeatureElimination, robust,CrossEntropyLoss, len = 55 and Adam, lr = 0.001\n",
            "Model: PyTorch Best Epoch: 54 | Best Loss: 1.10787 | Best Acc: 52.19%  with LassoFeatureElimination, robust,CrossEntropyLoss, len = 55 and Adam, lr = 0.001\n",
            "Model: PyTorch Best Epoch: 55 | Best Loss: 1.10299 | Best Acc: 52.72%  with LassoFeatureElimination, robust,CrossEntropyLoss, len = 55 and Adam, lr = 0.001\n",
            "Model: PyTorch Best Epoch: 56 | Best Loss: 1.09835 | Best Acc: 52.85%  with LassoFeatureElimination, robust,CrossEntropyLoss, len = 55 and Adam, lr = 0.001\n",
            "Model: PyTorch Best Epoch: 57 | Best Loss: 1.09384 | Best Acc: 53.05%  with LassoFeatureElimination, robust,CrossEntropyLoss, len = 55 and Adam, lr = 0.001\n",
            "Model: PyTorch Best Epoch: 58 | Best Loss: 1.08942 | Best Acc: 53.50%  with LassoFeatureElimination, robust,CrossEntropyLoss, len = 55 and Adam, lr = 0.001\n",
            "Model: PyTorch Best Epoch: 59 | Best Loss: 1.08501 | Best Acc: 53.57%  with LassoFeatureElimination, robust,CrossEntropyLoss, len = 55 and Adam, lr = 0.001\n",
            "Model: PyTorch Best Epoch: 60 | Best Loss: 1.08071 | Best Acc: 53.70%  with LassoFeatureElimination, robust,CrossEntropyLoss, len = 55 and Adam, lr = 0.001\n",
            "Model: PyTorch Best Epoch: 62 | Best Loss: 1.07362 | Best Acc: 54.03%  with LassoFeatureElimination, robust,CrossEntropyLoss, len = 55 and Adam, lr = 0.001\n",
            "Model: PyTorch Best Epoch: 63 | Best Loss: 1.07077 | Best Acc: 54.35%  with LassoFeatureElimination, robust,CrossEntropyLoss, len = 55 and Adam, lr = 0.001\n",
            "Model: PyTorch Best Epoch: 64 | Best Loss: 1.06813 | Best Acc: 54.81%  with LassoFeatureElimination, robust,CrossEntropyLoss, len = 55 and Adam, lr = 0.001\n",
            "Model: PyTorch Best Epoch: 65 | Best Loss: 1.06519 | Best Acc: 55.40%  with LassoFeatureElimination, robust,CrossEntropyLoss, len = 55 and Adam, lr = 0.001\n",
            "Model: PyTorch Best Epoch: 66 | Best Loss: 1.06181 | Best Acc: 56.65%  with LassoFeatureElimination, robust,CrossEntropyLoss, len = 55 and Adam, lr = 0.001\n",
            "Model: PyTorch Best Epoch: 67 | Best Loss: 1.05865 | Best Acc: 56.84%  with LassoFeatureElimination, robust,CrossEntropyLoss, len = 55 and Adam, lr = 0.001\n",
            "Model: PyTorch Best Epoch: 68 | Best Loss: 1.05593 | Best Acc: 57.17%  with LassoFeatureElimination, robust,CrossEntropyLoss, len = 55 and Adam, lr = 0.001\n",
            "Model: PyTorch Best Epoch: 69 | Best Loss: 1.05369 | Best Acc: 57.83%  with LassoFeatureElimination, robust,CrossEntropyLoss, len = 55 and Adam, lr = 0.001\n",
            "Model: PyTorch Best Epoch: 70 | Best Loss: 1.05131 | Best Acc: 57.89%  with LassoFeatureElimination, robust,CrossEntropyLoss, len = 55 and Adam, lr = 0.001\n",
            "Model: PyTorch Best Epoch: 71 | Best Loss: 1.04816 | Best Acc: 58.15%  with LassoFeatureElimination, robust,CrossEntropyLoss, len = 55 and Adam, lr = 0.001\n",
            "Model: PyTorch Best Epoch: 73 | Best Loss: 1.04162 | Best Acc: 58.48%  with LassoFeatureElimination, robust,CrossEntropyLoss, len = 55 and Adam, lr = 0.001\n",
            "Model: PyTorch Best Epoch: 88 | Best Loss: 1.00518 | Best Acc: 58.94%  with LassoFeatureElimination, robust,CrossEntropyLoss, len = 55 and Adam, lr = 0.001\n",
            "Model: PyTorch Best Epoch: 89 | Best Loss: 1.00120 | Best Acc: 59.07%  with LassoFeatureElimination, robust,CrossEntropyLoss, len = 55 and Adam, lr = 0.001\n",
            "Model: PyTorch Best Epoch: 90 | Best Loss: 0.99810 | Best Acc: 59.33%  with LassoFeatureElimination, robust,CrossEntropyLoss, len = 55 and Adam, lr = 0.001\n",
            "Model: PyTorch Best Epoch: 97 | Best Loss: 0.98436 | Best Acc: 59.46%  with LassoFeatureElimination, robust,CrossEntropyLoss, len = 55 and Adam, lr = 0.001\n",
            "Model: PyTorch Best Epoch: 98 | Best Loss: 0.98270 | Best Acc: 59.53%  with LassoFeatureElimination, robust,CrossEntropyLoss, len = 55 and Adam, lr = 0.001\n",
            "Model: PyTorch Best Epoch: 99 | Best Loss: 0.98411 | Best Acc: 59.86%  with LassoFeatureElimination, robust,CrossEntropyLoss, len = 55 and Adam, lr = 0.001\n",
            "Model: PyTorch Best Epoch: 101 | Best Loss: 0.98541 | Best Acc: 60.05%  with LassoFeatureElimination, robust,CrossEntropyLoss, len = 55 and Adam, lr = 0.001\n",
            "Model: PyTorch Best Epoch: 103 | Best Loss: 0.98327 | Best Acc: 60.18%  with LassoFeatureElimination, robust,CrossEntropyLoss, len = 55 and Adam, lr = 0.001\n",
            "Model: PyTorch Best Epoch: 106 | Best Loss: 0.97753 | Best Acc: 60.38%  with LassoFeatureElimination, robust,CrossEntropyLoss, len = 55 and Adam, lr = 0.001\n",
            "Model: PyTorch Best Epoch: 194 | Best Loss: 1.17075 | Best Acc: 60.45%  with LassoFeatureElimination, robust,CrossEntropyLoss, len = 55 and Adam, lr = 0.001\n",
            "Model: PyTorch Best Epoch: 200 | Best Loss: 1.21253 | Best Acc: 60.58%  with LassoFeatureElimination, robust,CrossEntropyLoss, len = 55 and Adam, lr = 0.001\n",
            "Model: PyTorch Best Epoch: 202 | Best Loss: 1.23323 | Best Acc: 60.84%  with LassoFeatureElimination, robust,CrossEntropyLoss, len = 55 and Adam, lr = 0.001\n",
            "Model: PyTorch Best Epoch: 207 | Best Loss: 1.26213 | Best Acc: 60.97%  with LassoFeatureElimination, robust,CrossEntropyLoss, len = 55 and Adam, lr = 0.001\n",
            "END OF FIRST ITERATION WITH FEATURES LEN = 55\n"
          ]
        }
      ],
      "source": [
        "# Run RandomForest wiit RFEFeatureElimination and robust scaler in to the oversampling data\n",
        "RunThePredictAlgorithm(oversampling_df, 75, 'standart', LassoFeatureElimination, RandomForest, version_numer='V2')\n",
        "\n",
        "# Run RandomForest wiit RFEFeatureElimination and robust scaler in to the oversampling data\n",
        "RunThePredictAlgorithm(oversampling_df, 75, 'min-max', LassoFeatureElimination, RandomForest, version_numer='V2')\n",
        "\n",
        "# Run RandomForest wiit RFEFeatureElimination and robust scaler in to the oversampling data\n",
        "RunThePredictAlgorithm(oversampling_df, 75, 'robust', LassoFeatureElimination, RandomForest, version_numer='V2')\n",
        "\n",
        "\n",
        "\n",
        "RunThePredictAlgorithm(oversampling_df, 70, 'min-max', LassoFeatureElimination, PyTorch_TrainTest_Step,\n",
        "                       True, accuracy_method= accuracy_fn, loss_method=nn.CrossEntropyLoss(), optimizer_method='Adam', lr = 0.001)\n",
        "\n",
        "RunThePredictAlgorithm(oversampling_df, 70, 'standart', LassoFeatureElimination, PyTorch_TrainTest_Step,\n",
        "                       True, accuracy_method= accuracy_fn, loss_method=nn.CrossEntropyLoss(), optimizer_method='Adam', lr = 0.001)\n",
        "\n",
        "RunThePredictAlgorithm(oversampling_df, 70, 'robust', LassoFeatureElimination, PyTorch_TrainTest_Step,\n",
        "                       True, accuracy_method= accuracy_fn, loss_method=nn.CrossEntropyLoss(), optimizer_method='Adam', lr = 0.001)"
      ]
    }
  ],
  "metadata": {
    "accelerator": "TPU",
    "colab": {
      "provenance": []
    },
    "kernelspec": {
      "display_name": "Python 3",
      "name": "python3"
    },
    "language_info": {
      "codemirror_mode": {
        "name": "ipython",
        "version": 3
      },
      "file_extension": ".py",
      "mimetype": "text/x-python",
      "name": "python",
      "nbconvert_exporter": "python",
      "pygments_lexer": "ipython3",
      "version": "3.10.4"
    }
  },
  "nbformat": 4,
  "nbformat_minor": 0
}
