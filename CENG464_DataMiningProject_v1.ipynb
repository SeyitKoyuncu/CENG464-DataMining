{
  "cells": [
    {
      "cell_type": "markdown",
      "metadata": {
        "id": "o9Xx0621S0ko"
      },
      "source": [
        "# Import The libaries"
      ]
    },
    {
      "cell_type": "code",
      "execution_count": 1,
      "metadata": {
        "id": "kN7fd5_DS5Mu"
      },
      "outputs": [
        {
          "name": "stderr",
          "output_type": "stream",
          "text": [
            "c:\\Users\\AMD\\AppData\\Local\\Programs\\Python\\Python310\\lib\\site-packages\\scipy\\__init__.py:146: UserWarning: A NumPy version >=1.17.3 and <1.25.0 is required for this version of SciPy (detected version 1.26.2\n",
            "  warnings.warn(f\"A NumPy version >={np_minversion} and <{np_maxversion}\"\n"
          ]
        }
      ],
      "source": [
        "import numpy as np\n",
        "import pandas as pd\n",
        "import matplotlib.pyplot as plt\n",
        "import seaborn as sns"
      ]
    },
    {
      "cell_type": "markdown",
      "metadata": {
        "id": "3ip3ch6JS8b1"
      },
      "source": [
        "# Read DataSet"
      ]
    },
    {
      "cell_type": "code",
      "execution_count": 2,
      "metadata": {
        "id": "jd-9AFVNS9vR"
      },
      "outputs": [],
      "source": [
        "df = pd.DataFrame(pd.read_csv(\"file1.csv\"))"
      ]
    },
    {
      "cell_type": "code",
      "execution_count": 3,
      "metadata": {
        "colab": {
          "base_uri": "https://localhost:8080/"
        },
        "id": "1xQZ3R7VTGnX",
        "outputId": "5870f304-629f-4185-998f-63d10982cd23"
      },
      "outputs": [
        {
          "data": {
            "text/plain": [
              "(Index(['Unnamed: 0', 'Q11_1', 'Q11_2', 'Q11_3', 'Q11_4', 'Q11_5', 'Q11_6',\n",
              "        'Q11_7', 'Q11_8', 'Q11_9', 'Q11_10', 'Q11_11', 'Q11_12', 'Q11_13',\n",
              "        'Q11_Dont_Know', 'Q12_1', 'Q12_2', 'Q12_3', 'Q12_4', 'Q12_5', 'Q12_6',\n",
              "        'Q12_7', 'Q12_8', 'Q12_9', 'Q12_10', 'Q12_11', 'Q12_12', 'Q12_13',\n",
              "        'Q12_14', 'Q12_Dont_Know', 'Q13_1', 'Q13_2', 'Q13_3', 'Q13_4', 'Q13_5',\n",
              "        'Q13_6', 'Q13_7', 'Q13_8', 'Q13_9', 'Q13_10', 'Q13_11', 'Q13_12',\n",
              "        'Q13_13', 'Q13_14', 'Q13_15', 'Q13_16', 'Q13_Dont_Know', 'Q14', 'Q15',\n",
              "        'Q17', 'Q18_1', 'Q18_2', 'Q18_3', 'Q18_4', 'Q18_5', 'Q18_6', 'Q18_7',\n",
              "        'Q18_8', 'Q18_9', 'Q18_10', 'Q18_11', 'Q18_12', 'Q18_13', 'Q18_14',\n",
              "        'Q18_15', 'Q18_16', 'Q18_17', 'Q18_18', 'Q18_19', 'Q18_20', 'Q18_21',\n",
              "        'Q18_22', 'Q18_23', 'Q20', 'Q21', 'Q16'],\n",
              "       dtype='object'),\n",
              " 76)"
            ]
          },
          "execution_count": 3,
          "metadata": {},
          "output_type": "execute_result"
        }
      ],
      "source": [
        "df.columns, len(df.columns)"
      ]
    },
    {
      "cell_type": "code",
      "execution_count": 4,
      "metadata": {
        "colab": {
          "base_uri": "https://localhost:8080/",
          "height": 392
        },
        "id": "dTyDgk96WQ8z",
        "outputId": "64e39be0-596d-4374-952b-dfb3935347c8"
      },
      "outputs": [
        {
          "data": {
            "text/html": [
              "<div>\n",
              "<style scoped>\n",
              "    .dataframe tbody tr th:only-of-type {\n",
              "        vertical-align: middle;\n",
              "    }\n",
              "\n",
              "    .dataframe tbody tr th {\n",
              "        vertical-align: top;\n",
              "    }\n",
              "\n",
              "    .dataframe thead th {\n",
              "        text-align: right;\n",
              "    }\n",
              "</style>\n",
              "<table border=\"1\" class=\"dataframe\">\n",
              "  <thead>\n",
              "    <tr style=\"text-align: right;\">\n",
              "      <th></th>\n",
              "      <th>Unnamed: 0</th>\n",
              "      <th>Q11_1</th>\n",
              "      <th>Q11_2</th>\n",
              "      <th>Q11_3</th>\n",
              "      <th>Q11_4</th>\n",
              "      <th>Q11_5</th>\n",
              "      <th>Q11_6</th>\n",
              "      <th>Q11_7</th>\n",
              "      <th>Q11_8</th>\n",
              "      <th>Q11_9</th>\n",
              "      <th>...</th>\n",
              "      <th>Q18_17</th>\n",
              "      <th>Q18_18</th>\n",
              "      <th>Q18_19</th>\n",
              "      <th>Q18_20</th>\n",
              "      <th>Q18_21</th>\n",
              "      <th>Q18_22</th>\n",
              "      <th>Q18_23</th>\n",
              "      <th>Q20</th>\n",
              "      <th>Q21</th>\n",
              "      <th>Q16</th>\n",
              "    </tr>\n",
              "  </thead>\n",
              "  <tbody>\n",
              "    <tr>\n",
              "      <th>0</th>\n",
              "      <td>0</td>\n",
              "      <td>0</td>\n",
              "      <td>0</td>\n",
              "      <td>0</td>\n",
              "      <td>1</td>\n",
              "      <td>1</td>\n",
              "      <td>0</td>\n",
              "      <td>0</td>\n",
              "      <td>1</td>\n",
              "      <td>0</td>\n",
              "      <td>...</td>\n",
              "      <td>5</td>\n",
              "      <td>5</td>\n",
              "      <td>5</td>\n",
              "      <td>5</td>\n",
              "      <td>5</td>\n",
              "      <td>5</td>\n",
              "      <td>5</td>\n",
              "      <td>3</td>\n",
              "      <td>3</td>\n",
              "      <td>A</td>\n",
              "    </tr>\n",
              "    <tr>\n",
              "      <th>1</th>\n",
              "      <td>1</td>\n",
              "      <td>1</td>\n",
              "      <td>0</td>\n",
              "      <td>0</td>\n",
              "      <td>1</td>\n",
              "      <td>0</td>\n",
              "      <td>0</td>\n",
              "      <td>1</td>\n",
              "      <td>0</td>\n",
              "      <td>0</td>\n",
              "      <td>...</td>\n",
              "      <td>4</td>\n",
              "      <td>2</td>\n",
              "      <td>4</td>\n",
              "      <td>2</td>\n",
              "      <td>2</td>\n",
              "      <td>2</td>\n",
              "      <td>2</td>\n",
              "      <td>3</td>\n",
              "      <td>3</td>\n",
              "      <td>D</td>\n",
              "    </tr>\n",
              "    <tr>\n",
              "      <th>2</th>\n",
              "      <td>2</td>\n",
              "      <td>1</td>\n",
              "      <td>1</td>\n",
              "      <td>0</td>\n",
              "      <td>1</td>\n",
              "      <td>0</td>\n",
              "      <td>0</td>\n",
              "      <td>1</td>\n",
              "      <td>1</td>\n",
              "      <td>0</td>\n",
              "      <td>...</td>\n",
              "      <td>4</td>\n",
              "      <td>4</td>\n",
              "      <td>?</td>\n",
              "      <td>?</td>\n",
              "      <td>4</td>\n",
              "      <td>2</td>\n",
              "      <td>4</td>\n",
              "      <td>4</td>\n",
              "      <td>1</td>\n",
              "      <td>A</td>\n",
              "    </tr>\n",
              "    <tr>\n",
              "      <th>3</th>\n",
              "      <td>3</td>\n",
              "      <td>0</td>\n",
              "      <td>0</td>\n",
              "      <td>0</td>\n",
              "      <td>0</td>\n",
              "      <td>0</td>\n",
              "      <td>0</td>\n",
              "      <td>0</td>\n",
              "      <td>0</td>\n",
              "      <td>0</td>\n",
              "      <td>...</td>\n",
              "      <td>?</td>\n",
              "      <td>?</td>\n",
              "      <td>?</td>\n",
              "      <td>?</td>\n",
              "      <td>?</td>\n",
              "      <td>?</td>\n",
              "      <td>?</td>\n",
              "      <td>3</td>\n",
              "      <td>3</td>\n",
              "      <td>C</td>\n",
              "    </tr>\n",
              "    <tr>\n",
              "      <th>4</th>\n",
              "      <td>4</td>\n",
              "      <td>1</td>\n",
              "      <td>1</td>\n",
              "      <td>0</td>\n",
              "      <td>1</td>\n",
              "      <td>0</td>\n",
              "      <td>0</td>\n",
              "      <td>1</td>\n",
              "      <td>1</td>\n",
              "      <td>0</td>\n",
              "      <td>...</td>\n",
              "      <td>?</td>\n",
              "      <td>?</td>\n",
              "      <td>1</td>\n",
              "      <td>1</td>\n",
              "      <td>?</td>\n",
              "      <td>?</td>\n",
              "      <td>?</td>\n",
              "      <td>3</td>\n",
              "      <td>3</td>\n",
              "      <td>D</td>\n",
              "    </tr>\n",
              "    <tr>\n",
              "      <th>5</th>\n",
              "      <td>5</td>\n",
              "      <td>0</td>\n",
              "      <td>1</td>\n",
              "      <td>0</td>\n",
              "      <td>0</td>\n",
              "      <td>0</td>\n",
              "      <td>0</td>\n",
              "      <td>0</td>\n",
              "      <td>0</td>\n",
              "      <td>0</td>\n",
              "      <td>...</td>\n",
              "      <td>4</td>\n",
              "      <td>4</td>\n",
              "      <td>4</td>\n",
              "      <td>4</td>\n",
              "      <td>4</td>\n",
              "      <td>4</td>\n",
              "      <td>4</td>\n",
              "      <td>3</td>\n",
              "      <td>3</td>\n",
              "      <td>B</td>\n",
              "    </tr>\n",
              "    <tr>\n",
              "      <th>6</th>\n",
              "      <td>6</td>\n",
              "      <td>1</td>\n",
              "      <td>0</td>\n",
              "      <td>0</td>\n",
              "      <td>1</td>\n",
              "      <td>1</td>\n",
              "      <td>0</td>\n",
              "      <td>1</td>\n",
              "      <td>1</td>\n",
              "      <td>0</td>\n",
              "      <td>...</td>\n",
              "      <td>5</td>\n",
              "      <td>1</td>\n",
              "      <td>5</td>\n",
              "      <td>3</td>\n",
              "      <td>5</td>\n",
              "      <td>3</td>\n",
              "      <td>3</td>\n",
              "      <td>3</td>\n",
              "      <td>1</td>\n",
              "      <td>A</td>\n",
              "    </tr>\n",
              "    <tr>\n",
              "      <th>7</th>\n",
              "      <td>7</td>\n",
              "      <td>1</td>\n",
              "      <td>0</td>\n",
              "      <td>1</td>\n",
              "      <td>0</td>\n",
              "      <td>1</td>\n",
              "      <td>1</td>\n",
              "      <td>1</td>\n",
              "      <td>0</td>\n",
              "      <td>0</td>\n",
              "      <td>...</td>\n",
              "      <td>3</td>\n",
              "      <td>2</td>\n",
              "      <td>5</td>\n",
              "      <td>5</td>\n",
              "      <td>5</td>\n",
              "      <td>5</td>\n",
              "      <td>5</td>\n",
              "      <td>5</td>\n",
              "      <td>1</td>\n",
              "      <td>A</td>\n",
              "    </tr>\n",
              "    <tr>\n",
              "      <th>8</th>\n",
              "      <td>8</td>\n",
              "      <td>1</td>\n",
              "      <td>1</td>\n",
              "      <td>0</td>\n",
              "      <td>0</td>\n",
              "      <td>0</td>\n",
              "      <td>0</td>\n",
              "      <td>1</td>\n",
              "      <td>1</td>\n",
              "      <td>0</td>\n",
              "      <td>...</td>\n",
              "      <td>2</td>\n",
              "      <td>2</td>\n",
              "      <td>2</td>\n",
              "      <td>2</td>\n",
              "      <td>2</td>\n",
              "      <td>2</td>\n",
              "      <td>3</td>\n",
              "      <td>1</td>\n",
              "      <td>2</td>\n",
              "      <td>A</td>\n",
              "    </tr>\n",
              "    <tr>\n",
              "      <th>9</th>\n",
              "      <td>9</td>\n",
              "      <td>1</td>\n",
              "      <td>0</td>\n",
              "      <td>0</td>\n",
              "      <td>0</td>\n",
              "      <td>0</td>\n",
              "      <td>0</td>\n",
              "      <td>0</td>\n",
              "      <td>0</td>\n",
              "      <td>0</td>\n",
              "      <td>...</td>\n",
              "      <td>4</td>\n",
              "      <td>1</td>\n",
              "      <td>4</td>\n",
              "      <td>1</td>\n",
              "      <td>4</td>\n",
              "      <td>1</td>\n",
              "      <td>1</td>\n",
              "      <td>4</td>\n",
              "      <td>4</td>\n",
              "      <td>A</td>\n",
              "    </tr>\n",
              "  </tbody>\n",
              "</table>\n",
              "<p>10 rows × 76 columns</p>\n",
              "</div>"
            ],
            "text/plain": [
              "   Unnamed: 0  Q11_1  Q11_2  Q11_3  Q11_4  Q11_5  Q11_6  Q11_7  Q11_8  Q11_9  \\\n",
              "0           0      0      0      0      1      1      0      0      1      0   \n",
              "1           1      1      0      0      1      0      0      1      0      0   \n",
              "2           2      1      1      0      1      0      0      1      1      0   \n",
              "3           3      0      0      0      0      0      0      0      0      0   \n",
              "4           4      1      1      0      1      0      0      1      1      0   \n",
              "5           5      0      1      0      0      0      0      0      0      0   \n",
              "6           6      1      0      0      1      1      0      1      1      0   \n",
              "7           7      1      0      1      0      1      1      1      0      0   \n",
              "8           8      1      1      0      0      0      0      1      1      0   \n",
              "9           9      1      0      0      0      0      0      0      0      0   \n",
              "\n",
              "   ...  Q18_17  Q18_18  Q18_19  Q18_20  Q18_21  Q18_22  Q18_23  Q20  Q21  Q16  \n",
              "0  ...       5       5       5       5       5       5       5    3    3    A  \n",
              "1  ...       4       2       4       2       2       2       2    3    3    D  \n",
              "2  ...       4       4       ?       ?       4       2       4    4    1    A  \n",
              "3  ...       ?       ?       ?       ?       ?       ?       ?    3    3    C  \n",
              "4  ...       ?       ?       1       1       ?       ?       ?    3    3    D  \n",
              "5  ...       4       4       4       4       4       4       4    3    3    B  \n",
              "6  ...       5       1       5       3       5       3       3    3    1    A  \n",
              "7  ...       3       2       5       5       5       5       5    5    1    A  \n",
              "8  ...       2       2       2       2       2       2       3    1    2    A  \n",
              "9  ...       4       1       4       1       4       1       1    4    4    A  \n",
              "\n",
              "[10 rows x 76 columns]"
            ]
          },
          "execution_count": 4,
          "metadata": {},
          "output_type": "execute_result"
        }
      ],
      "source": [
        "df.head(10)"
      ]
    },
    {
      "cell_type": "code",
      "execution_count": 5,
      "metadata": {
        "colab": {
          "base_uri": "https://localhost:8080/"
        },
        "id": "0ZqJwVspagIP",
        "outputId": "e9b90dfc-369c-4293-e354-ece9fd86e7fd"
      },
      "outputs": [
        {
          "data": {
            "text/plain": [
              "<bound method NDFrame.describe of       Unnamed: 0  Q11_1  Q11_2  Q11_3  Q11_4  Q11_5  Q11_6  Q11_7  Q11_8  \\\n",
              "0              0      0      0      0      1      1      0      0      1   \n",
              "1              1      1      0      0      1      0      0      1      0   \n",
              "2              2      1      1      0      1      0      0      1      1   \n",
              "3              3      0      0      0      0      0      0      0      0   \n",
              "4              4      1      1      0      1      0      0      1      1   \n",
              "...          ...    ...    ...    ...    ...    ...    ...    ...    ...   \n",
              "6103        6103      0      1      0      0      0      0      1      1   \n",
              "6104        6104      0      1      0      1      0      0      0      1   \n",
              "6105        6105      1      0      1      0      0      0      0      0   \n",
              "6106        6106      0      0      1      0      0      0      0      1   \n",
              "6107        6107      1      0      0      1      0      0      0      1   \n",
              "\n",
              "      Q11_9  ...  Q18_17  Q18_18  Q18_19  Q18_20  Q18_21  Q18_22  Q18_23  Q20  \\\n",
              "0         0  ...       5       5       5       5       5       5       5    3   \n",
              "1         0  ...       4       2       4       2       2       2       2    3   \n",
              "2         0  ...       4       4       ?       ?       4       2       4    4   \n",
              "3         0  ...       ?       ?       ?       ?       ?       ?       ?    3   \n",
              "4         0  ...       ?       ?       1       1       ?       ?       ?    3   \n",
              "...     ...  ...     ...     ...     ...     ...     ...     ...     ...  ...   \n",
              "6103      1  ...       2       2       3       3       2       1       1    1   \n",
              "6104      0  ...       ?       ?       ?       ?       ?       ?       ?    3   \n",
              "6105      0  ...       4       1       5       4       5       4       5    5   \n",
              "6106      0  ...       1       3       4       5       3       2       3    2   \n",
              "6107      0  ...       3       3       3       3       3       3       3    3   \n",
              "\n",
              "      Q21  Q16  \n",
              "0       3    A  \n",
              "1       3    D  \n",
              "2       1    A  \n",
              "3       3    C  \n",
              "4       3    D  \n",
              "...   ...  ...  \n",
              "6103    3    B  \n",
              "6104    3    A  \n",
              "6105    2    A  \n",
              "6106    3    A  \n",
              "6107    3    D  \n",
              "\n",
              "[6108 rows x 76 columns]>"
            ]
          },
          "execution_count": 5,
          "metadata": {},
          "output_type": "execute_result"
        }
      ],
      "source": [
        "df.describe"
      ]
    },
    {
      "cell_type": "markdown",
      "metadata": {
        "id": "VMuVgQS_WP__"
      },
      "source": [
        "## Visulation"
      ]
    },
    {
      "cell_type": "markdown",
      "metadata": {
        "id": "lrBig6ByWP__"
      },
      "source": [
        "### Check the target column values"
      ]
    },
    {
      "cell_type": "code",
      "execution_count": 6,
      "metadata": {
        "colab": {
          "base_uri": "https://localhost:8080/",
          "height": 519
        },
        "id": "U_bPh_XfWP__",
        "outputId": "c56e4234-d7f6-42d7-9bf3-1fe997993453"
      },
      "outputs": [
        {
          "name": "stdout",
          "output_type": "stream",
          "text": [
            "['A' 'D' 'C' 'B']\n"
          ]
        },
        {
          "data": {
            "image/png": "[encoded data removed]",
            "text/plain": [
              "<Figure size 432x288 with 1 Axes>"
            ]
          },
          "metadata": {
            "needs_background": "light"
          },
          "output_type": "display_data"
        },
        {
          "name": "stdout",
          "output_type": "stream",
          "text": [
            "Lenght of A's 2883\n",
            "Lenght of B's 1526\n",
            "Lenght of C's 892\n",
            "Lenght of D's 807\n"
          ]
        }
      ],
      "source": [
        "print(df['Q16'].unique())\n",
        "class_distribution = {'Class A': len(df[df['Q16'] == 'A'].value_counts()), 'Class B': len(df[df['Q16'] == 'B'].value_counts()), 'Class C': len(df[df['Q16'] == 'C'].value_counts()), 'Class D': len(df[df['Q16'] == 'D'].value_counts())}\n",
        "\n",
        "sns.barplot(x=list(class_distribution.keys()), y=list(class_distribution.values()))\n",
        "plt.show()\n",
        "print(f\"Lenght of A's {len(df[df['Q16'] == 'A'].value_counts())}\")\n",
        "print(f\"Lenght of B's {len(df[df['Q16'] == 'B'].value_counts())}\")\n",
        "print(f\"Lenght of C's {len(df[df['Q16'] == 'C'].value_counts())}\")\n",
        "print(f\"Lenght of D's {len(df[df['Q16'] == 'D'].value_counts())}\")"
      ]
    },
    {
      "cell_type": "markdown",
      "metadata": {
        "id": "PL_UL5IdWQAA"
      },
      "source": [
        "## Convert String Targets To The Countable Data"
      ]
    },
    {
      "cell_type": "code",
      "execution_count": 7,
      "metadata": {
        "colab": {
          "base_uri": "https://localhost:8080/"
        },
        "id": "b-NPN1doWQAA",
        "outputId": "4b7d96fd-ab89-4121-8544-e44af5f44a87"
      },
      "outputs": [
        {
          "name": "stdout",
          "output_type": "stream",
          "text": [
            "['A' 'D' 'C' 'B']\n"
          ]
        },
        {
          "name": "stderr",
          "output_type": "stream",
          "text": [
            "C:\\Users\\AMD\\AppData\\Local\\Temp\\ipykernel_31764\\3392180124.py:3: SettingWithCopyWarning: \n",
            "A value is trying to be set on a copy of a slice from a DataFrame\n",
            "\n",
            "See the caveats in the documentation: https://pandas.pydata.org/pandas-docs/stable/user_guide/indexing.html#returning-a-view-versus-a-copy\n",
            "  if(df['Q16'][i] == 'A'): df['Q16'][i] = 0\n",
            "C:\\Users\\AMD\\AppData\\Local\\Temp\\ipykernel_31764\\3392180124.py:6: SettingWithCopyWarning: \n",
            "A value is trying to be set on a copy of a slice from a DataFrame\n",
            "\n",
            "See the caveats in the documentation: https://pandas.pydata.org/pandas-docs/stable/user_guide/indexing.html#returning-a-view-versus-a-copy\n",
            "  elif(df['Q16'][i] == 'D'): df['Q16'][i] = 3\n",
            "C:\\Users\\AMD\\AppData\\Local\\Temp\\ipykernel_31764\\3392180124.py:5: SettingWithCopyWarning: \n",
            "A value is trying to be set on a copy of a slice from a DataFrame\n",
            "\n",
            "See the caveats in the documentation: https://pandas.pydata.org/pandas-docs/stable/user_guide/indexing.html#returning-a-view-versus-a-copy\n",
            "  elif(df['Q16'][i] == 'C'): df['Q16'][i] = 2\n",
            "C:\\Users\\AMD\\AppData\\Local\\Temp\\ipykernel_31764\\3392180124.py:4: SettingWithCopyWarning: \n",
            "A value is trying to be set on a copy of a slice from a DataFrame\n",
            "\n",
            "See the caveats in the documentation: https://pandas.pydata.org/pandas-docs/stable/user_guide/indexing.html#returning-a-view-versus-a-copy\n",
            "  elif(df['Q16'][i] == 'B'): df['Q16'][i] = 1\n"
          ]
        },
        {
          "name": "stdout",
          "output_type": "stream",
          "text": [
            "[0 3 2 1]\n"
          ]
        }
      ],
      "source": [
        "print(df['Q16'].unique())\n",
        "for i in range(len(df['Q16'])):\n",
        "    if(df['Q16'][i] == 'A'): df['Q16'][i] = 0\n",
        "    elif(df['Q16'][i] == 'B'): df['Q16'][i] = 1\n",
        "    elif(df['Q16'][i] == 'C'): df['Q16'][i] = 2\n",
        "    elif(df['Q16'][i] == 'D'): df['Q16'][i] = 3\n",
        "\n",
        "print(df['Q16'].unique())"
      ]
    },
    {
      "cell_type": "code",
      "execution_count": 8,
      "metadata": {
        "colab": {
          "base_uri": "https://localhost:8080/"
        },
        "id": "Lol9VrQiWQAB",
        "outputId": "de9e9143-a842-4e67-a6c3-4aa646bc6e54"
      },
      "outputs": [
        {
          "name": "stdout",
          "output_type": "stream",
          "text": [
            "Lenght of 0's 2883\n",
            "Lenght of 1's 1526\n",
            "Lenght of 2's 892\n",
            "Lenght of 3's 807\n"
          ]
        }
      ],
      "source": [
        "print(f\"Lenght of 0's {len(df[df['Q16'] == 0].value_counts())}\")\n",
        "print(f\"Lenght of 1's {len(df[df['Q16'] == 1].value_counts())}\")\n",
        "print(f\"Lenght of 2's {len(df[df['Q16'] == 2].value_counts())}\")\n",
        "print(f\"Lenght of 3's {len(df[df['Q16'] == 3].value_counts())}\")"
      ]
    },
    {
      "cell_type": "markdown",
      "metadata": {
        "id": "KUf9LT6ndQib"
      },
      "source": [
        "### Check the DataTypes of all columns"
      ]
    },
    {
      "cell_type": "code",
      "execution_count": 9,
      "metadata": {
        "colab": {
          "base_uri": "https://localhost:8080/"
        },
        "id": "DBBTGps-dV9M",
        "outputId": "09a4a296-3f35-4f87-f189-8b283869860d"
      },
      "outputs": [
        {
          "data": {
            "text/plain": [
              "Unnamed: 0     int64\n",
              "Q11_1          int64\n",
              "Q11_2          int64\n",
              "Q11_3          int64\n",
              "Q11_4          int64\n",
              "               ...  \n",
              "Q18_22        object\n",
              "Q18_23        object\n",
              "Q20            int64\n",
              "Q21            int64\n",
              "Q16           object\n",
              "Length: 76, dtype: object"
            ]
          },
          "execution_count": 9,
          "metadata": {},
          "output_type": "execute_result"
        }
      ],
      "source": [
        "df.dtypes"
      ]
    },
    {
      "cell_type": "markdown",
      "metadata": {
        "id": "ujrYjBlUWQAC"
      },
      "source": [
        "## Check The Uniqes of Columns"
      ]
    },
    {
      "cell_type": "code",
      "execution_count": 10,
      "metadata": {
        "colab": {
          "base_uri": "https://localhost:8080/"
        },
        "id": "jXZwRWKhWQAC",
        "outputId": "51631dce-830e-4882-d56a-f01f9d759e37"
      },
      "outputs": [
        {
          "name": "stdout",
          "output_type": "stream",
          "text": [
            "Q11_1 = [0 1]\n",
            "Q11_2 = [0 1]\n",
            "Q11_3 = [0 1]\n",
            "Q11_4 = [1 0]\n",
            "Q11_5 = [1 0]\n",
            "Q11_6 = [0 1]\n",
            "Q11_7 = [0 1]\n",
            "Q11_8 = [1 0]\n",
            "Q11_9 = [0 1]\n",
            "Q11_10 = [0 1]\n",
            "Q11_11 = [1 0]\n",
            "Q11_12 = [0 1]\n",
            "Q11_13 = [0 1]\n",
            "Q11_Dont_Know = [0 1]\n",
            "Q12_1 = [0 1]\n",
            "Q12_2 = [0 1]\n",
            "Q12_3 = [1 0]\n",
            "Q12_4 = [1 0]\n",
            "Q12_5 = [0 1]\n",
            "Q12_6 = [0 1]\n",
            "Q12_7 = [0 1]\n",
            "Q12_8 = [1 0]\n",
            "Q12_9 = [0 1]\n",
            "Q12_10 = [0 1]\n",
            "Q12_11 = [1 0]\n",
            "Q12_12 = [0 1]\n",
            "Q12_13 = [0 1]\n",
            "Q12_14 = [0 1]\n",
            "Q12_Dont_Know = [0 1]\n",
            "Q13_1 = [0 1]\n",
            "Q13_2 = [0 1]\n",
            "Q13_3 = [1 0]\n",
            "Q13_4 = [0 1]\n",
            "Q13_5 = [1 0]\n",
            "Q13_6 = [0 1]\n",
            "Q13_7 = [0 1]\n",
            "Q13_8 = [0 1]\n",
            "Q13_9 = [1 0]\n",
            "Q13_10 = [0 1]\n",
            "Q13_11 = [0 1]\n",
            "Q13_12 = [0 1]\n",
            "Q13_13 = [1 0]\n",
            "Q13_14 = [1 0]\n",
            "Q13_15 = [0 1]\n",
            "Q13_16 = [0 1]\n",
            "Q13_Dont_Know = [0 1]\n",
            "Q14 = ['1' '3' '?' '2' '4' '5']\n",
            "Q15 = ['2' '1' '?']\n",
            "Q17 = ['3' '1' '?' '2' '4' '5']\n",
            "Q18_1 = ['5' '4' '?' '2' '3' '1']\n",
            "Q18_2 = ['5' '3' '?' '4' '1' '2']\n",
            "Q18_3 = ['5' '2' '4' '?' '3' '1']\n",
            "Q18_4 = ['5' '4' '?' '3' '2' '1']\n",
            "Q18_5 = ['5' '3' '4' '?' '2' '1']\n",
            "Q18_6 = ['5' '2' '4' '?' '3' '1']\n",
            "Q18_7 = ['5' '2' '4' '?' '1' '3']\n",
            "Q18_8 = ['5' '3' '4' '?' '2' '1']\n",
            "Q18_9 = ['5' '3' '4' '?' '2' '1']\n",
            "Q18_10 = ['5' '3' '4' '?' '2' '1']\n",
            "Q18_11 = ['5' '2' '?' '4' '1' '3']\n",
            "Q18_12 = ['5' '1' '4' '?' '3' '2']\n",
            "Q18_13 = ['5' '2' '?' '4' '3' '1']\n",
            "Q18_14 = ['5' '4' '?' '3' '2' '1']\n",
            "Q18_15 = ['5' '2' '?' '4' '3' '1']\n",
            "Q18_16 = ['5' '2' '?' '4' '1' '3']\n",
            "Q18_17 = ['5' '4' '?' '3' '2' '1']\n",
            "Q18_18 = ['5' '2' '4' '?' '1' '3']\n",
            "Q18_19 = ['5' '4' '?' '1' '2' '3']\n",
            "Q18_20 = ['5' '2' '?' '1' '4' '3']\n",
            "Q18_21 = ['5' '2' '4' '?' '3' '1']\n",
            "Q18_22 = ['5' '2' '?' '4' '3' '1']\n",
            "Q18_23 = ['5' '2' '4' '?' '3' '1']\n",
            "Q20 = [3 4 5 1 2]\n",
            "Q21 = [3 1 2 4 5]\n",
            "Q16 = [0 3 2 1]\n"
          ]
        }
      ],
      "source": [
        "for column in df.columns:\n",
        "    if column != 'Unnamed: 0':\n",
        "        print(f\"{column} = {df[column].unique()}\")"
      ]
    },
    {
      "cell_type": "markdown",
      "metadata": {
        "id": "fbw4uU1EXYml"
      },
      "source": [
        "# Handling NULL Values"
      ]
    },
    {
      "cell_type": "code",
      "execution_count": 11,
      "metadata": {
        "id": "mJitLH0mXhDH"
      },
      "outputs": [],
      "source": [
        "null_df = df.isnull().sum()"
      ]
    },
    {
      "cell_type": "code",
      "execution_count": 12,
      "metadata": {
        "colab": {
          "base_uri": "https://localhost:8080/"
        },
        "id": "G1ex53PmX3n4",
        "outputId": "10493189-c0b8-42dc-87e2-e08079a73928"
      },
      "outputs": [
        {
          "data": {
            "text/plain": [
              "Unnamed: 0    0\n",
              "Q11_1         0\n",
              "Q11_2         0\n",
              "Q11_3         0\n",
              "Q11_4         0\n",
              "             ..\n",
              "Q18_22        0\n",
              "Q18_23        0\n",
              "Q20           0\n",
              "Q21           0\n",
              "Q16           0\n",
              "Length: 76, dtype: int64"
            ]
          },
          "execution_count": 12,
          "metadata": {},
          "output_type": "execute_result"
        }
      ],
      "source": [
        "null_df"
      ]
    },
    {
      "cell_type": "code",
      "execution_count": 13,
      "metadata": {
        "colab": {
          "base_uri": "https://localhost:8080/"
        },
        "id": "P331kpJEdZSS",
        "outputId": "2cb45424-9011-486d-98af-79f8ef1fcede"
      },
      "outputs": [
        {
          "data": {
            "text/plain": [
              "Unnamed: 0       0\n",
              "Q11_1            0\n",
              "Q11_2            0\n",
              "Q11_3            0\n",
              "Q11_4            0\n",
              "Q11_5            0\n",
              "Q11_6            0\n",
              "Q11_7            0\n",
              "Q11_8            0\n",
              "Q11_9            0\n",
              "Q11_10           0\n",
              "Q11_11           0\n",
              "Q11_12           0\n",
              "Q11_13           0\n",
              "Q11_Dont_Know    0\n",
              "Q12_1            0\n",
              "Q12_2            0\n",
              "Q12_3            0\n",
              "Q12_4            0\n",
              "Q12_5            0\n",
              "Q12_6            0\n",
              "Q12_7            0\n",
              "Q12_8            0\n",
              "Q12_9            0\n",
              "Q12_10           0\n",
              "Q12_11           0\n",
              "Q12_12           0\n",
              "Q12_13           0\n",
              "Q12_14           0\n",
              "Q12_Dont_Know    0\n",
              "Q13_1            0\n",
              "Q13_2            0\n",
              "Q13_3            0\n",
              "Q13_4            0\n",
              "Q13_5            0\n",
              "dtype: int64"
            ]
          },
          "execution_count": 13,
          "metadata": {},
          "output_type": "execute_result"
        }
      ],
      "source": [
        "question_mark_cells = df.applymap(lambda x: x == \"?\")\n",
        "question_mark_counts = question_mark_cells.sum(axis = 0)\n",
        "question_mark_counts.head(35)"
      ]
    },
    {
      "cell_type": "code",
      "execution_count": 14,
      "metadata": {
        "colab": {
          "base_uri": "https://localhost:8080/"
        },
        "id": "EqMVev5jdkOk",
        "outputId": "314943d1-93dd-4d17-d9c2-bab5805f954a"
      },
      "outputs": [
        {
          "data": {
            "text/plain": [
              "Q13_7               0\n",
              "Q13_8               0\n",
              "Q13_9               0\n",
              "Q13_10              0\n",
              "Q13_11              0\n",
              "Q13_12              0\n",
              "Q13_13              0\n",
              "Q13_14              0\n",
              "Q13_15              0\n",
              "Q13_16              0\n",
              "Q13_Dont_Know       0\n",
              "Q14               422\n",
              "Q15                92\n",
              "Q17               742\n",
              "Q18_1             559\n",
              "Q18_2             889\n",
              "Q18_3            1361\n",
              "Q18_4             801\n",
              "Q18_5            1588\n",
              "Q18_6            1219\n",
              "Q18_7             947\n",
              "Q18_8             712\n",
              "Q18_9            1055\n",
              "Q18_10           1421\n",
              "Q18_11            918\n",
              "Q18_12           1126\n",
              "Q18_13            738\n",
              "Q18_14            787\n",
              "Q18_15           1361\n",
              "Q18_16           1460\n",
              "Q18_17           1216\n",
              "Q18_18           1027\n",
              "Q18_19           1721\n",
              "Q18_20           1098\n",
              "Q18_21           1669\n",
              "Q18_22           1700\n",
              "Q18_23           1451\n",
              "Q20                 0\n",
              "Q21                 0\n",
              "Q16                 0\n",
              "dtype: int64"
            ]
          },
          "execution_count": 14,
          "metadata": {},
          "output_type": "execute_result"
        }
      ],
      "source": [
        "question_mark_counts.tail(40)"
      ]
    },
    {
      "cell_type": "markdown",
      "metadata": {
        "id": "_DXFws5BeCMB"
      },
      "source": [
        "### Method For Filling '?' variabels"
      ]
    },
    {
      "cell_type": "code",
      "execution_count": 15,
      "metadata": {
        "id": "VWhvr4BZeLC2"
      },
      "outputs": [],
      "source": [
        "def FillingQuestionWithMode(df):\n",
        "    result = \"\"\n",
        "    questionMarkSet = []\n",
        "    for column in question_mark_cells:\n",
        "        if(isinstance(question_mark_counts[column], np.int64) and question_mark_counts[column] > 0):\n",
        "            questionMarkSet.append(column)\n",
        "\n",
        "    for column in questionMarkSet:\n",
        "        mode_value = df[column].mode().iloc[0]  # Get the first mode in case of multiple modes\n",
        "        if(mode_value == '?'):\n",
        "            df[column] = df[column].replace('?', round(pd.to_numeric(df[column], errors='coerce').mean()))\n",
        "            result = result + f\"This {column} mode is '?' so filling with average of column {round(pd.to_numeric(df[column], errors='coerce').mean())}.\\n\"\n",
        "        else:\n",
        "            df[column] = df[column].replace('?', mode_value)\n",
        "    return df, result"
      ]
    },
    {
      "cell_type": "code",
      "execution_count": 16,
      "metadata": {
        "colab": {
          "base_uri": "https://localhost:8080/"
        },
        "id": "BAZrp5VsKLBI",
        "outputId": "a1be377d-09ca-4816-c913-4938f1888023"
      },
      "outputs": [
        {
          "name": "stdout",
          "output_type": "stream",
          "text": [
            "This Q18_19 mode is '?' so filling with average of column 3.\n",
            "This Q18_22 mode is '?' so filling with average of column 2.\n",
            "\n"
          ]
        }
      ],
      "source": [
        "questionToMode_df = df.copy()\n",
        "questionToMode_df, result = FillingQuestionWithMode(questionToMode_df)\n",
        "print(result)"
      ]
    },
    {
      "cell_type": "code",
      "execution_count": 17,
      "metadata": {
        "colab": {
          "base_uri": "https://localhost:8080/"
        },
        "id": "jGNxnnElfUM0",
        "outputId": "21b4ab4a-fb03-450e-bbe8-01076d1b5112"
      },
      "outputs": [
        {
          "data": {
            "text/plain": [
              "Q12_12           0\n",
              "Q12_13           0\n",
              "Q12_14           0\n",
              "Q12_Dont_Know    0\n",
              "Q13_1            0\n",
              "Q13_2            0\n",
              "Q13_3            0\n",
              "Q13_4            0\n",
              "Q13_5            0\n",
              "Q13_6            0\n",
              "Q13_7            0\n",
              "Q13_8            0\n",
              "Q13_9            0\n",
              "Q13_10           0\n",
              "Q13_11           0\n",
              "Q13_12           0\n",
              "Q13_13           0\n",
              "Q13_14           0\n",
              "Q13_15           0\n",
              "Q13_16           0\n",
              "Q13_Dont_Know    0\n",
              "Q14              0\n",
              "Q15              0\n",
              "Q17              0\n",
              "Q18_1            0\n",
              "Q18_2            0\n",
              "Q18_3            0\n",
              "Q18_4            0\n",
              "Q18_5            0\n",
              "Q18_6            0\n",
              "Q18_7            0\n",
              "Q18_8            0\n",
              "Q18_9            0\n",
              "Q18_10           0\n",
              "Q18_11           0\n",
              "Q18_12           0\n",
              "Q18_13           0\n",
              "Q18_14           0\n",
              "Q18_15           0\n",
              "Q18_16           0\n",
              "Q18_17           0\n",
              "Q18_18           0\n",
              "Q18_19           0\n",
              "Q18_20           0\n",
              "Q18_21           0\n",
              "Q18_22           0\n",
              "Q18_23           0\n",
              "Q20              0\n",
              "Q21              0\n",
              "Q16              0\n",
              "dtype: int64"
            ]
          },
          "execution_count": 17,
          "metadata": {},
          "output_type": "execute_result"
        }
      ],
      "source": [
        "question_mark_cells = questionToMode_df.applymap(lambda x: x == \"?\")\n",
        "question_mark_cells.sum().tail(50)"
      ]
    },
    {
      "cell_type": "code",
      "execution_count": 18,
      "metadata": {
        "colab": {
          "base_uri": "https://localhost:8080/"
        },
        "id": "fuB3hJflKLBJ",
        "outputId": "dd78ef41-efb9-4c6f-c3a4-9c375e404f45"
      },
      "outputs": [
        {
          "data": {
            "text/plain": [
              "Unnamed: 0       0\n",
              "Q11_1            0\n",
              "Q11_2            0\n",
              "Q11_3            0\n",
              "Q11_4            0\n",
              "Q11_5            0\n",
              "Q11_6            0\n",
              "Q11_7            0\n",
              "Q11_8            0\n",
              "Q11_9            0\n",
              "Q11_10           0\n",
              "Q11_11           0\n",
              "Q11_12           0\n",
              "Q11_13           0\n",
              "Q11_Dont_Know    0\n",
              "Q12_1            0\n",
              "Q12_2            0\n",
              "Q12_3            0\n",
              "Q12_4            0\n",
              "Q12_5            0\n",
              "Q12_6            0\n",
              "Q12_7            0\n",
              "Q12_8            0\n",
              "Q12_9            0\n",
              "Q12_10           0\n",
              "dtype: int64"
            ]
          },
          "execution_count": 18,
          "metadata": {},
          "output_type": "execute_result"
        }
      ],
      "source": [
        "question_mark_cells.sum().head(25)"
      ]
    },
    {
      "cell_type": "markdown",
      "metadata": {
        "id": "p0k1QJwwd0n5"
      },
      "source": [
        "### Change Data Types to NumpyInt64"
      ]
    },
    {
      "cell_type": "code",
      "execution_count": 19,
      "metadata": {
        "id": "ooUXDDnVd3ea"
      },
      "outputs": [],
      "source": [
        "for column in questionToMode_df:\n",
        "  try:\n",
        "    questionToMode_df[column] = questionToMode_df[column].astype('int64')\n",
        "  except:\n",
        "    continue"
      ]
    },
    {
      "cell_type": "code",
      "execution_count": 20,
      "metadata": {
        "colab": {
          "base_uri": "https://localhost:8080/"
        },
        "id": "E7gfW0z1WQAF",
        "outputId": "71e88d3e-58d6-48a3-e5df-476ffdb8cf3f"
      },
      "outputs": [
        {
          "data": {
            "text/plain": [
              "Unnamed: 0       int64\n",
              "Q11_1            int64\n",
              "Q11_2            int64\n",
              "Q11_3            int64\n",
              "Q11_4            int64\n",
              "Q11_5            int64\n",
              "Q11_6            int64\n",
              "Q11_7            int64\n",
              "Q11_8            int64\n",
              "Q11_9            int64\n",
              "Q11_10           int64\n",
              "Q11_11           int64\n",
              "Q11_12           int64\n",
              "Q11_13           int64\n",
              "Q11_Dont_Know    int64\n",
              "Q12_1            int64\n",
              "Q12_2            int64\n",
              "Q12_3            int64\n",
              "Q12_4            int64\n",
              "Q12_5            int64\n",
              "Q12_6            int64\n",
              "Q12_7            int64\n",
              "Q12_8            int64\n",
              "Q12_9            int64\n",
              "Q12_10           int64\n",
              "Q12_11           int64\n",
              "Q12_12           int64\n",
              "Q12_13           int64\n",
              "Q12_14           int64\n",
              "Q12_Dont_Know    int64\n",
              "Q13_1            int64\n",
              "Q13_2            int64\n",
              "Q13_3            int64\n",
              "Q13_4            int64\n",
              "Q13_5            int64\n",
              "Q13_6            int64\n",
              "Q13_7            int64\n",
              "Q13_8            int64\n",
              "Q13_9            int64\n",
              "Q13_10           int64\n",
              "Q13_11           int64\n",
              "Q13_12           int64\n",
              "Q13_13           int64\n",
              "Q13_14           int64\n",
              "Q13_15           int64\n",
              "Q13_16           int64\n",
              "Q13_Dont_Know    int64\n",
              "Q14              int64\n",
              "Q15              int64\n",
              "Q17              int64\n",
              "dtype: object"
            ]
          },
          "execution_count": 20,
          "metadata": {},
          "output_type": "execute_result"
        }
      ],
      "source": [
        "questionToMode_df.dtypes.head(50)"
      ]
    },
    {
      "cell_type": "code",
      "execution_count": 21,
      "metadata": {
        "colab": {
          "base_uri": "https://localhost:8080/"
        },
        "id": "TH11bDMhWQAF",
        "outputId": "91d09be8-4603-4646-c949-cbd41093eea1"
      },
      "outputs": [
        {
          "data": {
            "text/plain": [
              "Q18_2     int64\n",
              "Q18_3     int64\n",
              "Q18_4     int64\n",
              "Q18_5     int64\n",
              "Q18_6     int64\n",
              "Q18_7     int64\n",
              "Q18_8     int64\n",
              "Q18_9     int64\n",
              "Q18_10    int64\n",
              "Q18_11    int64\n",
              "Q18_12    int64\n",
              "Q18_13    int64\n",
              "Q18_14    int64\n",
              "Q18_15    int64\n",
              "Q18_16    int64\n",
              "Q18_17    int64\n",
              "Q18_18    int64\n",
              "Q18_19    int64\n",
              "Q18_20    int64\n",
              "Q18_21    int64\n",
              "Q18_22    int64\n",
              "Q18_23    int64\n",
              "Q20       int64\n",
              "Q21       int64\n",
              "Q16       int64\n",
              "dtype: object"
            ]
          },
          "execution_count": 21,
          "metadata": {},
          "output_type": "execute_result"
        }
      ],
      "source": [
        "questionToMode_df.dtypes.tail(25)"
      ]
    },
    {
      "cell_type": "markdown",
      "metadata": {
        "id": "lIud2itKK-oW"
      },
      "source": [
        "### Check Missing Values"
      ]
    },
    {
      "cell_type": "code",
      "execution_count": 22,
      "metadata": {
        "colab": {
          "base_uri": "https://localhost:8080/"
        },
        "id": "-Iste_2gKVqa",
        "outputId": "b17ec526-c52d-43ff-ff36-79d7a489f969"
      },
      "outputs": [
        {
          "data": {
            "text/plain": [
              "Unnamed: 0    0\n",
              "Q11_1         0\n",
              "Q11_2         0\n",
              "Q11_3         0\n",
              "Q11_4         0\n",
              "             ..\n",
              "Q18_22        0\n",
              "Q18_23        0\n",
              "Q20           0\n",
              "Q21           0\n",
              "Q16           0\n",
              "Length: 76, dtype: int64"
            ]
          },
          "execution_count": 22,
          "metadata": {},
          "output_type": "execute_result"
        }
      ],
      "source": [
        "questionToMode_df.isnull().sum()"
      ]
    },
    {
      "cell_type": "markdown",
      "metadata": {
        "id": "jLcyT_iCLwHF"
      },
      "source": [
        "### Describtion of Dataset After Handling Null Values"
      ]
    },
    {
      "cell_type": "code",
      "execution_count": 23,
      "metadata": {
        "colab": {
          "base_uri": "https://localhost:8080/",
          "height": 329
        },
        "id": "votWtuR5LZGz",
        "outputId": "bc6b2f71-e415-4c75-c05a-45e55d22c3f9"
      },
      "outputs": [
        {
          "data": {
            "text/html": [
              "<div>\n",
              "<style scoped>\n",
              "    .dataframe tbody tr th:only-of-type {\n",
              "        vertical-align: middle;\n",
              "    }\n",
              "\n",
              "    .dataframe tbody tr th {\n",
              "        vertical-align: top;\n",
              "    }\n",
              "\n",
              "    .dataframe thead th {\n",
              "        text-align: right;\n",
              "    }\n",
              "</style>\n",
              "<table border=\"1\" class=\"dataframe\">\n",
              "  <thead>\n",
              "    <tr style=\"text-align: right;\">\n",
              "      <th></th>\n",
              "      <th>Unnamed: 0</th>\n",
              "      <th>Q11_1</th>\n",
              "      <th>Q11_2</th>\n",
              "      <th>Q11_3</th>\n",
              "      <th>Q11_4</th>\n",
              "      <th>Q11_5</th>\n",
              "      <th>Q11_6</th>\n",
              "      <th>Q11_7</th>\n",
              "      <th>Q11_8</th>\n",
              "      <th>Q11_9</th>\n",
              "      <th>...</th>\n",
              "      <th>Q18_17</th>\n",
              "      <th>Q18_18</th>\n",
              "      <th>Q18_19</th>\n",
              "      <th>Q18_20</th>\n",
              "      <th>Q18_21</th>\n",
              "      <th>Q18_22</th>\n",
              "      <th>Q18_23</th>\n",
              "      <th>Q20</th>\n",
              "      <th>Q21</th>\n",
              "      <th>Q16</th>\n",
              "    </tr>\n",
              "  </thead>\n",
              "  <tbody>\n",
              "    <tr>\n",
              "      <th>count</th>\n",
              "      <td>6108.000000</td>\n",
              "      <td>6108.000000</td>\n",
              "      <td>6108.000000</td>\n",
              "      <td>6108.000000</td>\n",
              "      <td>6108.000000</td>\n",
              "      <td>6108.000000</td>\n",
              "      <td>6108.000000</td>\n",
              "      <td>6108.000000</td>\n",
              "      <td>6108.000000</td>\n",
              "      <td>6108.000000</td>\n",
              "      <td>...</td>\n",
              "      <td>6108.000000</td>\n",
              "      <td>6108.000000</td>\n",
              "      <td>6108.000000</td>\n",
              "      <td>6108.000000</td>\n",
              "      <td>6108.000000</td>\n",
              "      <td>6108.000000</td>\n",
              "      <td>6108.000000</td>\n",
              "      <td>6108.000000</td>\n",
              "      <td>6108.000000</td>\n",
              "      <td>6108.000000</td>\n",
              "    </tr>\n",
              "    <tr>\n",
              "      <th>mean</th>\n",
              "      <td>3053.500000</td>\n",
              "      <td>0.479044</td>\n",
              "      <td>0.295678</td>\n",
              "      <td>0.178782</td>\n",
              "      <td>0.584152</td>\n",
              "      <td>0.280779</td>\n",
              "      <td>0.089555</td>\n",
              "      <td>0.379993</td>\n",
              "      <td>0.302227</td>\n",
              "      <td>0.076130</td>\n",
              "      <td>...</td>\n",
              "      <td>3.034217</td>\n",
              "      <td>2.200557</td>\n",
              "      <td>3.046005</td>\n",
              "      <td>2.274067</td>\n",
              "      <td>2.863785</td>\n",
              "      <td>2.350196</td>\n",
              "      <td>2.612803</td>\n",
              "      <td>2.870825</td>\n",
              "      <td>2.596758</td>\n",
              "      <td>0.938278</td>\n",
              "    </tr>\n",
              "    <tr>\n",
              "      <th>std</th>\n",
              "      <td>1763.372054</td>\n",
              "      <td>0.499602</td>\n",
              "      <td>0.456384</td>\n",
              "      <td>0.383201</td>\n",
              "      <td>0.492908</td>\n",
              "      <td>0.449417</td>\n",
              "      <td>0.285566</td>\n",
              "      <td>0.485425</td>\n",
              "      <td>0.459261</td>\n",
              "      <td>0.265227</td>\n",
              "      <td>...</td>\n",
              "      <td>1.013568</td>\n",
              "      <td>0.940799</td>\n",
              "      <td>0.969493</td>\n",
              "      <td>1.031295</td>\n",
              "      <td>0.929183</td>\n",
              "      <td>0.928942</td>\n",
              "      <td>0.952385</td>\n",
              "      <td>0.811442</td>\n",
              "      <td>0.834790</td>\n",
              "      <td>1.069068</td>\n",
              "    </tr>\n",
              "    <tr>\n",
              "      <th>min</th>\n",
              "      <td>0.000000</td>\n",
              "      <td>0.000000</td>\n",
              "      <td>0.000000</td>\n",
              "      <td>0.000000</td>\n",
              "      <td>0.000000</td>\n",
              "      <td>0.000000</td>\n",
              "      <td>0.000000</td>\n",
              "      <td>0.000000</td>\n",
              "      <td>0.000000</td>\n",
              "      <td>0.000000</td>\n",
              "      <td>...</td>\n",
              "      <td>1.000000</td>\n",
              "      <td>1.000000</td>\n",
              "      <td>1.000000</td>\n",
              "      <td>1.000000</td>\n",
              "      <td>1.000000</td>\n",
              "      <td>1.000000</td>\n",
              "      <td>1.000000</td>\n",
              "      <td>1.000000</td>\n",
              "      <td>1.000000</td>\n",
              "      <td>0.000000</td>\n",
              "    </tr>\n",
              "    <tr>\n",
              "      <th>25%</th>\n",
              "      <td>1526.750000</td>\n",
              "      <td>0.000000</td>\n",
              "      <td>0.000000</td>\n",
              "      <td>0.000000</td>\n",
              "      <td>0.000000</td>\n",
              "      <td>0.000000</td>\n",
              "      <td>0.000000</td>\n",
              "      <td>0.000000</td>\n",
              "      <td>0.000000</td>\n",
              "      <td>0.000000</td>\n",
              "      <td>...</td>\n",
              "      <td>2.000000</td>\n",
              "      <td>2.000000</td>\n",
              "      <td>3.000000</td>\n",
              "      <td>2.000000</td>\n",
              "      <td>2.000000</td>\n",
              "      <td>2.000000</td>\n",
              "      <td>2.000000</td>\n",
              "      <td>3.000000</td>\n",
              "      <td>2.000000</td>\n",
              "      <td>0.000000</td>\n",
              "    </tr>\n",
              "    <tr>\n",
              "      <th>50%</th>\n",
              "      <td>3053.500000</td>\n",
              "      <td>0.000000</td>\n",
              "      <td>0.000000</td>\n",
              "      <td>0.000000</td>\n",
              "      <td>1.000000</td>\n",
              "      <td>0.000000</td>\n",
              "      <td>0.000000</td>\n",
              "      <td>0.000000</td>\n",
              "      <td>0.000000</td>\n",
              "      <td>0.000000</td>\n",
              "      <td>...</td>\n",
              "      <td>3.000000</td>\n",
              "      <td>2.000000</td>\n",
              "      <td>3.000000</td>\n",
              "      <td>2.000000</td>\n",
              "      <td>3.000000</td>\n",
              "      <td>2.000000</td>\n",
              "      <td>3.000000</td>\n",
              "      <td>3.000000</td>\n",
              "      <td>3.000000</td>\n",
              "      <td>1.000000</td>\n",
              "    </tr>\n",
              "    <tr>\n",
              "      <th>75%</th>\n",
              "      <td>4580.250000</td>\n",
              "      <td>1.000000</td>\n",
              "      <td>1.000000</td>\n",
              "      <td>0.000000</td>\n",
              "      <td>1.000000</td>\n",
              "      <td>1.000000</td>\n",
              "      <td>0.000000</td>\n",
              "      <td>1.000000</td>\n",
              "      <td>1.000000</td>\n",
              "      <td>0.000000</td>\n",
              "      <td>...</td>\n",
              "      <td>4.000000</td>\n",
              "      <td>3.000000</td>\n",
              "      <td>4.000000</td>\n",
              "      <td>3.000000</td>\n",
              "      <td>3.000000</td>\n",
              "      <td>3.000000</td>\n",
              "      <td>3.000000</td>\n",
              "      <td>3.000000</td>\n",
              "      <td>3.000000</td>\n",
              "      <td>2.000000</td>\n",
              "    </tr>\n",
              "    <tr>\n",
              "      <th>max</th>\n",
              "      <td>6107.000000</td>\n",
              "      <td>1.000000</td>\n",
              "      <td>1.000000</td>\n",
              "      <td>1.000000</td>\n",
              "      <td>1.000000</td>\n",
              "      <td>1.000000</td>\n",
              "      <td>1.000000</td>\n",
              "      <td>1.000000</td>\n",
              "      <td>1.000000</td>\n",
              "      <td>1.000000</td>\n",
              "      <td>...</td>\n",
              "      <td>5.000000</td>\n",
              "      <td>5.000000</td>\n",
              "      <td>5.000000</td>\n",
              "      <td>5.000000</td>\n",
              "      <td>5.000000</td>\n",
              "      <td>5.000000</td>\n",
              "      <td>5.000000</td>\n",
              "      <td>5.000000</td>\n",
              "      <td>5.000000</td>\n",
              "      <td>3.000000</td>\n",
              "    </tr>\n",
              "  </tbody>\n",
              "</table>\n",
              "<p>8 rows × 76 columns</p>\n",
              "</div>"
            ],
            "text/plain": [
              "        Unnamed: 0        Q11_1        Q11_2        Q11_3        Q11_4  \\\n",
              "count  6108.000000  6108.000000  6108.000000  6108.000000  6108.000000   \n",
              "mean   3053.500000     0.479044     0.295678     0.178782     0.584152   \n",
              "std    1763.372054     0.499602     0.456384     0.383201     0.492908   \n",
              "min       0.000000     0.000000     0.000000     0.000000     0.000000   \n",
              "25%    1526.750000     0.000000     0.000000     0.000000     0.000000   \n",
              "50%    3053.500000     0.000000     0.000000     0.000000     1.000000   \n",
              "75%    4580.250000     1.000000     1.000000     0.000000     1.000000   \n",
              "max    6107.000000     1.000000     1.000000     1.000000     1.000000   \n",
              "\n",
              "             Q11_5        Q11_6        Q11_7        Q11_8        Q11_9  ...  \\\n",
              "count  6108.000000  6108.000000  6108.000000  6108.000000  6108.000000  ...   \n",
              "mean      0.280779     0.089555     0.379993     0.302227     0.076130  ...   \n",
              "std       0.449417     0.285566     0.485425     0.459261     0.265227  ...   \n",
              "min       0.000000     0.000000     0.000000     0.000000     0.000000  ...   \n",
              "25%       0.000000     0.000000     0.000000     0.000000     0.000000  ...   \n",
              "50%       0.000000     0.000000     0.000000     0.000000     0.000000  ...   \n",
              "75%       1.000000     0.000000     1.000000     1.000000     0.000000  ...   \n",
              "max       1.000000     1.000000     1.000000     1.000000     1.000000  ...   \n",
              "\n",
              "            Q18_17       Q18_18       Q18_19       Q18_20       Q18_21  \\\n",
              "count  6108.000000  6108.000000  6108.000000  6108.000000  6108.000000   \n",
              "mean      3.034217     2.200557     3.046005     2.274067     2.863785   \n",
              "std       1.013568     0.940799     0.969493     1.031295     0.929183   \n",
              "min       1.000000     1.000000     1.000000     1.000000     1.000000   \n",
              "25%       2.000000     2.000000     3.000000     2.000000     2.000000   \n",
              "50%       3.000000     2.000000     3.000000     2.000000     3.000000   \n",
              "75%       4.000000     3.000000     4.000000     3.000000     3.000000   \n",
              "max       5.000000     5.000000     5.000000     5.000000     5.000000   \n",
              "\n",
              "            Q18_22       Q18_23          Q20          Q21          Q16  \n",
              "count  6108.000000  6108.000000  6108.000000  6108.000000  6108.000000  \n",
              "mean      2.350196     2.612803     2.870825     2.596758     0.938278  \n",
              "std       0.928942     0.952385     0.811442     0.834790     1.069068  \n",
              "min       1.000000     1.000000     1.000000     1.000000     0.000000  \n",
              "25%       2.000000     2.000000     3.000000     2.000000     0.000000  \n",
              "50%       2.000000     3.000000     3.000000     3.000000     1.000000  \n",
              "75%       3.000000     3.000000     3.000000     3.000000     2.000000  \n",
              "max       5.000000     5.000000     5.000000     5.000000     3.000000  \n",
              "\n",
              "[8 rows x 76 columns]"
            ]
          },
          "execution_count": 23,
          "metadata": {},
          "output_type": "execute_result"
        }
      ],
      "source": [
        "questionToMode_df.describe()"
      ]
    },
    {
      "cell_type": "markdown",
      "metadata": {
        "id": "1jNYqpObQWZR"
      },
      "source": [
        "### Showing Outliers\n"
      ]
    },
    {
      "cell_type": "code",
      "execution_count": 24,
      "metadata": {
        "colab": {
          "base_uri": "https://localhost:8080/",
          "height": 472
        },
        "id": "WZGJjlIVQjb7",
        "outputId": "597af7d4-e8e4-48e4-f2f4-cc73c993e5d5"
      },
      "outputs": [
        {
          "data": {
            "image/png": "[encoded data removed]",
            "text/plain": [
              "<Figure size 432x288 with 1 Axes>"
            ]
          },
          "metadata": {
            "needs_background": "light"
          },
          "output_type": "display_data"
        }
      ],
      "source": [
        "import seaborn as sns\n",
        "import matplotlib.pyplot as plt\n",
        "\n",
        "colName = 'Q21'\n",
        "\n",
        "# Box plot çizimi\n",
        "sns.boxplot(x=questionToMode_df[colName])\n",
        "plt.title(f'Box Plot of {colName}')\n",
        "plt.show()"
      ]
    },
    {
      "cell_type": "markdown",
      "metadata": {
        "id": "pI79FRwS4T37"
      },
      "source": [
        "## Visualization"
      ]
    },
    {
      "cell_type": "code",
      "execution_count": 25,
      "metadata": {
        "id": "hXO0EuKf4WrH"
      },
      "outputs": [],
      "source": [
        "import matplotlib.pyplot as plt\n",
        "import seaborn as sns\n",
        "\n",
        "def Visualize(columnName):\n",
        "  plt.figure(figsize=(8, 4))\n",
        "  sns.countplot(x=columnName, data=questionToMode_df)\n",
        "  plt.title('Features')\n",
        "  plt.show()\n"
      ]
    },
    {
      "cell_type": "code",
      "execution_count": 62,
      "metadata": {
        "colab": {
          "base_uri": "https://localhost:8080/",
          "height": 803
        },
        "id": "IqPSOdZ_4cOo",
        "outputId": "47c67219-a9e7-4b32-d337-b954f2d3e048"
      },
      "outputs": [
        {
          "data": {
            "image/png": "[encoded data removed]",
            "text/plain": [
              "<Figure size 576x288 with 1 Axes>"
            ]
          },
          "metadata": {
            "needs_background": "light"
          },
          "output_type": "display_data"
        },
        {
          "data": {
            "image/png": "[encoded data removed]",
            "text/plain": [
              "<Figure size 576x288 with 1 Axes>"
            ]
          },
          "metadata": {
            "needs_background": "light"
          },
          "output_type": "display_data"
        }
      ],
      "source": [
        "import numpy as np\n",
        "for i in range(1,3):\n",
        "  feature_names=questionToMode_df.columns\n",
        "  selected_feature = np.random.choice(feature_names)\n",
        "  Visualize(selected_feature)"
      ]
    },
    {
      "cell_type": "markdown",
      "metadata": {
        "id": "MJwlLVaXMJgU"
      },
      "source": [
        "## Normalization"
      ]
    },
    {
      "cell_type": "markdown",
      "metadata": {
        "id": "MmgEjjpXPHWu"
      },
      "source": [
        "### MinMaxScaler scaling the data to a specific range (usually [0, 1]) ensures that all features are kept on the same scale."
      ]
    },
    {
      "cell_type": "code",
      "execution_count": 27,
      "metadata": {
        "id": "M091jEdaMN5R"
      },
      "outputs": [],
      "source": [
        "from sklearn.preprocessing import MinMaxScaler\n",
        "def MinMaxScaling(df):\n",
        "    scaledDataFrame_minmax=df.copy()\n",
        "    scaledForm = scaledDataFrame_minmax.iloc[:, scaledDataFrame_minmax.columns.get_loc('Q15'):-1]\n",
        "    scaler = MinMaxScaler()\n",
        "    scaledDataFrame_minmax.iloc[:, scaledDataFrame_minmax.columns.get_loc('Q15'):-1] = scaler.fit_transform(scaledForm)\n",
        "    X_minmax, y_minmax = scaledDataFrame_minmax.iloc[:, :-1], scaledDataFrame_minmax.iloc[:, -1:]\n",
        "    return ({\"X\": X_minmax,\n",
        "            \"y\": y_minmax,\n",
        "            \"df\": scaledDataFrame_minmax})"
      ]
    },
    {
      "cell_type": "code",
      "execution_count": 28,
      "metadata": {
        "colab": {
          "base_uri": "https://localhost:8080/"
        },
        "id": "obq3cMhoN2Q2",
        "outputId": "2adad53c-5db3-40b7-eaaa-6ca4e2dfb7a1"
      },
      "outputs": [
        {
          "data": {
            "text/plain": [
              "<bound method NDFrame.describe of       Unnamed: 0  Q11_1  Q11_2  Q11_3  Q11_4  Q11_5  Q11_6  Q11_7  Q11_8  \\\n",
              "0              0      0      0      0      1      1      0      0      1   \n",
              "1              1      1      0      0      1      0      0      1      0   \n",
              "2              2      1      1      0      1      0      0      1      1   \n",
              "3              3      0      0      0      0      0      0      0      0   \n",
              "4              4      1      1      0      1      0      0      1      1   \n",
              "...          ...    ...    ...    ...    ...    ...    ...    ...    ...   \n",
              "6103        6103      0      1      0      0      0      0      1      1   \n",
              "6104        6104      0      1      0      1      0      0      0      1   \n",
              "6105        6105      1      0      1      0      0      0      0      0   \n",
              "6106        6106      0      0      1      0      0      0      0      1   \n",
              "6107        6107      1      0      0      1      0      0      0      1   \n",
              "\n",
              "      Q11_9  ...  Q18_17  Q18_18  Q18_19  Q18_20  Q18_21  Q18_22  Q18_23  \\\n",
              "0         0  ...    1.00    1.00    1.00    1.00    1.00    1.00    1.00   \n",
              "1         0  ...    0.75    0.25    0.75    0.25    0.25    0.25    0.25   \n",
              "2         0  ...    0.75    0.75    0.50    0.25    0.75    0.25    0.75   \n",
              "3         0  ...    0.50    0.25    0.50    0.25    0.50    0.25    0.50   \n",
              "4         0  ...    0.50    0.25    0.00    0.00    0.50    0.25    0.50   \n",
              "...     ...  ...     ...     ...     ...     ...     ...     ...     ...   \n",
              "6103      1  ...    0.25    0.25    0.50    0.50    0.25    0.00    0.00   \n",
              "6104      0  ...    0.50    0.25    0.50    0.25    0.50    0.25    0.50   \n",
              "6105      0  ...    0.75    0.00    1.00    0.75    1.00    0.75    1.00   \n",
              "6106      0  ...    0.00    0.50    0.75    1.00    0.50    0.25    0.50   \n",
              "6107      0  ...    0.50    0.50    0.50    0.50    0.50    0.50    0.50   \n",
              "\n",
              "       Q20   Q21  Q16  \n",
              "0     0.50  0.50    0  \n",
              "1     0.50  0.50    3  \n",
              "2     0.75  0.00    0  \n",
              "3     0.50  0.50    2  \n",
              "4     0.50  0.50    3  \n",
              "...    ...   ...  ...  \n",
              "6103  0.00  0.50    1  \n",
              "6104  0.50  0.50    0  \n",
              "6105  1.00  0.25    0  \n",
              "6106  0.25  0.50    0  \n",
              "6107  0.50  0.50    3  \n",
              "\n",
              "[6108 rows x 76 columns]>"
            ]
          },
          "execution_count": 28,
          "metadata": {},
          "output_type": "execute_result"
        }
      ],
      "source": [
        "min_max_scaled_items = MinMaxScaling(questionToMode_df)\n",
        "min_max_scaled_items['df'].describe"
      ]
    },
    {
      "cell_type": "markdown",
      "metadata": {
        "id": "0pmxtl2qPPKL"
      },
      "source": [
        "### StandartScaler transforming the data into a standard normal distribution makes the features comparable with each other"
      ]
    },
    {
      "cell_type": "code",
      "execution_count": 29,
      "metadata": {
        "id": "S2tvHTTwN9yT"
      },
      "outputs": [],
      "source": [
        "from sklearn.preprocessing import StandardScaler\n",
        "def StandardScaling(df):\n",
        "    scaledDataFrame_stc=df.copy()\n",
        "    scaledForm = scaledDataFrame_stc.iloc[:, scaledDataFrame_stc.columns.get_loc('Q15'):-1]\n",
        "    scaler = StandardScaler()\n",
        "    scaledDataFrame_stc.iloc[:, scaledDataFrame_stc.columns.get_loc('Q15'):-1] = scaler.fit_transform(scaledForm)\n",
        "    X_stc, y_stc = scaledDataFrame_stc.iloc[:, :-1], scaledDataFrame_stc.iloc[:, -1:]\n",
        "    return ({\"X\": X_stc,\n",
        "            \"y\": y_stc,\n",
        "            \"df\": scaledDataFrame_stc})"
      ]
    },
    {
      "cell_type": "code",
      "execution_count": 30,
      "metadata": {
        "colab": {
          "base_uri": "https://localhost:8080/"
        },
        "id": "Q3POFrQ9OSp3",
        "outputId": "2101723e-ff54-4a6c-8c78-c648e84b4e4e"
      },
      "outputs": [
        {
          "data": {
            "text/plain": [
              "<bound method NDFrame.describe of       Unnamed: 0  Q11_1  Q11_2  Q11_3  Q11_4  Q11_5  Q11_6  Q11_7  Q11_8  \\\n",
              "0              0      0      0      0      1      1      0      0      1   \n",
              "1              1      1      0      0      1      0      0      1      0   \n",
              "2              2      1      1      0      1      0      0      1      1   \n",
              "3              3      0      0      0      0      0      0      0      0   \n",
              "4              4      1      1      0      1      0      0      1      1   \n",
              "...          ...    ...    ...    ...    ...    ...    ...    ...    ...   \n",
              "6103        6103      0      1      0      0      0      0      1      1   \n",
              "6104        6104      0      1      0      1      0      0      0      1   \n",
              "6105        6105      1      0      1      0      0      0      0      0   \n",
              "6106        6106      0      0      1      0      0      0      0      1   \n",
              "6107        6107      1      0      0      1      0      0      0      1   \n",
              "\n",
              "      Q11_9  ...    Q18_17    Q18_18    Q18_19    Q18_20    Q18_21    Q18_22  \\\n",
              "0         0  ...  1.939626  2.975847  2.015646  2.643431  2.299213  2.852731   \n",
              "1         0  ...  0.952932 -0.213194  0.984095 -0.265772 -0.929694 -0.377015   \n",
              "2         0  ...  0.952932  1.912833 -0.047457 -0.265772  1.222911 -0.377015   \n",
              "3         0  ... -0.033762 -0.213194 -0.047457 -0.265772  0.146608 -0.377015   \n",
              "4         0  ... -0.033762 -0.213194 -2.110559 -1.235507  0.146608 -0.377015   \n",
              "...     ...  ...       ...       ...       ...       ...       ...       ...   \n",
              "6103      1  ... -1.020456 -0.213194 -0.047457  0.703962 -0.929694 -1.453597   \n",
              "6104      0  ... -0.033762 -0.213194 -0.047457 -0.265772  0.146608 -0.377015   \n",
              "6105      0  ...  0.952932 -1.276208  2.015646  1.673697  2.299213  1.776149   \n",
              "6106      0  ... -2.007150  0.849819  0.984095  2.643431  0.146608 -0.377015   \n",
              "6107      0  ... -0.033762  0.849819 -0.047457  0.703962  0.146608  0.699567   \n",
              "\n",
              "        Q18_23       Q20       Q21  Q16  \n",
              "0     2.506751  0.159205  0.483085    0  \n",
              "1    -0.643493  0.159205  0.483085    3  \n",
              "2     1.456670  1.391680 -1.912922    0  \n",
              "3     0.406588  0.159205  0.483085    2  \n",
              "4     0.406588  0.159205  0.483085    3  \n",
              "...        ...       ...       ...  ...  \n",
              "6103 -1.693574 -2.305745  0.483085    1  \n",
              "6104  0.406588  0.159205  0.483085    0  \n",
              "6105  2.506751  2.624155 -0.714919    0  \n",
              "6106  0.406588 -1.073270  0.483085    0  \n",
              "6107  0.406588  0.159205  0.483085    3  \n",
              "\n",
              "[6108 rows x 76 columns]>"
            ]
          },
          "execution_count": 30,
          "metadata": {},
          "output_type": "execute_result"
        }
      ],
      "source": [
        "stc_scaled_items = StandardScaling(questionToMode_df)\n",
        "stc_scaled_items['df'].describe"
      ]
    },
    {
      "cell_type": "markdown",
      "metadata": {
        "id": "zuMeSnqWO5hX"
      },
      "source": [
        "### RobustScaler resistant to outlier values, this is a scaling method. Scaling is done using the median and IQR"
      ]
    },
    {
      "cell_type": "code",
      "execution_count": 31,
      "metadata": {
        "id": "Cu4DnaEGOl0R"
      },
      "outputs": [],
      "source": [
        "from sklearn.preprocessing import RobustScaler\n",
        "\n",
        "def StandardScaling(df):\n",
        "    scaledDataFrame_robust=df.copy()\n",
        "    scaledForm = scaledDataFrame_robust.iloc[scaledDataFrame_robust.columns.get_loc('Q15'):, :-1]\n",
        "    scaler = RobustScaler()\n",
        "    scaledDataFrame_robust.iloc[scaledDataFrame_robust.columns.get_loc('Q15'):, :-1]  = scaler.fit_transform(scaledForm)\n",
        "    X_robust, y_robust = scaledDataFrame_robust.iloc[:, :-1], scaledDataFrame_robust.iloc[:, -1:]\n",
        "    return ({\"X\": X_robust,\n",
        "            \"y\": y_robust,\n",
        "            \"df\": scaledDataFrame_robust})"
      ]
    },
    {
      "cell_type": "code",
      "execution_count": 32,
      "metadata": {
        "colab": {
          "base_uri": "https://localhost:8080/"
        },
        "id": "qPxswWw4OuIK",
        "outputId": "e7e0b140-841c-430d-95ef-37b63608a1f8"
      },
      "outputs": [
        {
          "data": {
            "text/plain": [
              "<bound method NDFrame.describe of       Unnamed: 0  Q11_1  Q11_2  Q11_3  Q11_4  Q11_5  Q11_6  Q11_7  Q11_8  \\\n",
              "0        0.00000    0.0    0.0    0.0    1.0    1.0    0.0    0.0    1.0   \n",
              "1        1.00000    1.0    0.0    0.0    1.0    0.0    0.0    1.0    0.0   \n",
              "2        2.00000    1.0    1.0    0.0    1.0    0.0    0.0    1.0    1.0   \n",
              "3        3.00000    0.0    0.0    0.0    0.0    0.0    0.0    0.0    0.0   \n",
              "4        4.00000    1.0    1.0    0.0    1.0    0.0    0.0    1.0    1.0   \n",
              "...          ...    ...    ...    ...    ...    ...    ...    ...    ...   \n",
              "6103     0.99868    0.0    1.0    0.0   -1.0    0.0    0.0    1.0    1.0   \n",
              "6104     0.99901    0.0    1.0    0.0    0.0    0.0    0.0    0.0    1.0   \n",
              "6105     0.99934    1.0    0.0    1.0   -1.0    0.0    0.0    0.0    0.0   \n",
              "6106     0.99967    0.0    0.0    1.0   -1.0    0.0    0.0    0.0    1.0   \n",
              "6107     1.00000    1.0    0.0    0.0    0.0    0.0    0.0    0.0    1.0   \n",
              "\n",
              "      Q11_9  ...  Q18_17  Q18_18  Q18_19  Q18_20  Q18_21  Q18_22  Q18_23  Q20  \\\n",
              "0       0.0  ...     5.0     5.0     5.0     5.0     5.0     5.0     5.0  3.0   \n",
              "1       0.0  ...     4.0     2.0     4.0     2.0     2.0     2.0     2.0  3.0   \n",
              "2       0.0  ...     4.0     4.0     3.0     2.0     4.0     2.0     4.0  4.0   \n",
              "3       0.0  ...     3.0     2.0     3.0     2.0     3.0     2.0     3.0  3.0   \n",
              "4       0.0  ...     3.0     2.0     1.0     1.0     3.0     2.0     3.0  3.0   \n",
              "...     ...  ...     ...     ...     ...     ...     ...     ...     ...  ...   \n",
              "6103    1.0  ...    -0.5     0.0     0.0     1.0    -1.0    -1.0    -2.0 -2.0   \n",
              "6104    0.0  ...     0.0     0.0     0.0     0.0     0.0     0.0     0.0  0.0   \n",
              "6105    0.0  ...     0.5    -1.0     2.0     2.0     2.0     2.0     2.0  2.0   \n",
              "6106    0.0  ...    -1.0     1.0     1.0     3.0     0.0     0.0     0.0 -1.0   \n",
              "6107    0.0  ...     0.0     1.0     0.0     1.0     0.0     1.0     0.0  0.0   \n",
              "\n",
              "      Q21  Q16  \n",
              "0     3.0    0  \n",
              "1     3.0    3  \n",
              "2     1.0    0  \n",
              "3     3.0    2  \n",
              "4     3.0    3  \n",
              "...   ...  ...  \n",
              "6103  0.0    1  \n",
              "6104  0.0    0  \n",
              "6105 -1.0    0  \n",
              "6106  0.0    0  \n",
              "6107  0.0    3  \n",
              "\n",
              "[6108 rows x 76 columns]>"
            ]
          },
          "execution_count": 32,
          "metadata": {},
          "output_type": "execute_result"
        }
      ],
      "source": [
        "robust_scaled_items = StandardScaling(questionToMode_df)\n",
        "robust_scaled_items['df'].describe"
      ]
    },
    {
      "cell_type": "markdown",
      "metadata": {
        "id": "-OapTP6NWQAO"
      },
      "source": [
        "### Save Results To The Txt For Later Using"
      ]
    },
    {
      "cell_type": "code",
      "execution_count": 33,
      "metadata": {
        "id": "TSlVncZ-WQAO"
      },
      "outputs": [],
      "source": [
        "def SaveResults(result, txt_name):\n",
        "    with open(txt_name, 'a') as file:\n",
        "        file.write(str(result) + '\\n')"
      ]
    },
    {
      "cell_type": "markdown",
      "metadata": {
        "id": "DOSnO-SeWQAP"
      },
      "source": [
        "## Feature Selection"
      ]
    },
    {
      "cell_type": "markdown",
      "metadata": {
        "id": "Q7UFFAd5WQAP"
      },
      "source": [
        "### Train-Test Split Method"
      ]
    },
    {
      "cell_type": "code",
      "execution_count": 34,
      "metadata": {
        "id": "JEpzyzK0WQAP"
      },
      "outputs": [],
      "source": [
        "from sklearn.model_selection import train_test_split\n",
        "def train_test_split_modified(df, test_size_input = 0.25, randdom_state_input = 0 ):\n",
        "    X, y = df.iloc[:, :-1], df.iloc[:, -1:]\n",
        "    x_train, x_test, y_train, y_test = train_test_split(X, y, test_size = test_size_input, random_state = randdom_state_input)\n",
        "    return x_train, x_test, y_train, y_test"
      ]
    },
    {
      "cell_type": "markdown",
      "metadata": {
        "id": "_w4sHas7WQAP"
      },
      "source": [
        "### RFE Feature Elimination Method"
      ]
    },
    {
      "cell_type": "code",
      "execution_count": 35,
      "metadata": {
        "id": "VIs1L6oPWQAP"
      },
      "outputs": [],
      "source": [
        "from sklearn.feature_selection import RFE\n",
        "from sklearn import tree\n",
        "\n",
        "def RFEFeatureElimination(df, X, y, n_features_to_select, step = 1):\n",
        "    rfe_df = df.copy()\n",
        "    dropped_columns = []\n",
        "    estimator = tree.DecisionTreeClassifier()\n",
        "    selector = RFE(estimator = estimator, n_features_to_select = n_features_to_select, step = 1)\n",
        "    selector = selector.fit(X, y)\n",
        "\n",
        "    for i, value in enumerate(selector.support_, start=1):\n",
        "        #print(len(selector.support_))\n",
        "        #print(selector.ranking_)\n",
        "        if(value == False) and rfe_df.columns[i] != 'Q16':\n",
        "            dropped_columns.append(rfe_df.columns[i])\n",
        "\n",
        "    rfe_df = rfe_df.drop(dropped_columns, axis = 1)\n",
        "    return rfe_df"
      ]
    },
    {
      "cell_type": "markdown",
      "metadata": {
        "id": "U14zVlzswqBU"
      },
      "source": [
        "#ML and DL Algotihms"
      ]
    },
    {
      "cell_type": "markdown",
      "metadata": {
        "id": "dW0jDJ0hWQAP"
      },
      "source": [
        "### KNN Classification Algorithm Method"
      ]
    },
    {
      "cell_type": "code",
      "execution_count": 36,
      "metadata": {
        "id": "6m4dNXtRWQAP"
      },
      "outputs": [],
      "source": [
        "from sklearn.neighbors import KNeighborsClassifier\n",
        "from sklearn.metrics import accuracy_score\n",
        "from sklearn.metrics import confusion_matrix\n",
        "\n",
        "def KNN(x_train, x_test, y_train, y_test):\n",
        "    knn_params = {\"cosine\", \"euclidean\", \"manhattan\", \"nan_euclidean\"}\n",
        "    best_accuracy_knn = 0\n",
        "    best_metric = \"\"\n",
        "    best_neighbor_count = 0\n",
        "    max_neighbour = 50\n",
        "    for i in range(1,max_neighbour):\n",
        "        for param in knn_params:\n",
        "            knn = KNeighborsClassifier(n_neighbors=i, metric = param, weights = \"distance\")\n",
        "            knn.fit(x_train, y_train)\n",
        "            y_pred = knn.predict(x_test)\n",
        "            if accuracy_score(y_test, y_pred) < 1 and best_accuracy_knn < accuracy_score(y_test, y_pred) :\n",
        "                best_accuracy_knn, best_neighbor_count, best_metric = accuracy_score(y_test, y_pred), i, param\n",
        "\n",
        "    print(f\"Best accuracy is = {best_accuracy_knn}, with {best_neighbor_count} n_neighbors, {best_metric} metrics and fetaure len = {len(x_train.columns)}\")\n",
        "    #knn = KNeighborsClassifier(n_neighbors=best_neighbor_count, metric = best_metric, weights = \"distance\")\n",
        "    #knn.fit(x_train, y_train)\n",
        "    #y_pred = knn.predict(x_test)\n",
        "    #print(confusion_matrix(y_test,y_pred))\n",
        "    return {\"Accuracy\": best_accuracy_knn,\n",
        "            \"Model_Name\": \"KNN\",\n",
        "            \"HyperParameters\": f\"n_neighbor:{best_neighbor_count}, metric:{best_metric}, n_feature:{len(x_train.columns)}\"}"
      ]
    },
    {
      "cell_type": "markdown",
      "metadata": {
        "id": "dmojFRPSWQAQ"
      },
      "source": [
        "### Random Forest Classifier Method"
      ]
    },
    {
      "cell_type": "code",
      "execution_count": 126,
      "metadata": {
        "id": "lsz1N09sWQAQ"
      },
      "outputs": [],
      "source": [
        "from sklearn.ensemble import RandomForestClassifier\n",
        "from sklearn.datasets import make_classification\n",
        "\n",
        "# TODO Hyper Parameters Trying will be added with loop\n",
        "def RandomForest(x_train, x_test, y_train, y_test):\n",
        "    criterions = {\"gini\", \"entropy\"}\n",
        "    best_accuracy = 0\n",
        "    best_criterion = \"\"\n",
        "    best_depth = 0,\n",
        "    best_n_estimators = 0 #The number of trees in the forest\n",
        "    for criterion_changer in criterions:\n",
        "        for max_depth_changer in [None,5,10,15,20,25,30,35,40,45,50,55,60,65,70]:\n",
        "            RandomForestClf = RandomForestClassifier(criterion= criterion_changer, max_depth=max_depth_changer, random_state=1)\n",
        "            RandomForestClf.fit(x_train, y_train)\n",
        "            y_pred = RandomForestClf.predict(x_test)\n",
        "            accuracy = accuracy_score(y_test, y_pred)\n",
        "            if(accuracy > best_accuracy):\n",
        "                best_accuracy, best_criterion, best_depth = accuracy, criterion_changer, max_depth_changer\n",
        "    print(f\"Best accuracy is = {best_accuracy}, with criterion = {best_criterion} max_depth = {best_depth} metrics and fetaure len = {len(x_train.columns)}\")\n",
        "\n",
        "    return {\"Accuracy\": best_accuracy,\n",
        "            \"Model_Name\": \"RandomForest\",\n",
        "            \"HyperParameters\": f\"best_criterion: {best_criterion}, max_depth:{best_depth}\"}"
      ]
    },
    {
      "cell_type": "markdown",
      "metadata": {},
      "source": [
        "### Gradient Boosting Classifier Method"
      ]
    },
    {
      "cell_type": "code",
      "execution_count": 112,
      "metadata": {},
      "outputs": [],
      "source": [
        "from sklearn.ensemble import GradientBoostingClassifier\n",
        "def GradientBoosting(x_train, x_test, y_train, y_test):\n",
        "    best_accuracy = 0\n",
        "    best_n_estimators = \"\"\n",
        "    best_depth = 0\n",
        "    for n_estimators in [100,125,150,175,200]:\n",
        "        clf = GradientBoostingClassifier(n_estimators=n_estimators, loss = 'deviance', learning_rate=0.1, criterion = 'squared_error', max_depth=1, random_state=0)\n",
        "        clf.fit(x_train, y_train)\n",
        "        accuracy = clf.score(x_test, y_test)\n",
        "        if(accuracy > best_accuracy):\n",
        "            best_accuracy, best_n_estimators = accuracy, n_estimators\n",
        "    print(f\"Best accuracy is = {best_accuracy}, with best_n_estimators = {best_n_estimators} learning_rate = 0.1 criterion = squared_error best_depth = {best_depth} metrics and fetaure len = {len(x_train.columns)}\")\n",
        "    return {\"Accuracy\": best_accuracy,\n",
        "            \"Model_Name\": \"GradientBoosting\",\n",
        "            \"HyperParameters\": f\"best_n_estimators: {best_n_estimators}, loss:deviance, learning_rate = 0.1, depth = 1  criterion = squared_error\"}"
      ]
    },
    {
      "cell_type": "markdown",
      "metadata": {},
      "source": [
        "### Stochastic Gradient Descent"
      ]
    },
    {
      "cell_type": "code",
      "execution_count": 124,
      "metadata": {},
      "outputs": [],
      "source": [
        "from sklearn.linear_model import SGDClassifier\n",
        "def StockGradientDescent(x_train, x_test, y_train, y_test):\n",
        "    best_accuracy = 0\n",
        "    best_penalty = ''\n",
        "    for penalty in ['l2', 'l1', 'elasticnet']:\n",
        "        clf = SGDClassifier(loss=\"squared_error\", penalty=penalty, max_iter=1000)\n",
        "        clf.fit(x_train, y_train)\n",
        "        y_pred = clf.predict(x_test)\n",
        "        accuracy = accuracy_score(y_test, y_pred)\n",
        "        if(accuracy > best_accuracy):\n",
        "            best_accuracy, best_penalty = accuracy, penalty\n",
        "    print(f\"Best accuracy is = {best_accuracy}, with max_iter = 1000 best_penalty = {best_penalty} loss = squared_error  metrics and fetaure len = {len(x_train.columns)}\")\n",
        "    return {\"Accuracy\": best_accuracy,\n",
        "            \"Model_Name\": \"StockGradientDescent\",\n",
        "            \"HyperParameters\": f\"best_max_iter: 1000, loss:squared_error, best_penalty = {best_penalty}\"}\n"
      ]
    },
    {
      "cell_type": "markdown",
      "metadata": {
        "id": "8z6tObWSW01F"
      },
      "source": [
        "### SVM\n"
      ]
    },
    {
      "cell_type": "code",
      "execution_count": 38,
      "metadata": {
        "id": "x4MqbpAaW3tO"
      },
      "outputs": [],
      "source": [
        "from sklearn import svm\n",
        "\n",
        "def NonlinearSVM(x_train, x_test, y_train, y_test):\n",
        "    best_accuracy = 0\n",
        "    functionsForSVM={\"rbf\",\"sigmoid\"}\n",
        "    best_function=\"\"\n",
        "\n",
        "    for function in functionsForSVM:\n",
        "      model = svm.SVC(kernel=function)\n",
        "      model.fit(x_train, y_train)\n",
        "      y_pred = model.predict(x_test)\n",
        "      accuracy = accuracy_score(y_test, y_pred)\n",
        "      if(accuracy > best_accuracy):\n",
        "        best_accuracy=accuracy\n",
        "        best_function=function\n",
        "    print(f\"Best accuracy is = {best_accuracy}, with function = {best_function}\")\n",
        "    return  {\"Accuracy\": best_accuracy,\n",
        "            \"Model_Name\": \"SVM\",\n",
        "            \"HyperParameters\": f\"best_function: {best_function}\"}"
      ]
    },
    {
      "cell_type": "markdown",
      "metadata": {
        "id": "o1oit3UQa5ZO"
      },
      "source": [
        "### Naive Bayes"
      ]
    },
    {
      "cell_type": "code",
      "execution_count": 39,
      "metadata": {
        "id": "wwnAkECVa8e2"
      },
      "outputs": [],
      "source": [
        "from sklearn.naive_bayes import MultinomialNB\n",
        "\n",
        "def MultinomialNaiveBayes(x_train, x_test, y_train, y_test):\n",
        "    best_accuracy = 0\n",
        "    best_alpha = 0\n",
        "    alphas = [0.2, 0.3, 0.5]\n",
        "\n",
        "    for alpha in alphas:\n",
        "        model = MultinomialNB(alpha=alpha)\n",
        "        model.fit(x_train, y_train)\n",
        "        y_pred = model.predict(x_test)\n",
        "        accuracy = accuracy_score(y_test, y_pred)\n",
        "\n",
        "        if accuracy > best_accuracy:\n",
        "            best_accuracy = accuracy\n",
        "            best_alpha = alpha\n",
        "\n",
        "    print(f\"Best accuracy is = {best_accuracy}, with alpha = {best_alpha}\")\n",
        "\n",
        "    return {\n",
        "        \"Accuracy\": best_accuracy,\n",
        "        \"Model_Name\": \"Multinomial Naive Bayes\",\n",
        "        \"HyperParameters\": f\"best_alpha: {best_alpha}\"\n",
        "    }\n"
      ]
    },
    {
      "cell_type": "markdown",
      "metadata": {
        "id": "Y2AAIT6PhU8Z"
      },
      "source": [
        "### Decision Tree"
      ]
    },
    {
      "cell_type": "code",
      "execution_count": 106,
      "metadata": {
        "id": "e9rSv7J9hdYY"
      },
      "outputs": [],
      "source": [
        "from sklearn.tree import DecisionTreeClassifier\n",
        "\n",
        "\n",
        "def DecisionTree(x_train, x_test, y_train, y_test):\n",
        "    dephts= [5,10,12,17]\n",
        "    best_accuracy=0\n",
        "    best_max_depth=0\n",
        "\n",
        "    for depth in dephts:\n",
        "        model = DecisionTreeClassifier(random_state=42,max_depth=depth)\n",
        "        model.fit(x_train, y_train)\n",
        "        y_pred = model.predict(x_test)\n",
        "        accuracy = accuracy_score(y_test, y_pred)\n",
        "        if accuracy > best_accuracy:\n",
        "            best_accuracy, best_max_depth = accuracy, depth\n",
        "    print(f\"Best accuracy is = {best_accuracy}, with max_depth = {best_max_depth}\")\n",
        "\n",
        "    return {\n",
        "        \"Accuracy\": best_accuracy,\n",
        "        \"Model_Name\": \"Decision Tree\",\n",
        "        \"HyperParameters\": f\"best_max_depth: {best_max_depth}\"\n",
        "    }\n"
      ]
    },
    {
      "cell_type": "markdown",
      "metadata": {
        "id": "WFmpkQDOk2qq"
      },
      "source": [
        "### Ada Boost"
      ]
    },
    {
      "cell_type": "code",
      "execution_count": 107,
      "metadata": {
        "id": "juPL62dik5r9"
      },
      "outputs": [],
      "source": [
        "from sklearn.ensemble import AdaBoostClassifier\n",
        "from sklearn.tree import DecisionTreeClassifier\n",
        "\n",
        "\n",
        "def AdaBoost(x_train, x_test, y_train, y_test):\n",
        "  depths=[1,3,5]\n",
        "  best_max_depth=0\n",
        "  best_accuracy=0\n",
        "  best_n_estimators=0\n",
        "  for depth in depths:\n",
        "    weak_learner = DecisionTreeClassifier(max_depth=depth)\n",
        "    adaboost_model = AdaBoostClassifier(base_estimator=weak_learner, n_estimators=5, random_state=42)\n",
        "    adaboost_model.fit(x_train, y_train)\n",
        "    y_pred = adaboost_model.predict(x_test)\n",
        "    accuracy = accuracy_score(y_test, y_pred)\n",
        "\n",
        "    if accuracy > best_accuracy:\n",
        "            best_accuracy = accuracy\n",
        "            best_max_depth = depth\n",
        "  print(f\"Best accuracy is = {best_accuracy}, with max_depth = {best_max_depth}\")\n",
        "\n",
        "  return {\n",
        "        \"Accuracy\": best_accuracy,\n",
        "        \"Model_Name\": \"Ada Boost\",\n",
        "        \"HyperParameters\": f\"best_max_depth: {best_max_depth}\"\n",
        "    }\n"
      ]
    },
    {
      "cell_type": "markdown",
      "metadata": {
        "id": "Ahif18dsnkO8"
      },
      "source": [
        "## TensorFlow"
      ]
    },
    {
      "cell_type": "code",
      "execution_count": 43,
      "metadata": {
        "colab": {
          "base_uri": "https://localhost:8080/"
        },
        "id": "e1EcIkWNnm16",
        "outputId": "fc9fc733-2b13-4ef0-d424-c4748176826a"
      },
      "outputs": [
        {
          "data": {
            "text/plain": [
              "'\\nimport tensorflow as tf\\nfrom tensorflow.keras import layers, models\\nfrom sklearn.model_selection import train_test_split\\nfrom sklearn.preprocessing import OneHotEncoder\\n\\ndef one_hot_encode(labels):\\n    encoder = OneHotEncoder(sparse=False)\\n    labels_encoded = encoder.fit_transform(labels.reshape(-1, 1))\\n    return labels_encoded\\n\\nmodel = models.Sequential([\\n    layers.Flatten(input_shape=(75,)),\\n    layers.Dense(128, activation=\\'relu\\'),\\n    layers.Dropout(0.5),\\n    layers.Dense(4, activation=\\'softmax\\')\\n])\\n\\n\\nmodel.compile(optimizer=\\'adam\\',\\n              loss=\\'categorical_crossentropy\\',\\n              metrics=[\\'accuracy\\'])\\n\\nmodel.summary()\\n\\nx_data = questionToMode_df.drop(\\'Q16\\', axis=1).values\\ny_data = questionToMode_df[\\'Q16\\'].values\\n\\ny_data_encoded = one_hot_encode(y_data)\\n\\nx_train, x_test, y_train, y_test = train_test_split(x_data, y_data_encoded, test_size=0.2, random_state=42)\\n\\nmodel_result = model.fit(x_train, y_train, epochs=15, validation_data=(x_test, y_test))\\n\\nfor epoch, acc, val_acc in zip(range(1, 6), model_result.history[\\'accuracy\\'], model_result.history[\\'val_accuracy\\']):\\n    print(f\"Epoch {epoch}: Training Accuracy = {acc}, Validation Accuracy = {val_acc}\")\\n'"
            ]
          },
          "execution_count": 43,
          "metadata": {},
          "output_type": "execute_result"
        }
      ],
      "source": [
        "\"\"\"\n",
        "import tensorflow as tf\n",
        "from tensorflow.keras import layers, models\n",
        "from sklearn.model_selection import train_test_split\n",
        "from sklearn.preprocessing import OneHotEncoder\n",
        "\n",
        "def one_hot_encode(labels):\n",
        "    encoder = OneHotEncoder(sparse=False)\n",
        "    labels_encoded = encoder.fit_transform(labels.reshape(-1, 1))\n",
        "    return labels_encoded\n",
        "\n",
        "model = models.Sequential([\n",
        "    layers.Flatten(input_shape=(75,)),\n",
        "    layers.Dense(128, activation='relu'),\n",
        "    layers.Dropout(0.5),\n",
        "    layers.Dense(4, activation='softmax')\n",
        "])\n",
        "\n",
        "\n",
        "model.compile(optimizer='adam',\n",
        "              loss='categorical_crossentropy',\n",
        "              metrics=['accuracy'])\n",
        "\n",
        "model.summary()\n",
        "\n",
        "x_data = questionToMode_df.drop('Q16', axis=1).values\n",
        "y_data = questionToMode_df['Q16'].values\n",
        "\n",
        "y_data_encoded = one_hot_encode(y_data)\n",
        "\n",
        "x_train, x_test, y_train, y_test = train_test_split(x_data, y_data_encoded, test_size=0.2, random_state=42)\n",
        "\n",
        "model_result = model.fit(x_train, y_train, epochs=15, validation_data=(x_test, y_test))\n",
        "\n",
        "for epoch, acc, val_acc in zip(range(1, 6), model_result.history['accuracy'], model_result.history['val_accuracy']):\n",
        "    print(f\"Epoch {epoch}: Training Accuracy = {acc}, Validation Accuracy = {val_acc}\")\n",
        "\"\"\"\n"
      ]
    },
    {
      "cell_type": "markdown",
      "metadata": {
        "id": "xrksmOBhWQAQ"
      },
      "source": [
        "### PyTorch Classifier"
      ]
    },
    {
      "cell_type": "code",
      "execution_count": 44,
      "metadata": {
        "colab": {
          "base_uri": "https://localhost:8080/"
        },
        "id": "Oaio8HLwWQAQ",
        "outputId": "42089455-8a0a-495f-8742-0fb1ae4a448d"
      },
      "outputs": [
        {
          "name": "stdout",
          "output_type": "stream",
          "text": [
            "2.1.2+cpu\n"
          ]
        }
      ],
      "source": [
        "# Check Torch version\n",
        "import torch\n",
        "print(torch.__version__)"
      ]
    },
    {
      "cell_type": "code",
      "execution_count": 45,
      "metadata": {
        "id": "FJwRyYW6WQAQ"
      },
      "outputs": [],
      "source": [
        "def ConvertNumpyToTorch(x_train, x_test, y_train, y_test):\n",
        "    x_train, x_test = torch.from_numpy(x_train.values), torch.from_numpy(x_test.values)\n",
        "    y_train, y_test = torch.from_numpy(y_train.values), torch.from_numpy(y_test.values)\n",
        "    return x_train, x_test, y_train, y_test"
      ]
    },
    {
      "cell_type": "code",
      "execution_count": 46,
      "metadata": {
        "colab": {
          "base_uri": "https://localhost:8080/"
        },
        "id": "6SwY4KihWQAQ",
        "outputId": "bc972424-625d-4bc8-e836-69b61b3fc0fe"
      },
      "outputs": [
        {
          "name": "stdout",
          "output_type": "stream",
          "text": [
            "<bound method Module.parameters of PyTorchClassifier(\n",
            "  (layer_1): Linear(in_features=75, out_features=30, bias=True)\n",
            "  (layer_2): Linear(in_features=30, out_features=4, bias=True)\n",
            ")>\n"
          ]
        }
      ],
      "source": [
        "from torch import nn\n",
        "\n",
        "class PyTorchClassifier(nn.Module):\n",
        "    def __init__(self, input_layers, hidden_layers, output_layers):\n",
        "        super().__init__()\n",
        "        self.layer_1 = nn.Linear(in_features = input_layers, out_features = hidden_layers)\n",
        "        self.layer_2 = nn.Linear(in_features = hidden_layers, out_features = output_layers)\n",
        "\n",
        "    def forward(self, x):\n",
        "        return self.layer_2(self.layer_1(x))\n",
        "\n",
        "\n",
        "x_train, x_test, y_train, y_test = train_test_split_modified(questionToMode_df)\n",
        "x_train, x_test, y_train, y_test = ConvertNumpyToTorch(x_train, x_test, y_train, y_test)\n",
        "#print(x_train.dtype, x_test.dtype, y_train.dtype, y_test.dtype)\n",
        "pytorch_model = PyTorchClassifier(x_train.shape[1], 30, len(y_train.unique()))\n",
        "print(pytorch_model.parameters)"
      ]
    },
    {
      "cell_type": "markdown",
      "metadata": {
        "id": "qZmeaSQZWQAQ"
      },
      "source": [
        "### Method For Running Spesific Method with Spesific Parameters"
      ]
    },
    {
      "cell_type": "code",
      "execution_count": 128,
      "metadata": {
        "id": "B2l6lrG8WQAR"
      },
      "outputs": [],
      "source": [
        "from sklearn.exceptions import DataConversionWarning\n",
        "import warnings\n",
        "\n",
        "algorithms_results = []\n",
        "# Ignore specific warnings\n",
        "warnings.filterwarnings(\"ignore\", category=DataConversionWarning)\n",
        "warnings.filterwarnings(\"ignore\", category=DataConversionWarning)\n",
        "\n",
        "def RunThePredictAlgorithm(df, max_feature, scaling_method, FeatureEliminationMethod, MLORDLAlgorithm):\n",
        "    if(scaling_method == 'min-max'):\n",
        "        X, y = min_max_scaled_items[\"X\"], min_max_scaled_items[\"y\"]\n",
        "    elif(scaling_method == 'standart'):\n",
        "        X, y = stc_scaled_items[\"X\"], stc_scaled_items[\"y\"]\n",
        "    elif(scaling_method == 'robust'):\n",
        "        X, y = robust_scaled_items[\"X\"], robust_scaled_items[\"y\"]\n",
        "    else:\n",
        "        print(\"Scaling method not acceptable try acceptable scaling_method ['min-max', 'standart', 'robust']\")\n",
        "        return False\n",
        "\n",
        "    for i in range(1,max_feature):\n",
        "        feature_eliminated_df = FeatureEliminationMethod(df, X, y, i)\n",
        "        x_train, x_test, y_train, y_test = train_test_split_modified(feature_eliminated_df)\n",
        "        result = MLORDLAlgorithm(x_train, x_test, y_train, y_test)\n",
        "        result[\"FeatureEliminationMethod\"] = FeatureEliminationMethod.__name__\n",
        "        SaveResults(result, str(MLORDLAlgorithm.__name__) + \"_\" + scaling_method +\".txt\")\n",
        "        algorithms_results.append(result)"
      ]
    },
    {
      "cell_type": "markdown",
      "metadata": {
        "id": "lLU97HwJWQAR"
      },
      "source": [
        "### Method For Finding Max Accuracy's Situation Details"
      ]
    },
    {
      "cell_type": "code",
      "execution_count": null,
      "metadata": {
        "id": "mW9YdVguWQAR"
      },
      "outputs": [],
      "source": [
        "def FindBestModel(results_list):\n",
        "    best_accuracy = 0\n",
        "    best_accuracy_index = 0\n",
        "    for i in range(len(results_list)):\n",
        "        if(results_list[i]['Accuracy'] > best_accuracy):\n",
        "            best_accuracy_index = i\n",
        "    return best_accuracy_index"
      ]
    },
    {
      "cell_type": "code",
      "execution_count": null,
      "metadata": {
        "colab": {
          "base_uri": "https://localhost:8080/",
          "height": 582
        },
        "id": "u3JmcNKWWQAR",
        "outputId": "c823c057-a8cc-4114-c9d9-c6a40baf5cdd"
      },
      "outputs": [
        {
          "name": "stdout",
          "output_type": "stream",
          "text": [
            "Best accuracy is = 0.41453831041257366, with 45 n_neighbors, euclidean metrics and fetaure len = 2\n",
            "Best accuracy is = 0.41453831041257366, with 48 n_neighbors, manhattan metrics and fetaure len = 3\n",
            "Best accuracy is = 0.42960052390307796, with 49 n_neighbors, manhattan metrics and fetaure len = 4\n",
            "Best accuracy is = 0.43680419122462344, with 47 n_neighbors, manhattan metrics and fetaure len = 5\n",
            "Best accuracy is = 0.43745907007203666, with 48 n_neighbors, manhattan metrics and fetaure len = 6\n",
            "Best accuracy is = 0.4407334643091028, with 48 n_neighbors, manhattan metrics and fetaure len = 7\n",
            "Best accuracy is = 0.45514079895219384, with 27 n_neighbors, cosine metrics and fetaure len = 8\n",
            "Best accuracy is = 0.48264571054354943, with 27 n_neighbors, cosine metrics and fetaure len = 9\n",
            "Best accuracy is = 0.47544204322200395, with 43 n_neighbors, cosine metrics and fetaure len = 10\n",
            "Best accuracy is = 0.48264571054354943, with 46 n_neighbors, cosine metrics and fetaure len = 11\n",
            "Best accuracy is = 0.4839554682383759, with 34 n_neighbors, cosine metrics and fetaure len = 12\n",
            "Best accuracy is = 0.481335952848723, with 33 n_neighbors, cosine metrics and fetaure len = 13\n",
            "Best accuracy is = 0.47871643745907005, with 38 n_neighbors, cosine metrics and fetaure len = 13\n",
            "Best accuracy is = 0.48002619515389655, with 23 n_neighbors, cosine metrics and fetaure len = 14\n",
            "Best accuracy is = 0.4793713163064833, with 45 n_neighbors, cosine metrics and fetaure len = 15\n"
          ]
        },
        {
          "ename": "KeyboardInterrupt",
          "evalue": "ignored",
          "output_type": "error",
          "traceback": [
            "\u001b[0;31m---------------------------------------------------------------------------\u001b[0m",
            "\u001b[0;31mKeyboardInterrupt\u001b[0m                         Traceback (most recent call last)",
            "\u001b[0;32m<ipython-input-41-dea64aeadb8a>\u001b[0m in \u001b[0;36m<cell line: 1>\u001b[0;34m()\u001b[0m\n\u001b[0;32m----> 1\u001b[0;31m \u001b[0mRunThePredictAlgorithm\u001b[0m\u001b[0;34m(\u001b[0m\u001b[0mquestionToMode_df\u001b[0m\u001b[0;34m,\u001b[0m \u001b[0;36m50\u001b[0m\u001b[0;34m,\u001b[0m \u001b[0;34m'min-max'\u001b[0m\u001b[0;34m,\u001b[0m \u001b[0mRFEFeatureElimination\u001b[0m\u001b[0;34m,\u001b[0m \u001b[0mKNN\u001b[0m\u001b[0;34m)\u001b[0m\u001b[0;34m\u001b[0m\u001b[0;34m\u001b[0m\u001b[0m\n\u001b[0m",
            "\u001b[0;32m<ipython-input-39-cf09bd63617b>\u001b[0m in \u001b[0;36mRunThePredictAlgorithm\u001b[0;34m(df, max_feature, scaling_method, FeatureEliminationMethod, MLORDLAlgorithm)\u001b[0m\n\u001b[1;32m     21\u001b[0m         \u001b[0mfeature_eliminated_df\u001b[0m \u001b[0;34m=\u001b[0m \u001b[0mFeatureEliminationMethod\u001b[0m\u001b[0;34m(\u001b[0m\u001b[0mdf\u001b[0m\u001b[0;34m,\u001b[0m \u001b[0mX\u001b[0m\u001b[0;34m,\u001b[0m \u001b[0my\u001b[0m\u001b[0;34m,\u001b[0m \u001b[0mi\u001b[0m\u001b[0;34m)\u001b[0m\u001b[0;34m\u001b[0m\u001b[0;34m\u001b[0m\u001b[0m\n\u001b[1;32m     22\u001b[0m         \u001b[0mx_train\u001b[0m\u001b[0;34m,\u001b[0m \u001b[0mx_test\u001b[0m\u001b[0;34m,\u001b[0m \u001b[0my_train\u001b[0m\u001b[0;34m,\u001b[0m \u001b[0my_test\u001b[0m \u001b[0;34m=\u001b[0m \u001b[0mtrain_test_split_modified\u001b[0m\u001b[0;34m(\u001b[0m\u001b[0mfeature_eliminated_df\u001b[0m\u001b[0;34m)\u001b[0m\u001b[0;34m\u001b[0m\u001b[0;34m\u001b[0m\u001b[0m\n\u001b[0;32m---> 23\u001b[0;31m         \u001b[0mresult\u001b[0m \u001b[0;34m=\u001b[0m \u001b[0mMLORDLAlgorithm\u001b[0m\u001b[0;34m(\u001b[0m\u001b[0mx_train\u001b[0m\u001b[0;34m,\u001b[0m \u001b[0mx_test\u001b[0m\u001b[0;34m,\u001b[0m \u001b[0my_train\u001b[0m\u001b[0;34m,\u001b[0m \u001b[0my_test\u001b[0m\u001b[0;34m)\u001b[0m\u001b[0;34m\u001b[0m\u001b[0;34m\u001b[0m\u001b[0m\n\u001b[0m\u001b[1;32m     24\u001b[0m         \u001b[0mresult\u001b[0m\u001b[0;34m[\u001b[0m\u001b[0;34m\"FeatureEliminationMethod\"\u001b[0m\u001b[0;34m]\u001b[0m \u001b[0;34m=\u001b[0m \u001b[0mFeatureEliminationMethod\u001b[0m\u001b[0;34m.\u001b[0m\u001b[0m__name__\u001b[0m\u001b[0;34m\u001b[0m\u001b[0;34m\u001b[0m\u001b[0m\n\u001b[1;32m     25\u001b[0m         \u001b[0mSaveResults\u001b[0m\u001b[0;34m(\u001b[0m\u001b[0mresult\u001b[0m\u001b[0;34m,\u001b[0m \u001b[0mstr\u001b[0m\u001b[0;34m(\u001b[0m\u001b[0mMLORDLAlgorithm\u001b[0m\u001b[0;34m.\u001b[0m\u001b[0m__name__\u001b[0m\u001b[0;34m)\u001b[0m \u001b[0;34m+\u001b[0m \u001b[0;34m\"_\"\u001b[0m \u001b[0;34m+\u001b[0m \u001b[0mscaling_method\u001b[0m \u001b[0;34m+\u001b[0m\u001b[0;34m\".txt\"\u001b[0m\u001b[0;34m)\u001b[0m\u001b[0;34m\u001b[0m\u001b[0;34m\u001b[0m\u001b[0m\n",
            "\u001b[0;32m<ipython-input-34-557b43b25b6e>\u001b[0m in \u001b[0;36mKNN\u001b[0;34m(x_train, x_test, y_train, y_test)\u001b[0m\n\u001b[1;32m     13\u001b[0m             \u001b[0mknn\u001b[0m \u001b[0;34m=\u001b[0m \u001b[0mKNeighborsClassifier\u001b[0m\u001b[0;34m(\u001b[0m\u001b[0mn_neighbors\u001b[0m\u001b[0;34m=\u001b[0m\u001b[0mi\u001b[0m\u001b[0;34m,\u001b[0m \u001b[0mmetric\u001b[0m \u001b[0;34m=\u001b[0m \u001b[0mparam\u001b[0m\u001b[0;34m,\u001b[0m \u001b[0mweights\u001b[0m \u001b[0;34m=\u001b[0m \u001b[0;34m\"distance\"\u001b[0m\u001b[0;34m)\u001b[0m\u001b[0;34m\u001b[0m\u001b[0;34m\u001b[0m\u001b[0m\n\u001b[1;32m     14\u001b[0m             \u001b[0mknn\u001b[0m\u001b[0;34m.\u001b[0m\u001b[0mfit\u001b[0m\u001b[0;34m(\u001b[0m\u001b[0mx_train\u001b[0m\u001b[0;34m,\u001b[0m \u001b[0my_train\u001b[0m\u001b[0;34m)\u001b[0m\u001b[0;34m\u001b[0m\u001b[0;34m\u001b[0m\u001b[0m\n\u001b[0;32m---> 15\u001b[0;31m             \u001b[0my_pred\u001b[0m \u001b[0;34m=\u001b[0m \u001b[0mknn\u001b[0m\u001b[0;34m.\u001b[0m\u001b[0mpredict\u001b[0m\u001b[0;34m(\u001b[0m\u001b[0mx_test\u001b[0m\u001b[0;34m)\u001b[0m\u001b[0;34m\u001b[0m\u001b[0;34m\u001b[0m\u001b[0m\n\u001b[0m\u001b[1;32m     16\u001b[0m             \u001b[0;32mif\u001b[0m \u001b[0maccuracy_score\u001b[0m\u001b[0;34m(\u001b[0m\u001b[0my_test\u001b[0m\u001b[0;34m,\u001b[0m \u001b[0my_pred\u001b[0m\u001b[0;34m)\u001b[0m \u001b[0;34m<\u001b[0m \u001b[0;36m1\u001b[0m \u001b[0;32mand\u001b[0m \u001b[0mbest_accuracy_knn\u001b[0m \u001b[0;34m<\u001b[0m \u001b[0maccuracy_score\u001b[0m\u001b[0;34m(\u001b[0m\u001b[0my_test\u001b[0m\u001b[0;34m,\u001b[0m \u001b[0my_pred\u001b[0m\u001b[0;34m)\u001b[0m \u001b[0;34m:\u001b[0m\u001b[0;34m\u001b[0m\u001b[0;34m\u001b[0m\u001b[0m\n\u001b[1;32m     17\u001b[0m                 \u001b[0mbest_accuracy_knn\u001b[0m\u001b[0;34m,\u001b[0m \u001b[0mbest_neighbor_count\u001b[0m\u001b[0;34m,\u001b[0m \u001b[0mbest_metric\u001b[0m \u001b[0;34m=\u001b[0m \u001b[0maccuracy_score\u001b[0m\u001b[0;34m(\u001b[0m\u001b[0my_test\u001b[0m\u001b[0;34m,\u001b[0m \u001b[0my_pred\u001b[0m\u001b[0;34m)\u001b[0m\u001b[0;34m,\u001b[0m \u001b[0mi\u001b[0m\u001b[0;34m,\u001b[0m \u001b[0mparam\u001b[0m\u001b[0;34m\u001b[0m\u001b[0;34m\u001b[0m\u001b[0m\n",
            "\u001b[0;32m/usr/local/lib/python3.10/dist-packages/sklearn/neighbors/_classification.py\u001b[0m in \u001b[0;36mpredict\u001b[0;34m(self, X)\u001b[0m\n\u001b[1;32m    235\u001b[0m             \u001b[0mneigh_dist\u001b[0m \u001b[0;34m=\u001b[0m \u001b[0;32mNone\u001b[0m\u001b[0;34m\u001b[0m\u001b[0;34m\u001b[0m\u001b[0m\n\u001b[1;32m    236\u001b[0m         \u001b[0;32melse\u001b[0m\u001b[0;34m:\u001b[0m\u001b[0;34m\u001b[0m\u001b[0;34m\u001b[0m\u001b[0m\n\u001b[0;32m--> 237\u001b[0;31m             \u001b[0mneigh_dist\u001b[0m\u001b[0;34m,\u001b[0m \u001b[0mneigh_ind\u001b[0m \u001b[0;34m=\u001b[0m \u001b[0mself\u001b[0m\u001b[0;34m.\u001b[0m\u001b[0mkneighbors\u001b[0m\u001b[0;34m(\u001b[0m\u001b[0mX\u001b[0m\u001b[0;34m)\u001b[0m\u001b[0;34m\u001b[0m\u001b[0;34m\u001b[0m\u001b[0m\n\u001b[0m\u001b[1;32m    238\u001b[0m \u001b[0;34m\u001b[0m\u001b[0m\n\u001b[1;32m    239\u001b[0m         \u001b[0mclasses_\u001b[0m \u001b[0;34m=\u001b[0m \u001b[0mself\u001b[0m\u001b[0;34m.\u001b[0m\u001b[0mclasses_\u001b[0m\u001b[0;34m\u001b[0m\u001b[0;34m\u001b[0m\u001b[0m\n",
            "\u001b[0;32m/usr/local/lib/python3.10/dist-packages/sklearn/neighbors/_base.py\u001b[0m in \u001b[0;36mkneighbors\u001b[0;34m(self, X, n_neighbors, return_distance)\u001b[0m\n\u001b[1;32m    859\u001b[0m                 \u001b[0mkwds\u001b[0m \u001b[0;34m=\u001b[0m \u001b[0mself\u001b[0m\u001b[0;34m.\u001b[0m\u001b[0meffective_metric_params_\u001b[0m\u001b[0;34m\u001b[0m\u001b[0;34m\u001b[0m\u001b[0m\n\u001b[1;32m    860\u001b[0m \u001b[0;34m\u001b[0m\u001b[0m\n\u001b[0;32m--> 861\u001b[0;31m             chunked_results = list(\n\u001b[0m\u001b[1;32m    862\u001b[0m                 pairwise_distances_chunked(\n\u001b[1;32m    863\u001b[0m                     \u001b[0mX\u001b[0m\u001b[0;34m,\u001b[0m\u001b[0;34m\u001b[0m\u001b[0;34m\u001b[0m\u001b[0m\n",
            "\u001b[0;32m/usr/local/lib/python3.10/dist-packages/sklearn/metrics/pairwise.py\u001b[0m in \u001b[0;36mpairwise_distances_chunked\u001b[0;34m(X, Y, reduce_func, metric, n_jobs, working_memory, **kwds)\u001b[0m\n\u001b[1;32m   1865\u001b[0m         \u001b[0;32melse\u001b[0m\u001b[0;34m:\u001b[0m\u001b[0;34m\u001b[0m\u001b[0;34m\u001b[0m\u001b[0m\n\u001b[1;32m   1866\u001b[0m             \u001b[0mX_chunk\u001b[0m \u001b[0;34m=\u001b[0m \u001b[0mX\u001b[0m\u001b[0;34m[\u001b[0m\u001b[0msl\u001b[0m\u001b[0;34m]\u001b[0m\u001b[0;34m\u001b[0m\u001b[0;34m\u001b[0m\u001b[0m\n\u001b[0;32m-> 1867\u001b[0;31m         \u001b[0mD_chunk\u001b[0m \u001b[0;34m=\u001b[0m \u001b[0mpairwise_distances\u001b[0m\u001b[0;34m(\u001b[0m\u001b[0mX_chunk\u001b[0m\u001b[0;34m,\u001b[0m \u001b[0mY\u001b[0m\u001b[0;34m,\u001b[0m \u001b[0mmetric\u001b[0m\u001b[0;34m=\u001b[0m\u001b[0mmetric\u001b[0m\u001b[0;34m,\u001b[0m \u001b[0mn_jobs\u001b[0m\u001b[0;34m=\u001b[0m\u001b[0mn_jobs\u001b[0m\u001b[0;34m,\u001b[0m \u001b[0;34m**\u001b[0m\u001b[0mkwds\u001b[0m\u001b[0;34m)\u001b[0m\u001b[0;34m\u001b[0m\u001b[0;34m\u001b[0m\u001b[0m\n\u001b[0m\u001b[1;32m   1868\u001b[0m         if (X is Y or Y is None) and PAIRWISE_DISTANCE_FUNCTIONS.get(\n\u001b[1;32m   1869\u001b[0m             \u001b[0mmetric\u001b[0m\u001b[0;34m,\u001b[0m \u001b[0;32mNone\u001b[0m\u001b[0;34m\u001b[0m\u001b[0;34m\u001b[0m\u001b[0m\n",
            "\u001b[0;32m/usr/local/lib/python3.10/dist-packages/sklearn/metrics/pairwise.py\u001b[0m in \u001b[0;36mpairwise_distances\u001b[0;34m(X, Y, metric, n_jobs, force_all_finite, **kwds)\u001b[0m\n\u001b[1;32m   2037\u001b[0m         \u001b[0mfunc\u001b[0m \u001b[0;34m=\u001b[0m \u001b[0mpartial\u001b[0m\u001b[0;34m(\u001b[0m\u001b[0mdistance\u001b[0m\u001b[0;34m.\u001b[0m\u001b[0mcdist\u001b[0m\u001b[0;34m,\u001b[0m \u001b[0mmetric\u001b[0m\u001b[0;34m=\u001b[0m\u001b[0mmetric\u001b[0m\u001b[0;34m,\u001b[0m \u001b[0;34m**\u001b[0m\u001b[0mkwds\u001b[0m\u001b[0;34m)\u001b[0m\u001b[0;34m\u001b[0m\u001b[0;34m\u001b[0m\u001b[0m\n\u001b[1;32m   2038\u001b[0m \u001b[0;34m\u001b[0m\u001b[0m\n\u001b[0;32m-> 2039\u001b[0;31m     \u001b[0;32mreturn\u001b[0m \u001b[0m_parallel_pairwise\u001b[0m\u001b[0;34m(\u001b[0m\u001b[0mX\u001b[0m\u001b[0;34m,\u001b[0m \u001b[0mY\u001b[0m\u001b[0;34m,\u001b[0m \u001b[0mfunc\u001b[0m\u001b[0;34m,\u001b[0m \u001b[0mn_jobs\u001b[0m\u001b[0;34m,\u001b[0m \u001b[0;34m**\u001b[0m\u001b[0mkwds\u001b[0m\u001b[0;34m)\u001b[0m\u001b[0;34m\u001b[0m\u001b[0;34m\u001b[0m\u001b[0m\n\u001b[0m\u001b[1;32m   2040\u001b[0m \u001b[0;34m\u001b[0m\u001b[0m\n\u001b[1;32m   2041\u001b[0m \u001b[0;34m\u001b[0m\u001b[0m\n",
            "\u001b[0;32m/usr/local/lib/python3.10/dist-packages/sklearn/metrics/pairwise.py\u001b[0m in \u001b[0;36m_parallel_pairwise\u001b[0;34m(X, Y, func, n_jobs, **kwds)\u001b[0m\n\u001b[1;32m   1577\u001b[0m \u001b[0;34m\u001b[0m\u001b[0m\n\u001b[1;32m   1578\u001b[0m     \u001b[0;32mif\u001b[0m \u001b[0meffective_n_jobs\u001b[0m\u001b[0;34m(\u001b[0m\u001b[0mn_jobs\u001b[0m\u001b[0;34m)\u001b[0m \u001b[0;34m==\u001b[0m \u001b[0;36m1\u001b[0m\u001b[0;34m:\u001b[0m\u001b[0;34m\u001b[0m\u001b[0;34m\u001b[0m\u001b[0m\n\u001b[0;32m-> 1579\u001b[0;31m         \u001b[0;32mreturn\u001b[0m \u001b[0mfunc\u001b[0m\u001b[0;34m(\u001b[0m\u001b[0mX\u001b[0m\u001b[0;34m,\u001b[0m \u001b[0mY\u001b[0m\u001b[0;34m,\u001b[0m \u001b[0;34m**\u001b[0m\u001b[0mkwds\u001b[0m\u001b[0;34m)\u001b[0m\u001b[0;34m\u001b[0m\u001b[0;34m\u001b[0m\u001b[0m\n\u001b[0m\u001b[1;32m   1580\u001b[0m \u001b[0;34m\u001b[0m\u001b[0m\n\u001b[1;32m   1581\u001b[0m     \u001b[0;31m# enforce a threading backend to prevent data communication overhead\u001b[0m\u001b[0;34m\u001b[0m\u001b[0;34m\u001b[0m\u001b[0m\n",
            "\u001b[0;32m/usr/local/lib/python3.10/dist-packages/sklearn/metrics/pairwise.py\u001b[0m in \u001b[0;36mnan_euclidean_distances\u001b[0;34m(X, Y, squared, missing_values, copy)\u001b[0m\n\u001b[1;32m    480\u001b[0m     \u001b[0mdistances\u001b[0m \u001b[0;34m-=\u001b[0m \u001b[0mnp\u001b[0m\u001b[0;34m.\u001b[0m\u001b[0mdot\u001b[0m\u001b[0;34m(\u001b[0m\u001b[0mmissing_X\u001b[0m\u001b[0;34m,\u001b[0m \u001b[0mYY\u001b[0m\u001b[0;34m.\u001b[0m\u001b[0mT\u001b[0m\u001b[0;34m)\u001b[0m\u001b[0;34m\u001b[0m\u001b[0;34m\u001b[0m\u001b[0m\n\u001b[1;32m    481\u001b[0m \u001b[0;34m\u001b[0m\u001b[0m\n\u001b[0;32m--> 482\u001b[0;31m     \u001b[0mnp\u001b[0m\u001b[0;34m.\u001b[0m\u001b[0mclip\u001b[0m\u001b[0;34m(\u001b[0m\u001b[0mdistances\u001b[0m\u001b[0;34m,\u001b[0m \u001b[0;36m0\u001b[0m\u001b[0;34m,\u001b[0m \u001b[0;32mNone\u001b[0m\u001b[0;34m,\u001b[0m \u001b[0mout\u001b[0m\u001b[0;34m=\u001b[0m\u001b[0mdistances\u001b[0m\u001b[0;34m)\u001b[0m\u001b[0;34m\u001b[0m\u001b[0;34m\u001b[0m\u001b[0m\n\u001b[0m\u001b[1;32m    483\u001b[0m \u001b[0;34m\u001b[0m\u001b[0m\n\u001b[1;32m    484\u001b[0m     \u001b[0;32mif\u001b[0m \u001b[0mX\u001b[0m \u001b[0;32mis\u001b[0m \u001b[0mY\u001b[0m\u001b[0;34m:\u001b[0m\u001b[0;34m\u001b[0m\u001b[0;34m\u001b[0m\u001b[0m\n",
            "\u001b[0;32m/usr/local/lib/python3.10/dist-packages/numpy/core/overrides.py\u001b[0m in \u001b[0;36mclip\u001b[0;34m(*args, **kwargs)\u001b[0m\n",
            "\u001b[0;32m/usr/local/lib/python3.10/dist-packages/numpy/core/fromnumeric.py\u001b[0m in \u001b[0;36mclip\u001b[0;34m(a, a_min, a_max, out, **kwargs)\u001b[0m\n\u001b[1;32m   2152\u001b[0m \u001b[0;34m\u001b[0m\u001b[0m\n\u001b[1;32m   2153\u001b[0m     \"\"\"\n\u001b[0;32m-> 2154\u001b[0;31m     \u001b[0;32mreturn\u001b[0m \u001b[0m_wrapfunc\u001b[0m\u001b[0;34m(\u001b[0m\u001b[0ma\u001b[0m\u001b[0;34m,\u001b[0m \u001b[0;34m'clip'\u001b[0m\u001b[0;34m,\u001b[0m \u001b[0ma_min\u001b[0m\u001b[0;34m,\u001b[0m \u001b[0ma_max\u001b[0m\u001b[0;34m,\u001b[0m \u001b[0mout\u001b[0m\u001b[0;34m=\u001b[0m\u001b[0mout\u001b[0m\u001b[0;34m,\u001b[0m \u001b[0;34m**\u001b[0m\u001b[0mkwargs\u001b[0m\u001b[0;34m)\u001b[0m\u001b[0;34m\u001b[0m\u001b[0;34m\u001b[0m\u001b[0m\n\u001b[0m\u001b[1;32m   2155\u001b[0m \u001b[0;34m\u001b[0m\u001b[0m\n\u001b[1;32m   2156\u001b[0m \u001b[0;34m\u001b[0m\u001b[0m\n",
            "\u001b[0;32m/usr/local/lib/python3.10/dist-packages/numpy/core/fromnumeric.py\u001b[0m in \u001b[0;36m_wrapfunc\u001b[0;34m(obj, method, *args, **kwds)\u001b[0m\n\u001b[1;32m     55\u001b[0m \u001b[0;34m\u001b[0m\u001b[0m\n\u001b[1;32m     56\u001b[0m     \u001b[0;32mtry\u001b[0m\u001b[0;34m:\u001b[0m\u001b[0;34m\u001b[0m\u001b[0;34m\u001b[0m\u001b[0m\n\u001b[0;32m---> 57\u001b[0;31m         \u001b[0;32mreturn\u001b[0m \u001b[0mbound\u001b[0m\u001b[0;34m(\u001b[0m\u001b[0;34m*\u001b[0m\u001b[0margs\u001b[0m\u001b[0;34m,\u001b[0m \u001b[0;34m**\u001b[0m\u001b[0mkwds\u001b[0m\u001b[0;34m)\u001b[0m\u001b[0;34m\u001b[0m\u001b[0;34m\u001b[0m\u001b[0m\n\u001b[0m\u001b[1;32m     58\u001b[0m     \u001b[0;32mexcept\u001b[0m \u001b[0mTypeError\u001b[0m\u001b[0;34m:\u001b[0m\u001b[0;34m\u001b[0m\u001b[0;34m\u001b[0m\u001b[0m\n\u001b[1;32m     59\u001b[0m         \u001b[0;31m# A TypeError occurs if the object does have such a method in its\u001b[0m\u001b[0;34m\u001b[0m\u001b[0;34m\u001b[0m\u001b[0m\n",
            "\u001b[0;32m/usr/local/lib/python3.10/dist-packages/numpy/core/_methods.py\u001b[0m in \u001b[0;36m_clip\u001b[0;34m(a, min, max, out, casting, **kwargs)\u001b[0m\n\u001b[1;32m    155\u001b[0m             um.minimum, a, max, out=out, casting=casting, **kwargs)\n\u001b[1;32m    156\u001b[0m     \u001b[0;32melif\u001b[0m \u001b[0mmax\u001b[0m \u001b[0;32mis\u001b[0m \u001b[0;32mNone\u001b[0m\u001b[0;34m:\u001b[0m\u001b[0;34m\u001b[0m\u001b[0;34m\u001b[0m\u001b[0m\n\u001b[0;32m--> 157\u001b[0;31m         return _clip_dep_invoke_with_casting(\n\u001b[0m\u001b[1;32m    158\u001b[0m             um.maximum, a, min, out=out, casting=casting, **kwargs)\n\u001b[1;32m    159\u001b[0m     \u001b[0;32melse\u001b[0m\u001b[0;34m:\u001b[0m\u001b[0;34m\u001b[0m\u001b[0;34m\u001b[0m\u001b[0m\n",
            "\u001b[0;32m/usr/local/lib/python3.10/dist-packages/numpy/core/_methods.py\u001b[0m in \u001b[0;36m_clip_dep_invoke_with_casting\u001b[0;34m(ufunc, out, casting, *args, **kwargs)\u001b[0m\n\u001b[1;32m    112\u001b[0m     \u001b[0;31m# try to deal with broken casting rules\u001b[0m\u001b[0;34m\u001b[0m\u001b[0;34m\u001b[0m\u001b[0m\n\u001b[1;32m    113\u001b[0m     \u001b[0;32mtry\u001b[0m\u001b[0;34m:\u001b[0m\u001b[0;34m\u001b[0m\u001b[0;34m\u001b[0m\u001b[0m\n\u001b[0;32m--> 114\u001b[0;31m         \u001b[0;32mreturn\u001b[0m \u001b[0mufunc\u001b[0m\u001b[0;34m(\u001b[0m\u001b[0;34m*\u001b[0m\u001b[0margs\u001b[0m\u001b[0;34m,\u001b[0m \u001b[0mout\u001b[0m\u001b[0;34m=\u001b[0m\u001b[0mout\u001b[0m\u001b[0;34m,\u001b[0m \u001b[0;34m**\u001b[0m\u001b[0mkwargs\u001b[0m\u001b[0;34m)\u001b[0m\u001b[0;34m\u001b[0m\u001b[0;34m\u001b[0m\u001b[0m\n\u001b[0m\u001b[1;32m    115\u001b[0m     \u001b[0;32mexcept\u001b[0m \u001b[0m_exceptions\u001b[0m\u001b[0;34m.\u001b[0m\u001b[0m_UFuncOutputCastingError\u001b[0m \u001b[0;32mas\u001b[0m \u001b[0me\u001b[0m\u001b[0;34m:\u001b[0m\u001b[0;34m\u001b[0m\u001b[0;34m\u001b[0m\u001b[0m\n\u001b[1;32m    116\u001b[0m         \u001b[0;31m# Numpy 1.17.0, 2019-02-24\u001b[0m\u001b[0;34m\u001b[0m\u001b[0;34m\u001b[0m\u001b[0m\n",
            "\u001b[0;31mKeyboardInterrupt\u001b[0m: "
          ]
        }
      ],
      "source": [
        "# Run KNN wiit RFEFeatureElimination and min-max scaler\n",
        "RunThePredictAlgorithm(questionToMode_df, 50, 'min-max', RFEFeatureElimination, KNN)"
      ]
    },
    {
      "cell_type": "code",
      "execution_count": 129,
      "metadata": {
        "id": "vj0RsPK-WQAR"
      },
      "outputs": [
        {
          "name": "stdout",
          "output_type": "stream",
          "text": [
            "Best accuracy is = 0.44662737393582186, with criterion = entropy max_depth = 5 metrics and fetaure len = 2\n",
            "Best accuracy is = 0.45841519318926, with criterion = gini max_depth = 5 metrics and fetaure len = 3\n",
            "Best accuracy is = 0.46496398166339226, with criterion = gini max_depth = 5 metrics and fetaure len = 4\n",
            "Best accuracy is = 0.47544204322200395, with criterion = gini max_depth = 5 metrics and fetaure len = 5\n",
            "Best accuracy is = 0.47871643745907005, with criterion = entropy max_depth = 10 metrics and fetaure len = 6\n",
            "Best accuracy is = 0.495743287491814, with criterion = gini max_depth = 10 metrics and fetaure len = 7\n",
            "Best accuracy is = 0.5055664702030125, with criterion = entropy max_depth = 10 metrics and fetaure len = 8\n",
            "Best accuracy is = 0.5284872298624754, with criterion = gini max_depth = 10 metrics and fetaure len = 9\n",
            "Best accuracy is = 0.5232481990831697, with criterion = gini max_depth = 10 metrics and fetaure len = 10\n",
            "Best accuracy is = 0.5245579567779961, with criterion = gini max_depth = 10 metrics and fetaure len = 11\n",
            "Best accuracy is = 0.5258677144728225, with criterion = gini max_depth = 10 metrics and fetaure len = 12\n",
            "Best accuracy is = 0.5330713817943681, with criterion = entropy max_depth = 15 metrics and fetaure len = 13\n",
            "Best accuracy is = 0.5363457760314342, with criterion = gini max_depth = 15 metrics and fetaure len = 14\n",
            "Best accuracy is = 0.5363457760314342, with criterion = gini max_depth = 10 metrics and fetaure len = 15\n",
            "Best accuracy is = 0.5239030779305829, with criterion = gini max_depth = 30 metrics and fetaure len = 16\n",
            "Best accuracy is = 0.5317616240995415, with criterion = entropy max_depth = 20 metrics and fetaure len = 16\n",
            "Best accuracy is = 0.5540275049115914, with criterion = entropy max_depth = 10 metrics and fetaure len = 17\n",
            "Best accuracy is = 0.5566470203012442, with criterion = gini max_depth = 30 metrics and fetaure len = 18\n",
            "Best accuracy is = 0.5566470203012442, with criterion = gini max_depth = 15 metrics and fetaure len = 19\n",
            "Best accuracy is = 0.550098231827112, with criterion = gini max_depth = 15 metrics and fetaure len = 20\n",
            "Best accuracy is = 0.5671250818598559, with criterion = gini max_depth = 15 metrics and fetaure len = 21\n",
            "Best accuracy is = 0.5743287491814014, with criterion = gini max_depth = 20 metrics and fetaure len = 22\n",
            "Best accuracy is = 0.573018991486575, with criterion = entropy max_depth = 10 metrics and fetaure len = 23\n",
            "Best accuracy is = 0.5625409299279633, with criterion = entropy max_depth = 15 metrics and fetaure len = 24\n",
            "Best accuracy is = 0.5834970530451866, with criterion = gini max_depth = 15 metrics and fetaure len = 25\n",
            "Best accuracy is = 0.5821872953503602, with criterion = gini max_depth = 15 metrics and fetaure len = 26\n",
            "Best accuracy is = 0.5618860510805501, with criterion = gini max_depth = 15 metrics and fetaure len = 27\n",
            "Best accuracy is = 0.587426326129666, with criterion = gini max_depth = 15 metrics and fetaure len = 28\n",
            "Best accuracy is = 0.5880812049770793, with criterion = entropy max_depth = 15 metrics and fetaure len = 29\n",
            "Best accuracy is = 0.5841519318925998, with criterion = gini max_depth = 40 metrics and fetaure len = 30\n",
            "Best accuracy is = 0.5848068107400131, with criterion = entropy max_depth = 15 metrics and fetaure len = 31\n",
            "Best accuracy is = 0.5789129011132941, with criterion = gini max_depth = 30 metrics and fetaure len = 32\n",
            "Best accuracy is = 0.5808775376555337, with criterion = gini max_depth = 20 metrics and fetaure len = 33\n",
            "Best accuracy is = 0.5795677799607073, with criterion = entropy max_depth = 10 metrics and fetaure len = 34\n",
            "Best accuracy is = 0.5841519318925998, with criterion = gini max_depth = 15 metrics and fetaure len = 35\n",
            "Best accuracy is = 0.5841519318925998, with criterion = entropy max_depth = 15 metrics and fetaure len = 36\n",
            "Best accuracy is = 0.6123117223313687, with criterion = gini max_depth = 15 metrics and fetaure len = 37\n",
            "Best accuracy is = 0.6057629338572365, with criterion = entropy max_depth = None metrics and fetaure len = 38\n",
            "Best accuracy is = 0.627373935821873, with criterion = gini max_depth = 15 metrics and fetaure len = 39\n",
            "Best accuracy is = 0.6096922069417158, with criterion = gini max_depth = 25 metrics and fetaure len = 40\n",
            "Best accuracy is = 0.6195153896529142, with criterion = gini max_depth = 15 metrics and fetaure len = 41\n",
            "Best accuracy is = 0.6254092992796333, with criterion = gini max_depth = 25 metrics and fetaure len = 42\n",
            "Best accuracy is = 0.6149312377210217, with criterion = entropy max_depth = 15 metrics and fetaure len = 43\n",
            "Best accuracy is = 0.6201702685003274, with criterion = gini max_depth = 15 metrics and fetaure len = 44\n",
            "Best accuracy is = 0.6240995415848068, with criterion = gini max_depth = 20 metrics and fetaure len = 45\n",
            "Best accuracy is = 0.6254092992796333, with criterion = gini max_depth = 20 metrics and fetaure len = 46\n",
            "Best accuracy is = 0.6260641781270465, with criterion = entropy max_depth = 35 metrics and fetaure len = 47\n",
            "Best accuracy is = 0.6247544204322201, with criterion = gini max_depth = 15 metrics and fetaure len = 48\n",
            "Best accuracy is = 0.6247544204322201, with criterion = gini max_depth = None metrics and fetaure len = 49\n",
            "Best accuracy is = 0.6254092992796333, with criterion = entropy max_depth = 40 metrics and fetaure len = 50\n",
            "Best accuracy is = 0.6260641781270465, with criterion = gini max_depth = 35 metrics and fetaure len = 51\n",
            "Best accuracy is = 0.6234446627373936, with criterion = gini max_depth = 20 metrics and fetaure len = 52\n",
            "Best accuracy is = 0.6195153896529142, with criterion = entropy max_depth = 20 metrics and fetaure len = 53\n",
            "Best accuracy is = 0.6260641781270465, with criterion = gini max_depth = 15 metrics and fetaure len = 54\n",
            "Best accuracy is = 0.6214800261951539, with criterion = gini max_depth = 35 metrics and fetaure len = 55\n",
            "Best accuracy is = 0.6227897838899804, with criterion = gini max_depth = 25 metrics and fetaure len = 56\n",
            "Best accuracy is = 0.6247544204322201, with criterion = gini max_depth = 25 metrics and fetaure len = 57\n",
            "Best accuracy is = 0.6260641781270465, with criterion = entropy max_depth = 15 metrics and fetaure len = 58\n",
            "Best accuracy is = 0.6286836935166994, with criterion = gini max_depth = 15 metrics and fetaure len = 59\n",
            "Best accuracy is = 0.6247544204322201, with criterion = gini max_depth = 15 metrics and fetaure len = 60\n",
            "Best accuracy is = 0.6234446627373936, with criterion = entropy max_depth = 45 metrics and fetaure len = 61\n",
            "Best accuracy is = 0.618860510805501, with criterion = gini max_depth = 40 metrics and fetaure len = 62\n",
            "Best accuracy is = 0.6299934512115258, with criterion = gini max_depth = 30 metrics and fetaure len = 63\n",
            "Best accuracy is = 0.6201702685003274, with criterion = gini max_depth = 20 metrics and fetaure len = 64\n",
            "Best accuracy is = 0.6240995415848068, with criterion = gini max_depth = 15 metrics and fetaure len = 65\n",
            "Best accuracy is = 0.6313032089063523, with criterion = gini max_depth = 25 metrics and fetaure len = 66\n",
            "Best accuracy is = 0.6267190569744597, with criterion = gini max_depth = 15 metrics and fetaure len = 67\n",
            "Best accuracy is = 0.6299934512115258, with criterion = entropy max_depth = 30 metrics and fetaure len = 68\n",
            "Best accuracy is = 0.6293385723641126, with criterion = entropy max_depth = 35 metrics and fetaure len = 69\n",
            "Best accuracy is = 0.627373935821873, with criterion = gini max_depth = 25 metrics and fetaure len = 70\n",
            "Best accuracy is = 0.630648330058939, with criterion = entropy max_depth = 15 metrics and fetaure len = 71\n",
            "Best accuracy is = 0.6339227242960053, with criterion = gini max_depth = 30 metrics and fetaure len = 72\n",
            "Best accuracy is = 0.6319580877537656, with criterion = gini max_depth = 20 metrics and fetaure len = 73\n",
            "Best accuracy is = 0.6319580877537656, with criterion = gini max_depth = 30 metrics and fetaure len = 74\n"
          ]
        }
      ],
      "source": [
        "# Run RandomForest wiit RFEFeatureElimination and min-max scaler\n",
        "#RunThePredictAlgorithm(questionToMode_df, 75, 'min-max', RFEFeatureElimination, RandomForest)\n",
        "\n",
        "# Run RandomForest wiit RFEFeatureElimination and robust scaler\n",
        "#RunThePredictAlgorithm(questionToMode_df, 75, 'robust', RFEFeatureElimination, RandomForest)\n",
        "\n",
        "# Run RandomForest wiit RFEFeatureElimination and standart scaler\n",
        "RunThePredictAlgorithm(questionToMode_df, 75, 'standart', RFEFeatureElimination, RandomForest)"
      ]
    },
    {
      "cell_type": "code",
      "execution_count": 114,
      "metadata": {},
      "outputs": [
        {
          "name": "stdout",
          "output_type": "stream",
          "text": [
            "Best accuracy is = 0.44662737393582186, with best_n_estimators = 100 learning_rate = 0.1 criterion = squared_error best_depth = 0 metrics and fetaure len = 2\n",
            "Best accuracy is = 0.46037982973149966, with best_n_estimators = 100 learning_rate = 0.1 criterion = squared_error best_depth = 0 metrics and fetaure len = 3\n",
            "Best accuracy is = 0.4911591355599214, with best_n_estimators = 150 learning_rate = 0.1 criterion = squared_error best_depth = 0 metrics and fetaure len = 4\n",
            "Best accuracy is = 0.4905042567125082, with best_n_estimators = 125 learning_rate = 0.1 criterion = squared_error best_depth = 0 metrics and fetaure len = 5\n",
            "Best accuracy is = 0.495743287491814, with best_n_estimators = 150 learning_rate = 0.1 criterion = squared_error best_depth = 0 metrics and fetaure len = 6\n",
            "Best accuracy is = 0.501637197118533, with best_n_estimators = 200 learning_rate = 0.1 criterion = squared_error best_depth = 0 metrics and fetaure len = 7\n",
            "Best accuracy is = 0.5127701375245579, with best_n_estimators = 175 learning_rate = 0.1 criterion = squared_error best_depth = 0 metrics and fetaure len = 8\n",
            "Best accuracy is = 0.5108055009823183, with best_n_estimators = 175 learning_rate = 0.1 criterion = squared_error best_depth = 0 metrics and fetaure len = 9\n",
            "Best accuracy is = 0.5068762278978389, with best_n_estimators = 200 learning_rate = 0.1 criterion = squared_error best_depth = 0 metrics and fetaure len = 10\n",
            "Best accuracy is = 0.5193189259986902, with best_n_estimators = 200 learning_rate = 0.1 criterion = squared_error best_depth = 0 metrics and fetaure len = 11\n"
          ]
        },
        {
          "ename": "KeyboardInterrupt",
          "evalue": "",
          "output_type": "error",
          "traceback": [
            "\u001b[1;31m---------------------------------------------------------------------------\u001b[0m",
            "\u001b[1;31mKeyboardInterrupt\u001b[0m                         Traceback (most recent call last)",
            "Input \u001b[1;32mIn [114]\u001b[0m, in \u001b[0;36m<cell line: 1>\u001b[1;34m()\u001b[0m\n\u001b[1;32m----> 1\u001b[0m \u001b[43mRunThePredictAlgorithm\u001b[49m\u001b[43m(\u001b[49m\u001b[43mquestionToMode_df\u001b[49m\u001b[43m,\u001b[49m\u001b[43m \u001b[49m\u001b[38;5;241;43m75\u001b[39;49m\u001b[43m,\u001b[49m\u001b[43m \u001b[49m\u001b[38;5;124;43m'\u001b[39;49m\u001b[38;5;124;43mmin-max\u001b[39;49m\u001b[38;5;124;43m'\u001b[39;49m\u001b[43m,\u001b[49m\u001b[43m \u001b[49m\u001b[43mRFEFeatureElimination\u001b[49m\u001b[43m,\u001b[49m\u001b[43m \u001b[49m\u001b[43mGradientBoosting\u001b[49m\u001b[43m)\u001b[49m\n",
            "Input \u001b[1;32mIn [47]\u001b[0m, in \u001b[0;36mRunThePredictAlgorithm\u001b[1;34m(df, max_feature, scaling_method, FeatureEliminationMethod, MLORDLAlgorithm)\u001b[0m\n\u001b[0;32m     18\u001b[0m     train_test_split_modified(df)\n\u001b[0;32m     20\u001b[0m \u001b[38;5;28;01mfor\u001b[39;00m i \u001b[38;5;129;01min\u001b[39;00m \u001b[38;5;28mrange\u001b[39m(\u001b[38;5;241m1\u001b[39m,max_feature):\n\u001b[1;32m---> 21\u001b[0m     feature_eliminated_df \u001b[38;5;241m=\u001b[39m \u001b[43mFeatureEliminationMethod\u001b[49m\u001b[43m(\u001b[49m\u001b[43mdf\u001b[49m\u001b[43m,\u001b[49m\u001b[43m \u001b[49m\u001b[43mX\u001b[49m\u001b[43m,\u001b[49m\u001b[43m \u001b[49m\u001b[43my\u001b[49m\u001b[43m,\u001b[49m\u001b[43m \u001b[49m\u001b[43mi\u001b[49m\u001b[43m)\u001b[49m\n\u001b[0;32m     22\u001b[0m     x_train, x_test, y_train, y_test \u001b[38;5;241m=\u001b[39m train_test_split_modified(feature_eliminated_df)\n\u001b[0;32m     23\u001b[0m     result \u001b[38;5;241m=\u001b[39m MLORDLAlgorithm(x_train, x_test, y_train, y_test)\n",
            "Input \u001b[1;32mIn [35]\u001b[0m, in \u001b[0;36mRFEFeatureElimination\u001b[1;34m(df, X, y, n_features_to_select, step)\u001b[0m\n\u001b[0;32m      7\u001b[0m estimator \u001b[38;5;241m=\u001b[39m tree\u001b[38;5;241m.\u001b[39mDecisionTreeClassifier()\n\u001b[0;32m      8\u001b[0m selector \u001b[38;5;241m=\u001b[39m RFE(estimator \u001b[38;5;241m=\u001b[39m estimator, n_features_to_select \u001b[38;5;241m=\u001b[39m n_features_to_select, step \u001b[38;5;241m=\u001b[39m \u001b[38;5;241m1\u001b[39m)\n\u001b[1;32m----> 9\u001b[0m selector \u001b[38;5;241m=\u001b[39m \u001b[43mselector\u001b[49m\u001b[38;5;241;43m.\u001b[39;49m\u001b[43mfit\u001b[49m\u001b[43m(\u001b[49m\u001b[43mX\u001b[49m\u001b[43m,\u001b[49m\u001b[43m \u001b[49m\u001b[43my\u001b[49m\u001b[43m)\u001b[49m\n\u001b[0;32m     11\u001b[0m \u001b[38;5;28;01mfor\u001b[39;00m i, value \u001b[38;5;129;01min\u001b[39;00m \u001b[38;5;28menumerate\u001b[39m(selector\u001b[38;5;241m.\u001b[39msupport_, start\u001b[38;5;241m=\u001b[39m\u001b[38;5;241m1\u001b[39m):\n\u001b[0;32m     12\u001b[0m     \u001b[38;5;66;03m#print(len(selector.support_))\u001b[39;00m\n\u001b[0;32m     13\u001b[0m     \u001b[38;5;66;03m#print(selector.ranking_)\u001b[39;00m\n\u001b[0;32m     14\u001b[0m     \u001b[38;5;28;01mif\u001b[39;00m(value \u001b[38;5;241m==\u001b[39m \u001b[38;5;28;01mFalse\u001b[39;00m) \u001b[38;5;129;01mand\u001b[39;00m rfe_df\u001b[38;5;241m.\u001b[39mcolumns[i] \u001b[38;5;241m!=\u001b[39m \u001b[38;5;124m'\u001b[39m\u001b[38;5;124mQ16\u001b[39m\u001b[38;5;124m'\u001b[39m:\n",
            "File \u001b[1;32mc:\\Users\\AMD\\AppData\\Local\\Programs\\Python\\Python310\\lib\\site-packages\\sklearn\\feature_selection\\_rfe.py:222\u001b[0m, in \u001b[0;36mRFE.fit\u001b[1;34m(self, X, y, **fit_params)\u001b[0m\n\u001b[0;32m    202\u001b[0m \u001b[38;5;28;01mdef\u001b[39;00m \u001b[38;5;21mfit\u001b[39m(\u001b[38;5;28mself\u001b[39m, X, y, \u001b[38;5;241m*\u001b[39m\u001b[38;5;241m*\u001b[39mfit_params):\n\u001b[0;32m    203\u001b[0m     \u001b[38;5;124;03m\"\"\"Fit the RFE model and then the underlying estimator on the selected features.\u001b[39;00m\n\u001b[0;32m    204\u001b[0m \n\u001b[0;32m    205\u001b[0m \u001b[38;5;124;03m    Parameters\u001b[39;00m\n\u001b[1;32m   (...)\u001b[0m\n\u001b[0;32m    220\u001b[0m \u001b[38;5;124;03m        Fitted estimator.\u001b[39;00m\n\u001b[0;32m    221\u001b[0m \u001b[38;5;124;03m    \"\"\"\u001b[39;00m\n\u001b[1;32m--> 222\u001b[0m     \u001b[38;5;28;01mreturn\u001b[39;00m \u001b[38;5;28mself\u001b[39m\u001b[38;5;241m.\u001b[39m_fit(X, y, \u001b[38;5;241m*\u001b[39m\u001b[38;5;241m*\u001b[39mfit_params)\n",
            "File \u001b[1;32mc:\\Users\\AMD\\AppData\\Local\\Programs\\Python\\Python310\\lib\\site-packages\\sklearn\\feature_selection\\_rfe.py:283\u001b[0m, in \u001b[0;36mRFE._fit\u001b[1;34m(self, X, y, step_score, **fit_params)\u001b[0m\n\u001b[0;32m    280\u001b[0m \u001b[38;5;28;01mif\u001b[39;00m \u001b[38;5;28mself\u001b[39m\u001b[38;5;241m.\u001b[39mverbose \u001b[38;5;241m>\u001b[39m \u001b[38;5;241m0\u001b[39m:\n\u001b[0;32m    281\u001b[0m     \u001b[38;5;28mprint\u001b[39m(\u001b[38;5;124m\"\u001b[39m\u001b[38;5;124mFitting estimator with \u001b[39m\u001b[38;5;132;01m%d\u001b[39;00m\u001b[38;5;124m features.\u001b[39m\u001b[38;5;124m\"\u001b[39m \u001b[38;5;241m%\u001b[39m np\u001b[38;5;241m.\u001b[39msum(support_))\n\u001b[1;32m--> 283\u001b[0m estimator\u001b[38;5;241m.\u001b[39mfit(X[:, features], y, \u001b[38;5;241m*\u001b[39m\u001b[38;5;241m*\u001b[39mfit_params)\n\u001b[0;32m    285\u001b[0m \u001b[38;5;66;03m# Get importance and rank them\u001b[39;00m\n\u001b[0;32m    286\u001b[0m importances \u001b[38;5;241m=\u001b[39m _get_feature_importances(\n\u001b[0;32m    287\u001b[0m     estimator,\n\u001b[0;32m    288\u001b[0m     \u001b[38;5;28mself\u001b[39m\u001b[38;5;241m.\u001b[39mimportance_getter,\n\u001b[0;32m    289\u001b[0m     transform_func\u001b[38;5;241m=\u001b[39m\u001b[38;5;124m\"\u001b[39m\u001b[38;5;124msquare\u001b[39m\u001b[38;5;124m\"\u001b[39m,\n\u001b[0;32m    290\u001b[0m )\n",
            "File \u001b[1;32mc:\\Users\\AMD\\AppData\\Local\\Programs\\Python\\Python310\\lib\\site-packages\\sklearn\\tree\\_classes.py:937\u001b[0m, in \u001b[0;36mDecisionTreeClassifier.fit\u001b[1;34m(self, X, y, sample_weight, check_input, X_idx_sorted)\u001b[0m\n\u001b[0;32m    899\u001b[0m \u001b[38;5;28;01mdef\u001b[39;00m \u001b[38;5;21mfit\u001b[39m(\n\u001b[0;32m    900\u001b[0m     \u001b[38;5;28mself\u001b[39m, X, y, sample_weight\u001b[38;5;241m=\u001b[39m\u001b[38;5;28;01mNone\u001b[39;00m, check_input\u001b[38;5;241m=\u001b[39m\u001b[38;5;28;01mTrue\u001b[39;00m, X_idx_sorted\u001b[38;5;241m=\u001b[39m\u001b[38;5;124m\"\u001b[39m\u001b[38;5;124mdeprecated\u001b[39m\u001b[38;5;124m\"\u001b[39m\n\u001b[0;32m    901\u001b[0m ):\n\u001b[0;32m    902\u001b[0m     \u001b[38;5;124;03m\"\"\"Build a decision tree classifier from the training set (X, y).\u001b[39;00m\n\u001b[0;32m    903\u001b[0m \n\u001b[0;32m    904\u001b[0m \u001b[38;5;124;03m    Parameters\u001b[39;00m\n\u001b[1;32m   (...)\u001b[0m\n\u001b[0;32m    934\u001b[0m \u001b[38;5;124;03m        Fitted estimator.\u001b[39;00m\n\u001b[0;32m    935\u001b[0m \u001b[38;5;124;03m    \"\"\"\u001b[39;00m\n\u001b[1;32m--> 937\u001b[0m     \u001b[38;5;28;43msuper\u001b[39;49m\u001b[43m(\u001b[49m\u001b[43m)\u001b[49m\u001b[38;5;241;43m.\u001b[39;49m\u001b[43mfit\u001b[49m\u001b[43m(\u001b[49m\n\u001b[0;32m    938\u001b[0m \u001b[43m        \u001b[49m\u001b[43mX\u001b[49m\u001b[43m,\u001b[49m\n\u001b[0;32m    939\u001b[0m \u001b[43m        \u001b[49m\u001b[43my\u001b[49m\u001b[43m,\u001b[49m\n\u001b[0;32m    940\u001b[0m \u001b[43m        \u001b[49m\u001b[43msample_weight\u001b[49m\u001b[38;5;241;43m=\u001b[39;49m\u001b[43msample_weight\u001b[49m\u001b[43m,\u001b[49m\n\u001b[0;32m    941\u001b[0m \u001b[43m        \u001b[49m\u001b[43mcheck_input\u001b[49m\u001b[38;5;241;43m=\u001b[39;49m\u001b[43mcheck_input\u001b[49m\u001b[43m,\u001b[49m\n\u001b[0;32m    942\u001b[0m \u001b[43m        \u001b[49m\u001b[43mX_idx_sorted\u001b[49m\u001b[38;5;241;43m=\u001b[39;49m\u001b[43mX_idx_sorted\u001b[49m\u001b[43m,\u001b[49m\n\u001b[0;32m    943\u001b[0m \u001b[43m    \u001b[49m\u001b[43m)\u001b[49m\n\u001b[0;32m    944\u001b[0m     \u001b[38;5;28;01mreturn\u001b[39;00m \u001b[38;5;28mself\u001b[39m\n",
            "File \u001b[1;32mc:\\Users\\AMD\\AppData\\Local\\Programs\\Python\\Python310\\lib\\site-packages\\sklearn\\tree\\_classes.py:420\u001b[0m, in \u001b[0;36mBaseDecisionTree.fit\u001b[1;34m(self, X, y, sample_weight, check_input, X_idx_sorted)\u001b[0m\n\u001b[0;32m    409\u001b[0m \u001b[38;5;28;01melse\u001b[39;00m:\n\u001b[0;32m    410\u001b[0m     builder \u001b[38;5;241m=\u001b[39m BestFirstTreeBuilder(\n\u001b[0;32m    411\u001b[0m         splitter,\n\u001b[0;32m    412\u001b[0m         min_samples_split,\n\u001b[1;32m   (...)\u001b[0m\n\u001b[0;32m    417\u001b[0m         \u001b[38;5;28mself\u001b[39m\u001b[38;5;241m.\u001b[39mmin_impurity_decrease,\n\u001b[0;32m    418\u001b[0m     )\n\u001b[1;32m--> 420\u001b[0m \u001b[43mbuilder\u001b[49m\u001b[38;5;241;43m.\u001b[39;49m\u001b[43mbuild\u001b[49m\u001b[43m(\u001b[49m\u001b[38;5;28;43mself\u001b[39;49m\u001b[38;5;241;43m.\u001b[39;49m\u001b[43mtree_\u001b[49m\u001b[43m,\u001b[49m\u001b[43m \u001b[49m\u001b[43mX\u001b[49m\u001b[43m,\u001b[49m\u001b[43m \u001b[49m\u001b[43my\u001b[49m\u001b[43m,\u001b[49m\u001b[43m \u001b[49m\u001b[43msample_weight\u001b[49m\u001b[43m)\u001b[49m\n\u001b[0;32m    422\u001b[0m \u001b[38;5;28;01mif\u001b[39;00m \u001b[38;5;28mself\u001b[39m\u001b[38;5;241m.\u001b[39mn_outputs_ \u001b[38;5;241m==\u001b[39m \u001b[38;5;241m1\u001b[39m \u001b[38;5;129;01mand\u001b[39;00m is_classifier(\u001b[38;5;28mself\u001b[39m):\n\u001b[0;32m    423\u001b[0m     \u001b[38;5;28mself\u001b[39m\u001b[38;5;241m.\u001b[39mn_classes_ \u001b[38;5;241m=\u001b[39m \u001b[38;5;28mself\u001b[39m\u001b[38;5;241m.\u001b[39mn_classes_[\u001b[38;5;241m0\u001b[39m]\n",
            "\u001b[1;31mKeyboardInterrupt\u001b[0m: "
          ]
        }
      ],
      "source": [
        "# Run GradientBoosting wiit RFEFeatureElimination and min-max scaler\n",
        "RunThePredictAlgorithm(questionToMode_df, 75, 'min-max', RFEFeatureElimination, GradientBoosting)"
      ]
    },
    {
      "cell_type": "code",
      "execution_count": null,
      "metadata": {
        "colab": {
          "base_uri": "https://localhost:8080/"
        },
        "id": "f7ecTlkxZdmV",
        "outputId": "7c978046-42f6-4a2a-a80a-8cd09353f7ef"
      },
      "outputs": [
        {
          "name": "stdout",
          "output_type": "stream",
          "text": [
            "Best accuracy is = 0.44597249508840864, with function = rbf\n",
            "Best accuracy is = 0.44597249508840864, with function = rbf\n",
            "Best accuracy is = 0.44597249508840864, with function = rbf\n",
            "Best accuracy is = 0.44597249508840864, with function = rbf\n",
            "Best accuracy is = 0.44597249508840864, with function = rbf\n",
            "Best accuracy is = 0.44597249508840864, with function = rbf\n",
            "Best accuracy is = 0.44597249508840864, with function = rbf\n",
            "Best accuracy is = 0.44597249508840864, with function = rbf\n",
            "Best accuracy is = 0.44597249508840864, with function = rbf\n",
            "Best accuracy is = 0.44597249508840864, with function = rbf\n",
            "Best accuracy is = 0.44597249508840864, with function = rbf\n",
            "Best accuracy is = 0.44597249508840864, with function = rbf\n",
            "Best accuracy is = 0.44597249508840864, with function = rbf\n",
            "Best accuracy is = 0.44597249508840864, with function = rbf\n",
            "Best accuracy is = 0.44597249508840864, with function = rbf\n",
            "Best accuracy is = 0.44597249508840864, with function = rbf\n",
            "Best accuracy is = 0.44597249508840864, with function = rbf\n",
            "Best accuracy is = 0.44597249508840864, with function = rbf\n",
            "Best accuracy is = 0.44597249508840864, with function = rbf\n",
            "Best accuracy is = 0.44597249508840864, with function = rbf\n",
            "Best accuracy is = 0.44597249508840864, with function = rbf\n",
            "Best accuracy is = 0.44597249508840864, with function = rbf\n",
            "Best accuracy is = 0.44597249508840864, with function = rbf\n",
            "Best accuracy is = 0.44597249508840864, with function = rbf\n"
          ]
        }
      ],
      "source": [
        "# Run NonlinearSVM wiit RFEFeatureElimination and min-max scaler\n",
        "RunThePredictAlgorithm(questionToMode_df, 25, 'min-max', RFEFeatureElimination, NonlinearSVM)"
      ]
    },
    {
      "cell_type": "code",
      "execution_count": null,
      "metadata": {
        "colab": {
          "base_uri": "https://localhost:8080/"
        },
        "id": "2rbbBWrndTBr",
        "outputId": "5550edf0-256d-448b-e421-7705705a3b10"
      },
      "outputs": [
        {
          "name": "stdout",
          "output_type": "stream",
          "text": [
            "aplha 0.2\n",
            "aplha 0.3\n",
            "aplha 0.5\n",
            "Best accuracy is = 0.44597249508840864, with alpha = 0.2\n",
            "aplha 0.2\n",
            "aplha 0.3\n",
            "aplha 0.5\n",
            "Best accuracy is = 0.46037982973149966, with alpha = 0.2\n",
            "aplha 0.2\n",
            "aplha 0.3\n",
            "aplha 0.5\n",
            "Best accuracy is = 0.4544859201047806, with alpha = 0.5\n",
            "aplha 0.2\n",
            "aplha 0.3\n",
            "aplha 0.5\n",
            "Best accuracy is = 0.4538310412573674, with alpha = 0.2\n",
            "aplha 0.2\n",
            "aplha 0.3\n",
            "aplha 0.5\n",
            "Best accuracy is = 0.44138834315651604, with alpha = 0.2\n",
            "aplha 0.2\n",
            "aplha 0.3\n",
            "aplha 0.5\n",
            "Best accuracy is = 0.4348395546823838, with alpha = 0.2\n",
            "aplha 0.2\n",
            "aplha 0.3\n",
            "aplha 0.5\n",
            "Best accuracy is = 0.42763588736083824, with alpha = 0.2\n",
            "aplha 0.2\n",
            "aplha 0.3\n",
            "aplha 0.5\n",
            "Best accuracy is = 0.42763588736083824, with alpha = 0.2\n",
            "aplha 0.2\n",
            "aplha 0.3\n",
            "aplha 0.5\n",
            "Best accuracy is = 0.421087098886706, with alpha = 0.2\n"
          ]
        }
      ],
      "source": [
        "# Run MultinomialNaiveBayes wiit RFEFeatureElimination and min-max scaler\n",
        "RunThePredictAlgorithm(questionToMode_df, 10, 'min-max', RFEFeatureElimination, MultinomialNaiveBayes)"
      ]
    },
    {
      "cell_type": "code",
      "execution_count": null,
      "metadata": {
        "colab": {
          "base_uri": "https://localhost:8080/"
        },
        "id": "WBVboFt4h3T9",
        "outputId": "586508f6-060b-44e9-deeb-dc1ed0e5ef94"
      },
      "outputs": [
        {
          "name": "stdout",
          "output_type": "stream",
          "text": [
            "Best accuracy is = 0.44138834315651604, with max_depth = 5\n",
            "Best accuracy is = 0.4518664047151277, with max_depth = 5\n",
            "Best accuracy is = 0.4977079240340537, with max_depth = 5\n",
            "Best accuracy is = 0.4977079240340537, with max_depth = 5\n",
            "Best accuracy is = 0.5009823182711198, with max_depth = 5\n",
            "Best accuracy is = 0.49836280288146695, with max_depth = 5\n",
            "Best accuracy is = 0.49181401440733463, with max_depth = 5\n",
            "Best accuracy is = 0.4905042567125082, with max_depth = 5\n",
            "Best accuracy is = 0.49246889325474785, with max_depth = 5\n",
            "Best accuracy is = 0.4950884086444008, with max_depth = 5\n",
            "Best accuracy is = 0.4911591355599214, with max_depth = 5\n",
            "Best accuracy is = 0.5389652914210871, with max_depth = 5\n",
            "Best accuracy is = 0.5330713817943681, with max_depth = 5\n",
            "Best accuracy is = 0.47544204322200395, with max_depth = 5\n",
            "Best accuracy is = 0.5317616240995415, with max_depth = 5\n",
            "Best accuracy is = 0.5317616240995415, with max_depth = 5\n",
            "Best accuracy is = 0.4767518009168304, with max_depth = 10\n",
            "Best accuracy is = 0.47806155861165683, with max_depth = 5\n",
            "Best accuracy is = 0.5094957432874918, with max_depth = 5\n",
            "Best accuracy is = 0.5415848068107401, with max_depth = 5\n",
            "Best accuracy is = 0.547478716437459, with max_depth = 5\n",
            "Best accuracy is = 0.550098231827112, with max_depth = 5\n",
            "Best accuracy is = 0.5468238375900458, with max_depth = 5\n",
            "Best accuracy is = 0.5658153241650294, with max_depth = 5\n"
          ]
        }
      ],
      "source": [
        "# Run DecisionTree wiit RFEFeatureElimination and min-max scaler\n",
        "RunThePredictAlgorithm(questionToMode_df, 25, 'min-max', RFEFeatureElimination, DecisionTree)"
      ]
    },
    {
      "cell_type": "code",
      "execution_count": null,
      "metadata": {
        "colab": {
          "base_uri": "https://localhost:8080/"
        },
        "id": "KhdrIdHlmO0E",
        "outputId": "f59052bc-8f91-40f2-f15a-f821e4b7f06e"
      },
      "outputs": [
        {
          "name": "stderr",
          "output_type": "stream",
          "text": [
            "/usr/local/lib/python3.10/dist-packages/sklearn/ensemble/_base.py:166: FutureWarning: `base_estimator` was renamed to `estimator` in version 1.2 and will be removed in 1.4.\n",
            "  warnings.warn(\n",
            "/usr/local/lib/python3.10/dist-packages/sklearn/ensemble/_base.py:166: FutureWarning: `base_estimator` was renamed to `estimator` in version 1.2 and will be removed in 1.4.\n",
            "  warnings.warn(\n",
            "/usr/local/lib/python3.10/dist-packages/sklearn/ensemble/_base.py:166: FutureWarning: `base_estimator` was renamed to `estimator` in version 1.2 and will be removed in 1.4.\n",
            "  warnings.warn(\n"
          ]
        },
        {
          "name": "stdout",
          "output_type": "stream",
          "text": [
            "Best accuracy is = 0.44597249508840864, with max_depth = 1\n",
            "Best accuracy is = 0.44597249508840864, with max_depth = 1\n",
            "Best accuracy is = 0.44597249508840864, with max_depth = 1\n"
          ]
        },
        {
          "name": "stderr",
          "output_type": "stream",
          "text": [
            "/usr/local/lib/python3.10/dist-packages/sklearn/ensemble/_base.py:166: FutureWarning: `base_estimator` was renamed to `estimator` in version 1.2 and will be removed in 1.4.\n",
            "  warnings.warn(\n",
            "/usr/local/lib/python3.10/dist-packages/sklearn/ensemble/_base.py:166: FutureWarning: `base_estimator` was renamed to `estimator` in version 1.2 and will be removed in 1.4.\n",
            "  warnings.warn(\n",
            "/usr/local/lib/python3.10/dist-packages/sklearn/ensemble/_base.py:166: FutureWarning: `base_estimator` was renamed to `estimator` in version 1.2 and will be removed in 1.4.\n",
            "  warnings.warn(\n"
          ]
        },
        {
          "name": "stdout",
          "output_type": "stream",
          "text": [
            "Best accuracy is = 0.45972495088408644, with max_depth = 1\n",
            "Best accuracy is = 0.45972495088408644, with max_depth = 1\n",
            "Best accuracy is = 0.45972495088408644, with max_depth = 1\n"
          ]
        },
        {
          "name": "stderr",
          "output_type": "stream",
          "text": [
            "/usr/local/lib/python3.10/dist-packages/sklearn/ensemble/_base.py:166: FutureWarning: `base_estimator` was renamed to `estimator` in version 1.2 and will be removed in 1.4.\n",
            "  warnings.warn(\n",
            "/usr/local/lib/python3.10/dist-packages/sklearn/ensemble/_base.py:166: FutureWarning: `base_estimator` was renamed to `estimator` in version 1.2 and will be removed in 1.4.\n",
            "  warnings.warn(\n",
            "/usr/local/lib/python3.10/dist-packages/sklearn/ensemble/_base.py:166: FutureWarning: `base_estimator` was renamed to `estimator` in version 1.2 and will be removed in 1.4.\n",
            "  warnings.warn(\n"
          ]
        },
        {
          "name": "stdout",
          "output_type": "stream",
          "text": [
            "Best accuracy is = 0.47871643745907005, with max_depth = 1\n",
            "Best accuracy is = 0.495743287491814, with max_depth = 3\n",
            "Best accuracy is = 0.495743287491814, with max_depth = 3\n"
          ]
        },
        {
          "name": "stderr",
          "output_type": "stream",
          "text": [
            "/usr/local/lib/python3.10/dist-packages/sklearn/ensemble/_base.py:166: FutureWarning: `base_estimator` was renamed to `estimator` in version 1.2 and will be removed in 1.4.\n",
            "  warnings.warn(\n",
            "/usr/local/lib/python3.10/dist-packages/sklearn/ensemble/_base.py:166: FutureWarning: `base_estimator` was renamed to `estimator` in version 1.2 and will be removed in 1.4.\n",
            "  warnings.warn(\n",
            "/usr/local/lib/python3.10/dist-packages/sklearn/ensemble/_base.py:166: FutureWarning: `base_estimator` was renamed to `estimator` in version 1.2 and will be removed in 1.4.\n",
            "  warnings.warn(\n"
          ]
        },
        {
          "name": "stdout",
          "output_type": "stream",
          "text": [
            "Best accuracy is = 0.47871643745907005, with max_depth = 1\n",
            "Best accuracy is = 0.49443352979698757, with max_depth = 3\n",
            "Best accuracy is = 0.49443352979698757, with max_depth = 3\n"
          ]
        },
        {
          "name": "stderr",
          "output_type": "stream",
          "text": [
            "/usr/local/lib/python3.10/dist-packages/sklearn/ensemble/_base.py:166: FutureWarning: `base_estimator` was renamed to `estimator` in version 1.2 and will be removed in 1.4.\n",
            "  warnings.warn(\n",
            "/usr/local/lib/python3.10/dist-packages/sklearn/ensemble/_base.py:166: FutureWarning: `base_estimator` was renamed to `estimator` in version 1.2 and will be removed in 1.4.\n",
            "  warnings.warn(\n",
            "/usr/local/lib/python3.10/dist-packages/sklearn/ensemble/_base.py:166: FutureWarning: `base_estimator` was renamed to `estimator` in version 1.2 and will be removed in 1.4.\n",
            "  warnings.warn(\n"
          ]
        },
        {
          "name": "stdout",
          "output_type": "stream",
          "text": [
            "Best accuracy is = 0.4793713163064833, with max_depth = 1\n",
            "Best accuracy is = 0.48526522593320237, with max_depth = 3\n",
            "Best accuracy is = 0.48526522593320237, with max_depth = 3\n"
          ]
        },
        {
          "name": "stderr",
          "output_type": "stream",
          "text": [
            "/usr/local/lib/python3.10/dist-packages/sklearn/ensemble/_base.py:166: FutureWarning: `base_estimator` was renamed to `estimator` in version 1.2 and will be removed in 1.4.\n",
            "  warnings.warn(\n",
            "/usr/local/lib/python3.10/dist-packages/sklearn/ensemble/_base.py:166: FutureWarning: `base_estimator` was renamed to `estimator` in version 1.2 and will be removed in 1.4.\n",
            "  warnings.warn(\n",
            "/usr/local/lib/python3.10/dist-packages/sklearn/ensemble/_base.py:166: FutureWarning: `base_estimator` was renamed to `estimator` in version 1.2 and will be removed in 1.4.\n",
            "  warnings.warn(\n"
          ]
        },
        {
          "name": "stdout",
          "output_type": "stream",
          "text": [
            "Best accuracy is = 0.49181401440733463, with max_depth = 1\n",
            "Best accuracy is = 0.49181401440733463, with max_depth = 1\n",
            "Best accuracy is = 0.49181401440733463, with max_depth = 1\n"
          ]
        },
        {
          "name": "stderr",
          "output_type": "stream",
          "text": [
            "/usr/local/lib/python3.10/dist-packages/sklearn/ensemble/_base.py:166: FutureWarning: `base_estimator` was renamed to `estimator` in version 1.2 and will be removed in 1.4.\n",
            "  warnings.warn(\n",
            "/usr/local/lib/python3.10/dist-packages/sklearn/ensemble/_base.py:166: FutureWarning: `base_estimator` was renamed to `estimator` in version 1.2 and will be removed in 1.4.\n",
            "  warnings.warn(\n",
            "/usr/local/lib/python3.10/dist-packages/sklearn/ensemble/_base.py:166: FutureWarning: `base_estimator` was renamed to `estimator` in version 1.2 and will be removed in 1.4.\n",
            "  warnings.warn(\n"
          ]
        },
        {
          "name": "stdout",
          "output_type": "stream",
          "text": [
            "Best accuracy is = 0.4865749836280288, with max_depth = 1\n",
            "Best accuracy is = 0.495743287491814, with max_depth = 3\n",
            "Best accuracy is = 0.495743287491814, with max_depth = 3\n"
          ]
        },
        {
          "name": "stderr",
          "output_type": "stream",
          "text": [
            "/usr/local/lib/python3.10/dist-packages/sklearn/ensemble/_base.py:166: FutureWarning: `base_estimator` was renamed to `estimator` in version 1.2 and will be removed in 1.4.\n",
            "  warnings.warn(\n",
            "/usr/local/lib/python3.10/dist-packages/sklearn/ensemble/_base.py:166: FutureWarning: `base_estimator` was renamed to `estimator` in version 1.2 and will be removed in 1.4.\n",
            "  warnings.warn(\n",
            "/usr/local/lib/python3.10/dist-packages/sklearn/ensemble/_base.py:166: FutureWarning: `base_estimator` was renamed to `estimator` in version 1.2 and will be removed in 1.4.\n",
            "  warnings.warn(\n"
          ]
        },
        {
          "name": "stdout",
          "output_type": "stream",
          "text": [
            "Best accuracy is = 0.4977079240340537, with max_depth = 1\n",
            "Best accuracy is = 0.5036018336607727, with max_depth = 3\n",
            "Best accuracy is = 0.5036018336607727, with max_depth = 3\n"
          ]
        },
        {
          "name": "stderr",
          "output_type": "stream",
          "text": [
            "/usr/local/lib/python3.10/dist-packages/sklearn/ensemble/_base.py:166: FutureWarning: `base_estimator` was renamed to `estimator` in version 1.2 and will be removed in 1.4.\n",
            "  warnings.warn(\n",
            "/usr/local/lib/python3.10/dist-packages/sklearn/ensemble/_base.py:166: FutureWarning: `base_estimator` was renamed to `estimator` in version 1.2 and will be removed in 1.4.\n",
            "  warnings.warn(\n",
            "/usr/local/lib/python3.10/dist-packages/sklearn/ensemble/_base.py:166: FutureWarning: `base_estimator` was renamed to `estimator` in version 1.2 and will be removed in 1.4.\n",
            "  warnings.warn(\n"
          ]
        },
        {
          "name": "stdout",
          "output_type": "stream",
          "text": [
            "Best accuracy is = 0.4977079240340537, with max_depth = 1\n",
            "Best accuracy is = 0.5042567125081859, with max_depth = 3\n",
            "Best accuracy is = 0.5042567125081859, with max_depth = 3\n"
          ]
        },
        {
          "name": "stderr",
          "output_type": "stream",
          "text": [
            "/usr/local/lib/python3.10/dist-packages/sklearn/ensemble/_base.py:166: FutureWarning: `base_estimator` was renamed to `estimator` in version 1.2 and will be removed in 1.4.\n",
            "  warnings.warn(\n",
            "/usr/local/lib/python3.10/dist-packages/sklearn/ensemble/_base.py:166: FutureWarning: `base_estimator` was renamed to `estimator` in version 1.2 and will be removed in 1.4.\n",
            "  warnings.warn(\n",
            "/usr/local/lib/python3.10/dist-packages/sklearn/ensemble/_base.py:166: FutureWarning: `base_estimator` was renamed to `estimator` in version 1.2 and will be removed in 1.4.\n",
            "  warnings.warn(\n"
          ]
        },
        {
          "name": "stdout",
          "output_type": "stream",
          "text": [
            "Best accuracy is = 0.5153896529142109, with max_depth = 1\n",
            "Best accuracy is = 0.5258677144728225, with max_depth = 3\n",
            "Best accuracy is = 0.5258677144728225, with max_depth = 3\n"
          ]
        },
        {
          "name": "stderr",
          "output_type": "stream",
          "text": [
            "/usr/local/lib/python3.10/dist-packages/sklearn/ensemble/_base.py:166: FutureWarning: `base_estimator` was renamed to `estimator` in version 1.2 and will be removed in 1.4.\n",
            "  warnings.warn(\n",
            "/usr/local/lib/python3.10/dist-packages/sklearn/ensemble/_base.py:166: FutureWarning: `base_estimator` was renamed to `estimator` in version 1.2 and will be removed in 1.4.\n",
            "  warnings.warn(\n",
            "/usr/local/lib/python3.10/dist-packages/sklearn/ensemble/_base.py:166: FutureWarning: `base_estimator` was renamed to `estimator` in version 1.2 and will be removed in 1.4.\n",
            "  warnings.warn(\n"
          ]
        },
        {
          "name": "stdout",
          "output_type": "stream",
          "text": [
            "Best accuracy is = 0.4793713163064833, with max_depth = 1\n",
            "Best accuracy is = 0.5160445317616241, with max_depth = 3\n",
            "Best accuracy is = 0.5160445317616241, with max_depth = 3\n"
          ]
        },
        {
          "name": "stderr",
          "output_type": "stream",
          "text": [
            "/usr/local/lib/python3.10/dist-packages/sklearn/ensemble/_base.py:166: FutureWarning: `base_estimator` was renamed to `estimator` in version 1.2 and will be removed in 1.4.\n",
            "  warnings.warn(\n",
            "/usr/local/lib/python3.10/dist-packages/sklearn/ensemble/_base.py:166: FutureWarning: `base_estimator` was renamed to `estimator` in version 1.2 and will be removed in 1.4.\n",
            "  warnings.warn(\n",
            "/usr/local/lib/python3.10/dist-packages/sklearn/ensemble/_base.py:166: FutureWarning: `base_estimator` was renamed to `estimator` in version 1.2 and will be removed in 1.4.\n",
            "  warnings.warn(\n"
          ]
        },
        {
          "name": "stdout",
          "output_type": "stream",
          "text": [
            "Best accuracy is = 0.4793713163064833, with max_depth = 1\n",
            "Best accuracy is = 0.4977079240340537, with max_depth = 3\n",
            "Best accuracy is = 0.4977079240340537, with max_depth = 3\n"
          ]
        },
        {
          "name": "stderr",
          "output_type": "stream",
          "text": [
            "/usr/local/lib/python3.10/dist-packages/sklearn/ensemble/_base.py:166: FutureWarning: `base_estimator` was renamed to `estimator` in version 1.2 and will be removed in 1.4.\n",
            "  warnings.warn(\n",
            "/usr/local/lib/python3.10/dist-packages/sklearn/ensemble/_base.py:166: FutureWarning: `base_estimator` was renamed to `estimator` in version 1.2 and will be removed in 1.4.\n",
            "  warnings.warn(\n",
            "/usr/local/lib/python3.10/dist-packages/sklearn/ensemble/_base.py:166: FutureWarning: `base_estimator` was renamed to `estimator` in version 1.2 and will be removed in 1.4.\n",
            "  warnings.warn(\n"
          ]
        },
        {
          "name": "stdout",
          "output_type": "stream",
          "text": [
            "Best accuracy is = 0.4793713163064833, with max_depth = 1\n",
            "Best accuracy is = 0.5055664702030125, with max_depth = 3\n",
            "Best accuracy is = 0.5055664702030125, with max_depth = 3\n"
          ]
        },
        {
          "name": "stderr",
          "output_type": "stream",
          "text": [
            "/usr/local/lib/python3.10/dist-packages/sklearn/ensemble/_base.py:166: FutureWarning: `base_estimator` was renamed to `estimator` in version 1.2 and will be removed in 1.4.\n",
            "  warnings.warn(\n",
            "/usr/local/lib/python3.10/dist-packages/sklearn/ensemble/_base.py:166: FutureWarning: `base_estimator` was renamed to `estimator` in version 1.2 and will be removed in 1.4.\n",
            "  warnings.warn(\n",
            "/usr/local/lib/python3.10/dist-packages/sklearn/ensemble/_base.py:166: FutureWarning: `base_estimator` was renamed to `estimator` in version 1.2 and will be removed in 1.4.\n",
            "  warnings.warn(\n"
          ]
        },
        {
          "name": "stdout",
          "output_type": "stream",
          "text": [
            "Best accuracy is = 0.4839554682383759, with max_depth = 1\n",
            "Best accuracy is = 0.5009823182711198, with max_depth = 3\n",
            "Best accuracy is = 0.5009823182711198, with max_depth = 3\n"
          ]
        },
        {
          "name": "stderr",
          "output_type": "stream",
          "text": [
            "/usr/local/lib/python3.10/dist-packages/sklearn/ensemble/_base.py:166: FutureWarning: `base_estimator` was renamed to `estimator` in version 1.2 and will be removed in 1.4.\n",
            "  warnings.warn(\n",
            "/usr/local/lib/python3.10/dist-packages/sklearn/ensemble/_base.py:166: FutureWarning: `base_estimator` was renamed to `estimator` in version 1.2 and will be removed in 1.4.\n",
            "  warnings.warn(\n",
            "/usr/local/lib/python3.10/dist-packages/sklearn/ensemble/_base.py:166: FutureWarning: `base_estimator` was renamed to `estimator` in version 1.2 and will be removed in 1.4.\n",
            "  warnings.warn(\n"
          ]
        },
        {
          "name": "stdout",
          "output_type": "stream",
          "text": [
            "Best accuracy is = 0.4793713163064833, with max_depth = 1\n",
            "Best accuracy is = 0.5134250163719711, with max_depth = 3\n",
            "Best accuracy is = 0.5134250163719711, with max_depth = 3\n"
          ]
        },
        {
          "name": "stderr",
          "output_type": "stream",
          "text": [
            "/usr/local/lib/python3.10/dist-packages/sklearn/ensemble/_base.py:166: FutureWarning: `base_estimator` was renamed to `estimator` in version 1.2 and will be removed in 1.4.\n",
            "  warnings.warn(\n",
            "/usr/local/lib/python3.10/dist-packages/sklearn/ensemble/_base.py:166: FutureWarning: `base_estimator` was renamed to `estimator` in version 1.2 and will be removed in 1.4.\n",
            "  warnings.warn(\n",
            "/usr/local/lib/python3.10/dist-packages/sklearn/ensemble/_base.py:166: FutureWarning: `base_estimator` was renamed to `estimator` in version 1.2 and will be removed in 1.4.\n",
            "  warnings.warn(\n"
          ]
        },
        {
          "name": "stdout",
          "output_type": "stream",
          "text": [
            "Best accuracy is = 0.4793713163064833, with max_depth = 1\n",
            "Best accuracy is = 0.5114603798297315, with max_depth = 3\n",
            "Best accuracy is = 0.5114603798297315, with max_depth = 3\n"
          ]
        },
        {
          "name": "stderr",
          "output_type": "stream",
          "text": [
            "/usr/local/lib/python3.10/dist-packages/sklearn/ensemble/_base.py:166: FutureWarning: `base_estimator` was renamed to `estimator` in version 1.2 and will be removed in 1.4.\n",
            "  warnings.warn(\n",
            "/usr/local/lib/python3.10/dist-packages/sklearn/ensemble/_base.py:166: FutureWarning: `base_estimator` was renamed to `estimator` in version 1.2 and will be removed in 1.4.\n",
            "  warnings.warn(\n",
            "/usr/local/lib/python3.10/dist-packages/sklearn/ensemble/_base.py:166: FutureWarning: `base_estimator` was renamed to `estimator` in version 1.2 and will be removed in 1.4.\n",
            "  warnings.warn(\n"
          ]
        },
        {
          "name": "stdout",
          "output_type": "stream",
          "text": [
            "Best accuracy is = 0.5232481990831697, with max_depth = 1\n",
            "Best accuracy is = 0.5507531106745253, with max_depth = 3\n",
            "Best accuracy is = 0.5507531106745253, with max_depth = 3\n"
          ]
        },
        {
          "name": "stderr",
          "output_type": "stream",
          "text": [
            "/usr/local/lib/python3.10/dist-packages/sklearn/ensemble/_base.py:166: FutureWarning: `base_estimator` was renamed to `estimator` in version 1.2 and will be removed in 1.4.\n",
            "  warnings.warn(\n",
            "/usr/local/lib/python3.10/dist-packages/sklearn/ensemble/_base.py:166: FutureWarning: `base_estimator` was renamed to `estimator` in version 1.2 and will be removed in 1.4.\n",
            "  warnings.warn(\n",
            "/usr/local/lib/python3.10/dist-packages/sklearn/ensemble/_base.py:166: FutureWarning: `base_estimator` was renamed to `estimator` in version 1.2 and will be removed in 1.4.\n",
            "  warnings.warn(\n"
          ]
        },
        {
          "name": "stdout",
          "output_type": "stream",
          "text": [
            "Best accuracy is = 0.5311067452521283, with max_depth = 1\n",
            "Best accuracy is = 0.5311067452521283, with max_depth = 1\n",
            "Best accuracy is = 0.5311067452521283, with max_depth = 1\n"
          ]
        },
        {
          "name": "stderr",
          "output_type": "stream",
          "text": [
            "/usr/local/lib/python3.10/dist-packages/sklearn/ensemble/_base.py:166: FutureWarning: `base_estimator` was renamed to `estimator` in version 1.2 and will be removed in 1.4.\n",
            "  warnings.warn(\n",
            "/usr/local/lib/python3.10/dist-packages/sklearn/ensemble/_base.py:166: FutureWarning: `base_estimator` was renamed to `estimator` in version 1.2 and will be removed in 1.4.\n",
            "  warnings.warn(\n",
            "/usr/local/lib/python3.10/dist-packages/sklearn/ensemble/_base.py:166: FutureWarning: `base_estimator` was renamed to `estimator` in version 1.2 and will be removed in 1.4.\n",
            "  warnings.warn(\n"
          ]
        },
        {
          "name": "stdout",
          "output_type": "stream",
          "text": [
            "Best accuracy is = 0.5153896529142109, with max_depth = 1\n",
            "Best accuracy is = 0.527177472167649, with max_depth = 3\n",
            "Best accuracy is = 0.527177472167649, with max_depth = 3\n"
          ]
        },
        {
          "name": "stderr",
          "output_type": "stream",
          "text": [
            "/usr/local/lib/python3.10/dist-packages/sklearn/ensemble/_base.py:166: FutureWarning: `base_estimator` was renamed to `estimator` in version 1.2 and will be removed in 1.4.\n",
            "  warnings.warn(\n",
            "/usr/local/lib/python3.10/dist-packages/sklearn/ensemble/_base.py:166: FutureWarning: `base_estimator` was renamed to `estimator` in version 1.2 and will be removed in 1.4.\n",
            "  warnings.warn(\n",
            "/usr/local/lib/python3.10/dist-packages/sklearn/ensemble/_base.py:166: FutureWarning: `base_estimator` was renamed to `estimator` in version 1.2 and will be removed in 1.4.\n",
            "  warnings.warn(\n"
          ]
        },
        {
          "name": "stdout",
          "output_type": "stream",
          "text": [
            "Best accuracy is = 0.5409299279633268, with max_depth = 1\n",
            "Best accuracy is = 0.564505566470203, with max_depth = 3\n",
            "Best accuracy is = 0.564505566470203, with max_depth = 3\n"
          ]
        },
        {
          "name": "stderr",
          "output_type": "stream",
          "text": [
            "/usr/local/lib/python3.10/dist-packages/sklearn/ensemble/_base.py:166: FutureWarning: `base_estimator` was renamed to `estimator` in version 1.2 and will be removed in 1.4.\n",
            "  warnings.warn(\n",
            "/usr/local/lib/python3.10/dist-packages/sklearn/ensemble/_base.py:166: FutureWarning: `base_estimator` was renamed to `estimator` in version 1.2 and will be removed in 1.4.\n",
            "  warnings.warn(\n",
            "/usr/local/lib/python3.10/dist-packages/sklearn/ensemble/_base.py:166: FutureWarning: `base_estimator` was renamed to `estimator` in version 1.2 and will be removed in 1.4.\n",
            "  warnings.warn(\n"
          ]
        },
        {
          "name": "stdout",
          "output_type": "stream",
          "text": [
            "Best accuracy is = 0.5232481990831697, with max_depth = 1\n",
            "Best accuracy is = 0.5448592010478062, with max_depth = 3\n",
            "Best accuracy is = 0.5448592010478062, with max_depth = 3\n"
          ]
        },
        {
          "name": "stderr",
          "output_type": "stream",
          "text": [
            "/usr/local/lib/python3.10/dist-packages/sklearn/ensemble/_base.py:166: FutureWarning: `base_estimator` was renamed to `estimator` in version 1.2 and will be removed in 1.4.\n",
            "  warnings.warn(\n",
            "/usr/local/lib/python3.10/dist-packages/sklearn/ensemble/_base.py:166: FutureWarning: `base_estimator` was renamed to `estimator` in version 1.2 and will be removed in 1.4.\n",
            "  warnings.warn(\n",
            "/usr/local/lib/python3.10/dist-packages/sklearn/ensemble/_base.py:166: FutureWarning: `base_estimator` was renamed to `estimator` in version 1.2 and will be removed in 1.4.\n",
            "  warnings.warn(\n"
          ]
        },
        {
          "name": "stdout",
          "output_type": "stream",
          "text": [
            "Best accuracy is = 0.5409299279633268, with max_depth = 1\n",
            "Best accuracy is = 0.5592665356908972, with max_depth = 3\n",
            "Best accuracy is = 0.5684348395546824, with max_depth = 5\n"
          ]
        },
        {
          "name": "stderr",
          "output_type": "stream",
          "text": [
            "/usr/local/lib/python3.10/dist-packages/sklearn/ensemble/_base.py:166: FutureWarning: `base_estimator` was renamed to `estimator` in version 1.2 and will be removed in 1.4.\n",
            "  warnings.warn(\n",
            "/usr/local/lib/python3.10/dist-packages/sklearn/ensemble/_base.py:166: FutureWarning: `base_estimator` was renamed to `estimator` in version 1.2 and will be removed in 1.4.\n",
            "  warnings.warn(\n",
            "/usr/local/lib/python3.10/dist-packages/sklearn/ensemble/_base.py:166: FutureWarning: `base_estimator` was renamed to `estimator` in version 1.2 and will be removed in 1.4.\n",
            "  warnings.warn(\n"
          ]
        },
        {
          "name": "stdout",
          "output_type": "stream",
          "text": [
            "Best accuracy is = 0.5409299279633268, with max_depth = 1\n",
            "Best accuracy is = 0.5625409299279633, with max_depth = 3\n",
            "Best accuracy is = 0.5625409299279633, with max_depth = 3\n",
            "Best accuracy is = 0.5409299279633268, with max_depth = 1\n",
            "Best accuracy is = 0.5756385068762279, with max_depth = 3\n",
            "Best accuracy is = 0.5756385068762279, with max_depth = 3\n"
          ]
        },
        {
          "name": "stderr",
          "output_type": "stream",
          "text": [
            "/usr/local/lib/python3.10/dist-packages/sklearn/ensemble/_base.py:166: FutureWarning: `base_estimator` was renamed to `estimator` in version 1.2 and will be removed in 1.4.\n",
            "  warnings.warn(\n",
            "/usr/local/lib/python3.10/dist-packages/sklearn/ensemble/_base.py:166: FutureWarning: `base_estimator` was renamed to `estimator` in version 1.2 and will be removed in 1.4.\n",
            "  warnings.warn(\n",
            "/usr/local/lib/python3.10/dist-packages/sklearn/ensemble/_base.py:166: FutureWarning: `base_estimator` was renamed to `estimator` in version 1.2 and will be removed in 1.4.\n",
            "  warnings.warn(\n"
          ]
        }
      ],
      "source": [
        "# Run AdaBoost wiit RFEFeatureElimination and min-max scaler\n",
        "RunThePredictAlgorithm(questionToMode_df, 25, 'min-max', RFEFeatureElimination, AdaBoost) #0.57 max"
      ]
    },
    {
      "cell_type": "code",
      "execution_count": 125,
      "metadata": {},
      "outputs": [
        {
          "name": "stdout",
          "output_type": "stream",
          "text": [
            "Best accuracy is = 0.444007858546169, with max_iter = 1000 best_penalty = l1 loss = squared_error  metrics and fetaure len = 2\n",
            "Best accuracy is = 0.2586771447282253, with max_iter = 1000 best_penalty = l2 loss = squared_error  metrics and fetaure len = 3\n",
            "Best accuracy is = 0.44662737393582186, with max_iter = 1000 best_penalty = elasticnet loss = squared_error  metrics and fetaure len = 4\n",
            "Best accuracy is = 0.44597249508840864, with max_iter = 1000 best_penalty = l2 loss = squared_error  metrics and fetaure len = 5\n",
            "Best accuracy is = 0.44597249508840864, with max_iter = 1000 best_penalty = l1 loss = squared_error  metrics and fetaure len = 6\n",
            "Best accuracy is = 0.444007858546169, with max_iter = 1000 best_penalty = l1 loss = squared_error  metrics and fetaure len = 7\n",
            "Best accuracy is = 0.14931237721021612, with max_iter = 1000 best_penalty = l2 loss = squared_error  metrics and fetaure len = 8\n",
            "Best accuracy is = 0.44597249508840864, with max_iter = 1000 best_penalty = l1 loss = squared_error  metrics and fetaure len = 9\n",
            "Best accuracy is = 0.44597249508840864, with max_iter = 1000 best_penalty = l2 loss = squared_error  metrics and fetaure len = 10\n",
            "Best accuracy is = 0.4446627373935822, with max_iter = 1000 best_penalty = l2 loss = squared_error  metrics and fetaure len = 11\n",
            "Best accuracy is = 0.2593320235756385, with max_iter = 1000 best_penalty = l2 loss = squared_error  metrics and fetaure len = 12\n",
            "Best accuracy is = 0.1512770137524558, with max_iter = 1000 best_penalty = l1 loss = squared_error  metrics and fetaure len = 13\n",
            "Best accuracy is = 0.14996725605762934, with max_iter = 1000 best_penalty = elasticnet loss = squared_error  metrics and fetaure len = 13\n",
            "Best accuracy is = 0.44793713163064836, with max_iter = 1000 best_penalty = l1 loss = squared_error  metrics and fetaure len = 15\n",
            "Best accuracy is = 0.444007858546169, with max_iter = 1000 best_penalty = elasticnet loss = squared_error  metrics and fetaure len = 15\n",
            "Best accuracy is = 0.4453176162409954, with max_iter = 1000 best_penalty = l2 loss = squared_error  metrics and fetaure len = 16\n",
            "Best accuracy is = 0.4446627373935822, with max_iter = 1000 best_penalty = l2 loss = squared_error  metrics and fetaure len = 17\n",
            "Best accuracy is = 0.44662737393582186, with max_iter = 1000 best_penalty = l1 loss = squared_error  metrics and fetaure len = 18\n",
            "Best accuracy is = 0.44597249508840864, with max_iter = 1000 best_penalty = elasticnet loss = squared_error  metrics and fetaure len = 19\n",
            "Best accuracy is = 0.2586771447282253, with max_iter = 1000 best_penalty = elasticnet loss = squared_error  metrics and fetaure len = 20\n",
            "Best accuracy is = 0.444007858546169, with max_iter = 1000 best_penalty = l1 loss = squared_error  metrics and fetaure len = 21\n",
            "Best accuracy is = 0.4446627373935822, with max_iter = 1000 best_penalty = l2 loss = squared_error  metrics and fetaure len = 22\n",
            "Best accuracy is = 0.44597249508840864, with max_iter = 1000 best_penalty = elasticnet loss = squared_error  metrics and fetaure len = 23\n",
            "Best accuracy is = 0.2586771447282253, with max_iter = 1000 best_penalty = l1 loss = squared_error  metrics and fetaure len = 24\n"
          ]
        }
      ],
      "source": [
        "# Run StockGradientDescent wiit RFEFeatureElimination and min-max scaler\n",
        "RunThePredictAlgorithm(questionToMode_df, 25, 'min-max', RFEFeatureElimination, StockGradientDescent) #0.5"
      ]
    },
    {
      "cell_type": "code",
      "execution_count": 120,
      "metadata": {
        "id": "iEcxkDQDWQAR"
      },
      "outputs": [
        {
          "ename": "NameError",
          "evalue": "name 'FindBestModel' is not defined",
          "output_type": "error",
          "traceback": [
            "\u001b[1;31m---------------------------------------------------------------------------\u001b[0m",
            "\u001b[1;31mNameError\u001b[0m                                 Traceback (most recent call last)",
            "Input \u001b[1;32mIn [120]\u001b[0m, in \u001b[0;36m<cell line: 1>\u001b[1;34m()\u001b[0m\n\u001b[1;32m----> 1\u001b[0m \u001b[38;5;28mprint\u001b[39m(algorithms_results[\u001b[43mFindBestModel\u001b[49m(algorithms_results)])\n",
            "\u001b[1;31mNameError\u001b[0m: name 'FindBestModel' is not defined"
          ]
        }
      ],
      "source": [
        "print(algorithms_results[FindBestModel(algorithms_results)])"
      ]
    }
  ],
  "metadata": {
    "colab": {
      "provenance": []
    },
    "kernelspec": {
      "display_name": "Python 3",
      "name": "python3"
    },
    "language_info": {
      "codemirror_mode": {
        "name": "ipython",
        "version": 3
      },
      "file_extension": ".py",
      "mimetype": "text/x-python",
      "name": "python",
      "nbconvert_exporter": "python",
      "pygments_lexer": "ipython3",
      "version": "3.10.4"
    }
  },
  "nbformat": 4,
  "nbformat_minor": 0
}
