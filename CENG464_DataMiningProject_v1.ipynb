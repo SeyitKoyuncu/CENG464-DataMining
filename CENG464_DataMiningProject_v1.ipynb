{
  "cells": [
    {
      "cell_type": "markdown",
      "metadata": {
        "id": "o9Xx0621S0ko"
      },
      "source": [
        "# Import The libaries"
      ]
    },
    {
      "cell_type": "code",
      "execution_count": 6,
      "metadata": {
        "id": "kN7fd5_DS5Mu"
      },
      "outputs": [],
      "source": [
        "import numpy as np\n",
        "import pandas as pd\n",
        "import matplotlib.pyplot as plt\n",
        "import seaborn as sns"
      ]
    },
    {
      "cell_type": "markdown",
      "metadata": {
        "id": "3ip3ch6JS8b1"
      },
      "source": [
        "# Read DataSet"
      ]
    },
    {
      "cell_type": "code",
      "execution_count": 7,
      "metadata": {
        "id": "jd-9AFVNS9vR"
      },
      "outputs": [],
      "source": [
        "df = pd.DataFrame(pd.read_csv(\"file1.csv\"))"
      ]
    },
    {
      "cell_type": "code",
      "execution_count": 8,
      "metadata": {
        "colab": {
          "base_uri": "https://localhost:8080/"
        },
        "id": "1xQZ3R7VTGnX",
        "outputId": "edac7ff1-13ed-487d-89c7-5f49339e0d85"
      },
      "outputs": [
        {
          "output_type": "execute_result",
          "data": {
            "text/plain": [
              "(Index(['Unnamed: 0', 'Q11_1', 'Q11_2', 'Q11_3', 'Q11_4', 'Q11_5', 'Q11_6',\n",
              "        'Q11_7', 'Q11_8', 'Q11_9', 'Q11_10', 'Q11_11', 'Q11_12', 'Q11_13',\n",
              "        'Q11_Dont_Know', 'Q12_1', 'Q12_2', 'Q12_3', 'Q12_4', 'Q12_5', 'Q12_6',\n",
              "        'Q12_7', 'Q12_8', 'Q12_9', 'Q12_10', 'Q12_11', 'Q12_12', 'Q12_13',\n",
              "        'Q12_14', 'Q12_Dont_Know', 'Q13_1', 'Q13_2', 'Q13_3', 'Q13_4', 'Q13_5',\n",
              "        'Q13_6', 'Q13_7', 'Q13_8', 'Q13_9', 'Q13_10', 'Q13_11', 'Q13_12',\n",
              "        'Q13_13', 'Q13_14', 'Q13_15', 'Q13_16', 'Q13_Dont_Know', 'Q14', 'Q15',\n",
              "        'Q17', 'Q18_1', 'Q18_2', 'Q18_3', 'Q18_4', 'Q18_5', 'Q18_6', 'Q18_7',\n",
              "        'Q18_8', 'Q18_9', 'Q18_10', 'Q18_11', 'Q18_12', 'Q18_13', 'Q18_14',\n",
              "        'Q18_15', 'Q18_16', 'Q18_17', 'Q18_18', 'Q18_19', 'Q18_20', 'Q18_21',\n",
              "        'Q18_22', 'Q18_23', 'Q20', 'Q21', 'Q16'],\n",
              "       dtype='object'),\n",
              " 76)"
            ]
          },
          "metadata": {},
          "execution_count": 8
        }
      ],
      "source": [
        "df.columns, len(df.columns)"
      ]
    },
    {
      "cell_type": "code",
      "execution_count": 9,
      "metadata": {
        "colab": {
          "base_uri": "https://localhost:8080/",
          "height": 392
        },
        "id": "dTyDgk96WQ8z",
        "outputId": "e22bad87-2481-493b-a8dc-c47f994afe3b"
      },
      "outputs": [
        {
          "output_type": "execute_result",
          "data": {
            "text/plain": [
              "   Unnamed: 0  Q11_1  Q11_2  Q11_3  Q11_4  Q11_5  Q11_6  Q11_7  Q11_8  Q11_9  \\\n",
              "0           0      0      0      0      1      1      0      0      1      0   \n",
              "1           1      1      0      0      1      0      0      1      0      0   \n",
              "2           2      1      1      0      1      0      0      1      1      0   \n",
              "3           3      0      0      0      0      0      0      0      0      0   \n",
              "4           4      1      1      0      1      0      0      1      1      0   \n",
              "5           5      0      1      0      0      0      0      0      0      0   \n",
              "6           6      1      0      0      1      1      0      1      1      0   \n",
              "7           7      1      0      1      0      1      1      1      0      0   \n",
              "8           8      1      1      0      0      0      0      1      1      0   \n",
              "9           9      1      0      0      0      0      0      0      0      0   \n",
              "\n",
              "   ...  Q18_17  Q18_18  Q18_19  Q18_20  Q18_21  Q18_22  Q18_23  Q20  Q21  Q16  \n",
              "0  ...       5       5       5       5       5       5       5    3    3    A  \n",
              "1  ...       4       2       4       2       2       2       2    3    3    D  \n",
              "2  ...       4       4       ?       ?       4       2       4    4    1    A  \n",
              "3  ...       ?       ?       ?       ?       ?       ?       ?    3    3    C  \n",
              "4  ...       ?       ?       1       1       ?       ?       ?    3    3    D  \n",
              "5  ...       4       4       4       4       4       4       4    3    3    B  \n",
              "6  ...       5       1       5       3       5       3       3    3    1    A  \n",
              "7  ...       3       2       5       5       5       5       5    5    1    A  \n",
              "8  ...       2       2       2       2       2       2       3    1    2    A  \n",
              "9  ...       4       1       4       1       4       1       1    4    4    A  \n",
              "\n",
              "[10 rows x 76 columns]"
            ],
            "text/html": [
              "\n",
              "  <div id=\"df-5153a3ad-b5fc-49de-8ff0-7d595258c446\" class=\"colab-df-container\">\n",
              "    <div>\n",
              "<style scoped>\n",
              "    .dataframe tbody tr th:only-of-type {\n",
              "        vertical-align: middle;\n",
              "    }\n",
              "\n",
              "    .dataframe tbody tr th {\n",
              "        vertical-align: top;\n",
              "    }\n",
              "\n",
              "    .dataframe thead th {\n",
              "        text-align: right;\n",
              "    }\n",
              "</style>\n",
              "<table border=\"1\" class=\"dataframe\">\n",
              "  <thead>\n",
              "    <tr style=\"text-align: right;\">\n",
              "      <th></th>\n",
              "      <th>Unnamed: 0</th>\n",
              "      <th>Q11_1</th>\n",
              "      <th>Q11_2</th>\n",
              "      <th>Q11_3</th>\n",
              "      <th>Q11_4</th>\n",
              "      <th>Q11_5</th>\n",
              "      <th>Q11_6</th>\n",
              "      <th>Q11_7</th>\n",
              "      <th>Q11_8</th>\n",
              "      <th>Q11_9</th>\n",
              "      <th>...</th>\n",
              "      <th>Q18_17</th>\n",
              "      <th>Q18_18</th>\n",
              "      <th>Q18_19</th>\n",
              "      <th>Q18_20</th>\n",
              "      <th>Q18_21</th>\n",
              "      <th>Q18_22</th>\n",
              "      <th>Q18_23</th>\n",
              "      <th>Q20</th>\n",
              "      <th>Q21</th>\n",
              "      <th>Q16</th>\n",
              "    </tr>\n",
              "  </thead>\n",
              "  <tbody>\n",
              "    <tr>\n",
              "      <th>0</th>\n",
              "      <td>0</td>\n",
              "      <td>0</td>\n",
              "      <td>0</td>\n",
              "      <td>0</td>\n",
              "      <td>1</td>\n",
              "      <td>1</td>\n",
              "      <td>0</td>\n",
              "      <td>0</td>\n",
              "      <td>1</td>\n",
              "      <td>0</td>\n",
              "      <td>...</td>\n",
              "      <td>5</td>\n",
              "      <td>5</td>\n",
              "      <td>5</td>\n",
              "      <td>5</td>\n",
              "      <td>5</td>\n",
              "      <td>5</td>\n",
              "      <td>5</td>\n",
              "      <td>3</td>\n",
              "      <td>3</td>\n",
              "      <td>A</td>\n",
              "    </tr>\n",
              "    <tr>\n",
              "      <th>1</th>\n",
              "      <td>1</td>\n",
              "      <td>1</td>\n",
              "      <td>0</td>\n",
              "      <td>0</td>\n",
              "      <td>1</td>\n",
              "      <td>0</td>\n",
              "      <td>0</td>\n",
              "      <td>1</td>\n",
              "      <td>0</td>\n",
              "      <td>0</td>\n",
              "      <td>...</td>\n",
              "      <td>4</td>\n",
              "      <td>2</td>\n",
              "      <td>4</td>\n",
              "      <td>2</td>\n",
              "      <td>2</td>\n",
              "      <td>2</td>\n",
              "      <td>2</td>\n",
              "      <td>3</td>\n",
              "      <td>3</td>\n",
              "      <td>D</td>\n",
              "    </tr>\n",
              "    <tr>\n",
              "      <th>2</th>\n",
              "      <td>2</td>\n",
              "      <td>1</td>\n",
              "      <td>1</td>\n",
              "      <td>0</td>\n",
              "      <td>1</td>\n",
              "      <td>0</td>\n",
              "      <td>0</td>\n",
              "      <td>1</td>\n",
              "      <td>1</td>\n",
              "      <td>0</td>\n",
              "      <td>...</td>\n",
              "      <td>4</td>\n",
              "      <td>4</td>\n",
              "      <td>?</td>\n",
              "      <td>?</td>\n",
              "      <td>4</td>\n",
              "      <td>2</td>\n",
              "      <td>4</td>\n",
              "      <td>4</td>\n",
              "      <td>1</td>\n",
              "      <td>A</td>\n",
              "    </tr>\n",
              "    <tr>\n",
              "      <th>3</th>\n",
              "      <td>3</td>\n",
              "      <td>0</td>\n",
              "      <td>0</td>\n",
              "      <td>0</td>\n",
              "      <td>0</td>\n",
              "      <td>0</td>\n",
              "      <td>0</td>\n",
              "      <td>0</td>\n",
              "      <td>0</td>\n",
              "      <td>0</td>\n",
              "      <td>...</td>\n",
              "      <td>?</td>\n",
              "      <td>?</td>\n",
              "      <td>?</td>\n",
              "      <td>?</td>\n",
              "      <td>?</td>\n",
              "      <td>?</td>\n",
              "      <td>?</td>\n",
              "      <td>3</td>\n",
              "      <td>3</td>\n",
              "      <td>C</td>\n",
              "    </tr>\n",
              "    <tr>\n",
              "      <th>4</th>\n",
              "      <td>4</td>\n",
              "      <td>1</td>\n",
              "      <td>1</td>\n",
              "      <td>0</td>\n",
              "      <td>1</td>\n",
              "      <td>0</td>\n",
              "      <td>0</td>\n",
              "      <td>1</td>\n",
              "      <td>1</td>\n",
              "      <td>0</td>\n",
              "      <td>...</td>\n",
              "      <td>?</td>\n",
              "      <td>?</td>\n",
              "      <td>1</td>\n",
              "      <td>1</td>\n",
              "      <td>?</td>\n",
              "      <td>?</td>\n",
              "      <td>?</td>\n",
              "      <td>3</td>\n",
              "      <td>3</td>\n",
              "      <td>D</td>\n",
              "    </tr>\n",
              "    <tr>\n",
              "      <th>5</th>\n",
              "      <td>5</td>\n",
              "      <td>0</td>\n",
              "      <td>1</td>\n",
              "      <td>0</td>\n",
              "      <td>0</td>\n",
              "      <td>0</td>\n",
              "      <td>0</td>\n",
              "      <td>0</td>\n",
              "      <td>0</td>\n",
              "      <td>0</td>\n",
              "      <td>...</td>\n",
              "      <td>4</td>\n",
              "      <td>4</td>\n",
              "      <td>4</td>\n",
              "      <td>4</td>\n",
              "      <td>4</td>\n",
              "      <td>4</td>\n",
              "      <td>4</td>\n",
              "      <td>3</td>\n",
              "      <td>3</td>\n",
              "      <td>B</td>\n",
              "    </tr>\n",
              "    <tr>\n",
              "      <th>6</th>\n",
              "      <td>6</td>\n",
              "      <td>1</td>\n",
              "      <td>0</td>\n",
              "      <td>0</td>\n",
              "      <td>1</td>\n",
              "      <td>1</td>\n",
              "      <td>0</td>\n",
              "      <td>1</td>\n",
              "      <td>1</td>\n",
              "      <td>0</td>\n",
              "      <td>...</td>\n",
              "      <td>5</td>\n",
              "      <td>1</td>\n",
              "      <td>5</td>\n",
              "      <td>3</td>\n",
              "      <td>5</td>\n",
              "      <td>3</td>\n",
              "      <td>3</td>\n",
              "      <td>3</td>\n",
              "      <td>1</td>\n",
              "      <td>A</td>\n",
              "    </tr>\n",
              "    <tr>\n",
              "      <th>7</th>\n",
              "      <td>7</td>\n",
              "      <td>1</td>\n",
              "      <td>0</td>\n",
              "      <td>1</td>\n",
              "      <td>0</td>\n",
              "      <td>1</td>\n",
              "      <td>1</td>\n",
              "      <td>1</td>\n",
              "      <td>0</td>\n",
              "      <td>0</td>\n",
              "      <td>...</td>\n",
              "      <td>3</td>\n",
              "      <td>2</td>\n",
              "      <td>5</td>\n",
              "      <td>5</td>\n",
              "      <td>5</td>\n",
              "      <td>5</td>\n",
              "      <td>5</td>\n",
              "      <td>5</td>\n",
              "      <td>1</td>\n",
              "      <td>A</td>\n",
              "    </tr>\n",
              "    <tr>\n",
              "      <th>8</th>\n",
              "      <td>8</td>\n",
              "      <td>1</td>\n",
              "      <td>1</td>\n",
              "      <td>0</td>\n",
              "      <td>0</td>\n",
              "      <td>0</td>\n",
              "      <td>0</td>\n",
              "      <td>1</td>\n",
              "      <td>1</td>\n",
              "      <td>0</td>\n",
              "      <td>...</td>\n",
              "      <td>2</td>\n",
              "      <td>2</td>\n",
              "      <td>2</td>\n",
              "      <td>2</td>\n",
              "      <td>2</td>\n",
              "      <td>2</td>\n",
              "      <td>3</td>\n",
              "      <td>1</td>\n",
              "      <td>2</td>\n",
              "      <td>A</td>\n",
              "    </tr>\n",
              "    <tr>\n",
              "      <th>9</th>\n",
              "      <td>9</td>\n",
              "      <td>1</td>\n",
              "      <td>0</td>\n",
              "      <td>0</td>\n",
              "      <td>0</td>\n",
              "      <td>0</td>\n",
              "      <td>0</td>\n",
              "      <td>0</td>\n",
              "      <td>0</td>\n",
              "      <td>0</td>\n",
              "      <td>...</td>\n",
              "      <td>4</td>\n",
              "      <td>1</td>\n",
              "      <td>4</td>\n",
              "      <td>1</td>\n",
              "      <td>4</td>\n",
              "      <td>1</td>\n",
              "      <td>1</td>\n",
              "      <td>4</td>\n",
              "      <td>4</td>\n",
              "      <td>A</td>\n",
              "    </tr>\n",
              "  </tbody>\n",
              "</table>\n",
              "<p>10 rows × 76 columns</p>\n",
              "</div>\n",
              "    <div class=\"colab-df-buttons\">\n",
              "\n",
              "  <div class=\"colab-df-container\">\n",
              "    <button class=\"colab-df-convert\" onclick=\"convertToInteractive('df-5153a3ad-b5fc-49de-8ff0-7d595258c446')\"\n",
              "            title=\"Convert this dataframe to an interactive table.\"\n",
              "            style=\"display:none;\">\n",
              "\n",
              "  <svg xmlns=\"http://www.w3.org/2000/svg\" height=\"24px\" viewBox=\"0 -960 960 960\">\n",
              "    <path d=\"M120-120v-720h720v720H120Zm60-500h600v-160H180v160Zm220 220h160v-160H400v160Zm0 220h160v-160H400v160ZM180-400h160v-160H180v160Zm440 0h160v-160H620v160ZM180-180h160v-160H180v160Zm440 0h160v-160H620v160Z\"/>\n",
              "  </svg>\n",
              "    </button>\n",
              "\n",
              "  <style>\n",
              "    .colab-df-container {\n",
              "      display:flex;\n",
              "      gap: 12px;\n",
              "    }\n",
              "\n",
              "    .colab-df-convert {\n",
              "      background-color: #E8F0FE;\n",
              "      border: none;\n",
              "      border-radius: 50%;\n",
              "      cursor: pointer;\n",
              "      display: none;\n",
              "      fill: #1967D2;\n",
              "      height: 32px;\n",
              "      padding: 0 0 0 0;\n",
              "      width: 32px;\n",
              "    }\n",
              "\n",
              "    .colab-df-convert:hover {\n",
              "      background-color: #E2EBFA;\n",
              "      box-shadow: 0px 1px 2px rgba(60, 64, 67, 0.3), 0px 1px 3px 1px rgba(60, 64, 67, 0.15);\n",
              "      fill: #174EA6;\n",
              "    }\n",
              "\n",
              "    .colab-df-buttons div {\n",
              "      margin-bottom: 4px;\n",
              "    }\n",
              "\n",
              "    [theme=dark] .colab-df-convert {\n",
              "      background-color: #3B4455;\n",
              "      fill: #D2E3FC;\n",
              "    }\n",
              "\n",
              "    [theme=dark] .colab-df-convert:hover {\n",
              "      background-color: #434B5C;\n",
              "      box-shadow: 0px 1px 3px 1px rgba(0, 0, 0, 0.15);\n",
              "      filter: drop-shadow(0px 1px 2px rgba(0, 0, 0, 0.3));\n",
              "      fill: #FFFFFF;\n",
              "    }\n",
              "  </style>\n",
              "\n",
              "    <script>\n",
              "      const buttonEl =\n",
              "        document.querySelector('#df-5153a3ad-b5fc-49de-8ff0-7d595258c446 button.colab-df-convert');\n",
              "      buttonEl.style.display =\n",
              "        google.colab.kernel.accessAllowed ? 'block' : 'none';\n",
              "\n",
              "      async function convertToInteractive(key) {\n",
              "        const element = document.querySelector('#df-5153a3ad-b5fc-49de-8ff0-7d595258c446');\n",
              "        const dataTable =\n",
              "          await google.colab.kernel.invokeFunction('convertToInteractive',\n",
              "                                                    [key], {});\n",
              "        if (!dataTable) return;\n",
              "\n",
              "        const docLinkHtml = 'Like what you see? Visit the ' +\n",
              "          '<a target=\"_blank\" href=https://colab.research.google.com/notebooks/data_table.ipynb>data table notebook</a>'\n",
              "          + ' to learn more about interactive tables.';\n",
              "        element.innerHTML = '';\n",
              "        dataTable['output_type'] = 'display_data';\n",
              "        await google.colab.output.renderOutput(dataTable, element);\n",
              "        const docLink = document.createElement('div');\n",
              "        docLink.innerHTML = docLinkHtml;\n",
              "        element.appendChild(docLink);\n",
              "      }\n",
              "    </script>\n",
              "  </div>\n",
              "\n",
              "\n",
              "<div id=\"df-cedcec3a-bb8b-40c9-81bb-168563c3f3f0\">\n",
              "  <button class=\"colab-df-quickchart\" onclick=\"quickchart('df-cedcec3a-bb8b-40c9-81bb-168563c3f3f0')\"\n",
              "            title=\"Suggest charts\"\n",
              "            style=\"display:none;\">\n",
              "\n",
              "<svg xmlns=\"http://www.w3.org/2000/svg\" height=\"24px\"viewBox=\"0 0 24 24\"\n",
              "     width=\"24px\">\n",
              "    <g>\n",
              "        <path d=\"M19 3H5c-1.1 0-2 .9-2 2v14c0 1.1.9 2 2 2h14c1.1 0 2-.9 2-2V5c0-1.1-.9-2-2-2zM9 17H7v-7h2v7zm4 0h-2V7h2v10zm4 0h-2v-4h2v4z\"/>\n",
              "    </g>\n",
              "</svg>\n",
              "  </button>\n",
              "\n",
              "<style>\n",
              "  .colab-df-quickchart {\n",
              "      --bg-color: #E8F0FE;\n",
              "      --fill-color: #1967D2;\n",
              "      --hover-bg-color: #E2EBFA;\n",
              "      --hover-fill-color: #174EA6;\n",
              "      --disabled-fill-color: #AAA;\n",
              "      --disabled-bg-color: #DDD;\n",
              "  }\n",
              "\n",
              "  [theme=dark] .colab-df-quickchart {\n",
              "      --bg-color: #3B4455;\n",
              "      --fill-color: #D2E3FC;\n",
              "      --hover-bg-color: #434B5C;\n",
              "      --hover-fill-color: #FFFFFF;\n",
              "      --disabled-bg-color: #3B4455;\n",
              "      --disabled-fill-color: #666;\n",
              "  }\n",
              "\n",
              "  .colab-df-quickchart {\n",
              "    background-color: var(--bg-color);\n",
              "    border: none;\n",
              "    border-radius: 50%;\n",
              "    cursor: pointer;\n",
              "    display: none;\n",
              "    fill: var(--fill-color);\n",
              "    height: 32px;\n",
              "    padding: 0;\n",
              "    width: 32px;\n",
              "  }\n",
              "\n",
              "  .colab-df-quickchart:hover {\n",
              "    background-color: var(--hover-bg-color);\n",
              "    box-shadow: 0 1px 2px rgba(60, 64, 67, 0.3), 0 1px 3px 1px rgba(60, 64, 67, 0.15);\n",
              "    fill: var(--button-hover-fill-color);\n",
              "  }\n",
              "\n",
              "  .colab-df-quickchart-complete:disabled,\n",
              "  .colab-df-quickchart-complete:disabled:hover {\n",
              "    background-color: var(--disabled-bg-color);\n",
              "    fill: var(--disabled-fill-color);\n",
              "    box-shadow: none;\n",
              "  }\n",
              "\n",
              "  .colab-df-spinner {\n",
              "    border: 2px solid var(--fill-color);\n",
              "    border-color: transparent;\n",
              "    border-bottom-color: var(--fill-color);\n",
              "    animation:\n",
              "      spin 1s steps(1) infinite;\n",
              "  }\n",
              "\n",
              "  @keyframes spin {\n",
              "    0% {\n",
              "      border-color: transparent;\n",
              "      border-bottom-color: var(--fill-color);\n",
              "      border-left-color: var(--fill-color);\n",
              "    }\n",
              "    20% {\n",
              "      border-color: transparent;\n",
              "      border-left-color: var(--fill-color);\n",
              "      border-top-color: var(--fill-color);\n",
              "    }\n",
              "    30% {\n",
              "      border-color: transparent;\n",
              "      border-left-color: var(--fill-color);\n",
              "      border-top-color: var(--fill-color);\n",
              "      border-right-color: var(--fill-color);\n",
              "    }\n",
              "    40% {\n",
              "      border-color: transparent;\n",
              "      border-right-color: var(--fill-color);\n",
              "      border-top-color: var(--fill-color);\n",
              "    }\n",
              "    60% {\n",
              "      border-color: transparent;\n",
              "      border-right-color: var(--fill-color);\n",
              "    }\n",
              "    80% {\n",
              "      border-color: transparent;\n",
              "      border-right-color: var(--fill-color);\n",
              "      border-bottom-color: var(--fill-color);\n",
              "    }\n",
              "    90% {\n",
              "      border-color: transparent;\n",
              "      border-bottom-color: var(--fill-color);\n",
              "    }\n",
              "  }\n",
              "</style>\n",
              "\n",
              "  <script>\n",
              "    async function quickchart(key) {\n",
              "      const quickchartButtonEl =\n",
              "        document.querySelector('#' + key + ' button');\n",
              "      quickchartButtonEl.disabled = true;  // To prevent multiple clicks.\n",
              "      quickchartButtonEl.classList.add('colab-df-spinner');\n",
              "      try {\n",
              "        const charts = await google.colab.kernel.invokeFunction(\n",
              "            'suggestCharts', [key], {});\n",
              "      } catch (error) {\n",
              "        console.error('Error during call to suggestCharts:', error);\n",
              "      }\n",
              "      quickchartButtonEl.classList.remove('colab-df-spinner');\n",
              "      quickchartButtonEl.classList.add('colab-df-quickchart-complete');\n",
              "    }\n",
              "    (() => {\n",
              "      let quickchartButtonEl =\n",
              "        document.querySelector('#df-cedcec3a-bb8b-40c9-81bb-168563c3f3f0 button');\n",
              "      quickchartButtonEl.style.display =\n",
              "        google.colab.kernel.accessAllowed ? 'block' : 'none';\n",
              "    })();\n",
              "  </script>\n",
              "</div>\n",
              "\n",
              "    </div>\n",
              "  </div>\n"
            ]
          },
          "metadata": {},
          "execution_count": 9
        }
      ],
      "source": [
        "df.head(10)"
      ]
    },
    {
      "cell_type": "code",
      "execution_count": 10,
      "metadata": {
        "colab": {
          "base_uri": "https://localhost:8080/"
        },
        "id": "0ZqJwVspagIP",
        "outputId": "947c9283-c61c-4280-9e0a-4ec8aeaf3753"
      },
      "outputs": [
        {
          "output_type": "execute_result",
          "data": {
            "text/plain": [
              "<bound method NDFrame.describe of       Unnamed: 0  Q11_1  Q11_2  Q11_3  Q11_4  Q11_5  Q11_6  Q11_7  Q11_8  \\\n",
              "0              0      0      0      0      1      1      0      0      1   \n",
              "1              1      1      0      0      1      0      0      1      0   \n",
              "2              2      1      1      0      1      0      0      1      1   \n",
              "3              3      0      0      0      0      0      0      0      0   \n",
              "4              4      1      1      0      1      0      0      1      1   \n",
              "...          ...    ...    ...    ...    ...    ...    ...    ...    ...   \n",
              "6103        6103      0      1      0      0      0      0      1      1   \n",
              "6104        6104      0      1      0      1      0      0      0      1   \n",
              "6105        6105      1      0      1      0      0      0      0      0   \n",
              "6106        6106      0      0      1      0      0      0      0      1   \n",
              "6107        6107      1      0      0      1      0      0      0      1   \n",
              "\n",
              "      Q11_9  ...  Q18_17  Q18_18  Q18_19  Q18_20  Q18_21  Q18_22  Q18_23  Q20  \\\n",
              "0         0  ...       5       5       5       5       5       5       5    3   \n",
              "1         0  ...       4       2       4       2       2       2       2    3   \n",
              "2         0  ...       4       4       ?       ?       4       2       4    4   \n",
              "3         0  ...       ?       ?       ?       ?       ?       ?       ?    3   \n",
              "4         0  ...       ?       ?       1       1       ?       ?       ?    3   \n",
              "...     ...  ...     ...     ...     ...     ...     ...     ...     ...  ...   \n",
              "6103      1  ...       2       2       3       3       2       1       1    1   \n",
              "6104      0  ...       ?       ?       ?       ?       ?       ?       ?    3   \n",
              "6105      0  ...       4       1       5       4       5       4       5    5   \n",
              "6106      0  ...       1       3       4       5       3       2       3    2   \n",
              "6107      0  ...       3       3       3       3       3       3       3    3   \n",
              "\n",
              "      Q21  Q16  \n",
              "0       3    A  \n",
              "1       3    D  \n",
              "2       1    A  \n",
              "3       3    C  \n",
              "4       3    D  \n",
              "...   ...  ...  \n",
              "6103    3    B  \n",
              "6104    3    A  \n",
              "6105    2    A  \n",
              "6106    3    A  \n",
              "6107    3    D  \n",
              "\n",
              "[6108 rows x 76 columns]>"
            ]
          },
          "metadata": {},
          "execution_count": 10
        }
      ],
      "source": [
        "df.describe"
      ]
    },
    {
      "cell_type": "markdown",
      "metadata": {
        "id": "VMuVgQS_WP__"
      },
      "source": []
    },
    {
      "cell_type": "markdown",
      "metadata": {
        "id": "lrBig6ByWP__"
      },
      "source": [
        "### Check the target column values"
      ]
    },
    {
      "cell_type": "code",
      "execution_count": 11,
      "metadata": {
        "colab": {
          "base_uri": "https://localhost:8080/",
          "height": 519
        },
        "id": "U_bPh_XfWP__",
        "outputId": "3c303222-d567-420d-a468-cdb80d216c8e"
      },
      "outputs": [
        {
          "output_type": "stream",
          "name": "stdout",
          "text": [
            "['A' 'D' 'C' 'B']\n"
          ]
        },
        {
          "output_type": "display_data",
          "data": {
            "text/plain": [
              "<Figure size 640x480 with 1 Axes>"
            ],
            "image/png": "[encoded data removed]"
          },
          "metadata": {}
        },
        {
          "output_type": "stream",
          "name": "stdout",
          "text": [
            "Lenght of A's 2883\n",
            "Lenght of B's 1526\n",
            "Lenght of C's 892\n",
            "Lenght of D's 807\n"
          ]
        }
      ],
      "source": [
        "print(df['Q16'].unique())\n",
        "class_distribution = {'Class A': len(df[df['Q16'] == 'A'].value_counts()), 'Class B': len(df[df['Q16'] == 'B'].value_counts()), 'Class C': len(df[df['Q16'] == 'C'].value_counts()), 'Class D': len(df[df['Q16'] == 'D'].value_counts())}\n",
        "\n",
        "sns.barplot(x=list(class_distribution.keys()), y=list(class_distribution.values()))\n",
        "plt.show()\n",
        "print(f\"Lenght of A's {len(df[df['Q16'] == 'A'].value_counts())}\")\n",
        "print(f\"Lenght of B's {len(df[df['Q16'] == 'B'].value_counts())}\")\n",
        "print(f\"Lenght of C's {len(df[df['Q16'] == 'C'].value_counts())}\")\n",
        "print(f\"Lenght of D's {len(df[df['Q16'] == 'D'].value_counts())}\")"
      ]
    },
    {
      "cell_type": "markdown",
      "metadata": {
        "id": "PL_UL5IdWQAA"
      },
      "source": [
        "## Convert String Targets To The Countable Data"
      ]
    },
    {
      "cell_type": "code",
      "execution_count": 12,
      "metadata": {
        "colab": {
          "base_uri": "https://localhost:8080/"
        },
        "id": "b-NPN1doWQAA",
        "outputId": "2d071332-32bb-422d-b586-074b546de1f4"
      },
      "outputs": [
        {
          "output_type": "stream",
          "name": "stdout",
          "text": [
            "['A' 'D' 'C' 'B']\n"
          ]
        },
        {
          "output_type": "stream",
          "name": "stderr",
          "text": [
            "<ipython-input-12-2a5830fd3b20>:3: SettingWithCopyWarning: \n",
            "A value is trying to be set on a copy of a slice from a DataFrame\n",
            "\n",
            "See the caveats in the documentation: https://pandas.pydata.org/pandas-docs/stable/user_guide/indexing.html#returning-a-view-versus-a-copy\n",
            "  if(df['Q16'][i] == 'A'): df['Q16'][i] = 0\n",
            "<ipython-input-12-2a5830fd3b20>:6: SettingWithCopyWarning: \n",
            "A value is trying to be set on a copy of a slice from a DataFrame\n",
            "\n",
            "See the caveats in the documentation: https://pandas.pydata.org/pandas-docs/stable/user_guide/indexing.html#returning-a-view-versus-a-copy\n",
            "  elif(df['Q16'][i] == 'D'): df['Q16'][i] = 3\n",
            "<ipython-input-12-2a5830fd3b20>:5: SettingWithCopyWarning: \n",
            "A value is trying to be set on a copy of a slice from a DataFrame\n",
            "\n",
            "See the caveats in the documentation: https://pandas.pydata.org/pandas-docs/stable/user_guide/indexing.html#returning-a-view-versus-a-copy\n",
            "  elif(df['Q16'][i] == 'C'): df['Q16'][i] = 2\n",
            "<ipython-input-12-2a5830fd3b20>:4: SettingWithCopyWarning: \n",
            "A value is trying to be set on a copy of a slice from a DataFrame\n",
            "\n",
            "See the caveats in the documentation: https://pandas.pydata.org/pandas-docs/stable/user_guide/indexing.html#returning-a-view-versus-a-copy\n",
            "  elif(df['Q16'][i] == 'B'): df['Q16'][i] = 1\n"
          ]
        },
        {
          "output_type": "stream",
          "name": "stdout",
          "text": [
            "[0 3 2 1]\n"
          ]
        }
      ],
      "source": [
        "print(df['Q16'].unique())\n",
        "for i in range(len(df['Q16'])):\n",
        "    if(df['Q16'][i] == 'A'): df['Q16'][i] = 0\n",
        "    elif(df['Q16'][i] == 'B'): df['Q16'][i] = 1\n",
        "    elif(df['Q16'][i] == 'C'): df['Q16'][i] = 2\n",
        "    elif(df['Q16'][i] == 'D'): df['Q16'][i] = 3\n",
        "\n",
        "print(df['Q16'].unique())"
      ]
    },
    {
      "cell_type": "code",
      "execution_count": 13,
      "metadata": {
        "colab": {
          "base_uri": "https://localhost:8080/"
        },
        "id": "Lol9VrQiWQAB",
        "outputId": "6847f037-4e1d-435e-a48b-cfe44f112f66"
      },
      "outputs": [
        {
          "output_type": "stream",
          "name": "stdout",
          "text": [
            "Lenght of 0's 2883\n",
            "Lenght of 1's 1526\n",
            "Lenght of 2's 892\n",
            "Lenght of 3's 807\n"
          ]
        }
      ],
      "source": [
        "def PrintTheTargetColumnsRange(df):\n",
        "    print(f\"Lenght of 0's {len(df[df['Q16'] == 0])}\")\n",
        "    print(f\"Lenght of 1's {len(df[df['Q16'] == 1])}\")\n",
        "    print(f\"Lenght of 2's {len(df[df['Q16'] == 2])}\")\n",
        "    print(f\"Lenght of 3's {len(df[df['Q16'] == 3])}\")\n",
        "\n",
        "PrintTheTargetColumnsRange(df)"
      ]
    },
    {
      "cell_type": "markdown",
      "metadata": {
        "id": "KUf9LT6ndQib"
      },
      "source": [
        "### Check the DataTypes of all columns"
      ]
    },
    {
      "cell_type": "code",
      "execution_count": 14,
      "metadata": {
        "colab": {
          "base_uri": "https://localhost:8080/"
        },
        "id": "DBBTGps-dV9M",
        "outputId": "67925ac1-f43e-4b47-a673-556c4a5792ca"
      },
      "outputs": [
        {
          "output_type": "execute_result",
          "data": {
            "text/plain": [
              "Unnamed: 0     int64\n",
              "Q11_1          int64\n",
              "Q11_2          int64\n",
              "Q11_3          int64\n",
              "Q11_4          int64\n",
              "               ...  \n",
              "Q18_22        object\n",
              "Q18_23        object\n",
              "Q20            int64\n",
              "Q21            int64\n",
              "Q16           object\n",
              "Length: 76, dtype: object"
            ]
          },
          "metadata": {},
          "execution_count": 14
        }
      ],
      "source": [
        "df.dtypes"
      ]
    },
    {
      "cell_type": "markdown",
      "metadata": {
        "id": "ujrYjBlUWQAC"
      },
      "source": [
        "## Check The Uniqes of Columns"
      ]
    },
    {
      "cell_type": "code",
      "execution_count": 15,
      "metadata": {
        "colab": {
          "base_uri": "https://localhost:8080/"
        },
        "id": "jXZwRWKhWQAC",
        "outputId": "0c56f2de-df6b-4192-80dd-6f4eef167f60"
      },
      "outputs": [
        {
          "output_type": "stream",
          "name": "stdout",
          "text": [
            "Q11_1 = [0 1]\n",
            "Q11_2 = [0 1]\n",
            "Q11_3 = [0 1]\n",
            "Q11_4 = [1 0]\n",
            "Q11_5 = [1 0]\n",
            "Q11_6 = [0 1]\n",
            "Q11_7 = [0 1]\n",
            "Q11_8 = [1 0]\n",
            "Q11_9 = [0 1]\n",
            "Q11_10 = [0 1]\n",
            "Q11_11 = [1 0]\n",
            "Q11_12 = [0 1]\n",
            "Q11_13 = [0 1]\n",
            "Q11_Dont_Know = [0 1]\n",
            "Q12_1 = [0 1]\n",
            "Q12_2 = [0 1]\n",
            "Q12_3 = [1 0]\n",
            "Q12_4 = [1 0]\n",
            "Q12_5 = [0 1]\n",
            "Q12_6 = [0 1]\n",
            "Q12_7 = [0 1]\n",
            "Q12_8 = [1 0]\n",
            "Q12_9 = [0 1]\n",
            "Q12_10 = [0 1]\n",
            "Q12_11 = [1 0]\n",
            "Q12_12 = [0 1]\n",
            "Q12_13 = [0 1]\n",
            "Q12_14 = [0 1]\n",
            "Q12_Dont_Know = [0 1]\n",
            "Q13_1 = [0 1]\n",
            "Q13_2 = [0 1]\n",
            "Q13_3 = [1 0]\n",
            "Q13_4 = [0 1]\n",
            "Q13_5 = [1 0]\n",
            "Q13_6 = [0 1]\n",
            "Q13_7 = [0 1]\n",
            "Q13_8 = [0 1]\n",
            "Q13_9 = [1 0]\n",
            "Q13_10 = [0 1]\n",
            "Q13_11 = [0 1]\n",
            "Q13_12 = [0 1]\n",
            "Q13_13 = [1 0]\n",
            "Q13_14 = [1 0]\n",
            "Q13_15 = [0 1]\n",
            "Q13_16 = [0 1]\n",
            "Q13_Dont_Know = [0 1]\n",
            "Q14 = ['1' '3' '?' '2' '4' '5']\n",
            "Q15 = ['2' '1' '?']\n",
            "Q17 = ['3' '1' '?' '2' '4' '5']\n",
            "Q18_1 = ['5' '4' '?' '2' '3' '1']\n",
            "Q18_2 = ['5' '3' '?' '4' '1' '2']\n",
            "Q18_3 = ['5' '2' '4' '?' '3' '1']\n",
            "Q18_4 = ['5' '4' '?' '3' '2' '1']\n",
            "Q18_5 = ['5' '3' '4' '?' '2' '1']\n",
            "Q18_6 = ['5' '2' '4' '?' '3' '1']\n",
            "Q18_7 = ['5' '2' '4' '?' '1' '3']\n",
            "Q18_8 = ['5' '3' '4' '?' '2' '1']\n",
            "Q18_9 = ['5' '3' '4' '?' '2' '1']\n",
            "Q18_10 = ['5' '3' '4' '?' '2' '1']\n",
            "Q18_11 = ['5' '2' '?' '4' '1' '3']\n",
            "Q18_12 = ['5' '1' '4' '?' '3' '2']\n",
            "Q18_13 = ['5' '2' '?' '4' '3' '1']\n",
            "Q18_14 = ['5' '4' '?' '3' '2' '1']\n",
            "Q18_15 = ['5' '2' '?' '4' '3' '1']\n",
            "Q18_16 = ['5' '2' '?' '4' '1' '3']\n",
            "Q18_17 = ['5' '4' '?' '3' '2' '1']\n",
            "Q18_18 = ['5' '2' '4' '?' '1' '3']\n",
            "Q18_19 = ['5' '4' '?' '1' '2' '3']\n",
            "Q18_20 = ['5' '2' '?' '1' '4' '3']\n",
            "Q18_21 = ['5' '2' '4' '?' '3' '1']\n",
            "Q18_22 = ['5' '2' '?' '4' '3' '1']\n",
            "Q18_23 = ['5' '2' '4' '?' '3' '1']\n",
            "Q20 = [3 4 5 1 2]\n",
            "Q21 = [3 1 2 4 5]\n",
            "Q16 = [0 3 2 1]\n"
          ]
        }
      ],
      "source": [
        "for column in df.columns:\n",
        "    if column != 'Unnamed: 0':\n",
        "        print(f\"{column} = {df[column].unique()}\")"
      ]
    },
    {
      "cell_type": "markdown",
      "metadata": {
        "id": "fbw4uU1EXYml"
      },
      "source": [
        "# Handling NULL Values"
      ]
    },
    {
      "cell_type": "code",
      "execution_count": 16,
      "metadata": {
        "id": "mJitLH0mXhDH"
      },
      "outputs": [],
      "source": [
        "null_df = df.isnull().sum()"
      ]
    },
    {
      "cell_type": "code",
      "execution_count": 17,
      "metadata": {
        "colab": {
          "base_uri": "https://localhost:8080/"
        },
        "id": "G1ex53PmX3n4",
        "outputId": "c0416f0f-20ff-4fc3-b25c-7dbd20d90ebb"
      },
      "outputs": [
        {
          "output_type": "execute_result",
          "data": {
            "text/plain": [
              "Unnamed: 0    0\n",
              "Q11_1         0\n",
              "Q11_2         0\n",
              "Q11_3         0\n",
              "Q11_4         0\n",
              "             ..\n",
              "Q18_22        0\n",
              "Q18_23        0\n",
              "Q20           0\n",
              "Q21           0\n",
              "Q16           0\n",
              "Length: 76, dtype: int64"
            ]
          },
          "metadata": {},
          "execution_count": 17
        }
      ],
      "source": [
        "null_df"
      ]
    },
    {
      "cell_type": "code",
      "execution_count": 18,
      "metadata": {
        "colab": {
          "base_uri": "https://localhost:8080/"
        },
        "id": "P331kpJEdZSS",
        "outputId": "838aa0dd-f073-46cb-ad47-de5d2d8345e4"
      },
      "outputs": [
        {
          "output_type": "execute_result",
          "data": {
            "text/plain": [
              "Unnamed: 0       0\n",
              "Q11_1            0\n",
              "Q11_2            0\n",
              "Q11_3            0\n",
              "Q11_4            0\n",
              "Q11_5            0\n",
              "Q11_6            0\n",
              "Q11_7            0\n",
              "Q11_8            0\n",
              "Q11_9            0\n",
              "Q11_10           0\n",
              "Q11_11           0\n",
              "Q11_12           0\n",
              "Q11_13           0\n",
              "Q11_Dont_Know    0\n",
              "Q12_1            0\n",
              "Q12_2            0\n",
              "Q12_3            0\n",
              "Q12_4            0\n",
              "Q12_5            0\n",
              "Q12_6            0\n",
              "Q12_7            0\n",
              "Q12_8            0\n",
              "Q12_9            0\n",
              "Q12_10           0\n",
              "Q12_11           0\n",
              "Q12_12           0\n",
              "Q12_13           0\n",
              "Q12_14           0\n",
              "Q12_Dont_Know    0\n",
              "Q13_1            0\n",
              "Q13_2            0\n",
              "Q13_3            0\n",
              "Q13_4            0\n",
              "Q13_5            0\n",
              "dtype: int64"
            ]
          },
          "metadata": {},
          "execution_count": 18
        }
      ],
      "source": [
        "question_mark_cells = df.applymap(lambda x: x == \"?\")\n",
        "question_mark_counts = question_mark_cells.sum(axis = 0)\n",
        "question_mark_counts.head(35)"
      ]
    },
    {
      "cell_type": "code",
      "execution_count": 19,
      "metadata": {
        "colab": {
          "base_uri": "https://localhost:8080/"
        },
        "id": "EqMVev5jdkOk",
        "outputId": "73fab237-8a56-4b34-f31b-6d6be4888531"
      },
      "outputs": [
        {
          "output_type": "execute_result",
          "data": {
            "text/plain": [
              "Q13_7               0\n",
              "Q13_8               0\n",
              "Q13_9               0\n",
              "Q13_10              0\n",
              "Q13_11              0\n",
              "Q13_12              0\n",
              "Q13_13              0\n",
              "Q13_14              0\n",
              "Q13_15              0\n",
              "Q13_16              0\n",
              "Q13_Dont_Know       0\n",
              "Q14               422\n",
              "Q15                92\n",
              "Q17               742\n",
              "Q18_1             559\n",
              "Q18_2             889\n",
              "Q18_3            1361\n",
              "Q18_4             801\n",
              "Q18_5            1588\n",
              "Q18_6            1219\n",
              "Q18_7             947\n",
              "Q18_8             712\n",
              "Q18_9            1055\n",
              "Q18_10           1421\n",
              "Q18_11            918\n",
              "Q18_12           1126\n",
              "Q18_13            738\n",
              "Q18_14            787\n",
              "Q18_15           1361\n",
              "Q18_16           1460\n",
              "Q18_17           1216\n",
              "Q18_18           1027\n",
              "Q18_19           1721\n",
              "Q18_20           1098\n",
              "Q18_21           1669\n",
              "Q18_22           1700\n",
              "Q18_23           1451\n",
              "Q20                 0\n",
              "Q21                 0\n",
              "Q16                 0\n",
              "dtype: int64"
            ]
          },
          "metadata": {},
          "execution_count": 19
        }
      ],
      "source": [
        "question_mark_counts.tail(40)"
      ]
    },
    {
      "cell_type": "markdown",
      "metadata": {
        "id": "_DXFws5BeCMB"
      },
      "source": [
        "### Method For Filling '?' variabels"
      ]
    },
    {
      "cell_type": "code",
      "execution_count": 20,
      "metadata": {
        "id": "VWhvr4BZeLC2"
      },
      "outputs": [],
      "source": [
        "def FillingQuestionWithMode(df):\n",
        "    result = \"\"\n",
        "    questionMarkSet = []\n",
        "    for column in question_mark_cells:\n",
        "        if(isinstance(question_mark_counts[column], np.int64) and question_mark_counts[column] > 0):\n",
        "            questionMarkSet.append(column)\n",
        "\n",
        "    for column in questionMarkSet:\n",
        "        mode_value = df[column].mode().iloc[0]  # Get the first mode in case of multiple modes\n",
        "        if(mode_value == '?'):\n",
        "            df[column] = df[column].replace('?', round(pd.to_numeric(df[column], errors='coerce').mean()))\n",
        "            result = result + f\"This {column} mode is '?' so filling with average of column {round(pd.to_numeric(df[column], errors='coerce').mean())}.\\n\"\n",
        "        else:\n",
        "            df[column] = df[column].replace('?', mode_value)\n",
        "    return df, result"
      ]
    },
    {
      "cell_type": "code",
      "execution_count": 21,
      "metadata": {
        "colab": {
          "base_uri": "https://localhost:8080/"
        },
        "id": "BAZrp5VsKLBI",
        "outputId": "8f804994-2e81-4f89-db08-ae4ef1225ec8"
      },
      "outputs": [
        {
          "output_type": "stream",
          "name": "stdout",
          "text": [
            "This Q18_19 mode is '?' so filling with average of column 3.\n",
            "This Q18_22 mode is '?' so filling with average of column 2.\n",
            "\n"
          ]
        }
      ],
      "source": [
        "questionToMode_df = df.copy()\n",
        "questionToMode_df, result = FillingQuestionWithMode(questionToMode_df)\n",
        "print(result)"
      ]
    },
    {
      "cell_type": "code",
      "execution_count": 22,
      "metadata": {
        "colab": {
          "base_uri": "https://localhost:8080/"
        },
        "id": "jGNxnnElfUM0",
        "outputId": "4483c1bc-5844-4f25-f6b6-4e986db6c077"
      },
      "outputs": [
        {
          "output_type": "execute_result",
          "data": {
            "text/plain": [
              "Q12_12           0\n",
              "Q12_13           0\n",
              "Q12_14           0\n",
              "Q12_Dont_Know    0\n",
              "Q13_1            0\n",
              "Q13_2            0\n",
              "Q13_3            0\n",
              "Q13_4            0\n",
              "Q13_5            0\n",
              "Q13_6            0\n",
              "Q13_7            0\n",
              "Q13_8            0\n",
              "Q13_9            0\n",
              "Q13_10           0\n",
              "Q13_11           0\n",
              "Q13_12           0\n",
              "Q13_13           0\n",
              "Q13_14           0\n",
              "Q13_15           0\n",
              "Q13_16           0\n",
              "Q13_Dont_Know    0\n",
              "Q14              0\n",
              "Q15              0\n",
              "Q17              0\n",
              "Q18_1            0\n",
              "Q18_2            0\n",
              "Q18_3            0\n",
              "Q18_4            0\n",
              "Q18_5            0\n",
              "Q18_6            0\n",
              "Q18_7            0\n",
              "Q18_8            0\n",
              "Q18_9            0\n",
              "Q18_10           0\n",
              "Q18_11           0\n",
              "Q18_12           0\n",
              "Q18_13           0\n",
              "Q18_14           0\n",
              "Q18_15           0\n",
              "Q18_16           0\n",
              "Q18_17           0\n",
              "Q18_18           0\n",
              "Q18_19           0\n",
              "Q18_20           0\n",
              "Q18_21           0\n",
              "Q18_22           0\n",
              "Q18_23           0\n",
              "Q20              0\n",
              "Q21              0\n",
              "Q16              0\n",
              "dtype: int64"
            ]
          },
          "metadata": {},
          "execution_count": 22
        }
      ],
      "source": [
        "question_mark_cells = questionToMode_df.applymap(lambda x: x == \"?\")\n",
        "question_mark_cells.sum().tail(50)"
      ]
    },
    {
      "cell_type": "code",
      "execution_count": 23,
      "metadata": {
        "colab": {
          "base_uri": "https://localhost:8080/"
        },
        "id": "fuB3hJflKLBJ",
        "outputId": "b7a1a8fa-0570-4519-a2df-8e0af10e2c03"
      },
      "outputs": [
        {
          "output_type": "execute_result",
          "data": {
            "text/plain": [
              "Unnamed: 0       0\n",
              "Q11_1            0\n",
              "Q11_2            0\n",
              "Q11_3            0\n",
              "Q11_4            0\n",
              "Q11_5            0\n",
              "Q11_6            0\n",
              "Q11_7            0\n",
              "Q11_8            0\n",
              "Q11_9            0\n",
              "Q11_10           0\n",
              "Q11_11           0\n",
              "Q11_12           0\n",
              "Q11_13           0\n",
              "Q11_Dont_Know    0\n",
              "Q12_1            0\n",
              "Q12_2            0\n",
              "Q12_3            0\n",
              "Q12_4            0\n",
              "Q12_5            0\n",
              "Q12_6            0\n",
              "Q12_7            0\n",
              "Q12_8            0\n",
              "Q12_9            0\n",
              "Q12_10           0\n",
              "dtype: int64"
            ]
          },
          "metadata": {},
          "execution_count": 23
        }
      ],
      "source": [
        "question_mark_cells.sum().head(25)"
      ]
    },
    {
      "cell_type": "markdown",
      "metadata": {
        "id": "p0k1QJwwd0n5"
      },
      "source": [
        "### Change Data Types to NumpyInt64"
      ]
    },
    {
      "cell_type": "code",
      "execution_count": 24,
      "metadata": {
        "id": "ooUXDDnVd3ea"
      },
      "outputs": [],
      "source": [
        "for column in questionToMode_df:\n",
        "  try:\n",
        "    questionToMode_df[column] = questionToMode_df[column].astype('int64')\n",
        "  except:\n",
        "    continue"
      ]
    },
    {
      "cell_type": "code",
      "execution_count": 25,
      "metadata": {
        "colab": {
          "base_uri": "https://localhost:8080/"
        },
        "id": "E7gfW0z1WQAF",
        "outputId": "edfb5be2-8216-498a-b7d9-2c80c8cd98d4"
      },
      "outputs": [
        {
          "output_type": "execute_result",
          "data": {
            "text/plain": [
              "Unnamed: 0       int64\n",
              "Q11_1            int64\n",
              "Q11_2            int64\n",
              "Q11_3            int64\n",
              "Q11_4            int64\n",
              "Q11_5            int64\n",
              "Q11_6            int64\n",
              "Q11_7            int64\n",
              "Q11_8            int64\n",
              "Q11_9            int64\n",
              "Q11_10           int64\n",
              "Q11_11           int64\n",
              "Q11_12           int64\n",
              "Q11_13           int64\n",
              "Q11_Dont_Know    int64\n",
              "Q12_1            int64\n",
              "Q12_2            int64\n",
              "Q12_3            int64\n",
              "Q12_4            int64\n",
              "Q12_5            int64\n",
              "Q12_6            int64\n",
              "Q12_7            int64\n",
              "Q12_8            int64\n",
              "Q12_9            int64\n",
              "Q12_10           int64\n",
              "Q12_11           int64\n",
              "Q12_12           int64\n",
              "Q12_13           int64\n",
              "Q12_14           int64\n",
              "Q12_Dont_Know    int64\n",
              "Q13_1            int64\n",
              "Q13_2            int64\n",
              "Q13_3            int64\n",
              "Q13_4            int64\n",
              "Q13_5            int64\n",
              "Q13_6            int64\n",
              "Q13_7            int64\n",
              "Q13_8            int64\n",
              "Q13_9            int64\n",
              "Q13_10           int64\n",
              "Q13_11           int64\n",
              "Q13_12           int64\n",
              "Q13_13           int64\n",
              "Q13_14           int64\n",
              "Q13_15           int64\n",
              "Q13_16           int64\n",
              "Q13_Dont_Know    int64\n",
              "Q14              int64\n",
              "Q15              int64\n",
              "Q17              int64\n",
              "dtype: object"
            ]
          },
          "metadata": {},
          "execution_count": 25
        }
      ],
      "source": [
        "questionToMode_df.dtypes.head(50)"
      ]
    },
    {
      "cell_type": "code",
      "execution_count": 26,
      "metadata": {
        "colab": {
          "base_uri": "https://localhost:8080/"
        },
        "id": "TH11bDMhWQAF",
        "outputId": "e3406a7f-0134-4746-afa5-fd677ec3c517"
      },
      "outputs": [
        {
          "output_type": "execute_result",
          "data": {
            "text/plain": [
              "Q18_2     int64\n",
              "Q18_3     int64\n",
              "Q18_4     int64\n",
              "Q18_5     int64\n",
              "Q18_6     int64\n",
              "Q18_7     int64\n",
              "Q18_8     int64\n",
              "Q18_9     int64\n",
              "Q18_10    int64\n",
              "Q18_11    int64\n",
              "Q18_12    int64\n",
              "Q18_13    int64\n",
              "Q18_14    int64\n",
              "Q18_15    int64\n",
              "Q18_16    int64\n",
              "Q18_17    int64\n",
              "Q18_18    int64\n",
              "Q18_19    int64\n",
              "Q18_20    int64\n",
              "Q18_21    int64\n",
              "Q18_22    int64\n",
              "Q18_23    int64\n",
              "Q20       int64\n",
              "Q21       int64\n",
              "Q16       int64\n",
              "dtype: object"
            ]
          },
          "metadata": {},
          "execution_count": 26
        }
      ],
      "source": [
        "questionToMode_df.dtypes.tail(25)"
      ]
    },
    {
      "cell_type": "markdown",
      "metadata": {
        "id": "lIud2itKK-oW"
      },
      "source": [
        "### Check Missing Values"
      ]
    },
    {
      "cell_type": "code",
      "execution_count": 27,
      "metadata": {
        "colab": {
          "base_uri": "https://localhost:8080/"
        },
        "id": "-Iste_2gKVqa",
        "outputId": "d44aa5f3-3be2-448f-cbce-95cc98cbc484"
      },
      "outputs": [
        {
          "output_type": "execute_result",
          "data": {
            "text/plain": [
              "Unnamed: 0    0\n",
              "Q11_1         0\n",
              "Q11_2         0\n",
              "Q11_3         0\n",
              "Q11_4         0\n",
              "             ..\n",
              "Q18_22        0\n",
              "Q18_23        0\n",
              "Q20           0\n",
              "Q21           0\n",
              "Q16           0\n",
              "Length: 76, dtype: int64"
            ]
          },
          "metadata": {},
          "execution_count": 27
        }
      ],
      "source": [
        "questionToMode_df.isnull().sum()"
      ]
    },
    {
      "cell_type": "markdown",
      "metadata": {
        "id": "jLcyT_iCLwHF"
      },
      "source": [
        "### Describtion of Dataset After Handling Null Values"
      ]
    },
    {
      "cell_type": "code",
      "execution_count": 28,
      "metadata": {
        "colab": {
          "base_uri": "https://localhost:8080/",
          "height": 329
        },
        "id": "votWtuR5LZGz",
        "outputId": "2c21f964-43e8-415c-d404-c7ecda2e4224"
      },
      "outputs": [
        {
          "output_type": "execute_result",
          "data": {
            "text/plain": [
              "        Unnamed: 0        Q11_1        Q11_2        Q11_3        Q11_4  \\\n",
              "count  6108.000000  6108.000000  6108.000000  6108.000000  6108.000000   \n",
              "mean   3053.500000     0.479044     0.295678     0.178782     0.584152   \n",
              "std    1763.372054     0.499602     0.456384     0.383201     0.492908   \n",
              "min       0.000000     0.000000     0.000000     0.000000     0.000000   \n",
              "25%    1526.750000     0.000000     0.000000     0.000000     0.000000   \n",
              "50%    3053.500000     0.000000     0.000000     0.000000     1.000000   \n",
              "75%    4580.250000     1.000000     1.000000     0.000000     1.000000   \n",
              "max    6107.000000     1.000000     1.000000     1.000000     1.000000   \n",
              "\n",
              "             Q11_5        Q11_6        Q11_7        Q11_8        Q11_9  ...  \\\n",
              "count  6108.000000  6108.000000  6108.000000  6108.000000  6108.000000  ...   \n",
              "mean      0.280779     0.089555     0.379993     0.302227     0.076130  ...   \n",
              "std       0.449417     0.285566     0.485425     0.459261     0.265227  ...   \n",
              "min       0.000000     0.000000     0.000000     0.000000     0.000000  ...   \n",
              "25%       0.000000     0.000000     0.000000     0.000000     0.000000  ...   \n",
              "50%       0.000000     0.000000     0.000000     0.000000     0.000000  ...   \n",
              "75%       1.000000     0.000000     1.000000     1.000000     0.000000  ...   \n",
              "max       1.000000     1.000000     1.000000     1.000000     1.000000  ...   \n",
              "\n",
              "            Q18_17       Q18_18       Q18_19       Q18_20       Q18_21  \\\n",
              "count  6108.000000  6108.000000  6108.000000  6108.000000  6108.000000   \n",
              "mean      3.034217     2.200557     3.046005     2.274067     2.863785   \n",
              "std       1.013568     0.940799     0.969493     1.031295     0.929183   \n",
              "min       1.000000     1.000000     1.000000     1.000000     1.000000   \n",
              "25%       2.000000     2.000000     3.000000     2.000000     2.000000   \n",
              "50%       3.000000     2.000000     3.000000     2.000000     3.000000   \n",
              "75%       4.000000     3.000000     4.000000     3.000000     3.000000   \n",
              "max       5.000000     5.000000     5.000000     5.000000     5.000000   \n",
              "\n",
              "            Q18_22       Q18_23          Q20          Q21          Q16  \n",
              "count  6108.000000  6108.000000  6108.000000  6108.000000  6108.000000  \n",
              "mean      2.350196     2.612803     2.870825     2.596758     0.938278  \n",
              "std       0.928942     0.952385     0.811442     0.834790     1.069068  \n",
              "min       1.000000     1.000000     1.000000     1.000000     0.000000  \n",
              "25%       2.000000     2.000000     3.000000     2.000000     0.000000  \n",
              "50%       2.000000     3.000000     3.000000     3.000000     1.000000  \n",
              "75%       3.000000     3.000000     3.000000     3.000000     2.000000  \n",
              "max       5.000000     5.000000     5.000000     5.000000     3.000000  \n",
              "\n",
              "[8 rows x 76 columns]"
            ],
            "text/html": [
              "\n",
              "  <div id=\"df-2fea1b69-0b39-4158-9f5b-43a5c9163934\" class=\"colab-df-container\">\n",
              "    <div>\n",
              "<style scoped>\n",
              "    .dataframe tbody tr th:only-of-type {\n",
              "        vertical-align: middle;\n",
              "    }\n",
              "\n",
              "    .dataframe tbody tr th {\n",
              "        vertical-align: top;\n",
              "    }\n",
              "\n",
              "    .dataframe thead th {\n",
              "        text-align: right;\n",
              "    }\n",
              "</style>\n",
              "<table border=\"1\" class=\"dataframe\">\n",
              "  <thead>\n",
              "    <tr style=\"text-align: right;\">\n",
              "      <th></th>\n",
              "      <th>Unnamed: 0</th>\n",
              "      <th>Q11_1</th>\n",
              "      <th>Q11_2</th>\n",
              "      <th>Q11_3</th>\n",
              "      <th>Q11_4</th>\n",
              "      <th>Q11_5</th>\n",
              "      <th>Q11_6</th>\n",
              "      <th>Q11_7</th>\n",
              "      <th>Q11_8</th>\n",
              "      <th>Q11_9</th>\n",
              "      <th>...</th>\n",
              "      <th>Q18_17</th>\n",
              "      <th>Q18_18</th>\n",
              "      <th>Q18_19</th>\n",
              "      <th>Q18_20</th>\n",
              "      <th>Q18_21</th>\n",
              "      <th>Q18_22</th>\n",
              "      <th>Q18_23</th>\n",
              "      <th>Q20</th>\n",
              "      <th>Q21</th>\n",
              "      <th>Q16</th>\n",
              "    </tr>\n",
              "  </thead>\n",
              "  <tbody>\n",
              "    <tr>\n",
              "      <th>count</th>\n",
              "      <td>6108.000000</td>\n",
              "      <td>6108.000000</td>\n",
              "      <td>6108.000000</td>\n",
              "      <td>6108.000000</td>\n",
              "      <td>6108.000000</td>\n",
              "      <td>6108.000000</td>\n",
              "      <td>6108.000000</td>\n",
              "      <td>6108.000000</td>\n",
              "      <td>6108.000000</td>\n",
              "      <td>6108.000000</td>\n",
              "      <td>...</td>\n",
              "      <td>6108.000000</td>\n",
              "      <td>6108.000000</td>\n",
              "      <td>6108.000000</td>\n",
              "      <td>6108.000000</td>\n",
              "      <td>6108.000000</td>\n",
              "      <td>6108.000000</td>\n",
              "      <td>6108.000000</td>\n",
              "      <td>6108.000000</td>\n",
              "      <td>6108.000000</td>\n",
              "      <td>6108.000000</td>\n",
              "    </tr>\n",
              "    <tr>\n",
              "      <th>mean</th>\n",
              "      <td>3053.500000</td>\n",
              "      <td>0.479044</td>\n",
              "      <td>0.295678</td>\n",
              "      <td>0.178782</td>\n",
              "      <td>0.584152</td>\n",
              "      <td>0.280779</td>\n",
              "      <td>0.089555</td>\n",
              "      <td>0.379993</td>\n",
              "      <td>0.302227</td>\n",
              "      <td>0.076130</td>\n",
              "      <td>...</td>\n",
              "      <td>3.034217</td>\n",
              "      <td>2.200557</td>\n",
              "      <td>3.046005</td>\n",
              "      <td>2.274067</td>\n",
              "      <td>2.863785</td>\n",
              "      <td>2.350196</td>\n",
              "      <td>2.612803</td>\n",
              "      <td>2.870825</td>\n",
              "      <td>2.596758</td>\n",
              "      <td>0.938278</td>\n",
              "    </tr>\n",
              "    <tr>\n",
              "      <th>std</th>\n",
              "      <td>1763.372054</td>\n",
              "      <td>0.499602</td>\n",
              "      <td>0.456384</td>\n",
              "      <td>0.383201</td>\n",
              "      <td>0.492908</td>\n",
              "      <td>0.449417</td>\n",
              "      <td>0.285566</td>\n",
              "      <td>0.485425</td>\n",
              "      <td>0.459261</td>\n",
              "      <td>0.265227</td>\n",
              "      <td>...</td>\n",
              "      <td>1.013568</td>\n",
              "      <td>0.940799</td>\n",
              "      <td>0.969493</td>\n",
              "      <td>1.031295</td>\n",
              "      <td>0.929183</td>\n",
              "      <td>0.928942</td>\n",
              "      <td>0.952385</td>\n",
              "      <td>0.811442</td>\n",
              "      <td>0.834790</td>\n",
              "      <td>1.069068</td>\n",
              "    </tr>\n",
              "    <tr>\n",
              "      <th>min</th>\n",
              "      <td>0.000000</td>\n",
              "      <td>0.000000</td>\n",
              "      <td>0.000000</td>\n",
              "      <td>0.000000</td>\n",
              "      <td>0.000000</td>\n",
              "      <td>0.000000</td>\n",
              "      <td>0.000000</td>\n",
              "      <td>0.000000</td>\n",
              "      <td>0.000000</td>\n",
              "      <td>0.000000</td>\n",
              "      <td>...</td>\n",
              "      <td>1.000000</td>\n",
              "      <td>1.000000</td>\n",
              "      <td>1.000000</td>\n",
              "      <td>1.000000</td>\n",
              "      <td>1.000000</td>\n",
              "      <td>1.000000</td>\n",
              "      <td>1.000000</td>\n",
              "      <td>1.000000</td>\n",
              "      <td>1.000000</td>\n",
              "      <td>0.000000</td>\n",
              "    </tr>\n",
              "    <tr>\n",
              "      <th>25%</th>\n",
              "      <td>1526.750000</td>\n",
              "      <td>0.000000</td>\n",
              "      <td>0.000000</td>\n",
              "      <td>0.000000</td>\n",
              "      <td>0.000000</td>\n",
              "      <td>0.000000</td>\n",
              "      <td>0.000000</td>\n",
              "      <td>0.000000</td>\n",
              "      <td>0.000000</td>\n",
              "      <td>0.000000</td>\n",
              "      <td>...</td>\n",
              "      <td>2.000000</td>\n",
              "      <td>2.000000</td>\n",
              "      <td>3.000000</td>\n",
              "      <td>2.000000</td>\n",
              "      <td>2.000000</td>\n",
              "      <td>2.000000</td>\n",
              "      <td>2.000000</td>\n",
              "      <td>3.000000</td>\n",
              "      <td>2.000000</td>\n",
              "      <td>0.000000</td>\n",
              "    </tr>\n",
              "    <tr>\n",
              "      <th>50%</th>\n",
              "      <td>3053.500000</td>\n",
              "      <td>0.000000</td>\n",
              "      <td>0.000000</td>\n",
              "      <td>0.000000</td>\n",
              "      <td>1.000000</td>\n",
              "      <td>0.000000</td>\n",
              "      <td>0.000000</td>\n",
              "      <td>0.000000</td>\n",
              "      <td>0.000000</td>\n",
              "      <td>0.000000</td>\n",
              "      <td>...</td>\n",
              "      <td>3.000000</td>\n",
              "      <td>2.000000</td>\n",
              "      <td>3.000000</td>\n",
              "      <td>2.000000</td>\n",
              "      <td>3.000000</td>\n",
              "      <td>2.000000</td>\n",
              "      <td>3.000000</td>\n",
              "      <td>3.000000</td>\n",
              "      <td>3.000000</td>\n",
              "      <td>1.000000</td>\n",
              "    </tr>\n",
              "    <tr>\n",
              "      <th>75%</th>\n",
              "      <td>4580.250000</td>\n",
              "      <td>1.000000</td>\n",
              "      <td>1.000000</td>\n",
              "      <td>0.000000</td>\n",
              "      <td>1.000000</td>\n",
              "      <td>1.000000</td>\n",
              "      <td>0.000000</td>\n",
              "      <td>1.000000</td>\n",
              "      <td>1.000000</td>\n",
              "      <td>0.000000</td>\n",
              "      <td>...</td>\n",
              "      <td>4.000000</td>\n",
              "      <td>3.000000</td>\n",
              "      <td>4.000000</td>\n",
              "      <td>3.000000</td>\n",
              "      <td>3.000000</td>\n",
              "      <td>3.000000</td>\n",
              "      <td>3.000000</td>\n",
              "      <td>3.000000</td>\n",
              "      <td>3.000000</td>\n",
              "      <td>2.000000</td>\n",
              "    </tr>\n",
              "    <tr>\n",
              "      <th>max</th>\n",
              "      <td>6107.000000</td>\n",
              "      <td>1.000000</td>\n",
              "      <td>1.000000</td>\n",
              "      <td>1.000000</td>\n",
              "      <td>1.000000</td>\n",
              "      <td>1.000000</td>\n",
              "      <td>1.000000</td>\n",
              "      <td>1.000000</td>\n",
              "      <td>1.000000</td>\n",
              "      <td>1.000000</td>\n",
              "      <td>...</td>\n",
              "      <td>5.000000</td>\n",
              "      <td>5.000000</td>\n",
              "      <td>5.000000</td>\n",
              "      <td>5.000000</td>\n",
              "      <td>5.000000</td>\n",
              "      <td>5.000000</td>\n",
              "      <td>5.000000</td>\n",
              "      <td>5.000000</td>\n",
              "      <td>5.000000</td>\n",
              "      <td>3.000000</td>\n",
              "    </tr>\n",
              "  </tbody>\n",
              "</table>\n",
              "<p>8 rows × 76 columns</p>\n",
              "</div>\n",
              "    <div class=\"colab-df-buttons\">\n",
              "\n",
              "  <div class=\"colab-df-container\">\n",
              "    <button class=\"colab-df-convert\" onclick=\"convertToInteractive('df-2fea1b69-0b39-4158-9f5b-43a5c9163934')\"\n",
              "            title=\"Convert this dataframe to an interactive table.\"\n",
              "            style=\"display:none;\">\n",
              "\n",
              "  <svg xmlns=\"http://www.w3.org/2000/svg\" height=\"24px\" viewBox=\"0 -960 960 960\">\n",
              "    <path d=\"M120-120v-720h720v720H120Zm60-500h600v-160H180v160Zm220 220h160v-160H400v160Zm0 220h160v-160H400v160ZM180-400h160v-160H180v160Zm440 0h160v-160H620v160ZM180-180h160v-160H180v160Zm440 0h160v-160H620v160Z\"/>\n",
              "  </svg>\n",
              "    </button>\n",
              "\n",
              "  <style>\n",
              "    .colab-df-container {\n",
              "      display:flex;\n",
              "      gap: 12px;\n",
              "    }\n",
              "\n",
              "    .colab-df-convert {\n",
              "      background-color: #E8F0FE;\n",
              "      border: none;\n",
              "      border-radius: 50%;\n",
              "      cursor: pointer;\n",
              "      display: none;\n",
              "      fill: #1967D2;\n",
              "      height: 32px;\n",
              "      padding: 0 0 0 0;\n",
              "      width: 32px;\n",
              "    }\n",
              "\n",
              "    .colab-df-convert:hover {\n",
              "      background-color: #E2EBFA;\n",
              "      box-shadow: 0px 1px 2px rgba(60, 64, 67, 0.3), 0px 1px 3px 1px rgba(60, 64, 67, 0.15);\n",
              "      fill: #174EA6;\n",
              "    }\n",
              "\n",
              "    .colab-df-buttons div {\n",
              "      margin-bottom: 4px;\n",
              "    }\n",
              "\n",
              "    [theme=dark] .colab-df-convert {\n",
              "      background-color: #3B4455;\n",
              "      fill: #D2E3FC;\n",
              "    }\n",
              "\n",
              "    [theme=dark] .colab-df-convert:hover {\n",
              "      background-color: #434B5C;\n",
              "      box-shadow: 0px 1px 3px 1px rgba(0, 0, 0, 0.15);\n",
              "      filter: drop-shadow(0px 1px 2px rgba(0, 0, 0, 0.3));\n",
              "      fill: #FFFFFF;\n",
              "    }\n",
              "  </style>\n",
              "\n",
              "    <script>\n",
              "      const buttonEl =\n",
              "        document.querySelector('#df-2fea1b69-0b39-4158-9f5b-43a5c9163934 button.colab-df-convert');\n",
              "      buttonEl.style.display =\n",
              "        google.colab.kernel.accessAllowed ? 'block' : 'none';\n",
              "\n",
              "      async function convertToInteractive(key) {\n",
              "        const element = document.querySelector('#df-2fea1b69-0b39-4158-9f5b-43a5c9163934');\n",
              "        const dataTable =\n",
              "          await google.colab.kernel.invokeFunction('convertToInteractive',\n",
              "                                                    [key], {});\n",
              "        if (!dataTable) return;\n",
              "\n",
              "        const docLinkHtml = 'Like what you see? Visit the ' +\n",
              "          '<a target=\"_blank\" href=https://colab.research.google.com/notebooks/data_table.ipynb>data table notebook</a>'\n",
              "          + ' to learn more about interactive tables.';\n",
              "        element.innerHTML = '';\n",
              "        dataTable['output_type'] = 'display_data';\n",
              "        await google.colab.output.renderOutput(dataTable, element);\n",
              "        const docLink = document.createElement('div');\n",
              "        docLink.innerHTML = docLinkHtml;\n",
              "        element.appendChild(docLink);\n",
              "      }\n",
              "    </script>\n",
              "  </div>\n",
              "\n",
              "\n",
              "<div id=\"df-96763c18-a04d-42e8-9249-98aa03bb2eb1\">\n",
              "  <button class=\"colab-df-quickchart\" onclick=\"quickchart('df-96763c18-a04d-42e8-9249-98aa03bb2eb1')\"\n",
              "            title=\"Suggest charts\"\n",
              "            style=\"display:none;\">\n",
              "\n",
              "<svg xmlns=\"http://www.w3.org/2000/svg\" height=\"24px\"viewBox=\"0 0 24 24\"\n",
              "     width=\"24px\">\n",
              "    <g>\n",
              "        <path d=\"M19 3H5c-1.1 0-2 .9-2 2v14c0 1.1.9 2 2 2h14c1.1 0 2-.9 2-2V5c0-1.1-.9-2-2-2zM9 17H7v-7h2v7zm4 0h-2V7h2v10zm4 0h-2v-4h2v4z\"/>\n",
              "    </g>\n",
              "</svg>\n",
              "  </button>\n",
              "\n",
              "<style>\n",
              "  .colab-df-quickchart {\n",
              "      --bg-color: #E8F0FE;\n",
              "      --fill-color: #1967D2;\n",
              "      --hover-bg-color: #E2EBFA;\n",
              "      --hover-fill-color: #174EA6;\n",
              "      --disabled-fill-color: #AAA;\n",
              "      --disabled-bg-color: #DDD;\n",
              "  }\n",
              "\n",
              "  [theme=dark] .colab-df-quickchart {\n",
              "      --bg-color: #3B4455;\n",
              "      --fill-color: #D2E3FC;\n",
              "      --hover-bg-color: #434B5C;\n",
              "      --hover-fill-color: #FFFFFF;\n",
              "      --disabled-bg-color: #3B4455;\n",
              "      --disabled-fill-color: #666;\n",
              "  }\n",
              "\n",
              "  .colab-df-quickchart {\n",
              "    background-color: var(--bg-color);\n",
              "    border: none;\n",
              "    border-radius: 50%;\n",
              "    cursor: pointer;\n",
              "    display: none;\n",
              "    fill: var(--fill-color);\n",
              "    height: 32px;\n",
              "    padding: 0;\n",
              "    width: 32px;\n",
              "  }\n",
              "\n",
              "  .colab-df-quickchart:hover {\n",
              "    background-color: var(--hover-bg-color);\n",
              "    box-shadow: 0 1px 2px rgba(60, 64, 67, 0.3), 0 1px 3px 1px rgba(60, 64, 67, 0.15);\n",
              "    fill: var(--button-hover-fill-color);\n",
              "  }\n",
              "\n",
              "  .colab-df-quickchart-complete:disabled,\n",
              "  .colab-df-quickchart-complete:disabled:hover {\n",
              "    background-color: var(--disabled-bg-color);\n",
              "    fill: var(--disabled-fill-color);\n",
              "    box-shadow: none;\n",
              "  }\n",
              "\n",
              "  .colab-df-spinner {\n",
              "    border: 2px solid var(--fill-color);\n",
              "    border-color: transparent;\n",
              "    border-bottom-color: var(--fill-color);\n",
              "    animation:\n",
              "      spin 1s steps(1) infinite;\n",
              "  }\n",
              "\n",
              "  @keyframes spin {\n",
              "    0% {\n",
              "      border-color: transparent;\n",
              "      border-bottom-color: var(--fill-color);\n",
              "      border-left-color: var(--fill-color);\n",
              "    }\n",
              "    20% {\n",
              "      border-color: transparent;\n",
              "      border-left-color: var(--fill-color);\n",
              "      border-top-color: var(--fill-color);\n",
              "    }\n",
              "    30% {\n",
              "      border-color: transparent;\n",
              "      border-left-color: var(--fill-color);\n",
              "      border-top-color: var(--fill-color);\n",
              "      border-right-color: var(--fill-color);\n",
              "    }\n",
              "    40% {\n",
              "      border-color: transparent;\n",
              "      border-right-color: var(--fill-color);\n",
              "      border-top-color: var(--fill-color);\n",
              "    }\n",
              "    60% {\n",
              "      border-color: transparent;\n",
              "      border-right-color: var(--fill-color);\n",
              "    }\n",
              "    80% {\n",
              "      border-color: transparent;\n",
              "      border-right-color: var(--fill-color);\n",
              "      border-bottom-color: var(--fill-color);\n",
              "    }\n",
              "    90% {\n",
              "      border-color: transparent;\n",
              "      border-bottom-color: var(--fill-color);\n",
              "    }\n",
              "  }\n",
              "</style>\n",
              "\n",
              "  <script>\n",
              "    async function quickchart(key) {\n",
              "      const quickchartButtonEl =\n",
              "        document.querySelector('#' + key + ' button');\n",
              "      quickchartButtonEl.disabled = true;  // To prevent multiple clicks.\n",
              "      quickchartButtonEl.classList.add('colab-df-spinner');\n",
              "      try {\n",
              "        const charts = await google.colab.kernel.invokeFunction(\n",
              "            'suggestCharts', [key], {});\n",
              "      } catch (error) {\n",
              "        console.error('Error during call to suggestCharts:', error);\n",
              "      }\n",
              "      quickchartButtonEl.classList.remove('colab-df-spinner');\n",
              "      quickchartButtonEl.classList.add('colab-df-quickchart-complete');\n",
              "    }\n",
              "    (() => {\n",
              "      let quickchartButtonEl =\n",
              "        document.querySelector('#df-96763c18-a04d-42e8-9249-98aa03bb2eb1 button');\n",
              "      quickchartButtonEl.style.display =\n",
              "        google.colab.kernel.accessAllowed ? 'block' : 'none';\n",
              "    })();\n",
              "  </script>\n",
              "</div>\n",
              "\n",
              "    </div>\n",
              "  </div>\n"
            ]
          },
          "metadata": {},
          "execution_count": 28
        }
      ],
      "source": [
        "questionToMode_df.describe()"
      ]
    },
    {
      "cell_type": "markdown",
      "metadata": {
        "id": "1jNYqpObQWZR"
      },
      "source": [
        "### Showing Outliers\n"
      ]
    },
    {
      "cell_type": "code",
      "execution_count": 29,
      "metadata": {
        "colab": {
          "base_uri": "https://localhost:8080/",
          "height": 472
        },
        "id": "WZGJjlIVQjb7",
        "outputId": "5ba5647f-ae80-48e8-ce2a-1b87caa90a14"
      },
      "outputs": [
        {
          "output_type": "display_data",
          "data": {
            "text/plain": [
              "<Figure size 640x480 with 1 Axes>"
            ],
            "image/png": "[encoded data removed]"
          },
          "metadata": {}
        }
      ],
      "source": [
        "import seaborn as sns\n",
        "import matplotlib.pyplot as plt\n",
        "\n",
        "colName = 'Q21'\n",
        "\n",
        "# Box plot çizimi\n",
        "sns.boxplot(x=questionToMode_df[colName])\n",
        "plt.title(f'Box Plot of {colName}')\n",
        "plt.show()"
      ]
    },
    {
      "cell_type": "markdown",
      "metadata": {
        "id": "pI79FRwS4T37"
      },
      "source": [
        "## Visualization"
      ]
    },
    {
      "cell_type": "code",
      "execution_count": 30,
      "metadata": {
        "id": "hXO0EuKf4WrH"
      },
      "outputs": [],
      "source": [
        "import matplotlib.pyplot as plt\n",
        "import seaborn as sns\n",
        "\n",
        "def Visualize(columnName):\n",
        "  plt.figure(figsize=(8, 4))\n",
        "  sns.countplot(x=columnName, data=questionToMode_df)\n",
        "  plt.title('Features')\n",
        "  plt.show()\n"
      ]
    },
    {
      "cell_type": "code",
      "execution_count": 31,
      "metadata": {
        "colab": {
          "base_uri": "https://localhost:8080/",
          "height": 803
        },
        "id": "IqPSOdZ_4cOo",
        "outputId": "7d6717f8-bb5b-4a6a-80d6-4a63a6af0eff"
      },
      "outputs": [
        {
          "output_type": "display_data",
          "data": {
            "text/plain": [
              "<Figure size 800x400 with 1 Axes>"
            ],
            "image/png": "[encoded data removed]"
          },
          "metadata": {}
        },
        {
          "output_type": "display_data",
          "data": {
            "text/plain": [
              "<Figure size 800x400 with 1 Axes>"
            ],
            "image/png": "[encoded data removed]"
          },
          "metadata": {}
        }
      ],
      "source": [
        "import numpy as np\n",
        "for i in range(1,3):\n",
        "  feature_names=questionToMode_df.columns\n",
        "  selected_feature = np.random.choice(feature_names)\n",
        "  Visualize(selected_feature)"
      ]
    },
    {
      "cell_type": "code",
      "execution_count": 32,
      "metadata": {
        "id": "-cgFVwbtTEGO"
      },
      "outputs": [],
      "source": [
        "import numpy as np\n",
        "import matplotlib.pyplot as plt\n",
        "import seaborn as sns\n",
        "\n",
        "# TODO This graphs looks like unnecessary will be checked -Seyit\n",
        "def VisualizeSubset(dataframe, step):\n",
        "    feature_names = dataframe.columns\n",
        "    num_subsets = len(feature_names) // step\n",
        "\n",
        "    fig, axes = plt.subplots(num_subsets, 1, figsize=(step, num_subsets * num_subsets))\n",
        "\n",
        "\n",
        "    for i in range(num_subsets):\n",
        "        selected_features = feature_names[i * step: (i + 1) * step]\n",
        "        sns.countplot(data=dataframe[selected_features], ax=axes[i])\n",
        "        axes[i].set_title(f'Subset {i + 1}')\n",
        "\n",
        "    plt.show()"
      ]
    },
    {
      "cell_type": "code",
      "execution_count": 33,
      "metadata": {
        "colab": {
          "base_uri": "https://localhost:8080/",
          "height": 1000
        },
        "id": "yhGkmW6aTI4S",
        "outputId": "7b798ef8-42da-4a32-c1d3-700cf29bf914"
      },
      "outputs": [
        {
          "output_type": "display_data",
          "data": {
            "text/plain": [
              "<Figure size 1500x2500 with 5 Axes>"
            ],
            "image/png": "[encoded data removed]"
          },
          "metadata": {}
        }
      ],
      "source": [
        "VisualizeSubset(questionToMode_df,15)"
      ]
    },
    {
      "cell_type": "markdown",
      "metadata": {
        "id": "MJwlLVaXMJgU"
      },
      "source": [
        "## Normalization"
      ]
    },
    {
      "cell_type": "markdown",
      "metadata": {
        "id": "MmgEjjpXPHWu"
      },
      "source": [
        "### MinMaxScaler scaling the data to a specific range (usually [0, 1]) ensures that all features are kept on the same scale."
      ]
    },
    {
      "cell_type": "code",
      "execution_count": 34,
      "metadata": {
        "id": "M091jEdaMN5R"
      },
      "outputs": [],
      "source": [
        "from sklearn.preprocessing import MinMaxScaler\n",
        "def MinMaxScaling(df):\n",
        "    scaledDataFrame_minmax=df.copy()\n",
        "    scaledForm = scaledDataFrame_minmax.iloc[:, scaledDataFrame_minmax.columns.get_loc('Q15'):-1]\n",
        "    scaler = MinMaxScaler()\n",
        "    scaledDataFrame_minmax.iloc[:, scaledDataFrame_minmax.columns.get_loc('Q15'):-1] = scaler.fit_transform(scaledForm)\n",
        "    X_minmax, y_minmax = scaledDataFrame_minmax.iloc[:, :-1], scaledDataFrame_minmax.iloc[:, -1:]\n",
        "    return ({\"X\": X_minmax,\n",
        "            \"y\": y_minmax,\n",
        "            \"df\": scaledDataFrame_minmax})"
      ]
    },
    {
      "cell_type": "code",
      "execution_count": 35,
      "metadata": {
        "colab": {
          "base_uri": "https://localhost:8080/"
        },
        "id": "obq3cMhoN2Q2",
        "outputId": "c137b4ea-ca7e-4dcd-9a01-f5b5fdb9b278"
      },
      "outputs": [
        {
          "output_type": "stream",
          "name": "stderr",
          "text": [
            "<ipython-input-34-323a2d4c0702>:6: DeprecationWarning: In a future version, `df.iloc[:, i] = newvals` will attempt to set the values inplace instead of always setting a new array. To retain the old behavior, use either `df[df.columns[i]] = newvals` or, if columns are non-unique, `df.isetitem(i, newvals)`\n",
            "  scaledDataFrame_minmax.iloc[:, scaledDataFrame_minmax.columns.get_loc('Q15'):-1] = scaler.fit_transform(scaledForm)\n"
          ]
        },
        {
          "output_type": "execute_result",
          "data": {
            "text/plain": [
              "<bound method NDFrame.describe of       Unnamed: 0  Q11_1  Q11_2  Q11_3  Q11_4  Q11_5  Q11_6  Q11_7  Q11_8  \\\n",
              "0              0      0      0      0      1      1      0      0      1   \n",
              "1              1      1      0      0      1      0      0      1      0   \n",
              "2              2      1      1      0      1      0      0      1      1   \n",
              "3              3      0      0      0      0      0      0      0      0   \n",
              "4              4      1      1      0      1      0      0      1      1   \n",
              "...          ...    ...    ...    ...    ...    ...    ...    ...    ...   \n",
              "6103        6103      0      1      0      0      0      0      1      1   \n",
              "6104        6104      0      1      0      1      0      0      0      1   \n",
              "6105        6105      1      0      1      0      0      0      0      0   \n",
              "6106        6106      0      0      1      0      0      0      0      1   \n",
              "6107        6107      1      0      0      1      0      0      0      1   \n",
              "\n",
              "      Q11_9  ...  Q18_17  Q18_18  Q18_19  Q18_20  Q18_21  Q18_22  Q18_23  \\\n",
              "0         0  ...    1.00    1.00    1.00    1.00    1.00    1.00    1.00   \n",
              "1         0  ...    0.75    0.25    0.75    0.25    0.25    0.25    0.25   \n",
              "2         0  ...    0.75    0.75    0.50    0.25    0.75    0.25    0.75   \n",
              "3         0  ...    0.50    0.25    0.50    0.25    0.50    0.25    0.50   \n",
              "4         0  ...    0.50    0.25    0.00    0.00    0.50    0.25    0.50   \n",
              "...     ...  ...     ...     ...     ...     ...     ...     ...     ...   \n",
              "6103      1  ...    0.25    0.25    0.50    0.50    0.25    0.00    0.00   \n",
              "6104      0  ...    0.50    0.25    0.50    0.25    0.50    0.25    0.50   \n",
              "6105      0  ...    0.75    0.00    1.00    0.75    1.00    0.75    1.00   \n",
              "6106      0  ...    0.00    0.50    0.75    1.00    0.50    0.25    0.50   \n",
              "6107      0  ...    0.50    0.50    0.50    0.50    0.50    0.50    0.50   \n",
              "\n",
              "       Q20   Q21  Q16  \n",
              "0     0.50  0.50    0  \n",
              "1     0.50  0.50    3  \n",
              "2     0.75  0.00    0  \n",
              "3     0.50  0.50    2  \n",
              "4     0.50  0.50    3  \n",
              "...    ...   ...  ...  \n",
              "6103  0.00  0.50    1  \n",
              "6104  0.50  0.50    0  \n",
              "6105  1.00  0.25    0  \n",
              "6106  0.25  0.50    0  \n",
              "6107  0.50  0.50    3  \n",
              "\n",
              "[6108 rows x 76 columns]>"
            ]
          },
          "metadata": {},
          "execution_count": 35
        }
      ],
      "source": [
        "min_max_scaled_items = MinMaxScaling(questionToMode_df)\n",
        "min_max_scaled_items['df'].describe"
      ]
    },
    {
      "cell_type": "markdown",
      "metadata": {
        "id": "0pmxtl2qPPKL"
      },
      "source": [
        "### StandartScaler transforming the data into a standard normal distribution makes the features comparable with each other"
      ]
    },
    {
      "cell_type": "code",
      "execution_count": 36,
      "metadata": {
        "id": "S2tvHTTwN9yT"
      },
      "outputs": [],
      "source": [
        "from sklearn.preprocessing import StandardScaler\n",
        "def StandardScaling(df):\n",
        "    scaledDataFrame_stc=df.copy()\n",
        "    scaledForm = scaledDataFrame_stc.iloc[:, scaledDataFrame_stc.columns.get_loc('Q15'):-1]\n",
        "    scaler = StandardScaler()\n",
        "    scaledDataFrame_stc.iloc[:, scaledDataFrame_stc.columns.get_loc('Q15'):-1] = scaler.fit_transform(scaledForm)\n",
        "    X_stc, y_stc = scaledDataFrame_stc.iloc[:, :-1], scaledDataFrame_stc.iloc[:, -1:]\n",
        "    return ({\"X\": X_stc,\n",
        "            \"y\": y_stc,\n",
        "            \"df\": scaledDataFrame_stc})"
      ]
    },
    {
      "cell_type": "code",
      "execution_count": 37,
      "metadata": {
        "colab": {
          "base_uri": "https://localhost:8080/"
        },
        "id": "Q3POFrQ9OSp3",
        "outputId": "1e216d99-4439-43c6-b17d-1bdde01cced1"
      },
      "outputs": [
        {
          "output_type": "execute_result",
          "data": {
            "text/plain": [
              "<bound method NDFrame.describe of       Unnamed: 0  Q11_1  Q11_2  Q11_3  Q11_4  Q11_5  Q11_6  Q11_7  Q11_8  \\\n",
              "0              0      0      0      0      1      1      0      0      1   \n",
              "1              1      1      0      0      1      0      0      1      0   \n",
              "2              2      1      1      0      1      0      0      1      1   \n",
              "3              3      0      0      0      0      0      0      0      0   \n",
              "4              4      1      1      0      1      0      0      1      1   \n",
              "...          ...    ...    ...    ...    ...    ...    ...    ...    ...   \n",
              "6103        6103      0      1      0      0      0      0      1      1   \n",
              "6104        6104      0      1      0      1      0      0      0      1   \n",
              "6105        6105      1      0      1      0      0      0      0      0   \n",
              "6106        6106      0      0      1      0      0      0      0      1   \n",
              "6107        6107      1      0      0      1      0      0      0      1   \n",
              "\n",
              "      Q11_9  ...    Q18_17    Q18_18    Q18_19    Q18_20    Q18_21    Q18_22  \\\n",
              "0         0  ...  1.939626  2.975847  2.015646  2.643431  2.299213  2.852731   \n",
              "1         0  ...  0.952932 -0.213194  0.984095 -0.265772 -0.929694 -0.377015   \n",
              "2         0  ...  0.952932  1.912833 -0.047457 -0.265772  1.222911 -0.377015   \n",
              "3         0  ... -0.033762 -0.213194 -0.047457 -0.265772  0.146608 -0.377015   \n",
              "4         0  ... -0.033762 -0.213194 -2.110559 -1.235507  0.146608 -0.377015   \n",
              "...     ...  ...       ...       ...       ...       ...       ...       ...   \n",
              "6103      1  ... -1.020456 -0.213194 -0.047457  0.703962 -0.929694 -1.453597   \n",
              "6104      0  ... -0.033762 -0.213194 -0.047457 -0.265772  0.146608 -0.377015   \n",
              "6105      0  ...  0.952932 -1.276208  2.015646  1.673697  2.299213  1.776149   \n",
              "6106      0  ... -2.007150  0.849819  0.984095  2.643431  0.146608 -0.377015   \n",
              "6107      0  ... -0.033762  0.849819 -0.047457  0.703962  0.146608  0.699567   \n",
              "\n",
              "        Q18_23       Q20       Q21  Q16  \n",
              "0     2.506751  0.159205  0.483085    0  \n",
              "1    -0.643493  0.159205  0.483085    3  \n",
              "2     1.456670  1.391680 -1.912922    0  \n",
              "3     0.406588  0.159205  0.483085    2  \n",
              "4     0.406588  0.159205  0.483085    3  \n",
              "...        ...       ...       ...  ...  \n",
              "6103 -1.693574 -2.305745  0.483085    1  \n",
              "6104  0.406588  0.159205  0.483085    0  \n",
              "6105  2.506751  2.624155 -0.714919    0  \n",
              "6106  0.406588 -1.073270  0.483085    0  \n",
              "6107  0.406588  0.159205  0.483085    3  \n",
              "\n",
              "[6108 rows x 76 columns]>"
            ]
          },
          "metadata": {},
          "execution_count": 37
        }
      ],
      "source": [
        "stc_scaled_items = StandardScaling(questionToMode_df)\n",
        "stc_scaled_items['df'].describe"
      ]
    },
    {
      "cell_type": "markdown",
      "metadata": {
        "id": "zuMeSnqWO5hX"
      },
      "source": [
        "### RobustScaler resistant to outlier values, this is a scaling method. Scaling is done using the median and IQR"
      ]
    },
    {
      "cell_type": "code",
      "execution_count": 38,
      "metadata": {
        "id": "Cu4DnaEGOl0R"
      },
      "outputs": [],
      "source": [
        "from sklearn.preprocessing import RobustScaler\n",
        "\n",
        "def StandardScaling(df):\n",
        "    scaledDataFrame_robust=df.copy()\n",
        "    scaledForm = scaledDataFrame_robust.iloc[scaledDataFrame_robust.columns.get_loc('Q15'):, :-1]\n",
        "    scaler = RobustScaler()\n",
        "    scaledDataFrame_robust.iloc[scaledDataFrame_robust.columns.get_loc('Q15'):, :-1]  = scaler.fit_transform(scaledForm)\n",
        "    X_robust, y_robust = scaledDataFrame_robust.iloc[:, :-1], scaledDataFrame_robust.iloc[:, -1:]\n",
        "    return ({\"X\": X_robust,\n",
        "            \"y\": y_robust,\n",
        "            \"df\": scaledDataFrame_robust})"
      ]
    },
    {
      "cell_type": "code",
      "execution_count": 39,
      "metadata": {
        "colab": {
          "base_uri": "https://localhost:8080/"
        },
        "id": "qPxswWw4OuIK",
        "outputId": "2b4f236a-ddf8-486f-9cd7-8509453b010b"
      },
      "outputs": [
        {
          "output_type": "execute_result",
          "data": {
            "text/plain": [
              "<bound method NDFrame.describe of       Unnamed: 0  Q11_1  Q11_2  Q11_3  Q11_4  Q11_5  Q11_6  Q11_7  Q11_8  \\\n",
              "0        0.00000    0.0    0.0    0.0    1.0    1.0    0.0    0.0    1.0   \n",
              "1        1.00000    1.0    0.0    0.0    1.0    0.0    0.0    1.0    0.0   \n",
              "2        2.00000    1.0    1.0    0.0    1.0    0.0    0.0    1.0    1.0   \n",
              "3        3.00000    0.0    0.0    0.0    0.0    0.0    0.0    0.0    0.0   \n",
              "4        4.00000    1.0    1.0    0.0    1.0    0.0    0.0    1.0    1.0   \n",
              "...          ...    ...    ...    ...    ...    ...    ...    ...    ...   \n",
              "6103     0.99868    0.0    1.0    0.0   -1.0    0.0    0.0    1.0    1.0   \n",
              "6104     0.99901    0.0    1.0    0.0    0.0    0.0    0.0    0.0    1.0   \n",
              "6105     0.99934    1.0    0.0    1.0   -1.0    0.0    0.0    0.0    0.0   \n",
              "6106     0.99967    0.0    0.0    1.0   -1.0    0.0    0.0    0.0    1.0   \n",
              "6107     1.00000    1.0    0.0    0.0    0.0    0.0    0.0    0.0    1.0   \n",
              "\n",
              "      Q11_9  ...  Q18_17  Q18_18  Q18_19  Q18_20  Q18_21  Q18_22  Q18_23  Q20  \\\n",
              "0       0.0  ...     5.0     5.0     5.0     5.0     5.0     5.0     5.0  3.0   \n",
              "1       0.0  ...     4.0     2.0     4.0     2.0     2.0     2.0     2.0  3.0   \n",
              "2       0.0  ...     4.0     4.0     3.0     2.0     4.0     2.0     4.0  4.0   \n",
              "3       0.0  ...     3.0     2.0     3.0     2.0     3.0     2.0     3.0  3.0   \n",
              "4       0.0  ...     3.0     2.0     1.0     1.0     3.0     2.0     3.0  3.0   \n",
              "...     ...  ...     ...     ...     ...     ...     ...     ...     ...  ...   \n",
              "6103    1.0  ...    -0.5     0.0     0.0     1.0    -1.0    -1.0    -2.0 -2.0   \n",
              "6104    0.0  ...     0.0     0.0     0.0     0.0     0.0     0.0     0.0  0.0   \n",
              "6105    0.0  ...     0.5    -1.0     2.0     2.0     2.0     2.0     2.0  2.0   \n",
              "6106    0.0  ...    -1.0     1.0     1.0     3.0     0.0     0.0     0.0 -1.0   \n",
              "6107    0.0  ...     0.0     1.0     0.0     1.0     0.0     1.0     0.0  0.0   \n",
              "\n",
              "      Q21  Q16  \n",
              "0     3.0    0  \n",
              "1     3.0    3  \n",
              "2     1.0    0  \n",
              "3     3.0    2  \n",
              "4     3.0    3  \n",
              "...   ...  ...  \n",
              "6103  0.0    1  \n",
              "6104  0.0    0  \n",
              "6105 -1.0    0  \n",
              "6106  0.0    0  \n",
              "6107  0.0    3  \n",
              "\n",
              "[6108 rows x 76 columns]>"
            ]
          },
          "metadata": {},
          "execution_count": 39
        }
      ],
      "source": [
        "robust_scaled_items = StandardScaling(questionToMode_df)\n",
        "robust_scaled_items['df'].describe"
      ]
    },
    {
      "cell_type": "markdown",
      "metadata": {
        "id": "-OapTP6NWQAO"
      },
      "source": [
        "### Save Results To The Txt For Later Using"
      ]
    },
    {
      "cell_type": "code",
      "execution_count": 40,
      "metadata": {
        "id": "TSlVncZ-WQAO"
      },
      "outputs": [],
      "source": [
        "def SaveResults(result, txt_name):\n",
        "    with open(txt_name, 'a') as file:\n",
        "        file.write(str(result) + '\\n')"
      ]
    },
    {
      "cell_type": "markdown",
      "metadata": {
        "id": "DOSnO-SeWQAP"
      },
      "source": [
        "## Feature Selection"
      ]
    },
    {
      "cell_type": "markdown",
      "metadata": {
        "id": "bGyf4ybaSQGi"
      },
      "source": [
        "### DataFrame To X and y and Vice Versa"
      ]
    },
    {
      "cell_type": "code",
      "execution_count": 41,
      "metadata": {
        "id": "mzeGFPbXSQGi"
      },
      "outputs": [],
      "source": [
        "def DFToXAndY(df):\n",
        "    X, y = df.iloc[:, :-1], df.iloc[:, -1:]\n",
        "    return X, y"
      ]
    },
    {
      "cell_type": "markdown",
      "metadata": {
        "id": "Q7UFFAd5WQAP"
      },
      "source": [
        "### Train-Test Split Method"
      ]
    },
    {
      "cell_type": "code",
      "execution_count": 42,
      "metadata": {
        "id": "JEpzyzK0WQAP"
      },
      "outputs": [],
      "source": [
        "from sklearn.model_selection import train_test_split\n",
        "def train_test_split_modified(df, test_size_input = 0.25, randdom_state_input = 0 ):\n",
        "    X, y = df.iloc[:, :-1], df.iloc[:, -1:]\n",
        "    x_train, x_test, y_train, y_test = train_test_split(X, y, test_size = test_size_input, random_state = randdom_state_input)\n",
        "    return x_train, x_test, y_train, y_test"
      ]
    },
    {
      "cell_type": "markdown",
      "metadata": {
        "id": "_w4sHas7WQAP"
      },
      "source": [
        "### RFE Feature Elimination Method"
      ]
    },
    {
      "cell_type": "code",
      "execution_count": 43,
      "metadata": {
        "id": "VIs1L6oPWQAP"
      },
      "outputs": [],
      "source": [
        "from sklearn.feature_selection import RFE\n",
        "from sklearn import tree\n",
        "\n",
        "def RFEFeatureElimination(df, X, y, n_features_to_select, step = 1):\n",
        "    rfe_df = df.copy()\n",
        "    dropped_columns = []\n",
        "    estimator = tree.DecisionTreeClassifier()\n",
        "    selector = RFE(estimator = estimator, n_features_to_select = n_features_to_select, step = 1)\n",
        "    selector = selector.fit(X, y)\n",
        "\n",
        "    for i, value in enumerate(selector.support_, start=1):\n",
        "        #print(len(selector.support_))\n",
        "        #print(selector.ranking_)\n",
        "        if(value == False) and rfe_df.columns[i] != 'Q16':\n",
        "            dropped_columns.append(rfe_df.columns[i])\n",
        "\n",
        "    rfe_df = rfe_df.drop(dropped_columns, axis = 1)\n",
        "    return rfe_df"
      ]
    },
    {
      "cell_type": "markdown",
      "metadata": {
        "id": "qKbMBUX7SQGj"
      },
      "source": [
        "### Chi Squared Feature Elimination Method"
      ]
    },
    {
      "cell_type": "code",
      "execution_count": 44,
      "metadata": {
        "id": "MLqBwygRSQGj"
      },
      "outputs": [],
      "source": [
        "from sklearn.feature_selection import SelectKBest, chi2\n",
        "\n",
        "def ChiSquareFeatureElimination(X, y, n_features_to_select, df= None):\n",
        "    X_chi2 = SelectKBest(chi2, k = n_features_to_select).fit_transform(X, y)\n",
        "    X_chi2_df = pd.DataFrame(X_chi2, columns=[f\"feature_{i}\" for i in range(n_features_to_select)])\n",
        "    return pd.concat([X_chi2_df, y.reset_index(drop=True)], axis=1)"
      ]
    },
    {
      "cell_type": "markdown",
      "metadata": {
        "id": "gkd3OpGHSQGj"
      },
      "source": [
        "### Mutual Information Feature Elimination Method"
      ]
    },
    {
      "cell_type": "code",
      "execution_count": 45,
      "metadata": {
        "id": "UXjWNYO-SQGj"
      },
      "outputs": [],
      "source": [
        "from sklearn.feature_selection import mutual_info_classif\n",
        "\n",
        "def MutualInformationFeatureElimination(X, y, n_features_to_select, df= None):\n",
        "    X_mutual_info = SelectKBest(mutual_info_classif, k = n_features_to_select).fit_transform(X, y)\n",
        "    X_mutual_info_df = pd.DataFrame(X_mutual_info, columns=[f\"feature_{i}\" for i in range(n_features_to_select)])\n",
        "    return pd.concat([X_mutual_info_df, y.reset_index(drop=True)], axis=1)"
      ]
    },
    {
      "cell_type": "markdown",
      "metadata": {
        "id": "x9JAFqEXSQGj"
      },
      "source": [
        "### Lasso Feature Elimination Method"
      ]
    },
    {
      "cell_type": "code",
      "execution_count": 46,
      "metadata": {
        "id": "JrU70ADfSQGj"
      },
      "outputs": [],
      "source": [
        "from sklearn.svm import LinearSVC\n",
        "from sklearn.feature_selection import SelectFromModel\n",
        "\n",
        "\n",
        "def LassoFeatureElimination(X, y, n_features_to_select, df= None):\n",
        "    lsvc = LinearSVC(C=0.01, penalty=\"l1\", dual=False).fit(X, y)\n",
        "    model = SelectFromModel(lsvc, prefit=True, max_features=n_features_to_select)\n",
        "    X_l1 = model.transform(X)\n",
        "    X_l1_df = X_l1_df = pd.DataFrame(X_l1, columns=[f\"feature_{i}\" for i in range(X_l1.shape[1])])\n",
        "    return pd.concat([X_l1_df, y.reset_index(drop=True)], axis=1)\n"
      ]
    },
    {
      "cell_type": "code",
      "execution_count": 47,
      "metadata": {
        "colab": {
          "base_uri": "https://localhost:8080/",
          "height": 87
        },
        "id": "Gq3ZglvLSQGj",
        "outputId": "5ab60740-87e5-4cdd-fe5b-a057af599c95"
      },
      "outputs": [
        {
          "output_type": "execute_result",
          "data": {
            "text/plain": [
              "'\\nfrom sklearn.linear_model import Lasso\\nfrom sklearn.feature_selection import SelectFromModel\\nimport pandas as pd\\n\\ndef LassoFeatureElimination(X, y, n_features_to_select, alpha=1, df=None):\\n    \"\"\"\\n    Perform feature selection using Lasso regression.\\n\\n    Parameters:\\n    - X: Features\\n    - y: Target variable\\n    - alpha: Regularization strength\\n    - df: DataFrame to concatenate the selected features and target variable\\n\\n    Returns:\\n    - DataFrame containing selected features and target variable\\n    \"\"\"\\n    lasso_model = Lasso(alpha=alpha, random_state=42)  # You can choose an appropriate alpha\\n    model = SelectFromModel(lasso_model, prefit=False)\\n\\n    # Fit the model and transform the data\\n    X_lasso = model.fit_transform(X, y)\\n\\n    # Get the selected feature indices\\n    feature_indices = model.get_support(indices=True)\\n\\n    # Select the corresponding columns from the original DataFrame\\n    selected_features = X.iloc[:, feature_indices]\\n\\n    # Concatenate selected features and target variable\\n    selected_df = pd.concat([selected_features, y.reset_index(drop=True)], axis=1)\\n\\n    return selected_df\\n'"
            ],
            "application/vnd.google.colaboratory.intrinsic+json": {
              "type": "string"
            }
          },
          "metadata": {},
          "execution_count": 47
        }
      ],
      "source": [
        "'''\n",
        "from sklearn.linear_model import Lasso\n",
        "from sklearn.feature_selection import SelectFromModel\n",
        "import pandas as pd\n",
        "\n",
        "def LassoFeatureElimination(X, y, n_features_to_select, alpha=1, df=None):\n",
        "    \"\"\"\n",
        "    Perform feature selection using Lasso regression.\n",
        "\n",
        "    Parameters:\n",
        "    - X: Features\n",
        "    - y: Target variable\n",
        "    - alpha: Regularization strength\n",
        "    - df: DataFrame to concatenate the selected features and target variable\n",
        "\n",
        "    Returns:\n",
        "    - DataFrame containing selected features and target variable\n",
        "    \"\"\"\n",
        "    lasso_model = Lasso(alpha=alpha, random_state=42)  # You can choose an appropriate alpha\n",
        "    model = SelectFromModel(lasso_model, prefit=False)\n",
        "\n",
        "    # Fit the model and transform the data\n",
        "    X_lasso = model.fit_transform(X, y)\n",
        "\n",
        "    # Get the selected feature indices\n",
        "    feature_indices = model.get_support(indices=True)\n",
        "\n",
        "    # Select the corresponding columns from the original DataFrame\n",
        "    selected_features = X.iloc[:, feature_indices]\n",
        "\n",
        "    # Concatenate selected features and target variable\n",
        "    selected_df = pd.concat([selected_features, y.reset_index(drop=True)], axis=1)\n",
        "\n",
        "    return selected_df\n",
        "'''"
      ]
    },
    {
      "cell_type": "markdown",
      "metadata": {
        "id": "U14zVlzswqBU"
      },
      "source": [
        "# ML and DL Algorithms"
      ]
    },
    {
      "cell_type": "markdown",
      "metadata": {
        "id": "dW0jDJ0hWQAP"
      },
      "source": [
        "### KNN Classification Algorithm Method"
      ]
    },
    {
      "cell_type": "code",
      "execution_count": 48,
      "metadata": {
        "id": "6m4dNXtRWQAP"
      },
      "outputs": [],
      "source": [
        "from sklearn.neighbors import KNeighborsClassifier\n",
        "from sklearn.metrics import accuracy_score\n",
        "from sklearn.metrics import confusion_matrix\n",
        "\n",
        "def KNN(x_train, x_test, y_train, y_test):\n",
        "    knn_params = {\"cosine\", \"euclidean\", \"manhattan\", \"nan_euclidean\"}\n",
        "    best_accuracy_knn = 0\n",
        "    best_metric = \"\"\n",
        "    best_neighbor_count = 0\n",
        "    max_neighbour = 50\n",
        "    for i in range(1,max_neighbour):\n",
        "        for param in knn_params:\n",
        "            knn = KNeighborsClassifier(n_neighbors=i, metric = param, weights = \"distance\")\n",
        "            knn.fit(x_train, y_train)\n",
        "            y_pred = knn.predict(x_test)\n",
        "            if accuracy_score(y_test, y_pred) < 1 and best_accuracy_knn < accuracy_score(y_test, y_pred) :\n",
        "                best_accuracy_knn, best_neighbor_count, best_metric = accuracy_score(y_test, y_pred), i, param\n",
        "\n",
        "    print(f\"Best accuracy is = {best_accuracy_knn}, with {best_neighbor_count} n_neighbors, {best_metric} metrics and fetaure len = {len(x_train.columns)}\")\n",
        "    #knn = KNeighborsClassifier(n_neighbors=best_neighbor_count, metric = best_metric, weights = \"distance\")\n",
        "    #knn.fit(x_train, y_train)\n",
        "    #y_pred = knn.predict(x_test)\n",
        "    #print(confusion_matrix(y_test,y_pred))\n",
        "    return {\"Accuracy\": best_accuracy_knn,\n",
        "            \"Model_Name\": \"KNN\",\n",
        "            \"HyperParameters\": f\"n_neighbor:{best_neighbor_count}, metric:{best_metric}, n_feature:{len(x_train.columns)}\"}"
      ]
    },
    {
      "cell_type": "markdown",
      "metadata": {
        "id": "dmojFRPSWQAQ"
      },
      "source": [
        "### Random Forest Classifier Method"
      ]
    },
    {
      "cell_type": "code",
      "execution_count": 49,
      "metadata": {
        "id": "lsz1N09sWQAQ"
      },
      "outputs": [],
      "source": [
        "from sklearn.ensemble import RandomForestClassifier\n",
        "from sklearn.datasets import make_classification\n",
        "\n",
        "# TODO Hyper Parameters Trying will be added with loop\n",
        "def RandomForest(x_train, x_test, y_train, y_test):\n",
        "    criterions = {\"gini\", \"entropy\"}\n",
        "    best_accuracy = 0\n",
        "    best_criterion = \"\"\n",
        "    best_depth = 0,\n",
        "    best_n_estimators = 0 #The number of trees in the forest\n",
        "    for criterion_changer in criterions:\n",
        "        for max_depth_changer in [None,5,10,15,20,25,30,35,40,45,50]:\n",
        "            RandomForestClf = RandomForestClassifier(criterion= criterion_changer, max_depth=max_depth_changer, random_state=1)\n",
        "            RandomForestClf.fit(x_train, y_train)\n",
        "            y_pred = RandomForestClf.predict(x_test)\n",
        "            accuracy = accuracy_score(y_test, y_pred)\n",
        "            if(accuracy > best_accuracy):\n",
        "                best_accuracy, best_criterion, best_depth = accuracy, criterion_changer, max_depth_changer\n",
        "    print(f\"Best accuracy is = {best_accuracy}, with criterion = {best_criterion} max_depth = {best_depth} metrics and fetaure len = {len(x_train.columns)}\")\n",
        "\n",
        "    return {\"Accuracy\": best_accuracy,\n",
        "            \"Model_Name\": \"RandomForest\",\n",
        "            \"HyperParameters\": f\"best_criterion: {best_criterion}, max_depth:{best_depth} fetaure len = {len(x_train.columns)}\"}"
      ]
    },
    {
      "cell_type": "markdown",
      "metadata": {
        "id": "a3VNmUUzNVvF"
      },
      "source": [
        "### Gradient Boosting Classifier Method"
      ]
    },
    {
      "cell_type": "code",
      "execution_count": 50,
      "metadata": {
        "id": "F_M3nwA5NVvF"
      },
      "outputs": [],
      "source": [
        "from sklearn.ensemble import GradientBoostingClassifier\n",
        "def GradientBoosting(x_train, x_test, y_train, y_test):\n",
        "    best_accuracy = 0\n",
        "    best_n_estimators = \"\"\n",
        "    best_depth = 0\n",
        "    for n_estimators in [100,125,150,175,200]:\n",
        "        clf = GradientBoostingClassifier(n_estimators=n_estimators, loss = 'deviance', learning_rate=0.1, criterion = 'squared_error', max_depth=1, random_state=0)\n",
        "        clf.fit(x_train, y_train)\n",
        "        accuracy = clf.score(x_test, y_test)\n",
        "        if(accuracy > best_accuracy):\n",
        "            best_accuracy, best_n_estimators = accuracy, n_estimators\n",
        "    print(f\"Best accuracy is = {best_accuracy}, with best_n_estimators = {best_n_estimators} learning_rate = 0.1 criterion = squared_error best_depth = 1 metrics and fetaure len = {len(x_train.columns)}\")\n",
        "    return {\"Accuracy\": best_accuracy,\n",
        "            \"Model_Name\": \"GradientBoosting\",\n",
        "            \"HyperParameters\": f\"best_n_estimators: {best_n_estimators}, loss:deviance, learning_rate = 0.1, depth = 1  criterion = squared_error\"}"
      ]
    },
    {
      "cell_type": "markdown",
      "metadata": {
        "id": "FrYMHVg6NVvF"
      },
      "source": [
        "### Stochastic Gradient Descent"
      ]
    },
    {
      "cell_type": "code",
      "execution_count": 51,
      "metadata": {
        "id": "bv6ClgANNVvF"
      },
      "outputs": [],
      "source": [
        "from sklearn.linear_model import SGDClassifier\n",
        "def StockGradientDescent(x_train, x_test, y_train, y_test):\n",
        "    best_accuracy = 0\n",
        "    best_penalty = ''\n",
        "    for penalty in ['l2', 'l1', 'elasticnet']:\n",
        "        clf = SGDClassifier(loss=\"squared_error\", penalty=penalty, max_iter=1000)\n",
        "        clf.fit(x_train, y_train)\n",
        "        y_pred = clf.predict(x_test)\n",
        "        accuracy = accuracy_score(y_test, y_pred)\n",
        "        if(accuracy > best_accuracy):\n",
        "            best_accuracy, best_penalty = accuracy, penalty\n",
        "    print(f\"Best accuracy is = {best_accuracy}, with max_iter = 1000 best_penalty = {best_penalty} loss = squared_error  metrics and fetaure len = {len(x_train.columns)}\")\n",
        "    return {\"Accuracy\": best_accuracy,\n",
        "            \"Model_Name\": \"StockGradientDescent\",\n",
        "            \"HyperParameters\": f\"best_max_iter: 1000, loss:squared_error, best_penalty = {best_penalty}\"}"
      ]
    },
    {
      "cell_type": "markdown",
      "metadata": {
        "id": "8z6tObWSW01F"
      },
      "source": [
        "### SVM\n"
      ]
    },
    {
      "cell_type": "code",
      "execution_count": 52,
      "metadata": {
        "id": "x4MqbpAaW3tO"
      },
      "outputs": [],
      "source": [
        "from sklearn import svm\n",
        "\n",
        "def NonlinearSVM(x_train, x_test, y_train, y_test):\n",
        "    best_accuracy = 0\n",
        "    functionsForSVM={\"rbf\",\"sigmoid\"}\n",
        "    best_function=\"\"\n",
        "\n",
        "    for function in functionsForSVM:\n",
        "      model = svm.SVC(kernel=function)\n",
        "      model.fit(x_train, y_train)\n",
        "      y_pred = model.predict(x_test)\n",
        "      accuracy = accuracy_score(y_test, y_pred)\n",
        "      if(accuracy > best_accuracy):\n",
        "        best_accuracy=accuracy\n",
        "        best_function=function\n",
        "    print(f\"Best accuracy is = {best_accuracy}, with function = {best_function}\")\n",
        "    return  {\"Accuracy\": best_accuracy,\n",
        "            \"Model_Name\": \"SVM\",\n",
        "            \"HyperParameters\": f\"best_function: {best_function}\"}"
      ]
    },
    {
      "cell_type": "markdown",
      "metadata": {
        "id": "o1oit3UQa5ZO"
      },
      "source": [
        "### Naive Bayes"
      ]
    },
    {
      "cell_type": "code",
      "execution_count": 53,
      "metadata": {
        "id": "wwnAkECVa8e2"
      },
      "outputs": [],
      "source": [
        "from sklearn.naive_bayes import MultinomialNB\n",
        "\n",
        "def MultinomialNaiveBayes(x_train, x_test, y_train, y_test):\n",
        "    best_accuracy = 0\n",
        "    best_alpha = 0\n",
        "    alphas = [0.2, 0.3, 0.5]\n",
        "\n",
        "    for alpha in alphas:\n",
        "        model = MultinomialNB(alpha=alpha)\n",
        "        model.fit(x_train, y_train)\n",
        "        y_pred = model.predict(x_test)\n",
        "        accuracy = accuracy_score(y_test, y_pred)\n",
        "\n",
        "        if accuracy > best_accuracy:\n",
        "            best_accuracy = accuracy\n",
        "            best_alpha = alpha\n",
        "\n",
        "    print(f\"Best accuracy is = {best_accuracy}, with alpha = {best_alpha}\")\n",
        "\n",
        "    return {\n",
        "        \"Accuracy\": best_accuracy,\n",
        "        \"Model_Name\": \"Multinomial Naive Bayes\",\n",
        "        \"HyperParameters\": f\"best_alpha: {best_alpha}\"\n",
        "    }"
      ]
    },
    {
      "cell_type": "markdown",
      "metadata": {
        "id": "Y2AAIT6PhU8Z"
      },
      "source": [
        "### Decision Tree"
      ]
    },
    {
      "cell_type": "code",
      "execution_count": 54,
      "metadata": {
        "id": "e9rSv7J9hdYY"
      },
      "outputs": [],
      "source": [
        "from sklearn.tree import DecisionTreeClassifier\n",
        "\n",
        "\n",
        "def DecisionTree(x_train, x_test, y_train, y_test):\n",
        "    dephts= [5,10,12,17]\n",
        "    best_accuracy=0\n",
        "    best_max_depth=0\n",
        "\n",
        "    for depth in dephts:\n",
        "        model = DecisionTreeClassifier(random_state=42,max_depth=depth)\n",
        "        model.fit(x_train, y_train)\n",
        "        y_pred = model.predict(x_test)\n",
        "        accuracy = accuracy_score(y_test, y_pred)\n",
        "        if accuracy > best_accuracy:\n",
        "            best_accuracy, best_max_depth = accuracy, depth\n",
        "    print(f\"Best accuracy is = {best_accuracy}, with max_depth = {best_max_depth}\")\n",
        "\n",
        "    return {\n",
        "        \"Accuracy\": best_accuracy,\n",
        "        \"Model_Name\": \"Decision Tree\",\n",
        "        \"HyperParameters\": f\"best_max_depth: {best_max_depth}\"\n",
        "    }"
      ]
    },
    {
      "cell_type": "markdown",
      "metadata": {
        "id": "WFmpkQDOk2qq"
      },
      "source": [
        "### Ada Boost"
      ]
    },
    {
      "cell_type": "code",
      "execution_count": 55,
      "metadata": {
        "id": "juPL62dik5r9"
      },
      "outputs": [],
      "source": [
        "from sklearn.ensemble import AdaBoostClassifier\n",
        "from sklearn.tree import DecisionTreeClassifier\n",
        "\n",
        "\n",
        "def AdaBoost(x_train, x_test, y_train, y_test):\n",
        "  depths=[1,3,5]\n",
        "  best_max_depth=0\n",
        "  best_accuracy=0\n",
        "  best_n_estimators=0\n",
        "  for depth in depths:\n",
        "    weak_learner = DecisionTreeClassifier(max_depth=depth)\n",
        "    adaboost_model = AdaBoostClassifier(base_estimator=weak_learner, n_estimators=5, random_state=42)\n",
        "    adaboost_model.fit(x_train, y_train)\n",
        "    y_pred = adaboost_model.predict(x_test)\n",
        "    accuracy = accuracy_score(y_test, y_pred)\n",
        "\n",
        "    if accuracy > best_accuracy:\n",
        "            best_accuracy = accuracy\n",
        "            best_max_depth = depth\n",
        "  print(f\"Best accuracy is = {best_accuracy}, with max_depth = {best_max_depth}\")\n",
        "\n",
        "  return {\n",
        "        \"Accuracy\": best_accuracy,\n",
        "        \"Model_Name\": \"Ada Boost\",\n",
        "        \"HyperParameters\": f\"best_max_depth: {best_max_depth}\"\n",
        "    }"
      ]
    },
    {
      "cell_type": "markdown",
      "metadata": {
        "id": "Ahif18dsnkO8"
      },
      "source": [
        "## TensorFlow"
      ]
    },
    {
      "cell_type": "code",
      "execution_count": 72,
      "metadata": {
        "colab": {
          "base_uri": "https://localhost:8080/"
        },
        "id": "e1EcIkWNnm16",
        "outputId": "19487ca5-b586-4ea9-c6ab-f5b151d26f4d"
      },
      "outputs": [
        {
          "output_type": "stream",
          "name": "stdout",
          "text": [
            "Epoch 1/400\n",
            "291/291 [==============================] - 2s 4ms/step - loss: 2.3435 - accuracy: 0.5841 - val_loss: 1.3895 - val_accuracy: 0.6072\n",
            "Epoch 2/400\n",
            "291/291 [==============================] - 1s 2ms/step - loss: 1.1637 - accuracy: 0.6444 - val_loss: 1.1092 - val_accuracy: 0.6399\n",
            "Epoch 3/400\n",
            "291/291 [==============================] - 1s 2ms/step - loss: 1.0357 - accuracy: 0.6570 - val_loss: 1.1026 - val_accuracy: 0.5933\n",
            "Epoch 4/400\n",
            "291/291 [==============================] - 1s 2ms/step - loss: 0.9922 - accuracy: 0.6576 - val_loss: 1.0653 - val_accuracy: 0.6129\n",
            "Epoch 5/400\n",
            "291/291 [==============================] - 1s 2ms/step - loss: 0.9765 - accuracy: 0.6612 - val_loss: 1.0710 - val_accuracy: 0.6056\n",
            "Epoch 6/400\n",
            "291/291 [==============================] - 1s 2ms/step - loss: 0.9617 - accuracy: 0.6582 - val_loss: 1.1174 - val_accuracy: 0.5753\n",
            "Epoch 7/400\n",
            "291/291 [==============================] - 1s 2ms/step - loss: 0.9549 - accuracy: 0.6663 - val_loss: 1.1618 - val_accuracy: 0.5417\n",
            "Epoch 8/400\n",
            "291/291 [==============================] - 1s 2ms/step - loss: 0.9462 - accuracy: 0.6718 - val_loss: 1.0650 - val_accuracy: 0.6129\n",
            "Epoch 9/400\n",
            "291/291 [==============================] - 1s 2ms/step - loss: 0.9434 - accuracy: 0.6730 - val_loss: 1.0615 - val_accuracy: 0.6252\n",
            "Epoch 10/400\n",
            "291/291 [==============================] - 1s 2ms/step - loss: 0.9388 - accuracy: 0.6712 - val_loss: 1.0479 - val_accuracy: 0.6203\n",
            "Epoch 11/400\n",
            "291/291 [==============================] - 1s 3ms/step - loss: 0.9338 - accuracy: 0.6717 - val_loss: 1.0477 - val_accuracy: 0.6342\n",
            "Epoch 12/400\n",
            "291/291 [==============================] - 1s 2ms/step - loss: 0.9284 - accuracy: 0.6823 - val_loss: 1.0427 - val_accuracy: 0.6293\n",
            "Epoch 13/400\n",
            "291/291 [==============================] - 1s 3ms/step - loss: 0.9288 - accuracy: 0.6779 - val_loss: 1.0571 - val_accuracy: 0.6137\n",
            "Epoch 14/400\n",
            "291/291 [==============================] - 1s 4ms/step - loss: 0.9242 - accuracy: 0.6798 - val_loss: 1.0974 - val_accuracy: 0.5908\n",
            "Epoch 15/400\n",
            "291/291 [==============================] - 1s 4ms/step - loss: 0.9190 - accuracy: 0.6822 - val_loss: 1.0320 - val_accuracy: 0.6358\n",
            "Epoch 16/400\n",
            "291/291 [==============================] - 1s 3ms/step - loss: 0.9137 - accuracy: 0.6878 - val_loss: 1.0357 - val_accuracy: 0.6399\n",
            "Epoch 17/400\n",
            "291/291 [==============================] - 1s 2ms/step - loss: 0.9044 - accuracy: 0.6819 - val_loss: 1.0473 - val_accuracy: 0.6277\n",
            "Epoch 18/400\n",
            "291/291 [==============================] - 1s 2ms/step - loss: 0.9043 - accuracy: 0.6889 - val_loss: 1.0955 - val_accuracy: 0.5966\n",
            "Epoch 19/400\n",
            "291/291 [==============================] - 1s 2ms/step - loss: 0.9053 - accuracy: 0.6925 - val_loss: 1.0627 - val_accuracy: 0.6178\n",
            "Epoch 20/400\n",
            "291/291 [==============================] - 1s 2ms/step - loss: 0.9024 - accuracy: 0.6920 - val_loss: 1.0612 - val_accuracy: 0.6285\n",
            "Epoch 21/400\n",
            "291/291 [==============================] - 1s 2ms/step - loss: 0.8953 - accuracy: 0.6970 - val_loss: 1.0570 - val_accuracy: 0.6383\n",
            "Epoch 22/400\n",
            "291/291 [==============================] - 1s 3ms/step - loss: 0.8933 - accuracy: 0.6977 - val_loss: 1.0802 - val_accuracy: 0.6383\n",
            "Epoch 23/400\n",
            "291/291 [==============================] - 1s 3ms/step - loss: 0.8922 - accuracy: 0.6942 - val_loss: 1.0764 - val_accuracy: 0.6129\n",
            "Epoch 24/400\n",
            "291/291 [==============================] - 1s 2ms/step - loss: 0.8908 - accuracy: 0.7011 - val_loss: 1.0964 - val_accuracy: 0.6162\n",
            "Epoch 25/400\n",
            "291/291 [==============================] - 1s 3ms/step - loss: 0.8821 - accuracy: 0.7037 - val_loss: 1.0711 - val_accuracy: 0.6473\n",
            "Epoch 26/400\n",
            "291/291 [==============================] - 1s 2ms/step - loss: 0.8818 - accuracy: 0.7025 - val_loss: 1.1002 - val_accuracy: 0.6007\n",
            "Epoch 27/400\n",
            "291/291 [==============================] - 1s 2ms/step - loss: 0.8774 - accuracy: 0.7048 - val_loss: 1.0654 - val_accuracy: 0.6326\n",
            "Epoch 28/400\n",
            "291/291 [==============================] - 1s 2ms/step - loss: 0.8782 - accuracy: 0.7062 - val_loss: 1.1118 - val_accuracy: 0.6137\n",
            "Epoch 29/400\n",
            "291/291 [==============================] - 1s 3ms/step - loss: 0.8806 - accuracy: 0.7066 - val_loss: 1.0796 - val_accuracy: 0.6268\n",
            "Epoch 30/400\n",
            "291/291 [==============================] - 1s 4ms/step - loss: 0.8780 - accuracy: 0.7137 - val_loss: 1.0708 - val_accuracy: 0.6236\n",
            "Epoch 31/400\n",
            "291/291 [==============================] - 1s 4ms/step - loss: 0.8668 - accuracy: 0.7136 - val_loss: 1.0796 - val_accuracy: 0.6342\n",
            "Epoch 32/400\n",
            "291/291 [==============================] - 1s 4ms/step - loss: 0.8664 - accuracy: 0.7138 - val_loss: 1.0781 - val_accuracy: 0.6268\n",
            "Epoch 33/400\n",
            "291/291 [==============================] - 1s 3ms/step - loss: 0.8680 - accuracy: 0.7152 - val_loss: 1.0974 - val_accuracy: 0.6227\n",
            "Epoch 34/400\n",
            "291/291 [==============================] - 1s 2ms/step - loss: 0.8628 - accuracy: 0.7199 - val_loss: 1.1469 - val_accuracy: 0.5843\n",
            "Epoch 35/400\n",
            "291/291 [==============================] - 1s 2ms/step - loss: 0.8699 - accuracy: 0.7108 - val_loss: 1.0745 - val_accuracy: 0.6178\n",
            "Epoch 36/400\n",
            "291/291 [==============================] - 1s 2ms/step - loss: 0.8613 - accuracy: 0.7225 - val_loss: 1.0852 - val_accuracy: 0.6318\n",
            "Epoch 37/400\n",
            "291/291 [==============================] - 1s 3ms/step - loss: 0.8584 - accuracy: 0.7216 - val_loss: 1.0943 - val_accuracy: 0.6154\n",
            "Epoch 38/400\n",
            "291/291 [==============================] - 1s 3ms/step - loss: 0.8515 - accuracy: 0.7249 - val_loss: 1.1138 - val_accuracy: 0.6252\n",
            "Epoch 39/400\n",
            "291/291 [==============================] - 1s 2ms/step - loss: 0.8560 - accuracy: 0.7265 - val_loss: 1.0789 - val_accuracy: 0.6170\n",
            "Epoch 40/400\n",
            "291/291 [==============================] - 1s 2ms/step - loss: 0.8511 - accuracy: 0.7287 - val_loss: 1.1263 - val_accuracy: 0.6195\n",
            "Epoch 41/400\n",
            "291/291 [==============================] - 1s 2ms/step - loss: 0.8501 - accuracy: 0.7251 - val_loss: 1.1025 - val_accuracy: 0.6293\n",
            "Epoch 42/400\n",
            "291/291 [==============================] - 1s 2ms/step - loss: 0.8476 - accuracy: 0.7264 - val_loss: 1.1220 - val_accuracy: 0.6121\n",
            "Epoch 43/400\n",
            "291/291 [==============================] - 1s 2ms/step - loss: 0.8504 - accuracy: 0.7218 - val_loss: 1.1319 - val_accuracy: 0.6039\n",
            "Epoch 44/400\n",
            "291/291 [==============================] - 1s 2ms/step - loss: 0.8530 - accuracy: 0.7257 - val_loss: 1.1224 - val_accuracy: 0.6318\n",
            "Epoch 45/400\n",
            "291/291 [==============================] - 1s 2ms/step - loss: 0.8475 - accuracy: 0.7268 - val_loss: 1.1315 - val_accuracy: 0.6056\n",
            "Epoch 46/400\n",
            "291/291 [==============================] - 1s 2ms/step - loss: 0.8394 - accuracy: 0.7409 - val_loss: 1.1372 - val_accuracy: 0.6137\n",
            "Epoch 47/400\n",
            "291/291 [==============================] - 1s 4ms/step - loss: 0.8410 - accuracy: 0.7319 - val_loss: 1.0911 - val_accuracy: 0.6342\n",
            "Epoch 48/400\n",
            "291/291 [==============================] - 1s 4ms/step - loss: 0.8405 - accuracy: 0.7365 - val_loss: 1.1314 - val_accuracy: 0.6113\n",
            "Epoch 49/400\n",
            "291/291 [==============================] - 1s 4ms/step - loss: 0.8336 - accuracy: 0.7384 - val_loss: 1.1398 - val_accuracy: 0.6244\n",
            "Epoch 50/400\n",
            "291/291 [==============================] - 1s 2ms/step - loss: 0.8401 - accuracy: 0.7348 - val_loss: 1.1323 - val_accuracy: 0.6416\n",
            "Epoch 51/400\n",
            "291/291 [==============================] - 1s 3ms/step - loss: 0.8350 - accuracy: 0.7380 - val_loss: 1.1310 - val_accuracy: 0.6309\n",
            "Epoch 52/400\n",
            "291/291 [==============================] - 1s 3ms/step - loss: 0.8317 - accuracy: 0.7336 - val_loss: 1.1320 - val_accuracy: 0.6219\n",
            "Epoch 53/400\n",
            "291/291 [==============================] - 1s 2ms/step - loss: 0.8370 - accuracy: 0.7378 - val_loss: 1.1403 - val_accuracy: 0.6203\n",
            "Epoch 54/400\n",
            "291/291 [==============================] - 1s 2ms/step - loss: 0.8250 - accuracy: 0.7459 - val_loss: 1.1208 - val_accuracy: 0.6268\n",
            "Epoch 55/400\n",
            "291/291 [==============================] - 1s 2ms/step - loss: 0.8388 - accuracy: 0.7380 - val_loss: 1.1149 - val_accuracy: 0.6375\n",
            "Epoch 56/400\n",
            "291/291 [==============================] - 1s 2ms/step - loss: 0.8290 - accuracy: 0.7439 - val_loss: 1.1318 - val_accuracy: 0.6088\n",
            "Epoch 57/400\n",
            "291/291 [==============================] - 1s 2ms/step - loss: 0.8223 - accuracy: 0.7455 - val_loss: 1.1243 - val_accuracy: 0.6358\n",
            "Epoch 58/400\n",
            "291/291 [==============================] - 1s 2ms/step - loss: 0.8270 - accuracy: 0.7425 - val_loss: 1.1349 - val_accuracy: 0.6277\n",
            "Epoch 59/400\n",
            "291/291 [==============================] - 1s 2ms/step - loss: 0.8253 - accuracy: 0.7398 - val_loss: 1.1211 - val_accuracy: 0.6277\n",
            "Epoch 60/400\n",
            "291/291 [==============================] - 1s 2ms/step - loss: 0.8252 - accuracy: 0.7412 - val_loss: 1.2014 - val_accuracy: 0.5622\n",
            "Epoch 61/400\n",
            "291/291 [==============================] - 1s 2ms/step - loss: 0.8245 - accuracy: 0.7459 - val_loss: 1.1406 - val_accuracy: 0.6277\n",
            "Epoch 62/400\n",
            "291/291 [==============================] - 1s 2ms/step - loss: 0.8254 - accuracy: 0.7452 - val_loss: 1.1649 - val_accuracy: 0.6056\n",
            "Epoch 63/400\n",
            "291/291 [==============================] - 1s 3ms/step - loss: 0.8172 - accuracy: 0.7471 - val_loss: 1.1261 - val_accuracy: 0.6252\n",
            "Epoch 64/400\n",
            "291/291 [==============================] - 1s 4ms/step - loss: 0.8267 - accuracy: 0.7414 - val_loss: 1.1865 - val_accuracy: 0.5949\n",
            "Epoch 65/400\n",
            "291/291 [==============================] - 1s 4ms/step - loss: 0.8213 - accuracy: 0.7441 - val_loss: 1.1495 - val_accuracy: 0.5917\n",
            "Epoch 66/400\n",
            "291/291 [==============================] - 1s 3ms/step - loss: 0.8134 - accuracy: 0.7454 - val_loss: 1.1279 - val_accuracy: 0.6244\n",
            "Epoch 67/400\n",
            "291/291 [==============================] - 1s 2ms/step - loss: 0.8193 - accuracy: 0.7477 - val_loss: 1.1872 - val_accuracy: 0.6113\n",
            "Epoch 68/400\n",
            "291/291 [==============================] - 1s 2ms/step - loss: 0.8208 - accuracy: 0.7465 - val_loss: 1.1367 - val_accuracy: 0.6154\n",
            "Epoch 69/400\n",
            "291/291 [==============================] - 1s 2ms/step - loss: 0.8181 - accuracy: 0.7479 - val_loss: 1.1354 - val_accuracy: 0.6277\n",
            "Epoch 70/400\n",
            "291/291 [==============================] - 1s 2ms/step - loss: 0.8114 - accuracy: 0.7499 - val_loss: 1.1403 - val_accuracy: 0.6219\n",
            "Epoch 71/400\n",
            "291/291 [==============================] - 1s 2ms/step - loss: 0.8092 - accuracy: 0.7558 - val_loss: 1.1443 - val_accuracy: 0.6072\n",
            "Epoch 72/400\n",
            "291/291 [==============================] - 1s 2ms/step - loss: 0.8085 - accuracy: 0.7481 - val_loss: 1.1304 - val_accuracy: 0.6342\n",
            "Epoch 73/400\n",
            "291/291 [==============================] - 1s 2ms/step - loss: 0.8053 - accuracy: 0.7535 - val_loss: 1.1533 - val_accuracy: 0.6146\n",
            "Epoch 74/400\n",
            "291/291 [==============================] - 1s 3ms/step - loss: 0.8212 - accuracy: 0.7481 - val_loss: 1.1868 - val_accuracy: 0.5876\n",
            "Epoch 75/400\n",
            "291/291 [==============================] - 1s 2ms/step - loss: 0.8069 - accuracy: 0.7577 - val_loss: 1.1448 - val_accuracy: 0.6334\n",
            "Epoch 76/400\n",
            "291/291 [==============================] - 1s 2ms/step - loss: 0.8115 - accuracy: 0.7559 - val_loss: 1.1462 - val_accuracy: 0.6088\n",
            "Epoch 77/400\n",
            "291/291 [==============================] - 1s 3ms/step - loss: 0.8099 - accuracy: 0.7535 - val_loss: 1.1389 - val_accuracy: 0.6350\n",
            "Epoch 78/400\n",
            "291/291 [==============================] - 1s 2ms/step - loss: 0.8047 - accuracy: 0.7592 - val_loss: 1.1577 - val_accuracy: 0.6252\n",
            "Epoch 79/400\n",
            "291/291 [==============================] - 1s 2ms/step - loss: 0.8013 - accuracy: 0.7592 - val_loss: 1.1803 - val_accuracy: 0.6268\n",
            "Epoch 80/400\n",
            "291/291 [==============================] - 1s 3ms/step - loss: 0.8039 - accuracy: 0.7553 - val_loss: 1.1566 - val_accuracy: 0.6268\n",
            "Epoch 81/400\n",
            "291/291 [==============================] - 1s 4ms/step - loss: 0.8044 - accuracy: 0.7541 - val_loss: 1.1764 - val_accuracy: 0.6015\n",
            "Epoch 82/400\n",
            "291/291 [==============================] - 1s 4ms/step - loss: 0.8037 - accuracy: 0.7550 - val_loss: 1.1447 - val_accuracy: 0.6039\n",
            "Epoch 83/400\n",
            "291/291 [==============================] - 1s 3ms/step - loss: 0.8105 - accuracy: 0.7566 - val_loss: 1.1436 - val_accuracy: 0.6203\n",
            "Epoch 84/400\n",
            "291/291 [==============================] - 1s 3ms/step - loss: 0.8067 - accuracy: 0.7554 - val_loss: 1.1277 - val_accuracy: 0.6375\n",
            "Epoch 85/400\n",
            "291/291 [==============================] - 1s 2ms/step - loss: 0.8003 - accuracy: 0.7572 - val_loss: 1.1870 - val_accuracy: 0.6195\n",
            "Epoch 86/400\n",
            "291/291 [==============================] - 1s 3ms/step - loss: 0.8014 - accuracy: 0.7605 - val_loss: 1.1808 - val_accuracy: 0.6252\n",
            "Epoch 87/400\n",
            "291/291 [==============================] - 2s 6ms/step - loss: 0.7937 - accuracy: 0.7587 - val_loss: 1.1621 - val_accuracy: 0.6260\n",
            "Epoch 88/400\n",
            "291/291 [==============================] - 1s 3ms/step - loss: 0.7987 - accuracy: 0.7583 - val_loss: 1.1436 - val_accuracy: 0.6227\n",
            "Epoch 89/400\n",
            "291/291 [==============================] - 1s 3ms/step - loss: 0.8011 - accuracy: 0.7571 - val_loss: 1.1565 - val_accuracy: 0.6195\n",
            "Epoch 90/400\n",
            "291/291 [==============================] - 1s 2ms/step - loss: 0.8006 - accuracy: 0.7570 - val_loss: 1.1649 - val_accuracy: 0.6293\n",
            "Epoch 91/400\n",
            "291/291 [==============================] - 1s 3ms/step - loss: 0.7922 - accuracy: 0.7626 - val_loss: 1.1764 - val_accuracy: 0.6277\n",
            "Epoch 92/400\n",
            "291/291 [==============================] - 1s 2ms/step - loss: 0.7980 - accuracy: 0.7598 - val_loss: 1.1484 - val_accuracy: 0.6432\n",
            "Epoch 93/400\n",
            "291/291 [==============================] - 1s 2ms/step - loss: 0.7955 - accuracy: 0.7612 - val_loss: 1.1575 - val_accuracy: 0.6301\n",
            "Epoch 94/400\n",
            "291/291 [==============================] - 1s 2ms/step - loss: 0.7845 - accuracy: 0.7676 - val_loss: 1.1862 - val_accuracy: 0.6162\n",
            "Epoch 95/400\n",
            "291/291 [==============================] - 1s 3ms/step - loss: 0.7995 - accuracy: 0.7616 - val_loss: 1.1752 - val_accuracy: 0.6236\n",
            "Epoch 96/400\n",
            "291/291 [==============================] - 1s 4ms/step - loss: 0.8005 - accuracy: 0.7629 - val_loss: 1.1651 - val_accuracy: 0.6064\n",
            "Epoch 97/400\n",
            "291/291 [==============================] - 1s 4ms/step - loss: 0.7938 - accuracy: 0.7647 - val_loss: 1.1659 - val_accuracy: 0.6358\n",
            "Epoch 98/400\n",
            "291/291 [==============================] - 1s 4ms/step - loss: 0.7893 - accuracy: 0.7635 - val_loss: 1.1952 - val_accuracy: 0.6236\n",
            "Epoch 99/400\n",
            "291/291 [==============================] - 1s 2ms/step - loss: 0.7881 - accuracy: 0.7668 - val_loss: 1.1801 - val_accuracy: 0.6154\n",
            "Epoch 100/400\n",
            "291/291 [==============================] - 1s 2ms/step - loss: 0.7904 - accuracy: 0.7621 - val_loss: 1.1898 - val_accuracy: 0.6260\n",
            "Epoch 101/400\n",
            "291/291 [==============================] - 1s 2ms/step - loss: 0.7948 - accuracy: 0.7620 - val_loss: 1.1766 - val_accuracy: 0.6285\n",
            "Epoch 102/400\n",
            "291/291 [==============================] - 1s 2ms/step - loss: 0.7940 - accuracy: 0.7605 - val_loss: 1.1787 - val_accuracy: 0.6277\n",
            "Epoch 103/400\n",
            "291/291 [==============================] - 1s 2ms/step - loss: 0.7999 - accuracy: 0.7584 - val_loss: 1.1787 - val_accuracy: 0.6244\n",
            "Epoch 104/400\n",
            "291/291 [==============================] - 1s 2ms/step - loss: 0.7864 - accuracy: 0.7690 - val_loss: 1.1802 - val_accuracy: 0.6236\n",
            "Epoch 105/400\n",
            "291/291 [==============================] - 1s 2ms/step - loss: 0.7922 - accuracy: 0.7633 - val_loss: 1.1628 - val_accuracy: 0.6342\n",
            "Epoch 106/400\n",
            "291/291 [==============================] - 1s 2ms/step - loss: 0.7898 - accuracy: 0.7704 - val_loss: 1.1779 - val_accuracy: 0.6301\n",
            "Epoch 107/400\n",
            "291/291 [==============================] - 1s 2ms/step - loss: 0.7843 - accuracy: 0.7701 - val_loss: 1.1832 - val_accuracy: 0.6170\n",
            "Epoch 108/400\n",
            "291/291 [==============================] - 1s 2ms/step - loss: 0.7863 - accuracy: 0.7669 - val_loss: 1.2081 - val_accuracy: 0.6236\n",
            "Epoch 109/400\n",
            "291/291 [==============================] - 1s 3ms/step - loss: 0.7902 - accuracy: 0.7677 - val_loss: 1.1757 - val_accuracy: 0.6399\n",
            "Epoch 110/400\n",
            "291/291 [==============================] - 1s 3ms/step - loss: 0.7824 - accuracy: 0.7694 - val_loss: 1.2148 - val_accuracy: 0.6170\n",
            "Epoch 111/400\n",
            "291/291 [==============================] - 1s 2ms/step - loss: 0.7908 - accuracy: 0.7677 - val_loss: 1.2273 - val_accuracy: 0.6047\n",
            "Epoch 112/400\n",
            "291/291 [==============================] - 1s 3ms/step - loss: 0.7860 - accuracy: 0.7715 - val_loss: 1.1808 - val_accuracy: 0.6350\n",
            "Epoch 113/400\n",
            "291/291 [==============================] - 1s 4ms/step - loss: 0.7842 - accuracy: 0.7671 - val_loss: 1.2495 - val_accuracy: 0.6064\n",
            "Epoch 114/400\n",
            "291/291 [==============================] - 1s 4ms/step - loss: 0.7809 - accuracy: 0.7728 - val_loss: 1.1964 - val_accuracy: 0.6236\n",
            "Epoch 115/400\n",
            "291/291 [==============================] - 1s 3ms/step - loss: 0.7786 - accuracy: 0.7723 - val_loss: 1.2138 - val_accuracy: 0.6064\n",
            "Epoch 116/400\n",
            "291/291 [==============================] - 1s 2ms/step - loss: 0.7801 - accuracy: 0.7757 - val_loss: 1.1994 - val_accuracy: 0.6309\n",
            "Epoch 117/400\n",
            "291/291 [==============================] - 1s 2ms/step - loss: 0.7780 - accuracy: 0.7735 - val_loss: 1.1990 - val_accuracy: 0.6227\n",
            "Epoch 118/400\n",
            "291/291 [==============================] - 1s 2ms/step - loss: 0.7862 - accuracy: 0.7684 - val_loss: 1.2312 - val_accuracy: 0.6072\n",
            "Epoch 119/400\n",
            "291/291 [==============================] - 1s 2ms/step - loss: 0.7738 - accuracy: 0.7699 - val_loss: 1.2535 - val_accuracy: 0.5884\n",
            "Epoch 120/400\n",
            "291/291 [==============================] - 1s 2ms/step - loss: 0.7785 - accuracy: 0.7709 - val_loss: 1.2109 - val_accuracy: 0.6088\n",
            "Epoch 121/400\n",
            "291/291 [==============================] - 1s 2ms/step - loss: 0.7810 - accuracy: 0.7729 - val_loss: 1.2172 - val_accuracy: 0.6146\n",
            "Epoch 122/400\n",
            "291/291 [==============================] - 1s 2ms/step - loss: 0.7843 - accuracy: 0.7677 - val_loss: 1.2114 - val_accuracy: 0.6342\n",
            "Epoch 123/400\n",
            "291/291 [==============================] - 1s 3ms/step - loss: 0.7768 - accuracy: 0.7733 - val_loss: 1.1802 - val_accuracy: 0.6367\n",
            "Epoch 124/400\n",
            "291/291 [==============================] - 1s 3ms/step - loss: 0.7744 - accuracy: 0.7750 - val_loss: 1.2556 - val_accuracy: 0.5957\n",
            "Epoch 125/400\n",
            "291/291 [==============================] - 1s 2ms/step - loss: 0.7870 - accuracy: 0.7731 - val_loss: 1.2274 - val_accuracy: 0.5998\n",
            "Epoch 126/400\n",
            "291/291 [==============================] - 1s 3ms/step - loss: 0.7801 - accuracy: 0.7676 - val_loss: 1.2528 - val_accuracy: 0.5982\n",
            "Epoch 127/400\n",
            "291/291 [==============================] - 1s 3ms/step - loss: 0.7768 - accuracy: 0.7737 - val_loss: 1.1989 - val_accuracy: 0.6285\n",
            "Epoch 128/400\n",
            "291/291 [==============================] - 1s 3ms/step - loss: 0.7811 - accuracy: 0.7745 - val_loss: 1.2399 - val_accuracy: 0.6023\n",
            "Epoch 129/400\n",
            "291/291 [==============================] - 1s 3ms/step - loss: 0.7862 - accuracy: 0.7685 - val_loss: 1.2138 - val_accuracy: 0.6039\n",
            "Epoch 130/400\n",
            "291/291 [==============================] - 1s 4ms/step - loss: 0.7779 - accuracy: 0.7766 - val_loss: 1.1834 - val_accuracy: 0.6211\n",
            "Epoch 131/400\n",
            "291/291 [==============================] - 1s 4ms/step - loss: 0.7698 - accuracy: 0.7752 - val_loss: 1.1826 - val_accuracy: 0.6391\n",
            "Epoch 132/400\n",
            "291/291 [==============================] - 1s 3ms/step - loss: 0.7714 - accuracy: 0.7806 - val_loss: 1.1973 - val_accuracy: 0.6489\n",
            "Epoch 133/400\n",
            "291/291 [==============================] - 1s 2ms/step - loss: 0.7783 - accuracy: 0.7753 - val_loss: 1.2077 - val_accuracy: 0.6358\n",
            "Epoch 134/400\n",
            "291/291 [==============================] - 1s 2ms/step - loss: 0.7765 - accuracy: 0.7765 - val_loss: 1.2055 - val_accuracy: 0.6162\n",
            "Epoch 135/400\n",
            "291/291 [==============================] - 1s 2ms/step - loss: 0.7709 - accuracy: 0.7781 - val_loss: 1.1971 - val_accuracy: 0.6178\n",
            "Epoch 136/400\n",
            "291/291 [==============================] - 1s 2ms/step - loss: 0.7765 - accuracy: 0.7757 - val_loss: 1.1940 - val_accuracy: 0.6358\n",
            "Epoch 137/400\n",
            "291/291 [==============================] - 1s 2ms/step - loss: 0.7783 - accuracy: 0.7723 - val_loss: 1.1976 - val_accuracy: 0.6187\n",
            "Epoch 138/400\n",
            "291/291 [==============================] - 1s 2ms/step - loss: 0.7711 - accuracy: 0.7734 - val_loss: 1.2585 - val_accuracy: 0.6088\n",
            "Epoch 139/400\n",
            "291/291 [==============================] - 1s 2ms/step - loss: 0.7774 - accuracy: 0.7712 - val_loss: 1.1942 - val_accuracy: 0.6285\n",
            "Epoch 140/400\n",
            "291/291 [==============================] - 1s 3ms/step - loss: 0.7727 - accuracy: 0.7692 - val_loss: 1.2079 - val_accuracy: 0.6293\n",
            "Epoch 141/400\n",
            "291/291 [==============================] - 1s 3ms/step - loss: 0.7722 - accuracy: 0.7757 - val_loss: 1.2115 - val_accuracy: 0.6187\n",
            "Epoch 142/400\n",
            "291/291 [==============================] - 1s 2ms/step - loss: 0.7737 - accuracy: 0.7741 - val_loss: 1.2219 - val_accuracy: 0.6260\n",
            "Epoch 143/400\n",
            "291/291 [==============================] - 1s 2ms/step - loss: 0.7789 - accuracy: 0.7684 - val_loss: 1.1925 - val_accuracy: 0.6326\n",
            "Epoch 144/400\n",
            "291/291 [==============================] - 1s 2ms/step - loss: 0.7682 - accuracy: 0.7752 - val_loss: 1.2525 - val_accuracy: 0.6039\n",
            "Epoch 145/400\n",
            "291/291 [==============================] - 1s 2ms/step - loss: 0.7676 - accuracy: 0.7746 - val_loss: 1.2240 - val_accuracy: 0.6203\n",
            "Epoch 146/400\n",
            "291/291 [==============================] - 1s 4ms/step - loss: 0.7748 - accuracy: 0.7708 - val_loss: 1.1872 - val_accuracy: 0.6203\n",
            "Epoch 147/400\n",
            "291/291 [==============================] - 1s 4ms/step - loss: 0.7679 - accuracy: 0.7820 - val_loss: 1.2065 - val_accuracy: 0.6383\n",
            "Epoch 148/400\n",
            "291/291 [==============================] - 1s 4ms/step - loss: 0.7750 - accuracy: 0.7737 - val_loss: 1.2229 - val_accuracy: 0.6007\n",
            "Epoch 149/400\n",
            "291/291 [==============================] - 1s 3ms/step - loss: 0.7679 - accuracy: 0.7780 - val_loss: 1.2209 - val_accuracy: 0.6260\n",
            "Epoch 150/400\n",
            "291/291 [==============================] - 1s 3ms/step - loss: 0.7701 - accuracy: 0.7768 - val_loss: 1.2169 - val_accuracy: 0.6277\n",
            "Epoch 151/400\n",
            "291/291 [==============================] - 1s 2ms/step - loss: 0.7742 - accuracy: 0.7796 - val_loss: 1.2196 - val_accuracy: 0.6113\n",
            "Epoch 152/400\n",
            "291/291 [==============================] - 1s 2ms/step - loss: 0.7585 - accuracy: 0.7820 - val_loss: 1.1914 - val_accuracy: 0.6227\n",
            "Epoch 153/400\n",
            "291/291 [==============================] - 1s 2ms/step - loss: 0.7645 - accuracy: 0.7829 - val_loss: 1.2131 - val_accuracy: 0.6318\n",
            "Epoch 154/400\n",
            "291/291 [==============================] - 1s 2ms/step - loss: 0.7700 - accuracy: 0.7709 - val_loss: 1.2367 - val_accuracy: 0.6162\n",
            "Epoch 155/400\n",
            "291/291 [==============================] - 1s 2ms/step - loss: 0.7661 - accuracy: 0.7785 - val_loss: 1.2148 - val_accuracy: 0.6334\n",
            "Epoch 156/400\n",
            "291/291 [==============================] - 1s 3ms/step - loss: 0.7662 - accuracy: 0.7793 - val_loss: 1.2221 - val_accuracy: 0.6358\n",
            "Epoch 157/400\n",
            "291/291 [==============================] - 1s 2ms/step - loss: 0.7761 - accuracy: 0.7732 - val_loss: 1.2233 - val_accuracy: 0.6244\n",
            "Epoch 158/400\n",
            "291/291 [==============================] - 1s 2ms/step - loss: 0.7663 - accuracy: 0.7797 - val_loss: 1.2294 - val_accuracy: 0.6187\n",
            "Epoch 159/400\n",
            "291/291 [==============================] - 1s 2ms/step - loss: 0.7670 - accuracy: 0.7809 - val_loss: 1.2279 - val_accuracy: 0.6252\n",
            "Epoch 160/400\n",
            "291/291 [==============================] - 1s 2ms/step - loss: 0.7601 - accuracy: 0.7822 - val_loss: 1.2344 - val_accuracy: 0.6178\n",
            "Epoch 161/400\n",
            "291/291 [==============================] - 1s 2ms/step - loss: 0.7654 - accuracy: 0.7796 - val_loss: 1.2024 - val_accuracy: 0.6121\n",
            "Epoch 162/400\n",
            "291/291 [==============================] - 1s 3ms/step - loss: 0.7676 - accuracy: 0.7752 - val_loss: 1.1909 - val_accuracy: 0.6277\n",
            "Epoch 163/400\n",
            "291/291 [==============================] - 1s 4ms/step - loss: 0.7623 - accuracy: 0.7774 - val_loss: 1.2239 - val_accuracy: 0.6367\n",
            "Epoch 164/400\n",
            "291/291 [==============================] - 1s 4ms/step - loss: 0.7646 - accuracy: 0.7824 - val_loss: 1.2152 - val_accuracy: 0.6227\n",
            "Epoch 165/400\n",
            "291/291 [==============================] - 1s 4ms/step - loss: 0.7686 - accuracy: 0.7809 - val_loss: 1.2456 - val_accuracy: 0.5867\n",
            "Epoch 166/400\n",
            "291/291 [==============================] - 1s 2ms/step - loss: 0.7542 - accuracy: 0.7830 - val_loss: 1.2234 - val_accuracy: 0.6268\n",
            "Epoch 167/400\n",
            "291/291 [==============================] - 1s 2ms/step - loss: 0.7680 - accuracy: 0.7758 - val_loss: 1.2147 - val_accuracy: 0.6219\n",
            "Epoch 168/400\n",
            "291/291 [==============================] - 1s 2ms/step - loss: 0.7552 - accuracy: 0.7826 - val_loss: 1.2103 - val_accuracy: 0.6162\n",
            "Epoch 169/400\n",
            "291/291 [==============================] - 1s 2ms/step - loss: 0.7707 - accuracy: 0.7760 - val_loss: 1.2187 - val_accuracy: 0.6178\n",
            "Epoch 170/400\n",
            "291/291 [==============================] - 1s 2ms/step - loss: 0.7745 - accuracy: 0.7707 - val_loss: 1.1936 - val_accuracy: 0.6277\n",
            "Epoch 171/400\n",
            "291/291 [==============================] - 1s 3ms/step - loss: 0.7567 - accuracy: 0.7816 - val_loss: 1.2655 - val_accuracy: 0.6031\n",
            "Epoch 172/400\n",
            "291/291 [==============================] - 1s 2ms/step - loss: 0.7653 - accuracy: 0.7815 - val_loss: 1.2634 - val_accuracy: 0.6064\n",
            "Epoch 173/400\n",
            "291/291 [==============================] - 1s 3ms/step - loss: 0.7669 - accuracy: 0.7767 - val_loss: 1.2358 - val_accuracy: 0.6162\n",
            "Epoch 174/400\n",
            "291/291 [==============================] - 1s 2ms/step - loss: 0.7625 - accuracy: 0.7799 - val_loss: 1.2202 - val_accuracy: 0.6162\n",
            "Epoch 175/400\n",
            "291/291 [==============================] - 1s 2ms/step - loss: 0.7672 - accuracy: 0.7794 - val_loss: 1.2179 - val_accuracy: 0.6342\n",
            "Epoch 176/400\n",
            "291/291 [==============================] - 1s 3ms/step - loss: 0.7634 - accuracy: 0.7786 - val_loss: 1.2364 - val_accuracy: 0.6080\n",
            "Epoch 177/400\n",
            "291/291 [==============================] - 1s 3ms/step - loss: 0.7591 - accuracy: 0.7792 - val_loss: 1.2471 - val_accuracy: 0.6146\n",
            "Epoch 178/400\n",
            "291/291 [==============================] - 1s 3ms/step - loss: 0.7628 - accuracy: 0.7817 - val_loss: 1.2285 - val_accuracy: 0.6358\n",
            "Epoch 179/400\n",
            "291/291 [==============================] - 1s 4ms/step - loss: 0.7657 - accuracy: 0.7815 - val_loss: 1.2139 - val_accuracy: 0.6350\n",
            "Epoch 180/400\n",
            "291/291 [==============================] - 1s 4ms/step - loss: 0.7555 - accuracy: 0.7861 - val_loss: 1.1983 - val_accuracy: 0.6358\n",
            "Epoch 181/400\n",
            "291/291 [==============================] - 1s 4ms/step - loss: 0.7634 - accuracy: 0.7822 - val_loss: 1.2260 - val_accuracy: 0.6195\n",
            "Epoch 182/400\n",
            "291/291 [==============================] - 1s 3ms/step - loss: 0.7662 - accuracy: 0.7821 - val_loss: 1.2282 - val_accuracy: 0.6301\n",
            "Epoch 183/400\n",
            "291/291 [==============================] - 1s 3ms/step - loss: 0.7565 - accuracy: 0.7787 - val_loss: 1.2092 - val_accuracy: 0.6383\n",
            "Epoch 184/400\n",
            "291/291 [==============================] - 1s 2ms/step - loss: 0.7670 - accuracy: 0.7841 - val_loss: 1.2354 - val_accuracy: 0.6064\n",
            "Epoch 185/400\n",
            "291/291 [==============================] - 1s 3ms/step - loss: 0.7618 - accuracy: 0.7780 - val_loss: 1.2055 - val_accuracy: 0.6260\n",
            "Epoch 186/400\n",
            "291/291 [==============================] - 1s 3ms/step - loss: 0.7632 - accuracy: 0.7764 - val_loss: 1.1927 - val_accuracy: 0.6309\n",
            "Epoch 187/400\n",
            "291/291 [==============================] - 1s 2ms/step - loss: 0.7526 - accuracy: 0.7828 - val_loss: 1.2438 - val_accuracy: 0.5925\n",
            "Epoch 188/400\n",
            "291/291 [==============================] - 1s 3ms/step - loss: 0.7614 - accuracy: 0.7810 - val_loss: 1.2234 - val_accuracy: 0.6252\n",
            "Epoch 189/400\n",
            "291/291 [==============================] - 1s 3ms/step - loss: 0.7576 - accuracy: 0.7857 - val_loss: 1.2155 - val_accuracy: 0.6326\n",
            "Epoch 190/400\n",
            "291/291 [==============================] - 1s 2ms/step - loss: 0.7648 - accuracy: 0.7784 - val_loss: 1.2254 - val_accuracy: 0.6195\n",
            "Epoch 191/400\n",
            "291/291 [==============================] - 1s 2ms/step - loss: 0.7665 - accuracy: 0.7808 - val_loss: 1.2115 - val_accuracy: 0.6211\n",
            "Epoch 192/400\n",
            "291/291 [==============================] - 1s 2ms/step - loss: 0.7454 - accuracy: 0.7860 - val_loss: 1.2366 - val_accuracy: 0.6236\n",
            "Epoch 193/400\n",
            "291/291 [==============================] - 1s 2ms/step - loss: 0.7628 - accuracy: 0.7789 - val_loss: 1.2166 - val_accuracy: 0.6301\n",
            "Epoch 194/400\n",
            "291/291 [==============================] - 1s 2ms/step - loss: 0.7638 - accuracy: 0.7746 - val_loss: 1.2323 - val_accuracy: 0.6121\n",
            "Epoch 195/400\n",
            "291/291 [==============================] - 1s 2ms/step - loss: 0.7568 - accuracy: 0.7837 - val_loss: 1.2231 - val_accuracy: 0.6309\n",
            "Epoch 196/400\n",
            "291/291 [==============================] - 1s 4ms/step - loss: 0.7578 - accuracy: 0.7808 - val_loss: 1.2136 - val_accuracy: 0.6146\n",
            "Epoch 197/400\n",
            "291/291 [==============================] - 1s 4ms/step - loss: 0.7655 - accuracy: 0.7767 - val_loss: 1.2278 - val_accuracy: 0.6260\n",
            "Epoch 198/400\n",
            "291/291 [==============================] - 1s 4ms/step - loss: 0.7580 - accuracy: 0.7810 - val_loss: 1.2545 - val_accuracy: 0.6023\n",
            "Epoch 199/400\n",
            "291/291 [==============================] - 1s 2ms/step - loss: 0.7458 - accuracy: 0.7873 - val_loss: 1.2647 - val_accuracy: 0.6064\n",
            "Epoch 200/400\n",
            "291/291 [==============================] - 1s 2ms/step - loss: 0.7615 - accuracy: 0.7824 - val_loss: 1.2279 - val_accuracy: 0.6227\n",
            "Epoch 201/400\n",
            "291/291 [==============================] - 1s 3ms/step - loss: 0.7577 - accuracy: 0.7796 - val_loss: 1.1976 - val_accuracy: 0.6383\n",
            "Epoch 202/400\n",
            "291/291 [==============================] - 1s 3ms/step - loss: 0.7565 - accuracy: 0.7832 - val_loss: 1.2235 - val_accuracy: 0.6211\n",
            "Epoch 203/400\n",
            "291/291 [==============================] - 1s 3ms/step - loss: 0.7577 - accuracy: 0.7860 - val_loss: 1.2352 - val_accuracy: 0.6195\n",
            "Epoch 204/400\n",
            "291/291 [==============================] - 1s 3ms/step - loss: 0.7575 - accuracy: 0.7773 - val_loss: 1.2154 - val_accuracy: 0.6129\n",
            "Epoch 205/400\n",
            "291/291 [==============================] - 1s 2ms/step - loss: 0.7519 - accuracy: 0.7825 - val_loss: 1.1947 - val_accuracy: 0.6383\n",
            "Epoch 206/400\n",
            "291/291 [==============================] - 1s 3ms/step - loss: 0.7583 - accuracy: 0.7811 - val_loss: 1.2137 - val_accuracy: 0.6277\n",
            "Epoch 207/400\n",
            "291/291 [==============================] - 1s 2ms/step - loss: 0.7635 - accuracy: 0.7735 - val_loss: 1.1917 - val_accuracy: 0.6219\n",
            "Epoch 208/400\n",
            "291/291 [==============================] - 1s 2ms/step - loss: 0.7442 - accuracy: 0.7878 - val_loss: 1.2506 - val_accuracy: 0.5998\n",
            "Epoch 209/400\n",
            "291/291 [==============================] - 1s 2ms/step - loss: 0.7510 - accuracy: 0.7847 - val_loss: 1.2097 - val_accuracy: 0.6252\n",
            "Epoch 210/400\n",
            "291/291 [==============================] - 1s 3ms/step - loss: 0.7553 - accuracy: 0.7836 - val_loss: 1.2472 - val_accuracy: 0.5998\n",
            "Epoch 211/400\n",
            "291/291 [==============================] - 1s 3ms/step - loss: 0.7584 - accuracy: 0.7851 - val_loss: 1.2278 - val_accuracy: 0.6203\n",
            "Epoch 212/400\n",
            "291/291 [==============================] - 1s 3ms/step - loss: 0.7592 - accuracy: 0.7796 - val_loss: 1.2168 - val_accuracy: 0.5966\n",
            "Epoch 213/400\n",
            "291/291 [==============================] - 1s 4ms/step - loss: 0.7614 - accuracy: 0.7804 - val_loss: 1.1931 - val_accuracy: 0.6293\n",
            "Epoch 214/400\n",
            "291/291 [==============================] - 1s 4ms/step - loss: 0.7557 - accuracy: 0.7847 - val_loss: 1.2710 - val_accuracy: 0.5982\n",
            "Epoch 215/400\n",
            "291/291 [==============================] - 1s 3ms/step - loss: 0.7457 - accuracy: 0.7853 - val_loss: 1.2216 - val_accuracy: 0.6203\n",
            "Epoch 216/400\n",
            "291/291 [==============================] - 1s 3ms/step - loss: 0.7468 - accuracy: 0.7833 - val_loss: 1.2580 - val_accuracy: 0.5957\n",
            "Epoch 217/400\n",
            "291/291 [==============================] - 1s 5ms/step - loss: 0.7580 - accuracy: 0.7817 - val_loss: 1.2204 - val_accuracy: 0.6277\n",
            "Epoch 218/400\n",
            "291/291 [==============================] - 1s 3ms/step - loss: 0.7614 - accuracy: 0.7801 - val_loss: 1.2366 - val_accuracy: 0.6113\n",
            "Epoch 219/400\n",
            "291/291 [==============================] - 1s 3ms/step - loss: 0.7481 - accuracy: 0.7878 - val_loss: 1.2299 - val_accuracy: 0.6309\n",
            "Epoch 220/400\n",
            "291/291 [==============================] - 1s 2ms/step - loss: 0.7558 - accuracy: 0.7858 - val_loss: 1.2185 - val_accuracy: 0.6342\n",
            "Epoch 221/400\n",
            "291/291 [==============================] - 1s 3ms/step - loss: 0.7537 - accuracy: 0.7832 - val_loss: 1.2066 - val_accuracy: 0.6326\n",
            "Epoch 222/400\n",
            "291/291 [==============================] - 1s 3ms/step - loss: 0.7466 - accuracy: 0.7832 - val_loss: 1.2494 - val_accuracy: 0.6211\n",
            "Epoch 223/400\n",
            "291/291 [==============================] - 1s 3ms/step - loss: 0.7529 - accuracy: 0.7857 - val_loss: 1.2682 - val_accuracy: 0.6162\n",
            "Epoch 224/400\n",
            "291/291 [==============================] - 1s 3ms/step - loss: 0.7597 - accuracy: 0.7805 - val_loss: 1.2553 - val_accuracy: 0.6170\n",
            "Epoch 225/400\n",
            "291/291 [==============================] - 1s 3ms/step - loss: 0.7537 - accuracy: 0.7787 - val_loss: 1.2351 - val_accuracy: 0.6268\n",
            "Epoch 226/400\n",
            "291/291 [==============================] - 1s 2ms/step - loss: 0.7579 - accuracy: 0.7857 - val_loss: 1.2400 - val_accuracy: 0.6178\n",
            "Epoch 227/400\n",
            "291/291 [==============================] - 1s 3ms/step - loss: 0.7475 - accuracy: 0.7895 - val_loss: 1.2247 - val_accuracy: 0.6244\n",
            "Epoch 228/400\n",
            "291/291 [==============================] - 1s 4ms/step - loss: 0.7438 - accuracy: 0.7915 - val_loss: 1.2162 - val_accuracy: 0.6137\n",
            "Epoch 229/400\n",
            "291/291 [==============================] - 1s 4ms/step - loss: 0.7567 - accuracy: 0.7844 - val_loss: 1.2275 - val_accuracy: 0.6113\n",
            "Epoch 230/400\n",
            "291/291 [==============================] - 1s 3ms/step - loss: 0.7589 - accuracy: 0.7791 - val_loss: 1.2253 - val_accuracy: 0.6162\n",
            "Epoch 231/400\n",
            "291/291 [==============================] - 1s 2ms/step - loss: 0.7499 - accuracy: 0.7890 - val_loss: 1.2312 - val_accuracy: 0.6236\n",
            "Epoch 232/400\n",
            "291/291 [==============================] - 1s 2ms/step - loss: 0.7543 - accuracy: 0.7839 - val_loss: 1.2610 - val_accuracy: 0.6072\n",
            "Epoch 233/400\n",
            "291/291 [==============================] - 1s 3ms/step - loss: 0.7611 - accuracy: 0.7792 - val_loss: 1.2220 - val_accuracy: 0.6113\n",
            "Epoch 234/400\n",
            "291/291 [==============================] - 1s 2ms/step - loss: 0.7508 - accuracy: 0.7860 - val_loss: 1.2180 - val_accuracy: 0.6268\n",
            "Epoch 235/400\n",
            "291/291 [==============================] - 1s 2ms/step - loss: 0.7424 - accuracy: 0.7874 - val_loss: 1.2426 - val_accuracy: 0.6383\n",
            "Epoch 236/400\n",
            "291/291 [==============================] - 1s 3ms/step - loss: 0.7560 - accuracy: 0.7894 - val_loss: 1.2371 - val_accuracy: 0.6170\n",
            "Epoch 237/400\n",
            "291/291 [==============================] - 1s 2ms/step - loss: 0.7556 - accuracy: 0.7820 - val_loss: 1.2327 - val_accuracy: 0.6342\n",
            "Epoch 238/400\n",
            "291/291 [==============================] - 1s 2ms/step - loss: 0.7493 - accuracy: 0.7858 - val_loss: 1.2149 - val_accuracy: 0.6301\n",
            "Epoch 239/400\n",
            "291/291 [==============================] - 1s 2ms/step - loss: 0.7383 - accuracy: 0.7916 - val_loss: 1.2415 - val_accuracy: 0.6031\n",
            "Epoch 240/400\n",
            "291/291 [==============================] - 1s 2ms/step - loss: 0.7490 - accuracy: 0.7850 - val_loss: 1.2448 - val_accuracy: 0.6088\n",
            "Epoch 241/400\n",
            "291/291 [==============================] - 1s 3ms/step - loss: 0.7466 - accuracy: 0.7864 - val_loss: 1.2638 - val_accuracy: 0.6154\n",
            "Epoch 242/400\n",
            "291/291 [==============================] - 1s 3ms/step - loss: 0.7541 - accuracy: 0.7839 - val_loss: 1.2809 - val_accuracy: 0.5859\n",
            "Epoch 243/400\n",
            "291/291 [==============================] - 1s 3ms/step - loss: 0.7480 - accuracy: 0.7876 - val_loss: 1.2428 - val_accuracy: 0.6219\n",
            "Epoch 244/400\n",
            "291/291 [==============================] - 1s 4ms/step - loss: 0.7601 - accuracy: 0.7803 - val_loss: 1.2496 - val_accuracy: 0.6056\n",
            "Epoch 245/400\n",
            "291/291 [==============================] - 1s 4ms/step - loss: 0.7501 - accuracy: 0.7823 - val_loss: 1.2266 - val_accuracy: 0.6293\n",
            "Epoch 246/400\n",
            "291/291 [==============================] - 1s 4ms/step - loss: 0.7491 - accuracy: 0.7840 - val_loss: 1.2553 - val_accuracy: 0.6293\n",
            "Epoch 247/400\n",
            "291/291 [==============================] - 1s 2ms/step - loss: 0.7490 - accuracy: 0.7859 - val_loss: 1.2716 - val_accuracy: 0.6015\n",
            "Epoch 248/400\n",
            "291/291 [==============================] - 1s 3ms/step - loss: 0.7553 - accuracy: 0.7834 - val_loss: 1.1905 - val_accuracy: 0.6178\n",
            "Epoch 249/400\n",
            "291/291 [==============================] - 1s 3ms/step - loss: 0.7429 - accuracy: 0.7892 - val_loss: 1.2384 - val_accuracy: 0.6260\n",
            "Epoch 250/400\n",
            "291/291 [==============================] - 1s 2ms/step - loss: 0.7467 - accuracy: 0.7844 - val_loss: 1.2595 - val_accuracy: 0.6162\n",
            "Epoch 251/400\n",
            "291/291 [==============================] - 1s 3ms/step - loss: 0.7448 - accuracy: 0.7883 - val_loss: 1.2396 - val_accuracy: 0.6203\n",
            "Epoch 252/400\n",
            "291/291 [==============================] - 1s 3ms/step - loss: 0.7422 - accuracy: 0.7845 - val_loss: 1.2615 - val_accuracy: 0.6105\n",
            "Epoch 253/400\n",
            "291/291 [==============================] - 1s 2ms/step - loss: 0.7583 - accuracy: 0.7800 - val_loss: 1.2248 - val_accuracy: 0.6154\n",
            "Epoch 254/400\n",
            "291/291 [==============================] - 1s 3ms/step - loss: 0.7554 - accuracy: 0.7837 - val_loss: 1.2189 - val_accuracy: 0.6178\n",
            "Epoch 255/400\n",
            "291/291 [==============================] - 1s 3ms/step - loss: 0.7463 - accuracy: 0.7857 - val_loss: 1.2374 - val_accuracy: 0.6105\n",
            "Epoch 256/400\n",
            "291/291 [==============================] - 1s 3ms/step - loss: 0.7575 - accuracy: 0.7817 - val_loss: 1.2246 - val_accuracy: 0.6129\n",
            "Epoch 257/400\n",
            "291/291 [==============================] - 1s 2ms/step - loss: 0.7481 - accuracy: 0.7867 - val_loss: 1.2255 - val_accuracy: 0.6301\n",
            "Epoch 258/400\n",
            "291/291 [==============================] - 1s 3ms/step - loss: 0.7533 - accuracy: 0.7840 - val_loss: 1.2447 - val_accuracy: 0.6252\n",
            "Epoch 259/400\n",
            "291/291 [==============================] - 1s 3ms/step - loss: 0.7356 - accuracy: 0.7954 - val_loss: 1.2428 - val_accuracy: 0.6399\n",
            "Epoch 260/400\n",
            "291/291 [==============================] - 1s 4ms/step - loss: 0.7466 - accuracy: 0.7875 - val_loss: 1.2939 - val_accuracy: 0.5851\n",
            "Epoch 261/400\n",
            "291/291 [==============================] - 1s 4ms/step - loss: 0.7585 - accuracy: 0.7811 - val_loss: 1.1855 - val_accuracy: 0.6326\n",
            "Epoch 262/400\n",
            "291/291 [==============================] - 1s 4ms/step - loss: 0.7513 - accuracy: 0.7876 - val_loss: 1.2276 - val_accuracy: 0.6268\n",
            "Epoch 263/400\n",
            "291/291 [==============================] - 1s 3ms/step - loss: 0.7487 - accuracy: 0.7839 - val_loss: 1.3012 - val_accuracy: 0.5597\n",
            "Epoch 264/400\n",
            "291/291 [==============================] - 1s 3ms/step - loss: 0.7577 - accuracy: 0.7830 - val_loss: 1.2313 - val_accuracy: 0.6350\n",
            "Epoch 265/400\n",
            "291/291 [==============================] - 1s 2ms/step - loss: 0.7546 - accuracy: 0.7879 - val_loss: 1.2524 - val_accuracy: 0.6137\n",
            "Epoch 266/400\n",
            "291/291 [==============================] - 1s 3ms/step - loss: 0.7436 - accuracy: 0.7901 - val_loss: 1.2345 - val_accuracy: 0.6154\n",
            "Epoch 267/400\n",
            "291/291 [==============================] - 1s 3ms/step - loss: 0.7389 - accuracy: 0.7942 - val_loss: 1.2588 - val_accuracy: 0.6039\n",
            "Epoch 268/400\n",
            "291/291 [==============================] - 1s 3ms/step - loss: 0.7363 - accuracy: 0.7921 - val_loss: 1.2636 - val_accuracy: 0.6154\n",
            "Epoch 269/400\n",
            "291/291 [==============================] - 1s 3ms/step - loss: 0.7488 - accuracy: 0.7891 - val_loss: 1.2372 - val_accuracy: 0.6170\n",
            "Epoch 270/400\n",
            "291/291 [==============================] - 1s 3ms/step - loss: 0.7451 - accuracy: 0.7851 - val_loss: 1.2343 - val_accuracy: 0.6219\n",
            "Epoch 271/400\n",
            "291/291 [==============================] - 1s 3ms/step - loss: 0.7505 - accuracy: 0.7906 - val_loss: 1.2365 - val_accuracy: 0.6309\n",
            "Epoch 272/400\n",
            "291/291 [==============================] - 1s 3ms/step - loss: 0.7459 - accuracy: 0.7841 - val_loss: 1.2452 - val_accuracy: 0.6244\n",
            "Epoch 273/400\n",
            "291/291 [==============================] - 1s 2ms/step - loss: 0.7508 - accuracy: 0.7890 - val_loss: 1.2495 - val_accuracy: 0.6252\n",
            "Epoch 274/400\n",
            "291/291 [==============================] - 1s 3ms/step - loss: 0.7398 - accuracy: 0.7913 - val_loss: 1.2485 - val_accuracy: 0.6293\n",
            "Epoch 275/400\n",
            "291/291 [==============================] - 1s 3ms/step - loss: 0.7521 - accuracy: 0.7816 - val_loss: 1.2507 - val_accuracy: 0.6211\n",
            "Epoch 276/400\n",
            "291/291 [==============================] - 1s 3ms/step - loss: 0.7514 - accuracy: 0.7850 - val_loss: 1.2189 - val_accuracy: 0.6326\n",
            "Epoch 277/400\n",
            "291/291 [==============================] - 1s 4ms/step - loss: 0.7417 - accuracy: 0.7899 - val_loss: 1.2446 - val_accuracy: 0.6129\n",
            "Epoch 278/400\n",
            "291/291 [==============================] - 1s 4ms/step - loss: 0.7512 - accuracy: 0.7922 - val_loss: 1.2620 - val_accuracy: 0.6137\n",
            "Epoch 279/400\n",
            "291/291 [==============================] - 1s 4ms/step - loss: 0.7399 - accuracy: 0.7949 - val_loss: 1.2488 - val_accuracy: 0.6015\n",
            "Epoch 280/400\n",
            "291/291 [==============================] - 1s 3ms/step - loss: 0.7479 - accuracy: 0.7845 - val_loss: 1.2392 - val_accuracy: 0.6105\n",
            "Epoch 281/400\n",
            "291/291 [==============================] - 1s 3ms/step - loss: 0.7456 - accuracy: 0.7905 - val_loss: 1.2385 - val_accuracy: 0.6293\n",
            "Epoch 282/400\n",
            "291/291 [==============================] - 1s 2ms/step - loss: 0.7308 - accuracy: 0.7932 - val_loss: 1.2647 - val_accuracy: 0.6342\n",
            "Epoch 283/400\n",
            "291/291 [==============================] - 1s 3ms/step - loss: 0.7531 - accuracy: 0.7857 - val_loss: 1.2195 - val_accuracy: 0.6203\n",
            "Epoch 284/400\n",
            "291/291 [==============================] - 1s 2ms/step - loss: 0.7451 - accuracy: 0.7870 - val_loss: 1.2002 - val_accuracy: 0.6244\n",
            "Epoch 285/400\n",
            "291/291 [==============================] - 1s 3ms/step - loss: 0.7494 - accuracy: 0.7913 - val_loss: 1.2601 - val_accuracy: 0.6129\n",
            "Epoch 286/400\n",
            "291/291 [==============================] - 1s 3ms/step - loss: 0.7429 - accuracy: 0.7918 - val_loss: 1.2198 - val_accuracy: 0.6244\n",
            "Epoch 287/400\n",
            "291/291 [==============================] - 1s 3ms/step - loss: 0.7421 - accuracy: 0.7829 - val_loss: 1.2443 - val_accuracy: 0.6440\n",
            "Epoch 288/400\n",
            "291/291 [==============================] - 1s 3ms/step - loss: 0.7496 - accuracy: 0.7853 - val_loss: 1.2201 - val_accuracy: 0.6285\n",
            "Epoch 289/400\n",
            "291/291 [==============================] - 1s 3ms/step - loss: 0.7454 - accuracy: 0.7876 - val_loss: 1.2213 - val_accuracy: 0.6211\n",
            "Epoch 290/400\n",
            "291/291 [==============================] - 1s 3ms/step - loss: 0.7425 - accuracy: 0.7892 - val_loss: 1.2389 - val_accuracy: 0.6195\n",
            "Epoch 291/400\n",
            "291/291 [==============================] - 1s 3ms/step - loss: 0.7482 - accuracy: 0.7846 - val_loss: 1.2471 - val_accuracy: 0.6219\n",
            "Epoch 292/400\n",
            "291/291 [==============================] - 1s 3ms/step - loss: 0.7468 - accuracy: 0.7879 - val_loss: 1.2178 - val_accuracy: 0.6301\n",
            "Epoch 293/400\n",
            "291/291 [==============================] - 1s 5ms/step - loss: 0.7437 - accuracy: 0.7903 - val_loss: 1.2258 - val_accuracy: 0.6146\n",
            "Epoch 294/400\n",
            "291/291 [==============================] - 1s 4ms/step - loss: 0.7461 - accuracy: 0.7868 - val_loss: 1.2109 - val_accuracy: 0.6146\n",
            "Epoch 295/400\n",
            "291/291 [==============================] - 1s 4ms/step - loss: 0.7337 - accuracy: 0.7923 - val_loss: 1.2639 - val_accuracy: 0.5908\n",
            "Epoch 296/400\n",
            "291/291 [==============================] - 1s 3ms/step - loss: 0.7465 - accuracy: 0.7887 - val_loss: 1.2366 - val_accuracy: 0.6219\n",
            "Epoch 297/400\n",
            "291/291 [==============================] - 1s 2ms/step - loss: 0.7494 - accuracy: 0.7850 - val_loss: 1.2583 - val_accuracy: 0.6113\n",
            "Epoch 298/400\n",
            "291/291 [==============================] - 1s 2ms/step - loss: 0.7513 - accuracy: 0.7873 - val_loss: 1.2241 - val_accuracy: 0.6195\n",
            "Epoch 299/400\n",
            "291/291 [==============================] - 1s 3ms/step - loss: 0.7379 - accuracy: 0.7944 - val_loss: 1.2212 - val_accuracy: 0.6211\n",
            "Epoch 300/400\n",
            "291/291 [==============================] - 1s 3ms/step - loss: 0.7484 - accuracy: 0.7861 - val_loss: 1.2384 - val_accuracy: 0.6154\n",
            "Epoch 301/400\n",
            "291/291 [==============================] - 1s 2ms/step - loss: 0.7331 - accuracy: 0.7911 - val_loss: 1.2502 - val_accuracy: 0.6367\n",
            "Epoch 302/400\n",
            "291/291 [==============================] - 1s 3ms/step - loss: 0.7480 - accuracy: 0.7890 - val_loss: 1.2587 - val_accuracy: 0.6023\n",
            "Epoch 303/400\n",
            "291/291 [==============================] - 1s 3ms/step - loss: 0.7410 - accuracy: 0.7894 - val_loss: 1.2381 - val_accuracy: 0.6105\n",
            "Epoch 304/400\n",
            "291/291 [==============================] - 1s 3ms/step - loss: 0.7423 - accuracy: 0.7936 - val_loss: 1.2304 - val_accuracy: 0.6260\n",
            "Epoch 305/400\n",
            "291/291 [==============================] - 1s 3ms/step - loss: 0.7394 - accuracy: 0.7870 - val_loss: 1.2351 - val_accuracy: 0.6146\n",
            "Epoch 306/400\n",
            "291/291 [==============================] - 1s 2ms/step - loss: 0.7437 - accuracy: 0.7907 - val_loss: 1.2252 - val_accuracy: 0.6146\n",
            "Epoch 307/400\n",
            "291/291 [==============================] - 1s 3ms/step - loss: 0.7385 - accuracy: 0.7868 - val_loss: 1.2465 - val_accuracy: 0.6056\n",
            "Epoch 308/400\n",
            "291/291 [==============================] - 1s 3ms/step - loss: 0.7490 - accuracy: 0.7849 - val_loss: 1.2384 - val_accuracy: 0.6137\n",
            "Epoch 309/400\n",
            "291/291 [==============================] - 1s 3ms/step - loss: 0.7346 - accuracy: 0.7945 - val_loss: 1.2380 - val_accuracy: 0.6293\n",
            "Epoch 310/400\n",
            "291/291 [==============================] - 1s 4ms/step - loss: 0.7606 - accuracy: 0.7834 - val_loss: 1.2353 - val_accuracy: 0.6064\n",
            "Epoch 311/400\n",
            "291/291 [==============================] - 1s 4ms/step - loss: 0.7365 - accuracy: 0.7939 - val_loss: 1.2667 - val_accuracy: 0.6031\n",
            "Epoch 312/400\n",
            "291/291 [==============================] - 1s 4ms/step - loss: 0.7474 - accuracy: 0.7898 - val_loss: 1.2671 - val_accuracy: 0.6056\n",
            "Epoch 313/400\n",
            "291/291 [==============================] - 1s 3ms/step - loss: 0.7488 - accuracy: 0.7862 - val_loss: 1.2329 - val_accuracy: 0.6277\n",
            "Epoch 314/400\n",
            "291/291 [==============================] - 1s 3ms/step - loss: 0.7338 - accuracy: 0.7932 - val_loss: 1.2209 - val_accuracy: 0.6072\n",
            "Epoch 315/400\n",
            "291/291 [==============================] - 1s 3ms/step - loss: 0.7401 - accuracy: 0.7932 - val_loss: 1.2490 - val_accuracy: 0.6007\n",
            "Epoch 316/400\n",
            "291/291 [==============================] - 1s 3ms/step - loss: 0.7374 - accuracy: 0.7933 - val_loss: 1.2368 - val_accuracy: 0.6342\n",
            "Epoch 317/400\n",
            "291/291 [==============================] - 1s 3ms/step - loss: 0.7456 - accuracy: 0.7891 - val_loss: 1.2608 - val_accuracy: 0.6162\n",
            "Epoch 318/400\n",
            "291/291 [==============================] - 1s 3ms/step - loss: 0.7491 - accuracy: 0.7893 - val_loss: 1.2318 - val_accuracy: 0.6219\n",
            "Epoch 319/400\n",
            "291/291 [==============================] - 1s 3ms/step - loss: 0.7414 - accuracy: 0.7898 - val_loss: 1.2218 - val_accuracy: 0.6097\n",
            "Epoch 320/400\n",
            "291/291 [==============================] - 1s 3ms/step - loss: 0.7372 - accuracy: 0.7888 - val_loss: 1.2453 - val_accuracy: 0.6170\n",
            "Epoch 321/400\n",
            "291/291 [==============================] - 1s 3ms/step - loss: 0.7447 - accuracy: 0.7892 - val_loss: 1.2304 - val_accuracy: 0.6252\n",
            "Epoch 322/400\n",
            "291/291 [==============================] - 1s 3ms/step - loss: 0.7400 - accuracy: 0.7937 - val_loss: 1.2272 - val_accuracy: 0.6350\n",
            "Epoch 323/400\n",
            "291/291 [==============================] - 1s 3ms/step - loss: 0.7374 - accuracy: 0.7917 - val_loss: 1.2207 - val_accuracy: 0.6408\n",
            "Epoch 324/400\n",
            "291/291 [==============================] - 1s 3ms/step - loss: 0.7375 - accuracy: 0.7966 - val_loss: 1.2348 - val_accuracy: 0.6129\n",
            "Epoch 325/400\n",
            "291/291 [==============================] - 1s 4ms/step - loss: 0.7575 - accuracy: 0.7807 - val_loss: 1.2462 - val_accuracy: 0.6047\n",
            "Epoch 326/400\n",
            "291/291 [==============================] - 1s 4ms/step - loss: 0.7363 - accuracy: 0.7911 - val_loss: 1.2522 - val_accuracy: 0.6146\n",
            "Epoch 327/400\n",
            "291/291 [==============================] - 1s 4ms/step - loss: 0.7400 - accuracy: 0.7924 - val_loss: 1.2452 - val_accuracy: 0.6187\n",
            "Epoch 328/400\n",
            "291/291 [==============================] - 1s 4ms/step - loss: 0.7384 - accuracy: 0.7934 - val_loss: 1.2323 - val_accuracy: 0.6293\n",
            "Epoch 329/400\n",
            "291/291 [==============================] - 1s 3ms/step - loss: 0.7456 - accuracy: 0.7867 - val_loss: 1.2509 - val_accuracy: 0.6121\n",
            "Epoch 330/400\n",
            "291/291 [==============================] - 1s 3ms/step - loss: 0.7426 - accuracy: 0.7868 - val_loss: 1.2346 - val_accuracy: 0.6350\n",
            "Epoch 331/400\n",
            "291/291 [==============================] - 1s 3ms/step - loss: 0.7407 - accuracy: 0.7882 - val_loss: 1.2296 - val_accuracy: 0.6219\n",
            "Epoch 332/400\n",
            "291/291 [==============================] - 1s 3ms/step - loss: 0.7454 - accuracy: 0.7895 - val_loss: 1.2462 - val_accuracy: 0.5998\n",
            "Epoch 333/400\n",
            "291/291 [==============================] - 1s 3ms/step - loss: 0.7519 - accuracy: 0.7822 - val_loss: 1.2347 - val_accuracy: 0.6293\n",
            "Epoch 334/400\n",
            "291/291 [==============================] - 1s 3ms/step - loss: 0.7380 - accuracy: 0.7879 - val_loss: 1.2590 - val_accuracy: 0.6178\n",
            "Epoch 335/400\n",
            "291/291 [==============================] - 1s 3ms/step - loss: 0.7499 - accuracy: 0.7851 - val_loss: 1.2269 - val_accuracy: 0.6219\n",
            "Epoch 336/400\n",
            "291/291 [==============================] - 1s 3ms/step - loss: 0.7550 - accuracy: 0.7826 - val_loss: 1.2330 - val_accuracy: 0.6277\n",
            "Epoch 337/400\n",
            "291/291 [==============================] - 1s 3ms/step - loss: 0.7343 - accuracy: 0.7927 - val_loss: 1.2644 - val_accuracy: 0.6080\n",
            "Epoch 338/400\n",
            "291/291 [==============================] - 1s 2ms/step - loss: 0.7424 - accuracy: 0.7902 - val_loss: 1.2337 - val_accuracy: 0.6244\n",
            "Epoch 339/400\n",
            "291/291 [==============================] - 1s 3ms/step - loss: 0.7391 - accuracy: 0.7866 - val_loss: 1.2353 - val_accuracy: 0.6277\n",
            "Epoch 340/400\n",
            "291/291 [==============================] - 1s 3ms/step - loss: 0.7376 - accuracy: 0.7898 - val_loss: 1.2227 - val_accuracy: 0.6260\n",
            "Epoch 341/400\n",
            "291/291 [==============================] - 1s 3ms/step - loss: 0.7370 - accuracy: 0.7894 - val_loss: 1.2268 - val_accuracy: 0.6227\n",
            "Epoch 342/400\n",
            "291/291 [==============================] - 1s 4ms/step - loss: 0.7414 - accuracy: 0.7933 - val_loss: 1.2454 - val_accuracy: 0.6137\n",
            "Epoch 343/400\n",
            "291/291 [==============================] - 2s 7ms/step - loss: 0.7469 - accuracy: 0.7902 - val_loss: 1.2664 - val_accuracy: 0.6047\n",
            "Epoch 344/400\n",
            "291/291 [==============================] - 2s 6ms/step - loss: 0.7284 - accuracy: 0.7964 - val_loss: 1.2699 - val_accuracy: 0.6227\n",
            "Epoch 345/400\n",
            "291/291 [==============================] - 1s 3ms/step - loss: 0.7473 - accuracy: 0.7835 - val_loss: 1.2132 - val_accuracy: 0.6187\n",
            "Epoch 346/400\n",
            "291/291 [==============================] - 1s 3ms/step - loss: 0.7429 - accuracy: 0.7919 - val_loss: 1.2090 - val_accuracy: 0.6318\n",
            "Epoch 347/400\n",
            "291/291 [==============================] - 1s 3ms/step - loss: 0.7460 - accuracy: 0.7895 - val_loss: 1.2192 - val_accuracy: 0.6268\n",
            "Epoch 348/400\n",
            "291/291 [==============================] - 1s 3ms/step - loss: 0.7432 - accuracy: 0.7902 - val_loss: 1.2544 - val_accuracy: 0.5949\n",
            "Epoch 349/400\n",
            "291/291 [==============================] - 1s 3ms/step - loss: 0.7450 - accuracy: 0.7862 - val_loss: 1.2218 - val_accuracy: 0.6383\n",
            "Epoch 350/400\n",
            "291/291 [==============================] - 1s 3ms/step - loss: 0.7386 - accuracy: 0.7897 - val_loss: 1.2637 - val_accuracy: 0.6219\n",
            "Epoch 351/400\n",
            "291/291 [==============================] - 1s 3ms/step - loss: 0.7350 - accuracy: 0.7936 - val_loss: 1.2378 - val_accuracy: 0.6154\n",
            "Epoch 352/400\n",
            "291/291 [==============================] - 1s 3ms/step - loss: 0.7445 - accuracy: 0.7853 - val_loss: 1.2485 - val_accuracy: 0.6187\n",
            "Epoch 353/400\n",
            "291/291 [==============================] - 1s 3ms/step - loss: 0.7450 - accuracy: 0.7870 - val_loss: 1.2314 - val_accuracy: 0.6277\n",
            "Epoch 354/400\n",
            "291/291 [==============================] - 1s 3ms/step - loss: 0.7423 - accuracy: 0.7892 - val_loss: 1.2528 - val_accuracy: 0.6039\n",
            "Epoch 355/400\n",
            "291/291 [==============================] - 1s 3ms/step - loss: 0.7395 - accuracy: 0.7923 - val_loss: 1.2530 - val_accuracy: 0.6178\n",
            "Epoch 356/400\n",
            "291/291 [==============================] - 1s 3ms/step - loss: 0.7433 - accuracy: 0.7945 - val_loss: 1.2700 - val_accuracy: 0.6039\n",
            "Epoch 357/400\n",
            "291/291 [==============================] - 1s 4ms/step - loss: 0.7487 - accuracy: 0.7861 - val_loss: 1.2359 - val_accuracy: 0.6277\n",
            "Epoch 358/400\n",
            "291/291 [==============================] - 1s 5ms/step - loss: 0.7449 - accuracy: 0.7861 - val_loss: 1.2431 - val_accuracy: 0.6137\n",
            "Epoch 359/400\n",
            "291/291 [==============================] - 1s 4ms/step - loss: 0.7398 - accuracy: 0.7910 - val_loss: 1.2436 - val_accuracy: 0.6203\n",
            "Epoch 360/400\n",
            "291/291 [==============================] - 1s 4ms/step - loss: 0.7409 - accuracy: 0.7916 - val_loss: 1.2674 - val_accuracy: 0.6277\n",
            "Epoch 361/400\n",
            "291/291 [==============================] - 1s 4ms/step - loss: 0.7416 - accuracy: 0.7912 - val_loss: 1.2432 - val_accuracy: 0.6236\n",
            "Epoch 362/400\n",
            "291/291 [==============================] - 1s 4ms/step - loss: 0.7423 - accuracy: 0.7913 - val_loss: 1.2524 - val_accuracy: 0.6064\n",
            "Epoch 363/400\n",
            "291/291 [==============================] - 1s 3ms/step - loss: 0.7356 - accuracy: 0.7912 - val_loss: 1.2366 - val_accuracy: 0.6252\n",
            "Epoch 364/400\n",
            "291/291 [==============================] - 1s 3ms/step - loss: 0.7323 - accuracy: 0.7942 - val_loss: 1.2527 - val_accuracy: 0.6039\n",
            "Epoch 365/400\n",
            "291/291 [==============================] - 1s 3ms/step - loss: 0.7384 - accuracy: 0.7895 - val_loss: 1.2979 - val_accuracy: 0.5941\n",
            "Epoch 366/400\n",
            "291/291 [==============================] - 1s 3ms/step - loss: 0.7371 - accuracy: 0.7908 - val_loss: 1.2437 - val_accuracy: 0.6260\n",
            "Epoch 367/400\n",
            "291/291 [==============================] - 1s 3ms/step - loss: 0.7358 - accuracy: 0.7919 - val_loss: 1.2749 - val_accuracy: 0.6203\n",
            "Epoch 368/400\n",
            "291/291 [==============================] - 1s 3ms/step - loss: 0.7450 - accuracy: 0.7858 - val_loss: 1.2753 - val_accuracy: 0.6211\n",
            "Epoch 369/400\n",
            "291/291 [==============================] - 1s 3ms/step - loss: 0.7446 - accuracy: 0.7868 - val_loss: 1.2498 - val_accuracy: 0.6088\n",
            "Epoch 370/400\n",
            "291/291 [==============================] - 1s 3ms/step - loss: 0.7408 - accuracy: 0.7890 - val_loss: 1.2473 - val_accuracy: 0.6154\n",
            "Epoch 371/400\n",
            "291/291 [==============================] - 1s 3ms/step - loss: 0.7338 - accuracy: 0.7930 - val_loss: 1.2375 - val_accuracy: 0.6358\n",
            "Epoch 372/400\n",
            "291/291 [==============================] - 1s 3ms/step - loss: 0.7393 - accuracy: 0.7923 - val_loss: 1.2861 - val_accuracy: 0.6236\n",
            "Epoch 373/400\n",
            "291/291 [==============================] - 1s 3ms/step - loss: 0.7442 - accuracy: 0.7879 - val_loss: 1.2454 - val_accuracy: 0.6154\n",
            "Epoch 374/400\n",
            "291/291 [==============================] - 1s 3ms/step - loss: 0.7403 - accuracy: 0.7906 - val_loss: 1.2471 - val_accuracy: 0.6146\n",
            "Epoch 375/400\n",
            "291/291 [==============================] - 1s 3ms/step - loss: 0.7403 - accuracy: 0.7919 - val_loss: 1.2713 - val_accuracy: 0.6236\n",
            "Epoch 376/400\n",
            "291/291 [==============================] - 1s 4ms/step - loss: 0.7360 - accuracy: 0.7904 - val_loss: 1.2510 - val_accuracy: 0.6211\n",
            "Epoch 377/400\n",
            "291/291 [==============================] - 1s 4ms/step - loss: 0.7393 - accuracy: 0.7921 - val_loss: 1.2634 - val_accuracy: 0.6203\n",
            "Epoch 378/400\n",
            "291/291 [==============================] - 1s 4ms/step - loss: 0.7459 - accuracy: 0.7831 - val_loss: 1.2826 - val_accuracy: 0.6039\n",
            "Epoch 379/400\n",
            "291/291 [==============================] - 1s 4ms/step - loss: 0.7482 - accuracy: 0.7865 - val_loss: 1.2439 - val_accuracy: 0.6195\n",
            "Epoch 380/400\n",
            "291/291 [==============================] - 1s 3ms/step - loss: 0.7385 - accuracy: 0.7964 - val_loss: 1.2264 - val_accuracy: 0.6227\n",
            "Epoch 381/400\n",
            "291/291 [==============================] - 1s 3ms/step - loss: 0.7472 - accuracy: 0.7875 - val_loss: 1.2416 - val_accuracy: 0.6375\n",
            "Epoch 382/400\n",
            "291/291 [==============================] - 1s 3ms/step - loss: 0.7358 - accuracy: 0.7928 - val_loss: 1.2369 - val_accuracy: 0.6219\n",
            "Epoch 383/400\n",
            "291/291 [==============================] - 1s 3ms/step - loss: 0.7358 - accuracy: 0.7927 - val_loss: 1.2597 - val_accuracy: 0.6326\n",
            "Epoch 384/400\n",
            "291/291 [==============================] - 1s 3ms/step - loss: 0.7352 - accuracy: 0.7973 - val_loss: 1.2611 - val_accuracy: 0.6318\n",
            "Epoch 385/400\n",
            "291/291 [==============================] - 1s 3ms/step - loss: 0.7280 - accuracy: 0.7970 - val_loss: 1.2674 - val_accuracy: 0.6342\n",
            "Epoch 386/400\n",
            "291/291 [==============================] - 1s 3ms/step - loss: 0.7331 - accuracy: 0.7965 - val_loss: 1.3205 - val_accuracy: 0.5966\n",
            "Epoch 387/400\n",
            "291/291 [==============================] - 1s 3ms/step - loss: 0.7396 - accuracy: 0.7932 - val_loss: 1.2567 - val_accuracy: 0.6105\n",
            "Epoch 388/400\n",
            "291/291 [==============================] - 1s 3ms/step - loss: 0.7391 - accuracy: 0.7879 - val_loss: 1.2916 - val_accuracy: 0.5974\n",
            "Epoch 389/400\n",
            "291/291 [==============================] - 1s 3ms/step - loss: 0.7386 - accuracy: 0.7920 - val_loss: 1.2880 - val_accuracy: 0.5925\n",
            "Epoch 390/400\n",
            "291/291 [==============================] - 1s 3ms/step - loss: 0.7332 - accuracy: 0.7947 - val_loss: 1.2791 - val_accuracy: 0.6113\n",
            "Epoch 391/400\n",
            "291/291 [==============================] - 1s 3ms/step - loss: 0.7346 - accuracy: 0.7940 - val_loss: 1.2737 - val_accuracy: 0.6219\n",
            "Epoch 392/400\n",
            "291/291 [==============================] - 1s 3ms/step - loss: 0.7432 - accuracy: 0.7906 - val_loss: 1.2381 - val_accuracy: 0.6105\n",
            "Epoch 393/400\n",
            "291/291 [==============================] - 1s 4ms/step - loss: 0.7393 - accuracy: 0.7906 - val_loss: 1.2515 - val_accuracy: 0.6178\n",
            "Epoch 394/400\n",
            "291/291 [==============================] - 1s 4ms/step - loss: 0.7346 - accuracy: 0.7922 - val_loss: 1.2582 - val_accuracy: 0.6293\n",
            "Epoch 395/400\n",
            "291/291 [==============================] - 1s 4ms/step - loss: 0.7423 - accuracy: 0.7880 - val_loss: 1.2202 - val_accuracy: 0.6137\n",
            "Epoch 396/400\n",
            "291/291 [==============================] - 1s 3ms/step - loss: 0.7420 - accuracy: 0.7913 - val_loss: 1.2479 - val_accuracy: 0.6187\n",
            "Epoch 397/400\n",
            "291/291 [==============================] - 1s 3ms/step - loss: 0.7350 - accuracy: 0.7973 - val_loss: 1.2192 - val_accuracy: 0.6236\n",
            "Epoch 398/400\n",
            "291/291 [==============================] - 1s 3ms/step - loss: 0.7398 - accuracy: 0.7882 - val_loss: 1.2376 - val_accuracy: 0.6088\n",
            "Epoch 399/400\n",
            "291/291 [==============================] - 1s 3ms/step - loss: 0.7360 - accuracy: 0.7941 - val_loss: 1.2324 - val_accuracy: 0.6252\n",
            "Epoch 400/400\n",
            "291/291 [==============================] - 1s 3ms/step - loss: 0.7329 - accuracy: 0.7913 - val_loss: 1.2231 - val_accuracy: 0.6277\n",
            "Best: 0.6489361524581909\n"
          ]
        }
      ],
      "source": [
        "import tensorflow as tf\n",
        "from tensorflow.keras import layers, models\n",
        "from sklearn.model_selection import train_test_split\n",
        "from sklearn.preprocessing import LabelEncoder\n",
        "from tensorflow.keras.models import Sequential\n",
        "from tensorflow.keras.layers import Dense\n",
        "from tensorflow.keras.optimizers import Adam\n",
        "from imblearn.over_sampling import SMOTE\n",
        "from sklearn.preprocessing import LabelEncoder,  RobustScaler\n",
        "from tensorflow.keras.regularizers import l2\n",
        "from tensorflow.keras.layers import Dropout\n",
        "\n",
        "df_tr=questionToMode_df.copy()\n",
        "#for label\n",
        "df_tr = pd.get_dummies(df_tr, columns=['Q16'], prefix='Q16')\n",
        "\n",
        "#for features\n",
        "label_encoder = LabelEncoder()\n",
        "categorical_columns = df_tr.columns[:-4]\n",
        "for col in categorical_columns:\n",
        "    df_tr[col] = label_encoder.fit_transform(df_tr[col])\n",
        "\n",
        "X = df_tr.drop(['Q16_0', 'Q16_1', 'Q16_2', 'Q16_3'], axis=1)\n",
        "y = df_tr[['Q16_0', 'Q16_1', 'Q16_2', 'Q16_3']]\n",
        "\n",
        "#train-test-split\n",
        "X_train, X_test, y_train, y_test = train_test_split(X, y, test_size=0.2, random_state=42)\n",
        "\n",
        "\n",
        "scaler = RobustScaler()\n",
        "X_train_scaled = scaler.fit_transform(X_train)\n",
        "X_test_scaled = scaler.transform(X_test)\n",
        "\n",
        "X_train_array, y_train_array = X_train_scaled, y_train.values\n",
        "smote = SMOTE(random_state=42)\n",
        "X_train_resampled, y_train_resampled = smote.fit_resample(X_train_array, y_train_array)\n",
        "\n",
        "#model\n",
        "\n",
        "model = Sequential()\n",
        "model.add(Dense(256, input_dim=75, activation='relu',kernel_regularizer=l2(0.01)))\n",
        "model.add(Dropout(0.5))\n",
        "model.add(Dense(128, activation='relu',kernel_regularizer=l2(0.01)))\n",
        "model.add(Dense(64, activation='relu',kernel_regularizer=l2(0.01)))\n",
        "model.add(Dense(4, activation='softmax'))\n",
        "\n",
        "\n",
        "\n",
        "\n",
        "model.compile(loss='categorical_crossentropy',\n",
        "              optimizer=Adam(learning_rate=0.001),\n",
        "              metrics=['accuracy'])\n",
        "\n",
        "\n",
        "model_result = model.fit(X_train_resampled, y_train_resampled, epochs=400,validation_data=(X_test_scaled, y_test))\n",
        "history = model_result.history\n",
        "\n",
        "best_accuracy = max(history['val_accuracy'])\n",
        "\n",
        "print(f'Best: {best_accuracy}')\n"
      ]
    },
    {
      "cell_type": "markdown",
      "metadata": {
        "id": "xrksmOBhWQAQ"
      },
      "source": [
        "### PyTorch Classifier"
      ]
    },
    {
      "cell_type": "code",
      "execution_count": null,
      "metadata": {
        "id": "Oaio8HLwWQAQ"
      },
      "outputs": [],
      "source": [
        "# Check Torch version\n",
        "import torch\n",
        "print(torch.__version__)"
      ]
    },
    {
      "cell_type": "code",
      "execution_count": null,
      "metadata": {
        "id": "FJwRyYW6WQAQ"
      },
      "outputs": [],
      "source": [
        "def ConvertNumpyToTorch(x_train, x_test, y_train, y_test):\n",
        "    x_train, x_test = torch.from_numpy(x_train.values), torch.from_numpy(x_test.values)\n",
        "    y_train, y_test = torch.from_numpy(y_train.values), torch.from_numpy(y_test.values)\n",
        "    return x_train, x_test, y_train, y_test"
      ]
    },
    {
      "cell_type": "code",
      "execution_count": null,
      "metadata": {
        "id": "6SwY4KihWQAQ"
      },
      "outputs": [],
      "source": [
        "from torch import nn\n",
        "from torch.nn.functional import one_hot\n",
        "\n",
        "def accuracy_fn(y_true, y_pred):\n",
        "    correct = torch.eq(y_true, y_pred).sum().item()\n",
        "    acc = (correct / len(y_pred)) * 100\n",
        "    return acc\n",
        "\n",
        "class PyTorchClassifier(nn.Module):\n",
        "    def __init__(self, input_layers, hidden_layers, output_layers):\n",
        "        super().__init__()\n",
        "        self.layer_1 = nn.Linear(in_features=input_layers, out_features=256).to(dtype=torch.float64)\n",
        "        self.relu = nn.ReLU()\n",
        "\n",
        "        self.layer_2= nn.Linear(in_features=256, out_features=128).to(dtype=torch.float64)\n",
        "        self.relu2 = nn.ReLU()\n",
        "\n",
        "        self.layer_6 = nn.Linear(in_features=128, out_features=32).to(dtype=torch.float64)\n",
        "        self.relu6 = nn.ReLU()\n",
        "\n",
        "        self.layer_7 = nn.Linear(in_features=32, out_features=4).to(dtype=torch.float64)\n",
        "        self.softmax = nn.Softmax(dim=1)\n",
        "\n",
        "    def forward(self, x):\n",
        "        x = self.relu(self.layer_1(x).to(dtype=torch.float64)).to(dtype=torch.float64)\n",
        "        x = self.relu2(self.layer_2(x).to(dtype=torch.float64)).to(dtype=torch.float64)\n",
        "        x = self.relu6(self.layer_6(x).to(dtype=torch.float64)).to(dtype=torch.float64)\n",
        "        x = self.layer_7(x).to(dtype=torch.float64)\n",
        "        x = x = self.softmax(x)\n",
        "        return x\n",
        "\n",
        "results_pytorch = []\n",
        "def PyTorch_TrainTest_Step(model: torch.nn.Module,\n",
        "                       x_train, x_test, y_train, y_test,\n",
        "                       loss_fn,\n",
        "                       accuracy_fn,\n",
        "                       optimizer: torch.optim.Optimizer,\n",
        "                       feature_elimination_name,\n",
        "                       scaler_name,\n",
        "                       epochs = 20000):\n",
        "\n",
        "    best_accuracy, best_loss, best_epoch = 0, 0, 0\n",
        "    for epoch in range(epochs):\n",
        "        model.train()\n",
        "        y_pred = model(x_train.to(dtype=torch.float64))\n",
        "        loss = loss_fn(y_pred, y_train.squeeze().to(torch.long))\n",
        "\n",
        "        #acc = accuracy_fn(y_train.squeeze().to(torch.long), y_pred.argmax(dim = 1))\n",
        "        optimizer.zero_grad()\n",
        "        loss.backward()\n",
        "        optimizer.step()\n",
        "\n",
        "        model.eval()\n",
        "        with torch.inference_mode():\n",
        "            test_y_pred = model(x_test.to(dtype=torch.float64))\n",
        "            test_loss = loss_fn(test_y_pred, y_test.squeeze().to(torch.long))\n",
        "            test_acc = accuracy_fn(y_test.squeeze().to(torch.long), test_y_pred.argmax(dim = 1))\n",
        "            if(test_acc > best_accuracy):\n",
        "                best_accuracy, best_loss, best_epoch = test_acc, test_loss, epoch\n",
        "                result = f\"Model: PyTorch Best Epoch: {best_epoch} | Best Loss: {best_loss:.5f} | Best Acc: {best_accuracy:.2f}%  with {feature_elimination_name}, {scaler_name},{type(loss_fn).__name__}, len = {x_train.size()[1]} and {type(optimizer).__name__}, lr = {optimizer.param_groups[0]['lr']}\"\n",
        "                print(result)\n",
        "\n",
        "    results_pytorch.append(result)\n",
        "    print(f\"END OF FIRST ITERATION WITH FEATURES LEN = {x_train.size()[1]}\")\n",
        "    return {\n",
        "            \"Accuracy\": best_accuracy,\n",
        "            \"Model_Name\": \"PyTorch\",\n",
        "            \"HyperParameters\": f\"Model: PyTorch Best Epoch: {best_epoch} | Best Loss: {best_loss:.5f} | Best Acc: {best_accuracy:.2f}%  with {feature_elimination_name}, {scaler_name},{type(loss_fn).__name__}, len = {x_train.size()[1]} and {type(optimizer).__name__}, lr = {optimizer.param_groups[0]['lr']}\"\n",
        "        }"
      ]
    },
    {
      "cell_type": "markdown",
      "metadata": {
        "id": "qZmeaSQZWQAQ"
      },
      "source": [
        "### Method For Running Spesific Method with Spesific Parameters"
      ]
    },
    {
      "cell_type": "code",
      "execution_count": null,
      "metadata": {
        "id": "B2l6lrG8WQAR"
      },
      "outputs": [],
      "source": [
        "from sklearn.exceptions import DataConversionWarning\n",
        "import warnings\n",
        "from sklearn.preprocessing import OneHotEncoder\n",
        "\n",
        "algorithms_results = []\n",
        "# Ignore specific warnings\n",
        "warnings.filterwarnings(\"ignore\", category=DataConversionWarning)\n",
        "warnings.filterwarnings(\"ignore\", category=DataConversionWarning)\n",
        "\n",
        "def RunThePredictAlgorithm(df, max_feature, scaling_method, FeatureEliminationMethod, MLORDLAlgorithm,\n",
        "                           IsPytorch = False,  loss_method = None, accuracy_method = None, optimizer_method = None, lr = 0.1, version_numer = 'V1',\n",
        "                           IsTensor = False) -> bool | None:\n",
        "\n",
        "    if(scaling_method == 'min-max'):\n",
        "        X, y = min_max_scaled_items[\"X\"], min_max_scaled_items[\"y\"]\n",
        "    elif(scaling_method == 'standart'):\n",
        "        X, y = stc_scaled_items[\"X\"], stc_scaled_items[\"y\"]\n",
        "    elif(scaling_method == 'robust'):\n",
        "        X, y = robust_scaled_items[\"X\"], robust_scaled_items[\"y\"]\n",
        "    else:\n",
        "        print(\"Scaling method not acceptable try acceptable scaling_method ['min-max', 'standart', 'robust']\")\n",
        "        return False\n",
        "\n",
        "    if IsPytorch == False and IsTensor == False:\n",
        "        for i in range(1,max_feature):\n",
        "            feature_eliminated_df = FeatureEliminationMethod(df = df, X = X, y = y, n_features_to_select = i)\n",
        "            x_train, x_test, y_train, y_test = train_test_split_modified(feature_eliminated_df)\n",
        "            result = MLORDLAlgorithm(x_train, x_test, y_train, y_test)\n",
        "            result[\"FeatureEliminationMethod\"] = FeatureEliminationMethod.__name__\n",
        "            SaveResults(result, str(MLORDLAlgorithm.__name__) + \"_\" + str(FeatureEliminationMethod.__name__) + \"_\" + scaling_method +'_' + version_numer +\".txt\")\n",
        "            algorithms_results.append(result)\n",
        "\n",
        "    elif IsPytorch == True and IsTensor == False:\n",
        "        #for i in range(68, max_feature):\n",
        "            feature_eliminated_df = FeatureEliminationMethod(df = df, X = X, y = y, n_features_to_select = max_feature)\n",
        "            x_train, x_test, y_train, y_test = train_test_split_modified(feature_eliminated_df)\n",
        "            x_train, x_test, y_train, y_test = ConvertNumpyToTorch(x_train, x_test, y_train, y_test)\n",
        "\n",
        "            pytorch_model = PyTorchClassifier(x_train.shape[1], 256, len(y_train.unique()))\n",
        "            #print(pytorch_model.parameters)\n",
        "\n",
        "            if optimizer_method == 'Adam':\n",
        "                optimizer_fn = torch.optim.Adam(params = pytorch_model.parameters(), lr = lr)\n",
        "            elif optimizer_method == 'SGD':\n",
        "                optimizer_fn = torch.optim.SGD(params = pytorch_model.parameters(), lr = lr)\n",
        "            else:\n",
        "                print(\"You give a wrong optimizer name, pls try again. Accepted optimizer names = 'Adam' or 'SGD' \")\n",
        "                return False\n",
        "\n",
        "            result = MLORDLAlgorithm(model = pytorch_model,\n",
        "                                x_train = x_train.to(dtype=torch.float64), x_test = x_test.to(dtype=torch.float64), y_train = y_train.to(dtype=torch.float64), y_test = y_test.to(dtype=torch.float64),\n",
        "                                loss_fn = loss_method,\n",
        "                                accuracy_fn = accuracy_method,\n",
        "                                optimizer = optimizer_fn,\n",
        "                                feature_elimination_name = FeatureEliminationMethod.__name__,\n",
        "                                scaler_name = scaling_method)\n",
        "            result[\"FeatureEliminationMethod\"] = FeatureEliminationMethod.__name__\n",
        "            SaveResults(result, txt_name=\"PyTorch\" + '_' + str(FeatureEliminationMethod.__name__) + '_' + str(scaling_method) + '_' + 'optimizer_method' + '_' + str(lr) + '_' + version_numer +\".txt\")\n",
        "            algorithms_results.append(result)\n",
        "\n",
        "    elif IsPytorch == False and IsTensor == True:\n",
        "        return True\n",
        "\n",
        "    else:\n",
        "        print(\"You can just set True IsPytorch or IsTensor at the same time, try again\")\n",
        "        return False"
      ]
    },
    {
      "cell_type": "markdown",
      "metadata": {
        "id": "lLU97HwJWQAR"
      },
      "source": [
        "### Method For Finding Max Accuracy's Situation Details"
      ]
    },
    {
      "cell_type": "code",
      "execution_count": null,
      "metadata": {
        "id": "mW9YdVguWQAR"
      },
      "outputs": [],
      "source": [
        "def FindBestModel(results_list):\n",
        "    best_accuracy = 0\n",
        "    best_accuracy_index = 0\n",
        "    for i in range(len(results_list)):\n",
        "        if(results_list[i]['Accuracy'] > best_accuracy):\n",
        "            best_accuracy_index = i\n",
        "    return best_accuracy_index"
      ]
    },
    {
      "cell_type": "code",
      "execution_count": null,
      "metadata": {
        "id": "u3JmcNKWWQAR"
      },
      "outputs": [],
      "source": [
        "# Run KNN wiit RFEFeatureElimination and min-max scaler\n",
        "RunThePredictAlgorithm(questionToMode_df, 50, 'min-max', RFEFeatureElimination, KNN)"
      ]
    },
    {
      "cell_type": "code",
      "execution_count": null,
      "metadata": {
        "id": "ahSKxpo3SQGn"
      },
      "outputs": [],
      "source": [
        "RunThePredictAlgorithm(questionToMode_df, 75, 'min-max', RFEFeatureElimination, PyTorch_TrainTest_Step,\n",
        "                       True, accuracy_method= accuracy_fn, loss_method=nn.CrossEntropyLoss(), optimizer_method='Adam', lr = 0.001, version_numer= 'V3')"
      ]
    },
    {
      "cell_type": "code",
      "execution_count": null,
      "metadata": {
        "id": "vj0RsPK-WQAR"
      },
      "outputs": [],
      "source": [
        "# Run RandomForest wiit RFEFeatureElimination and min-max scaler\n",
        "#RunThePredictAlgorithm(questionToMode_df, 75, 'min-max', RFEFeatureElimination, RandomForest)\n",
        "\n",
        "# Run RandomForest wiit RFEFeatureElimination and robust scaler\n",
        "#RunThePredictAlgorithm(questionToMode_df, 75, 'robust', RFEFeatureElimination, RandomForest)\n",
        "\n",
        "# Run RandomForest wiit RFEFeatureElimination and standart scaler\n",
        "RunThePredictAlgorithm(questionToMode_df, 75, 'standart', RFEFeatureElimination, RandomForest)"
      ]
    },
    {
      "cell_type": "code",
      "execution_count": null,
      "metadata": {
        "id": "Ws31btg_NVvJ"
      },
      "outputs": [],
      "source": [
        "# Run GradientBoosting wiit RFEFeatureElimination and min-max scaler\n",
        "RunThePredictAlgorithm(questionToMode_df, 75, 'min-max', RFEFeatureElimination, GradientBoosting)"
      ]
    },
    {
      "cell_type": "code",
      "execution_count": null,
      "metadata": {
        "id": "f7ecTlkxZdmV"
      },
      "outputs": [],
      "source": [
        "# Run NonlinearSVM wiit RFEFeatureElimination and min-max scaler\n",
        "RunThePredictAlgorithm(questionToMode_df, 25, 'min-max', RFEFeatureElimination, NonlinearSVM)"
      ]
    },
    {
      "cell_type": "code",
      "execution_count": null,
      "metadata": {
        "id": "2rbbBWrndTBr"
      },
      "outputs": [],
      "source": [
        "# Run MultinomialNaiveBayes wiit RFEFeatureElimination and min-max scaler\n",
        "RunThePredictAlgorithm(questionToMode_df, 10, 'min-max', RFEFeatureElimination, MultinomialNaiveBayes)"
      ]
    },
    {
      "cell_type": "code",
      "execution_count": null,
      "metadata": {
        "id": "WBVboFt4h3T9"
      },
      "outputs": [],
      "source": [
        "# Run DecisionTree wiit RFEFeatureElimination and min-max scaler\n",
        "RunThePredictAlgorithm(questionToMode_df, 25, 'min-max', RFEFeatureElimination, DecisionTree)"
      ]
    },
    {
      "cell_type": "code",
      "execution_count": null,
      "metadata": {
        "id": "KhdrIdHlmO0E"
      },
      "outputs": [],
      "source": [
        "# Run AdaBoost wiit RFEFeatureElimination and min-max scaler\n",
        "RunThePredictAlgorithm(questionToMode_df, 25, 'min-max', RFEFeatureElimination, AdaBoost) #0.57 max"
      ]
    },
    {
      "cell_type": "code",
      "execution_count": null,
      "metadata": {
        "id": "xVQ36rnmNVvK"
      },
      "outputs": [],
      "source": [
        "# Run StockGradientDescent wiit RFEFeatureElimination and min-max scaler\n",
        "RunThePredictAlgorithm(questionToMode_df, 25, 'min-max', RFEFeatureElimination, StockGradientDescent) #0.5"
      ]
    },
    {
      "cell_type": "code",
      "execution_count": null,
      "metadata": {
        "id": "iEcxkDQDWQAR"
      },
      "outputs": [],
      "source": [
        "print(algorithms_results[FindBestModel(algorithms_results)])"
      ]
    },
    {
      "cell_type": "markdown",
      "metadata": {
        "id": "HOm82GhQSQGp"
      },
      "source": [
        "### Fix The Imbalance Data"
      ]
    },
    {
      "cell_type": "code",
      "execution_count": null,
      "metadata": {
        "id": "1eH7mpkUSQGp"
      },
      "outputs": [],
      "source": [
        "from imblearn.over_sampling import SMOTE, SMOTEN\n",
        "\n",
        "def XAndYToDF(X, y):\n",
        "    df = pd.concat([X, y], axis = 1)\n",
        "    return df\n",
        "\n",
        "\n",
        "def OverSampling(X, y, oversampling_startegey, random_state = None, k_neighbors = 5):\n",
        "    oversample = SMOTEN()\n",
        "    X_oversampled, y_oversampled = oversample.fit_resample(X,y)\n",
        "    return X_oversampled, y_oversampled\n",
        "\n",
        "X, y = DFToXAndY(questionToMode_df)\n",
        "X_oversampled, y_oversampled = OverSampling(X, y, 'minority', random_state=9, k_neighbors=40)\n",
        "oversampling_df = XAndYToDF(X_oversampled, y_oversampled)\n",
        "PrintTheTargetColumnsRange(oversampling_df)"
      ]
    },
    {
      "cell_type": "code",
      "execution_count": null,
      "metadata": {
        "id": "4B9DWcBDSQGp"
      },
      "outputs": [],
      "source": [
        "import tensorflow as tf\n",
        "from tensorflow.keras import layers, models\n",
        "from sklearn.model_selection import train_test_split\n",
        "from sklearn.preprocessing import LabelEncoder\n",
        "from tensorflow.keras.models import Sequential\n",
        "from tensorflow.keras.layers import Dense\n",
        "from tensorflow.keras.optimizers import Adam\n",
        "\n",
        "\n",
        "df_tr=questionToMode_df.copy()\n",
        "#for label\n",
        "df_tr = pd.get_dummies(df_tr, columns=['Q16'], prefix='Q16')\n",
        "\n",
        "#for features\n",
        "label_encoder = LabelEncoder()\n",
        "categorical_columns = df_tr.columns[:-4]\n",
        "for col in categorical_columns:\n",
        "    df_tr[col] = label_encoder.fit_transform(df_tr[col])\n",
        "\n",
        "X = df_tr.drop(['Q16_0', 'Q16_1', 'Q16_2', 'Q16_3'], axis=1)\n",
        "y = df_tr[['Q16_0', 'Q16_1', 'Q16_2', 'Q16_3']]\n",
        "\n",
        "#train-test-split\n",
        "X_train, X_test, y_train, y_test = train_test_split(X, y, test_size=0.2, random_state=42)\n",
        "\n",
        "#model\n",
        "\n",
        "model = Sequential()\n",
        "model.add(Dense(256, input_dim=75, activation='relu'))\n",
        "model.add(Dense(128, activation='relu'))\n",
        "model.add(Dense(64, activation='relu'))\n",
        "model.add(Dense(4, activation='softmax'))\n",
        "\n",
        "\n",
        "\n",
        "\n",
        "model.compile(loss='categorical_crossentropy',\n",
        "              optimizer=Adam(learning_rate=0.001),\n",
        "              metrics=['accuracy'])\n",
        "\n",
        "\n",
        "model_result = model.fit(X_train, y_train, epochs=2000,validation_data=(X_test, y_test))"
      ]
    },
    {
      "cell_type": "code",
      "execution_count": null,
      "metadata": {
        "id": "ir-dPU-6SQGp"
      },
      "outputs": [],
      "source": [
        "# Run the V3 Codes (in V2, oversampling dahat awith k_neigbors = 20, best results comes with PyTorch and RandomForest's min-max scaler, now tyring to more k_neighbors in oversampling)\n",
        "RunThePredictAlgorithm(oversampling_df, 75, 'min-max', RFEFeatureElimination, RandomForest, version_numer='V3')"
      ]
    },
    {
      "cell_type": "code",
      "execution_count": null,
      "metadata": {
        "id": "F3inRjthSQGp"
      },
      "outputs": [],
      "source": [
        "RunThePredictAlgorithm(oversampling_df, 70, 'min-max', RFEFeatureElimination, PyTorch_TrainTest_Step,\n",
        "                       True, accuracy_method= accuracy_fn, loss_method=nn.CrossEntropyLoss(), optimizer_method='Adam', lr = 0.003, version_numer='V4')"
      ]
    },
    {
      "cell_type": "code",
      "execution_count": null,
      "metadata": {
        "id": "a54VetYCSQGp"
      },
      "outputs": [],
      "source": [
        "RunThePredictAlgorithm(oversampling_df, 75, 'min-max', RFEFeatureElimination, KNN, version_numer='V3')"
      ]
    },
    {
      "cell_type": "code",
      "execution_count": null,
      "metadata": {
        "id": "3DSvC-9nSQGq"
      },
      "outputs": [],
      "source": [
        "# Run RandomForest wiit RFEFeatureElimination and robust scaler in to the oversampling data\n",
        "RunThePredictAlgorithm(oversampling_df, 75, 'robust', RFEFeatureElimination, RandomForest, version_numer='V2')"
      ]
    },
    {
      "cell_type": "code",
      "execution_count": null,
      "metadata": {
        "id": "1wwedA5vSQGq"
      },
      "outputs": [],
      "source": [
        "# Run RandomForest wiit RFEFeatureElimination and robust scaler in to the oversampling data\n",
        "RunThePredictAlgorithm(oversampling_df, 75, 'min-max', RFEFeatureElimination, RandomForest, version_numer='V2')"
      ]
    },
    {
      "cell_type": "code",
      "execution_count": null,
      "metadata": {
        "id": "gFZbdx6kSQGq"
      },
      "outputs": [],
      "source": [
        "# Run RandomForest wiit RFEFeatureElimination and robust scaler in to the oversampling data\n",
        "RunThePredictAlgorithm(oversampling_df, 75, 'standart', MutualInformationFeatureElimination, RandomForest, version_numer='V2')\n",
        "\n",
        "# Run RandomForest wiit RFEFeatureElimination and robust scaler in to the oversampling data\n",
        "RunThePredictAlgorithm(oversampling_df, 75, 'min-max', MutualInformationFeatureElimination, RandomForest, version_numer='V2')\n",
        "\n",
        "# Run RandomForest wiit RFEFeatureElimination and robust scaler in to the oversampling data\n",
        "RunThePredictAlgorithm(oversampling_df, 75, 'robust', MutualInformationFeatureElimination, RandomForest, version_numer='V2')\n",
        "\n",
        "# Run RandomForest wiit RFEFeatureElimination and robust scaler in to the oversampling data\n",
        "RunThePredictAlgorithm(oversampling_df, 75, 'standart', ChiSquareFeatureElimination, RandomForest, version_numer='V2')"
      ]
    },
    {
      "cell_type": "code",
      "execution_count": null,
      "metadata": {
        "id": "jodUfal8SQGq"
      },
      "outputs": [],
      "source": [
        "RunThePredictAlgorithm(oversampling_df, 70, 'standart', RFEFeatureElimination, PyTorch_TrainTest_Step,\n",
        "                       True, accuracy_method= accuracy_fn, loss_method=nn.CrossEntropyLoss(), optimizer_method='Adam', lr = 0.001)\n",
        "RunThePredictAlgorithm(oversampling_df, 70, 'robust', RFEFeatureElimination, PyTorch_TrainTest_Step,\n",
        "                       True, accuracy_method= accuracy_fn, loss_method=nn.CrossEntropyLoss(), optimizer_method='Adam', lr = 0.001)\n",
        "\n",
        "\n",
        "\n",
        "RunThePredictAlgorithm(oversampling_df, 70, 'min-max', MutualInformationFeatureElimination, PyTorch_TrainTest_Step,\n",
        "                       True, accuracy_method= accuracy_fn, loss_method=nn.CrossEntropyLoss(), optimizer_method='Adam', lr = 0.001)\n",
        "\n",
        "RunThePredictAlgorithm(oversampling_df, 70, 'standart', MutualInformationFeatureElimination, PyTorch_TrainTest_Step,\n",
        "                       True, accuracy_method= accuracy_fn, loss_method=nn.CrossEntropyLoss(), optimizer_method='Adam', lr = 0.001)\n",
        "\n",
        "RunThePredictAlgorithm(oversampling_df, 70, 'robust', MutualInformationFeatureElimination, PyTorch_TrainTest_Step,\n",
        "                       True, accuracy_method= accuracy_fn, loss_method=nn.CrossEntropyLoss(), optimizer_method='Adam', lr = 0.001)\n",
        "\n",
        "\n",
        "\n",
        "\n",
        "\n",
        "RunThePredictAlgorithm(oversampling_df, 70, 'min-max', ChiSquareFeatureElimination, PyTorch_TrainTest_Step,\n",
        "                       True, accuracy_method= accuracy_fn, loss_method=nn.CrossEntropyLoss(), optimizer_method='Adam', lr = 0.001)"
      ]
    },
    {
      "cell_type": "code",
      "execution_count": null,
      "metadata": {
        "id": "2JKr56sTSQGq"
      },
      "outputs": [],
      "source": [
        "# Run RandomForest wiit RFEFeatureElimination and robust scaler in to the oversampling data\n",
        "RunThePredictAlgorithm(oversampling_df, 75, 'standart', LassoFeatureElimination, RandomForest, version_numer='V2')\n",
        "\n",
        "# Run RandomForest wiit RFEFeatureElimination and robust scaler in to the oversampling data\n",
        "RunThePredictAlgorithm(oversampling_df, 75, 'min-max', LassoFeatureElimination, RandomForest, version_numer='V2')\n",
        "\n",
        "# Run RandomForest wiit RFEFeatureElimination and robust scaler in to the oversampling data\n",
        "RunThePredictAlgorithm(oversampling_df, 75, 'robust', LassoFeatureElimination, RandomForest, version_numer='V2')\n",
        "\n",
        "\n",
        "\n",
        "RunThePredictAlgorithm(oversampling_df, 70, 'min-max', LassoFeatureElimination, PyTorch_TrainTest_Step,\n",
        "                       True, accuracy_method= accuracy_fn, loss_method=nn.CrossEntropyLoss(), optimizer_method='Adam', lr = 0.001)\n",
        "\n",
        "RunThePredictAlgorithm(oversampling_df, 70, 'standart', LassoFeatureElimination, PyTorch_TrainTest_Step,\n",
        "                       True, accuracy_method= accuracy_fn, loss_method=nn.CrossEntropyLoss(), optimizer_method='Adam', lr = 0.001)\n",
        "\n",
        "RunThePredictAlgorithm(oversampling_df, 70, 'robust', LassoFeatureElimination, PyTorch_TrainTest_Step,\n",
        "                       True, accuracy_method= accuracy_fn, loss_method=nn.CrossEntropyLoss(), optimizer_method='Adam', lr = 0.001)"
      ]
    }
  ],
  "metadata": {
    "colab": {
      "provenance": []
    },
    "kernelspec": {
      "display_name": "Python 3",
      "name": "python3"
    },
    "language_info": {
      "codemirror_mode": {
        "name": "ipython",
        "version": 3
      },
      "file_extension": ".py",
      "mimetype": "text/x-python",
      "name": "python",
      "nbconvert_exporter": "python",
      "pygments_lexer": "ipython3",
      "version": "3.10.4"
    }
  },
  "nbformat": 4,
  "nbformat_minor": 0
}