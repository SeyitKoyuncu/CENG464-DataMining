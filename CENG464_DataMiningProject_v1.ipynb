{
  "cells": [
    {
      "cell_type": "markdown",
      "metadata": {
        "id": "o9Xx0621S0ko"
      },
      "source": [
        "# Import The libaries"
      ]
    },
    {
      "cell_type": "code",
      "execution_count": null,
      "metadata": {
        "id": "kN7fd5_DS5Mu"
      },
      "outputs": [],
      "source": [
        "import numpy as np\n",
        "import pandas as pd\n",
        "import matplotlib.pyplot as plt\n",
        "import seaborn as sns"
      ]
    },
    {
      "cell_type": "markdown",
      "metadata": {
        "id": "3ip3ch6JS8b1"
      },
      "source": [
        "# Read DataSet"
      ]
    },
    {
      "cell_type": "code",
      "execution_count": null,
      "metadata": {
        "id": "jd-9AFVNS9vR"
      },
      "outputs": [],
      "source": [
        "df = pd.DataFrame(pd.read_csv(\"file1.csv\"))"
      ]
    },
    {
      "cell_type": "code",
      "execution_count": null,
      "metadata": {
        "colab": {
          "base_uri": "https://localhost:8080/"
        },
        "id": "1xQZ3R7VTGnX",
        "outputId": "5870f304-629f-4185-998f-63d10982cd23"
      },
      "outputs": [
        {
          "output_type": "execute_result",
          "data": {
            "text/plain": [
              "(Index(['Unnamed: 0', 'Q11_1', 'Q11_2', 'Q11_3', 'Q11_4', 'Q11_5', 'Q11_6',\n",
              "        'Q11_7', 'Q11_8', 'Q11_9', 'Q11_10', 'Q11_11', 'Q11_12', 'Q11_13',\n",
              "        'Q11_Dont_Know', 'Q12_1', 'Q12_2', 'Q12_3', 'Q12_4', 'Q12_5', 'Q12_6',\n",
              "        'Q12_7', 'Q12_8', 'Q12_9', 'Q12_10', 'Q12_11', 'Q12_12', 'Q12_13',\n",
              "        'Q12_14', 'Q12_Dont_Know', 'Q13_1', 'Q13_2', 'Q13_3', 'Q13_4', 'Q13_5',\n",
              "        'Q13_6', 'Q13_7', 'Q13_8', 'Q13_9', 'Q13_10', 'Q13_11', 'Q13_12',\n",
              "        'Q13_13', 'Q13_14', 'Q13_15', 'Q13_16', 'Q13_Dont_Know', 'Q14', 'Q15',\n",
              "        'Q17', 'Q18_1', 'Q18_2', 'Q18_3', 'Q18_4', 'Q18_5', 'Q18_6', 'Q18_7',\n",
              "        'Q18_8', 'Q18_9', 'Q18_10', 'Q18_11', 'Q18_12', 'Q18_13', 'Q18_14',\n",
              "        'Q18_15', 'Q18_16', 'Q18_17', 'Q18_18', 'Q18_19', 'Q18_20', 'Q18_21',\n",
              "        'Q18_22', 'Q18_23', 'Q20', 'Q21', 'Q16'],\n",
              "       dtype='object'),\n",
              " 76)"
            ]
          },
          "metadata": {},
          "execution_count": 3
        }
      ],
      "source": [
        "df.columns, len(df.columns)"
      ]
    },
    {
      "cell_type": "code",
      "execution_count": null,
      "metadata": {
        "colab": {
          "base_uri": "https://localhost:8080/",
          "height": 392
        },
        "id": "dTyDgk96WQ8z",
        "outputId": "64e39be0-596d-4374-952b-dfb3935347c8"
      },
      "outputs": [
        {
          "output_type": "execute_result",
          "data": {
            "text/plain": [
              "   Unnamed: 0  Q11_1  Q11_2  Q11_3  Q11_4  Q11_5  Q11_6  Q11_7  Q11_8  Q11_9  \\\n",
              "0           0      0      0      0      1      1      0      0      1      0   \n",
              "1           1      1      0      0      1      0      0      1      0      0   \n",
              "2           2      1      1      0      1      0      0      1      1      0   \n",
              "3           3      0      0      0      0      0      0      0      0      0   \n",
              "4           4      1      1      0      1      0      0      1      1      0   \n",
              "5           5      0      1      0      0      0      0      0      0      0   \n",
              "6           6      1      0      0      1      1      0      1      1      0   \n",
              "7           7      1      0      1      0      1      1      1      0      0   \n",
              "8           8      1      1      0      0      0      0      1      1      0   \n",
              "9           9      1      0      0      0      0      0      0      0      0   \n",
              "\n",
              "   ...  Q18_17  Q18_18  Q18_19  Q18_20  Q18_21  Q18_22  Q18_23  Q20  Q21  Q16  \n",
              "0  ...       5       5       5       5       5       5       5    3    3    A  \n",
              "1  ...       4       2       4       2       2       2       2    3    3    D  \n",
              "2  ...       4       4       ?       ?       4       2       4    4    1    A  \n",
              "3  ...       ?       ?       ?       ?       ?       ?       ?    3    3    C  \n",
              "4  ...       ?       ?       1       1       ?       ?       ?    3    3    D  \n",
              "5  ...       4       4       4       4       4       4       4    3    3    B  \n",
              "6  ...       5       1       5       3       5       3       3    3    1    A  \n",
              "7  ...       3       2       5       5       5       5       5    5    1    A  \n",
              "8  ...       2       2       2       2       2       2       3    1    2    A  \n",
              "9  ...       4       1       4       1       4       1       1    4    4    A  \n",
              "\n",
              "[10 rows x 76 columns]"
            ],
            "text/html": [
              "\n",
              "  <div id=\"df-4bc2f5df-8ec0-4734-8be9-16422a1fad6d\" class=\"colab-df-container\">\n",
              "    <div>\n",
              "<style scoped>\n",
              "    .dataframe tbody tr th:only-of-type {\n",
              "        vertical-align: middle;\n",
              "    }\n",
              "\n",
              "    .dataframe tbody tr th {\n",
              "        vertical-align: top;\n",
              "    }\n",
              "\n",
              "    .dataframe thead th {\n",
              "        text-align: right;\n",
              "    }\n",
              "</style>\n",
              "<table border=\"1\" class=\"dataframe\">\n",
              "  <thead>\n",
              "    <tr style=\"text-align: right;\">\n",
              "      <th></th>\n",
              "      <th>Unnamed: 0</th>\n",
              "      <th>Q11_1</th>\n",
              "      <th>Q11_2</th>\n",
              "      <th>Q11_3</th>\n",
              "      <th>Q11_4</th>\n",
              "      <th>Q11_5</th>\n",
              "      <th>Q11_6</th>\n",
              "      <th>Q11_7</th>\n",
              "      <th>Q11_8</th>\n",
              "      <th>Q11_9</th>\n",
              "      <th>...</th>\n",
              "      <th>Q18_17</th>\n",
              "      <th>Q18_18</th>\n",
              "      <th>Q18_19</th>\n",
              "      <th>Q18_20</th>\n",
              "      <th>Q18_21</th>\n",
              "      <th>Q18_22</th>\n",
              "      <th>Q18_23</th>\n",
              "      <th>Q20</th>\n",
              "      <th>Q21</th>\n",
              "      <th>Q16</th>\n",
              "    </tr>\n",
              "  </thead>\n",
              "  <tbody>\n",
              "    <tr>\n",
              "      <th>0</th>\n",
              "      <td>0</td>\n",
              "      <td>0</td>\n",
              "      <td>0</td>\n",
              "      <td>0</td>\n",
              "      <td>1</td>\n",
              "      <td>1</td>\n",
              "      <td>0</td>\n",
              "      <td>0</td>\n",
              "      <td>1</td>\n",
              "      <td>0</td>\n",
              "      <td>...</td>\n",
              "      <td>5</td>\n",
              "      <td>5</td>\n",
              "      <td>5</td>\n",
              "      <td>5</td>\n",
              "      <td>5</td>\n",
              "      <td>5</td>\n",
              "      <td>5</td>\n",
              "      <td>3</td>\n",
              "      <td>3</td>\n",
              "      <td>A</td>\n",
              "    </tr>\n",
              "    <tr>\n",
              "      <th>1</th>\n",
              "      <td>1</td>\n",
              "      <td>1</td>\n",
              "      <td>0</td>\n",
              "      <td>0</td>\n",
              "      <td>1</td>\n",
              "      <td>0</td>\n",
              "      <td>0</td>\n",
              "      <td>1</td>\n",
              "      <td>0</td>\n",
              "      <td>0</td>\n",
              "      <td>...</td>\n",
              "      <td>4</td>\n",
              "      <td>2</td>\n",
              "      <td>4</td>\n",
              "      <td>2</td>\n",
              "      <td>2</td>\n",
              "      <td>2</td>\n",
              "      <td>2</td>\n",
              "      <td>3</td>\n",
              "      <td>3</td>\n",
              "      <td>D</td>\n",
              "    </tr>\n",
              "    <tr>\n",
              "      <th>2</th>\n",
              "      <td>2</td>\n",
              "      <td>1</td>\n",
              "      <td>1</td>\n",
              "      <td>0</td>\n",
              "      <td>1</td>\n",
              "      <td>0</td>\n",
              "      <td>0</td>\n",
              "      <td>1</td>\n",
              "      <td>1</td>\n",
              "      <td>0</td>\n",
              "      <td>...</td>\n",
              "      <td>4</td>\n",
              "      <td>4</td>\n",
              "      <td>?</td>\n",
              "      <td>?</td>\n",
              "      <td>4</td>\n",
              "      <td>2</td>\n",
              "      <td>4</td>\n",
              "      <td>4</td>\n",
              "      <td>1</td>\n",
              "      <td>A</td>\n",
              "    </tr>\n",
              "    <tr>\n",
              "      <th>3</th>\n",
              "      <td>3</td>\n",
              "      <td>0</td>\n",
              "      <td>0</td>\n",
              "      <td>0</td>\n",
              "      <td>0</td>\n",
              "      <td>0</td>\n",
              "      <td>0</td>\n",
              "      <td>0</td>\n",
              "      <td>0</td>\n",
              "      <td>0</td>\n",
              "      <td>...</td>\n",
              "      <td>?</td>\n",
              "      <td>?</td>\n",
              "      <td>?</td>\n",
              "      <td>?</td>\n",
              "      <td>?</td>\n",
              "      <td>?</td>\n",
              "      <td>?</td>\n",
              "      <td>3</td>\n",
              "      <td>3</td>\n",
              "      <td>C</td>\n",
              "    </tr>\n",
              "    <tr>\n",
              "      <th>4</th>\n",
              "      <td>4</td>\n",
              "      <td>1</td>\n",
              "      <td>1</td>\n",
              "      <td>0</td>\n",
              "      <td>1</td>\n",
              "      <td>0</td>\n",
              "      <td>0</td>\n",
              "      <td>1</td>\n",
              "      <td>1</td>\n",
              "      <td>0</td>\n",
              "      <td>...</td>\n",
              "      <td>?</td>\n",
              "      <td>?</td>\n",
              "      <td>1</td>\n",
              "      <td>1</td>\n",
              "      <td>?</td>\n",
              "      <td>?</td>\n",
              "      <td>?</td>\n",
              "      <td>3</td>\n",
              "      <td>3</td>\n",
              "      <td>D</td>\n",
              "    </tr>\n",
              "    <tr>\n",
              "      <th>5</th>\n",
              "      <td>5</td>\n",
              "      <td>0</td>\n",
              "      <td>1</td>\n",
              "      <td>0</td>\n",
              "      <td>0</td>\n",
              "      <td>0</td>\n",
              "      <td>0</td>\n",
              "      <td>0</td>\n",
              "      <td>0</td>\n",
              "      <td>0</td>\n",
              "      <td>...</td>\n",
              "      <td>4</td>\n",
              "      <td>4</td>\n",
              "      <td>4</td>\n",
              "      <td>4</td>\n",
              "      <td>4</td>\n",
              "      <td>4</td>\n",
              "      <td>4</td>\n",
              "      <td>3</td>\n",
              "      <td>3</td>\n",
              "      <td>B</td>\n",
              "    </tr>\n",
              "    <tr>\n",
              "      <th>6</th>\n",
              "      <td>6</td>\n",
              "      <td>1</td>\n",
              "      <td>0</td>\n",
              "      <td>0</td>\n",
              "      <td>1</td>\n",
              "      <td>1</td>\n",
              "      <td>0</td>\n",
              "      <td>1</td>\n",
              "      <td>1</td>\n",
              "      <td>0</td>\n",
              "      <td>...</td>\n",
              "      <td>5</td>\n",
              "      <td>1</td>\n",
              "      <td>5</td>\n",
              "      <td>3</td>\n",
              "      <td>5</td>\n",
              "      <td>3</td>\n",
              "      <td>3</td>\n",
              "      <td>3</td>\n",
              "      <td>1</td>\n",
              "      <td>A</td>\n",
              "    </tr>\n",
              "    <tr>\n",
              "      <th>7</th>\n",
              "      <td>7</td>\n",
              "      <td>1</td>\n",
              "      <td>0</td>\n",
              "      <td>1</td>\n",
              "      <td>0</td>\n",
              "      <td>1</td>\n",
              "      <td>1</td>\n",
              "      <td>1</td>\n",
              "      <td>0</td>\n",
              "      <td>0</td>\n",
              "      <td>...</td>\n",
              "      <td>3</td>\n",
              "      <td>2</td>\n",
              "      <td>5</td>\n",
              "      <td>5</td>\n",
              "      <td>5</td>\n",
              "      <td>5</td>\n",
              "      <td>5</td>\n",
              "      <td>5</td>\n",
              "      <td>1</td>\n",
              "      <td>A</td>\n",
              "    </tr>\n",
              "    <tr>\n",
              "      <th>8</th>\n",
              "      <td>8</td>\n",
              "      <td>1</td>\n",
              "      <td>1</td>\n",
              "      <td>0</td>\n",
              "      <td>0</td>\n",
              "      <td>0</td>\n",
              "      <td>0</td>\n",
              "      <td>1</td>\n",
              "      <td>1</td>\n",
              "      <td>0</td>\n",
              "      <td>...</td>\n",
              "      <td>2</td>\n",
              "      <td>2</td>\n",
              "      <td>2</td>\n",
              "      <td>2</td>\n",
              "      <td>2</td>\n",
              "      <td>2</td>\n",
              "      <td>3</td>\n",
              "      <td>1</td>\n",
              "      <td>2</td>\n",
              "      <td>A</td>\n",
              "    </tr>\n",
              "    <tr>\n",
              "      <th>9</th>\n",
              "      <td>9</td>\n",
              "      <td>1</td>\n",
              "      <td>0</td>\n",
              "      <td>0</td>\n",
              "      <td>0</td>\n",
              "      <td>0</td>\n",
              "      <td>0</td>\n",
              "      <td>0</td>\n",
              "      <td>0</td>\n",
              "      <td>0</td>\n",
              "      <td>...</td>\n",
              "      <td>4</td>\n",
              "      <td>1</td>\n",
              "      <td>4</td>\n",
              "      <td>1</td>\n",
              "      <td>4</td>\n",
              "      <td>1</td>\n",
              "      <td>1</td>\n",
              "      <td>4</td>\n",
              "      <td>4</td>\n",
              "      <td>A</td>\n",
              "    </tr>\n",
              "  </tbody>\n",
              "</table>\n",
              "<p>10 rows × 76 columns</p>\n",
              "</div>\n",
              "    <div class=\"colab-df-buttons\">\n",
              "\n",
              "  <div class=\"colab-df-container\">\n",
              "    <button class=\"colab-df-convert\" onclick=\"convertToInteractive('df-4bc2f5df-8ec0-4734-8be9-16422a1fad6d')\"\n",
              "            title=\"Convert this dataframe to an interactive table.\"\n",
              "            style=\"display:none;\">\n",
              "\n",
              "  <svg xmlns=\"http://www.w3.org/2000/svg\" height=\"24px\" viewBox=\"0 -960 960 960\">\n",
              "    <path d=\"M120-120v-720h720v720H120Zm60-500h600v-160H180v160Zm220 220h160v-160H400v160Zm0 220h160v-160H400v160ZM180-400h160v-160H180v160Zm440 0h160v-160H620v160ZM180-180h160v-160H180v160Zm440 0h160v-160H620v160Z\"/>\n",
              "  </svg>\n",
              "    </button>\n",
              "\n",
              "  <style>\n",
              "    .colab-df-container {\n",
              "      display:flex;\n",
              "      gap: 12px;\n",
              "    }\n",
              "\n",
              "    .colab-df-convert {\n",
              "      background-color: #E8F0FE;\n",
              "      border: none;\n",
              "      border-radius: 50%;\n",
              "      cursor: pointer;\n",
              "      display: none;\n",
              "      fill: #1967D2;\n",
              "      height: 32px;\n",
              "      padding: 0 0 0 0;\n",
              "      width: 32px;\n",
              "    }\n",
              "\n",
              "    .colab-df-convert:hover {\n",
              "      background-color: #E2EBFA;\n",
              "      box-shadow: 0px 1px 2px rgba(60, 64, 67, 0.3), 0px 1px 3px 1px rgba(60, 64, 67, 0.15);\n",
              "      fill: #174EA6;\n",
              "    }\n",
              "\n",
              "    .colab-df-buttons div {\n",
              "      margin-bottom: 4px;\n",
              "    }\n",
              "\n",
              "    [theme=dark] .colab-df-convert {\n",
              "      background-color: #3B4455;\n",
              "      fill: #D2E3FC;\n",
              "    }\n",
              "\n",
              "    [theme=dark] .colab-df-convert:hover {\n",
              "      background-color: #434B5C;\n",
              "      box-shadow: 0px 1px 3px 1px rgba(0, 0, 0, 0.15);\n",
              "      filter: drop-shadow(0px 1px 2px rgba(0, 0, 0, 0.3));\n",
              "      fill: #FFFFFF;\n",
              "    }\n",
              "  </style>\n",
              "\n",
              "    <script>\n",
              "      const buttonEl =\n",
              "        document.querySelector('#df-4bc2f5df-8ec0-4734-8be9-16422a1fad6d button.colab-df-convert');\n",
              "      buttonEl.style.display =\n",
              "        google.colab.kernel.accessAllowed ? 'block' : 'none';\n",
              "\n",
              "      async function convertToInteractive(key) {\n",
              "        const element = document.querySelector('#df-4bc2f5df-8ec0-4734-8be9-16422a1fad6d');\n",
              "        const dataTable =\n",
              "          await google.colab.kernel.invokeFunction('convertToInteractive',\n",
              "                                                    [key], {});\n",
              "        if (!dataTable) return;\n",
              "\n",
              "        const docLinkHtml = 'Like what you see? Visit the ' +\n",
              "          '<a target=\"_blank\" href=https://colab.research.google.com/notebooks/data_table.ipynb>data table notebook</a>'\n",
              "          + ' to learn more about interactive tables.';\n",
              "        element.innerHTML = '';\n",
              "        dataTable['output_type'] = 'display_data';\n",
              "        await google.colab.output.renderOutput(dataTable, element);\n",
              "        const docLink = document.createElement('div');\n",
              "        docLink.innerHTML = docLinkHtml;\n",
              "        element.appendChild(docLink);\n",
              "      }\n",
              "    </script>\n",
              "  </div>\n",
              "\n",
              "\n",
              "<div id=\"df-f7b80220-141f-4a17-9cb1-37fd33df6efa\">\n",
              "  <button class=\"colab-df-quickchart\" onclick=\"quickchart('df-f7b80220-141f-4a17-9cb1-37fd33df6efa')\"\n",
              "            title=\"Suggest charts\"\n",
              "            style=\"display:none;\">\n",
              "\n",
              "<svg xmlns=\"http://www.w3.org/2000/svg\" height=\"24px\"viewBox=\"0 0 24 24\"\n",
              "     width=\"24px\">\n",
              "    <g>\n",
              "        <path d=\"M19 3H5c-1.1 0-2 .9-2 2v14c0 1.1.9 2 2 2h14c1.1 0 2-.9 2-2V5c0-1.1-.9-2-2-2zM9 17H7v-7h2v7zm4 0h-2V7h2v10zm4 0h-2v-4h2v4z\"/>\n",
              "    </g>\n",
              "</svg>\n",
              "  </button>\n",
              "\n",
              "<style>\n",
              "  .colab-df-quickchart {\n",
              "      --bg-color: #E8F0FE;\n",
              "      --fill-color: #1967D2;\n",
              "      --hover-bg-color: #E2EBFA;\n",
              "      --hover-fill-color: #174EA6;\n",
              "      --disabled-fill-color: #AAA;\n",
              "      --disabled-bg-color: #DDD;\n",
              "  }\n",
              "\n",
              "  [theme=dark] .colab-df-quickchart {\n",
              "      --bg-color: #3B4455;\n",
              "      --fill-color: #D2E3FC;\n",
              "      --hover-bg-color: #434B5C;\n",
              "      --hover-fill-color: #FFFFFF;\n",
              "      --disabled-bg-color: #3B4455;\n",
              "      --disabled-fill-color: #666;\n",
              "  }\n",
              "\n",
              "  .colab-df-quickchart {\n",
              "    background-color: var(--bg-color);\n",
              "    border: none;\n",
              "    border-radius: 50%;\n",
              "    cursor: pointer;\n",
              "    display: none;\n",
              "    fill: var(--fill-color);\n",
              "    height: 32px;\n",
              "    padding: 0;\n",
              "    width: 32px;\n",
              "  }\n",
              "\n",
              "  .colab-df-quickchart:hover {\n",
              "    background-color: var(--hover-bg-color);\n",
              "    box-shadow: 0 1px 2px rgba(60, 64, 67, 0.3), 0 1px 3px 1px rgba(60, 64, 67, 0.15);\n",
              "    fill: var(--button-hover-fill-color);\n",
              "  }\n",
              "\n",
              "  .colab-df-quickchart-complete:disabled,\n",
              "  .colab-df-quickchart-complete:disabled:hover {\n",
              "    background-color: var(--disabled-bg-color);\n",
              "    fill: var(--disabled-fill-color);\n",
              "    box-shadow: none;\n",
              "  }\n",
              "\n",
              "  .colab-df-spinner {\n",
              "    border: 2px solid var(--fill-color);\n",
              "    border-color: transparent;\n",
              "    border-bottom-color: var(--fill-color);\n",
              "    animation:\n",
              "      spin 1s steps(1) infinite;\n",
              "  }\n",
              "\n",
              "  @keyframes spin {\n",
              "    0% {\n",
              "      border-color: transparent;\n",
              "      border-bottom-color: var(--fill-color);\n",
              "      border-left-color: var(--fill-color);\n",
              "    }\n",
              "    20% {\n",
              "      border-color: transparent;\n",
              "      border-left-color: var(--fill-color);\n",
              "      border-top-color: var(--fill-color);\n",
              "    }\n",
              "    30% {\n",
              "      border-color: transparent;\n",
              "      border-left-color: var(--fill-color);\n",
              "      border-top-color: var(--fill-color);\n",
              "      border-right-color: var(--fill-color);\n",
              "    }\n",
              "    40% {\n",
              "      border-color: transparent;\n",
              "      border-right-color: var(--fill-color);\n",
              "      border-top-color: var(--fill-color);\n",
              "    }\n",
              "    60% {\n",
              "      border-color: transparent;\n",
              "      border-right-color: var(--fill-color);\n",
              "    }\n",
              "    80% {\n",
              "      border-color: transparent;\n",
              "      border-right-color: var(--fill-color);\n",
              "      border-bottom-color: var(--fill-color);\n",
              "    }\n",
              "    90% {\n",
              "      border-color: transparent;\n",
              "      border-bottom-color: var(--fill-color);\n",
              "    }\n",
              "  }\n",
              "</style>\n",
              "\n",
              "  <script>\n",
              "    async function quickchart(key) {\n",
              "      const quickchartButtonEl =\n",
              "        document.querySelector('#' + key + ' button');\n",
              "      quickchartButtonEl.disabled = true;  // To prevent multiple clicks.\n",
              "      quickchartButtonEl.classList.add('colab-df-spinner');\n",
              "      try {\n",
              "        const charts = await google.colab.kernel.invokeFunction(\n",
              "            'suggestCharts', [key], {});\n",
              "      } catch (error) {\n",
              "        console.error('Error during call to suggestCharts:', error);\n",
              "      }\n",
              "      quickchartButtonEl.classList.remove('colab-df-spinner');\n",
              "      quickchartButtonEl.classList.add('colab-df-quickchart-complete');\n",
              "    }\n",
              "    (() => {\n",
              "      let quickchartButtonEl =\n",
              "        document.querySelector('#df-f7b80220-141f-4a17-9cb1-37fd33df6efa button');\n",
              "      quickchartButtonEl.style.display =\n",
              "        google.colab.kernel.accessAllowed ? 'block' : 'none';\n",
              "    })();\n",
              "  </script>\n",
              "</div>\n",
              "\n",
              "    </div>\n",
              "  </div>\n"
            ]
          },
          "metadata": {},
          "execution_count": 4
        }
      ],
      "source": [
        "df.head(10)"
      ]
    },
    {
      "cell_type": "code",
      "execution_count": null,
      "metadata": {
        "colab": {
          "base_uri": "https://localhost:8080/"
        },
        "id": "0ZqJwVspagIP",
        "outputId": "e9b90dfc-369c-4293-e354-ece9fd86e7fd"
      },
      "outputs": [
        {
          "output_type": "execute_result",
          "data": {
            "text/plain": [
              "<bound method NDFrame.describe of       Unnamed: 0  Q11_1  Q11_2  Q11_3  Q11_4  Q11_5  Q11_6  Q11_7  Q11_8  \\\n",
              "0              0      0      0      0      1      1      0      0      1   \n",
              "1              1      1      0      0      1      0      0      1      0   \n",
              "2              2      1      1      0      1      0      0      1      1   \n",
              "3              3      0      0      0      0      0      0      0      0   \n",
              "4              4      1      1      0      1      0      0      1      1   \n",
              "...          ...    ...    ...    ...    ...    ...    ...    ...    ...   \n",
              "6103        6103      0      1      0      0      0      0      1      1   \n",
              "6104        6104      0      1      0      1      0      0      0      1   \n",
              "6105        6105      1      0      1      0      0      0      0      0   \n",
              "6106        6106      0      0      1      0      0      0      0      1   \n",
              "6107        6107      1      0      0      1      0      0      0      1   \n",
              "\n",
              "      Q11_9  ...  Q18_17  Q18_18  Q18_19  Q18_20  Q18_21  Q18_22  Q18_23  Q20  \\\n",
              "0         0  ...       5       5       5       5       5       5       5    3   \n",
              "1         0  ...       4       2       4       2       2       2       2    3   \n",
              "2         0  ...       4       4       ?       ?       4       2       4    4   \n",
              "3         0  ...       ?       ?       ?       ?       ?       ?       ?    3   \n",
              "4         0  ...       ?       ?       1       1       ?       ?       ?    3   \n",
              "...     ...  ...     ...     ...     ...     ...     ...     ...     ...  ...   \n",
              "6103      1  ...       2       2       3       3       2       1       1    1   \n",
              "6104      0  ...       ?       ?       ?       ?       ?       ?       ?    3   \n",
              "6105      0  ...       4       1       5       4       5       4       5    5   \n",
              "6106      0  ...       1       3       4       5       3       2       3    2   \n",
              "6107      0  ...       3       3       3       3       3       3       3    3   \n",
              "\n",
              "      Q21  Q16  \n",
              "0       3    A  \n",
              "1       3    D  \n",
              "2       1    A  \n",
              "3       3    C  \n",
              "4       3    D  \n",
              "...   ...  ...  \n",
              "6103    3    B  \n",
              "6104    3    A  \n",
              "6105    2    A  \n",
              "6106    3    A  \n",
              "6107    3    D  \n",
              "\n",
              "[6108 rows x 76 columns]>"
            ]
          },
          "metadata": {},
          "execution_count": 5
        }
      ],
      "source": [
        "df.describe"
      ]
    },
    {
      "cell_type": "markdown",
      "metadata": {
        "id": "VMuVgQS_WP__"
      },
      "source": [
        "## Visulation"
      ]
    },
    {
      "cell_type": "markdown",
      "metadata": {
        "id": "lrBig6ByWP__"
      },
      "source": [
        "### Check the target column values"
      ]
    },
    {
      "cell_type": "code",
      "execution_count": null,
      "metadata": {
        "colab": {
          "base_uri": "https://localhost:8080/",
          "height": 519
        },
        "id": "U_bPh_XfWP__",
        "outputId": "c56e4234-d7f6-42d7-9bf3-1fe997993453"
      },
      "outputs": [
        {
          "output_type": "stream",
          "name": "stdout",
          "text": [
            "['A' 'D' 'C' 'B']\n"
          ]
        },
        {
          "output_type": "display_data",
          "data": {
            "text/plain": [
              "<Figure size 640x480 with 1 Axes>"
            ],
            "image/png": "[encoded data removed]"
          },
          "metadata": {}
        },
        {
          "output_type": "stream",
          "name": "stdout",
          "text": [
            "Lenght of A's 2883\n",
            "Lenght of B's 1526\n",
            "Lenght of C's 892\n",
            "Lenght of D's 807\n"
          ]
        }
      ],
      "source": [
        "print(df['Q16'].unique())\n",
        "class_distribution = {'Class A': len(df[df['Q16'] == 'A'].value_counts()), 'Class B': len(df[df['Q16'] == 'B'].value_counts()), 'Class C': len(df[df['Q16'] == 'C'].value_counts()), 'Class D': len(df[df['Q16'] == 'D'].value_counts())}\n",
        "\n",
        "sns.barplot(x=list(class_distribution.keys()), y=list(class_distribution.values()))\n",
        "plt.show()\n",
        "print(f\"Lenght of A's {len(df[df['Q16'] == 'A'].value_counts())}\")\n",
        "print(f\"Lenght of B's {len(df[df['Q16'] == 'B'].value_counts())}\")\n",
        "print(f\"Lenght of C's {len(df[df['Q16'] == 'C'].value_counts())}\")\n",
        "print(f\"Lenght of D's {len(df[df['Q16'] == 'D'].value_counts())}\")"
      ]
    },
    {
      "cell_type": "markdown",
      "metadata": {
        "id": "PL_UL5IdWQAA"
      },
      "source": [
        "## Convert String Targets To The Countable Data"
      ]
    },
    {
      "cell_type": "code",
      "execution_count": null,
      "metadata": {
        "colab": {
          "base_uri": "https://localhost:8080/"
        },
        "id": "b-NPN1doWQAA",
        "outputId": "4b7d96fd-ab89-4121-8544-e44af5f44a87"
      },
      "outputs": [
        {
          "output_type": "stream",
          "name": "stdout",
          "text": [
            "['A' 'D' 'C' 'B']\n"
          ]
        },
        {
          "output_type": "stream",
          "name": "stderr",
          "text": [
            "<ipython-input-7-2a5830fd3b20>:3: SettingWithCopyWarning: \n",
            "A value is trying to be set on a copy of a slice from a DataFrame\n",
            "\n",
            "See the caveats in the documentation: https://pandas.pydata.org/pandas-docs/stable/user_guide/indexing.html#returning-a-view-versus-a-copy\n",
            "  if(df['Q16'][i] == 'A'): df['Q16'][i] = 0\n",
            "<ipython-input-7-2a5830fd3b20>:6: SettingWithCopyWarning: \n",
            "A value is trying to be set on a copy of a slice from a DataFrame\n",
            "\n",
            "See the caveats in the documentation: https://pandas.pydata.org/pandas-docs/stable/user_guide/indexing.html#returning-a-view-versus-a-copy\n",
            "  elif(df['Q16'][i] == 'D'): df['Q16'][i] = 3\n",
            "<ipython-input-7-2a5830fd3b20>:5: SettingWithCopyWarning: \n",
            "A value is trying to be set on a copy of a slice from a DataFrame\n",
            "\n",
            "See the caveats in the documentation: https://pandas.pydata.org/pandas-docs/stable/user_guide/indexing.html#returning-a-view-versus-a-copy\n",
            "  elif(df['Q16'][i] == 'C'): df['Q16'][i] = 2\n",
            "<ipython-input-7-2a5830fd3b20>:4: SettingWithCopyWarning: \n",
            "A value is trying to be set on a copy of a slice from a DataFrame\n",
            "\n",
            "See the caveats in the documentation: https://pandas.pydata.org/pandas-docs/stable/user_guide/indexing.html#returning-a-view-versus-a-copy\n",
            "  elif(df['Q16'][i] == 'B'): df['Q16'][i] = 1\n"
          ]
        },
        {
          "output_type": "stream",
          "name": "stdout",
          "text": [
            "[0 3 2 1]\n"
          ]
        }
      ],
      "source": [
        "print(df['Q16'].unique())\n",
        "for i in range(len(df['Q16'])):\n",
        "    if(df['Q16'][i] == 'A'): df['Q16'][i] = 0\n",
        "    elif(df['Q16'][i] == 'B'): df['Q16'][i] = 1\n",
        "    elif(df['Q16'][i] == 'C'): df['Q16'][i] = 2\n",
        "    elif(df['Q16'][i] == 'D'): df['Q16'][i] = 3\n",
        "\n",
        "print(df['Q16'].unique())"
      ]
    },
    {
      "cell_type": "code",
      "execution_count": null,
      "metadata": {
        "colab": {
          "base_uri": "https://localhost:8080/"
        },
        "id": "Lol9VrQiWQAB",
        "outputId": "de9e9143-a842-4e67-a6c3-4aa646bc6e54"
      },
      "outputs": [
        {
          "output_type": "stream",
          "name": "stdout",
          "text": [
            "Lenght of 0's 2883\n",
            "Lenght of 1's 1526\n",
            "Lenght of 2's 892\n",
            "Lenght of 3's 807\n"
          ]
        }
      ],
      "source": [
        "print(f\"Lenght of 0's {len(df[df['Q16'] == 0].value_counts())}\")\n",
        "print(f\"Lenght of 1's {len(df[df['Q16'] == 1].value_counts())}\")\n",
        "print(f\"Lenght of 2's {len(df[df['Q16'] == 2].value_counts())}\")\n",
        "print(f\"Lenght of 3's {len(df[df['Q16'] == 3].value_counts())}\")"
      ]
    },
    {
      "cell_type": "markdown",
      "metadata": {
        "id": "KUf9LT6ndQib"
      },
      "source": [
        "### Check the DataTypes of all columns"
      ]
    },
    {
      "cell_type": "code",
      "execution_count": null,
      "metadata": {
        "colab": {
          "base_uri": "https://localhost:8080/"
        },
        "id": "DBBTGps-dV9M",
        "outputId": "09a4a296-3f35-4f87-f189-8b283869860d"
      },
      "outputs": [
        {
          "output_type": "execute_result",
          "data": {
            "text/plain": [
              "Unnamed: 0     int64\n",
              "Q11_1          int64\n",
              "Q11_2          int64\n",
              "Q11_3          int64\n",
              "Q11_4          int64\n",
              "               ...  \n",
              "Q18_22        object\n",
              "Q18_23        object\n",
              "Q20            int64\n",
              "Q21            int64\n",
              "Q16           object\n",
              "Length: 76, dtype: object"
            ]
          },
          "metadata": {},
          "execution_count": 9
        }
      ],
      "source": [
        "df.dtypes"
      ]
    },
    {
      "cell_type": "markdown",
      "metadata": {
        "id": "ujrYjBlUWQAC"
      },
      "source": [
        "## Check The Uniqes of Columns"
      ]
    },
    {
      "cell_type": "code",
      "execution_count": null,
      "metadata": {
        "colab": {
          "base_uri": "https://localhost:8080/"
        },
        "id": "jXZwRWKhWQAC",
        "outputId": "51631dce-830e-4882-d56a-f01f9d759e37"
      },
      "outputs": [
        {
          "output_type": "stream",
          "name": "stdout",
          "text": [
            "Q11_1 = [0 1]\n",
            "Q11_2 = [0 1]\n",
            "Q11_3 = [0 1]\n",
            "Q11_4 = [1 0]\n",
            "Q11_5 = [1 0]\n",
            "Q11_6 = [0 1]\n",
            "Q11_7 = [0 1]\n",
            "Q11_8 = [1 0]\n",
            "Q11_9 = [0 1]\n",
            "Q11_10 = [0 1]\n",
            "Q11_11 = [1 0]\n",
            "Q11_12 = [0 1]\n",
            "Q11_13 = [0 1]\n",
            "Q11_Dont_Know = [0 1]\n",
            "Q12_1 = [0 1]\n",
            "Q12_2 = [0 1]\n",
            "Q12_3 = [1 0]\n",
            "Q12_4 = [1 0]\n",
            "Q12_5 = [0 1]\n",
            "Q12_6 = [0 1]\n",
            "Q12_7 = [0 1]\n",
            "Q12_8 = [1 0]\n",
            "Q12_9 = [0 1]\n",
            "Q12_10 = [0 1]\n",
            "Q12_11 = [1 0]\n",
            "Q12_12 = [0 1]\n",
            "Q12_13 = [0 1]\n",
            "Q12_14 = [0 1]\n",
            "Q12_Dont_Know = [0 1]\n",
            "Q13_1 = [0 1]\n",
            "Q13_2 = [0 1]\n",
            "Q13_3 = [1 0]\n",
            "Q13_4 = [0 1]\n",
            "Q13_5 = [1 0]\n",
            "Q13_6 = [0 1]\n",
            "Q13_7 = [0 1]\n",
            "Q13_8 = [0 1]\n",
            "Q13_9 = [1 0]\n",
            "Q13_10 = [0 1]\n",
            "Q13_11 = [0 1]\n",
            "Q13_12 = [0 1]\n",
            "Q13_13 = [1 0]\n",
            "Q13_14 = [1 0]\n",
            "Q13_15 = [0 1]\n",
            "Q13_16 = [0 1]\n",
            "Q13_Dont_Know = [0 1]\n",
            "Q14 = ['1' '3' '?' '2' '4' '5']\n",
            "Q15 = ['2' '1' '?']\n",
            "Q17 = ['3' '1' '?' '2' '4' '5']\n",
            "Q18_1 = ['5' '4' '?' '2' '3' '1']\n",
            "Q18_2 = ['5' '3' '?' '4' '1' '2']\n",
            "Q18_3 = ['5' '2' '4' '?' '3' '1']\n",
            "Q18_4 = ['5' '4' '?' '3' '2' '1']\n",
            "Q18_5 = ['5' '3' '4' '?' '2' '1']\n",
            "Q18_6 = ['5' '2' '4' '?' '3' '1']\n",
            "Q18_7 = ['5' '2' '4' '?' '1' '3']\n",
            "Q18_8 = ['5' '3' '4' '?' '2' '1']\n",
            "Q18_9 = ['5' '3' '4' '?' '2' '1']\n",
            "Q18_10 = ['5' '3' '4' '?' '2' '1']\n",
            "Q18_11 = ['5' '2' '?' '4' '1' '3']\n",
            "Q18_12 = ['5' '1' '4' '?' '3' '2']\n",
            "Q18_13 = ['5' '2' '?' '4' '3' '1']\n",
            "Q18_14 = ['5' '4' '?' '3' '2' '1']\n",
            "Q18_15 = ['5' '2' '?' '4' '3' '1']\n",
            "Q18_16 = ['5' '2' '?' '4' '1' '3']\n",
            "Q18_17 = ['5' '4' '?' '3' '2' '1']\n",
            "Q18_18 = ['5' '2' '4' '?' '1' '3']\n",
            "Q18_19 = ['5' '4' '?' '1' '2' '3']\n",
            "Q18_20 = ['5' '2' '?' '1' '4' '3']\n",
            "Q18_21 = ['5' '2' '4' '?' '3' '1']\n",
            "Q18_22 = ['5' '2' '?' '4' '3' '1']\n",
            "Q18_23 = ['5' '2' '4' '?' '3' '1']\n",
            "Q20 = [3 4 5 1 2]\n",
            "Q21 = [3 1 2 4 5]\n",
            "Q16 = [0 3 2 1]\n"
          ]
        }
      ],
      "source": [
        "for column in df.columns:\n",
        "    if column != 'Unnamed: 0':\n",
        "        print(f\"{column} = {df[column].unique()}\")"
      ]
    },
    {
      "cell_type": "markdown",
      "metadata": {
        "id": "fbw4uU1EXYml"
      },
      "source": [
        "# Handling NULL Values"
      ]
    },
    {
      "cell_type": "code",
      "execution_count": null,
      "metadata": {
        "id": "mJitLH0mXhDH"
      },
      "outputs": [],
      "source": [
        "null_df = df.isnull().sum()"
      ]
    },
    {
      "cell_type": "code",
      "execution_count": null,
      "metadata": {
        "colab": {
          "base_uri": "https://localhost:8080/"
        },
        "id": "G1ex53PmX3n4",
        "outputId": "10493189-c0b8-42dc-87e2-e08079a73928"
      },
      "outputs": [
        {
          "output_type": "execute_result",
          "data": {
            "text/plain": [
              "Unnamed: 0    0\n",
              "Q11_1         0\n",
              "Q11_2         0\n",
              "Q11_3         0\n",
              "Q11_4         0\n",
              "             ..\n",
              "Q18_22        0\n",
              "Q18_23        0\n",
              "Q20           0\n",
              "Q21           0\n",
              "Q16           0\n",
              "Length: 76, dtype: int64"
            ]
          },
          "metadata": {},
          "execution_count": 12
        }
      ],
      "source": [
        "null_df"
      ]
    },
    {
      "cell_type": "code",
      "execution_count": null,
      "metadata": {
        "colab": {
          "base_uri": "https://localhost:8080/"
        },
        "id": "P331kpJEdZSS",
        "outputId": "2cb45424-9011-486d-98af-79f8ef1fcede"
      },
      "outputs": [
        {
          "output_type": "execute_result",
          "data": {
            "text/plain": [
              "Unnamed: 0       0\n",
              "Q11_1            0\n",
              "Q11_2            0\n",
              "Q11_3            0\n",
              "Q11_4            0\n",
              "Q11_5            0\n",
              "Q11_6            0\n",
              "Q11_7            0\n",
              "Q11_8            0\n",
              "Q11_9            0\n",
              "Q11_10           0\n",
              "Q11_11           0\n",
              "Q11_12           0\n",
              "Q11_13           0\n",
              "Q11_Dont_Know    0\n",
              "Q12_1            0\n",
              "Q12_2            0\n",
              "Q12_3            0\n",
              "Q12_4            0\n",
              "Q12_5            0\n",
              "Q12_6            0\n",
              "Q12_7            0\n",
              "Q12_8            0\n",
              "Q12_9            0\n",
              "Q12_10           0\n",
              "Q12_11           0\n",
              "Q12_12           0\n",
              "Q12_13           0\n",
              "Q12_14           0\n",
              "Q12_Dont_Know    0\n",
              "Q13_1            0\n",
              "Q13_2            0\n",
              "Q13_3            0\n",
              "Q13_4            0\n",
              "Q13_5            0\n",
              "dtype: int64"
            ]
          },
          "metadata": {},
          "execution_count": 13
        }
      ],
      "source": [
        "question_mark_cells = df.applymap(lambda x: x == \"?\")\n",
        "question_mark_counts = question_mark_cells.sum(axis = 0)\n",
        "question_mark_counts.head(35)"
      ]
    },
    {
      "cell_type": "code",
      "execution_count": null,
      "metadata": {
        "colab": {
          "base_uri": "https://localhost:8080/"
        },
        "id": "EqMVev5jdkOk",
        "outputId": "314943d1-93dd-4d17-d9c2-bab5805f954a"
      },
      "outputs": [
        {
          "output_type": "execute_result",
          "data": {
            "text/plain": [
              "Q13_7               0\n",
              "Q13_8               0\n",
              "Q13_9               0\n",
              "Q13_10              0\n",
              "Q13_11              0\n",
              "Q13_12              0\n",
              "Q13_13              0\n",
              "Q13_14              0\n",
              "Q13_15              0\n",
              "Q13_16              0\n",
              "Q13_Dont_Know       0\n",
              "Q14               422\n",
              "Q15                92\n",
              "Q17               742\n",
              "Q18_1             559\n",
              "Q18_2             889\n",
              "Q18_3            1361\n",
              "Q18_4             801\n",
              "Q18_5            1588\n",
              "Q18_6            1219\n",
              "Q18_7             947\n",
              "Q18_8             712\n",
              "Q18_9            1055\n",
              "Q18_10           1421\n",
              "Q18_11            918\n",
              "Q18_12           1126\n",
              "Q18_13            738\n",
              "Q18_14            787\n",
              "Q18_15           1361\n",
              "Q18_16           1460\n",
              "Q18_17           1216\n",
              "Q18_18           1027\n",
              "Q18_19           1721\n",
              "Q18_20           1098\n",
              "Q18_21           1669\n",
              "Q18_22           1700\n",
              "Q18_23           1451\n",
              "Q20                 0\n",
              "Q21                 0\n",
              "Q16                 0\n",
              "dtype: int64"
            ]
          },
          "metadata": {},
          "execution_count": 14
        }
      ],
      "source": [
        "question_mark_counts.tail(40)"
      ]
    },
    {
      "cell_type": "markdown",
      "metadata": {
        "id": "_DXFws5BeCMB"
      },
      "source": [
        "### Method For Filling '?' variabels"
      ]
    },
    {
      "cell_type": "code",
      "execution_count": null,
      "metadata": {
        "id": "VWhvr4BZeLC2"
      },
      "outputs": [],
      "source": [
        "def FillingQuestionWithMode(df):\n",
        "    result = \"\"\n",
        "    questionMarkSet = []\n",
        "    for column in question_mark_cells:\n",
        "        if(isinstance(question_mark_counts[column], np.int64) and question_mark_counts[column] > 0):\n",
        "            questionMarkSet.append(column)\n",
        "\n",
        "    for column in questionMarkSet:\n",
        "        mode_value = df[column].mode().iloc[0]  # Get the first mode in case of multiple modes\n",
        "        if(mode_value == '?'):\n",
        "            df[column] = df[column].replace('?', round(pd.to_numeric(df[column], errors='coerce').mean()))\n",
        "            result = result + f\"This {column} mode is '?' so filling with average of column {round(pd.to_numeric(df[column], errors='coerce').mean())}.\\n\"\n",
        "        else:\n",
        "            df[column] = df[column].replace('?', mode_value)\n",
        "    return df, result"
      ]
    },
    {
      "cell_type": "code",
      "execution_count": null,
      "metadata": {
        "colab": {
          "base_uri": "https://localhost:8080/"
        },
        "id": "BAZrp5VsKLBI",
        "outputId": "a1be377d-09ca-4816-c913-4938f1888023"
      },
      "outputs": [
        {
          "output_type": "stream",
          "name": "stdout",
          "text": [
            "This Q18_19 mode is '?' so filling with average of column 3.\n",
            "This Q18_22 mode is '?' so filling with average of column 2.\n",
            "\n"
          ]
        }
      ],
      "source": [
        "questionToMode_df = df.copy()\n",
        "questionToMode_df, result = FillingQuestionWithMode(questionToMode_df)\n",
        "print(result)"
      ]
    },
    {
      "cell_type": "code",
      "execution_count": null,
      "metadata": {
        "colab": {
          "base_uri": "https://localhost:8080/"
        },
        "id": "jGNxnnElfUM0",
        "outputId": "21b4ab4a-fb03-450e-bbe8-01076d1b5112"
      },
      "outputs": [
        {
          "output_type": "execute_result",
          "data": {
            "text/plain": [
              "Q12_12           0\n",
              "Q12_13           0\n",
              "Q12_14           0\n",
              "Q12_Dont_Know    0\n",
              "Q13_1            0\n",
              "Q13_2            0\n",
              "Q13_3            0\n",
              "Q13_4            0\n",
              "Q13_5            0\n",
              "Q13_6            0\n",
              "Q13_7            0\n",
              "Q13_8            0\n",
              "Q13_9            0\n",
              "Q13_10           0\n",
              "Q13_11           0\n",
              "Q13_12           0\n",
              "Q13_13           0\n",
              "Q13_14           0\n",
              "Q13_15           0\n",
              "Q13_16           0\n",
              "Q13_Dont_Know    0\n",
              "Q14              0\n",
              "Q15              0\n",
              "Q17              0\n",
              "Q18_1            0\n",
              "Q18_2            0\n",
              "Q18_3            0\n",
              "Q18_4            0\n",
              "Q18_5            0\n",
              "Q18_6            0\n",
              "Q18_7            0\n",
              "Q18_8            0\n",
              "Q18_9            0\n",
              "Q18_10           0\n",
              "Q18_11           0\n",
              "Q18_12           0\n",
              "Q18_13           0\n",
              "Q18_14           0\n",
              "Q18_15           0\n",
              "Q18_16           0\n",
              "Q18_17           0\n",
              "Q18_18           0\n",
              "Q18_19           0\n",
              "Q18_20           0\n",
              "Q18_21           0\n",
              "Q18_22           0\n",
              "Q18_23           0\n",
              "Q20              0\n",
              "Q21              0\n",
              "Q16              0\n",
              "dtype: int64"
            ]
          },
          "metadata": {},
          "execution_count": 17
        }
      ],
      "source": [
        "question_mark_cells = questionToMode_df.applymap(lambda x: x == \"?\")\n",
        "question_mark_cells.sum().tail(50)"
      ]
    },
    {
      "cell_type": "code",
      "execution_count": null,
      "metadata": {
        "colab": {
          "base_uri": "https://localhost:8080/"
        },
        "id": "fuB3hJflKLBJ",
        "outputId": "dd78ef41-efb9-4c6f-c3a4-9c375e404f45"
      },
      "outputs": [
        {
          "output_type": "execute_result",
          "data": {
            "text/plain": [
              "Unnamed: 0       0\n",
              "Q11_1            0\n",
              "Q11_2            0\n",
              "Q11_3            0\n",
              "Q11_4            0\n",
              "Q11_5            0\n",
              "Q11_6            0\n",
              "Q11_7            0\n",
              "Q11_8            0\n",
              "Q11_9            0\n",
              "Q11_10           0\n",
              "Q11_11           0\n",
              "Q11_12           0\n",
              "Q11_13           0\n",
              "Q11_Dont_Know    0\n",
              "Q12_1            0\n",
              "Q12_2            0\n",
              "Q12_3            0\n",
              "Q12_4            0\n",
              "Q12_5            0\n",
              "Q12_6            0\n",
              "Q12_7            0\n",
              "Q12_8            0\n",
              "Q12_9            0\n",
              "Q12_10           0\n",
              "dtype: int64"
            ]
          },
          "metadata": {},
          "execution_count": 18
        }
      ],
      "source": [
        "question_mark_cells.sum().head(25)"
      ]
    },
    {
      "cell_type": "markdown",
      "metadata": {
        "id": "p0k1QJwwd0n5"
      },
      "source": [
        "### Change Data Types to NumpyInt64"
      ]
    },
    {
      "cell_type": "code",
      "execution_count": null,
      "metadata": {
        "id": "ooUXDDnVd3ea"
      },
      "outputs": [],
      "source": [
        "for column in questionToMode_df:\n",
        "  try:\n",
        "    questionToMode_df[column] = questionToMode_df[column].astype('int64')\n",
        "  except:\n",
        "    continue"
      ]
    },
    {
      "cell_type": "code",
      "execution_count": null,
      "metadata": {
        "colab": {
          "base_uri": "https://localhost:8080/"
        },
        "id": "E7gfW0z1WQAF",
        "outputId": "71e88d3e-58d6-48a3-e5df-476ffdb8cf3f"
      },
      "outputs": [
        {
          "output_type": "execute_result",
          "data": {
            "text/plain": [
              "Unnamed: 0       int64\n",
              "Q11_1            int64\n",
              "Q11_2            int64\n",
              "Q11_3            int64\n",
              "Q11_4            int64\n",
              "Q11_5            int64\n",
              "Q11_6            int64\n",
              "Q11_7            int64\n",
              "Q11_8            int64\n",
              "Q11_9            int64\n",
              "Q11_10           int64\n",
              "Q11_11           int64\n",
              "Q11_12           int64\n",
              "Q11_13           int64\n",
              "Q11_Dont_Know    int64\n",
              "Q12_1            int64\n",
              "Q12_2            int64\n",
              "Q12_3            int64\n",
              "Q12_4            int64\n",
              "Q12_5            int64\n",
              "Q12_6            int64\n",
              "Q12_7            int64\n",
              "Q12_8            int64\n",
              "Q12_9            int64\n",
              "Q12_10           int64\n",
              "Q12_11           int64\n",
              "Q12_12           int64\n",
              "Q12_13           int64\n",
              "Q12_14           int64\n",
              "Q12_Dont_Know    int64\n",
              "Q13_1            int64\n",
              "Q13_2            int64\n",
              "Q13_3            int64\n",
              "Q13_4            int64\n",
              "Q13_5            int64\n",
              "Q13_6            int64\n",
              "Q13_7            int64\n",
              "Q13_8            int64\n",
              "Q13_9            int64\n",
              "Q13_10           int64\n",
              "Q13_11           int64\n",
              "Q13_12           int64\n",
              "Q13_13           int64\n",
              "Q13_14           int64\n",
              "Q13_15           int64\n",
              "Q13_16           int64\n",
              "Q13_Dont_Know    int64\n",
              "Q14              int64\n",
              "Q15              int64\n",
              "Q17              int64\n",
              "dtype: object"
            ]
          },
          "metadata": {},
          "execution_count": 20
        }
      ],
      "source": [
        "questionToMode_df.dtypes.head(50)"
      ]
    },
    {
      "cell_type": "code",
      "execution_count": null,
      "metadata": {
        "colab": {
          "base_uri": "https://localhost:8080/"
        },
        "id": "TH11bDMhWQAF",
        "outputId": "91d09be8-4603-4646-c949-cbd41093eea1"
      },
      "outputs": [
        {
          "output_type": "execute_result",
          "data": {
            "text/plain": [
              "Q18_2     int64\n",
              "Q18_3     int64\n",
              "Q18_4     int64\n",
              "Q18_5     int64\n",
              "Q18_6     int64\n",
              "Q18_7     int64\n",
              "Q18_8     int64\n",
              "Q18_9     int64\n",
              "Q18_10    int64\n",
              "Q18_11    int64\n",
              "Q18_12    int64\n",
              "Q18_13    int64\n",
              "Q18_14    int64\n",
              "Q18_15    int64\n",
              "Q18_16    int64\n",
              "Q18_17    int64\n",
              "Q18_18    int64\n",
              "Q18_19    int64\n",
              "Q18_20    int64\n",
              "Q18_21    int64\n",
              "Q18_22    int64\n",
              "Q18_23    int64\n",
              "Q20       int64\n",
              "Q21       int64\n",
              "Q16       int64\n",
              "dtype: object"
            ]
          },
          "metadata": {},
          "execution_count": 21
        }
      ],
      "source": [
        "questionToMode_df.dtypes.tail(25)"
      ]
    },
    {
      "cell_type": "markdown",
      "metadata": {
        "id": "lIud2itKK-oW"
      },
      "source": [
        "### Check Missing Values"
      ]
    },
    {
      "cell_type": "code",
      "execution_count": null,
      "metadata": {
        "colab": {
          "base_uri": "https://localhost:8080/"
        },
        "id": "-Iste_2gKVqa",
        "outputId": "b17ec526-c52d-43ff-ff36-79d7a489f969"
      },
      "outputs": [
        {
          "output_type": "execute_result",
          "data": {
            "text/plain": [
              "Unnamed: 0    0\n",
              "Q11_1         0\n",
              "Q11_2         0\n",
              "Q11_3         0\n",
              "Q11_4         0\n",
              "             ..\n",
              "Q18_22        0\n",
              "Q18_23        0\n",
              "Q20           0\n",
              "Q21           0\n",
              "Q16           0\n",
              "Length: 76, dtype: int64"
            ]
          },
          "metadata": {},
          "execution_count": 22
        }
      ],
      "source": [
        "questionToMode_df.isnull().sum()"
      ]
    },
    {
      "cell_type": "markdown",
      "metadata": {
        "id": "jLcyT_iCLwHF"
      },
      "source": [
        "### Describtion of Dataset After Handling Null Values"
      ]
    },
    {
      "cell_type": "code",
      "execution_count": null,
      "metadata": {
        "colab": {
          "base_uri": "https://localhost:8080/",
          "height": 329
        },
        "id": "votWtuR5LZGz",
        "outputId": "bc6b2f71-e415-4c75-c05a-45e55d22c3f9"
      },
      "outputs": [
        {
          "output_type": "execute_result",
          "data": {
            "text/plain": [
              "        Unnamed: 0        Q11_1        Q11_2        Q11_3        Q11_4  \\\n",
              "count  6108.000000  6108.000000  6108.000000  6108.000000  6108.000000   \n",
              "mean   3053.500000     0.479044     0.295678     0.178782     0.584152   \n",
              "std    1763.372054     0.499602     0.456384     0.383201     0.492908   \n",
              "min       0.000000     0.000000     0.000000     0.000000     0.000000   \n",
              "25%    1526.750000     0.000000     0.000000     0.000000     0.000000   \n",
              "50%    3053.500000     0.000000     0.000000     0.000000     1.000000   \n",
              "75%    4580.250000     1.000000     1.000000     0.000000     1.000000   \n",
              "max    6107.000000     1.000000     1.000000     1.000000     1.000000   \n",
              "\n",
              "             Q11_5        Q11_6        Q11_7        Q11_8        Q11_9  ...  \\\n",
              "count  6108.000000  6108.000000  6108.000000  6108.000000  6108.000000  ...   \n",
              "mean      0.280779     0.089555     0.379993     0.302227     0.076130  ...   \n",
              "std       0.449417     0.285566     0.485425     0.459261     0.265227  ...   \n",
              "min       0.000000     0.000000     0.000000     0.000000     0.000000  ...   \n",
              "25%       0.000000     0.000000     0.000000     0.000000     0.000000  ...   \n",
              "50%       0.000000     0.000000     0.000000     0.000000     0.000000  ...   \n",
              "75%       1.000000     0.000000     1.000000     1.000000     0.000000  ...   \n",
              "max       1.000000     1.000000     1.000000     1.000000     1.000000  ...   \n",
              "\n",
              "            Q18_17       Q18_18       Q18_19       Q18_20       Q18_21  \\\n",
              "count  6108.000000  6108.000000  6108.000000  6108.000000  6108.000000   \n",
              "mean      3.034217     2.200557     3.046005     2.274067     2.863785   \n",
              "std       1.013568     0.940799     0.969493     1.031295     0.929183   \n",
              "min       1.000000     1.000000     1.000000     1.000000     1.000000   \n",
              "25%       2.000000     2.000000     3.000000     2.000000     2.000000   \n",
              "50%       3.000000     2.000000     3.000000     2.000000     3.000000   \n",
              "75%       4.000000     3.000000     4.000000     3.000000     3.000000   \n",
              "max       5.000000     5.000000     5.000000     5.000000     5.000000   \n",
              "\n",
              "            Q18_22       Q18_23          Q20          Q21          Q16  \n",
              "count  6108.000000  6108.000000  6108.000000  6108.000000  6108.000000  \n",
              "mean      2.350196     2.612803     2.870825     2.596758     0.938278  \n",
              "std       0.928942     0.952385     0.811442     0.834790     1.069068  \n",
              "min       1.000000     1.000000     1.000000     1.000000     0.000000  \n",
              "25%       2.000000     2.000000     3.000000     2.000000     0.000000  \n",
              "50%       2.000000     3.000000     3.000000     3.000000     1.000000  \n",
              "75%       3.000000     3.000000     3.000000     3.000000     2.000000  \n",
              "max       5.000000     5.000000     5.000000     5.000000     3.000000  \n",
              "\n",
              "[8 rows x 76 columns]"
            ],
            "text/html": [
              "\n",
              "  <div id=\"df-c1319fa5-c455-4a52-8b2c-b247a05d6c74\" class=\"colab-df-container\">\n",
              "    <div>\n",
              "<style scoped>\n",
              "    .dataframe tbody tr th:only-of-type {\n",
              "        vertical-align: middle;\n",
              "    }\n",
              "\n",
              "    .dataframe tbody tr th {\n",
              "        vertical-align: top;\n",
              "    }\n",
              "\n",
              "    .dataframe thead th {\n",
              "        text-align: right;\n",
              "    }\n",
              "</style>\n",
              "<table border=\"1\" class=\"dataframe\">\n",
              "  <thead>\n",
              "    <tr style=\"text-align: right;\">\n",
              "      <th></th>\n",
              "      <th>Unnamed: 0</th>\n",
              "      <th>Q11_1</th>\n",
              "      <th>Q11_2</th>\n",
              "      <th>Q11_3</th>\n",
              "      <th>Q11_4</th>\n",
              "      <th>Q11_5</th>\n",
              "      <th>Q11_6</th>\n",
              "      <th>Q11_7</th>\n",
              "      <th>Q11_8</th>\n",
              "      <th>Q11_9</th>\n",
              "      <th>...</th>\n",
              "      <th>Q18_17</th>\n",
              "      <th>Q18_18</th>\n",
              "      <th>Q18_19</th>\n",
              "      <th>Q18_20</th>\n",
              "      <th>Q18_21</th>\n",
              "      <th>Q18_22</th>\n",
              "      <th>Q18_23</th>\n",
              "      <th>Q20</th>\n",
              "      <th>Q21</th>\n",
              "      <th>Q16</th>\n",
              "    </tr>\n",
              "  </thead>\n",
              "  <tbody>\n",
              "    <tr>\n",
              "      <th>count</th>\n",
              "      <td>6108.000000</td>\n",
              "      <td>6108.000000</td>\n",
              "      <td>6108.000000</td>\n",
              "      <td>6108.000000</td>\n",
              "      <td>6108.000000</td>\n",
              "      <td>6108.000000</td>\n",
              "      <td>6108.000000</td>\n",
              "      <td>6108.000000</td>\n",
              "      <td>6108.000000</td>\n",
              "      <td>6108.000000</td>\n",
              "      <td>...</td>\n",
              "      <td>6108.000000</td>\n",
              "      <td>6108.000000</td>\n",
              "      <td>6108.000000</td>\n",
              "      <td>6108.000000</td>\n",
              "      <td>6108.000000</td>\n",
              "      <td>6108.000000</td>\n",
              "      <td>6108.000000</td>\n",
              "      <td>6108.000000</td>\n",
              "      <td>6108.000000</td>\n",
              "      <td>6108.000000</td>\n",
              "    </tr>\n",
              "    <tr>\n",
              "      <th>mean</th>\n",
              "      <td>3053.500000</td>\n",
              "      <td>0.479044</td>\n",
              "      <td>0.295678</td>\n",
              "      <td>0.178782</td>\n",
              "      <td>0.584152</td>\n",
              "      <td>0.280779</td>\n",
              "      <td>0.089555</td>\n",
              "      <td>0.379993</td>\n",
              "      <td>0.302227</td>\n",
              "      <td>0.076130</td>\n",
              "      <td>...</td>\n",
              "      <td>3.034217</td>\n",
              "      <td>2.200557</td>\n",
              "      <td>3.046005</td>\n",
              "      <td>2.274067</td>\n",
              "      <td>2.863785</td>\n",
              "      <td>2.350196</td>\n",
              "      <td>2.612803</td>\n",
              "      <td>2.870825</td>\n",
              "      <td>2.596758</td>\n",
              "      <td>0.938278</td>\n",
              "    </tr>\n",
              "    <tr>\n",
              "      <th>std</th>\n",
              "      <td>1763.372054</td>\n",
              "      <td>0.499602</td>\n",
              "      <td>0.456384</td>\n",
              "      <td>0.383201</td>\n",
              "      <td>0.492908</td>\n",
              "      <td>0.449417</td>\n",
              "      <td>0.285566</td>\n",
              "      <td>0.485425</td>\n",
              "      <td>0.459261</td>\n",
              "      <td>0.265227</td>\n",
              "      <td>...</td>\n",
              "      <td>1.013568</td>\n",
              "      <td>0.940799</td>\n",
              "      <td>0.969493</td>\n",
              "      <td>1.031295</td>\n",
              "      <td>0.929183</td>\n",
              "      <td>0.928942</td>\n",
              "      <td>0.952385</td>\n",
              "      <td>0.811442</td>\n",
              "      <td>0.834790</td>\n",
              "      <td>1.069068</td>\n",
              "    </tr>\n",
              "    <tr>\n",
              "      <th>min</th>\n",
              "      <td>0.000000</td>\n",
              "      <td>0.000000</td>\n",
              "      <td>0.000000</td>\n",
              "      <td>0.000000</td>\n",
              "      <td>0.000000</td>\n",
              "      <td>0.000000</td>\n",
              "      <td>0.000000</td>\n",
              "      <td>0.000000</td>\n",
              "      <td>0.000000</td>\n",
              "      <td>0.000000</td>\n",
              "      <td>...</td>\n",
              "      <td>1.000000</td>\n",
              "      <td>1.000000</td>\n",
              "      <td>1.000000</td>\n",
              "      <td>1.000000</td>\n",
              "      <td>1.000000</td>\n",
              "      <td>1.000000</td>\n",
              "      <td>1.000000</td>\n",
              "      <td>1.000000</td>\n",
              "      <td>1.000000</td>\n",
              "      <td>0.000000</td>\n",
              "    </tr>\n",
              "    <tr>\n",
              "      <th>25%</th>\n",
              "      <td>1526.750000</td>\n",
              "      <td>0.000000</td>\n",
              "      <td>0.000000</td>\n",
              "      <td>0.000000</td>\n",
              "      <td>0.000000</td>\n",
              "      <td>0.000000</td>\n",
              "      <td>0.000000</td>\n",
              "      <td>0.000000</td>\n",
              "      <td>0.000000</td>\n",
              "      <td>0.000000</td>\n",
              "      <td>...</td>\n",
              "      <td>2.000000</td>\n",
              "      <td>2.000000</td>\n",
              "      <td>3.000000</td>\n",
              "      <td>2.000000</td>\n",
              "      <td>2.000000</td>\n",
              "      <td>2.000000</td>\n",
              "      <td>2.000000</td>\n",
              "      <td>3.000000</td>\n",
              "      <td>2.000000</td>\n",
              "      <td>0.000000</td>\n",
              "    </tr>\n",
              "    <tr>\n",
              "      <th>50%</th>\n",
              "      <td>3053.500000</td>\n",
              "      <td>0.000000</td>\n",
              "      <td>0.000000</td>\n",
              "      <td>0.000000</td>\n",
              "      <td>1.000000</td>\n",
              "      <td>0.000000</td>\n",
              "      <td>0.000000</td>\n",
              "      <td>0.000000</td>\n",
              "      <td>0.000000</td>\n",
              "      <td>0.000000</td>\n",
              "      <td>...</td>\n",
              "      <td>3.000000</td>\n",
              "      <td>2.000000</td>\n",
              "      <td>3.000000</td>\n",
              "      <td>2.000000</td>\n",
              "      <td>3.000000</td>\n",
              "      <td>2.000000</td>\n",
              "      <td>3.000000</td>\n",
              "      <td>3.000000</td>\n",
              "      <td>3.000000</td>\n",
              "      <td>1.000000</td>\n",
              "    </tr>\n",
              "    <tr>\n",
              "      <th>75%</th>\n",
              "      <td>4580.250000</td>\n",
              "      <td>1.000000</td>\n",
              "      <td>1.000000</td>\n",
              "      <td>0.000000</td>\n",
              "      <td>1.000000</td>\n",
              "      <td>1.000000</td>\n",
              "      <td>0.000000</td>\n",
              "      <td>1.000000</td>\n",
              "      <td>1.000000</td>\n",
              "      <td>0.000000</td>\n",
              "      <td>...</td>\n",
              "      <td>4.000000</td>\n",
              "      <td>3.000000</td>\n",
              "      <td>4.000000</td>\n",
              "      <td>3.000000</td>\n",
              "      <td>3.000000</td>\n",
              "      <td>3.000000</td>\n",
              "      <td>3.000000</td>\n",
              "      <td>3.000000</td>\n",
              "      <td>3.000000</td>\n",
              "      <td>2.000000</td>\n",
              "    </tr>\n",
              "    <tr>\n",
              "      <th>max</th>\n",
              "      <td>6107.000000</td>\n",
              "      <td>1.000000</td>\n",
              "      <td>1.000000</td>\n",
              "      <td>1.000000</td>\n",
              "      <td>1.000000</td>\n",
              "      <td>1.000000</td>\n",
              "      <td>1.000000</td>\n",
              "      <td>1.000000</td>\n",
              "      <td>1.000000</td>\n",
              "      <td>1.000000</td>\n",
              "      <td>...</td>\n",
              "      <td>5.000000</td>\n",
              "      <td>5.000000</td>\n",
              "      <td>5.000000</td>\n",
              "      <td>5.000000</td>\n",
              "      <td>5.000000</td>\n",
              "      <td>5.000000</td>\n",
              "      <td>5.000000</td>\n",
              "      <td>5.000000</td>\n",
              "      <td>5.000000</td>\n",
              "      <td>3.000000</td>\n",
              "    </tr>\n",
              "  </tbody>\n",
              "</table>\n",
              "<p>8 rows × 76 columns</p>\n",
              "</div>\n",
              "    <div class=\"colab-df-buttons\">\n",
              "\n",
              "  <div class=\"colab-df-container\">\n",
              "    <button class=\"colab-df-convert\" onclick=\"convertToInteractive('df-c1319fa5-c455-4a52-8b2c-b247a05d6c74')\"\n",
              "            title=\"Convert this dataframe to an interactive table.\"\n",
              "            style=\"display:none;\">\n",
              "\n",
              "  <svg xmlns=\"http://www.w3.org/2000/svg\" height=\"24px\" viewBox=\"0 -960 960 960\">\n",
              "    <path d=\"M120-120v-720h720v720H120Zm60-500h600v-160H180v160Zm220 220h160v-160H400v160Zm0 220h160v-160H400v160ZM180-400h160v-160H180v160Zm440 0h160v-160H620v160ZM180-180h160v-160H180v160Zm440 0h160v-160H620v160Z\"/>\n",
              "  </svg>\n",
              "    </button>\n",
              "\n",
              "  <style>\n",
              "    .colab-df-container {\n",
              "      display:flex;\n",
              "      gap: 12px;\n",
              "    }\n",
              "\n",
              "    .colab-df-convert {\n",
              "      background-color: #E8F0FE;\n",
              "      border: none;\n",
              "      border-radius: 50%;\n",
              "      cursor: pointer;\n",
              "      display: none;\n",
              "      fill: #1967D2;\n",
              "      height: 32px;\n",
              "      padding: 0 0 0 0;\n",
              "      width: 32px;\n",
              "    }\n",
              "\n",
              "    .colab-df-convert:hover {\n",
              "      background-color: #E2EBFA;\n",
              "      box-shadow: 0px 1px 2px rgba(60, 64, 67, 0.3), 0px 1px 3px 1px rgba(60, 64, 67, 0.15);\n",
              "      fill: #174EA6;\n",
              "    }\n",
              "\n",
              "    .colab-df-buttons div {\n",
              "      margin-bottom: 4px;\n",
              "    }\n",
              "\n",
              "    [theme=dark] .colab-df-convert {\n",
              "      background-color: #3B4455;\n",
              "      fill: #D2E3FC;\n",
              "    }\n",
              "\n",
              "    [theme=dark] .colab-df-convert:hover {\n",
              "      background-color: #434B5C;\n",
              "      box-shadow: 0px 1px 3px 1px rgba(0, 0, 0, 0.15);\n",
              "      filter: drop-shadow(0px 1px 2px rgba(0, 0, 0, 0.3));\n",
              "      fill: #FFFFFF;\n",
              "    }\n",
              "  </style>\n",
              "\n",
              "    <script>\n",
              "      const buttonEl =\n",
              "        document.querySelector('#df-c1319fa5-c455-4a52-8b2c-b247a05d6c74 button.colab-df-convert');\n",
              "      buttonEl.style.display =\n",
              "        google.colab.kernel.accessAllowed ? 'block' : 'none';\n",
              "\n",
              "      async function convertToInteractive(key) {\n",
              "        const element = document.querySelector('#df-c1319fa5-c455-4a52-8b2c-b247a05d6c74');\n",
              "        const dataTable =\n",
              "          await google.colab.kernel.invokeFunction('convertToInteractive',\n",
              "                                                    [key], {});\n",
              "        if (!dataTable) return;\n",
              "\n",
              "        const docLinkHtml = 'Like what you see? Visit the ' +\n",
              "          '<a target=\"_blank\" href=https://colab.research.google.com/notebooks/data_table.ipynb>data table notebook</a>'\n",
              "          + ' to learn more about interactive tables.';\n",
              "        element.innerHTML = '';\n",
              "        dataTable['output_type'] = 'display_data';\n",
              "        await google.colab.output.renderOutput(dataTable, element);\n",
              "        const docLink = document.createElement('div');\n",
              "        docLink.innerHTML = docLinkHtml;\n",
              "        element.appendChild(docLink);\n",
              "      }\n",
              "    </script>\n",
              "  </div>\n",
              "\n",
              "\n",
              "<div id=\"df-4fcdb1d9-9d1e-4c25-82e1-b1dd38dbaf0a\">\n",
              "  <button class=\"colab-df-quickchart\" onclick=\"quickchart('df-4fcdb1d9-9d1e-4c25-82e1-b1dd38dbaf0a')\"\n",
              "            title=\"Suggest charts\"\n",
              "            style=\"display:none;\">\n",
              "\n",
              "<svg xmlns=\"http://www.w3.org/2000/svg\" height=\"24px\"viewBox=\"0 0 24 24\"\n",
              "     width=\"24px\">\n",
              "    <g>\n",
              "        <path d=\"M19 3H5c-1.1 0-2 .9-2 2v14c0 1.1.9 2 2 2h14c1.1 0 2-.9 2-2V5c0-1.1-.9-2-2-2zM9 17H7v-7h2v7zm4 0h-2V7h2v10zm4 0h-2v-4h2v4z\"/>\n",
              "    </g>\n",
              "</svg>\n",
              "  </button>\n",
              "\n",
              "<style>\n",
              "  .colab-df-quickchart {\n",
              "      --bg-color: #E8F0FE;\n",
              "      --fill-color: #1967D2;\n",
              "      --hover-bg-color: #E2EBFA;\n",
              "      --hover-fill-color: #174EA6;\n",
              "      --disabled-fill-color: #AAA;\n",
              "      --disabled-bg-color: #DDD;\n",
              "  }\n",
              "\n",
              "  [theme=dark] .colab-df-quickchart {\n",
              "      --bg-color: #3B4455;\n",
              "      --fill-color: #D2E3FC;\n",
              "      --hover-bg-color: #434B5C;\n",
              "      --hover-fill-color: #FFFFFF;\n",
              "      --disabled-bg-color: #3B4455;\n",
              "      --disabled-fill-color: #666;\n",
              "  }\n",
              "\n",
              "  .colab-df-quickchart {\n",
              "    background-color: var(--bg-color);\n",
              "    border: none;\n",
              "    border-radius: 50%;\n",
              "    cursor: pointer;\n",
              "    display: none;\n",
              "    fill: var(--fill-color);\n",
              "    height: 32px;\n",
              "    padding: 0;\n",
              "    width: 32px;\n",
              "  }\n",
              "\n",
              "  .colab-df-quickchart:hover {\n",
              "    background-color: var(--hover-bg-color);\n",
              "    box-shadow: 0 1px 2px rgba(60, 64, 67, 0.3), 0 1px 3px 1px rgba(60, 64, 67, 0.15);\n",
              "    fill: var(--button-hover-fill-color);\n",
              "  }\n",
              "\n",
              "  .colab-df-quickchart-complete:disabled,\n",
              "  .colab-df-quickchart-complete:disabled:hover {\n",
              "    background-color: var(--disabled-bg-color);\n",
              "    fill: var(--disabled-fill-color);\n",
              "    box-shadow: none;\n",
              "  }\n",
              "\n",
              "  .colab-df-spinner {\n",
              "    border: 2px solid var(--fill-color);\n",
              "    border-color: transparent;\n",
              "    border-bottom-color: var(--fill-color);\n",
              "    animation:\n",
              "      spin 1s steps(1) infinite;\n",
              "  }\n",
              "\n",
              "  @keyframes spin {\n",
              "    0% {\n",
              "      border-color: transparent;\n",
              "      border-bottom-color: var(--fill-color);\n",
              "      border-left-color: var(--fill-color);\n",
              "    }\n",
              "    20% {\n",
              "      border-color: transparent;\n",
              "      border-left-color: var(--fill-color);\n",
              "      border-top-color: var(--fill-color);\n",
              "    }\n",
              "    30% {\n",
              "      border-color: transparent;\n",
              "      border-left-color: var(--fill-color);\n",
              "      border-top-color: var(--fill-color);\n",
              "      border-right-color: var(--fill-color);\n",
              "    }\n",
              "    40% {\n",
              "      border-color: transparent;\n",
              "      border-right-color: var(--fill-color);\n",
              "      border-top-color: var(--fill-color);\n",
              "    }\n",
              "    60% {\n",
              "      border-color: transparent;\n",
              "      border-right-color: var(--fill-color);\n",
              "    }\n",
              "    80% {\n",
              "      border-color: transparent;\n",
              "      border-right-color: var(--fill-color);\n",
              "      border-bottom-color: var(--fill-color);\n",
              "    }\n",
              "    90% {\n",
              "      border-color: transparent;\n",
              "      border-bottom-color: var(--fill-color);\n",
              "    }\n",
              "  }\n",
              "</style>\n",
              "\n",
              "  <script>\n",
              "    async function quickchart(key) {\n",
              "      const quickchartButtonEl =\n",
              "        document.querySelector('#' + key + ' button');\n",
              "      quickchartButtonEl.disabled = true;  // To prevent multiple clicks.\n",
              "      quickchartButtonEl.classList.add('colab-df-spinner');\n",
              "      try {\n",
              "        const charts = await google.colab.kernel.invokeFunction(\n",
              "            'suggestCharts', [key], {});\n",
              "      } catch (error) {\n",
              "        console.error('Error during call to suggestCharts:', error);\n",
              "      }\n",
              "      quickchartButtonEl.classList.remove('colab-df-spinner');\n",
              "      quickchartButtonEl.classList.add('colab-df-quickchart-complete');\n",
              "    }\n",
              "    (() => {\n",
              "      let quickchartButtonEl =\n",
              "        document.querySelector('#df-4fcdb1d9-9d1e-4c25-82e1-b1dd38dbaf0a button');\n",
              "      quickchartButtonEl.style.display =\n",
              "        google.colab.kernel.accessAllowed ? 'block' : 'none';\n",
              "    })();\n",
              "  </script>\n",
              "</div>\n",
              "\n",
              "    </div>\n",
              "  </div>\n"
            ]
          },
          "metadata": {},
          "execution_count": 23
        }
      ],
      "source": [
        "questionToMode_df.describe()"
      ]
    },
    {
      "cell_type": "markdown",
      "metadata": {
        "id": "1jNYqpObQWZR"
      },
      "source": [
        "### Showing Outliers\n"
      ]
    },
    {
      "cell_type": "code",
      "execution_count": null,
      "metadata": {
        "colab": {
          "base_uri": "https://localhost:8080/",
          "height": 472
        },
        "id": "WZGJjlIVQjb7",
        "outputId": "597af7d4-e8e4-48e4-f2f4-cc73c993e5d5"
      },
      "outputs": [
        {
          "output_type": "display_data",
          "data": {
            "text/plain": [
              "<Figure size 640x480 with 1 Axes>"
            ],
            "image/png": "[encoded data removed]"
          },
          "metadata": {}
        }
      ],
      "source": [
        "import seaborn as sns\n",
        "import matplotlib.pyplot as plt\n",
        "\n",
        "colName = 'Q21'\n",
        "\n",
        "# Box plot çizimi\n",
        "sns.boxplot(x=questionToMode_df[colName])\n",
        "plt.title(f'Box Plot of {colName}')\n",
        "plt.show()"
      ]
    },
    {
      "cell_type": "markdown",
      "source": [
        "##Visualization"
      ],
      "metadata": {
        "id": "pI79FRwS4T37"
      }
    },
    {
      "cell_type": "code",
      "source": [
        "import matplotlib.pyplot as plt\n",
        "import seaborn as sns\n",
        "\n",
        "def Visualize(columnName):\n",
        "  plt.figure(figsize=(8, 4))\n",
        "  sns.countplot(x=columnName, data=questionToMode_df)\n",
        "  plt.title('Features')\n",
        "  plt.show()\n"
      ],
      "metadata": {
        "id": "hXO0EuKf4WrH"
      },
      "execution_count": null,
      "outputs": []
    },
    {
      "cell_type": "code",
      "source": [
        "import numpy as np\n",
        "for i in range(1,3):\n",
        "  feature_names=questionToMode_df.columns\n",
        "  selected_feature = np.random.choice(feature_names)\n",
        "  Visualize(selected_feature)"
      ],
      "metadata": {
        "colab": {
          "base_uri": "https://localhost:8080/",
          "height": 803
        },
        "id": "IqPSOdZ_4cOo",
        "outputId": "47c67219-a9e7-4b32-d337-b954f2d3e048"
      },
      "execution_count": null,
      "outputs": [
        {
          "output_type": "display_data",
          "data": {
            "text/plain": [
              "<Figure size 800x400 with 1 Axes>"
            ],
            "image/png": "[encoded data removed]"
          },
          "metadata": {}
        },
        {
          "output_type": "display_data",
          "data": {
            "text/plain": [
              "<Figure size 800x400 with 1 Axes>"
            ],
            "image/png": "[encoded data removed]"
          },
          "metadata": {}
        }
      ]
    },
    {
      "cell_type": "markdown",
      "metadata": {
        "id": "MJwlLVaXMJgU"
      },
      "source": [
        "## Normalization"
      ]
    },
    {
      "cell_type": "markdown",
      "metadata": {
        "id": "MmgEjjpXPHWu"
      },
      "source": [
        "### MinMaxScaler scaling the data to a specific range (usually [0, 1]) ensures that all features are kept on the same scale."
      ]
    },
    {
      "cell_type": "code",
      "execution_count": null,
      "metadata": {
        "id": "M091jEdaMN5R"
      },
      "outputs": [],
      "source": [
        "from sklearn.preprocessing import MinMaxScaler\n",
        "def MinMaxScaling(df):\n",
        "    scaledDataFrame_minmax=df.copy()\n",
        "    scaledForm = scaledDataFrame_minmax.iloc[:, scaledDataFrame_minmax.columns.get_loc('Q15'):-1]\n",
        "    scaler = MinMaxScaler()\n",
        "    scaledDataFrame_minmax.iloc[:, scaledDataFrame_minmax.columns.get_loc('Q15'):-1] = scaler.fit_transform(scaledForm)\n",
        "    X_minmax, y_minmax = scaledDataFrame_minmax.iloc[:, :-1], scaledDataFrame_minmax.iloc[:, -1:]\n",
        "    return ({\"X\": X_minmax,\n",
        "            \"y\": y_minmax,\n",
        "            \"df\": scaledDataFrame_minmax})"
      ]
    },
    {
      "cell_type": "code",
      "execution_count": null,
      "metadata": {
        "colab": {
          "base_uri": "https://localhost:8080/"
        },
        "id": "obq3cMhoN2Q2",
        "outputId": "2adad53c-5db3-40b7-eaaa-6ca4e2dfb7a1"
      },
      "outputs": [
        {
          "output_type": "stream",
          "name": "stderr",
          "text": [
            "<ipython-input-25-323a2d4c0702>:6: DeprecationWarning: In a future version, `df.iloc[:, i] = newvals` will attempt to set the values inplace instead of always setting a new array. To retain the old behavior, use either `df[df.columns[i]] = newvals` or, if columns are non-unique, `df.isetitem(i, newvals)`\n",
            "  scaledDataFrame_minmax.iloc[:, scaledDataFrame_minmax.columns.get_loc('Q15'):-1] = scaler.fit_transform(scaledForm)\n"
          ]
        },
        {
          "output_type": "execute_result",
          "data": {
            "text/plain": [
              "<bound method NDFrame.describe of       Unnamed: 0  Q11_1  Q11_2  Q11_3  Q11_4  Q11_5  Q11_6  Q11_7  Q11_8  \\\n",
              "0              0      0      0      0      1      1      0      0      1   \n",
              "1              1      1      0      0      1      0      0      1      0   \n",
              "2              2      1      1      0      1      0      0      1      1   \n",
              "3              3      0      0      0      0      0      0      0      0   \n",
              "4              4      1      1      0      1      0      0      1      1   \n",
              "...          ...    ...    ...    ...    ...    ...    ...    ...    ...   \n",
              "6103        6103      0      1      0      0      0      0      1      1   \n",
              "6104        6104      0      1      0      1      0      0      0      1   \n",
              "6105        6105      1      0      1      0      0      0      0      0   \n",
              "6106        6106      0      0      1      0      0      0      0      1   \n",
              "6107        6107      1      0      0      1      0      0      0      1   \n",
              "\n",
              "      Q11_9  ...  Q18_17  Q18_18  Q18_19  Q18_20  Q18_21  Q18_22  Q18_23  \\\n",
              "0         0  ...    1.00    1.00    1.00    1.00    1.00    1.00    1.00   \n",
              "1         0  ...    0.75    0.25    0.75    0.25    0.25    0.25    0.25   \n",
              "2         0  ...    0.75    0.75    0.50    0.25    0.75    0.25    0.75   \n",
              "3         0  ...    0.50    0.25    0.50    0.25    0.50    0.25    0.50   \n",
              "4         0  ...    0.50    0.25    0.00    0.00    0.50    0.25    0.50   \n",
              "...     ...  ...     ...     ...     ...     ...     ...     ...     ...   \n",
              "6103      1  ...    0.25    0.25    0.50    0.50    0.25    0.00    0.00   \n",
              "6104      0  ...    0.50    0.25    0.50    0.25    0.50    0.25    0.50   \n",
              "6105      0  ...    0.75    0.00    1.00    0.75    1.00    0.75    1.00   \n",
              "6106      0  ...    0.00    0.50    0.75    1.00    0.50    0.25    0.50   \n",
              "6107      0  ...    0.50    0.50    0.50    0.50    0.50    0.50    0.50   \n",
              "\n",
              "       Q20   Q21  Q16  \n",
              "0     0.50  0.50    0  \n",
              "1     0.50  0.50    3  \n",
              "2     0.75  0.00    0  \n",
              "3     0.50  0.50    2  \n",
              "4     0.50  0.50    3  \n",
              "...    ...   ...  ...  \n",
              "6103  0.00  0.50    1  \n",
              "6104  0.50  0.50    0  \n",
              "6105  1.00  0.25    0  \n",
              "6106  0.25  0.50    0  \n",
              "6107  0.50  0.50    3  \n",
              "\n",
              "[6108 rows x 76 columns]>"
            ]
          },
          "metadata": {},
          "execution_count": 26
        }
      ],
      "source": [
        "min_max_scaled_items = MinMaxScaling(questionToMode_df)\n",
        "min_max_scaled_items['df'].describe"
      ]
    },
    {
      "cell_type": "markdown",
      "metadata": {
        "id": "0pmxtl2qPPKL"
      },
      "source": [
        "### StandartScaler transforming the data into a standard normal distribution makes the features comparable with each other"
      ]
    },
    {
      "cell_type": "code",
      "execution_count": null,
      "metadata": {
        "id": "S2tvHTTwN9yT"
      },
      "outputs": [],
      "source": [
        "from sklearn.preprocessing import StandardScaler\n",
        "def StandardScaling(df):\n",
        "    scaledDataFrame_stc=df.copy()\n",
        "    scaledForm = scaledDataFrame_stc.iloc[:, scaledDataFrame_stc.columns.get_loc('Q15'):-1]\n",
        "    scaler = StandardScaler()\n",
        "    scaledDataFrame_stc.iloc[:, scaledDataFrame_stc.columns.get_loc('Q15'):-1] = scaler.fit_transform(scaledForm)\n",
        "    X_stc, y_stc = scaledDataFrame_stc.iloc[:, :-1], scaledDataFrame_stc.iloc[:, -1:]\n",
        "    return ({\"X\": X_stc,\n",
        "            \"y\": y_stc,\n",
        "            \"df\": scaledDataFrame_stc})"
      ]
    },
    {
      "cell_type": "code",
      "execution_count": null,
      "metadata": {
        "colab": {
          "base_uri": "https://localhost:8080/"
        },
        "id": "Q3POFrQ9OSp3",
        "outputId": "2101723e-ff54-4a6c-8c78-c648e84b4e4e"
      },
      "outputs": [
        {
          "output_type": "execute_result",
          "data": {
            "text/plain": [
              "<bound method NDFrame.describe of       Unnamed: 0  Q11_1  Q11_2  Q11_3  Q11_4  Q11_5  Q11_6  Q11_7  Q11_8  \\\n",
              "0              0      0      0      0      1      1      0      0      1   \n",
              "1              1      1      0      0      1      0      0      1      0   \n",
              "2              2      1      1      0      1      0      0      1      1   \n",
              "3              3      0      0      0      0      0      0      0      0   \n",
              "4              4      1      1      0      1      0      0      1      1   \n",
              "...          ...    ...    ...    ...    ...    ...    ...    ...    ...   \n",
              "6103        6103      0      1      0      0      0      0      1      1   \n",
              "6104        6104      0      1      0      1      0      0      0      1   \n",
              "6105        6105      1      0      1      0      0      0      0      0   \n",
              "6106        6106      0      0      1      0      0      0      0      1   \n",
              "6107        6107      1      0      0      1      0      0      0      1   \n",
              "\n",
              "      Q11_9  ...    Q18_17    Q18_18    Q18_19    Q18_20    Q18_21    Q18_22  \\\n",
              "0         0  ...  1.939626  2.975847  2.015646  2.643431  2.299213  2.852731   \n",
              "1         0  ...  0.952932 -0.213194  0.984095 -0.265772 -0.929694 -0.377015   \n",
              "2         0  ...  0.952932  1.912833 -0.047457 -0.265772  1.222911 -0.377015   \n",
              "3         0  ... -0.033762 -0.213194 -0.047457 -0.265772  0.146608 -0.377015   \n",
              "4         0  ... -0.033762 -0.213194 -2.110559 -1.235507  0.146608 -0.377015   \n",
              "...     ...  ...       ...       ...       ...       ...       ...       ...   \n",
              "6103      1  ... -1.020456 -0.213194 -0.047457  0.703962 -0.929694 -1.453597   \n",
              "6104      0  ... -0.033762 -0.213194 -0.047457 -0.265772  0.146608 -0.377015   \n",
              "6105      0  ...  0.952932 -1.276208  2.015646  1.673697  2.299213  1.776149   \n",
              "6106      0  ... -2.007150  0.849819  0.984095  2.643431  0.146608 -0.377015   \n",
              "6107      0  ... -0.033762  0.849819 -0.047457  0.703962  0.146608  0.699567   \n",
              "\n",
              "        Q18_23       Q20       Q21  Q16  \n",
              "0     2.506751  0.159205  0.483085    0  \n",
              "1    -0.643493  0.159205  0.483085    3  \n",
              "2     1.456670  1.391680 -1.912922    0  \n",
              "3     0.406588  0.159205  0.483085    2  \n",
              "4     0.406588  0.159205  0.483085    3  \n",
              "...        ...       ...       ...  ...  \n",
              "6103 -1.693574 -2.305745  0.483085    1  \n",
              "6104  0.406588  0.159205  0.483085    0  \n",
              "6105  2.506751  2.624155 -0.714919    0  \n",
              "6106  0.406588 -1.073270  0.483085    0  \n",
              "6107  0.406588  0.159205  0.483085    3  \n",
              "\n",
              "[6108 rows x 76 columns]>"
            ]
          },
          "metadata": {},
          "execution_count": 28
        }
      ],
      "source": [
        "stc_scaled_items = StandardScaling(questionToMode_df)\n",
        "stc_scaled_items['df'].describe"
      ]
    },
    {
      "cell_type": "markdown",
      "metadata": {
        "id": "zuMeSnqWO5hX"
      },
      "source": [
        "### RobustScaler resistant to outlier values, this is a scaling method. Scaling is done using the median and IQR"
      ]
    },
    {
      "cell_type": "code",
      "execution_count": null,
      "metadata": {
        "id": "Cu4DnaEGOl0R"
      },
      "outputs": [],
      "source": [
        "from sklearn.preprocessing import RobustScaler\n",
        "\n",
        "def StandardScaling(df):\n",
        "    scaledDataFrame_robust=df.copy()\n",
        "    scaledForm = scaledDataFrame_robust.iloc[scaledDataFrame_robust.columns.get_loc('Q15'):, :-1]\n",
        "    scaler = RobustScaler()\n",
        "    scaledDataFrame_robust.iloc[scaledDataFrame_robust.columns.get_loc('Q15'):, :-1]  = scaler.fit_transform(scaledForm)\n",
        "    X_robust, y_robust = scaledDataFrame_robust.iloc[:, :-1], scaledDataFrame_robust.iloc[:, -1:]\n",
        "    return ({\"X\": X_robust,\n",
        "            \"y\": y_robust,\n",
        "            \"df\": scaledDataFrame_robust})"
      ]
    },
    {
      "cell_type": "code",
      "execution_count": null,
      "metadata": {
        "colab": {
          "base_uri": "https://localhost:8080/"
        },
        "id": "qPxswWw4OuIK",
        "outputId": "e7e0b140-841c-430d-95ef-37b63608a1f8"
      },
      "outputs": [
        {
          "output_type": "execute_result",
          "data": {
            "text/plain": [
              "<bound method NDFrame.describe of       Unnamed: 0  Q11_1  Q11_2  Q11_3  Q11_4  Q11_5  Q11_6  Q11_7  Q11_8  \\\n",
              "0        0.00000    0.0    0.0    0.0    1.0    1.0    0.0    0.0    1.0   \n",
              "1        1.00000    1.0    0.0    0.0    1.0    0.0    0.0    1.0    0.0   \n",
              "2        2.00000    1.0    1.0    0.0    1.0    0.0    0.0    1.0    1.0   \n",
              "3        3.00000    0.0    0.0    0.0    0.0    0.0    0.0    0.0    0.0   \n",
              "4        4.00000    1.0    1.0    0.0    1.0    0.0    0.0    1.0    1.0   \n",
              "...          ...    ...    ...    ...    ...    ...    ...    ...    ...   \n",
              "6103     0.99868    0.0    1.0    0.0   -1.0    0.0    0.0    1.0    1.0   \n",
              "6104     0.99901    0.0    1.0    0.0    0.0    0.0    0.0    0.0    1.0   \n",
              "6105     0.99934    1.0    0.0    1.0   -1.0    0.0    0.0    0.0    0.0   \n",
              "6106     0.99967    0.0    0.0    1.0   -1.0    0.0    0.0    0.0    1.0   \n",
              "6107     1.00000    1.0    0.0    0.0    0.0    0.0    0.0    0.0    1.0   \n",
              "\n",
              "      Q11_9  ...  Q18_17  Q18_18  Q18_19  Q18_20  Q18_21  Q18_22  Q18_23  Q20  \\\n",
              "0       0.0  ...     5.0     5.0     5.0     5.0     5.0     5.0     5.0  3.0   \n",
              "1       0.0  ...     4.0     2.0     4.0     2.0     2.0     2.0     2.0  3.0   \n",
              "2       0.0  ...     4.0     4.0     3.0     2.0     4.0     2.0     4.0  4.0   \n",
              "3       0.0  ...     3.0     2.0     3.0     2.0     3.0     2.0     3.0  3.0   \n",
              "4       0.0  ...     3.0     2.0     1.0     1.0     3.0     2.0     3.0  3.0   \n",
              "...     ...  ...     ...     ...     ...     ...     ...     ...     ...  ...   \n",
              "6103    1.0  ...    -0.5     0.0     0.0     1.0    -1.0    -1.0    -2.0 -2.0   \n",
              "6104    0.0  ...     0.0     0.0     0.0     0.0     0.0     0.0     0.0  0.0   \n",
              "6105    0.0  ...     0.5    -1.0     2.0     2.0     2.0     2.0     2.0  2.0   \n",
              "6106    0.0  ...    -1.0     1.0     1.0     3.0     0.0     0.0     0.0 -1.0   \n",
              "6107    0.0  ...     0.0     1.0     0.0     1.0     0.0     1.0     0.0  0.0   \n",
              "\n",
              "      Q21  Q16  \n",
              "0     3.0    0  \n",
              "1     3.0    3  \n",
              "2     1.0    0  \n",
              "3     3.0    2  \n",
              "4     3.0    3  \n",
              "...   ...  ...  \n",
              "6103  0.0    1  \n",
              "6104  0.0    0  \n",
              "6105 -1.0    0  \n",
              "6106  0.0    0  \n",
              "6107  0.0    3  \n",
              "\n",
              "[6108 rows x 76 columns]>"
            ]
          },
          "metadata": {},
          "execution_count": 30
        }
      ],
      "source": [
        "robust_scaled_items = StandardScaling(questionToMode_df)\n",
        "robust_scaled_items['df'].describe"
      ]
    },
    {
      "cell_type": "markdown",
      "metadata": {
        "id": "-OapTP6NWQAO"
      },
      "source": [
        "### Save Results To The Txt For Later Using"
      ]
    },
    {
      "cell_type": "code",
      "execution_count": null,
      "metadata": {
        "id": "TSlVncZ-WQAO"
      },
      "outputs": [],
      "source": [
        "def SaveResults(result, txt_name):\n",
        "    with open(txt_name, 'a') as file:\n",
        "        file.write(str(result) + '\\n')"
      ]
    },
    {
      "cell_type": "markdown",
      "metadata": {
        "id": "DOSnO-SeWQAP"
      },
      "source": [
        "## Feature Selection"
      ]
    },
    {
      "cell_type": "markdown",
      "metadata": {
        "id": "Q7UFFAd5WQAP"
      },
      "source": [
        "### Train-Test Split Method"
      ]
    },
    {
      "cell_type": "code",
      "execution_count": null,
      "metadata": {
        "id": "JEpzyzK0WQAP"
      },
      "outputs": [],
      "source": [
        "from sklearn.model_selection import train_test_split\n",
        "def train_test_split_modified(df, test_size_input = 0.25, randdom_state_input = 0 ):\n",
        "    X, y = df.iloc[:, :-1], df.iloc[:, -1:]\n",
        "    x_train, x_test, y_train, y_test = train_test_split(X, y, test_size = test_size_input, random_state = randdom_state_input)\n",
        "    return x_train, x_test, y_train, y_test"
      ]
    },
    {
      "cell_type": "markdown",
      "metadata": {
        "id": "_w4sHas7WQAP"
      },
      "source": [
        "### RFE Feature Elimination Method"
      ]
    },
    {
      "cell_type": "code",
      "execution_count": null,
      "metadata": {
        "id": "VIs1L6oPWQAP"
      },
      "outputs": [],
      "source": [
        "from sklearn.feature_selection import RFE\n",
        "from sklearn import tree\n",
        "\n",
        "def RFEFeatureElimination(df, X, y, n_features_to_select, step = 1):\n",
        "    rfe_df = df.copy()\n",
        "    dropped_columns = []\n",
        "    estimator = tree.DecisionTreeClassifier()\n",
        "    selector = RFE(estimator = estimator, n_features_to_select = n_features_to_select, step = 1)\n",
        "    selector = selector.fit(X, y)\n",
        "\n",
        "    for i, value in enumerate(selector.support_, start=1):\n",
        "        #print(len(selector.support_))\n",
        "        #print(selector.ranking_)\n",
        "        if(value == False) and rfe_df.columns[i] != 'Q16':\n",
        "            dropped_columns.append(rfe_df.columns[i])\n",
        "\n",
        "    rfe_df = rfe_df.drop(dropped_columns, axis = 1)\n",
        "    return rfe_df"
      ]
    },
    {
      "cell_type": "markdown",
      "source": [
        "#ML and DL Algotihms"
      ],
      "metadata": {
        "id": "U14zVlzswqBU"
      }
    },
    {
      "cell_type": "markdown",
      "metadata": {
        "id": "dW0jDJ0hWQAP"
      },
      "source": [
        "### KNN Classification Algorithm Method"
      ]
    },
    {
      "cell_type": "code",
      "execution_count": null,
      "metadata": {
        "id": "6m4dNXtRWQAP"
      },
      "outputs": [],
      "source": [
        "from sklearn.neighbors import KNeighborsClassifier\n",
        "from sklearn.metrics import accuracy_score\n",
        "from sklearn.metrics import confusion_matrix\n",
        "\n",
        "def KNN(x_train, x_test, y_train, y_test):\n",
        "    knn_params = {\"cosine\", \"euclidean\", \"manhattan\", \"nan_euclidean\"}\n",
        "    best_accuracy_knn = 0\n",
        "    best_metric = \"\"\n",
        "    best_neighbor_count = 0\n",
        "    max_neighbour = 50\n",
        "    for i in range(1,max_neighbour):\n",
        "        for param in knn_params:\n",
        "            knn = KNeighborsClassifier(n_neighbors=i, metric = param, weights = \"distance\")\n",
        "            knn.fit(x_train, y_train)\n",
        "            y_pred = knn.predict(x_test)\n",
        "            if accuracy_score(y_test, y_pred) < 1 and best_accuracy_knn < accuracy_score(y_test, y_pred) :\n",
        "                best_accuracy_knn, best_neighbor_count, best_metric = accuracy_score(y_test, y_pred), i, param\n",
        "\n",
        "    print(f\"Best accuracy is = {best_accuracy_knn}, with {best_neighbor_count} n_neighbors, {best_metric} metrics and fetaure len = {len(x_train.columns)}\")\n",
        "    #knn = KNeighborsClassifier(n_neighbors=best_neighbor_count, metric = best_metric, weights = \"distance\")\n",
        "    #knn.fit(x_train, y_train)\n",
        "    #y_pred = knn.predict(x_test)\n",
        "    #print(confusion_matrix(y_test,y_pred))\n",
        "    return {\"Accuracy\": best_accuracy_knn,\n",
        "            \"Model_Name\": \"KNN\",\n",
        "            \"HyperParameters\": f\"n_neighbor:{best_neighbor_count}, metric:{best_metric}, n_feature:{len(x_train.columns)}\"}"
      ]
    },
    {
      "cell_type": "markdown",
      "metadata": {
        "id": "dmojFRPSWQAQ"
      },
      "source": [
        "### Random Forest Classifier Method"
      ]
    },
    {
      "cell_type": "code",
      "execution_count": null,
      "metadata": {
        "id": "lsz1N09sWQAQ"
      },
      "outputs": [],
      "source": [
        "from sklearn.ensemble import RandomForestClassifier\n",
        "from sklearn.datasets import make_classification\n",
        "\n",
        "# TODO Hyper Parameters Trying will be added with loop\n",
        "def RandomForest(x_train, x_test, y_train, y_test):\n",
        "    criterions = {\"gini\", \"entropy\"}\n",
        "    best_accuracy = 0\n",
        "    best_criterion = \"\"\n",
        "    best_depth = 0,\n",
        "    best_n_estimators = 0 #The number of trees in the forest\n",
        "    for criterion_changer in criterions:\n",
        "        for max_depth_changer in [None,5,10,15,20,25,30,35,40,45,50,55,60,65,70]:\n",
        "            RandomForestClf = RandomForestClassifier(criterion= criterion_changer, max_depth=max_depth_changer, random_state=1)\n",
        "            RandomForestClf.fit(x_train, y_train)\n",
        "            y_pred = RandomForestClf.predict(x_test)\n",
        "            accuracy = accuracy_score(y_test, y_pred)\n",
        "            if(accuracy > best_accuracy):\n",
        "                best_accuracy, best_criterion, best_depth = accuracy, criterion_changer, max_depth_changer\n",
        "\n",
        "    print(f\"Best accuracy is = {best_accuracy}, with criterion = {best_criterion} max_depth = {best_depth} metrics and fetaure len = {len(x_train.columns)}\")\n",
        "    return {\"Accuracy\": accuracy,\n",
        "            \"Model_Name\": \"RandomForest\",\n",
        "            \"HyperParameters\": f\"best_criterion: {best_criterion}, max_depth:{best_depth}\"}"
      ]
    },
    {
      "cell_type": "markdown",
      "source": [
        "###SVM\n"
      ],
      "metadata": {
        "id": "8z6tObWSW01F"
      }
    },
    {
      "cell_type": "code",
      "source": [
        "from sklearn import svm\n",
        "\n",
        "def NonlinearSVM(x_train, x_test, y_train, y_test):\n",
        "    best_accuracy = 0\n",
        "    functionsForSVM={\"rbf\",\"sigmoid\"}\n",
        "    best_function=\"\"\n",
        "\n",
        "    for function in functionsForSVM:\n",
        "      model = svm.SVC(kernel=function)\n",
        "      model.fit(x_train, y_train)\n",
        "      y_pred = model.predict(x_test)\n",
        "      accuracy = accuracy_score(y_test, y_pred)\n",
        "      if(accuracy > best_accuracy):\n",
        "        best_accuracy=accuracy\n",
        "        best_function=function\n",
        "\n",
        "    print(f\"Best accuracy is = {best_accuracy}, with function = {best_function}\")\n",
        "    return  {\"Accuracy\": accuracy,\n",
        "            \"Model_Name\": \"SVM\",\n",
        "            \"HyperParameters\": f\"best_function: {best_function}\"}\n",
        "\n"
      ],
      "metadata": {
        "id": "x4MqbpAaW3tO"
      },
      "execution_count": null,
      "outputs": []
    },
    {
      "cell_type": "markdown",
      "source": [
        "##Naive Bayes"
      ],
      "metadata": {
        "id": "o1oit3UQa5ZO"
      }
    },
    {
      "cell_type": "code",
      "source": [
        "from sklearn.naive_bayes import MultinomialNB\n",
        "\n",
        "def MultinomialNaiveBayes(x_train, x_test, y_train, y_test):\n",
        "    best_accuracy = 0\n",
        "    best_alpha = 0\n",
        "    alphas = [0.2, 0.3, 0.5]\n",
        "\n",
        "    for alpha in alphas:\n",
        "        model = MultinomialNB(alpha=alpha)\n",
        "        model.fit(x_train, y_train)\n",
        "        y_pred = model.predict(x_test)\n",
        "        accuracy = accuracy_score(y_test, y_pred)\n",
        "\n",
        "        if accuracy > best_accuracy:\n",
        "            best_accuracy = accuracy\n",
        "            best_alpha = alpha\n",
        "\n",
        "    print(f\"Best accuracy is = {best_accuracy}, with alpha = {best_alpha}\")\n",
        "\n",
        "    return {\n",
        "        \"Accuracy\": best_accuracy,\n",
        "        \"Model_Name\": \"Multinomial Naive Bayes\",\n",
        "        \"HyperParameters\": f\"best_alpha: {best_alpha}\"\n",
        "    }\n"
      ],
      "metadata": {
        "id": "wwnAkECVa8e2"
      },
      "execution_count": null,
      "outputs": []
    },
    {
      "cell_type": "markdown",
      "source": [
        "##Decision Tree"
      ],
      "metadata": {
        "id": "Y2AAIT6PhU8Z"
      }
    },
    {
      "cell_type": "code",
      "source": [
        "from sklearn.tree import DecisionTreeClassifier\n",
        "\n",
        "\n",
        "def DecisionTree(x_train, x_test, y_train, y_test):\n",
        "    dephts= [5,10,12,17]\n",
        "    best_accuracy=0\n",
        "    best_max_depth=0\n",
        "\n",
        "    for depth in dephts:\n",
        "      model = DecisionTreeClassifier(random_state=42,max_depth=depth)\n",
        "      model.fit(x_train, y_train)\n",
        "      y_pred = model.predict(x_test)\n",
        "      accuracy = accuracy_score(y_test, y_pred)\n",
        "      if accuracy > best_accuracy:\n",
        "            best_accuracy = accuracy\n",
        "            best_max_depth = depth\n",
        "    print(f\"Best accuracy is = {best_accuracy}, with max_depth = {best_max_depth}\")\n",
        "\n",
        "    return {\n",
        "        \"Accuracy\": best_accuracy,\n",
        "        \"Model_Name\": \"Decision Tree\",\n",
        "        \"HyperParameters\": f\"best_max_depth: {best_max_depth}\"\n",
        "    }\n"
      ],
      "metadata": {
        "id": "e9rSv7J9hdYY"
      },
      "execution_count": null,
      "outputs": []
    },
    {
      "cell_type": "markdown",
      "source": [
        "##Ada Boost"
      ],
      "metadata": {
        "id": "WFmpkQDOk2qq"
      }
    },
    {
      "cell_type": "code",
      "source": [
        "from sklearn.ensemble import AdaBoostClassifier\n",
        "from sklearn.tree import DecisionTreeClassifier\n",
        "\n",
        "\n",
        "def AdaBoost(x_train, x_test, y_train, y_test):\n",
        "  depths=[1,3,5]\n",
        "  best_max_depth=0\n",
        "  best_accuracy=0\n",
        "  best_n_estimators=0\n",
        "  for depth in depths:\n",
        "    weak_learner = DecisionTreeClassifier(max_depth=depth)\n",
        "    adaboost_model = AdaBoostClassifier(base_estimator=weak_learner, n_estimators=5, random_state=42)\n",
        "    adaboost_model.fit(x_train, y_train)\n",
        "    y_pred = adaboost_model.predict(x_test)\n",
        "    accuracy = accuracy_score(y_test, y_pred)\n",
        "    if accuracy > best_accuracy:\n",
        "            best_accuracy = accuracy\n",
        "            best_max_depth = depth\n",
        "    print(f\"Best accuracy is = {best_accuracy}, with max_depth = {best_max_depth}\")\n",
        "\n",
        "\n",
        "  return {\n",
        "        \"Accuracy\": best_accuracy,\n",
        "        \"Model_Name\": \"Ada Boost\",\n",
        "        \"HyperParameters\": f\"best_max_depth: {best_max_depth}\"\n",
        "    }\n"
      ],
      "metadata": {
        "id": "juPL62dik5r9"
      },
      "execution_count": null,
      "outputs": []
    },
    {
      "cell_type": "markdown",
      "source": [
        "##TensorFlow"
      ],
      "metadata": {
        "id": "Ahif18dsnkO8"
      }
    },
    {
      "cell_type": "code",
      "source": [
        "import tensorflow as tf\n",
        "from tensorflow.keras import layers, models\n",
        "from sklearn.model_selection import train_test_split\n",
        "from sklearn.preprocessing import OneHotEncoder\n",
        "\n",
        "def one_hot_encode(labels):\n",
        "    encoder = OneHotEncoder(sparse=False)\n",
        "    labels_encoded = encoder.fit_transform(labels.reshape(-1, 1))\n",
        "    return labels_encoded\n",
        "\n",
        "model = models.Sequential([\n",
        "    layers.Flatten(input_shape=(75,)),\n",
        "    layers.Dense(128, activation='relu'),\n",
        "    layers.Dropout(0.5),\n",
        "    layers.Dense(4, activation='softmax')\n",
        "])\n",
        "\n",
        "\n",
        "model.compile(optimizer='adam',\n",
        "              loss='categorical_crossentropy',\n",
        "              metrics=['accuracy'])\n",
        "\n",
        "model.summary()\n",
        "\n",
        "x_data = questionToMode_df.drop('Q16', axis=1).values\n",
        "y_data = questionToMode_df['Q16'].values\n",
        "\n",
        "y_data_encoded = one_hot_encode(y_data)\n",
        "\n",
        "x_train, x_test, y_train, y_test = train_test_split(x_data, y_data_encoded, test_size=0.2, random_state=42)\n",
        "\n",
        "model_result = model.fit(x_train, y_train, epochs=15, validation_data=(x_test, y_test))\n",
        "\n",
        "for epoch, acc, val_acc in zip(range(1, 6), model_result.history['accuracy'], model_result.history['val_accuracy']):\n",
        "    print(f\"Epoch {epoch}: Training Accuracy = {acc}, Validation Accuracy = {val_acc}\")\n"
      ],
      "metadata": {
        "colab": {
          "base_uri": "https://localhost:8080/"
        },
        "id": "e1EcIkWNnm16",
        "outputId": "fc9fc733-2b13-4ef0-d424-c4748176826a"
      },
      "execution_count": null,
      "outputs": [
        {
          "output_type": "stream",
          "name": "stdout",
          "text": [
            "Model: \"sequential_5\"\n",
            "_________________________________________________________________\n",
            " Layer (type)                Output Shape              Param #   \n",
            "=================================================================\n",
            " flatten_5 (Flatten)         (None, 75)                0         \n",
            "                                                                 \n",
            " dense_10 (Dense)            (None, 128)               9728      \n",
            "                                                                 \n",
            " dropout_5 (Dropout)         (None, 128)               0         \n",
            "                                                                 \n",
            " dense_11 (Dense)            (None, 4)                 516       \n",
            "                                                                 \n",
            "=================================================================\n",
            "Total params: 10244 (40.02 KB)\n",
            "Trainable params: 10244 (40.02 KB)\n",
            "Non-trainable params: 0 (0.00 Byte)\n",
            "_________________________________________________________________\n",
            "Epoch 1/15\n"
          ]
        },
        {
          "output_type": "stream",
          "name": "stderr",
          "text": [
            "/usr/local/lib/python3.10/dist-packages/sklearn/preprocessing/_encoders.py:868: FutureWarning: `sparse` was renamed to `sparse_output` in version 1.2 and will be removed in 1.4. `sparse_output` is ignored unless you leave `sparse` to its default value.\n",
            "  warnings.warn(\n"
          ]
        },
        {
          "output_type": "stream",
          "name": "stdout",
          "text": [
            "153/153 [==============================] - 1s 4ms/step - loss: 193.1642 - accuracy: 0.3371 - val_loss: 46.7744 - val_accuracy: 0.4558\n",
            "Epoch 2/15\n",
            "153/153 [==============================] - 0s 2ms/step - loss: 59.8230 - accuracy: 0.3447 - val_loss: 10.5832 - val_accuracy: 0.4223\n",
            "Epoch 3/15\n",
            "153/153 [==============================] - 0s 2ms/step - loss: 7.8935 - accuracy: 0.3614 - val_loss: 1.2041 - val_accuracy: 0.4689\n",
            "Epoch 4/15\n",
            "153/153 [==============================] - 0s 3ms/step - loss: 1.2642 - accuracy: 0.4550 - val_loss: 1.2402 - val_accuracy: 0.4574\n",
            "Epoch 5/15\n",
            "153/153 [==============================] - 0s 2ms/step - loss: 1.2452 - accuracy: 0.4621 - val_loss: 1.2015 - val_accuracy: 0.4558\n",
            "Epoch 6/15\n",
            "153/153 [==============================] - 0s 2ms/step - loss: 1.2319 - accuracy: 0.4703 - val_loss: 1.1920 - val_accuracy: 0.4558\n",
            "Epoch 7/15\n",
            "153/153 [==============================] - 0s 3ms/step - loss: 1.2178 - accuracy: 0.4681 - val_loss: 1.2038 - val_accuracy: 0.4558\n",
            "Epoch 8/15\n",
            "153/153 [==============================] - 0s 2ms/step - loss: 1.2316 - accuracy: 0.4668 - val_loss: 1.1947 - val_accuracy: 0.4730\n",
            "Epoch 9/15\n",
            "153/153 [==============================] - 0s 2ms/step - loss: 1.2239 - accuracy: 0.4697 - val_loss: 1.1760 - val_accuracy: 0.4730\n",
            "Epoch 10/15\n",
            "153/153 [==============================] - 0s 2ms/step - loss: 1.2247 - accuracy: 0.4728 - val_loss: 1.2553 - val_accuracy: 0.4386\n",
            "Epoch 11/15\n",
            "153/153 [==============================] - 0s 2ms/step - loss: 1.2172 - accuracy: 0.4718 - val_loss: 1.2409 - val_accuracy: 0.4583\n",
            "Epoch 12/15\n",
            "153/153 [==============================] - 1s 4ms/step - loss: 1.1985 - accuracy: 0.4746 - val_loss: 1.1765 - val_accuracy: 0.4640\n",
            "Epoch 13/15\n",
            "153/153 [==============================] - 1s 4ms/step - loss: 1.2072 - accuracy: 0.4750 - val_loss: 1.1732 - val_accuracy: 0.4574\n",
            "Epoch 14/15\n",
            "153/153 [==============================] - 1s 4ms/step - loss: 1.1829 - accuracy: 0.4887 - val_loss: 1.1426 - val_accuracy: 0.4885\n",
            "Epoch 15/15\n",
            "153/153 [==============================] - 1s 4ms/step - loss: 1.1720 - accuracy: 0.4990 - val_loss: 1.1636 - val_accuracy: 0.4771\n",
            "Epoch 1: Training Accuracy = 0.3370855450630188, Validation Accuracy = 0.45581015944480896\n",
            "Epoch 2: Training Accuracy = 0.3446581959724426, Validation Accuracy = 0.422258585691452\n",
            "Epoch 3: Training Accuracy = 0.36144083738327026, Validation Accuracy = 0.46890342235565186\n",
            "Epoch 4: Training Accuracy = 0.45497339963912964, Validation Accuracy = 0.457446813583374\n",
            "Epoch 5: Training Accuracy = 0.46213671565055847, Validation Accuracy = 0.45581015944480896\n"
          ]
        }
      ]
    },
    {
      "cell_type": "markdown",
      "metadata": {
        "id": "xrksmOBhWQAQ"
      },
      "source": [
        "### PyTorch Classifier"
      ]
    },
    {
      "cell_type": "code",
      "execution_count": null,
      "metadata": {
        "colab": {
          "base_uri": "https://localhost:8080/"
        },
        "id": "Oaio8HLwWQAQ",
        "outputId": "42089455-8a0a-495f-8742-0fb1ae4a448d"
      },
      "outputs": [
        {
          "output_type": "stream",
          "name": "stdout",
          "text": [
            "2.1.0+cu121\n"
          ]
        }
      ],
      "source": [
        "# Check Torch version\n",
        "import torch\n",
        "print(torch.__version__)"
      ]
    },
    {
      "cell_type": "code",
      "execution_count": null,
      "metadata": {
        "id": "FJwRyYW6WQAQ"
      },
      "outputs": [],
      "source": [
        "def ConvertNumpyToTorch(x_train, x_test, y_train, y_test):\n",
        "    x_train, x_test = torch.from_numpy(x_train.values), torch.from_numpy(x_test.values)\n",
        "    y_train, y_test = torch.from_numpy(y_train.values), torch.from_numpy(y_test.values)\n",
        "    return x_train, x_test, y_train, y_test"
      ]
    },
    {
      "cell_type": "code",
      "execution_count": null,
      "metadata": {
        "colab": {
          "base_uri": "https://localhost:8080/"
        },
        "id": "6SwY4KihWQAQ",
        "outputId": "bc972424-625d-4bc8-e836-69b61b3fc0fe"
      },
      "outputs": [
        {
          "output_type": "stream",
          "name": "stdout",
          "text": [
            "<bound method Module.parameters of PyTorchClassifier(\n",
            "  (layer_1): Linear(in_features=75, out_features=30, bias=True)\n",
            "  (layer_2): Linear(in_features=30, out_features=4, bias=True)\n",
            ")>\n"
          ]
        }
      ],
      "source": [
        "from torch import nn\n",
        "\n",
        "class PyTorchClassifier(nn.Module):\n",
        "    def __init__(self, input_layers, hidden_layers, output_layers):\n",
        "        super().__init__()\n",
        "        self.layer_1 = nn.Linear(in_features = input_layers, out_features = hidden_layers)\n",
        "        self.layer_2 = nn.Linear(in_features = hidden_layers, out_features = output_layers)\n",
        "\n",
        "    def forward(self, x):\n",
        "        return self.layer_2(self.layer_1(x))\n",
        "\n",
        "\n",
        "x_train, x_test, y_train, y_test = train_test_split_modified(questionToMode_df)\n",
        "x_train, x_test, y_train, y_test = ConvertNumpyToTorch(x_train, x_test, y_train, y_test)\n",
        "#print(x_train.dtype, x_test.dtype, y_train.dtype, y_test.dtype)\n",
        "pytorch_model = PyTorchClassifier(x_train.shape[1], 30, len(y_train.unique()))\n",
        "print(pytorch_model.parameters)"
      ]
    },
    {
      "cell_type": "markdown",
      "metadata": {
        "id": "qZmeaSQZWQAQ"
      },
      "source": [
        "### Method For Running Spesific Method with Spesific Parameters"
      ]
    },
    {
      "cell_type": "code",
      "execution_count": null,
      "metadata": {
        "id": "B2l6lrG8WQAR"
      },
      "outputs": [],
      "source": [
        "from sklearn.exceptions import DataConversionWarning\n",
        "import warnings\n",
        "\n",
        "algorithms_results = []\n",
        "# Ignore specific warnings\n",
        "warnings.filterwarnings(\"ignore\", category=DataConversionWarning)\n",
        "warnings.filterwarnings(\"ignore\", category=DataConversionWarning)\n",
        "\n",
        "def RunThePredictAlgorithm(df, max_feature, scaling_method, FeatureEliminationMethod, MLORDLAlgorithm):\n",
        "    if(scaling_method == 'min-max'):\n",
        "        X, y = min_max_scaled_items[\"X\"], min_max_scaled_items[\"y\"]\n",
        "    elif(scaling_method == 'standart'):\n",
        "        X, y = stc_scaled_items[\"X\"], min_max_scaled_items[\"y\"]\n",
        "    elif(scaling_method == 'robusts'):\n",
        "        X, y = robust_scaled_items[\"X\"], min_max_scaled_items[\"y\"]\n",
        "    else:\n",
        "        print(\"Scaling method not acceptable, continue with df's basic X and y\")\n",
        "        train_test_split_modified(df)\n",
        "\n",
        "    for i in range(1,max_feature):\n",
        "        feature_eliminated_df = FeatureEliminationMethod(df, X, y, i)\n",
        "        x_train, x_test, y_train, y_test = train_test_split_modified(feature_eliminated_df)\n",
        "        result = MLORDLAlgorithm(x_train, x_test, y_train, y_test)\n",
        "        result[\"FeatureEliminationMethod\"] = FeatureEliminationMethod.__name__\n",
        "        SaveResults(result, str(MLORDLAlgorithm.__name__) + \"_\" + scaling_method +\".txt\")\n",
        "        algorithms_results.append(result)"
      ]
    },
    {
      "cell_type": "markdown",
      "metadata": {
        "id": "lLU97HwJWQAR"
      },
      "source": [
        "### Method For Finding Max Accuracy's Situation Details"
      ]
    },
    {
      "cell_type": "code",
      "execution_count": null,
      "metadata": {
        "id": "mW9YdVguWQAR"
      },
      "outputs": [],
      "source": [
        "def FindBestModel(results_list):\n",
        "    best_accuracy = 0\n",
        "    best_accuracy_index = 0\n",
        "    for i in range(len(results_list)):\n",
        "        if(results_list[i]['Accuracy'] > best_accuracy):\n",
        "            best_accuracy_index = i\n",
        "    return best_accuracy_index"
      ]
    },
    {
      "cell_type": "code",
      "execution_count": null,
      "metadata": {
        "colab": {
          "base_uri": "https://localhost:8080/",
          "height": 582
        },
        "id": "u3JmcNKWWQAR",
        "outputId": "c823c057-a8cc-4114-c9d9-c6a40baf5cdd"
      },
      "outputs": [
        {
          "output_type": "stream",
          "name": "stdout",
          "text": [
            "Best accuracy is = 0.41453831041257366, with 45 n_neighbors, euclidean metrics and fetaure len = 2\n",
            "Best accuracy is = 0.41453831041257366, with 48 n_neighbors, manhattan metrics and fetaure len = 3\n",
            "Best accuracy is = 0.42960052390307796, with 49 n_neighbors, manhattan metrics and fetaure len = 4\n",
            "Best accuracy is = 0.43680419122462344, with 47 n_neighbors, manhattan metrics and fetaure len = 5\n",
            "Best accuracy is = 0.43745907007203666, with 48 n_neighbors, manhattan metrics and fetaure len = 6\n",
            "Best accuracy is = 0.4407334643091028, with 48 n_neighbors, manhattan metrics and fetaure len = 7\n",
            "Best accuracy is = 0.45514079895219384, with 27 n_neighbors, cosine metrics and fetaure len = 8\n",
            "Best accuracy is = 0.48264571054354943, with 27 n_neighbors, cosine metrics and fetaure len = 9\n",
            "Best accuracy is = 0.47544204322200395, with 43 n_neighbors, cosine metrics and fetaure len = 10\n",
            "Best accuracy is = 0.48264571054354943, with 46 n_neighbors, cosine metrics and fetaure len = 11\n",
            "Best accuracy is = 0.4839554682383759, with 34 n_neighbors, cosine metrics and fetaure len = 12\n",
            "Best accuracy is = 0.481335952848723, with 33 n_neighbors, cosine metrics and fetaure len = 13\n",
            "Best accuracy is = 0.47871643745907005, with 38 n_neighbors, cosine metrics and fetaure len = 13\n",
            "Best accuracy is = 0.48002619515389655, with 23 n_neighbors, cosine metrics and fetaure len = 14\n",
            "Best accuracy is = 0.4793713163064833, with 45 n_neighbors, cosine metrics and fetaure len = 15\n"
          ]
        },
        {
          "output_type": "error",
          "ename": "KeyboardInterrupt",
          "evalue": "ignored",
          "traceback": [
            "\u001b[0;31m---------------------------------------------------------------------------\u001b[0m",
            "\u001b[0;31mKeyboardInterrupt\u001b[0m                         Traceback (most recent call last)",
            "\u001b[0;32m<ipython-input-41-dea64aeadb8a>\u001b[0m in \u001b[0;36m<cell line: 1>\u001b[0;34m()\u001b[0m\n\u001b[0;32m----> 1\u001b[0;31m \u001b[0mRunThePredictAlgorithm\u001b[0m\u001b[0;34m(\u001b[0m\u001b[0mquestionToMode_df\u001b[0m\u001b[0;34m,\u001b[0m \u001b[0;36m50\u001b[0m\u001b[0;34m,\u001b[0m \u001b[0;34m'min-max'\u001b[0m\u001b[0;34m,\u001b[0m \u001b[0mRFEFeatureElimination\u001b[0m\u001b[0;34m,\u001b[0m \u001b[0mKNN\u001b[0m\u001b[0;34m)\u001b[0m\u001b[0;34m\u001b[0m\u001b[0;34m\u001b[0m\u001b[0m\n\u001b[0m",
            "\u001b[0;32m<ipython-input-39-cf09bd63617b>\u001b[0m in \u001b[0;36mRunThePredictAlgorithm\u001b[0;34m(df, max_feature, scaling_method, FeatureEliminationMethod, MLORDLAlgorithm)\u001b[0m\n\u001b[1;32m     21\u001b[0m         \u001b[0mfeature_eliminated_df\u001b[0m \u001b[0;34m=\u001b[0m \u001b[0mFeatureEliminationMethod\u001b[0m\u001b[0;34m(\u001b[0m\u001b[0mdf\u001b[0m\u001b[0;34m,\u001b[0m \u001b[0mX\u001b[0m\u001b[0;34m,\u001b[0m \u001b[0my\u001b[0m\u001b[0;34m,\u001b[0m \u001b[0mi\u001b[0m\u001b[0;34m)\u001b[0m\u001b[0;34m\u001b[0m\u001b[0;34m\u001b[0m\u001b[0m\n\u001b[1;32m     22\u001b[0m         \u001b[0mx_train\u001b[0m\u001b[0;34m,\u001b[0m \u001b[0mx_test\u001b[0m\u001b[0;34m,\u001b[0m \u001b[0my_train\u001b[0m\u001b[0;34m,\u001b[0m \u001b[0my_test\u001b[0m \u001b[0;34m=\u001b[0m \u001b[0mtrain_test_split_modified\u001b[0m\u001b[0;34m(\u001b[0m\u001b[0mfeature_eliminated_df\u001b[0m\u001b[0;34m)\u001b[0m\u001b[0;34m\u001b[0m\u001b[0;34m\u001b[0m\u001b[0m\n\u001b[0;32m---> 23\u001b[0;31m         \u001b[0mresult\u001b[0m \u001b[0;34m=\u001b[0m \u001b[0mMLORDLAlgorithm\u001b[0m\u001b[0;34m(\u001b[0m\u001b[0mx_train\u001b[0m\u001b[0;34m,\u001b[0m \u001b[0mx_test\u001b[0m\u001b[0;34m,\u001b[0m \u001b[0my_train\u001b[0m\u001b[0;34m,\u001b[0m \u001b[0my_test\u001b[0m\u001b[0;34m)\u001b[0m\u001b[0;34m\u001b[0m\u001b[0;34m\u001b[0m\u001b[0m\n\u001b[0m\u001b[1;32m     24\u001b[0m         \u001b[0mresult\u001b[0m\u001b[0;34m[\u001b[0m\u001b[0;34m\"FeatureEliminationMethod\"\u001b[0m\u001b[0;34m]\u001b[0m \u001b[0;34m=\u001b[0m \u001b[0mFeatureEliminationMethod\u001b[0m\u001b[0;34m.\u001b[0m\u001b[0m__name__\u001b[0m\u001b[0;34m\u001b[0m\u001b[0;34m\u001b[0m\u001b[0m\n\u001b[1;32m     25\u001b[0m         \u001b[0mSaveResults\u001b[0m\u001b[0;34m(\u001b[0m\u001b[0mresult\u001b[0m\u001b[0;34m,\u001b[0m \u001b[0mstr\u001b[0m\u001b[0;34m(\u001b[0m\u001b[0mMLORDLAlgorithm\u001b[0m\u001b[0;34m.\u001b[0m\u001b[0m__name__\u001b[0m\u001b[0;34m)\u001b[0m \u001b[0;34m+\u001b[0m \u001b[0;34m\"_\"\u001b[0m \u001b[0;34m+\u001b[0m \u001b[0mscaling_method\u001b[0m \u001b[0;34m+\u001b[0m\u001b[0;34m\".txt\"\u001b[0m\u001b[0;34m)\u001b[0m\u001b[0;34m\u001b[0m\u001b[0;34m\u001b[0m\u001b[0m\n",
            "\u001b[0;32m<ipython-input-34-557b43b25b6e>\u001b[0m in \u001b[0;36mKNN\u001b[0;34m(x_train, x_test, y_train, y_test)\u001b[0m\n\u001b[1;32m     13\u001b[0m             \u001b[0mknn\u001b[0m \u001b[0;34m=\u001b[0m \u001b[0mKNeighborsClassifier\u001b[0m\u001b[0;34m(\u001b[0m\u001b[0mn_neighbors\u001b[0m\u001b[0;34m=\u001b[0m\u001b[0mi\u001b[0m\u001b[0;34m,\u001b[0m \u001b[0mmetric\u001b[0m \u001b[0;34m=\u001b[0m \u001b[0mparam\u001b[0m\u001b[0;34m,\u001b[0m \u001b[0mweights\u001b[0m \u001b[0;34m=\u001b[0m \u001b[0;34m\"distance\"\u001b[0m\u001b[0;34m)\u001b[0m\u001b[0;34m\u001b[0m\u001b[0;34m\u001b[0m\u001b[0m\n\u001b[1;32m     14\u001b[0m             \u001b[0mknn\u001b[0m\u001b[0;34m.\u001b[0m\u001b[0mfit\u001b[0m\u001b[0;34m(\u001b[0m\u001b[0mx_train\u001b[0m\u001b[0;34m,\u001b[0m \u001b[0my_train\u001b[0m\u001b[0;34m)\u001b[0m\u001b[0;34m\u001b[0m\u001b[0;34m\u001b[0m\u001b[0m\n\u001b[0;32m---> 15\u001b[0;31m             \u001b[0my_pred\u001b[0m \u001b[0;34m=\u001b[0m \u001b[0mknn\u001b[0m\u001b[0;34m.\u001b[0m\u001b[0mpredict\u001b[0m\u001b[0;34m(\u001b[0m\u001b[0mx_test\u001b[0m\u001b[0;34m)\u001b[0m\u001b[0;34m\u001b[0m\u001b[0;34m\u001b[0m\u001b[0m\n\u001b[0m\u001b[1;32m     16\u001b[0m             \u001b[0;32mif\u001b[0m \u001b[0maccuracy_score\u001b[0m\u001b[0;34m(\u001b[0m\u001b[0my_test\u001b[0m\u001b[0;34m,\u001b[0m \u001b[0my_pred\u001b[0m\u001b[0;34m)\u001b[0m \u001b[0;34m<\u001b[0m \u001b[0;36m1\u001b[0m \u001b[0;32mand\u001b[0m \u001b[0mbest_accuracy_knn\u001b[0m \u001b[0;34m<\u001b[0m \u001b[0maccuracy_score\u001b[0m\u001b[0;34m(\u001b[0m\u001b[0my_test\u001b[0m\u001b[0;34m,\u001b[0m \u001b[0my_pred\u001b[0m\u001b[0;34m)\u001b[0m \u001b[0;34m:\u001b[0m\u001b[0;34m\u001b[0m\u001b[0;34m\u001b[0m\u001b[0m\n\u001b[1;32m     17\u001b[0m                 \u001b[0mbest_accuracy_knn\u001b[0m\u001b[0;34m,\u001b[0m \u001b[0mbest_neighbor_count\u001b[0m\u001b[0;34m,\u001b[0m \u001b[0mbest_metric\u001b[0m \u001b[0;34m=\u001b[0m \u001b[0maccuracy_score\u001b[0m\u001b[0;34m(\u001b[0m\u001b[0my_test\u001b[0m\u001b[0;34m,\u001b[0m \u001b[0my_pred\u001b[0m\u001b[0;34m)\u001b[0m\u001b[0;34m,\u001b[0m \u001b[0mi\u001b[0m\u001b[0;34m,\u001b[0m \u001b[0mparam\u001b[0m\u001b[0;34m\u001b[0m\u001b[0;34m\u001b[0m\u001b[0m\n",
            "\u001b[0;32m/usr/local/lib/python3.10/dist-packages/sklearn/neighbors/_classification.py\u001b[0m in \u001b[0;36mpredict\u001b[0;34m(self, X)\u001b[0m\n\u001b[1;32m    235\u001b[0m             \u001b[0mneigh_dist\u001b[0m \u001b[0;34m=\u001b[0m \u001b[0;32mNone\u001b[0m\u001b[0;34m\u001b[0m\u001b[0;34m\u001b[0m\u001b[0m\n\u001b[1;32m    236\u001b[0m         \u001b[0;32melse\u001b[0m\u001b[0;34m:\u001b[0m\u001b[0;34m\u001b[0m\u001b[0;34m\u001b[0m\u001b[0m\n\u001b[0;32m--> 237\u001b[0;31m             \u001b[0mneigh_dist\u001b[0m\u001b[0;34m,\u001b[0m \u001b[0mneigh_ind\u001b[0m \u001b[0;34m=\u001b[0m \u001b[0mself\u001b[0m\u001b[0;34m.\u001b[0m\u001b[0mkneighbors\u001b[0m\u001b[0;34m(\u001b[0m\u001b[0mX\u001b[0m\u001b[0;34m)\u001b[0m\u001b[0;34m\u001b[0m\u001b[0;34m\u001b[0m\u001b[0m\n\u001b[0m\u001b[1;32m    238\u001b[0m \u001b[0;34m\u001b[0m\u001b[0m\n\u001b[1;32m    239\u001b[0m         \u001b[0mclasses_\u001b[0m \u001b[0;34m=\u001b[0m \u001b[0mself\u001b[0m\u001b[0;34m.\u001b[0m\u001b[0mclasses_\u001b[0m\u001b[0;34m\u001b[0m\u001b[0;34m\u001b[0m\u001b[0m\n",
            "\u001b[0;32m/usr/local/lib/python3.10/dist-packages/sklearn/neighbors/_base.py\u001b[0m in \u001b[0;36mkneighbors\u001b[0;34m(self, X, n_neighbors, return_distance)\u001b[0m\n\u001b[1;32m    859\u001b[0m                 \u001b[0mkwds\u001b[0m \u001b[0;34m=\u001b[0m \u001b[0mself\u001b[0m\u001b[0;34m.\u001b[0m\u001b[0meffective_metric_params_\u001b[0m\u001b[0;34m\u001b[0m\u001b[0;34m\u001b[0m\u001b[0m\n\u001b[1;32m    860\u001b[0m \u001b[0;34m\u001b[0m\u001b[0m\n\u001b[0;32m--> 861\u001b[0;31m             chunked_results = list(\n\u001b[0m\u001b[1;32m    862\u001b[0m                 pairwise_distances_chunked(\n\u001b[1;32m    863\u001b[0m                     \u001b[0mX\u001b[0m\u001b[0;34m,\u001b[0m\u001b[0;34m\u001b[0m\u001b[0;34m\u001b[0m\u001b[0m\n",
            "\u001b[0;32m/usr/local/lib/python3.10/dist-packages/sklearn/metrics/pairwise.py\u001b[0m in \u001b[0;36mpairwise_distances_chunked\u001b[0;34m(X, Y, reduce_func, metric, n_jobs, working_memory, **kwds)\u001b[0m\n\u001b[1;32m   1865\u001b[0m         \u001b[0;32melse\u001b[0m\u001b[0;34m:\u001b[0m\u001b[0;34m\u001b[0m\u001b[0;34m\u001b[0m\u001b[0m\n\u001b[1;32m   1866\u001b[0m             \u001b[0mX_chunk\u001b[0m \u001b[0;34m=\u001b[0m \u001b[0mX\u001b[0m\u001b[0;34m[\u001b[0m\u001b[0msl\u001b[0m\u001b[0;34m]\u001b[0m\u001b[0;34m\u001b[0m\u001b[0;34m\u001b[0m\u001b[0m\n\u001b[0;32m-> 1867\u001b[0;31m         \u001b[0mD_chunk\u001b[0m \u001b[0;34m=\u001b[0m \u001b[0mpairwise_distances\u001b[0m\u001b[0;34m(\u001b[0m\u001b[0mX_chunk\u001b[0m\u001b[0;34m,\u001b[0m \u001b[0mY\u001b[0m\u001b[0;34m,\u001b[0m \u001b[0mmetric\u001b[0m\u001b[0;34m=\u001b[0m\u001b[0mmetric\u001b[0m\u001b[0;34m,\u001b[0m \u001b[0mn_jobs\u001b[0m\u001b[0;34m=\u001b[0m\u001b[0mn_jobs\u001b[0m\u001b[0;34m,\u001b[0m \u001b[0;34m**\u001b[0m\u001b[0mkwds\u001b[0m\u001b[0;34m)\u001b[0m\u001b[0;34m\u001b[0m\u001b[0;34m\u001b[0m\u001b[0m\n\u001b[0m\u001b[1;32m   1868\u001b[0m         if (X is Y or Y is None) and PAIRWISE_DISTANCE_FUNCTIONS.get(\n\u001b[1;32m   1869\u001b[0m             \u001b[0mmetric\u001b[0m\u001b[0;34m,\u001b[0m \u001b[0;32mNone\u001b[0m\u001b[0;34m\u001b[0m\u001b[0;34m\u001b[0m\u001b[0m\n",
            "\u001b[0;32m/usr/local/lib/python3.10/dist-packages/sklearn/metrics/pairwise.py\u001b[0m in \u001b[0;36mpairwise_distances\u001b[0;34m(X, Y, metric, n_jobs, force_all_finite, **kwds)\u001b[0m\n\u001b[1;32m   2037\u001b[0m         \u001b[0mfunc\u001b[0m \u001b[0;34m=\u001b[0m \u001b[0mpartial\u001b[0m\u001b[0;34m(\u001b[0m\u001b[0mdistance\u001b[0m\u001b[0;34m.\u001b[0m\u001b[0mcdist\u001b[0m\u001b[0;34m,\u001b[0m \u001b[0mmetric\u001b[0m\u001b[0;34m=\u001b[0m\u001b[0mmetric\u001b[0m\u001b[0;34m,\u001b[0m \u001b[0;34m**\u001b[0m\u001b[0mkwds\u001b[0m\u001b[0;34m)\u001b[0m\u001b[0;34m\u001b[0m\u001b[0;34m\u001b[0m\u001b[0m\n\u001b[1;32m   2038\u001b[0m \u001b[0;34m\u001b[0m\u001b[0m\n\u001b[0;32m-> 2039\u001b[0;31m     \u001b[0;32mreturn\u001b[0m \u001b[0m_parallel_pairwise\u001b[0m\u001b[0;34m(\u001b[0m\u001b[0mX\u001b[0m\u001b[0;34m,\u001b[0m \u001b[0mY\u001b[0m\u001b[0;34m,\u001b[0m \u001b[0mfunc\u001b[0m\u001b[0;34m,\u001b[0m \u001b[0mn_jobs\u001b[0m\u001b[0;34m,\u001b[0m \u001b[0;34m**\u001b[0m\u001b[0mkwds\u001b[0m\u001b[0;34m)\u001b[0m\u001b[0;34m\u001b[0m\u001b[0;34m\u001b[0m\u001b[0m\n\u001b[0m\u001b[1;32m   2040\u001b[0m \u001b[0;34m\u001b[0m\u001b[0m\n\u001b[1;32m   2041\u001b[0m \u001b[0;34m\u001b[0m\u001b[0m\n",
            "\u001b[0;32m/usr/local/lib/python3.10/dist-packages/sklearn/metrics/pairwise.py\u001b[0m in \u001b[0;36m_parallel_pairwise\u001b[0;34m(X, Y, func, n_jobs, **kwds)\u001b[0m\n\u001b[1;32m   1577\u001b[0m \u001b[0;34m\u001b[0m\u001b[0m\n\u001b[1;32m   1578\u001b[0m     \u001b[0;32mif\u001b[0m \u001b[0meffective_n_jobs\u001b[0m\u001b[0;34m(\u001b[0m\u001b[0mn_jobs\u001b[0m\u001b[0;34m)\u001b[0m \u001b[0;34m==\u001b[0m \u001b[0;36m1\u001b[0m\u001b[0;34m:\u001b[0m\u001b[0;34m\u001b[0m\u001b[0;34m\u001b[0m\u001b[0m\n\u001b[0;32m-> 1579\u001b[0;31m         \u001b[0;32mreturn\u001b[0m \u001b[0mfunc\u001b[0m\u001b[0;34m(\u001b[0m\u001b[0mX\u001b[0m\u001b[0;34m,\u001b[0m \u001b[0mY\u001b[0m\u001b[0;34m,\u001b[0m \u001b[0;34m**\u001b[0m\u001b[0mkwds\u001b[0m\u001b[0;34m)\u001b[0m\u001b[0;34m\u001b[0m\u001b[0;34m\u001b[0m\u001b[0m\n\u001b[0m\u001b[1;32m   1580\u001b[0m \u001b[0;34m\u001b[0m\u001b[0m\n\u001b[1;32m   1581\u001b[0m     \u001b[0;31m# enforce a threading backend to prevent data communication overhead\u001b[0m\u001b[0;34m\u001b[0m\u001b[0;34m\u001b[0m\u001b[0m\n",
            "\u001b[0;32m/usr/local/lib/python3.10/dist-packages/sklearn/metrics/pairwise.py\u001b[0m in \u001b[0;36mnan_euclidean_distances\u001b[0;34m(X, Y, squared, missing_values, copy)\u001b[0m\n\u001b[1;32m    480\u001b[0m     \u001b[0mdistances\u001b[0m \u001b[0;34m-=\u001b[0m \u001b[0mnp\u001b[0m\u001b[0;34m.\u001b[0m\u001b[0mdot\u001b[0m\u001b[0;34m(\u001b[0m\u001b[0mmissing_X\u001b[0m\u001b[0;34m,\u001b[0m \u001b[0mYY\u001b[0m\u001b[0;34m.\u001b[0m\u001b[0mT\u001b[0m\u001b[0;34m)\u001b[0m\u001b[0;34m\u001b[0m\u001b[0;34m\u001b[0m\u001b[0m\n\u001b[1;32m    481\u001b[0m \u001b[0;34m\u001b[0m\u001b[0m\n\u001b[0;32m--> 482\u001b[0;31m     \u001b[0mnp\u001b[0m\u001b[0;34m.\u001b[0m\u001b[0mclip\u001b[0m\u001b[0;34m(\u001b[0m\u001b[0mdistances\u001b[0m\u001b[0;34m,\u001b[0m \u001b[0;36m0\u001b[0m\u001b[0;34m,\u001b[0m \u001b[0;32mNone\u001b[0m\u001b[0;34m,\u001b[0m \u001b[0mout\u001b[0m\u001b[0;34m=\u001b[0m\u001b[0mdistances\u001b[0m\u001b[0;34m)\u001b[0m\u001b[0;34m\u001b[0m\u001b[0;34m\u001b[0m\u001b[0m\n\u001b[0m\u001b[1;32m    483\u001b[0m \u001b[0;34m\u001b[0m\u001b[0m\n\u001b[1;32m    484\u001b[0m     \u001b[0;32mif\u001b[0m \u001b[0mX\u001b[0m \u001b[0;32mis\u001b[0m \u001b[0mY\u001b[0m\u001b[0;34m:\u001b[0m\u001b[0;34m\u001b[0m\u001b[0;34m\u001b[0m\u001b[0m\n",
            "\u001b[0;32m/usr/local/lib/python3.10/dist-packages/numpy/core/overrides.py\u001b[0m in \u001b[0;36mclip\u001b[0;34m(*args, **kwargs)\u001b[0m\n",
            "\u001b[0;32m/usr/local/lib/python3.10/dist-packages/numpy/core/fromnumeric.py\u001b[0m in \u001b[0;36mclip\u001b[0;34m(a, a_min, a_max, out, **kwargs)\u001b[0m\n\u001b[1;32m   2152\u001b[0m \u001b[0;34m\u001b[0m\u001b[0m\n\u001b[1;32m   2153\u001b[0m     \"\"\"\n\u001b[0;32m-> 2154\u001b[0;31m     \u001b[0;32mreturn\u001b[0m \u001b[0m_wrapfunc\u001b[0m\u001b[0;34m(\u001b[0m\u001b[0ma\u001b[0m\u001b[0;34m,\u001b[0m \u001b[0;34m'clip'\u001b[0m\u001b[0;34m,\u001b[0m \u001b[0ma_min\u001b[0m\u001b[0;34m,\u001b[0m \u001b[0ma_max\u001b[0m\u001b[0;34m,\u001b[0m \u001b[0mout\u001b[0m\u001b[0;34m=\u001b[0m\u001b[0mout\u001b[0m\u001b[0;34m,\u001b[0m \u001b[0;34m**\u001b[0m\u001b[0mkwargs\u001b[0m\u001b[0;34m)\u001b[0m\u001b[0;34m\u001b[0m\u001b[0;34m\u001b[0m\u001b[0m\n\u001b[0m\u001b[1;32m   2155\u001b[0m \u001b[0;34m\u001b[0m\u001b[0m\n\u001b[1;32m   2156\u001b[0m \u001b[0;34m\u001b[0m\u001b[0m\n",
            "\u001b[0;32m/usr/local/lib/python3.10/dist-packages/numpy/core/fromnumeric.py\u001b[0m in \u001b[0;36m_wrapfunc\u001b[0;34m(obj, method, *args, **kwds)\u001b[0m\n\u001b[1;32m     55\u001b[0m \u001b[0;34m\u001b[0m\u001b[0m\n\u001b[1;32m     56\u001b[0m     \u001b[0;32mtry\u001b[0m\u001b[0;34m:\u001b[0m\u001b[0;34m\u001b[0m\u001b[0;34m\u001b[0m\u001b[0m\n\u001b[0;32m---> 57\u001b[0;31m         \u001b[0;32mreturn\u001b[0m \u001b[0mbound\u001b[0m\u001b[0;34m(\u001b[0m\u001b[0;34m*\u001b[0m\u001b[0margs\u001b[0m\u001b[0;34m,\u001b[0m \u001b[0;34m**\u001b[0m\u001b[0mkwds\u001b[0m\u001b[0;34m)\u001b[0m\u001b[0;34m\u001b[0m\u001b[0;34m\u001b[0m\u001b[0m\n\u001b[0m\u001b[1;32m     58\u001b[0m     \u001b[0;32mexcept\u001b[0m \u001b[0mTypeError\u001b[0m\u001b[0;34m:\u001b[0m\u001b[0;34m\u001b[0m\u001b[0;34m\u001b[0m\u001b[0m\n\u001b[1;32m     59\u001b[0m         \u001b[0;31m# A TypeError occurs if the object does have such a method in its\u001b[0m\u001b[0;34m\u001b[0m\u001b[0;34m\u001b[0m\u001b[0m\n",
            "\u001b[0;32m/usr/local/lib/python3.10/dist-packages/numpy/core/_methods.py\u001b[0m in \u001b[0;36m_clip\u001b[0;34m(a, min, max, out, casting, **kwargs)\u001b[0m\n\u001b[1;32m    155\u001b[0m             um.minimum, a, max, out=out, casting=casting, **kwargs)\n\u001b[1;32m    156\u001b[0m     \u001b[0;32melif\u001b[0m \u001b[0mmax\u001b[0m \u001b[0;32mis\u001b[0m \u001b[0;32mNone\u001b[0m\u001b[0;34m:\u001b[0m\u001b[0;34m\u001b[0m\u001b[0;34m\u001b[0m\u001b[0m\n\u001b[0;32m--> 157\u001b[0;31m         return _clip_dep_invoke_with_casting(\n\u001b[0m\u001b[1;32m    158\u001b[0m             um.maximum, a, min, out=out, casting=casting, **kwargs)\n\u001b[1;32m    159\u001b[0m     \u001b[0;32melse\u001b[0m\u001b[0;34m:\u001b[0m\u001b[0;34m\u001b[0m\u001b[0;34m\u001b[0m\u001b[0m\n",
            "\u001b[0;32m/usr/local/lib/python3.10/dist-packages/numpy/core/_methods.py\u001b[0m in \u001b[0;36m_clip_dep_invoke_with_casting\u001b[0;34m(ufunc, out, casting, *args, **kwargs)\u001b[0m\n\u001b[1;32m    112\u001b[0m     \u001b[0;31m# try to deal with broken casting rules\u001b[0m\u001b[0;34m\u001b[0m\u001b[0;34m\u001b[0m\u001b[0m\n\u001b[1;32m    113\u001b[0m     \u001b[0;32mtry\u001b[0m\u001b[0;34m:\u001b[0m\u001b[0;34m\u001b[0m\u001b[0;34m\u001b[0m\u001b[0m\n\u001b[0;32m--> 114\u001b[0;31m         \u001b[0;32mreturn\u001b[0m \u001b[0mufunc\u001b[0m\u001b[0;34m(\u001b[0m\u001b[0;34m*\u001b[0m\u001b[0margs\u001b[0m\u001b[0;34m,\u001b[0m \u001b[0mout\u001b[0m\u001b[0;34m=\u001b[0m\u001b[0mout\u001b[0m\u001b[0;34m,\u001b[0m \u001b[0;34m**\u001b[0m\u001b[0mkwargs\u001b[0m\u001b[0;34m)\u001b[0m\u001b[0;34m\u001b[0m\u001b[0;34m\u001b[0m\u001b[0m\n\u001b[0m\u001b[1;32m    115\u001b[0m     \u001b[0;32mexcept\u001b[0m \u001b[0m_exceptions\u001b[0m\u001b[0;34m.\u001b[0m\u001b[0m_UFuncOutputCastingError\u001b[0m \u001b[0;32mas\u001b[0m \u001b[0me\u001b[0m\u001b[0;34m:\u001b[0m\u001b[0;34m\u001b[0m\u001b[0;34m\u001b[0m\u001b[0m\n\u001b[1;32m    116\u001b[0m         \u001b[0;31m# Numpy 1.17.0, 2019-02-24\u001b[0m\u001b[0;34m\u001b[0m\u001b[0;34m\u001b[0m\u001b[0m\n",
            "\u001b[0;31mKeyboardInterrupt\u001b[0m: "
          ]
        }
      ],
      "source": [
        "RunThePredictAlgorithm(questionToMode_df, 50, 'min-max', RFEFeatureElimination, KNN)"
      ]
    },
    {
      "cell_type": "code",
      "execution_count": null,
      "metadata": {
        "id": "vj0RsPK-WQAR"
      },
      "outputs": [],
      "source": [
        "RunThePredictAlgorithm(questionToMode_df, 75, 'min-max', RFEFeatureElimination, RandomForest)"
      ]
    },
    {
      "cell_type": "code",
      "source": [
        "RunThePredictAlgorithm(questionToMode_df, 25, 'min-max', RFEFeatureElimination, NonlinearSVM)"
      ],
      "metadata": {
        "colab": {
          "base_uri": "https://localhost:8080/"
        },
        "id": "f7ecTlkxZdmV",
        "outputId": "7c978046-42f6-4a2a-a80a-8cd09353f7ef"
      },
      "execution_count": null,
      "outputs": [
        {
          "output_type": "stream",
          "name": "stdout",
          "text": [
            "Best accuracy is = 0.44597249508840864, with function = rbf\n",
            "Best accuracy is = 0.44597249508840864, with function = rbf\n",
            "Best accuracy is = 0.44597249508840864, with function = rbf\n",
            "Best accuracy is = 0.44597249508840864, with function = rbf\n",
            "Best accuracy is = 0.44597249508840864, with function = rbf\n",
            "Best accuracy is = 0.44597249508840864, with function = rbf\n",
            "Best accuracy is = 0.44597249508840864, with function = rbf\n",
            "Best accuracy is = 0.44597249508840864, with function = rbf\n",
            "Best accuracy is = 0.44597249508840864, with function = rbf\n",
            "Best accuracy is = 0.44597249508840864, with function = rbf\n",
            "Best accuracy is = 0.44597249508840864, with function = rbf\n",
            "Best accuracy is = 0.44597249508840864, with function = rbf\n",
            "Best accuracy is = 0.44597249508840864, with function = rbf\n",
            "Best accuracy is = 0.44597249508840864, with function = rbf\n",
            "Best accuracy is = 0.44597249508840864, with function = rbf\n",
            "Best accuracy is = 0.44597249508840864, with function = rbf\n",
            "Best accuracy is = 0.44597249508840864, with function = rbf\n",
            "Best accuracy is = 0.44597249508840864, with function = rbf\n",
            "Best accuracy is = 0.44597249508840864, with function = rbf\n",
            "Best accuracy is = 0.44597249508840864, with function = rbf\n",
            "Best accuracy is = 0.44597249508840864, with function = rbf\n",
            "Best accuracy is = 0.44597249508840864, with function = rbf\n",
            "Best accuracy is = 0.44597249508840864, with function = rbf\n",
            "Best accuracy is = 0.44597249508840864, with function = rbf\n"
          ]
        }
      ]
    },
    {
      "cell_type": "code",
      "source": [
        "RunThePredictAlgorithm(questionToMode_df, 10, 'min-max', RFEFeatureElimination, MultinomialNaiveBayes)"
      ],
      "metadata": {
        "colab": {
          "base_uri": "https://localhost:8080/"
        },
        "id": "2rbbBWrndTBr",
        "outputId": "5550edf0-256d-448b-e421-7705705a3b10"
      },
      "execution_count": null,
      "outputs": [
        {
          "output_type": "stream",
          "name": "stdout",
          "text": [
            "aplha 0.2\n",
            "aplha 0.3\n",
            "aplha 0.5\n",
            "Best accuracy is = 0.44597249508840864, with alpha = 0.2\n",
            "aplha 0.2\n",
            "aplha 0.3\n",
            "aplha 0.5\n",
            "Best accuracy is = 0.46037982973149966, with alpha = 0.2\n",
            "aplha 0.2\n",
            "aplha 0.3\n",
            "aplha 0.5\n",
            "Best accuracy is = 0.4544859201047806, with alpha = 0.5\n",
            "aplha 0.2\n",
            "aplha 0.3\n",
            "aplha 0.5\n",
            "Best accuracy is = 0.4538310412573674, with alpha = 0.2\n",
            "aplha 0.2\n",
            "aplha 0.3\n",
            "aplha 0.5\n",
            "Best accuracy is = 0.44138834315651604, with alpha = 0.2\n",
            "aplha 0.2\n",
            "aplha 0.3\n",
            "aplha 0.5\n",
            "Best accuracy is = 0.4348395546823838, with alpha = 0.2\n",
            "aplha 0.2\n",
            "aplha 0.3\n",
            "aplha 0.5\n",
            "Best accuracy is = 0.42763588736083824, with alpha = 0.2\n",
            "aplha 0.2\n",
            "aplha 0.3\n",
            "aplha 0.5\n",
            "Best accuracy is = 0.42763588736083824, with alpha = 0.2\n",
            "aplha 0.2\n",
            "aplha 0.3\n",
            "aplha 0.5\n",
            "Best accuracy is = 0.421087098886706, with alpha = 0.2\n"
          ]
        }
      ]
    },
    {
      "cell_type": "code",
      "source": [
        "RunThePredictAlgorithm(questionToMode_df, 25, 'min-max', RFEFeatureElimination, DecisionTree)"
      ],
      "metadata": {
        "colab": {
          "base_uri": "https://localhost:8080/"
        },
        "id": "WBVboFt4h3T9",
        "outputId": "586508f6-060b-44e9-deeb-dc1ed0e5ef94"
      },
      "execution_count": null,
      "outputs": [
        {
          "output_type": "stream",
          "name": "stdout",
          "text": [
            "Best accuracy is = 0.44138834315651604, with max_depth = 5\n",
            "Best accuracy is = 0.4518664047151277, with max_depth = 5\n",
            "Best accuracy is = 0.4977079240340537, with max_depth = 5\n",
            "Best accuracy is = 0.4977079240340537, with max_depth = 5\n",
            "Best accuracy is = 0.5009823182711198, with max_depth = 5\n",
            "Best accuracy is = 0.49836280288146695, with max_depth = 5\n",
            "Best accuracy is = 0.49181401440733463, with max_depth = 5\n",
            "Best accuracy is = 0.4905042567125082, with max_depth = 5\n",
            "Best accuracy is = 0.49246889325474785, with max_depth = 5\n",
            "Best accuracy is = 0.4950884086444008, with max_depth = 5\n",
            "Best accuracy is = 0.4911591355599214, with max_depth = 5\n",
            "Best accuracy is = 0.5389652914210871, with max_depth = 5\n",
            "Best accuracy is = 0.5330713817943681, with max_depth = 5\n",
            "Best accuracy is = 0.47544204322200395, with max_depth = 5\n",
            "Best accuracy is = 0.5317616240995415, with max_depth = 5\n",
            "Best accuracy is = 0.5317616240995415, with max_depth = 5\n",
            "Best accuracy is = 0.4767518009168304, with max_depth = 10\n",
            "Best accuracy is = 0.47806155861165683, with max_depth = 5\n",
            "Best accuracy is = 0.5094957432874918, with max_depth = 5\n",
            "Best accuracy is = 0.5415848068107401, with max_depth = 5\n",
            "Best accuracy is = 0.547478716437459, with max_depth = 5\n",
            "Best accuracy is = 0.550098231827112, with max_depth = 5\n",
            "Best accuracy is = 0.5468238375900458, with max_depth = 5\n",
            "Best accuracy is = 0.5658153241650294, with max_depth = 5\n"
          ]
        }
      ]
    },
    {
      "cell_type": "code",
      "source": [
        "RunThePredictAlgorithm(questionToMode_df, 25, 'min-max', RFEFeatureElimination, AdaBoost) #0.57 max"
      ],
      "metadata": {
        "colab": {
          "base_uri": "https://localhost:8080/"
        },
        "id": "KhdrIdHlmO0E",
        "outputId": "f59052bc-8f91-40f2-f15a-f821e4b7f06e"
      },
      "execution_count": null,
      "outputs": [
        {
          "output_type": "stream",
          "name": "stderr",
          "text": [
            "/usr/local/lib/python3.10/dist-packages/sklearn/ensemble/_base.py:166: FutureWarning: `base_estimator` was renamed to `estimator` in version 1.2 and will be removed in 1.4.\n",
            "  warnings.warn(\n",
            "/usr/local/lib/python3.10/dist-packages/sklearn/ensemble/_base.py:166: FutureWarning: `base_estimator` was renamed to `estimator` in version 1.2 and will be removed in 1.4.\n",
            "  warnings.warn(\n",
            "/usr/local/lib/python3.10/dist-packages/sklearn/ensemble/_base.py:166: FutureWarning: `base_estimator` was renamed to `estimator` in version 1.2 and will be removed in 1.4.\n",
            "  warnings.warn(\n"
          ]
        },
        {
          "output_type": "stream",
          "name": "stdout",
          "text": [
            "Best accuracy is = 0.44597249508840864, with max_depth = 1\n",
            "Best accuracy is = 0.44597249508840864, with max_depth = 1\n",
            "Best accuracy is = 0.44597249508840864, with max_depth = 1\n"
          ]
        },
        {
          "output_type": "stream",
          "name": "stderr",
          "text": [
            "/usr/local/lib/python3.10/dist-packages/sklearn/ensemble/_base.py:166: FutureWarning: `base_estimator` was renamed to `estimator` in version 1.2 and will be removed in 1.4.\n",
            "  warnings.warn(\n",
            "/usr/local/lib/python3.10/dist-packages/sklearn/ensemble/_base.py:166: FutureWarning: `base_estimator` was renamed to `estimator` in version 1.2 and will be removed in 1.4.\n",
            "  warnings.warn(\n",
            "/usr/local/lib/python3.10/dist-packages/sklearn/ensemble/_base.py:166: FutureWarning: `base_estimator` was renamed to `estimator` in version 1.2 and will be removed in 1.4.\n",
            "  warnings.warn(\n"
          ]
        },
        {
          "output_type": "stream",
          "name": "stdout",
          "text": [
            "Best accuracy is = 0.45972495088408644, with max_depth = 1\n",
            "Best accuracy is = 0.45972495088408644, with max_depth = 1\n",
            "Best accuracy is = 0.45972495088408644, with max_depth = 1\n"
          ]
        },
        {
          "output_type": "stream",
          "name": "stderr",
          "text": [
            "/usr/local/lib/python3.10/dist-packages/sklearn/ensemble/_base.py:166: FutureWarning: `base_estimator` was renamed to `estimator` in version 1.2 and will be removed in 1.4.\n",
            "  warnings.warn(\n",
            "/usr/local/lib/python3.10/dist-packages/sklearn/ensemble/_base.py:166: FutureWarning: `base_estimator` was renamed to `estimator` in version 1.2 and will be removed in 1.4.\n",
            "  warnings.warn(\n",
            "/usr/local/lib/python3.10/dist-packages/sklearn/ensemble/_base.py:166: FutureWarning: `base_estimator` was renamed to `estimator` in version 1.2 and will be removed in 1.4.\n",
            "  warnings.warn(\n"
          ]
        },
        {
          "output_type": "stream",
          "name": "stdout",
          "text": [
            "Best accuracy is = 0.47871643745907005, with max_depth = 1\n",
            "Best accuracy is = 0.495743287491814, with max_depth = 3\n",
            "Best accuracy is = 0.495743287491814, with max_depth = 3\n"
          ]
        },
        {
          "output_type": "stream",
          "name": "stderr",
          "text": [
            "/usr/local/lib/python3.10/dist-packages/sklearn/ensemble/_base.py:166: FutureWarning: `base_estimator` was renamed to `estimator` in version 1.2 and will be removed in 1.4.\n",
            "  warnings.warn(\n",
            "/usr/local/lib/python3.10/dist-packages/sklearn/ensemble/_base.py:166: FutureWarning: `base_estimator` was renamed to `estimator` in version 1.2 and will be removed in 1.4.\n",
            "  warnings.warn(\n",
            "/usr/local/lib/python3.10/dist-packages/sklearn/ensemble/_base.py:166: FutureWarning: `base_estimator` was renamed to `estimator` in version 1.2 and will be removed in 1.4.\n",
            "  warnings.warn(\n"
          ]
        },
        {
          "output_type": "stream",
          "name": "stdout",
          "text": [
            "Best accuracy is = 0.47871643745907005, with max_depth = 1\n",
            "Best accuracy is = 0.49443352979698757, with max_depth = 3\n",
            "Best accuracy is = 0.49443352979698757, with max_depth = 3\n"
          ]
        },
        {
          "output_type": "stream",
          "name": "stderr",
          "text": [
            "/usr/local/lib/python3.10/dist-packages/sklearn/ensemble/_base.py:166: FutureWarning: `base_estimator` was renamed to `estimator` in version 1.2 and will be removed in 1.4.\n",
            "  warnings.warn(\n",
            "/usr/local/lib/python3.10/dist-packages/sklearn/ensemble/_base.py:166: FutureWarning: `base_estimator` was renamed to `estimator` in version 1.2 and will be removed in 1.4.\n",
            "  warnings.warn(\n",
            "/usr/local/lib/python3.10/dist-packages/sklearn/ensemble/_base.py:166: FutureWarning: `base_estimator` was renamed to `estimator` in version 1.2 and will be removed in 1.4.\n",
            "  warnings.warn(\n"
          ]
        },
        {
          "output_type": "stream",
          "name": "stdout",
          "text": [
            "Best accuracy is = 0.4793713163064833, with max_depth = 1\n",
            "Best accuracy is = 0.48526522593320237, with max_depth = 3\n",
            "Best accuracy is = 0.48526522593320237, with max_depth = 3\n"
          ]
        },
        {
          "output_type": "stream",
          "name": "stderr",
          "text": [
            "/usr/local/lib/python3.10/dist-packages/sklearn/ensemble/_base.py:166: FutureWarning: `base_estimator` was renamed to `estimator` in version 1.2 and will be removed in 1.4.\n",
            "  warnings.warn(\n",
            "/usr/local/lib/python3.10/dist-packages/sklearn/ensemble/_base.py:166: FutureWarning: `base_estimator` was renamed to `estimator` in version 1.2 and will be removed in 1.4.\n",
            "  warnings.warn(\n",
            "/usr/local/lib/python3.10/dist-packages/sklearn/ensemble/_base.py:166: FutureWarning: `base_estimator` was renamed to `estimator` in version 1.2 and will be removed in 1.4.\n",
            "  warnings.warn(\n"
          ]
        },
        {
          "output_type": "stream",
          "name": "stdout",
          "text": [
            "Best accuracy is = 0.49181401440733463, with max_depth = 1\n",
            "Best accuracy is = 0.49181401440733463, with max_depth = 1\n",
            "Best accuracy is = 0.49181401440733463, with max_depth = 1\n"
          ]
        },
        {
          "output_type": "stream",
          "name": "stderr",
          "text": [
            "/usr/local/lib/python3.10/dist-packages/sklearn/ensemble/_base.py:166: FutureWarning: `base_estimator` was renamed to `estimator` in version 1.2 and will be removed in 1.4.\n",
            "  warnings.warn(\n",
            "/usr/local/lib/python3.10/dist-packages/sklearn/ensemble/_base.py:166: FutureWarning: `base_estimator` was renamed to `estimator` in version 1.2 and will be removed in 1.4.\n",
            "  warnings.warn(\n",
            "/usr/local/lib/python3.10/dist-packages/sklearn/ensemble/_base.py:166: FutureWarning: `base_estimator` was renamed to `estimator` in version 1.2 and will be removed in 1.4.\n",
            "  warnings.warn(\n"
          ]
        },
        {
          "output_type": "stream",
          "name": "stdout",
          "text": [
            "Best accuracy is = 0.4865749836280288, with max_depth = 1\n",
            "Best accuracy is = 0.495743287491814, with max_depth = 3\n",
            "Best accuracy is = 0.495743287491814, with max_depth = 3\n"
          ]
        },
        {
          "output_type": "stream",
          "name": "stderr",
          "text": [
            "/usr/local/lib/python3.10/dist-packages/sklearn/ensemble/_base.py:166: FutureWarning: `base_estimator` was renamed to `estimator` in version 1.2 and will be removed in 1.4.\n",
            "  warnings.warn(\n",
            "/usr/local/lib/python3.10/dist-packages/sklearn/ensemble/_base.py:166: FutureWarning: `base_estimator` was renamed to `estimator` in version 1.2 and will be removed in 1.4.\n",
            "  warnings.warn(\n",
            "/usr/local/lib/python3.10/dist-packages/sklearn/ensemble/_base.py:166: FutureWarning: `base_estimator` was renamed to `estimator` in version 1.2 and will be removed in 1.4.\n",
            "  warnings.warn(\n"
          ]
        },
        {
          "output_type": "stream",
          "name": "stdout",
          "text": [
            "Best accuracy is = 0.4977079240340537, with max_depth = 1\n",
            "Best accuracy is = 0.5036018336607727, with max_depth = 3\n",
            "Best accuracy is = 0.5036018336607727, with max_depth = 3\n"
          ]
        },
        {
          "output_type": "stream",
          "name": "stderr",
          "text": [
            "/usr/local/lib/python3.10/dist-packages/sklearn/ensemble/_base.py:166: FutureWarning: `base_estimator` was renamed to `estimator` in version 1.2 and will be removed in 1.4.\n",
            "  warnings.warn(\n",
            "/usr/local/lib/python3.10/dist-packages/sklearn/ensemble/_base.py:166: FutureWarning: `base_estimator` was renamed to `estimator` in version 1.2 and will be removed in 1.4.\n",
            "  warnings.warn(\n",
            "/usr/local/lib/python3.10/dist-packages/sklearn/ensemble/_base.py:166: FutureWarning: `base_estimator` was renamed to `estimator` in version 1.2 and will be removed in 1.4.\n",
            "  warnings.warn(\n"
          ]
        },
        {
          "output_type": "stream",
          "name": "stdout",
          "text": [
            "Best accuracy is = 0.4977079240340537, with max_depth = 1\n",
            "Best accuracy is = 0.5042567125081859, with max_depth = 3\n",
            "Best accuracy is = 0.5042567125081859, with max_depth = 3\n"
          ]
        },
        {
          "output_type": "stream",
          "name": "stderr",
          "text": [
            "/usr/local/lib/python3.10/dist-packages/sklearn/ensemble/_base.py:166: FutureWarning: `base_estimator` was renamed to `estimator` in version 1.2 and will be removed in 1.4.\n",
            "  warnings.warn(\n",
            "/usr/local/lib/python3.10/dist-packages/sklearn/ensemble/_base.py:166: FutureWarning: `base_estimator` was renamed to `estimator` in version 1.2 and will be removed in 1.4.\n",
            "  warnings.warn(\n",
            "/usr/local/lib/python3.10/dist-packages/sklearn/ensemble/_base.py:166: FutureWarning: `base_estimator` was renamed to `estimator` in version 1.2 and will be removed in 1.4.\n",
            "  warnings.warn(\n"
          ]
        },
        {
          "output_type": "stream",
          "name": "stdout",
          "text": [
            "Best accuracy is = 0.5153896529142109, with max_depth = 1\n",
            "Best accuracy is = 0.5258677144728225, with max_depth = 3\n",
            "Best accuracy is = 0.5258677144728225, with max_depth = 3\n"
          ]
        },
        {
          "output_type": "stream",
          "name": "stderr",
          "text": [
            "/usr/local/lib/python3.10/dist-packages/sklearn/ensemble/_base.py:166: FutureWarning: `base_estimator` was renamed to `estimator` in version 1.2 and will be removed in 1.4.\n",
            "  warnings.warn(\n",
            "/usr/local/lib/python3.10/dist-packages/sklearn/ensemble/_base.py:166: FutureWarning: `base_estimator` was renamed to `estimator` in version 1.2 and will be removed in 1.4.\n",
            "  warnings.warn(\n",
            "/usr/local/lib/python3.10/dist-packages/sklearn/ensemble/_base.py:166: FutureWarning: `base_estimator` was renamed to `estimator` in version 1.2 and will be removed in 1.4.\n",
            "  warnings.warn(\n"
          ]
        },
        {
          "output_type": "stream",
          "name": "stdout",
          "text": [
            "Best accuracy is = 0.4793713163064833, with max_depth = 1\n",
            "Best accuracy is = 0.5160445317616241, with max_depth = 3\n",
            "Best accuracy is = 0.5160445317616241, with max_depth = 3\n"
          ]
        },
        {
          "output_type": "stream",
          "name": "stderr",
          "text": [
            "/usr/local/lib/python3.10/dist-packages/sklearn/ensemble/_base.py:166: FutureWarning: `base_estimator` was renamed to `estimator` in version 1.2 and will be removed in 1.4.\n",
            "  warnings.warn(\n",
            "/usr/local/lib/python3.10/dist-packages/sklearn/ensemble/_base.py:166: FutureWarning: `base_estimator` was renamed to `estimator` in version 1.2 and will be removed in 1.4.\n",
            "  warnings.warn(\n",
            "/usr/local/lib/python3.10/dist-packages/sklearn/ensemble/_base.py:166: FutureWarning: `base_estimator` was renamed to `estimator` in version 1.2 and will be removed in 1.4.\n",
            "  warnings.warn(\n"
          ]
        },
        {
          "output_type": "stream",
          "name": "stdout",
          "text": [
            "Best accuracy is = 0.4793713163064833, with max_depth = 1\n",
            "Best accuracy is = 0.4977079240340537, with max_depth = 3\n",
            "Best accuracy is = 0.4977079240340537, with max_depth = 3\n"
          ]
        },
        {
          "output_type": "stream",
          "name": "stderr",
          "text": [
            "/usr/local/lib/python3.10/dist-packages/sklearn/ensemble/_base.py:166: FutureWarning: `base_estimator` was renamed to `estimator` in version 1.2 and will be removed in 1.4.\n",
            "  warnings.warn(\n",
            "/usr/local/lib/python3.10/dist-packages/sklearn/ensemble/_base.py:166: FutureWarning: `base_estimator` was renamed to `estimator` in version 1.2 and will be removed in 1.4.\n",
            "  warnings.warn(\n",
            "/usr/local/lib/python3.10/dist-packages/sklearn/ensemble/_base.py:166: FutureWarning: `base_estimator` was renamed to `estimator` in version 1.2 and will be removed in 1.4.\n",
            "  warnings.warn(\n"
          ]
        },
        {
          "output_type": "stream",
          "name": "stdout",
          "text": [
            "Best accuracy is = 0.4793713163064833, with max_depth = 1\n",
            "Best accuracy is = 0.5055664702030125, with max_depth = 3\n",
            "Best accuracy is = 0.5055664702030125, with max_depth = 3\n"
          ]
        },
        {
          "output_type": "stream",
          "name": "stderr",
          "text": [
            "/usr/local/lib/python3.10/dist-packages/sklearn/ensemble/_base.py:166: FutureWarning: `base_estimator` was renamed to `estimator` in version 1.2 and will be removed in 1.4.\n",
            "  warnings.warn(\n",
            "/usr/local/lib/python3.10/dist-packages/sklearn/ensemble/_base.py:166: FutureWarning: `base_estimator` was renamed to `estimator` in version 1.2 and will be removed in 1.4.\n",
            "  warnings.warn(\n",
            "/usr/local/lib/python3.10/dist-packages/sklearn/ensemble/_base.py:166: FutureWarning: `base_estimator` was renamed to `estimator` in version 1.2 and will be removed in 1.4.\n",
            "  warnings.warn(\n"
          ]
        },
        {
          "output_type": "stream",
          "name": "stdout",
          "text": [
            "Best accuracy is = 0.4839554682383759, with max_depth = 1\n",
            "Best accuracy is = 0.5009823182711198, with max_depth = 3\n",
            "Best accuracy is = 0.5009823182711198, with max_depth = 3\n"
          ]
        },
        {
          "output_type": "stream",
          "name": "stderr",
          "text": [
            "/usr/local/lib/python3.10/dist-packages/sklearn/ensemble/_base.py:166: FutureWarning: `base_estimator` was renamed to `estimator` in version 1.2 and will be removed in 1.4.\n",
            "  warnings.warn(\n",
            "/usr/local/lib/python3.10/dist-packages/sklearn/ensemble/_base.py:166: FutureWarning: `base_estimator` was renamed to `estimator` in version 1.2 and will be removed in 1.4.\n",
            "  warnings.warn(\n",
            "/usr/local/lib/python3.10/dist-packages/sklearn/ensemble/_base.py:166: FutureWarning: `base_estimator` was renamed to `estimator` in version 1.2 and will be removed in 1.4.\n",
            "  warnings.warn(\n"
          ]
        },
        {
          "output_type": "stream",
          "name": "stdout",
          "text": [
            "Best accuracy is = 0.4793713163064833, with max_depth = 1\n",
            "Best accuracy is = 0.5134250163719711, with max_depth = 3\n",
            "Best accuracy is = 0.5134250163719711, with max_depth = 3\n"
          ]
        },
        {
          "output_type": "stream",
          "name": "stderr",
          "text": [
            "/usr/local/lib/python3.10/dist-packages/sklearn/ensemble/_base.py:166: FutureWarning: `base_estimator` was renamed to `estimator` in version 1.2 and will be removed in 1.4.\n",
            "  warnings.warn(\n",
            "/usr/local/lib/python3.10/dist-packages/sklearn/ensemble/_base.py:166: FutureWarning: `base_estimator` was renamed to `estimator` in version 1.2 and will be removed in 1.4.\n",
            "  warnings.warn(\n",
            "/usr/local/lib/python3.10/dist-packages/sklearn/ensemble/_base.py:166: FutureWarning: `base_estimator` was renamed to `estimator` in version 1.2 and will be removed in 1.4.\n",
            "  warnings.warn(\n"
          ]
        },
        {
          "output_type": "stream",
          "name": "stdout",
          "text": [
            "Best accuracy is = 0.4793713163064833, with max_depth = 1\n",
            "Best accuracy is = 0.5114603798297315, with max_depth = 3\n",
            "Best accuracy is = 0.5114603798297315, with max_depth = 3\n"
          ]
        },
        {
          "output_type": "stream",
          "name": "stderr",
          "text": [
            "/usr/local/lib/python3.10/dist-packages/sklearn/ensemble/_base.py:166: FutureWarning: `base_estimator` was renamed to `estimator` in version 1.2 and will be removed in 1.4.\n",
            "  warnings.warn(\n",
            "/usr/local/lib/python3.10/dist-packages/sklearn/ensemble/_base.py:166: FutureWarning: `base_estimator` was renamed to `estimator` in version 1.2 and will be removed in 1.4.\n",
            "  warnings.warn(\n",
            "/usr/local/lib/python3.10/dist-packages/sklearn/ensemble/_base.py:166: FutureWarning: `base_estimator` was renamed to `estimator` in version 1.2 and will be removed in 1.4.\n",
            "  warnings.warn(\n"
          ]
        },
        {
          "output_type": "stream",
          "name": "stdout",
          "text": [
            "Best accuracy is = 0.5232481990831697, with max_depth = 1\n",
            "Best accuracy is = 0.5507531106745253, with max_depth = 3\n",
            "Best accuracy is = 0.5507531106745253, with max_depth = 3\n"
          ]
        },
        {
          "output_type": "stream",
          "name": "stderr",
          "text": [
            "/usr/local/lib/python3.10/dist-packages/sklearn/ensemble/_base.py:166: FutureWarning: `base_estimator` was renamed to `estimator` in version 1.2 and will be removed in 1.4.\n",
            "  warnings.warn(\n",
            "/usr/local/lib/python3.10/dist-packages/sklearn/ensemble/_base.py:166: FutureWarning: `base_estimator` was renamed to `estimator` in version 1.2 and will be removed in 1.4.\n",
            "  warnings.warn(\n",
            "/usr/local/lib/python3.10/dist-packages/sklearn/ensemble/_base.py:166: FutureWarning: `base_estimator` was renamed to `estimator` in version 1.2 and will be removed in 1.4.\n",
            "  warnings.warn(\n"
          ]
        },
        {
          "output_type": "stream",
          "name": "stdout",
          "text": [
            "Best accuracy is = 0.5311067452521283, with max_depth = 1\n",
            "Best accuracy is = 0.5311067452521283, with max_depth = 1\n",
            "Best accuracy is = 0.5311067452521283, with max_depth = 1\n"
          ]
        },
        {
          "output_type": "stream",
          "name": "stderr",
          "text": [
            "/usr/local/lib/python3.10/dist-packages/sklearn/ensemble/_base.py:166: FutureWarning: `base_estimator` was renamed to `estimator` in version 1.2 and will be removed in 1.4.\n",
            "  warnings.warn(\n",
            "/usr/local/lib/python3.10/dist-packages/sklearn/ensemble/_base.py:166: FutureWarning: `base_estimator` was renamed to `estimator` in version 1.2 and will be removed in 1.4.\n",
            "  warnings.warn(\n",
            "/usr/local/lib/python3.10/dist-packages/sklearn/ensemble/_base.py:166: FutureWarning: `base_estimator` was renamed to `estimator` in version 1.2 and will be removed in 1.4.\n",
            "  warnings.warn(\n"
          ]
        },
        {
          "output_type": "stream",
          "name": "stdout",
          "text": [
            "Best accuracy is = 0.5153896529142109, with max_depth = 1\n",
            "Best accuracy is = 0.527177472167649, with max_depth = 3\n",
            "Best accuracy is = 0.527177472167649, with max_depth = 3\n"
          ]
        },
        {
          "output_type": "stream",
          "name": "stderr",
          "text": [
            "/usr/local/lib/python3.10/dist-packages/sklearn/ensemble/_base.py:166: FutureWarning: `base_estimator` was renamed to `estimator` in version 1.2 and will be removed in 1.4.\n",
            "  warnings.warn(\n",
            "/usr/local/lib/python3.10/dist-packages/sklearn/ensemble/_base.py:166: FutureWarning: `base_estimator` was renamed to `estimator` in version 1.2 and will be removed in 1.4.\n",
            "  warnings.warn(\n",
            "/usr/local/lib/python3.10/dist-packages/sklearn/ensemble/_base.py:166: FutureWarning: `base_estimator` was renamed to `estimator` in version 1.2 and will be removed in 1.4.\n",
            "  warnings.warn(\n"
          ]
        },
        {
          "output_type": "stream",
          "name": "stdout",
          "text": [
            "Best accuracy is = 0.5409299279633268, with max_depth = 1\n",
            "Best accuracy is = 0.564505566470203, with max_depth = 3\n",
            "Best accuracy is = 0.564505566470203, with max_depth = 3\n"
          ]
        },
        {
          "output_type": "stream",
          "name": "stderr",
          "text": [
            "/usr/local/lib/python3.10/dist-packages/sklearn/ensemble/_base.py:166: FutureWarning: `base_estimator` was renamed to `estimator` in version 1.2 and will be removed in 1.4.\n",
            "  warnings.warn(\n",
            "/usr/local/lib/python3.10/dist-packages/sklearn/ensemble/_base.py:166: FutureWarning: `base_estimator` was renamed to `estimator` in version 1.2 and will be removed in 1.4.\n",
            "  warnings.warn(\n",
            "/usr/local/lib/python3.10/dist-packages/sklearn/ensemble/_base.py:166: FutureWarning: `base_estimator` was renamed to `estimator` in version 1.2 and will be removed in 1.4.\n",
            "  warnings.warn(\n"
          ]
        },
        {
          "output_type": "stream",
          "name": "stdout",
          "text": [
            "Best accuracy is = 0.5232481990831697, with max_depth = 1\n",
            "Best accuracy is = 0.5448592010478062, with max_depth = 3\n",
            "Best accuracy is = 0.5448592010478062, with max_depth = 3\n"
          ]
        },
        {
          "output_type": "stream",
          "name": "stderr",
          "text": [
            "/usr/local/lib/python3.10/dist-packages/sklearn/ensemble/_base.py:166: FutureWarning: `base_estimator` was renamed to `estimator` in version 1.2 and will be removed in 1.4.\n",
            "  warnings.warn(\n",
            "/usr/local/lib/python3.10/dist-packages/sklearn/ensemble/_base.py:166: FutureWarning: `base_estimator` was renamed to `estimator` in version 1.2 and will be removed in 1.4.\n",
            "  warnings.warn(\n",
            "/usr/local/lib/python3.10/dist-packages/sklearn/ensemble/_base.py:166: FutureWarning: `base_estimator` was renamed to `estimator` in version 1.2 and will be removed in 1.4.\n",
            "  warnings.warn(\n"
          ]
        },
        {
          "output_type": "stream",
          "name": "stdout",
          "text": [
            "Best accuracy is = 0.5409299279633268, with max_depth = 1\n",
            "Best accuracy is = 0.5592665356908972, with max_depth = 3\n",
            "Best accuracy is = 0.5684348395546824, with max_depth = 5\n"
          ]
        },
        {
          "output_type": "stream",
          "name": "stderr",
          "text": [
            "/usr/local/lib/python3.10/dist-packages/sklearn/ensemble/_base.py:166: FutureWarning: `base_estimator` was renamed to `estimator` in version 1.2 and will be removed in 1.4.\n",
            "  warnings.warn(\n",
            "/usr/local/lib/python3.10/dist-packages/sklearn/ensemble/_base.py:166: FutureWarning: `base_estimator` was renamed to `estimator` in version 1.2 and will be removed in 1.4.\n",
            "  warnings.warn(\n",
            "/usr/local/lib/python3.10/dist-packages/sklearn/ensemble/_base.py:166: FutureWarning: `base_estimator` was renamed to `estimator` in version 1.2 and will be removed in 1.4.\n",
            "  warnings.warn(\n"
          ]
        },
        {
          "output_type": "stream",
          "name": "stdout",
          "text": [
            "Best accuracy is = 0.5409299279633268, with max_depth = 1\n",
            "Best accuracy is = 0.5625409299279633, with max_depth = 3\n",
            "Best accuracy is = 0.5625409299279633, with max_depth = 3\n",
            "Best accuracy is = 0.5409299279633268, with max_depth = 1\n",
            "Best accuracy is = 0.5756385068762279, with max_depth = 3\n",
            "Best accuracy is = 0.5756385068762279, with max_depth = 3\n"
          ]
        },
        {
          "output_type": "stream",
          "name": "stderr",
          "text": [
            "/usr/local/lib/python3.10/dist-packages/sklearn/ensemble/_base.py:166: FutureWarning: `base_estimator` was renamed to `estimator` in version 1.2 and will be removed in 1.4.\n",
            "  warnings.warn(\n",
            "/usr/local/lib/python3.10/dist-packages/sklearn/ensemble/_base.py:166: FutureWarning: `base_estimator` was renamed to `estimator` in version 1.2 and will be removed in 1.4.\n",
            "  warnings.warn(\n",
            "/usr/local/lib/python3.10/dist-packages/sklearn/ensemble/_base.py:166: FutureWarning: `base_estimator` was renamed to `estimator` in version 1.2 and will be removed in 1.4.\n",
            "  warnings.warn(\n"
          ]
        }
      ]
    },
    {
      "cell_type": "code",
      "execution_count": null,
      "metadata": {
        "id": "iEcxkDQDWQAR"
      },
      "outputs": [],
      "source": [
        "print(algorithms_results[FindBestModel(algorithms_results)])"
      ]
    }
  ],
  "metadata": {
    "colab": {
      "provenance": []
    },
    "kernelspec": {
      "display_name": "Python 3",
      "name": "python3"
    },
    "language_info": {
      "codemirror_mode": {
        "name": "ipython",
        "version": 3
      },
      "file_extension": ".py",
      "mimetype": "text/x-python",
      "name": "python",
      "nbconvert_exporter": "python",
      "pygments_lexer": "ipython3",
      "version": "3.10.4"
    }
  },
  "nbformat": 4,
  "nbformat_minor": 0
}